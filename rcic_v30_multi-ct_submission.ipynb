{
 "cells": [
  {
   "cell_type": "code",
   "execution_count": 1,
   "metadata": {
    "ExecuteTime": {
     "end_time": "2019-08-27T04:11:30.176015Z",
     "start_time": "2019-08-27T04:11:30.008237Z"
    }
   },
   "outputs": [],
   "source": [
    "import pandas as pd"
   ]
  },
  {
   "cell_type": "code",
   "execution_count": 2,
   "metadata": {
    "ExecuteTime": {
     "end_time": "2019-08-27T04:11:30.343063Z",
     "start_time": "2019-08-27T04:11:30.336540Z"
    }
   },
   "outputs": [],
   "source": [
    "cts = ['HEPG2', 'HUVEC', 'RPE', 'U2OS']"
   ]
  },
  {
   "cell_type": "code",
   "execution_count": 3,
   "metadata": {
    "ExecuteTime": {
     "end_time": "2019-08-27T04:11:30.666582Z",
     "start_time": "2019-08-27T04:11:30.645295Z"
    }
   },
   "outputs": [],
   "source": [
    "df_orig_sub = pd.read_csv('sub/metriclearn_efficientnet_b3_ct_pg_exp_Pre060e050_190823_TTA-cossim.csv.gz', index_col=0)"
   ]
  },
  {
   "cell_type": "code",
   "execution_count": 4,
   "metadata": {
    "ExecuteTime": {
     "end_time": "2019-08-27T04:11:30.961339Z",
     "start_time": "2019-08-27T04:11:30.933750Z"
    }
   },
   "outputs": [
    {
     "data": {
      "text/plain": [
       "(19897, 1)"
      ]
     },
     "execution_count": 4,
     "metadata": {},
     "output_type": "execute_result"
    }
   ],
   "source": [
    "df_orig_sub.shape"
   ]
  },
  {
   "cell_type": "code",
   "execution_count": 5,
   "metadata": {
    "ExecuteTime": {
     "end_time": "2019-08-27T04:11:31.302731Z",
     "start_time": "2019-08-27T04:11:31.294395Z"
    }
   },
   "outputs": [
    {
     "data": {
      "text/html": [
       "<div>\n",
       "<style scoped>\n",
       "    .dataframe tbody tr th:only-of-type {\n",
       "        vertical-align: middle;\n",
       "    }\n",
       "\n",
       "    .dataframe tbody tr th {\n",
       "        vertical-align: top;\n",
       "    }\n",
       "\n",
       "    .dataframe thead th {\n",
       "        text-align: right;\n",
       "    }\n",
       "</style>\n",
       "<table border=\"1\" class=\"dataframe\">\n",
       "  <thead>\n",
       "    <tr style=\"text-align: right;\">\n",
       "      <th></th>\n",
       "      <th>sirna</th>\n",
       "    </tr>\n",
       "    <tr>\n",
       "      <th>id_code</th>\n",
       "      <th></th>\n",
       "    </tr>\n",
       "  </thead>\n",
       "  <tbody>\n",
       "    <tr>\n",
       "      <th>HEPG2-08_1_B03</th>\n",
       "      <td>855</td>\n",
       "    </tr>\n",
       "    <tr>\n",
       "      <th>HEPG2-08_1_B04</th>\n",
       "      <td>773</td>\n",
       "    </tr>\n",
       "    <tr>\n",
       "      <th>HEPG2-08_1_B05</th>\n",
       "      <td>451</td>\n",
       "    </tr>\n",
       "    <tr>\n",
       "      <th>HEPG2-08_1_B06</th>\n",
       "      <td>200</td>\n",
       "    </tr>\n",
       "    <tr>\n",
       "      <th>HEPG2-08_1_B07</th>\n",
       "      <td>1061</td>\n",
       "    </tr>\n",
       "  </tbody>\n",
       "</table>\n",
       "</div>"
      ],
      "text/plain": [
       "                sirna\n",
       "id_code              \n",
       "HEPG2-08_1_B03    855\n",
       "HEPG2-08_1_B04    773\n",
       "HEPG2-08_1_B05    451\n",
       "HEPG2-08_1_B06    200\n",
       "HEPG2-08_1_B07   1061"
      ]
     },
     "execution_count": 5,
     "metadata": {},
     "output_type": "execute_result"
    }
   ],
   "source": [
    "df_orig_sub.head()"
   ]
  },
  {
   "cell_type": "code",
   "execution_count": 6,
   "metadata": {
    "ExecuteTime": {
     "end_time": "2019-08-27T04:11:32.027705Z",
     "start_time": "2019-08-27T04:11:32.001969Z"
    }
   },
   "outputs": [],
   "source": [
    "df_HEPG2 = pd.read_csv('sub/adacos_efficientnet_b3_ct_pg_exp_'+cts[0]+'e210_190826_3xTTA-cossim.csv.gz', index_col=0)\n",
    "df_HUVEC = pd.read_csv('sub/adacos_efficientnet_b3_ct_pg_exp_'+cts[1]+'e051_190826_3xTTA-cossim.csv.gz', index_col=0)\n",
    "df_RPE = pd.read_csv('sub/adacos_efficientnet_b3_ct_pg_exp_'+cts[2]+'e184_190826_3xTTA-cossim.csv.gz', index_col=0)"
   ]
  },
  {
   "cell_type": "code",
   "execution_count": 7,
   "metadata": {
    "ExecuteTime": {
     "end_time": "2019-08-27T04:11:32.758948Z",
     "start_time": "2019-08-27T04:11:32.753375Z"
    }
   },
   "outputs": [
    {
     "data": {
      "text/plain": [
       "((4429, 1), (8846, 1), (4417, 1))"
      ]
     },
     "execution_count": 7,
     "metadata": {},
     "output_type": "execute_result"
    }
   ],
   "source": [
    "df_HEPG2.shape, df_HUVEC.shape, df_RPE.shape"
   ]
  },
  {
   "cell_type": "code",
   "execution_count": 8,
   "metadata": {
    "ExecuteTime": {
     "end_time": "2019-08-27T04:11:33.346411Z",
     "start_time": "2019-08-27T04:11:33.339993Z"
    }
   },
   "outputs": [
    {
     "data": {
      "text/html": [
       "<div>\n",
       "<style scoped>\n",
       "    .dataframe tbody tr th:only-of-type {\n",
       "        vertical-align: middle;\n",
       "    }\n",
       "\n",
       "    .dataframe tbody tr th {\n",
       "        vertical-align: top;\n",
       "    }\n",
       "\n",
       "    .dataframe thead th {\n",
       "        text-align: right;\n",
       "    }\n",
       "</style>\n",
       "<table border=\"1\" class=\"dataframe\">\n",
       "  <thead>\n",
       "    <tr style=\"text-align: right;\">\n",
       "      <th></th>\n",
       "      <th>sirna</th>\n",
       "    </tr>\n",
       "    <tr>\n",
       "      <th>id_code</th>\n",
       "      <th></th>\n",
       "    </tr>\n",
       "  </thead>\n",
       "  <tbody>\n",
       "    <tr>\n",
       "      <th>HEPG2-08_1_B03</th>\n",
       "      <td>855</td>\n",
       "    </tr>\n",
       "    <tr>\n",
       "      <th>HEPG2-08_1_B04</th>\n",
       "      <td>292</td>\n",
       "    </tr>\n",
       "    <tr>\n",
       "      <th>HEPG2-08_1_B05</th>\n",
       "      <td>836</td>\n",
       "    </tr>\n",
       "    <tr>\n",
       "      <th>HEPG2-08_1_B06</th>\n",
       "      <td>249</td>\n",
       "    </tr>\n",
       "    <tr>\n",
       "      <th>HEPG2-08_1_B07</th>\n",
       "      <td>200</td>\n",
       "    </tr>\n",
       "  </tbody>\n",
       "</table>\n",
       "</div>"
      ],
      "text/plain": [
       "                sirna\n",
       "id_code              \n",
       "HEPG2-08_1_B03    855\n",
       "HEPG2-08_1_B04    292\n",
       "HEPG2-08_1_B05    836\n",
       "HEPG2-08_1_B06    249\n",
       "HEPG2-08_1_B07    200"
      ]
     },
     "execution_count": 8,
     "metadata": {},
     "output_type": "execute_result"
    }
   ],
   "source": [
    "df_HEPG2.head()"
   ]
  },
  {
   "cell_type": "code",
   "execution_count": 9,
   "metadata": {
    "ExecuteTime": {
     "end_time": "2019-08-27T04:11:35.621977Z",
     "start_time": "2019-08-27T04:11:35.613301Z"
    }
   },
   "outputs": [
    {
     "data": {
      "text/html": [
       "<div>\n",
       "<style scoped>\n",
       "    .dataframe tbody tr th:only-of-type {\n",
       "        vertical-align: middle;\n",
       "    }\n",
       "\n",
       "    .dataframe tbody tr th {\n",
       "        vertical-align: top;\n",
       "    }\n",
       "\n",
       "    .dataframe thead th {\n",
       "        text-align: right;\n",
       "    }\n",
       "</style>\n",
       "<table border=\"1\" class=\"dataframe\">\n",
       "  <thead>\n",
       "    <tr style=\"text-align: right;\">\n",
       "      <th></th>\n",
       "      <th>sirna</th>\n",
       "    </tr>\n",
       "    <tr>\n",
       "      <th>id_code</th>\n",
       "      <th></th>\n",
       "    </tr>\n",
       "  </thead>\n",
       "  <tbody>\n",
       "    <tr>\n",
       "      <th>HUVEC-17_1_B03</th>\n",
       "      <td>312</td>\n",
       "    </tr>\n",
       "    <tr>\n",
       "      <th>HUVEC-17_1_B04</th>\n",
       "      <td>450</td>\n",
       "    </tr>\n",
       "    <tr>\n",
       "      <th>HUVEC-17_1_B05</th>\n",
       "      <td>301</td>\n",
       "    </tr>\n",
       "    <tr>\n",
       "      <th>HUVEC-17_1_B06</th>\n",
       "      <td>272</td>\n",
       "    </tr>\n",
       "    <tr>\n",
       "      <th>HUVEC-17_1_B07</th>\n",
       "      <td>784</td>\n",
       "    </tr>\n",
       "  </tbody>\n",
       "</table>\n",
       "</div>"
      ],
      "text/plain": [
       "                sirna\n",
       "id_code              \n",
       "HUVEC-17_1_B03    312\n",
       "HUVEC-17_1_B04    450\n",
       "HUVEC-17_1_B05    301\n",
       "HUVEC-17_1_B06    272\n",
       "HUVEC-17_1_B07    784"
      ]
     },
     "execution_count": 9,
     "metadata": {},
     "output_type": "execute_result"
    }
   ],
   "source": [
    "df_HUVEC.head()"
   ]
  },
  {
   "cell_type": "code",
   "execution_count": 10,
   "metadata": {
    "ExecuteTime": {
     "end_time": "2019-08-27T04:11:36.459270Z",
     "start_time": "2019-08-27T04:11:36.452722Z"
    }
   },
   "outputs": [
    {
     "data": {
      "text/html": [
       "<div>\n",
       "<style scoped>\n",
       "    .dataframe tbody tr th:only-of-type {\n",
       "        vertical-align: middle;\n",
       "    }\n",
       "\n",
       "    .dataframe tbody tr th {\n",
       "        vertical-align: top;\n",
       "    }\n",
       "\n",
       "    .dataframe thead th {\n",
       "        text-align: right;\n",
       "    }\n",
       "</style>\n",
       "<table border=\"1\" class=\"dataframe\">\n",
       "  <thead>\n",
       "    <tr style=\"text-align: right;\">\n",
       "      <th></th>\n",
       "      <th>sirna</th>\n",
       "    </tr>\n",
       "    <tr>\n",
       "      <th>id_code</th>\n",
       "      <th></th>\n",
       "    </tr>\n",
       "  </thead>\n",
       "  <tbody>\n",
       "    <tr>\n",
       "      <th>RPE-08_1_B03</th>\n",
       "      <td>629</td>\n",
       "    </tr>\n",
       "    <tr>\n",
       "      <th>RPE-08_1_B04</th>\n",
       "      <td>464</td>\n",
       "    </tr>\n",
       "    <tr>\n",
       "      <th>RPE-08_1_B05</th>\n",
       "      <td>4</td>\n",
       "    </tr>\n",
       "    <tr>\n",
       "      <th>RPE-08_1_B06</th>\n",
       "      <td>648</td>\n",
       "    </tr>\n",
       "    <tr>\n",
       "      <th>RPE-08_1_B07</th>\n",
       "      <td>940</td>\n",
       "    </tr>\n",
       "  </tbody>\n",
       "</table>\n",
       "</div>"
      ],
      "text/plain": [
       "              sirna\n",
       "id_code            \n",
       "RPE-08_1_B03    629\n",
       "RPE-08_1_B04    464\n",
       "RPE-08_1_B05      4\n",
       "RPE-08_1_B06    648\n",
       "RPE-08_1_B07    940"
      ]
     },
     "execution_count": 10,
     "metadata": {},
     "output_type": "execute_result"
    }
   ],
   "source": [
    "df_RPE.head()"
   ]
  },
  {
   "cell_type": "code",
   "execution_count": 11,
   "metadata": {
    "ExecuteTime": {
     "end_time": "2019-08-27T04:11:39.792717Z",
     "start_time": "2019-08-27T04:11:39.788822Z"
    }
   },
   "outputs": [],
   "source": [
    "#df_orig_sub.loc['HEPG2-08_1_B06', 'sirna']"
   ]
  },
  {
   "cell_type": "code",
   "execution_count": 12,
   "metadata": {
    "ExecuteTime": {
     "end_time": "2019-08-27T04:11:40.270707Z",
     "start_time": "2019-08-27T04:11:40.265763Z"
    }
   },
   "outputs": [],
   "source": [
    "df_new_sub = df_orig_sub.copy()"
   ]
  },
  {
   "cell_type": "code",
   "execution_count": 13,
   "metadata": {
    "ExecuteTime": {
     "end_time": "2019-08-27T04:11:40.621011Z",
     "start_time": "2019-08-27T04:11:40.615901Z"
    }
   },
   "outputs": [],
   "source": [
    "def update_sub(df_new_sub, df_ct):\n",
    "    for i, v in df_ct.iterrows():\n",
    "        #print(i)\n",
    "        #print(v.values)\n",
    "        #print(v.item())\n",
    "        df_new_sub.loc[i, 'sirna'] = v.values\n",
    "    return df_new_sub"
   ]
  },
  {
   "cell_type": "code",
   "execution_count": 14,
   "metadata": {
    "ExecuteTime": {
     "end_time": "2019-08-27T04:11:42.140028Z",
     "start_time": "2019-08-27T04:11:41.161890Z"
    }
   },
   "outputs": [],
   "source": [
    "df_new_sub = update_sub(df_new_sub, df_HEPG2)"
   ]
  },
  {
   "cell_type": "code",
   "execution_count": 15,
   "metadata": {
    "ExecuteTime": {
     "end_time": "2019-08-27T04:11:42.150964Z",
     "start_time": "2019-08-27T04:11:42.141023Z"
    }
   },
   "outputs": [],
   "source": [
    "#df_new_sub.loc['HEPG2-08_1_B07', 'sirna']"
   ]
  },
  {
   "cell_type": "code",
   "execution_count": 16,
   "metadata": {
    "ExecuteTime": {
     "end_time": "2019-08-27T04:11:44.349085Z",
     "start_time": "2019-08-27T04:11:42.371561Z"
    }
   },
   "outputs": [],
   "source": [
    "df_new_sub = update_sub(df_new_sub, df_HUVEC)"
   ]
  },
  {
   "cell_type": "code",
   "execution_count": 17,
   "metadata": {
    "ExecuteTime": {
     "end_time": "2019-08-27T04:11:45.312656Z",
     "start_time": "2019-08-27T04:11:44.350074Z"
    }
   },
   "outputs": [],
   "source": [
    "df_new_sub = update_sub(df_new_sub, df_RPE)"
   ]
  },
  {
   "cell_type": "code",
   "execution_count": 18,
   "metadata": {
    "ExecuteTime": {
     "end_time": "2019-08-27T04:11:45.952746Z",
     "start_time": "2019-08-27T04:11:45.946253Z"
    }
   },
   "outputs": [
    {
     "data": {
      "text/html": [
       "<div>\n",
       "<style scoped>\n",
       "    .dataframe tbody tr th:only-of-type {\n",
       "        vertical-align: middle;\n",
       "    }\n",
       "\n",
       "    .dataframe tbody tr th {\n",
       "        vertical-align: top;\n",
       "    }\n",
       "\n",
       "    .dataframe thead th {\n",
       "        text-align: right;\n",
       "    }\n",
       "</style>\n",
       "<table border=\"1\" class=\"dataframe\">\n",
       "  <thead>\n",
       "    <tr style=\"text-align: right;\">\n",
       "      <th></th>\n",
       "      <th>sirna</th>\n",
       "    </tr>\n",
       "    <tr>\n",
       "      <th>id_code</th>\n",
       "      <th></th>\n",
       "    </tr>\n",
       "  </thead>\n",
       "  <tbody>\n",
       "    <tr>\n",
       "      <th>HEPG2-08_1_B03</th>\n",
       "      <td>855</td>\n",
       "    </tr>\n",
       "    <tr>\n",
       "      <th>HEPG2-08_1_B04</th>\n",
       "      <td>292</td>\n",
       "    </tr>\n",
       "    <tr>\n",
       "      <th>HEPG2-08_1_B05</th>\n",
       "      <td>836</td>\n",
       "    </tr>\n",
       "    <tr>\n",
       "      <th>HEPG2-08_1_B06</th>\n",
       "      <td>249</td>\n",
       "    </tr>\n",
       "    <tr>\n",
       "      <th>HEPG2-08_1_B07</th>\n",
       "      <td>200</td>\n",
       "    </tr>\n",
       "  </tbody>\n",
       "</table>\n",
       "</div>"
      ],
      "text/plain": [
       "                sirna\n",
       "id_code              \n",
       "HEPG2-08_1_B03    855\n",
       "HEPG2-08_1_B04    292\n",
       "HEPG2-08_1_B05    836\n",
       "HEPG2-08_1_B06    249\n",
       "HEPG2-08_1_B07    200"
      ]
     },
     "execution_count": 18,
     "metadata": {},
     "output_type": "execute_result"
    }
   ],
   "source": [
    "df_new_sub.head()"
   ]
  },
  {
   "cell_type": "code",
   "execution_count": 19,
   "metadata": {
    "ExecuteTime": {
     "end_time": "2019-08-27T04:11:46.419753Z",
     "start_time": "2019-08-27T04:11:46.412815Z"
    }
   },
   "outputs": [
    {
     "data": {
      "text/html": [
       "<div>\n",
       "<style scoped>\n",
       "    .dataframe tbody tr th:only-of-type {\n",
       "        vertical-align: middle;\n",
       "    }\n",
       "\n",
       "    .dataframe tbody tr th {\n",
       "        vertical-align: top;\n",
       "    }\n",
       "\n",
       "    .dataframe thead th {\n",
       "        text-align: right;\n",
       "    }\n",
       "</style>\n",
       "<table border=\"1\" class=\"dataframe\">\n",
       "  <thead>\n",
       "    <tr style=\"text-align: right;\">\n",
       "      <th></th>\n",
       "      <th>sirna</th>\n",
       "    </tr>\n",
       "    <tr>\n",
       "      <th>id_code</th>\n",
       "      <th></th>\n",
       "    </tr>\n",
       "  </thead>\n",
       "  <tbody>\n",
       "    <tr>\n",
       "      <th>HEPG2-08_1_B03</th>\n",
       "      <td>855</td>\n",
       "    </tr>\n",
       "    <tr>\n",
       "      <th>HEPG2-08_1_B04</th>\n",
       "      <td>773</td>\n",
       "    </tr>\n",
       "    <tr>\n",
       "      <th>HEPG2-08_1_B05</th>\n",
       "      <td>451</td>\n",
       "    </tr>\n",
       "    <tr>\n",
       "      <th>HEPG2-08_1_B06</th>\n",
       "      <td>200</td>\n",
       "    </tr>\n",
       "    <tr>\n",
       "      <th>HEPG2-08_1_B07</th>\n",
       "      <td>1061</td>\n",
       "    </tr>\n",
       "  </tbody>\n",
       "</table>\n",
       "</div>"
      ],
      "text/plain": [
       "                sirna\n",
       "id_code              \n",
       "HEPG2-08_1_B03    855\n",
       "HEPG2-08_1_B04    773\n",
       "HEPG2-08_1_B05    451\n",
       "HEPG2-08_1_B06    200\n",
       "HEPG2-08_1_B07   1061"
      ]
     },
     "execution_count": 19,
     "metadata": {},
     "output_type": "execute_result"
    }
   ],
   "source": [
    "df_orig_sub.head()"
   ]
  },
  {
   "cell_type": "code",
   "execution_count": 20,
   "metadata": {
    "ExecuteTime": {
     "end_time": "2019-08-27T04:11:46.998470Z",
     "start_time": "2019-08-27T04:11:46.992213Z"
    }
   },
   "outputs": [
    {
     "data": {
      "text/html": [
       "<div>\n",
       "<style scoped>\n",
       "    .dataframe tbody tr th:only-of-type {\n",
       "        vertical-align: middle;\n",
       "    }\n",
       "\n",
       "    .dataframe tbody tr th {\n",
       "        vertical-align: top;\n",
       "    }\n",
       "\n",
       "    .dataframe thead th {\n",
       "        text-align: right;\n",
       "    }\n",
       "</style>\n",
       "<table border=\"1\" class=\"dataframe\">\n",
       "  <thead>\n",
       "    <tr style=\"text-align: right;\">\n",
       "      <th></th>\n",
       "      <th>sirna</th>\n",
       "    </tr>\n",
       "    <tr>\n",
       "      <th>id_code</th>\n",
       "      <th></th>\n",
       "    </tr>\n",
       "  </thead>\n",
       "  <tbody>\n",
       "    <tr>\n",
       "      <th>U2OS-05_4_O19</th>\n",
       "      <td>283</td>\n",
       "    </tr>\n",
       "    <tr>\n",
       "      <th>U2OS-05_4_O20</th>\n",
       "      <td>926</td>\n",
       "    </tr>\n",
       "    <tr>\n",
       "      <th>U2OS-05_4_O21</th>\n",
       "      <td>926</td>\n",
       "    </tr>\n",
       "    <tr>\n",
       "      <th>U2OS-05_4_O22</th>\n",
       "      <td>490</td>\n",
       "    </tr>\n",
       "    <tr>\n",
       "      <th>U2OS-05_4_O23</th>\n",
       "      <td>1086</td>\n",
       "    </tr>\n",
       "  </tbody>\n",
       "</table>\n",
       "</div>"
      ],
      "text/plain": [
       "               sirna\n",
       "id_code             \n",
       "U2OS-05_4_O19    283\n",
       "U2OS-05_4_O20    926\n",
       "U2OS-05_4_O21    926\n",
       "U2OS-05_4_O22    490\n",
       "U2OS-05_4_O23   1086"
      ]
     },
     "execution_count": 20,
     "metadata": {},
     "output_type": "execute_result"
    }
   ],
   "source": [
    "df_orig_sub.tail()"
   ]
  },
  {
   "cell_type": "code",
   "execution_count": 21,
   "metadata": {
    "ExecuteTime": {
     "end_time": "2019-08-27T04:11:48.038451Z",
     "start_time": "2019-08-27T04:11:48.019755Z"
    }
   },
   "outputs": [
    {
     "data": {
      "text/plain": [
       "0.7290043725184702"
      ]
     },
     "execution_count": 21,
     "metadata": {},
     "output_type": "execute_result"
    }
   ],
   "source": [
    "# check how man sirnas got really updated\n",
    "(df_orig_sub == df_new_sub).mean().item()"
   ]
  },
  {
   "cell_type": "code",
   "execution_count": 22,
   "metadata": {
    "ExecuteTime": {
     "end_time": "2019-08-27T04:11:48.751312Z",
     "start_time": "2019-08-27T04:11:48.745225Z"
    }
   },
   "outputs": [
    {
     "data": {
      "text/plain": [
       "0.2709956274815299"
      ]
     },
     "execution_count": 22,
     "metadata": {},
     "output_type": "execute_result"
    }
   ],
   "source": [
    "(df_orig_sub != df_new_sub).mean().item()"
   ]
  },
  {
   "cell_type": "code",
   "execution_count": 23,
   "metadata": {
    "ExecuteTime": {
     "end_time": "2019-08-27T04:11:50.525510Z",
     "start_time": "2019-08-27T04:11:50.519450Z"
    }
   },
   "outputs": [
    {
     "data": {
      "text/plain": [
       "0"
      ]
     },
     "execution_count": 23,
     "metadata": {},
     "output_type": "execute_result"
    }
   ],
   "source": [
    "df_new_sub.isna().sum().item()"
   ]
  },
  {
   "cell_type": "code",
   "execution_count": 24,
   "metadata": {
    "ExecuteTime": {
     "end_time": "2019-08-27T04:11:50.989596Z",
     "start_time": "2019-08-27T04:11:50.984464Z"
    }
   },
   "outputs": [],
   "source": [
    "#df_new_sub.loc[df_HEPG2.index]"
   ]
  },
  {
   "cell_type": "code",
   "execution_count": 25,
   "metadata": {
    "ExecuteTime": {
     "end_time": "2019-08-27T04:11:51.322385Z",
     "start_time": "2019-08-27T04:11:51.317633Z"
    }
   },
   "outputs": [],
   "source": [
    "#df_orig_sub != df_new_sub"
   ]
  },
  {
   "cell_type": "code",
   "execution_count": 26,
   "metadata": {
    "ExecuteTime": {
     "end_time": "2019-08-27T04:11:51.591136Z",
     "start_time": "2019-08-27T04:11:51.585895Z"
    }
   },
   "outputs": [],
   "source": [
    "#df_new_sub[df_orig_sub != df_new_sub]"
   ]
  },
  {
   "cell_type": "code",
   "execution_count": 27,
   "metadata": {
    "ExecuteTime": {
     "end_time": "2019-08-27T04:11:51.958374Z",
     "start_time": "2019-08-27T04:11:51.952273Z"
    }
   },
   "outputs": [],
   "source": [
    "assert df_orig_sub.shape == df_new_sub.shape"
   ]
  },
  {
   "cell_type": "code",
   "execution_count": 28,
   "metadata": {
    "ExecuteTime": {
     "end_time": "2019-08-27T04:12:01.962752Z",
     "start_time": "2019-08-27T04:12:01.958331Z"
    }
   },
   "outputs": [],
   "source": [
    "# 'effnet/adacos_efficientnet_b3_ct_pg_exp_'+ct+'e051_190826'\n",
    "# 'effnet/adacos_efficientnet_b3_ct_pg_exp_'+ct+'e210_190826'\n",
    "#model = 'metriclearn_efficientnet_b3_ct_pg_exp_HUVECe051u_190826_3xTTA-cossim'\n",
    "#model = 'metriclearn_efficientnet_b3_ct_pg_exp_uHEPG2e210_190826_3xTTA-cossim'\n",
    "model = 'metriclearn_efficientnet_b3_ct_pg_exp_HUVECe051uHEPG2e210uRPE184_190826_3xTTA-cossim'"
   ]
  },
  {
   "cell_type": "code",
   "execution_count": 29,
   "metadata": {
    "ExecuteTime": {
     "end_time": "2019-08-27T04:12:04.176177Z",
     "start_time": "2019-08-27T04:12:04.099734Z"
    }
   },
   "outputs": [],
   "source": [
    "df_new_sub.to_csv('sub/'+model+'.csv.gz', compression='gzip')"
   ]
  },
  {
   "cell_type": "code",
   "execution_count": 30,
   "metadata": {
    "ExecuteTime": {
     "end_time": "2019-08-27T04:12:18.413397Z",
     "start_time": "2019-08-27T04:12:04.756463Z"
    }
   },
   "outputs": [
    {
     "name": "stdout",
     "output_type": "stream",
     "text": [
      "100%|██████████████████████████████████████| 83.9k/83.9k [00:05<00:00, 14.7kB/s]\n",
      "Successfully submitted to Recursion Cellular Image Classification"
     ]
    }
   ],
   "source": [
    "!kaggle competitions submit -c recursion-cellular-image-classification -f sub/{model}.csv.gz -m \"{model}\"\n"
   ]
  },
  {
   "cell_type": "code",
   "execution_count": null,
   "metadata": {},
   "outputs": [],
   "source": []
  },
  {
   "cell_type": "code",
   "execution_count": null,
   "metadata": {},
   "outputs": [],
   "source": []
  },
  {
   "cell_type": "code",
   "execution_count": null,
   "metadata": {},
   "outputs": [],
   "source": []
  },
  {
   "cell_type": "code",
   "execution_count": 44,
   "metadata": {
    "ExecuteTime": {
     "end_time": "2019-08-26T18:30:40.066945Z",
     "start_time": "2019-08-26T18:30:40.063339Z"
    }
   },
   "outputs": [
    {
     "data": {
      "text/plain": [
       "0.3729908256880734"
      ]
     },
     "execution_count": 44,
     "metadata": {},
     "output_type": "execute_result"
    }
   ],
   "source": [
    "35376/73030*0.77"
   ]
  },
  {
   "cell_type": "code",
   "execution_count": 45,
   "metadata": {
    "ExecuteTime": {
     "end_time": "2019-08-26T18:31:19.069095Z",
     "start_time": "2019-08-26T18:31:19.066212Z"
    }
   },
   "outputs": [
    {
     "data": {
      "text/plain": [
       "0.11461043406819116"
      ]
     },
     "execution_count": 45,
     "metadata": {},
     "output_type": "execute_result"
    }
   ],
   "source": [
    "15500/73030*0.54"
   ]
  },
  {
   "cell_type": "code",
   "execution_count": 47,
   "metadata": {
    "ExecuteTime": {
     "end_time": "2019-08-26T18:34:29.440897Z",
     "start_time": "2019-08-26T18:34:29.437201Z"
    }
   },
   "outputs": [
    {
     "data": {
      "text/plain": [
       "0.1273942215527865"
      ]
     },
     "execution_count": 47,
     "metadata": {},
     "output_type": "execute_result"
    }
   ],
   "source": [
    "15506/73030*0.6"
   ]
  },
  {
   "cell_type": "code",
   "execution_count": null,
   "metadata": {},
   "outputs": [],
   "source": []
  },
  {
   "cell_type": "code",
   "execution_count": 48,
   "metadata": {
    "ExecuteTime": {
     "end_time": "2019-08-26T18:34:34.911499Z",
     "start_time": "2019-08-26T18:34:34.909116Z"
    }
   },
   "outputs": [
    {
     "data": {
      "text/plain": [
       "0.6"
      ]
     },
     "execution_count": 48,
     "metadata": {},
     "output_type": "execute_result"
    }
   ],
   "source": [
    "0.37+0.11+0.12"
   ]
  },
  {
   "cell_type": "code",
   "execution_count": null,
   "metadata": {},
   "outputs": [],
   "source": []
  }
 ],
 "metadata": {
  "kernelspec": {
   "display_name": "fastai",
   "language": "python",
   "name": "fastai"
  },
  "language_info": {
   "codemirror_mode": {
    "name": "ipython",
    "version": 3
   },
   "file_extension": ".py",
   "mimetype": "text/x-python",
   "name": "python",
   "nbconvert_exporter": "python",
   "pygments_lexer": "ipython3",
   "version": "3.6.8"
  },
  "toc": {
   "base_numbering": 1,
   "nav_menu": {},
   "number_sections": true,
   "sideBar": true,
   "skip_h1_title": false,
   "title_cell": "Table of Contents",
   "title_sidebar": "Contents",
   "toc_cell": false,
   "toc_position": {},
   "toc_section_display": true,
   "toc_window_display": false
  }
 },
 "nbformat": 4,
 "nbformat_minor": 2
}
