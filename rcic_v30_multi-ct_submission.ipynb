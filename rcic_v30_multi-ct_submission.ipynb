{
 "cells": [
  {
   "cell_type": "code",
   "execution_count": 1,
   "metadata": {
    "ExecuteTime": {
     "end_time": "2019-08-26T18:15:15.188800Z",
     "start_time": "2019-08-26T18:15:14.969949Z"
    }
   },
   "outputs": [],
   "source": [
    "import pandas as pd"
   ]
  },
  {
   "cell_type": "code",
   "execution_count": 2,
   "metadata": {
    "ExecuteTime": {
     "end_time": "2019-08-26T18:15:15.197850Z",
     "start_time": "2019-08-26T18:15:15.194397Z"
    }
   },
   "outputs": [],
   "source": [
    "cts = ['HEPG2', 'HUVEC', 'RPE', 'U2OS']"
   ]
  },
  {
   "cell_type": "code",
   "execution_count": 3,
   "metadata": {
    "ExecuteTime": {
     "end_time": "2019-08-26T18:15:15.459053Z",
     "start_time": "2019-08-26T18:15:15.439629Z"
    }
   },
   "outputs": [],
   "source": [
    "df_orig_sub = pd.read_csv('sub/metriclearn_efficientnet_b3_ct_pg_exp_Pre060e050_190823_TTA-cossim.csv.gz', index_col=0)"
   ]
  },
  {
   "cell_type": "code",
   "execution_count": 4,
   "metadata": {
    "ExecuteTime": {
     "end_time": "2019-08-26T18:15:15.631576Z",
     "start_time": "2019-08-26T18:15:15.625836Z"
    }
   },
   "outputs": [
    {
     "data": {
      "text/plain": [
       "(19897, 1)"
      ]
     },
     "execution_count": 4,
     "metadata": {},
     "output_type": "execute_result"
    }
   ],
   "source": [
    "df_orig_sub.shape"
   ]
  },
  {
   "cell_type": "code",
   "execution_count": 5,
   "metadata": {
    "ExecuteTime": {
     "end_time": "2019-08-26T18:15:15.858952Z",
     "start_time": "2019-08-26T18:15:15.853168Z"
    }
   },
   "outputs": [
    {
     "data": {
      "text/html": [
       "<div>\n",
       "<style scoped>\n",
       "    .dataframe tbody tr th:only-of-type {\n",
       "        vertical-align: middle;\n",
       "    }\n",
       "\n",
       "    .dataframe tbody tr th {\n",
       "        vertical-align: top;\n",
       "    }\n",
       "\n",
       "    .dataframe thead th {\n",
       "        text-align: right;\n",
       "    }\n",
       "</style>\n",
       "<table border=\"1\" class=\"dataframe\">\n",
       "  <thead>\n",
       "    <tr style=\"text-align: right;\">\n",
       "      <th></th>\n",
       "      <th>sirna</th>\n",
       "    </tr>\n",
       "    <tr>\n",
       "      <th>id_code</th>\n",
       "      <th></th>\n",
       "    </tr>\n",
       "  </thead>\n",
       "  <tbody>\n",
       "    <tr>\n",
       "      <th>HEPG2-08_1_B03</th>\n",
       "      <td>855</td>\n",
       "    </tr>\n",
       "    <tr>\n",
       "      <th>HEPG2-08_1_B04</th>\n",
       "      <td>773</td>\n",
       "    </tr>\n",
       "    <tr>\n",
       "      <th>HEPG2-08_1_B05</th>\n",
       "      <td>451</td>\n",
       "    </tr>\n",
       "    <tr>\n",
       "      <th>HEPG2-08_1_B06</th>\n",
       "      <td>200</td>\n",
       "    </tr>\n",
       "    <tr>\n",
       "      <th>HEPG2-08_1_B07</th>\n",
       "      <td>1061</td>\n",
       "    </tr>\n",
       "  </tbody>\n",
       "</table>\n",
       "</div>"
      ],
      "text/plain": [
       "                sirna\n",
       "id_code              \n",
       "HEPG2-08_1_B03    855\n",
       "HEPG2-08_1_B04    773\n",
       "HEPG2-08_1_B05    451\n",
       "HEPG2-08_1_B06    200\n",
       "HEPG2-08_1_B07   1061"
      ]
     },
     "execution_count": 5,
     "metadata": {},
     "output_type": "execute_result"
    }
   ],
   "source": [
    "df_orig_sub.head()"
   ]
  },
  {
   "cell_type": "code",
   "execution_count": 6,
   "metadata": {
    "ExecuteTime": {
     "end_time": "2019-08-26T18:15:16.102668Z",
     "start_time": "2019-08-26T18:15:16.085531Z"
    }
   },
   "outputs": [],
   "source": [
    "df_HEPG2 = pd.read_csv('sub/adacos_efficientnet_b3_ct_pg_exp_'+cts[0]+'e210_190826_3xTTA-cossim.csv.gz', index_col=0)\n",
    "df_HUVEC = pd.read_csv('sub/adacos_efficientnet_b3_ct_pg_exp_'+cts[1]+'e051_190826_3xTTA-cossim.csv.gz', index_col=0)"
   ]
  },
  {
   "cell_type": "code",
   "execution_count": 7,
   "metadata": {
    "ExecuteTime": {
     "end_time": "2019-08-26T18:15:16.339307Z",
     "start_time": "2019-08-26T18:15:16.337009Z"
    }
   },
   "outputs": [
    {
     "data": {
      "text/plain": [
       "((4429, 1), (8846, 1))"
      ]
     },
     "execution_count": 7,
     "metadata": {},
     "output_type": "execute_result"
    }
   ],
   "source": [
    "df_HEPG2.shape, df_HUVEC.shape"
   ]
  },
  {
   "cell_type": "code",
   "execution_count": 8,
   "metadata": {
    "ExecuteTime": {
     "end_time": "2019-08-26T18:15:16.645956Z",
     "start_time": "2019-08-26T18:15:16.639944Z"
    }
   },
   "outputs": [
    {
     "data": {
      "text/html": [
       "<div>\n",
       "<style scoped>\n",
       "    .dataframe tbody tr th:only-of-type {\n",
       "        vertical-align: middle;\n",
       "    }\n",
       "\n",
       "    .dataframe tbody tr th {\n",
       "        vertical-align: top;\n",
       "    }\n",
       "\n",
       "    .dataframe thead th {\n",
       "        text-align: right;\n",
       "    }\n",
       "</style>\n",
       "<table border=\"1\" class=\"dataframe\">\n",
       "  <thead>\n",
       "    <tr style=\"text-align: right;\">\n",
       "      <th></th>\n",
       "      <th>sirna</th>\n",
       "    </tr>\n",
       "    <tr>\n",
       "      <th>id_code</th>\n",
       "      <th></th>\n",
       "    </tr>\n",
       "  </thead>\n",
       "  <tbody>\n",
       "    <tr>\n",
       "      <th>HEPG2-08_1_B03</th>\n",
       "      <td>855</td>\n",
       "    </tr>\n",
       "    <tr>\n",
       "      <th>HEPG2-08_1_B04</th>\n",
       "      <td>292</td>\n",
       "    </tr>\n",
       "    <tr>\n",
       "      <th>HEPG2-08_1_B05</th>\n",
       "      <td>836</td>\n",
       "    </tr>\n",
       "    <tr>\n",
       "      <th>HEPG2-08_1_B06</th>\n",
       "      <td>249</td>\n",
       "    </tr>\n",
       "    <tr>\n",
       "      <th>HEPG2-08_1_B07</th>\n",
       "      <td>200</td>\n",
       "    </tr>\n",
       "  </tbody>\n",
       "</table>\n",
       "</div>"
      ],
      "text/plain": [
       "                sirna\n",
       "id_code              \n",
       "HEPG2-08_1_B03    855\n",
       "HEPG2-08_1_B04    292\n",
       "HEPG2-08_1_B05    836\n",
       "HEPG2-08_1_B06    249\n",
       "HEPG2-08_1_B07    200"
      ]
     },
     "execution_count": 8,
     "metadata": {},
     "output_type": "execute_result"
    }
   ],
   "source": [
    "df_HEPG2.head()"
   ]
  },
  {
   "cell_type": "code",
   "execution_count": 9,
   "metadata": {
    "ExecuteTime": {
     "end_time": "2019-08-26T18:15:16.966796Z",
     "start_time": "2019-08-26T18:15:16.962506Z"
    }
   },
   "outputs": [
    {
     "data": {
      "text/html": [
       "<div>\n",
       "<style scoped>\n",
       "    .dataframe tbody tr th:only-of-type {\n",
       "        vertical-align: middle;\n",
       "    }\n",
       "\n",
       "    .dataframe tbody tr th {\n",
       "        vertical-align: top;\n",
       "    }\n",
       "\n",
       "    .dataframe thead th {\n",
       "        text-align: right;\n",
       "    }\n",
       "</style>\n",
       "<table border=\"1\" class=\"dataframe\">\n",
       "  <thead>\n",
       "    <tr style=\"text-align: right;\">\n",
       "      <th></th>\n",
       "      <th>sirna</th>\n",
       "    </tr>\n",
       "    <tr>\n",
       "      <th>id_code</th>\n",
       "      <th></th>\n",
       "    </tr>\n",
       "  </thead>\n",
       "  <tbody>\n",
       "    <tr>\n",
       "      <th>HUVEC-17_1_B03</th>\n",
       "      <td>312</td>\n",
       "    </tr>\n",
       "    <tr>\n",
       "      <th>HUVEC-17_1_B04</th>\n",
       "      <td>450</td>\n",
       "    </tr>\n",
       "    <tr>\n",
       "      <th>HUVEC-17_1_B05</th>\n",
       "      <td>301</td>\n",
       "    </tr>\n",
       "    <tr>\n",
       "      <th>HUVEC-17_1_B06</th>\n",
       "      <td>272</td>\n",
       "    </tr>\n",
       "    <tr>\n",
       "      <th>HUVEC-17_1_B07</th>\n",
       "      <td>784</td>\n",
       "    </tr>\n",
       "  </tbody>\n",
       "</table>\n",
       "</div>"
      ],
      "text/plain": [
       "                sirna\n",
       "id_code              \n",
       "HUVEC-17_1_B03    312\n",
       "HUVEC-17_1_B04    450\n",
       "HUVEC-17_1_B05    301\n",
       "HUVEC-17_1_B06    272\n",
       "HUVEC-17_1_B07    784"
      ]
     },
     "execution_count": 9,
     "metadata": {},
     "output_type": "execute_result"
    }
   ],
   "source": [
    "df_HUVEC.head()"
   ]
  },
  {
   "cell_type": "code",
   "execution_count": 10,
   "metadata": {
    "ExecuteTime": {
     "end_time": "2019-08-26T18:15:17.284026Z",
     "start_time": "2019-08-26T18:15:17.282472Z"
    }
   },
   "outputs": [],
   "source": [
    "#df_orig_sub.loc['HEPG2-08_1_B06', 'sirna']"
   ]
  },
  {
   "cell_type": "code",
   "execution_count": 11,
   "metadata": {
    "ExecuteTime": {
     "end_time": "2019-08-26T18:15:17.665117Z",
     "start_time": "2019-08-26T18:15:17.661872Z"
    }
   },
   "outputs": [],
   "source": [
    "df_new_sub = df_orig_sub.copy()"
   ]
  },
  {
   "cell_type": "code",
   "execution_count": 12,
   "metadata": {
    "ExecuteTime": {
     "end_time": "2019-08-26T18:15:18.072376Z",
     "start_time": "2019-08-26T18:15:18.069607Z"
    }
   },
   "outputs": [],
   "source": [
    "def update_sub(df_new_sub, df_ct):\n",
    "    for i, v in df_ct.iterrows():\n",
    "        #print(i)\n",
    "        #print(v.values)\n",
    "        #print(v.item())\n",
    "        df_new_sub.loc[i, 'sirna'] = v.values\n",
    "    return df_new_sub"
   ]
  },
  {
   "cell_type": "code",
   "execution_count": 13,
   "metadata": {
    "ExecuteTime": {
     "end_time": "2019-08-26T18:15:19.462688Z",
     "start_time": "2019-08-26T18:15:18.482411Z"
    }
   },
   "outputs": [],
   "source": [
    "df_new_sub = update_sub(df_new_sub, df_HEPG2)"
   ]
  },
  {
   "cell_type": "code",
   "execution_count": 14,
   "metadata": {
    "ExecuteTime": {
     "end_time": "2019-08-26T18:15:19.466615Z",
     "start_time": "2019-08-26T18:15:19.463882Z"
    }
   },
   "outputs": [
    {
     "data": {
      "text/plain": [
       "200"
      ]
     },
     "execution_count": 14,
     "metadata": {},
     "output_type": "execute_result"
    }
   ],
   "source": [
    "df_new_sub.loc['HEPG2-08_1_B07', 'sirna']"
   ]
  },
  {
   "cell_type": "code",
   "execution_count": 15,
   "metadata": {
    "ExecuteTime": {
     "end_time": "2019-08-26T18:15:19.477347Z",
     "start_time": "2019-08-26T18:15:19.468021Z"
    }
   },
   "outputs": [],
   "source": [
    "#df_new_sub = update_sub(df_new_sub, df_HUVEC)"
   ]
  },
  {
   "cell_type": "code",
   "execution_count": 16,
   "metadata": {
    "ExecuteTime": {
     "end_time": "2019-08-26T18:15:19.653359Z",
     "start_time": "2019-08-26T18:15:19.649322Z"
    }
   },
   "outputs": [
    {
     "data": {
      "text/html": [
       "<div>\n",
       "<style scoped>\n",
       "    .dataframe tbody tr th:only-of-type {\n",
       "        vertical-align: middle;\n",
       "    }\n",
       "\n",
       "    .dataframe tbody tr th {\n",
       "        vertical-align: top;\n",
       "    }\n",
       "\n",
       "    .dataframe thead th {\n",
       "        text-align: right;\n",
       "    }\n",
       "</style>\n",
       "<table border=\"1\" class=\"dataframe\">\n",
       "  <thead>\n",
       "    <tr style=\"text-align: right;\">\n",
       "      <th></th>\n",
       "      <th>sirna</th>\n",
       "    </tr>\n",
       "    <tr>\n",
       "      <th>id_code</th>\n",
       "      <th></th>\n",
       "    </tr>\n",
       "  </thead>\n",
       "  <tbody>\n",
       "    <tr>\n",
       "      <th>HEPG2-08_1_B03</th>\n",
       "      <td>855</td>\n",
       "    </tr>\n",
       "    <tr>\n",
       "      <th>HEPG2-08_1_B04</th>\n",
       "      <td>292</td>\n",
       "    </tr>\n",
       "    <tr>\n",
       "      <th>HEPG2-08_1_B05</th>\n",
       "      <td>836</td>\n",
       "    </tr>\n",
       "    <tr>\n",
       "      <th>HEPG2-08_1_B06</th>\n",
       "      <td>249</td>\n",
       "    </tr>\n",
       "    <tr>\n",
       "      <th>HEPG2-08_1_B07</th>\n",
       "      <td>200</td>\n",
       "    </tr>\n",
       "  </tbody>\n",
       "</table>\n",
       "</div>"
      ],
      "text/plain": [
       "                sirna\n",
       "id_code              \n",
       "HEPG2-08_1_B03    855\n",
       "HEPG2-08_1_B04    292\n",
       "HEPG2-08_1_B05    836\n",
       "HEPG2-08_1_B06    249\n",
       "HEPG2-08_1_B07    200"
      ]
     },
     "execution_count": 16,
     "metadata": {},
     "output_type": "execute_result"
    }
   ],
   "source": [
    "df_new_sub.head()"
   ]
  },
  {
   "cell_type": "code",
   "execution_count": 17,
   "metadata": {
    "ExecuteTime": {
     "end_time": "2019-08-26T18:15:20.021332Z",
     "start_time": "2019-08-26T18:15:20.017385Z"
    }
   },
   "outputs": [
    {
     "data": {
      "text/html": [
       "<div>\n",
       "<style scoped>\n",
       "    .dataframe tbody tr th:only-of-type {\n",
       "        vertical-align: middle;\n",
       "    }\n",
       "\n",
       "    .dataframe tbody tr th {\n",
       "        vertical-align: top;\n",
       "    }\n",
       "\n",
       "    .dataframe thead th {\n",
       "        text-align: right;\n",
       "    }\n",
       "</style>\n",
       "<table border=\"1\" class=\"dataframe\">\n",
       "  <thead>\n",
       "    <tr style=\"text-align: right;\">\n",
       "      <th></th>\n",
       "      <th>sirna</th>\n",
       "    </tr>\n",
       "    <tr>\n",
       "      <th>id_code</th>\n",
       "      <th></th>\n",
       "    </tr>\n",
       "  </thead>\n",
       "  <tbody>\n",
       "    <tr>\n",
       "      <th>HEPG2-08_1_B03</th>\n",
       "      <td>855</td>\n",
       "    </tr>\n",
       "    <tr>\n",
       "      <th>HEPG2-08_1_B04</th>\n",
       "      <td>773</td>\n",
       "    </tr>\n",
       "    <tr>\n",
       "      <th>HEPG2-08_1_B05</th>\n",
       "      <td>451</td>\n",
       "    </tr>\n",
       "    <tr>\n",
       "      <th>HEPG2-08_1_B06</th>\n",
       "      <td>200</td>\n",
       "    </tr>\n",
       "    <tr>\n",
       "      <th>HEPG2-08_1_B07</th>\n",
       "      <td>1061</td>\n",
       "    </tr>\n",
       "  </tbody>\n",
       "</table>\n",
       "</div>"
      ],
      "text/plain": [
       "                sirna\n",
       "id_code              \n",
       "HEPG2-08_1_B03    855\n",
       "HEPG2-08_1_B04    773\n",
       "HEPG2-08_1_B05    451\n",
       "HEPG2-08_1_B06    200\n",
       "HEPG2-08_1_B07   1061"
      ]
     },
     "execution_count": 17,
     "metadata": {},
     "output_type": "execute_result"
    }
   ],
   "source": [
    "df_orig_sub.head()"
   ]
  },
  {
   "cell_type": "code",
   "execution_count": 18,
   "metadata": {
    "ExecuteTime": {
     "end_time": "2019-08-26T18:15:20.387080Z",
     "start_time": "2019-08-26T18:15:20.382876Z"
    }
   },
   "outputs": [
    {
     "data": {
      "text/html": [
       "<div>\n",
       "<style scoped>\n",
       "    .dataframe tbody tr th:only-of-type {\n",
       "        vertical-align: middle;\n",
       "    }\n",
       "\n",
       "    .dataframe tbody tr th {\n",
       "        vertical-align: top;\n",
       "    }\n",
       "\n",
       "    .dataframe thead th {\n",
       "        text-align: right;\n",
       "    }\n",
       "</style>\n",
       "<table border=\"1\" class=\"dataframe\">\n",
       "  <thead>\n",
       "    <tr style=\"text-align: right;\">\n",
       "      <th></th>\n",
       "      <th>sirna</th>\n",
       "    </tr>\n",
       "    <tr>\n",
       "      <th>id_code</th>\n",
       "      <th></th>\n",
       "    </tr>\n",
       "  </thead>\n",
       "  <tbody>\n",
       "    <tr>\n",
       "      <th>U2OS-05_4_O19</th>\n",
       "      <td>283</td>\n",
       "    </tr>\n",
       "    <tr>\n",
       "      <th>U2OS-05_4_O20</th>\n",
       "      <td>926</td>\n",
       "    </tr>\n",
       "    <tr>\n",
       "      <th>U2OS-05_4_O21</th>\n",
       "      <td>926</td>\n",
       "    </tr>\n",
       "    <tr>\n",
       "      <th>U2OS-05_4_O22</th>\n",
       "      <td>490</td>\n",
       "    </tr>\n",
       "    <tr>\n",
       "      <th>U2OS-05_4_O23</th>\n",
       "      <td>1086</td>\n",
       "    </tr>\n",
       "  </tbody>\n",
       "</table>\n",
       "</div>"
      ],
      "text/plain": [
       "               sirna\n",
       "id_code             \n",
       "U2OS-05_4_O19    283\n",
       "U2OS-05_4_O20    926\n",
       "U2OS-05_4_O21    926\n",
       "U2OS-05_4_O22    490\n",
       "U2OS-05_4_O23   1086"
      ]
     },
     "execution_count": 18,
     "metadata": {},
     "output_type": "execute_result"
    }
   ],
   "source": [
    "df_orig_sub.tail()"
   ]
  },
  {
   "cell_type": "code",
   "execution_count": 19,
   "metadata": {
    "ExecuteTime": {
     "end_time": "2019-08-26T18:15:20.989033Z",
     "start_time": "2019-08-26T18:15:20.969760Z"
    }
   },
   "outputs": [
    {
     "data": {
      "text/plain": [
       "0.885208825451073"
      ]
     },
     "execution_count": 19,
     "metadata": {},
     "output_type": "execute_result"
    }
   ],
   "source": [
    "# check how man sirnas got really updated\n",
    "(df_orig_sub == df_new_sub).mean().item()"
   ]
  },
  {
   "cell_type": "code",
   "execution_count": 41,
   "metadata": {
    "ExecuteTime": {
     "end_time": "2019-08-26T18:28:14.194107Z",
     "start_time": "2019-08-26T18:28:14.190408Z"
    }
   },
   "outputs": [
    {
     "data": {
      "text/plain": [
       "0.11479117454892697"
      ]
     },
     "execution_count": 41,
     "metadata": {},
     "output_type": "execute_result"
    }
   ],
   "source": [
    "(df_orig_sub != df_new_sub).mean().item()"
   ]
  },
  {
   "cell_type": "code",
   "execution_count": 49,
   "metadata": {
    "ExecuteTime": {
     "end_time": "2019-08-26T18:40:03.724840Z",
     "start_time": "2019-08-26T18:40:03.721949Z"
    }
   },
   "outputs": [
    {
     "data": {
      "text/plain": [
       "0"
      ]
     },
     "execution_count": 49,
     "metadata": {},
     "output_type": "execute_result"
    }
   ],
   "source": [
    "df_new_sub.isna().sum().item()"
   ]
  },
  {
   "cell_type": "code",
   "execution_count": 39,
   "metadata": {
    "ExecuteTime": {
     "end_time": "2019-08-26T18:25:41.664445Z",
     "start_time": "2019-08-26T18:25:41.662755Z"
    }
   },
   "outputs": [],
   "source": [
    "#df_new_sub.loc[df_HEPG2.index]"
   ]
  },
  {
   "cell_type": "code",
   "execution_count": 31,
   "metadata": {
    "ExecuteTime": {
     "end_time": "2019-08-26T18:22:08.353953Z",
     "start_time": "2019-08-26T18:22:08.352384Z"
    }
   },
   "outputs": [],
   "source": [
    "#df_orig_sub != df_new_sub"
   ]
  },
  {
   "cell_type": "code",
   "execution_count": 32,
   "metadata": {
    "ExecuteTime": {
     "end_time": "2019-08-26T18:22:31.344030Z",
     "start_time": "2019-08-26T18:22:31.342600Z"
    }
   },
   "outputs": [],
   "source": [
    "#df_new_sub[df_orig_sub != df_new_sub]"
   ]
  },
  {
   "cell_type": "code",
   "execution_count": 23,
   "metadata": {
    "ExecuteTime": {
     "end_time": "2019-08-26T18:15:23.323853Z",
     "start_time": "2019-08-26T18:15:23.320558Z"
    }
   },
   "outputs": [],
   "source": [
    "assert df_orig_sub.shape == df_new_sub.shape"
   ]
  },
  {
   "cell_type": "code",
   "execution_count": 24,
   "metadata": {
    "ExecuteTime": {
     "end_time": "2019-08-26T18:15:23.699420Z",
     "start_time": "2019-08-26T18:15:23.697008Z"
    }
   },
   "outputs": [],
   "source": [
    "# 'effnet/adacos_efficientnet_b3_ct_pg_exp_'+ct+'e051_190826'\n",
    "# 'effnet/adacos_efficientnet_b3_ct_pg_exp_'+ct+'e210_190826'\n",
    "model = 'metriclearn_efficientnet_b3_ct_pg_exp_HUVECe051uHEPG2e210_190826_3xTTA-cossim'\n",
    "#model = 'metriclearn_efficientnet_b3_ct_pg_exp_HUVECe051u_190826_3xTTA-cossim'\n",
    "#model = 'metriclearn_efficientnet_b3_ct_pg_exp_uHEPG2e210_190826_3xTTA-cossim'"
   ]
  },
  {
   "cell_type": "code",
   "execution_count": 25,
   "metadata": {
    "ExecuteTime": {
     "end_time": "2019-08-26T18:15:24.355849Z",
     "start_time": "2019-08-26T18:15:24.266702Z"
    }
   },
   "outputs": [],
   "source": [
    "df_new_sub.to_csv('sub/'+model+'.csv.gz', compression='gzip')"
   ]
  },
  {
   "cell_type": "code",
   "execution_count": 26,
   "metadata": {
    "ExecuteTime": {
     "end_time": "2019-08-26T18:15:37.306774Z",
     "start_time": "2019-08-26T18:15:25.572937Z"
    }
   },
   "outputs": [
    {
     "name": "stdout",
     "output_type": "stream",
     "text": [
      "100%|██████████████████████████████████████| 83.7k/83.7k [00:10<00:00, 8.57kB/s]\n",
      "Successfully submitted to Recursion Cellular Image Classification"
     ]
    }
   ],
   "source": [
    "!kaggle competitions submit -c recursion-cellular-image-classification -f sub/{model}.csv.gz -m \"{model}\"\n"
   ]
  },
  {
   "cell_type": "code",
   "execution_count": null,
   "metadata": {},
   "outputs": [],
   "source": []
  },
  {
   "cell_type": "code",
   "execution_count": null,
   "metadata": {},
   "outputs": [],
   "source": []
  },
  {
   "cell_type": "code",
   "execution_count": null,
   "metadata": {},
   "outputs": [],
   "source": []
  },
  {
   "cell_type": "code",
   "execution_count": 44,
   "metadata": {
    "ExecuteTime": {
     "end_time": "2019-08-26T18:30:40.066945Z",
     "start_time": "2019-08-26T18:30:40.063339Z"
    }
   },
   "outputs": [
    {
     "data": {
      "text/plain": [
       "0.3729908256880734"
      ]
     },
     "execution_count": 44,
     "metadata": {},
     "output_type": "execute_result"
    }
   ],
   "source": [
    "35376/73030*0.77"
   ]
  },
  {
   "cell_type": "code",
   "execution_count": 45,
   "metadata": {
    "ExecuteTime": {
     "end_time": "2019-08-26T18:31:19.069095Z",
     "start_time": "2019-08-26T18:31:19.066212Z"
    }
   },
   "outputs": [
    {
     "data": {
      "text/plain": [
       "0.11461043406819116"
      ]
     },
     "execution_count": 45,
     "metadata": {},
     "output_type": "execute_result"
    }
   ],
   "source": [
    "15500/73030*0.54"
   ]
  },
  {
   "cell_type": "code",
   "execution_count": 47,
   "metadata": {
    "ExecuteTime": {
     "end_time": "2019-08-26T18:34:29.440897Z",
     "start_time": "2019-08-26T18:34:29.437201Z"
    }
   },
   "outputs": [
    {
     "data": {
      "text/plain": [
       "0.1273942215527865"
      ]
     },
     "execution_count": 47,
     "metadata": {},
     "output_type": "execute_result"
    }
   ],
   "source": [
    "15506/73030*0.6"
   ]
  },
  {
   "cell_type": "code",
   "execution_count": null,
   "metadata": {},
   "outputs": [],
   "source": []
  },
  {
   "cell_type": "code",
   "execution_count": 48,
   "metadata": {
    "ExecuteTime": {
     "end_time": "2019-08-26T18:34:34.911499Z",
     "start_time": "2019-08-26T18:34:34.909116Z"
    }
   },
   "outputs": [
    {
     "data": {
      "text/plain": [
       "0.6"
      ]
     },
     "execution_count": 48,
     "metadata": {},
     "output_type": "execute_result"
    }
   ],
   "source": [
    "0.37+0.11+0.12"
   ]
  },
  {
   "cell_type": "code",
   "execution_count": null,
   "metadata": {},
   "outputs": [],
   "source": []
  }
 ],
 "metadata": {
  "kernelspec": {
   "display_name": "fastai",
   "language": "python",
   "name": "fastai"
  },
  "language_info": {
   "codemirror_mode": {
    "name": "ipython",
    "version": 3
   },
   "file_extension": ".py",
   "mimetype": "text/x-python",
   "name": "python",
   "nbconvert_exporter": "python",
   "pygments_lexer": "ipython3",
   "version": "3.6.8"
  },
  "toc": {
   "base_numbering": 1,
   "nav_menu": {},
   "number_sections": true,
   "sideBar": true,
   "skip_h1_title": false,
   "title_cell": "Table of Contents",
   "title_sidebar": "Contents",
   "toc_cell": false,
   "toc_position": {},
   "toc_section_display": true,
   "toc_window_display": false
  }
 },
 "nbformat": 4,
 "nbformat_minor": 2
}
