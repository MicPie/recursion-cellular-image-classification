{
 "cells": [
  {
   "cell_type": "code",
   "execution_count": 15,
   "metadata": {
    "ExecuteTime": {
     "end_time": "2019-08-14T17:15:16.649930Z",
     "start_time": "2019-08-14T17:15:16.645936Z"
    }
   },
   "outputs": [],
   "source": [
    "import os"
   ]
  },
  {
   "cell_type": "code",
   "execution_count": 24,
   "metadata": {
    "ExecuteTime": {
     "end_time": "2019-08-14T17:16:32.962431Z",
     "start_time": "2019-08-14T17:16:32.957222Z"
    }
   },
   "outputs": [],
   "source": [
    "train_dir = [f.path.split('/')[1] for f in os.scandir('train') if f.is_dir()]\n",
    "test_dir = [f.path.split('/')[1] for f in os.scandir('test') if f.is_dir()]"
   ]
  },
  {
   "cell_type": "code",
   "execution_count": 25,
   "metadata": {
    "ExecuteTime": {
     "end_time": "2019-08-14T17:16:33.359456Z",
     "start_time": "2019-08-14T17:16:33.354058Z"
    }
   },
   "outputs": [
    {
     "data": {
      "text/plain": [
       "['HUVEC-10',\n",
       " 'HUVEC-07',\n",
       " 'RPE-04',\n",
       " 'HUVEC-12',\n",
       " 'HEPG2-07',\n",
       " 'HUVEC-03',\n",
       " 'RPE-07',\n",
       " 'HUVEC-02',\n",
       " 'U2OS-02',\n",
       " 'HEPG2-05',\n",
       " 'HUVEC-14',\n",
       " 'HUVEC-11',\n",
       " 'HUVEC-06',\n",
       " 'HUVEC-04',\n",
       " 'models',\n",
       " 'HUVEC-15',\n",
       " 'HEPG2-01',\n",
       " 'RPE-02',\n",
       " 'RPE-01',\n",
       " 'HEPG2-04',\n",
       " 'RPE-06',\n",
       " 'RPE-03',\n",
       " 'U2OS-03',\n",
       " 'HEPG2-03',\n",
       " 'HEPG2-06',\n",
       " 'U2OS-01',\n",
       " 'HUVEC-16',\n",
       " 'HUVEC-08',\n",
       " 'RPE-05',\n",
       " 'HEPG2-02',\n",
       " 'HUVEC-09',\n",
       " 'HUVEC-13',\n",
       " 'HUVEC-05',\n",
       " 'HUVEC-01']"
      ]
     },
     "execution_count": 25,
     "metadata": {},
     "output_type": "execute_result"
    }
   ],
   "source": [
    "train_dir"
   ]
  },
  {
   "cell_type": "code",
   "execution_count": 26,
   "metadata": {
    "ExecuteTime": {
     "end_time": "2019-08-14T17:16:33.668067Z",
     "start_time": "2019-08-14T17:16:33.659237Z"
    }
   },
   "outputs": [
    {
     "data": {
      "text/plain": [
       "['HEPG2-09',\n",
       " 'RPE-11',\n",
       " 'RPE-09',\n",
       " 'HUVEC-23',\n",
       " 'U2OS-04',\n",
       " 'RPE-08',\n",
       " 'U2OS-05',\n",
       " 'HUVEC-21',\n",
       " 'HUVEC-17',\n",
       " 'HUVEC-19',\n",
       " 'HEPG2-10',\n",
       " 'HUVEC-18',\n",
       " 'HUVEC-20',\n",
       " 'HUVEC-24',\n",
       " 'HUVEC-22',\n",
       " 'HEPG2-08',\n",
       " 'HEPG2-11',\n",
       " 'RPE-10']"
      ]
     },
     "execution_count": 26,
     "metadata": {},
     "output_type": "execute_result"
    }
   ],
   "source": [
    "test_dir"
   ]
  },
  {
   "cell_type": "code",
   "execution_count": 27,
   "metadata": {
    "ExecuteTime": {
     "end_time": "2019-08-14T17:16:39.029284Z",
     "start_time": "2019-08-14T17:16:39.025060Z"
    }
   },
   "outputs": [],
   "source": [
    "exp = train_dir+test_dir"
   ]
  },
  {
   "cell_type": "code",
   "execution_count": 28,
   "metadata": {
    "ExecuteTime": {
     "end_time": "2019-08-14T17:16:39.474217Z",
     "start_time": "2019-08-14T17:16:39.468897Z"
    }
   },
   "outputs": [
    {
     "data": {
      "text/plain": [
       "['HUVEC-10',\n",
       " 'HUVEC-07',\n",
       " 'RPE-04',\n",
       " 'HUVEC-12',\n",
       " 'HEPG2-07',\n",
       " 'HUVEC-03',\n",
       " 'RPE-07',\n",
       " 'HUVEC-02',\n",
       " 'U2OS-02',\n",
       " 'HEPG2-05',\n",
       " 'HUVEC-14',\n",
       " 'HUVEC-11',\n",
       " 'HUVEC-06',\n",
       " 'HUVEC-04',\n",
       " 'models',\n",
       " 'HUVEC-15',\n",
       " 'HEPG2-01',\n",
       " 'RPE-02',\n",
       " 'RPE-01',\n",
       " 'HEPG2-04',\n",
       " 'RPE-06',\n",
       " 'RPE-03',\n",
       " 'U2OS-03',\n",
       " 'HEPG2-03',\n",
       " 'HEPG2-06',\n",
       " 'U2OS-01',\n",
       " 'HUVEC-16',\n",
       " 'HUVEC-08',\n",
       " 'RPE-05',\n",
       " 'HEPG2-02',\n",
       " 'HUVEC-09',\n",
       " 'HUVEC-13',\n",
       " 'HUVEC-05',\n",
       " 'HUVEC-01',\n",
       " 'HEPG2-09',\n",
       " 'RPE-11',\n",
       " 'RPE-09',\n",
       " 'HUVEC-23',\n",
       " 'U2OS-04',\n",
       " 'RPE-08',\n",
       " 'U2OS-05',\n",
       " 'HUVEC-21',\n",
       " 'HUVEC-17',\n",
       " 'HUVEC-19',\n",
       " 'HEPG2-10',\n",
       " 'HUVEC-18',\n",
       " 'HUVEC-20',\n",
       " 'HUVEC-24',\n",
       " 'HUVEC-22',\n",
       " 'HEPG2-08',\n",
       " 'HEPG2-11',\n",
       " 'RPE-10']"
      ]
     },
     "execution_count": 28,
     "metadata": {},
     "output_type": "execute_result"
    }
   ],
   "source": [
    "exp"
   ]
  },
  {
   "cell_type": "code",
   "execution_count": 29,
   "metadata": {
    "ExecuteTime": {
     "end_time": "2019-08-14T17:16:50.524732Z",
     "start_time": "2019-08-14T17:16:50.519219Z"
    }
   },
   "outputs": [
    {
     "data": {
      "text/plain": [
       "52"
      ]
     },
     "execution_count": 29,
     "metadata": {},
     "output_type": "execute_result"
    }
   ],
   "source": [
    "len(exp)"
   ]
  },
  {
   "cell_type": "code",
   "execution_count": null,
   "metadata": {},
   "outputs": [],
   "source": []
  },
  {
   "cell_type": "code",
   "execution_count": null,
   "metadata": {},
   "outputs": [],
   "source": [
    "valid_exp_split = ['HUVEC-15', 'HUVEC-16',\n",
    "                   'RPE-06', 'RPE-07', \n",
    "                   'HEPG2-06', 'HEPG2-07', \n",
    "                   'U2OS-03']"
   ]
  },
  {
   "cell_type": "code",
   "execution_count": null,
   "metadata": {},
   "outputs": [],
   "source": [
    "\n",
    "\n",
    "\n",
    "\n",
    "\n"
   ]
  },
  {
   "cell_type": "code",
   "execution_count": 39,
   "metadata": {
    "ExecuteTime": {
     "end_time": "2019-08-14T19:19:14.815983Z",
     "start_time": "2019-08-14T19:19:14.809759Z"
    }
   },
   "outputs": [],
   "source": [
    "# number experiments so that cell types do not overlap\n",
    "# and the valid and test dataset do have a embedding they can use!\n",
    "exp2int = {'HEPG2-01': 0,\n",
    "           'HEPG2-02': 1,\n",
    "           'HEPG2-03': 2,\n",
    "           'HEPG2-04': 3,\n",
    "           'HEPG2-05': 4,\n",
    "           # valid\n",
    "           'HEPG2-06': 0,\n",
    "           'HEPG2-07': 1,\n",
    "           # test\n",
    "           'HEPG2-08': 0,\n",
    "           'HEPG2-09': 1,\n",
    "           'HEPG2-10': 2,\n",
    "           'HEPG2-11': 3,           \n",
    "             \n",
    "           # train\n",
    "           'HUVEC-01': 5,\n",
    "           'HUVEC-02': 6,\n",
    "           'HUVEC-03': 7,\n",
    "           'HUVEC-04': 8,\n",
    "           'HUVEC-05': 9,\n",
    "           'HUVEC-06': 10,\n",
    "           'HUVEC-07': 11, \n",
    "           'HUVEC-08': 12,\n",
    "           'HUVEC-09': 13,\n",
    "           'HUVEC-10': 14,\n",
    "           'HUVEC-11': 15,\n",
    "           'HUVEC-12': 16,\n",
    "           'HUVEC-13': 17,\n",
    "           'HUVEC-14': 18, \n",
    "           # valid\n",
    "           'HUVEC-15': 5,\n",
    "           'HUVEC-16': 6, \n",
    "           # test\n",
    "           'HUVEC-17': 5,\n",
    "           'HUVEC-18': 6,\n",
    "           'HUVEC-19': 7,\n",
    "           'HUVEC-20': 8,\n",
    "           'HUVEC-21': 9,\n",
    "           'HUVEC-22': 10,\n",
    "           'HUVEC-23': 11,\n",
    "           'HUVEC-24': 12,\n",
    "             \n",
    "           # train\n",
    "           'RPE-01': 19,\n",
    "           'RPE-02': 20,\n",
    "           'RPE-03': 21,\n",
    "           'RPE-04': 22,\n",
    "           'RPE-05': 23,\n",
    "           # valid\n",
    "           'RPE-06': 19,\n",
    "           'RPE-07': 20,\n",
    "           # test\n",
    "           'RPE-08': 19,\n",
    "           'RPE-09': 20,\n",
    "           'RPE-10': 21,\n",
    "           'RPE-11': 22,\n",
    "             \n",
    "           # train\n",
    "           'U2OS-01': 24,\n",
    "           'U2OS-02': 25,\n",
    "           # valid\n",
    "           'U2OS-03': 24,\n",
    "           # test\n",
    "           'U2OS-04': 24,\n",
    "           'U2OS-05': 25\n",
    "          }"
   ]
  },
  {
   "cell_type": "code",
   "execution_count": null,
   "metadata": {},
   "outputs": [],
   "source": []
  },
  {
   "cell_type": "code",
   "execution_count": null,
   "metadata": {},
   "outputs": [],
   "source": []
  },
  {
   "cell_type": "code",
   "execution_count": null,
   "metadata": {},
   "outputs": [],
   "source": []
  },
  {
   "cell_type": "code",
   "execution_count": 34,
   "metadata": {
    "ExecuteTime": {
     "end_time": "2019-08-14T17:19:02.077134Z",
     "start_time": "2019-08-14T17:19:02.071956Z"
    }
   },
   "outputs": [],
   "source": [
    "# https://stackoverflow.com/questions/976882/shuffling-a-list-of-objects\n",
    "from random import shuffle\n",
    "x = [[i] for i in range(52)]\n",
    "shuffle(x)"
   ]
  },
  {
   "cell_type": "code",
   "execution_count": 35,
   "metadata": {
    "ExecuteTime": {
     "end_time": "2019-08-14T17:19:02.278821Z",
     "start_time": "2019-08-14T17:19:02.267320Z"
    }
   },
   "outputs": [
    {
     "data": {
      "text/plain": [
       "[[5],\n",
       " [46],\n",
       " [30],\n",
       " [24],\n",
       " [25],\n",
       " [47],\n",
       " [19],\n",
       " [40],\n",
       " [18],\n",
       " [31],\n",
       " [51],\n",
       " [3],\n",
       " [23],\n",
       " [1],\n",
       " [35],\n",
       " [12],\n",
       " [27],\n",
       " [16],\n",
       " [0],\n",
       " [9],\n",
       " [10],\n",
       " [17],\n",
       " [26],\n",
       " [50],\n",
       " [4],\n",
       " [41],\n",
       " [13],\n",
       " [29],\n",
       " [44],\n",
       " [37],\n",
       " [2],\n",
       " [21],\n",
       " [33],\n",
       " [22],\n",
       " [45],\n",
       " [48],\n",
       " [39],\n",
       " [43],\n",
       " [20],\n",
       " [28],\n",
       " [11],\n",
       " [42],\n",
       " [34],\n",
       " [14],\n",
       " [6],\n",
       " [49],\n",
       " [36],\n",
       " [38],\n",
       " [7],\n",
       " [15],\n",
       " [8],\n",
       " [32]]"
      ]
     },
     "execution_count": 35,
     "metadata": {},
     "output_type": "execute_result"
    }
   ],
   "source": [
    "x"
   ]
  },
  {
   "cell_type": "code",
   "execution_count": null,
   "metadata": {},
   "outputs": [],
   "source": []
  },
  {
   "cell_type": "code",
   "execution_count": 37,
   "metadata": {
    "ExecuteTime": {
     "end_time": "2019-08-14T17:58:19.593033Z",
     "start_time": "2019-08-14T17:58:19.588307Z"
    }
   },
   "outputs": [
    {
     "data": {
      "text/plain": [
       "'HEPG2-01'"
      ]
     },
     "execution_count": 37,
     "metadata": {},
     "output_type": "execute_result"
    }
   ],
   "source": [
    "'train/HEPG2-01/Plate1/B03_s1'.split('/')[1]#.split('-')[1]"
   ]
  },
  {
   "cell_type": "code",
   "execution_count": null,
   "metadata": {},
   "outputs": [],
   "source": []
  },
  {
   "cell_type": "code",
   "execution_count": null,
   "metadata": {},
   "outputs": [],
   "source": []
  },
  {
   "cell_type": "code",
   "execution_count": null,
   "metadata": {},
   "outputs": [],
   "source": [
    "# shuffle experiment label"
   ]
  },
  {
   "cell_type": "code",
   "execution_count": null,
   "metadata": {},
   "outputs": [],
   "source": []
  }
 ],
 "metadata": {
  "kernelspec": {
   "display_name": "fastai",
   "language": "python",
   "name": "fastai"
  },
  "language_info": {
   "codemirror_mode": {
    "name": "ipython",
    "version": 3
   },
   "file_extension": ".py",
   "mimetype": "text/x-python",
   "name": "python",
   "nbconvert_exporter": "python",
   "pygments_lexer": "ipython3",
   "version": "3.6.8"
  },
  "toc": {
   "base_numbering": 1,
   "nav_menu": {},
   "number_sections": true,
   "sideBar": true,
   "skip_h1_title": false,
   "title_cell": "Table of Contents",
   "title_sidebar": "Contents",
   "toc_cell": false,
   "toc_position": {},
   "toc_section_display": true,
   "toc_window_display": false
  }
 },
 "nbformat": 4,
 "nbformat_minor": 2
}
