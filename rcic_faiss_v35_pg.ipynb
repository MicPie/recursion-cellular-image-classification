{
 "cells": [
  {
   "cell_type": "markdown",
   "metadata": {},
   "source": [
    "# Imports"
   ]
  },
  {
   "cell_type": "markdown",
   "metadata": {},
   "source": [
    "https://github.com/facebookresearch/faiss/wiki/Getting-started"
   ]
  },
  {
   "cell_type": "markdown",
   "metadata": {},
   "source": [
    "**We assume row-major storage, ie. the j'th component of vector number i is stored in row i, column j of the matrix. Faiss uses only 32-bit floating point matrices.**"
   ]
  },
  {
   "cell_type": "code",
   "execution_count": 57,
   "metadata": {
    "ExecuteTime": {
     "end_time": "2019-09-02T17:55:42.145814Z",
     "start_time": "2019-09-02T17:55:42.144006Z"
    }
   },
   "outputs": [],
   "source": [
    "import numpy as np\n",
    "import faiss"
   ]
  },
  {
   "cell_type": "code",
   "execution_count": 58,
   "metadata": {
    "ExecuteTime": {
     "end_time": "2019-09-02T17:55:42.530001Z",
     "start_time": "2019-09-02T17:55:42.527394Z"
    }
   },
   "outputs": [],
   "source": [
    "import matplotlib.pyplot as plt\n",
    "from sklearn.metrics import confusion_matrix\n",
    "from sklearn.utils.multiclass import unique_labels"
   ]
  },
  {
   "cell_type": "markdown",
   "metadata": {},
   "source": [
    "# Setup"
   ]
  },
  {
   "cell_type": "code",
   "execution_count": 59,
   "metadata": {
    "ExecuteTime": {
     "end_time": "2019-09-02T17:55:43.325192Z",
     "start_time": "2019-09-02T17:55:43.322263Z"
    }
   },
   "outputs": [],
   "source": [
    "pg = 0"
   ]
  },
  {
   "cell_type": "code",
   "execution_count": 60,
   "metadata": {
    "ExecuteTime": {
     "end_time": "2019-09-02T17:55:43.896744Z",
     "start_time": "2019-09-02T17:55:43.846148Z"
    }
   },
   "outputs": [],
   "source": [
    "xb = np.load('pred/feats_train_pg'+str(pg)+'.npy')\n",
    "yb = np.load('pred/targs_cl_train_pg'+str(pg)+'.npy')\n",
    "xq = np.load('pred/feats_valid_pg'+str(pg)+'.npy')\n",
    "yq = np.load('pred/targs_cl_valid_pg'+str(pg)+'.npy')"
   ]
  },
  {
   "cell_type": "code",
   "execution_count": 61,
   "metadata": {
    "ExecuteTime": {
     "end_time": "2019-09-02T17:55:44.319390Z",
     "start_time": "2019-09-02T17:55:44.316955Z"
    }
   },
   "outputs": [
    {
     "data": {
      "text/plain": [
       "(43032, 512)"
      ]
     },
     "execution_count": 61,
     "metadata": {},
     "output_type": "execute_result"
    }
   ],
   "source": [
    "xb.shape # nb-by-d"
   ]
  },
  {
   "cell_type": "code",
   "execution_count": 62,
   "metadata": {
    "ExecuteTime": {
     "end_time": "2019-09-02T17:55:44.965993Z",
     "start_time": "2019-09-02T17:55:44.961164Z"
    }
   },
   "outputs": [
    {
     "data": {
      "text/plain": [
       "(3866, 512)"
      ]
     },
     "execution_count": 62,
     "metadata": {},
     "output_type": "execute_result"
    }
   ],
   "source": [
    "xq.shape # nq-by-d (query vectors)"
   ]
  },
  {
   "cell_type": "code",
   "execution_count": 63,
   "metadata": {
    "ExecuteTime": {
     "end_time": "2019-09-02T17:55:45.574560Z",
     "start_time": "2019-09-02T17:55:45.568939Z"
    }
   },
   "outputs": [
    {
     "data": {
      "text/plain": [
       "((43032,), (3866,))"
      ]
     },
     "execution_count": 63,
     "metadata": {},
     "output_type": "execute_result"
    }
   ],
   "source": [
    "yb.shape, yq.shape"
   ]
  },
  {
   "cell_type": "code",
   "execution_count": 64,
   "metadata": {
    "ExecuteTime": {
     "end_time": "2019-09-02T17:55:46.267434Z",
     "start_time": "2019-09-02T17:55:46.262815Z"
    }
   },
   "outputs": [
    {
     "data": {
      "text/plain": [
       "(512, 829)"
      ]
     },
     "execution_count": 64,
     "metadata": {},
     "output_type": "execute_result"
    }
   ],
   "source": [
    "## setup\n",
    "d = xb.shape[1] # 512\n",
    "nlist = int(4*np.sqrt(xb.shape[0])) # https://github.com/facebookresearch/faiss/issues/112\n",
    "d, nlist"
   ]
  },
  {
   "cell_type": "code",
   "execution_count": 65,
   "metadata": {
    "ExecuteTime": {
     "end_time": "2019-09-02T17:55:46.658451Z",
     "start_time": "2019-09-02T17:55:46.654610Z"
    }
   },
   "outputs": [],
   "source": [
    "quantizer = faiss.IndexFlatIP(d)\n",
    "index = faiss.IndexIVFFlat(quantizer, d, nlist, faiss.METRIC_INNER_PRODUCT)"
   ]
  },
  {
   "cell_type": "markdown",
   "metadata": {
    "ExecuteTime": {
     "end_time": "2019-07-25T18:29:39.571762Z",
     "start_time": "2019-07-25T18:29:39.562612Z"
    }
   },
   "source": [
    "https://github.com/facebookresearch/faiss/wiki/FAQ#how-can-i-index-vectors-for-cosine-distance"
   ]
  },
  {
   "cell_type": "code",
   "execution_count": 66,
   "metadata": {
    "ExecuteTime": {
     "end_time": "2019-09-02T17:55:47.625849Z",
     "start_time": "2019-09-02T17:55:47.612265Z"
    }
   },
   "outputs": [
    {
     "data": {
      "text/plain": [
       "259.20917"
      ]
     },
     "execution_count": 66,
     "metadata": {},
     "output_type": "execute_result"
    }
   ],
   "source": [
    "xb.max()"
   ]
  },
  {
   "cell_type": "code",
   "execution_count": 67,
   "metadata": {
    "ExecuteTime": {
     "end_time": "2019-09-02T17:55:47.938590Z",
     "start_time": "2019-09-02T17:55:47.926359Z"
    }
   },
   "outputs": [],
   "source": [
    "faiss.normalize_L2(xb)"
   ]
  },
  {
   "cell_type": "code",
   "execution_count": 68,
   "metadata": {
    "ExecuteTime": {
     "end_time": "2019-09-02T17:55:48.299028Z",
     "start_time": "2019-09-02T17:55:48.292101Z"
    }
   },
   "outputs": [
    {
     "data": {
      "text/plain": [
       "0.1784907"
      ]
     },
     "execution_count": 68,
     "metadata": {},
     "output_type": "execute_result"
    }
   ],
   "source": [
    "xb.max()"
   ]
  },
  {
   "cell_type": "code",
   "execution_count": 69,
   "metadata": {
    "ExecuteTime": {
     "end_time": "2019-09-02T17:55:50.822943Z",
     "start_time": "2019-09-02T17:55:49.027412Z"
    }
   },
   "outputs": [],
   "source": [
    "index.train(xb)"
   ]
  },
  {
   "cell_type": "code",
   "execution_count": 70,
   "metadata": {
    "ExecuteTime": {
     "end_time": "2019-09-02T17:55:51.062586Z",
     "start_time": "2019-09-02T17:55:50.824094Z"
    }
   },
   "outputs": [],
   "source": [
    "index.add_with_ids(xb, yb)"
   ]
  },
  {
   "cell_type": "code",
   "execution_count": 71,
   "metadata": {
    "ExecuteTime": {
     "end_time": "2019-09-02T17:55:51.071757Z",
     "start_time": "2019-09-02T17:55:51.064431Z"
    }
   },
   "outputs": [
    {
     "name": "stdout",
     "output_type": "stream",
     "text": [
      "True\n",
      "43032\n"
     ]
    }
   ],
   "source": [
    "print(index.is_trained)\n",
    "print(index.ntotal)"
   ]
  },
  {
   "cell_type": "markdown",
   "metadata": {},
   "source": [
    "## Train dataset"
   ]
  },
  {
   "cell_type": "code",
   "execution_count": 72,
   "metadata": {
    "ExecuteTime": {
     "end_time": "2019-09-02T17:55:51.893554Z",
     "start_time": "2019-09-02T17:55:51.344178Z"
    }
   },
   "outputs": [
    {
     "name": "stdout",
     "output_type": "stream",
     "text": [
      "[[601 601 601 601 601]\n",
      " [495 495 495 495 495]\n",
      " [473 473 473 473 473]\n",
      " [887 887 887 887 887]\n",
      " [902 902 902 902 902]]\n",
      "[[601]\n",
      " [495]\n",
      " [473]\n",
      " [887]\n",
      " [902]]\n",
      "[[1.         0.9835036  0.9827794  0.98229086 0.980168  ]\n",
      " [1.         0.9931759  0.99197114 0.99090976 0.99063003]\n",
      " [1.0000001  0.9991114  0.99902153 0.99899423 0.9987855 ]\n",
      " [1.0000002  0.9995822  0.9993615  0.99899846 0.9986292 ]\n",
      " [0.9999999  0.99868685 0.9977244  0.9971129  0.99709225]]\n"
     ]
    }
   ],
   "source": [
    "## search\n",
    "k = 5 # we want to see 5 nearest neighbors\n",
    "D_train, I_train = index.search(xb, k) # sanity check\n",
    "print(I_train[:5])\n",
    "print(yb[:5].reshape((5,1)))\n",
    "print(D_train[:5])"
   ]
  },
  {
   "cell_type": "code",
   "execution_count": 73,
   "metadata": {
    "ExecuteTime": {
     "end_time": "2019-09-02T17:55:52.153743Z",
     "start_time": "2019-09-02T17:55:52.135870Z"
    }
   },
   "outputs": [
    {
     "data": {
      "text/plain": [
       "(1098, 1098)"
      ]
     },
     "execution_count": 73,
     "metadata": {},
     "output_type": "execute_result"
    }
   ],
   "source": [
    "yb.max(), I_train.max()"
   ]
  },
  {
   "cell_type": "markdown",
   "metadata": {},
   "source": [
    "### Train accuracy"
   ]
  },
  {
   "cell_type": "code",
   "execution_count": 74,
   "metadata": {
    "ExecuteTime": {
     "end_time": "2019-09-02T17:55:53.537465Z",
     "start_time": "2019-09-02T17:55:53.533357Z"
    }
   },
   "outputs": [
    {
     "data": {
      "text/plain": [
       "((43032,), (43032,))"
      ]
     },
     "execution_count": 74,
     "metadata": {},
     "output_type": "execute_result"
    }
   ],
   "source": [
    "I_train[:,0].shape, yb.shape"
   ]
  },
  {
   "cell_type": "code",
   "execution_count": 75,
   "metadata": {
    "ExecuteTime": {
     "end_time": "2019-09-02T17:55:53.912070Z",
     "start_time": "2019-09-02T17:55:53.907289Z"
    }
   },
   "outputs": [
    {
     "data": {
      "text/plain": [
       "1.0"
      ]
     },
     "execution_count": 75,
     "metadata": {},
     "output_type": "execute_result"
    }
   ],
   "source": [
    "# Accuracy\n",
    "np.equal(I_train[:,0], yb).sum()/len(yb)"
   ]
  },
  {
   "cell_type": "code",
   "execution_count": 76,
   "metadata": {
    "ExecuteTime": {
     "end_time": "2019-09-02T17:55:54.307379Z",
     "start_time": "2019-09-02T17:55:54.304458Z"
    }
   },
   "outputs": [
    {
     "data": {
      "text/plain": [
       "(array([ 601,  495,  473,  887,  902, 1017,  457,  867,  149, 1044]),\n",
       " array([ 601,  495,  473,  887,  902, 1017,  457,  867,  149, 1044]))"
      ]
     },
     "execution_count": 76,
     "metadata": {},
     "output_type": "execute_result"
    }
   ],
   "source": [
    "I_train[:10,0], yb[:10]"
   ]
  },
  {
   "cell_type": "code",
   "execution_count": 77,
   "metadata": {
    "ExecuteTime": {
     "end_time": "2019-09-02T17:55:54.818608Z",
     "start_time": "2019-09-02T17:55:54.813669Z"
    }
   },
   "outputs": [
    {
     "data": {
      "text/plain": [
       "(array([ 100,  733,  245,   41,  723,  837,  874, 1043,  781,  580]),\n",
       " array([ 100,  733,  245,   41,  723,  837,  874, 1043,  781,  580]))"
      ]
     },
     "execution_count": 77,
     "metadata": {},
     "output_type": "execute_result"
    }
   ],
   "source": [
    "I_train[-10:,0], yb[-10:]"
   ]
  },
  {
   "cell_type": "markdown",
   "metadata": {},
   "source": [
    "### Train confusion matrix"
   ]
  },
  {
   "cell_type": "code",
   "execution_count": 78,
   "metadata": {
    "ExecuteTime": {
     "end_time": "2019-09-02T17:55:55.755508Z",
     "start_time": "2019-09-02T17:55:55.753174Z"
    }
   },
   "outputs": [],
   "source": [
    "#cm = confusion_matrix(I_train[:,0], yb)"
   ]
  },
  {
   "cell_type": "code",
   "execution_count": 79,
   "metadata": {
    "ExecuteTime": {
     "end_time": "2019-09-02T17:55:56.022767Z",
     "start_time": "2019-09-02T17:55:56.020936Z"
    },
    "scrolled": false
   },
   "outputs": [],
   "source": [
    "#fig, ax = plt.subplots(figsize=(15,15))\n",
    "#ax.matshow(cm, cmap='hot')"
   ]
  },
  {
   "cell_type": "markdown",
   "metadata": {},
   "source": [
    "## Valid dataset"
   ]
  },
  {
   "cell_type": "code",
   "execution_count": 80,
   "metadata": {
    "ExecuteTime": {
     "end_time": "2019-09-02T17:55:56.928140Z",
     "start_time": "2019-09-02T17:55:56.924662Z"
    }
   },
   "outputs": [
    {
     "data": {
      "text/plain": [
       "177.35521"
      ]
     },
     "execution_count": 80,
     "metadata": {},
     "output_type": "execute_result"
    }
   ],
   "source": [
    "xq.max()"
   ]
  },
  {
   "cell_type": "code",
   "execution_count": 81,
   "metadata": {
    "ExecuteTime": {
     "end_time": "2019-09-02T17:55:57.506075Z",
     "start_time": "2019-09-02T17:55:57.495547Z"
    }
   },
   "outputs": [],
   "source": [
    "faiss.normalize_L2(xq)"
   ]
  },
  {
   "cell_type": "code",
   "execution_count": 82,
   "metadata": {
    "ExecuteTime": {
     "end_time": "2019-09-02T17:55:58.178444Z",
     "start_time": "2019-09-02T17:55:58.174476Z"
    }
   },
   "outputs": [
    {
     "data": {
      "text/plain": [
       "0.18986821"
      ]
     },
     "execution_count": 82,
     "metadata": {},
     "output_type": "execute_result"
    }
   ],
   "source": [
    "xq.max()"
   ]
  },
  {
   "cell_type": "code",
   "execution_count": 83,
   "metadata": {
    "ExecuteTime": {
     "end_time": "2019-09-02T17:55:58.678180Z",
     "start_time": "2019-09-02T17:55:58.621553Z"
    }
   },
   "outputs": [],
   "source": [
    "D_valid, I_valid = index.search(xq, k) # actual search"
   ]
  },
  {
   "cell_type": "code",
   "execution_count": 84,
   "metadata": {
    "ExecuteTime": {
     "end_time": "2019-09-02T17:55:58.924054Z",
     "start_time": "2019-09-02T17:55:58.921594Z"
    }
   },
   "outputs": [
    {
     "data": {
      "text/plain": [
       "((3866, 512), (3866,))"
      ]
     },
     "execution_count": 84,
     "metadata": {},
     "output_type": "execute_result"
    }
   ],
   "source": [
    "xq.shape, yq.shape"
   ]
  },
  {
   "cell_type": "code",
   "execution_count": 85,
   "metadata": {
    "ExecuteTime": {
     "end_time": "2019-09-02T17:55:59.170034Z",
     "start_time": "2019-09-02T17:55:59.166234Z"
    }
   },
   "outputs": [
    {
     "data": {
      "text/plain": [
       "((3866, 5), (3866, 5))"
      ]
     },
     "execution_count": 85,
     "metadata": {},
     "output_type": "execute_result"
    }
   ],
   "source": [
    "I_valid.shape, D_valid.shape"
   ]
  },
  {
   "cell_type": "code",
   "execution_count": 86,
   "metadata": {
    "ExecuteTime": {
     "end_time": "2019-09-02T17:55:59.533830Z",
     "start_time": "2019-09-02T17:55:59.530713Z"
    }
   },
   "outputs": [
    {
     "name": "stdout",
     "output_type": "stream",
     "text": [
      "[[ 423  423  423  423  423]\n",
      " [ 844  844  844  844  844]\n",
      " [ 315  315  315  315  315]\n",
      " [ 383  383  383  383  383]\n",
      " [1017 1017 1017 1017 1017]]\n",
      "[[ 423]\n",
      " [ 844]\n",
      " [ 315]\n",
      " [ 383]\n",
      " [1017]]\n",
      "[[0.9651239  0.96456116 0.9577879  0.9541413  0.95166576]\n",
      " [0.82083213 0.8151076  0.81503195 0.80944073 0.80909705]\n",
      " [0.996237   0.9946344  0.99435997 0.99388695 0.9937593 ]\n",
      " [0.69589555 0.66754836 0.657987   0.6503139  0.5999608 ]\n",
      " [0.9958776  0.99585927 0.9956485  0.99557704 0.9955683 ]]\n"
     ]
    }
   ],
   "source": [
    "print(I_valid[:5]) # neighbors of the 5 first queries\n",
    "print(yq[:5].reshape((5,1)))\n",
    "print(D_valid[:5])"
   ]
  },
  {
   "cell_type": "code",
   "execution_count": 87,
   "metadata": {
    "ExecuteTime": {
     "end_time": "2019-09-02T17:56:08.873660Z",
     "start_time": "2019-09-02T17:56:08.870493Z"
    }
   },
   "outputs": [
    {
     "name": "stdout",
     "output_type": "stream",
     "text": [
      "[[428 428 428 428 428]\n",
      " [269 269 269 269 269]\n",
      " [383 383 383 383 383]\n",
      " [182 182 182 182 182]\n",
      " [334 334 334 334 334]]\n",
      "[[ 428]\n",
      " [1063]\n",
      " [ 383]\n",
      " [ 182]\n",
      " [ 334]]\n",
      "[[0.9904431  0.9897543  0.98925257 0.98905104 0.9888605 ]\n",
      " [0.6965127  0.6685593  0.65593624 0.64689094 0.64391494]\n",
      " [0.78546035 0.7519771  0.7241651  0.6944892  0.6887586 ]\n",
      " [0.8264433  0.8249481  0.7862728  0.76829356 0.7574538 ]\n",
      " [0.99058104 0.98995066 0.9885763  0.9882014  0.9879103 ]]\n"
     ]
    }
   ],
   "source": [
    "print(I_valid[-5:]) # neighbors of the 5 last queries\n",
    "print(yq[-5:].reshape((5,1)))\n",
    "print(D_valid[-5:])"
   ]
  },
  {
   "cell_type": "code",
   "execution_count": 88,
   "metadata": {
    "ExecuteTime": {
     "end_time": "2019-09-02T17:56:15.836270Z",
     "start_time": "2019-09-02T17:56:15.833699Z"
    }
   },
   "outputs": [],
   "source": [
    "np.save('pred/preds_valid_pg'+str(pg)+'.npy', I_valid)"
   ]
  },
  {
   "cell_type": "markdown",
   "metadata": {},
   "source": [
    "### Valid accuracy"
   ]
  },
  {
   "cell_type": "code",
   "execution_count": 89,
   "metadata": {
    "ExecuteTime": {
     "end_time": "2019-09-02T17:56:18.986287Z",
     "start_time": "2019-09-02T17:56:18.983535Z"
    }
   },
   "outputs": [
    {
     "data": {
      "text/plain": [
       "array([423, 844, 315, ..., 383, 182, 334])"
      ]
     },
     "execution_count": 89,
     "metadata": {},
     "output_type": "execute_result"
    }
   ],
   "source": [
    "I_valid[:,0]"
   ]
  },
  {
   "cell_type": "code",
   "execution_count": 90,
   "metadata": {
    "ExecuteTime": {
     "end_time": "2019-09-02T17:56:19.251285Z",
     "start_time": "2019-09-02T17:56:19.248354Z"
    }
   },
   "outputs": [
    {
     "data": {
      "text/plain": [
       "array([423, 844, 315, ..., 383, 182, 334])"
      ]
     },
     "execution_count": 90,
     "metadata": {},
     "output_type": "execute_result"
    }
   ],
   "source": [
    "yq"
   ]
  },
  {
   "cell_type": "code",
   "execution_count": 91,
   "metadata": {
    "ExecuteTime": {
     "end_time": "2019-09-02T17:56:19.576515Z",
     "start_time": "2019-09-02T17:56:19.573978Z"
    }
   },
   "outputs": [
    {
     "data": {
      "text/plain": [
       "2474"
      ]
     },
     "execution_count": 91,
     "metadata": {},
     "output_type": "execute_result"
    }
   ],
   "source": [
    "# Correct elements\n",
    "np.equal(I_valid[:,0], yq).sum()"
   ]
  },
  {
   "cell_type": "code",
   "execution_count": 92,
   "metadata": {
    "ExecuteTime": {
     "end_time": "2019-09-02T17:56:20.181621Z",
     "start_time": "2019-09-02T17:56:20.178906Z"
    }
   },
   "outputs": [
    {
     "data": {
      "text/plain": [
       "0.6399379203310915"
      ]
     },
     "execution_count": 92,
     "metadata": {},
     "output_type": "execute_result"
    }
   ],
   "source": [
    "# Accuracy\n",
    "np.equal(I_valid[:,0], yq).sum()/len(yq)"
   ]
  },
  {
   "cell_type": "code",
   "execution_count": 93,
   "metadata": {
    "ExecuteTime": {
     "end_time": "2019-09-02T17:56:21.068518Z",
     "start_time": "2019-09-02T17:56:21.065306Z"
    }
   },
   "outputs": [],
   "source": [
    "valid_correct = np.equal(I_valid[:,0], yq)"
   ]
  },
  {
   "cell_type": "code",
   "execution_count": 94,
   "metadata": {
    "ExecuteTime": {
     "end_time": "2019-09-02T17:56:21.883169Z",
     "start_time": "2019-09-02T17:56:21.880676Z"
    }
   },
   "outputs": [
    {
     "data": {
      "text/plain": [
       "array([ True,  True,  True, ...,  True,  True,  True])"
      ]
     },
     "execution_count": 94,
     "metadata": {},
     "output_type": "execute_result"
    }
   ],
   "source": [
    "valid_correct"
   ]
  },
  {
   "cell_type": "code",
   "execution_count": 95,
   "metadata": {
    "ExecuteTime": {
     "end_time": "2019-09-02T17:56:22.520303Z",
     "start_time": "2019-09-02T17:56:22.517014Z"
    }
   },
   "outputs": [],
   "source": [
    "np.save('pred/preds_valid_correct_pg'+str(pg)+'.npy', valid_correct)"
   ]
  },
  {
   "cell_type": "markdown",
   "metadata": {},
   "source": [
    "### Valid confusion matrix"
   ]
  },
  {
   "cell_type": "code",
   "execution_count": 96,
   "metadata": {
    "ExecuteTime": {
     "end_time": "2019-09-02T17:56:24.218903Z",
     "start_time": "2019-09-02T17:56:24.204619Z"
    }
   },
   "outputs": [],
   "source": [
    "cm = confusion_matrix(I_valid[:,0], yq)"
   ]
  },
  {
   "cell_type": "code",
   "execution_count": 97,
   "metadata": {
    "ExecuteTime": {
     "end_time": "2019-09-02T17:56:25.170153Z",
     "start_time": "2019-09-02T17:56:24.828497Z"
    },
    "scrolled": false
   },
   "outputs": [
    {
     "data": {
      "text/plain": [
       "<matplotlib.image.AxesImage at 0x7f3e847e75f8>"
      ]
     },
     "execution_count": 97,
     "metadata": {},
     "output_type": "execute_result"
    },
    {
     "data": {
      "image/png": "[encoded data removed]",
      "text/plain": [
       "<Figure size 1080x1080 with 1 Axes>"
      ]
     },
     "metadata": {
      "needs_background": "light"
     },
     "output_type": "display_data"
    }
   ],
   "source": [
    "fig, ax = plt.subplots(figsize=(15,15))\n",
    "ax.matshow(cm, cmap='hot')"
   ]
  },
  {
   "cell_type": "markdown",
   "metadata": {
    "heading_collapsed": true
   },
   "source": [
    "#### Work in progress"
   ]
  },
  {
   "cell_type": "code",
   "execution_count": 41,
   "metadata": {
    "ExecuteTime": {
     "end_time": "2019-08-25T19:39:42.364623Z",
     "start_time": "2019-08-25T19:39:42.359993Z"
    },
    "hidden": true
   },
   "outputs": [
    {
     "data": {
      "text/plain": [
       "(1108, 1108)"
      ]
     },
     "execution_count": 41,
     "metadata": {},
     "output_type": "execute_result"
    }
   ],
   "source": [
    "cm.shape"
   ]
  },
  {
   "cell_type": "code",
   "execution_count": 42,
   "metadata": {
    "ExecuteTime": {
     "end_time": "2019-08-25T19:39:42.798777Z",
     "start_time": "2019-08-25T19:39:42.793301Z"
    },
    "hidden": true
   },
   "outputs": [
    {
     "data": {
      "text/plain": [
       "array([[ True, False, False, ..., False, False, False],\n",
       "       [False,  True, False, ..., False, False, False],\n",
       "       [False, False,  True, ..., False, False, False],\n",
       "       ...,\n",
       "       [False, False, False, ...,  True, False, False],\n",
       "       [False, False, False, ..., False,  True, False],\n",
       "       [False, False, False, ..., False, False,  True]])"
      ]
     },
     "execution_count": 42,
     "metadata": {},
     "output_type": "execute_result"
    }
   ],
   "source": [
    "np.eye(1108, dtype=bool)"
   ]
  },
  {
   "cell_type": "code",
   "execution_count": 43,
   "metadata": {
    "ExecuteTime": {
     "end_time": "2019-08-25T19:39:43.200724Z",
     "start_time": "2019-08-25T19:39:43.195043Z"
    },
    "hidden": true
   },
   "outputs": [
    {
     "data": {
      "text/plain": [
       "9690"
      ]
     },
     "execution_count": 43,
     "metadata": {},
     "output_type": "execute_result"
    }
   ],
   "source": [
    "cm[np.eye(1108, dtype=bool)].sum()"
   ]
  },
  {
   "cell_type": "code",
   "execution_count": 44,
   "metadata": {
    "ExecuteTime": {
     "end_time": "2019-08-25T19:39:43.598955Z",
     "start_time": "2019-08-25T19:39:43.590928Z"
    },
    "hidden": true
   },
   "outputs": [
    {
     "data": {
      "text/plain": [
       "5786"
      ]
     },
     "execution_count": 44,
     "metadata": {},
     "output_type": "execute_result"
    }
   ],
   "source": [
    "cm[~np.eye(1108, dtype=bool)].sum()"
   ]
  },
  {
   "cell_type": "code",
   "execution_count": 45,
   "metadata": {
    "ExecuteTime": {
     "end_time": "2019-08-25T19:39:44.004951Z",
     "start_time": "2019-08-25T19:39:43.996303Z"
    },
    "hidden": true
   },
   "outputs": [
    {
     "data": {
      "text/plain": [
       "0.6261307831481003"
      ]
     },
     "execution_count": 45,
     "metadata": {},
     "output_type": "execute_result"
    }
   ],
   "source": [
    "cm[np.eye(1108, dtype=bool)].sum()/(cm[~np.eye(1108, dtype=bool)].sum() + cm[np.eye(1108, dtype=bool)].sum())"
   ]
  },
  {
   "cell_type": "code",
   "execution_count": 46,
   "metadata": {
    "ExecuteTime": {
     "end_time": "2019-08-25T19:39:44.633835Z",
     "start_time": "2019-08-25T19:39:44.628083Z"
    },
    "hidden": true
   },
   "outputs": [
    {
     "data": {
      "text/plain": [
       "array([[False,  True,  True, ...,  True,  True,  True],\n",
       "       [ True, False,  True, ...,  True,  True,  True],\n",
       "       [ True,  True, False, ...,  True,  True,  True],\n",
       "       ...,\n",
       "       [ True,  True,  True, ..., False,  True,  True],\n",
       "       [ True,  True,  True, ...,  True, False,  True],\n",
       "       [ True,  True,  True, ...,  True,  True, False]])"
      ]
     },
     "execution_count": 46,
     "metadata": {},
     "output_type": "execute_result"
    }
   ],
   "source": [
    "~np.eye(1108, dtype=bool)"
   ]
  },
  {
   "cell_type": "code",
   "execution_count": 47,
   "metadata": {
    "ExecuteTime": {
     "end_time": "2019-07-26T04:09:40.311770Z",
     "start_time": "2019-07-26T04:09:40.305193Z"
    },
    "hidden": true
   },
   "outputs": [
    {
     "data": {
      "text/plain": [
       "array([0, 0, 0, ..., 0, 0, 0])"
      ]
     },
     "execution_count": 47,
     "metadata": {},
     "output_type": "execute_result"
    }
   ],
   "source": [
    "cm[~np.eye(1108, dtype=bool)]"
   ]
  },
  {
   "cell_type": "code",
   "execution_count": 48,
   "metadata": {
    "ExecuteTime": {
     "end_time": "2019-07-26T04:09:40.973188Z",
     "start_time": "2019-07-26T04:09:40.958109Z"
    },
    "hidden": true
   },
   "outputs": [
    {
     "data": {
      "text/plain": [
       "array([[-0.,  1.,  1., ...,  1.,  1.,  1.],\n",
       "       [ 1., -0.,  1., ...,  1.,  1.,  1.],\n",
       "       [ 1.,  1., -0., ...,  1.,  1.,  1.],\n",
       "       ...,\n",
       "       [ 1.,  1.,  1., ..., -0.,  1.,  1.],\n",
       "       [ 1.,  1.,  1., ...,  1., -0.,  1.],\n",
       "       [ 1.,  1.,  1., ...,  1.,  1., -0.]])"
      ]
     },
     "execution_count": 48,
     "metadata": {},
     "output_type": "execute_result"
    }
   ],
   "source": [
    "-(np.eye(1108)-1)"
   ]
  },
  {
   "cell_type": "code",
   "execution_count": 49,
   "metadata": {
    "ExecuteTime": {
     "end_time": "2019-07-26T04:09:41.568051Z",
     "start_time": "2019-07-26T04:09:41.557245Z"
    },
    "hidden": true
   },
   "outputs": [
    {
     "data": {
      "text/plain": [
       "array([[-0.,  0.,  0., ...,  0.,  0.,  0.],\n",
       "       [ 0., -0.,  0., ...,  0.,  0.,  0.],\n",
       "       [ 0.,  0., -0., ...,  0.,  0.,  0.],\n",
       "       ...,\n",
       "       [ 0.,  0.,  0., ..., -0.,  0.,  0.],\n",
       "       [ 0.,  0.,  0., ...,  0., -0.,  0.],\n",
       "       [ 0.,  0.,  0., ...,  0.,  0., -0.]])"
      ]
     },
     "execution_count": 49,
     "metadata": {},
     "output_type": "execute_result"
    }
   ],
   "source": [
    "cm * -(np.eye(1108)-1)"
   ]
  },
  {
   "cell_type": "code",
   "execution_count": 50,
   "metadata": {
    "ExecuteTime": {
     "end_time": "2019-07-26T04:09:43.899389Z",
     "start_time": "2019-07-26T04:09:43.891223Z"
    },
    "hidden": true
   },
   "outputs": [],
   "source": [
    "cm_wodia = (cm * -(np.eye(1108)-1))"
   ]
  },
  {
   "cell_type": "code",
   "execution_count": 51,
   "metadata": {
    "ExecuteTime": {
     "end_time": "2019-07-26T04:09:44.439218Z",
     "start_time": "2019-07-26T04:09:44.435213Z"
    },
    "hidden": true
   },
   "outputs": [
    {
     "data": {
      "text/plain": [
       "(1108, 1108)"
      ]
     },
     "execution_count": 51,
     "metadata": {},
     "output_type": "execute_result"
    }
   ],
   "source": [
    "cm_wodia.shape"
   ]
  },
  {
   "cell_type": "code",
   "execution_count": 52,
   "metadata": {
    "ExecuteTime": {
     "end_time": "2019-07-26T04:09:44.905147Z",
     "start_time": "2019-07-26T04:09:44.900327Z"
    },
    "hidden": true
   },
   "outputs": [
    {
     "data": {
      "text/plain": [
       "array([3., 5., 4., ..., 7., 6., 5.])"
      ]
     },
     "execution_count": 52,
     "metadata": {},
     "output_type": "execute_result"
    }
   ],
   "source": [
    "cm_wodia.sum(axis=0)"
   ]
  },
  {
   "cell_type": "code",
   "execution_count": 53,
   "metadata": {
    "ExecuteTime": {
     "end_time": "2019-07-26T04:09:45.317861Z",
     "start_time": "2019-07-26T04:09:45.313579Z"
    },
    "hidden": true
   },
   "outputs": [
    {
     "data": {
      "text/plain": [
       "array([ 9.,  6.,  1., ...,  3., 10.,  4.])"
      ]
     },
     "execution_count": 53,
     "metadata": {},
     "output_type": "execute_result"
    }
   ],
   "source": [
    "cm_wodia.sum(axis=1)"
   ]
  },
  {
   "cell_type": "code",
   "execution_count": null,
   "metadata": {
    "hidden": true
   },
   "outputs": [],
   "source": []
  },
  {
   "cell_type": "code",
   "execution_count": 73,
   "metadata": {
    "ExecuteTime": {
     "end_time": "2019-07-25T20:17:32.791852Z",
     "start_time": "2019-07-25T20:17:32.784165Z"
    },
    "code_folding": [
     1
    ],
    "hidden": true
   },
   "outputs": [],
   "source": [
    "# from https://scikit-learn.org/stable/auto_examples/model_selection/plot_confusion_matrix.html#sphx-glr-auto-examples-model-selection-plot-confusion-matrix-py\n",
    "#def plot_confusion_matrix(y_true, y_pred, classes,\n",
    "                          normalize=False,\n",
    "                          title=None,\n",
    "                          cmap=plt.cm.Blues):\n",
    "    \"\"\"\n",
    "    This function prints and plots the confusion matrix.\n",
    "    Normalization can be applied by setting `normalize=True`.\n",
    "    \"\"\"\n",
    "    if not title:\n",
    "        if normalize:\n",
    "            title = 'Normalized confusion matrix'\n",
    "        else:\n",
    "            title = 'Confusion matrix, without normalization'\n",
    "\n",
    "    # Compute confusion matrix\n",
    "    cm = confusion_matrix(y_true, y_pred)\n",
    "    # Only use the labels that appear in the data\n",
    "    classes = classes[unique_labels(y_true, y_pred)]\n",
    "    if normalize:\n",
    "        cm = cm.astype('float') / cm.sum(axis=1)[:, np.newaxis]\n",
    "        print(\"Normalized confusion matrix\")\n",
    "    else:\n",
    "        print('Confusion matrix, without normalization')\n",
    "\n",
    "    print(cm)\n",
    "\n",
    "    fig, ax = plt.subplots()\n",
    "    im = ax.imshow(cm, interpolation='nearest', cmap=cmap)\n",
    "    ax.figure.colorbar(im, ax=ax)\n",
    "    # We want to show all ticks...\n",
    "    ax.set(xticks=np.arange(cm.shape[1]),\n",
    "           yticks=np.arange(cm.shape[0]),\n",
    "           # ... and label them with the respective list entries\n",
    "           xticklabels=classes, yticklabels=classes,\n",
    "           title=title,\n",
    "           ylabel='True label',\n",
    "           xlabel='Predicted label')\n",
    "\n",
    "    # Rotate the tick labels and set their alignment.\n",
    "    plt.setp(ax.get_xticklabels(), rotation=45, ha=\"right\",\n",
    "             rotation_mode=\"anchor\")\n",
    "\n",
    "    # Loop over data dimensions and create text annotations.\n",
    "    fmt = '.2f' if normalize else 'd'\n",
    "    thresh = cm.max() / 2.\n",
    "    for i in range(cm.shape[0]):\n",
    "        for j in range(cm.shape[1]):\n",
    "            ax.text(j, i, format(cm[i, j], fmt),\n",
    "                    ha=\"center\", va=\"center\",\n",
    "                    color=\"white\" if cm[i, j] > thresh else \"black\")\n",
    "    fig.tight_layout()\n",
    "    return ax"
   ]
  },
  {
   "cell_type": "code",
   "execution_count": null,
   "metadata": {
    "ExecuteTime": {
     "end_time": "2019-07-25T20:18:51.239972Z",
     "start_time": "2019-07-25T20:18:06.234817Z"
    },
    "hidden": true
   },
   "outputs": [],
   "source": [
    "# Plot non-normalized confusion matrix\n",
    "plot_confusion_matrix(I_test[:,0], yq, classes=np.unique(yq),\n",
    "                      title='Confusion matrix, without normalization')\n",
    "plt.show()"
   ]
  },
  {
   "cell_type": "code",
   "execution_count": null,
   "metadata": {
    "ExecuteTime": {
     "end_time": "2019-07-25T20:17:56.789089Z",
     "start_time": "2019-07-25T20:17:35.927Z"
    },
    "hidden": true
   },
   "outputs": [],
   "source": [
    "# Plot normalized confusion matrix\n",
    "plot_confusion_matrix(I_test[:,0], yq, #classes=np.unique(yq), normalize=True,\n",
    "                      title='Normalized confusion matrix')\n",
    "plt.show()"
   ]
  },
  {
   "cell_type": "markdown",
   "metadata": {},
   "source": [
    "## Test dataset"
   ]
  },
  {
   "cell_type": "code",
   "execution_count": 98,
   "metadata": {
    "ExecuteTime": {
     "end_time": "2019-09-02T17:56:38.645750Z",
     "start_time": "2019-09-02T17:56:38.638276Z"
    }
   },
   "outputs": [],
   "source": [
    "xq_test = np.load('pred/feats_test_pg'+str(pg)+'.npy')"
   ]
  },
  {
   "cell_type": "code",
   "execution_count": 99,
   "metadata": {
    "ExecuteTime": {
     "end_time": "2019-09-02T17:56:38.995336Z",
     "start_time": "2019-09-02T17:56:38.985909Z"
    }
   },
   "outputs": [
    {
     "data": {
      "text/plain": [
       "150.27078"
      ]
     },
     "execution_count": 99,
     "metadata": {},
     "output_type": "execute_result"
    }
   ],
   "source": [
    "xq_test.max()"
   ]
  },
  {
   "cell_type": "code",
   "execution_count": 100,
   "metadata": {
    "ExecuteTime": {
     "end_time": "2019-09-02T17:56:39.497602Z",
     "start_time": "2019-09-02T17:56:39.491733Z"
    }
   },
   "outputs": [],
   "source": [
    "faiss.normalize_L2(xq_test)"
   ]
  },
  {
   "cell_type": "code",
   "execution_count": 101,
   "metadata": {
    "ExecuteTime": {
     "end_time": "2019-09-02T17:56:39.865881Z",
     "start_time": "2019-09-02T17:56:39.853899Z"
    }
   },
   "outputs": [
    {
     "data": {
      "text/plain": [
       "0.18782754"
      ]
     },
     "execution_count": 101,
     "metadata": {},
     "output_type": "execute_result"
    }
   ],
   "source": [
    "xq_test.max()"
   ]
  },
  {
   "cell_type": "code",
   "execution_count": 102,
   "metadata": {
    "ExecuteTime": {
     "end_time": "2019-09-02T17:56:40.481793Z",
     "start_time": "2019-09-02T17:56:40.428788Z"
    }
   },
   "outputs": [],
   "source": [
    "D_test, I_test = index.search(xq_test, k) # actual search"
   ]
  },
  {
   "cell_type": "code",
   "execution_count": 103,
   "metadata": {
    "ExecuteTime": {
     "end_time": "2019-09-02T17:56:40.967927Z",
     "start_time": "2019-09-02T17:56:40.958671Z"
    }
   },
   "outputs": [
    {
     "data": {
      "text/plain": [
       "((9942, 512), (9942, 5), (9942, 5))"
      ]
     },
     "execution_count": 103,
     "metadata": {},
     "output_type": "execute_result"
    }
   ],
   "source": [
    "xq_test.shape, I_test.shape, D_test.shape"
   ]
  },
  {
   "cell_type": "code",
   "execution_count": 104,
   "metadata": {
    "ExecuteTime": {
     "end_time": "2019-09-02T17:56:41.291902Z",
     "start_time": "2019-09-02T17:56:41.284742Z"
    }
   },
   "outputs": [
    {
     "name": "stdout",
     "output_type": "stream",
     "text": [
      "[[1098 1098 1098 1098 1098]\n",
      " [ 327  327  327  327  327]\n",
      " [ 789   -1   -1   -1   -1]\n",
      " [ 169  169  169  169  169]\n",
      " [ 189  189  189  189  189]]\n",
      "[[ 9.4882298e-01  9.4388199e-01  9.3033653e-01  9.2862606e-01\n",
      "   9.2855859e-01]\n",
      " [ 7.5373971e-01  7.5351256e-01  7.5155526e-01  7.4962169e-01\n",
      "   7.4866110e-01]\n",
      " [ 5.1525921e-01 -3.4028235e+38 -3.4028235e+38 -3.4028235e+38\n",
      "  -3.4028235e+38]\n",
      " [ 9.5086586e-01  9.4241190e-01  9.3651819e-01  9.3523097e-01\n",
      "   9.3505520e-01]\n",
      " [ 9.3431777e-01  9.2937136e-01  9.2853355e-01  9.2434609e-01\n",
      "   9.2334962e-01]]\n"
     ]
    }
   ],
   "source": [
    "print(I_test[:5]) # neighbors of the 5 first queries\n",
    "print(D_test[:5])"
   ]
  },
  {
   "cell_type": "code",
   "execution_count": 105,
   "metadata": {
    "ExecuteTime": {
     "end_time": "2019-09-02T17:56:46.977782Z",
     "start_time": "2019-09-02T17:56:46.972671Z"
    }
   },
   "outputs": [
    {
     "name": "stdout",
     "output_type": "stream",
     "text": [
      "[[721 721 721 721 721]\n",
      " [232 232 232 232 232]\n",
      " [951 951 951 951 951]\n",
      " [100 779  11 779 779]\n",
      " [813 813 813 813 813]]\n",
      "[[0.6419461  0.6340849  0.6334372  0.6320419  0.6312835 ]\n",
      " [0.4545082  0.43888897 0.4335062  0.4331058  0.43204352]\n",
      " [0.5828091  0.49525142 0.49361253 0.47268882 0.4705543 ]\n",
      " [0.6579174  0.6412853  0.62168366 0.57381386 0.4561351 ]\n",
      " [0.7793168  0.7635528  0.74149626 0.73847646 0.736199  ]]\n"
     ]
    }
   ],
   "source": [
    "print(I_test[-5:]) # neighbors of the 5 last queries\n",
    "print(D_test[-5:])"
   ]
  },
  {
   "cell_type": "code",
   "execution_count": 106,
   "metadata": {
    "ExecuteTime": {
     "end_time": "2019-09-02T17:56:49.657324Z",
     "start_time": "2019-09-02T17:56:49.652086Z"
    }
   },
   "outputs": [
    {
     "data": {
      "text/plain": [
       "array([789,  -1,  -1,  -1,  -1])"
      ]
     },
     "execution_count": 106,
     "metadata": {},
     "output_type": "execute_result"
    }
   ],
   "source": [
    "I_test[2]"
   ]
  },
  {
   "cell_type": "code",
   "execution_count": 107,
   "metadata": {
    "ExecuteTime": {
     "end_time": "2019-09-02T17:56:50.178437Z",
     "start_time": "2019-09-02T17:56:50.172867Z"
    }
   },
   "outputs": [
    {
     "data": {
      "text/plain": [
       "(array([ -1, 789]), array([4, 1]))"
      ]
     },
     "execution_count": 107,
     "metadata": {},
     "output_type": "execute_result"
    }
   ],
   "source": [
    "np.unique(I_test[2], return_counts=True)"
   ]
  },
  {
   "cell_type": "code",
   "execution_count": 108,
   "metadata": {
    "ExecuteTime": {
     "end_time": "2019-09-02T17:56:50.945419Z",
     "start_time": "2019-09-02T17:56:50.939868Z"
    }
   },
   "outputs": [],
   "source": [
    "np.save('pred/preds_test_pg'+str(pg)+'_full.npy', I_test)\n",
    "np.save('pred/dist_test_pg'+str(pg)+'_full.npy', D_test)"
   ]
  },
  {
   "cell_type": "code",
   "execution_count": 109,
   "metadata": {
    "ExecuteTime": {
     "end_time": "2019-09-02T17:56:51.752929Z",
     "start_time": "2019-09-02T17:56:51.748680Z"
    }
   },
   "outputs": [],
   "source": [
    "preds_test = I_test[:,0]\n",
    "dist_test = D_test[:,0]"
   ]
  },
  {
   "cell_type": "code",
   "execution_count": 110,
   "metadata": {
    "ExecuteTime": {
     "end_time": "2019-09-02T17:56:52.252545Z",
     "start_time": "2019-09-02T17:56:52.247519Z"
    }
   },
   "outputs": [],
   "source": [
    "np.save('pred/preds_test_pg'+str(pg)+'.npy', preds_test)\n",
    "np.save('pred/dist_test_pg'+str(pg)+'.npy', dist_test)"
   ]
  },
  {
   "cell_type": "markdown",
   "metadata": {
    "heading_collapsed": true
   },
   "source": [
    "#### Get mode or most similiar if mode is 1"
   ]
  },
  {
   "cell_type": "markdown",
   "metadata": {
    "hidden": true
   },
   "source": [
    "https://docs.scipy.org/doc/scipy/reference/generated/scipy.stats.mode.html#scipy.stats.mode"
   ]
  },
  {
   "cell_type": "markdown",
   "metadata": {
    "ExecuteTime": {
     "end_time": "2019-07-28T16:42:09.215785Z",
     "start_time": "2019-07-28T16:42:09.211341Z"
    },
    "hidden": true
   },
   "source": [
    "**This seems to not increase the accuracy !!!**"
   ]
  },
  {
   "cell_type": "code",
   "execution_count": 27,
   "metadata": {
    "ExecuteTime": {
     "end_time": "2019-07-28T16:08:02.093523Z",
     "start_time": "2019-07-28T16:08:02.091682Z"
    },
    "hidden": true
   },
   "outputs": [],
   "source": [
    "from scipy import stats"
   ]
  },
  {
   "cell_type": "code",
   "execution_count": 28,
   "metadata": {
    "ExecuteTime": {
     "end_time": "2019-07-28T16:08:03.174498Z",
     "start_time": "2019-07-28T16:08:02.539011Z"
    },
    "hidden": true
   },
   "outputs": [],
   "source": [
    "# get mode and mode count\n",
    "I_test_mode = stats.mode(I_test, axis=1)"
   ]
  },
  {
   "cell_type": "code",
   "execution_count": 29,
   "metadata": {
    "ExecuteTime": {
     "end_time": "2019-07-28T16:08:03.181148Z",
     "start_time": "2019-07-28T16:08:03.175746Z"
    },
    "hidden": true
   },
   "outputs": [
    {
     "data": {
      "text/plain": [
       "((39794, 5), (39794, 1))"
      ]
     },
     "execution_count": 29,
     "metadata": {},
     "output_type": "execute_result"
    }
   ],
   "source": [
    "I_test.shape, I_test_mode[0].shape"
   ]
  },
  {
   "cell_type": "code",
   "execution_count": 30,
   "metadata": {
    "ExecuteTime": {
     "end_time": "2019-07-28T16:08:04.955615Z",
     "start_time": "2019-07-28T16:08:04.952697Z"
    },
    "hidden": true
   },
   "outputs": [
    {
     "data": {
      "text/plain": [
       "array([[ 591,  591,  587,  591,  855],\n",
       "       [ 736,  770,  387,  728,  933],\n",
       "       [ 179,  576,  191,  451, 1076],\n",
       "       [ 908,  908,  609,  256,  892],\n",
       "       [ 775,  445,  970,  387,  307]])"
      ]
     },
     "execution_count": 30,
     "metadata": {},
     "output_type": "execute_result"
    }
   ],
   "source": [
    "I_test[:5]"
   ]
  },
  {
   "cell_type": "code",
   "execution_count": 31,
   "metadata": {
    "ExecuteTime": {
     "end_time": "2019-07-28T16:08:06.417991Z",
     "start_time": "2019-07-28T16:08:06.415672Z"
    },
    "hidden": true
   },
   "outputs": [
    {
     "data": {
      "text/plain": [
       "array([[591],\n",
       "       [387],\n",
       "       [179],\n",
       "       [908],\n",
       "       [307]])"
      ]
     },
     "execution_count": 31,
     "metadata": {},
     "output_type": "execute_result"
    }
   ],
   "source": [
    "I_test_mode[0][:5]"
   ]
  },
  {
   "cell_type": "code",
   "execution_count": 32,
   "metadata": {
    "ExecuteTime": {
     "end_time": "2019-07-28T16:08:06.989601Z",
     "start_time": "2019-07-28T16:08:06.984030Z"
    },
    "hidden": true
   },
   "outputs": [
    {
     "data": {
      "text/plain": [
       "array([[3],\n",
       "       [1],\n",
       "       [1],\n",
       "       [2],\n",
       "       [1]])"
      ]
     },
     "execution_count": 32,
     "metadata": {},
     "output_type": "execute_result"
    }
   ],
   "source": [
    "I_test_mode[1][:5]"
   ]
  },
  {
   "cell_type": "code",
   "execution_count": 33,
   "metadata": {
    "ExecuteTime": {
     "end_time": "2019-07-28T16:08:10.941609Z",
     "start_time": "2019-07-28T16:08:10.939172Z"
    },
    "hidden": true
   },
   "outputs": [
    {
     "data": {
      "text/plain": [
       "array([[False],\n",
       "       [ True],\n",
       "       [ True],\n",
       "       ...,\n",
       "       [False],\n",
       "       [False],\n",
       "       [False]])"
      ]
     },
     "execution_count": 33,
     "metadata": {},
     "output_type": "execute_result"
    }
   ],
   "source": [
    "I_test_mode[1] == 1"
   ]
  },
  {
   "cell_type": "code",
   "execution_count": 34,
   "metadata": {
    "ExecuteTime": {
     "end_time": "2019-07-28T16:08:11.560718Z",
     "start_time": "2019-07-28T16:08:11.557782Z"
    },
    "hidden": true
   },
   "outputs": [],
   "source": [
    "mode_mask = (~(I_test_mode[1] == 1)).astype('float')\n",
    "similar_mask = (I_test_mode[1] == 1).astype('float')"
   ]
  },
  {
   "cell_type": "code",
   "execution_count": 35,
   "metadata": {
    "ExecuteTime": {
     "end_time": "2019-07-28T16:08:13.490307Z",
     "start_time": "2019-07-28T16:08:13.487992Z"
    },
    "hidden": true
   },
   "outputs": [
    {
     "data": {
      "text/plain": [
       "array([[1.],\n",
       "       [0.],\n",
       "       [0.],\n",
       "       [1.],\n",
       "       [0.]])"
      ]
     },
     "execution_count": 35,
     "metadata": {},
     "output_type": "execute_result"
    }
   ],
   "source": [
    "mode_mask[:5]"
   ]
  },
  {
   "cell_type": "code",
   "execution_count": 36,
   "metadata": {
    "ExecuteTime": {
     "end_time": "2019-07-28T16:08:14.051511Z",
     "start_time": "2019-07-28T16:08:14.049005Z"
    },
    "hidden": true
   },
   "outputs": [
    {
     "data": {
      "text/plain": [
       "array([[0.],\n",
       "       [1.],\n",
       "       [1.],\n",
       "       [0.],\n",
       "       [1.]])"
      ]
     },
     "execution_count": 36,
     "metadata": {},
     "output_type": "execute_result"
    }
   ],
   "source": [
    "similar_mask[:5]"
   ]
  },
  {
   "cell_type": "code",
   "execution_count": 37,
   "metadata": {
    "ExecuteTime": {
     "end_time": "2019-07-28T16:08:15.635059Z",
     "start_time": "2019-07-28T16:08:15.630263Z"
    },
    "hidden": true
   },
   "outputs": [
    {
     "data": {
      "text/plain": [
       "array([ 591,  736,  179, ...,  108, 1074,  316])"
      ]
     },
     "execution_count": 37,
     "metadata": {},
     "output_type": "execute_result"
    }
   ],
   "source": [
    "I_test[:,0]"
   ]
  },
  {
   "cell_type": "code",
   "execution_count": 38,
   "metadata": {
    "ExecuteTime": {
     "end_time": "2019-07-28T16:08:19.689580Z",
     "start_time": "2019-07-28T16:08:19.686965Z"
    },
    "hidden": true
   },
   "outputs": [
    {
     "data": {
      "text/plain": [
       "(39794, 1)"
      ]
     },
     "execution_count": 38,
     "metadata": {},
     "output_type": "execute_result"
    }
   ],
   "source": [
    "similar_mask.shape"
   ]
  },
  {
   "cell_type": "code",
   "execution_count": 39,
   "metadata": {
    "ExecuteTime": {
     "end_time": "2019-07-28T16:08:20.307955Z",
     "start_time": "2019-07-28T16:08:20.304258Z"
    },
    "hidden": true
   },
   "outputs": [
    {
     "data": {
      "text/plain": [
       "((39794,), (39794, 1))"
      ]
     },
     "execution_count": 39,
     "metadata": {},
     "output_type": "execute_result"
    }
   ],
   "source": [
    "I_test[:,0].shape, similar_mask.shape"
   ]
  },
  {
   "cell_type": "code",
   "execution_count": 40,
   "metadata": {
    "ExecuteTime": {
     "end_time": "2019-07-28T16:08:22.873054Z",
     "start_time": "2019-07-28T16:08:22.867903Z"
    },
    "hidden": true
   },
   "outputs": [
    {
     "data": {
      "text/plain": [
       "(39794, 1)"
      ]
     },
     "execution_count": 40,
     "metadata": {},
     "output_type": "execute_result"
    }
   ],
   "source": [
    "I_test[:,0].reshape((-1,1)).shape"
   ]
  },
  {
   "cell_type": "code",
   "execution_count": 41,
   "metadata": {
    "ExecuteTime": {
     "end_time": "2019-07-28T16:08:24.887683Z",
     "start_time": "2019-07-28T16:08:24.885449Z"
    },
    "hidden": true
   },
   "outputs": [],
   "source": [
    "I_most_similar = np.multiply(I_test[:,0].reshape((-1,1)),similar_mask)"
   ]
  },
  {
   "cell_type": "code",
   "execution_count": 42,
   "metadata": {
    "ExecuteTime": {
     "end_time": "2019-07-28T16:08:25.420116Z",
     "start_time": "2019-07-28T16:08:25.415759Z"
    },
    "hidden": true
   },
   "outputs": [
    {
     "data": {
      "text/plain": [
       "array([[  0.],\n",
       "       [736.],\n",
       "       [179.],\n",
       "       [  0.],\n",
       "       [775.]])"
      ]
     },
     "execution_count": 42,
     "metadata": {},
     "output_type": "execute_result"
    }
   ],
   "source": [
    "I_most_similar[:5]"
   ]
  },
  {
   "cell_type": "code",
   "execution_count": 43,
   "metadata": {
    "ExecuteTime": {
     "end_time": "2019-07-28T16:08:27.081808Z",
     "start_time": "2019-07-28T16:08:27.078213Z"
    },
    "hidden": true
   },
   "outputs": [],
   "source": [
    "I_higher_mode = np.multiply(I_test_mode[0],mode_mask)"
   ]
  },
  {
   "cell_type": "code",
   "execution_count": 44,
   "metadata": {
    "ExecuteTime": {
     "end_time": "2019-07-28T16:08:27.450105Z",
     "start_time": "2019-07-28T16:08:27.447168Z"
    },
    "hidden": true
   },
   "outputs": [
    {
     "data": {
      "text/plain": [
       "array([[591.],\n",
       "       [  0.],\n",
       "       [  0.],\n",
       "       [908.],\n",
       "       [  0.]])"
      ]
     },
     "execution_count": 44,
     "metadata": {},
     "output_type": "execute_result"
    }
   ],
   "source": [
    "I_higher_mode[:5]"
   ]
  },
  {
   "cell_type": "code",
   "execution_count": 45,
   "metadata": {
    "ExecuteTime": {
     "end_time": "2019-07-28T16:08:28.128418Z",
     "start_time": "2019-07-28T16:08:28.126731Z"
    },
    "hidden": true
   },
   "outputs": [],
   "source": [
    "preds_similar_mode = I_most_similar + I_higher_mode"
   ]
  },
  {
   "cell_type": "code",
   "execution_count": 46,
   "metadata": {
    "ExecuteTime": {
     "end_time": "2019-07-28T16:08:29.825259Z",
     "start_time": "2019-07-28T16:08:29.820603Z"
    },
    "hidden": true
   },
   "outputs": [
    {
     "data": {
      "text/plain": [
       "array([[591.],\n",
       "       [736.],\n",
       "       [179.],\n",
       "       [908.],\n",
       "       [775.]])"
      ]
     },
     "execution_count": 46,
     "metadata": {},
     "output_type": "execute_result"
    }
   ],
   "source": [
    "preds_similar_mode[:5]"
   ]
  },
  {
   "cell_type": "code",
   "execution_count": 51,
   "metadata": {
    "ExecuteTime": {
     "end_time": "2019-07-28T16:19:46.018057Z",
     "start_time": "2019-07-28T16:19:46.014253Z"
    },
    "hidden": true
   },
   "outputs": [],
   "source": [
    "np.save('pred/preds_test_similar_mask', similar_mask)\n",
    "np.save('pred/preds_test_mode_mask', mode_mask)\n",
    "np.save('pred/preds_test_similar_mode', preds_similar_mode)"
   ]
  },
  {
   "cell_type": "code",
   "execution_count": null,
   "metadata": {
    "hidden": true
   },
   "outputs": [],
   "source": []
  }
 ],
 "metadata": {
  "kernelspec": {
   "display_name": "faiss",
   "language": "python",
   "name": "faiss"
  },
  "language_info": {
   "codemirror_mode": {
    "name": "ipython",
    "version": 3
   },
   "file_extension": ".py",
   "mimetype": "text/x-python",
   "name": "python",
   "nbconvert_exporter": "python",
   "pygments_lexer": "ipython3",
   "version": "3.7.3"
  },
  "toc": {
   "base_numbering": 1,
   "nav_menu": {},
   "number_sections": true,
   "sideBar": true,
   "skip_h1_title": false,
   "title_cell": "Table of Contents",
   "title_sidebar": "Contents",
   "toc_cell": false,
   "toc_position": {},
   "toc_section_display": true,
   "toc_window_display": true
  }
 },
 "nbformat": 4,
 "nbformat_minor": 2
}
