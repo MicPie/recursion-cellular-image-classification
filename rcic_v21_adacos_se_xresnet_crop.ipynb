{
 "cells": [
  {
   "cell_type": "markdown",
   "metadata": {},
   "source": [
    "# Imports"
   ]
  },
  {
   "cell_type": "code",
   "execution_count": 1,
   "metadata": {
    "ExecuteTime": {
     "end_time": "2019-08-08T20:28:15.462766Z",
     "start_time": "2019-08-08T20:28:15.247669Z"
    }
   },
   "outputs": [],
   "source": [
    "%reload_ext autoreload\n",
    "%autoreload 2\n",
    "%matplotlib inline"
   ]
  },
  {
   "cell_type": "code",
   "execution_count": 2,
   "metadata": {
    "ExecuteTime": {
     "end_time": "2019-08-08T20:28:16.358717Z",
     "start_time": "2019-08-08T20:28:15.484582Z"
    }
   },
   "outputs": [],
   "source": [
    "import pandas as pd\n",
    "\n",
    "from fastai.vision import *\n",
    "from fastai.vision.models.xresnet import *\n",
    "\n",
    "# for datablock API\n",
    "from fastai.vision.image import _resolve_tfms, _get_crop_target, _round_multiple, _get_resize_target, _affine_grid, _grid_sample, _affine_mult\n",
    "\n",
    "# for XResNet\n",
    "from fastai.vision.models.xresnet import act_fn, init_cnn, conv, noop, conv_layer, ResBlock, filt_sz\n"
   ]
  },
  {
   "cell_type": "code",
   "execution_count": 3,
   "metadata": {
    "ExecuteTime": {
     "end_time": "2019-08-08T20:28:16.369826Z",
     "start_time": "2019-08-08T20:28:16.359792Z"
    }
   },
   "outputs": [],
   "source": [
    "from fastai.callbacks import CSVLogger, ReduceLROnPlateauCallback, SaveModelCallback"
   ]
  },
  {
   "cell_type": "code",
   "execution_count": 4,
   "metadata": {
    "ExecuteTime": {
     "end_time": "2019-08-08T20:28:16.381945Z",
     "start_time": "2019-08-08T20:28:16.371040Z"
    }
   },
   "outputs": [],
   "source": [
    "from nb_new_data_augmentation_adacos import *"
   ]
  },
  {
   "cell_type": "code",
   "execution_count": 5,
   "metadata": {
    "ExecuteTime": {
     "end_time": "2019-08-08T20:28:16.392701Z",
     "start_time": "2019-08-08T20:28:16.382973Z"
    }
   },
   "outputs": [],
   "source": [
    "import pdb"
   ]
  },
  {
   "cell_type": "code",
   "execution_count": 6,
   "metadata": {
    "ExecuteTime": {
     "end_time": "2019-08-08T20:28:16.404488Z",
     "start_time": "2019-08-08T20:28:16.393669Z"
    }
   },
   "outputs": [
    {
     "data": {
      "text/plain": [
       "'1.0.55'"
      ]
     },
     "execution_count": 6,
     "metadata": {},
     "output_type": "execute_result"
    }
   ],
   "source": [
    "__version__"
   ]
  },
  {
   "cell_type": "markdown",
   "metadata": {},
   "source": [
    "# 6D image test"
   ]
  },
  {
   "cell_type": "code",
   "execution_count": 7,
   "metadata": {
    "ExecuteTime": {
     "end_time": "2019-08-08T20:28:16.655192Z",
     "start_time": "2019-08-08T20:28:16.633646Z"
    }
   },
   "outputs": [],
   "source": [
    "class Image6D(Image):\n",
    "    \"Support applying transforms to image data in `px`.\"\n",
    "    def __init__(self, px:Tensor):\n",
    "        self._px = px\n",
    "        self._logit_px=None\n",
    "        self._flow=None\n",
    "        self._affine_mat=None\n",
    "        self.sample_kwargs = {}\n",
    "\n",
    "    def _repr_image_format(self, format_str):\n",
    "        with BytesIO() as str_buffer:\n",
    "            #plt.imsave(str_buffer, image2np(self.px[:3]), format=format_str)\n",
    "            plt.imsave(str_buffer, \n",
    "                       np.concatenate((image2np(self.px[:3]), \n",
    "                                       image2np(self.px[3:])), axis=1),\n",
    "                       format=format_str)\n",
    "            return str_buffer.getvalue()"
   ]
  },
  {
   "cell_type": "code",
   "execution_count": 8,
   "metadata": {
    "ExecuteTime": {
     "end_time": "2019-08-08T20:28:16.863762Z",
     "start_time": "2019-08-08T20:28:16.819007Z"
    }
   },
   "outputs": [],
   "source": [
    "def open_image_6D(fn:PathOrStr, div:bool=True, convert_mode:str='L', cls:type=Image6D,\n",
    "        after_open:Callable=None)->Image:\n",
    "    \"Return `Image` object created from image in file `fn`.\"\n",
    "    with warnings.catch_warnings():\n",
    "        warnings.simplefilter(\"ignore\", UserWarning) # EXIF warning from TiffPlugin\n",
    "        \n",
    "        x = []\n",
    "        for i in range(6):\n",
    "            c = PIL.Image.open(fn+'_w'+str(i+1)+'.png').convert(convert_mode)\n",
    "            if after_open: c = after_open(c)\n",
    "            c = np.asarray(c)\n",
    "            c = torch.from_numpy(c.astype(np.float32, copy=False))\n",
    "            x.append(c)\n",
    "            \n",
    "    x = torch.stack(x)\n",
    "    if div: x.div_(255)\n",
    "    return cls(x)"
   ]
  },
  {
   "cell_type": "code",
   "execution_count": 9,
   "metadata": {
    "ExecuteTime": {
     "end_time": "2019-08-08T20:28:17.021666Z",
     "start_time": "2019-08-08T20:28:16.980188Z"
    }
   },
   "outputs": [],
   "source": [
    "#PATH_trunc = 'train/HEPG2-01/Plate1/B02_s1' # path is missing suffix \"_w1.png\"\n",
    "#open_image_6D(PATH_trunc)"
   ]
  },
  {
   "cell_type": "markdown",
   "metadata": {},
   "source": [
    "# Dataset setup"
   ]
  },
  {
   "cell_type": "code",
   "execution_count": 10,
   "metadata": {
    "ExecuteTime": {
     "end_time": "2019-08-08T20:28:17.405963Z",
     "start_time": "2019-08-08T20:28:17.390432Z"
    }
   },
   "outputs": [],
   "source": [
    "class ImageList6D(ImageList): #ImageList\n",
    "    def __init__(self, *args, convert_mode='L', after_open:Callable=None, **kwargs):\n",
    "        super().__init__(*args, **kwargs)\n",
    "        self.convert_mode,self.after_open = convert_mode,after_open\n",
    "        self.copy_new.append('convert_mode')\n",
    "        self.c,self.sizes = 6,{}\n",
    "        \n",
    "    def open(self, fn):\n",
    "        \"Open image in `fn`, subclass and overwrite for custom behavior.\"\n",
    "        return open_image_6D(fn, convert_mode=self.convert_mode, after_open=self.after_open)\n",
    "\n",
    "#    def show(self, img):\n",
    "#        #return torch.cat((img[i][:3], img[i][3:]), dim=1)\n",
    "#        show_image(img)\n",
    "    \n",
    "    # https://docs.fast.ai/tutorial.itemlist.html#Advanced-show-methods\n",
    "    def show_xys(self, xs, ys, figsize:Tuple[int,int]=(15,10), **kwargs):\n",
    "        \"Show the `xs` and `ys` on a figure of `figsize`. `kwargs` are passed to the show method.\"\n",
    "        rows = int(math.sqrt(len(xs)))\n",
    "        fig, axs = plt.subplots(rows,rows,figsize=figsize)\n",
    "        for i, ax in enumerate(axs.flatten() if rows > 1 else [axs]):\n",
    "            #xs[i].show(ax=ax, y=ys[i], **kwargs)\n",
    "            img = Image6D(torch.cat((xs[i].data[:3], xs[i].data[3:]), dim=2)) # works but not elegant?\n",
    "            #img = Image6D(xs[i]) # does not work?\n",
    "            img.show(ax=ax, y=ys[i], **kwargs)\n",
    "        plt.tight_layout()"
   ]
  },
  {
   "cell_type": "code",
   "execution_count": 11,
   "metadata": {
    "ExecuteTime": {
     "end_time": "2019-08-08T20:28:17.587294Z",
     "start_time": "2019-08-08T20:28:17.571356Z"
    }
   },
   "outputs": [],
   "source": [
    "#def show_image(img:Image, ax:plt.Axes=None, figsize:tuple=(3,3), hide_axis:bool=True, cmap:str='binary',\n",
    "#                alpha:float=None, **kwargs)->plt.Axes:\n",
    "#    \"Display `Image` in notebook.\"\n",
    "#    if ax is None: fig,ax = plt.subplots(figsize=figsize)\n",
    "#    pdb.set_trace()\n",
    "#    #ax.imshow(image2np(img.data), cmap=cmap, alpha=alpha, **kwargs)\n",
    "#    ax.imshow(np.concatenate((image2np(self.px[:3]),\n",
    "#                              image2np(self.px[3:])), axis=1),\n",
    "#              cmap=cmap, alpha=alpha, **kwargs)\n",
    "#    if hide_axis: ax.axis('off')\n",
    "#    return ax\n"
   ]
  },
  {
   "cell_type": "markdown",
   "metadata": {},
   "source": [
    "## Full dataset"
   ]
  },
  {
   "cell_type": "markdown",
   "metadata": {},
   "source": [
    "### Dataset raw files"
   ]
  },
  {
   "cell_type": "code",
   "execution_count": 12,
   "metadata": {
    "ExecuteTime": {
     "end_time": "2019-08-08T20:28:18.227207Z",
     "start_time": "2019-08-08T20:28:18.093158Z"
    }
   },
   "outputs": [],
   "source": [
    "df_train = pd.read_csv('full_train_dataset_valid-split-ex_v2_20190727.csv', index_col=0)\n",
    "df_test = pd.read_csv('full_test_dataset_v2_20190727.csv', index_col=0)"
   ]
  },
  {
   "cell_type": "code",
   "execution_count": 13,
   "metadata": {
    "ExecuteTime": {
     "end_time": "2019-08-08T20:28:18.313005Z",
     "start_time": "2019-08-08T20:28:18.294137Z"
    }
   },
   "outputs": [
    {
     "data": {
      "text/plain": [
       "(73030, 5)"
      ]
     },
     "execution_count": 13,
     "metadata": {},
     "output_type": "execute_result"
    }
   ],
   "source": [
    "df_train.shape"
   ]
  },
  {
   "cell_type": "code",
   "execution_count": 14,
   "metadata": {
    "ExecuteTime": {
     "end_time": "2019-08-08T20:28:18.530198Z",
     "start_time": "2019-08-08T20:28:18.504883Z"
    }
   },
   "outputs": [
    {
     "data": {
      "text/html": [
       "<div>\n",
       "<style scoped>\n",
       "    .dataframe tbody tr th:only-of-type {\n",
       "        vertical-align: middle;\n",
       "    }\n",
       "\n",
       "    .dataframe tbody tr th {\n",
       "        vertical-align: top;\n",
       "    }\n",
       "\n",
       "    .dataframe thead th {\n",
       "        text-align: right;\n",
       "    }\n",
       "</style>\n",
       "<table border=\"1\" class=\"dataframe\">\n",
       "  <thead>\n",
       "    <tr style=\"text-align: right;\">\n",
       "      <th></th>\n",
       "      <th>path</th>\n",
       "      <th>experiment</th>\n",
       "      <th>sirna</th>\n",
       "      <th>multi</th>\n",
       "      <th>valid</th>\n",
       "    </tr>\n",
       "  </thead>\n",
       "  <tbody>\n",
       "    <tr>\n",
       "      <th>36510</th>\n",
       "      <td>U2OS-03/Plate4/O19_s2</td>\n",
       "      <td>U2OS-03</td>\n",
       "      <td>103</td>\n",
       "      <td>U2OS-03 103</td>\n",
       "      <td>1</td>\n",
       "    </tr>\n",
       "    <tr>\n",
       "      <th>36511</th>\n",
       "      <td>U2OS-03/Plate4/O20_s2</td>\n",
       "      <td>U2OS-03</td>\n",
       "      <td>202</td>\n",
       "      <td>U2OS-03 202</td>\n",
       "      <td>1</td>\n",
       "    </tr>\n",
       "    <tr>\n",
       "      <th>36512</th>\n",
       "      <td>U2OS-03/Plate4/O21_s2</td>\n",
       "      <td>U2OS-03</td>\n",
       "      <td>824</td>\n",
       "      <td>U2OS-03 824</td>\n",
       "      <td>1</td>\n",
       "    </tr>\n",
       "    <tr>\n",
       "      <th>36513</th>\n",
       "      <td>U2OS-03/Plate4/O22_s2</td>\n",
       "      <td>U2OS-03</td>\n",
       "      <td>328</td>\n",
       "      <td>U2OS-03 328</td>\n",
       "      <td>1</td>\n",
       "    </tr>\n",
       "    <tr>\n",
       "      <th>36514</th>\n",
       "      <td>U2OS-03/Plate4/O23_s2</td>\n",
       "      <td>U2OS-03</td>\n",
       "      <td>509</td>\n",
       "      <td>U2OS-03 509</td>\n",
       "      <td>1</td>\n",
       "    </tr>\n",
       "  </tbody>\n",
       "</table>\n",
       "</div>"
      ],
      "text/plain": [
       "                        path experiment  sirna        multi  valid\n",
       "36510  U2OS-03/Plate4/O19_s2    U2OS-03    103  U2OS-03 103      1\n",
       "36511  U2OS-03/Plate4/O20_s2    U2OS-03    202  U2OS-03 202      1\n",
       "36512  U2OS-03/Plate4/O21_s2    U2OS-03    824  U2OS-03 824      1\n",
       "36513  U2OS-03/Plate4/O22_s2    U2OS-03    328  U2OS-03 328      1\n",
       "36514  U2OS-03/Plate4/O23_s2    U2OS-03    509  U2OS-03 509      1"
      ]
     },
     "execution_count": 14,
     "metadata": {},
     "output_type": "execute_result"
    }
   ],
   "source": [
    "df_train.tail()"
   ]
  },
  {
   "cell_type": "code",
   "execution_count": 15,
   "metadata": {
    "ExecuteTime": {
     "end_time": "2019-08-08T20:28:18.754292Z",
     "start_time": "2019-08-08T20:28:18.706652Z"
    }
   },
   "outputs": [
    {
     "data": {
      "text/html": [
       "<div>\n",
       "<style scoped>\n",
       "    .dataframe tbody tr th:only-of-type {\n",
       "        vertical-align: middle;\n",
       "    }\n",
       "\n",
       "    .dataframe tbody tr th {\n",
       "        vertical-align: top;\n",
       "    }\n",
       "\n",
       "    .dataframe thead th {\n",
       "        text-align: right;\n",
       "    }\n",
       "</style>\n",
       "<table border=\"1\" class=\"dataframe\">\n",
       "  <thead>\n",
       "    <tr style=\"text-align: right;\">\n",
       "      <th></th>\n",
       "      <th>path</th>\n",
       "      <th>experiment</th>\n",
       "    </tr>\n",
       "  </thead>\n",
       "  <tbody>\n",
       "    <tr>\n",
       "      <th>19892</th>\n",
       "      <td>U2OS-05/Plate4/O19_s2</td>\n",
       "      <td>U2OS-05</td>\n",
       "    </tr>\n",
       "    <tr>\n",
       "      <th>19893</th>\n",
       "      <td>U2OS-05/Plate4/O20_s2</td>\n",
       "      <td>U2OS-05</td>\n",
       "    </tr>\n",
       "    <tr>\n",
       "      <th>19894</th>\n",
       "      <td>U2OS-05/Plate4/O21_s2</td>\n",
       "      <td>U2OS-05</td>\n",
       "    </tr>\n",
       "    <tr>\n",
       "      <th>19895</th>\n",
       "      <td>U2OS-05/Plate4/O22_s2</td>\n",
       "      <td>U2OS-05</td>\n",
       "    </tr>\n",
       "    <tr>\n",
       "      <th>19896</th>\n",
       "      <td>U2OS-05/Plate4/O23_s2</td>\n",
       "      <td>U2OS-05</td>\n",
       "    </tr>\n",
       "  </tbody>\n",
       "</table>\n",
       "</div>"
      ],
      "text/plain": [
       "                        path experiment\n",
       "19892  U2OS-05/Plate4/O19_s2    U2OS-05\n",
       "19893  U2OS-05/Plate4/O20_s2    U2OS-05\n",
       "19894  U2OS-05/Plate4/O21_s2    U2OS-05\n",
       "19895  U2OS-05/Plate4/O22_s2    U2OS-05\n",
       "19896  U2OS-05/Plate4/O23_s2    U2OS-05"
      ]
     },
     "execution_count": 15,
     "metadata": {},
     "output_type": "execute_result"
    }
   ],
   "source": [
    "df_test.tail()"
   ]
  },
  {
   "cell_type": "markdown",
   "metadata": {},
   "source": [
    "### Color augmentation transformation"
   ]
  },
  {
   "cell_type": "markdown",
   "metadata": {},
   "source": [
    "\"Color Augmentation: Color variability can be increased by applying random color transformations to original training samples. We perform color augmentation by transforming every color channels Ic ← ac · Ic + bc, where ac and bc are drawn from uniform distributions ac ∼ U [0.9, 1.1] and bc ∼ U [−10, +10].\" from Domain-adversarial neural networks to address the appearance variability of histopathology images"
   ]
  },
  {
   "cell_type": "code",
   "execution_count": 16,
   "metadata": {
    "ExecuteTime": {
     "end_time": "2019-08-08T20:28:19.404431Z",
     "start_time": "2019-08-08T20:28:19.389454Z"
    }
   },
   "outputs": [],
   "source": [
    "# from https://github.com/fastai/fastai/blob/master/fastai/vision/transform.py#L137\n",
    "#def _rgb_randomize(x, channel:int=None, thresh:float=0.3):\n",
    "#    \"Randomize one of the channels of the input image\"\n",
    "#    if channel is None: channel = np.random.randint(0, x.shape[0] - 1)\n",
    "#    x[channel] = torch.rand(x.shape[1:]) * np.random.uniform(0, thresh)\n",
    "#    return x\n",
    "#\n",
    "#rgb_randomize = TfmPixel(_rgb_randomize)"
   ]
  },
  {
   "cell_type": "code",
   "execution_count": 17,
   "metadata": {
    "ExecuteTime": {
     "end_time": "2019-08-08T20:28:19.668176Z",
     "start_time": "2019-08-08T20:28:19.627903Z"
    }
   },
   "outputs": [],
   "source": [
    "# Scaling factor comes from byte tensor?\n",
    "#10/255 = 0.0392156862745098"
   ]
  },
  {
   "cell_type": "code",
   "execution_count": 18,
   "metadata": {
    "ExecuteTime": {
     "end_time": "2019-08-08T20:28:19.926029Z",
     "start_time": "2019-08-08T20:28:19.905036Z"
    }
   },
   "outputs": [],
   "source": [
    "def _color_augmentation(x):\n",
    "    \"Randomize all channels of the input image\"\n",
    "    channel_count = x.shape[0] - 1\n",
    "    \n",
    "    # by transforming every color channels Ic ← ac · Ic + bc, \n",
    "    # where ac and bc are drawn from uniform distributions \n",
    "    # ac ∼ U [0.9, 1.1] and \n",
    "    # bc ∼ U [−10, +10].\n",
    "    \n",
    "    # x [0,1]\n",
    "    \n",
    "    for c in range(channel_count):\n",
    "        #pdb.set_trace()\n",
    "        #print(x.min(), x.max())\n",
    "        ac = np.random.uniform(0.9, 1.1) #np.random.uniform(0.9, 1.1)\n",
    "        bc = np.random.uniform(-0.1,0.1) #np.random.uniform(-10, 10)\n",
    "        x[c] = x[c] * ac + bc\n",
    "        \n",
    "        # clipping to min 0 and max 1\n",
    "        x[c] = torch.clamp(x[c], 0., 1.)\n",
    "    \n",
    "    return x\n",
    "\n",
    "color_augmentation = TfmPixel(_color_augmentation)"
   ]
  },
  {
   "cell_type": "markdown",
   "metadata": {},
   "source": [
    "### Transforms setup"
   ]
  },
  {
   "cell_type": "code",
   "execution_count": 67,
   "metadata": {
    "ExecuteTime": {
     "end_time": "2019-08-09T04:06:37.286096Z",
     "start_time": "2019-08-09T04:06:37.272439Z"
    }
   },
   "outputs": [],
   "source": [
    "## AdaCos-SE-XResNet50c --> FP32 !!!\n",
    "# TRAINING\n",
    "#sz, bs = 128, 8*20 # 7430MiB /  7952MiB\n",
    "sz, bs = 256, 8*5 # 7475MiB /  7952MiB & 7395MiB /  7952MiB\n",
    "#sz, bs = 512, 8 #\n",
    "# PREDICTION\n",
    "#sz, bs = 256, 8*25 # 5391MiB /  7952MiB\n",
    "#sz, bs = 256, 8*40 # 7741MiB /  7952MiB\n",
    "#sz, bs = 512, 8*5 # 6051MiB /  7952MiB\n",
    "# DATA AUGM W/O AdaCos\n",
    "#sz, bs = 128, 8*42 # 7937MiB /  7952MiB\n",
    "#sz, bs = 256, 8*13 # \n",
    "#sz, bs = 512, 8*3 # \n",
    "\n",
    "\n",
    "## EfficientNet-B3\n",
    "#sz, bs = 300, 8 # 4167MiB /  7952MiB\n",
    "#sz, bs = 300, 8*2 # 78??MiB /  7952MiB // FP16: 4397MiB /  7952MiB\n",
    "#sz, bs = 300, 8*4 # FP16: 7805MiB /  7952MiB"
   ]
  },
  {
   "cell_type": "code",
   "execution_count": 68,
   "metadata": {
    "ExecuteTime": {
     "end_time": "2019-08-09T04:06:37.879067Z",
     "start_time": "2019-08-09T04:06:37.862475Z"
    }
   },
   "outputs": [
    {
     "data": {
      "text/plain": [
       "(256, 40)"
      ]
     },
     "execution_count": 68,
     "metadata": {},
     "output_type": "execute_result"
    }
   ],
   "source": [
    "sz, bs"
   ]
  },
  {
   "cell_type": "code",
   "execution_count": 69,
   "metadata": {
    "ExecuteTime": {
     "end_time": "2019-08-09T04:06:38.569927Z",
     "start_time": "2019-08-09T04:06:38.552565Z"
    }
   },
   "outputs": [
    {
     "data": {
      "text/plain": [
       "(25, 128)"
      ]
     },
     "execution_count": 69,
     "metadata": {},
     "output_type": "execute_result"
    }
   ],
   "source": [
    "# cutout params\n",
    "int(sz*0.1), int(sz*0.5)"
   ]
  },
  {
   "cell_type": "code",
   "execution_count": 22,
   "metadata": {
    "ExecuteTime": {
     "end_time": "2019-08-08T20:28:21.178012Z",
     "start_time": "2019-08-08T20:28:21.137602Z"
    }
   },
   "outputs": [],
   "source": [
    "# normal tfms\n",
    "#tfms = get_transforms()"
   ]
  },
  {
   "cell_type": "code",
   "execution_count": 70,
   "metadata": {
    "ExecuteTime": {
     "end_time": "2019-08-09T04:06:42.048140Z",
     "start_time": "2019-08-09T04:06:42.034521Z"
    }
   },
   "outputs": [],
   "source": [
    "# extended tfms\n",
    "tfms = get_transforms(do_flip=True, flip_vert=True, \n",
    "                      max_rotate=90.0, max_zoom=1.1, \n",
    "                      max_lighting=0.2, max_warp=0.2, \n",
    "                      p_affine=0.75, p_lighting=0.75, \n",
    "                      xtra_tfms=[color_augmentation()])\n",
    "\n",
    "# crop_pad: https://forums.fast.ai/t/misc-issues/35386/10"
   ]
  },
  {
   "cell_type": "code",
   "execution_count": 24,
   "metadata": {
    "ExecuteTime": {
     "end_time": "2019-08-08T20:28:22.236390Z",
     "start_time": "2019-08-08T20:28:22.220453Z"
    }
   },
   "outputs": [],
   "source": [
    "# extended tfms\n",
    "#tfms = get_transforms(do_flip=True, flip_vert=True, \n",
    "#                      max_rotate=90.0, max_zoom=1.1, \n",
    "#                      max_lighting=0.2, max_warp=0.2, \n",
    "#                      p_affine=0.75, p_lighting=0.75, \n",
    "#                      xtra_tfms=[color_augmentation(), \n",
    "#                                 cutout(n_holes=(1,4), length=(int(sz*0.1), int(sz*0.5)), p=.5)])"
   ]
  },
  {
   "cell_type": "code",
   "execution_count": 25,
   "metadata": {
    "ExecuteTime": {
     "end_time": "2019-08-08T20:28:22.602210Z",
     "start_time": "2019-08-08T20:28:22.586446Z"
    }
   },
   "outputs": [],
   "source": [
    "#tfms = [[crop(size=sz, row_pct=(0,1), col_pct=(0,1))], []]"
   ]
  },
  {
   "cell_type": "code",
   "execution_count": 26,
   "metadata": {
    "ExecuteTime": {
     "end_time": "2019-08-08T20:28:22.946221Z",
     "start_time": "2019-08-08T20:28:22.930165Z"
    }
   },
   "outputs": [],
   "source": [
    "#tfms"
   ]
  },
  {
   "cell_type": "code",
   "execution_count": 71,
   "metadata": {
    "ExecuteTime": {
     "end_time": "2019-08-09T04:06:45.273184Z",
     "start_time": "2019-08-09T04:06:45.259801Z"
    }
   },
   "outputs": [],
   "source": [
    "# change \"crop_pad\" from get_transforms to \"crop\"\n",
    "# uniform for random cropping\n",
    "tfms[0][0] = crop(size=sz, row_pct=uniform(0,1), col_pct=uniform(0,1))\n",
    "tfms[1][0] = crop(size=sz, row_pct=uniform(0,1), col_pct=uniform(0,1))"
   ]
  },
  {
   "cell_type": "code",
   "execution_count": 72,
   "metadata": {
    "ExecuteTime": {
     "end_time": "2019-08-09T04:06:45.861579Z",
     "start_time": "2019-08-09T04:06:45.843905Z"
    }
   },
   "outputs": [
    {
     "data": {
      "text/plain": [
       "(0.45447971151040767, 0.14760810736091923)"
      ]
     },
     "execution_count": 72,
     "metadata": {},
     "output_type": "execute_result"
    }
   ],
   "source": [
    "# train crop\n",
    "tfms[0][0].kwargs['row_pct'], tfms[0][0].kwargs['col_pct']"
   ]
  },
  {
   "cell_type": "code",
   "execution_count": 73,
   "metadata": {
    "ExecuteTime": {
     "end_time": "2019-08-09T04:06:46.595735Z",
     "start_time": "2019-08-09T04:06:46.578167Z"
    }
   },
   "outputs": [
    {
     "data": {
      "text/plain": [
       "(0.7281386050595601, 0.21593975091724704)"
      ]
     },
     "execution_count": 73,
     "metadata": {},
     "output_type": "execute_result"
    }
   ],
   "source": [
    "# valid crop\n",
    "tfms[1][0].kwargs['row_pct'], tfms[1][0].kwargs['col_pct']"
   ]
  },
  {
   "cell_type": "code",
   "execution_count": 30,
   "metadata": {
    "ExecuteTime": {
     "end_time": "2019-08-08T20:28:24.289469Z",
     "start_time": "2019-08-08T20:28:24.279407Z"
    }
   },
   "outputs": [],
   "source": [
    "#tfms"
   ]
  },
  {
   "cell_type": "markdown",
   "metadata": {},
   "source": [
    "### Dataset definition"
   ]
  },
  {
   "cell_type": "code",
   "execution_count": 74,
   "metadata": {
    "ExecuteTime": {
     "end_time": "2019-08-09T04:06:51.790839Z",
     "start_time": "2019-08-09T04:06:50.302284Z"
    }
   },
   "outputs": [],
   "source": [
    "# VALID SPLIT (incl. tfms)\n",
    "data = (ImageList6D.from_df(df_train, path='train')\n",
    "        .split_from_df(col=-1) # split_by_rand_pct()\n",
    "        .label_from_df(cols=-3)\n",
    "        .add_test(ImageList6D.from_df(df_test, path='test'))\n",
    "        .transform(tfms)#, size=sz) # remove size so we get the crop size!\n",
    "        .databunch(bs=bs))"
   ]
  },
  {
   "cell_type": "code",
   "execution_count": null,
   "metadata": {
    "ExecuteTime": {
     "end_time": "2019-08-05T17:42:55.155293Z",
     "start_time": "2019-08-05T17:42:54.581380Z"
    }
   },
   "outputs": [],
   "source": [
    "# FULL DATASET (incl. tfms)\n",
    "data = (ImageList6D.from_df(df_train, path='train')\n",
    "        .split_none() # !!!\n",
    "        .label_from_df(cols=-3)\n",
    "        .add_test(ImageList6D.from_df(df_test, path='test'))\n",
    "        .transform(tfms, size=sz)\n",
    "        .databunch(bs=bs))"
   ]
  },
  {
   "cell_type": "code",
   "execution_count": null,
   "metadata": {
    "ExecuteTime": {
     "end_time": "2019-08-02T18:39:14.121475Z",
     "start_time": "2019-08-02T18:39:08.866676Z"
    }
   },
   "outputs": [],
   "source": [
    "# VALID SPLIT PREDICTION (NO tfms)\n",
    "data = (ImageList6D.from_df(df_train, path='train')\n",
    "        .split_from_df(col=-1) \n",
    "        .label_from_df(cols=-3) # label_delim=' ' for MultiCategoryList !\n",
    "        .add_test(ImageList6D.from_df(df_test, path='test'))\n",
    "        .transform(size=sz) # !!!\n",
    "        .databunch(bs=bs))"
   ]
  },
  {
   "cell_type": "code",
   "execution_count": null,
   "metadata": {},
   "outputs": [],
   "source": [
    "# FULL DATASET PREDICTION (NO tfms)\n",
    "data = (ImageList6D.from_df(df_train, path='train')\n",
    "        .split_none() # !!!\n",
    "        .label_from_df(cols=-3)\n",
    "        .add_test(ImageList6D.from_df(df_test, path='test'))\n",
    "        .transform(size=sz)\n",
    "        .databunch(bs=bs))"
   ]
  },
  {
   "cell_type": "code",
   "execution_count": 39,
   "metadata": {
    "ExecuteTime": {
     "end_time": "2019-08-08T17:06:02.094494Z",
     "start_time": "2019-08-08T17:05:43.751964Z"
    }
   },
   "outputs": [
    {
     "data": {
      "text/plain": [
       "[tensor([0.0477, 0.0663, 0.0493, 0.0584, 0.0429, 0.0394]),\n",
       " tensor([0.0774, 0.0749, 0.0634, 0.0820, 0.0772, 0.0506])]"
      ]
     },
     "execution_count": 39,
     "metadata": {},
     "output_type": "execute_result"
    }
   ],
   "source": [
    "data.batch_stats()"
   ]
  },
  {
   "cell_type": "code",
   "execution_count": 75,
   "metadata": {
    "ExecuteTime": {
     "end_time": "2019-08-09T04:06:55.348037Z",
     "start_time": "2019-08-09T04:06:55.334400Z"
    }
   },
   "outputs": [],
   "source": [
    "# From https://github.com/recursionpharma/rxrx1-utils/blob/master/rxrx/main.py\n",
    "# The mean and stds for each of the channels\n",
    "GLOBAL_PIXEL_STATS = (np.array([6.74696984, 14.74640167, 10.51260864,\n",
    "                                10.45369445,  5.49959796, 9.81545561]),\n",
    "                       np.array([7.95876312, 12.17305868, 5.86172946,\n",
    "                                 7.83451711, 4.701167, 5.43130431]))\n",
    "\n",
    "stats_mean = torch.tensor(GLOBAL_PIXEL_STATS[0]/255).float()\n",
    "stats_var = torch.tensor(GLOBAL_PIXEL_STATS[1]/255).float()"
   ]
  },
  {
   "cell_type": "code",
   "execution_count": 76,
   "metadata": {
    "ExecuteTime": {
     "end_time": "2019-08-09T04:06:55.718807Z",
     "start_time": "2019-08-09T04:06:55.702690Z"
    }
   },
   "outputs": [],
   "source": [
    "#stats_mean, stats_var"
   ]
  },
  {
   "cell_type": "code",
   "execution_count": 77,
   "metadata": {
    "ExecuteTime": {
     "end_time": "2019-08-09T04:06:56.772201Z",
     "start_time": "2019-08-09T04:06:56.411145Z"
    }
   },
   "outputs": [
    {
     "data": {
      "text/plain": [
       "ImageDataBunch;\n",
       "\n",
       "Train: LabelList (57554 items)\n",
       "x: ImageList6D\n",
       "Image6D (6, 256, 256),Image6D (6, 256, 256),Image6D (6, 256, 256),Image6D (6, 256, 256),Image6D (6, 256, 256)\n",
       "y: CategoryList\n",
       "513,840,1020,254,144\n",
       "Path: train;\n",
       "\n",
       "Valid: LabelList (15476 items)\n",
       "x: ImageList6D\n",
       "Image6D (6, 256, 256),Image6D (6, 256, 256),Image6D (6, 256, 256),Image6D (6, 256, 256),Image6D (6, 256, 256)\n",
       "y: CategoryList\n",
       "352,361,503,505,70\n",
       "Path: train;\n",
       "\n",
       "Test: LabelList (39794 items)\n",
       "x: ImageList6D\n",
       "Image6D (6, 256, 256),Image6D (6, 256, 256),Image6D (6, 256, 256),Image6D (6, 256, 256),Image6D (6, 256, 256)\n",
       "y: EmptyLabelList\n",
       ",,,,\n",
       "Path: train"
      ]
     },
     "execution_count": 77,
     "metadata": {},
     "output_type": "execute_result"
    }
   ],
   "source": [
    "data.normalize([stats_mean, stats_var])"
   ]
  },
  {
   "cell_type": "code",
   "execution_count": 34,
   "metadata": {
    "ExecuteTime": {
     "end_time": "2019-08-08T17:17:08.191355Z",
     "start_time": "2019-08-08T17:16:49.875679Z"
    }
   },
   "outputs": [
    {
     "data": {
      "text/plain": [
       "[tensor([0.7515, 0.0900, 0.3618, 0.4465, 0.9050, 0.0067]),\n",
       " tensor([2.4391, 1.5828, 2.6865, 2.4172, 3.5665, 2.2578])]"
      ]
     },
     "execution_count": 34,
     "metadata": {},
     "output_type": "execute_result"
    }
   ],
   "source": [
    "data.batch_stats()"
   ]
  },
  {
   "cell_type": "code",
   "execution_count": 35,
   "metadata": {
    "ExecuteTime": {
     "end_time": "2019-08-08T17:17:08.204515Z",
     "start_time": "2019-08-08T17:17:08.192480Z"
    }
   },
   "outputs": [
    {
     "data": {
      "text/plain": [
       "160"
      ]
     },
     "execution_count": 35,
     "metadata": {},
     "output_type": "execute_result"
    }
   ],
   "source": [
    "data.batch_size"
   ]
  },
  {
   "cell_type": "code",
   "execution_count": null,
   "metadata": {
    "ExecuteTime": {
     "end_time": "2019-08-04T05:49:51.470651Z",
     "start_time": "2019-08-04T05:49:51.460146Z"
    }
   },
   "outputs": [],
   "source": [
    "#data.stats # results is copied below\n",
    "#[tensor([0.0456, 0.0702, 0.0447, 0.0468, 0.0407, 0.0399]),\n",
    "# tensor([0.0644, 0.0733, 0.0536, 0.0633, 0.0555, 0.0392])]"
   ]
  },
  {
   "cell_type": "code",
   "execution_count": null,
   "metadata": {
    "ExecuteTime": {
     "end_time": "2019-08-03T09:37:53.052270Z",
     "start_time": "2019-08-03T09:37:53.042254Z"
    }
   },
   "outputs": [],
   "source": [
    "#data"
   ]
  },
  {
   "cell_type": "code",
   "execution_count": 45,
   "metadata": {
    "ExecuteTime": {
     "end_time": "2019-08-08T17:07:18.245527Z",
     "start_time": "2019-08-08T17:07:18.231787Z"
    }
   },
   "outputs": [
    {
     "data": {
      "text/plain": [
       "(1108, 1108, [1103, 1104, 1105, 1106, 1107])"
      ]
     },
     "execution_count": 45,
     "metadata": {},
     "output_type": "execute_result"
    }
   ],
   "source": [
    "data.c, len(data.classes), data.classes[-5:]"
   ]
  },
  {
   "cell_type": "code",
   "execution_count": 46,
   "metadata": {
    "ExecuteTime": {
     "end_time": "2019-08-08T17:07:18.866138Z",
     "start_time": "2019-08-08T17:07:18.815261Z"
    }
   },
   "outputs": [
    {
     "data": {
      "text/plain": [
       "(Image6D (6, 128, 128), Category 513)"
      ]
     },
     "execution_count": 46,
     "metadata": {},
     "output_type": "execute_result"
    }
   ],
   "source": [
    "data.train_ds[0]"
   ]
  },
  {
   "cell_type": "code",
   "execution_count": 47,
   "metadata": {
    "ExecuteTime": {
     "end_time": "2019-08-08T17:07:19.411334Z",
     "start_time": "2019-08-08T17:07:19.395737Z"
    }
   },
   "outputs": [],
   "source": [
    "#data.classes"
   ]
  },
  {
   "cell_type": "code",
   "execution_count": 48,
   "metadata": {
    "ExecuteTime": {
     "end_time": "2019-08-08T17:07:19.803729Z",
     "start_time": "2019-08-08T17:07:19.722030Z"
    }
   },
   "outputs": [
    {
     "data": {
      "text/plain": [
       "(Category 513, 513)"
      ]
     },
     "execution_count": 48,
     "metadata": {},
     "output_type": "execute_result"
    }
   ],
   "source": [
    "data.train_ds[0][1], data.train_ds[0][1].data"
   ]
  },
  {
   "cell_type": "code",
   "execution_count": 92,
   "metadata": {
    "ExecuteTime": {
     "end_time": "2019-08-09T04:07:30.904371Z",
     "start_time": "2019-08-09T04:07:30.790878Z"
    }
   },
   "outputs": [
    {
     "data": {
      "image/jpeg": "[encoded data removed]",
      "image/png": "[encoded data removed]",
      "text/plain": [
       "Image6D (6, 256, 256)"
      ]
     },
     "execution_count": 92,
     "metadata": {},
     "output_type": "execute_result"
    }
   ],
   "source": [
    "data.train_ds[0][0]"
   ]
  },
  {
   "cell_type": "code",
   "execution_count": 50,
   "metadata": {
    "ExecuteTime": {
     "end_time": "2019-08-08T17:07:20.753135Z",
     "start_time": "2019-08-08T17:07:20.700929Z"
    }
   },
   "outputs": [
    {
     "data": {
      "text/plain": [
       "torch.Size([6, 128, 128])"
      ]
     },
     "execution_count": 50,
     "metadata": {},
     "output_type": "execute_result"
    }
   ],
   "source": [
    "data.train_ds[0][0].data.shape"
   ]
  },
  {
   "cell_type": "code",
   "execution_count": null,
   "metadata": {
    "ExecuteTime": {
     "end_time": "2019-08-02T19:02:27.641658Z",
     "start_time": "2019-08-02T19:02:27.628992Z"
    }
   },
   "outputs": [],
   "source": [
    "#data.train_ds[0][0].apply_tfms(crop(size=300, row_pct=(0,1), col_pct=(0,1)))"
   ]
  },
  {
   "cell_type": "code",
   "execution_count": null,
   "metadata": {
    "ExecuteTime": {
     "end_time": "2019-08-02T18:40:04.377527Z",
     "start_time": "2019-08-02T18:40:04.015804Z"
    }
   },
   "outputs": [],
   "source": [
    "### ORIGINAL 512px NO TFMS\n",
    "data.train_ds[0][0]"
   ]
  },
  {
   "cell_type": "markdown",
   "metadata": {
    "heading_collapsed": true
   },
   "source": [
    "### Adversarial full dataset"
   ]
  },
  {
   "cell_type": "code",
   "execution_count": null,
   "metadata": {
    "ExecuteTime": {
     "end_time": "2019-07-18T18:48:30.937436Z",
     "start_time": "2019-07-18T18:48:22.421758Z"
    },
    "hidden": true
   },
   "outputs": [],
   "source": [
    "data_a = (ImageList6D.from_df(df_train, path='train') # SET CORRECT DF!!!\n",
    "        .split_from_df(col=-1) # split_by_rand_pct()\n",
    "        .label_from_df(cols=-2, label_delim=' ') # label_delim=' ' for MultiCategoryList !\n",
    "        .add_test(ImageList6D.from_df(df_train, path='train'))\n",
    "        .transform(tfms, size=sz) # .transform(size=sz)\n",
    "        .databunch(bs=bs))"
   ]
  },
  {
   "cell_type": "code",
   "execution_count": null,
   "metadata": {
    "ExecuteTime": {
     "end_time": "2019-07-13T08:16:52.668548Z",
     "start_time": "2019-07-13T08:16:52.441661Z"
    },
    "hidden": true
   },
   "outputs": [],
   "source": [
    "data_a"
   ]
  },
  {
   "cell_type": "code",
   "execution_count": null,
   "metadata": {
    "ExecuteTime": {
     "end_time": "2019-07-13T08:16:52.681315Z",
     "start_time": "2019-07-13T08:16:52.670670Z"
    },
    "hidden": true
   },
   "outputs": [],
   "source": [
    "data_a.c, len(data_a.classes), data_a.classes[-5:]"
   ]
  },
  {
   "cell_type": "code",
   "execution_count": null,
   "metadata": {
    "ExecuteTime": {
     "end_time": "2019-07-13T08:16:52.692431Z",
     "start_time": "2019-07-13T08:16:52.682289Z"
    },
    "hidden": true
   },
   "outputs": [],
   "source": [
    "data_a.batch_size"
   ]
  },
  {
   "cell_type": "code",
   "execution_count": null,
   "metadata": {
    "ExecuteTime": {
     "end_time": "2019-07-13T08:16:52.728302Z",
     "start_time": "2019-07-13T08:16:52.693336Z"
    },
    "hidden": true
   },
   "outputs": [],
   "source": [
    "data_a.train_ds[0]"
   ]
  },
  {
   "cell_type": "code",
   "execution_count": null,
   "metadata": {
    "ExecuteTime": {
     "end_time": "2019-07-13T08:16:52.738982Z",
     "start_time": "2019-07-13T08:16:52.729257Z"
    },
    "hidden": true
   },
   "outputs": [],
   "source": [
    "#data_a.classes"
   ]
  },
  {
   "cell_type": "code",
   "execution_count": null,
   "metadata": {
    "ExecuteTime": {
     "end_time": "2019-07-13T08:16:52.799807Z",
     "start_time": "2019-07-13T08:16:52.739866Z"
    },
    "hidden": true
   },
   "outputs": [],
   "source": [
    "data_a.train_ds[0][1], data_a.train_ds[0][1].data"
   ]
  },
  {
   "cell_type": "code",
   "execution_count": null,
   "metadata": {
    "ExecuteTime": {
     "end_time": "2019-07-13T08:16:52.836313Z",
     "start_time": "2019-07-13T08:16:52.801091Z"
    },
    "hidden": true
   },
   "outputs": [],
   "source": [
    "data_a.train_ds[0][1].data.sum()"
   ]
  },
  {
   "cell_type": "code",
   "execution_count": null,
   "metadata": {
    "ExecuteTime": {
     "end_time": "2019-07-13T08:16:52.873199Z",
     "start_time": "2019-07-13T08:16:52.837338Z"
    },
    "hidden": true
   },
   "outputs": [],
   "source": [
    "np.where(data_a.train_ds[0][1].data > 0.5)"
   ]
  },
  {
   "cell_type": "code",
   "execution_count": null,
   "metadata": {
    "ExecuteTime": {
     "end_time": "2019-07-13T08:16:52.910261Z",
     "start_time": "2019-07-13T08:16:52.874115Z"
    },
    "hidden": true
   },
   "outputs": [],
   "source": [
    "[data_a.classes[j] for j in np.where(data_a.train_ds[0][1].data > 0.5)[0]]"
   ]
  },
  {
   "cell_type": "code",
   "execution_count": null,
   "metadata": {
    "ExecuteTime": {
     "end_time": "2019-07-13T08:16:52.962924Z",
     "start_time": "2019-07-13T08:16:52.911167Z"
    },
    "hidden": true
   },
   "outputs": [],
   "source": [
    "data_a.train_ds[0][0]"
   ]
  },
  {
   "cell_type": "code",
   "execution_count": null,
   "metadata": {
    "ExecuteTime": {
     "end_time": "2019-07-13T08:16:52.973658Z",
     "start_time": "2019-07-13T08:16:52.963880Z"
    },
    "hidden": true
   },
   "outputs": [],
   "source": [
    "# DOES NOT WORK?\n",
    "#data_a.train_ds[0][0].show()"
   ]
  },
  {
   "cell_type": "markdown",
   "metadata": {},
   "source": [
    "# Model setup"
   ]
  },
  {
   "cell_type": "markdown",
   "metadata": {},
   "source": [
    "## SE-XResNet"
   ]
  },
  {
   "cell_type": "code",
   "execution_count": null,
   "metadata": {},
   "outputs": [],
   "source": [
    "# Check regularly for improvments: https://github.com/fastai/fastai_dev/blob/master/dev/60_vision_models_xresnet.ipynb"
   ]
  },
  {
   "cell_type": "code",
   "execution_count": 35,
   "metadata": {
    "ExecuteTime": {
     "end_time": "2019-08-08T20:28:34.460217Z",
     "start_time": "2019-08-08T20:28:34.446260Z"
    }
   },
   "outputs": [],
   "source": [
    "# from https://github.com/Cadene/pretrained-models.pytorch/blob/master/pretrainedmodels/models/senet.py#L85\n",
    "class SE_Module(Module): # change nn.Module to Module\n",
    "\n",
    "    def __init__(self, channels, reduction=16):\n",
    "        #super(SE_Module, self).__init__() # not needed?\n",
    "        self.avg_pool = nn.AdaptiveAvgPool2d(1)\n",
    "        self.fc1 = nn.Conv2d(channels, channels // reduction, kernel_size=1,\n",
    "                             padding=0)\n",
    "        self.relu = nn.ReLU(inplace=True)\n",
    "        self.fc2 = nn.Conv2d(channels // reduction, channels, kernel_size=1,\n",
    "                             padding=0)\n",
    "        self.sigmoid = nn.Sigmoid()\n",
    "\n",
    "    def forward(self, x):\n",
    "        module_input = x\n",
    "        x = self.avg_pool(x)\n",
    "        x = self.fc1(x)\n",
    "        x = self.relu(x)\n",
    "        x = self.fc2(x)\n",
    "        x = self.sigmoid(x)\n",
    "        return module_input * x"
   ]
  },
  {
   "cell_type": "code",
   "execution_count": 36,
   "metadata": {
    "ExecuteTime": {
     "end_time": "2019-08-08T20:28:34.766496Z",
     "start_time": "2019-08-08T20:28:34.718181Z"
    }
   },
   "outputs": [],
   "source": [
    "# fastai resblock combined with SEModule\n",
    "class SE_ResBlock(Module):\n",
    "    def __init__(self, expansion, ni, nh, stride=1):\n",
    "        nf,ni = nh*expansion,ni*expansion\n",
    "        layers  = [conv_layer(ni, nh, 3, stride=stride),\n",
    "                   conv_layer(nh, nf, 3, zero_bn=True, act=False)\n",
    "        ] if expansion == 1 else [\n",
    "                   conv_layer(ni, nh, 1),\n",
    "                   conv_layer(nh, nh, 3, stride=stride),\n",
    "                   conv_layer(nh, nf, 1, zero_bn=True, act=False)\n",
    "        ]\n",
    "        #self.convs = nn.Sequential(*layers) # without SEModule\n",
    "        self.convs = nn.Sequential(*layers, SE_Module(nf))\n",
    "        # TODO: check whether act=True works better\n",
    "        self.idconv = noop if ni==nf else conv_layer(ni, nf, 1, act=False)\n",
    "        self.pool = noop if stride==1 else nn.AvgPool2d(2, ceil_mode=True)\n",
    "\n",
    "    def forward(self, x): return act_fn(self.convs(x) + self.idconv(self.pool(x)))"
   ]
  },
  {
   "cell_type": "code",
   "execution_count": 37,
   "metadata": {
    "ExecuteTime": {
     "end_time": "2019-08-08T20:28:35.021078Z",
     "start_time": "2019-08-08T20:28:35.005719Z"
    }
   },
   "outputs": [],
   "source": [
    "class SE_XResNetFeature(nn.Sequential):\n",
    "    def __init__(self, expansion, layers, c_in=6):#, c_out=1108):\n",
    "        stem = []\n",
    "        sizes = [c_in,32,32,64]\n",
    "        for i in range(3):\n",
    "            stem.append(conv_layer(sizes[i], sizes[i+1], stride=2 if i==0 else 1))\n",
    "            #nf = filt_sz(c_in*9)\n",
    "            #stem.append(conv_layer(c_in, nf, stride=2 if i==1 else 1))\n",
    "            #c_in = nf\n",
    "\n",
    "        block_szs = [64//expansion,64,128,256,512]\n",
    "        blocks = [self._make_layer(expansion, block_szs[i], block_szs[i+1], l, 1 if i==0 else 2)\n",
    "                  for i,l in enumerate(layers)]\n",
    "        super().__init__(\n",
    "            *stem,\n",
    "            nn.MaxPool2d(kernel_size=3, stride=2, padding=1),\n",
    "            *blocks,\n",
    "            #AdaptiveConcatPool2d(), Flatten(),\n",
    "            #nn.AdaptiveAvgPool2d(1), Flatten(),\n",
    "            # remove head:\n",
    "            #nn.Linear(block_szs[-1]*expansion, c_out)\n",
    "        )\n",
    "        init_cnn(self)\n",
    "\n",
    "    def _make_layer(self, expansion, ni, nf, blocks, stride):\n",
    "        return nn.Sequential(\n",
    "            *[SE_ResBlock(expansion, ni if i==0 else nf, nf, stride if i==0 else 1)\n",
    "              for i in range(blocks)])"
   ]
  },
  {
   "cell_type": "code",
   "execution_count": 38,
   "metadata": {
    "ExecuteTime": {
     "end_time": "2019-08-08T20:28:35.498423Z",
     "start_time": "2019-08-08T20:28:35.208871Z"
    }
   },
   "outputs": [],
   "source": [
    "#se_xresnet152f = SE_XResNetFeature(4, [3,8,36,3], c_in=6) #, c_out=1108)\n",
    "se_xresnet50f = SE_XResNetFeature(4, [3,4,6 ,3], c_in=6) #, c_out=1108)"
   ]
  },
  {
   "cell_type": "code",
   "execution_count": 39,
   "metadata": {
    "ExecuteTime": {
     "end_time": "2019-08-08T20:28:35.622056Z",
     "start_time": "2019-08-08T20:28:35.538335Z"
    }
   },
   "outputs": [
    {
     "data": {
      "text/plain": [
       "torch.Size([1, 2048, 4, 4])"
      ]
     },
     "execution_count": 39,
     "metadata": {},
     "output_type": "execute_result"
    }
   ],
   "source": [
    "se_xresnet50f(torch.randn(1,6,sz,sz)).shape"
   ]
  },
  {
   "cell_type": "code",
   "execution_count": 40,
   "metadata": {
    "ExecuteTime": {
     "end_time": "2019-08-08T20:28:35.886185Z",
     "start_time": "2019-08-08T20:28:35.875392Z"
    }
   },
   "outputs": [],
   "source": [
    "#se_xresnet50f(data.train_ds[0][0].data.unsqueeze(0)).shape"
   ]
  },
  {
   "cell_type": "code",
   "execution_count": 41,
   "metadata": {
    "ExecuteTime": {
     "end_time": "2019-08-08T20:28:36.277107Z",
     "start_time": "2019-08-08T20:28:36.261581Z"
    }
   },
   "outputs": [],
   "source": [
    "#def set_rg(model=efficientnet_b3f, option=False):\n",
    "#    for param in model.parameters():\n",
    "#        param.requires_grad = option\n",
    "#        \n",
    "#set_rg()"
   ]
  },
  {
   "cell_type": "markdown",
   "metadata": {},
   "source": [
    "### AdaCos-Head"
   ]
  },
  {
   "cell_type": "code",
   "execution_count": 42,
   "metadata": {
    "ExecuteTime": {
     "end_time": "2019-08-08T20:28:36.822501Z",
     "start_time": "2019-08-08T20:28:36.807301Z"
    }
   },
   "outputs": [],
   "source": [
    "def create_adacos_head(nf:int, lin_ftrs:Optional[Collection[int]]=None, ps:Floats=0.5,\n",
    "                concat_pool:bool=True, bn_final:bool=False):\n",
    "    #nc:int, \n",
    "    \"Model head that takes `nf` features, runs through `lin_ftrs`, and about `nc` classes.\"\n",
    "    \n",
    "    lin_ftrs = [nf, 512, 512] if lin_ftrs is None else [nf] + lin_ftrs + [nc]\n",
    "    # remove last 512 fc layer to reduce MODEL SIZE ??? ???\n",
    "    \n",
    "    ps = listify(ps)\n",
    "    if len(ps) == 1: ps = [ps[0]/2] * (len(lin_ftrs)-2) + ps\n",
    "    actns = [nn.ReLU(inplace=True)] * (len(lin_ftrs)-2) + [None]\n",
    "    pool = AdaptiveConcatPool2d() if concat_pool else nn.AdaptiveAvgPool2d(1)\n",
    "    layers = [pool, Flatten()]\n",
    "    for ni,no,p,actn in zip(lin_ftrs[:-1], lin_ftrs[1:], ps, actns):\n",
    "        layers += bn_drop_lin(ni, no, True, p, actn)\n",
    "    if bn_final: layers.append(nn.BatchNorm1d(lin_ftrs[-1], momentum=0.01))\n",
    "    #layers.append(AdaCos(lin_ftrs[-1], nc))\n",
    "    return nn.Sequential(*layers)"
   ]
  },
  {
   "cell_type": "code",
   "execution_count": 43,
   "metadata": {
    "ExecuteTime": {
     "end_time": "2019-08-08T20:28:37.197644Z",
     "start_time": "2019-08-08T20:28:37.169076Z"
    }
   },
   "outputs": [],
   "source": [
    "adacos_head = create_adacos_head(nf=2048*2)"
   ]
  },
  {
   "cell_type": "code",
   "execution_count": 44,
   "metadata": {
    "ExecuteTime": {
     "end_time": "2019-08-08T20:28:37.480878Z",
     "start_time": "2019-08-08T20:28:37.440009Z"
    }
   },
   "outputs": [],
   "source": [
    "#adacos_head"
   ]
  },
  {
   "cell_type": "code",
   "execution_count": 45,
   "metadata": {
    "ExecuteTime": {
     "end_time": "2019-08-08T20:28:37.723373Z",
     "start_time": "2019-08-08T20:28:37.699439Z"
    }
   },
   "outputs": [
    {
     "data": {
      "text/plain": [
       "torch.Size([2, 512])"
      ]
     },
     "execution_count": 45,
     "metadata": {},
     "output_type": "execute_result"
    }
   ],
   "source": [
    "adacos_head(torch.randn(2, 2048, 9, 9)).shape"
   ]
  },
  {
   "cell_type": "code",
   "execution_count": 46,
   "metadata": {
    "ExecuteTime": {
     "end_time": "2019-08-08T20:28:38.204429Z",
     "start_time": "2019-08-08T20:28:38.132961Z"
    }
   },
   "outputs": [],
   "source": [
    "# from https://github.com/4uiiurz1/pytorch-adacos/blob/master/metrics.py\n",
    "class AdaCos(nn.Module):\n",
    "    def __init__(self, num_features, num_classes, m=0.50):\n",
    "        super(AdaCos, self).__init__()\n",
    "        self.num_features = num_features\n",
    "        self.n_classes = num_classes\n",
    "        self.s = math.sqrt(2) * math.log(num_classes - 1)\n",
    "        self.m = m\n",
    "        self.W = nn.Parameter(torch.FloatTensor(num_classes, num_features))\n",
    "        nn.init.xavier_uniform_(self.W)\n",
    "\n",
    "    def forward(self, xb, yb):\n",
    "        \n",
    "        #print(yb.shape)\n",
    "        #pdb.set_trace()\n",
    "        \n",
    "        # normalize features\n",
    "        x = F.normalize(xb)\n",
    "        # normalize weights\n",
    "        W = F.normalize(self.W)\n",
    "        # dot product\n",
    "        logits = F.linear(x, W)\n",
    "        \n",
    "        # for training in non-AdaCos mode (= no yb date in the forward pass):\n",
    "        if yb is None:\n",
    "            print('yb = None')\n",
    "            return logits\n",
    "        \n",
    "        # feature re-scale\n",
    "        theta = torch.acos(torch.clamp(logits, -1.0 + 1e-7, 1.0 - 1e-7))\n",
    "        one_hot = torch.zeros_like(logits)\n",
    "        \n",
    "        # ORIGINAL\n",
    "        #one_hot.scatter_(1, yb.view(-1, 1).long(), 1)\n",
    "        #with torch.no_grad():\n",
    "        #    B_avg = torch.where(one_hot < 1, torch.exp(self.s * logits), torch.zeros_like(logits))\n",
    "        #    B_avg = torch.sum(B_avg) / xb.size(0)\n",
    "        #    #print(B_avg)\n",
    "        #    theta_med = torch.median(theta[one_hot == 1])\n",
    "        #    self.s = torch.log(B_avg) / torch.cos(torch.min(math.pi/4 * torch.ones_like(theta_med), theta_med))\n",
    "        #    #print(self.s)\n",
    "            \n",
    "        # ADAPTED FOR CUTMIX TO GET MIXED SCALE PARAMETER\n",
    "        with torch.no_grad():\n",
    "            # FROM nb_new_data_augmentation_adacos2.py LINE 888\n",
    "            # AND https://github.com/fastai/fastai/blob/master/fastai/callbacks/mixup.py#L40\n",
    "            if yb.ndim == 2:# and target.shape[-1] >1:\n",
    "                n_mod_patches = (yb.shape[-1] - 1) // 2\n",
    "                #c_ = yb[:, 1:n_mod_patches + 1]\n",
    "                c_ = yb[:, 0:n_mod_patches + 1]\n",
    "                W_ = yb[:, n_mod_patches + 1:]\n",
    "                self.s_scaled = []\n",
    "                \n",
    "                # this loop is only realdy needed when we have different probabilities inside a batch\n",
    "                # which we do not have (right now)! So this could be cleaned up, but we leave until\n",
    "                # we know we will not need the case with different probabilities in a batch.\n",
    "                for k in range(n_mod_patches+1):\n",
    "                    yb_new = c_[:, k].long()\n",
    "                    #pdb.set_trace()\n",
    "                    \n",
    "                    one_hot.scatter_(1, yb_new.view(-1,1).long(), 1)\n",
    "                    \n",
    "                    B_avg = torch.where(one_hot < 1, torch.exp(self.s * logits), torch.zeros_like(logits))\n",
    "                    B_avg = torch.sum(B_avg) / xb.size(0)\n",
    "                    theta_med = torch.median(theta[one_hot == 1])\n",
    "                    self.s = torch.log(B_avg) / torch.cos(torch.min(math.pi/4 * torch.ones_like(theta_med), theta_med))\n",
    "                    \n",
    "                    if k+1 == len(range(n_mod_patches+1)):\n",
    "                        #self.s_scaled.append((1-W_[:, k-1]) * self.s)\n",
    "                        self.s_scaled.append((1-W_[0, k-1]) * self.s)\n",
    "                        # For more than two the sum of W_[:, :k] has to be used!!!\n",
    "                    else:\n",
    "                        #self.s_scaled.append(W_[:, k] * self.s)\n",
    "                        self.s_scaled.append(W_[0, k] * self.s)\n",
    "                    # Mixed B_avg & self.s and single are not really far off, but now we have it coded\n",
    "                    # se we keep it (until it breaks something later).\n",
    "                self.s = torch.add(*self.s_scaled)\n",
    "                # Clean up, self.s_scaled is just a vector with the same entry multiple times\n",
    "                # when it is not indexed above with W_[0,... !\n",
    "            else:\n",
    "                one_hot.scatter_(1, yb.view(-1,1).long(), 1)\n",
    "                B_avg = torch.where(one_hot < 1, torch.exp(self.s * logits), torch.zeros_like(logits))\n",
    "                B_avg = torch.sum(B_avg) / xb.size(0)\n",
    "                theta_med = torch.median(theta[one_hot == 1])\n",
    "                self.s = torch.log(B_avg) / torch.cos(torch.min(math.pi/4 * torch.ones_like(theta_med), theta_med))\n",
    "        \n",
    "        output = self.s * logits\n",
    "\n",
    "        return output"
   ]
  },
  {
   "cell_type": "code",
   "execution_count": 47,
   "metadata": {
    "ExecuteTime": {
     "end_time": "2019-08-08T20:28:38.357512Z",
     "start_time": "2019-08-08T20:28:38.336533Z"
    }
   },
   "outputs": [],
   "source": [
    "class AdaCosNet(nn.Module):\n",
    "    '''Simple AdaCosNet connecter to run xb through the feature extractor head\n",
    "    and then feed xb and yb into the AdaCos layer.'''\n",
    "    def __init__(self, body, head):\n",
    "        super(AdaCosNet, self).__init__()\n",
    "        self.body = body\n",
    "        self.head = head\n",
    "        self.adacos = AdaCos(512, 1108)\n",
    "        \n",
    "    def forward(self, xb, yb=None): # yb=None for training in non-AdaCos mode!\n",
    "        features = self.body(xb)\n",
    "        out = self.head(features)\n",
    "        #print('xb.shape: ', xb.shape,', yb.shape: ', yb.shape)\n",
    "        out = self.adacos(out, yb)\n",
    "        #print('out: ',out.shape)\n",
    "        #pdb.set_trace()\n",
    "        return out"
   ]
  },
  {
   "cell_type": "code",
   "execution_count": 48,
   "metadata": {
    "ExecuteTime": {
     "end_time": "2019-08-08T20:28:38.647771Z",
     "start_time": "2019-08-08T20:28:38.600803Z"
    }
   },
   "outputs": [],
   "source": [
    "adacos_se_xresnet50c = AdaCosNet(se_xresnet50f, adacos_head)"
   ]
  },
  {
   "cell_type": "code",
   "execution_count": 49,
   "metadata": {
    "ExecuteTime": {
     "end_time": "2019-08-08T20:28:38.922211Z",
     "start_time": "2019-08-08T20:28:38.827912Z"
    }
   },
   "outputs": [
    {
     "name": "stdout",
     "output_type": "stream",
     "text": [
      "yb = None\n"
     ]
    },
    {
     "data": {
      "text/plain": [
       "torch.Size([2, 1108])"
      ]
     },
     "execution_count": 49,
     "metadata": {},
     "output_type": "execute_result"
    }
   ],
   "source": [
    "adacos_se_xresnet50c(torch.randn(2,6,sz,sz)).shape"
   ]
  },
  {
   "cell_type": "code",
   "execution_count": 50,
   "metadata": {
    "ExecuteTime": {
     "end_time": "2019-08-08T20:28:39.348735Z",
     "start_time": "2019-08-08T20:28:39.200168Z"
    }
   },
   "outputs": [
    {
     "data": {
      "text/plain": [
       "torch.Size([2, 1108])"
      ]
     },
     "execution_count": 50,
     "metadata": {},
     "output_type": "execute_result"
    }
   ],
   "source": [
    "adacos_se_xresnet50c(torch.randn(2,6,sz,sz), torch.tensor([513, 1])).shape"
   ]
  },
  {
   "cell_type": "code",
   "execution_count": 51,
   "metadata": {
    "ExecuteTime": {
     "end_time": "2019-08-08T20:28:39.674779Z",
     "start_time": "2019-08-08T20:28:39.652393Z"
    }
   },
   "outputs": [],
   "source": [
    "test_target = torch.tensor(\n",
    "    [[2.4700e+02, 3.3900e+02, 7.8362e-01],\n",
    "     [2.3300e+02, 7.7400e+02, 7.8362e-01],\n",
    "     [7.7400e+02, 1.3400e+02, 7.8362e-01],\n",
    "     [6.9800e+02, 8.4700e+02, 7.8362e-01]])"
   ]
  },
  {
   "cell_type": "code",
   "execution_count": 52,
   "metadata": {
    "ExecuteTime": {
     "end_time": "2019-08-08T20:28:40.077598Z",
     "start_time": "2019-08-08T20:28:39.909690Z"
    }
   },
   "outputs": [
    {
     "data": {
      "text/plain": [
       "torch.Size([4, 1108])"
      ]
     },
     "execution_count": 52,
     "metadata": {},
     "output_type": "execute_result"
    }
   ],
   "source": [
    "adacos_se_xresnet50c(torch.randn(4,6,sz,sz), test_target).shape"
   ]
  },
  {
   "cell_type": "code",
   "execution_count": 53,
   "metadata": {
    "ExecuteTime": {
     "end_time": "2019-08-08T20:28:40.457769Z",
     "start_time": "2019-08-08T20:28:40.409384Z"
    }
   },
   "outputs": [],
   "source": [
    "# Based on https://forums.fast.ai/t/teacher-forcing/29415/4\n",
    "# https://forums.fast.ai/t/on-batch-begin-callback/35201/3\n",
    "@dataclass\n",
    "class AppendBatchTargs(Callback):\n",
    "    learn:Learner\n",
    "    def __init__(self, learn):\n",
    "        super().__init__()\n",
    "    def on_batch_begin(self, last_input, last_target, **kwargs):\n",
    "        return {'last_input':(last_input, last_target), 'last_target':last_target}"
   ]
  },
  {
   "cell_type": "markdown",
   "metadata": {},
   "source": [
    "# Training"
   ]
  },
  {
   "cell_type": "markdown",
   "metadata": {},
   "source": [
    "## SE-XResNet50c"
   ]
  },
  {
   "cell_type": "code",
   "execution_count": 93,
   "metadata": {
    "ExecuteTime": {
     "end_time": "2019-08-09T04:07:38.579257Z",
     "start_time": "2019-08-09T04:07:38.547537Z"
    }
   },
   "outputs": [],
   "source": [
    "learn = Learner(data, adacos_se_xresnet50c, metrics=[accuracy],\n",
    "                callback_fns=[CSVLogger, AppendBatchTargs])#.to_fp16()"
   ]
  },
  {
   "cell_type": "code",
   "execution_count": 58,
   "metadata": {
    "ExecuteTime": {
     "end_time": "2019-08-08T17:53:15.097224Z",
     "start_time": "2019-08-08T17:53:15.082545Z"
    }
   },
   "outputs": [],
   "source": [
    "# https://github.com/pytorch/pytorch/issues/7455\n",
    "class LabelSmoothingLoss(nn.Module):\n",
    "    def __init__(self, classes, smoothing=0.0, dim=-1):\n",
    "        super(LabelSmoothingLoss, self).__init__()\n",
    "        self.confidence = 1.0 - smoothing\n",
    "        self.smoothing = smoothing\n",
    "        self.cls = classes\n",
    "        self.dim = dim\n",
    "\n",
    "    def forward(self, pred, target):\n",
    "        pred = pred.log_softmax(dim=self.dim)\n",
    "        with torch.no_grad():\n",
    "            # true_dist = pred.data.clone()\n",
    "            true_dist = torch.zeros_like(pred)\n",
    "            true_dist.fill_(self.smoothing / (self.cls - 1))\n",
    "            true_dist.scatter_(1, target.data.unsqueeze(1), self.confidence)\n",
    "        return torch.mean(torch.sum(-true_dist * pred, dim=self.dim))"
   ]
  },
  {
   "cell_type": "code",
   "execution_count": 59,
   "metadata": {
    "ExecuteTime": {
     "end_time": "2019-08-08T17:53:16.922648Z",
     "start_time": "2019-08-08T17:53:16.905917Z"
    }
   },
   "outputs": [],
   "source": [
    "#labsmooth_loss = LabelSmoothingLoss(1108, 0.1)"
   ]
  },
  {
   "cell_type": "code",
   "execution_count": 60,
   "metadata": {
    "ExecuteTime": {
     "end_time": "2019-08-08T17:53:17.615744Z",
     "start_time": "2019-08-08T17:53:17.596652Z"
    }
   },
   "outputs": [
    {
     "data": {
      "text/plain": [
       "tensor(1.3397, grad_fn=<MeanBackward0>)"
      ]
     },
     "execution_count": 60,
     "metadata": {},
     "output_type": "execute_result"
    }
   ],
   "source": [
    "#input = torch.randn(3, 5, requires_grad=True)\n",
    "#target = torch.empty(3, dtype=torch.long).random_(5)\n",
    "#labsmooth_loss(input, target)"
   ]
  },
  {
   "cell_type": "code",
   "execution_count": 55,
   "metadata": {
    "ExecuteTime": {
     "end_time": "2019-08-08T20:28:47.051244Z",
     "start_time": "2019-08-08T20:28:47.034186Z"
    }
   },
   "outputs": [
    {
     "data": {
      "text/plain": [
       "FlattenedLoss of CrossEntropyLoss()"
      ]
     },
     "execution_count": 55,
     "metadata": {},
     "output_type": "execute_result"
    }
   ],
   "source": [
    "learn.loss_func"
   ]
  },
  {
   "cell_type": "code",
   "execution_count": 62,
   "metadata": {
    "ExecuteTime": {
     "end_time": "2019-08-08T17:53:22.424190Z",
     "start_time": "2019-08-08T17:53:22.406904Z"
    }
   },
   "outputs": [],
   "source": [
    "#learn.loss_func = labsmooth_loss\n",
    "#learn.loss_func"
   ]
  },
  {
   "cell_type": "code",
   "execution_count": 87,
   "metadata": {
    "ExecuteTime": {
     "end_time": "2019-08-08T17:35:44.712428Z",
     "start_time": "2019-08-08T17:35:44.696060Z"
    }
   },
   "outputs": [],
   "source": [
    "# generate layer groups for discriminative layer training\n",
    "# https://docs.fast.ai/basic_train.html#Discriminative-layer-training\n",
    "#learn.split((adacos_efficientnet_b3.body._conv_stem,\n",
    "#             #adacos_efficientnet_b3.body._blocks, # all blocks as a layer group\n",
    "#             *[adacos_efficientnet_b3.body._blocks[i] for i in range(26)], # put in each block in\n",
    "#             adacos_efficientnet_b3.body._conv_head,\n",
    "#             adacos_efficientnet_b3.head,\n",
    "#             adacos_efficientnet_b3.adacos\n",
    "#            ));"
   ]
  },
  {
   "cell_type": "code",
   "execution_count": 88,
   "metadata": {
    "ExecuteTime": {
     "end_time": "2019-08-08T17:35:45.091390Z",
     "start_time": "2019-08-08T17:35:45.075564Z"
    }
   },
   "outputs": [],
   "source": [
    "# we have 30 layer groups!\n",
    "#len(learn.lr_range(slice(1e-5,1e-3)))"
   ]
  },
  {
   "cell_type": "code",
   "execution_count": 59,
   "metadata": {
    "ExecuteTime": {
     "end_time": "2019-08-08T18:06:59.884816Z",
     "start_time": "2019-08-08T18:06:59.867573Z"
    }
   },
   "outputs": [
    {
     "data": {
      "text/plain": [
       "functools.partial(<class 'torch.optim.adam.Adam'>, betas=(0.9, 0.99))"
      ]
     },
     "execution_count": 59,
     "metadata": {},
     "output_type": "execute_result"
    }
   ],
   "source": [
    "learn.opt_func"
   ]
  },
  {
   "cell_type": "code",
   "execution_count": 90,
   "metadata": {
    "ExecuteTime": {
     "end_time": "2019-08-08T17:35:46.796502Z",
     "start_time": "2019-08-08T17:35:46.753676Z"
    }
   },
   "outputs": [],
   "source": [
    "# https://docs.fast.ai/callbacks.fp16.html\n",
    "#learn.to_fp16(loss_scale=512, clip=1e3);"
   ]
  },
  {
   "cell_type": "code",
   "execution_count": 91,
   "metadata": {
    "ExecuteTime": {
     "end_time": "2019-08-08T17:35:48.775018Z",
     "start_time": "2019-08-08T17:35:48.756940Z"
    }
   },
   "outputs": [
    {
     "data": {
      "text/plain": [
       "functools.partial(<class 'torch.optim.adam.Adam'>, betas=(0.9, 0.99), eps=0.0001)"
      ]
     },
     "execution_count": 91,
     "metadata": {},
     "output_type": "execute_result"
    }
   ],
   "source": [
    "# Make Adam FP16 proof:\n",
    "# https://forums.fast.ai/t/mixed-precision-training/29601/21\n",
    "# https://discuss.pytorch.org/t/adam-half-precision-nans/1765\n",
    "# https://vxlabs.com/2019/02/04/improving-fastais-mixed-precision-support-with-nvidias-automatic-mixed-precision/\n",
    "#learn.opt_func = partial(learn.opt_func, eps=1e-4)\n",
    "#learn.opt_func\n",
    "#\n",
    "### ADD CLIP PARAMETER TOO???"
   ]
  },
  {
   "cell_type": "code",
   "execution_count": 77,
   "metadata": {
    "ExecuteTime": {
     "end_time": "2019-08-08T17:31:46.981195Z",
     "start_time": "2019-08-08T17:31:46.965718Z"
    }
   },
   "outputs": [],
   "source": [
    "#learn.layer_groups"
   ]
  },
  {
   "cell_type": "code",
   "execution_count": 56,
   "metadata": {
    "ExecuteTime": {
     "end_time": "2019-08-08T20:28:52.697773Z",
     "start_time": "2019-08-08T20:28:52.683643Z"
    }
   },
   "outputs": [],
   "source": [
    "def check_rg(model=learn.model):\n",
    "    layer_rg = [(n, p.requires_grad) for n,p in model.named_parameters()]\n",
    "    for i in range(len(layer_rg)):\n",
    "        print(f'{layer_rg[i][0]}\\t{layer_rg[i][1]}'.expandtabs(40))"
   ]
  },
  {
   "cell_type": "code",
   "execution_count": 57,
   "metadata": {
    "ExecuteTime": {
     "end_time": "2019-08-08T20:28:53.179898Z",
     "start_time": "2019-08-08T20:28:53.163857Z"
    }
   },
   "outputs": [],
   "source": [
    "# unfreeze network\n",
    "#learn.unfreeze()\n",
    "#set_rg(learn.model.body, option=True)"
   ]
  },
  {
   "cell_type": "code",
   "execution_count": 58,
   "metadata": {
    "ExecuteTime": {
     "end_time": "2019-08-08T20:28:53.597382Z",
     "start_time": "2019-08-08T20:28:53.571181Z"
    }
   },
   "outputs": [
    {
     "name": "stdout",
     "output_type": "stream",
     "text": [
      "body.0.0.weight                         True\n",
      "body.0.1.weight                         True\n",
      "body.0.1.bias                           True\n",
      "body.1.0.weight                         True\n",
      "body.1.1.weight                         True\n",
      "body.1.1.bias                           True\n",
      "body.2.0.weight                         True\n",
      "body.2.1.weight                         True\n",
      "body.2.1.bias                           True\n",
      "body.4.0.convs.0.0.weight               True\n",
      "body.4.0.convs.0.1.weight               True\n",
      "body.4.0.convs.0.1.bias                 True\n",
      "body.4.0.convs.1.0.weight               True\n",
      "body.4.0.convs.1.1.weight               True\n",
      "body.4.0.convs.1.1.bias                 True\n",
      "body.4.0.convs.2.0.weight               True\n",
      "body.4.0.convs.2.1.weight               True\n",
      "body.4.0.convs.2.1.bias                 True\n",
      "body.4.0.convs.3.fc1.weight             True\n",
      "body.4.0.convs.3.fc1.bias               True\n",
      "body.4.0.convs.3.fc2.weight             True\n",
      "body.4.0.convs.3.fc2.bias               True\n",
      "body.4.0.idconv.0.weight                True\n",
      "body.4.0.idconv.1.weight                True\n",
      "body.4.0.idconv.1.bias                  True\n",
      "body.4.1.convs.0.0.weight               True\n",
      "body.4.1.convs.0.1.weight               True\n",
      "body.4.1.convs.0.1.bias                 True\n",
      "body.4.1.convs.1.0.weight               True\n",
      "body.4.1.convs.1.1.weight               True\n",
      "body.4.1.convs.1.1.bias                 True\n",
      "body.4.1.convs.2.0.weight               True\n",
      "body.4.1.convs.2.1.weight               True\n",
      "body.4.1.convs.2.1.bias                 True\n",
      "body.4.1.convs.3.fc1.weight             True\n",
      "body.4.1.convs.3.fc1.bias               True\n",
      "body.4.1.convs.3.fc2.weight             True\n",
      "body.4.1.convs.3.fc2.bias               True\n",
      "body.4.2.convs.0.0.weight               True\n",
      "body.4.2.convs.0.1.weight               True\n",
      "body.4.2.convs.0.1.bias                 True\n",
      "body.4.2.convs.1.0.weight               True\n",
      "body.4.2.convs.1.1.weight               True\n",
      "body.4.2.convs.1.1.bias                 True\n",
      "body.4.2.convs.2.0.weight               True\n",
      "body.4.2.convs.2.1.weight               True\n",
      "body.4.2.convs.2.1.bias                 True\n",
      "body.4.2.convs.3.fc1.weight             True\n",
      "body.4.2.convs.3.fc1.bias               True\n",
      "body.4.2.convs.3.fc2.weight             True\n",
      "body.4.2.convs.3.fc2.bias               True\n",
      "body.5.0.convs.0.0.weight               True\n",
      "body.5.0.convs.0.1.weight               True\n",
      "body.5.0.convs.0.1.bias                 True\n",
      "body.5.0.convs.1.0.weight               True\n",
      "body.5.0.convs.1.1.weight               True\n",
      "body.5.0.convs.1.1.bias                 True\n",
      "body.5.0.convs.2.0.weight               True\n",
      "body.5.0.convs.2.1.weight               True\n",
      "body.5.0.convs.2.1.bias                 True\n",
      "body.5.0.convs.3.fc1.weight             True\n",
      "body.5.0.convs.3.fc1.bias               True\n",
      "body.5.0.convs.3.fc2.weight             True\n",
      "body.5.0.convs.3.fc2.bias               True\n",
      "body.5.0.idconv.0.weight                True\n",
      "body.5.0.idconv.1.weight                True\n",
      "body.5.0.idconv.1.bias                  True\n",
      "body.5.1.convs.0.0.weight               True\n",
      "body.5.1.convs.0.1.weight               True\n",
      "body.5.1.convs.0.1.bias                 True\n",
      "body.5.1.convs.1.0.weight               True\n",
      "body.5.1.convs.1.1.weight               True\n",
      "body.5.1.convs.1.1.bias                 True\n",
      "body.5.1.convs.2.0.weight               True\n",
      "body.5.1.convs.2.1.weight               True\n",
      "body.5.1.convs.2.1.bias                 True\n",
      "body.5.1.convs.3.fc1.weight             True\n",
      "body.5.1.convs.3.fc1.bias               True\n",
      "body.5.1.convs.3.fc2.weight             True\n",
      "body.5.1.convs.3.fc2.bias               True\n",
      "body.5.2.convs.0.0.weight               True\n",
      "body.5.2.convs.0.1.weight               True\n",
      "body.5.2.convs.0.1.bias                 True\n",
      "body.5.2.convs.1.0.weight               True\n",
      "body.5.2.convs.1.1.weight               True\n",
      "body.5.2.convs.1.1.bias                 True\n",
      "body.5.2.convs.2.0.weight               True\n",
      "body.5.2.convs.2.1.weight               True\n",
      "body.5.2.convs.2.1.bias                 True\n",
      "body.5.2.convs.3.fc1.weight             True\n",
      "body.5.2.convs.3.fc1.bias               True\n",
      "body.5.2.convs.3.fc2.weight             True\n",
      "body.5.2.convs.3.fc2.bias               True\n",
      "body.5.3.convs.0.0.weight               True\n",
      "body.5.3.convs.0.1.weight               True\n",
      "body.5.3.convs.0.1.bias                 True\n",
      "body.5.3.convs.1.0.weight               True\n",
      "body.5.3.convs.1.1.weight               True\n",
      "body.5.3.convs.1.1.bias                 True\n",
      "body.5.3.convs.2.0.weight               True\n",
      "body.5.3.convs.2.1.weight               True\n",
      "body.5.3.convs.2.1.bias                 True\n",
      "body.5.3.convs.3.fc1.weight             True\n",
      "body.5.3.convs.3.fc1.bias               True\n",
      "body.5.3.convs.3.fc2.weight             True\n",
      "body.5.3.convs.3.fc2.bias               True\n",
      "body.6.0.convs.0.0.weight               True\n",
      "body.6.0.convs.0.1.weight               True\n",
      "body.6.0.convs.0.1.bias                 True\n",
      "body.6.0.convs.1.0.weight               True\n",
      "body.6.0.convs.1.1.weight               True\n",
      "body.6.0.convs.1.1.bias                 True\n",
      "body.6.0.convs.2.0.weight               True\n",
      "body.6.0.convs.2.1.weight               True\n",
      "body.6.0.convs.2.1.bias                 True\n",
      "body.6.0.convs.3.fc1.weight             True\n",
      "body.6.0.convs.3.fc1.bias               True\n",
      "body.6.0.convs.3.fc2.weight             True\n",
      "body.6.0.convs.3.fc2.bias               True\n",
      "body.6.0.idconv.0.weight                True\n",
      "body.6.0.idconv.1.weight                True\n",
      "body.6.0.idconv.1.bias                  True\n",
      "body.6.1.convs.0.0.weight               True\n",
      "body.6.1.convs.0.1.weight               True\n",
      "body.6.1.convs.0.1.bias                 True\n",
      "body.6.1.convs.1.0.weight               True\n",
      "body.6.1.convs.1.1.weight               True\n",
      "body.6.1.convs.1.1.bias                 True\n",
      "body.6.1.convs.2.0.weight               True\n",
      "body.6.1.convs.2.1.weight               True\n",
      "body.6.1.convs.2.1.bias                 True\n",
      "body.6.1.convs.3.fc1.weight             True\n",
      "body.6.1.convs.3.fc1.bias               True\n",
      "body.6.1.convs.3.fc2.weight             True\n",
      "body.6.1.convs.3.fc2.bias               True\n",
      "body.6.2.convs.0.0.weight               True\n",
      "body.6.2.convs.0.1.weight               True\n",
      "body.6.2.convs.0.1.bias                 True\n",
      "body.6.2.convs.1.0.weight               True\n",
      "body.6.2.convs.1.1.weight               True\n",
      "body.6.2.convs.1.1.bias                 True\n",
      "body.6.2.convs.2.0.weight               True\n",
      "body.6.2.convs.2.1.weight               True\n",
      "body.6.2.convs.2.1.bias                 True\n",
      "body.6.2.convs.3.fc1.weight             True\n",
      "body.6.2.convs.3.fc1.bias               True\n",
      "body.6.2.convs.3.fc2.weight             True\n",
      "body.6.2.convs.3.fc2.bias               True\n",
      "body.6.3.convs.0.0.weight               True\n",
      "body.6.3.convs.0.1.weight               True\n",
      "body.6.3.convs.0.1.bias                 True\n",
      "body.6.3.convs.1.0.weight               True\n",
      "body.6.3.convs.1.1.weight               True\n",
      "body.6.3.convs.1.1.bias                 True\n",
      "body.6.3.convs.2.0.weight               True\n",
      "body.6.3.convs.2.1.weight               True\n",
      "body.6.3.convs.2.1.bias                 True\n",
      "body.6.3.convs.3.fc1.weight             True\n",
      "body.6.3.convs.3.fc1.bias               True\n",
      "body.6.3.convs.3.fc2.weight             True\n",
      "body.6.3.convs.3.fc2.bias               True\n",
      "body.6.4.convs.0.0.weight               True\n",
      "body.6.4.convs.0.1.weight               True\n",
      "body.6.4.convs.0.1.bias                 True\n",
      "body.6.4.convs.1.0.weight               True\n",
      "body.6.4.convs.1.1.weight               True\n",
      "body.6.4.convs.1.1.bias                 True\n",
      "body.6.4.convs.2.0.weight               True\n",
      "body.6.4.convs.2.1.weight               True\n",
      "body.6.4.convs.2.1.bias                 True\n",
      "body.6.4.convs.3.fc1.weight             True\n",
      "body.6.4.convs.3.fc1.bias               True\n",
      "body.6.4.convs.3.fc2.weight             True\n",
      "body.6.4.convs.3.fc2.bias               True\n",
      "body.6.5.convs.0.0.weight               True\n",
      "body.6.5.convs.0.1.weight               True\n",
      "body.6.5.convs.0.1.bias                 True\n",
      "body.6.5.convs.1.0.weight               True\n",
      "body.6.5.convs.1.1.weight               True\n",
      "body.6.5.convs.1.1.bias                 True\n",
      "body.6.5.convs.2.0.weight               True\n",
      "body.6.5.convs.2.1.weight               True\n",
      "body.6.5.convs.2.1.bias                 True\n",
      "body.6.5.convs.3.fc1.weight             True\n",
      "body.6.5.convs.3.fc1.bias               True\n",
      "body.6.5.convs.3.fc2.weight             True\n",
      "body.6.5.convs.3.fc2.bias               True\n",
      "body.7.0.convs.0.0.weight               True\n",
      "body.7.0.convs.0.1.weight               True\n",
      "body.7.0.convs.0.1.bias                 True\n",
      "body.7.0.convs.1.0.weight               True\n",
      "body.7.0.convs.1.1.weight               True\n",
      "body.7.0.convs.1.1.bias                 True\n",
      "body.7.0.convs.2.0.weight               True\n",
      "body.7.0.convs.2.1.weight               True\n",
      "body.7.0.convs.2.1.bias                 True\n",
      "body.7.0.convs.3.fc1.weight             True\n",
      "body.7.0.convs.3.fc1.bias               True\n",
      "body.7.0.convs.3.fc2.weight             True\n",
      "body.7.0.convs.3.fc2.bias               True\n",
      "body.7.0.idconv.0.weight                True\n",
      "body.7.0.idconv.1.weight                True\n",
      "body.7.0.idconv.1.bias                  True\n",
      "body.7.1.convs.0.0.weight               True\n",
      "body.7.1.convs.0.1.weight               True\n",
      "body.7.1.convs.0.1.bias                 True\n",
      "body.7.1.convs.1.0.weight               True\n",
      "body.7.1.convs.1.1.weight               True\n",
      "body.7.1.convs.1.1.bias                 True\n",
      "body.7.1.convs.2.0.weight               True\n",
      "body.7.1.convs.2.1.weight               True\n",
      "body.7.1.convs.2.1.bias                 True\n",
      "body.7.1.convs.3.fc1.weight             True\n",
      "body.7.1.convs.3.fc1.bias               True\n",
      "body.7.1.convs.3.fc2.weight             True\n",
      "body.7.1.convs.3.fc2.bias               True\n",
      "body.7.2.convs.0.0.weight               True\n",
      "body.7.2.convs.0.1.weight               True\n",
      "body.7.2.convs.0.1.bias                 True\n",
      "body.7.2.convs.1.0.weight               True\n",
      "body.7.2.convs.1.1.weight               True\n",
      "body.7.2.convs.1.1.bias                 True\n",
      "body.7.2.convs.2.0.weight               True\n",
      "body.7.2.convs.2.1.weight               True\n",
      "body.7.2.convs.2.1.bias                 True\n",
      "body.7.2.convs.3.fc1.weight             True\n",
      "body.7.2.convs.3.fc1.bias               True\n",
      "body.7.2.convs.3.fc2.weight             True\n",
      "body.7.2.convs.3.fc2.bias               True\n",
      "head.2.weight                           True\n",
      "head.2.bias                             True\n",
      "head.4.weight                           True\n",
      "head.4.bias                             True\n",
      "head.6.weight                           True\n",
      "head.6.bias                             True\n",
      "head.8.weight                           True\n",
      "head.8.bias                             True\n",
      "adacos.W                                True\n"
     ]
    }
   ],
   "source": [
    "check_rg() # check where trainable"
   ]
  },
  {
   "cell_type": "code",
   "execution_count": null,
   "metadata": {
    "ExecuteTime": {
     "end_time": "2019-08-04T09:30:08.489263Z",
     "start_time": "2019-08-04T09:30:08.473456Z"
    }
   },
   "outputs": [],
   "source": [
    "#learn.summary()"
   ]
  },
  {
   "cell_type": "markdown",
   "metadata": {},
   "source": [
    "### crop 128px"
   ]
  },
  {
   "cell_type": "code",
   "execution_count": 63,
   "metadata": {
    "ExecuteTime": {
     "end_time": "2019-08-08T18:10:04.621736Z",
     "start_time": "2019-08-08T18:07:13.401451Z"
    }
   },
   "outputs": [
    {
     "data": {
      "text/html": [],
      "text/plain": [
       "<IPython.core.display.HTML object>"
      ]
     },
     "metadata": {},
     "output_type": "display_data"
    },
    {
     "name": "stdout",
     "output_type": "stream",
     "text": [
      "LR Finder is complete, type {learner_name}.recorder.plot() to see the graph.\n",
      "Min numerical gradient: 1.20E-05\n",
      "Min loss divided by 10: 2.51E-04\n"
     ]
    },
    {
     "data": {
      "image/png": "[encoded data removed]",
      "text/plain": [
       "<Figure size 432x288 with 1 Axes>"
      ]
     },
     "metadata": {
      "needs_background": "light"
     },
     "output_type": "display_data"
    }
   ],
   "source": [
    "learn.lr_find()\n",
    "learn.recorder.plot(suggestion=True)"
   ]
  },
  {
   "cell_type": "code",
   "execution_count": 64,
   "metadata": {
    "ExecuteTime": {
     "end_time": "2019-08-08T18:52:15.467699Z",
     "start_time": "2019-08-08T18:10:19.424415Z"
    }
   },
   "outputs": [
    {
     "data": {
      "text/html": [
       "<table border=\"1\" class=\"dataframe\">\n",
       "  <thead>\n",
       "    <tr style=\"text-align: left;\">\n",
       "      <th>epoch</th>\n",
       "      <th>train_loss</th>\n",
       "      <th>valid_loss</th>\n",
       "      <th>accuracy</th>\n",
       "      <th>time</th>\n",
       "    </tr>\n",
       "  </thead>\n",
       "  <tbody>\n",
       "    <tr>\n",
       "      <td>0</td>\n",
       "      <td>7.117241</td>\n",
       "      <td>7.109141</td>\n",
       "      <td>0.001422</td>\n",
       "      <td>10:28</td>\n",
       "    </tr>\n",
       "    <tr>\n",
       "      <td>1</td>\n",
       "      <td>7.061201</td>\n",
       "      <td>7.023956</td>\n",
       "      <td>0.001680</td>\n",
       "      <td>10:30</td>\n",
       "    </tr>\n",
       "    <tr>\n",
       "      <td>2</td>\n",
       "      <td>6.947589</td>\n",
       "      <td>6.913929</td>\n",
       "      <td>0.002068</td>\n",
       "      <td>10:29</td>\n",
       "    </tr>\n",
       "    <tr>\n",
       "      <td>3</td>\n",
       "      <td>6.882889</td>\n",
       "      <td>6.878943</td>\n",
       "      <td>0.002585</td>\n",
       "      <td>10:27</td>\n",
       "    </tr>\n",
       "  </tbody>\n",
       "</table>"
      ],
      "text/plain": [
       "<IPython.core.display.HTML object>"
      ]
     },
     "metadata": {},
     "output_type": "display_data"
    }
   ],
   "source": [
    "learn.fit_one_cycle(4, max_lr=1e-3)"
   ]
  },
  {
   "cell_type": "code",
   "execution_count": 65,
   "metadata": {
    "ExecuteTime": {
     "end_time": "2019-08-08T18:52:15.659369Z",
     "start_time": "2019-08-08T18:52:15.470447Z"
    }
   },
   "outputs": [
    {
     "data": {
      "image/png": "[encoded data removed]",
      "text/plain": [
       "<Figure size 432x288 with 1 Axes>"
      ]
     },
     "metadata": {
      "needs_background": "light"
     },
     "output_type": "display_data"
    }
   ],
   "source": [
    "learn.recorder.plot_losses()"
   ]
  },
  {
   "cell_type": "code",
   "execution_count": 66,
   "metadata": {
    "ExecuteTime": {
     "end_time": "2019-08-08T18:52:15.771219Z",
     "start_time": "2019-08-08T18:52:15.660612Z"
    }
   },
   "outputs": [
    {
     "data": {
      "image/png": "[encoded data removed]",
      "text/plain": [
       "<Figure size 432x288 with 1 Axes>"
      ]
     },
     "metadata": {
      "needs_background": "light"
     },
     "output_type": "display_data"
    }
   ],
   "source": [
    "learn.recorder.plot_metrics()"
   ]
  },
  {
   "cell_type": "code",
   "execution_count": 67,
   "metadata": {
    "ExecuteTime": {
     "end_time": "2019-08-08T18:52:15.978001Z",
     "start_time": "2019-08-08T18:52:15.772338Z"
    }
   },
   "outputs": [
    {
     "data": {
      "image/png": "[encoded data removed]",
      "text/plain": [
       "<Figure size 864x288 with 2 Axes>"
      ]
     },
     "metadata": {
      "needs_background": "light"
     },
     "output_type": "display_data"
    }
   ],
   "source": [
    "learn.recorder.plot_lr(show_moms=True)"
   ]
  },
  {
   "cell_type": "code",
   "execution_count": 68,
   "metadata": {
    "ExecuteTime": {
     "end_time": "2019-08-08T18:52:16.182406Z",
     "start_time": "2019-08-08T18:52:15.979108Z"
    }
   },
   "outputs": [],
   "source": [
    "learn.save('resnet50/adacos_se_xresnet50c_crop_e004_190808')"
   ]
  },
  {
   "cell_type": "code",
   "execution_count": 69,
   "metadata": {
    "ExecuteTime": {
     "end_time": "2019-08-08T18:52:16.831333Z",
     "start_time": "2019-08-08T18:52:16.183408Z"
    },
    "collapsed": true
   },
   "outputs": [
    {
     "data": {
      "text/plain": [
       "Learner(data=ImageDataBunch;\n",
       "\n",
       "Train: LabelList (57554 items)\n",
       "x: ImageList6D\n",
       "Image6D (6, 128, 128),Image6D (6, 128, 128),Image6D (6, 128, 128),Image6D (6, 128, 128),Image6D (6, 128, 128)\n",
       "y: CategoryList\n",
       "513,840,1020,254,144\n",
       "Path: train;\n",
       "\n",
       "Valid: LabelList (15476 items)\n",
       "x: ImageList6D\n",
       "Image6D (6, 128, 128),Image6D (6, 128, 128),Image6D (6, 128, 128),Image6D (6, 128, 128),Image6D (6, 128, 128)\n",
       "y: CategoryList\n",
       "352,361,503,505,70\n",
       "Path: train;\n",
       "\n",
       "Test: LabelList (39794 items)\n",
       "x: ImageList6D\n",
       "Image6D (6, 128, 128),Image6D (6, 128, 128),Image6D (6, 128, 128),Image6D (6, 128, 128),Image6D (6, 128, 128)\n",
       "y: EmptyLabelList\n",
       ",,,,\n",
       "Path: train, model=AdaCosNet(\n",
       "  (body): SE_XResNetFeature(\n",
       "    (0): Sequential(\n",
       "      (0): Conv2d(6, 32, kernel_size=(3, 3), stride=(2, 2), padding=(1, 1), bias=False)\n",
       "      (1): BatchNorm2d(32, eps=1e-05, momentum=0.1, affine=True, track_running_stats=True)\n",
       "      (2): ReLU(inplace)\n",
       "    )\n",
       "    (1): Sequential(\n",
       "      (0): Conv2d(32, 32, kernel_size=(3, 3), stride=(1, 1), padding=(1, 1), bias=False)\n",
       "      (1): BatchNorm2d(32, eps=1e-05, momentum=0.1, affine=True, track_running_stats=True)\n",
       "      (2): ReLU(inplace)\n",
       "    )\n",
       "    (2): Sequential(\n",
       "      (0): Conv2d(32, 64, kernel_size=(3, 3), stride=(1, 1), padding=(1, 1), bias=False)\n",
       "      (1): BatchNorm2d(64, eps=1e-05, momentum=0.1, affine=True, track_running_stats=True)\n",
       "      (2): ReLU(inplace)\n",
       "    )\n",
       "    (3): MaxPool2d(kernel_size=3, stride=2, padding=1, dilation=1, ceil_mode=False)\n",
       "    (4): Sequential(\n",
       "      (0): SE_ResBlock(\n",
       "        (convs): Sequential(\n",
       "          (0): Sequential(\n",
       "            (0): Conv2d(64, 64, kernel_size=(1, 1), stride=(1, 1), bias=False)\n",
       "            (1): BatchNorm2d(64, eps=1e-05, momentum=0.1, affine=True, track_running_stats=True)\n",
       "            (2): ReLU(inplace)\n",
       "          )\n",
       "          (1): Sequential(\n",
       "            (0): Conv2d(64, 64, kernel_size=(3, 3), stride=(1, 1), padding=(1, 1), bias=False)\n",
       "            (1): BatchNorm2d(64, eps=1e-05, momentum=0.1, affine=True, track_running_stats=True)\n",
       "            (2): ReLU(inplace)\n",
       "          )\n",
       "          (2): Sequential(\n",
       "            (0): Conv2d(64, 256, kernel_size=(1, 1), stride=(1, 1), bias=False)\n",
       "            (1): BatchNorm2d(256, eps=1e-05, momentum=0.1, affine=True, track_running_stats=True)\n",
       "          )\n",
       "          (3): SE_Module(\n",
       "            (avg_pool): AdaptiveAvgPool2d(output_size=1)\n",
       "            (fc1): Conv2d(256, 16, kernel_size=(1, 1), stride=(1, 1))\n",
       "            (relu): ReLU(inplace)\n",
       "            (fc2): Conv2d(16, 256, kernel_size=(1, 1), stride=(1, 1))\n",
       "            (sigmoid): Sigmoid()\n",
       "          )\n",
       "        )\n",
       "        (idconv): Sequential(\n",
       "          (0): Conv2d(64, 256, kernel_size=(1, 1), stride=(1, 1), bias=False)\n",
       "          (1): BatchNorm2d(256, eps=1e-05, momentum=0.1, affine=True, track_running_stats=True)\n",
       "        )\n",
       "      )\n",
       "      (1): SE_ResBlock(\n",
       "        (convs): Sequential(\n",
       "          (0): Sequential(\n",
       "            (0): Conv2d(256, 64, kernel_size=(1, 1), stride=(1, 1), bias=False)\n",
       "            (1): BatchNorm2d(64, eps=1e-05, momentum=0.1, affine=True, track_running_stats=True)\n",
       "            (2): ReLU(inplace)\n",
       "          )\n",
       "          (1): Sequential(\n",
       "            (0): Conv2d(64, 64, kernel_size=(3, 3), stride=(1, 1), padding=(1, 1), bias=False)\n",
       "            (1): BatchNorm2d(64, eps=1e-05, momentum=0.1, affine=True, track_running_stats=True)\n",
       "            (2): ReLU(inplace)\n",
       "          )\n",
       "          (2): Sequential(\n",
       "            (0): Conv2d(64, 256, kernel_size=(1, 1), stride=(1, 1), bias=False)\n",
       "            (1): BatchNorm2d(256, eps=1e-05, momentum=0.1, affine=True, track_running_stats=True)\n",
       "          )\n",
       "          (3): SE_Module(\n",
       "            (avg_pool): AdaptiveAvgPool2d(output_size=1)\n",
       "            (fc1): Conv2d(256, 16, kernel_size=(1, 1), stride=(1, 1))\n",
       "            (relu): ReLU(inplace)\n",
       "            (fc2): Conv2d(16, 256, kernel_size=(1, 1), stride=(1, 1))\n",
       "            (sigmoid): Sigmoid()\n",
       "          )\n",
       "        )\n",
       "      )\n",
       "      (2): SE_ResBlock(\n",
       "        (convs): Sequential(\n",
       "          (0): Sequential(\n",
       "            (0): Conv2d(256, 64, kernel_size=(1, 1), stride=(1, 1), bias=False)\n",
       "            (1): BatchNorm2d(64, eps=1e-05, momentum=0.1, affine=True, track_running_stats=True)\n",
       "            (2): ReLU(inplace)\n",
       "          )\n",
       "          (1): Sequential(\n",
       "            (0): Conv2d(64, 64, kernel_size=(3, 3), stride=(1, 1), padding=(1, 1), bias=False)\n",
       "            (1): BatchNorm2d(64, eps=1e-05, momentum=0.1, affine=True, track_running_stats=True)\n",
       "            (2): ReLU(inplace)\n",
       "          )\n",
       "          (2): Sequential(\n",
       "            (0): Conv2d(64, 256, kernel_size=(1, 1), stride=(1, 1), bias=False)\n",
       "            (1): BatchNorm2d(256, eps=1e-05, momentum=0.1, affine=True, track_running_stats=True)\n",
       "          )\n",
       "          (3): SE_Module(\n",
       "            (avg_pool): AdaptiveAvgPool2d(output_size=1)\n",
       "            (fc1): Conv2d(256, 16, kernel_size=(1, 1), stride=(1, 1))\n",
       "            (relu): ReLU(inplace)\n",
       "            (fc2): Conv2d(16, 256, kernel_size=(1, 1), stride=(1, 1))\n",
       "            (sigmoid): Sigmoid()\n",
       "          )\n",
       "        )\n",
       "      )\n",
       "    )\n",
       "    (5): Sequential(\n",
       "      (0): SE_ResBlock(\n",
       "        (convs): Sequential(\n",
       "          (0): Sequential(\n",
       "            (0): Conv2d(256, 128, kernel_size=(1, 1), stride=(1, 1), bias=False)\n",
       "            (1): BatchNorm2d(128, eps=1e-05, momentum=0.1, affine=True, track_running_stats=True)\n",
       "            (2): ReLU(inplace)\n",
       "          )\n",
       "          (1): Sequential(\n",
       "            (0): Conv2d(128, 128, kernel_size=(3, 3), stride=(2, 2), padding=(1, 1), bias=False)\n",
       "            (1): BatchNorm2d(128, eps=1e-05, momentum=0.1, affine=True, track_running_stats=True)\n",
       "            (2): ReLU(inplace)\n",
       "          )\n",
       "          (2): Sequential(\n",
       "            (0): Conv2d(128, 512, kernel_size=(1, 1), stride=(1, 1), bias=False)\n",
       "            (1): BatchNorm2d(512, eps=1e-05, momentum=0.1, affine=True, track_running_stats=True)\n",
       "          )\n",
       "          (3): SE_Module(\n",
       "            (avg_pool): AdaptiveAvgPool2d(output_size=1)\n",
       "            (fc1): Conv2d(512, 32, kernel_size=(1, 1), stride=(1, 1))\n",
       "            (relu): ReLU(inplace)\n",
       "            (fc2): Conv2d(32, 512, kernel_size=(1, 1), stride=(1, 1))\n",
       "            (sigmoid): Sigmoid()\n",
       "          )\n",
       "        )\n",
       "        (idconv): Sequential(\n",
       "          (0): Conv2d(256, 512, kernel_size=(1, 1), stride=(1, 1), bias=False)\n",
       "          (1): BatchNorm2d(512, eps=1e-05, momentum=0.1, affine=True, track_running_stats=True)\n",
       "        )\n",
       "        (pool): AvgPool2d(kernel_size=2, stride=2, padding=0)\n",
       "      )\n",
       "      (1): SE_ResBlock(\n",
       "        (convs): Sequential(\n",
       "          (0): Sequential(\n",
       "            (0): Conv2d(512, 128, kernel_size=(1, 1), stride=(1, 1), bias=False)\n",
       "            (1): BatchNorm2d(128, eps=1e-05, momentum=0.1, affine=True, track_running_stats=True)\n",
       "            (2): ReLU(inplace)\n",
       "          )\n",
       "          (1): Sequential(\n",
       "            (0): Conv2d(128, 128, kernel_size=(3, 3), stride=(1, 1), padding=(1, 1), bias=False)\n",
       "            (1): BatchNorm2d(128, eps=1e-05, momentum=0.1, affine=True, track_running_stats=True)\n",
       "            (2): ReLU(inplace)\n",
       "          )\n",
       "          (2): Sequential(\n",
       "            (0): Conv2d(128, 512, kernel_size=(1, 1), stride=(1, 1), bias=False)\n",
       "            (1): BatchNorm2d(512, eps=1e-05, momentum=0.1, affine=True, track_running_stats=True)\n",
       "          )\n",
       "          (3): SE_Module(\n",
       "            (avg_pool): AdaptiveAvgPool2d(output_size=1)\n",
       "            (fc1): Conv2d(512, 32, kernel_size=(1, 1), stride=(1, 1))\n",
       "            (relu): ReLU(inplace)\n",
       "            (fc2): Conv2d(32, 512, kernel_size=(1, 1), stride=(1, 1))\n",
       "            (sigmoid): Sigmoid()\n",
       "          )\n",
       "        )\n",
       "      )\n",
       "      (2): SE_ResBlock(\n",
       "        (convs): Sequential(\n",
       "          (0): Sequential(\n",
       "            (0): Conv2d(512, 128, kernel_size=(1, 1), stride=(1, 1), bias=False)\n",
       "            (1): BatchNorm2d(128, eps=1e-05, momentum=0.1, affine=True, track_running_stats=True)\n",
       "            (2): ReLU(inplace)\n",
       "          )\n",
       "          (1): Sequential(\n",
       "            (0): Conv2d(128, 128, kernel_size=(3, 3), stride=(1, 1), padding=(1, 1), bias=False)\n",
       "            (1): BatchNorm2d(128, eps=1e-05, momentum=0.1, affine=True, track_running_stats=True)\n",
       "            (2): ReLU(inplace)\n",
       "          )\n",
       "          (2): Sequential(\n",
       "            (0): Conv2d(128, 512, kernel_size=(1, 1), stride=(1, 1), bias=False)\n",
       "            (1): BatchNorm2d(512, eps=1e-05, momentum=0.1, affine=True, track_running_stats=True)\n",
       "          )\n",
       "          (3): SE_Module(\n",
       "            (avg_pool): AdaptiveAvgPool2d(output_size=1)\n",
       "            (fc1): Conv2d(512, 32, kernel_size=(1, 1), stride=(1, 1))\n",
       "            (relu): ReLU(inplace)\n",
       "            (fc2): Conv2d(32, 512, kernel_size=(1, 1), stride=(1, 1))\n",
       "            (sigmoid): Sigmoid()\n",
       "          )\n",
       "        )\n",
       "      )\n",
       "      (3): SE_ResBlock(\n",
       "        (convs): Sequential(\n",
       "          (0): Sequential(\n",
       "            (0): Conv2d(512, 128, kernel_size=(1, 1), stride=(1, 1), bias=False)\n",
       "            (1): BatchNorm2d(128, eps=1e-05, momentum=0.1, affine=True, track_running_stats=True)\n",
       "            (2): ReLU(inplace)\n",
       "          )\n",
       "          (1): Sequential(\n",
       "            (0): Conv2d(128, 128, kernel_size=(3, 3), stride=(1, 1), padding=(1, 1), bias=False)\n",
       "            (1): BatchNorm2d(128, eps=1e-05, momentum=0.1, affine=True, track_running_stats=True)\n",
       "            (2): ReLU(inplace)\n",
       "          )\n",
       "          (2): Sequential(\n",
       "            (0): Conv2d(128, 512, kernel_size=(1, 1), stride=(1, 1), bias=False)\n",
       "            (1): BatchNorm2d(512, eps=1e-05, momentum=0.1, affine=True, track_running_stats=True)\n",
       "          )\n",
       "          (3): SE_Module(\n",
       "            (avg_pool): AdaptiveAvgPool2d(output_size=1)\n",
       "            (fc1): Conv2d(512, 32, kernel_size=(1, 1), stride=(1, 1))\n",
       "            (relu): ReLU(inplace)\n",
       "            (fc2): Conv2d(32, 512, kernel_size=(1, 1), stride=(1, 1))\n",
       "            (sigmoid): Sigmoid()\n",
       "          )\n",
       "        )\n",
       "      )\n",
       "    )\n",
       "    (6): Sequential(\n",
       "      (0): SE_ResBlock(\n",
       "        (convs): Sequential(\n",
       "          (0): Sequential(\n",
       "            (0): Conv2d(512, 256, kernel_size=(1, 1), stride=(1, 1), bias=False)\n",
       "            (1): BatchNorm2d(256, eps=1e-05, momentum=0.1, affine=True, track_running_stats=True)\n",
       "            (2): ReLU(inplace)\n",
       "          )\n",
       "          (1): Sequential(\n",
       "            (0): Conv2d(256, 256, kernel_size=(3, 3), stride=(2, 2), padding=(1, 1), bias=False)\n",
       "            (1): BatchNorm2d(256, eps=1e-05, momentum=0.1, affine=True, track_running_stats=True)\n",
       "            (2): ReLU(inplace)\n",
       "          )\n",
       "          (2): Sequential(\n",
       "            (0): Conv2d(256, 1024, kernel_size=(1, 1), stride=(1, 1), bias=False)\n",
       "            (1): BatchNorm2d(1024, eps=1e-05, momentum=0.1, affine=True, track_running_stats=True)\n",
       "          )\n",
       "          (3): SE_Module(\n",
       "            (avg_pool): AdaptiveAvgPool2d(output_size=1)\n",
       "            (fc1): Conv2d(1024, 64, kernel_size=(1, 1), stride=(1, 1))\n",
       "            (relu): ReLU(inplace)\n",
       "            (fc2): Conv2d(64, 1024, kernel_size=(1, 1), stride=(1, 1))\n",
       "            (sigmoid): Sigmoid()\n",
       "          )\n",
       "        )\n",
       "        (idconv): Sequential(\n",
       "          (0): Conv2d(512, 1024, kernel_size=(1, 1), stride=(1, 1), bias=False)\n",
       "          (1): BatchNorm2d(1024, eps=1e-05, momentum=0.1, affine=True, track_running_stats=True)\n",
       "        )\n",
       "        (pool): AvgPool2d(kernel_size=2, stride=2, padding=0)\n",
       "      )\n",
       "      (1): SE_ResBlock(\n",
       "        (convs): Sequential(\n",
       "          (0): Sequential(\n",
       "            (0): Conv2d(1024, 256, kernel_size=(1, 1), stride=(1, 1), bias=False)\n",
       "            (1): BatchNorm2d(256, eps=1e-05, momentum=0.1, affine=True, track_running_stats=True)\n",
       "            (2): ReLU(inplace)\n",
       "          )\n",
       "          (1): Sequential(\n",
       "            (0): Conv2d(256, 256, kernel_size=(3, 3), stride=(1, 1), padding=(1, 1), bias=False)\n",
       "            (1): BatchNorm2d(256, eps=1e-05, momentum=0.1, affine=True, track_running_stats=True)\n",
       "            (2): ReLU(inplace)\n",
       "          )\n",
       "          (2): Sequential(\n",
       "            (0): Conv2d(256, 1024, kernel_size=(1, 1), stride=(1, 1), bias=False)\n",
       "            (1): BatchNorm2d(1024, eps=1e-05, momentum=0.1, affine=True, track_running_stats=True)\n",
       "          )\n",
       "          (3): SE_Module(\n",
       "            (avg_pool): AdaptiveAvgPool2d(output_size=1)\n",
       "            (fc1): Conv2d(1024, 64, kernel_size=(1, 1), stride=(1, 1))\n",
       "            (relu): ReLU(inplace)\n",
       "            (fc2): Conv2d(64, 1024, kernel_size=(1, 1), stride=(1, 1))\n",
       "            (sigmoid): Sigmoid()\n",
       "          )\n",
       "        )\n",
       "      )\n",
       "      (2): SE_ResBlock(\n",
       "        (convs): Sequential(\n",
       "          (0): Sequential(\n",
       "            (0): Conv2d(1024, 256, kernel_size=(1, 1), stride=(1, 1), bias=False)\n",
       "            (1): BatchNorm2d(256, eps=1e-05, momentum=0.1, affine=True, track_running_stats=True)\n",
       "            (2): ReLU(inplace)\n",
       "          )\n",
       "          (1): Sequential(\n",
       "            (0): Conv2d(256, 256, kernel_size=(3, 3), stride=(1, 1), padding=(1, 1), bias=False)\n",
       "            (1): BatchNorm2d(256, eps=1e-05, momentum=0.1, affine=True, track_running_stats=True)\n",
       "            (2): ReLU(inplace)\n",
       "          )\n",
       "          (2): Sequential(\n",
       "            (0): Conv2d(256, 1024, kernel_size=(1, 1), stride=(1, 1), bias=False)\n",
       "            (1): BatchNorm2d(1024, eps=1e-05, momentum=0.1, affine=True, track_running_stats=True)\n",
       "          )\n",
       "          (3): SE_Module(\n",
       "            (avg_pool): AdaptiveAvgPool2d(output_size=1)\n",
       "            (fc1): Conv2d(1024, 64, kernel_size=(1, 1), stride=(1, 1))\n",
       "            (relu): ReLU(inplace)\n",
       "            (fc2): Conv2d(64, 1024, kernel_size=(1, 1), stride=(1, 1))\n",
       "            (sigmoid): Sigmoid()\n",
       "          )\n",
       "        )\n",
       "      )\n",
       "      (3): SE_ResBlock(\n",
       "        (convs): Sequential(\n",
       "          (0): Sequential(\n",
       "            (0): Conv2d(1024, 256, kernel_size=(1, 1), stride=(1, 1), bias=False)\n",
       "            (1): BatchNorm2d(256, eps=1e-05, momentum=0.1, affine=True, track_running_stats=True)\n",
       "            (2): ReLU(inplace)\n",
       "          )\n",
       "          (1): Sequential(\n",
       "            (0): Conv2d(256, 256, kernel_size=(3, 3), stride=(1, 1), padding=(1, 1), bias=False)\n",
       "            (1): BatchNorm2d(256, eps=1e-05, momentum=0.1, affine=True, track_running_stats=True)\n",
       "            (2): ReLU(inplace)\n",
       "          )\n",
       "          (2): Sequential(\n",
       "            (0): Conv2d(256, 1024, kernel_size=(1, 1), stride=(1, 1), bias=False)\n",
       "            (1): BatchNorm2d(1024, eps=1e-05, momentum=0.1, affine=True, track_running_stats=True)\n",
       "          )\n",
       "          (3): SE_Module(\n",
       "            (avg_pool): AdaptiveAvgPool2d(output_size=1)\n",
       "            (fc1): Conv2d(1024, 64, kernel_size=(1, 1), stride=(1, 1))\n",
       "            (relu): ReLU(inplace)\n",
       "            (fc2): Conv2d(64, 1024, kernel_size=(1, 1), stride=(1, 1))\n",
       "            (sigmoid): Sigmoid()\n",
       "          )\n",
       "        )\n",
       "      )\n",
       "      (4): SE_ResBlock(\n",
       "        (convs): Sequential(\n",
       "          (0): Sequential(\n",
       "            (0): Conv2d(1024, 256, kernel_size=(1, 1), stride=(1, 1), bias=False)\n",
       "            (1): BatchNorm2d(256, eps=1e-05, momentum=0.1, affine=True, track_running_stats=True)\n",
       "            (2): ReLU(inplace)\n",
       "          )\n",
       "          (1): Sequential(\n",
       "            (0): Conv2d(256, 256, kernel_size=(3, 3), stride=(1, 1), padding=(1, 1), bias=False)\n",
       "            (1): BatchNorm2d(256, eps=1e-05, momentum=0.1, affine=True, track_running_stats=True)\n",
       "            (2): ReLU(inplace)\n",
       "          )\n",
       "          (2): Sequential(\n",
       "            (0): Conv2d(256, 1024, kernel_size=(1, 1), stride=(1, 1), bias=False)\n",
       "            (1): BatchNorm2d(1024, eps=1e-05, momentum=0.1, affine=True, track_running_stats=True)\n",
       "          )\n",
       "          (3): SE_Module(\n",
       "            (avg_pool): AdaptiveAvgPool2d(output_size=1)\n",
       "            (fc1): Conv2d(1024, 64, kernel_size=(1, 1), stride=(1, 1))\n",
       "            (relu): ReLU(inplace)\n",
       "            (fc2): Conv2d(64, 1024, kernel_size=(1, 1), stride=(1, 1))\n",
       "            (sigmoid): Sigmoid()\n",
       "          )\n",
       "        )\n",
       "      )\n",
       "      (5): SE_ResBlock(\n",
       "        (convs): Sequential(\n",
       "          (0): Sequential(\n",
       "            (0): Conv2d(1024, 256, kernel_size=(1, 1), stride=(1, 1), bias=False)\n",
       "            (1): BatchNorm2d(256, eps=1e-05, momentum=0.1, affine=True, track_running_stats=True)\n",
       "            (2): ReLU(inplace)\n",
       "          )\n",
       "          (1): Sequential(\n",
       "            (0): Conv2d(256, 256, kernel_size=(3, 3), stride=(1, 1), padding=(1, 1), bias=False)\n",
       "            (1): BatchNorm2d(256, eps=1e-05, momentum=0.1, affine=True, track_running_stats=True)\n",
       "            (2): ReLU(inplace)\n",
       "          )\n",
       "          (2): Sequential(\n",
       "            (0): Conv2d(256, 1024, kernel_size=(1, 1), stride=(1, 1), bias=False)\n",
       "            (1): BatchNorm2d(1024, eps=1e-05, momentum=0.1, affine=True, track_running_stats=True)\n",
       "          )\n",
       "          (3): SE_Module(\n",
       "            (avg_pool): AdaptiveAvgPool2d(output_size=1)\n",
       "            (fc1): Conv2d(1024, 64, kernel_size=(1, 1), stride=(1, 1))\n",
       "            (relu): ReLU(inplace)\n",
       "            (fc2): Conv2d(64, 1024, kernel_size=(1, 1), stride=(1, 1))\n",
       "            (sigmoid): Sigmoid()\n",
       "          )\n",
       "        )\n",
       "      )\n",
       "    )\n",
       "    (7): Sequential(\n",
       "      (0): SE_ResBlock(\n",
       "        (convs): Sequential(\n",
       "          (0): Sequential(\n",
       "            (0): Conv2d(1024, 512, kernel_size=(1, 1), stride=(1, 1), bias=False)\n",
       "            (1): BatchNorm2d(512, eps=1e-05, momentum=0.1, affine=True, track_running_stats=True)\n",
       "            (2): ReLU(inplace)\n",
       "          )\n",
       "          (1): Sequential(\n",
       "            (0): Conv2d(512, 512, kernel_size=(3, 3), stride=(2, 2), padding=(1, 1), bias=False)\n",
       "            (1): BatchNorm2d(512, eps=1e-05, momentum=0.1, affine=True, track_running_stats=True)\n",
       "            (2): ReLU(inplace)\n",
       "          )\n",
       "          (2): Sequential(\n",
       "            (0): Conv2d(512, 2048, kernel_size=(1, 1), stride=(1, 1), bias=False)\n",
       "            (1): BatchNorm2d(2048, eps=1e-05, momentum=0.1, affine=True, track_running_stats=True)\n",
       "          )\n",
       "          (3): SE_Module(\n",
       "            (avg_pool): AdaptiveAvgPool2d(output_size=1)\n",
       "            (fc1): Conv2d(2048, 128, kernel_size=(1, 1), stride=(1, 1))\n",
       "            (relu): ReLU(inplace)\n",
       "            (fc2): Conv2d(128, 2048, kernel_size=(1, 1), stride=(1, 1))\n",
       "            (sigmoid): Sigmoid()\n",
       "          )\n",
       "        )\n",
       "        (idconv): Sequential(\n",
       "          (0): Conv2d(1024, 2048, kernel_size=(1, 1), stride=(1, 1), bias=False)\n",
       "          (1): BatchNorm2d(2048, eps=1e-05, momentum=0.1, affine=True, track_running_stats=True)\n",
       "        )\n",
       "        (pool): AvgPool2d(kernel_size=2, stride=2, padding=0)\n",
       "      )\n",
       "      (1): SE_ResBlock(\n",
       "        (convs): Sequential(\n",
       "          (0): Sequential(\n",
       "            (0): Conv2d(2048, 512, kernel_size=(1, 1), stride=(1, 1), bias=False)\n",
       "            (1): BatchNorm2d(512, eps=1e-05, momentum=0.1, affine=True, track_running_stats=True)\n",
       "            (2): ReLU(inplace)\n",
       "          )\n",
       "          (1): Sequential(\n",
       "            (0): Conv2d(512, 512, kernel_size=(3, 3), stride=(1, 1), padding=(1, 1), bias=False)\n",
       "            (1): BatchNorm2d(512, eps=1e-05, momentum=0.1, affine=True, track_running_stats=True)\n",
       "            (2): ReLU(inplace)\n",
       "          )\n",
       "          (2): Sequential(\n",
       "            (0): Conv2d(512, 2048, kernel_size=(1, 1), stride=(1, 1), bias=False)\n",
       "            (1): BatchNorm2d(2048, eps=1e-05, momentum=0.1, affine=True, track_running_stats=True)\n",
       "          )\n",
       "          (3): SE_Module(\n",
       "            (avg_pool): AdaptiveAvgPool2d(output_size=1)\n",
       "            (fc1): Conv2d(2048, 128, kernel_size=(1, 1), stride=(1, 1))\n",
       "            (relu): ReLU(inplace)\n",
       "            (fc2): Conv2d(128, 2048, kernel_size=(1, 1), stride=(1, 1))\n",
       "            (sigmoid): Sigmoid()\n",
       "          )\n",
       "        )\n",
       "      )\n",
       "      (2): SE_ResBlock(\n",
       "        (convs): Sequential(\n",
       "          (0): Sequential(\n",
       "            (0): Conv2d(2048, 512, kernel_size=(1, 1), stride=(1, 1), bias=False)\n",
       "            (1): BatchNorm2d(512, eps=1e-05, momentum=0.1, affine=True, track_running_stats=True)\n",
       "            (2): ReLU(inplace)\n",
       "          )\n",
       "          (1): Sequential(\n",
       "            (0): Conv2d(512, 512, kernel_size=(3, 3), stride=(1, 1), padding=(1, 1), bias=False)\n",
       "            (1): BatchNorm2d(512, eps=1e-05, momentum=0.1, affine=True, track_running_stats=True)\n",
       "            (2): ReLU(inplace)\n",
       "          )\n",
       "          (2): Sequential(\n",
       "            (0): Conv2d(512, 2048, kernel_size=(1, 1), stride=(1, 1), bias=False)\n",
       "            (1): BatchNorm2d(2048, eps=1e-05, momentum=0.1, affine=True, track_running_stats=True)\n",
       "          )\n",
       "          (3): SE_Module(\n",
       "            (avg_pool): AdaptiveAvgPool2d(output_size=1)\n",
       "            (fc1): Conv2d(2048, 128, kernel_size=(1, 1), stride=(1, 1))\n",
       "            (relu): ReLU(inplace)\n",
       "            (fc2): Conv2d(128, 2048, kernel_size=(1, 1), stride=(1, 1))\n",
       "            (sigmoid): Sigmoid()\n",
       "          )\n",
       "        )\n",
       "      )\n",
       "    )\n",
       "  )\n",
       "  (head): Sequential(\n",
       "    (0): AdaptiveConcatPool2d(\n",
       "      (ap): AdaptiveAvgPool2d(output_size=1)\n",
       "      (mp): AdaptiveMaxPool2d(output_size=1)\n",
       "    )\n",
       "    (1): Flatten()\n",
       "    (2): BatchNorm1d(4096, eps=1e-05, momentum=0.1, affine=True, track_running_stats=True)\n",
       "    (3): Dropout(p=0.25)\n",
       "    (4): Linear(in_features=4096, out_features=512, bias=True)\n",
       "    (5): ReLU(inplace)\n",
       "    (6): BatchNorm1d(512, eps=1e-05, momentum=0.1, affine=True, track_running_stats=True)\n",
       "    (7): Dropout(p=0.5)\n",
       "    (8): Linear(in_features=512, out_features=512, bias=True)\n",
       "  )\n",
       "  (adacos): AdaCos()\n",
       "), opt_func=functools.partial(<class 'torch.optim.adam.Adam'>, betas=(0.9, 0.99)), loss_func=FlattenedLoss of CrossEntropyLoss(), metrics=[<function accuracy at 0x7fdc7888c0d0>], true_wd=True, bn_wd=True, wd=0.01, train_bn=True, path=PosixPath('train'), model_dir='models', callback_fns=[functools.partial(<class 'fastai.basic_train.Recorder'>, add_time=True, silent=False), <class 'fastai.callbacks.csv_logger.CSVLogger'>, <class '__main__.AppendBatchTargs'>], callbacks=[], layer_groups=[Sequential(\n",
       "  (0): Conv2d(6, 32, kernel_size=(3, 3), stride=(2, 2), padding=(1, 1), bias=False)\n",
       "  (1): BatchNorm2d(32, eps=1e-05, momentum=0.1, affine=True, track_running_stats=True)\n",
       "  (2): ReLU(inplace)\n",
       "  (3): Conv2d(32, 32, kernel_size=(3, 3), stride=(1, 1), padding=(1, 1), bias=False)\n",
       "  (4): BatchNorm2d(32, eps=1e-05, momentum=0.1, affine=True, track_running_stats=True)\n",
       "  (5): ReLU(inplace)\n",
       "  (6): Conv2d(32, 64, kernel_size=(3, 3), stride=(1, 1), padding=(1, 1), bias=False)\n",
       "  (7): BatchNorm2d(64, eps=1e-05, momentum=0.1, affine=True, track_running_stats=True)\n",
       "  (8): ReLU(inplace)\n",
       "  (9): MaxPool2d(kernel_size=3, stride=2, padding=1, dilation=1, ceil_mode=False)\n",
       "  (10): Conv2d(64, 64, kernel_size=(1, 1), stride=(1, 1), bias=False)\n",
       "  (11): BatchNorm2d(64, eps=1e-05, momentum=0.1, affine=True, track_running_stats=True)\n",
       "  (12): ReLU(inplace)\n",
       "  (13): Conv2d(64, 64, kernel_size=(3, 3), stride=(1, 1), padding=(1, 1), bias=False)\n",
       "  (14): BatchNorm2d(64, eps=1e-05, momentum=0.1, affine=True, track_running_stats=True)\n",
       "  (15): ReLU(inplace)\n",
       "  (16): Conv2d(64, 256, kernel_size=(1, 1), stride=(1, 1), bias=False)\n",
       "  (17): BatchNorm2d(256, eps=1e-05, momentum=0.1, affine=True, track_running_stats=True)\n",
       "  (18): AdaptiveAvgPool2d(output_size=1)\n",
       "  (19): Conv2d(256, 16, kernel_size=(1, 1), stride=(1, 1))\n",
       "  (20): ReLU(inplace)\n",
       "  (21): Conv2d(16, 256, kernel_size=(1, 1), stride=(1, 1))\n",
       "  (22): Sigmoid()\n",
       "  (23): Conv2d(64, 256, kernel_size=(1, 1), stride=(1, 1), bias=False)\n",
       "  (24): BatchNorm2d(256, eps=1e-05, momentum=0.1, affine=True, track_running_stats=True)\n",
       "  (25): Conv2d(256, 64, kernel_size=(1, 1), stride=(1, 1), bias=False)\n",
       "  (26): BatchNorm2d(64, eps=1e-05, momentum=0.1, affine=True, track_running_stats=True)\n",
       "  (27): ReLU(inplace)\n",
       "  (28): Conv2d(64, 64, kernel_size=(3, 3), stride=(1, 1), padding=(1, 1), bias=False)\n",
       "  (29): BatchNorm2d(64, eps=1e-05, momentum=0.1, affine=True, track_running_stats=True)\n",
       "  (30): ReLU(inplace)\n",
       "  (31): Conv2d(64, 256, kernel_size=(1, 1), stride=(1, 1), bias=False)\n",
       "  (32): BatchNorm2d(256, eps=1e-05, momentum=0.1, affine=True, track_running_stats=True)\n",
       "  (33): AdaptiveAvgPool2d(output_size=1)\n",
       "  (34): Conv2d(256, 16, kernel_size=(1, 1), stride=(1, 1))\n",
       "  (35): ReLU(inplace)\n",
       "  (36): Conv2d(16, 256, kernel_size=(1, 1), stride=(1, 1))\n",
       "  (37): Sigmoid()\n",
       "  (38): Conv2d(256, 64, kernel_size=(1, 1), stride=(1, 1), bias=False)\n",
       "  (39): BatchNorm2d(64, eps=1e-05, momentum=0.1, affine=True, track_running_stats=True)\n",
       "  (40): ReLU(inplace)\n",
       "  (41): Conv2d(64, 64, kernel_size=(3, 3), stride=(1, 1), padding=(1, 1), bias=False)\n",
       "  (42): BatchNorm2d(64, eps=1e-05, momentum=0.1, affine=True, track_running_stats=True)\n",
       "  (43): ReLU(inplace)\n",
       "  (44): Conv2d(64, 256, kernel_size=(1, 1), stride=(1, 1), bias=False)\n",
       "  (45): BatchNorm2d(256, eps=1e-05, momentum=0.1, affine=True, track_running_stats=True)\n",
       "  (46): AdaptiveAvgPool2d(output_size=1)\n",
       "  (47): Conv2d(256, 16, kernel_size=(1, 1), stride=(1, 1))\n",
       "  (48): ReLU(inplace)\n",
       "  (49): Conv2d(16, 256, kernel_size=(1, 1), stride=(1, 1))\n",
       "  (50): Sigmoid()\n",
       "  (51): Conv2d(256, 128, kernel_size=(1, 1), stride=(1, 1), bias=False)\n",
       "  (52): BatchNorm2d(128, eps=1e-05, momentum=0.1, affine=True, track_running_stats=True)\n",
       "  (53): ReLU(inplace)\n",
       "  (54): Conv2d(128, 128, kernel_size=(3, 3), stride=(2, 2), padding=(1, 1), bias=False)\n",
       "  (55): BatchNorm2d(128, eps=1e-05, momentum=0.1, affine=True, track_running_stats=True)\n",
       "  (56): ReLU(inplace)\n",
       "  (57): Conv2d(128, 512, kernel_size=(1, 1), stride=(1, 1), bias=False)\n",
       "  (58): BatchNorm2d(512, eps=1e-05, momentum=0.1, affine=True, track_running_stats=True)\n",
       "  (59): AdaptiveAvgPool2d(output_size=1)\n",
       "  (60): Conv2d(512, 32, kernel_size=(1, 1), stride=(1, 1))\n",
       "  (61): ReLU(inplace)\n",
       "  (62): Conv2d(32, 512, kernel_size=(1, 1), stride=(1, 1))\n",
       "  (63): Sigmoid()\n",
       "  (64): Conv2d(256, 512, kernel_size=(1, 1), stride=(1, 1), bias=False)\n",
       "  (65): BatchNorm2d(512, eps=1e-05, momentum=0.1, affine=True, track_running_stats=True)\n",
       "  (66): AvgPool2d(kernel_size=2, stride=2, padding=0)\n",
       "  (67): Conv2d(512, 128, kernel_size=(1, 1), stride=(1, 1), bias=False)\n",
       "  (68): BatchNorm2d(128, eps=1e-05, momentum=0.1, affine=True, track_running_stats=True)\n",
       "  (69): ReLU(inplace)\n",
       "  (70): Conv2d(128, 128, kernel_size=(3, 3), stride=(1, 1), padding=(1, 1), bias=False)\n",
       "  (71): BatchNorm2d(128, eps=1e-05, momentum=0.1, affine=True, track_running_stats=True)\n",
       "  (72): ReLU(inplace)\n",
       "  (73): Conv2d(128, 512, kernel_size=(1, 1), stride=(1, 1), bias=False)\n",
       "  (74): BatchNorm2d(512, eps=1e-05, momentum=0.1, affine=True, track_running_stats=True)\n",
       "  (75): AdaptiveAvgPool2d(output_size=1)\n",
       "  (76): Conv2d(512, 32, kernel_size=(1, 1), stride=(1, 1))\n",
       "  (77): ReLU(inplace)\n",
       "  (78): Conv2d(32, 512, kernel_size=(1, 1), stride=(1, 1))\n",
       "  (79): Sigmoid()\n",
       "  (80): Conv2d(512, 128, kernel_size=(1, 1), stride=(1, 1), bias=False)\n",
       "  (81): BatchNorm2d(128, eps=1e-05, momentum=0.1, affine=True, track_running_stats=True)\n",
       "  (82): ReLU(inplace)\n",
       "  (83): Conv2d(128, 128, kernel_size=(3, 3), stride=(1, 1), padding=(1, 1), bias=False)\n",
       "  (84): BatchNorm2d(128, eps=1e-05, momentum=0.1, affine=True, track_running_stats=True)\n",
       "  (85): ReLU(inplace)\n",
       "  (86): Conv2d(128, 512, kernel_size=(1, 1), stride=(1, 1), bias=False)\n",
       "  (87): BatchNorm2d(512, eps=1e-05, momentum=0.1, affine=True, track_running_stats=True)\n",
       "  (88): AdaptiveAvgPool2d(output_size=1)\n",
       "  (89): Conv2d(512, 32, kernel_size=(1, 1), stride=(1, 1))\n",
       "  (90): ReLU(inplace)\n",
       "  (91): Conv2d(32, 512, kernel_size=(1, 1), stride=(1, 1))\n",
       "  (92): Sigmoid()\n",
       "  (93): Conv2d(512, 128, kernel_size=(1, 1), stride=(1, 1), bias=False)\n",
       "  (94): BatchNorm2d(128, eps=1e-05, momentum=0.1, affine=True, track_running_stats=True)\n",
       "  (95): ReLU(inplace)\n",
       "  (96): Conv2d(128, 128, kernel_size=(3, 3), stride=(1, 1), padding=(1, 1), bias=False)\n",
       "  (97): BatchNorm2d(128, eps=1e-05, momentum=0.1, affine=True, track_running_stats=True)\n",
       "  (98): ReLU(inplace)\n",
       "  (99): Conv2d(128, 512, kernel_size=(1, 1), stride=(1, 1), bias=False)\n",
       "  (100): BatchNorm2d(512, eps=1e-05, momentum=0.1, affine=True, track_running_stats=True)\n",
       "  (101): AdaptiveAvgPool2d(output_size=1)\n",
       "  (102): Conv2d(512, 32, kernel_size=(1, 1), stride=(1, 1))\n",
       "  (103): ReLU(inplace)\n",
       "  (104): Conv2d(32, 512, kernel_size=(1, 1), stride=(1, 1))\n",
       "  (105): Sigmoid()\n",
       "  (106): Conv2d(512, 256, kernel_size=(1, 1), stride=(1, 1), bias=False)\n",
       "  (107): BatchNorm2d(256, eps=1e-05, momentum=0.1, affine=True, track_running_stats=True)\n",
       "  (108): ReLU(inplace)\n",
       "  (109): Conv2d(256, 256, kernel_size=(3, 3), stride=(2, 2), padding=(1, 1), bias=False)\n",
       "  (110): BatchNorm2d(256, eps=1e-05, momentum=0.1, affine=True, track_running_stats=True)\n",
       "  (111): ReLU(inplace)\n",
       "  (112): Conv2d(256, 1024, kernel_size=(1, 1), stride=(1, 1), bias=False)\n",
       "  (113): BatchNorm2d(1024, eps=1e-05, momentum=0.1, affine=True, track_running_stats=True)\n",
       "  (114): AdaptiveAvgPool2d(output_size=1)\n",
       "  (115): Conv2d(1024, 64, kernel_size=(1, 1), stride=(1, 1))\n",
       "  (116): ReLU(inplace)\n",
       "  (117): Conv2d(64, 1024, kernel_size=(1, 1), stride=(1, 1))\n",
       "  (118): Sigmoid()\n",
       "  (119): Conv2d(512, 1024, kernel_size=(1, 1), stride=(1, 1), bias=False)\n",
       "  (120): BatchNorm2d(1024, eps=1e-05, momentum=0.1, affine=True, track_running_stats=True)\n",
       "  (121): AvgPool2d(kernel_size=2, stride=2, padding=0)\n",
       "  (122): Conv2d(1024, 256, kernel_size=(1, 1), stride=(1, 1), bias=False)\n",
       "  (123): BatchNorm2d(256, eps=1e-05, momentum=0.1, affine=True, track_running_stats=True)\n",
       "  (124): ReLU(inplace)\n",
       "  (125): Conv2d(256, 256, kernel_size=(3, 3), stride=(1, 1), padding=(1, 1), bias=False)\n",
       "  (126): BatchNorm2d(256, eps=1e-05, momentum=0.1, affine=True, track_running_stats=True)\n",
       "  (127): ReLU(inplace)\n",
       "  (128): Conv2d(256, 1024, kernel_size=(1, 1), stride=(1, 1), bias=False)\n",
       "  (129): BatchNorm2d(1024, eps=1e-05, momentum=0.1, affine=True, track_running_stats=True)\n",
       "  (130): AdaptiveAvgPool2d(output_size=1)\n",
       "  (131): Conv2d(1024, 64, kernel_size=(1, 1), stride=(1, 1))\n",
       "  (132): ReLU(inplace)\n",
       "  (133): Conv2d(64, 1024, kernel_size=(1, 1), stride=(1, 1))\n",
       "  (134): Sigmoid()\n",
       "  (135): Conv2d(1024, 256, kernel_size=(1, 1), stride=(1, 1), bias=False)\n",
       "  (136): BatchNorm2d(256, eps=1e-05, momentum=0.1, affine=True, track_running_stats=True)\n",
       "  (137): ReLU(inplace)\n",
       "  (138): Conv2d(256, 256, kernel_size=(3, 3), stride=(1, 1), padding=(1, 1), bias=False)\n",
       "  (139): BatchNorm2d(256, eps=1e-05, momentum=0.1, affine=True, track_running_stats=True)\n",
       "  (140): ReLU(inplace)\n",
       "  (141): Conv2d(256, 1024, kernel_size=(1, 1), stride=(1, 1), bias=False)\n",
       "  (142): BatchNorm2d(1024, eps=1e-05, momentum=0.1, affine=True, track_running_stats=True)\n",
       "  (143): AdaptiveAvgPool2d(output_size=1)\n",
       "  (144): Conv2d(1024, 64, kernel_size=(1, 1), stride=(1, 1))\n",
       "  (145): ReLU(inplace)\n",
       "  (146): Conv2d(64, 1024, kernel_size=(1, 1), stride=(1, 1))\n",
       "  (147): Sigmoid()\n",
       "  (148): Conv2d(1024, 256, kernel_size=(1, 1), stride=(1, 1), bias=False)\n",
       "  (149): BatchNorm2d(256, eps=1e-05, momentum=0.1, affine=True, track_running_stats=True)\n",
       "  (150): ReLU(inplace)\n",
       "  (151): Conv2d(256, 256, kernel_size=(3, 3), stride=(1, 1), padding=(1, 1), bias=False)\n",
       "  (152): BatchNorm2d(256, eps=1e-05, momentum=0.1, affine=True, track_running_stats=True)\n",
       "  (153): ReLU(inplace)\n",
       "  (154): Conv2d(256, 1024, kernel_size=(1, 1), stride=(1, 1), bias=False)\n",
       "  (155): BatchNorm2d(1024, eps=1e-05, momentum=0.1, affine=True, track_running_stats=True)\n",
       "  (156): AdaptiveAvgPool2d(output_size=1)\n",
       "  (157): Conv2d(1024, 64, kernel_size=(1, 1), stride=(1, 1))\n",
       "  (158): ReLU(inplace)\n",
       "  (159): Conv2d(64, 1024, kernel_size=(1, 1), stride=(1, 1))\n",
       "  (160): Sigmoid()\n",
       "  (161): Conv2d(1024, 256, kernel_size=(1, 1), stride=(1, 1), bias=False)\n",
       "  (162): BatchNorm2d(256, eps=1e-05, momentum=0.1, affine=True, track_running_stats=True)\n",
       "  (163): ReLU(inplace)\n",
       "  (164): Conv2d(256, 256, kernel_size=(3, 3), stride=(1, 1), padding=(1, 1), bias=False)\n",
       "  (165): BatchNorm2d(256, eps=1e-05, momentum=0.1, affine=True, track_running_stats=True)\n",
       "  (166): ReLU(inplace)\n",
       "  (167): Conv2d(256, 1024, kernel_size=(1, 1), stride=(1, 1), bias=False)\n",
       "  (168): BatchNorm2d(1024, eps=1e-05, momentum=0.1, affine=True, track_running_stats=True)\n",
       "  (169): AdaptiveAvgPool2d(output_size=1)\n",
       "  (170): Conv2d(1024, 64, kernel_size=(1, 1), stride=(1, 1))\n",
       "  (171): ReLU(inplace)\n",
       "  (172): Conv2d(64, 1024, kernel_size=(1, 1), stride=(1, 1))\n",
       "  (173): Sigmoid()\n",
       "  (174): Conv2d(1024, 256, kernel_size=(1, 1), stride=(1, 1), bias=False)\n",
       "  (175): BatchNorm2d(256, eps=1e-05, momentum=0.1, affine=True, track_running_stats=True)\n",
       "  (176): ReLU(inplace)\n",
       "  (177): Conv2d(256, 256, kernel_size=(3, 3), stride=(1, 1), padding=(1, 1), bias=False)\n",
       "  (178): BatchNorm2d(256, eps=1e-05, momentum=0.1, affine=True, track_running_stats=True)\n",
       "  (179): ReLU(inplace)\n",
       "  (180): Conv2d(256, 1024, kernel_size=(1, 1), stride=(1, 1), bias=False)\n",
       "  (181): BatchNorm2d(1024, eps=1e-05, momentum=0.1, affine=True, track_running_stats=True)\n",
       "  (182): AdaptiveAvgPool2d(output_size=1)\n",
       "  (183): Conv2d(1024, 64, kernel_size=(1, 1), stride=(1, 1))\n",
       "  (184): ReLU(inplace)\n",
       "  (185): Conv2d(64, 1024, kernel_size=(1, 1), stride=(1, 1))\n",
       "  (186): Sigmoid()\n",
       "  (187): Conv2d(1024, 512, kernel_size=(1, 1), stride=(1, 1), bias=False)\n",
       "  (188): BatchNorm2d(512, eps=1e-05, momentum=0.1, affine=True, track_running_stats=True)\n",
       "  (189): ReLU(inplace)\n",
       "  (190): Conv2d(512, 512, kernel_size=(3, 3), stride=(2, 2), padding=(1, 1), bias=False)\n",
       "  (191): BatchNorm2d(512, eps=1e-05, momentum=0.1, affine=True, track_running_stats=True)\n",
       "  (192): ReLU(inplace)\n",
       "  (193): Conv2d(512, 2048, kernel_size=(1, 1), stride=(1, 1), bias=False)\n",
       "  (194): BatchNorm2d(2048, eps=1e-05, momentum=0.1, affine=True, track_running_stats=True)\n",
       "  (195): AdaptiveAvgPool2d(output_size=1)\n",
       "  (196): Conv2d(2048, 128, kernel_size=(1, 1), stride=(1, 1))\n",
       "  (197): ReLU(inplace)\n",
       "  (198): Conv2d(128, 2048, kernel_size=(1, 1), stride=(1, 1))\n",
       "  (199): Sigmoid()\n",
       "  (200): Conv2d(1024, 2048, kernel_size=(1, 1), stride=(1, 1), bias=False)\n",
       "  (201): BatchNorm2d(2048, eps=1e-05, momentum=0.1, affine=True, track_running_stats=True)\n",
       "  (202): AvgPool2d(kernel_size=2, stride=2, padding=0)\n",
       "  (203): Conv2d(2048, 512, kernel_size=(1, 1), stride=(1, 1), bias=False)\n",
       "  (204): BatchNorm2d(512, eps=1e-05, momentum=0.1, affine=True, track_running_stats=True)\n",
       "  (205): ReLU(inplace)\n",
       "  (206): Conv2d(512, 512, kernel_size=(3, 3), stride=(1, 1), padding=(1, 1), bias=False)\n",
       "  (207): BatchNorm2d(512, eps=1e-05, momentum=0.1, affine=True, track_running_stats=True)\n",
       "  (208): ReLU(inplace)\n",
       "  (209): Conv2d(512, 2048, kernel_size=(1, 1), stride=(1, 1), bias=False)\n",
       "  (210): BatchNorm2d(2048, eps=1e-05, momentum=0.1, affine=True, track_running_stats=True)\n",
       "  (211): AdaptiveAvgPool2d(output_size=1)\n",
       "  (212): Conv2d(2048, 128, kernel_size=(1, 1), stride=(1, 1))\n",
       "  (213): ReLU(inplace)\n",
       "  (214): Conv2d(128, 2048, kernel_size=(1, 1), stride=(1, 1))\n",
       "  (215): Sigmoid()\n",
       "  (216): Conv2d(2048, 512, kernel_size=(1, 1), stride=(1, 1), bias=False)\n",
       "  (217): BatchNorm2d(512, eps=1e-05, momentum=0.1, affine=True, track_running_stats=True)\n",
       "  (218): ReLU(inplace)\n",
       "  (219): Conv2d(512, 512, kernel_size=(3, 3), stride=(1, 1), padding=(1, 1), bias=False)\n",
       "  (220): BatchNorm2d(512, eps=1e-05, momentum=0.1, affine=True, track_running_stats=True)\n",
       "  (221): ReLU(inplace)\n",
       "  (222): Conv2d(512, 2048, kernel_size=(1, 1), stride=(1, 1), bias=False)\n",
       "  (223): BatchNorm2d(2048, eps=1e-05, momentum=0.1, affine=True, track_running_stats=True)\n",
       "  (224): AdaptiveAvgPool2d(output_size=1)\n",
       "  (225): Conv2d(2048, 128, kernel_size=(1, 1), stride=(1, 1))\n",
       "  (226): ReLU(inplace)\n",
       "  (227): Conv2d(128, 2048, kernel_size=(1, 1), stride=(1, 1))\n",
       "  (228): Sigmoid()\n",
       "  (229): AdaptiveAvgPool2d(output_size=1)\n",
       "  (230): AdaptiveMaxPool2d(output_size=1)\n",
       "  (231): Flatten()\n",
       "  (232): BatchNorm1d(4096, eps=1e-05, momentum=0.1, affine=True, track_running_stats=True)\n",
       "  (233): Dropout(p=0.25)\n",
       "  (234): Linear(in_features=4096, out_features=512, bias=True)\n",
       "  (235): ReLU(inplace)\n",
       "  (236): BatchNorm1d(512, eps=1e-05, momentum=0.1, affine=True, track_running_stats=True)\n",
       "  (237): Dropout(p=0.5)\n",
       "  (238): Linear(in_features=512, out_features=512, bias=True)\n",
       "  (239): AdaCos()\n",
       ")], add_time=True, silent=False)"
      ]
     },
     "execution_count": 69,
     "metadata": {},
     "output_type": "execute_result"
    }
   ],
   "source": [
    "learn.load('resnet50/adacos_se_xresnet50c_crop_e004_190808');"
   ]
  },
  {
   "cell_type": "code",
   "execution_count": 70,
   "metadata": {
    "ExecuteTime": {
     "end_time": "2019-08-08T20:16:28.462830Z",
     "start_time": "2019-08-08T18:52:16.832340Z"
    }
   },
   "outputs": [
    {
     "data": {
      "text/html": [
       "<table border=\"1\" class=\"dataframe\">\n",
       "  <thead>\n",
       "    <tr style=\"text-align: left;\">\n",
       "      <th>epoch</th>\n",
       "      <th>train_loss</th>\n",
       "      <th>valid_loss</th>\n",
       "      <th>accuracy</th>\n",
       "      <th>time</th>\n",
       "    </tr>\n",
       "  </thead>\n",
       "  <tbody>\n",
       "    <tr>\n",
       "      <td>0</td>\n",
       "      <td>6.881521</td>\n",
       "      <td>6.904902</td>\n",
       "      <td>0.003166</td>\n",
       "      <td>10:29</td>\n",
       "    </tr>\n",
       "    <tr>\n",
       "      <td>1</td>\n",
       "      <td>6.919456</td>\n",
       "      <td>6.925850</td>\n",
       "      <td>0.001680</td>\n",
       "      <td>10:30</td>\n",
       "    </tr>\n",
       "    <tr>\n",
       "      <td>2</td>\n",
       "      <td>6.888648</td>\n",
       "      <td>6.891063</td>\n",
       "      <td>0.002585</td>\n",
       "      <td>10:32</td>\n",
       "    </tr>\n",
       "    <tr>\n",
       "      <td>3</td>\n",
       "      <td>6.821239</td>\n",
       "      <td>6.843845</td>\n",
       "      <td>0.003360</td>\n",
       "      <td>10:30</td>\n",
       "    </tr>\n",
       "    <tr>\n",
       "      <td>4</td>\n",
       "      <td>6.761535</td>\n",
       "      <td>6.792528</td>\n",
       "      <td>0.005428</td>\n",
       "      <td>10:31</td>\n",
       "    </tr>\n",
       "    <tr>\n",
       "      <td>5</td>\n",
       "      <td>6.691651</td>\n",
       "      <td>6.766050</td>\n",
       "      <td>0.005622</td>\n",
       "      <td>10:34</td>\n",
       "    </tr>\n",
       "    <tr>\n",
       "      <td>6</td>\n",
       "      <td>6.631653</td>\n",
       "      <td>6.752459</td>\n",
       "      <td>0.006914</td>\n",
       "      <td>10:30</td>\n",
       "    </tr>\n",
       "    <tr>\n",
       "      <td>7</td>\n",
       "      <td>6.607954</td>\n",
       "      <td>6.755023</td>\n",
       "      <td>0.006074</td>\n",
       "      <td>10:30</td>\n",
       "    </tr>\n",
       "  </tbody>\n",
       "</table>"
      ],
      "text/plain": [
       "<IPython.core.display.HTML object>"
      ]
     },
     "metadata": {},
     "output_type": "display_data"
    }
   ],
   "source": [
    "learn.fit_one_cycle(8, max_lr=1e-3)"
   ]
  },
  {
   "cell_type": "code",
   "execution_count": 71,
   "metadata": {
    "ExecuteTime": {
     "end_time": "2019-08-08T20:16:28.665060Z",
     "start_time": "2019-08-08T20:16:28.467949Z"
    }
   },
   "outputs": [
    {
     "data": {
      "image/png": "[encoded data removed]",
      "text/plain": [
       "<Figure size 432x288 with 1 Axes>"
      ]
     },
     "metadata": {
      "needs_background": "light"
     },
     "output_type": "display_data"
    }
   ],
   "source": [
    "learn.recorder.plot_losses()"
   ]
  },
  {
   "cell_type": "code",
   "execution_count": 72,
   "metadata": {
    "ExecuteTime": {
     "end_time": "2019-08-08T20:16:28.770961Z",
     "start_time": "2019-08-08T20:16:28.666176Z"
    }
   },
   "outputs": [
    {
     "data": {
      "image/png": "[encoded data removed]",
      "text/plain": [
       "<Figure size 432x288 with 1 Axes>"
      ]
     },
     "metadata": {
      "needs_background": "light"
     },
     "output_type": "display_data"
    }
   ],
   "source": [
    "learn.recorder.plot_metrics()"
   ]
  },
  {
   "cell_type": "code",
   "execution_count": 73,
   "metadata": {
    "ExecuteTime": {
     "end_time": "2019-08-08T20:16:28.979049Z",
     "start_time": "2019-08-08T20:16:28.771946Z"
    }
   },
   "outputs": [],
   "source": [
    "learn.save('resnet50/adacos_se_xresnet50c_crop_e012_190808')"
   ]
  },
  {
   "cell_type": "code",
   "execution_count": 59,
   "metadata": {
    "ExecuteTime": {
     "end_time": "2019-08-08T20:29:05.876572Z",
     "start_time": "2019-08-08T20:29:05.592236Z"
    }
   },
   "outputs": [],
   "source": [
    "learn.load('resnet50/adacos_se_xresnet50c_crop_e012_190808');"
   ]
  },
  {
   "cell_type": "code",
   "execution_count": 60,
   "metadata": {
    "ExecuteTime": {
     "end_time": "2019-08-08T20:29:06.660722Z",
     "start_time": "2019-08-08T20:29:06.646384Z"
    }
   },
   "outputs": [],
   "source": [
    "#learn.lr_find()\n",
    "#learn.recorder.plot(suggestion=True)"
   ]
  },
  {
   "cell_type": "code",
   "execution_count": 61,
   "metadata": {
    "ExecuteTime": {
     "end_time": "2019-08-09T02:37:28.694119Z",
     "start_time": "2019-08-08T20:29:07.684761Z"
    }
   },
   "outputs": [
    {
     "data": {
      "text/html": [
       "<table border=\"1\" class=\"dataframe\">\n",
       "  <thead>\n",
       "    <tr style=\"text-align: left;\">\n",
       "      <th>epoch</th>\n",
       "      <th>train_loss</th>\n",
       "      <th>valid_loss</th>\n",
       "      <th>accuracy</th>\n",
       "      <th>time</th>\n",
       "    </tr>\n",
       "  </thead>\n",
       "  <tbody>\n",
       "    <tr>\n",
       "      <td>0</td>\n",
       "      <td>6.605061</td>\n",
       "      <td>6.754934</td>\n",
       "      <td>0.006655</td>\n",
       "      <td>10:33</td>\n",
       "    </tr>\n",
       "    <tr>\n",
       "      <td>1</td>\n",
       "      <td>6.584022</td>\n",
       "      <td>6.744287</td>\n",
       "      <td>0.006591</td>\n",
       "      <td>10:29</td>\n",
       "    </tr>\n",
       "    <tr>\n",
       "      <td>2</td>\n",
       "      <td>6.592481</td>\n",
       "      <td>6.747458</td>\n",
       "      <td>0.006526</td>\n",
       "      <td>10:33</td>\n",
       "    </tr>\n",
       "    <tr>\n",
       "      <td>3</td>\n",
       "      <td>6.583238</td>\n",
       "      <td>6.747379</td>\n",
       "      <td>0.006914</td>\n",
       "      <td>10:30</td>\n",
       "    </tr>\n",
       "    <tr>\n",
       "      <td>4</td>\n",
       "      <td>6.587788</td>\n",
       "      <td>6.741522</td>\n",
       "      <td>0.007172</td>\n",
       "      <td>10:30</td>\n",
       "    </tr>\n",
       "    <tr>\n",
       "      <td>5</td>\n",
       "      <td>6.567254</td>\n",
       "      <td>6.742331</td>\n",
       "      <td>0.006979</td>\n",
       "      <td>10:30</td>\n",
       "    </tr>\n",
       "    <tr>\n",
       "      <td>6</td>\n",
       "      <td>6.565007</td>\n",
       "      <td>6.726745</td>\n",
       "      <td>0.006914</td>\n",
       "      <td>10:32</td>\n",
       "    </tr>\n",
       "    <tr>\n",
       "      <td>7</td>\n",
       "      <td>6.562869</td>\n",
       "      <td>6.731340</td>\n",
       "      <td>0.007172</td>\n",
       "      <td>10:29</td>\n",
       "    </tr>\n",
       "    <tr>\n",
       "      <td>8</td>\n",
       "      <td>6.562420</td>\n",
       "      <td>6.728019</td>\n",
       "      <td>0.006849</td>\n",
       "      <td>10:30</td>\n",
       "    </tr>\n",
       "    <tr>\n",
       "      <td>9</td>\n",
       "      <td>6.539396</td>\n",
       "      <td>6.724786</td>\n",
       "      <td>0.007819</td>\n",
       "      <td>10:31</td>\n",
       "    </tr>\n",
       "    <tr>\n",
       "      <td>10</td>\n",
       "      <td>6.540647</td>\n",
       "      <td>6.730960</td>\n",
       "      <td>0.007431</td>\n",
       "      <td>10:33</td>\n",
       "    </tr>\n",
       "    <tr>\n",
       "      <td>11</td>\n",
       "      <td>6.522125</td>\n",
       "      <td>6.737583</td>\n",
       "      <td>0.006979</td>\n",
       "      <td>10:34</td>\n",
       "    </tr>\n",
       "    <tr>\n",
       "      <td>12</td>\n",
       "      <td>6.518564</td>\n",
       "      <td>6.725261</td>\n",
       "      <td>0.007108</td>\n",
       "      <td>10:31</td>\n",
       "    </tr>\n",
       "    <tr>\n",
       "      <td>13</td>\n",
       "      <td>6.489451</td>\n",
       "      <td>6.701537</td>\n",
       "      <td>0.008206</td>\n",
       "      <td>10:28</td>\n",
       "    </tr>\n",
       "    <tr>\n",
       "      <td>14</td>\n",
       "      <td>6.482680</td>\n",
       "      <td>6.691381</td>\n",
       "      <td>0.008077</td>\n",
       "      <td>10:29</td>\n",
       "    </tr>\n",
       "    <tr>\n",
       "      <td>15</td>\n",
       "      <td>6.489081</td>\n",
       "      <td>6.719913</td>\n",
       "      <td>0.007883</td>\n",
       "      <td>10:33</td>\n",
       "    </tr>\n",
       "    <tr>\n",
       "      <td>16</td>\n",
       "      <td>6.481316</td>\n",
       "      <td>6.680816</td>\n",
       "      <td>0.008982</td>\n",
       "      <td>10:31</td>\n",
       "    </tr>\n",
       "    <tr>\n",
       "      <td>17</td>\n",
       "      <td>6.456090</td>\n",
       "      <td>6.661263</td>\n",
       "      <td>0.008529</td>\n",
       "      <td>10:30</td>\n",
       "    </tr>\n",
       "    <tr>\n",
       "      <td>18</td>\n",
       "      <td>6.464675</td>\n",
       "      <td>6.662139</td>\n",
       "      <td>0.008659</td>\n",
       "      <td>10:31</td>\n",
       "    </tr>\n",
       "    <tr>\n",
       "      <td>19</td>\n",
       "      <td>6.453036</td>\n",
       "      <td>6.656166</td>\n",
       "      <td>0.008723</td>\n",
       "      <td>10:32</td>\n",
       "    </tr>\n",
       "    <tr>\n",
       "      <td>20</td>\n",
       "      <td>6.419010</td>\n",
       "      <td>6.650235</td>\n",
       "      <td>0.010016</td>\n",
       "      <td>10:30</td>\n",
       "    </tr>\n",
       "    <tr>\n",
       "      <td>21</td>\n",
       "      <td>6.425395</td>\n",
       "      <td>6.644044</td>\n",
       "      <td>0.009886</td>\n",
       "      <td>10:32</td>\n",
       "    </tr>\n",
       "    <tr>\n",
       "      <td>22</td>\n",
       "      <td>6.412633</td>\n",
       "      <td>6.644803</td>\n",
       "      <td>0.009951</td>\n",
       "      <td>10:36</td>\n",
       "    </tr>\n",
       "    <tr>\n",
       "      <td>23</td>\n",
       "      <td>6.411644</td>\n",
       "      <td>6.645300</td>\n",
       "      <td>0.010209</td>\n",
       "      <td>10:31</td>\n",
       "    </tr>\n",
       "    <tr>\n",
       "      <td>24</td>\n",
       "      <td>6.406493</td>\n",
       "      <td>6.638465</td>\n",
       "      <td>0.009757</td>\n",
       "      <td>10:33</td>\n",
       "    </tr>\n",
       "    <tr>\n",
       "      <td>25</td>\n",
       "      <td>6.403948</td>\n",
       "      <td>6.636171</td>\n",
       "      <td>0.010145</td>\n",
       "      <td>10:29</td>\n",
       "    </tr>\n",
       "    <tr>\n",
       "      <td>26</td>\n",
       "      <td>6.382859</td>\n",
       "      <td>6.617500</td>\n",
       "      <td>0.009757</td>\n",
       "      <td>10:32</td>\n",
       "    </tr>\n",
       "    <tr>\n",
       "      <td>27</td>\n",
       "      <td>6.396851</td>\n",
       "      <td>6.621253</td>\n",
       "      <td>0.010016</td>\n",
       "      <td>10:28</td>\n",
       "    </tr>\n",
       "    <tr>\n",
       "      <td>28</td>\n",
       "      <td>6.386741</td>\n",
       "      <td>6.616473</td>\n",
       "      <td>0.009757</td>\n",
       "      <td>10:28</td>\n",
       "    </tr>\n",
       "    <tr>\n",
       "      <td>29</td>\n",
       "      <td>6.389388</td>\n",
       "      <td>6.620230</td>\n",
       "      <td>0.010339</td>\n",
       "      <td>10:31</td>\n",
       "    </tr>\n",
       "    <tr>\n",
       "      <td>30</td>\n",
       "      <td>6.388995</td>\n",
       "      <td>6.616748</td>\n",
       "      <td>0.009951</td>\n",
       "      <td>10:30</td>\n",
       "    </tr>\n",
       "    <tr>\n",
       "      <td>31</td>\n",
       "      <td>6.368110</td>\n",
       "      <td>6.615989</td>\n",
       "      <td>0.010532</td>\n",
       "      <td>10:30</td>\n",
       "    </tr>\n",
       "    <tr>\n",
       "      <td>32</td>\n",
       "      <td>6.372477</td>\n",
       "      <td>6.617911</td>\n",
       "      <td>0.009951</td>\n",
       "      <td>10:31</td>\n",
       "    </tr>\n",
       "    <tr>\n",
       "      <td>33</td>\n",
       "      <td>6.364245</td>\n",
       "      <td>6.616308</td>\n",
       "      <td>0.010080</td>\n",
       "      <td>10:31</td>\n",
       "    </tr>\n",
       "    <tr>\n",
       "      <td>34</td>\n",
       "      <td>6.362805</td>\n",
       "      <td>6.628553</td>\n",
       "      <td>0.009822</td>\n",
       "      <td>10:31</td>\n",
       "    </tr>\n",
       "  </tbody>\n",
       "</table>"
      ],
      "text/plain": [
       "<IPython.core.display.HTML object>"
      ]
     },
     "metadata": {},
     "output_type": "display_data"
    }
   ],
   "source": [
    "learn.fit_one_cycle(35, max_lr=1e-4)"
   ]
  },
  {
   "cell_type": "code",
   "execution_count": 62,
   "metadata": {
    "ExecuteTime": {
     "end_time": "2019-08-09T02:37:28.942612Z",
     "start_time": "2019-08-09T02:37:28.697064Z"
    }
   },
   "outputs": [
    {
     "data": {
      "image/png": "[encoded data removed]",
      "text/plain": [
       "<Figure size 432x288 with 1 Axes>"
      ]
     },
     "metadata": {
      "needs_background": "light"
     },
     "output_type": "display_data"
    }
   ],
   "source": [
    "learn.recorder.plot_losses()"
   ]
  },
  {
   "cell_type": "code",
   "execution_count": 63,
   "metadata": {
    "ExecuteTime": {
     "end_time": "2019-08-09T02:37:29.059113Z",
     "start_time": "2019-08-09T02:37:28.943848Z"
    }
   },
   "outputs": [
    {
     "data": {
      "image/png": "[encoded data removed]",
      "text/plain": [
       "<Figure size 432x288 with 1 Axes>"
      ]
     },
     "metadata": {
      "needs_background": "light"
     },
     "output_type": "display_data"
    }
   ],
   "source": [
    "learn.recorder.plot_metrics()"
   ]
  },
  {
   "cell_type": "code",
   "execution_count": 64,
   "metadata": {
    "ExecuteTime": {
     "end_time": "2019-08-09T02:37:29.264446Z",
     "start_time": "2019-08-09T02:37:29.060087Z"
    }
   },
   "outputs": [],
   "source": [
    "learn.save('resnet50/adacos_se_xresnet50c_crop_e037_190808')"
   ]
  },
  {
   "cell_type": "code",
   "execution_count": 65,
   "metadata": {
    "ExecuteTime": {
     "end_time": "2019-08-09T02:37:29.547351Z",
     "start_time": "2019-08-09T02:37:29.265422Z"
    }
   },
   "outputs": [],
   "source": [
    "learn.load('resnet50/adacos_se_xresnet50c_crop_e037_190808');"
   ]
  },
  {
   "cell_type": "markdown",
   "metadata": {},
   "source": [
    "### crop 256px"
   ]
  },
  {
   "cell_type": "code",
   "execution_count": 94,
   "metadata": {
    "ExecuteTime": {
     "end_time": "2019-08-09T04:08:50.008080Z",
     "start_time": "2019-08-09T04:07:57.960457Z"
    }
   },
   "outputs": [
    {
     "data": {
      "text/html": [],
      "text/plain": [
       "<IPython.core.display.HTML object>"
      ]
     },
     "metadata": {},
     "output_type": "display_data"
    },
    {
     "name": "stdout",
     "output_type": "stream",
     "text": [
      "LR Finder is complete, type {learner_name}.recorder.plot() to see the graph.\n",
      "Min numerical gradient: 6.92E-06\n",
      "Min loss divided by 10: 8.32E-05\n"
     ]
    },
    {
     "data": {
      "image/png": "[encoded data removed]",
      "text/plain": [
       "<Figure size 432x288 with 1 Axes>"
      ]
     },
     "metadata": {
      "needs_background": "light"
     },
     "output_type": "display_data"
    }
   ],
   "source": [
    "learn.lr_find()\n",
    "learn.recorder.plot(suggestion=True)"
   ]
  },
  {
   "cell_type": "code",
   "execution_count": null,
   "metadata": {
    "ExecuteTime": {
     "start_time": "2019-08-09T04:08:57.904Z"
    }
   },
   "outputs": [
    {
     "data": {
      "text/html": [
       "\n",
       "    <div>\n",
       "        <style>\n",
       "            /* Turns off some styling */\n",
       "            progress {\n",
       "                /* gets rid of default border in Firefox and Opera. */\n",
       "                border: none;\n",
       "                /* Needs to be in here for Safari polyfill so background images work as expected. */\n",
       "                background-size: auto;\n",
       "            }\n",
       "            .progress-bar-interrupted, .progress-bar-interrupted::-webkit-progress-bar {\n",
       "                background: #F44336;\n",
       "            }\n",
       "        </style>\n",
       "      <progress value='0' class='' max='4', style='width:300px; height:20px; vertical-align: middle;'></progress>\n",
       "      0.00% [0/4 00:00<00:00]\n",
       "    </div>\n",
       "    \n",
       "<table border=\"1\" class=\"dataframe\">\n",
       "  <thead>\n",
       "    <tr style=\"text-align: left;\">\n",
       "      <th>epoch</th>\n",
       "      <th>train_loss</th>\n",
       "      <th>valid_loss</th>\n",
       "      <th>accuracy</th>\n",
       "      <th>time</th>\n",
       "    </tr>\n",
       "  </thead>\n",
       "  <tbody>\n",
       "  </tbody>\n",
       "</table><p>\n",
       "\n",
       "    <div>\n",
       "        <style>\n",
       "            /* Turns off some styling */\n",
       "            progress {\n",
       "                /* gets rid of default border in Firefox and Opera. */\n",
       "                border: none;\n",
       "                /* Needs to be in here for Safari polyfill so background images work as expected. */\n",
       "                background-size: auto;\n",
       "            }\n",
       "            .progress-bar-interrupted, .progress-bar-interrupted::-webkit-progress-bar {\n",
       "                background: #F44336;\n",
       "            }\n",
       "        </style>\n",
       "      <progress value='169' class='' max='1438', style='width:300px; height:20px; vertical-align: middle;'></progress>\n",
       "      11.75% [169/1438 01:23<10:30 6.1836]\n",
       "    </div>\n",
       "    "
      ],
      "text/plain": [
       "<IPython.core.display.HTML object>"
      ]
     },
     "metadata": {},
     "output_type": "display_data"
    }
   ],
   "source": [
    "learn.fit_one_cycle(4, max_lr=1e-3)"
   ]
  },
  {
   "cell_type": "code",
   "execution_count": null,
   "metadata": {
    "ExecuteTime": {
     "start_time": "2019-08-09T04:08:58.507Z"
    }
   },
   "outputs": [],
   "source": [
    "learn.recorder.plot_losses()"
   ]
  },
  {
   "cell_type": "code",
   "execution_count": null,
   "metadata": {
    "ExecuteTime": {
     "start_time": "2019-08-09T04:09:00.675Z"
    }
   },
   "outputs": [],
   "source": [
    "learn.recorder.plot_metrics()"
   ]
  },
  {
   "cell_type": "code",
   "execution_count": null,
   "metadata": {
    "ExecuteTime": {
     "start_time": "2019-08-09T04:09:01.350Z"
    }
   },
   "outputs": [],
   "source": [
    "learn.recorder.plot_lr()"
   ]
  },
  {
   "cell_type": "code",
   "execution_count": null,
   "metadata": {
    "ExecuteTime": {
     "end_time": "2019-08-03T17:57:14.090047Z",
     "start_time": "2019-08-03T17:57:13.965745Z"
    }
   },
   "outputs": [],
   "source": [
    "learn.save('resnet50/adacos_se_xresnet50c_crop_128e037_256e004_190809')"
   ]
  },
  {
   "cell_type": "code",
   "execution_count": null,
   "metadata": {
    "ExecuteTime": {
     "end_time": "2019-08-03T17:57:14.271464Z",
     "start_time": "2019-08-03T17:57:14.091081Z"
    }
   },
   "outputs": [],
   "source": [
    "learn.load('resnet50/adacos_se_xresnet50c_crop_128e037_256e004_190809);"
   ]
  },
  {
   "cell_type": "code",
   "execution_count": null,
   "metadata": {},
   "outputs": [],
   "source": [
    "#learn.lr_find()\n",
    "#learn.recorder.plot(suggestion=True)"
   ]
  },
  {
   "cell_type": "code",
   "execution_count": null,
   "metadata": {
    "ExecuteTime": {
     "end_time": "2019-08-03T17:57:13.293421Z",
     "start_time": "2019-08-03T12:04:44.169651Z"
    }
   },
   "outputs": [],
   "source": [
    "learn.fit_one_cycle(4, max_lr=1e-3)"
   ]
  },
  {
   "cell_type": "code",
   "execution_count": null,
   "metadata": {
    "ExecuteTime": {
     "end_time": "2019-08-03T17:57:13.716210Z",
     "start_time": "2019-08-03T17:57:13.296244Z"
    }
   },
   "outputs": [],
   "source": [
    "learn.recorder.plot_losses()"
   ]
  },
  {
   "cell_type": "code",
   "execution_count": null,
   "metadata": {
    "ExecuteTime": {
     "end_time": "2019-08-03T17:57:13.836288Z",
     "start_time": "2019-08-03T17:57:13.719336Z"
    }
   },
   "outputs": [],
   "source": [
    "learn.recorder.plot_metrics()"
   ]
  },
  {
   "cell_type": "code",
   "execution_count": null,
   "metadata": {
    "ExecuteTime": {
     "end_time": "2019-08-03T17:57:13.964683Z",
     "start_time": "2019-08-03T17:57:13.837500Z"
    }
   },
   "outputs": [],
   "source": [
    "learn.recorder.plot_lr()"
   ]
  },
  {
   "cell_type": "code",
   "execution_count": null,
   "metadata": {
    "ExecuteTime": {
     "end_time": "2019-08-03T17:57:14.090047Z",
     "start_time": "2019-08-03T17:57:13.965745Z"
    }
   },
   "outputs": [],
   "source": [
    "learn.save('resnet50/adacos_se_xresnet50c_crop_128e037_256e004_190809')"
   ]
  },
  {
   "cell_type": "code",
   "execution_count": null,
   "metadata": {
    "ExecuteTime": {
     "end_time": "2019-08-03T17:57:14.271464Z",
     "start_time": "2019-08-03T17:57:14.091081Z"
    }
   },
   "outputs": [],
   "source": [
    "learn.load('resnet50/adacos_se_xresnet50c_crop_128e037_256e004_190809);"
   ]
  },
  {
   "cell_type": "markdown",
   "metadata": {
    "heading_collapsed": true
   },
   "source": [
    "### Standard training"
   ]
  },
  {
   "cell_type": "code",
   "execution_count": null,
   "metadata": {
    "ExecuteTime": {
     "end_time": "2019-07-27T10:04:20.136307Z",
     "start_time": "2019-07-27T10:03:36.378207Z"
    },
    "hidden": true
   },
   "outputs": [],
   "source": [
    "#learn.lr_find()\n",
    "#learn.recorder.plot(suggestion=True)"
   ]
  },
  {
   "cell_type": "code",
   "execution_count": null,
   "metadata": {
    "ExecuteTime": {
     "end_time": "2019-08-03T19:08:05.465650Z",
     "start_time": "2019-08-03T17:57:14.272466Z"
    },
    "hidden": true
   },
   "outputs": [],
   "source": [
    "learn.fit_one_cycle(4, max_lr=1e-3)"
   ]
  },
  {
   "cell_type": "code",
   "execution_count": null,
   "metadata": {
    "ExecuteTime": {
     "end_time": "2019-08-03T19:08:05.656578Z",
     "start_time": "2019-08-03T19:08:05.467838Z"
    },
    "hidden": true
   },
   "outputs": [],
   "source": [
    "learn.recorder.plot_losses()"
   ]
  },
  {
   "cell_type": "code",
   "execution_count": null,
   "metadata": {
    "ExecuteTime": {
     "end_time": "2019-08-03T19:08:05.766399Z",
     "start_time": "2019-08-03T19:08:05.657855Z"
    },
    "hidden": true
   },
   "outputs": [],
   "source": [
    "learn.recorder.plot_metrics()"
   ]
  },
  {
   "cell_type": "code",
   "execution_count": null,
   "metadata": {
    "ExecuteTime": {
     "end_time": "2019-07-27T10:50:35.561023Z",
     "start_time": "2019-07-27T10:50:35.358325Z"
    },
    "hidden": true
   },
   "outputs": [],
   "source": [
    "#learn.recorder.plot_lr(show_moms=True)"
   ]
  },
  {
   "cell_type": "code",
   "execution_count": null,
   "metadata": {
    "ExecuteTime": {
     "end_time": "2019-08-03T19:08:05.888199Z",
     "start_time": "2019-08-03T19:08:05.767363Z"
    },
    "hidden": true
   },
   "outputs": [],
   "source": [
    "learn.save('effnet/adacos_efficientnet_b3_e044_190803')"
   ]
  },
  {
   "cell_type": "code",
   "execution_count": null,
   "metadata": {
    "ExecuteTime": {
     "end_time": "2019-08-03T19:08:06.052490Z",
     "start_time": "2019-08-03T19:08:05.889178Z"
    },
    "hidden": true
   },
   "outputs": [],
   "source": [
    "learn.load('effnet/adacos_efficientnet_b3_e044_190803');"
   ]
  },
  {
   "cell_type": "code",
   "execution_count": null,
   "metadata": {
    "ExecuteTime": {
     "end_time": "2019-07-27T10:51:20.261984Z",
     "start_time": "2019-07-27T10:50:35.959626Z"
    },
    "hidden": true
   },
   "outputs": [],
   "source": [
    "#learn.lr_find()\n",
    "#learn.recorder.plot(suggestion=True)"
   ]
  },
  {
   "cell_type": "code",
   "execution_count": null,
   "metadata": {
    "ExecuteTime": {
     "end_time": "2019-08-03T21:29:35.283912Z",
     "start_time": "2019-08-03T19:08:06.053474Z"
    },
    "hidden": true
   },
   "outputs": [],
   "source": [
    "learn.fit_one_cycle(8, max_lr=1e-3)"
   ]
  },
  {
   "cell_type": "code",
   "execution_count": null,
   "metadata": {
    "ExecuteTime": {
     "end_time": "2019-08-03T21:29:35.573232Z",
     "start_time": "2019-08-03T21:29:35.285722Z"
    },
    "hidden": true
   },
   "outputs": [],
   "source": [
    "learn.recorder.plot_losses()"
   ]
  },
  {
   "cell_type": "code",
   "execution_count": null,
   "metadata": {
    "ExecuteTime": {
     "end_time": "2019-08-03T21:29:35.680002Z",
     "start_time": "2019-08-03T21:29:35.574273Z"
    },
    "hidden": true
   },
   "outputs": [],
   "source": [
    "learn.recorder.plot_metrics()"
   ]
  },
  {
   "cell_type": "code",
   "execution_count": null,
   "metadata": {
    "ExecuteTime": {
     "end_time": "2019-08-03T21:29:35.822896Z",
     "start_time": "2019-08-03T21:29:35.681071Z"
    },
    "hidden": true
   },
   "outputs": [],
   "source": [
    "learn.save('effnet/adacos_efficientnet_b3_e052_190803')"
   ]
  },
  {
   "cell_type": "code",
   "execution_count": null,
   "metadata": {
    "ExecuteTime": {
     "end_time": "2019-08-03T21:29:35.993295Z",
     "start_time": "2019-08-03T21:29:35.823916Z"
    },
    "hidden": true
   },
   "outputs": [],
   "source": [
    "learn.load('effnet/adacos_efficientnet_b3_e052_190803');"
   ]
  },
  {
   "cell_type": "code",
   "execution_count": null,
   "metadata": {
    "ExecuteTime": {
     "end_time": "2019-07-27T12:24:46.645450Z",
     "start_time": "2019-07-27T12:24:02.292584Z"
    },
    "hidden": true
   },
   "outputs": [],
   "source": [
    "#learn.lr_find()\n",
    "#learn.recorder.plot(suggestion=True)"
   ]
  },
  {
   "cell_type": "code",
   "execution_count": null,
   "metadata": {
    "ExecuteTime": {
     "end_time": "2019-08-03T23:50:56.465691Z",
     "start_time": "2019-08-03T21:29:35.994277Z"
    },
    "hidden": true
   },
   "outputs": [],
   "source": [
    "learn.fit_one_cycle(8, max_lr=1e-3)"
   ]
  },
  {
   "cell_type": "code",
   "execution_count": null,
   "metadata": {
    "ExecuteTime": {
     "end_time": "2019-08-03T23:50:56.760314Z",
     "start_time": "2019-08-03T23:50:56.467457Z"
    },
    "hidden": true
   },
   "outputs": [],
   "source": [
    "learn.recorder.plot_losses()"
   ]
  },
  {
   "cell_type": "code",
   "execution_count": null,
   "metadata": {
    "ExecuteTime": {
     "end_time": "2019-08-03T23:50:56.868990Z",
     "start_time": "2019-08-03T23:50:56.761364Z"
    },
    "hidden": true
   },
   "outputs": [],
   "source": [
    "learn.recorder.plot_metrics()"
   ]
  },
  {
   "cell_type": "code",
   "execution_count": null,
   "metadata": {
    "ExecuteTime": {
     "end_time": "2019-08-03T23:50:56.995519Z",
     "start_time": "2019-08-03T23:50:56.869975Z"
    },
    "hidden": true
   },
   "outputs": [],
   "source": [
    "learn.save('effnet/adacos_efficientnet_b3_e060_190803')"
   ]
  },
  {
   "cell_type": "code",
   "execution_count": null,
   "metadata": {
    "ExecuteTime": {
     "end_time": "2019-08-03T23:50:57.164278Z",
     "start_time": "2019-08-03T23:50:56.996563Z"
    },
    "hidden": true
   },
   "outputs": [],
   "source": [
    "learn.load('effnet/adacos_efficientnet_b3_e060_190803');"
   ]
  },
  {
   "cell_type": "code",
   "execution_count": null,
   "metadata": {
    "ExecuteTime": {
     "end_time": "2019-07-27T13:57:57.790651Z",
     "start_time": "2019-07-27T13:57:13.341809Z"
    },
    "hidden": true
   },
   "outputs": [],
   "source": [
    "#learn.lr_find()\n",
    "#learn.recorder.plot(suggestion=True)"
   ]
  },
  {
   "cell_type": "code",
   "execution_count": null,
   "metadata": {
    "ExecuteTime": {
     "end_time": "2019-08-04T05:43:54.992840Z",
     "start_time": "2019-08-03T23:50:57.165314Z"
    },
    "hidden": true
   },
   "outputs": [],
   "source": [
    "learn.fit_one_cycle(20, max_lr=1e-3)"
   ]
  },
  {
   "cell_type": "code",
   "execution_count": null,
   "metadata": {
    "ExecuteTime": {
     "end_time": "2019-08-04T05:43:55.434658Z",
     "start_time": "2019-08-04T05:43:54.996421Z"
    },
    "hidden": true
   },
   "outputs": [],
   "source": [
    "learn.recorder.plot_losses()"
   ]
  },
  {
   "cell_type": "code",
   "execution_count": null,
   "metadata": {
    "ExecuteTime": {
     "end_time": "2019-08-04T05:43:55.545907Z",
     "start_time": "2019-08-04T05:43:55.435879Z"
    },
    "hidden": true
   },
   "outputs": [],
   "source": [
    "learn.recorder.plot_metrics()"
   ]
  },
  {
   "cell_type": "code",
   "execution_count": null,
   "metadata": {
    "ExecuteTime": {
     "end_time": "2019-08-04T05:43:55.670658Z",
     "start_time": "2019-08-04T05:43:55.546899Z"
    },
    "hidden": true
   },
   "outputs": [],
   "source": [
    "learn.save('effnet/adacos_efficientnet_b3_e080_190803')"
   ]
  },
  {
   "cell_type": "code",
   "execution_count": null,
   "metadata": {
    "ExecuteTime": {
     "end_time": "2019-08-04T05:43:55.847609Z",
     "start_time": "2019-08-04T05:43:55.671631Z"
    },
    "hidden": true
   },
   "outputs": [],
   "source": [
    "learn.load('effnet/adacos_efficientnet_b3_e080_190803');"
   ]
  },
  {
   "cell_type": "code",
   "execution_count": null,
   "metadata": {
    "ExecuteTime": {
     "end_time": "2019-08-04T05:44:24.978043Z",
     "start_time": "2019-08-04T05:43:55.848594Z"
    },
    "hidden": true
   },
   "outputs": [],
   "source": [
    "learn.lr_find()\n",
    "learn.recorder.plot(suggestion=True)"
   ]
  },
  {
   "cell_type": "markdown",
   "metadata": {
    "heading_collapsed": true
   },
   "source": [
    "### CutMix 1-Cycle #1"
   ]
  },
  {
   "cell_type": "code",
   "execution_count": null,
   "metadata": {
    "ExecuteTime": {
     "end_time": "2019-08-04T05:50:41.308801Z",
     "start_time": "2019-08-04T05:50:41.125374Z"
    },
    "hidden": true
   },
   "outputs": [],
   "source": [
    "learn.load('effnet/adacos_efficientnet_b3_e080_190803');"
   ]
  },
  {
   "cell_type": "code",
   "execution_count": null,
   "metadata": {
    "ExecuteTime": {
     "end_time": "2019-08-04T05:50:41.979280Z",
     "start_time": "2019-08-04T05:50:41.962437Z"
    },
    "hidden": true
   },
   "outputs": [],
   "source": [
    "learn.cutmix();"
   ]
  },
  {
   "cell_type": "code",
   "execution_count": null,
   "metadata": {
    "ExecuteTime": {
     "end_time": "2019-08-04T05:45:02.364605Z",
     "start_time": "2019-08-04T05:44:33.765230Z"
    },
    "hidden": true
   },
   "outputs": [],
   "source": [
    "# w CutMix\n",
    "learn.lr_find()\n",
    "learn.recorder.plot(suggestion=True)"
   ]
  },
  {
   "cell_type": "code",
   "execution_count": null,
   "metadata": {
    "ExecuteTime": {
     "end_time": "2019-08-04T07:01:20.911190Z",
     "start_time": "2019-08-04T05:50:45.756671Z"
    },
    "hidden": true
   },
   "outputs": [],
   "source": [
    "learn.fit_one_cycle(4, max_lr=1e-3)"
   ]
  },
  {
   "cell_type": "code",
   "execution_count": null,
   "metadata": {
    "ExecuteTime": {
     "end_time": "2019-08-04T07:01:21.176635Z",
     "start_time": "2019-08-04T07:01:20.913151Z"
    },
    "hidden": true
   },
   "outputs": [],
   "source": [
    "learn.recorder.plot_losses()"
   ]
  },
  {
   "cell_type": "code",
   "execution_count": null,
   "metadata": {
    "ExecuteTime": {
     "end_time": "2019-08-04T07:01:21.283176Z",
     "start_time": "2019-08-04T07:01:21.177981Z"
    },
    "hidden": true
   },
   "outputs": [],
   "source": [
    "learn.recorder.plot_metrics()"
   ]
  },
  {
   "cell_type": "code",
   "execution_count": null,
   "metadata": {
    "ExecuteTime": {
     "end_time": "2019-08-04T07:01:21.492270Z",
     "start_time": "2019-08-04T07:01:21.284369Z"
    },
    "hidden": true
   },
   "outputs": [],
   "source": [
    "learn.recorder.plot_lr(show_moms=True)"
   ]
  },
  {
   "cell_type": "code",
   "execution_count": null,
   "metadata": {
    "ExecuteTime": {
     "end_time": "2019-08-04T07:01:21.616561Z",
     "start_time": "2019-08-04T07:01:21.493353Z"
    },
    "hidden": true
   },
   "outputs": [],
   "source": [
    "learn.save('effnet/adacos_efficientnet_b3_e080CM004_190804')"
   ]
  },
  {
   "cell_type": "code",
   "execution_count": null,
   "metadata": {
    "ExecuteTime": {
     "end_time": "2019-08-04T07:01:21.783373Z",
     "start_time": "2019-08-04T07:01:21.617537Z"
    },
    "hidden": true
   },
   "outputs": [],
   "source": [
    "learn.load('effnet/adacos_efficientnet_b3_e080CM004_190804');"
   ]
  },
  {
   "cell_type": "code",
   "execution_count": null,
   "metadata": {
    "ExecuteTime": {
     "end_time": "2019-07-28T14:15:39.163497Z",
     "start_time": "2019-07-28T14:14:54.486720Z"
    },
    "hidden": true
   },
   "outputs": [],
   "source": [
    "#learn.lr_find()\n",
    "#learn.recorder.plot(suggestion=True)"
   ]
  },
  {
   "cell_type": "code",
   "execution_count": null,
   "metadata": {
    "ExecuteTime": {
     "end_time": "2019-08-04T09:22:47.176306Z",
     "start_time": "2019-08-04T07:01:21.784409Z"
    },
    "hidden": true
   },
   "outputs": [],
   "source": [
    "learn.fit_one_cycle(8, max_lr=1e-3)"
   ]
  },
  {
   "cell_type": "code",
   "execution_count": null,
   "metadata": {
    "ExecuteTime": {
     "end_time": "2019-08-04T09:22:47.432891Z",
     "start_time": "2019-08-04T09:22:47.178666Z"
    },
    "hidden": true
   },
   "outputs": [],
   "source": [
    "learn.recorder.plot_losses()"
   ]
  },
  {
   "cell_type": "code",
   "execution_count": null,
   "metadata": {
    "ExecuteTime": {
     "end_time": "2019-08-04T09:22:47.541620Z",
     "start_time": "2019-08-04T09:22:47.434068Z"
    },
    "hidden": true
   },
   "outputs": [],
   "source": [
    "learn.recorder.plot_metrics()"
   ]
  },
  {
   "cell_type": "code",
   "execution_count": null,
   "metadata": {
    "ExecuteTime": {
     "end_time": "2019-08-04T09:22:47.661092Z",
     "start_time": "2019-08-04T09:22:47.542677Z"
    },
    "hidden": true
   },
   "outputs": [],
   "source": [
    "learn.save('effnet/adacos_efficientnet_b3_e080CM012_190804')"
   ]
  },
  {
   "cell_type": "code",
   "execution_count": null,
   "metadata": {
    "ExecuteTime": {
     "end_time": "2019-08-04T09:30:18.311106Z",
     "start_time": "2019-08-04T09:30:18.137047Z"
    },
    "hidden": true
   },
   "outputs": [],
   "source": [
    "learn.load('effnet/adacos_efficientnet_b3_e080CM012_190804');"
   ]
  },
  {
   "cell_type": "code",
   "execution_count": null,
   "metadata": {
    "ExecuteTime": {
     "end_time": "2019-08-04T09:24:35.763959Z",
     "start_time": "2019-08-04T09:24:08.218624Z"
    },
    "hidden": true
   },
   "outputs": [],
   "source": [
    "learn.lr_find()\n",
    "learn.recorder.plot(suggestion=True)"
   ]
  },
  {
   "cell_type": "code",
   "execution_count": null,
   "metadata": {
    "hidden": true
   },
   "outputs": [],
   "source": [
    "# Longer cycles than 8 epochs seems to increase the end accuracy!"
   ]
  },
  {
   "cell_type": "code",
   "execution_count": null,
   "metadata": {
    "ExecuteTime": {
     "end_time": "2019-08-04T09:30:20.526875Z",
     "start_time": "2019-08-04T09:30:20.509985Z"
    },
    "hidden": true
   },
   "outputs": [],
   "source": [
    "learn.cutmix();"
   ]
  },
  {
   "cell_type": "code",
   "execution_count": null,
   "metadata": {
    "ExecuteTime": {
     "end_time": "2019-08-04T15:22:55.066225Z",
     "start_time": "2019-08-04T09:30:21.455037Z"
    },
    "hidden": true
   },
   "outputs": [],
   "source": [
    "learn.fit_one_cycle(20, max_lr=1e-3)"
   ]
  },
  {
   "cell_type": "code",
   "execution_count": null,
   "metadata": {
    "ExecuteTime": {
     "end_time": "2019-08-04T15:22:55.546342Z",
     "start_time": "2019-08-04T15:22:55.068834Z"
    },
    "hidden": true
   },
   "outputs": [],
   "source": [
    "learn.recorder.plot_losses()"
   ]
  },
  {
   "cell_type": "code",
   "execution_count": null,
   "metadata": {
    "ExecuteTime": {
     "end_time": "2019-08-04T15:22:55.663153Z",
     "start_time": "2019-08-04T15:22:55.547691Z"
    },
    "hidden": true
   },
   "outputs": [],
   "source": [
    "learn.recorder.plot_metrics()"
   ]
  },
  {
   "cell_type": "code",
   "execution_count": null,
   "metadata": {
    "ExecuteTime": {
     "end_time": "2019-08-04T15:22:55.791616Z",
     "start_time": "2019-08-04T15:22:55.664213Z"
    },
    "hidden": true
   },
   "outputs": [],
   "source": [
    "learn.save('effnet/adacos_efficientnet_b3_e080CM032_190804')"
   ]
  },
  {
   "cell_type": "code",
   "execution_count": null,
   "metadata": {
    "ExecuteTime": {
     "end_time": "2019-08-04T15:22:55.974055Z",
     "start_time": "2019-08-04T15:22:55.792647Z"
    },
    "hidden": true
   },
   "outputs": [],
   "source": [
    "learn.load('effnet/adacos_efficientnet_b3_e080CM032_190804');"
   ]
  },
  {
   "cell_type": "code",
   "execution_count": null,
   "metadata": {
    "ExecuteTime": {
     "end_time": "2019-07-28T18:09:48.984901Z",
     "start_time": "2019-07-28T18:09:04.457397Z"
    },
    "hidden": true
   },
   "outputs": [],
   "source": [
    "#learn.lr_find()\n",
    "#learn.recorder.plot(suggestion=True)"
   ]
  },
  {
   "cell_type": "code",
   "execution_count": null,
   "metadata": {
    "ExecuteTime": {
     "end_time": "2019-08-04T21:17:01.925213Z",
     "start_time": "2019-08-04T15:23:32.593759Z"
    },
    "hidden": true
   },
   "outputs": [],
   "source": [
    "learn.fit_one_cycle(20, max_lr=1e-3)"
   ]
  },
  {
   "cell_type": "code",
   "execution_count": null,
   "metadata": {
    "ExecuteTime": {
     "end_time": "2019-08-04T21:17:02.434963Z",
     "start_time": "2019-08-04T21:17:01.934078Z"
    },
    "hidden": true
   },
   "outputs": [],
   "source": [
    "learn.recorder.plot_losses()"
   ]
  },
  {
   "cell_type": "code",
   "execution_count": null,
   "metadata": {
    "ExecuteTime": {
     "end_time": "2019-08-04T21:17:02.541557Z",
     "start_time": "2019-08-04T21:17:02.436264Z"
    },
    "hidden": true
   },
   "outputs": [],
   "source": [
    "learn.recorder.plot_metrics()"
   ]
  },
  {
   "cell_type": "code",
   "execution_count": null,
   "metadata": {
    "ExecuteTime": {
     "end_time": "2019-08-04T21:17:02.669005Z",
     "start_time": "2019-08-04T21:17:02.542744Z"
    },
    "hidden": true
   },
   "outputs": [],
   "source": [
    "learn.save('effnet/adacos_efficientnet_b3_e080CM052_190804')"
   ]
  },
  {
   "cell_type": "code",
   "execution_count": null,
   "metadata": {
    "ExecuteTime": {
     "end_time": "2019-08-04T21:17:02.845817Z",
     "start_time": "2019-08-04T21:17:02.669992Z"
    },
    "hidden": true
   },
   "outputs": [],
   "source": [
    "learn.load('effnet/adacos_efficientnet_b3_e080CM052_190804');"
   ]
  },
  {
   "cell_type": "code",
   "execution_count": null,
   "metadata": {
    "ExecuteTime": {
     "end_time": "2019-08-05T03:10:55.080938Z",
     "start_time": "2019-08-04T21:17:02.846790Z"
    },
    "hidden": true
   },
   "outputs": [],
   "source": [
    "learn.fit_one_cycle(20, max_lr=1e-3)"
   ]
  },
  {
   "cell_type": "code",
   "execution_count": null,
   "metadata": {
    "ExecuteTime": {
     "end_time": "2019-08-05T03:10:55.550409Z",
     "start_time": "2019-08-05T03:10:55.083618Z"
    },
    "hidden": true
   },
   "outputs": [],
   "source": [
    "learn.recorder.plot_losses()"
   ]
  },
  {
   "cell_type": "code",
   "execution_count": null,
   "metadata": {
    "ExecuteTime": {
     "end_time": "2019-08-05T03:10:55.667557Z",
     "start_time": "2019-08-05T03:10:55.552007Z"
    },
    "hidden": true
   },
   "outputs": [],
   "source": [
    "learn.recorder.plot_metrics()"
   ]
  },
  {
   "cell_type": "code",
   "execution_count": null,
   "metadata": {
    "ExecuteTime": {
     "end_time": "2019-08-05T03:10:55.793087Z",
     "start_time": "2019-08-05T03:10:55.668650Z"
    },
    "hidden": true
   },
   "outputs": [],
   "source": [
    "learn.save('effnet/adacos_efficientnet_b3_e080CM072_190804')"
   ]
  },
  {
   "cell_type": "code",
   "execution_count": null,
   "metadata": {
    "ExecuteTime": {
     "end_time": "2019-08-05T03:10:55.969441Z",
     "start_time": "2019-08-05T03:10:55.794069Z"
    },
    "hidden": true
   },
   "outputs": [],
   "source": [
    "learn.load('effnet/adacos_efficientnet_b3_e080CM072_190804');"
   ]
  },
  {
   "cell_type": "code",
   "execution_count": null,
   "metadata": {
    "ExecuteTime": {
     "end_time": "2019-08-05T03:11:24.150545Z",
     "start_time": "2019-08-05T03:10:55.970417Z"
    },
    "hidden": true
   },
   "outputs": [],
   "source": [
    "learn.lr_find()\n",
    "learn.recorder.plot(suggestion=True)"
   ]
  },
  {
   "cell_type": "markdown",
   "metadata": {
    "heading_collapsed": true
   },
   "source": [
    "### CutMix 1-Cycle #2"
   ]
  },
  {
   "cell_type": "code",
   "execution_count": null,
   "metadata": {
    "ExecuteTime": {
     "end_time": "2019-08-05T03:40:25.683920Z",
     "start_time": "2019-08-05T03:40:25.502936Z"
    },
    "hidden": true
   },
   "outputs": [],
   "source": [
    "learn.load('effnet/adacos_efficientnet_b3_e080CM072_190804');"
   ]
  },
  {
   "cell_type": "code",
   "execution_count": null,
   "metadata": {
    "ExecuteTime": {
     "end_time": "2019-08-05T03:40:26.856046Z",
     "start_time": "2019-08-05T03:40:26.839744Z"
    },
    "hidden": true
   },
   "outputs": [],
   "source": [
    "learn.cutmix();"
   ]
  },
  {
   "cell_type": "code",
   "execution_count": null,
   "metadata": {
    "ExecuteTime": {
     "end_time": "2019-08-05T09:34:13.453724Z",
     "start_time": "2019-08-05T03:40:28.883068Z"
    },
    "hidden": true
   },
   "outputs": [],
   "source": [
    "learn.fit_one_cycle(20, max_lr=1e-4)"
   ]
  },
  {
   "cell_type": "code",
   "execution_count": null,
   "metadata": {
    "ExecuteTime": {
     "end_time": "2019-08-05T09:34:13.909237Z",
     "start_time": "2019-08-05T09:34:13.456488Z"
    },
    "hidden": true
   },
   "outputs": [],
   "source": [
    "learn.recorder.plot_losses()"
   ]
  },
  {
   "cell_type": "code",
   "execution_count": null,
   "metadata": {
    "ExecuteTime": {
     "end_time": "2019-08-05T09:34:14.015800Z",
     "start_time": "2019-08-05T09:34:13.910519Z"
    },
    "hidden": true
   },
   "outputs": [],
   "source": [
    "learn.recorder.plot_metrics()"
   ]
  },
  {
   "cell_type": "code",
   "execution_count": null,
   "metadata": {
    "ExecuteTime": {
     "end_time": "2019-08-05T09:34:14.140833Z",
     "start_time": "2019-08-05T09:34:14.017016Z"
    },
    "hidden": true
   },
   "outputs": [],
   "source": [
    "learn.save('effnet/adacos_efficientnet_b3_e080CM092_190805')"
   ]
  },
  {
   "cell_type": "code",
   "execution_count": null,
   "metadata": {
    "ExecuteTime": {
     "end_time": "2019-08-05T09:34:14.321605Z",
     "start_time": "2019-08-05T09:34:14.141786Z"
    },
    "hidden": true
   },
   "outputs": [],
   "source": [
    "learn.load('effnet/adacos_efficientnet_b3_e080CM092_190805');"
   ]
  },
  {
   "cell_type": "code",
   "execution_count": null,
   "metadata": {
    "ExecuteTime": {
     "end_time": "2019-08-05T09:34:14.331844Z",
     "start_time": "2019-08-05T09:34:14.322578Z"
    },
    "hidden": true
   },
   "outputs": [],
   "source": [
    "#learn.lr_find()\n",
    "#learn.recorder.plot(suggestion=True)"
   ]
  },
  {
   "cell_type": "code",
   "execution_count": null,
   "metadata": {
    "ExecuteTime": {
     "end_time": "2019-08-05T15:29:47.037536Z",
     "start_time": "2019-08-05T09:34:14.332717Z"
    },
    "hidden": true
   },
   "outputs": [],
   "source": [
    "learn.fit_one_cycle(20, max_lr=1e-4)"
   ]
  },
  {
   "cell_type": "code",
   "execution_count": null,
   "metadata": {
    "ExecuteTime": {
     "end_time": "2019-08-05T15:29:47.547393Z",
     "start_time": "2019-08-05T15:29:47.040504Z"
    },
    "hidden": true
   },
   "outputs": [],
   "source": [
    "learn.recorder.plot_losses()"
   ]
  },
  {
   "cell_type": "code",
   "execution_count": null,
   "metadata": {
    "ExecuteTime": {
     "end_time": "2019-08-05T15:29:47.655507Z",
     "start_time": "2019-08-05T15:29:47.548586Z"
    },
    "hidden": true
   },
   "outputs": [],
   "source": [
    "learn.recorder.plot_metrics()"
   ]
  },
  {
   "cell_type": "code",
   "execution_count": null,
   "metadata": {
    "ExecuteTime": {
     "end_time": "2019-08-05T15:29:47.779697Z",
     "start_time": "2019-08-05T15:29:47.656549Z"
    },
    "hidden": true
   },
   "outputs": [],
   "source": [
    "learn.save('effnet/adacos_efficientnet_b3_e080CM112_190805')"
   ]
  },
  {
   "cell_type": "code",
   "execution_count": null,
   "metadata": {
    "ExecuteTime": {
     "end_time": "2019-08-05T15:29:47.955935Z",
     "start_time": "2019-08-05T15:29:47.780762Z"
    },
    "hidden": true
   },
   "outputs": [],
   "source": [
    "learn.load('effnet/adacos_efficientnet_b3_e080CM112_190805');"
   ]
  },
  {
   "cell_type": "code",
   "execution_count": null,
   "metadata": {
    "ExecuteTime": {
     "end_time": "2019-08-05T15:48:22.317449Z",
     "start_time": "2019-08-05T15:47:55.103696Z"
    },
    "hidden": true
   },
   "outputs": [],
   "source": [
    "learn.lr_find()\n",
    "learn.recorder.plot(suggestion=True)"
   ]
  },
  {
   "cell_type": "code",
   "execution_count": null,
   "metadata": {
    "hidden": true
   },
   "outputs": [],
   "source": [
    "# MISTAKE?: We where only training with one crop (0,1) all the time!"
   ]
  },
  {
   "cell_type": "markdown",
   "metadata": {
    "heading_collapsed": true
   },
   "source": [
    "### CutMix 1-Cycle #3 (random crop)"
   ]
  },
  {
   "cell_type": "code",
   "execution_count": null,
   "metadata": {
    "ExecuteTime": {
     "end_time": "2019-08-05T19:34:15.072304Z",
     "start_time": "2019-08-05T19:34:14.836716Z"
    },
    "hidden": true
   },
   "outputs": [],
   "source": [
    "learn.load('effnet/adacos_efficientnet_b3_e080CM112_190805');"
   ]
  },
  {
   "cell_type": "code",
   "execution_count": null,
   "metadata": {
    "ExecuteTime": {
     "end_time": "2019-08-05T19:34:26.545806Z",
     "start_time": "2019-08-05T19:34:26.529342Z"
    },
    "hidden": true
   },
   "outputs": [],
   "source": [
    "learn.cutmix();"
   ]
  },
  {
   "cell_type": "code",
   "execution_count": null,
   "metadata": {
    "ExecuteTime": {
     "end_time": "2019-08-05T23:24:46.579443Z",
     "start_time": "2019-08-05T19:34:43.872492Z"
    },
    "hidden": true
   },
   "outputs": [],
   "source": [
    "learn.fit_one_cycle(13, max_lr=1e-3)"
   ]
  },
  {
   "cell_type": "code",
   "execution_count": null,
   "metadata": {
    "ExecuteTime": {
     "end_time": "2019-08-05T23:24:46.928115Z",
     "start_time": "2019-08-05T23:24:46.581204Z"
    },
    "hidden": true
   },
   "outputs": [],
   "source": [
    "learn.recorder.plot_losses()"
   ]
  },
  {
   "cell_type": "code",
   "execution_count": null,
   "metadata": {
    "ExecuteTime": {
     "end_time": "2019-08-05T23:24:47.035695Z",
     "start_time": "2019-08-05T23:24:46.929361Z"
    },
    "hidden": true
   },
   "outputs": [],
   "source": [
    "learn.recorder.plot_metrics()"
   ]
  },
  {
   "cell_type": "code",
   "execution_count": null,
   "metadata": {
    "ExecuteTime": {
     "end_time": "2019-08-05T23:24:47.202175Z",
     "start_time": "2019-08-05T23:24:47.036809Z"
    },
    "hidden": true
   },
   "outputs": [],
   "source": [
    "learn.save('effnet/adacos_efficientnet_b3_e080CM125_190805')"
   ]
  },
  {
   "cell_type": "code",
   "execution_count": null,
   "metadata": {
    "ExecuteTime": {
     "end_time": "2019-08-05T23:24:47.370581Z",
     "start_time": "2019-08-05T23:24:47.203153Z"
    },
    "hidden": true
   },
   "outputs": [],
   "source": [
    "learn.load('effnet/adacos_efficientnet_b3_e080CM125_190805');"
   ]
  },
  {
   "cell_type": "code",
   "execution_count": null,
   "metadata": {
    "ExecuteTime": {
     "end_time": "2019-08-06T03:50:43.855847Z",
     "start_time": "2019-08-05T23:24:47.371540Z"
    },
    "hidden": true
   },
   "outputs": [],
   "source": [
    "learn.fit_one_cycle(15, max_lr=1e-4)"
   ]
  },
  {
   "cell_type": "code",
   "execution_count": null,
   "metadata": {
    "ExecuteTime": {
     "end_time": "2019-08-06T03:50:44.218601Z",
     "start_time": "2019-08-06T03:50:43.857356Z"
    },
    "hidden": true
   },
   "outputs": [],
   "source": [
    "learn.recorder.plot_losses()"
   ]
  },
  {
   "cell_type": "code",
   "execution_count": null,
   "metadata": {
    "ExecuteTime": {
     "end_time": "2019-08-06T03:50:44.326202Z",
     "start_time": "2019-08-06T03:50:44.222557Z"
    },
    "hidden": true
   },
   "outputs": [],
   "source": [
    "learn.recorder.plot_metrics()"
   ]
  },
  {
   "cell_type": "code",
   "execution_count": null,
   "metadata": {
    "ExecuteTime": {
     "end_time": "2019-08-06T03:50:44.490080Z",
     "start_time": "2019-08-06T03:50:44.327246Z"
    },
    "hidden": true
   },
   "outputs": [],
   "source": [
    "learn.save('effnet/adacos_efficientnet_b3_e080CM140_190805')"
   ]
  },
  {
   "cell_type": "code",
   "execution_count": null,
   "metadata": {
    "ExecuteTime": {
     "end_time": "2019-08-06T04:04:03.717536Z",
     "start_time": "2019-08-06T04:04:03.532874Z"
    },
    "hidden": true
   },
   "outputs": [],
   "source": [
    "learn.load('effnet/adacos_efficientnet_b3_e080CM140_190805');"
   ]
  },
  {
   "cell_type": "code",
   "execution_count": null,
   "metadata": {
    "ExecuteTime": {
     "end_time": "2019-08-06T04:08:48.095003Z",
     "start_time": "2019-08-06T04:08:20.900865Z"
    },
    "hidden": true
   },
   "outputs": [],
   "source": [
    "learn.lr_find()\n",
    "learn.recorder.plot(suggestion=True)"
   ]
  },
  {
   "cell_type": "markdown",
   "metadata": {
    "heading_collapsed": true
   },
   "source": [
    "### CutMix ReduceLR #1"
   ]
  },
  {
   "cell_type": "code",
   "execution_count": null,
   "metadata": {
    "ExecuteTime": {
     "end_time": "2019-08-06T04:17:48.320086Z",
     "start_time": "2019-08-06T04:17:48.303780Z"
    },
    "hidden": true
   },
   "outputs": [],
   "source": [
    "learn.cutmix();"
   ]
  },
  {
   "cell_type": "code",
   "execution_count": null,
   "metadata": {
    "ExecuteTime": {
     "end_time": "2019-08-06T04:19:30.812616Z",
     "start_time": "2019-08-06T04:19:30.643942Z"
    },
    "hidden": true
   },
   "outputs": [],
   "source": [
    "learn.load('effnet/adacos_efficientnet_b3_e080CM140_190805');"
   ]
  },
  {
   "cell_type": "code",
   "execution_count": null,
   "metadata": {
    "ExecuteTime": {
     "end_time": "2019-08-06T04:19:31.537637Z",
     "start_time": "2019-08-06T04:19:31.524652Z"
    },
    "hidden": true
   },
   "outputs": [],
   "source": [
    "redlr = ReduceLROnPlateauCallback(learn, monitor='accuracy', patience=4)\n",
    "savem = SaveModelCallback(learn, every='improvement', monitor='accuracy', \n",
    "                          name='effnet/adacos_efficientnet_b3_e080CM140-XYZ_190806_best')\n"
   ]
  },
  {
   "cell_type": "code",
   "execution_count": null,
   "metadata": {
    "ExecuteTime": {
     "end_time": "2019-08-06T17:36:16.493605Z",
     "start_time": "2019-08-06T04:19:35.464026Z"
    },
    "hidden": true
   },
   "outputs": [],
   "source": [
    "learn.fit(45, lr=1e-4, callbacks=[savem, redlr])"
   ]
  },
  {
   "cell_type": "code",
   "execution_count": null,
   "metadata": {
    "ExecuteTime": {
     "end_time": "2019-08-06T17:36:17.255489Z",
     "start_time": "2019-08-06T17:36:16.494849Z"
    },
    "hidden": true
   },
   "outputs": [],
   "source": [
    "learn.recorder.plot_losses()"
   ]
  },
  {
   "cell_type": "code",
   "execution_count": null,
   "metadata": {
    "ExecuteTime": {
     "end_time": "2019-08-06T17:36:17.375832Z",
     "start_time": "2019-08-06T17:36:17.256657Z"
    },
    "hidden": true
   },
   "outputs": [],
   "source": [
    "learn.recorder.plot_metrics()"
   ]
  },
  {
   "cell_type": "code",
   "execution_count": null,
   "metadata": {
    "ExecuteTime": {
     "end_time": "2019-08-06T17:36:17.532176Z",
     "start_time": "2019-08-06T17:36:17.376944Z"
    },
    "hidden": true
   },
   "outputs": [],
   "source": [
    "learn.recorder.plot_lr()"
   ]
  },
  {
   "cell_type": "code",
   "execution_count": null,
   "metadata": {
    "ExecuteTime": {
     "end_time": "2019-08-06T17:36:17.654314Z",
     "start_time": "2019-08-06T17:36:17.533198Z"
    },
    "hidden": true
   },
   "outputs": [],
   "source": [
    "learn.save('effnet/adacos_efficientnet_b3_e080CM185_190806')"
   ]
  },
  {
   "cell_type": "code",
   "execution_count": null,
   "metadata": {
    "ExecuteTime": {
     "end_time": "2019-08-06T17:36:17.838394Z",
     "start_time": "2019-08-06T17:36:17.655286Z"
    },
    "hidden": true
   },
   "outputs": [],
   "source": [
    "learn.load('effnet/adacos_efficientnet_b3_e080CM185_190806');"
   ]
  },
  {
   "cell_type": "code",
   "execution_count": null,
   "metadata": {
    "ExecuteTime": {
     "end_time": "2019-08-06T17:36:45.855717Z",
     "start_time": "2019-08-06T17:36:17.839451Z"
    },
    "hidden": true
   },
   "outputs": [],
   "source": [
    "learn.lr_find()\n",
    "learn.recorder.plot(suggestion=True)"
   ]
  },
  {
   "cell_type": "code",
   "execution_count": null,
   "metadata": {
    "hidden": true
   },
   "outputs": [],
   "source": []
  },
  {
   "cell_type": "code",
   "execution_count": null,
   "metadata": {
    "ExecuteTime": {
     "end_time": "2019-08-07T05:41:59.567063Z",
     "start_time": "2019-08-07T05:41:59.553306Z"
    },
    "hidden": true
   },
   "outputs": [],
   "source": [
    "redlr = ReduceLROnPlateauCallback(learn, monitor='accuracy', patience=4)\n",
    "savem = SaveModelCallback(learn, every='improvement', monitor='accuracy', \n",
    "                          name='effnet/adacos_efficientnet_b3_e080CM185-230_190807_best')\n"
   ]
  },
  {
   "cell_type": "code",
   "execution_count": null,
   "metadata": {
    "ExecuteTime": {
     "end_time": "2019-08-07T18:59:01.628529Z",
     "start_time": "2019-08-07T05:42:00.854359Z"
    },
    "hidden": true
   },
   "outputs": [],
   "source": [
    "learn.fit(45, lr=1e-4, callbacks=[savem, redlr])"
   ]
  },
  {
   "cell_type": "code",
   "execution_count": null,
   "metadata": {
    "ExecuteTime": {
     "end_time": "2019-08-07T18:59:02.320792Z",
     "start_time": "2019-08-07T18:59:01.630840Z"
    },
    "hidden": true
   },
   "outputs": [],
   "source": [
    "learn.recorder.plot_losses()"
   ]
  },
  {
   "cell_type": "code",
   "execution_count": null,
   "metadata": {
    "ExecuteTime": {
     "end_time": "2019-08-07T18:59:02.448103Z",
     "start_time": "2019-08-07T18:59:02.321990Z"
    },
    "hidden": true
   },
   "outputs": [],
   "source": [
    "learn.recorder.plot_metrics()"
   ]
  },
  {
   "cell_type": "code",
   "execution_count": null,
   "metadata": {
    "ExecuteTime": {
     "end_time": "2019-08-07T18:59:02.605509Z",
     "start_time": "2019-08-07T18:59:02.449211Z"
    },
    "hidden": true
   },
   "outputs": [],
   "source": [
    "learn.recorder.plot_lr()"
   ]
  },
  {
   "cell_type": "code",
   "execution_count": null,
   "metadata": {
    "ExecuteTime": {
     "end_time": "2019-08-07T18:59:30.545912Z",
     "start_time": "2019-08-07T18:59:30.424456Z"
    },
    "hidden": true
   },
   "outputs": [],
   "source": [
    "learn.save('effnet/adacos_efficientnet_b3_e080CM230_190806')"
   ]
  },
  {
   "cell_type": "code",
   "execution_count": null,
   "metadata": {
    "ExecuteTime": {
     "end_time": "2019-08-07T18:59:30.701430Z",
     "start_time": "2019-08-07T18:59:30.546945Z"
    },
    "hidden": true
   },
   "outputs": [],
   "source": [
    "learn.load('effnet/adacos_efficientnet_b3_e080CM230_190806');"
   ]
  },
  {
   "cell_type": "code",
   "execution_count": null,
   "metadata": {
    "ExecuteTime": {
     "end_time": "2019-08-07T18:59:30.423061Z",
     "start_time": "2019-08-07T18:59:02.914607Z"
    },
    "hidden": true
   },
   "outputs": [],
   "source": [
    "learn.lr_find()\n",
    "learn.recorder.plot(suggestion=True)"
   ]
  },
  {
   "cell_type": "markdown",
   "metadata": {
    "heading_collapsed": true
   },
   "source": [
    "### CutMix 1-Cycle #3 (random crop + cutout)"
   ]
  },
  {
   "cell_type": "code",
   "execution_count": null,
   "metadata": {
    "ExecuteTime": {
     "end_time": "2019-08-07T20:14:23.048882Z",
     "start_time": "2019-08-07T20:14:22.841745Z"
    },
    "hidden": true
   },
   "outputs": [],
   "source": [
    "learn.load('effnet/adacos_efficientnet_b3_e080CM185-230_190807_best');"
   ]
  },
  {
   "cell_type": "code",
   "execution_count": null,
   "metadata": {
    "ExecuteTime": {
     "end_time": "2019-08-07T20:15:15.470209Z",
     "start_time": "2019-08-07T20:15:15.453901Z"
    },
    "hidden": true
   },
   "outputs": [],
   "source": [
    "learn.cutmix();"
   ]
  },
  {
   "cell_type": "code",
   "execution_count": null,
   "metadata": {
    "ExecuteTime": {
     "end_time": "2019-08-07T21:12:58.803084Z",
     "start_time": "2019-08-07T20:15:24.040038Z"
    },
    "hidden": true
   },
   "outputs": [],
   "source": [
    "learn.fit_one_cycle(4, max_lr=1e-3)"
   ]
  },
  {
   "cell_type": "code",
   "execution_count": null,
   "metadata": {
    "ExecuteTime": {
     "end_time": "2019-08-07T21:12:59.069451Z",
     "start_time": "2019-08-07T21:12:58.804368Z"
    },
    "hidden": true
   },
   "outputs": [],
   "source": [
    "learn.recorder.plot_losses()"
   ]
  },
  {
   "cell_type": "code",
   "execution_count": null,
   "metadata": {
    "ExecuteTime": {
     "end_time": "2019-08-07T21:12:59.173731Z",
     "start_time": "2019-08-07T21:12:59.070713Z"
    },
    "hidden": true
   },
   "outputs": [],
   "source": [
    "learn.recorder.plot_metrics()"
   ]
  },
  {
   "cell_type": "code",
   "execution_count": null,
   "metadata": {
    "ExecuteTime": {
     "end_time": "2019-08-07T21:12:59.240485Z",
     "start_time": "2019-08-07T21:12:59.174833Z"
    },
    "hidden": true
   },
   "outputs": [],
   "source": [
    "learn.save('effnet/adacos_efficientnet_b3_e080CM125blend004_190807')"
   ]
  },
  {
   "cell_type": "code",
   "execution_count": null,
   "metadata": {
    "ExecuteTime": {
     "end_time": "2019-08-07T21:12:59.387316Z",
     "start_time": "2019-08-07T21:12:59.241445Z"
    },
    "hidden": true
   },
   "outputs": [],
   "source": [
    "learn.load('effnet/adacos_efficientnet_b3_e080CM125blend004_190807');"
   ]
  },
  {
   "cell_type": "code",
   "execution_count": null,
   "metadata": {
    "ExecuteTime": {
     "end_time": "2019-08-08T03:27:36.431490Z",
     "start_time": "2019-08-07T21:12:59.388251Z"
    },
    "hidden": true
   },
   "outputs": [],
   "source": [
    "learn.fit_one_cycle(26, max_lr=1e-4)"
   ]
  },
  {
   "cell_type": "code",
   "execution_count": null,
   "metadata": {
    "ExecuteTime": {
     "end_time": "2019-08-08T03:27:36.896895Z",
     "start_time": "2019-08-08T03:27:36.433025Z"
    },
    "hidden": true
   },
   "outputs": [],
   "source": [
    "learn.recorder.plot_losses()"
   ]
  },
  {
   "cell_type": "code",
   "execution_count": null,
   "metadata": {
    "ExecuteTime": {
     "end_time": "2019-08-08T03:27:37.006119Z",
     "start_time": "2019-08-08T03:27:36.900993Z"
    },
    "hidden": true
   },
   "outputs": [],
   "source": [
    "learn.recorder.plot_metrics()"
   ]
  },
  {
   "cell_type": "code",
   "execution_count": null,
   "metadata": {
    "ExecuteTime": {
     "end_time": "2019-08-08T03:27:37.071778Z",
     "start_time": "2019-08-08T03:27:37.007196Z"
    },
    "hidden": true
   },
   "outputs": [],
   "source": [
    "learn.save('effnet/adacos_efficientnet_b3_e080CM125CO030_190807')"
   ]
  },
  {
   "cell_type": "code",
   "execution_count": null,
   "metadata": {
    "ExecuteTime": {
     "end_time": "2019-08-08T03:27:37.233900Z",
     "start_time": "2019-08-08T03:27:37.072799Z"
    },
    "hidden": true
   },
   "outputs": [],
   "source": [
    "learn.load('effnet/adacos_efficientnet_b3_e080CM125CO030_190807');"
   ]
  },
  {
   "cell_type": "code",
   "execution_count": null,
   "metadata": {
    "ExecuteTime": {
     "end_time": "2019-08-06T04:08:48.095003Z",
     "start_time": "2019-08-06T04:08:20.900865Z"
    },
    "hidden": true
   },
   "outputs": [],
   "source": [
    "learn.lr_find()\n",
    "learn.recorder.plot(suggestion=True)"
   ]
  },
  {
   "cell_type": "markdown",
   "metadata": {
    "heading_collapsed": true
   },
   "source": [
    "### CutMix ReduceLR #2"
   ]
  },
  {
   "cell_type": "code",
   "execution_count": null,
   "metadata": {
    "ExecuteTime": {
     "end_time": "2019-08-08T04:04:31.602828Z",
     "start_time": "2019-08-08T04:04:31.431070Z"
    },
    "hidden": true
   },
   "outputs": [],
   "source": [
    "learn.load('effnet/adacos_efficientnet_b3_e080CM125CO030_190807');"
   ]
  },
  {
   "cell_type": "code",
   "execution_count": null,
   "metadata": {
    "ExecuteTime": {
     "end_time": "2019-08-08T04:04:32.455026Z",
     "start_time": "2019-08-08T04:04:32.441983Z"
    },
    "hidden": true
   },
   "outputs": [],
   "source": [
    "redlr = ReduceLROnPlateauCallback(learn, monitor='accuracy', patience=4)\n",
    "savem = SaveModelCallback(learn, every='improvement', monitor='accuracy', \n",
    "                          name='effnet/adacos_efficientnet_b3_e080CM125CO030-075_190807_best')\n"
   ]
  },
  {
   "cell_type": "code",
   "execution_count": null,
   "metadata": {
    "ExecuteTime": {
     "end_time": "2019-08-08T14:53:27.149815Z",
     "start_time": "2019-08-08T04:04:46.819597Z"
    },
    "hidden": true
   },
   "outputs": [],
   "source": [
    "learn.fit(45, lr=1e-4, callbacks=[savem, redlr])"
   ]
  },
  {
   "cell_type": "code",
   "execution_count": null,
   "metadata": {
    "ExecuteTime": {
     "end_time": "2019-08-08T14:53:28.012973Z",
     "start_time": "2019-08-08T14:53:27.155391Z"
    },
    "hidden": true
   },
   "outputs": [],
   "source": [
    "learn.recorder.plot_losses()"
   ]
  },
  {
   "cell_type": "code",
   "execution_count": null,
   "metadata": {
    "ExecuteTime": {
     "end_time": "2019-08-08T14:53:28.145541Z",
     "start_time": "2019-08-08T14:53:28.014149Z"
    },
    "hidden": true
   },
   "outputs": [],
   "source": [
    "learn.recorder.plot_metrics()"
   ]
  },
  {
   "cell_type": "code",
   "execution_count": null,
   "metadata": {
    "ExecuteTime": {
     "end_time": "2019-08-08T14:53:28.302157Z",
     "start_time": "2019-08-08T14:53:28.146671Z"
    },
    "hidden": true
   },
   "outputs": [],
   "source": [
    "learn.recorder.plot_lr()"
   ]
  },
  {
   "cell_type": "code",
   "execution_count": null,
   "metadata": {
    "ExecuteTime": {
     "end_time": "2019-08-08T14:53:28.370683Z",
     "start_time": "2019-08-08T14:53:28.303155Z"
    },
    "hidden": true
   },
   "outputs": [],
   "source": [
    "learn.save('effnet/adacos_efficientnet_b3_e080CM125CO075_190808')"
   ]
  },
  {
   "cell_type": "code",
   "execution_count": null,
   "metadata": {
    "ExecuteTime": {
     "end_time": "2019-08-08T14:53:28.538848Z",
     "start_time": "2019-08-08T14:53:28.371715Z"
    },
    "hidden": true
   },
   "outputs": [],
   "source": [
    "learn.load('effnet/adacos_efficientnet_b3_e080CM125CO075_190808');"
   ]
  },
  {
   "cell_type": "code",
   "execution_count": null,
   "metadata": {
    "ExecuteTime": {
     "end_time": "2019-08-08T14:53:50.864108Z",
     "start_time": "2019-08-08T14:53:28.539818Z"
    },
    "hidden": true
   },
   "outputs": [],
   "source": [
    "learn.lr_find()\n",
    "learn.recorder.plot(suggestion=True)"
   ]
  },
  {
   "cell_type": "code",
   "execution_count": null,
   "metadata": {
    "hidden": true
   },
   "outputs": [],
   "source": [
    "mv adacos_efficientnet_b3_e080CM125CO030-075_190807_best.pth adacos_efficientnet_b3_e080CM125CO030-075_190808_best.pth"
   ]
  },
  {
   "cell_type": "markdown",
   "metadata": {
    "heading_collapsed": true
   },
   "source": [
    "### Custom Blend CutMix"
   ]
  },
  {
   "cell_type": "code",
   "execution_count": null,
   "metadata": {
    "ExecuteTime": {
     "end_time": "2019-08-07T19:56:11.757522Z",
     "start_time": "2019-08-07T19:56:11.740738Z"
    },
    "hidden": true
   },
   "outputs": [],
   "source": [
    "kwargs = {\n",
    "    'size': .05, \n",
    "    'alpha': .2,\n",
    "    'blend_type': 'zero', \n",
    "}"
   ]
  },
  {
   "cell_type": "code",
   "execution_count": null,
   "metadata": {
    "ExecuteTime": {
     "end_time": "2019-08-07T19:56:12.649451Z",
     "start_time": "2019-08-07T19:56:12.632896Z"
    },
    "hidden": true
   },
   "outputs": [],
   "source": [
    "learn.blend(**kwargs);"
   ]
  },
  {
   "cell_type": "code",
   "execution_count": null,
   "metadata": {
    "hidden": true
   },
   "outputs": [],
   "source": []
  },
  {
   "cell_type": "code",
   "execution_count": null,
   "metadata": {
    "ExecuteTime": {
     "end_time": "2019-07-26T17:58:07.072760Z",
     "start_time": "2019-07-26T17:58:04.469884Z"
    },
    "hidden": true
   },
   "outputs": [],
   "source": [
    "learn.fit_one_cycle(4, 1e-3)"
   ]
  },
  {
   "cell_type": "code",
   "execution_count": null,
   "metadata": {
    "ExecuteTime": {
     "end_time": "2019-07-26T17:58:24.633769Z",
     "start_time": "2019-07-26T17:58:14.786359Z"
    },
    "hidden": true
   },
   "outputs": [],
   "source": [
    "%debug"
   ]
  },
  {
   "cell_type": "code",
   "execution_count": null,
   "metadata": {
    "hidden": true
   },
   "outputs": [],
   "source": [
    "# Define transform function\n",
    "tfm_fn = partial(blend, blend_type='cut', same_size=False)\n",
    "\n",
    "#Define schedule parameters\n",
    "sch_param=['size', 'fixed_proba']\n",
    "sch_val = [(.05, 2), .2 ]  # You can also enter a list of tuples\n",
    "sch_iter = [(0., .3), (0., .7)]  # And a tuple with start and end iteration percentage\n",
    "sch_func = [annealing_cos, partial(cosine_annealing, pct_start=.3)] # options: None = annealing_linear, annealing_cos, cosine_annealing\n",
    "plot = True\n",
    "test = True  # if True this will stop training in the first mini-batch\n",
    "sch_tfm_cb = partial(TfmScheduler, tfm_fn=tfm_fn, sch_param=sch_param, sch_val=sch_val, \n",
    "                      sch_iter=sch_iter, sch_func=sch_func, plot=plot, test=test)\n",
    "learn.callback_fns.append(sch_tfm_cb)"
   ]
  },
  {
   "cell_type": "code",
   "execution_count": null,
   "metadata": {
    "hidden": true
   },
   "outputs": [],
   "source": []
  },
  {
   "cell_type": "code",
   "execution_count": null,
   "metadata": {
    "hidden": true
   },
   "outputs": [],
   "source": []
  },
  {
   "cell_type": "code",
   "execution_count": null,
   "metadata": {
    "hidden": true
   },
   "outputs": [],
   "source": []
  },
  {
   "cell_type": "markdown",
   "metadata": {},
   "source": [
    "# Submission"
   ]
  },
  {
   "cell_type": "markdown",
   "metadata": {
    "heading_collapsed": true
   },
   "source": [
    "## Classifcation"
   ]
  },
  {
   "cell_type": "code",
   "execution_count": null,
   "metadata": {
    "ExecuteTime": {
     "end_time": "2019-07-29T17:19:05.357210Z",
     "start_time": "2019-07-29T17:19:05.097795Z"
    },
    "hidden": true
   },
   "outputs": [],
   "source": [
    "learn.load('resnet50/adacos_se_xresnet50c_val-split-v2_128e040-256e106CMe110_20190729');"
   ]
  },
  {
   "cell_type": "code",
   "execution_count": null,
   "metadata": {
    "ExecuteTime": {
     "end_time": "2019-08-05T15:53:15.569726Z",
     "start_time": "2019-08-05T15:49:04.679301Z"
    },
    "hidden": true
   },
   "outputs": [],
   "source": [
    "# get prediction of test dataset\n",
    "preds, _ = learn.get_preds(ds_type=DatasetType.Test)"
   ]
  },
  {
   "cell_type": "code",
   "execution_count": null,
   "metadata": {
    "ExecuteTime": {
     "end_time": "2019-08-05T15:53:15.588091Z",
     "start_time": "2019-08-05T15:53:15.570964Z"
    },
    "hidden": true
   },
   "outputs": [],
   "source": [
    "# check length\n",
    "len(preds)"
   ]
  },
  {
   "cell_type": "code",
   "execution_count": null,
   "metadata": {
    "ExecuteTime": {
     "end_time": "2019-08-05T15:53:15.606096Z",
     "start_time": "2019-08-05T15:53:15.589216Z"
    },
    "hidden": true
   },
   "outputs": [],
   "source": [
    "# get the categories\n",
    "preds_cat = preds.argmax(dim=-1)"
   ]
  },
  {
   "cell_type": "code",
   "execution_count": null,
   "metadata": {
    "ExecuteTime": {
     "end_time": "2019-08-05T15:53:15.617278Z",
     "start_time": "2019-08-05T15:53:15.607162Z"
    },
    "hidden": true
   },
   "outputs": [],
   "source": [
    "# get the names\n",
    "preds_names = learn.data.test_ds.x.items"
   ]
  },
  {
   "cell_type": "code",
   "execution_count": null,
   "metadata": {
    "ExecuteTime": {
     "end_time": "2019-08-05T15:53:15.662341Z",
     "start_time": "2019-08-05T15:53:15.618160Z"
    },
    "hidden": true
   },
   "outputs": [],
   "source": [
    "# without site\n",
    "#preds_names = [x.split('/')[1]+'_'+x.split('/')[2][-1]+'_'+x.split('/')[3][:3] for x in preds_names]\n",
    "\n",
    "# with site\n",
    "preds_names = [x.split('/')[1]+'_'+x.split('/')[2][-1]+'_'+x.split('/')[3] for x in preds_names]"
   ]
  },
  {
   "cell_type": "code",
   "execution_count": null,
   "metadata": {
    "ExecuteTime": {
     "end_time": "2019-08-05T15:53:15.679656Z",
     "start_time": "2019-08-05T15:53:15.663311Z"
    },
    "hidden": true
   },
   "outputs": [],
   "source": [
    "df_preds = pd.DataFrame({'id_code_site': preds_names, 'sirna': preds_cat})"
   ]
  },
  {
   "cell_type": "code",
   "execution_count": null,
   "metadata": {
    "ExecuteTime": {
     "end_time": "2019-08-05T15:53:15.700072Z",
     "start_time": "2019-08-05T15:53:15.680652Z"
    },
    "hidden": true
   },
   "outputs": [],
   "source": [
    "# get id_code without site\n",
    "df_preds['id_code'] = df_preds['id_code_site'].apply(lambda x: x[:-3])"
   ]
  },
  {
   "cell_type": "code",
   "execution_count": null,
   "metadata": {
    "ExecuteTime": {
     "end_time": "2019-08-05T15:53:18.270083Z",
     "start_time": "2019-08-05T15:53:15.701461Z"
    },
    "hidden": true
   },
   "outputs": [],
   "source": [
    "# get row indices with the same/not the same the prediction for both sites\n",
    "idx = [] # indices with the same prediction\n",
    "idx_notsame = [] # indices with not the same prediction\n",
    "for i, r in enumerate(df_preds.sort_values('id_code').iterrows()):\n",
    "    if i % 2:\n",
    "        # distance from row 2 is \n",
    "        if pred == r[1]['sirna']:\n",
    "            idx.append(r[0])\n",
    "        else:\n",
    "            #idx.append(r[0]) # always append idx until we come up with something better\n",
    "            idx.append(idx_row_before)\n",
    "            idx_notsame.append(idx_row_before) # get the first rows of the pairs that are not the same\n",
    "    else:\n",
    "        # save dist from row 1 for comparison in next iteration\n",
    "        pred = r[1]['sirna']\n",
    "        idx_row_before = r[0]"
   ]
  },
  {
   "cell_type": "code",
   "execution_count": null,
   "metadata": {
    "ExecuteTime": {
     "end_time": "2019-08-05T15:53:18.281892Z",
     "start_time": "2019-08-05T15:53:18.271104Z"
    },
    "hidden": true
   },
   "outputs": [],
   "source": [
    "len(idx), len(idx_notsame)"
   ]
  },
  {
   "cell_type": "code",
   "execution_count": null,
   "metadata": {
    "ExecuteTime": {
     "end_time": "2019-08-05T15:53:18.293331Z",
     "start_time": "2019-08-05T15:53:18.282869Z"
    },
    "hidden": true
   },
   "outputs": [],
   "source": [
    "idx[:5]"
   ]
  },
  {
   "cell_type": "code",
   "execution_count": null,
   "metadata": {
    "ExecuteTime": {
     "end_time": "2019-08-05T15:53:18.340274Z",
     "start_time": "2019-08-05T15:53:18.294170Z"
    },
    "hidden": true
   },
   "outputs": [],
   "source": [
    "df_preds.sort_values('id_code').head(10)"
   ]
  },
  {
   "cell_type": "code",
   "execution_count": null,
   "metadata": {
    "ExecuteTime": {
     "end_time": "2019-08-05T15:53:18.350973Z",
     "start_time": "2019-08-05T15:53:18.341152Z"
    },
    "hidden": true
   },
   "outputs": [],
   "source": [
    "#df_preds.loc[idx,['id_code','sirna']]"
   ]
  },
  {
   "cell_type": "code",
   "execution_count": null,
   "metadata": {
    "hidden": true
   },
   "outputs": [],
   "source": []
  },
  {
   "cell_type": "code",
   "execution_count": null,
   "metadata": {
    "ExecuteTime": {
     "end_time": "2019-08-05T15:53:18.361693Z",
     "start_time": "2019-08-05T15:53:18.351798Z"
    },
    "hidden": true
   },
   "outputs": [],
   "source": [
    "# 'effnet/adacos_efficientnet_b3_e080CM112_190805'\n",
    "model = 'metriclearn_efficientnet_b3_e080CM112_190805'"
   ]
  },
  {
   "cell_type": "code",
   "execution_count": null,
   "metadata": {
    "ExecuteTime": {
     "end_time": "2019-08-05T15:53:18.452880Z",
     "start_time": "2019-08-05T15:53:18.362621Z"
    },
    "hidden": true
   },
   "outputs": [],
   "source": [
    "df_preds.loc[idx,['id_code','sirna']].to_csv('sub/'+model+'.csv.gz', index=False, compression='gzip')"
   ]
  },
  {
   "cell_type": "code",
   "execution_count": null,
   "metadata": {
    "ExecuteTime": {
     "end_time": "2019-08-05T15:53:24.296150Z",
     "start_time": "2019-08-05T15:53:18.453852Z"
    },
    "hidden": true
   },
   "outputs": [],
   "source": [
    "!kaggle competitions submit -c recursion-cellular-image-classification -f sub/{model}.csv.gz -m \"{model}\"\n"
   ]
  },
  {
   "cell_type": "markdown",
   "metadata": {},
   "source": [
    "## Cosinus similarity"
   ]
  },
  {
   "cell_type": "markdown",
   "metadata": {},
   "source": [
    "### Full single features"
   ]
  },
  {
   "cell_type": "code",
   "execution_count": null,
   "metadata": {},
   "outputs": [],
   "source": [
    "# https://github.com/ducha-aiki/whale-identification-2018/blob/master/reproduce_problems.ipynb\n",
    "# And for test-time augmentation I used following random solution: switch train and val transforms"
   ]
  },
  {
   "cell_type": "code",
   "execution_count": null,
   "metadata": {
    "ExecuteTime": {
     "end_time": "2019-08-05T16:23:15.104908Z",
     "start_time": "2019-08-05T16:23:15.091887Z"
    }
   },
   "outputs": [],
   "source": [
    "# extended tfms\n",
    "tfms = get_transforms(do_flip=True, flip_vert=True, \n",
    "                      max_rotate=90.0, max_zoom=1.1, \n",
    "                      max_lighting=0.2, max_warp=0.2, \n",
    "                      p_affine=0.75, p_lighting=0.75, \n",
    "                      xtra_tfms=[color_augmentation()])\n",
    "\n",
    "# crop_pad: https://forums.fast.ai/t/misc-issues/35386/10"
   ]
  },
  {
   "cell_type": "code",
   "execution_count": null,
   "metadata": {
    "ExecuteTime": {
     "end_time": "2019-08-07T19:11:41.246174Z",
     "start_time": "2019-08-07T19:11:41.232683Z"
    }
   },
   "outputs": [],
   "source": [
    "# extended tfms w/o color_augmentation !!!\n",
    "tfms = get_transforms(do_flip=True, flip_vert=True, \n",
    "                      max_rotate=90.0, max_zoom=1.1, \n",
    "                      max_lighting=0.2, max_warp=0.2, \n",
    "                      p_affine=0.75, p_lighting=0.75)"
   ]
  },
  {
   "cell_type": "code",
   "execution_count": null,
   "metadata": {
    "ExecuteTime": {
     "end_time": "2019-08-07T19:11:42.405037Z",
     "start_time": "2019-08-07T19:11:42.388835Z"
    }
   },
   "outputs": [],
   "source": [
    "# sz, bs = 300, 8*2\n",
    "sz, bs = 512, 8*3"
   ]
  },
  {
   "cell_type": "code",
   "execution_count": null,
   "metadata": {
    "ExecuteTime": {
     "end_time": "2019-08-07T19:11:46.643281Z",
     "start_time": "2019-08-07T19:11:46.102497Z"
    }
   },
   "outputs": [],
   "source": [
    "# VALID SPLIT (incl. tfms)\n",
    "data = (ImageList6D.from_df(df_train, path='train')\n",
    "        .split_from_df(col=-1) # split_by_rand_pct()\n",
    "        .label_from_df(cols=-3)\n",
    "        .add_test(ImageList6D.from_df(df_test, path='test'))\n",
    "        .transform(tfms)#, size=sz) # remove size so we get the crop size!\n",
    "        .databunch(bs=bs))"
   ]
  },
  {
   "cell_type": "code",
   "execution_count": null,
   "metadata": {
    "ExecuteTime": {
     "end_time": "2019-08-07T19:11:47.071026Z",
     "start_time": "2019-08-07T19:11:47.018198Z"
    }
   },
   "outputs": [],
   "source": [
    "# Batch-wise normalization should be enough because the deviation is max. 6%\n",
    "# see \"rcic_v10_inspect_image_data.ipynb\" for analysis.\n",
    "#data.normalize() # https://docs.fast.ai/vision.data.html#ImageDataBunch.batch_stats\n",
    "\n",
    "data.normalize([tensor([0.0456, 0.0702, 0.0447, 0.0468, 0.0407, 0.0399]),\n",
    "                tensor([0.0644, 0.0733, 0.0536, 0.0633, 0.0555, 0.0392])]);\n",
    "\n",
    "# efficientnet stats https://github.com/lukemelas/EfficientNet-PyTorch#example-classification\n",
    "#data.normalize(([0.485, 0.456, 0.406, 0.485, 0.456, 0.406],\n",
    "#               [0.229, 0.224, 0.225, 0.229, 0.224, 0.225]))\n",
    "\n",
    "# mean of mean, and mean of std from rcic_v10_inspect_image_data.ipynb\n",
    "#data.normalize()"
   ]
  },
  {
   "cell_type": "code",
   "execution_count": null,
   "metadata": {},
   "outputs": [],
   "source": []
  },
  {
   "cell_type": "code",
   "execution_count": null,
   "metadata": {},
   "outputs": [],
   "source": [
    "#data.train_dl.dl.batch_sampler.sampler = torch.utils.data.SequentialSampler(data.train_ds)\n",
    "#data.train_dl.dl.batch_sampler.drop_last = False\n",
    "#\n",
    "#data.valid_dl.dl.batch_sampler.sampler = torch.utils.data.SequentialSampler(data.valid_ds)\n",
    "#data.valid_dl.dl.batch_sampler.drop_last = False\n",
    "#\n",
    "## DOES WORK TOO FOR TEST DL ??? ??? (Or do we need to set the test dataset to the valid dataset?)\n",
    "#data.test_dl.dl.batch_sampler.sampler = torch.utils.data.SequentialSampler(data.test_ds)\n",
    "#data.test_dl.dl.batch_sampler.drop_last = False"
   ]
  },
  {
   "cell_type": "code",
   "execution_count": null,
   "metadata": {},
   "outputs": [],
   "source": []
  },
  {
   "cell_type": "code",
   "execution_count": null,
   "metadata": {
    "ExecuteTime": {
     "end_time": "2019-08-07T19:12:04.713737Z",
     "start_time": "2019-08-07T19:12:04.677711Z"
    }
   },
   "outputs": [],
   "source": [
    "learn = Learner(data, adacos_efficientnet_b3)"
   ]
  },
  {
   "cell_type": "code",
   "execution_count": null,
   "metadata": {
    "ExecuteTime": {
     "end_time": "2019-08-07T19:13:02.692473Z",
     "start_time": "2019-08-07T19:13:02.510273Z"
    }
   },
   "outputs": [],
   "source": [
    "learn.load('effnet/adacos_efficientnet_b3_e080CM185-230_190807_best')"
   ]
  },
  {
   "cell_type": "code",
   "execution_count": null,
   "metadata": {
    "ExecuteTime": {
     "end_time": "2019-08-07T19:13:04.438003Z",
     "start_time": "2019-08-07T19:13:04.423235Z"
    }
   },
   "outputs": [],
   "source": [
    "def get_feats(model, dataloader, cycles=1):\n",
    "    feats = []\n",
    "    targs = []\n",
    "    model.eval()\n",
    "    with torch.no_grad():\n",
    "        for i in range(cycles): # for TTA\n",
    "            for xb, yb in dataloader:\n",
    "                body_out = model.body(xb)\n",
    "                head_out = model.head(body_out)\n",
    "                feats.append(head_out.cpu())\n",
    "                targs.append(yb.cpu())\n",
    "    return feats, targs"
   ]
  },
  {
   "cell_type": "markdown",
   "metadata": {},
   "source": [
    "#### Train"
   ]
  },
  {
   "cell_type": "code",
   "execution_count": null,
   "metadata": {
    "ExecuteTime": {
     "end_time": "2019-08-07T19:27:17.142440Z",
     "start_time": "2019-08-07T19:13:08.542648Z"
    }
   },
   "outputs": [],
   "source": [
    "feats, targs = get_feats(learn.model, learn.data.train_dl)#, cycles=3)"
   ]
  },
  {
   "cell_type": "code",
   "execution_count": null,
   "metadata": {
    "ExecuteTime": {
     "end_time": "2019-08-07T19:27:17.162177Z",
     "start_time": "2019-08-07T19:27:17.144199Z"
    }
   },
   "outputs": [],
   "source": [
    "len(feats), len(targs)"
   ]
  },
  {
   "cell_type": "code",
   "execution_count": null,
   "metadata": {
    "ExecuteTime": {
     "end_time": "2019-08-07T19:27:17.174620Z",
     "start_time": "2019-08-07T19:27:17.163420Z"
    }
   },
   "outputs": [],
   "source": [
    "# total images: 89*320\n",
    "learn.data.batch_size * len(learn.data.train_dl)"
   ]
  },
  {
   "cell_type": "code",
   "execution_count": null,
   "metadata": {
    "ExecuteTime": {
     "end_time": "2019-08-07T19:27:17.185503Z",
     "start_time": "2019-08-07T19:27:17.175735Z"
    }
   },
   "outputs": [],
   "source": [
    "#len(learn.data.train_dl), len(learn.data.valid_dl), len(learn.data.test_dl)"
   ]
  },
  {
   "cell_type": "code",
   "execution_count": null,
   "metadata": {
    "ExecuteTime": {
     "end_time": "2019-08-07T19:27:17.245304Z",
     "start_time": "2019-08-07T19:27:17.186517Z"
    }
   },
   "outputs": [],
   "source": [
    "feats = torch.cat(feats, dim=0)\n",
    "targs = torch.cat(targs, dim=0)"
   ]
  },
  {
   "cell_type": "code",
   "execution_count": null,
   "metadata": {
    "ExecuteTime": {
     "end_time": "2019-08-07T19:27:17.257408Z",
     "start_time": "2019-08-07T19:27:17.246316Z"
    }
   },
   "outputs": [],
   "source": [
    "feats.shape, targs.shape"
   ]
  },
  {
   "cell_type": "code",
   "execution_count": null,
   "metadata": {
    "ExecuteTime": {
     "end_time": "2019-08-07T19:27:17.351614Z",
     "start_time": "2019-08-07T19:27:17.258335Z"
    }
   },
   "outputs": [],
   "source": [
    "np.save('pred/feats_train.npy', feats)\n",
    "np.save('pred/targs_train.npy', targs)"
   ]
  },
  {
   "cell_type": "markdown",
   "metadata": {},
   "source": [
    "#### Valid"
   ]
  },
  {
   "cell_type": "code",
   "execution_count": null,
   "metadata": {
    "ExecuteTime": {
     "end_time": "2019-08-07T19:30:25.211814Z",
     "start_time": "2019-08-07T19:27:17.353131Z"
    }
   },
   "outputs": [],
   "source": [
    "feats, targs = get_feats(learn.model, learn.data.valid_dl)"
   ]
  },
  {
   "cell_type": "code",
   "execution_count": null,
   "metadata": {
    "ExecuteTime": {
     "end_time": "2019-08-07T19:30:25.225903Z",
     "start_time": "2019-08-07T19:30:25.213318Z"
    }
   },
   "outputs": [],
   "source": [
    "len(feats), len(targs)"
   ]
  },
  {
   "cell_type": "code",
   "execution_count": null,
   "metadata": {
    "ExecuteTime": {
     "end_time": "2019-08-07T19:30:25.247940Z",
     "start_time": "2019-08-07T19:30:25.226973Z"
    }
   },
   "outputs": [],
   "source": [
    "feats = torch.cat(feats, dim=0)\n",
    "targs = torch.cat(targs, dim=0)"
   ]
  },
  {
   "cell_type": "code",
   "execution_count": null,
   "metadata": {
    "ExecuteTime": {
     "end_time": "2019-08-07T19:30:25.259808Z",
     "start_time": "2019-08-07T19:30:25.249034Z"
    }
   },
   "outputs": [],
   "source": [
    "feats.shape, feats.shape, targs.shape"
   ]
  },
  {
   "cell_type": "code",
   "execution_count": null,
   "metadata": {
    "ExecuteTime": {
     "end_time": "2019-08-07T19:30:25.295295Z",
     "start_time": "2019-08-07T19:30:25.260741Z"
    }
   },
   "outputs": [],
   "source": [
    "np.save('pred/feats_valid.npy', feats)\n",
    "np.save('pred/targs_valid.npy', targs)"
   ]
  },
  {
   "cell_type": "markdown",
   "metadata": {},
   "source": [
    "#### Test"
   ]
  },
  {
   "cell_type": "code",
   "execution_count": null,
   "metadata": {
    "ExecuteTime": {
     "end_time": "2019-08-07T19:38:27.314571Z",
     "start_time": "2019-08-07T19:30:25.296258Z"
    }
   },
   "outputs": [],
   "source": [
    "feats, targs = get_feats(learn.model, learn.data.test_dl)"
   ]
  },
  {
   "cell_type": "code",
   "execution_count": null,
   "metadata": {
    "ExecuteTime": {
     "end_time": "2019-08-07T19:38:27.337377Z",
     "start_time": "2019-08-07T19:38:27.315816Z"
    }
   },
   "outputs": [],
   "source": [
    "del targs"
   ]
  },
  {
   "cell_type": "code",
   "execution_count": null,
   "metadata": {
    "ExecuteTime": {
     "end_time": "2019-08-07T19:38:27.349207Z",
     "start_time": "2019-08-07T19:38:27.338565Z"
    }
   },
   "outputs": [],
   "source": [
    "len(feats)"
   ]
  },
  {
   "cell_type": "code",
   "execution_count": null,
   "metadata": {
    "ExecuteTime": {
     "end_time": "2019-08-07T19:38:27.384129Z",
     "start_time": "2019-08-07T19:38:27.350090Z"
    }
   },
   "outputs": [],
   "source": [
    "feats = torch.cat(feats, dim=0)"
   ]
  },
  {
   "cell_type": "code",
   "execution_count": null,
   "metadata": {
    "ExecuteTime": {
     "end_time": "2019-08-07T19:38:27.396108Z",
     "start_time": "2019-08-07T19:38:27.385085Z"
    }
   },
   "outputs": [],
   "source": [
    "feats.shape"
   ]
  },
  {
   "cell_type": "code",
   "execution_count": null,
   "metadata": {
    "ExecuteTime": {
     "end_time": "2019-08-07T19:38:27.469664Z",
     "start_time": "2019-08-07T19:38:27.396977Z"
    }
   },
   "outputs": [],
   "source": [
    "np.save('pred/feats_test.npy', feats)"
   ]
  },
  {
   "cell_type": "markdown",
   "metadata": {
    "heading_collapsed": true
   },
   "source": [
    "### Multi-crop features"
   ]
  },
  {
   "cell_type": "code",
   "execution_count": null,
   "metadata": {
    "hidden": true
   },
   "outputs": [],
   "source": [
    "# https://github.com/ducha-aiki/whale-identification-2018/blob/master/reproduce_problems.ipynb\n",
    "# And for test-time augmentation I used following random solution: switch train and val transforms"
   ]
  },
  {
   "cell_type": "code",
   "execution_count": null,
   "metadata": {
    "ExecuteTime": {
     "end_time": "2019-08-05T17:40:16.703357Z",
     "start_time": "2019-08-05T17:40:16.667012Z"
    },
    "hidden": true
   },
   "outputs": [],
   "source": [
    "df_train['test'] = 0\n",
    "df_train['path'] = 'train/'+df_train['path']"
   ]
  },
  {
   "cell_type": "code",
   "execution_count": null,
   "metadata": {
    "ExecuteTime": {
     "end_time": "2019-08-05T17:40:17.755217Z",
     "start_time": "2019-08-05T17:40:17.734637Z"
    },
    "hidden": true
   },
   "outputs": [],
   "source": [
    "df_train.head()"
   ]
  },
  {
   "cell_type": "code",
   "execution_count": null,
   "metadata": {
    "ExecuteTime": {
     "end_time": "2019-08-05T17:40:41.231046Z",
     "start_time": "2019-08-05T17:40:41.210373Z"
    },
    "hidden": true
   },
   "outputs": [],
   "source": [
    "# add dummy columns for test dataset\n",
    "df_test['path'] = 'test/'+df_test['path']\n",
    "df_test['test'] = 1\n",
    "df_test['sirna'] = 1"
   ]
  },
  {
   "cell_type": "code",
   "execution_count": null,
   "metadata": {
    "ExecuteTime": {
     "end_time": "2019-08-05T17:40:42.437537Z",
     "start_time": "2019-08-05T17:40:42.417224Z"
    },
    "hidden": true
   },
   "outputs": [],
   "source": [
    "df_test.head()"
   ]
  },
  {
   "cell_type": "code",
   "execution_count": null,
   "metadata": {
    "ExecuteTime": {
     "end_time": "2019-08-05T17:40:46.200004Z",
     "start_time": "2019-08-05T17:40:46.177879Z"
    },
    "hidden": true
   },
   "outputs": [],
   "source": [
    "df_train_test = pd.concat((df_train, df_test), axis=0, sort=False)"
   ]
  },
  {
   "cell_type": "code",
   "execution_count": null,
   "metadata": {
    "ExecuteTime": {
     "end_time": "2019-08-05T17:53:48.315497Z",
     "start_time": "2019-08-05T17:53:48.295098Z"
    },
    "hidden": true
   },
   "outputs": [],
   "source": [
    "df_train_test.tail()"
   ]
  },
  {
   "cell_type": "code",
   "execution_count": null,
   "metadata": {
    "hidden": true
   },
   "outputs": [],
   "source": [
    "# reload for train and valid ds\n",
    "df_train = pd.read_csv('full_train_dataset_valid-split-ex_v2_20190727.csv', index_col=0)\n",
    "df_test = pd.read_csv('full_test_dataset_v2_20190727.csv', index_col=0)"
   ]
  },
  {
   "cell_type": "code",
   "execution_count": null,
   "metadata": {
    "ExecuteTime": {
     "end_time": "2019-08-05T17:44:39.974069Z",
     "start_time": "2019-08-05T17:44:39.962352Z"
    },
    "hidden": true
   },
   "outputs": [],
   "source": []
  },
  {
   "cell_type": "code",
   "execution_count": null,
   "metadata": {
    "ExecuteTime": {
     "end_time": "2019-08-05T17:44:42.660744Z",
     "start_time": "2019-08-05T17:44:42.148885Z"
    },
    "hidden": true
   },
   "outputs": [],
   "source": [
    "# test tfms switching for test ds\n",
    "#tfms_switched = (tfms[1], tfms[0])\n",
    "#\n",
    "#data = (ImageList6D.from_df(df_train_test, path='.')\n",
    "#                .split_from_df(col=-1)\n",
    "#                .label_from_df(cols=-4)\n",
    "#                .transform(tfms_switched)#, size=sz) # remove size so we get the crop size!\n",
    "#                .databunch(bs=bs))"
   ]
  },
  {
   "cell_type": "code",
   "execution_count": null,
   "metadata": {
    "ExecuteTime": {
     "end_time": "2019-08-05T17:44:50.461048Z",
     "start_time": "2019-08-05T17:44:50.334649Z"
    },
    "hidden": true
   },
   "outputs": [],
   "source": [
    "#data.train_ds[0][0]"
   ]
  },
  {
   "cell_type": "code",
   "execution_count": null,
   "metadata": {
    "ExecuteTime": {
     "end_time": "2019-08-05T17:45:06.299037Z",
     "start_time": "2019-08-05T17:45:06.196917Z"
    },
    "hidden": true
   },
   "outputs": [],
   "source": [
    "#data.valid_ds[0][0]"
   ]
  },
  {
   "cell_type": "code",
   "execution_count": null,
   "metadata": {
    "hidden": true
   },
   "outputs": [],
   "source": []
  },
  {
   "cell_type": "code",
   "execution_count": null,
   "metadata": {
    "ExecuteTime": {
     "end_time": "2019-08-05T17:59:54.356878Z",
     "start_time": "2019-08-05T17:59:54.341649Z"
    },
    "hidden": true
   },
   "outputs": [],
   "source": [
    "def get_dataset(row_pct, col_pct, is_test=False):\n",
    "    # extended tfms\n",
    "    tfms = get_transforms(do_flip=True, flip_vert=True, \n",
    "                          max_rotate=90.0, max_zoom=1.1, \n",
    "                          max_lighting=0.2, max_warp=0.2, \n",
    "                          p_affine=0.75, p_lighting=0.75, \n",
    "                          xtra_tfms=[color_augmentation()])\n",
    "    \n",
    "    # change \"crop_pad\" from get_transforms to \"crop\"\n",
    "    tfms[0][0] = crop(size=sz, row_pct=row_pct, col_pct=col_pct)\n",
    "    tfms[1][0] = crop(size=sz, row_pct=row_pct, col_pct=col_pct)\n",
    "    \n",
    "    # VALID SPLIT (incl. tfms)\n",
    "    if is_test:\n",
    "        #switch train with valid (= test) tfms!\n",
    "        tfms_switched = (tfms[1], tfms[0])\n",
    "        \n",
    "        data = (ImageList6D.from_df(df_train_test, path='.')\n",
    "                .split_from_df(col=-1)\n",
    "                .label_from_df(cols=-4)\n",
    "                .transform(tfms_switched)#, size=sz) # remove size so we get the crop size!\n",
    "                .databunch(bs=bs))\n",
    "    else:\n",
    "        data = (ImageList6D.from_df(df_train, path='train')\n",
    "                .split_from_df(col=-1) # split_by_rand_pct()\n",
    "                .label_from_df(cols=-3)\n",
    "                #.add_test(ImageList6D.from_df(df_test, path='test'))\n",
    "                .transform(tfms)#, size=sz) # remove size so we get the crop size!\n",
    "                .databunch(bs=bs))\n",
    "    \n",
    "    data.normalize([tensor([0.0456, 0.0702, 0.0447, 0.0468, 0.0407, 0.0399]),\n",
    "                    tensor([0.0644, 0.0733, 0.0536, 0.0633, 0.0555, 0.0392])]);\n",
    "    \n",
    "    return data"
   ]
  },
  {
   "cell_type": "code",
   "execution_count": null,
   "metadata": {
    "ExecuteTime": {
     "end_time": "2019-08-05T17:59:55.028968Z",
     "start_time": "2019-08-05T17:59:55.014897Z"
    },
    "hidden": true
   },
   "outputs": [],
   "source": [
    "def get_feats(model, dataloader, cycles=1):\n",
    "    feats = []\n",
    "    targs = []\n",
    "    model.eval()\n",
    "    with torch.no_grad():\n",
    "        for i in range(cycles): # for TTA\n",
    "            for xb, yb in dataloader:\n",
    "                body_out = model.body(xb)\n",
    "                head_out = model.head(body_out)\n",
    "                feats.append(head_out.cpu())\n",
    "                targs.append(yb.cpu())\n",
    "                \n",
    "    feats = torch.cat(feats, dim=0)\n",
    "    targs = torch.cat(targs, dim=0)\n",
    "    \n",
    "    return feats, targs"
   ]
  },
  {
   "cell_type": "code",
   "execution_count": null,
   "metadata": {
    "ExecuteTime": {
     "end_time": "2019-08-05T18:24:57.055059Z",
     "start_time": "2019-08-05T18:24:57.042012Z"
    },
    "hidden": true
   },
   "outputs": [],
   "source": [
    "def save_feats(feats, targs, crop, ds='train'):\n",
    "    np.save(f'pred/feats_{ds}_crop{crop}.npy', feats)\n",
    "    np.save(f'pred/targs_{ds}_crop{crop}.npy', targs)"
   ]
  },
  {
   "cell_type": "code",
   "execution_count": null,
   "metadata": {
    "ExecuteTime": {
     "end_time": "2019-08-05T17:54:05.421073Z",
     "start_time": "2019-08-05T17:54:05.404036Z"
    },
    "hidden": true
   },
   "outputs": [],
   "source": [
    "#https://docs.fast.ai/vision.transform.html#_crop\n",
    "crop_pos = [[0.,0.], [0.,1.],[0.5,0.5],[1.,0.], [1.,1.]]"
   ]
  },
  {
   "cell_type": "code",
   "execution_count": null,
   "metadata": {
    "ExecuteTime": {
     "end_time": "2019-08-05T18:44:20.028527Z",
     "start_time": "2019-08-05T18:44:20.011190Z"
    },
    "hidden": true
   },
   "outputs": [],
   "source": [
    "# get random crop pos\n",
    "i = 2\n",
    "crop_pos = [[uniform(0,1), uniform(0,1)] for i in range(2)]"
   ]
  },
  {
   "cell_type": "code",
   "execution_count": null,
   "metadata": {
    "ExecuteTime": {
     "end_time": "2019-08-05T18:44:20.895596Z",
     "start_time": "2019-08-05T18:44:20.878412Z"
    },
    "hidden": true
   },
   "outputs": [],
   "source": [
    "crop_pos"
   ]
  },
  {
   "cell_type": "code",
   "execution_count": null,
   "metadata": {
    "hidden": true
   },
   "outputs": [],
   "source": [
    "# get the last three crop positions:\n",
    "crop_pos = [[0.5,0.5],[1.,0.], [1.,1.]]"
   ]
  },
  {
   "cell_type": "code",
   "execution_count": null,
   "metadata": {
    "ExecuteTime": {
     "end_time": "2019-08-05T18:44:51.754386Z",
     "start_time": "2019-08-05T18:44:51.738994Z"
    },
    "hidden": true
   },
   "outputs": [],
   "source": [
    "def get_crop_feats(model=learn.model, cycles=1, crop_pos=crop_pos):\n",
    "    \n",
    "    for i, (row_pct, col_pct) in enumerate(crop_pos):\n",
    "        \n",
    "        print('== crop#:', i,' of', len(crop_pos), '==')\n",
    "        print('row_pct:', row_pct,', col_pct:', col_pct)\n",
    "    \n",
    "        data = get_dataset(row_pct, col_pct)\n",
    "        \n",
    "        # train\n",
    "        print('= Start train dataset =')\n",
    "        feats, targs = get_feats(model, data.train_dl)\n",
    "        save_feats(feats, targs, i, ds='train')\n",
    "        print('feats:', feats.shape,' targs:', targs.shape)\n",
    "        print('- Finish train dataset -')\n",
    "        \n",
    "        # valid\n",
    "        print('= Start valid dataset =')\n",
    "        feats, targs = get_feats(model, data.valid_dl)\n",
    "        save_feats(feats, targs, i, ds='valid')\n",
    "        print('feats:', feats.shape,' targs:', targs.shape)\n",
    "        print('- Finish valid dataset -')\n",
    "        \n",
    "        # get test ds as valid ds for TTA\n",
    "        data = get_dataset(row_pct, col_pct, is_test=True)\n",
    "        \n",
    "        # test\n",
    "        print('= Start test dataset =')\n",
    "        feats, targs = get_feats(model, data.valid_dl)\n",
    "        save_feats(feats, targs, i, ds='test')\n",
    "        print('feats:', feats.shape,' targs:', targs.shape)\n",
    "        print('- Finish test dataset -')"
   ]
  },
  {
   "cell_type": "code",
   "execution_count": null,
   "metadata": {
    "ExecuteTime": {
     "end_time": "2019-08-05T18:44:52.441476Z",
     "start_time": "2019-08-05T18:44:52.411673Z"
    },
    "hidden": true
   },
   "outputs": [],
   "source": [
    "learn = Learner(data, adacos_efficientnet_b3)"
   ]
  },
  {
   "cell_type": "code",
   "execution_count": null,
   "metadata": {
    "ExecuteTime": {
     "end_time": "2019-08-05T18:44:53.733710Z",
     "start_time": "2019-08-05T18:44:53.521230Z"
    },
    "hidden": true
   },
   "outputs": [],
   "source": [
    "learn.load('effnet/adacos_efficientnet_b3_e080CM112_190805');"
   ]
  },
  {
   "cell_type": "code",
   "execution_count": null,
   "metadata": {
    "ExecuteTime": {
     "end_time": "2019-08-05T19:29:50.459716Z",
     "start_time": "2019-08-05T18:44:54.378356Z"
    },
    "hidden": true
   },
   "outputs": [],
   "source": [
    "get_crop_feats()"
   ]
  },
  {
   "cell_type": "code",
   "execution_count": null,
   "metadata": {
    "hidden": true
   },
   "outputs": [],
   "source": []
  },
  {
   "cell_type": "code",
   "execution_count": null,
   "metadata": {
    "hidden": true
   },
   "outputs": [],
   "source": []
  },
  {
   "cell_type": "code",
   "execution_count": null,
   "metadata": {
    "hidden": true
   },
   "outputs": [],
   "source": []
  },
  {
   "cell_type": "code",
   "execution_count": null,
   "metadata": {
    "hidden": true
   },
   "outputs": [],
   "source": [
    "#data = (ImageList6D.from_df(df_train_test, path='.')\n",
    "#        .split_from_df(col=-1)\n",
    "#        .label_from_df(cols=-4)\n",
    "#        .transform(tfms_switched)#, size=sz) # remove size so we get the crop size!\n",
    "#        .databunch(bs=bs))"
   ]
  },
  {
   "cell_type": "markdown",
   "metadata": {},
   "source": [
    "### Submission"
   ]
  },
  {
   "cell_type": "code",
   "execution_count": null,
   "metadata": {
    "ExecuteTime": {
     "end_time": "2019-08-07T19:43:09.435020Z",
     "start_time": "2019-08-07T19:43:09.418302Z"
    }
   },
   "outputs": [],
   "source": [
    "# get the names\n",
    "preds_names = learn.data.test_ds.x.items"
   ]
  },
  {
   "cell_type": "code",
   "execution_count": null,
   "metadata": {
    "ExecuteTime": {
     "end_time": "2019-08-07T19:43:11.048102Z",
     "start_time": "2019-08-07T19:43:11.001086Z"
    }
   },
   "outputs": [],
   "source": [
    "# without site\n",
    "#preds_names = [x.split('/')[1]+'_'+x.split('/')[2][-1]+'_'+x.split('/')[3][:3] for x in preds_names]\n",
    "\n",
    "# with site\n",
    "preds_names = [x.split('/')[1]+'_'+x.split('/')[2][-1]+'_'+x.split('/')[3] for x in preds_names]"
   ]
  },
  {
   "cell_type": "code",
   "execution_count": null,
   "metadata": {
    "ExecuteTime": {
     "end_time": "2019-08-07T19:43:11.792006Z",
     "start_time": "2019-08-07T19:43:11.774085Z"
    }
   },
   "outputs": [],
   "source": [
    "preds_test = np.load('pred/preds_test.npy')\n",
    "dist_test = np.load('pred/dist_test.npy')"
   ]
  },
  {
   "cell_type": "code",
   "execution_count": null,
   "metadata": {
    "ExecuteTime": {
     "end_time": "2019-08-07T19:43:12.656102Z",
     "start_time": "2019-08-07T19:43:12.638200Z"
    }
   },
   "outputs": [],
   "source": [
    "len(preds_names), len(preds_test), len(dist_test)"
   ]
  },
  {
   "cell_type": "code",
   "execution_count": null,
   "metadata": {
    "ExecuteTime": {
     "end_time": "2019-08-07T19:43:15.703654Z",
     "start_time": "2019-08-07T19:43:15.687485Z"
    }
   },
   "outputs": [],
   "source": [
    "#preds_test"
   ]
  },
  {
   "cell_type": "code",
   "execution_count": null,
   "metadata": {
    "ExecuteTime": {
     "end_time": "2019-08-07T19:43:16.074092Z",
     "start_time": "2019-08-07T19:43:16.031279Z"
    }
   },
   "outputs": [],
   "source": [
    "#dist_test"
   ]
  },
  {
   "cell_type": "code",
   "execution_count": null,
   "metadata": {
    "ExecuteTime": {
     "end_time": "2019-08-07T19:43:16.679582Z",
     "start_time": "2019-08-07T19:43:16.651682Z"
    }
   },
   "outputs": [],
   "source": [
    "df_preds = pd.DataFrame({'id_code_site': preds_names, 'sirna': preds_test, 'cossim': dist_test})"
   ]
  },
  {
   "cell_type": "code",
   "execution_count": null,
   "metadata": {
    "ExecuteTime": {
     "end_time": "2019-08-07T19:43:17.517697Z",
     "start_time": "2019-08-07T19:43:17.484670Z"
    }
   },
   "outputs": [],
   "source": [
    "# get id_code without site\n",
    "df_preds['id_code'] = df_preds['id_code_site'].apply(lambda x: x[:-3])"
   ]
  },
  {
   "cell_type": "code",
   "execution_count": null,
   "metadata": {
    "ExecuteTime": {
     "end_time": "2019-08-07T19:43:20.777056Z",
     "start_time": "2019-08-07T19:43:18.067825Z"
    }
   },
   "outputs": [],
   "source": [
    "# get row indices with highest cosine similiarity\n",
    "idx = []\n",
    "for i, r in enumerate(df_preds.sort_values('id_code').iterrows()):\n",
    "    #print(r)\n",
    "    #print('i: ',i)\n",
    "    #print('idx: ',r[0])\n",
    "    #print(r[1]['cossim'])\n",
    "    if i % 2:\n",
    "        # distance from row 2 is \n",
    "        if dist < r[1]['cossim']:\n",
    "            idx.append(r[0])\n",
    "        else:\n",
    "            idx.append(idx_row_before)\n",
    "    else:\n",
    "        # save dist from row 1 for comparison in next iteration\n",
    "        dist = r[1]['cossim']\n",
    "        idx_row_before = r[0]"
   ]
  },
  {
   "cell_type": "code",
   "execution_count": null,
   "metadata": {
    "ExecuteTime": {
     "end_time": "2019-08-07T19:43:20.789235Z",
     "start_time": "2019-08-07T19:43:20.778229Z"
    }
   },
   "outputs": [],
   "source": [
    "idx[:5]"
   ]
  },
  {
   "cell_type": "code",
   "execution_count": null,
   "metadata": {
    "ExecuteTime": {
     "end_time": "2019-08-07T19:43:20.835613Z",
     "start_time": "2019-08-07T19:43:20.790417Z"
    },
    "scrolled": true
   },
   "outputs": [],
   "source": [
    "df_preds.sort_values('id_code').head(10)"
   ]
  },
  {
   "cell_type": "code",
   "execution_count": null,
   "metadata": {
    "ExecuteTime": {
     "end_time": "2019-08-07T19:43:20.846641Z",
     "start_time": "2019-08-07T19:43:20.836682Z"
    }
   },
   "outputs": [],
   "source": [
    "#df_preds.loc[idx,['id_code','sirna']]"
   ]
  },
  {
   "cell_type": "code",
   "execution_count": null,
   "metadata": {},
   "outputs": [],
   "source": []
  },
  {
   "cell_type": "code",
   "execution_count": null,
   "metadata": {
    "ExecuteTime": {
     "end_time": "2019-08-07T19:43:35.171601Z",
     "start_time": "2019-08-07T19:43:35.154991Z"
    }
   },
   "outputs": [],
   "source": [
    "# 'effnet/adacos_efficientnet_b3_e080CM185-230_190807_best'\n",
    "model = 'metriclearn_efficientnet_b3_e080CM185-230_190807_best_512px-no-col-aug'"
   ]
  },
  {
   "cell_type": "code",
   "execution_count": null,
   "metadata": {
    "ExecuteTime": {
     "end_time": "2019-08-07T19:43:36.855497Z",
     "start_time": "2019-08-07T19:43:36.751855Z"
    }
   },
   "outputs": [],
   "source": [
    "df_preds.loc[idx,['id_code','sirna']].to_csv('sub/'+model+'.csv.gz', index=False, compression='gzip')"
   ]
  },
  {
   "cell_type": "code",
   "execution_count": null,
   "metadata": {
    "ExecuteTime": {
     "end_time": "2019-08-07T19:43:48.065761Z",
     "start_time": "2019-08-07T19:43:41.656356Z"
    }
   },
   "outputs": [],
   "source": [
    "!kaggle competitions submit -c recursion-cellular-image-classification -f sub/{model}.csv.gz -m \"{model}\"\n"
   ]
  },
  {
   "cell_type": "markdown",
   "metadata": {
    "heading_collapsed": true
   },
   "source": [
    "# Error analysis"
   ]
  },
  {
   "cell_type": "code",
   "execution_count": null,
   "metadata": {
    "hidden": true
   },
   "outputs": [],
   "source": [
    "preds_correct = np.load('preds_valid_correct.npy')"
   ]
  },
  {
   "cell_type": "code",
   "execution_count": null,
   "metadata": {
    "hidden": true
   },
   "outputs": [],
   "source": [
    "df_erros = pd.DataFrame({'id_code': preds_names, 'correct': preds_test})"
   ]
  },
  {
   "cell_type": "code",
   "execution_count": null,
   "metadata": {
    "hidden": true
   },
   "outputs": [],
   "source": [
    "df_erros[df_errors['correct'] == False]"
   ]
  },
  {
   "cell_type": "code",
   "execution_count": null,
   "metadata": {
    "hidden": true
   },
   "outputs": [],
   "source": [
    "# ERROR ANALYSIS !!!"
   ]
  }
 ],
 "metadata": {
  "kernelspec": {
   "display_name": "fastai",
   "language": "python",
   "name": "fastai"
  },
  "language_info": {
   "codemirror_mode": {
    "name": "ipython",
    "version": 3
   },
   "file_extension": ".py",
   "mimetype": "text/x-python",
   "name": "python",
   "nbconvert_exporter": "python",
   "pygments_lexer": "ipython3",
   "version": "3.6.8"
  },
  "toc": {
   "base_numbering": 1,
   "nav_menu": {
    "height": "488px",
    "width": "305px"
   },
   "number_sections": true,
   "sideBar": true,
   "skip_h1_title": false,
   "title_cell": "Table of Contents",
   "title_sidebar": "Contents",
   "toc_cell": false,
   "toc_position": {
    "height": "calc(100% - 180px)",
    "left": "10px",
    "top": "150px",
    "width": "206px"
   },
   "toc_section_display": true,
   "toc_window_display": true
  }
 },
 "nbformat": 4,
 "nbformat_minor": 2
}
