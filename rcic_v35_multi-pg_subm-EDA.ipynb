{
 "cells": [
  {
   "cell_type": "code",
   "execution_count": 1,
   "metadata": {
    "ExecuteTime": {
     "end_time": "2019-09-02T19:10:46.173930Z",
     "start_time": "2019-09-02T19:10:46.006670Z"
    }
   },
   "outputs": [],
   "source": [
    "import numpy as np\n",
    "import pandas as pd\n",
    "import pickle"
   ]
  },
  {
   "cell_type": "code",
   "execution_count": 2,
   "metadata": {
    "ExecuteTime": {
     "end_time": "2019-09-02T19:10:46.358186Z",
     "start_time": "2019-09-02T19:10:46.288216Z"
    }
   },
   "outputs": [],
   "source": [
    "df_full_plate_pattern = pd.read_csv('full_dataset_v2_path_plate_groups_only_20190812.csv', index_col=0)"
   ]
  },
  {
   "cell_type": "code",
   "execution_count": 3,
   "metadata": {
    "ExecuteTime": {
     "end_time": "2019-09-02T19:10:46.606130Z",
     "start_time": "2019-09-02T19:10:46.546126Z"
    }
   },
   "outputs": [],
   "source": [
    "df_full_plate_pattern['test'] = df_full_plate_pattern['path'].apply(lambda x: x.startswith('test'))"
   ]
  },
  {
   "cell_type": "code",
   "execution_count": 4,
   "metadata": {
    "ExecuteTime": {
     "end_time": "2019-09-02T19:10:46.781578Z",
     "start_time": "2019-09-02T19:10:46.773074Z"
    }
   },
   "outputs": [],
   "source": [
    "testpath2name = lambda x: x.split('/')[1]+'_'+x.split('/')[2][-1]+'_'+x.split('/')[-1]"
   ]
  },
  {
   "cell_type": "code",
   "execution_count": 5,
   "metadata": {
    "ExecuteTime": {
     "end_time": "2019-09-02T19:10:47.094086Z",
     "start_time": "2019-09-02T19:10:47.007019Z"
    }
   },
   "outputs": [],
   "source": [
    "df_full_plate_pattern['name'] = df_full_plate_pattern.path.apply(testpath2name)"
   ]
  },
  {
   "cell_type": "code",
   "execution_count": 6,
   "metadata": {
    "ExecuteTime": {
     "end_time": "2019-09-02T19:10:47.306004Z",
     "start_time": "2019-09-02T19:10:47.264962Z"
    }
   },
   "outputs": [],
   "source": [
    "df_full_plate_pattern['exp'] = df_full_plate_pattern.path.apply(lambda x: x.split('/')[1])"
   ]
  },
  {
   "cell_type": "code",
   "execution_count": 7,
   "metadata": {
    "ExecuteTime": {
     "end_time": "2019-09-02T19:10:47.664685Z",
     "start_time": "2019-09-02T19:10:47.637359Z"
    }
   },
   "outputs": [
    {
     "data": {
      "text/html": [
       "<div>\n",
       "<style scoped>\n",
       "    .dataframe tbody tr th:only-of-type {\n",
       "        vertical-align: middle;\n",
       "    }\n",
       "\n",
       "    .dataframe tbody tr th {\n",
       "        vertical-align: top;\n",
       "    }\n",
       "\n",
       "    .dataframe thead th {\n",
       "        text-align: right;\n",
       "    }\n",
       "</style>\n",
       "<table border=\"1\" class=\"dataframe\">\n",
       "  <thead>\n",
       "    <tr style=\"text-align: right;\">\n",
       "      <th></th>\n",
       "      <th>path</th>\n",
       "      <th>plate_pattern</th>\n",
       "      <th>test</th>\n",
       "      <th>name</th>\n",
       "      <th>exp</th>\n",
       "    </tr>\n",
       "  </thead>\n",
       "  <tbody>\n",
       "    <tr>\n",
       "      <th>0</th>\n",
       "      <td>test/HEPG2-08/Plate1/B03_s1</td>\n",
       "      <td>3</td>\n",
       "      <td>True</td>\n",
       "      <td>HEPG2-08_1_B03_s1</td>\n",
       "      <td>HEPG2-08</td>\n",
       "    </tr>\n",
       "    <tr>\n",
       "      <th>1</th>\n",
       "      <td>test/HEPG2-08/Plate1/B04_s1</td>\n",
       "      <td>3</td>\n",
       "      <td>True</td>\n",
       "      <td>HEPG2-08_1_B04_s1</td>\n",
       "      <td>HEPG2-08</td>\n",
       "    </tr>\n",
       "    <tr>\n",
       "      <th>2</th>\n",
       "      <td>test/HEPG2-08/Plate1/B05_s1</td>\n",
       "      <td>3</td>\n",
       "      <td>True</td>\n",
       "      <td>HEPG2-08_1_B05_s1</td>\n",
       "      <td>HEPG2-08</td>\n",
       "    </tr>\n",
       "    <tr>\n",
       "      <th>3</th>\n",
       "      <td>test/HEPG2-08/Plate1/B06_s1</td>\n",
       "      <td>3</td>\n",
       "      <td>True</td>\n",
       "      <td>HEPG2-08_1_B06_s1</td>\n",
       "      <td>HEPG2-08</td>\n",
       "    </tr>\n",
       "    <tr>\n",
       "      <th>4</th>\n",
       "      <td>test/HEPG2-08/Plate1/B07_s1</td>\n",
       "      <td>3</td>\n",
       "      <td>True</td>\n",
       "      <td>HEPG2-08_1_B07_s1</td>\n",
       "      <td>HEPG2-08</td>\n",
       "    </tr>\n",
       "  </tbody>\n",
       "</table>\n",
       "</div>"
      ],
      "text/plain": [
       "                          path  plate_pattern  test               name  \\\n",
       "0  test/HEPG2-08/Plate1/B03_s1              3  True  HEPG2-08_1_B03_s1   \n",
       "1  test/HEPG2-08/Plate1/B04_s1              3  True  HEPG2-08_1_B04_s1   \n",
       "2  test/HEPG2-08/Plate1/B05_s1              3  True  HEPG2-08_1_B05_s1   \n",
       "3  test/HEPG2-08/Plate1/B06_s1              3  True  HEPG2-08_1_B06_s1   \n",
       "4  test/HEPG2-08/Plate1/B07_s1              3  True  HEPG2-08_1_B07_s1   \n",
       "\n",
       "        exp  \n",
       "0  HEPG2-08  \n",
       "1  HEPG2-08  \n",
       "2  HEPG2-08  \n",
       "3  HEPG2-08  \n",
       "4  HEPG2-08  "
      ]
     },
     "execution_count": 7,
     "metadata": {},
     "output_type": "execute_result"
    }
   ],
   "source": [
    "df_full_plate_pattern[df_full_plate_pattern['test'] == True].head()"
   ]
  },
  {
   "cell_type": "code",
   "execution_count": 8,
   "metadata": {
    "ExecuteTime": {
     "end_time": "2019-09-02T19:10:48.324796Z",
     "start_time": "2019-09-02T19:10:48.312805Z"
    }
   },
   "outputs": [
    {
     "data": {
      "text/html": [
       "<div>\n",
       "<style scoped>\n",
       "    .dataframe tbody tr th:only-of-type {\n",
       "        vertical-align: middle;\n",
       "    }\n",
       "\n",
       "    .dataframe tbody tr th {\n",
       "        vertical-align: top;\n",
       "    }\n",
       "\n",
       "    .dataframe thead th {\n",
       "        text-align: right;\n",
       "    }\n",
       "</style>\n",
       "<table border=\"1\" class=\"dataframe\">\n",
       "  <thead>\n",
       "    <tr style=\"text-align: right;\">\n",
       "      <th></th>\n",
       "      <th>path</th>\n",
       "      <th>plate_pattern</th>\n",
       "      <th>test</th>\n",
       "      <th>name</th>\n",
       "      <th>exp</th>\n",
       "    </tr>\n",
       "  </thead>\n",
       "  <tbody>\n",
       "    <tr>\n",
       "      <th>13275</th>\n",
       "      <td>test/RPE-08/Plate1/B03_s1</td>\n",
       "      <td>2</td>\n",
       "      <td>True</td>\n",
       "      <td>RPE-08_1_B03_s1</td>\n",
       "      <td>RPE-08</td>\n",
       "    </tr>\n",
       "    <tr>\n",
       "      <th>13276</th>\n",
       "      <td>test/RPE-08/Plate1/B04_s1</td>\n",
       "      <td>2</td>\n",
       "      <td>True</td>\n",
       "      <td>RPE-08_1_B04_s1</td>\n",
       "      <td>RPE-08</td>\n",
       "    </tr>\n",
       "    <tr>\n",
       "      <th>13277</th>\n",
       "      <td>test/RPE-08/Plate1/B05_s1</td>\n",
       "      <td>2</td>\n",
       "      <td>True</td>\n",
       "      <td>RPE-08_1_B05_s1</td>\n",
       "      <td>RPE-08</td>\n",
       "    </tr>\n",
       "    <tr>\n",
       "      <th>13278</th>\n",
       "      <td>test/RPE-08/Plate1/B06_s1</td>\n",
       "      <td>2</td>\n",
       "      <td>True</td>\n",
       "      <td>RPE-08_1_B06_s1</td>\n",
       "      <td>RPE-08</td>\n",
       "    </tr>\n",
       "    <tr>\n",
       "      <th>13279</th>\n",
       "      <td>test/RPE-08/Plate1/B07_s1</td>\n",
       "      <td>2</td>\n",
       "      <td>True</td>\n",
       "      <td>RPE-08_1_B07_s1</td>\n",
       "      <td>RPE-08</td>\n",
       "    </tr>\n",
       "  </tbody>\n",
       "</table>\n",
       "</div>"
      ],
      "text/plain": [
       "                            path  plate_pattern  test             name     exp\n",
       "13275  test/RPE-08/Plate1/B03_s1              2  True  RPE-08_1_B03_s1  RPE-08\n",
       "13276  test/RPE-08/Plate1/B04_s1              2  True  RPE-08_1_B04_s1  RPE-08\n",
       "13277  test/RPE-08/Plate1/B05_s1              2  True  RPE-08_1_B05_s1  RPE-08\n",
       "13278  test/RPE-08/Plate1/B06_s1              2  True  RPE-08_1_B06_s1  RPE-08\n",
       "13279  test/RPE-08/Plate1/B07_s1              2  True  RPE-08_1_B07_s1  RPE-08"
      ]
     },
     "execution_count": 8,
     "metadata": {},
     "output_type": "execute_result"
    }
   ],
   "source": [
    "df_full_plate_pattern[df_full_plate_pattern['exp'] == 'RPE-08'].head()"
   ]
  },
  {
   "cell_type": "code",
   "execution_count": 9,
   "metadata": {
    "ExecuteTime": {
     "end_time": "2019-09-02T19:10:56.600974Z",
     "start_time": "2019-09-02T19:10:56.582583Z"
    }
   },
   "outputs": [],
   "source": [
    "name2pgint = dict(zip(df_full_plate_pattern.name.values, \n",
    "                      df_full_plate_pattern.plate_pattern.values))"
   ]
  },
  {
   "cell_type": "code",
   "execution_count": 10,
   "metadata": {
    "ExecuteTime": {
     "end_time": "2019-09-02T19:10:56.991935Z",
     "start_time": "2019-09-02T19:10:56.986160Z"
    }
   },
   "outputs": [],
   "source": [
    "testpath = 'test/RPE-08/Plate1/B06_s1'"
   ]
  },
  {
   "cell_type": "code",
   "execution_count": 11,
   "metadata": {
    "ExecuteTime": {
     "end_time": "2019-09-02T19:10:57.487034Z",
     "start_time": "2019-09-02T19:10:57.482035Z"
    }
   },
   "outputs": [],
   "source": [
    "testname = testpath[5:13]+'_'+testpath[19]+'_'+testpath[21:]"
   ]
  },
  {
   "cell_type": "code",
   "execution_count": 12,
   "metadata": {
    "ExecuteTime": {
     "end_time": "2019-09-02T19:10:57.968026Z",
     "start_time": "2019-09-02T19:10:57.963003Z"
    }
   },
   "outputs": [],
   "source": [
    "testname = testpath.split('/')[1]+'_'+testpath.split('/')[2][-1]+'_'+testpath.split('/')[-1]"
   ]
  },
  {
   "cell_type": "code",
   "execution_count": 13,
   "metadata": {
    "ExecuteTime": {
     "end_time": "2019-09-02T19:10:58.307831Z",
     "start_time": "2019-09-02T19:10:58.298805Z"
    }
   },
   "outputs": [
    {
     "data": {
      "text/plain": [
       "2"
      ]
     },
     "execution_count": 13,
     "metadata": {},
     "output_type": "execute_result"
    }
   ],
   "source": [
    "name2pgint[testname]"
   ]
  },
  {
   "cell_type": "code",
   "execution_count": 14,
   "metadata": {
    "ExecuteTime": {
     "end_time": "2019-09-02T19:10:58.847861Z",
     "start_time": "2019-09-02T19:10:58.843733Z"
    }
   },
   "outputs": [],
   "source": [
    "names2exp = lambda x: x.split('_')[0]"
   ]
  },
  {
   "cell_type": "code",
   "execution_count": 15,
   "metadata": {
    "ExecuteTime": {
     "end_time": "2019-09-02T19:10:59.144895Z",
     "start_time": "2019-09-02T19:10:59.138703Z"
    }
   },
   "outputs": [],
   "source": [
    "names2site = lambda x: x[:-3]"
   ]
  },
  {
   "cell_type": "code",
   "execution_count": 16,
   "metadata": {
    "ExecuteTime": {
     "end_time": "2019-09-02T19:10:59.430882Z",
     "start_time": "2019-09-02T19:10:59.426660Z"
    }
   },
   "outputs": [],
   "source": [
    "names2s = lambda x: x.split('_')[-1]"
   ]
  },
  {
   "cell_type": "code",
   "execution_count": null,
   "metadata": {},
   "outputs": [],
   "source": []
  },
  {
   "cell_type": "code",
   "execution_count": 20,
   "metadata": {
    "ExecuteTime": {
     "end_time": "2019-09-02T19:11:23.954403Z",
     "start_time": "2019-09-02T19:11:23.944815Z"
    }
   },
   "outputs": [],
   "source": [
    "preds_names = []\n",
    "preds_test_full = []\n",
    "dist_test_full = []\n",
    "for pg in range(4):\n",
    "    with open('pred/preds_test_pg'+str(pg)+'_names.txt', 'rb') as fp:   # Unpickling\n",
    "        preds_names.append(pickle.load(fp))\n",
    "    \n",
    "    preds_test_full.append(np.load('pred/preds_test_pg'+str(pg)+'_full.npy'))\n",
    "    dist_test_full.append(np.load('pred/dist_test_pg'+str(pg)+'_full.npy'))"
   ]
  },
  {
   "cell_type": "code",
   "execution_count": 21,
   "metadata": {
    "ExecuteTime": {
     "end_time": "2019-09-02T19:11:24.615864Z",
     "start_time": "2019-09-02T19:11:24.608826Z"
    }
   },
   "outputs": [],
   "source": [
    "preds_names = preds_names[0]+preds_names[1]+preds_names[2]+preds_names[3]"
   ]
  },
  {
   "cell_type": "code",
   "execution_count": 22,
   "metadata": {
    "ExecuteTime": {
     "end_time": "2019-09-02T19:11:25.110426Z",
     "start_time": "2019-09-02T19:11:25.103081Z"
    }
   },
   "outputs": [],
   "source": [
    "preds_test_full = np.concatenate(preds_test_full)\n",
    "dist_test_full = np.concatenate(dist_test_full)"
   ]
  },
  {
   "cell_type": "code",
   "execution_count": 23,
   "metadata": {
    "ExecuteTime": {
     "end_time": "2019-09-02T19:11:25.464570Z",
     "start_time": "2019-09-02T19:11:25.458887Z"
    }
   },
   "outputs": [
    {
     "data": {
      "text/plain": [
       "(39794, (39794, 5), (39794, 5))"
      ]
     },
     "execution_count": 23,
     "metadata": {},
     "output_type": "execute_result"
    }
   ],
   "source": [
    "len(preds_names), preds_test_full.shape, dist_test_full.shape"
   ]
  },
  {
   "cell_type": "code",
   "execution_count": null,
   "metadata": {},
   "outputs": [],
   "source": []
  },
  {
   "cell_type": "code",
   "execution_count": 24,
   "metadata": {
    "ExecuteTime": {
     "end_time": "2019-09-02T19:11:26.269474Z",
     "start_time": "2019-09-02T19:11:26.264471Z"
    }
   },
   "outputs": [],
   "source": [
    "#pg = 0"
   ]
  },
  {
   "cell_type": "code",
   "execution_count": 25,
   "metadata": {
    "ExecuteTime": {
     "end_time": "2019-09-02T19:11:26.652424Z",
     "start_time": "2019-09-02T19:11:26.647687Z"
    }
   },
   "outputs": [],
   "source": [
    "#with open('pred/preds_test_pg'+str(pg)+'_names.txt', 'rb') as fp:   # Unpickling\n",
    "#    preds_names = pickle.load(fp)"
   ]
  },
  {
   "cell_type": "code",
   "execution_count": 26,
   "metadata": {
    "ExecuteTime": {
     "end_time": "2019-09-02T19:11:27.078798Z",
     "start_time": "2019-09-02T19:11:27.073666Z"
    }
   },
   "outputs": [],
   "source": [
    "#preds_names"
   ]
  },
  {
   "cell_type": "code",
   "execution_count": null,
   "metadata": {},
   "outputs": [],
   "source": []
  },
  {
   "cell_type": "code",
   "execution_count": 27,
   "metadata": {
    "ExecuteTime": {
     "end_time": "2019-09-02T19:11:27.657926Z",
     "start_time": "2019-09-02T19:11:27.651532Z"
    }
   },
   "outputs": [],
   "source": [
    "df = pd.DataFrame({'id_code_site': preds_names})#, 'sirna': preds_test, 'cossim': dist_test})"
   ]
  },
  {
   "cell_type": "code",
   "execution_count": 28,
   "metadata": {
    "ExecuteTime": {
     "end_time": "2019-09-02T19:11:27.919618Z",
     "start_time": "2019-09-02T19:11:27.908544Z"
    }
   },
   "outputs": [],
   "source": [
    "df['site'] = df['id_code_site'].apply(names2site)"
   ]
  },
  {
   "cell_type": "code",
   "execution_count": 29,
   "metadata": {
    "ExecuteTime": {
     "end_time": "2019-09-02T19:11:28.225314Z",
     "start_time": "2019-09-02T19:11:28.176593Z"
    }
   },
   "outputs": [],
   "source": [
    "df['s'] = df['id_code_site'].apply(names2s)"
   ]
  },
  {
   "cell_type": "code",
   "execution_count": 30,
   "metadata": {
    "ExecuteTime": {
     "end_time": "2019-09-02T19:11:28.447010Z",
     "start_time": "2019-09-02T19:11:28.426613Z"
    }
   },
   "outputs": [],
   "source": [
    "df['exp'] = df['id_code_site'].apply(names2exp)"
   ]
  },
  {
   "cell_type": "code",
   "execution_count": 31,
   "metadata": {
    "ExecuteTime": {
     "end_time": "2019-09-02T19:11:28.799914Z",
     "start_time": "2019-09-02T19:11:28.783446Z"
    }
   },
   "outputs": [],
   "source": [
    "df['pg'] = df['id_code_site'].apply(lambda x: name2pgint[x])"
   ]
  },
  {
   "cell_type": "code",
   "execution_count": 32,
   "metadata": {
    "ExecuteTime": {
     "end_time": "2019-09-02T19:11:29.252333Z",
     "start_time": "2019-09-02T19:11:29.243401Z"
    }
   },
   "outputs": [
    {
     "data": {
      "text/html": [
       "<div>\n",
       "<style scoped>\n",
       "    .dataframe tbody tr th:only-of-type {\n",
       "        vertical-align: middle;\n",
       "    }\n",
       "\n",
       "    .dataframe tbody tr th {\n",
       "        vertical-align: top;\n",
       "    }\n",
       "\n",
       "    .dataframe thead th {\n",
       "        text-align: right;\n",
       "    }\n",
       "</style>\n",
       "<table border=\"1\" class=\"dataframe\">\n",
       "  <thead>\n",
       "    <tr style=\"text-align: right;\">\n",
       "      <th></th>\n",
       "      <th>id_code_site</th>\n",
       "      <th>site</th>\n",
       "      <th>s</th>\n",
       "      <th>exp</th>\n",
       "      <th>pg</th>\n",
       "    </tr>\n",
       "  </thead>\n",
       "  <tbody>\n",
       "    <tr>\n",
       "      <th>0</th>\n",
       "      <td>HEPG2-08_2_B03_s1</td>\n",
       "      <td>HEPG2-08_2_B03</td>\n",
       "      <td>s1</td>\n",
       "      <td>HEPG2-08</td>\n",
       "      <td>0</td>\n",
       "    </tr>\n",
       "    <tr>\n",
       "      <th>1</th>\n",
       "      <td>HEPG2-08_2_B04_s1</td>\n",
       "      <td>HEPG2-08_2_B04</td>\n",
       "      <td>s1</td>\n",
       "      <td>HEPG2-08</td>\n",
       "      <td>0</td>\n",
       "    </tr>\n",
       "    <tr>\n",
       "      <th>2</th>\n",
       "      <td>HEPG2-08_2_B05_s1</td>\n",
       "      <td>HEPG2-08_2_B05</td>\n",
       "      <td>s1</td>\n",
       "      <td>HEPG2-08</td>\n",
       "      <td>0</td>\n",
       "    </tr>\n",
       "    <tr>\n",
       "      <th>3</th>\n",
       "      <td>HEPG2-08_2_B06_s1</td>\n",
       "      <td>HEPG2-08_2_B06</td>\n",
       "      <td>s1</td>\n",
       "      <td>HEPG2-08</td>\n",
       "      <td>0</td>\n",
       "    </tr>\n",
       "    <tr>\n",
       "      <th>4</th>\n",
       "      <td>HEPG2-08_2_B07_s1</td>\n",
       "      <td>HEPG2-08_2_B07</td>\n",
       "      <td>s1</td>\n",
       "      <td>HEPG2-08</td>\n",
       "      <td>0</td>\n",
       "    </tr>\n",
       "  </tbody>\n",
       "</table>\n",
       "</div>"
      ],
      "text/plain": [
       "        id_code_site            site   s       exp  pg\n",
       "0  HEPG2-08_2_B03_s1  HEPG2-08_2_B03  s1  HEPG2-08   0\n",
       "1  HEPG2-08_2_B04_s1  HEPG2-08_2_B04  s1  HEPG2-08   0\n",
       "2  HEPG2-08_2_B05_s1  HEPG2-08_2_B05  s1  HEPG2-08   0\n",
       "3  HEPG2-08_2_B06_s1  HEPG2-08_2_B06  s1  HEPG2-08   0\n",
       "4  HEPG2-08_2_B07_s1  HEPG2-08_2_B07  s1  HEPG2-08   0"
      ]
     },
     "execution_count": 32,
     "metadata": {},
     "output_type": "execute_result"
    }
   ],
   "source": [
    "df.head()"
   ]
  },
  {
   "cell_type": "code",
   "execution_count": null,
   "metadata": {},
   "outputs": [],
   "source": []
  },
  {
   "cell_type": "code",
   "execution_count": 33,
   "metadata": {
    "ExecuteTime": {
     "end_time": "2019-09-02T19:11:30.365748Z",
     "start_time": "2019-09-02T19:11:30.360734Z"
    }
   },
   "outputs": [],
   "source": [
    "#preds_test_full = np.load('pred/preds_test_pg'+str(pg)+'_full.npy')\n",
    "#dist_test_full = np.load('pred/dist_test_pg'+str(pg)+'_full.npy')"
   ]
  },
  {
   "cell_type": "code",
   "execution_count": 34,
   "metadata": {
    "ExecuteTime": {
     "end_time": "2019-09-02T19:11:30.757304Z",
     "start_time": "2019-09-02T19:11:30.752067Z"
    }
   },
   "outputs": [
    {
     "data": {
      "text/plain": [
       "array([[341, 341, 341, 341, 341],\n",
       "       [392, 392, 392, 392, 392],\n",
       "       [411, 411, 411, 411, 411],\n",
       "       ...,\n",
       "       [316, 316, 316, 316, 316],\n",
       "       [964, 964, 964, 964, 964],\n",
       "       [316, 316, 316, 316, 316]])"
      ]
     },
     "execution_count": 34,
     "metadata": {},
     "output_type": "execute_result"
    }
   ],
   "source": [
    "preds_test_full"
   ]
  },
  {
   "cell_type": "code",
   "execution_count": 35,
   "metadata": {
    "ExecuteTime": {
     "end_time": "2019-09-02T19:11:31.108138Z",
     "start_time": "2019-09-02T19:11:31.102969Z"
    }
   },
   "outputs": [
    {
     "data": {
      "text/plain": [
       "array([[0.8840368 , 0.87920463, 0.8776487 , 0.87199044, 0.8576728 ],\n",
       "       [0.5957595 , 0.5956082 , 0.5873282 , 0.5854583 , 0.5814376 ],\n",
       "       [0.8891903 , 0.888553  , 0.8879391 , 0.88784695, 0.8873372 ],\n",
       "       ...,\n",
       "       [0.9605947 , 0.9502472 , 0.94774413, 0.9468522 , 0.94632053],\n",
       "       [0.952185  , 0.9508761 , 0.94766444, 0.9467374 , 0.9464259 ],\n",
       "       [0.84018993, 0.83900803, 0.8365338 , 0.8345395 , 0.8323056 ]],\n",
       "      dtype=float32)"
      ]
     },
     "execution_count": 35,
     "metadata": {},
     "output_type": "execute_result"
    }
   ],
   "source": [
    "dist_test_full"
   ]
  },
  {
   "cell_type": "code",
   "execution_count": 36,
   "metadata": {
    "ExecuteTime": {
     "end_time": "2019-09-02T19:11:31.517256Z",
     "start_time": "2019-09-02T19:11:31.512400Z"
    }
   },
   "outputs": [
    {
     "data": {
      "text/plain": [
       "array([0.8840368 , 0.5957595 , 0.8891903 , ..., 0.9605947 , 0.952185  ,\n",
       "       0.84018993], dtype=float32)"
      ]
     },
     "execution_count": 36,
     "metadata": {},
     "output_type": "execute_result"
    }
   ],
   "source": [
    "dist_test_full[:,0]"
   ]
  },
  {
   "cell_type": "code",
   "execution_count": null,
   "metadata": {},
   "outputs": [],
   "source": []
  },
  {
   "cell_type": "code",
   "execution_count": 37,
   "metadata": {
    "ExecuteTime": {
     "end_time": "2019-09-02T19:11:32.542318Z",
     "start_time": "2019-09-02T19:11:32.536760Z"
    }
   },
   "outputs": [],
   "source": [
    "df_pred = pd.DataFrame({'sirna': preds_test_full[:,0], 'cossim': dist_test_full[:,0]})"
   ]
  },
  {
   "cell_type": "code",
   "execution_count": 38,
   "metadata": {
    "ExecuteTime": {
     "end_time": "2019-09-02T19:11:32.903876Z",
     "start_time": "2019-09-02T19:11:32.896599Z"
    }
   },
   "outputs": [
    {
     "data": {
      "text/html": [
       "<div>\n",
       "<style scoped>\n",
       "    .dataframe tbody tr th:only-of-type {\n",
       "        vertical-align: middle;\n",
       "    }\n",
       "\n",
       "    .dataframe tbody tr th {\n",
       "        vertical-align: top;\n",
       "    }\n",
       "\n",
       "    .dataframe thead th {\n",
       "        text-align: right;\n",
       "    }\n",
       "</style>\n",
       "<table border=\"1\" class=\"dataframe\">\n",
       "  <thead>\n",
       "    <tr style=\"text-align: right;\">\n",
       "      <th></th>\n",
       "      <th>sirna</th>\n",
       "      <th>cossim</th>\n",
       "    </tr>\n",
       "  </thead>\n",
       "  <tbody>\n",
       "    <tr>\n",
       "      <th>0</th>\n",
       "      <td>341</td>\n",
       "      <td>0.884037</td>\n",
       "    </tr>\n",
       "    <tr>\n",
       "      <th>1</th>\n",
       "      <td>392</td>\n",
       "      <td>0.595760</td>\n",
       "    </tr>\n",
       "    <tr>\n",
       "      <th>2</th>\n",
       "      <td>411</td>\n",
       "      <td>0.889190</td>\n",
       "    </tr>\n",
       "    <tr>\n",
       "      <th>3</th>\n",
       "      <td>26</td>\n",
       "      <td>0.706556</td>\n",
       "    </tr>\n",
       "    <tr>\n",
       "      <th>4</th>\n",
       "      <td>172</td>\n",
       "      <td>0.836110</td>\n",
       "    </tr>\n",
       "  </tbody>\n",
       "</table>\n",
       "</div>"
      ],
      "text/plain": [
       "   sirna    cossim\n",
       "0    341  0.884037\n",
       "1    392  0.595760\n",
       "2    411  0.889190\n",
       "3     26  0.706556\n",
       "4    172  0.836110"
      ]
     },
     "execution_count": 38,
     "metadata": {},
     "output_type": "execute_result"
    }
   ],
   "source": [
    "df_pred.head()"
   ]
  },
  {
   "cell_type": "code",
   "execution_count": 39,
   "metadata": {
    "ExecuteTime": {
     "end_time": "2019-09-02T19:11:33.317365Z",
     "start_time": "2019-09-02T19:11:33.308620Z"
    }
   },
   "outputs": [
    {
     "data": {
      "text/html": [
       "<div>\n",
       "<style scoped>\n",
       "    .dataframe tbody tr th:only-of-type {\n",
       "        vertical-align: middle;\n",
       "    }\n",
       "\n",
       "    .dataframe tbody tr th {\n",
       "        vertical-align: top;\n",
       "    }\n",
       "\n",
       "    .dataframe thead th {\n",
       "        text-align: right;\n",
       "    }\n",
       "</style>\n",
       "<table border=\"1\" class=\"dataframe\">\n",
       "  <thead>\n",
       "    <tr style=\"text-align: right;\">\n",
       "      <th></th>\n",
       "      <th>id_code_site</th>\n",
       "      <th>site</th>\n",
       "      <th>s</th>\n",
       "      <th>exp</th>\n",
       "      <th>pg</th>\n",
       "    </tr>\n",
       "  </thead>\n",
       "  <tbody>\n",
       "    <tr>\n",
       "      <th>0</th>\n",
       "      <td>HEPG2-08_2_B03_s1</td>\n",
       "      <td>HEPG2-08_2_B03</td>\n",
       "      <td>s1</td>\n",
       "      <td>HEPG2-08</td>\n",
       "      <td>0</td>\n",
       "    </tr>\n",
       "    <tr>\n",
       "      <th>1</th>\n",
       "      <td>HEPG2-08_2_B04_s1</td>\n",
       "      <td>HEPG2-08_2_B04</td>\n",
       "      <td>s1</td>\n",
       "      <td>HEPG2-08</td>\n",
       "      <td>0</td>\n",
       "    </tr>\n",
       "    <tr>\n",
       "      <th>2</th>\n",
       "      <td>HEPG2-08_2_B05_s1</td>\n",
       "      <td>HEPG2-08_2_B05</td>\n",
       "      <td>s1</td>\n",
       "      <td>HEPG2-08</td>\n",
       "      <td>0</td>\n",
       "    </tr>\n",
       "    <tr>\n",
       "      <th>3</th>\n",
       "      <td>HEPG2-08_2_B06_s1</td>\n",
       "      <td>HEPG2-08_2_B06</td>\n",
       "      <td>s1</td>\n",
       "      <td>HEPG2-08</td>\n",
       "      <td>0</td>\n",
       "    </tr>\n",
       "    <tr>\n",
       "      <th>4</th>\n",
       "      <td>HEPG2-08_2_B07_s1</td>\n",
       "      <td>HEPG2-08_2_B07</td>\n",
       "      <td>s1</td>\n",
       "      <td>HEPG2-08</td>\n",
       "      <td>0</td>\n",
       "    </tr>\n",
       "  </tbody>\n",
       "</table>\n",
       "</div>"
      ],
      "text/plain": [
       "        id_code_site            site   s       exp  pg\n",
       "0  HEPG2-08_2_B03_s1  HEPG2-08_2_B03  s1  HEPG2-08   0\n",
       "1  HEPG2-08_2_B04_s1  HEPG2-08_2_B04  s1  HEPG2-08   0\n",
       "2  HEPG2-08_2_B05_s1  HEPG2-08_2_B05  s1  HEPG2-08   0\n",
       "3  HEPG2-08_2_B06_s1  HEPG2-08_2_B06  s1  HEPG2-08   0\n",
       "4  HEPG2-08_2_B07_s1  HEPG2-08_2_B07  s1  HEPG2-08   0"
      ]
     },
     "execution_count": 39,
     "metadata": {},
     "output_type": "execute_result"
    }
   ],
   "source": [
    "df.head()"
   ]
  },
  {
   "cell_type": "code",
   "execution_count": null,
   "metadata": {},
   "outputs": [],
   "source": []
  },
  {
   "cell_type": "code",
   "execution_count": 40,
   "metadata": {
    "ExecuteTime": {
     "end_time": "2019-09-02T19:11:34.243492Z",
     "start_time": "2019-09-02T19:11:34.231865Z"
    }
   },
   "outputs": [],
   "source": [
    "df_full = pd.concat((df, df_pred), axis=1)"
   ]
  },
  {
   "cell_type": "code",
   "execution_count": 41,
   "metadata": {
    "ExecuteTime": {
     "end_time": "2019-09-02T19:11:34.659060Z",
     "start_time": "2019-09-02T19:11:34.650293Z"
    }
   },
   "outputs": [
    {
     "data": {
      "text/html": [
       "<div>\n",
       "<style scoped>\n",
       "    .dataframe tbody tr th:only-of-type {\n",
       "        vertical-align: middle;\n",
       "    }\n",
       "\n",
       "    .dataframe tbody tr th {\n",
       "        vertical-align: top;\n",
       "    }\n",
       "\n",
       "    .dataframe thead th {\n",
       "        text-align: right;\n",
       "    }\n",
       "</style>\n",
       "<table border=\"1\" class=\"dataframe\">\n",
       "  <thead>\n",
       "    <tr style=\"text-align: right;\">\n",
       "      <th></th>\n",
       "      <th>id_code_site</th>\n",
       "      <th>site</th>\n",
       "      <th>s</th>\n",
       "      <th>exp</th>\n",
       "      <th>pg</th>\n",
       "      <th>sirna</th>\n",
       "      <th>cossim</th>\n",
       "    </tr>\n",
       "  </thead>\n",
       "  <tbody>\n",
       "    <tr>\n",
       "      <th>0</th>\n",
       "      <td>HEPG2-08_2_B03_s1</td>\n",
       "      <td>HEPG2-08_2_B03</td>\n",
       "      <td>s1</td>\n",
       "      <td>HEPG2-08</td>\n",
       "      <td>0</td>\n",
       "      <td>341</td>\n",
       "      <td>0.884037</td>\n",
       "    </tr>\n",
       "    <tr>\n",
       "      <th>1</th>\n",
       "      <td>HEPG2-08_2_B04_s1</td>\n",
       "      <td>HEPG2-08_2_B04</td>\n",
       "      <td>s1</td>\n",
       "      <td>HEPG2-08</td>\n",
       "      <td>0</td>\n",
       "      <td>392</td>\n",
       "      <td>0.595760</td>\n",
       "    </tr>\n",
       "    <tr>\n",
       "      <th>2</th>\n",
       "      <td>HEPG2-08_2_B05_s1</td>\n",
       "      <td>HEPG2-08_2_B05</td>\n",
       "      <td>s1</td>\n",
       "      <td>HEPG2-08</td>\n",
       "      <td>0</td>\n",
       "      <td>411</td>\n",
       "      <td>0.889190</td>\n",
       "    </tr>\n",
       "    <tr>\n",
       "      <th>3</th>\n",
       "      <td>HEPG2-08_2_B06_s1</td>\n",
       "      <td>HEPG2-08_2_B06</td>\n",
       "      <td>s1</td>\n",
       "      <td>HEPG2-08</td>\n",
       "      <td>0</td>\n",
       "      <td>26</td>\n",
       "      <td>0.706556</td>\n",
       "    </tr>\n",
       "    <tr>\n",
       "      <th>4</th>\n",
       "      <td>HEPG2-08_2_B07_s1</td>\n",
       "      <td>HEPG2-08_2_B07</td>\n",
       "      <td>s1</td>\n",
       "      <td>HEPG2-08</td>\n",
       "      <td>0</td>\n",
       "      <td>172</td>\n",
       "      <td>0.836110</td>\n",
       "    </tr>\n",
       "  </tbody>\n",
       "</table>\n",
       "</div>"
      ],
      "text/plain": [
       "        id_code_site            site   s       exp  pg  sirna    cossim\n",
       "0  HEPG2-08_2_B03_s1  HEPG2-08_2_B03  s1  HEPG2-08   0    341  0.884037\n",
       "1  HEPG2-08_2_B04_s1  HEPG2-08_2_B04  s1  HEPG2-08   0    392  0.595760\n",
       "2  HEPG2-08_2_B05_s1  HEPG2-08_2_B05  s1  HEPG2-08   0    411  0.889190\n",
       "3  HEPG2-08_2_B06_s1  HEPG2-08_2_B06  s1  HEPG2-08   0     26  0.706556\n",
       "4  HEPG2-08_2_B07_s1  HEPG2-08_2_B07  s1  HEPG2-08   0    172  0.836110"
      ]
     },
     "execution_count": 41,
     "metadata": {},
     "output_type": "execute_result"
    }
   ],
   "source": [
    "df_full.head()"
   ]
  },
  {
   "cell_type": "code",
   "execution_count": 42,
   "metadata": {
    "ExecuteTime": {
     "end_time": "2019-09-02T19:11:35.152558Z",
     "start_time": "2019-09-02T19:11:35.147247Z"
    }
   },
   "outputs": [
    {
     "data": {
      "text/plain": [
       "1107"
      ]
     },
     "execution_count": 42,
     "metadata": {},
     "output_type": "execute_result"
    }
   ],
   "source": [
    "df_full.sirna.max()"
   ]
  },
  {
   "cell_type": "code",
   "execution_count": 43,
   "metadata": {
    "ExecuteTime": {
     "end_time": "2019-09-02T19:11:36.129464Z",
     "start_time": "2019-09-02T19:11:36.113103Z"
    }
   },
   "outputs": [
    {
     "data": {
      "text/html": [
       "<div>\n",
       "<style scoped>\n",
       "    .dataframe tbody tr th:only-of-type {\n",
       "        vertical-align: middle;\n",
       "    }\n",
       "\n",
       "    .dataframe tbody tr th {\n",
       "        vertical-align: top;\n",
       "    }\n",
       "\n",
       "    .dataframe thead th {\n",
       "        text-align: right;\n",
       "    }\n",
       "</style>\n",
       "<table border=\"1\" class=\"dataframe\">\n",
       "  <thead>\n",
       "    <tr style=\"text-align: right;\">\n",
       "      <th></th>\n",
       "      <th>id_code_site</th>\n",
       "      <th>site</th>\n",
       "      <th>s</th>\n",
       "      <th>exp</th>\n",
       "      <th>pg</th>\n",
       "      <th>sirna</th>\n",
       "      <th>cossim</th>\n",
       "    </tr>\n",
       "  </thead>\n",
       "  <tbody>\n",
       "    <tr>\n",
       "      <th>7148</th>\n",
       "      <td>HUVEC-20_4_M20_s2</td>\n",
       "      <td>HUVEC-20_4_M20</td>\n",
       "      <td>s2</td>\n",
       "      <td>HUVEC-20</td>\n",
       "      <td>0</td>\n",
       "      <td>33</td>\n",
       "      <td>0.999844</td>\n",
       "    </tr>\n",
       "    <tr>\n",
       "      <th>26382</th>\n",
       "      <td>HUVEC-18_3_H10_s2</td>\n",
       "      <td>HUVEC-18_3_H10</td>\n",
       "      <td>s2</td>\n",
       "      <td>HUVEC-18</td>\n",
       "      <td>2</td>\n",
       "      <td>491</td>\n",
       "      <td>0.999814</td>\n",
       "    </tr>\n",
       "    <tr>\n",
       "      <th>17030</th>\n",
       "      <td>HUVEC-20_1_J10_s2</td>\n",
       "      <td>HUVEC-20_1_J10</td>\n",
       "      <td>s2</td>\n",
       "      <td>HUVEC-20</td>\n",
       "      <td>1</td>\n",
       "      <td>2</td>\n",
       "      <td>0.999810</td>\n",
       "    </tr>\n",
       "    <tr>\n",
       "      <th>37383</th>\n",
       "      <td>HUVEC-22_4_E13_s2</td>\n",
       "      <td>HUVEC-22_4_E13</td>\n",
       "      <td>s2</td>\n",
       "      <td>HUVEC-22</td>\n",
       "      <td>3</td>\n",
       "      <td>1001</td>\n",
       "      <td>0.999802</td>\n",
       "    </tr>\n",
       "    <tr>\n",
       "      <th>11721</th>\n",
       "      <td>HUVEC-19_1_G07_s1</td>\n",
       "      <td>HUVEC-19_1_G07</td>\n",
       "      <td>s1</td>\n",
       "      <td>HUVEC-19</td>\n",
       "      <td>1</td>\n",
       "      <td>1024</td>\n",
       "      <td>0.999801</td>\n",
       "    </tr>\n",
       "  </tbody>\n",
       "</table>\n",
       "</div>"
      ],
      "text/plain": [
       "            id_code_site            site   s       exp  pg  sirna    cossim\n",
       "7148   HUVEC-20_4_M20_s2  HUVEC-20_4_M20  s2  HUVEC-20   0     33  0.999844\n",
       "26382  HUVEC-18_3_H10_s2  HUVEC-18_3_H10  s2  HUVEC-18   2    491  0.999814\n",
       "17030  HUVEC-20_1_J10_s2  HUVEC-20_1_J10  s2  HUVEC-20   1      2  0.999810\n",
       "37383  HUVEC-22_4_E13_s2  HUVEC-22_4_E13  s2  HUVEC-22   3   1001  0.999802\n",
       "11721  HUVEC-19_1_G07_s1  HUVEC-19_1_G07  s1  HUVEC-19   1   1024  0.999801"
      ]
     },
     "execution_count": 43,
     "metadata": {},
     "output_type": "execute_result"
    }
   ],
   "source": [
    "df_full.sort_values('cossim', ascending=False).head()"
   ]
  },
  {
   "cell_type": "code",
   "execution_count": null,
   "metadata": {},
   "outputs": [],
   "source": []
  },
  {
   "cell_type": "code",
   "execution_count": 61,
   "metadata": {
    "ExecuteTime": {
     "end_time": "2019-09-02T19:17:53.981918Z",
     "start_time": "2019-09-02T19:17:53.973039Z"
    }
   },
   "outputs": [
    {
     "data": {
      "text/plain": [
       "pg\n",
       "0    277\n",
       "1    277\n",
       "2    277\n",
       "3    277\n",
       "Name: sirna, dtype: int64"
      ]
     },
     "execution_count": 61,
     "metadata": {},
     "output_type": "execute_result"
    }
   ],
   "source": [
    "df_full.groupby('pg').sirna.nunique()"
   ]
  },
  {
   "cell_type": "code",
   "execution_count": 66,
   "metadata": {
    "ExecuteTime": {
     "end_time": "2019-09-02T19:19:28.075826Z",
     "start_time": "2019-09-02T19:19:28.070070Z"
    }
   },
   "outputs": [
    {
     "data": {
      "text/plain": [
       "array(['HEPG2-08', 'HEPG2-09', 'HEPG2-10', 'HEPG2-11', 'HUVEC-17',\n",
       "       'HUVEC-18', 'HUVEC-19', 'HUVEC-20', 'HUVEC-21', 'HUVEC-22',\n",
       "       'HUVEC-23', 'HUVEC-24', 'RPE-08', 'RPE-09', 'RPE-10', 'RPE-11',\n",
       "       'U2OS-04', 'U2OS-05'], dtype=object)"
      ]
     },
     "execution_count": 66,
     "metadata": {},
     "output_type": "execute_result"
    }
   ],
   "source": [
    "df_full.exp.unique()"
   ]
  },
  {
   "cell_type": "code",
   "execution_count": null,
   "metadata": {},
   "outputs": [],
   "source": []
  },
  {
   "cell_type": "code",
   "execution_count": 71,
   "metadata": {
    "ExecuteTime": {
     "end_time": "2019-09-02T19:22:32.904583Z",
     "start_time": "2019-09-02T19:22:32.851042Z"
    }
   },
   "outputs": [
    {
     "name": "stdout",
     "output_type": "stream",
     "text": [
      "HEPG2-08\n",
      "pg\n",
      "0    179\n",
      "1    197\n",
      "2    193\n",
      "3    206\n",
      "Name: sirna, dtype: int64\n",
      "---\n",
      "HEPG2-09\n",
      "pg\n",
      "0    141\n",
      "1    168\n",
      "2    202\n",
      "3    160\n",
      "Name: sirna, dtype: int64\n",
      "---\n",
      "HEPG2-10\n",
      "pg\n",
      "0    213\n",
      "1    219\n",
      "2    213\n",
      "3    211\n",
      "Name: sirna, dtype: int64\n",
      "---\n",
      "HEPG2-11\n",
      "pg\n",
      "0    218\n",
      "1    216\n",
      "2    225\n",
      "3    217\n",
      "Name: sirna, dtype: int64\n",
      "---\n",
      "HUVEC-17\n",
      "pg\n",
      "0    243\n",
      "1    248\n",
      "2    251\n",
      "3    244\n",
      "Name: sirna, dtype: int64\n",
      "---\n",
      "HUVEC-18\n",
      "pg\n",
      "0    247\n",
      "1    239\n",
      "2    243\n",
      "3    215\n",
      "Name: sirna, dtype: int64\n",
      "---\n",
      "HUVEC-19\n",
      "pg\n",
      "0    242\n",
      "1    250\n",
      "2    247\n",
      "3    245\n",
      "Name: sirna, dtype: int64\n",
      "---\n",
      "HUVEC-20\n",
      "pg\n",
      "0    270\n",
      "1    273\n",
      "2    273\n",
      "3    274\n",
      "Name: sirna, dtype: int64\n",
      "---\n",
      "HUVEC-21\n",
      "pg\n",
      "0    215\n",
      "1    228\n",
      "2    231\n",
      "3    224\n",
      "Name: sirna, dtype: int64\n",
      "---\n",
      "HUVEC-22\n",
      "pg\n",
      "0    253\n",
      "1    262\n",
      "2    267\n",
      "3    264\n",
      "Name: sirna, dtype: int64\n",
      "---\n",
      "HUVEC-23\n",
      "pg\n",
      "0    229\n",
      "1    248\n",
      "2    258\n",
      "3    248\n",
      "Name: sirna, dtype: int64\n",
      "---\n",
      "HUVEC-24\n",
      "pg\n",
      "0    244\n",
      "1    245\n",
      "2    254\n",
      "3    249\n",
      "Name: sirna, dtype: int64\n",
      "---\n",
      "RPE-08\n",
      "pg\n",
      "0    199\n",
      "1    199\n",
      "2    178\n",
      "3    214\n",
      "Name: sirna, dtype: int64\n",
      "---\n",
      "RPE-09\n",
      "pg\n",
      "0    202\n",
      "1    235\n",
      "2    230\n",
      "3    233\n",
      "Name: sirna, dtype: int64\n",
      "---\n",
      "RPE-10\n",
      "pg\n",
      "0    228\n",
      "1    230\n",
      "2    230\n",
      "3    235\n",
      "Name: sirna, dtype: int64\n",
      "---\n",
      "RPE-11\n",
      "pg\n",
      "0    238\n",
      "1    242\n",
      "2    243\n",
      "3    250\n",
      "Name: sirna, dtype: int64\n",
      "---\n",
      "U2OS-04\n",
      "pg\n",
      "0    79\n",
      "1    82\n",
      "2    66\n",
      "3    90\n",
      "Name: sirna, dtype: int64\n",
      "---\n",
      "U2OS-05\n",
      "pg\n",
      "0    114\n",
      "1    141\n",
      "2    118\n",
      "3    122\n",
      "Name: sirna, dtype: int64\n",
      "---\n"
     ]
    }
   ],
   "source": [
    "for e in df_full.exp.unique():\n",
    "    print(e)\n",
    "    print(df_full[df_full['exp'] == e].groupby('pg').sirna.nunique())\n",
    "    print('---')"
   ]
  },
  {
   "cell_type": "code",
   "execution_count": 74,
   "metadata": {
    "ExecuteTime": {
     "end_time": "2019-09-02T19:26:12.592130Z",
     "start_time": "2019-09-02T19:26:12.580159Z"
    }
   },
   "outputs": [
    {
     "data": {
      "text/html": [
       "<div>\n",
       "<style scoped>\n",
       "    .dataframe tbody tr th:only-of-type {\n",
       "        vertical-align: middle;\n",
       "    }\n",
       "\n",
       "    .dataframe tbody tr th {\n",
       "        vertical-align: top;\n",
       "    }\n",
       "\n",
       "    .dataframe thead th {\n",
       "        text-align: right;\n",
       "    }\n",
       "</style>\n",
       "<table border=\"1\" class=\"dataframe\">\n",
       "  <thead>\n",
       "    <tr style=\"text-align: right;\">\n",
       "      <th></th>\n",
       "      <th>id_code_site</th>\n",
       "      <th>site</th>\n",
       "      <th>s</th>\n",
       "      <th>exp</th>\n",
       "      <th>pg</th>\n",
       "      <th>sirna</th>\n",
       "      <th>cossim</th>\n",
       "      <th>id_code</th>\n",
       "    </tr>\n",
       "  </thead>\n",
       "  <tbody>\n",
       "    <tr>\n",
       "      <th>14601</th>\n",
       "      <td>U2OS-04_1_M09_s1</td>\n",
       "      <td>U2OS-04_1_M09</td>\n",
       "      <td>s1</td>\n",
       "      <td>U2OS-04</td>\n",
       "      <td>1</td>\n",
       "      <td>988</td>\n",
       "      <td>0.991822</td>\n",
       "      <td>U2OS-04_1_M09</td>\n",
       "    </tr>\n",
       "    <tr>\n",
       "      <th>24536</th>\n",
       "      <td>U2OS-04_2_L21_s1</td>\n",
       "      <td>U2OS-04_2_L21</td>\n",
       "      <td>s1</td>\n",
       "      <td>U2OS-04</td>\n",
       "      <td>2</td>\n",
       "      <td>554</td>\n",
       "      <td>0.987816</td>\n",
       "      <td>U2OS-04_2_L21</td>\n",
       "    </tr>\n",
       "    <tr>\n",
       "      <th>14614</th>\n",
       "      <td>U2OS-04_1_N04_s1</td>\n",
       "      <td>U2OS-04_1_N04</td>\n",
       "      <td>s1</td>\n",
       "      <td>U2OS-04</td>\n",
       "      <td>1</td>\n",
       "      <td>130</td>\n",
       "      <td>0.985088</td>\n",
       "      <td>U2OS-04_1_N04</td>\n",
       "    </tr>\n",
       "    <tr>\n",
       "      <th>29390</th>\n",
       "      <td>U2OS-04_2_F20_s2</td>\n",
       "      <td>U2OS-04_2_F20</td>\n",
       "      <td>s2</td>\n",
       "      <td>U2OS-04</td>\n",
       "      <td>2</td>\n",
       "      <td>554</td>\n",
       "      <td>0.982192</td>\n",
       "      <td>U2OS-04_2_F20</td>\n",
       "    </tr>\n",
       "    <tr>\n",
       "      <th>39504</th>\n",
       "      <td>U2OS-04_3_O08_s2</td>\n",
       "      <td>U2OS-04_3_O08</td>\n",
       "      <td>s2</td>\n",
       "      <td>U2OS-04</td>\n",
       "      <td>3</td>\n",
       "      <td>634</td>\n",
       "      <td>0.981648</td>\n",
       "      <td>U2OS-04_3_O08</td>\n",
       "    </tr>\n",
       "  </tbody>\n",
       "</table>\n",
       "</div>"
      ],
      "text/plain": [
       "           id_code_site           site   s      exp  pg  sirna    cossim  \\\n",
       "14601  U2OS-04_1_M09_s1  U2OS-04_1_M09  s1  U2OS-04   1    988  0.991822   \n",
       "24536  U2OS-04_2_L21_s1  U2OS-04_2_L21  s1  U2OS-04   2    554  0.987816   \n",
       "14614  U2OS-04_1_N04_s1  U2OS-04_1_N04  s1  U2OS-04   1    130  0.985088   \n",
       "29390  U2OS-04_2_F20_s2  U2OS-04_2_F20  s2  U2OS-04   2    554  0.982192   \n",
       "39504  U2OS-04_3_O08_s2  U2OS-04_3_O08  s2  U2OS-04   3    634  0.981648   \n",
       "\n",
       "             id_code  \n",
       "14601  U2OS-04_1_M09  \n",
       "24536  U2OS-04_2_L21  \n",
       "14614  U2OS-04_1_N04  \n",
       "29390  U2OS-04_2_F20  \n",
       "39504  U2OS-04_3_O08  "
      ]
     },
     "execution_count": 74,
     "metadata": {},
     "output_type": "execute_result"
    }
   ],
   "source": [
    "df_full[df_full['exp'] == 'U2OS-04'].sort_values('cossim', ascending=False).head()"
   ]
  },
  {
   "cell_type": "code",
   "execution_count": null,
   "metadata": {},
   "outputs": [],
   "source": []
  },
  {
   "cell_type": "code",
   "execution_count": 64,
   "metadata": {
    "ExecuteTime": {
     "end_time": "2019-09-02T19:18:48.447705Z",
     "start_time": "2019-09-02T19:18:48.442292Z"
    }
   },
   "outputs": [],
   "source": [
    "#df_full.groupby('exp').sirna.unique()"
   ]
  },
  {
   "cell_type": "code",
   "execution_count": 47,
   "metadata": {
    "ExecuteTime": {
     "end_time": "2019-09-02T19:11:52.797153Z",
     "start_time": "2019-09-02T19:11:52.787096Z"
    }
   },
   "outputs": [
    {
     "data": {
      "text/plain": [
       "exp\n",
       "HEPG2-08     775\n",
       "HEPG2-09     671\n",
       "HEPG2-10     856\n",
       "HEPG2-11     876\n",
       "HUVEC-17     986\n",
       "HUVEC-18     944\n",
       "HUVEC-19     984\n",
       "HUVEC-20    1090\n",
       "HUVEC-21     898\n",
       "HUVEC-22    1046\n",
       "HUVEC-23     983\n",
       "HUVEC-24     992\n",
       "RPE-08       790\n",
       "RPE-09       900\n",
       "RPE-10       923\n",
       "RPE-11       973\n",
       "U2OS-04      317\n",
       "U2OS-05      495\n",
       "Name: sirna, dtype: int64"
      ]
     },
     "execution_count": 47,
     "metadata": {},
     "output_type": "execute_result"
    }
   ],
   "source": [
    "df_full.groupby('exp').sirna.nunique()"
   ]
  },
  {
   "cell_type": "code",
   "execution_count": 193,
   "metadata": {
    "ExecuteTime": {
     "end_time": "2019-09-02T19:05:31.548868Z",
     "start_time": "2019-09-02T19:05:31.543882Z"
    }
   },
   "outputs": [],
   "source": [
    "#df_full[df_full['pg'] == 0].groupby('sirna').sirna.nunique().max()"
   ]
  },
  {
   "cell_type": "code",
   "execution_count": 50,
   "metadata": {
    "ExecuteTime": {
     "end_time": "2019-09-02T19:13:19.845403Z",
     "start_time": "2019-09-02T19:13:19.831187Z"
    }
   },
   "outputs": [
    {
     "data": {
      "text/html": [
       "<div>\n",
       "<style scoped>\n",
       "    .dataframe tbody tr th:only-of-type {\n",
       "        vertical-align: middle;\n",
       "    }\n",
       "\n",
       "    .dataframe tbody tr th {\n",
       "        vertical-align: top;\n",
       "    }\n",
       "\n",
       "    .dataframe thead th {\n",
       "        text-align: right;\n",
       "    }\n",
       "</style>\n",
       "<table border=\"1\" class=\"dataframe\">\n",
       "  <thead>\n",
       "    <tr style=\"text-align: right;\">\n",
       "      <th></th>\n",
       "      <th>id_code_site</th>\n",
       "      <th>site</th>\n",
       "      <th>s</th>\n",
       "      <th>exp</th>\n",
       "      <th>pg</th>\n",
       "      <th>sirna</th>\n",
       "      <th>cossim</th>\n",
       "    </tr>\n",
       "  </thead>\n",
       "  <tbody>\n",
       "    <tr>\n",
       "      <th>7148</th>\n",
       "      <td>HUVEC-20_4_M20_s2</td>\n",
       "      <td>HUVEC-20_4_M20</td>\n",
       "      <td>s2</td>\n",
       "      <td>HUVEC-20</td>\n",
       "      <td>0</td>\n",
       "      <td>33</td>\n",
       "      <td>0.999844</td>\n",
       "    </tr>\n",
       "    <tr>\n",
       "      <th>26382</th>\n",
       "      <td>HUVEC-18_3_H10_s2</td>\n",
       "      <td>HUVEC-18_3_H10</td>\n",
       "      <td>s2</td>\n",
       "      <td>HUVEC-18</td>\n",
       "      <td>2</td>\n",
       "      <td>491</td>\n",
       "      <td>0.999814</td>\n",
       "    </tr>\n",
       "    <tr>\n",
       "      <th>17030</th>\n",
       "      <td>HUVEC-20_1_J10_s2</td>\n",
       "      <td>HUVEC-20_1_J10</td>\n",
       "      <td>s2</td>\n",
       "      <td>HUVEC-20</td>\n",
       "      <td>1</td>\n",
       "      <td>2</td>\n",
       "      <td>0.999810</td>\n",
       "    </tr>\n",
       "    <tr>\n",
       "      <th>37383</th>\n",
       "      <td>HUVEC-22_4_E13_s2</td>\n",
       "      <td>HUVEC-22_4_E13</td>\n",
       "      <td>s2</td>\n",
       "      <td>HUVEC-22</td>\n",
       "      <td>3</td>\n",
       "      <td>1001</td>\n",
       "      <td>0.999802</td>\n",
       "    </tr>\n",
       "    <tr>\n",
       "      <th>11721</th>\n",
       "      <td>HUVEC-19_1_G07_s1</td>\n",
       "      <td>HUVEC-19_1_G07</td>\n",
       "      <td>s1</td>\n",
       "      <td>HUVEC-19</td>\n",
       "      <td>1</td>\n",
       "      <td>1024</td>\n",
       "      <td>0.999801</td>\n",
       "    </tr>\n",
       "  </tbody>\n",
       "</table>\n",
       "</div>"
      ],
      "text/plain": [
       "            id_code_site            site   s       exp  pg  sirna    cossim\n",
       "7148   HUVEC-20_4_M20_s2  HUVEC-20_4_M20  s2  HUVEC-20   0     33  0.999844\n",
       "26382  HUVEC-18_3_H10_s2  HUVEC-18_3_H10  s2  HUVEC-18   2    491  0.999814\n",
       "17030  HUVEC-20_1_J10_s2  HUVEC-20_1_J10  s2  HUVEC-20   1      2  0.999810\n",
       "37383  HUVEC-22_4_E13_s2  HUVEC-22_4_E13  s2  HUVEC-22   3   1001  0.999802\n",
       "11721  HUVEC-19_1_G07_s1  HUVEC-19_1_G07  s1  HUVEC-19   1   1024  0.999801"
      ]
     },
     "execution_count": 50,
     "metadata": {},
     "output_type": "execute_result"
    }
   ],
   "source": [
    "df_full.sort_values('cossim', ascending=False).head()"
   ]
  },
  {
   "cell_type": "code",
   "execution_count": 54,
   "metadata": {
    "ExecuteTime": {
     "end_time": "2019-09-02T19:14:03.976028Z",
     "start_time": "2019-09-02T19:14:03.965158Z"
    }
   },
   "outputs": [],
   "source": [
    "# get id_code without site\n",
    "df_full['id_code'] = df_full['id_code_site'].apply(lambda x: x[:-3])"
   ]
  },
  {
   "cell_type": "code",
   "execution_count": 55,
   "metadata": {
    "ExecuteTime": {
     "end_time": "2019-09-02T19:14:07.255218Z",
     "start_time": "2019-09-02T19:14:04.511986Z"
    }
   },
   "outputs": [],
   "source": [
    "# get row indices with highest cosine similiarity\n",
    "idx = []\n",
    "for i, r in enumerate(df_full.sort_values('id_code').iterrows()):\n",
    "    #print(r)\n",
    "    #print('i: ',i)\n",
    "    #print('idx: ',r[0])\n",
    "    #print(r[1]['cossim'])\n",
    "    if i % 2:\n",
    "        # distance from row 2 is \n",
    "        if dist < r[1]['cossim']:\n",
    "            idx.append(r[0])\n",
    "        else:\n",
    "            idx.append(idx_row_before)\n",
    "    else:\n",
    "        # save dist from row 1 for comparison in next iteration\n",
    "        dist = r[1]['cossim']\n",
    "        idx_row_before = r[0]"
   ]
  },
  {
   "cell_type": "code",
   "execution_count": 56,
   "metadata": {
    "ExecuteTime": {
     "end_time": "2019-09-02T19:14:15.920681Z",
     "start_time": "2019-09-02T19:14:15.915075Z"
    }
   },
   "outputs": [
    {
     "data": {
      "text/plain": [
       "[29848, 34822, 29850, 29851, 34825]"
      ]
     },
     "execution_count": 56,
     "metadata": {},
     "output_type": "execute_result"
    }
   ],
   "source": [
    "idx[:5]"
   ]
  },
  {
   "cell_type": "code",
   "execution_count": 58,
   "metadata": {
    "ExecuteTime": {
     "end_time": "2019-09-02T19:14:28.520963Z",
     "start_time": "2019-09-02T19:14:28.492538Z"
    }
   },
   "outputs": [
    {
     "data": {
      "text/html": [
       "<div>\n",
       "<style scoped>\n",
       "    .dataframe tbody tr th:only-of-type {\n",
       "        vertical-align: middle;\n",
       "    }\n",
       "\n",
       "    .dataframe tbody tr th {\n",
       "        vertical-align: top;\n",
       "    }\n",
       "\n",
       "    .dataframe thead th {\n",
       "        text-align: right;\n",
       "    }\n",
       "</style>\n",
       "<table border=\"1\" class=\"dataframe\">\n",
       "  <thead>\n",
       "    <tr style=\"text-align: right;\">\n",
       "      <th></th>\n",
       "      <th>id_code_site</th>\n",
       "      <th>site</th>\n",
       "      <th>s</th>\n",
       "      <th>exp</th>\n",
       "      <th>pg</th>\n",
       "      <th>sirna</th>\n",
       "      <th>cossim</th>\n",
       "      <th>id_code</th>\n",
       "    </tr>\n",
       "  </thead>\n",
       "  <tbody>\n",
       "    <tr>\n",
       "      <th>34821</th>\n",
       "      <td>HEPG2-08_1_B03_s2</td>\n",
       "      <td>HEPG2-08_1_B03</td>\n",
       "      <td>s2</td>\n",
       "      <td>HEPG2-08</td>\n",
       "      <td>3</td>\n",
       "      <td>855</td>\n",
       "      <td>0.782045</td>\n",
       "      <td>HEPG2-08_1_B03</td>\n",
       "    </tr>\n",
       "    <tr>\n",
       "      <th>29848</th>\n",
       "      <td>HEPG2-08_1_B03_s1</td>\n",
       "      <td>HEPG2-08_1_B03</td>\n",
       "      <td>s1</td>\n",
       "      <td>HEPG2-08</td>\n",
       "      <td>3</td>\n",
       "      <td>855</td>\n",
       "      <td>0.935911</td>\n",
       "      <td>HEPG2-08_1_B03</td>\n",
       "    </tr>\n",
       "    <tr>\n",
       "      <th>29849</th>\n",
       "      <td>HEPG2-08_1_B04_s1</td>\n",
       "      <td>HEPG2-08_1_B04</td>\n",
       "      <td>s1</td>\n",
       "      <td>HEPG2-08</td>\n",
       "      <td>3</td>\n",
       "      <td>756</td>\n",
       "      <td>0.575508</td>\n",
       "      <td>HEPG2-08_1_B04</td>\n",
       "    </tr>\n",
       "    <tr>\n",
       "      <th>34822</th>\n",
       "      <td>HEPG2-08_1_B04_s2</td>\n",
       "      <td>HEPG2-08_1_B04</td>\n",
       "      <td>s2</td>\n",
       "      <td>HEPG2-08</td>\n",
       "      <td>3</td>\n",
       "      <td>358</td>\n",
       "      <td>0.666506</td>\n",
       "      <td>HEPG2-08_1_B04</td>\n",
       "    </tr>\n",
       "    <tr>\n",
       "      <th>29850</th>\n",
       "      <td>HEPG2-08_1_B05_s1</td>\n",
       "      <td>HEPG2-08_1_B05</td>\n",
       "      <td>s1</td>\n",
       "      <td>HEPG2-08</td>\n",
       "      <td>3</td>\n",
       "      <td>85</td>\n",
       "      <td>0.571876</td>\n",
       "      <td>HEPG2-08_1_B05</td>\n",
       "    </tr>\n",
       "    <tr>\n",
       "      <th>34823</th>\n",
       "      <td>HEPG2-08_1_B05_s2</td>\n",
       "      <td>HEPG2-08_1_B05</td>\n",
       "      <td>s2</td>\n",
       "      <td>HEPG2-08</td>\n",
       "      <td>3</td>\n",
       "      <td>79</td>\n",
       "      <td>0.554588</td>\n",
       "      <td>HEPG2-08_1_B05</td>\n",
       "    </tr>\n",
       "    <tr>\n",
       "      <th>34824</th>\n",
       "      <td>HEPG2-08_1_B06_s2</td>\n",
       "      <td>HEPG2-08_1_B06</td>\n",
       "      <td>s2</td>\n",
       "      <td>HEPG2-08</td>\n",
       "      <td>3</td>\n",
       "      <td>249</td>\n",
       "      <td>0.727727</td>\n",
       "      <td>HEPG2-08_1_B06</td>\n",
       "    </tr>\n",
       "    <tr>\n",
       "      <th>29851</th>\n",
       "      <td>HEPG2-08_1_B06_s1</td>\n",
       "      <td>HEPG2-08_1_B06</td>\n",
       "      <td>s1</td>\n",
       "      <td>HEPG2-08</td>\n",
       "      <td>3</td>\n",
       "      <td>280</td>\n",
       "      <td>0.849810</td>\n",
       "      <td>HEPG2-08_1_B06</td>\n",
       "    </tr>\n",
       "    <tr>\n",
       "      <th>29852</th>\n",
       "      <td>HEPG2-08_1_B07_s1</td>\n",
       "      <td>HEPG2-08_1_B07</td>\n",
       "      <td>s1</td>\n",
       "      <td>HEPG2-08</td>\n",
       "      <td>3</td>\n",
       "      <td>321</td>\n",
       "      <td>0.707861</td>\n",
       "      <td>HEPG2-08_1_B07</td>\n",
       "    </tr>\n",
       "    <tr>\n",
       "      <th>34825</th>\n",
       "      <td>HEPG2-08_1_B07_s2</td>\n",
       "      <td>HEPG2-08_1_B07</td>\n",
       "      <td>s2</td>\n",
       "      <td>HEPG2-08</td>\n",
       "      <td>3</td>\n",
       "      <td>261</td>\n",
       "      <td>0.897638</td>\n",
       "      <td>HEPG2-08_1_B07</td>\n",
       "    </tr>\n",
       "  </tbody>\n",
       "</table>\n",
       "</div>"
      ],
      "text/plain": [
       "            id_code_site            site   s       exp  pg  sirna    cossim  \\\n",
       "34821  HEPG2-08_1_B03_s2  HEPG2-08_1_B03  s2  HEPG2-08   3    855  0.782045   \n",
       "29848  HEPG2-08_1_B03_s1  HEPG2-08_1_B03  s1  HEPG2-08   3    855  0.935911   \n",
       "29849  HEPG2-08_1_B04_s1  HEPG2-08_1_B04  s1  HEPG2-08   3    756  0.575508   \n",
       "34822  HEPG2-08_1_B04_s2  HEPG2-08_1_B04  s2  HEPG2-08   3    358  0.666506   \n",
       "29850  HEPG2-08_1_B05_s1  HEPG2-08_1_B05  s1  HEPG2-08   3     85  0.571876   \n",
       "34823  HEPG2-08_1_B05_s2  HEPG2-08_1_B05  s2  HEPG2-08   3     79  0.554588   \n",
       "34824  HEPG2-08_1_B06_s2  HEPG2-08_1_B06  s2  HEPG2-08   3    249  0.727727   \n",
       "29851  HEPG2-08_1_B06_s1  HEPG2-08_1_B06  s1  HEPG2-08   3    280  0.849810   \n",
       "29852  HEPG2-08_1_B07_s1  HEPG2-08_1_B07  s1  HEPG2-08   3    321  0.707861   \n",
       "34825  HEPG2-08_1_B07_s2  HEPG2-08_1_B07  s2  HEPG2-08   3    261  0.897638   \n",
       "\n",
       "              id_code  \n",
       "34821  HEPG2-08_1_B03  \n",
       "29848  HEPG2-08_1_B03  \n",
       "29849  HEPG2-08_1_B04  \n",
       "34822  HEPG2-08_1_B04  \n",
       "29850  HEPG2-08_1_B05  \n",
       "34823  HEPG2-08_1_B05  \n",
       "34824  HEPG2-08_1_B06  \n",
       "29851  HEPG2-08_1_B06  \n",
       "29852  HEPG2-08_1_B07  \n",
       "34825  HEPG2-08_1_B07  "
      ]
     },
     "execution_count": 58,
     "metadata": {},
     "output_type": "execute_result"
    }
   ],
   "source": [
    "df_full.sort_values('id_code').head(10)"
   ]
  },
  {
   "cell_type": "code",
   "execution_count": 60,
   "metadata": {
    "ExecuteTime": {
     "end_time": "2019-09-02T19:15:07.397678Z",
     "start_time": "2019-09-02T19:15:07.382602Z"
    }
   },
   "outputs": [
    {
     "data": {
      "text/html": [
       "<div>\n",
       "<style scoped>\n",
       "    .dataframe tbody tr th:only-of-type {\n",
       "        vertical-align: middle;\n",
       "    }\n",
       "\n",
       "    .dataframe tbody tr th {\n",
       "        vertical-align: top;\n",
       "    }\n",
       "\n",
       "    .dataframe thead th {\n",
       "        text-align: right;\n",
       "    }\n",
       "</style>\n",
       "<table border=\"1\" class=\"dataframe\">\n",
       "  <thead>\n",
       "    <tr style=\"text-align: right;\">\n",
       "      <th></th>\n",
       "      <th>id_code_site</th>\n",
       "      <th>site</th>\n",
       "      <th>s</th>\n",
       "      <th>exp</th>\n",
       "      <th>pg</th>\n",
       "      <th>sirna</th>\n",
       "      <th>cossim</th>\n",
       "      <th>id_code</th>\n",
       "    </tr>\n",
       "  </thead>\n",
       "  <tbody>\n",
       "    <tr>\n",
       "      <th>29848</th>\n",
       "      <td>HEPG2-08_1_B03_s1</td>\n",
       "      <td>HEPG2-08_1_B03</td>\n",
       "      <td>s1</td>\n",
       "      <td>HEPG2-08</td>\n",
       "      <td>3</td>\n",
       "      <td>855</td>\n",
       "      <td>0.935911</td>\n",
       "      <td>HEPG2-08_1_B03</td>\n",
       "    </tr>\n",
       "    <tr>\n",
       "      <th>34822</th>\n",
       "      <td>HEPG2-08_1_B04_s2</td>\n",
       "      <td>HEPG2-08_1_B04</td>\n",
       "      <td>s2</td>\n",
       "      <td>HEPG2-08</td>\n",
       "      <td>3</td>\n",
       "      <td>358</td>\n",
       "      <td>0.666506</td>\n",
       "      <td>HEPG2-08_1_B04</td>\n",
       "    </tr>\n",
       "    <tr>\n",
       "      <th>29850</th>\n",
       "      <td>HEPG2-08_1_B05_s1</td>\n",
       "      <td>HEPG2-08_1_B05</td>\n",
       "      <td>s1</td>\n",
       "      <td>HEPG2-08</td>\n",
       "      <td>3</td>\n",
       "      <td>85</td>\n",
       "      <td>0.571876</td>\n",
       "      <td>HEPG2-08_1_B05</td>\n",
       "    </tr>\n",
       "    <tr>\n",
       "      <th>29851</th>\n",
       "      <td>HEPG2-08_1_B06_s1</td>\n",
       "      <td>HEPG2-08_1_B06</td>\n",
       "      <td>s1</td>\n",
       "      <td>HEPG2-08</td>\n",
       "      <td>3</td>\n",
       "      <td>280</td>\n",
       "      <td>0.849810</td>\n",
       "      <td>HEPG2-08_1_B06</td>\n",
       "    </tr>\n",
       "    <tr>\n",
       "      <th>34825</th>\n",
       "      <td>HEPG2-08_1_B07_s2</td>\n",
       "      <td>HEPG2-08_1_B07</td>\n",
       "      <td>s2</td>\n",
       "      <td>HEPG2-08</td>\n",
       "      <td>3</td>\n",
       "      <td>261</td>\n",
       "      <td>0.897638</td>\n",
       "      <td>HEPG2-08_1_B07</td>\n",
       "    </tr>\n",
       "  </tbody>\n",
       "</table>\n",
       "</div>"
      ],
      "text/plain": [
       "            id_code_site            site   s       exp  pg  sirna    cossim  \\\n",
       "29848  HEPG2-08_1_B03_s1  HEPG2-08_1_B03  s1  HEPG2-08   3    855  0.935911   \n",
       "34822  HEPG2-08_1_B04_s2  HEPG2-08_1_B04  s2  HEPG2-08   3    358  0.666506   \n",
       "29850  HEPG2-08_1_B05_s1  HEPG2-08_1_B05  s1  HEPG2-08   3     85  0.571876   \n",
       "29851  HEPG2-08_1_B06_s1  HEPG2-08_1_B06  s1  HEPG2-08   3    280  0.849810   \n",
       "34825  HEPG2-08_1_B07_s2  HEPG2-08_1_B07  s2  HEPG2-08   3    261  0.897638   \n",
       "\n",
       "              id_code  \n",
       "29848  HEPG2-08_1_B03  \n",
       "34822  HEPG2-08_1_B04  \n",
       "29850  HEPG2-08_1_B05  \n",
       "29851  HEPG2-08_1_B06  \n",
       "34825  HEPG2-08_1_B07  "
      ]
     },
     "execution_count": 60,
     "metadata": {},
     "output_type": "execute_result"
    }
   ],
   "source": [
    "df_full.loc[idx].head()"
   ]
  },
  {
   "cell_type": "code",
   "execution_count": null,
   "metadata": {},
   "outputs": [],
   "source": []
  },
  {
   "cell_type": "code",
   "execution_count": null,
   "metadata": {},
   "outputs": [],
   "source": []
  },
  {
   "cell_type": "code",
   "execution_count": null,
   "metadata": {},
   "outputs": [],
   "source": []
  }
 ],
 "metadata": {
  "kernelspec": {
   "display_name": "fastai",
   "language": "python",
   "name": "fastai"
  },
  "language_info": {
   "codemirror_mode": {
    "name": "ipython",
    "version": 3
   },
   "file_extension": ".py",
   "mimetype": "text/x-python",
   "name": "python",
   "nbconvert_exporter": "python",
   "pygments_lexer": "ipython3",
   "version": "3.6.8"
  },
  "toc": {
   "base_numbering": 1,
   "nav_menu": {},
   "number_sections": true,
   "sideBar": true,
   "skip_h1_title": false,
   "title_cell": "Table of Contents",
   "title_sidebar": "Contents",
   "toc_cell": false,
   "toc_position": {},
   "toc_section_display": true,
   "toc_window_display": false
  }
 },
 "nbformat": 4,
 "nbformat_minor": 2
}
