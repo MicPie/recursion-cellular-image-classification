{
 "cells": [
  {
   "cell_type": "markdown",
   "metadata": {},
   "source": [
    "# Imports"
   ]
  },
  {
   "cell_type": "code",
   "execution_count": 1,
   "metadata": {
    "ExecuteTime": {
     "end_time": "2019-09-05T04:52:09.358519Z",
     "start_time": "2019-09-05T04:52:09.146928Z"
    }
   },
   "outputs": [],
   "source": [
    "%reload_ext autoreload\n",
    "%autoreload 2\n",
    "%matplotlib inline"
   ]
  },
  {
   "cell_type": "code",
   "execution_count": 2,
   "metadata": {
    "ExecuteTime": {
     "end_time": "2019-09-05T04:52:10.318513Z",
     "start_time": "2019-09-05T04:52:09.382410Z"
    }
   },
   "outputs": [],
   "source": [
    "import pandas as pd\n",
    "\n",
    "from fastai.vision import *\n",
    "from fastai.vision.models.xresnet import *\n",
    "\n",
    "# for datablock API\n",
    "from fastai.vision.image import _resolve_tfms, _get_crop_target, _round_multiple, _get_resize_target, _affine_grid, _grid_sample, _affine_mult\n",
    "\n",
    "# for XResNet\n",
    "#from fastai.vision.models.xresnet import act_fn, init_cnn, conv, noop, conv_layer, ResBlock, filt_sz\n"
   ]
  },
  {
   "cell_type": "code",
   "execution_count": 3,
   "metadata": {
    "ExecuteTime": {
     "end_time": "2019-09-05T04:52:10.329794Z",
     "start_time": "2019-09-05T04:52:10.319861Z"
    }
   },
   "outputs": [],
   "source": [
    "from fastai.callbacks import CSVLogger, ReduceLROnPlateauCallback, SaveModelCallback"
   ]
  },
  {
   "cell_type": "code",
   "execution_count": 4,
   "metadata": {
    "ExecuteTime": {
     "end_time": "2019-09-05T04:52:10.343079Z",
     "start_time": "2019-09-05T04:52:10.330829Z"
    }
   },
   "outputs": [],
   "source": [
    "from efficientnet_pytorch import *"
   ]
  },
  {
   "cell_type": "code",
   "execution_count": 5,
   "metadata": {
    "ExecuteTime": {
     "end_time": "2019-09-05T04:52:10.354989Z",
     "start_time": "2019-09-05T04:52:10.344140Z"
    }
   },
   "outputs": [],
   "source": [
    "from nb_new_data_augmentation_adacos_celltype_plategroup_exp import *"
   ]
  },
  {
   "cell_type": "code",
   "execution_count": 6,
   "metadata": {
    "ExecuteTime": {
     "end_time": "2019-09-05T04:52:11.172713Z",
     "start_time": "2019-09-05T04:52:11.156589Z"
    }
   },
   "outputs": [],
   "source": [
    "import pdb"
   ]
  },
  {
   "cell_type": "code",
   "execution_count": 7,
   "metadata": {
    "ExecuteTime": {
     "end_time": "2019-09-05T04:52:12.105981Z",
     "start_time": "2019-09-05T04:52:12.088969Z"
    }
   },
   "outputs": [
    {
     "data": {
      "text/plain": [
       "'1.0.55'"
      ]
     },
     "execution_count": 7,
     "metadata": {},
     "output_type": "execute_result"
    }
   ],
   "source": [
    "__version__"
   ]
  },
  {
   "cell_type": "markdown",
   "metadata": {},
   "source": [
    "# 6D image with celltype"
   ]
  },
  {
   "cell_type": "code",
   "execution_count": 8,
   "metadata": {
    "ExecuteTime": {
     "end_time": "2019-09-04T20:25:57.406631Z",
     "start_time": "2019-09-04T20:25:57.393526Z"
    }
   },
   "outputs": [],
   "source": [
    "class Image6Dct(Image):\n",
    "    \"Support applying transforms to image data in `px`.\"\n",
    "    def __init__(self, px:Tensor, ctint, pgint, expint): # ct\n",
    "        self._px = px\n",
    "        self._logit_px=None\n",
    "        #self.ct = ct\n",
    "        self.ctint = ctint\n",
    "        self.pgint = pgint\n",
    "        self.expint = expint\n",
    "        self._flow=None\n",
    "        self._affine_mat=None\n",
    "        self.sample_kwargs = {}\n",
    "    \n",
    "    def _repr_image_format(self, format_str):\n",
    "        with BytesIO() as str_buffer:\n",
    "            #plt.imsave(str_buffer, image2np(self.px[:3]), format=format_str)\n",
    "            plt.imsave(str_buffer, \n",
    "                       np.concatenate((image2np(self.px[:3]), \n",
    "                                       image2np(self.px[3:])), axis=1),\n",
    "                       format=format_str)\n",
    "            return str_buffer.getvalue()\n",
    "        \n",
    "    def clone(self):\n",
    "        \"Mimic the behavior of torch.clone for `Image` objects.\"\n",
    "        return self.__class__(self.px.clone(), self.ctint.clone(), self.pgint.clone(), self.expint.clone()) # self.ct.clone(), \n",
    "\n",
    "    @property\n",
    "    def data(self)->TensorImage:\n",
    "        \"Return this images pixels as a tensor.\"\n",
    "        return self.px, self.ctint, self.pgint, self.expint\n",
    "    "
   ]
  },
  {
   "cell_type": "code",
   "execution_count": 9,
   "metadata": {
    "ExecuteTime": {
     "end_time": "2019-09-04T20:25:57.420369Z",
     "start_time": "2019-09-04T20:25:57.407841Z"
    }
   },
   "outputs": [],
   "source": [
    "def open_image_6Dct(fn:PathOrStr, div:bool=True, convert_mode:str='L', cls:type=Image6Dct,\n",
    "        after_open:Callable=None)->Image:\n",
    "    \"Return `Image` object created from image in file `fn`.\"\n",
    "    with warnings.catch_warnings():\n",
    "        warnings.simplefilter(\"ignore\", UserWarning) # EXIF warning from TiffPlugin\n",
    "        \n",
    "        x = []\n",
    "        for i in range(6):\n",
    "            c = PIL.Image.open(fn+'_w'+str(i+1)+'.png').convert(convert_mode)\n",
    "            if after_open: c = after_open(c)\n",
    "            c = np.asarray(c)\n",
    "            c = torch.from_numpy(c.astype(np.float32, copy=False))\n",
    "            x.append(c)\n",
    "    ct = fn.split('/')[1].split('-')[0] # get cell type\n",
    "    ctint = torch.tensor(ct2int[ct])\n",
    "    pgint = torch.tensor(fn2pgint[fn])\n",
    "    exp = fn.split('/')[1] # get experiment\n",
    "    expint = torch.tensor(exp2int[exp])\n",
    "    x = torch.stack(x)\n",
    "    if div: x.div_(255)\n",
    "    return cls(x, ctint, pgint, expint)"
   ]
  },
  {
   "cell_type": "code",
   "execution_count": 10,
   "metadata": {
    "ExecuteTime": {
     "end_time": "2019-09-04T20:25:57.433267Z",
     "start_time": "2019-09-04T20:25:57.421326Z"
    }
   },
   "outputs": [],
   "source": [
    "# number experiments so that cell types do not overlap\n",
    "# and the valid and test dataset do have a embedding they can use!\n",
    "exp2int = {'HEPG2-01': 0,\n",
    "           'HEPG2-02': 1,\n",
    "           'HEPG2-03': 2,\n",
    "           'HEPG2-04': 3,\n",
    "           'HEPG2-05': 4,\n",
    "           # valid\n",
    "           'HEPG2-06': 0,\n",
    "           'HEPG2-07': 1,\n",
    "           # test\n",
    "           'HEPG2-08': 0,\n",
    "           'HEPG2-09': 1,\n",
    "           'HEPG2-10': 2,\n",
    "           'HEPG2-11': 3,           \n",
    "             \n",
    "           # train\n",
    "           'HUVEC-01': 5,\n",
    "           'HUVEC-02': 6,\n",
    "           'HUVEC-03': 7,\n",
    "           'HUVEC-04': 8,\n",
    "           'HUVEC-05': 9,\n",
    "           'HUVEC-06': 10,\n",
    "           'HUVEC-07': 11, \n",
    "           'HUVEC-08': 12,\n",
    "           'HUVEC-09': 13,\n",
    "           'HUVEC-10': 14,\n",
    "           'HUVEC-11': 15,\n",
    "           'HUVEC-12': 16,\n",
    "           'HUVEC-13': 17,\n",
    "           'HUVEC-14': 18, \n",
    "           # valid\n",
    "           'HUVEC-15': 5,\n",
    "           'HUVEC-16': 6, \n",
    "           # test\n",
    "           'HUVEC-17': 5,\n",
    "           'HUVEC-18': 6,\n",
    "           'HUVEC-19': 7,\n",
    "           'HUVEC-20': 8,\n",
    "           'HUVEC-21': 9,\n",
    "           'HUVEC-22': 10,\n",
    "           'HUVEC-23': 11,\n",
    "           'HUVEC-24': 12,\n",
    "             \n",
    "           # train\n",
    "           'RPE-01': 19,\n",
    "           'RPE-02': 20,\n",
    "           'RPE-03': 21,\n",
    "           'RPE-04': 22,\n",
    "           'RPE-05': 23,\n",
    "           # valid\n",
    "           'RPE-06': 19,\n",
    "           'RPE-07': 20,\n",
    "           # test\n",
    "           'RPE-08': 19,\n",
    "           'RPE-09': 20,\n",
    "           'RPE-10': 21,\n",
    "           'RPE-11': 22,\n",
    "             \n",
    "           # train\n",
    "           'U2OS-01': 24,\n",
    "           'U2OS-02': 25,\n",
    "           # valid\n",
    "           'U2OS-03': 24,\n",
    "           # test\n",
    "           'U2OS-04': 24,\n",
    "           'U2OS-05': 25\n",
    "          }"
   ]
  },
  {
   "cell_type": "code",
   "execution_count": 11,
   "metadata": {
    "ExecuteTime": {
     "end_time": "2019-09-04T20:25:57.444089Z",
     "start_time": "2019-09-04T20:25:57.434301Z"
    }
   },
   "outputs": [],
   "source": [
    "#exp2int"
   ]
  },
  {
   "cell_type": "code",
   "execution_count": 12,
   "metadata": {
    "ExecuteTime": {
     "end_time": "2019-09-04T20:25:57.517121Z",
     "start_time": "2019-09-04T20:25:57.445108Z"
    }
   },
   "outputs": [],
   "source": [
    "df_full_plate_pattern = pd.read_csv('full_dataset_v2_path_plate_groups_only_20190812.csv', index_col=0)"
   ]
  },
  {
   "cell_type": "code",
   "execution_count": 13,
   "metadata": {
    "ExecuteTime": {
     "end_time": "2019-09-04T20:25:57.532855Z",
     "start_time": "2019-09-04T20:25:57.518103Z"
    }
   },
   "outputs": [
    {
     "data": {
      "text/html": [
       "<div>\n",
       "<style scoped>\n",
       "    .dataframe tbody tr th:only-of-type {\n",
       "        vertical-align: middle;\n",
       "    }\n",
       "\n",
       "    .dataframe tbody tr th {\n",
       "        vertical-align: top;\n",
       "    }\n",
       "\n",
       "    .dataframe thead th {\n",
       "        text-align: right;\n",
       "    }\n",
       "</style>\n",
       "<table border=\"1\" class=\"dataframe\">\n",
       "  <thead>\n",
       "    <tr style=\"text-align: right;\">\n",
       "      <th></th>\n",
       "      <th>path</th>\n",
       "      <th>plate_pattern</th>\n",
       "    </tr>\n",
       "  </thead>\n",
       "  <tbody>\n",
       "    <tr>\n",
       "      <th>0</th>\n",
       "      <td>train/HEPG2-01/Plate1/B03_s1</td>\n",
       "      <td>0</td>\n",
       "    </tr>\n",
       "    <tr>\n",
       "      <th>1</th>\n",
       "      <td>train/HEPG2-01/Plate1/B04_s1</td>\n",
       "      <td>0</td>\n",
       "    </tr>\n",
       "    <tr>\n",
       "      <th>2</th>\n",
       "      <td>train/HEPG2-01/Plate1/B05_s1</td>\n",
       "      <td>0</td>\n",
       "    </tr>\n",
       "    <tr>\n",
       "      <th>3</th>\n",
       "      <td>train/HEPG2-01/Plate1/B06_s1</td>\n",
       "      <td>0</td>\n",
       "    </tr>\n",
       "    <tr>\n",
       "      <th>4</th>\n",
       "      <td>train/HEPG2-01/Plate1/B07_s1</td>\n",
       "      <td>0</td>\n",
       "    </tr>\n",
       "  </tbody>\n",
       "</table>\n",
       "</div>"
      ],
      "text/plain": [
       "                           path  plate_pattern\n",
       "0  train/HEPG2-01/Plate1/B03_s1              0\n",
       "1  train/HEPG2-01/Plate1/B04_s1              0\n",
       "2  train/HEPG2-01/Plate1/B05_s1              0\n",
       "3  train/HEPG2-01/Plate1/B06_s1              0\n",
       "4  train/HEPG2-01/Plate1/B07_s1              0"
      ]
     },
     "execution_count": 13,
     "metadata": {},
     "output_type": "execute_result"
    }
   ],
   "source": [
    "df_full_plate_pattern.head()"
   ]
  },
  {
   "cell_type": "code",
   "execution_count": 14,
   "metadata": {
    "ExecuteTime": {
     "end_time": "2019-09-04T20:25:57.559377Z",
     "start_time": "2019-09-04T20:25:57.533709Z"
    }
   },
   "outputs": [],
   "source": [
    "fn2pgint = dict(zip(df_full_plate_pattern.path.values, \n",
    "                              df_full_plate_pattern.plate_pattern.values))"
   ]
  },
  {
   "cell_type": "code",
   "execution_count": 15,
   "metadata": {
    "ExecuteTime": {
     "end_time": "2019-09-04T20:25:57.571323Z",
     "start_time": "2019-09-04T20:25:57.560496Z"
    }
   },
   "outputs": [
    {
     "data": {
      "text/plain": [
       "0"
      ]
     },
     "execution_count": 15,
     "metadata": {},
     "output_type": "execute_result"
    }
   ],
   "source": [
    "fn2pgint['train/HEPG2-01/Plate1/B03_s1']"
   ]
  },
  {
   "cell_type": "code",
   "execution_count": 16,
   "metadata": {
    "ExecuteTime": {
     "end_time": "2019-09-04T20:25:57.582461Z",
     "start_time": "2019-09-04T20:25:57.572174Z"
    }
   },
   "outputs": [],
   "source": [
    "# cell types from rcic_v10_inspect_image_data.ipynb \"pixel stats\"\n",
    "cts = ['HEPG2', 'HUVEC', 'RPE', 'U2OS']\n",
    "int2ct = {i: ct for i, ct in enumerate(cts)}\n",
    "ct2int = {ct: i for i, ct in int2ct.items()}"
   ]
  },
  {
   "cell_type": "code",
   "execution_count": 17,
   "metadata": {
    "ExecuteTime": {
     "end_time": "2019-09-04T20:25:57.593443Z",
     "start_time": "2019-09-04T20:25:57.583446Z"
    }
   },
   "outputs": [
    {
     "name": "stdout",
     "output_type": "stream",
     "text": [
      "{0: 'HEPG2', 1: 'HUVEC', 2: 'RPE', 3: 'U2OS'}\n",
      "{'HEPG2': 0, 'HUVEC': 1, 'RPE': 2, 'U2OS': 3}\n"
     ]
    }
   ],
   "source": [
    "print(int2ct)\n",
    "print(ct2int)"
   ]
  },
  {
   "cell_type": "code",
   "execution_count": 18,
   "metadata": {
    "ExecuteTime": {
     "end_time": "2019-09-04T20:25:57.605105Z",
     "start_time": "2019-09-04T20:25:57.594336Z"
    }
   },
   "outputs": [
    {
     "data": {
      "text/plain": [
       "'HEPG2'"
      ]
     },
     "execution_count": 18,
     "metadata": {},
     "output_type": "execute_result"
    }
   ],
   "source": [
    "ct = 'train/HEPG2-01/Plate1/B03_s1'.split('/')[1].split('-')[0]; ct"
   ]
  },
  {
   "cell_type": "code",
   "execution_count": 19,
   "metadata": {
    "ExecuteTime": {
     "end_time": "2019-09-04T20:25:57.616426Z",
     "start_time": "2019-09-04T20:25:57.606105Z"
    }
   },
   "outputs": [
    {
     "data": {
      "text/plain": [
       "0"
      ]
     },
     "execution_count": 19,
     "metadata": {},
     "output_type": "execute_result"
    }
   ],
   "source": [
    "ct2int[ct]"
   ]
  },
  {
   "cell_type": "code",
   "execution_count": 20,
   "metadata": {
    "ExecuteTime": {
     "end_time": "2019-09-04T20:25:57.626942Z",
     "start_time": "2019-09-04T20:25:57.617290Z"
    }
   },
   "outputs": [],
   "source": [
    "PATH_trunc = 'train/HEPG2-01/Plate1/B03_s1' # path is missing suffix \"_w1.png\""
   ]
  },
  {
   "cell_type": "code",
   "execution_count": 21,
   "metadata": {
    "ExecuteTime": {
     "end_time": "2019-09-04T20:25:57.663216Z",
     "start_time": "2019-09-04T20:25:57.628018Z"
    }
   },
   "outputs": [],
   "source": [
    "img = open_image_6Dct(PATH_trunc)"
   ]
  },
  {
   "cell_type": "code",
   "execution_count": 22,
   "metadata": {
    "ExecuteTime": {
     "end_time": "2019-09-04T20:25:57.675027Z",
     "start_time": "2019-09-04T20:25:57.664207Z"
    }
   },
   "outputs": [
    {
     "data": {
      "text/plain": [
       "torch.Size([6, 512, 512])"
      ]
     },
     "execution_count": 22,
     "metadata": {},
     "output_type": "execute_result"
    }
   ],
   "source": [
    "img.px.shape"
   ]
  },
  {
   "cell_type": "code",
   "execution_count": 23,
   "metadata": {
    "ExecuteTime": {
     "end_time": "2019-09-04T20:25:57.688456Z",
     "start_time": "2019-09-04T20:25:57.677307Z"
    }
   },
   "outputs": [
    {
     "data": {
      "text/plain": [
       "(tensor(0), tensor(0), tensor(0))"
      ]
     },
     "execution_count": 23,
     "metadata": {},
     "output_type": "execute_result"
    }
   ],
   "source": [
    "img.ctint, img.pgint, img.expint"
   ]
  },
  {
   "cell_type": "code",
   "execution_count": 24,
   "metadata": {
    "ExecuteTime": {
     "end_time": "2019-09-04T20:25:57.700800Z",
     "start_time": "2019-09-04T20:25:57.689837Z"
    }
   },
   "outputs": [
    {
     "data": {
      "text/plain": [
       "(torch.Tensor, torch.Tensor, torch.Tensor)"
      ]
     },
     "execution_count": 24,
     "metadata": {},
     "output_type": "execute_result"
    }
   ],
   "source": [
    "type(img.ctint), type(img.pgint), type(img.expint)"
   ]
  },
  {
   "cell_type": "markdown",
   "metadata": {},
   "source": [
    "# Dataset setup"
   ]
  },
  {
   "cell_type": "code",
   "execution_count": 25,
   "metadata": {
    "ExecuteTime": {
     "end_time": "2019-09-04T20:25:57.715114Z",
     "start_time": "2019-09-04T20:25:57.701741Z"
    }
   },
   "outputs": [],
   "source": [
    "class ImageList6Dct(ImageList): #ImageList\n",
    "    def __init__(self, *args, convert_mode='L', after_open:Callable=None, **kwargs):\n",
    "        super().__init__(*args, **kwargs)\n",
    "        self.convert_mode,self.after_open = convert_mode,after_open\n",
    "        self.copy_new.append('convert_mode')\n",
    "        self.c,self.sizes = 6,{}\n",
    "        \n",
    "    def open(self, fn):\n",
    "        \"Open image in `fn`, subclass and overwrite for custom behavior.\"\n",
    "        return open_image_6Dct(fn, convert_mode=self.convert_mode, after_open=self.after_open)\n",
    "\n",
    "#    def show(self, img):\n",
    "#        #return torch.cat((img[i][:3], img[i][3:]), dim=1)\n",
    "#        show_image(img)\n",
    "    \n",
    "    # https://docs.fast.ai/tutorial.itemlist.html#Advanced-show-methods\n",
    "    def show_xys(self, xs, ys, figsize:Tuple[int,int]=(15,10), **kwargs):\n",
    "        \"Show the `xs` and `ys` on a figure of `figsize`. `kwargs` are passed to the show method.\"\n",
    "        rows = int(math.sqrt(len(xs)))\n",
    "        fig, axs = plt.subplots(rows,rows,figsize=figsize)\n",
    "        for i, ax in enumerate(axs.flatten() if rows > 1 else [axs]):\n",
    "            #xs[i].show(ax=ax, y=ys[i], **kwargs)\n",
    "            img = Image6D(torch.cat((xs[i].data[:3], xs[i].data[3:]), dim=2)) # works but not elegant?\n",
    "            #img = Image6D(xs[i]) # does not work?\n",
    "            img.show(ax=ax, y=ys[i], **kwargs)\n",
    "        plt.tight_layout()"
   ]
  },
  {
   "cell_type": "code",
   "execution_count": 26,
   "metadata": {
    "ExecuteTime": {
     "end_time": "2019-09-04T20:25:57.726052Z",
     "start_time": "2019-09-04T20:25:57.716062Z"
    }
   },
   "outputs": [],
   "source": [
    "#def show_image(img:Image, ax:plt.Axes=None, figsize:tuple=(3,3), hide_axis:bool=True, cmap:str='binary',\n",
    "#                alpha:float=None, **kwargs)->plt.Axes:\n",
    "#    \"Display `Image` in notebook.\"\n",
    "#    if ax is None: fig,ax = plt.subplots(figsize=figsize)\n",
    "#    pdb.set_trace()\n",
    "#    #ax.imshow(image2np(img.data), cmap=cmap, alpha=alpha, **kwargs)\n",
    "#    ax.imshow(np.concatenate((image2np(self.px[:3]),\n",
    "#                              image2np(self.px[3:])), axis=1),\n",
    "#              cmap=cmap, alpha=alpha, **kwargs)\n",
    "#    if hide_axis: ax.axis('off')\n",
    "#    return ax\n"
   ]
  },
  {
   "cell_type": "markdown",
   "metadata": {},
   "source": [
    "## Full dataset"
   ]
  },
  {
   "cell_type": "markdown",
   "metadata": {},
   "source": [
    "### Dataset raw files"
   ]
  },
  {
   "cell_type": "code",
   "execution_count": 27,
   "metadata": {
    "ExecuteTime": {
     "end_time": "2019-09-04T20:25:57.831360Z",
     "start_time": "2019-09-04T20:25:57.727002Z"
    }
   },
   "outputs": [],
   "source": [
    "df_train = pd.read_csv('full_train_dataset_valid-split-ex_v2_ct_20190824.csv', index_col=0)\n",
    "df_test = pd.read_csv('full_test_dataset_v2_ct_20190824.csv', index_col=0)"
   ]
  },
  {
   "cell_type": "code",
   "execution_count": 28,
   "metadata": {
    "ExecuteTime": {
     "end_time": "2019-09-04T20:25:57.842867Z",
     "start_time": "2019-09-04T20:25:57.832326Z"
    }
   },
   "outputs": [
    {
     "data": {
      "text/plain": [
       "(73030, 6)"
      ]
     },
     "execution_count": 28,
     "metadata": {},
     "output_type": "execute_result"
    }
   ],
   "source": [
    "df_train.shape"
   ]
  },
  {
   "cell_type": "code",
   "execution_count": 29,
   "metadata": {
    "ExecuteTime": {
     "end_time": "2019-09-04T20:25:57.858186Z",
     "start_time": "2019-09-04T20:25:57.843752Z"
    }
   },
   "outputs": [
    {
     "data": {
      "text/html": [
       "<div>\n",
       "<style scoped>\n",
       "    .dataframe tbody tr th:only-of-type {\n",
       "        vertical-align: middle;\n",
       "    }\n",
       "\n",
       "    .dataframe tbody tr th {\n",
       "        vertical-align: top;\n",
       "    }\n",
       "\n",
       "    .dataframe thead th {\n",
       "        text-align: right;\n",
       "    }\n",
       "</style>\n",
       "<table border=\"1\" class=\"dataframe\">\n",
       "  <thead>\n",
       "    <tr style=\"text-align: right;\">\n",
       "      <th></th>\n",
       "      <th>path</th>\n",
       "      <th>experiment</th>\n",
       "      <th>sirna</th>\n",
       "      <th>multi</th>\n",
       "      <th>valid</th>\n",
       "      <th>celltype</th>\n",
       "    </tr>\n",
       "  </thead>\n",
       "  <tbody>\n",
       "    <tr>\n",
       "      <th>36510</th>\n",
       "      <td>U2OS-03/Plate4/O19_s2</td>\n",
       "      <td>U2OS-03</td>\n",
       "      <td>103</td>\n",
       "      <td>U2OS-03 103</td>\n",
       "      <td>1</td>\n",
       "      <td>U2OS</td>\n",
       "    </tr>\n",
       "    <tr>\n",
       "      <th>36511</th>\n",
       "      <td>U2OS-03/Plate4/O20_s2</td>\n",
       "      <td>U2OS-03</td>\n",
       "      <td>202</td>\n",
       "      <td>U2OS-03 202</td>\n",
       "      <td>1</td>\n",
       "      <td>U2OS</td>\n",
       "    </tr>\n",
       "    <tr>\n",
       "      <th>36512</th>\n",
       "      <td>U2OS-03/Plate4/O21_s2</td>\n",
       "      <td>U2OS-03</td>\n",
       "      <td>824</td>\n",
       "      <td>U2OS-03 824</td>\n",
       "      <td>1</td>\n",
       "      <td>U2OS</td>\n",
       "    </tr>\n",
       "    <tr>\n",
       "      <th>36513</th>\n",
       "      <td>U2OS-03/Plate4/O22_s2</td>\n",
       "      <td>U2OS-03</td>\n",
       "      <td>328</td>\n",
       "      <td>U2OS-03 328</td>\n",
       "      <td>1</td>\n",
       "      <td>U2OS</td>\n",
       "    </tr>\n",
       "    <tr>\n",
       "      <th>36514</th>\n",
       "      <td>U2OS-03/Plate4/O23_s2</td>\n",
       "      <td>U2OS-03</td>\n",
       "      <td>509</td>\n",
       "      <td>U2OS-03 509</td>\n",
       "      <td>1</td>\n",
       "      <td>U2OS</td>\n",
       "    </tr>\n",
       "  </tbody>\n",
       "</table>\n",
       "</div>"
      ],
      "text/plain": [
       "                        path experiment  sirna        multi  valid celltype\n",
       "36510  U2OS-03/Plate4/O19_s2    U2OS-03    103  U2OS-03 103      1     U2OS\n",
       "36511  U2OS-03/Plate4/O20_s2    U2OS-03    202  U2OS-03 202      1     U2OS\n",
       "36512  U2OS-03/Plate4/O21_s2    U2OS-03    824  U2OS-03 824      1     U2OS\n",
       "36513  U2OS-03/Plate4/O22_s2    U2OS-03    328  U2OS-03 328      1     U2OS\n",
       "36514  U2OS-03/Plate4/O23_s2    U2OS-03    509  U2OS-03 509      1     U2OS"
      ]
     },
     "execution_count": 29,
     "metadata": {},
     "output_type": "execute_result"
    }
   ],
   "source": [
    "df_train.tail()"
   ]
  },
  {
   "cell_type": "code",
   "execution_count": 30,
   "metadata": {
    "ExecuteTime": {
     "end_time": "2019-09-04T20:25:57.872277Z",
     "start_time": "2019-09-04T20:25:57.859131Z"
    }
   },
   "outputs": [
    {
     "data": {
      "text/html": [
       "<div>\n",
       "<style scoped>\n",
       "    .dataframe tbody tr th:only-of-type {\n",
       "        vertical-align: middle;\n",
       "    }\n",
       "\n",
       "    .dataframe tbody tr th {\n",
       "        vertical-align: top;\n",
       "    }\n",
       "\n",
       "    .dataframe thead th {\n",
       "        text-align: right;\n",
       "    }\n",
       "</style>\n",
       "<table border=\"1\" class=\"dataframe\">\n",
       "  <thead>\n",
       "    <tr style=\"text-align: right;\">\n",
       "      <th></th>\n",
       "      <th>path</th>\n",
       "      <th>experiment</th>\n",
       "      <th>celltype</th>\n",
       "    </tr>\n",
       "  </thead>\n",
       "  <tbody>\n",
       "    <tr>\n",
       "      <th>19892</th>\n",
       "      <td>U2OS-05/Plate4/O19_s2</td>\n",
       "      <td>U2OS-05</td>\n",
       "      <td>U2OS</td>\n",
       "    </tr>\n",
       "    <tr>\n",
       "      <th>19893</th>\n",
       "      <td>U2OS-05/Plate4/O20_s2</td>\n",
       "      <td>U2OS-05</td>\n",
       "      <td>U2OS</td>\n",
       "    </tr>\n",
       "    <tr>\n",
       "      <th>19894</th>\n",
       "      <td>U2OS-05/Plate4/O21_s2</td>\n",
       "      <td>U2OS-05</td>\n",
       "      <td>U2OS</td>\n",
       "    </tr>\n",
       "    <tr>\n",
       "      <th>19895</th>\n",
       "      <td>U2OS-05/Plate4/O22_s2</td>\n",
       "      <td>U2OS-05</td>\n",
       "      <td>U2OS</td>\n",
       "    </tr>\n",
       "    <tr>\n",
       "      <th>19896</th>\n",
       "      <td>U2OS-05/Plate4/O23_s2</td>\n",
       "      <td>U2OS-05</td>\n",
       "      <td>U2OS</td>\n",
       "    </tr>\n",
       "  </tbody>\n",
       "</table>\n",
       "</div>"
      ],
      "text/plain": [
       "                        path experiment celltype\n",
       "19892  U2OS-05/Plate4/O19_s2    U2OS-05     U2OS\n",
       "19893  U2OS-05/Plate4/O20_s2    U2OS-05     U2OS\n",
       "19894  U2OS-05/Plate4/O21_s2    U2OS-05     U2OS\n",
       "19895  U2OS-05/Plate4/O22_s2    U2OS-05     U2OS\n",
       "19896  U2OS-05/Plate4/O23_s2    U2OS-05     U2OS"
      ]
     },
     "execution_count": 30,
     "metadata": {},
     "output_type": "execute_result"
    }
   ],
   "source": [
    "df_test.tail()"
   ]
  },
  {
   "cell_type": "code",
   "execution_count": 31,
   "metadata": {
    "ExecuteTime": {
     "end_time": "2019-09-04T20:25:57.883269Z",
     "start_time": "2019-09-04T20:25:57.873228Z"
    }
   },
   "outputs": [],
   "source": [
    "cts = ['HEPG2', 'HUVEC', 'RPE', 'U2OS']"
   ]
  },
  {
   "cell_type": "code",
   "execution_count": 32,
   "metadata": {
    "ExecuteTime": {
     "end_time": "2019-09-04T20:25:57.893954Z",
     "start_time": "2019-09-04T20:25:57.884298Z"
    }
   },
   "outputs": [],
   "source": [
    "# Pick the celltype for the celltype-specific training\n",
    "#ct = cts[3]; ct"
   ]
  },
  {
   "cell_type": "code",
   "execution_count": 33,
   "metadata": {
    "ExecuteTime": {
     "end_time": "2019-09-04T20:25:57.904791Z",
     "start_time": "2019-09-04T20:25:57.895028Z"
    }
   },
   "outputs": [],
   "source": [
    "#df_train[df_train['celltype'] == ct].shape"
   ]
  },
  {
   "cell_type": "code",
   "execution_count": 34,
   "metadata": {
    "ExecuteTime": {
     "end_time": "2019-09-04T20:25:57.915310Z",
     "start_time": "2019-09-04T20:25:57.905806Z"
    }
   },
   "outputs": [],
   "source": [
    "#df_train[df_train['celltype'] == ct].tail()"
   ]
  },
  {
   "cell_type": "code",
   "execution_count": 35,
   "metadata": {
    "ExecuteTime": {
     "end_time": "2019-09-04T20:25:57.926013Z",
     "start_time": "2019-09-04T20:25:57.916261Z"
    }
   },
   "outputs": [],
   "source": [
    "#df_test[df_test['celltype'] == ct].tail()"
   ]
  },
  {
   "cell_type": "code",
   "execution_count": 36,
   "metadata": {
    "ExecuteTime": {
     "end_time": "2019-09-04T20:25:57.958636Z",
     "start_time": "2019-09-04T20:25:57.927125Z"
    }
   },
   "outputs": [],
   "source": [
    "df_train['pg'] = df_train['path'].apply(lambda x: fn2pgint['train/'+x])"
   ]
  },
  {
   "cell_type": "code",
   "execution_count": 37,
   "metadata": {
    "ExecuteTime": {
     "end_time": "2019-09-04T20:25:57.982959Z",
     "start_time": "2019-09-04T20:25:57.959708Z"
    }
   },
   "outputs": [],
   "source": [
    "df_test['pg'] = df_test['path'].apply(lambda x: fn2pgint['test/'+x])"
   ]
  },
  {
   "cell_type": "code",
   "execution_count": 38,
   "metadata": {
    "ExecuteTime": {
     "end_time": "2019-09-04T20:25:57.997053Z",
     "start_time": "2019-09-04T20:25:57.983984Z"
    }
   },
   "outputs": [],
   "source": [
    "pg = 3"
   ]
  },
  {
   "cell_type": "code",
   "execution_count": 39,
   "metadata": {
    "ExecuteTime": {
     "end_time": "2019-09-04T20:25:58.012003Z",
     "start_time": "2019-09-04T20:25:57.997986Z"
    }
   },
   "outputs": [
    {
     "data": {
      "text/plain": [
       "((18252, 7), (9946, 4))"
      ]
     },
     "execution_count": 39,
     "metadata": {},
     "output_type": "execute_result"
    }
   ],
   "source": [
    "df_train[df_train['pg'] == pg].shape, df_test[df_test['pg'] == pg].shape"
   ]
  },
  {
   "cell_type": "code",
   "execution_count": 40,
   "metadata": {
    "ExecuteTime": {
     "end_time": "2019-09-04T20:25:58.028737Z",
     "start_time": "2019-09-04T20:25:58.013024Z"
    }
   },
   "outputs": [
    {
     "data": {
      "text/html": [
       "<div>\n",
       "<style scoped>\n",
       "    .dataframe tbody tr th:only-of-type {\n",
       "        vertical-align: middle;\n",
       "    }\n",
       "\n",
       "    .dataframe tbody tr th {\n",
       "        vertical-align: top;\n",
       "    }\n",
       "\n",
       "    .dataframe thead th {\n",
       "        text-align: right;\n",
       "    }\n",
       "</style>\n",
       "<table border=\"1\" class=\"dataframe\">\n",
       "  <thead>\n",
       "    <tr style=\"text-align: right;\">\n",
       "      <th></th>\n",
       "      <th>path</th>\n",
       "      <th>experiment</th>\n",
       "      <th>sirna</th>\n",
       "      <th>multi</th>\n",
       "      <th>valid</th>\n",
       "      <th>celltype</th>\n",
       "      <th>pg</th>\n",
       "    </tr>\n",
       "  </thead>\n",
       "  <tbody>\n",
       "    <tr>\n",
       "      <th>36510</th>\n",
       "      <td>U2OS-03/Plate4/O19_s2</td>\n",
       "      <td>U2OS-03</td>\n",
       "      <td>103</td>\n",
       "      <td>U2OS-03 103</td>\n",
       "      <td>1</td>\n",
       "      <td>U2OS</td>\n",
       "      <td>3</td>\n",
       "    </tr>\n",
       "    <tr>\n",
       "      <th>36511</th>\n",
       "      <td>U2OS-03/Plate4/O20_s2</td>\n",
       "      <td>U2OS-03</td>\n",
       "      <td>202</td>\n",
       "      <td>U2OS-03 202</td>\n",
       "      <td>1</td>\n",
       "      <td>U2OS</td>\n",
       "      <td>3</td>\n",
       "    </tr>\n",
       "    <tr>\n",
       "      <th>36512</th>\n",
       "      <td>U2OS-03/Plate4/O21_s2</td>\n",
       "      <td>U2OS-03</td>\n",
       "      <td>824</td>\n",
       "      <td>U2OS-03 824</td>\n",
       "      <td>1</td>\n",
       "      <td>U2OS</td>\n",
       "      <td>3</td>\n",
       "    </tr>\n",
       "    <tr>\n",
       "      <th>36513</th>\n",
       "      <td>U2OS-03/Plate4/O22_s2</td>\n",
       "      <td>U2OS-03</td>\n",
       "      <td>328</td>\n",
       "      <td>U2OS-03 328</td>\n",
       "      <td>1</td>\n",
       "      <td>U2OS</td>\n",
       "      <td>3</td>\n",
       "    </tr>\n",
       "    <tr>\n",
       "      <th>36514</th>\n",
       "      <td>U2OS-03/Plate4/O23_s2</td>\n",
       "      <td>U2OS-03</td>\n",
       "      <td>509</td>\n",
       "      <td>U2OS-03 509</td>\n",
       "      <td>1</td>\n",
       "      <td>U2OS</td>\n",
       "      <td>3</td>\n",
       "    </tr>\n",
       "  </tbody>\n",
       "</table>\n",
       "</div>"
      ],
      "text/plain": [
       "                        path experiment  sirna        multi  valid celltype  \\\n",
       "36510  U2OS-03/Plate4/O19_s2    U2OS-03    103  U2OS-03 103      1     U2OS   \n",
       "36511  U2OS-03/Plate4/O20_s2    U2OS-03    202  U2OS-03 202      1     U2OS   \n",
       "36512  U2OS-03/Plate4/O21_s2    U2OS-03    824  U2OS-03 824      1     U2OS   \n",
       "36513  U2OS-03/Plate4/O22_s2    U2OS-03    328  U2OS-03 328      1     U2OS   \n",
       "36514  U2OS-03/Plate4/O23_s2    U2OS-03    509  U2OS-03 509      1     U2OS   \n",
       "\n",
       "       pg  \n",
       "36510   3  \n",
       "36511   3  \n",
       "36512   3  \n",
       "36513   3  \n",
       "36514   3  "
      ]
     },
     "execution_count": 40,
     "metadata": {},
     "output_type": "execute_result"
    }
   ],
   "source": [
    "df_train[df_train['pg'] == pg].tail()"
   ]
  },
  {
   "cell_type": "code",
   "execution_count": 41,
   "metadata": {
    "ExecuteTime": {
     "end_time": "2019-09-04T20:25:58.044168Z",
     "start_time": "2019-09-04T20:25:58.029684Z"
    }
   },
   "outputs": [
    {
     "data": {
      "text/html": [
       "<div>\n",
       "<style scoped>\n",
       "    .dataframe tbody tr th:only-of-type {\n",
       "        vertical-align: middle;\n",
       "    }\n",
       "\n",
       "    .dataframe tbody tr th {\n",
       "        vertical-align: top;\n",
       "    }\n",
       "\n",
       "    .dataframe thead th {\n",
       "        text-align: right;\n",
       "    }\n",
       "</style>\n",
       "<table border=\"1\" class=\"dataframe\">\n",
       "  <thead>\n",
       "    <tr style=\"text-align: right;\">\n",
       "      <th></th>\n",
       "      <th>path</th>\n",
       "      <th>experiment</th>\n",
       "      <th>celltype</th>\n",
       "      <th>pg</th>\n",
       "    </tr>\n",
       "  </thead>\n",
       "  <tbody>\n",
       "    <tr>\n",
       "      <th>19069</th>\n",
       "      <td>U2OS-05/Plate1/O19_s2</td>\n",
       "      <td>U2OS-05</td>\n",
       "      <td>U2OS</td>\n",
       "      <td>3</td>\n",
       "    </tr>\n",
       "    <tr>\n",
       "      <th>19070</th>\n",
       "      <td>U2OS-05/Plate1/O20_s2</td>\n",
       "      <td>U2OS-05</td>\n",
       "      <td>U2OS</td>\n",
       "      <td>3</td>\n",
       "    </tr>\n",
       "    <tr>\n",
       "      <th>19071</th>\n",
       "      <td>U2OS-05/Plate1/O21_s2</td>\n",
       "      <td>U2OS-05</td>\n",
       "      <td>U2OS</td>\n",
       "      <td>3</td>\n",
       "    </tr>\n",
       "    <tr>\n",
       "      <th>19072</th>\n",
       "      <td>U2OS-05/Plate1/O22_s2</td>\n",
       "      <td>U2OS-05</td>\n",
       "      <td>U2OS</td>\n",
       "      <td>3</td>\n",
       "    </tr>\n",
       "    <tr>\n",
       "      <th>19073</th>\n",
       "      <td>U2OS-05/Plate1/O23_s2</td>\n",
       "      <td>U2OS-05</td>\n",
       "      <td>U2OS</td>\n",
       "      <td>3</td>\n",
       "    </tr>\n",
       "  </tbody>\n",
       "</table>\n",
       "</div>"
      ],
      "text/plain": [
       "                        path experiment celltype  pg\n",
       "19069  U2OS-05/Plate1/O19_s2    U2OS-05     U2OS   3\n",
       "19070  U2OS-05/Plate1/O20_s2    U2OS-05     U2OS   3\n",
       "19071  U2OS-05/Plate1/O21_s2    U2OS-05     U2OS   3\n",
       "19072  U2OS-05/Plate1/O22_s2    U2OS-05     U2OS   3\n",
       "19073  U2OS-05/Plate1/O23_s2    U2OS-05     U2OS   3"
      ]
     },
     "execution_count": 41,
     "metadata": {},
     "output_type": "execute_result"
    }
   ],
   "source": [
    "df_test[df_test['pg'] == pg].tail()"
   ]
  },
  {
   "cell_type": "markdown",
   "metadata": {},
   "source": [
    "### Color augmentation transformation"
   ]
  },
  {
   "cell_type": "markdown",
   "metadata": {},
   "source": [
    "\"Color Augmentation: Color variability can be increased by applying random color transformations to original training samples. We perform color augmentation by transforming every color channels Ic ← ac · Ic + bc, where ac and bc are drawn from uniform distributions ac ∼ U [0.9, 1.1] and bc ∼ U [−10, +10].\" from Domain-adversarial neural networks to address the appearance variability of histopathology images"
   ]
  },
  {
   "cell_type": "code",
   "execution_count": 42,
   "metadata": {
    "ExecuteTime": {
     "end_time": "2019-09-04T20:25:58.055050Z",
     "start_time": "2019-09-04T20:25:58.045179Z"
    }
   },
   "outputs": [],
   "source": [
    "# from https://github.com/fastai/fastai/blob/master/fastai/vision/transform.py#L137\n",
    "#def _rgb_randomize(x, channel:int=None, thresh:float=0.3):\n",
    "#    \"Randomize one of the channels of the input image\"\n",
    "#    if channel is None: channel = np.random.randint(0, x.shape[0] - 1)\n",
    "#    x[channel] = torch.rand(x.shape[1:]) * np.random.uniform(0, thresh)\n",
    "#    return x\n",
    "#\n",
    "#rgb_randomize = TfmPixel(_rgb_randomize)"
   ]
  },
  {
   "cell_type": "code",
   "execution_count": 43,
   "metadata": {
    "ExecuteTime": {
     "end_time": "2019-09-04T20:25:58.065936Z",
     "start_time": "2019-09-04T20:25:58.055991Z"
    }
   },
   "outputs": [],
   "source": [
    "# Scaling factor comes from byte tensor?\n",
    "#10/255 = 0.0392156862745098"
   ]
  },
  {
   "cell_type": "code",
   "execution_count": 44,
   "metadata": {
    "ExecuteTime": {
     "end_time": "2019-09-04T20:25:58.078315Z",
     "start_time": "2019-09-04T20:25:58.066995Z"
    }
   },
   "outputs": [],
   "source": [
    "def _color_augmentation(x):\n",
    "    \"Randomize all channels of the input image\"\n",
    "    channel_count = x.shape[0] - 1\n",
    "    \n",
    "    # by transforming every color channels Ic ← ac · Ic + bc, \n",
    "    # where ac and bc are drawn from uniform distributions \n",
    "    # ac ∼ U [0.9, 1.1] and \n",
    "    # bc ∼ U [−10, +10].\n",
    "    \n",
    "    # x [0,1]\n",
    "    \n",
    "    for c in range(channel_count):\n",
    "        #pdb.set_trace()\n",
    "        #print(x.min(), x.max())\n",
    "        ac = np.random.uniform(0.9, 1.1) #np.random.uniform(0.9, 1.1)\n",
    "        bc = np.random.uniform(-0.1,0.1) #np.random.uniform(-10, 10)\n",
    "        x[c] = x[c] * ac + bc\n",
    "        \n",
    "        # clipping to min 0 and max 1\n",
    "        x[c] = torch.clamp(x[c], 0., 1.)\n",
    "    \n",
    "    return x\n",
    "\n",
    "color_augmentation = TfmPixel(_color_augmentation)"
   ]
  },
  {
   "cell_type": "markdown",
   "metadata": {},
   "source": [
    "### Transforms setup"
   ]
  },
  {
   "cell_type": "code",
   "execution_count": 45,
   "metadata": {
    "ExecuteTime": {
     "end_time": "2019-09-04T20:25:58.089476Z",
     "start_time": "2019-09-04T20:25:58.079342Z"
    }
   },
   "outputs": [],
   "source": [
    "## EfficientNet-B3\n",
    "#sz, bs = 300, 8 # 4167MiB /  7952MiB\n",
    "sz, bs = 300, 8*2 # 7942MiB /  7952MiB // FP16: 4397MiB /  7952MiB\n",
    "#sz, bs = 300, 8*4 # FP16: 7805MiB /  7952MiB"
   ]
  },
  {
   "cell_type": "code",
   "execution_count": 46,
   "metadata": {
    "ExecuteTime": {
     "end_time": "2019-09-04T20:25:58.100802Z",
     "start_time": "2019-09-04T20:25:58.090459Z"
    }
   },
   "outputs": [
    {
     "data": {
      "text/plain": [
       "(300, 16)"
      ]
     },
     "execution_count": 46,
     "metadata": {},
     "output_type": "execute_result"
    }
   ],
   "source": [
    "sz, bs"
   ]
  },
  {
   "cell_type": "code",
   "execution_count": 47,
   "metadata": {
    "ExecuteTime": {
     "end_time": "2019-09-04T20:25:58.111133Z",
     "start_time": "2019-09-04T20:25:58.101650Z"
    }
   },
   "outputs": [],
   "source": [
    "# cutout params\n",
    "#int(sz*0.1), int(sz*0.5)"
   ]
  },
  {
   "cell_type": "code",
   "execution_count": 48,
   "metadata": {
    "ExecuteTime": {
     "end_time": "2019-09-04T20:25:58.121816Z",
     "start_time": "2019-09-04T20:25:58.112082Z"
    }
   },
   "outputs": [],
   "source": [
    "# normal tfms\n",
    "#tfms = get_transforms()"
   ]
  },
  {
   "cell_type": "code",
   "execution_count": 49,
   "metadata": {
    "ExecuteTime": {
     "end_time": "2019-09-04T20:25:58.133033Z",
     "start_time": "2019-09-04T20:25:58.122801Z"
    }
   },
   "outputs": [],
   "source": [
    "# extended tfms\n",
    "tfms = get_transforms(do_flip=True, flip_vert=True, \n",
    "                      max_rotate=90.0, max_zoom=1.1, \n",
    "                      max_lighting=0.2, max_warp=0.2, \n",
    "                      p_affine=0.75, p_lighting=0.75, \n",
    "                      xtra_tfms=[color_augmentation()])\n",
    "\n",
    "# crop_pad: https://forums.fast.ai/t/misc-issues/35386/10"
   ]
  },
  {
   "cell_type": "code",
   "execution_count": 50,
   "metadata": {
    "ExecuteTime": {
     "end_time": "2019-09-04T20:25:58.143643Z",
     "start_time": "2019-09-04T20:25:58.133875Z"
    }
   },
   "outputs": [],
   "source": [
    "# extended tfms\n",
    "#tfms = get_transforms(do_flip=True, flip_vert=True, \n",
    "#                      max_rotate=90.0, max_zoom=1.1, \n",
    "#                      max_lighting=0.2, max_warp=0.2, \n",
    "#                      p_affine=0.75, p_lighting=0.75, \n",
    "#                      xtra_tfms=[color_augmentation(), \n",
    "#                                 cutout(n_holes=(1,4), length=(int(sz*0.1), int(sz*0.5)), p=.5)])"
   ]
  },
  {
   "cell_type": "code",
   "execution_count": 51,
   "metadata": {
    "ExecuteTime": {
     "end_time": "2019-09-04T20:25:58.154959Z",
     "start_time": "2019-09-04T20:25:58.144598Z"
    }
   },
   "outputs": [
    {
     "data": {
      "text/plain": [
       "([RandTransform(tfm=TfmCrop (crop_pad), kwargs={'row_pct': (0, 1), 'col_pct': (0, 1), 'padding_mode': 'reflection'}, p=1.0, resolved={}, do_run=True, is_random=True, use_on_y=True),\n",
       "  RandTransform(tfm=TfmAffine (dihedral_affine), kwargs={}, p=1.0, resolved={}, do_run=True, is_random=True, use_on_y=True),\n",
       "  RandTransform(tfm=TfmCoord (symmetric_warp), kwargs={'magnitude': (-0.2, 0.2)}, p=0.75, resolved={}, do_run=True, is_random=True, use_on_y=True),\n",
       "  RandTransform(tfm=TfmAffine (rotate), kwargs={'degrees': (-90.0, 90.0)}, p=0.75, resolved={}, do_run=True, is_random=True, use_on_y=True),\n",
       "  RandTransform(tfm=TfmAffine (zoom), kwargs={'scale': (1.0, 1.1), 'row_pct': (0, 1), 'col_pct': (0, 1)}, p=0.75, resolved={}, do_run=True, is_random=True, use_on_y=True),\n",
       "  RandTransform(tfm=TfmLighting (brightness), kwargs={'change': (0.4, 0.6)}, p=0.75, resolved={}, do_run=True, is_random=True, use_on_y=True),\n",
       "  RandTransform(tfm=TfmLighting (contrast), kwargs={'scale': (0.8, 1.25)}, p=0.75, resolved={}, do_run=True, is_random=True, use_on_y=True),\n",
       "  RandTransform(tfm=TfmPixel (color_augmentation), kwargs={}, p=1.0, resolved={}, do_run=True, is_random=True, use_on_y=True)],\n",
       " [RandTransform(tfm=TfmCrop (crop_pad), kwargs={}, p=1.0, resolved={}, do_run=True, is_random=True, use_on_y=True)])"
      ]
     },
     "execution_count": 51,
     "metadata": {},
     "output_type": "execute_result"
    }
   ],
   "source": [
    "tfms"
   ]
  },
  {
   "cell_type": "code",
   "execution_count": 52,
   "metadata": {
    "ExecuteTime": {
     "end_time": "2019-09-04T20:25:58.166461Z",
     "start_time": "2019-09-04T20:25:58.155903Z"
    }
   },
   "outputs": [],
   "source": [
    "# \"crop_pad\" to sz\n",
    "tfms[0][0] = crop_pad(size=sz, row_pct=[0.,1.], col_pct=[0.,1.])\n",
    "tfms[1][0] = crop_pad(size=sz, row_pct=[0.,1.], col_pct=[0.,1.])"
   ]
  },
  {
   "cell_type": "code",
   "execution_count": 53,
   "metadata": {
    "ExecuteTime": {
     "end_time": "2019-09-04T20:25:58.178361Z",
     "start_time": "2019-09-04T20:25:58.167386Z"
    }
   },
   "outputs": [
    {
     "data": {
      "text/plain": [
       "([RandTransform(tfm=TfmCrop (crop_pad), kwargs={'size': 300, 'row_pct': [0.0, 1.0], 'col_pct': [0.0, 1.0]}, p=1.0, resolved={}, do_run=True, is_random=True, use_on_y=True),\n",
       "  RandTransform(tfm=TfmAffine (dihedral_affine), kwargs={}, p=1.0, resolved={}, do_run=True, is_random=True, use_on_y=True),\n",
       "  RandTransform(tfm=TfmCoord (symmetric_warp), kwargs={'magnitude': (-0.2, 0.2)}, p=0.75, resolved={}, do_run=True, is_random=True, use_on_y=True),\n",
       "  RandTransform(tfm=TfmAffine (rotate), kwargs={'degrees': (-90.0, 90.0)}, p=0.75, resolved={}, do_run=True, is_random=True, use_on_y=True),\n",
       "  RandTransform(tfm=TfmAffine (zoom), kwargs={'scale': (1.0, 1.1), 'row_pct': (0, 1), 'col_pct': (0, 1)}, p=0.75, resolved={}, do_run=True, is_random=True, use_on_y=True),\n",
       "  RandTransform(tfm=TfmLighting (brightness), kwargs={'change': (0.4, 0.6)}, p=0.75, resolved={}, do_run=True, is_random=True, use_on_y=True),\n",
       "  RandTransform(tfm=TfmLighting (contrast), kwargs={'scale': (0.8, 1.25)}, p=0.75, resolved={}, do_run=True, is_random=True, use_on_y=True),\n",
       "  RandTransform(tfm=TfmPixel (color_augmentation), kwargs={}, p=1.0, resolved={}, do_run=True, is_random=True, use_on_y=True)],\n",
       " [RandTransform(tfm=TfmCrop (crop_pad), kwargs={'size': 300, 'row_pct': [0.0, 1.0], 'col_pct': [0.0, 1.0]}, p=1.0, resolved={}, do_run=True, is_random=True, use_on_y=True)])"
      ]
     },
     "execution_count": 53,
     "metadata": {},
     "output_type": "execute_result"
    }
   ],
   "source": [
    "tfms"
   ]
  },
  {
   "cell_type": "markdown",
   "metadata": {},
   "source": [
    "### Dataset definition"
   ]
  },
  {
   "cell_type": "code",
   "execution_count": 54,
   "metadata": {
    "ExecuteTime": {
     "end_time": "2019-09-04T20:25:58.188918Z",
     "start_time": "2019-09-04T20:25:58.179274Z"
    }
   },
   "outputs": [],
   "source": [
    "### CHANGED LINE 65 to:\n",
    "# nano ~/anaconda3/envs/fastai/lib/python3.6/site-packages/fastai/vision/data.py"
   ]
  },
  {
   "cell_type": "markdown",
   "metadata": {
    "ExecuteTime": {
     "end_time": "2019-08-10T10:36:41.864055Z",
     "start_time": "2019-08-10T10:36:41.846780Z"
    }
   },
   "source": [
    "```\n",
    "~/anaconda3/envs/fastai/lib/python3.6/site-packages/fastai/vision/data.py in _normalize_batch(b, mean, std, do_x, do_y)\n",
    "     64     \"`b` = `x`,`y` - normalize `x` array of imgs and `do_y` optionally `y`.\"\n",
    "     65     x,y = b\n",
    "---> 66     mean,std = mean.to(x.device),std.to(x.device)\n",
    "     67     if do_x: x = normalize(x,mean,std)\n",
    "     68     if do_y and len(y.shape) == 4: y = normalize(y,mean,std)\n",
    "\n",
    "AttributeError: 'list' object has no attribute 'device'\n",
    "```\n",
    "CHANGED TO:\n",
    "```\n",
    "def _normalize_batch(b:Tuple[Tensor,Tensor], mean:FloatTensor, std:FloatTensor, do_x:bool$\n",
    "    \"`b` = `x`,`y` - normalize `x` array of imgs and `do_y` optionally `y`.\"\n",
    "    (x,cint,pgint,expint),y = b\n",
    "    mean,std = mean.to(x.device),std.to(x.device)\n",
    "    if do_x: x = normalize(x,mean,std)\n",
    "    if do_y and len(y.shape) == 4: y = normalize(y,mean,std)\n",
    "    return (x,cint,pgint,expint),y\n",
    "```"
   ]
  },
  {
   "cell_type": "code",
   "execution_count": 55,
   "metadata": {
    "ExecuteTime": {
     "end_time": "2019-09-04T20:25:58.199846Z",
     "start_time": "2019-09-04T20:25:58.189961Z"
    }
   },
   "outputs": [],
   "source": [
    "#data.batch_stats() # DOES NOT WORK?"
   ]
  },
  {
   "cell_type": "code",
   "execution_count": 56,
   "metadata": {
    "ExecuteTime": {
     "end_time": "2019-09-04T20:25:58.211510Z",
     "start_time": "2019-09-04T20:25:58.200845Z"
    }
   },
   "outputs": [],
   "source": [
    "# From https://github.com/recursionpharma/rxrx1-utils/blob/master/rxrx/main.py\n",
    "# The mean and stds for each of the channels\n",
    "GLOBAL_PIXEL_STATS = (np.array([6.74696984, 14.74640167, 10.51260864,\n",
    "                                10.45369445,  5.49959796, 9.81545561]),\n",
    "                       np.array([7.95876312, 12.17305868, 5.86172946,\n",
    "                                 7.83451711, 4.701167, 5.43130431]))\n",
    "\n",
    "stats_mean = torch.tensor(GLOBAL_PIXEL_STATS[0]/255).float()\n",
    "stats_var = torch.tensor(GLOBAL_PIXEL_STATS[1]/255).float()"
   ]
  },
  {
   "cell_type": "code",
   "execution_count": 57,
   "metadata": {
    "ExecuteTime": {
     "end_time": "2019-09-04T20:25:58.222151Z",
     "start_time": "2019-09-04T20:25:58.212474Z"
    }
   },
   "outputs": [],
   "source": [
    "#stats_mean, stats_var"
   ]
  },
  {
   "cell_type": "markdown",
   "metadata": {},
   "source": [
    "# Model setup"
   ]
  },
  {
   "cell_type": "markdown",
   "metadata": {},
   "source": [
    "## EfficientNet"
   ]
  },
  {
   "cell_type": "code",
   "execution_count": 58,
   "metadata": {
    "ExecuteTime": {
     "end_time": "2019-09-04T20:25:58.232709Z",
     "start_time": "2019-09-04T20:25:58.223051Z"
    }
   },
   "outputs": [],
   "source": [
    "# 3d to 6d from old/rcic_multicat_v9_resnet50-pretrained_colaug.ipynb"
   ]
  },
  {
   "cell_type": "code",
   "execution_count": 59,
   "metadata": {
    "ExecuteTime": {
     "end_time": "2019-09-04T20:25:58.243796Z",
     "start_time": "2019-09-04T20:25:58.233666Z"
    }
   },
   "outputs": [],
   "source": [
    "from efficientnet_pytorch.utils import get_same_padding_conv2d, round_filters, round_repeats, relu_fn\n",
    "from efficientnet_pytorch.model import MBConvBlock, load_pretrained_weights"
   ]
  },
  {
   "cell_type": "code",
   "execution_count": 60,
   "metadata": {
    "ExecuteTime": {
     "end_time": "2019-09-04T20:25:58.263085Z",
     "start_time": "2019-09-04T20:25:58.244803Z"
    }
   },
   "outputs": [],
   "source": [
    "# put feature extractor into forward method\n",
    "class EfficientNet(nn.Module):\n",
    "    \"\"\"\n",
    "    An EfficientNet model. Most easily loaded with the .from_name or .from_pretrained methods\n",
    "    Args:\n",
    "        blocks_args (list): A list of BlockArgs to construct blocks\n",
    "        global_params (namedtuple): A set of GlobalParams shared between blocks\n",
    "    Example:\n",
    "        model = EfficientNet.from_pretrained('efficientnet-b0')\n",
    "    \"\"\"\n",
    "\n",
    "    def __init__(self, blocks_args=None, global_params=None):\n",
    "        super().__init__()\n",
    "        assert isinstance(blocks_args, list), 'blocks_args should be a list'\n",
    "        assert len(blocks_args) > 0, 'block args must be greater than 0'\n",
    "        self._global_params = global_params\n",
    "        self._blocks_args = blocks_args\n",
    "\n",
    "        # Get static or dynamic convolution depending on image size\n",
    "        Conv2d = get_same_padding_conv2d(image_size=global_params.image_size)\n",
    "\n",
    "        # Batch norm parameters\n",
    "        bn_mom = 1 - self._global_params.batch_norm_momentum\n",
    "        bn_eps = self._global_params.batch_norm_epsilon\n",
    "\n",
    "        # Stem\n",
    "        in_channels = 3  # rgb\n",
    "        out_channels = round_filters(32, self._global_params)  # number of output channels\n",
    "        self._conv_stem = Conv2d(in_channels, out_channels, kernel_size=3, stride=2, bias=False)\n",
    "        self._bn0 = nn.BatchNorm2d(num_features=out_channels, momentum=bn_mom, eps=bn_eps)\n",
    "\n",
    "        # Build blocks\n",
    "        self._blocks = nn.ModuleList([])\n",
    "        for block_args in self._blocks_args:\n",
    "\n",
    "            # Update block input and output filters based on depth multiplier.\n",
    "            block_args = block_args._replace(\n",
    "                input_filters=round_filters(block_args.input_filters, self._global_params),\n",
    "                output_filters=round_filters(block_args.output_filters, self._global_params),\n",
    "                num_repeat=round_repeats(block_args.num_repeat, self._global_params)\n",
    "            )\n",
    "\n",
    "            # The first block needs to take care of stride and filter size increase.\n",
    "            self._blocks.append(MBConvBlock(block_args, self._global_params))\n",
    "            if block_args.num_repeat > 1:\n",
    "                block_args = block_args._replace(input_filters=block_args.output_filters, stride=1)\n",
    "            for _ in range(block_args.num_repeat - 1):\n",
    "                self._blocks.append(MBConvBlock(block_args, self._global_params))\n",
    "\n",
    "        # Head\n",
    "        in_channels = block_args.output_filters  # output of final block\n",
    "        out_channels = round_filters(1280, self._global_params)\n",
    "        self._conv_head = Conv2d(in_channels, out_channels, kernel_size=1, bias=False)\n",
    "        self._bn1 = nn.BatchNorm2d(num_features=out_channels, momentum=bn_mom, eps=bn_eps)\n",
    "\n",
    "        # Final linear layer\n",
    "        #self._dropout = self._global_params.dropout_rate\n",
    "        #self._fc = nn.Linear(out_channels, self._global_params.num_classes)\n",
    "\n",
    "    def forward(self, inputs):\n",
    "        \"\"\" Returns output of the final convolution layer \"\"\"\n",
    "\n",
    "        # Stem\n",
    "        x = relu_fn(self._bn0(self._conv_stem(inputs)))\n",
    "\n",
    "        # Blocks\n",
    "        for idx, block in enumerate(self._blocks):\n",
    "            drop_connect_rate = self._global_params.drop_connect_rate\n",
    "            if drop_connect_rate:\n",
    "                drop_connect_rate *= float(idx) / len(self._blocks)\n",
    "            x = block(x, drop_connect_rate=drop_connect_rate)\n",
    "\n",
    "        # Head\n",
    "        x = relu_fn(self._bn1(self._conv_head(x)))\n",
    "\n",
    "        return x\n",
    "\n",
    "    #def forward(self, inputs):\n",
    "    #    \"\"\" Calls extract_features to extract features, applies final linear layer, and returns logits. \"\"\"\n",
    "    #\n",
    "    #    # Convolution layers\n",
    "    #    x = self.extract_features(inputs)\n",
    "    #\n",
    "    #    # Pooling and final linear layer\n",
    "    #    x = F.adaptive_avg_pool2d(x, 1).squeeze(-1).squeeze(-1)\n",
    "    #    if self._dropout:\n",
    "    #        x = F.dropout(x, p=self._dropout, training=self.training)\n",
    "    #    x = self._fc(x)\n",
    "    #    return x\n",
    "\n",
    "    @classmethod\n",
    "    def from_name(cls, model_name, override_params=None):\n",
    "        cls._check_model_name_is_valid(model_name)\n",
    "        blocks_args, global_params = get_model_params(model_name, override_params)\n",
    "        return EfficientNet(blocks_args, global_params)\n",
    "\n",
    "    @classmethod\n",
    "    def from_pretrained(cls, model_name, num_classes=1000):\n",
    "        model = EfficientNet.from_name(model_name, override_params={'num_classes': num_classes})\n",
    "        load_pretrained_weights(model, model_name, load_fc=(num_classes == 1000))\n",
    "        return model\n",
    "\n",
    "    @classmethod\n",
    "    def get_image_size(cls, model_name):\n",
    "        cls._check_model_name_is_valid(model_name)\n",
    "        _, _, res, _ = efficientnet_params(model_name)\n",
    "        return res\n",
    "\n",
    "    @classmethod\n",
    "    def _check_model_name_is_valid(cls, model_name, also_need_pretrained_weights=False):\n",
    "        \"\"\" Validates model name. None that pretrained weights are only available for\n",
    "        the first four models (efficientnet-b{i} for i in 0,1,2,3) at the moment. \"\"\"\n",
    "        num_models = 4 if also_need_pretrained_weights else 8\n",
    "        valid_models = ['efficientnet_b'+str(i) for i in range(num_models)]\n",
    "        if model_name.replace('-','_') not in valid_models:\n",
    "            raise ValueError('model_name should be one of: ' + ', '.join(valid_models))"
   ]
  },
  {
   "cell_type": "code",
   "execution_count": 61,
   "metadata": {
    "ExecuteTime": {
     "end_time": "2019-09-04T20:25:58.274079Z",
     "start_time": "2019-09-04T20:25:58.264031Z"
    }
   },
   "outputs": [],
   "source": [
    "from torch.utils import model_zoo"
   ]
  },
  {
   "cell_type": "code",
   "execution_count": 62,
   "metadata": {
    "ExecuteTime": {
     "end_time": "2019-09-04T20:25:58.285048Z",
     "start_time": "2019-09-04T20:25:58.275031Z"
    }
   },
   "outputs": [],
   "source": [
    "url_map = {\n",
    "    'efficientnet-b0': 'http://storage.googleapis.com/public-models/efficientnet/efficientnet-b0-355c32eb.pth',\n",
    "    'efficientnet-b1': 'http://storage.googleapis.com/public-models/efficientnet/efficientnet-b1-f1951068.pth',\n",
    "    'efficientnet-b2': 'http://storage.googleapis.com/public-models/efficientnet/efficientnet-b2-8bb594d6.pth',\n",
    "    'efficientnet-b3': 'http://storage.googleapis.com/public-models/efficientnet/efficientnet-b3-5fb5a3c3.pth',\n",
    "    'efficientnet-b4': 'http://storage.googleapis.com/public-models/efficientnet/efficientnet-b4-6ed6700e.pth',\n",
    "    'efficientnet-b5': 'http://storage.googleapis.com/public-models/efficientnet/efficientnet-b5-b6417697.pth',\n",
    "    'efficientnet-b6': 'http://storage.googleapis.com/public-models/efficientnet/efficientnet-b6-c76e70fd.pth',\n",
    "    'efficientnet-b7': 'http://storage.googleapis.com/public-models/efficientnet/efficientnet-b7-dcc49843.pth',\n",
    "}"
   ]
  },
  {
   "cell_type": "code",
   "execution_count": 63,
   "metadata": {
    "ExecuteTime": {
     "end_time": "2019-09-04T20:25:58.296594Z",
     "start_time": "2019-09-04T20:25:58.285864Z"
    }
   },
   "outputs": [],
   "source": [
    "# adapt load function to only load weights for feature extractor stage\n",
    "def load_pretrained_weights(model, model_name, load_fc=True):\n",
    "    \"\"\" Loads pretrained weights, and downloads if loading for the first time. \"\"\"\n",
    "    state_dict = model_zoo.load_url(url_map[model_name])\n",
    "    #if load_fc:\n",
    "    #    model.load_state_dict(state_dict)\n",
    "    #else:\n",
    "    state_dict.pop('_fc.weight')\n",
    "    state_dict.pop('_fc.bias')\n",
    "    res = model.load_state_dict(state_dict, strict=False)\n",
    "        #assert str(res.missing_keys) == str(['_fc.weight', '_fc.bias']), 'issue loading pretrained weights'\n",
    "    print('Loaded pretrained weights for {}'.format(model_name))"
   ]
  },
  {
   "cell_type": "code",
   "execution_count": 64,
   "metadata": {
    "ExecuteTime": {
     "end_time": "2019-09-04T20:25:58.434351Z",
     "start_time": "2019-09-04T20:25:58.297536Z"
    }
   },
   "outputs": [
    {
     "name": "stdout",
     "output_type": "stream",
     "text": [
      "Loaded pretrained weights for efficientnet-b3\n"
     ]
    }
   ],
   "source": [
    "# b3: input size = 300\n",
    "#efficientnet_b3 = EfficientNet.from_name('efficientnet-b3')\n",
    "efficientnet_f = EfficientNet.from_pretrained('efficientnet-b3')\n",
    "#efficientnet_b4f = EfficientNet.from_pretrained('efficientnet-b4')"
   ]
  },
  {
   "cell_type": "code",
   "execution_count": 65,
   "metadata": {
    "ExecuteTime": {
     "end_time": "2019-09-04T20:25:58.445522Z",
     "start_time": "2019-09-04T20:25:58.435321Z"
    }
   },
   "outputs": [],
   "source": [
    "#efficientnet_f"
   ]
  },
  {
   "cell_type": "code",
   "execution_count": 66,
   "metadata": {
    "ExecuteTime": {
     "end_time": "2019-09-04T20:25:58.457460Z",
     "start_time": "2019-09-04T20:25:58.446605Z"
    }
   },
   "outputs": [
    {
     "data": {
      "text/plain": [
       "(Conv2dStaticSamePadding(\n",
       "   3, 40, kernel_size=(3, 3), stride=(2, 2), bias=False\n",
       "   (static_padding): ZeroPad2d(padding=(0, 1, 0, 1), value=0.0)\n",
       " ), efficientnet_pytorch.utils.Conv2dStaticSamePadding)"
      ]
     },
     "execution_count": 66,
     "metadata": {},
     "output_type": "execute_result"
    }
   ],
   "source": [
    "efficientnet_f._conv_stem, type(efficientnet_f._conv_stem)"
   ]
  },
  {
   "cell_type": "code",
   "execution_count": 67,
   "metadata": {
    "ExecuteTime": {
     "end_time": "2019-09-04T20:25:58.469506Z",
     "start_time": "2019-09-04T20:25:58.458321Z"
    }
   },
   "outputs": [
    {
     "data": {
      "text/plain": [
       "Conv2dStaticSamePadding(\n",
       "  6, 40, kernel_size=(3, 3), stride=(2, 2), bias=False\n",
       "  (static_padding): ZeroPad2d(padding=(0, 1, 0, 1), value=0.0)\n",
       ")"
      ]
     },
     "execution_count": 67,
     "metadata": {},
     "output_type": "execute_result"
    }
   ],
   "source": [
    "utils.Conv2dStaticSamePadding(6, 40, kernel_size=(3, 3), stride=(2, 2), bias=False, image_size=300)"
   ]
  },
  {
   "cell_type": "code",
   "execution_count": 68,
   "metadata": {
    "ExecuteTime": {
     "end_time": "2019-09-04T20:25:58.485267Z",
     "start_time": "2019-09-04T20:25:58.474912Z"
    }
   },
   "outputs": [],
   "source": [
    "p_dict = {pn: p for pn, p in efficientnet_f._conv_stem.named_parameters()}"
   ]
  },
  {
   "cell_type": "code",
   "execution_count": 69,
   "metadata": {
    "ExecuteTime": {
     "end_time": "2019-09-04T20:25:58.498031Z",
     "start_time": "2019-09-04T20:25:58.487441Z"
    }
   },
   "outputs": [
    {
     "data": {
      "text/plain": [
       "dict_keys(['weight'])"
      ]
     },
     "execution_count": 69,
     "metadata": {},
     "output_type": "execute_result"
    }
   ],
   "source": [
    "p_dict.keys()"
   ]
  },
  {
   "cell_type": "code",
   "execution_count": 70,
   "metadata": {
    "ExecuteTime": {
     "end_time": "2019-09-04T20:25:58.509630Z",
     "start_time": "2019-09-04T20:25:58.498936Z"
    }
   },
   "outputs": [
    {
     "data": {
      "text/plain": [
       "(torch.Size([40, 3, 3, 3]), True)"
      ]
     },
     "execution_count": 70,
     "metadata": {},
     "output_type": "execute_result"
    }
   ],
   "source": [
    "p_dict['weight'].shape, p_dict['weight'].requires_grad"
   ]
  },
  {
   "cell_type": "code",
   "execution_count": 71,
   "metadata": {
    "ExecuteTime": {
     "end_time": "2019-09-04T20:25:58.520534Z",
     "start_time": "2019-09-04T20:25:58.510523Z"
    }
   },
   "outputs": [],
   "source": [
    "old_weight = p_dict['weight'].detach()"
   ]
  },
  {
   "cell_type": "code",
   "execution_count": 72,
   "metadata": {
    "ExecuteTime": {
     "end_time": "2019-09-04T20:25:58.532001Z",
     "start_time": "2019-09-04T20:25:58.521422Z"
    }
   },
   "outputs": [
    {
     "data": {
      "text/plain": [
       "(torch.Size([40, 3, 3, 3]), False)"
      ]
     },
     "execution_count": 72,
     "metadata": {},
     "output_type": "execute_result"
    }
   ],
   "source": [
    "old_weight.shape, old_weight.requires_grad"
   ]
  },
  {
   "cell_type": "code",
   "execution_count": 73,
   "metadata": {
    "ExecuteTime": {
     "end_time": "2019-09-04T20:25:58.542960Z",
     "start_time": "2019-09-04T20:25:58.532914Z"
    }
   },
   "outputs": [],
   "source": [
    "new_weight = torch.cat((old_weight, old_weight), dim=1)"
   ]
  },
  {
   "cell_type": "code",
   "execution_count": 74,
   "metadata": {
    "ExecuteTime": {
     "end_time": "2019-09-04T20:25:58.554425Z",
     "start_time": "2019-09-04T20:25:58.543963Z"
    }
   },
   "outputs": [
    {
     "data": {
      "text/plain": [
       "(torch.Size([40, 6, 3, 3]), False)"
      ]
     },
     "execution_count": 74,
     "metadata": {},
     "output_type": "execute_result"
    }
   ],
   "source": [
    "new_weight.shape, new_weight.requires_grad"
   ]
  },
  {
   "cell_type": "code",
   "execution_count": 75,
   "metadata": {
    "ExecuteTime": {
     "end_time": "2019-09-04T20:25:58.567002Z",
     "start_time": "2019-09-04T20:25:58.555451Z"
    }
   },
   "outputs": [],
   "source": [
    "def show_input_stage_weights(weight=None, nrows=2, ncols=3):\n",
    "    fig, ax = plt.subplots(nrows=nrows, ncols=ncols)\n",
    "    k = 0\n",
    "    for i in range(nrows):\n",
    "        for j in range(ncols):\n",
    "            if nrows > 1:\n",
    "                ax[i,j].set_title(k)\n",
    "                ax[i,j].imshow(weight[0][k])\n",
    "                ax[i,j].axis(\"off\")\n",
    "            else:\n",
    "                ax[j].set_title(k)\n",
    "                ax[j].imshow(weight[0][k])\n",
    "                ax[j].axis(\"off\")\n",
    "            k += 1"
   ]
  },
  {
   "cell_type": "code",
   "execution_count": 76,
   "metadata": {
    "ExecuteTime": {
     "end_time": "2019-09-04T20:25:58.577704Z",
     "start_time": "2019-09-04T20:25:58.568002Z"
    }
   },
   "outputs": [],
   "source": [
    "# plot old_weight\n",
    "#show_input_stage_weights(old_weight, nrows=1)"
   ]
  },
  {
   "cell_type": "code",
   "execution_count": 77,
   "metadata": {
    "ExecuteTime": {
     "end_time": "2019-09-04T20:25:58.588402Z",
     "start_time": "2019-09-04T20:25:58.578746Z"
    }
   },
   "outputs": [],
   "source": [
    "# plot new_weight\n",
    "#show_input_stage_weights(new_weight)"
   ]
  },
  {
   "cell_type": "code",
   "execution_count": 78,
   "metadata": {
    "ExecuteTime": {
     "end_time": "2019-09-04T20:25:58.599821Z",
     "start_time": "2019-09-04T20:25:58.589394Z"
    }
   },
   "outputs": [],
   "source": [
    "# replace first conv layer with a 6-channel version\n",
    "efficientnet_f._conv_stem = utils.Conv2dStaticSamePadding(6, 40, kernel_size=(3, 3),\n",
    "                                                          stride=(2, 2), bias=False, image_size=300)"
   ]
  },
  {
   "cell_type": "code",
   "execution_count": 79,
   "metadata": {
    "ExecuteTime": {
     "end_time": "2019-09-04T20:25:58.611401Z",
     "start_time": "2019-09-04T20:25:58.600816Z"
    }
   },
   "outputs": [
    {
     "data": {
      "text/plain": [
       "Conv2dStaticSamePadding(\n",
       "  6, 40, kernel_size=(3, 3), stride=(2, 2), bias=False\n",
       "  (static_padding): ZeroPad2d(padding=(0, 1, 0, 1), value=0.0)\n",
       ")"
      ]
     },
     "execution_count": 79,
     "metadata": {},
     "output_type": "execute_result"
    }
   ],
   "source": [
    "efficientnet_f._conv_stem"
   ]
  },
  {
   "cell_type": "code",
   "execution_count": 80,
   "metadata": {
    "ExecuteTime": {
     "end_time": "2019-09-04T20:25:58.622929Z",
     "start_time": "2019-09-04T20:25:58.612433Z"
    }
   },
   "outputs": [
    {
     "data": {
      "text/plain": [
       "torch.Size([40, 6, 3, 3])"
      ]
     },
     "execution_count": 80,
     "metadata": {},
     "output_type": "execute_result"
    }
   ],
   "source": [
    "efficientnet_f._conv_stem.weight.shape"
   ]
  },
  {
   "cell_type": "code",
   "execution_count": 81,
   "metadata": {
    "ExecuteTime": {
     "end_time": "2019-09-04T20:25:58.636204Z",
     "start_time": "2019-09-04T20:25:58.625484Z"
    }
   },
   "outputs": [],
   "source": [
    "# set new_weights to nn.Parameter and overwrite it in the conv layer\n",
    "efficientnet_f._conv_stem.weight = nn.Parameter(new_weight) # hand over requires_grad False?"
   ]
  },
  {
   "cell_type": "code",
   "execution_count": 82,
   "metadata": {
    "ExecuteTime": {
     "end_time": "2019-09-04T20:25:58.647150Z",
     "start_time": "2019-09-04T20:25:58.637210Z"
    }
   },
   "outputs": [],
   "source": [
    "# check if weight was loaded properly\n",
    "assert torch.allclose(new_weight, efficientnet_f._conv_stem.weight)"
   ]
  },
  {
   "cell_type": "code",
   "execution_count": 83,
   "metadata": {
    "ExecuteTime": {
     "end_time": "2019-09-04T20:25:58.658776Z",
     "start_time": "2019-09-04T20:25:58.648175Z"
    }
   },
   "outputs": [
    {
     "data": {
      "text/plain": [
       "(torch.Size([40, 6, 3, 3]), True)"
      ]
     },
     "execution_count": 83,
     "metadata": {},
     "output_type": "execute_result"
    }
   ],
   "source": [
    "efficientnet_f._conv_stem.weight.shape, efficientnet_f._conv_stem.weight.requires_grad"
   ]
  },
  {
   "cell_type": "code",
   "execution_count": 84,
   "metadata": {
    "ExecuteTime": {
     "end_time": "2019-09-04T20:25:58.669130Z",
     "start_time": "2019-09-04T20:25:58.659797Z"
    }
   },
   "outputs": [],
   "source": [
    "# network is in full train mode!\n",
    "#[p.requires_grad for p in efficientnet_b3f.parameters()]"
   ]
  },
  {
   "cell_type": "code",
   "execution_count": 85,
   "metadata": {
    "ExecuteTime": {
     "end_time": "2019-09-04T20:25:58.680240Z",
     "start_time": "2019-09-04T20:25:58.670126Z"
    }
   },
   "outputs": [],
   "source": [
    "def set_rg(model=efficientnet_f, option=False):\n",
    "    for param in model.parameters():\n",
    "        param.requires_grad = option"
   ]
  },
  {
   "cell_type": "code",
   "execution_count": 86,
   "metadata": {
    "ExecuteTime": {
     "end_time": "2019-09-04T20:25:58.691592Z",
     "start_time": "2019-09-04T20:25:58.681286Z"
    }
   },
   "outputs": [],
   "source": [
    "# set requires grad for the efficientnet to false (to later only set it true for the input)\n",
    "# WE WILL NOT DO THIS, because it should be not necessary!\n",
    "set_rg()"
   ]
  },
  {
   "cell_type": "code",
   "execution_count": 87,
   "metadata": {
    "ExecuteTime": {
     "end_time": "2019-09-04T20:25:58.702330Z",
     "start_time": "2019-09-04T20:25:58.692567Z"
    }
   },
   "outputs": [],
   "source": [
    "# network is frozen\n",
    "#[p.requires_grad for p in efficientnet_b4f.parameters()]"
   ]
  },
  {
   "cell_type": "code",
   "execution_count": 88,
   "metadata": {
    "ExecuteTime": {
     "end_time": "2019-09-04T20:25:58.713817Z",
     "start_time": "2019-09-04T20:25:58.703457Z"
    }
   },
   "outputs": [
    {
     "data": {
      "text/plain": [
       "False"
      ]
     },
     "execution_count": 88,
     "metadata": {},
     "output_type": "execute_result"
    }
   ],
   "source": [
    "efficientnet_f._conv_stem.weight.requires_grad"
   ]
  },
  {
   "cell_type": "code",
   "execution_count": 89,
   "metadata": {
    "ExecuteTime": {
     "end_time": "2019-09-04T20:25:58.724160Z",
     "start_time": "2019-09-04T20:25:58.714851Z"
    }
   },
   "outputs": [],
   "source": [
    "# set input stage to trainable\n",
    "#efficientnet_f._conv_stem.weight.requires_grad = True"
   ]
  },
  {
   "cell_type": "code",
   "execution_count": 90,
   "metadata": {
    "ExecuteTime": {
     "end_time": "2019-09-04T20:25:58.734450Z",
     "start_time": "2019-09-04T20:25:58.725191Z"
    }
   },
   "outputs": [],
   "source": [
    "#efficientnet_f._conv_stem.weight.requires_grad"
   ]
  },
  {
   "cell_type": "code",
   "execution_count": 91,
   "metadata": {
    "ExecuteTime": {
     "end_time": "2019-09-04T20:25:58.868506Z",
     "start_time": "2019-09-04T20:25:58.735342Z"
    }
   },
   "outputs": [
    {
     "data": {
      "text/plain": [
       "torch.Size([1, 1536, 9, 9])"
      ]
     },
     "execution_count": 91,
     "metadata": {},
     "output_type": "execute_result"
    }
   ],
   "source": [
    "efficientnet_f(torch.randn(1,6,sz,sz)).shape"
   ]
  },
  {
   "cell_type": "markdown",
   "metadata": {},
   "source": [
    "## EfficientNet Pre-Head"
   ]
  },
  {
   "cell_type": "code",
   "execution_count": 92,
   "metadata": {
    "ExecuteTime": {
     "end_time": "2019-09-04T20:25:58.880922Z",
     "start_time": "2019-09-04T20:25:58.870511Z"
    }
   },
   "outputs": [],
   "source": [
    "def resnet_pre_head(concat_pool:bool=True):\n",
    "    pool = AdaptiveConcatPool2d() if concat_pool else nn.AdaptiveAvgPool2d(1)\n",
    "    layers = [pool, Flatten()]\n",
    "    return nn.Sequential(*layers)"
   ]
  },
  {
   "cell_type": "code",
   "execution_count": 93,
   "metadata": {
    "ExecuteTime": {
     "end_time": "2019-09-04T20:25:58.891867Z",
     "start_time": "2019-09-04T20:25:58.881825Z"
    }
   },
   "outputs": [],
   "source": [
    "efficientnet_f_prehead = resnet_pre_head()"
   ]
  },
  {
   "cell_type": "code",
   "execution_count": 94,
   "metadata": {
    "ExecuteTime": {
     "end_time": "2019-09-04T20:25:58.903170Z",
     "start_time": "2019-09-04T20:25:58.892749Z"
    }
   },
   "outputs": [
    {
     "data": {
      "text/plain": [
       "Sequential(\n",
       "  (0): AdaptiveConcatPool2d(\n",
       "    (ap): AdaptiveAvgPool2d(output_size=1)\n",
       "    (mp): AdaptiveMaxPool2d(output_size=1)\n",
       "  )\n",
       "  (1): Flatten()\n",
       ")"
      ]
     },
     "execution_count": 94,
     "metadata": {},
     "output_type": "execute_result"
    }
   ],
   "source": [
    "efficientnet_f_prehead"
   ]
  },
  {
   "cell_type": "code",
   "execution_count": 95,
   "metadata": {
    "ExecuteTime": {
     "end_time": "2019-09-04T20:25:58.916430Z",
     "start_time": "2019-09-04T20:25:58.904047Z"
    }
   },
   "outputs": [
    {
     "data": {
      "text/plain": [
       "torch.Size([2, 3072])"
      ]
     },
     "execution_count": 95,
     "metadata": {},
     "output_type": "execute_result"
    }
   ],
   "source": [
    "efficientnet_f_prehead(torch.randn(2, 1536, 9, 9)).shape"
   ]
  },
  {
   "cell_type": "code",
   "execution_count": 96,
   "metadata": {
    "ExecuteTime": {
     "end_time": "2019-09-04T20:25:58.927223Z",
     "start_time": "2019-09-04T20:25:58.917389Z"
    }
   },
   "outputs": [],
   "source": [
    "efficientnet_fph = nn.Sequential(efficientnet_f, efficientnet_f_prehead)"
   ]
  },
  {
   "cell_type": "code",
   "execution_count": 97,
   "metadata": {
    "ExecuteTime": {
     "end_time": "2019-09-04T20:25:59.058547Z",
     "start_time": "2019-09-04T20:25:58.928104Z"
    }
   },
   "outputs": [
    {
     "data": {
      "text/plain": [
       "torch.Size([1, 3072])"
      ]
     },
     "execution_count": 97,
     "metadata": {},
     "output_type": "execute_result"
    }
   ],
   "source": [
    "efficientnet_fph(torch.randn(1,6,sz,sz)).shape"
   ]
  },
  {
   "cell_type": "markdown",
   "metadata": {},
   "source": [
    "## CellType & Plate Group Feature Extractor"
   ]
  },
  {
   "cell_type": "code",
   "execution_count": 98,
   "metadata": {
    "ExecuteTime": {
     "end_time": "2019-09-04T20:25:59.070360Z",
     "start_time": "2019-09-04T20:25:59.059460Z"
    }
   },
   "outputs": [
    {
     "data": {
      "text/plain": [
       "26"
      ]
     },
     "execution_count": 98,
     "metadata": {},
     "output_type": "execute_result"
    }
   ],
   "source": [
    "exps = len(set([exp2int[i] for i in exp2int])); exps"
   ]
  },
  {
   "cell_type": "code",
   "execution_count": 99,
   "metadata": {
    "ExecuteTime": {
     "end_time": "2019-09-04T20:25:59.085357Z",
     "start_time": "2019-09-04T20:25:59.071271Z"
    }
   },
   "outputs": [],
   "source": [
    "class CellTypePlateGroupFeatures(nn.Module):\n",
    "    '''CellType Feature Extractor.'''\n",
    "    def __init__(self, cell_types=4, plate_groups=4, exps=exps, emb_sz=128):\n",
    "        super(CellTypePlateGroupFeatures, self).__init__()\n",
    "        self.emb_ctint = nn.Embedding(cell_types, emb_sz)\n",
    "        self.emb_pgint = nn.Embedding(plate_groups, emb_sz)\n",
    "        self.emb_expint = nn.Embedding(exps, emb_sz)\n",
    "        \n",
    "    def forward(self, xb_ctint, xb_pgint, xb_expint, yb=None): # yb=None for training in non-AdaCos mode!\n",
    "        \n",
    "        ### CTINT\n",
    "        # check if we are in CutMix mode:\n",
    "        if isinstance(xb_ctint, tuple):\n",
    "            x1, x2, λ = xb_ctint\n",
    "            out1 = self.emb_ctint(x1)\n",
    "            out2 = self.emb_ctint(x2)\n",
    "            out_ctint = out1 * λ + out2 * (1-λ)\n",
    "        else: # if not CutMix, then normal mode\n",
    "            out_ctint = self.emb_ctint(xb_ctint)\n",
    "        \n",
    "        ## PGINT\n",
    "        # check if we are in CutMix mode:\n",
    "        if isinstance(xb_pgint, tuple):\n",
    "            x1, x2, λ = xb_pgint\n",
    "            out1 = self.emb_pgint(x1)\n",
    "            out2 = self.emb_pgint(x2)\n",
    "            out_pgint = out1 * λ + out2 * (1-λ)\n",
    "        else: # if not CutMix, then normal mode\n",
    "            out_pgint = self.emb_pgint(xb_pgint)\n",
    "            \n",
    "        ## EXPINT\n",
    "        # check if we are in CutMix mode:\n",
    "        if isinstance(xb_expint, tuple):\n",
    "            x1, x2, λ = xb_expint\n",
    "            out1 = self.emb_expint(x1)\n",
    "            out2 = self.emb_expint(x2)\n",
    "            out_expint = out1 * λ + out2 * (1-λ)\n",
    "        else: # if not CutMix, then normal mode\n",
    "            out_expint = self.emb_expint(xb_expint)\n",
    "        \n",
    "        out = torch.cat((out_ctint, out_pgint,  out_expint), dim=-1)\n",
    "        \n",
    "        return out"
   ]
  },
  {
   "cell_type": "code",
   "execution_count": 100,
   "metadata": {
    "ExecuteTime": {
     "end_time": "2019-09-04T20:25:59.096632Z",
     "start_time": "2019-09-04T20:25:59.086259Z"
    }
   },
   "outputs": [],
   "source": [
    "ctf = CellTypePlateGroupFeatures()"
   ]
  },
  {
   "cell_type": "code",
   "execution_count": 101,
   "metadata": {
    "ExecuteTime": {
     "end_time": "2019-09-04T20:25:59.107918Z",
     "start_time": "2019-09-04T20:25:59.097515Z"
    }
   },
   "outputs": [
    {
     "data": {
      "text/plain": [
       "CellTypePlateGroupFeatures(\n",
       "  (emb_ctint): Embedding(4, 128)\n",
       "  (emb_pgint): Embedding(4, 128)\n",
       "  (emb_expint): Embedding(26, 128)\n",
       ")"
      ]
     },
     "execution_count": 101,
     "metadata": {},
     "output_type": "execute_result"
    }
   ],
   "source": [
    "ctf"
   ]
  },
  {
   "cell_type": "code",
   "execution_count": 102,
   "metadata": {
    "ExecuteTime": {
     "end_time": "2019-09-04T20:25:59.119177Z",
     "start_time": "2019-09-04T20:25:59.108795Z"
    }
   },
   "outputs": [],
   "source": [
    "xb = (torch.tensor(ct2int['HEPG2']),\n",
    "      torch.tensor(fn2pgint['train/HEPG2-01/Plate1/B03_s1']),\n",
    "      torch.tensor(exp2int['train/HEPG2-01/Plate1/B03_s1'.split('/')[1]])\n",
    "     )"
   ]
  },
  {
   "cell_type": "code",
   "execution_count": 103,
   "metadata": {
    "ExecuteTime": {
     "end_time": "2019-09-04T20:25:59.130578Z",
     "start_time": "2019-09-04T20:25:59.120060Z"
    }
   },
   "outputs": [
    {
     "data": {
      "text/plain": [
       "(tensor(0), tensor(0), tensor(0))"
      ]
     },
     "execution_count": 103,
     "metadata": {},
     "output_type": "execute_result"
    }
   ],
   "source": [
    "xb"
   ]
  },
  {
   "cell_type": "code",
   "execution_count": 104,
   "metadata": {
    "ExecuteTime": {
     "end_time": "2019-09-04T20:25:59.142189Z",
     "start_time": "2019-09-04T20:25:59.131452Z"
    }
   },
   "outputs": [
    {
     "data": {
      "text/plain": [
       "torch.Size([384])"
      ]
     },
     "execution_count": 104,
     "metadata": {},
     "output_type": "execute_result"
    }
   ],
   "source": [
    "ctf(xb[0], xb[1], xb[2]).shape"
   ]
  },
  {
   "cell_type": "code",
   "execution_count": 105,
   "metadata": {
    "ExecuteTime": {
     "end_time": "2019-09-04T20:25:59.153378Z",
     "start_time": "2019-09-04T20:25:59.143076Z"
    }
   },
   "outputs": [],
   "source": [
    "xb = (torch.tensor((1,3)), torch.tensor((1,3)), torch.tensor((1,3)))"
   ]
  },
  {
   "cell_type": "code",
   "execution_count": 106,
   "metadata": {
    "ExecuteTime": {
     "end_time": "2019-09-04T20:25:59.164870Z",
     "start_time": "2019-09-04T20:25:59.154255Z"
    }
   },
   "outputs": [
    {
     "data": {
      "text/plain": [
       "(tensor([1, 3]), tensor([1, 3]), tensor([1, 3]))"
      ]
     },
     "execution_count": 106,
     "metadata": {},
     "output_type": "execute_result"
    }
   ],
   "source": [
    "xb"
   ]
  },
  {
   "cell_type": "code",
   "execution_count": 107,
   "metadata": {
    "ExecuteTime": {
     "end_time": "2019-09-04T20:25:59.176526Z",
     "start_time": "2019-09-04T20:25:59.165743Z"
    }
   },
   "outputs": [
    {
     "data": {
      "text/plain": [
       "torch.Size([2, 384])"
      ]
     },
     "execution_count": 107,
     "metadata": {},
     "output_type": "execute_result"
    }
   ],
   "source": [
    "ctf(xb[0], xb[1], xb[2]).shape"
   ]
  },
  {
   "cell_type": "code",
   "execution_count": 108,
   "metadata": {
    "ExecuteTime": {
     "end_time": "2019-09-04T20:25:59.187917Z",
     "start_time": "2019-09-04T20:25:59.177399Z"
    }
   },
   "outputs": [
    {
     "data": {
      "text/plain": [
       "(0, 2)"
      ]
     },
     "execution_count": 108,
     "metadata": {},
     "output_type": "execute_result"
    }
   ],
   "source": [
    "ct2int['HEPG2'], ct2int['RPE']"
   ]
  },
  {
   "cell_type": "code",
   "execution_count": 109,
   "metadata": {
    "ExecuteTime": {
     "end_time": "2019-09-04T20:25:59.199268Z",
     "start_time": "2019-09-04T20:25:59.188783Z"
    }
   },
   "outputs": [
    {
     "data": {
      "text/plain": [
       "(0, 0)"
      ]
     },
     "execution_count": 109,
     "metadata": {},
     "output_type": "execute_result"
    }
   ],
   "source": [
    "fn2pgint['train/HEPG2-01/Plate1/B03_s1'], fn2pgint['train/RPE-01/Plate1/B03_s1']"
   ]
  },
  {
   "cell_type": "code",
   "execution_count": 110,
   "metadata": {
    "ExecuteTime": {
     "end_time": "2019-09-04T20:25:59.210681Z",
     "start_time": "2019-09-04T20:25:59.200137Z"
    }
   },
   "outputs": [
    {
     "data": {
      "text/plain": [
       "(0, 19)"
      ]
     },
     "execution_count": 110,
     "metadata": {},
     "output_type": "execute_result"
    }
   ],
   "source": [
    "exp2int['HEPG2-01'], exp2int['RPE-01']"
   ]
  },
  {
   "cell_type": "code",
   "execution_count": 111,
   "metadata": {
    "ExecuteTime": {
     "end_time": "2019-09-04T20:25:59.222135Z",
     "start_time": "2019-09-04T20:25:59.211551Z"
    }
   },
   "outputs": [],
   "source": [
    "xb = ((torch.tensor(ct2int['HEPG2']), torch.tensor(ct2int['RPE']), 0.9),\n",
    "      (torch.tensor(fn2pgint['train/HEPG2-01/Plate1/B03_s1']),\n",
    "       torch.tensor(fn2pgint['train/RPE-01/Plate1/B03_s1']), 0.9),\n",
    "      (torch.tensor(exp2int['HEPG2-01']),\n",
    "       torch.tensor(exp2int['RPE-01']), 0.9))"
   ]
  },
  {
   "cell_type": "code",
   "execution_count": 112,
   "metadata": {
    "ExecuteTime": {
     "end_time": "2019-09-04T20:25:59.233812Z",
     "start_time": "2019-09-04T20:25:59.223035Z"
    }
   },
   "outputs": [
    {
     "data": {
      "text/plain": [
       "torch.Size([384])"
      ]
     },
     "execution_count": 112,
     "metadata": {},
     "output_type": "execute_result"
    }
   ],
   "source": [
    "ctf(xb[0], xb[1], xb[2]).shape"
   ]
  },
  {
   "cell_type": "code",
   "execution_count": 113,
   "metadata": {
    "ExecuteTime": {
     "end_time": "2019-09-04T20:25:59.244422Z",
     "start_time": "2019-09-04T20:25:59.234740Z"
    }
   },
   "outputs": [],
   "source": [
    "#class CellTypeFeatures(nn.Module):\n",
    "#    '''CellType Feature Extractor.'''\n",
    "#    def __init__(self, cell_types=4, emb_sz=128, lin_ftrs:Optional[Collection[int]]=None, nc=128):\n",
    "#        super(AdaCosNet, self).__init__()\n",
    "#        self.emb = nn.Embedding(cell_types, emb_sz)\n",
    "#        \n",
    "#        self.lin_ftrs = [emb_sz, 512, 512] if lin_ftrs is None else [emb_sz] + lin_ftrs + [nc]\n",
    "#\n",
    "#        \n",
    "#    def forward(self, xb, yb=None): # yb=None for training in non-AdaCos mode!\n",
    "#\n",
    "#        return out"
   ]
  },
  {
   "cell_type": "markdown",
   "metadata": {},
   "source": [
    "## AdaCos-Head"
   ]
  },
  {
   "cell_type": "code",
   "execution_count": 114,
   "metadata": {
    "ExecuteTime": {
     "end_time": "2019-09-04T20:25:59.257784Z",
     "start_time": "2019-09-04T20:25:59.245301Z"
    }
   },
   "outputs": [],
   "source": [
    "def create_adacos_head(nf:int, lin_ftrs:Optional[Collection[int]]=None, ps:Floats=0.5,\n",
    "                bn_final:bool=False): # concat_pool:bool=True, nc:int,\n",
    "    \"Model head that takes `nf` features, runs through `lin_ftrs`, and about `nc` classes.\"\n",
    "    \n",
    "    # ADDED TWO MORE 512 LAYERS !!!\n",
    "    lin_ftrs = [nf, 512, 512, 512, 512] if lin_ftrs is None else [nf] + lin_ftrs + [nc]\n",
    "    # remove last 512 fc layer to reduce MODEL SIZE ??? ???\n",
    "    \n",
    "    ps = listify(ps)\n",
    "    if len(ps) == 1: ps = [ps[0]/2] * (len(lin_ftrs)-2) + ps\n",
    "    actns = [nn.ReLU(inplace=True)] * (len(lin_ftrs)-2) + [None]\n",
    "    #pool = AdaptiveConcatPool2d() if concat_pool else nn.AdaptiveAvgPool2d(1)\n",
    "    #layers = [pool, Flatten()]\n",
    "    layers = []\n",
    "    for ni,no,p,actn in zip(lin_ftrs[:-1], lin_ftrs[1:], ps, actns):\n",
    "        layers += bn_drop_lin(ni, no, True, p, actn)\n",
    "    if bn_final: layers.append(nn.BatchNorm1d(lin_ftrs[-1], momentum=0.01))\n",
    "    #layers.append(AdaCos(lin_ftrs[-1], nc))\n",
    "    return nn.Sequential(*layers)"
   ]
  },
  {
   "cell_type": "code",
   "execution_count": 115,
   "metadata": {
    "ExecuteTime": {
     "end_time": "2019-09-04T20:25:59.281896Z",
     "start_time": "2019-09-04T20:25:59.258780Z"
    }
   },
   "outputs": [],
   "source": [
    "#adacos_head = create_adacos_head(nf=2048+1) \n",
    "adacos_head = create_adacos_head(nf=1536*2+128*3)\n",
    "# se_xresnet50f: 2048*2=4096, ctf: 128*3"
   ]
  },
  {
   "cell_type": "code",
   "execution_count": 116,
   "metadata": {
    "ExecuteTime": {
     "end_time": "2019-09-04T20:25:59.293194Z",
     "start_time": "2019-09-04T20:25:59.282901Z"
    }
   },
   "outputs": [
    {
     "data": {
      "text/plain": [
       "Sequential(\n",
       "  (0): BatchNorm1d(3456, eps=1e-05, momentum=0.1, affine=True, track_running_stats=True)\n",
       "  (1): Dropout(p=0.25)\n",
       "  (2): Linear(in_features=3456, out_features=512, bias=True)\n",
       "  (3): ReLU(inplace)\n",
       "  (4): BatchNorm1d(512, eps=1e-05, momentum=0.1, affine=True, track_running_stats=True)\n",
       "  (5): Dropout(p=0.25)\n",
       "  (6): Linear(in_features=512, out_features=512, bias=True)\n",
       "  (7): ReLU(inplace)\n",
       "  (8): BatchNorm1d(512, eps=1e-05, momentum=0.1, affine=True, track_running_stats=True)\n",
       "  (9): Dropout(p=0.25)\n",
       "  (10): Linear(in_features=512, out_features=512, bias=True)\n",
       "  (11): ReLU(inplace)\n",
       "  (12): BatchNorm1d(512, eps=1e-05, momentum=0.1, affine=True, track_running_stats=True)\n",
       "  (13): Dropout(p=0.5)\n",
       "  (14): Linear(in_features=512, out_features=512, bias=True)\n",
       ")"
      ]
     },
     "execution_count": 116,
     "metadata": {},
     "output_type": "execute_result"
    }
   ],
   "source": [
    "adacos_head"
   ]
  },
  {
   "cell_type": "code",
   "execution_count": 117,
   "metadata": {
    "ExecuteTime": {
     "end_time": "2019-09-04T20:25:59.303794Z",
     "start_time": "2019-09-04T20:25:59.294143Z"
    }
   },
   "outputs": [],
   "source": [
    "#adacos_head"
   ]
  },
  {
   "cell_type": "code",
   "execution_count": 118,
   "metadata": {
    "ExecuteTime": {
     "end_time": "2019-09-04T20:25:59.318722Z",
     "start_time": "2019-09-04T20:25:59.304760Z"
    }
   },
   "outputs": [
    {
     "data": {
      "text/plain": [
       "torch.Size([2, 512])"
      ]
     },
     "execution_count": 118,
     "metadata": {},
     "output_type": "execute_result"
    }
   ],
   "source": [
    "adacos_head(torch.randn(2, 1536*2+128*3)).shape"
   ]
  },
  {
   "cell_type": "code",
   "execution_count": 119,
   "metadata": {
    "ExecuteTime": {
     "end_time": "2019-09-04T20:25:59.337104Z",
     "start_time": "2019-09-04T20:25:59.319655Z"
    }
   },
   "outputs": [],
   "source": [
    "# from https://github.com/4uiiurz1/pytorch-adacos/blob/master/metrics.py\n",
    "class AdaCos(nn.Module):\n",
    "    def __init__(self, num_features, num_classes, m=0.50):\n",
    "        super(AdaCos, self).__init__()\n",
    "        self.num_features = num_features\n",
    "        self.n_classes = num_classes\n",
    "        self.s = math.sqrt(2) * math.log(num_classes - 1)\n",
    "        self.m = m\n",
    "        self.We = nn.Parameter(torch.FloatTensor(num_classes, num_features))\n",
    "        nn.init.xavier_uniform_(self.We)\n",
    "\n",
    "    def forward(self, xb, yb):\n",
    "        \n",
    "        #print(yb.shape)\n",
    "        #pdb.set_trace()\n",
    "        \n",
    "        # normalize features\n",
    "        x = F.normalize(xb)\n",
    "        # normalize weights\n",
    "        W = F.normalize(self.We)\n",
    "        # dot product\n",
    "        logits = F.linear(x, W)\n",
    "        \n",
    "        # for training in non-AdaCos mode (= no yb date in the forward pass):\n",
    "        if yb is None:\n",
    "            print('yb = None')\n",
    "            return logits\n",
    "        \n",
    "        # feature re-scale\n",
    "        theta = torch.acos(torch.clamp(logits, -1.0 + 1e-7, 1.0 - 1e-7))\n",
    "        one_hot = torch.zeros_like(logits)\n",
    "        \n",
    "        # ORIGINAL\n",
    "        #one_hot.scatter_(1, yb.view(-1, 1).long(), 1)\n",
    "        #with torch.no_grad():\n",
    "        #    B_avg = torch.where(one_hot < 1, torch.exp(self.s * logits), torch.zeros_like(logits))\n",
    "        #    B_avg = torch.sum(B_avg) / xb.size(0)\n",
    "        #    #print(B_avg)\n",
    "        #    theta_med = torch.median(theta[one_hot == 1])\n",
    "        #    self.s = torch.log(B_avg) / torch.cos(torch.min(math.pi/4 * torch.ones_like(theta_med), theta_med))\n",
    "        #    #print(self.s)\n",
    "            \n",
    "        # ADAPTED FOR CUTMIX TO GET MIXED SCALE PARAMETER\n",
    "        with torch.no_grad():\n",
    "            # FROM nb_new_data_augmentation_adacos2.py LINE 888\n",
    "            # AND https://github.com/fastai/fastai/blob/master/fastai/callbacks/mixup.py#L40\n",
    "            if yb.ndim == 2:# and target.shape[-1] >1:\n",
    "                n_mod_patches = (yb.shape[-1] - 1) // 2\n",
    "                #c_ = yb[:, 1:n_mod_patches + 1]\n",
    "                c_ = yb[:, 0:n_mod_patches + 1]\n",
    "                W_ = yb[:, n_mod_patches + 1:]\n",
    "                self.s_scaled = []\n",
    "                \n",
    "                # this loop is only realdy needed when we have different probabilities inside a batch\n",
    "                # which we do not have (right now)! So this could be cleaned up, but we leave until\n",
    "                # we know we will not need the case with different probabilities in a batch.\n",
    "                for k in range(n_mod_patches+1):\n",
    "                    yb_new = c_[:, k].long()\n",
    "                    #pdb.set_trace()\n",
    "                    \n",
    "                    one_hot.scatter_(1, yb_new.view(-1,1).long(), 1)\n",
    "                    \n",
    "                    B_avg = torch.where(one_hot < 1, torch.exp(self.s * logits), torch.zeros_like(logits))\n",
    "                    B_avg = torch.sum(B_avg) / xb.size(0)\n",
    "                    theta_med = torch.median(theta[one_hot == 1])\n",
    "                    self.s = torch.log(B_avg) / torch.cos(torch.min(math.pi/4 * torch.ones_like(theta_med), theta_med))\n",
    "                    \n",
    "                    if k+1 == len(range(n_mod_patches+1)):\n",
    "                        #self.s_scaled.append((1-W_[:, k-1]) * self.s)\n",
    "                        self.s_scaled.append((1-W_[0, k-1]) * self.s)\n",
    "                        # For more than two the sum of W_[:, :k] has to be used!!!\n",
    "                    else:\n",
    "                        #self.s_scaled.append(W_[:, k] * self.s)\n",
    "                        self.s_scaled.append(W_[0, k] * self.s)\n",
    "                    # Mixed B_avg & self.s and single are not really far off, but now we have it coded\n",
    "                    # se we keep it (until it breaks something later).\n",
    "                self.s = torch.add(*self.s_scaled)\n",
    "                # Clean up, self.s_scaled is just a vector with the same entry multiple times\n",
    "                # when it is not indexed above with W_[0,... !\n",
    "            else:\n",
    "                one_hot.scatter_(1, yb.view(-1,1).long(), 1)\n",
    "                B_avg = torch.where(one_hot < 1, torch.exp(self.s * logits), torch.zeros_like(logits))\n",
    "                B_avg = torch.sum(B_avg) / xb.size(0)\n",
    "                theta_med = torch.median(theta[one_hot == 1])\n",
    "                self.s = torch.log(B_avg) / torch.cos(torch.min(math.pi/4 * torch.ones_like(theta_med), theta_med))\n",
    "        \n",
    "        output = self.s * logits\n",
    "\n",
    "        return output"
   ]
  },
  {
   "cell_type": "code",
   "execution_count": null,
   "metadata": {},
   "outputs": [],
   "source": []
  },
  {
   "cell_type": "code",
   "execution_count": null,
   "metadata": {},
   "outputs": [],
   "source": []
  },
  {
   "cell_type": "code",
   "execution_count": null,
   "metadata": {},
   "outputs": [],
   "source": []
  },
  {
   "cell_type": "code",
   "execution_count": 219,
   "metadata": {
    "ExecuteTime": {
     "end_time": "2019-09-04T21:33:42.906844Z",
     "start_time": "2019-09-04T21:33:42.887389Z"
    }
   },
   "outputs": [],
   "source": [
    "# from https://github.com/4uiiurz1/pytorch-adacos/blob/master/metrics.py\n",
    "class AdaCos(nn.Module):\n",
    "    def __init__(self, num_features, num_classes, m=0.50):\n",
    "        super(AdaCos, self).__init__()\n",
    "        self.num_features = num_features\n",
    "        self.n_classes = num_classes\n",
    "        self.s = math.sqrt(2) * math.log(num_classes - 1)\n",
    "        self.m = m\n",
    "        self.W = nn.Parameter(torch.FloatTensor(num_classes, num_features))\n",
    "        nn.init.xavier_uniform_(self.W)\n",
    "\n",
    "    def forward(self, xb, yb):\n",
    "        \n",
    "        #print(yb.shape)\n",
    "        #pdb.set_trace()\n",
    "        \n",
    "        # normalize features\n",
    "        x = F.normalize(xb)\n",
    "        # normalize weights\n",
    "        W = F.normalize(self.W)\n",
    "        # dot product\n",
    "        logits = F.linear(x, W)\n",
    "        \n",
    "        # for training in non-AdaCos mode (= no yb date in the forward pass):\n",
    "        if yb is None:\n",
    "            print('yb = None')\n",
    "            return logits\n",
    "        \n",
    "        # feature re-scale\n",
    "        theta = torch.acos(torch.clamp(logits, -1.0 + 1e-7, 1.0 - 1e-7))\n",
    "        one_hot = torch.zeros_like(logits)\n",
    "        \n",
    "        # ORIGINAL\n",
    "        #one_hot.scatter_(1, yb.view(-1, 1).long(), 1)\n",
    "        #with torch.no_grad():\n",
    "        #    B_avg = torch.where(one_hot < 1, torch.exp(self.s * logits), torch.zeros_like(logits))\n",
    "        #    B_avg = torch.sum(B_avg) / xb.size(0)\n",
    "        #    #print(B_avg)\n",
    "        #    theta_med = torch.median(theta[one_hot == 1])\n",
    "        #    self.s = torch.log(B_avg) / torch.cos(torch.min(math.pi/4 * torch.ones_like(theta_med), theta_med))\n",
    "        #    #print(self.s)\n",
    "            \n",
    "        # ADAPTED FOR CUTMIX TO GET MIXED SCALE PARAMETER\n",
    "        with torch.no_grad():\n",
    "            # FROM nb_new_data_augmentation_adacos2.py LINE 888\n",
    "            # AND https://github.com/fastai/fastai/blob/master/fastai/callbacks/mixup.py#L40\n",
    "            if yb.ndim == 2:# and target.shape[-1] >1:\n",
    "                n_mod_patches = (yb.shape[-1] - 1) // 2\n",
    "                #c_ = yb[:, 1:n_mod_patches + 1]\n",
    "                c_ = yb[:, 0:n_mod_patches + 1]\n",
    "                W_ = yb[:, n_mod_patches + 1:]\n",
    "                self.s_scaled = []\n",
    "                \n",
    "                # this loop is only realdy needed when we have different probabilities inside a batch\n",
    "                # which we do not have (right now)! So this could be cleaned up, but we leave until\n",
    "                # we know we will not need the case with different probabilities in a batch.\n",
    "                for k in range(n_mod_patches+1):\n",
    "                    yb_new = c_[:, k].long()\n",
    "                    #pdb.set_trace()\n",
    "                    \n",
    "                    one_hot.scatter_(1, yb_new.view(-1,1).long(), 1)\n",
    "                    \n",
    "                    B_avg = torch.where(one_hot < 1, torch.exp(self.s * logits), torch.zeros_like(logits))\n",
    "                    B_avg = torch.sum(B_avg) / xb.size(0)\n",
    "                    theta_med = torch.median(theta[one_hot == 1])\n",
    "                    self.s = torch.log(B_avg) / torch.cos(torch.min(math.pi/4 * torch.ones_like(theta_med), theta_med))\n",
    "                    \n",
    "                    if k+1 == len(range(n_mod_patches+1)):\n",
    "                        #self.s_scaled.append((1-W_[:, k-1]) * self.s)\n",
    "                        self.s_scaled.append((1-W_[0, k-1]) * self.s)\n",
    "                        # For more than two the sum of W_[:, :k] has to be used!!!\n",
    "                    else:\n",
    "                        #self.s_scaled.append(W_[:, k] * self.s)\n",
    "                        self.s_scaled.append(W_[0, k] * self.s)\n",
    "                    # Mixed B_avg & self.s and single are not really far off, but now we have it coded\n",
    "                    # se we keep it (until it breaks something later).\n",
    "                self.s = torch.add(*self.s_scaled)\n",
    "                # Clean up, self.s_scaled is just a vector with the same entry multiple times\n",
    "                # when it is not indexed above with W_[0,... !\n",
    "            else:\n",
    "                one_hot.scatter_(1, yb.view(-1,1).long(), 1)\n",
    "                B_avg = torch.where(one_hot < 1, torch.exp(self.s * logits), torch.zeros_like(logits))\n",
    "                B_avg = torch.sum(B_avg) / xb.size(0)\n",
    "                theta_med = torch.median(theta[one_hot == 1])\n",
    "                self.s = torch.log(B_avg) / torch.cos(torch.min(math.pi/4 * torch.ones_like(theta_med), theta_med))\n",
    "        \n",
    "        output = self.s * logits\n",
    "\n",
    "        return output"
   ]
  },
  {
   "cell_type": "markdown",
   "metadata": {},
   "source": [
    "## Network"
   ]
  },
  {
   "cell_type": "code",
   "execution_count": 221,
   "metadata": {
    "ExecuteTime": {
     "end_time": "2019-09-04T21:33:54.773078Z",
     "start_time": "2019-09-04T21:33:54.759019Z"
    }
   },
   "outputs": [],
   "source": [
    "class AdaCosNet(nn.Module):\n",
    "    '''Simple AdaCosNet connecter to run xb through the feature extractor head\n",
    "    and then feed xb and yb into the AdaCos layer.'''\n",
    "    def __init__(self, body1, body2, head):\n",
    "        super(AdaCosNet, self).__init__()\n",
    "        self.body1 = body1\n",
    "        self.body2 = body2\n",
    "        self.head = head\n",
    "        #self.adacos = AdaCos(512, 1108)\n",
    "        self.adacos = AdaCos(512, 277)\n",
    "        \n",
    "    def forward(self, xb, yb=None): # yb=None for training in non-AdaCos mode!\n",
    "        xb_img, xb_ctint, xb_pgint, xb_expint = xb\n",
    "        resnet_features = self.body1(xb_img)\n",
    "        int_features = self.body2(xb_ctint, xb_pgint, xb_expint)\n",
    "        features = torch.cat((resnet_features, int_features), dim=-1)\n",
    "        out = self.head(features)\n",
    "        #print('xb.shape: ', xb.shape,', yb.shape: ', yb.shape)\n",
    "        out = self.adacos(out, yb)\n",
    "        #print('out: ',out.shape)\n",
    "        #pdb.set_trace()\n",
    "        return out"
   ]
  },
  {
   "cell_type": "code",
   "execution_count": 222,
   "metadata": {
    "ExecuteTime": {
     "end_time": "2019-09-04T21:33:55.787658Z",
     "start_time": "2019-09-04T21:33:55.768751Z"
    }
   },
   "outputs": [],
   "source": [
    "adacos_efficientnet = AdaCosNet(efficientnet_fph, ctf, adacos_head)"
   ]
  },
  {
   "cell_type": "code",
   "execution_count": 223,
   "metadata": {
    "ExecuteTime": {
     "end_time": "2019-09-04T21:33:57.779585Z",
     "start_time": "2019-09-04T21:33:57.752586Z"
    }
   },
   "outputs": [],
   "source": [
    "xb = (torch.randn(2,6,sz,sz),\n",
    "      #(torch.randint(4, (2,1)),  torch.randint(4, (2,1)))\n",
    "      torch.tensor((1,3)), torch.tensor((1,3)), torch.tensor((1,3))\n",
    "     )"
   ]
  },
  {
   "cell_type": "code",
   "execution_count": 224,
   "metadata": {
    "ExecuteTime": {
     "end_time": "2019-09-04T21:33:58.675650Z",
     "start_time": "2019-09-04T21:33:58.615264Z"
    }
   },
   "outputs": [
    {
     "ename": "RuntimeError",
     "evalue": "Input type (torch.FloatTensor) and weight type (torch.cuda.FloatTensor) should be the same",
     "output_type": "error",
     "traceback": [
      "\u001b[0;31m---------------------------------------------------------------------------\u001b[0m",
      "\u001b[0;31mRuntimeError\u001b[0m                              Traceback (most recent call last)",
      "\u001b[0;32m<ipython-input-224-d2ab56851bad>\u001b[0m in \u001b[0;36m<module>\u001b[0;34m\u001b[0m\n\u001b[0;32m----> 1\u001b[0;31m \u001b[0madacos_efficientnet\u001b[0m\u001b[0;34m(\u001b[0m\u001b[0mxb\u001b[0m\u001b[0;34m)\u001b[0m\u001b[0;34m.\u001b[0m\u001b[0mshape\u001b[0m\u001b[0;34m\u001b[0m\u001b[0;34m\u001b[0m\u001b[0m\n\u001b[0m",
      "\u001b[0;32m~/anaconda3/envs/fastai/lib/python3.6/site-packages/torch/nn/modules/module.py\u001b[0m in \u001b[0;36m__call__\u001b[0;34m(self, *input, **kwargs)\u001b[0m\n\u001b[1;32m    491\u001b[0m             \u001b[0mresult\u001b[0m \u001b[0;34m=\u001b[0m \u001b[0mself\u001b[0m\u001b[0;34m.\u001b[0m\u001b[0m_slow_forward\u001b[0m\u001b[0;34m(\u001b[0m\u001b[0;34m*\u001b[0m\u001b[0minput\u001b[0m\u001b[0;34m,\u001b[0m \u001b[0;34m**\u001b[0m\u001b[0mkwargs\u001b[0m\u001b[0;34m)\u001b[0m\u001b[0;34m\u001b[0m\u001b[0;34m\u001b[0m\u001b[0m\n\u001b[1;32m    492\u001b[0m         \u001b[0;32melse\u001b[0m\u001b[0;34m:\u001b[0m\u001b[0;34m\u001b[0m\u001b[0;34m\u001b[0m\u001b[0m\n\u001b[0;32m--> 493\u001b[0;31m             \u001b[0mresult\u001b[0m \u001b[0;34m=\u001b[0m \u001b[0mself\u001b[0m\u001b[0;34m.\u001b[0m\u001b[0mforward\u001b[0m\u001b[0;34m(\u001b[0m\u001b[0;34m*\u001b[0m\u001b[0minput\u001b[0m\u001b[0;34m,\u001b[0m \u001b[0;34m**\u001b[0m\u001b[0mkwargs\u001b[0m\u001b[0;34m)\u001b[0m\u001b[0;34m\u001b[0m\u001b[0;34m\u001b[0m\u001b[0m\n\u001b[0m\u001b[1;32m    494\u001b[0m         \u001b[0;32mfor\u001b[0m \u001b[0mhook\u001b[0m \u001b[0;32min\u001b[0m \u001b[0mself\u001b[0m\u001b[0;34m.\u001b[0m\u001b[0m_forward_hooks\u001b[0m\u001b[0;34m.\u001b[0m\u001b[0mvalues\u001b[0m\u001b[0;34m(\u001b[0m\u001b[0;34m)\u001b[0m\u001b[0;34m:\u001b[0m\u001b[0;34m\u001b[0m\u001b[0;34m\u001b[0m\u001b[0m\n\u001b[1;32m    495\u001b[0m             \u001b[0mhook_result\u001b[0m \u001b[0;34m=\u001b[0m \u001b[0mhook\u001b[0m\u001b[0;34m(\u001b[0m\u001b[0mself\u001b[0m\u001b[0;34m,\u001b[0m \u001b[0minput\u001b[0m\u001b[0;34m,\u001b[0m \u001b[0mresult\u001b[0m\u001b[0;34m)\u001b[0m\u001b[0;34m\u001b[0m\u001b[0;34m\u001b[0m\u001b[0m\n",
      "\u001b[0;32m<ipython-input-221-cfd11cd10fd6>\u001b[0m in \u001b[0;36mforward\u001b[0;34m(self, xb, yb)\u001b[0m\n\u001b[1;32m     11\u001b[0m     \u001b[0;32mdef\u001b[0m \u001b[0mforward\u001b[0m\u001b[0;34m(\u001b[0m\u001b[0mself\u001b[0m\u001b[0;34m,\u001b[0m \u001b[0mxb\u001b[0m\u001b[0;34m,\u001b[0m \u001b[0myb\u001b[0m\u001b[0;34m=\u001b[0m\u001b[0;32mNone\u001b[0m\u001b[0;34m)\u001b[0m\u001b[0;34m:\u001b[0m \u001b[0;31m# yb=None for training in non-AdaCos mode!\u001b[0m\u001b[0;34m\u001b[0m\u001b[0;34m\u001b[0m\u001b[0m\n\u001b[1;32m     12\u001b[0m         \u001b[0mxb_img\u001b[0m\u001b[0;34m,\u001b[0m \u001b[0mxb_ctint\u001b[0m\u001b[0;34m,\u001b[0m \u001b[0mxb_pgint\u001b[0m\u001b[0;34m,\u001b[0m \u001b[0mxb_expint\u001b[0m \u001b[0;34m=\u001b[0m \u001b[0mxb\u001b[0m\u001b[0;34m\u001b[0m\u001b[0;34m\u001b[0m\u001b[0m\n\u001b[0;32m---> 13\u001b[0;31m         \u001b[0mresnet_features\u001b[0m \u001b[0;34m=\u001b[0m \u001b[0mself\u001b[0m\u001b[0;34m.\u001b[0m\u001b[0mbody1\u001b[0m\u001b[0;34m(\u001b[0m\u001b[0mxb_img\u001b[0m\u001b[0;34m)\u001b[0m\u001b[0;34m\u001b[0m\u001b[0;34m\u001b[0m\u001b[0m\n\u001b[0m\u001b[1;32m     14\u001b[0m         \u001b[0mint_features\u001b[0m \u001b[0;34m=\u001b[0m \u001b[0mself\u001b[0m\u001b[0;34m.\u001b[0m\u001b[0mbody2\u001b[0m\u001b[0;34m(\u001b[0m\u001b[0mxb_ctint\u001b[0m\u001b[0;34m,\u001b[0m \u001b[0mxb_pgint\u001b[0m\u001b[0;34m,\u001b[0m \u001b[0mxb_expint\u001b[0m\u001b[0;34m)\u001b[0m\u001b[0;34m\u001b[0m\u001b[0;34m\u001b[0m\u001b[0m\n\u001b[1;32m     15\u001b[0m         \u001b[0mfeatures\u001b[0m \u001b[0;34m=\u001b[0m \u001b[0mtorch\u001b[0m\u001b[0;34m.\u001b[0m\u001b[0mcat\u001b[0m\u001b[0;34m(\u001b[0m\u001b[0;34m(\u001b[0m\u001b[0mresnet_features\u001b[0m\u001b[0;34m,\u001b[0m \u001b[0mint_features\u001b[0m\u001b[0;34m)\u001b[0m\u001b[0;34m,\u001b[0m \u001b[0mdim\u001b[0m\u001b[0;34m=\u001b[0m\u001b[0;34m-\u001b[0m\u001b[0;36m1\u001b[0m\u001b[0;34m)\u001b[0m\u001b[0;34m\u001b[0m\u001b[0;34m\u001b[0m\u001b[0m\n",
      "\u001b[0;32m~/anaconda3/envs/fastai/lib/python3.6/site-packages/torch/nn/modules/module.py\u001b[0m in \u001b[0;36m__call__\u001b[0;34m(self, *input, **kwargs)\u001b[0m\n\u001b[1;32m    491\u001b[0m             \u001b[0mresult\u001b[0m \u001b[0;34m=\u001b[0m \u001b[0mself\u001b[0m\u001b[0;34m.\u001b[0m\u001b[0m_slow_forward\u001b[0m\u001b[0;34m(\u001b[0m\u001b[0;34m*\u001b[0m\u001b[0minput\u001b[0m\u001b[0;34m,\u001b[0m \u001b[0;34m**\u001b[0m\u001b[0mkwargs\u001b[0m\u001b[0;34m)\u001b[0m\u001b[0;34m\u001b[0m\u001b[0;34m\u001b[0m\u001b[0m\n\u001b[1;32m    492\u001b[0m         \u001b[0;32melse\u001b[0m\u001b[0;34m:\u001b[0m\u001b[0;34m\u001b[0m\u001b[0;34m\u001b[0m\u001b[0m\n\u001b[0;32m--> 493\u001b[0;31m             \u001b[0mresult\u001b[0m \u001b[0;34m=\u001b[0m \u001b[0mself\u001b[0m\u001b[0;34m.\u001b[0m\u001b[0mforward\u001b[0m\u001b[0;34m(\u001b[0m\u001b[0;34m*\u001b[0m\u001b[0minput\u001b[0m\u001b[0;34m,\u001b[0m \u001b[0;34m**\u001b[0m\u001b[0mkwargs\u001b[0m\u001b[0;34m)\u001b[0m\u001b[0;34m\u001b[0m\u001b[0;34m\u001b[0m\u001b[0m\n\u001b[0m\u001b[1;32m    494\u001b[0m         \u001b[0;32mfor\u001b[0m \u001b[0mhook\u001b[0m \u001b[0;32min\u001b[0m \u001b[0mself\u001b[0m\u001b[0;34m.\u001b[0m\u001b[0m_forward_hooks\u001b[0m\u001b[0;34m.\u001b[0m\u001b[0mvalues\u001b[0m\u001b[0;34m(\u001b[0m\u001b[0;34m)\u001b[0m\u001b[0;34m:\u001b[0m\u001b[0;34m\u001b[0m\u001b[0;34m\u001b[0m\u001b[0m\n\u001b[1;32m    495\u001b[0m             \u001b[0mhook_result\u001b[0m \u001b[0;34m=\u001b[0m \u001b[0mhook\u001b[0m\u001b[0;34m(\u001b[0m\u001b[0mself\u001b[0m\u001b[0;34m,\u001b[0m \u001b[0minput\u001b[0m\u001b[0;34m,\u001b[0m \u001b[0mresult\u001b[0m\u001b[0;34m)\u001b[0m\u001b[0;34m\u001b[0m\u001b[0;34m\u001b[0m\u001b[0m\n",
      "\u001b[0;32m~/anaconda3/envs/fastai/lib/python3.6/site-packages/torch/nn/modules/container.py\u001b[0m in \u001b[0;36mforward\u001b[0;34m(self, input)\u001b[0m\n\u001b[1;32m     90\u001b[0m     \u001b[0;32mdef\u001b[0m \u001b[0mforward\u001b[0m\u001b[0;34m(\u001b[0m\u001b[0mself\u001b[0m\u001b[0;34m,\u001b[0m \u001b[0minput\u001b[0m\u001b[0;34m)\u001b[0m\u001b[0;34m:\u001b[0m\u001b[0;34m\u001b[0m\u001b[0;34m\u001b[0m\u001b[0m\n\u001b[1;32m     91\u001b[0m         \u001b[0;32mfor\u001b[0m \u001b[0mmodule\u001b[0m \u001b[0;32min\u001b[0m \u001b[0mself\u001b[0m\u001b[0;34m.\u001b[0m\u001b[0m_modules\u001b[0m\u001b[0;34m.\u001b[0m\u001b[0mvalues\u001b[0m\u001b[0;34m(\u001b[0m\u001b[0;34m)\u001b[0m\u001b[0;34m:\u001b[0m\u001b[0;34m\u001b[0m\u001b[0;34m\u001b[0m\u001b[0m\n\u001b[0;32m---> 92\u001b[0;31m             \u001b[0minput\u001b[0m \u001b[0;34m=\u001b[0m \u001b[0mmodule\u001b[0m\u001b[0;34m(\u001b[0m\u001b[0minput\u001b[0m\u001b[0;34m)\u001b[0m\u001b[0;34m\u001b[0m\u001b[0;34m\u001b[0m\u001b[0m\n\u001b[0m\u001b[1;32m     93\u001b[0m         \u001b[0;32mreturn\u001b[0m \u001b[0minput\u001b[0m\u001b[0;34m\u001b[0m\u001b[0;34m\u001b[0m\u001b[0m\n\u001b[1;32m     94\u001b[0m \u001b[0;34m\u001b[0m\u001b[0m\n",
      "\u001b[0;32m~/anaconda3/envs/fastai/lib/python3.6/site-packages/torch/nn/modules/module.py\u001b[0m in \u001b[0;36m__call__\u001b[0;34m(self, *input, **kwargs)\u001b[0m\n\u001b[1;32m    491\u001b[0m             \u001b[0mresult\u001b[0m \u001b[0;34m=\u001b[0m \u001b[0mself\u001b[0m\u001b[0;34m.\u001b[0m\u001b[0m_slow_forward\u001b[0m\u001b[0;34m(\u001b[0m\u001b[0;34m*\u001b[0m\u001b[0minput\u001b[0m\u001b[0;34m,\u001b[0m \u001b[0;34m**\u001b[0m\u001b[0mkwargs\u001b[0m\u001b[0;34m)\u001b[0m\u001b[0;34m\u001b[0m\u001b[0;34m\u001b[0m\u001b[0m\n\u001b[1;32m    492\u001b[0m         \u001b[0;32melse\u001b[0m\u001b[0;34m:\u001b[0m\u001b[0;34m\u001b[0m\u001b[0;34m\u001b[0m\u001b[0m\n\u001b[0;32m--> 493\u001b[0;31m             \u001b[0mresult\u001b[0m \u001b[0;34m=\u001b[0m \u001b[0mself\u001b[0m\u001b[0;34m.\u001b[0m\u001b[0mforward\u001b[0m\u001b[0;34m(\u001b[0m\u001b[0;34m*\u001b[0m\u001b[0minput\u001b[0m\u001b[0;34m,\u001b[0m \u001b[0;34m**\u001b[0m\u001b[0mkwargs\u001b[0m\u001b[0;34m)\u001b[0m\u001b[0;34m\u001b[0m\u001b[0;34m\u001b[0m\u001b[0m\n\u001b[0m\u001b[1;32m    494\u001b[0m         \u001b[0;32mfor\u001b[0m \u001b[0mhook\u001b[0m \u001b[0;32min\u001b[0m \u001b[0mself\u001b[0m\u001b[0;34m.\u001b[0m\u001b[0m_forward_hooks\u001b[0m\u001b[0;34m.\u001b[0m\u001b[0mvalues\u001b[0m\u001b[0;34m(\u001b[0m\u001b[0;34m)\u001b[0m\u001b[0;34m:\u001b[0m\u001b[0;34m\u001b[0m\u001b[0;34m\u001b[0m\u001b[0m\n\u001b[1;32m    495\u001b[0m             \u001b[0mhook_result\u001b[0m \u001b[0;34m=\u001b[0m \u001b[0mhook\u001b[0m\u001b[0;34m(\u001b[0m\u001b[0mself\u001b[0m\u001b[0;34m,\u001b[0m \u001b[0minput\u001b[0m\u001b[0;34m,\u001b[0m \u001b[0mresult\u001b[0m\u001b[0;34m)\u001b[0m\u001b[0;34m\u001b[0m\u001b[0;34m\u001b[0m\u001b[0m\n",
      "\u001b[0;32m<ipython-input-60-9fccead6669c>\u001b[0m in \u001b[0;36mforward\u001b[0;34m(self, inputs)\u001b[0m\n\u001b[1;32m     62\u001b[0m \u001b[0;34m\u001b[0m\u001b[0m\n\u001b[1;32m     63\u001b[0m         \u001b[0;31m# Stem\u001b[0m\u001b[0;34m\u001b[0m\u001b[0;34m\u001b[0m\u001b[0;34m\u001b[0m\u001b[0m\n\u001b[0;32m---> 64\u001b[0;31m         \u001b[0mx\u001b[0m \u001b[0;34m=\u001b[0m \u001b[0mrelu_fn\u001b[0m\u001b[0;34m(\u001b[0m\u001b[0mself\u001b[0m\u001b[0;34m.\u001b[0m\u001b[0m_bn0\u001b[0m\u001b[0;34m(\u001b[0m\u001b[0mself\u001b[0m\u001b[0;34m.\u001b[0m\u001b[0m_conv_stem\u001b[0m\u001b[0;34m(\u001b[0m\u001b[0minputs\u001b[0m\u001b[0;34m)\u001b[0m\u001b[0;34m)\u001b[0m\u001b[0;34m)\u001b[0m\u001b[0;34m\u001b[0m\u001b[0;34m\u001b[0m\u001b[0m\n\u001b[0m\u001b[1;32m     65\u001b[0m \u001b[0;34m\u001b[0m\u001b[0m\n\u001b[1;32m     66\u001b[0m         \u001b[0;31m# Blocks\u001b[0m\u001b[0;34m\u001b[0m\u001b[0;34m\u001b[0m\u001b[0;34m\u001b[0m\u001b[0m\n",
      "\u001b[0;32m~/anaconda3/envs/fastai/lib/python3.6/site-packages/torch/nn/modules/module.py\u001b[0m in \u001b[0;36m__call__\u001b[0;34m(self, *input, **kwargs)\u001b[0m\n\u001b[1;32m    491\u001b[0m             \u001b[0mresult\u001b[0m \u001b[0;34m=\u001b[0m \u001b[0mself\u001b[0m\u001b[0;34m.\u001b[0m\u001b[0m_slow_forward\u001b[0m\u001b[0;34m(\u001b[0m\u001b[0;34m*\u001b[0m\u001b[0minput\u001b[0m\u001b[0;34m,\u001b[0m \u001b[0;34m**\u001b[0m\u001b[0mkwargs\u001b[0m\u001b[0;34m)\u001b[0m\u001b[0;34m\u001b[0m\u001b[0;34m\u001b[0m\u001b[0m\n\u001b[1;32m    492\u001b[0m         \u001b[0;32melse\u001b[0m\u001b[0;34m:\u001b[0m\u001b[0;34m\u001b[0m\u001b[0;34m\u001b[0m\u001b[0m\n\u001b[0;32m--> 493\u001b[0;31m             \u001b[0mresult\u001b[0m \u001b[0;34m=\u001b[0m \u001b[0mself\u001b[0m\u001b[0;34m.\u001b[0m\u001b[0mforward\u001b[0m\u001b[0;34m(\u001b[0m\u001b[0;34m*\u001b[0m\u001b[0minput\u001b[0m\u001b[0;34m,\u001b[0m \u001b[0;34m**\u001b[0m\u001b[0mkwargs\u001b[0m\u001b[0;34m)\u001b[0m\u001b[0;34m\u001b[0m\u001b[0;34m\u001b[0m\u001b[0m\n\u001b[0m\u001b[1;32m    494\u001b[0m         \u001b[0;32mfor\u001b[0m \u001b[0mhook\u001b[0m \u001b[0;32min\u001b[0m \u001b[0mself\u001b[0m\u001b[0;34m.\u001b[0m\u001b[0m_forward_hooks\u001b[0m\u001b[0;34m.\u001b[0m\u001b[0mvalues\u001b[0m\u001b[0;34m(\u001b[0m\u001b[0;34m)\u001b[0m\u001b[0;34m:\u001b[0m\u001b[0;34m\u001b[0m\u001b[0;34m\u001b[0m\u001b[0m\n\u001b[1;32m    495\u001b[0m             \u001b[0mhook_result\u001b[0m \u001b[0;34m=\u001b[0m \u001b[0mhook\u001b[0m\u001b[0;34m(\u001b[0m\u001b[0mself\u001b[0m\u001b[0;34m,\u001b[0m \u001b[0minput\u001b[0m\u001b[0;34m,\u001b[0m \u001b[0mresult\u001b[0m\u001b[0;34m)\u001b[0m\u001b[0;34m\u001b[0m\u001b[0;34m\u001b[0m\u001b[0m\n",
      "\u001b[0;32m~/anaconda3/envs/fastai/lib/python3.6/site-packages/efficientnet_pytorch/utils.py\u001b[0m in \u001b[0;36mforward\u001b[0;34m(self, x)\u001b[0m\n\u001b[1;32m    124\u001b[0m     \u001b[0;32mdef\u001b[0m \u001b[0mforward\u001b[0m\u001b[0;34m(\u001b[0m\u001b[0mself\u001b[0m\u001b[0;34m,\u001b[0m \u001b[0mx\u001b[0m\u001b[0;34m)\u001b[0m\u001b[0;34m:\u001b[0m\u001b[0;34m\u001b[0m\u001b[0;34m\u001b[0m\u001b[0m\n\u001b[1;32m    125\u001b[0m         \u001b[0mx\u001b[0m \u001b[0;34m=\u001b[0m \u001b[0mself\u001b[0m\u001b[0;34m.\u001b[0m\u001b[0mstatic_padding\u001b[0m\u001b[0;34m(\u001b[0m\u001b[0mx\u001b[0m\u001b[0;34m)\u001b[0m\u001b[0;34m\u001b[0m\u001b[0;34m\u001b[0m\u001b[0m\n\u001b[0;32m--> 126\u001b[0;31m         \u001b[0mx\u001b[0m \u001b[0;34m=\u001b[0m \u001b[0mF\u001b[0m\u001b[0;34m.\u001b[0m\u001b[0mconv2d\u001b[0m\u001b[0;34m(\u001b[0m\u001b[0mx\u001b[0m\u001b[0;34m,\u001b[0m \u001b[0mself\u001b[0m\u001b[0;34m.\u001b[0m\u001b[0mweight\u001b[0m\u001b[0;34m,\u001b[0m \u001b[0mself\u001b[0m\u001b[0;34m.\u001b[0m\u001b[0mbias\u001b[0m\u001b[0;34m,\u001b[0m \u001b[0mself\u001b[0m\u001b[0;34m.\u001b[0m\u001b[0mstride\u001b[0m\u001b[0;34m,\u001b[0m \u001b[0mself\u001b[0m\u001b[0;34m.\u001b[0m\u001b[0mpadding\u001b[0m\u001b[0;34m,\u001b[0m \u001b[0mself\u001b[0m\u001b[0;34m.\u001b[0m\u001b[0mdilation\u001b[0m\u001b[0;34m,\u001b[0m \u001b[0mself\u001b[0m\u001b[0;34m.\u001b[0m\u001b[0mgroups\u001b[0m\u001b[0;34m)\u001b[0m\u001b[0;34m\u001b[0m\u001b[0;34m\u001b[0m\u001b[0m\n\u001b[0m\u001b[1;32m    127\u001b[0m         \u001b[0;32mreturn\u001b[0m \u001b[0mx\u001b[0m\u001b[0;34m\u001b[0m\u001b[0;34m\u001b[0m\u001b[0m\n\u001b[1;32m    128\u001b[0m \u001b[0;34m\u001b[0m\u001b[0m\n",
      "\u001b[0;31mRuntimeError\u001b[0m: Input type (torch.FloatTensor) and weight type (torch.cuda.FloatTensor) should be the same"
     ]
    }
   ],
   "source": [
    "adacos_efficientnet(xb).shape"
   ]
  },
  {
   "cell_type": "code",
   "execution_count": 124,
   "metadata": {
    "ExecuteTime": {
     "end_time": "2019-09-04T20:25:59.816584Z",
     "start_time": "2019-09-04T20:25:59.597561Z"
    }
   },
   "outputs": [
    {
     "data": {
      "text/plain": [
       "torch.Size([2, 277])"
      ]
     },
     "execution_count": 124,
     "metadata": {},
     "output_type": "execute_result"
    }
   ],
   "source": [
    "adacos_efficientnet(xb, torch.tensor([276, 1])).shape"
   ]
  },
  {
   "cell_type": "code",
   "execution_count": 125,
   "metadata": {
    "ExecuteTime": {
     "end_time": "2019-09-04T20:25:59.827970Z",
     "start_time": "2019-09-04T20:25:59.817566Z"
    }
   },
   "outputs": [],
   "source": [
    "test_target = torch.tensor(\n",
    "    [[2.4700e+02, 2.3900e+02, 7.8362e-01],\n",
    "     [2.3300e+02, 1.7400e+02, 7.8362e-01],\n",
    "     [1.7400e+02, 1.3400e+02, 7.8362e-01],\n",
    "     [1.9800e+02, 1.4700e+02, 7.8362e-01]])"
   ]
  },
  {
   "cell_type": "code",
   "execution_count": 126,
   "metadata": {
    "ExecuteTime": {
     "end_time": "2019-09-04T20:26:00.245512Z",
     "start_time": "2019-09-04T20:25:59.828904Z"
    }
   },
   "outputs": [
    {
     "data": {
      "text/plain": [
       "torch.Size([4, 277])"
      ]
     },
     "execution_count": 126,
     "metadata": {},
     "output_type": "execute_result"
    }
   ],
   "source": [
    "adacos_efficientnet((torch.randn(4,6,sz,sz), \n",
    "                     torch.tensor((1,3,0,2)), torch.tensor((1,3,0,2)), torch.tensor((1,3,0,2))),\n",
    "                    test_target).shape"
   ]
  },
  {
   "cell_type": "code",
   "execution_count": 127,
   "metadata": {
    "ExecuteTime": {
     "end_time": "2019-09-04T20:26:00.257377Z",
     "start_time": "2019-09-04T20:26:00.246502Z"
    }
   },
   "outputs": [],
   "source": [
    "# Based on https://forums.fast.ai/t/teacher-forcing/29415/4\n",
    "# https://forums.fast.ai/t/on-batch-begin-callback/35201/3\n",
    "@dataclass\n",
    "class AppendBatchTargs(Callback):\n",
    "    learn:Learner\n",
    "    def __init__(self, learn):\n",
    "        super().__init__()\n",
    "    def on_batch_begin(self, last_input, last_target, **kwargs):\n",
    "        return {'last_input':(last_input, last_target), 'last_target':last_target}"
   ]
  },
  {
   "cell_type": "markdown",
   "metadata": {},
   "source": [
    "# Training"
   ]
  },
  {
   "cell_type": "markdown",
   "metadata": {},
   "source": [
    "## EfficientNet"
   ]
  },
  {
   "cell_type": "code",
   "execution_count": 128,
   "metadata": {
    "ExecuteTime": {
     "end_time": "2019-09-04T20:26:00.268158Z",
     "start_time": "2019-09-04T20:26:00.258322Z"
    }
   },
   "outputs": [],
   "source": [
    "#def check_rg(model=learn.model):\n",
    "#    layer_rg = [(n, p.requires_grad) for n,p in model.named_parameters()]\n",
    "#    for i in range(len(layer_rg)):\n",
    "#        print(f'{layer_rg[i][0]}\\t{layer_rg[i][1]}'.expandtabs(45))"
   ]
  },
  {
   "cell_type": "markdown",
   "metadata": {},
   "source": [
    "### Full train"
   ]
  },
  {
   "cell_type": "code",
   "execution_count": 129,
   "metadata": {
    "ExecuteTime": {
     "end_time": "2019-09-04T20:26:00.365243Z",
     "start_time": "2019-09-04T20:26:00.269101Z"
    }
   },
   "outputs": [
    {
     "ename": "NameError",
     "evalue": "name 'xx' is not defined",
     "output_type": "error",
     "traceback": [
      "\u001b[0;31m---------------------------------------------------------------------------\u001b[0m",
      "\u001b[0;31mNameError\u001b[0m                                 Traceback (most recent call last)",
      "\u001b[0;32m<ipython-input-129-ce3af7760f12>\u001b[0m in \u001b[0;36m<module>\u001b[0;34m\u001b[0m\n\u001b[0;32m----> 1\u001b[0;31m \u001b[0mxx\u001b[0m\u001b[0;34m\u001b[0m\u001b[0;34m\u001b[0m\u001b[0m\n\u001b[0m",
      "\u001b[0;31mNameError\u001b[0m: name 'xx' is not defined"
     ]
    }
   ],
   "source": [
    "xx"
   ]
  },
  {
   "cell_type": "code",
   "execution_count": null,
   "metadata": {
    "ExecuteTime": {
     "end_time": "2019-09-04T20:26:00.367042Z",
     "start_time": "2019-09-04T20:25:57.622Z"
    }
   },
   "outputs": [],
   "source": [
    "cts"
   ]
  },
  {
   "cell_type": "code",
   "execution_count": null,
   "metadata": {
    "ExecuteTime": {
     "end_time": "2019-09-04T20:26:00.367735Z",
     "start_time": "2019-09-04T20:25:57.631Z"
    }
   },
   "outputs": [],
   "source": [
    "# pg0 for 'HEPG2', 'HUVEC', 'RPE ==> OK"
   ]
  },
  {
   "cell_type": "code",
   "execution_count": null,
   "metadata": {
    "ExecuteTime": {
     "end_time": "2019-09-04T20:26:00.368434Z",
     "start_time": "2019-09-04T20:25:57.639Z"
    }
   },
   "outputs": [],
   "source": [
    "for pg in range(4):\n",
    "    for ct in cts:\n",
    "        print(' === ', pg ,' === ', ct , ' === ')\n",
    "        if ct == 'U2OS': continue \n",
    "        # U2OS training is super instable, therefore, we train it later alone!\n",
    "\n",
    "        # VALID SPLIT (incl. tfms)\n",
    "        data = (ImageList6Dct.from_df(df_train[(df_train['pg'] == pg) & (df_train['celltype'] == ct)], path='train')\n",
    "        .split_none() # !!!\n",
    "        .label_from_df(cols=-5)\n",
    "        #.add_test(ImageList6Dct.from_df(df_test[(df_test['pg'] == pg) & (df_test['celltype'] == ct)], path='test'))\n",
    "        .transform(tfms, size=sz)\n",
    "        .databunch(bs=bs))\n",
    "        \n",
    "        data.normalize([stats_mean, stats_var]);\n",
    "        \n",
    "        learn = Learner(data, adacos_efficientnet, metrics=[accuracy], callback_fns=[CSVLogger, AppendBatchTargs])\n",
    "        learn.load('effnet/adacos_efficientnet_b3_ct_pg_exp_Pre060e050pg'+str(pg)+'e100'+ct+'_FULL_025_190903');\n",
    "        learn.unfreeze()\n",
    "        learn.fit_one_cycle(25, max_lr=1e-4)\n",
    "        learn.save('effnet/adacos_efficientnet_b3_ct_pg_exp_Pre060e050pg'+str(pg)+'e100'+ct+'_FULL_050_190904');\n",
    "        \n",
    "        print('')\n",
    "        "
   ]
  },
  {
   "cell_type": "markdown",
   "metadata": {},
   "source": [
    "### Shapes"
   ]
  },
  {
   "cell_type": "code",
   "execution_count": null,
   "metadata": {
    "ExecuteTime": {
     "end_time": "2019-09-04T20:26:00.369163Z",
     "start_time": "2019-09-04T20:25:57.649Z"
    }
   },
   "outputs": [],
   "source": [
    "for pg in range(4):\n",
    "    for ct in cts:\n",
    "        print(' === ', pg ,' === ', ct , ' === ')\n",
    "        print('train: ', df_train[(df_train['pg'] == pg) & (df_train['celltype'] == ct)].shape)"
   ]
  },
  {
   "cell_type": "markdown",
   "metadata": {},
   "source": [
    "### Train pg & ct #1"
   ]
  },
  {
   "cell_type": "code",
   "execution_count": null,
   "metadata": {
    "ExecuteTime": {
     "end_time": "2019-09-04T20:26:00.369892Z",
     "start_time": "2019-09-04T20:25:57.659Z"
    }
   },
   "outputs": [],
   "source": [
    "for pg in range(4):\n",
    "    for ct in cts:\n",
    "        print(' === ', pg ,' === ', ct , ' === ')\n",
    "\n",
    "        # VALID SPLIT (incl. tfms)\n",
    "        data = (ImageList6Dct.from_df(df_train[(df_train['pg'] == pg) & (df_train['celltype'] == ct)], path='train')\n",
    "        .split_from_df(col=-3) # FULL: .split_none() # !!!\n",
    "        .label_from_df(cols=-5)\n",
    "        #.add_test(ImageList6Dct.from_df(df_test[(df_test['pg'] == pg) & (df_test['celltype'] == ct)], path='test'))\n",
    "        .transform(tfms, size=sz)\n",
    "        .databunch(bs=bs))\n",
    "        \n",
    "        data.normalize([stats_mean, stats_var]);\n",
    "        \n",
    "        learn = Learner(data, adacos_efficientnet, metrics=[accuracy], callback_fns=[CSVLogger, AppendBatchTargs])\n",
    "        learn.load('effnet/adacos_efficientnet_b3_ct_pg_exp_Pre060e050pg'+str(pg)+'e100_190901');\n",
    "        learn.unfreeze()\n",
    "        learn.fit_one_cycle(25, max_lr=1e-4)\n",
    "        learn.save('effnet/adacos_efficientnet_b3_ct_pg_exp_Pre060e050pg'+str(pg)+'e100'+ct+'025_190903');\n",
    "        \n",
    "        print('')\n",
    "        "
   ]
  },
  {
   "cell_type": "code",
   "execution_count": null,
   "metadata": {
    "ExecuteTime": {
     "end_time": "2019-09-04T20:26:00.370613Z",
     "start_time": "2019-09-04T20:25:57.668Z"
    }
   },
   "outputs": [],
   "source": [
    "xx"
   ]
  },
  {
   "cell_type": "code",
   "execution_count": null,
   "metadata": {
    "ExecuteTime": {
     "end_time": "2019-09-04T20:26:00.371337Z",
     "start_time": "2019-09-04T20:25:57.676Z"
    }
   },
   "outputs": [],
   "source": [
    "df_train[(df_train['pg'] == 0) & (df_train['celltype'] == 'HEPG2')].shape"
   ]
  },
  {
   "cell_type": "markdown",
   "metadata": {},
   "source": [
    "# Submission"
   ]
  },
  {
   "cell_type": "markdown",
   "metadata": {
    "heading_collapsed": true
   },
   "source": [
    "## Classifcation"
   ]
  },
  {
   "cell_type": "code",
   "execution_count": null,
   "metadata": {
    "ExecuteTime": {
     "end_time": "2019-09-04T20:26:00.372056Z",
     "start_time": "2019-09-04T20:25:57.687Z"
    },
    "hidden": true
   },
   "outputs": [],
   "source": [
    "learn.load('resnet50/adacos_se_xresnet50c_val-split-v2_128e040-256e106CMe110_20190729');"
   ]
  },
  {
   "cell_type": "code",
   "execution_count": null,
   "metadata": {
    "ExecuteTime": {
     "end_time": "2019-09-04T20:26:00.372774Z",
     "start_time": "2019-09-04T20:25:57.695Z"
    },
    "hidden": true
   },
   "outputs": [],
   "source": [
    "# get prediction of test dataset\n",
    "preds, _ = learn.get_preds(ds_type=DatasetType.Test)"
   ]
  },
  {
   "cell_type": "code",
   "execution_count": null,
   "metadata": {
    "ExecuteTime": {
     "end_time": "2019-09-04T20:26:00.373489Z",
     "start_time": "2019-09-04T20:25:57.703Z"
    },
    "hidden": true
   },
   "outputs": [],
   "source": [
    "# check length\n",
    "len(preds)"
   ]
  },
  {
   "cell_type": "code",
   "execution_count": null,
   "metadata": {
    "ExecuteTime": {
     "end_time": "2019-09-04T20:26:00.374202Z",
     "start_time": "2019-09-04T20:25:57.711Z"
    },
    "hidden": true
   },
   "outputs": [],
   "source": [
    "# get the categories\n",
    "preds_cat = preds.argmax(dim=-1)"
   ]
  },
  {
   "cell_type": "code",
   "execution_count": null,
   "metadata": {
    "ExecuteTime": {
     "end_time": "2019-09-04T20:26:00.374900Z",
     "start_time": "2019-09-04T20:25:57.720Z"
    },
    "hidden": true
   },
   "outputs": [],
   "source": [
    "# get the names\n",
    "preds_names = learn.data.test_ds.x.items"
   ]
  },
  {
   "cell_type": "code",
   "execution_count": null,
   "metadata": {
    "ExecuteTime": {
     "end_time": "2019-09-04T20:26:00.375634Z",
     "start_time": "2019-09-04T20:25:57.728Z"
    },
    "hidden": true
   },
   "outputs": [],
   "source": [
    "# without site\n",
    "#preds_names = [x.split('/')[1]+'_'+x.split('/')[2][-1]+'_'+x.split('/')[3][:3] for x in preds_names]\n",
    "\n",
    "# with site\n",
    "preds_names = [x.split('/')[1]+'_'+x.split('/')[2][-1]+'_'+x.split('/')[3] for x in preds_names]"
   ]
  },
  {
   "cell_type": "code",
   "execution_count": null,
   "metadata": {
    "ExecuteTime": {
     "end_time": "2019-09-04T20:26:00.376352Z",
     "start_time": "2019-09-04T20:25:57.736Z"
    },
    "hidden": true
   },
   "outputs": [],
   "source": [
    "df_preds = pd.DataFrame({'id_code_site': preds_names, 'sirna': preds_cat})"
   ]
  },
  {
   "cell_type": "code",
   "execution_count": null,
   "metadata": {
    "ExecuteTime": {
     "end_time": "2019-09-04T20:26:00.377064Z",
     "start_time": "2019-09-04T20:25:57.743Z"
    },
    "hidden": true
   },
   "outputs": [],
   "source": [
    "# get id_code without site\n",
    "df_preds['id_code'] = df_preds['id_code_site'].apply(lambda x: x[:-3])"
   ]
  },
  {
   "cell_type": "code",
   "execution_count": null,
   "metadata": {
    "ExecuteTime": {
     "end_time": "2019-09-04T20:26:00.377789Z",
     "start_time": "2019-09-04T20:25:57.751Z"
    },
    "hidden": true
   },
   "outputs": [],
   "source": [
    "# get row indices with the same/not the same the prediction for both sites\n",
    "idx = [] # indices with the same prediction\n",
    "idx_notsame = [] # indices with not the same prediction\n",
    "for i, r in enumerate(df_preds.sort_values('id_code').iterrows()):\n",
    "    if i % 2:\n",
    "        # distance from row 2 is \n",
    "        if pred == r[1]['sirna']:\n",
    "            idx.append(r[0])\n",
    "        else:\n",
    "            #idx.append(r[0]) # always append idx until we come up with something better\n",
    "            idx.append(idx_row_before)\n",
    "            idx_notsame.append(idx_row_before) # get the first rows of the pairs that are not the same\n",
    "    else:\n",
    "        # save dist from row 1 for comparison in next iteration\n",
    "        pred = r[1]['sirna']\n",
    "        idx_row_before = r[0]"
   ]
  },
  {
   "cell_type": "code",
   "execution_count": null,
   "metadata": {
    "ExecuteTime": {
     "end_time": "2019-09-04T20:26:00.378502Z",
     "start_time": "2019-09-04T20:25:57.758Z"
    },
    "hidden": true
   },
   "outputs": [],
   "source": [
    "len(idx), len(idx_notsame)"
   ]
  },
  {
   "cell_type": "code",
   "execution_count": null,
   "metadata": {
    "ExecuteTime": {
     "end_time": "2019-09-04T20:26:00.379220Z",
     "start_time": "2019-09-04T20:25:57.765Z"
    },
    "hidden": true
   },
   "outputs": [],
   "source": [
    "idx[:5]"
   ]
  },
  {
   "cell_type": "code",
   "execution_count": null,
   "metadata": {
    "ExecuteTime": {
     "end_time": "2019-09-04T20:26:00.379936Z",
     "start_time": "2019-09-04T20:25:57.772Z"
    },
    "hidden": true
   },
   "outputs": [],
   "source": [
    "df_preds.sort_values('id_code').head(10)"
   ]
  },
  {
   "cell_type": "code",
   "execution_count": null,
   "metadata": {
    "ExecuteTime": {
     "end_time": "2019-09-04T20:26:00.380651Z",
     "start_time": "2019-09-04T20:25:57.779Z"
    },
    "hidden": true
   },
   "outputs": [],
   "source": [
    "#df_preds.loc[idx,['id_code','sirna']]"
   ]
  },
  {
   "cell_type": "code",
   "execution_count": null,
   "metadata": {
    "hidden": true
   },
   "outputs": [],
   "source": []
  },
  {
   "cell_type": "code",
   "execution_count": null,
   "metadata": {
    "ExecuteTime": {
     "end_time": "2019-09-04T20:26:00.381370Z",
     "start_time": "2019-09-04T20:25:57.794Z"
    },
    "hidden": true
   },
   "outputs": [],
   "source": [
    "# 'effnet/adacos_efficientnet_b3_e080CM112_190805'\n",
    "model = 'metriclearn_efficientnet_b3_e080CM112_190805'"
   ]
  },
  {
   "cell_type": "code",
   "execution_count": null,
   "metadata": {
    "ExecuteTime": {
     "end_time": "2019-09-04T20:26:00.382086Z",
     "start_time": "2019-09-04T20:25:57.801Z"
    },
    "hidden": true
   },
   "outputs": [],
   "source": [
    "df_preds.loc[idx,['id_code','sirna']].to_csv('sub/'+model+'.csv.gz', index=False, compression='gzip')"
   ]
  },
  {
   "cell_type": "code",
   "execution_count": null,
   "metadata": {
    "ExecuteTime": {
     "end_time": "2019-09-04T20:26:00.382806Z",
     "start_time": "2019-09-04T20:25:57.809Z"
    },
    "hidden": true
   },
   "outputs": [],
   "source": [
    "!kaggle competitions submit -c recursion-cellular-image-classification -f sub/{model}.csv.gz -m \"{model}\"\n"
   ]
  },
  {
   "cell_type": "markdown",
   "metadata": {},
   "source": [
    "## Cosinus similarity"
   ]
  },
  {
   "cell_type": "markdown",
   "metadata": {},
   "source": [
    "### Full single features"
   ]
  },
  {
   "cell_type": "code",
   "execution_count": null,
   "metadata": {
    "ExecuteTime": {
     "end_time": "2019-09-04T20:26:00.383524Z",
     "start_time": "2019-09-04T20:25:57.830Z"
    }
   },
   "outputs": [],
   "source": [
    "# https://github.com/ducha-aiki/whale-identification-2018/blob/master/reproduce_problems.ipynb\n",
    "# And for test-time augmentation I used following random solution: switch train and val transforms"
   ]
  },
  {
   "cell_type": "code",
   "execution_count": null,
   "metadata": {
    "ExecuteTime": {
     "end_time": "2019-09-04T20:26:00.384242Z",
     "start_time": "2019-09-04T20:25:57.837Z"
    }
   },
   "outputs": [],
   "source": [
    "# extended tfms\n",
    "tfms = get_transforms(do_flip=True, flip_vert=True, \n",
    "                      max_rotate=90.0, max_zoom=1.1, \n",
    "                      max_lighting=0.2, max_warp=0.2, \n",
    "                      p_affine=0.75, p_lighting=0.75, \n",
    "                      xtra_tfms=[color_augmentation()])\n",
    "\n",
    "# crop_pad: https://forums.fast.ai/t/misc-issues/35386/10"
   ]
  },
  {
   "cell_type": "code",
   "execution_count": 130,
   "metadata": {
    "ExecuteTime": {
     "end_time": "2019-09-04T20:27:23.516821Z",
     "start_time": "2019-09-04T20:27:23.503588Z"
    }
   },
   "outputs": [],
   "source": [
    "# extended tfms w/o color_augmentation !!!\n",
    "tfms = get_transforms(do_flip=True, flip_vert=True, \n",
    "                      max_rotate=90.0, max_zoom=1.1, \n",
    "                      max_lighting=0.2, max_warp=0.2, \n",
    "                      p_affine=0.75, p_lighting=0.75)"
   ]
  },
  {
   "cell_type": "code",
   "execution_count": 131,
   "metadata": {
    "ExecuteTime": {
     "end_time": "2019-09-04T20:27:24.638367Z",
     "start_time": "2019-09-04T20:27:24.624976Z"
    }
   },
   "outputs": [],
   "source": [
    "# \"crop_pad\" to sz\n",
    "tfms[0][0] = crop_pad(size=sz, row_pct=[0.,1.], col_pct=[0.,1.])\n",
    "tfms[1][0] = crop_pad(size=sz, row_pct=[0.,1.], col_pct=[0.,1.])"
   ]
  },
  {
   "cell_type": "code",
   "execution_count": 132,
   "metadata": {
    "ExecuteTime": {
     "end_time": "2019-09-04T20:27:25.429733Z",
     "start_time": "2019-09-04T20:27:25.413598Z"
    }
   },
   "outputs": [],
   "source": [
    "#sz, bs = 300, 8*2*2 # 3436MiB /  7952MiB\n",
    "#sz, bs = 300, 8*8 # 6884MiB /  7952MiB\n",
    "sz, bs = 300, 8*11 # 7938MiB /  7952MiB"
   ]
  },
  {
   "cell_type": "code",
   "execution_count": null,
   "metadata": {
    "ExecuteTime": {
     "end_time": "2019-09-04T20:26:00.387116Z",
     "start_time": "2019-09-04T20:25:57.870Z"
    }
   },
   "outputs": [],
   "source": [
    "#pg = 3"
   ]
  },
  {
   "cell_type": "code",
   "execution_count": null,
   "metadata": {},
   "outputs": [],
   "source": []
  },
  {
   "cell_type": "code",
   "execution_count": null,
   "metadata": {
    "ExecuteTime": {
     "end_time": "2019-09-04T20:26:00.389280Z",
     "start_time": "2019-09-04T20:25:57.897Z"
    }
   },
   "outputs": [],
   "source": [
    "#data.train_dl.dl.batch_sampler.sampler = torch.utils.data.SequentialSampler(data.train_ds)\n",
    "#data.train_dl.dl.batch_sampler.drop_last = False\n",
    "#\n",
    "#data.valid_dl.dl.batch_sampler.sampler = torch.utils.data.SequentialSampler(data.valid_ds)\n",
    "#data.valid_dl.dl.batch_sampler.drop_last = False\n",
    "#\n",
    "## DOES WORK TOO FOR TEST DL ??? ??? (Or do we need to set the test dataset to the valid dataset?)\n",
    "#data.test_dl.dl.batch_sampler.sampler = torch.utils.data.SequentialSampler(data.test_ds)\n",
    "#data.test_dl.dl.batch_sampler.drop_last = False"
   ]
  },
  {
   "cell_type": "code",
   "execution_count": null,
   "metadata": {},
   "outputs": [],
   "source": []
  },
  {
   "cell_type": "code",
   "execution_count": 133,
   "metadata": {
    "ExecuteTime": {
     "end_time": "2019-09-04T20:27:32.903724Z",
     "start_time": "2019-09-04T20:27:32.889242Z"
    }
   },
   "outputs": [],
   "source": [
    "def get_feats(model, dataloader, cycles=1):\n",
    "    feats = []\n",
    "    targs = []\n",
    "    model.eval()\n",
    "    with torch.no_grad():\n",
    "        for i in range(cycles): # for TTA\n",
    "            for xb, yb in dataloader:\n",
    "                xb_img, xb_ctint, xb_pgint, xb_expint = xb\n",
    "                img_features = model.body1(xb_img)\n",
    "                int_features = model.body2(xb_ctint, xb_pgint, xb_expint)\n",
    "                features = torch.cat((img_features, int_features), dim=-1)\n",
    "                out = model.head(features)\n",
    "                feats.append(out.cpu())\n",
    "                targs.append(yb.cpu())\n",
    "    feats = torch.cat(feats, dim=0)\n",
    "    targs = torch.cat(targs, dim=0)\n",
    "    return feats, targs"
   ]
  },
  {
   "cell_type": "code",
   "execution_count": null,
   "metadata": {
    "ExecuteTime": {
     "end_time": "2019-09-04T20:26:00.390730Z",
     "start_time": "2019-09-04T20:25:57.916Z"
    }
   },
   "outputs": [],
   "source": [
    "#def get_img_exp_feats(model, dataloader, cycles=1):\n",
    "#    feats = []\n",
    "#    targs = []\n",
    "#    img_feats = []\n",
    "#    exp_input = []\n",
    "#    model.eval()\n",
    "#    with torch.no_grad():\n",
    "#        for i in range(cycles): # for TTA\n",
    "#            for xb, yb in dataloader:\n",
    "#                xb_img, xb_ctint, xb_pgint, xb_expint = xb\n",
    "#                img_features = model.body1(xb_img)\n",
    "#                int_features = model.body2(xb_ctint, xb_pgint, xb_expint)\n",
    "#                features = torch.cat((img_features, int_features), dim=-1)\n",
    "#                out = model.head(features)\n",
    "#                feats.append(out.cpu())\n",
    "#                targs.append(yb.cpu())\n",
    "#                img_feats.append(img_features)\n",
    "#                exp_input.append(xb_expint.cpu())\n",
    "#    return feats, targs, img_feats, exp_input"
   ]
  },
  {
   "cell_type": "code",
   "execution_count": null,
   "metadata": {},
   "outputs": [],
   "source": []
  },
  {
   "cell_type": "code",
   "execution_count": null,
   "metadata": {
    "ExecuteTime": {
     "end_time": "2019-09-04T20:26:00.391449Z",
     "start_time": "2019-09-04T20:25:57.928Z"
    }
   },
   "outputs": [],
   "source": [
    "pg, ct"
   ]
  },
  {
   "cell_type": "code",
   "execution_count": null,
   "metadata": {
    "ExecuteTime": {
     "end_time": "2019-09-04T20:26:00.392165Z",
     "start_time": "2019-09-04T20:25:57.936Z"
    }
   },
   "outputs": [],
   "source": [
    "learn = Learner(data, adacos_efficientnet)\n",
    "learn.load('effnet/adacos_efficientnet_b3_ct_pg_exp_Pre060e050pg'+str(pg)+'e100'+ct+'_FULL_025_190903');"
   ]
  },
  {
   "cell_type": "code",
   "execution_count": null,
   "metadata": {},
   "outputs": [],
   "source": []
  },
  {
   "cell_type": "code",
   "execution_count": 135,
   "metadata": {
    "ExecuteTime": {
     "end_time": "2019-09-04T20:57:55.084676Z",
     "start_time": "2019-09-04T20:46:34.398019Z"
    }
   },
   "outputs": [
    {
     "name": "stdout",
     "output_type": "stream",
     "text": [
      " ===  0  ===  HEPG2  === \n",
      " ===  0  ===  HUVEC  === \n",
      " ===  0  ===  RPE  === \n",
      " ===  0  ===  U2OS  === \n",
      " ===  1  ===  HEPG2  === \n",
      " ===  1  ===  HUVEC  === \n",
      " ===  1  ===  RPE  === \n",
      " ===  1  ===  U2OS  === \n",
      " ===  2  ===  HEPG2  === \n",
      " ===  2  ===  HUVEC  === \n",
      " ===  2  ===  RPE  === \n",
      " ===  2  ===  U2OS  === \n",
      " ===  3  ===  HEPG2  === \n",
      " ===  3  ===  HUVEC  === \n",
      " ===  3  ===  RPE  === \n",
      " ===  3  ===  U2OS  === \n"
     ]
    }
   ],
   "source": [
    "for pg in range(4):\n",
    "    for ct in cts:\n",
    "        print(' === ', pg ,' === ', ct , ' === ')\n",
    "        if ct == 'U2OS': continue\n",
    "        # U2OS training is super instable, therefore, we train it later alone!\n",
    "\n",
    "        data = (ImageList6Dct.from_df(df_train[(df_train['pg'] == pg) & (df_train['celltype'] == ct)], path='train')\n",
    "        .split_none() # !!!\n",
    "        .label_from_df(cols=-5)\n",
    "        .add_test(ImageList6Dct.from_df(df_test[(df_test['pg'] == pg) & (df_test['celltype'] == ct)], path='test'))\n",
    "        .transform(tfms, size=sz)\n",
    "        .databunch(bs=bs))\n",
    "        \n",
    "        data.normalize([stats_mean, stats_var]);\n",
    "        \n",
    "        learn = Learner(data, adacos_efficientnet)\n",
    "        learn.load('effnet/adacos_efficientnet_b3_ct_pg_exp_Pre060e050pg'+str(pg)+'e100'+ct+'_FULL_025_190903');\n",
    "        \n",
    "        # train\n",
    "        feats, targs = get_feats(learn.model, learn.data.train_dl)#, cycles=3) !!!\n",
    "        targs_cl = torch.tensor([learn.data.classes[t] for t in targs])\n",
    "        np.save('pred/feats_train_pg'+str(pg)+ct+'.npy', feats)\n",
    "        np.save('pred/targs_train_pg'+str(pg)+ct+'.npy', targs)\n",
    "        np.save('pred/targs_cl_train_pg'+str(pg)+ct+'.npy', targs_cl)\n",
    "        \n",
    "        # valid\n",
    "        #feats, targs = get_feats(learn.model, learn.data.valid_dl)\n",
    "        #targs_cl = torch.tensor([learn.data.classes[t] for t in targs])\n",
    "        #np.save('pred/feats_valid_pg'+str(pg)+ct+'.npy', feats)\n",
    "        #np.save('pred/targs_valid_pg'+str(pg)+ct+'.npy', targs)\n",
    "        #np.save('pred/targs_cl_valid_pg'+str(pg)+ct+'.npy', targs_cl)\n",
    "        \n",
    "        # test\n",
    "        feats, targs = get_feats(learn.model, learn.data.test_dl)\n",
    "        np.save('pred/feats_test_pg'+str(pg)+ct+'.npy', feats)\n",
    "        preds_names = learn.data.test_ds.x.items\n",
    "        preds_names = [x.split('/')[1]+'_'+x.split('/')[2][-1]+'_'+x.split('/')[3] for x in preds_names]\n",
    "        with open('pred/preds_test_pg'+str(pg)+ct+'_names.txt', 'wb') as fp:\n",
    "            pickle.dump(preds_names, fp)      "
   ]
  },
  {
   "cell_type": "code",
   "execution_count": 188,
   "metadata": {
    "ExecuteTime": {
     "end_time": "2019-09-04T21:21:15.991338Z",
     "start_time": "2019-09-04T21:21:15.981507Z"
    }
   },
   "outputs": [],
   "source": [
    "#for pg in range(4):\n",
    "#    for ct in cts:\n",
    "#        print(' === ', pg ,' === ', ct , ' === ')\n",
    "#        print(df_test[(df_test['pg'] == pg) & (df_test['celltype'] == ct)].shape)"
   ]
  },
  {
   "cell_type": "code",
   "execution_count": 200,
   "metadata": {
    "ExecuteTime": {
     "end_time": "2019-09-04T21:24:32.557485Z",
     "start_time": "2019-09-04T21:24:07.589896Z"
    }
   },
   "outputs": [
    {
     "name": "stdout",
     "output_type": "stream",
     "text": [
      " ===  0  ===  HEPG2  === \n",
      "2216\n",
      "(2216, 4)\n",
      " ===  0  ===  HUVEC  === \n",
      "4428\n",
      "(4428, 4)\n",
      " ===  0  ===  RPE  === \n",
      "2210\n",
      "(2210, 4)\n",
      " ===  0  ===  U2OS  === \n",
      " ===  1  ===  HEPG2  === \n",
      "2214\n",
      "(2214, 4)\n",
      " ===  1  ===  HUVEC  === \n",
      "4420\n",
      "(4420, 4)\n",
      " ===  1  ===  RPE  === \n",
      "2208\n",
      "(2208, 4)\n",
      " ===  1  ===  U2OS  === \n",
      " ===  2  ===  HEPG2  === \n",
      "2214\n",
      "(2214, 4)\n",
      " ===  2  ===  HUVEC  === \n",
      "4418\n",
      "(4418, 4)\n",
      " ===  2  ===  RPE  === \n",
      "2212\n",
      "(2212, 4)\n",
      " ===  2  ===  U2OS  === \n",
      " ===  3  ===  HEPG2  === \n",
      "2214\n",
      "(2214, 4)\n",
      " ===  3  ===  HUVEC  === \n",
      "4426\n",
      "(4426, 4)\n",
      " ===  3  ===  RPE  === \n",
      "2204\n",
      "(2204, 4)\n",
      " ===  3  ===  U2OS  === \n"
     ]
    }
   ],
   "source": [
    "#for pg in range(4):\n",
    "#    for ct in cts:\n",
    "#        print(' === ', pg ,' === ', ct , ' === ')\n",
    "#        if ct == 'U2OS': continue\n",
    "#        # U2OS training is super instable, therefore, we train it later alone!\n",
    "#\n",
    "#        data = (ImageList6Dct.from_df(df_train[(df_train['pg'] == pg) & (df_train['celltype'] == ct)], path='train')\n",
    "#        .split_none() # !!!\n",
    "#        .label_from_df(cols=-5)\n",
    "#        .add_test(ImageList6Dct.from_df(df_test[(df_test['pg'] == pg) & (df_test['celltype'] == ct)], path='test'))\n",
    "#        .transform(tfms, size=sz)\n",
    "#        .databunch(bs=bs))\n",
    "#        \n",
    "#        preds_names = data.test_ds.x.items\n",
    "#        print(len(preds_names))\n",
    "#        print(df_test[(df_test['pg'] == pg) & (df_test['celltype'] == ct)].shape)\n",
    "#        preds_names = [x.split('/')[1]+'_'+x.split('/')[2][-1]+'_'+x.split('/')[3] for x in preds_names]\n",
    "#        with open('pred/preds_test_pg'+str(pg)+ct+'_names.txt', 'wb') as fp:\n",
    "#            pickle.dump(preds_names, fp)      "
   ]
  },
  {
   "cell_type": "code",
   "execution_count": 190,
   "metadata": {
    "ExecuteTime": {
     "end_time": "2019-09-04T21:22:19.148233Z",
     "start_time": "2019-09-04T21:22:19.131126Z"
    }
   },
   "outputs": [
    {
     "data": {
      "text/plain": [
       "39794"
      ]
     },
     "execution_count": 190,
     "metadata": {},
     "output_type": "execute_result"
    }
   ],
   "source": [
    "2*19897"
   ]
  },
  {
   "cell_type": "code",
   "execution_count": 186,
   "metadata": {
    "ExecuteTime": {
     "end_time": "2019-09-04T21:19:36.031281Z",
     "start_time": "2019-09-04T21:19:36.014126Z"
    }
   },
   "outputs": [
    {
     "data": {
      "text/plain": [
       "2206"
      ]
     },
     "execution_count": 186,
     "metadata": {},
     "output_type": "execute_result"
    }
   ],
   "source": [
    "39794-37588"
   ]
  },
  {
   "cell_type": "code",
   "execution_count": 185,
   "metadata": {
    "ExecuteTime": {
     "end_time": "2019-09-04T21:18:12.651299Z",
     "start_time": "2019-09-04T21:18:12.634312Z"
    }
   },
   "outputs": [
    {
     "data": {
      "text/plain": [
       "(39794, 4)"
      ]
     },
     "execution_count": 185,
     "metadata": {},
     "output_type": "execute_result"
    }
   ],
   "source": [
    "df_test.shape"
   ]
  },
  {
   "cell_type": "code",
   "execution_count": 201,
   "metadata": {
    "ExecuteTime": {
     "end_time": "2019-09-04T21:24:37.874650Z",
     "start_time": "2019-09-04T21:24:37.853877Z"
    }
   },
   "outputs": [
    {
     "name": "stdout",
     "output_type": "stream",
     "text": [
      " ===  0  ===  HEPG2  === \n",
      " ===  0  ===  HUVEC  === \n",
      " ===  0  ===  RPE  === \n",
      " ===  0  ===  U2OS  === \n",
      " ===  1  ===  HEPG2  === \n",
      " ===  1  ===  HUVEC  === \n",
      " ===  1  ===  RPE  === \n",
      " ===  1  ===  U2OS  === \n",
      " ===  2  ===  HEPG2  === \n",
      " ===  2  ===  HUVEC  === \n",
      " ===  2  ===  RPE  === \n",
      " ===  2  ===  U2OS  === \n",
      " ===  3  ===  HEPG2  === \n",
      " ===  3  ===  HUVEC  === \n",
      " ===  3  ===  RPE  === \n",
      " ===  3  ===  U2OS  === \n"
     ]
    }
   ],
   "source": [
    "preds_names = []\n",
    "for pg in range(4):\n",
    "    for ct in cts:\n",
    "        print(' === ', pg ,' === ', ct , ' === ')\n",
    "        if ct == 'U2OS': continue \n",
    "            \n",
    "        with open('pred/preds_test_pg'+str(pg)+ct+'_names.txt', 'rb') as fp: \n",
    "            names = pickle.load(fp)\n",
    "        preds_names += names"
   ]
  },
  {
   "cell_type": "code",
   "execution_count": 202,
   "metadata": {
    "ExecuteTime": {
     "end_time": "2019-09-04T21:24:40.508779Z",
     "start_time": "2019-09-04T21:24:40.491416Z"
    }
   },
   "outputs": [
    {
     "data": {
      "text/plain": [
       "35384"
      ]
     },
     "execution_count": 202,
     "metadata": {},
     "output_type": "execute_result"
    }
   ],
   "source": [
    "len(preds_names)"
   ]
  },
  {
   "cell_type": "code",
   "execution_count": null,
   "metadata": {},
   "outputs": [],
   "source": []
  },
  {
   "cell_type": "code",
   "execution_count": 170,
   "metadata": {
    "ExecuteTime": {
     "end_time": "2019-09-04T21:12:01.727943Z",
     "start_time": "2019-09-04T21:12:01.711489Z"
    }
   },
   "outputs": [],
   "source": [
    "ct = 'U2OS'"
   ]
  },
  {
   "cell_type": "code",
   "execution_count": 203,
   "metadata": {
    "ExecuteTime": {
     "end_time": "2019-09-04T21:24:48.484885Z",
     "start_time": "2019-09-04T21:24:46.525753Z"
    }
   },
   "outputs": [],
   "source": [
    "# VALID SPLIT (incl. tfms)\n",
    "data = (ImageList6Dct.from_df(df_train[df_train['celltype'] == ct], path='train')\n",
    "        .split_none() # !!!\n",
    "        .label_from_df(cols=-5)\n",
    "        .add_test(ImageList6Dct.from_df(df_test[df_test['celltype'] == ct], path='test'))\n",
    "        #.transform(tfms, size=sz)\n",
    "        .transform(size=sz)\n",
    "        .databunch(bs=bs))"
   ]
  },
  {
   "cell_type": "code",
   "execution_count": 204,
   "metadata": {
    "ExecuteTime": {
     "end_time": "2019-09-04T21:24:48.496313Z",
     "start_time": "2019-09-04T21:24:48.485918Z"
    }
   },
   "outputs": [],
   "source": [
    "data.normalize([stats_mean, stats_var]);"
   ]
  },
  {
   "cell_type": "code",
   "execution_count": 205,
   "metadata": {
    "ExecuteTime": {
     "end_time": "2019-09-04T21:24:48.507402Z",
     "start_time": "2019-09-04T21:24:48.497334Z"
    }
   },
   "outputs": [],
   "source": [
    "# get the names\n",
    "preds_names_U2OS = data.test_ds.x.items"
   ]
  },
  {
   "cell_type": "code",
   "execution_count": 206,
   "metadata": {
    "ExecuteTime": {
     "end_time": "2019-09-04T21:24:48.518856Z",
     "start_time": "2019-09-04T21:24:48.508341Z"
    }
   },
   "outputs": [
    {
     "data": {
      "text/plain": [
       "4410"
      ]
     },
     "execution_count": 206,
     "metadata": {},
     "output_type": "execute_result"
    }
   ],
   "source": [
    "len(preds_names_U2OS)"
   ]
  },
  {
   "cell_type": "code",
   "execution_count": 207,
   "metadata": {
    "ExecuteTime": {
     "end_time": "2019-09-04T21:24:48.554866Z",
     "start_time": "2019-09-04T21:24:48.542274Z"
    }
   },
   "outputs": [
    {
     "data": {
      "text/plain": [
       "(4410, 4)"
      ]
     },
     "execution_count": 207,
     "metadata": {},
     "output_type": "execute_result"
    }
   ],
   "source": [
    "df_test[df_test['celltype'] == ct].shape"
   ]
  },
  {
   "cell_type": "code",
   "execution_count": 210,
   "metadata": {
    "ExecuteTime": {
     "end_time": "2019-09-04T21:24:57.137034Z",
     "start_time": "2019-09-04T21:24:57.115146Z"
    }
   },
   "outputs": [],
   "source": [
    "# without site\n",
    "#preds_names = [x.split('/')[1]+'_'+x.split('/')[2][-1]+'_'+x.split('/')[3][:3] for x in preds_names]\n",
    "\n",
    "# with site\n",
    "preds_names_U2OS = [x.split('/')[1]+'_'+x.split('/')[2][-1]+'_'+x.split('/')[3] for x in preds_names_U2OS]"
   ]
  },
  {
   "cell_type": "code",
   "execution_count": 211,
   "metadata": {
    "ExecuteTime": {
     "end_time": "2019-09-04T21:24:57.927340Z",
     "start_time": "2019-09-04T21:24:57.910912Z"
    }
   },
   "outputs": [],
   "source": [
    "preds_names += preds_names_U2OS"
   ]
  },
  {
   "cell_type": "code",
   "execution_count": 212,
   "metadata": {
    "ExecuteTime": {
     "end_time": "2019-09-04T21:24:58.616187Z",
     "start_time": "2019-09-04T21:24:58.599006Z"
    }
   },
   "outputs": [
    {
     "data": {
      "text/plain": [
       "39794"
      ]
     },
     "execution_count": 212,
     "metadata": {},
     "output_type": "execute_result"
    }
   ],
   "source": [
    "len(preds_names)"
   ]
  },
  {
   "cell_type": "code",
   "execution_count": 209,
   "metadata": {
    "ExecuteTime": {
     "end_time": "2019-09-04T21:24:52.531682Z",
     "start_time": "2019-09-04T21:24:52.516017Z"
    }
   },
   "outputs": [
    {
     "data": {
      "text/plain": [
       "39794"
      ]
     },
     "execution_count": 209,
     "metadata": {},
     "output_type": "execute_result"
    }
   ],
   "source": [
    "2*19897"
   ]
  },
  {
   "cell_type": "markdown",
   "metadata": {},
   "source": [
    "#### Train"
   ]
  },
  {
   "cell_type": "code",
   "execution_count": null,
   "metadata": {},
   "outputs": [],
   "source": []
  },
  {
   "cell_type": "code",
   "execution_count": 225,
   "metadata": {
    "ExecuteTime": {
     "end_time": "2019-09-04T21:34:10.738595Z",
     "start_time": "2019-09-04T21:34:10.533839Z"
    }
   },
   "outputs": [],
   "source": [
    "learn = Learner(data, adacos_efficientnet)\n",
    "learn.load('effnet/adacos_efficientnet_b3_ct_pg_exp_Pre060e050pg0123'+ct+'_FULL_025_190903');"
   ]
  },
  {
   "cell_type": "code",
   "execution_count": 226,
   "metadata": {
    "ExecuteTime": {
     "end_time": "2019-09-04T21:34:51.548061Z",
     "start_time": "2019-09-04T21:34:15.263944Z"
    }
   },
   "outputs": [],
   "source": [
    "feats, targs = get_feats(learn.model, learn.data.train_dl)#, cycles=3)\n",
    "#feats, targs, img_feats, exp_input = get_img_exp_feats(learn.model, learn.data.train_dl)"
   ]
  },
  {
   "cell_type": "code",
   "execution_count": 227,
   "metadata": {
    "ExecuteTime": {
     "end_time": "2019-09-04T21:34:51.560654Z",
     "start_time": "2019-09-04T21:34:51.549430Z"
    }
   },
   "outputs": [],
   "source": [
    "#feats = torch.cat(feats, dim=0)\n",
    "#targs = torch.cat(targs, dim=0)\n",
    "#img_feats = torch.cat(img_feats, dim=0)\n",
    "#exp_input = torch.cat(exp_input, dim=0)"
   ]
  },
  {
   "cell_type": "code",
   "execution_count": 228,
   "metadata": {
    "ExecuteTime": {
     "end_time": "2019-09-04T21:34:51.572438Z",
     "start_time": "2019-09-04T21:34:51.561846Z"
    }
   },
   "outputs": [
    {
     "data": {
      "text/plain": [
       "(torch.Size([6600, 512]), torch.Size([6600]))"
      ]
     },
     "execution_count": 228,
     "metadata": {},
     "output_type": "execute_result"
    }
   ],
   "source": [
    "feats.shape, targs.shape"
   ]
  },
  {
   "cell_type": "code",
   "execution_count": 229,
   "metadata": {
    "ExecuteTime": {
     "end_time": "2019-09-04T21:34:51.587618Z",
     "start_time": "2019-09-04T21:34:51.573510Z"
    }
   },
   "outputs": [
    {
     "data": {
      "text/plain": [
       "0"
      ]
     },
     "execution_count": 229,
     "metadata": {},
     "output_type": "execute_result"
    }
   ],
   "source": [
    "np.isnan(feats.cpu().numpy()).sum()"
   ]
  },
  {
   "cell_type": "code",
   "execution_count": 230,
   "metadata": {
    "ExecuteTime": {
     "end_time": "2019-09-04T21:34:51.628212Z",
     "start_time": "2019-09-04T21:34:51.588552Z"
    }
   },
   "outputs": [],
   "source": [
    "# get class from data classes index\n",
    "targs_cl = torch.tensor([learn.data.classes[t] for t in targs])"
   ]
  },
  {
   "cell_type": "code",
   "execution_count": null,
   "metadata": {},
   "outputs": [],
   "source": []
  },
  {
   "cell_type": "code",
   "execution_count": 231,
   "metadata": {
    "ExecuteTime": {
     "end_time": "2019-09-04T21:34:51.654354Z",
     "start_time": "2019-09-04T21:34:51.629156Z"
    }
   },
   "outputs": [],
   "source": [
    "np.save('pred/feats_train_pg0123'+ct+'.npy', feats)\n",
    "np.save('pred/targs_train_pg0123'+ct+'.npy', targs)\n",
    "np.save('pred/targs_cl_train_pg0123'+ct+'.npy', targs_cl)"
   ]
  },
  {
   "cell_type": "markdown",
   "metadata": {
    "heading_collapsed": true
   },
   "source": [
    "#### Valid"
   ]
  },
  {
   "cell_type": "code",
   "execution_count": null,
   "metadata": {
    "ExecuteTime": {
     "end_time": "2019-09-04T20:26:00.400113Z",
     "start_time": "2019-09-04T20:25:58.028Z"
    },
    "hidden": true
   },
   "outputs": [],
   "source": [
    "feats, targs = get_feats(learn.model, learn.data.valid_dl)"
   ]
  },
  {
   "cell_type": "code",
   "execution_count": null,
   "metadata": {
    "ExecuteTime": {
     "end_time": "2019-09-04T20:26:00.400838Z",
     "start_time": "2019-09-04T20:25:58.036Z"
    },
    "hidden": true
   },
   "outputs": [],
   "source": [
    "feats = torch.cat(feats, dim=0)\n",
    "targs = torch.cat(targs, dim=0)"
   ]
  },
  {
   "cell_type": "code",
   "execution_count": null,
   "metadata": {
    "ExecuteTime": {
     "end_time": "2019-09-04T20:26:00.401557Z",
     "start_time": "2019-09-04T20:25:58.043Z"
    },
    "hidden": true
   },
   "outputs": [],
   "source": [
    "# get class from data classes index\n",
    "targs_cl = torch.tensor([learn.data.classes[t] for t in targs])"
   ]
  },
  {
   "cell_type": "code",
   "execution_count": null,
   "metadata": {
    "ExecuteTime": {
     "end_time": "2019-09-04T20:26:00.402279Z",
     "start_time": "2019-09-04T20:25:58.050Z"
    },
    "hidden": true
   },
   "outputs": [],
   "source": [
    "feats.shape, feats.shape, targs.shape"
   ]
  },
  {
   "cell_type": "code",
   "execution_count": null,
   "metadata": {
    "ExecuteTime": {
     "end_time": "2019-09-04T20:26:00.403000Z",
     "start_time": "2019-09-04T20:25:58.058Z"
    },
    "hidden": true
   },
   "outputs": [],
   "source": [
    "np.save('pred/feats_valid_pg'+str(pg)+'.npy', feats)\n",
    "np.save('pred/targs_valid_pg'+str(pg)+'.npy', targs)\n",
    "np.save('pred/targs_cl_valid_pg'+str(pg)+'.npy', targs_cl)"
   ]
  },
  {
   "cell_type": "markdown",
   "metadata": {},
   "source": [
    "#### Test"
   ]
  },
  {
   "cell_type": "code",
   "execution_count": 232,
   "metadata": {
    "ExecuteTime": {
     "end_time": "2019-09-04T21:35:17.801315Z",
     "start_time": "2019-09-04T21:34:51.656939Z"
    }
   },
   "outputs": [],
   "source": [
    "feats, targs = get_feats(learn.model, learn.data.test_dl)"
   ]
  },
  {
   "cell_type": "code",
   "execution_count": 233,
   "metadata": {
    "ExecuteTime": {
     "end_time": "2019-09-04T21:35:17.814396Z",
     "start_time": "2019-09-04T21:35:17.802943Z"
    }
   },
   "outputs": [],
   "source": [
    "del targs"
   ]
  },
  {
   "cell_type": "code",
   "execution_count": 234,
   "metadata": {
    "ExecuteTime": {
     "end_time": "2019-09-04T21:35:17.825332Z",
     "start_time": "2019-09-04T21:35:17.815516Z"
    }
   },
   "outputs": [],
   "source": [
    "#feats = torch.cat(feats, dim=0)"
   ]
  },
  {
   "cell_type": "code",
   "execution_count": 238,
   "metadata": {
    "ExecuteTime": {
     "end_time": "2019-09-04T21:36:38.706760Z",
     "start_time": "2019-09-04T21:36:38.690009Z"
    }
   },
   "outputs": [
    {
     "data": {
      "text/plain": [
       "torch.Size([4410, 512])"
      ]
     },
     "execution_count": 238,
     "metadata": {},
     "output_type": "execute_result"
    }
   ],
   "source": [
    "feats.shape"
   ]
  },
  {
   "cell_type": "code",
   "execution_count": 239,
   "metadata": {
    "ExecuteTime": {
     "end_time": "2019-09-04T21:36:43.617558Z",
     "start_time": "2019-09-04T21:36:43.587556Z"
    }
   },
   "outputs": [],
   "source": [
    "np.save('pred/feats_test_pg0123'+ct+'.npy', feats)"
   ]
  },
  {
   "cell_type": "code",
   "execution_count": 237,
   "metadata": {
    "ExecuteTime": {
     "end_time": "2019-09-04T21:35:17.862854Z",
     "start_time": "2019-09-04T21:35:17.852174Z"
    }
   },
   "outputs": [
    {
     "data": {
      "text/plain": [
       "1108"
      ]
     },
     "execution_count": 237,
     "metadata": {},
     "output_type": "execute_result"
    }
   ],
   "source": [
    "len(learn.data.classes)"
   ]
  },
  {
   "cell_type": "markdown",
   "metadata": {
    "heading_collapsed": true
   },
   "source": [
    "### Multi-crop features"
   ]
  },
  {
   "cell_type": "code",
   "execution_count": null,
   "metadata": {
    "ExecuteTime": {
     "end_time": "2019-09-04T20:26:00.408040Z",
     "start_time": "2019-09-04T20:25:58.116Z"
    },
    "hidden": true
   },
   "outputs": [],
   "source": [
    "# https://github.com/ducha-aiki/whale-identification-2018/blob/master/reproduce_problems.ipynb\n",
    "# And for test-time augmentation I used following random solution: switch train and val transforms"
   ]
  },
  {
   "cell_type": "code",
   "execution_count": null,
   "metadata": {
    "ExecuteTime": {
     "end_time": "2019-09-04T20:26:00.408758Z",
     "start_time": "2019-09-04T20:25:58.124Z"
    },
    "hidden": true
   },
   "outputs": [],
   "source": [
    "df_train['test'] = 0\n",
    "df_train['path'] = 'train/'+df_train['path']"
   ]
  },
  {
   "cell_type": "code",
   "execution_count": null,
   "metadata": {
    "ExecuteTime": {
     "end_time": "2019-09-04T20:26:00.409477Z",
     "start_time": "2019-09-04T20:25:58.131Z"
    },
    "hidden": true
   },
   "outputs": [],
   "source": [
    "df_train.head()"
   ]
  },
  {
   "cell_type": "code",
   "execution_count": null,
   "metadata": {
    "ExecuteTime": {
     "end_time": "2019-09-04T20:26:00.410198Z",
     "start_time": "2019-09-04T20:25:58.139Z"
    },
    "hidden": true
   },
   "outputs": [],
   "source": [
    "# add dummy columns for test dataset\n",
    "df_test['path'] = 'test/'+df_test['path']\n",
    "df_test['test'] = 1\n",
    "df_test['sirna'] = 1"
   ]
  },
  {
   "cell_type": "code",
   "execution_count": null,
   "metadata": {
    "ExecuteTime": {
     "end_time": "2019-09-04T20:26:00.410921Z",
     "start_time": "2019-09-04T20:25:58.147Z"
    },
    "hidden": true
   },
   "outputs": [],
   "source": [
    "df_test.head()"
   ]
  },
  {
   "cell_type": "code",
   "execution_count": null,
   "metadata": {
    "ExecuteTime": {
     "end_time": "2019-09-04T20:26:00.411644Z",
     "start_time": "2019-09-04T20:25:58.155Z"
    },
    "hidden": true
   },
   "outputs": [],
   "source": [
    "df_train_test = pd.concat((df_train, df_test), axis=0, sort=False)"
   ]
  },
  {
   "cell_type": "code",
   "execution_count": null,
   "metadata": {
    "ExecuteTime": {
     "end_time": "2019-09-04T20:26:00.412365Z",
     "start_time": "2019-09-04T20:25:58.162Z"
    },
    "hidden": true
   },
   "outputs": [],
   "source": [
    "df_train_test.tail()"
   ]
  },
  {
   "cell_type": "code",
   "execution_count": null,
   "metadata": {
    "ExecuteTime": {
     "end_time": "2019-09-04T20:26:00.413082Z",
     "start_time": "2019-09-04T20:25:58.170Z"
    },
    "hidden": true
   },
   "outputs": [],
   "source": [
    "# reload for train and valid ds\n",
    "df_train = pd.read_csv('full_train_dataset_valid-split-ex_v2_20190727.csv', index_col=0)\n",
    "df_test = pd.read_csv('full_test_dataset_v2_20190727.csv', index_col=0)"
   ]
  },
  {
   "cell_type": "code",
   "execution_count": null,
   "metadata": {
    "ExecuteTime": {
     "end_time": "2019-08-05T17:44:39.974069Z",
     "start_time": "2019-08-05T17:44:39.962352Z"
    },
    "hidden": true
   },
   "outputs": [],
   "source": []
  },
  {
   "cell_type": "code",
   "execution_count": null,
   "metadata": {
    "ExecuteTime": {
     "end_time": "2019-09-04T20:26:00.413804Z",
     "start_time": "2019-09-04T20:25:58.183Z"
    },
    "hidden": true
   },
   "outputs": [],
   "source": [
    "# test tfms switching for test ds\n",
    "#tfms_switched = (tfms[1], tfms[0])\n",
    "#\n",
    "#data = (ImageList6D.from_df(df_train_test, path='.')\n",
    "#                .split_from_df(col=-1)\n",
    "#                .label_from_df(cols=-4)\n",
    "#                .transform(tfms_switched)#, size=sz) # remove size so we get the crop size!\n",
    "#                .databunch(bs=bs))"
   ]
  },
  {
   "cell_type": "code",
   "execution_count": null,
   "metadata": {
    "ExecuteTime": {
     "end_time": "2019-09-04T20:26:00.414520Z",
     "start_time": "2019-09-04T20:25:58.191Z"
    },
    "hidden": true
   },
   "outputs": [],
   "source": [
    "#data.train_ds[0][0]"
   ]
  },
  {
   "cell_type": "code",
   "execution_count": null,
   "metadata": {
    "ExecuteTime": {
     "end_time": "2019-09-04T20:26:00.415243Z",
     "start_time": "2019-09-04T20:25:58.198Z"
    },
    "hidden": true
   },
   "outputs": [],
   "source": [
    "#data.valid_ds[0][0]"
   ]
  },
  {
   "cell_type": "code",
   "execution_count": null,
   "metadata": {
    "hidden": true
   },
   "outputs": [],
   "source": []
  },
  {
   "cell_type": "code",
   "execution_count": null,
   "metadata": {
    "ExecuteTime": {
     "end_time": "2019-09-04T20:26:00.415973Z",
     "start_time": "2019-09-04T20:25:58.222Z"
    },
    "hidden": true
   },
   "outputs": [],
   "source": [
    "def get_dataset(row_pct, col_pct, is_test=False):\n",
    "    # extended tfms\n",
    "    tfms = get_transforms(do_flip=True, flip_vert=True, \n",
    "                          max_rotate=90.0, max_zoom=1.1, \n",
    "                          max_lighting=0.2, max_warp=0.2, \n",
    "                          p_affine=0.75, p_lighting=0.75, \n",
    "                          xtra_tfms=[color_augmentation()])\n",
    "    \n",
    "    # change \"crop_pad\" from get_transforms to \"crop\"\n",
    "    tfms[0][0] = crop(size=sz, row_pct=row_pct, col_pct=col_pct)\n",
    "    tfms[1][0] = crop(size=sz, row_pct=row_pct, col_pct=col_pct)\n",
    "    \n",
    "    # VALID SPLIT (incl. tfms)\n",
    "    if is_test:\n",
    "        #switch train with valid (= test) tfms!\n",
    "        tfms_switched = (tfms[1], tfms[0])\n",
    "        \n",
    "        data = (ImageList6D.from_df(df_train_test, path='.')\n",
    "                .split_from_df(col=-1)\n",
    "                .label_from_df(cols=-4)\n",
    "                .transform(tfms_switched)#, size=sz) # remove size so we get the crop size!\n",
    "                .databunch(bs=bs))\n",
    "    else:\n",
    "        data = (ImageList6D.from_df(df_train, path='train')\n",
    "                .split_from_df(col=-1) # split_by_rand_pct()\n",
    "                .label_from_df(cols=-3)\n",
    "                #.add_test(ImageList6D.from_df(df_test, path='test'))\n",
    "                .transform(tfms)#, size=sz) # remove size so we get the crop size!\n",
    "                .databunch(bs=bs))\n",
    "    \n",
    "    data.normalize([tensor([0.0456, 0.0702, 0.0447, 0.0468, 0.0407, 0.0399]),\n",
    "                    tensor([0.0644, 0.0733, 0.0536, 0.0633, 0.0555, 0.0392])]);\n",
    "    \n",
    "    return data"
   ]
  },
  {
   "cell_type": "code",
   "execution_count": null,
   "metadata": {
    "ExecuteTime": {
     "end_time": "2019-09-04T20:26:00.416700Z",
     "start_time": "2019-09-04T20:25:58.230Z"
    },
    "hidden": true
   },
   "outputs": [],
   "source": [
    "def get_feats(model, dataloader, cycles=1):\n",
    "    feats = []\n",
    "    targs = []\n",
    "    model.eval()\n",
    "    with torch.no_grad():\n",
    "        for i in range(cycles): # for TTA\n",
    "            for xb, yb in dataloader:\n",
    "                body_out = model.body(xb)\n",
    "                head_out = model.head(body_out)\n",
    "                feats.append(head_out.cpu())\n",
    "                targs.append(yb.cpu())\n",
    "                \n",
    "    feats = torch.cat(feats, dim=0)\n",
    "    targs = torch.cat(targs, dim=0)\n",
    "    \n",
    "    return feats, targs"
   ]
  },
  {
   "cell_type": "code",
   "execution_count": null,
   "metadata": {
    "ExecuteTime": {
     "end_time": "2019-09-04T20:26:00.417426Z",
     "start_time": "2019-09-04T20:25:58.238Z"
    },
    "hidden": true
   },
   "outputs": [],
   "source": [
    "def save_feats(feats, targs, crop, ds='train'):\n",
    "    np.save(f'pred/feats_{ds}_crop{crop}.npy', feats)\n",
    "    np.save(f'pred/targs_{ds}_crop{crop}.npy', targs)"
   ]
  },
  {
   "cell_type": "code",
   "execution_count": null,
   "metadata": {
    "ExecuteTime": {
     "end_time": "2019-09-04T20:26:00.418149Z",
     "start_time": "2019-09-04T20:25:58.246Z"
    },
    "hidden": true
   },
   "outputs": [],
   "source": [
    "#https://docs.fast.ai/vision.transform.html#_crop\n",
    "crop_pos = [[0.,0.], [0.,1.],[0.5,0.5],[1.,0.], [1.,1.]]"
   ]
  },
  {
   "cell_type": "code",
   "execution_count": null,
   "metadata": {
    "ExecuteTime": {
     "end_time": "2019-09-04T20:26:00.418871Z",
     "start_time": "2019-09-04T20:25:58.254Z"
    },
    "hidden": true
   },
   "outputs": [],
   "source": [
    "# get random crop pos\n",
    "i = 2\n",
    "crop_pos = [[uniform(0,1), uniform(0,1)] for i in range(2)]"
   ]
  },
  {
   "cell_type": "code",
   "execution_count": null,
   "metadata": {
    "ExecuteTime": {
     "end_time": "2019-09-04T20:26:00.419589Z",
     "start_time": "2019-09-04T20:25:58.262Z"
    },
    "hidden": true
   },
   "outputs": [],
   "source": [
    "crop_pos"
   ]
  },
  {
   "cell_type": "code",
   "execution_count": null,
   "metadata": {
    "ExecuteTime": {
     "end_time": "2019-09-04T20:26:00.420309Z",
     "start_time": "2019-09-04T20:25:58.270Z"
    },
    "hidden": true
   },
   "outputs": [],
   "source": [
    "# get the last three crop positions:\n",
    "crop_pos = [[0.5,0.5],[1.,0.], [1.,1.]]"
   ]
  },
  {
   "cell_type": "code",
   "execution_count": null,
   "metadata": {
    "ExecuteTime": {
     "end_time": "2019-09-04T20:26:00.421038Z",
     "start_time": "2019-09-04T20:25:58.278Z"
    },
    "hidden": true
   },
   "outputs": [],
   "source": [
    "def get_crop_feats(model=learn.model, cycles=1, crop_pos=crop_pos):\n",
    "    \n",
    "    for i, (row_pct, col_pct) in enumerate(crop_pos):\n",
    "        \n",
    "        print('== crop#:', i,' of', len(crop_pos), '==')\n",
    "        print('row_pct:', row_pct,', col_pct:', col_pct)\n",
    "    \n",
    "        data = get_dataset(row_pct, col_pct)\n",
    "        \n",
    "        # train\n",
    "        print('= Start train dataset =')\n",
    "        feats, targs = get_feats(model, data.train_dl)\n",
    "        save_feats(feats, targs, i, ds='train')\n",
    "        print('feats:', feats.shape,' targs:', targs.shape)\n",
    "        print('- Finish train dataset -')\n",
    "        \n",
    "        # valid\n",
    "        print('= Start valid dataset =')\n",
    "        feats, targs = get_feats(model, data.valid_dl)\n",
    "        save_feats(feats, targs, i, ds='valid')\n",
    "        print('feats:', feats.shape,' targs:', targs.shape)\n",
    "        print('- Finish valid dataset -')\n",
    "        \n",
    "        # get test ds as valid ds for TTA\n",
    "        data = get_dataset(row_pct, col_pct, is_test=True)\n",
    "        \n",
    "        # test\n",
    "        print('= Start test dataset =')\n",
    "        feats, targs = get_feats(model, data.valid_dl)\n",
    "        save_feats(feats, targs, i, ds='test')\n",
    "        print('feats:', feats.shape,' targs:', targs.shape)\n",
    "        print('- Finish test dataset -')"
   ]
  },
  {
   "cell_type": "code",
   "execution_count": null,
   "metadata": {
    "ExecuteTime": {
     "end_time": "2019-09-04T20:26:00.421758Z",
     "start_time": "2019-09-04T20:25:58.286Z"
    },
    "hidden": true
   },
   "outputs": [],
   "source": [
    "learn = Learner(data, adacos_efficientnet_b3)"
   ]
  },
  {
   "cell_type": "code",
   "execution_count": null,
   "metadata": {
    "ExecuteTime": {
     "end_time": "2019-09-04T20:26:00.422477Z",
     "start_time": "2019-09-04T20:25:58.295Z"
    },
    "hidden": true
   },
   "outputs": [],
   "source": [
    "learn.load('effnet/adacos_efficientnet_b3_e080CM112_190805');"
   ]
  },
  {
   "cell_type": "code",
   "execution_count": null,
   "metadata": {
    "ExecuteTime": {
     "end_time": "2019-09-04T20:26:00.423206Z",
     "start_time": "2019-09-04T20:25:58.304Z"
    },
    "hidden": true
   },
   "outputs": [],
   "source": [
    "get_crop_feats()"
   ]
  },
  {
   "cell_type": "code",
   "execution_count": null,
   "metadata": {
    "hidden": true
   },
   "outputs": [],
   "source": []
  },
  {
   "cell_type": "code",
   "execution_count": null,
   "metadata": {
    "hidden": true
   },
   "outputs": [],
   "source": []
  },
  {
   "cell_type": "code",
   "execution_count": null,
   "metadata": {
    "hidden": true
   },
   "outputs": [],
   "source": []
  },
  {
   "cell_type": "code",
   "execution_count": null,
   "metadata": {
    "ExecuteTime": {
     "end_time": "2019-09-04T20:26:00.423932Z",
     "start_time": "2019-09-04T20:25:58.325Z"
    },
    "hidden": true
   },
   "outputs": [],
   "source": [
    "#data = (ImageList6D.from_df(df_train_test, path='.')\n",
    "#        .split_from_df(col=-1)\n",
    "#        .label_from_df(cols=-4)\n",
    "#        .transform(tfms_switched)#, size=sz) # remove size so we get the crop size!\n",
    "#        .databunch(bs=bs))"
   ]
  },
  {
   "cell_type": "markdown",
   "metadata": {},
   "source": [
    "### Submission"
   ]
  },
  {
   "cell_type": "code",
   "execution_count": 240,
   "metadata": {
    "ExecuteTime": {
     "end_time": "2019-09-04T21:40:38.488538Z",
     "start_time": "2019-09-04T21:40:38.466864Z"
    }
   },
   "outputs": [
    {
     "data": {
      "text/plain": [
       "['HEPG2-08_2_B03_s1',\n",
       " 'HEPG2-08_2_B04_s1',\n",
       " 'HEPG2-08_2_B05_s1',\n",
       " 'HEPG2-08_2_B06_s1',\n",
       " 'HEPG2-08_2_B07_s1',\n",
       " 'HEPG2-08_2_B08_s1',\n",
       " 'HEPG2-08_2_B09_s1',\n",
       " 'HEPG2-08_2_B10_s1',\n",
       " 'HEPG2-08_2_B11_s1',\n",
       " 'HEPG2-08_2_B12_s1',\n",
       " 'HEPG2-08_2_B13_s1',\n",
       " 'HEPG2-08_2_B14_s1',\n",
       " 'HEPG2-08_2_B15_s1',\n",
       " 'HEPG2-08_2_B16_s1',\n",
       " 'HEPG2-08_2_B17_s1',\n",
       " 'HEPG2-08_2_B18_s1',\n",
       " 'HEPG2-08_2_B19_s1',\n",
       " 'HEPG2-08_2_B20_s1',\n",
       " 'HEPG2-08_2_B21_s1',\n",
       " 'HEPG2-08_2_B22_s1',\n",
       " 'HEPG2-08_2_B23_s1',\n",
       " 'HEPG2-08_2_C02_s1',\n",
       " 'HEPG2-08_2_C04_s1',\n",
       " 'HEPG2-08_2_C05_s1',\n",
       " 'HEPG2-08_2_C06_s1',\n",
       " 'HEPG2-08_2_C08_s1',\n",
       " 'HEPG2-08_2_C09_s1',\n",
       " 'HEPG2-08_2_C10_s1',\n",
       " 'HEPG2-08_2_C12_s1',\n",
       " 'HEPG2-08_2_C13_s1',\n",
       " 'HEPG2-08_2_C14_s1',\n",
       " 'HEPG2-08_2_C16_s1',\n",
       " 'HEPG2-08_2_C17_s1',\n",
       " 'HEPG2-08_2_C18_s1',\n",
       " 'HEPG2-08_2_C20_s1',\n",
       " 'HEPG2-08_2_C21_s1',\n",
       " 'HEPG2-08_2_C23_s1',\n",
       " 'HEPG2-08_2_D02_s1',\n",
       " 'HEPG2-08_2_D03_s1',\n",
       " 'HEPG2-08_2_D04_s1',\n",
       " 'HEPG2-08_2_D05_s1',\n",
       " 'HEPG2-08_2_D06_s1',\n",
       " 'HEPG2-08_2_D07_s1',\n",
       " 'HEPG2-08_2_D08_s1',\n",
       " 'HEPG2-08_2_D09_s1',\n",
       " 'HEPG2-08_2_D10_s1',\n",
       " 'HEPG2-08_2_D11_s1',\n",
       " 'HEPG2-08_2_D12_s1',\n",
       " 'HEPG2-08_2_D13_s1',\n",
       " 'HEPG2-08_2_D14_s1',\n",
       " 'HEPG2-08_2_D15_s1',\n",
       " 'HEPG2-08_2_D16_s1',\n",
       " 'HEPG2-08_2_D17_s1',\n",
       " 'HEPG2-08_2_D18_s1',\n",
       " 'HEPG2-08_2_D19_s1',\n",
       " 'HEPG2-08_2_D20_s1',\n",
       " 'HEPG2-08_2_D21_s1',\n",
       " 'HEPG2-08_2_D22_s1',\n",
       " 'HEPG2-08_2_D23_s1',\n",
       " 'HEPG2-08_2_E02_s1',\n",
       " 'HEPG2-08_2_E03_s1',\n",
       " 'HEPG2-08_2_E04_s1',\n",
       " 'HEPG2-08_2_E05_s1',\n",
       " 'HEPG2-08_2_E06_s1',\n",
       " 'HEPG2-08_2_E07_s1',\n",
       " 'HEPG2-08_2_E08_s1',\n",
       " 'HEPG2-08_2_E09_s1',\n",
       " 'HEPG2-08_2_E10_s1',\n",
       " 'HEPG2-08_2_E11_s1',\n",
       " 'HEPG2-08_2_E12_s1',\n",
       " 'HEPG2-08_2_E13_s1',\n",
       " 'HEPG2-08_2_E14_s1',\n",
       " 'HEPG2-08_2_E15_s1',\n",
       " 'HEPG2-08_2_E16_s1',\n",
       " 'HEPG2-08_2_E17_s1',\n",
       " 'HEPG2-08_2_E18_s1',\n",
       " 'HEPG2-08_2_E19_s1',\n",
       " 'HEPG2-08_2_E20_s1',\n",
       " 'HEPG2-08_2_E21_s1',\n",
       " 'HEPG2-08_2_E22_s1',\n",
       " 'HEPG2-08_2_E23_s1',\n",
       " 'HEPG2-08_2_F02_s1',\n",
       " 'HEPG2-08_2_F04_s1',\n",
       " 'HEPG2-08_2_F05_s1',\n",
       " 'HEPG2-08_2_F06_s1',\n",
       " 'HEPG2-08_2_F08_s1',\n",
       " 'HEPG2-08_2_F09_s1',\n",
       " 'HEPG2-08_2_F10_s1',\n",
       " 'HEPG2-08_2_F12_s1',\n",
       " 'HEPG2-08_2_F13_s1',\n",
       " 'HEPG2-08_2_F14_s1',\n",
       " 'HEPG2-08_2_F16_s1',\n",
       " 'HEPG2-08_2_F17_s1',\n",
       " 'HEPG2-08_2_F18_s1',\n",
       " 'HEPG2-08_2_F20_s1',\n",
       " 'HEPG2-08_2_F21_s1',\n",
       " 'HEPG2-08_2_F23_s1',\n",
       " 'HEPG2-08_2_G02_s1',\n",
       " 'HEPG2-08_2_G03_s1',\n",
       " 'HEPG2-08_2_G04_s1',\n",
       " 'HEPG2-08_2_G05_s1',\n",
       " 'HEPG2-08_2_G06_s1',\n",
       " 'HEPG2-08_2_G07_s1',\n",
       " 'HEPG2-08_2_G08_s1',\n",
       " 'HEPG2-08_2_G09_s1',\n",
       " 'HEPG2-08_2_G10_s1',\n",
       " 'HEPG2-08_2_G11_s1',\n",
       " 'HEPG2-08_2_G12_s1',\n",
       " 'HEPG2-08_2_G13_s1',\n",
       " 'HEPG2-08_2_G14_s1',\n",
       " 'HEPG2-08_2_G15_s1',\n",
       " 'HEPG2-08_2_G16_s1',\n",
       " 'HEPG2-08_2_G17_s1',\n",
       " 'HEPG2-08_2_G18_s1',\n",
       " 'HEPG2-08_2_G19_s1',\n",
       " 'HEPG2-08_2_G20_s1',\n",
       " 'HEPG2-08_2_G21_s1',\n",
       " 'HEPG2-08_2_G22_s1',\n",
       " 'HEPG2-08_2_G23_s1',\n",
       " 'HEPG2-08_2_H02_s1',\n",
       " 'HEPG2-08_2_H04_s1',\n",
       " 'HEPG2-08_2_H05_s1',\n",
       " 'HEPG2-08_2_H06_s1',\n",
       " 'HEPG2-08_2_H08_s1',\n",
       " 'HEPG2-08_2_H09_s1',\n",
       " 'HEPG2-08_2_H10_s1',\n",
       " 'HEPG2-08_2_H12_s1',\n",
       " 'HEPG2-08_2_H13_s1',\n",
       " 'HEPG2-08_2_H14_s1',\n",
       " 'HEPG2-08_2_H16_s1',\n",
       " 'HEPG2-08_2_H17_s1',\n",
       " 'HEPG2-08_2_H18_s1',\n",
       " 'HEPG2-08_2_H20_s1',\n",
       " 'HEPG2-08_2_H21_s1',\n",
       " 'HEPG2-08_2_H23_s1',\n",
       " 'HEPG2-08_2_I02_s1',\n",
       " 'HEPG2-08_2_I03_s1',\n",
       " 'HEPG2-08_2_I04_s1',\n",
       " 'HEPG2-08_2_I05_s1',\n",
       " 'HEPG2-08_2_I06_s1',\n",
       " 'HEPG2-08_2_I07_s1',\n",
       " 'HEPG2-08_2_I08_s1',\n",
       " 'HEPG2-08_2_I09_s1',\n",
       " 'HEPG2-08_2_I10_s1',\n",
       " 'HEPG2-08_2_I11_s1',\n",
       " 'HEPG2-08_2_I12_s1',\n",
       " 'HEPG2-08_2_I13_s1',\n",
       " 'HEPG2-08_2_I14_s1',\n",
       " 'HEPG2-08_2_I15_s1',\n",
       " 'HEPG2-08_2_I16_s1',\n",
       " 'HEPG2-08_2_I17_s1',\n",
       " 'HEPG2-08_2_I18_s1',\n",
       " 'HEPG2-08_2_I19_s1',\n",
       " 'HEPG2-08_2_I20_s1',\n",
       " 'HEPG2-08_2_I21_s1',\n",
       " 'HEPG2-08_2_I22_s1',\n",
       " 'HEPG2-08_2_I23_s1',\n",
       " 'HEPG2-08_2_J02_s1',\n",
       " 'HEPG2-08_2_J04_s1',\n",
       " 'HEPG2-08_2_J05_s1',\n",
       " 'HEPG2-08_2_J06_s1',\n",
       " 'HEPG2-08_2_J08_s1',\n",
       " 'HEPG2-08_2_J09_s1',\n",
       " 'HEPG2-08_2_J10_s1',\n",
       " 'HEPG2-08_2_J12_s1',\n",
       " 'HEPG2-08_2_J13_s1',\n",
       " 'HEPG2-08_2_J14_s1',\n",
       " 'HEPG2-08_2_J16_s1',\n",
       " 'HEPG2-08_2_J17_s1',\n",
       " 'HEPG2-08_2_J18_s1',\n",
       " 'HEPG2-08_2_J20_s1',\n",
       " 'HEPG2-08_2_J21_s1',\n",
       " 'HEPG2-08_2_J23_s1',\n",
       " 'HEPG2-08_2_K02_s1',\n",
       " 'HEPG2-08_2_K03_s1',\n",
       " 'HEPG2-08_2_K04_s1',\n",
       " 'HEPG2-08_2_K05_s1',\n",
       " 'HEPG2-08_2_K06_s1',\n",
       " 'HEPG2-08_2_K07_s1',\n",
       " 'HEPG2-08_2_K08_s1',\n",
       " 'HEPG2-08_2_K09_s1',\n",
       " 'HEPG2-08_2_K10_s1',\n",
       " 'HEPG2-08_2_K11_s1',\n",
       " 'HEPG2-08_2_K12_s1',\n",
       " 'HEPG2-08_2_K13_s1',\n",
       " 'HEPG2-08_2_K14_s1',\n",
       " 'HEPG2-08_2_K15_s1',\n",
       " 'HEPG2-08_2_K16_s1',\n",
       " 'HEPG2-08_2_K17_s1',\n",
       " 'HEPG2-08_2_K18_s1',\n",
       " 'HEPG2-08_2_K19_s1',\n",
       " 'HEPG2-08_2_K20_s1',\n",
       " 'HEPG2-08_2_K21_s1',\n",
       " 'HEPG2-08_2_K22_s1',\n",
       " 'HEPG2-08_2_K23_s1',\n",
       " 'HEPG2-08_2_L02_s1',\n",
       " 'HEPG2-08_2_L03_s1',\n",
       " 'HEPG2-08_2_L04_s1',\n",
       " 'HEPG2-08_2_L05_s1',\n",
       " 'HEPG2-08_2_L06_s1',\n",
       " 'HEPG2-08_2_L07_s1',\n",
       " 'HEPG2-08_2_L08_s1',\n",
       " 'HEPG2-08_2_L09_s1',\n",
       " 'HEPG2-08_2_L10_s1',\n",
       " 'HEPG2-08_2_L11_s1',\n",
       " 'HEPG2-08_2_L12_s1',\n",
       " 'HEPG2-08_2_L13_s1',\n",
       " 'HEPG2-08_2_L14_s1',\n",
       " 'HEPG2-08_2_L15_s1',\n",
       " 'HEPG2-08_2_L16_s1',\n",
       " 'HEPG2-08_2_L17_s1',\n",
       " 'HEPG2-08_2_L18_s1',\n",
       " 'HEPG2-08_2_L19_s1',\n",
       " 'HEPG2-08_2_L20_s1',\n",
       " 'HEPG2-08_2_L21_s1',\n",
       " 'HEPG2-08_2_L22_s1',\n",
       " 'HEPG2-08_2_L23_s1',\n",
       " 'HEPG2-08_2_M02_s1',\n",
       " 'HEPG2-08_2_M04_s1',\n",
       " 'HEPG2-08_2_M05_s1',\n",
       " 'HEPG2-08_2_M06_s1',\n",
       " 'HEPG2-08_2_M08_s1',\n",
       " 'HEPG2-08_2_M09_s1',\n",
       " 'HEPG2-08_2_M10_s1',\n",
       " 'HEPG2-08_2_M12_s1',\n",
       " 'HEPG2-08_2_M13_s1',\n",
       " 'HEPG2-08_2_M14_s1',\n",
       " 'HEPG2-08_2_M16_s1',\n",
       " 'HEPG2-08_2_M17_s1',\n",
       " 'HEPG2-08_2_M18_s1',\n",
       " 'HEPG2-08_2_M20_s1',\n",
       " 'HEPG2-08_2_M21_s1',\n",
       " 'HEPG2-08_2_M23_s1',\n",
       " 'HEPG2-08_2_N02_s1',\n",
       " 'HEPG2-08_2_N03_s1',\n",
       " 'HEPG2-08_2_N04_s1',\n",
       " 'HEPG2-08_2_N05_s1',\n",
       " 'HEPG2-08_2_N06_s1',\n",
       " 'HEPG2-08_2_N07_s1',\n",
       " 'HEPG2-08_2_N08_s1',\n",
       " 'HEPG2-08_2_N09_s1',\n",
       " 'HEPG2-08_2_N10_s1',\n",
       " 'HEPG2-08_2_N11_s1',\n",
       " 'HEPG2-08_2_N12_s1',\n",
       " 'HEPG2-08_2_N13_s1',\n",
       " 'HEPG2-08_2_N14_s1',\n",
       " 'HEPG2-08_2_N15_s1',\n",
       " 'HEPG2-08_2_N16_s1',\n",
       " 'HEPG2-08_2_N17_s1',\n",
       " 'HEPG2-08_2_N18_s1',\n",
       " 'HEPG2-08_2_N19_s1',\n",
       " 'HEPG2-08_2_N20_s1',\n",
       " 'HEPG2-08_2_N21_s1',\n",
       " 'HEPG2-08_2_N22_s1',\n",
       " 'HEPG2-08_2_N23_s1',\n",
       " 'HEPG2-08_2_O02_s1',\n",
       " 'HEPG2-08_2_O03_s1',\n",
       " 'HEPG2-08_2_O04_s1',\n",
       " 'HEPG2-08_2_O05_s1',\n",
       " 'HEPG2-08_2_O06_s1',\n",
       " 'HEPG2-08_2_O07_s1',\n",
       " 'HEPG2-08_2_O08_s1',\n",
       " 'HEPG2-08_2_O09_s1',\n",
       " 'HEPG2-08_2_O10_s1',\n",
       " 'HEPG2-08_2_O11_s1',\n",
       " 'HEPG2-08_2_O12_s1',\n",
       " 'HEPG2-08_2_O13_s1',\n",
       " 'HEPG2-08_2_O14_s1',\n",
       " 'HEPG2-08_2_O15_s1',\n",
       " 'HEPG2-08_2_O16_s1',\n",
       " 'HEPG2-08_2_O17_s1',\n",
       " 'HEPG2-08_2_O18_s1',\n",
       " 'HEPG2-08_2_O19_s1',\n",
       " 'HEPG2-08_2_O20_s1',\n",
       " 'HEPG2-08_2_O21_s1',\n",
       " 'HEPG2-08_2_O22_s1',\n",
       " 'HEPG2-08_2_O23_s1',\n",
       " 'HEPG2-09_3_B03_s1',\n",
       " 'HEPG2-09_3_B04_s1',\n",
       " 'HEPG2-09_3_B05_s1',\n",
       " 'HEPG2-09_3_B06_s1',\n",
       " 'HEPG2-09_3_B07_s1',\n",
       " 'HEPG2-09_3_B08_s1',\n",
       " 'HEPG2-09_3_B09_s1',\n",
       " 'HEPG2-09_3_B10_s1',\n",
       " 'HEPG2-09_3_B11_s1',\n",
       " 'HEPG2-09_3_B12_s1',\n",
       " 'HEPG2-09_3_B13_s1',\n",
       " 'HEPG2-09_3_B14_s1',\n",
       " 'HEPG2-09_3_B15_s1',\n",
       " 'HEPG2-09_3_B16_s1',\n",
       " 'HEPG2-09_3_B17_s1',\n",
       " 'HEPG2-09_3_B18_s1',\n",
       " 'HEPG2-09_3_B19_s1',\n",
       " 'HEPG2-09_3_B20_s1',\n",
       " 'HEPG2-09_3_B21_s1',\n",
       " 'HEPG2-09_3_B22_s1',\n",
       " 'HEPG2-09_3_B23_s1',\n",
       " 'HEPG2-09_3_C02_s1',\n",
       " 'HEPG2-09_3_C04_s1',\n",
       " 'HEPG2-09_3_C05_s1',\n",
       " 'HEPG2-09_3_C06_s1',\n",
       " 'HEPG2-09_3_C08_s1',\n",
       " 'HEPG2-09_3_C09_s1',\n",
       " 'HEPG2-09_3_C10_s1',\n",
       " 'HEPG2-09_3_C12_s1',\n",
       " 'HEPG2-09_3_C13_s1',\n",
       " 'HEPG2-09_3_C14_s1',\n",
       " 'HEPG2-09_3_C16_s1',\n",
       " 'HEPG2-09_3_C17_s1',\n",
       " 'HEPG2-09_3_C18_s1',\n",
       " 'HEPG2-09_3_C20_s1',\n",
       " 'HEPG2-09_3_C21_s1',\n",
       " 'HEPG2-09_3_C23_s1',\n",
       " 'HEPG2-09_3_D02_s1',\n",
       " 'HEPG2-09_3_D03_s1',\n",
       " 'HEPG2-09_3_D04_s1',\n",
       " 'HEPG2-09_3_D05_s1',\n",
       " 'HEPG2-09_3_D06_s1',\n",
       " 'HEPG2-09_3_D07_s1',\n",
       " 'HEPG2-09_3_D08_s1',\n",
       " 'HEPG2-09_3_D09_s1',\n",
       " 'HEPG2-09_3_D10_s1',\n",
       " 'HEPG2-09_3_D11_s1',\n",
       " 'HEPG2-09_3_D12_s1',\n",
       " 'HEPG2-09_3_D13_s1',\n",
       " 'HEPG2-09_3_D14_s1',\n",
       " 'HEPG2-09_3_D15_s1',\n",
       " 'HEPG2-09_3_D16_s1',\n",
       " 'HEPG2-09_3_D17_s1',\n",
       " 'HEPG2-09_3_D18_s1',\n",
       " 'HEPG2-09_3_D19_s1',\n",
       " 'HEPG2-09_3_D20_s1',\n",
       " 'HEPG2-09_3_D21_s1',\n",
       " 'HEPG2-09_3_D22_s1',\n",
       " 'HEPG2-09_3_D23_s1',\n",
       " 'HEPG2-09_3_E02_s1',\n",
       " 'HEPG2-09_3_E03_s1',\n",
       " 'HEPG2-09_3_E04_s1',\n",
       " 'HEPG2-09_3_E05_s1',\n",
       " 'HEPG2-09_3_E06_s1',\n",
       " 'HEPG2-09_3_E07_s1',\n",
       " 'HEPG2-09_3_E08_s1',\n",
       " 'HEPG2-09_3_E09_s1',\n",
       " 'HEPG2-09_3_E10_s1',\n",
       " 'HEPG2-09_3_E11_s1',\n",
       " 'HEPG2-09_3_E12_s1',\n",
       " 'HEPG2-09_3_E13_s1',\n",
       " 'HEPG2-09_3_E14_s1',\n",
       " 'HEPG2-09_3_E15_s1',\n",
       " 'HEPG2-09_3_E16_s1',\n",
       " 'HEPG2-09_3_E17_s1',\n",
       " 'HEPG2-09_3_E18_s1',\n",
       " 'HEPG2-09_3_E19_s1',\n",
       " 'HEPG2-09_3_E20_s1',\n",
       " 'HEPG2-09_3_E21_s1',\n",
       " 'HEPG2-09_3_E22_s1',\n",
       " 'HEPG2-09_3_E23_s1',\n",
       " 'HEPG2-09_3_F02_s1',\n",
       " 'HEPG2-09_3_F04_s1',\n",
       " 'HEPG2-09_3_F05_s1',\n",
       " 'HEPG2-09_3_F06_s1',\n",
       " 'HEPG2-09_3_F08_s1',\n",
       " 'HEPG2-09_3_F09_s1',\n",
       " 'HEPG2-09_3_F10_s1',\n",
       " 'HEPG2-09_3_F12_s1',\n",
       " 'HEPG2-09_3_F13_s1',\n",
       " 'HEPG2-09_3_F14_s1',\n",
       " 'HEPG2-09_3_F16_s1',\n",
       " 'HEPG2-09_3_F17_s1',\n",
       " 'HEPG2-09_3_F18_s1',\n",
       " 'HEPG2-09_3_F20_s1',\n",
       " 'HEPG2-09_3_F21_s1',\n",
       " 'HEPG2-09_3_F23_s1',\n",
       " 'HEPG2-09_3_G02_s1',\n",
       " 'HEPG2-09_3_G03_s1',\n",
       " 'HEPG2-09_3_G04_s1',\n",
       " 'HEPG2-09_3_G05_s1',\n",
       " 'HEPG2-09_3_G06_s1',\n",
       " 'HEPG2-09_3_G07_s1',\n",
       " 'HEPG2-09_3_G08_s1',\n",
       " 'HEPG2-09_3_G09_s1',\n",
       " 'HEPG2-09_3_G10_s1',\n",
       " 'HEPG2-09_3_G11_s1',\n",
       " 'HEPG2-09_3_G12_s1',\n",
       " 'HEPG2-09_3_G13_s1',\n",
       " 'HEPG2-09_3_G14_s1',\n",
       " 'HEPG2-09_3_G15_s1',\n",
       " 'HEPG2-09_3_G16_s1',\n",
       " 'HEPG2-09_3_G17_s1',\n",
       " 'HEPG2-09_3_G18_s1',\n",
       " 'HEPG2-09_3_G19_s1',\n",
       " 'HEPG2-09_3_G20_s1',\n",
       " 'HEPG2-09_3_G21_s1',\n",
       " 'HEPG2-09_3_G22_s1',\n",
       " 'HEPG2-09_3_G23_s1',\n",
       " 'HEPG2-09_3_H02_s1',\n",
       " 'HEPG2-09_3_H04_s1',\n",
       " 'HEPG2-09_3_H05_s1',\n",
       " 'HEPG2-09_3_H06_s1',\n",
       " 'HEPG2-09_3_H08_s1',\n",
       " 'HEPG2-09_3_H09_s1',\n",
       " 'HEPG2-09_3_H10_s1',\n",
       " 'HEPG2-09_3_H12_s1',\n",
       " 'HEPG2-09_3_H13_s1',\n",
       " 'HEPG2-09_3_H14_s1',\n",
       " 'HEPG2-09_3_H16_s1',\n",
       " 'HEPG2-09_3_H17_s1',\n",
       " 'HEPG2-09_3_H18_s1',\n",
       " 'HEPG2-09_3_H20_s1',\n",
       " 'HEPG2-09_3_H21_s1',\n",
       " 'HEPG2-09_3_H23_s1',\n",
       " 'HEPG2-09_3_I02_s1',\n",
       " 'HEPG2-09_3_I03_s1',\n",
       " 'HEPG2-09_3_I04_s1',\n",
       " 'HEPG2-09_3_I05_s1',\n",
       " 'HEPG2-09_3_I06_s1',\n",
       " 'HEPG2-09_3_I07_s1',\n",
       " 'HEPG2-09_3_I08_s1',\n",
       " 'HEPG2-09_3_I09_s1',\n",
       " 'HEPG2-09_3_I10_s1',\n",
       " 'HEPG2-09_3_I11_s1',\n",
       " 'HEPG2-09_3_I12_s1',\n",
       " 'HEPG2-09_3_I13_s1',\n",
       " 'HEPG2-09_3_I14_s1',\n",
       " 'HEPG2-09_3_I15_s1',\n",
       " 'HEPG2-09_3_I16_s1',\n",
       " 'HEPG2-09_3_I17_s1',\n",
       " 'HEPG2-09_3_I18_s1',\n",
       " 'HEPG2-09_3_I19_s1',\n",
       " 'HEPG2-09_3_I20_s1',\n",
       " 'HEPG2-09_3_I21_s1',\n",
       " 'HEPG2-09_3_I22_s1',\n",
       " 'HEPG2-09_3_I23_s1',\n",
       " 'HEPG2-09_3_J02_s1',\n",
       " 'HEPG2-09_3_J04_s1',\n",
       " 'HEPG2-09_3_J05_s1',\n",
       " 'HEPG2-09_3_J06_s1',\n",
       " 'HEPG2-09_3_J08_s1',\n",
       " 'HEPG2-09_3_J09_s1',\n",
       " 'HEPG2-09_3_J10_s1',\n",
       " 'HEPG2-09_3_J12_s1',\n",
       " 'HEPG2-09_3_J13_s1',\n",
       " 'HEPG2-09_3_J14_s1',\n",
       " 'HEPG2-09_3_J16_s1',\n",
       " 'HEPG2-09_3_J17_s1',\n",
       " 'HEPG2-09_3_J18_s1',\n",
       " 'HEPG2-09_3_J20_s1',\n",
       " 'HEPG2-09_3_J21_s1',\n",
       " 'HEPG2-09_3_J23_s1',\n",
       " 'HEPG2-09_3_K02_s1',\n",
       " 'HEPG2-09_3_K03_s1',\n",
       " 'HEPG2-09_3_K04_s1',\n",
       " 'HEPG2-09_3_K05_s1',\n",
       " 'HEPG2-09_3_K06_s1',\n",
       " 'HEPG2-09_3_K07_s1',\n",
       " 'HEPG2-09_3_K08_s1',\n",
       " 'HEPG2-09_3_K09_s1',\n",
       " 'HEPG2-09_3_K10_s1',\n",
       " 'HEPG2-09_3_K11_s1',\n",
       " 'HEPG2-09_3_K12_s1',\n",
       " 'HEPG2-09_3_K13_s1',\n",
       " 'HEPG2-09_3_K14_s1',\n",
       " 'HEPG2-09_3_K15_s1',\n",
       " 'HEPG2-09_3_K16_s1',\n",
       " 'HEPG2-09_3_K17_s1',\n",
       " 'HEPG2-09_3_K18_s1',\n",
       " 'HEPG2-09_3_K19_s1',\n",
       " 'HEPG2-09_3_K20_s1',\n",
       " 'HEPG2-09_3_K21_s1',\n",
       " 'HEPG2-09_3_K22_s1',\n",
       " 'HEPG2-09_3_K23_s1',\n",
       " 'HEPG2-09_3_L02_s1',\n",
       " 'HEPG2-09_3_L03_s1',\n",
       " 'HEPG2-09_3_L04_s1',\n",
       " 'HEPG2-09_3_L05_s1',\n",
       " 'HEPG2-09_3_L06_s1',\n",
       " 'HEPG2-09_3_L07_s1',\n",
       " 'HEPG2-09_3_L08_s1',\n",
       " 'HEPG2-09_3_L09_s1',\n",
       " 'HEPG2-09_3_L10_s1',\n",
       " 'HEPG2-09_3_L11_s1',\n",
       " 'HEPG2-09_3_L12_s1',\n",
       " 'HEPG2-09_3_L13_s1',\n",
       " 'HEPG2-09_3_L14_s1',\n",
       " 'HEPG2-09_3_L15_s1',\n",
       " 'HEPG2-09_3_L16_s1',\n",
       " 'HEPG2-09_3_L17_s1',\n",
       " 'HEPG2-09_3_L18_s1',\n",
       " 'HEPG2-09_3_L19_s1',\n",
       " 'HEPG2-09_3_L20_s1',\n",
       " 'HEPG2-09_3_L21_s1',\n",
       " 'HEPG2-09_3_L22_s1',\n",
       " 'HEPG2-09_3_L23_s1',\n",
       " 'HEPG2-09_3_M02_s1',\n",
       " 'HEPG2-09_3_M04_s1',\n",
       " 'HEPG2-09_3_M05_s1',\n",
       " 'HEPG2-09_3_M06_s1',\n",
       " 'HEPG2-09_3_M08_s1',\n",
       " 'HEPG2-09_3_M09_s1',\n",
       " 'HEPG2-09_3_M10_s1',\n",
       " 'HEPG2-09_3_M12_s1',\n",
       " 'HEPG2-09_3_M13_s1',\n",
       " 'HEPG2-09_3_M14_s1',\n",
       " 'HEPG2-09_3_M16_s1',\n",
       " 'HEPG2-09_3_M17_s1',\n",
       " 'HEPG2-09_3_M18_s1',\n",
       " 'HEPG2-09_3_M20_s1',\n",
       " 'HEPG2-09_3_M21_s1',\n",
       " 'HEPG2-09_3_M23_s1',\n",
       " 'HEPG2-09_3_N02_s1',\n",
       " 'HEPG2-09_3_N03_s1',\n",
       " 'HEPG2-09_3_N04_s1',\n",
       " 'HEPG2-09_3_N05_s1',\n",
       " 'HEPG2-09_3_N06_s1',\n",
       " 'HEPG2-09_3_N07_s1',\n",
       " 'HEPG2-09_3_N08_s1',\n",
       " 'HEPG2-09_3_N09_s1',\n",
       " 'HEPG2-09_3_N10_s1',\n",
       " 'HEPG2-09_3_N11_s1',\n",
       " 'HEPG2-09_3_N12_s1',\n",
       " 'HEPG2-09_3_N13_s1',\n",
       " 'HEPG2-09_3_N14_s1',\n",
       " 'HEPG2-09_3_N15_s1',\n",
       " 'HEPG2-09_3_N16_s1',\n",
       " 'HEPG2-09_3_N17_s1',\n",
       " 'HEPG2-09_3_N18_s1',\n",
       " 'HEPG2-09_3_N19_s1',\n",
       " 'HEPG2-09_3_N20_s1',\n",
       " 'HEPG2-09_3_N21_s1',\n",
       " 'HEPG2-09_3_N22_s1',\n",
       " 'HEPG2-09_3_N23_s1',\n",
       " 'HEPG2-09_3_O02_s1',\n",
       " 'HEPG2-09_3_O03_s1',\n",
       " 'HEPG2-09_3_O04_s1',\n",
       " 'HEPG2-09_3_O05_s1',\n",
       " 'HEPG2-09_3_O06_s1',\n",
       " 'HEPG2-09_3_O07_s1',\n",
       " 'HEPG2-09_3_O08_s1',\n",
       " 'HEPG2-09_3_O09_s1',\n",
       " 'HEPG2-09_3_O10_s1',\n",
       " 'HEPG2-09_3_O11_s1',\n",
       " 'HEPG2-09_3_O12_s1',\n",
       " 'HEPG2-09_3_O13_s1',\n",
       " 'HEPG2-09_3_O14_s1',\n",
       " 'HEPG2-09_3_O15_s1',\n",
       " 'HEPG2-09_3_O16_s1',\n",
       " 'HEPG2-09_3_O17_s1',\n",
       " 'HEPG2-09_3_O18_s1',\n",
       " 'HEPG2-09_3_O19_s1',\n",
       " 'HEPG2-09_3_O20_s1',\n",
       " 'HEPG2-09_3_O21_s1',\n",
       " 'HEPG2-09_3_O22_s1',\n",
       " 'HEPG2-09_3_O23_s1',\n",
       " 'HEPG2-10_1_B03_s1',\n",
       " 'HEPG2-10_1_B04_s1',\n",
       " 'HEPG2-10_1_B05_s1',\n",
       " 'HEPG2-10_1_B06_s1',\n",
       " 'HEPG2-10_1_B07_s1',\n",
       " 'HEPG2-10_1_B08_s1',\n",
       " 'HEPG2-10_1_B09_s1',\n",
       " 'HEPG2-10_1_B10_s1',\n",
       " 'HEPG2-10_1_B11_s1',\n",
       " 'HEPG2-10_1_B12_s1',\n",
       " 'HEPG2-10_1_B13_s1',\n",
       " 'HEPG2-10_1_B14_s1',\n",
       " 'HEPG2-10_1_B15_s1',\n",
       " 'HEPG2-10_1_B16_s1',\n",
       " 'HEPG2-10_1_B17_s1',\n",
       " 'HEPG2-10_1_B18_s1',\n",
       " 'HEPG2-10_1_B19_s1',\n",
       " 'HEPG2-10_1_B20_s1',\n",
       " 'HEPG2-10_1_B21_s1',\n",
       " 'HEPG2-10_1_B22_s1',\n",
       " 'HEPG2-10_1_B23_s1',\n",
       " 'HEPG2-10_1_C02_s1',\n",
       " 'HEPG2-10_1_C04_s1',\n",
       " 'HEPG2-10_1_C05_s1',\n",
       " 'HEPG2-10_1_C06_s1',\n",
       " 'HEPG2-10_1_C08_s1',\n",
       " 'HEPG2-10_1_C09_s1',\n",
       " 'HEPG2-10_1_C10_s1',\n",
       " 'HEPG2-10_1_C12_s1',\n",
       " 'HEPG2-10_1_C13_s1',\n",
       " 'HEPG2-10_1_C14_s1',\n",
       " 'HEPG2-10_1_C16_s1',\n",
       " 'HEPG2-10_1_C17_s1',\n",
       " 'HEPG2-10_1_C18_s1',\n",
       " 'HEPG2-10_1_C20_s1',\n",
       " 'HEPG2-10_1_C21_s1',\n",
       " 'HEPG2-10_1_C23_s1',\n",
       " 'HEPG2-10_1_D02_s1',\n",
       " 'HEPG2-10_1_D03_s1',\n",
       " 'HEPG2-10_1_D04_s1',\n",
       " 'HEPG2-10_1_D05_s1',\n",
       " 'HEPG2-10_1_D06_s1',\n",
       " 'HEPG2-10_1_D07_s1',\n",
       " 'HEPG2-10_1_D08_s1',\n",
       " 'HEPG2-10_1_D09_s1',\n",
       " 'HEPG2-10_1_D10_s1',\n",
       " 'HEPG2-10_1_D11_s1',\n",
       " 'HEPG2-10_1_D12_s1',\n",
       " 'HEPG2-10_1_D13_s1',\n",
       " 'HEPG2-10_1_D14_s1',\n",
       " 'HEPG2-10_1_D15_s1',\n",
       " 'HEPG2-10_1_D16_s1',\n",
       " 'HEPG2-10_1_D17_s1',\n",
       " 'HEPG2-10_1_D18_s1',\n",
       " 'HEPG2-10_1_D19_s1',\n",
       " 'HEPG2-10_1_D20_s1',\n",
       " 'HEPG2-10_1_D21_s1',\n",
       " 'HEPG2-10_1_D22_s1',\n",
       " 'HEPG2-10_1_D23_s1',\n",
       " 'HEPG2-10_1_E02_s1',\n",
       " 'HEPG2-10_1_E03_s1',\n",
       " 'HEPG2-10_1_E04_s1',\n",
       " 'HEPG2-10_1_E05_s1',\n",
       " 'HEPG2-10_1_E06_s1',\n",
       " 'HEPG2-10_1_E07_s1',\n",
       " 'HEPG2-10_1_E08_s1',\n",
       " 'HEPG2-10_1_E09_s1',\n",
       " 'HEPG2-10_1_E10_s1',\n",
       " 'HEPG2-10_1_E11_s1',\n",
       " 'HEPG2-10_1_E12_s1',\n",
       " 'HEPG2-10_1_E13_s1',\n",
       " 'HEPG2-10_1_E14_s1',\n",
       " 'HEPG2-10_1_E15_s1',\n",
       " 'HEPG2-10_1_E16_s1',\n",
       " 'HEPG2-10_1_E17_s1',\n",
       " 'HEPG2-10_1_E18_s1',\n",
       " 'HEPG2-10_1_E19_s1',\n",
       " 'HEPG2-10_1_E20_s1',\n",
       " 'HEPG2-10_1_E21_s1',\n",
       " 'HEPG2-10_1_E22_s1',\n",
       " 'HEPG2-10_1_E23_s1',\n",
       " 'HEPG2-10_1_F02_s1',\n",
       " 'HEPG2-10_1_F04_s1',\n",
       " 'HEPG2-10_1_F05_s1',\n",
       " 'HEPG2-10_1_F06_s1',\n",
       " 'HEPG2-10_1_F08_s1',\n",
       " 'HEPG2-10_1_F09_s1',\n",
       " 'HEPG2-10_1_F10_s1',\n",
       " 'HEPG2-10_1_F12_s1',\n",
       " 'HEPG2-10_1_F13_s1',\n",
       " 'HEPG2-10_1_F14_s1',\n",
       " 'HEPG2-10_1_F16_s1',\n",
       " 'HEPG2-10_1_F17_s1',\n",
       " 'HEPG2-10_1_F18_s1',\n",
       " 'HEPG2-10_1_F20_s1',\n",
       " 'HEPG2-10_1_F21_s1',\n",
       " 'HEPG2-10_1_F23_s1',\n",
       " 'HEPG2-10_1_G02_s1',\n",
       " 'HEPG2-10_1_G03_s1',\n",
       " 'HEPG2-10_1_G04_s1',\n",
       " 'HEPG2-10_1_G05_s1',\n",
       " 'HEPG2-10_1_G06_s1',\n",
       " 'HEPG2-10_1_G07_s1',\n",
       " 'HEPG2-10_1_G08_s1',\n",
       " 'HEPG2-10_1_G09_s1',\n",
       " 'HEPG2-10_1_G10_s1',\n",
       " 'HEPG2-10_1_G11_s1',\n",
       " 'HEPG2-10_1_G12_s1',\n",
       " 'HEPG2-10_1_G13_s1',\n",
       " 'HEPG2-10_1_G14_s1',\n",
       " 'HEPG2-10_1_G15_s1',\n",
       " 'HEPG2-10_1_G16_s1',\n",
       " 'HEPG2-10_1_G17_s1',\n",
       " 'HEPG2-10_1_G18_s1',\n",
       " 'HEPG2-10_1_G19_s1',\n",
       " 'HEPG2-10_1_G20_s1',\n",
       " 'HEPG2-10_1_G21_s1',\n",
       " 'HEPG2-10_1_G22_s1',\n",
       " 'HEPG2-10_1_G23_s1',\n",
       " 'HEPG2-10_1_H02_s1',\n",
       " 'HEPG2-10_1_H04_s1',\n",
       " 'HEPG2-10_1_H05_s1',\n",
       " 'HEPG2-10_1_H06_s1',\n",
       " 'HEPG2-10_1_H08_s1',\n",
       " 'HEPG2-10_1_H09_s1',\n",
       " 'HEPG2-10_1_H10_s1',\n",
       " 'HEPG2-10_1_H12_s1',\n",
       " 'HEPG2-10_1_H13_s1',\n",
       " 'HEPG2-10_1_H14_s1',\n",
       " 'HEPG2-10_1_H16_s1',\n",
       " 'HEPG2-10_1_H17_s1',\n",
       " 'HEPG2-10_1_H18_s1',\n",
       " 'HEPG2-10_1_H20_s1',\n",
       " 'HEPG2-10_1_H21_s1',\n",
       " 'HEPG2-10_1_H23_s1',\n",
       " 'HEPG2-10_1_I02_s1',\n",
       " 'HEPG2-10_1_I03_s1',\n",
       " 'HEPG2-10_1_I04_s1',\n",
       " 'HEPG2-10_1_I05_s1',\n",
       " 'HEPG2-10_1_I06_s1',\n",
       " 'HEPG2-10_1_I07_s1',\n",
       " 'HEPG2-10_1_I08_s1',\n",
       " 'HEPG2-10_1_I09_s1',\n",
       " 'HEPG2-10_1_I10_s1',\n",
       " 'HEPG2-10_1_I11_s1',\n",
       " 'HEPG2-10_1_I12_s1',\n",
       " 'HEPG2-10_1_I13_s1',\n",
       " 'HEPG2-10_1_I14_s1',\n",
       " 'HEPG2-10_1_I15_s1',\n",
       " 'HEPG2-10_1_I16_s1',\n",
       " 'HEPG2-10_1_I17_s1',\n",
       " 'HEPG2-10_1_I18_s1',\n",
       " 'HEPG2-10_1_I19_s1',\n",
       " 'HEPG2-10_1_I20_s1',\n",
       " 'HEPG2-10_1_I21_s1',\n",
       " 'HEPG2-10_1_I22_s1',\n",
       " 'HEPG2-10_1_I23_s1',\n",
       " 'HEPG2-10_1_J02_s1',\n",
       " 'HEPG2-10_1_J04_s1',\n",
       " 'HEPG2-10_1_J05_s1',\n",
       " 'HEPG2-10_1_J06_s1',\n",
       " 'HEPG2-10_1_J08_s1',\n",
       " 'HEPG2-10_1_J09_s1',\n",
       " 'HEPG2-10_1_J10_s1',\n",
       " 'HEPG2-10_1_J12_s1',\n",
       " 'HEPG2-10_1_J13_s1',\n",
       " 'HEPG2-10_1_J14_s1',\n",
       " 'HEPG2-10_1_J16_s1',\n",
       " 'HEPG2-10_1_J17_s1',\n",
       " 'HEPG2-10_1_J18_s1',\n",
       " 'HEPG2-10_1_J20_s1',\n",
       " 'HEPG2-10_1_J21_s1',\n",
       " 'HEPG2-10_1_J23_s1',\n",
       " 'HEPG2-10_1_K02_s1',\n",
       " 'HEPG2-10_1_K03_s1',\n",
       " 'HEPG2-10_1_K04_s1',\n",
       " 'HEPG2-10_1_K05_s1',\n",
       " 'HEPG2-10_1_K06_s1',\n",
       " 'HEPG2-10_1_K07_s1',\n",
       " 'HEPG2-10_1_K08_s1',\n",
       " 'HEPG2-10_1_K09_s1',\n",
       " 'HEPG2-10_1_K10_s1',\n",
       " 'HEPG2-10_1_K11_s1',\n",
       " 'HEPG2-10_1_K12_s1',\n",
       " 'HEPG2-10_1_K13_s1',\n",
       " 'HEPG2-10_1_K14_s1',\n",
       " 'HEPG2-10_1_K15_s1',\n",
       " 'HEPG2-10_1_K16_s1',\n",
       " 'HEPG2-10_1_K17_s1',\n",
       " 'HEPG2-10_1_K18_s1',\n",
       " 'HEPG2-10_1_K19_s1',\n",
       " 'HEPG2-10_1_K20_s1',\n",
       " 'HEPG2-10_1_K21_s1',\n",
       " 'HEPG2-10_1_K22_s1',\n",
       " 'HEPG2-10_1_K23_s1',\n",
       " 'HEPG2-10_1_L02_s1',\n",
       " 'HEPG2-10_1_L03_s1',\n",
       " 'HEPG2-10_1_L04_s1',\n",
       " 'HEPG2-10_1_L05_s1',\n",
       " 'HEPG2-10_1_L06_s1',\n",
       " 'HEPG2-10_1_L07_s1',\n",
       " 'HEPG2-10_1_L08_s1',\n",
       " 'HEPG2-10_1_L09_s1',\n",
       " 'HEPG2-10_1_L10_s1',\n",
       " 'HEPG2-10_1_L11_s1',\n",
       " 'HEPG2-10_1_L12_s1',\n",
       " 'HEPG2-10_1_L13_s1',\n",
       " 'HEPG2-10_1_L14_s1',\n",
       " 'HEPG2-10_1_L15_s1',\n",
       " 'HEPG2-10_1_L16_s1',\n",
       " 'HEPG2-10_1_L17_s1',\n",
       " 'HEPG2-10_1_L18_s1',\n",
       " 'HEPG2-10_1_L19_s1',\n",
       " 'HEPG2-10_1_L20_s1',\n",
       " 'HEPG2-10_1_L21_s1',\n",
       " 'HEPG2-10_1_L22_s1',\n",
       " 'HEPG2-10_1_L23_s1',\n",
       " 'HEPG2-10_1_M02_s1',\n",
       " 'HEPG2-10_1_M04_s1',\n",
       " 'HEPG2-10_1_M05_s1',\n",
       " 'HEPG2-10_1_M06_s1',\n",
       " 'HEPG2-10_1_M08_s1',\n",
       " 'HEPG2-10_1_M09_s1',\n",
       " 'HEPG2-10_1_M10_s1',\n",
       " 'HEPG2-10_1_M12_s1',\n",
       " 'HEPG2-10_1_M13_s1',\n",
       " 'HEPG2-10_1_M14_s1',\n",
       " 'HEPG2-10_1_M16_s1',\n",
       " 'HEPG2-10_1_M17_s1',\n",
       " 'HEPG2-10_1_M18_s1',\n",
       " 'HEPG2-10_1_M20_s1',\n",
       " 'HEPG2-10_1_M21_s1',\n",
       " 'HEPG2-10_1_M23_s1',\n",
       " 'HEPG2-10_1_N02_s1',\n",
       " 'HEPG2-10_1_N03_s1',\n",
       " 'HEPG2-10_1_N04_s1',\n",
       " 'HEPG2-10_1_N05_s1',\n",
       " 'HEPG2-10_1_N06_s1',\n",
       " 'HEPG2-10_1_N07_s1',\n",
       " 'HEPG2-10_1_N08_s1',\n",
       " 'HEPG2-10_1_N09_s1',\n",
       " 'HEPG2-10_1_N10_s1',\n",
       " 'HEPG2-10_1_N11_s1',\n",
       " 'HEPG2-10_1_N12_s1',\n",
       " 'HEPG2-10_1_N13_s1',\n",
       " 'HEPG2-10_1_N14_s1',\n",
       " 'HEPG2-10_1_N15_s1',\n",
       " 'HEPG2-10_1_N16_s1',\n",
       " 'HEPG2-10_1_N17_s1',\n",
       " 'HEPG2-10_1_N18_s1',\n",
       " 'HEPG2-10_1_N19_s1',\n",
       " 'HEPG2-10_1_N20_s1',\n",
       " 'HEPG2-10_1_N21_s1',\n",
       " 'HEPG2-10_1_N22_s1',\n",
       " 'HEPG2-10_1_N23_s1',\n",
       " 'HEPG2-10_1_O02_s1',\n",
       " 'HEPG2-10_1_O03_s1',\n",
       " 'HEPG2-10_1_O04_s1',\n",
       " 'HEPG2-10_1_O05_s1',\n",
       " 'HEPG2-10_1_O06_s1',\n",
       " 'HEPG2-10_1_O07_s1',\n",
       " 'HEPG2-10_1_O08_s1',\n",
       " 'HEPG2-10_1_O09_s1',\n",
       " 'HEPG2-10_1_O10_s1',\n",
       " 'HEPG2-10_1_O11_s1',\n",
       " 'HEPG2-10_1_O12_s1',\n",
       " 'HEPG2-10_1_O13_s1',\n",
       " 'HEPG2-10_1_O14_s1',\n",
       " 'HEPG2-10_1_O15_s1',\n",
       " 'HEPG2-10_1_O16_s1',\n",
       " 'HEPG2-10_1_O17_s1',\n",
       " 'HEPG2-10_1_O18_s1',\n",
       " 'HEPG2-10_1_O19_s1',\n",
       " 'HEPG2-10_1_O20_s1',\n",
       " 'HEPG2-10_1_O21_s1',\n",
       " 'HEPG2-10_1_O22_s1',\n",
       " 'HEPG2-10_1_O23_s1',\n",
       " 'HEPG2-11_1_B03_s1',\n",
       " 'HEPG2-11_1_B04_s1',\n",
       " 'HEPG2-11_1_B05_s1',\n",
       " 'HEPG2-11_1_B06_s1',\n",
       " 'HEPG2-11_1_B07_s1',\n",
       " 'HEPG2-11_1_B08_s1',\n",
       " 'HEPG2-11_1_B09_s1',\n",
       " 'HEPG2-11_1_B10_s1',\n",
       " 'HEPG2-11_1_B11_s1',\n",
       " 'HEPG2-11_1_B12_s1',\n",
       " 'HEPG2-11_1_B13_s1',\n",
       " 'HEPG2-11_1_B14_s1',\n",
       " 'HEPG2-11_1_B15_s1',\n",
       " 'HEPG2-11_1_B16_s1',\n",
       " 'HEPG2-11_1_B17_s1',\n",
       " 'HEPG2-11_1_B18_s1',\n",
       " 'HEPG2-11_1_B19_s1',\n",
       " 'HEPG2-11_1_B20_s1',\n",
       " 'HEPG2-11_1_B21_s1',\n",
       " 'HEPG2-11_1_B22_s1',\n",
       " 'HEPG2-11_1_B23_s1',\n",
       " 'HEPG2-11_1_C02_s1',\n",
       " 'HEPG2-11_1_C04_s1',\n",
       " 'HEPG2-11_1_C05_s1',\n",
       " 'HEPG2-11_1_C06_s1',\n",
       " 'HEPG2-11_1_C08_s1',\n",
       " 'HEPG2-11_1_C09_s1',\n",
       " 'HEPG2-11_1_C10_s1',\n",
       " 'HEPG2-11_1_C12_s1',\n",
       " 'HEPG2-11_1_C13_s1',\n",
       " 'HEPG2-11_1_C14_s1',\n",
       " 'HEPG2-11_1_C16_s1',\n",
       " 'HEPG2-11_1_C17_s1',\n",
       " 'HEPG2-11_1_C18_s1',\n",
       " 'HEPG2-11_1_C20_s1',\n",
       " 'HEPG2-11_1_C21_s1',\n",
       " 'HEPG2-11_1_C23_s1',\n",
       " 'HEPG2-11_1_D02_s1',\n",
       " 'HEPG2-11_1_D03_s1',\n",
       " 'HEPG2-11_1_D04_s1',\n",
       " 'HEPG2-11_1_D05_s1',\n",
       " 'HEPG2-11_1_D06_s1',\n",
       " 'HEPG2-11_1_D07_s1',\n",
       " 'HEPG2-11_1_D08_s1',\n",
       " 'HEPG2-11_1_D09_s1',\n",
       " 'HEPG2-11_1_D10_s1',\n",
       " 'HEPG2-11_1_D11_s1',\n",
       " 'HEPG2-11_1_D12_s1',\n",
       " 'HEPG2-11_1_D13_s1',\n",
       " 'HEPG2-11_1_D14_s1',\n",
       " 'HEPG2-11_1_D15_s1',\n",
       " 'HEPG2-11_1_D16_s1',\n",
       " 'HEPG2-11_1_D17_s1',\n",
       " 'HEPG2-11_1_D18_s1',\n",
       " 'HEPG2-11_1_D19_s1',\n",
       " 'HEPG2-11_1_D20_s1',\n",
       " 'HEPG2-11_1_D21_s1',\n",
       " 'HEPG2-11_1_D22_s1',\n",
       " 'HEPG2-11_1_D23_s1',\n",
       " 'HEPG2-11_1_E02_s1',\n",
       " 'HEPG2-11_1_E03_s1',\n",
       " 'HEPG2-11_1_E04_s1',\n",
       " 'HEPG2-11_1_E05_s1',\n",
       " 'HEPG2-11_1_E06_s1',\n",
       " 'HEPG2-11_1_E07_s1',\n",
       " 'HEPG2-11_1_E08_s1',\n",
       " 'HEPG2-11_1_E09_s1',\n",
       " 'HEPG2-11_1_E10_s1',\n",
       " 'HEPG2-11_1_E11_s1',\n",
       " 'HEPG2-11_1_E12_s1',\n",
       " 'HEPG2-11_1_E13_s1',\n",
       " 'HEPG2-11_1_E14_s1',\n",
       " 'HEPG2-11_1_E15_s1',\n",
       " 'HEPG2-11_1_E16_s1',\n",
       " 'HEPG2-11_1_E17_s1',\n",
       " 'HEPG2-11_1_E18_s1',\n",
       " 'HEPG2-11_1_E19_s1',\n",
       " 'HEPG2-11_1_E20_s1',\n",
       " 'HEPG2-11_1_E21_s1',\n",
       " 'HEPG2-11_1_E22_s1',\n",
       " 'HEPG2-11_1_E23_s1',\n",
       " 'HEPG2-11_1_F02_s1',\n",
       " 'HEPG2-11_1_F04_s1',\n",
       " 'HEPG2-11_1_F05_s1',\n",
       " 'HEPG2-11_1_F06_s1',\n",
       " 'HEPG2-11_1_F08_s1',\n",
       " 'HEPG2-11_1_F09_s1',\n",
       " 'HEPG2-11_1_F10_s1',\n",
       " 'HEPG2-11_1_F12_s1',\n",
       " 'HEPG2-11_1_F13_s1',\n",
       " 'HEPG2-11_1_F14_s1',\n",
       " 'HEPG2-11_1_F16_s1',\n",
       " 'HEPG2-11_1_F17_s1',\n",
       " 'HEPG2-11_1_F18_s1',\n",
       " 'HEPG2-11_1_F20_s1',\n",
       " 'HEPG2-11_1_F21_s1',\n",
       " 'HEPG2-11_1_F23_s1',\n",
       " 'HEPG2-11_1_G02_s1',\n",
       " 'HEPG2-11_1_G03_s1',\n",
       " 'HEPG2-11_1_G04_s1',\n",
       " 'HEPG2-11_1_G05_s1',\n",
       " 'HEPG2-11_1_G06_s1',\n",
       " 'HEPG2-11_1_G07_s1',\n",
       " 'HEPG2-11_1_G08_s1',\n",
       " 'HEPG2-11_1_G09_s1',\n",
       " 'HEPG2-11_1_G10_s1',\n",
       " 'HEPG2-11_1_G11_s1',\n",
       " 'HEPG2-11_1_G12_s1',\n",
       " 'HEPG2-11_1_G13_s1',\n",
       " 'HEPG2-11_1_G14_s1',\n",
       " 'HEPG2-11_1_G15_s1',\n",
       " 'HEPG2-11_1_G16_s1',\n",
       " 'HEPG2-11_1_G17_s1',\n",
       " 'HEPG2-11_1_G18_s1',\n",
       " 'HEPG2-11_1_G19_s1',\n",
       " 'HEPG2-11_1_G20_s1',\n",
       " 'HEPG2-11_1_G21_s1',\n",
       " 'HEPG2-11_1_G22_s1',\n",
       " 'HEPG2-11_1_G23_s1',\n",
       " 'HEPG2-11_1_H02_s1',\n",
       " 'HEPG2-11_1_H04_s1',\n",
       " 'HEPG2-11_1_H05_s1',\n",
       " 'HEPG2-11_1_H06_s1',\n",
       " 'HEPG2-11_1_H08_s1',\n",
       " 'HEPG2-11_1_H09_s1',\n",
       " 'HEPG2-11_1_H10_s1',\n",
       " 'HEPG2-11_1_H12_s1',\n",
       " 'HEPG2-11_1_H13_s1',\n",
       " 'HEPG2-11_1_H14_s1',\n",
       " 'HEPG2-11_1_H16_s1',\n",
       " 'HEPG2-11_1_H17_s1',\n",
       " 'HEPG2-11_1_H18_s1',\n",
       " 'HEPG2-11_1_H20_s1',\n",
       " 'HEPG2-11_1_H21_s1',\n",
       " 'HEPG2-11_1_H23_s1',\n",
       " 'HEPG2-11_1_I02_s1',\n",
       " 'HEPG2-11_1_I03_s1',\n",
       " 'HEPG2-11_1_I04_s1',\n",
       " 'HEPG2-11_1_I05_s1',\n",
       " 'HEPG2-11_1_I06_s1',\n",
       " 'HEPG2-11_1_I07_s1',\n",
       " 'HEPG2-11_1_I08_s1',\n",
       " 'HEPG2-11_1_I09_s1',\n",
       " 'HEPG2-11_1_I10_s1',\n",
       " 'HEPG2-11_1_I11_s1',\n",
       " 'HEPG2-11_1_I12_s1',\n",
       " 'HEPG2-11_1_I13_s1',\n",
       " 'HEPG2-11_1_I14_s1',\n",
       " 'HEPG2-11_1_I15_s1',\n",
       " 'HEPG2-11_1_I16_s1',\n",
       " 'HEPG2-11_1_I17_s1',\n",
       " 'HEPG2-11_1_I18_s1',\n",
       " 'HEPG2-11_1_I19_s1',\n",
       " 'HEPG2-11_1_I20_s1',\n",
       " 'HEPG2-11_1_I21_s1',\n",
       " 'HEPG2-11_1_I22_s1',\n",
       " 'HEPG2-11_1_I23_s1',\n",
       " 'HEPG2-11_1_J02_s1',\n",
       " 'HEPG2-11_1_J04_s1',\n",
       " 'HEPG2-11_1_J05_s1',\n",
       " 'HEPG2-11_1_J06_s1',\n",
       " 'HEPG2-11_1_J08_s1',\n",
       " 'HEPG2-11_1_J09_s1',\n",
       " 'HEPG2-11_1_J10_s1',\n",
       " 'HEPG2-11_1_J12_s1',\n",
       " 'HEPG2-11_1_J13_s1',\n",
       " 'HEPG2-11_1_J14_s1',\n",
       " 'HEPG2-11_1_J16_s1',\n",
       " 'HEPG2-11_1_J17_s1',\n",
       " ...]"
      ]
     },
     "execution_count": 240,
     "metadata": {},
     "output_type": "execute_result"
    }
   ],
   "source": [
    "preds_names"
   ]
  },
  {
   "cell_type": "code",
   "execution_count": 241,
   "metadata": {
    "ExecuteTime": {
     "end_time": "2019-09-04T21:40:39.954318Z",
     "start_time": "2019-09-04T21:40:39.933596Z"
    }
   },
   "outputs": [],
   "source": [
    "#https://stackoverflow.com/questions/27745500/how-to-save-a-list-to-a-file-and-read-it-as-a-list-type\n",
    "with open('pred/preds_test_pg0123-all-ct_names.txt', 'wb') as fp:   #Pickling\n",
    "    pickle.dump(preds_names, fp)"
   ]
  },
  {
   "cell_type": "code",
   "execution_count": 11,
   "metadata": {
    "ExecuteTime": {
     "end_time": "2019-09-05T04:53:06.551207Z",
     "start_time": "2019-09-05T04:53:06.531333Z"
    }
   },
   "outputs": [],
   "source": [
    "with open('pred/preds_test_pg0123-all-ct_names.txt', 'rb') as fp:   # Unpickling\n",
    "    preds_names = pickle.load(fp)"
   ]
  },
  {
   "cell_type": "code",
   "execution_count": 243,
   "metadata": {
    "ExecuteTime": {
     "end_time": "2019-09-04T21:40:42.460377Z",
     "start_time": "2019-09-04T21:40:42.443021Z"
    }
   },
   "outputs": [],
   "source": [
    "preds_test = np.load('pred/preds_test_pg0123-all-ct.npy')\n",
    "dist_test = np.load('pred/dist_test_pg0123-all-ct.npy')"
   ]
  },
  {
   "cell_type": "code",
   "execution_count": 9,
   "metadata": {
    "ExecuteTime": {
     "end_time": "2019-09-05T04:52:50.276689Z",
     "start_time": "2019-09-05T04:52:50.260190Z"
    }
   },
   "outputs": [],
   "source": [
    "preds_test = np.load('pred/preds_test_pg0123-all-ct_k-means.npy')\n",
    "dist_test = np.load('pred/dist_test_pg0123-all-ct_k-means.npy')"
   ]
  },
  {
   "cell_type": "code",
   "execution_count": 12,
   "metadata": {
    "ExecuteTime": {
     "end_time": "2019-09-05T04:53:08.755996Z",
     "start_time": "2019-09-05T04:53:08.738870Z"
    }
   },
   "outputs": [
    {
     "data": {
      "text/plain": [
       "(39794, 39794, 39794)"
      ]
     },
     "execution_count": 12,
     "metadata": {},
     "output_type": "execute_result"
    }
   ],
   "source": [
    "len(preds_names), len(preds_test), len(dist_test)"
   ]
  },
  {
   "cell_type": "code",
   "execution_count": 245,
   "metadata": {
    "ExecuteTime": {
     "end_time": "2019-09-04T21:40:47.712824Z",
     "start_time": "2019-09-04T21:40:47.696355Z"
    }
   },
   "outputs": [],
   "source": [
    "#preds_test"
   ]
  },
  {
   "cell_type": "code",
   "execution_count": 246,
   "metadata": {
    "ExecuteTime": {
     "end_time": "2019-09-04T21:40:48.165043Z",
     "start_time": "2019-09-04T21:40:48.148533Z"
    }
   },
   "outputs": [],
   "source": [
    "#dist_test"
   ]
  },
  {
   "cell_type": "code",
   "execution_count": 13,
   "metadata": {
    "ExecuteTime": {
     "end_time": "2019-09-05T04:53:11.872761Z",
     "start_time": "2019-09-05T04:53:11.857238Z"
    }
   },
   "outputs": [],
   "source": [
    "df_preds = pd.DataFrame({'id_code_site': preds_names, 'sirna': preds_test, 'cossim': dist_test})"
   ]
  },
  {
   "cell_type": "code",
   "execution_count": 14,
   "metadata": {
    "ExecuteTime": {
     "end_time": "2019-09-05T04:53:12.653729Z",
     "start_time": "2019-09-05T04:53:12.629928Z"
    }
   },
   "outputs": [],
   "source": [
    "# get id_code without site\n",
    "df_preds['id_code'] = df_preds['id_code_site'].apply(lambda x: x[:-3])"
   ]
  },
  {
   "cell_type": "code",
   "execution_count": 15,
   "metadata": {
    "ExecuteTime": {
     "end_time": "2019-09-05T04:53:16.008823Z",
     "start_time": "2019-09-05T04:53:13.372392Z"
    }
   },
   "outputs": [],
   "source": [
    "# get row indices with highest cosine similiarity\n",
    "idx = []\n",
    "for i, r in enumerate(df_preds.sort_values('id_code').iterrows()):\n",
    "    #print(r)\n",
    "    #print('i: ',i)\n",
    "    #print('idx: ',r[0])\n",
    "    #print(r[1]['cossim'])\n",
    "    if i % 2:\n",
    "        # distance from row 2 is \n",
    "        if dist < r[1]['cossim']:\n",
    "            idx.append(r[0])\n",
    "        else:\n",
    "            idx.append(idx_row_before)\n",
    "    else:\n",
    "        # save dist from row 1 for comparison in next iteration\n",
    "        dist = r[1]['cossim']\n",
    "        idx_row_before = r[0]"
   ]
  },
  {
   "cell_type": "code",
   "execution_count": 16,
   "metadata": {
    "ExecuteTime": {
     "end_time": "2019-09-05T04:53:16.020323Z",
     "start_time": "2019-09-05T04:53:16.009981Z"
    }
   },
   "outputs": [
    {
     "data": {
      "text/plain": [
       "[26540, 27648, 26542, 26543, 26544]"
      ]
     },
     "execution_count": 16,
     "metadata": {},
     "output_type": "execute_result"
    }
   ],
   "source": [
    "idx[:5]"
   ]
  },
  {
   "cell_type": "code",
   "execution_count": 17,
   "metadata": {
    "ExecuteTime": {
     "end_time": "2019-09-05T04:53:16.890997Z",
     "start_time": "2019-09-05T04:53:16.851061Z"
    },
    "scrolled": true
   },
   "outputs": [
    {
     "data": {
      "text/html": [
       "<div>\n",
       "<style scoped>\n",
       "    .dataframe tbody tr th:only-of-type {\n",
       "        vertical-align: middle;\n",
       "    }\n",
       "\n",
       "    .dataframe tbody tr th {\n",
       "        vertical-align: top;\n",
       "    }\n",
       "\n",
       "    .dataframe thead th {\n",
       "        text-align: right;\n",
       "    }\n",
       "</style>\n",
       "<table border=\"1\" class=\"dataframe\">\n",
       "  <thead>\n",
       "    <tr style=\"text-align: right;\">\n",
       "      <th></th>\n",
       "      <th>id_code_site</th>\n",
       "      <th>sirna</th>\n",
       "      <th>cossim</th>\n",
       "      <th>id_code</th>\n",
       "    </tr>\n",
       "  </thead>\n",
       "  <tbody>\n",
       "    <tr>\n",
       "      <th>26540</th>\n",
       "      <td>HEPG2-08_1_B03_s1</td>\n",
       "      <td>855</td>\n",
       "      <td>0.941689</td>\n",
       "      <td>HEPG2-08_1_B03</td>\n",
       "    </tr>\n",
       "    <tr>\n",
       "      <th>27647</th>\n",
       "      <td>HEPG2-08_1_B03_s2</td>\n",
       "      <td>34</td>\n",
       "      <td>0.428440</td>\n",
       "      <td>HEPG2-08_1_B03</td>\n",
       "    </tr>\n",
       "    <tr>\n",
       "      <th>27648</th>\n",
       "      <td>HEPG2-08_1_B04_s2</td>\n",
       "      <td>994</td>\n",
       "      <td>0.577411</td>\n",
       "      <td>HEPG2-08_1_B04</td>\n",
       "    </tr>\n",
       "    <tr>\n",
       "      <th>26541</th>\n",
       "      <td>HEPG2-08_1_B04_s1</td>\n",
       "      <td>994</td>\n",
       "      <td>0.535135</td>\n",
       "      <td>HEPG2-08_1_B04</td>\n",
       "    </tr>\n",
       "    <tr>\n",
       "      <th>26542</th>\n",
       "      <td>HEPG2-08_1_B05_s1</td>\n",
       "      <td>994</td>\n",
       "      <td>0.812092</td>\n",
       "      <td>HEPG2-08_1_B05</td>\n",
       "    </tr>\n",
       "    <tr>\n",
       "      <th>27649</th>\n",
       "      <td>HEPG2-08_1_B05_s2</td>\n",
       "      <td>782</td>\n",
       "      <td>0.383937</td>\n",
       "      <td>HEPG2-08_1_B05</td>\n",
       "    </tr>\n",
       "    <tr>\n",
       "      <th>26543</th>\n",
       "      <td>HEPG2-08_1_B06_s1</td>\n",
       "      <td>1054</td>\n",
       "      <td>0.532927</td>\n",
       "      <td>HEPG2-08_1_B06</td>\n",
       "    </tr>\n",
       "    <tr>\n",
       "      <th>27650</th>\n",
       "      <td>HEPG2-08_1_B06_s2</td>\n",
       "      <td>261</td>\n",
       "      <td>0.347052</td>\n",
       "      <td>HEPG2-08_1_B06</td>\n",
       "    </tr>\n",
       "    <tr>\n",
       "      <th>27651</th>\n",
       "      <td>HEPG2-08_1_B07_s2</td>\n",
       "      <td>1061</td>\n",
       "      <td>0.685856</td>\n",
       "      <td>HEPG2-08_1_B07</td>\n",
       "    </tr>\n",
       "    <tr>\n",
       "      <th>26544</th>\n",
       "      <td>HEPG2-08_1_B07_s1</td>\n",
       "      <td>1005</td>\n",
       "      <td>0.801946</td>\n",
       "      <td>HEPG2-08_1_B07</td>\n",
       "    </tr>\n",
       "  </tbody>\n",
       "</table>\n",
       "</div>"
      ],
      "text/plain": [
       "            id_code_site  sirna    cossim         id_code\n",
       "26540  HEPG2-08_1_B03_s1    855  0.941689  HEPG2-08_1_B03\n",
       "27647  HEPG2-08_1_B03_s2     34  0.428440  HEPG2-08_1_B03\n",
       "27648  HEPG2-08_1_B04_s2    994  0.577411  HEPG2-08_1_B04\n",
       "26541  HEPG2-08_1_B04_s1    994  0.535135  HEPG2-08_1_B04\n",
       "26542  HEPG2-08_1_B05_s1    994  0.812092  HEPG2-08_1_B05\n",
       "27649  HEPG2-08_1_B05_s2    782  0.383937  HEPG2-08_1_B05\n",
       "26543  HEPG2-08_1_B06_s1   1054  0.532927  HEPG2-08_1_B06\n",
       "27650  HEPG2-08_1_B06_s2    261  0.347052  HEPG2-08_1_B06\n",
       "27651  HEPG2-08_1_B07_s2   1061  0.685856  HEPG2-08_1_B07\n",
       "26544  HEPG2-08_1_B07_s1   1005  0.801946  HEPG2-08_1_B07"
      ]
     },
     "execution_count": 17,
     "metadata": {},
     "output_type": "execute_result"
    }
   ],
   "source": [
    "df_preds.sort_values('id_code').head(10)"
   ]
  },
  {
   "cell_type": "code",
   "execution_count": 18,
   "metadata": {
    "ExecuteTime": {
     "end_time": "2019-09-05T04:53:25.547446Z",
     "start_time": "2019-09-05T04:53:25.510928Z"
    }
   },
   "outputs": [
    {
     "data": {
      "text/html": [
       "<div>\n",
       "<style scoped>\n",
       "    .dataframe tbody tr th:only-of-type {\n",
       "        vertical-align: middle;\n",
       "    }\n",
       "\n",
       "    .dataframe tbody tr th {\n",
       "        vertical-align: top;\n",
       "    }\n",
       "\n",
       "    .dataframe thead th {\n",
       "        text-align: right;\n",
       "    }\n",
       "</style>\n",
       "<table border=\"1\" class=\"dataframe\">\n",
       "  <thead>\n",
       "    <tr style=\"text-align: right;\">\n",
       "      <th></th>\n",
       "      <th>id_code_site</th>\n",
       "      <th>sirna</th>\n",
       "      <th>cossim</th>\n",
       "      <th>id_code</th>\n",
       "    </tr>\n",
       "  </thead>\n",
       "  <tbody>\n",
       "    <tr>\n",
       "      <th>37584</th>\n",
       "      <td>U2OS-05_4_O19_s1</td>\n",
       "      <td>331</td>\n",
       "      <td>0.387663</td>\n",
       "      <td>U2OS-05_4_O19</td>\n",
       "    </tr>\n",
       "    <tr>\n",
       "      <th>39789</th>\n",
       "      <td>U2OS-05_4_O19_s2</td>\n",
       "      <td>571</td>\n",
       "      <td>0.382572</td>\n",
       "      <td>U2OS-05_4_O19</td>\n",
       "    </tr>\n",
       "    <tr>\n",
       "      <th>39790</th>\n",
       "      <td>U2OS-05_4_O20_s2</td>\n",
       "      <td>457</td>\n",
       "      <td>0.289425</td>\n",
       "      <td>U2OS-05_4_O20</td>\n",
       "    </tr>\n",
       "    <tr>\n",
       "      <th>37585</th>\n",
       "      <td>U2OS-05_4_O20_s1</td>\n",
       "      <td>983</td>\n",
       "      <td>0.338991</td>\n",
       "      <td>U2OS-05_4_O20</td>\n",
       "    </tr>\n",
       "    <tr>\n",
       "      <th>37586</th>\n",
       "      <td>U2OS-05_4_O21_s1</td>\n",
       "      <td>858</td>\n",
       "      <td>0.478125</td>\n",
       "      <td>U2OS-05_4_O21</td>\n",
       "    </tr>\n",
       "    <tr>\n",
       "      <th>39791</th>\n",
       "      <td>U2OS-05_4_O21_s2</td>\n",
       "      <td>273</td>\n",
       "      <td>0.424017</td>\n",
       "      <td>U2OS-05_4_O21</td>\n",
       "    </tr>\n",
       "    <tr>\n",
       "      <th>37587</th>\n",
       "      <td>U2OS-05_4_O22_s1</td>\n",
       "      <td>978</td>\n",
       "      <td>0.452525</td>\n",
       "      <td>U2OS-05_4_O22</td>\n",
       "    </tr>\n",
       "    <tr>\n",
       "      <th>39792</th>\n",
       "      <td>U2OS-05_4_O22_s2</td>\n",
       "      <td>457</td>\n",
       "      <td>0.499047</td>\n",
       "      <td>U2OS-05_4_O22</td>\n",
       "    </tr>\n",
       "    <tr>\n",
       "      <th>37588</th>\n",
       "      <td>U2OS-05_4_O23_s1</td>\n",
       "      <td>713</td>\n",
       "      <td>0.283590</td>\n",
       "      <td>U2OS-05_4_O23</td>\n",
       "    </tr>\n",
       "    <tr>\n",
       "      <th>39793</th>\n",
       "      <td>U2OS-05_4_O23_s2</td>\n",
       "      <td>17</td>\n",
       "      <td>0.309708</td>\n",
       "      <td>U2OS-05_4_O23</td>\n",
       "    </tr>\n",
       "  </tbody>\n",
       "</table>\n",
       "</div>"
      ],
      "text/plain": [
       "           id_code_site  sirna    cossim        id_code\n",
       "37584  U2OS-05_4_O19_s1    331  0.387663  U2OS-05_4_O19\n",
       "39789  U2OS-05_4_O19_s2    571  0.382572  U2OS-05_4_O19\n",
       "39790  U2OS-05_4_O20_s2    457  0.289425  U2OS-05_4_O20\n",
       "37585  U2OS-05_4_O20_s1    983  0.338991  U2OS-05_4_O20\n",
       "37586  U2OS-05_4_O21_s1    858  0.478125  U2OS-05_4_O21\n",
       "39791  U2OS-05_4_O21_s2    273  0.424017  U2OS-05_4_O21\n",
       "37587  U2OS-05_4_O22_s1    978  0.452525  U2OS-05_4_O22\n",
       "39792  U2OS-05_4_O22_s2    457  0.499047  U2OS-05_4_O22\n",
       "37588  U2OS-05_4_O23_s1    713  0.283590  U2OS-05_4_O23\n",
       "39793  U2OS-05_4_O23_s2     17  0.309708  U2OS-05_4_O23"
      ]
     },
     "execution_count": 18,
     "metadata": {},
     "output_type": "execute_result"
    }
   ],
   "source": [
    "df_preds.sort_values('id_code').tail(10)"
   ]
  },
  {
   "cell_type": "code",
   "execution_count": null,
   "metadata": {
    "ExecuteTime": {
     "end_time": "2019-09-04T20:26:00.434767Z",
     "start_time": "2019-09-04T20:25:58.460Z"
    }
   },
   "outputs": [],
   "source": [
    "#df_preds.loc[idx,['id_code','sirna']]"
   ]
  },
  {
   "cell_type": "code",
   "execution_count": null,
   "metadata": {},
   "outputs": [],
   "source": []
  },
  {
   "cell_type": "code",
   "execution_count": 19,
   "metadata": {
    "ExecuteTime": {
     "end_time": "2019-09-05T04:53:33.016481Z",
     "start_time": "2019-09-05T04:53:33.000217Z"
    }
   },
   "outputs": [],
   "source": [
    "# 'effnet/adacos_efficientnet_b3_ct_pg_exp_Pre060e050pg'+str(pg)+'e100'+ct+'_FULL_025_190903'\n",
    "model = 'adacos_efficientnet_b3_ct_pg_exp_Pre060e050pg0123e100ct_FULL_025_190903_cossim_k-means'"
   ]
  },
  {
   "cell_type": "code",
   "execution_count": 20,
   "metadata": {
    "ExecuteTime": {
     "end_time": "2019-09-05T04:53:33.729245Z",
     "start_time": "2019-09-05T04:53:33.632945Z"
    }
   },
   "outputs": [],
   "source": [
    "df_preds.loc[idx,['id_code','sirna']].to_csv('sub/'+model+'.csv.gz', index=False, compression='gzip')"
   ]
  },
  {
   "cell_type": "code",
   "execution_count": 21,
   "metadata": {
    "ExecuteTime": {
     "end_time": "2019-09-05T04:53:44.743733Z",
     "start_time": "2019-09-05T04:53:34.365285Z"
    }
   },
   "outputs": [
    {
     "name": "stdout",
     "output_type": "stream",
     "text": [
      "100%|██████████████████████████████████████| 83.8k/83.8k [00:03<00:00, 22.3kB/s]\n",
      "Successfully submitted to Recursion Cellular Image Classification"
     ]
    }
   ],
   "source": [
    "!kaggle competitions submit -c recursion-cellular-image-classification -f sub/{model}.csv.gz -m \"{model}\"\n"
   ]
  },
  {
   "cell_type": "markdown",
   "metadata": {
    "heading_collapsed": true
   },
   "source": [
    "### Full preds"
   ]
  },
  {
   "cell_type": "code",
   "execution_count": null,
   "metadata": {
    "ExecuteTime": {
     "end_time": "2019-09-04T20:26:00.438043Z",
     "start_time": "2019-09-04T20:25:58.505Z"
    },
    "hidden": true
   },
   "outputs": [],
   "source": [
    "with open('pred/preds_test_pg'+str(pg)+'_names.txt', 'rb') as fp:   # Unpickling\n",
    "    preds_names = pickle.load(fp)"
   ]
  },
  {
   "cell_type": "code",
   "execution_count": null,
   "metadata": {
    "ExecuteTime": {
     "end_time": "2019-09-04T20:26:00.438794Z",
     "start_time": "2019-09-04T20:25:58.514Z"
    },
    "hidden": true
   },
   "outputs": [],
   "source": [
    "preds_test_full = np.load('pred/preds_test_pg'+str(pg)+'_full.npy')\n",
    "dist_test_full = np.load('pred/dist_test_pg'+str(pg)+'_full.npy')"
   ]
  },
  {
   "cell_type": "code",
   "execution_count": null,
   "metadata": {
    "ExecuteTime": {
     "end_time": "2019-09-04T20:26:00.439527Z",
     "start_time": "2019-09-04T20:25:58.523Z"
    },
    "hidden": true
   },
   "outputs": [],
   "source": [
    "preds_test_full"
   ]
  },
  {
   "cell_type": "code",
   "execution_count": null,
   "metadata": {
    "ExecuteTime": {
     "end_time": "2019-09-04T20:26:00.440253Z",
     "start_time": "2019-09-04T20:25:58.533Z"
    },
    "hidden": true
   },
   "outputs": [],
   "source": [
    "dist_test_full"
   ]
  },
  {
   "cell_type": "code",
   "execution_count": null,
   "metadata": {
    "ExecuteTime": {
     "end_time": "2019-09-04T20:26:00.440977Z",
     "start_time": "2019-09-04T20:25:58.545Z"
    },
    "hidden": true
   },
   "outputs": [],
   "source": [
    "for i in range(5):\n",
    "    df_preds_full = pd.DataFrame({'id_code_site': preds_names,\n",
    "                                  'sirna': preds_test_full[:,i],\n",
    "                                  'cossim': dist_test_full[:,i]})"
   ]
  },
  {
   "cell_type": "code",
   "execution_count": null,
   "metadata": {
    "ExecuteTime": {
     "end_time": "2019-09-04T20:26:00.441699Z",
     "start_time": "2019-09-04T20:25:58.555Z"
    },
    "hidden": true
   },
   "outputs": [],
   "source": [
    "type(preds_names)"
   ]
  },
  {
   "cell_type": "code",
   "execution_count": null,
   "metadata": {
    "hidden": true
   },
   "outputs": [],
   "source": []
  },
  {
   "cell_type": "code",
   "execution_count": null,
   "metadata": {
    "ExecuteTime": {
     "end_time": "2019-09-04T20:26:00.442417Z",
     "start_time": "2019-09-04T20:25:58.572Z"
    },
    "hidden": true
   },
   "outputs": [],
   "source": [
    "i = 0\n",
    "df_preds_full = pd.DataFrame({'id_code_site': preds_names,\n",
    "                                  'sirna': preds_test_full[:,i],\n",
    "                                  'cossim': dist_test_full[:,i]})"
   ]
  },
  {
   "cell_type": "code",
   "execution_count": null,
   "metadata": {
    "ExecuteTime": {
     "end_time": "2019-09-04T20:26:00.443145Z",
     "start_time": "2019-09-04T20:25:58.581Z"
    },
    "hidden": true
   },
   "outputs": [],
   "source": [
    "df_preds_full.sort_values(by='cossim', ascending=False).head()"
   ]
  },
  {
   "cell_type": "code",
   "execution_count": null,
   "metadata": {
    "ExecuteTime": {
     "end_time": "2019-09-04T20:26:00.443976Z",
     "start_time": "2019-09-04T20:25:58.592Z"
    },
    "hidden": true
   },
   "outputs": [],
   "source": [
    "\n",
    "for i, d in df_preds_full.sort_values(by='cossim', ascending=False).iterrows():\n",
    "    print(i)\n",
    "    print(d)\n",
    "    \n",
    "    break"
   ]
  },
  {
   "cell_type": "code",
   "execution_count": null,
   "metadata": {
    "ExecuteTime": {
     "end_time": "2019-09-04T20:26:00.444817Z",
     "start_time": "2019-09-04T20:25:58.605Z"
    },
    "hidden": true
   },
   "outputs": [],
   "source": [
    "df_test.head()#.experiment.nunique()"
   ]
  },
  {
   "cell_type": "code",
   "execution_count": null,
   "metadata": {
    "ExecuteTime": {
     "end_time": "2019-09-04T20:26:00.445534Z",
     "start_time": "2019-09-04T20:25:58.618Z"
    },
    "hidden": true
   },
   "outputs": [],
   "source": [
    "df_preds_full.head()"
   ]
  },
  {
   "cell_type": "code",
   "execution_count": null,
   "metadata": {
    "ExecuteTime": {
     "end_time": "2019-09-04T20:26:00.446281Z",
     "start_time": "2019-09-04T20:25:58.629Z"
    },
    "hidden": true
   },
   "outputs": [],
   "source": [
    "df_preds_full.groupby('sirna')['id_code_site'].nunique()#.mean()"
   ]
  },
  {
   "cell_type": "markdown",
   "metadata": {},
   "source": [
    "# Error analysis"
   ]
  },
  {
   "cell_type": "code",
   "execution_count": null,
   "metadata": {
    "ExecuteTime": {
     "end_time": "2019-09-04T20:26:00.447031Z",
     "start_time": "2019-09-04T20:25:58.640Z"
    }
   },
   "outputs": [],
   "source": [
    "# ERROR ANALYSIS !!!"
   ]
  }
 ],
 "metadata": {
  "kernelspec": {
   "display_name": "fastai",
   "language": "python",
   "name": "fastai"
  },
  "language_info": {
   "codemirror_mode": {
    "name": "ipython",
    "version": 3
   },
   "file_extension": ".py",
   "mimetype": "text/x-python",
   "name": "python",
   "nbconvert_exporter": "python",
   "pygments_lexer": "ipython3",
   "version": "3.6.8"
  },
  "toc": {
   "base_numbering": 1,
   "nav_menu": {
    "height": "488px",
    "width": "305px"
   },
   "number_sections": true,
   "sideBar": true,
   "skip_h1_title": false,
   "title_cell": "Table of Contents",
   "title_sidebar": "Contents",
   "toc_cell": false,
   "toc_position": {
    "height": "calc(100% - 180px)",
    "left": "10px",
    "top": "150px",
    "width": "206px"
   },
   "toc_section_display": true,
   "toc_window_display": true
  }
 },
 "nbformat": 4,
 "nbformat_minor": 2
}
