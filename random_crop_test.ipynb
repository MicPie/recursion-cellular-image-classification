{
 "cells": [
  {
   "cell_type": "markdown",
   "metadata": {},
   "source": [
    "# setup"
   ]
  },
  {
   "cell_type": "code",
   "execution_count": 1,
   "metadata": {
    "ExecuteTime": {
     "end_time": "2019-08-10T04:39:01.068003Z",
     "start_time": "2019-08-10T04:38:59.320296Z"
    }
   },
   "outputs": [],
   "source": [
    "from fastai.vision import *"
   ]
  },
  {
   "cell_type": "code",
   "execution_count": 2,
   "metadata": {
    "ExecuteTime": {
     "end_time": "2019-08-10T04:39:06.060367Z",
     "start_time": "2019-08-10T04:39:06.057931Z"
    }
   },
   "outputs": [],
   "source": [
    "sz=300"
   ]
  },
  {
   "cell_type": "code",
   "execution_count": 8,
   "metadata": {
    "ExecuteTime": {
     "end_time": "2019-08-10T04:42:31.590129Z",
     "start_time": "2019-08-10T04:42:31.586273Z"
    }
   },
   "outputs": [],
   "source": [
    "crop_style = crop(size=sz, row_pct=uniform(0,1), col_pct=uniform(0,1))"
   ]
  },
  {
   "cell_type": "code",
   "execution_count": 9,
   "metadata": {
    "ExecuteTime": {
     "end_time": "2019-08-10T04:42:31.836885Z",
     "start_time": "2019-08-10T04:42:31.834441Z"
    }
   },
   "outputs": [
    {
     "data": {
      "text/plain": [
       "RandTransform(tfm=TfmPixel (crop), kwargs={'size': 300, 'row_pct': 0.7795498472922601, 'col_pct': 0.11957645601882294}, p=1.0, resolved={}, do_run=True, is_random=True, use_on_y=True)"
      ]
     },
     "execution_count": 9,
     "metadata": {},
     "output_type": "execute_result"
    }
   ],
   "source": [
    "crop_style"
   ]
  },
  {
   "cell_type": "code",
   "execution_count": 17,
   "metadata": {
    "ExecuteTime": {
     "end_time": "2019-08-10T04:43:00.923489Z",
     "start_time": "2019-08-10T04:43:00.916605Z"
    }
   },
   "outputs": [
    {
     "data": {
      "text/plain": [
       "(0.36630278015189843, 0.11957645601882294)"
      ]
     },
     "execution_count": 17,
     "metadata": {},
     "output_type": "execute_result"
    }
   ],
   "source": [
    "crop_style.kwargs['row_pct'], crop_style.kwargs['col_pct']"
   ]
  },
  {
   "cell_type": "markdown",
   "metadata": {},
   "source": [
    "# New random crop"
   ]
  },
  {
   "cell_type": "code",
   "execution_count": 19,
   "metadata": {
    "ExecuteTime": {
     "end_time": "2019-08-10T04:46:58.823953Z",
     "start_time": "2019-08-10T04:46:58.819588Z"
    }
   },
   "outputs": [],
   "source": [
    "def _rnd_crop_default(x, size, row_pct:uniform=0.5, col_pct:uniform=0.5):\n",
    "    \"Crop `x` to `size` pixels. `row_pct`,`col_pct` select focal point of crop.\"\n",
    "    rows,cols = tis2hw(size)\n",
    "    row_pct,col_pct = _minus_epsilon(row_pct,col_pct)\n",
    "    row = int((x.size(1)-rows+1) * row_pct)\n",
    "    col = int((x.size(2)-cols+1) * col_pct)\n",
    "    return x[:, row:row+rows, col:col+cols].contiguous()"
   ]
  },
  {
   "cell_type": "code",
   "execution_count": 26,
   "metadata": {
    "ExecuteTime": {
     "end_time": "2019-08-10T04:48:26.525856Z",
     "start_time": "2019-08-10T04:48:26.521681Z"
    }
   },
   "outputs": [],
   "source": [
    "def _rnd_crop(x, size, row_pct:uniform=(0,1), col_pct:uniform=(0,1)):\n",
    "    #row_pct = row_pct if row_pct is not None else uniform(row_pct)\n",
    "    #col_pct = col_pct if col_pct is not None else uniform(col_pct)\n",
    "    row_pct = uniform(row_pct)\n",
    "    col_pct = uniform(col_pct)\n",
    "    f_crop = _crop_image_points if isinstance(x, ImagePoints) else _crop_default\n",
    "    return f_crop(x, size, row_pct, col_pct)\n",
    "\n",
    "rnd_crop = TfmPixel(_rnd_crop)"
   ]
  },
  {
   "cell_type": "code",
   "execution_count": 27,
   "metadata": {
    "ExecuteTime": {
     "end_time": "2019-08-10T04:48:36.994588Z",
     "start_time": "2019-08-10T04:48:36.990465Z"
    }
   },
   "outputs": [],
   "source": [
    "crop_style = rnd_crop(size=sz, row_pct=(0,1), col_pct=(0,1))"
   ]
  },
  {
   "cell_type": "code",
   "execution_count": 28,
   "metadata": {
    "ExecuteTime": {
     "end_time": "2019-08-10T04:48:37.297164Z",
     "start_time": "2019-08-10T04:48:37.292236Z"
    }
   },
   "outputs": [
    {
     "data": {
      "text/plain": [
       "RandTransform(tfm=TfmPixel (rnd_crop), kwargs={'size': 300, 'row_pct': (0, 1), 'col_pct': (0, 1)}, p=1.0, resolved={}, do_run=True, is_random=True, use_on_y=True)"
      ]
     },
     "execution_count": 28,
     "metadata": {},
     "output_type": "execute_result"
    }
   ],
   "source": [
    "crop_style"
   ]
  },
  {
   "cell_type": "code",
   "execution_count": 30,
   "metadata": {
    "ExecuteTime": {
     "end_time": "2019-08-10T04:48:43.726598Z",
     "start_time": "2019-08-10T04:48:43.723616Z"
    }
   },
   "outputs": [
    {
     "data": {
      "text/plain": [
       "((0, 1), (0, 1))"
      ]
     },
     "execution_count": 30,
     "metadata": {},
     "output_type": "execute_result"
    }
   ],
   "source": [
    "crop_style.kwargs['row_pct'], crop_style.kwargs['col_pct']"
   ]
  },
  {
   "cell_type": "markdown",
   "metadata": {
    "heading_collapsed": true
   },
   "source": [
    "# Old"
   ]
  },
  {
   "cell_type": "code",
   "execution_count": 13,
   "metadata": {
    "ExecuteTime": {
     "end_time": "2019-08-10T04:42:40.088314Z",
     "start_time": "2019-08-10T04:42:40.086243Z"
    },
    "hidden": true
   },
   "outputs": [],
   "source": [
    "crop_style.kwargs['row_pct'] = uniform(0,1)"
   ]
  },
  {
   "cell_type": "code",
   "execution_count": 14,
   "metadata": {
    "ExecuteTime": {
     "end_time": "2019-08-10T04:42:40.528223Z",
     "start_time": "2019-08-10T04:42:40.524943Z"
    },
    "hidden": true
   },
   "outputs": [
    {
     "data": {
      "text/plain": [
       "0.36630278015189843"
      ]
     },
     "execution_count": 14,
     "metadata": {},
     "output_type": "execute_result"
    }
   ],
   "source": [
    "crop_style.kwargs['row_pct']"
   ]
  },
  {
   "cell_type": "code",
   "execution_count": 12,
   "metadata": {
    "ExecuteTime": {
     "end_time": "2019-08-10T04:42:32.865561Z",
     "start_time": "2019-08-10T04:42:32.860130Z"
    },
    "hidden": true
   },
   "outputs": [
    {
     "data": {
      "text/plain": [
       "0.4061238652672804"
      ]
     },
     "execution_count": 12,
     "metadata": {},
     "output_type": "execute_result"
    }
   ],
   "source": [
    "uniform(0,1)"
   ]
  },
  {
   "cell_type": "code",
   "execution_count": 8,
   "metadata": {
    "ExecuteTime": {
     "end_time": "2019-08-05T19:16:15.162367Z",
     "start_time": "2019-08-05T19:16:15.160615Z"
    },
    "hidden": true
   },
   "outputs": [],
   "source": [
    "def randuniform():\n",
    "    return uniform(0,1)"
   ]
  },
  {
   "cell_type": "code",
   "execution_count": 9,
   "metadata": {
    "ExecuteTime": {
     "end_time": "2019-08-05T19:16:15.739758Z",
     "start_time": "2019-08-05T19:16:15.735772Z"
    },
    "hidden": true
   },
   "outputs": [
    {
     "data": {
      "text/plain": [
       "0.9546894429643348"
      ]
     },
     "execution_count": 9,
     "metadata": {},
     "output_type": "execute_result"
    }
   ],
   "source": [
    "randuniform()"
   ]
  },
  {
   "cell_type": "code",
   "execution_count": 17,
   "metadata": {
    "ExecuteTime": {
     "end_time": "2019-08-05T19:16:25.809917Z",
     "start_time": "2019-08-05T19:16:25.806942Z"
    },
    "hidden": true
   },
   "outputs": [],
   "source": [
    "crop_style = crop(size=sz, row_pct=randuniform(), col_pct=randuniform())"
   ]
  },
  {
   "cell_type": "code",
   "execution_count": 18,
   "metadata": {
    "ExecuteTime": {
     "end_time": "2019-08-05T19:16:26.073140Z",
     "start_time": "2019-08-05T19:16:26.068935Z"
    },
    "hidden": true
   },
   "outputs": [
    {
     "data": {
      "text/plain": [
       "RandTransform(tfm=TfmPixel (crop), kwargs={'size': 300, 'row_pct': 0.7902614396577881, 'col_pct': 0.3409047194199456}, p=1.0, resolved={}, do_run=True, is_random=True, use_on_y=True)"
      ]
     },
     "execution_count": 18,
     "metadata": {},
     "output_type": "execute_result"
    }
   ],
   "source": [
    "crop_style"
   ]
  },
  {
   "cell_type": "code",
   "execution_count": 26,
   "metadata": {
    "ExecuteTime": {
     "end_time": "2019-08-05T19:16:37.280478Z",
     "start_time": "2019-08-05T19:16:37.277520Z"
    },
    "hidden": true
   },
   "outputs": [
    {
     "data": {
      "text/plain": [
       "0.7902614396577881"
      ]
     },
     "execution_count": 26,
     "metadata": {},
     "output_type": "execute_result"
    }
   ],
   "source": [
    "crop_style.kwargs['row_pct']"
   ]
  },
  {
   "cell_type": "code",
   "execution_count": 13,
   "metadata": {
    "ExecuteTime": {
     "end_time": "2019-08-05T19:16:17.510342Z",
     "start_time": "2019-08-05T19:16:17.508381Z"
    },
    "hidden": true
   },
   "outputs": [],
   "source": [
    "crop_style.kwargs['row_pct'] = uniform(0,1)"
   ]
  },
  {
   "cell_type": "code",
   "execution_count": 16,
   "metadata": {
    "ExecuteTime": {
     "end_time": "2019-08-05T19:16:22.577391Z",
     "start_time": "2019-08-05T19:16:22.573274Z"
    },
    "hidden": true
   },
   "outputs": [
    {
     "data": {
      "text/plain": [
       "0.18682856542750237"
      ]
     },
     "execution_count": 16,
     "metadata": {},
     "output_type": "execute_result"
    }
   ],
   "source": [
    "crop_style.kwargs['row_pct']"
   ]
  },
  {
   "cell_type": "code",
   "execution_count": null,
   "metadata": {
    "hidden": true
   },
   "outputs": [],
   "source": []
  }
 ],
 "metadata": {
  "kernelspec": {
   "display_name": "fastai",
   "language": "python",
   "name": "fastai"
  },
  "language_info": {
   "codemirror_mode": {
    "name": "ipython",
    "version": 3
   },
   "file_extension": ".py",
   "mimetype": "text/x-python",
   "name": "python",
   "nbconvert_exporter": "python",
   "pygments_lexer": "ipython3",
   "version": "3.6.8"
  },
  "toc": {
   "base_numbering": 1,
   "nav_menu": {},
   "number_sections": true,
   "sideBar": true,
   "skip_h1_title": false,
   "title_cell": "Table of Contents",
   "title_sidebar": "Contents",
   "toc_cell": false,
   "toc_position": {
    "height": "calc(100% - 180px)",
    "left": "10px",
    "top": "150px",
    "width": "181px"
   },
   "toc_section_display": true,
   "toc_window_display": true
  }
 },
 "nbformat": 4,
 "nbformat_minor": 2
}
