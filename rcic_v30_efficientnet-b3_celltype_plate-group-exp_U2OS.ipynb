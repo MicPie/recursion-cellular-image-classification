{
 "cells": [
  {
   "cell_type": "markdown",
   "metadata": {},
   "source": [
    "# Imports"
   ]
  },
  {
   "cell_type": "code",
   "execution_count": 1,
   "metadata": {
    "ExecuteTime": {
     "end_time": "2019-08-27T04:08:10.318812Z",
     "start_time": "2019-08-27T04:08:10.098013Z"
    }
   },
   "outputs": [],
   "source": [
    "%reload_ext autoreload\n",
    "%autoreload 2\n",
    "%matplotlib inline"
   ]
  },
  {
   "cell_type": "code",
   "execution_count": 2,
   "metadata": {
    "ExecuteTime": {
     "end_time": "2019-08-27T04:08:11.462741Z",
     "start_time": "2019-08-27T04:08:10.497528Z"
    }
   },
   "outputs": [],
   "source": [
    "import pandas as pd\n",
    "\n",
    "from fastai.vision import *\n",
    "from fastai.vision.models.xresnet import *\n",
    "\n",
    "# for datablock API\n",
    "from fastai.vision.image import _resolve_tfms, _get_crop_target, _round_multiple, _get_resize_target, _affine_grid, _grid_sample, _affine_mult\n",
    "\n",
    "# for XResNet\n",
    "#from fastai.vision.models.xresnet import act_fn, init_cnn, conv, noop, conv_layer, ResBlock, filt_sz\n"
   ]
  },
  {
   "cell_type": "code",
   "execution_count": 3,
   "metadata": {
    "ExecuteTime": {
     "end_time": "2019-08-27T04:08:11.476215Z",
     "start_time": "2019-08-27T04:08:11.464352Z"
    }
   },
   "outputs": [],
   "source": [
    "from fastai.callbacks import CSVLogger, ReduceLROnPlateauCallback, SaveModelCallback"
   ]
  },
  {
   "cell_type": "code",
   "execution_count": 4,
   "metadata": {
    "ExecuteTime": {
     "end_time": "2019-08-27T04:08:11.492274Z",
     "start_time": "2019-08-27T04:08:11.477495Z"
    }
   },
   "outputs": [],
   "source": [
    "from efficientnet_pytorch import *"
   ]
  },
  {
   "cell_type": "code",
   "execution_count": 5,
   "metadata": {
    "ExecuteTime": {
     "end_time": "2019-08-27T04:08:11.510489Z",
     "start_time": "2019-08-27T04:08:11.493293Z"
    }
   },
   "outputs": [],
   "source": [
    "from nb_new_data_augmentation_adacos_celltype_plategroup_exp import *"
   ]
  },
  {
   "cell_type": "code",
   "execution_count": 6,
   "metadata": {
    "ExecuteTime": {
     "end_time": "2019-08-27T04:08:11.526910Z",
     "start_time": "2019-08-27T04:08:11.511533Z"
    }
   },
   "outputs": [],
   "source": [
    "import pdb"
   ]
  },
  {
   "cell_type": "code",
   "execution_count": 7,
   "metadata": {
    "ExecuteTime": {
     "end_time": "2019-08-27T04:08:11.777805Z",
     "start_time": "2019-08-27T04:08:11.760129Z"
    }
   },
   "outputs": [
    {
     "data": {
      "text/plain": [
       "'1.0.55'"
      ]
     },
     "execution_count": 7,
     "metadata": {},
     "output_type": "execute_result"
    }
   ],
   "source": [
    "__version__"
   ]
  },
  {
   "cell_type": "markdown",
   "metadata": {},
   "source": [
    "# 6D image with celltype"
   ]
  },
  {
   "cell_type": "code",
   "execution_count": 8,
   "metadata": {
    "ExecuteTime": {
     "end_time": "2019-08-27T04:08:12.284762Z",
     "start_time": "2019-08-27T04:08:12.265731Z"
    }
   },
   "outputs": [],
   "source": [
    "class Image6Dct(Image):\n",
    "    \"Support applying transforms to image data in `px`.\"\n",
    "    def __init__(self, px:Tensor, ctint, pgint, expint): # ct\n",
    "        self._px = px\n",
    "        self._logit_px=None\n",
    "        #self.ct = ct\n",
    "        self.ctint = ctint\n",
    "        self.pgint = pgint\n",
    "        self.expint = expint\n",
    "        self._flow=None\n",
    "        self._affine_mat=None\n",
    "        self.sample_kwargs = {}\n",
    "    \n",
    "    def _repr_image_format(self, format_str):\n",
    "        with BytesIO() as str_buffer:\n",
    "            #plt.imsave(str_buffer, image2np(self.px[:3]), format=format_str)\n",
    "            plt.imsave(str_buffer, \n",
    "                       np.concatenate((image2np(self.px[:3]), \n",
    "                                       image2np(self.px[3:])), axis=1),\n",
    "                       format=format_str)\n",
    "            return str_buffer.getvalue()\n",
    "        \n",
    "    def clone(self):\n",
    "        \"Mimic the behavior of torch.clone for `Image` objects.\"\n",
    "        return self.__class__(self.px.clone(), self.ctint.clone(), self.pgint.clone(), self.expint.clone()) # self.ct.clone(), \n",
    "\n",
    "    @property\n",
    "    def data(self)->TensorImage:\n",
    "        \"Return this images pixels as a tensor.\"\n",
    "        return self.px, self.ctint, self.pgint, self.expint\n",
    "    "
   ]
  },
  {
   "cell_type": "code",
   "execution_count": 9,
   "metadata": {
    "ExecuteTime": {
     "end_time": "2019-08-27T04:08:12.533016Z",
     "start_time": "2019-08-27T04:08:12.514796Z"
    }
   },
   "outputs": [],
   "source": [
    "def open_image_6Dct(fn:PathOrStr, div:bool=True, convert_mode:str='L', cls:type=Image6Dct,\n",
    "        after_open:Callable=None)->Image:\n",
    "    \"Return `Image` object created from image in file `fn`.\"\n",
    "    with warnings.catch_warnings():\n",
    "        warnings.simplefilter(\"ignore\", UserWarning) # EXIF warning from TiffPlugin\n",
    "        \n",
    "        x = []\n",
    "        for i in range(6):\n",
    "            c = PIL.Image.open(fn+'_w'+str(i+1)+'.png').convert(convert_mode)\n",
    "            if after_open: c = after_open(c)\n",
    "            c = np.asarray(c)\n",
    "            c = torch.from_numpy(c.astype(np.float32, copy=False))\n",
    "            x.append(c)\n",
    "    ct = fn.split('/')[1].split('-')[0] # get cell type\n",
    "    ctint = torch.tensor(ct2int[ct])\n",
    "    pgint = torch.tensor(fn2pgint[fn])\n",
    "    exp = fn.split('/')[1] # get experiment\n",
    "    expint = torch.tensor(exp2int[exp])\n",
    "    x = torch.stack(x)\n",
    "    if div: x.div_(255)\n",
    "    return cls(x, ctint, pgint, expint)"
   ]
  },
  {
   "cell_type": "code",
   "execution_count": 10,
   "metadata": {
    "ExecuteTime": {
     "end_time": "2019-08-27T04:08:13.012688Z",
     "start_time": "2019-08-27T04:08:12.993875Z"
    }
   },
   "outputs": [],
   "source": [
    "# number experiments so that cell types do not overlap\n",
    "# and the valid and test dataset do have a embedding they can use!\n",
    "exp2int = {'HEPG2-01': 0,\n",
    "           'HEPG2-02': 1,\n",
    "           'HEPG2-03': 2,\n",
    "           'HEPG2-04': 3,\n",
    "           'HEPG2-05': 4,\n",
    "           # valid\n",
    "           'HEPG2-06': 0,\n",
    "           'HEPG2-07': 1,\n",
    "           # test\n",
    "           'HEPG2-08': 0,\n",
    "           'HEPG2-09': 1,\n",
    "           'HEPG2-10': 2,\n",
    "           'HEPG2-11': 3,           \n",
    "             \n",
    "           # train\n",
    "           'HUVEC-01': 5,\n",
    "           'HUVEC-02': 6,\n",
    "           'HUVEC-03': 7,\n",
    "           'HUVEC-04': 8,\n",
    "           'HUVEC-05': 9,\n",
    "           'HUVEC-06': 10,\n",
    "           'HUVEC-07': 11, \n",
    "           'HUVEC-08': 12,\n",
    "           'HUVEC-09': 13,\n",
    "           'HUVEC-10': 14,\n",
    "           'HUVEC-11': 15,\n",
    "           'HUVEC-12': 16,\n",
    "           'HUVEC-13': 17,\n",
    "           'HUVEC-14': 18, \n",
    "           # valid\n",
    "           'HUVEC-15': 5,\n",
    "           'HUVEC-16': 6, \n",
    "           # test\n",
    "           'HUVEC-17': 5,\n",
    "           'HUVEC-18': 6,\n",
    "           'HUVEC-19': 7,\n",
    "           'HUVEC-20': 8,\n",
    "           'HUVEC-21': 9,\n",
    "           'HUVEC-22': 10,\n",
    "           'HUVEC-23': 11,\n",
    "           'HUVEC-24': 12,\n",
    "             \n",
    "           # train\n",
    "           'RPE-01': 19,\n",
    "           'RPE-02': 20,\n",
    "           'RPE-03': 21,\n",
    "           'RPE-04': 22,\n",
    "           'RPE-05': 23,\n",
    "           # valid\n",
    "           'RPE-06': 19,\n",
    "           'RPE-07': 20,\n",
    "           # test\n",
    "           'RPE-08': 19,\n",
    "           'RPE-09': 20,\n",
    "           'RPE-10': 21,\n",
    "           'RPE-11': 22,\n",
    "             \n",
    "           # train\n",
    "           'U2OS-01': 24,\n",
    "           'U2OS-02': 25,\n",
    "           # valid\n",
    "           'U2OS-03': 24,\n",
    "           # test\n",
    "           'U2OS-04': 24,\n",
    "           'U2OS-05': 25\n",
    "          }"
   ]
  },
  {
   "cell_type": "code",
   "execution_count": 11,
   "metadata": {
    "ExecuteTime": {
     "end_time": "2019-08-27T04:08:13.234360Z",
     "start_time": "2019-08-27T04:08:13.220393Z"
    }
   },
   "outputs": [
    {
     "data": {
      "text/plain": [
       "{'HEPG2-01': 0,\n",
       " 'HEPG2-02': 1,\n",
       " 'HEPG2-03': 2,\n",
       " 'HEPG2-04': 3,\n",
       " 'HEPG2-05': 4,\n",
       " 'HEPG2-06': 0,\n",
       " 'HEPG2-07': 1,\n",
       " 'HEPG2-08': 0,\n",
       " 'HEPG2-09': 1,\n",
       " 'HEPG2-10': 2,\n",
       " 'HEPG2-11': 3,\n",
       " 'HUVEC-01': 5,\n",
       " 'HUVEC-02': 6,\n",
       " 'HUVEC-03': 7,\n",
       " 'HUVEC-04': 8,\n",
       " 'HUVEC-05': 9,\n",
       " 'HUVEC-06': 10,\n",
       " 'HUVEC-07': 11,\n",
       " 'HUVEC-08': 12,\n",
       " 'HUVEC-09': 13,\n",
       " 'HUVEC-10': 14,\n",
       " 'HUVEC-11': 15,\n",
       " 'HUVEC-12': 16,\n",
       " 'HUVEC-13': 17,\n",
       " 'HUVEC-14': 18,\n",
       " 'HUVEC-15': 5,\n",
       " 'HUVEC-16': 6,\n",
       " 'HUVEC-17': 5,\n",
       " 'HUVEC-18': 6,\n",
       " 'HUVEC-19': 7,\n",
       " 'HUVEC-20': 8,\n",
       " 'HUVEC-21': 9,\n",
       " 'HUVEC-22': 10,\n",
       " 'HUVEC-23': 11,\n",
       " 'HUVEC-24': 12,\n",
       " 'RPE-01': 19,\n",
       " 'RPE-02': 20,\n",
       " 'RPE-03': 21,\n",
       " 'RPE-04': 22,\n",
       " 'RPE-05': 23,\n",
       " 'RPE-06': 19,\n",
       " 'RPE-07': 20,\n",
       " 'RPE-08': 19,\n",
       " 'RPE-09': 20,\n",
       " 'RPE-10': 21,\n",
       " 'RPE-11': 22,\n",
       " 'U2OS-01': 24,\n",
       " 'U2OS-02': 25,\n",
       " 'U2OS-03': 24,\n",
       " 'U2OS-04': 24,\n",
       " 'U2OS-05': 25}"
      ]
     },
     "execution_count": 11,
     "metadata": {},
     "output_type": "execute_result"
    }
   ],
   "source": [
    "exp2int"
   ]
  },
  {
   "cell_type": "code",
   "execution_count": 12,
   "metadata": {
    "ExecuteTime": {
     "end_time": "2019-08-27T04:08:13.566631Z",
     "start_time": "2019-08-27T04:08:13.443863Z"
    }
   },
   "outputs": [],
   "source": [
    "df_full_plate_pattern = pd.read_csv('full_dataset_v2_path_plate_groups_only_20190812.csv', index_col=0)"
   ]
  },
  {
   "cell_type": "code",
   "execution_count": 13,
   "metadata": {
    "ExecuteTime": {
     "end_time": "2019-08-27T04:08:13.942692Z",
     "start_time": "2019-08-27T04:08:13.922792Z"
    }
   },
   "outputs": [
    {
     "data": {
      "text/html": [
       "<div>\n",
       "<style scoped>\n",
       "    .dataframe tbody tr th:only-of-type {\n",
       "        vertical-align: middle;\n",
       "    }\n",
       "\n",
       "    .dataframe tbody tr th {\n",
       "        vertical-align: top;\n",
       "    }\n",
       "\n",
       "    .dataframe thead th {\n",
       "        text-align: right;\n",
       "    }\n",
       "</style>\n",
       "<table border=\"1\" class=\"dataframe\">\n",
       "  <thead>\n",
       "    <tr style=\"text-align: right;\">\n",
       "      <th></th>\n",
       "      <th>path</th>\n",
       "      <th>plate_pattern</th>\n",
       "    </tr>\n",
       "  </thead>\n",
       "  <tbody>\n",
       "    <tr>\n",
       "      <th>0</th>\n",
       "      <td>train/HEPG2-01/Plate1/B03_s1</td>\n",
       "      <td>0</td>\n",
       "    </tr>\n",
       "    <tr>\n",
       "      <th>1</th>\n",
       "      <td>train/HEPG2-01/Plate1/B04_s1</td>\n",
       "      <td>0</td>\n",
       "    </tr>\n",
       "    <tr>\n",
       "      <th>2</th>\n",
       "      <td>train/HEPG2-01/Plate1/B05_s1</td>\n",
       "      <td>0</td>\n",
       "    </tr>\n",
       "    <tr>\n",
       "      <th>3</th>\n",
       "      <td>train/HEPG2-01/Plate1/B06_s1</td>\n",
       "      <td>0</td>\n",
       "    </tr>\n",
       "    <tr>\n",
       "      <th>4</th>\n",
       "      <td>train/HEPG2-01/Plate1/B07_s1</td>\n",
       "      <td>0</td>\n",
       "    </tr>\n",
       "  </tbody>\n",
       "</table>\n",
       "</div>"
      ],
      "text/plain": [
       "                           path  plate_pattern\n",
       "0  train/HEPG2-01/Plate1/B03_s1              0\n",
       "1  train/HEPG2-01/Plate1/B04_s1              0\n",
       "2  train/HEPG2-01/Plate1/B05_s1              0\n",
       "3  train/HEPG2-01/Plate1/B06_s1              0\n",
       "4  train/HEPG2-01/Plate1/B07_s1              0"
      ]
     },
     "execution_count": 13,
     "metadata": {},
     "output_type": "execute_result"
    }
   ],
   "source": [
    "df_full_plate_pattern.head()"
   ]
  },
  {
   "cell_type": "code",
   "execution_count": 14,
   "metadata": {
    "ExecuteTime": {
     "end_time": "2019-08-27T04:08:14.256221Z",
     "start_time": "2019-08-27T04:08:14.219911Z"
    }
   },
   "outputs": [],
   "source": [
    "fn2pgint = dict(zip(df_full_plate_pattern.path.values, \n",
    "                              df_full_plate_pattern.plate_pattern.values))"
   ]
  },
  {
   "cell_type": "code",
   "execution_count": 15,
   "metadata": {
    "ExecuteTime": {
     "end_time": "2019-08-27T04:08:14.558751Z",
     "start_time": "2019-08-27T04:08:14.543080Z"
    }
   },
   "outputs": [
    {
     "data": {
      "text/plain": [
       "0"
      ]
     },
     "execution_count": 15,
     "metadata": {},
     "output_type": "execute_result"
    }
   ],
   "source": [
    "fn2pgint['train/HEPG2-01/Plate1/B03_s1']"
   ]
  },
  {
   "cell_type": "code",
   "execution_count": 16,
   "metadata": {
    "ExecuteTime": {
     "end_time": "2019-08-27T04:08:15.051402Z",
     "start_time": "2019-08-27T04:08:15.035863Z"
    }
   },
   "outputs": [],
   "source": [
    "# cell types from rcic_v10_inspect_image_data.ipynb \"pixel stats\"\n",
    "cts = ['HEPG2', 'HUVEC', 'RPE', 'U2OS']\n",
    "int2ct = {i: ct for i, ct in enumerate(cts)}\n",
    "ct2int = {ct: i for i, ct in int2ct.items()}"
   ]
  },
  {
   "cell_type": "code",
   "execution_count": 17,
   "metadata": {
    "ExecuteTime": {
     "end_time": "2019-08-27T04:08:15.376210Z",
     "start_time": "2019-08-27T04:08:15.354621Z"
    }
   },
   "outputs": [
    {
     "name": "stdout",
     "output_type": "stream",
     "text": [
      "{0: 'HEPG2', 1: 'HUVEC', 2: 'RPE', 3: 'U2OS'}\n",
      "{'HEPG2': 0, 'HUVEC': 1, 'RPE': 2, 'U2OS': 3}\n"
     ]
    }
   ],
   "source": [
    "print(int2ct)\n",
    "print(ct2int)"
   ]
  },
  {
   "cell_type": "code",
   "execution_count": 18,
   "metadata": {
    "ExecuteTime": {
     "end_time": "2019-08-27T04:08:15.871545Z",
     "start_time": "2019-08-27T04:08:15.849493Z"
    }
   },
   "outputs": [
    {
     "data": {
      "text/plain": [
       "'HEPG2'"
      ]
     },
     "execution_count": 18,
     "metadata": {},
     "output_type": "execute_result"
    }
   ],
   "source": [
    "ct = 'train/HEPG2-01/Plate1/B03_s1'.split('/')[1].split('-')[0]; ct"
   ]
  },
  {
   "cell_type": "code",
   "execution_count": 19,
   "metadata": {
    "ExecuteTime": {
     "end_time": "2019-08-27T04:08:16.226711Z",
     "start_time": "2019-08-27T04:08:16.208435Z"
    }
   },
   "outputs": [
    {
     "data": {
      "text/plain": [
       "0"
      ]
     },
     "execution_count": 19,
     "metadata": {},
     "output_type": "execute_result"
    }
   ],
   "source": [
    "ct2int[ct]"
   ]
  },
  {
   "cell_type": "code",
   "execution_count": 20,
   "metadata": {
    "ExecuteTime": {
     "end_time": "2019-08-27T04:08:16.599768Z",
     "start_time": "2019-08-27T04:08:16.579624Z"
    }
   },
   "outputs": [],
   "source": [
    "PATH_trunc = 'train/HEPG2-01/Plate1/B03_s1' # path is missing suffix \"_w1.png\""
   ]
  },
  {
   "cell_type": "code",
   "execution_count": 21,
   "metadata": {
    "ExecuteTime": {
     "end_time": "2019-08-27T04:08:17.322600Z",
     "start_time": "2019-08-27T04:08:17.216707Z"
    }
   },
   "outputs": [],
   "source": [
    "img = open_image_6Dct(PATH_trunc)"
   ]
  },
  {
   "cell_type": "code",
   "execution_count": 22,
   "metadata": {
    "ExecuteTime": {
     "end_time": "2019-08-27T04:08:17.442619Z",
     "start_time": "2019-08-27T04:08:17.409630Z"
    }
   },
   "outputs": [
    {
     "data": {
      "text/plain": [
       "torch.Size([6, 512, 512])"
      ]
     },
     "execution_count": 22,
     "metadata": {},
     "output_type": "execute_result"
    }
   ],
   "source": [
    "img.px.shape"
   ]
  },
  {
   "cell_type": "code",
   "execution_count": 23,
   "metadata": {
    "ExecuteTime": {
     "end_time": "2019-08-27T04:08:17.922786Z",
     "start_time": "2019-08-27T04:08:17.900222Z"
    }
   },
   "outputs": [
    {
     "data": {
      "text/plain": [
       "(tensor(0), tensor(0), tensor(0))"
      ]
     },
     "execution_count": 23,
     "metadata": {},
     "output_type": "execute_result"
    }
   ],
   "source": [
    "img.ctint, img.pgint, img.expint"
   ]
  },
  {
   "cell_type": "code",
   "execution_count": 24,
   "metadata": {
    "ExecuteTime": {
     "end_time": "2019-08-27T04:08:18.123001Z",
     "start_time": "2019-08-27T04:08:18.105605Z"
    }
   },
   "outputs": [
    {
     "data": {
      "text/plain": [
       "(torch.Tensor, torch.Tensor, torch.Tensor)"
      ]
     },
     "execution_count": 24,
     "metadata": {},
     "output_type": "execute_result"
    }
   ],
   "source": [
    "type(img.ctint), type(img.pgint), type(img.expint)"
   ]
  },
  {
   "cell_type": "markdown",
   "metadata": {},
   "source": [
    "# Dataset setup"
   ]
  },
  {
   "cell_type": "code",
   "execution_count": 25,
   "metadata": {
    "ExecuteTime": {
     "end_time": "2019-08-27T04:08:19.042597Z",
     "start_time": "2019-08-27T04:08:19.024845Z"
    }
   },
   "outputs": [],
   "source": [
    "class ImageList6Dct(ImageList): #ImageList\n",
    "    def __init__(self, *args, convert_mode='L', after_open:Callable=None, **kwargs):\n",
    "        super().__init__(*args, **kwargs)\n",
    "        self.convert_mode,self.after_open = convert_mode,after_open\n",
    "        self.copy_new.append('convert_mode')\n",
    "        self.c,self.sizes = 6,{}\n",
    "        \n",
    "    def open(self, fn):\n",
    "        \"Open image in `fn`, subclass and overwrite for custom behavior.\"\n",
    "        return open_image_6Dct(fn, convert_mode=self.convert_mode, after_open=self.after_open)\n",
    "\n",
    "#    def show(self, img):\n",
    "#        #return torch.cat((img[i][:3], img[i][3:]), dim=1)\n",
    "#        show_image(img)\n",
    "    \n",
    "    # https://docs.fast.ai/tutorial.itemlist.html#Advanced-show-methods\n",
    "    def show_xys(self, xs, ys, figsize:Tuple[int,int]=(15,10), **kwargs):\n",
    "        \"Show the `xs` and `ys` on a figure of `figsize`. `kwargs` are passed to the show method.\"\n",
    "        rows = int(math.sqrt(len(xs)))\n",
    "        fig, axs = plt.subplots(rows,rows,figsize=figsize)\n",
    "        for i, ax in enumerate(axs.flatten() if rows > 1 else [axs]):\n",
    "            #xs[i].show(ax=ax, y=ys[i], **kwargs)\n",
    "            img = Image6D(torch.cat((xs[i].data[:3], xs[i].data[3:]), dim=2)) # works but not elegant?\n",
    "            #img = Image6D(xs[i]) # does not work?\n",
    "            img.show(ax=ax, y=ys[i], **kwargs)\n",
    "        plt.tight_layout()"
   ]
  },
  {
   "cell_type": "code",
   "execution_count": 26,
   "metadata": {
    "ExecuteTime": {
     "end_time": "2019-08-27T04:08:19.642637Z",
     "start_time": "2019-08-27T04:08:19.623991Z"
    }
   },
   "outputs": [],
   "source": [
    "#def show_image(img:Image, ax:plt.Axes=None, figsize:tuple=(3,3), hide_axis:bool=True, cmap:str='binary',\n",
    "#                alpha:float=None, **kwargs)->plt.Axes:\n",
    "#    \"Display `Image` in notebook.\"\n",
    "#    if ax is None: fig,ax = plt.subplots(figsize=figsize)\n",
    "#    pdb.set_trace()\n",
    "#    #ax.imshow(image2np(img.data), cmap=cmap, alpha=alpha, **kwargs)\n",
    "#    ax.imshow(np.concatenate((image2np(self.px[:3]),\n",
    "#                              image2np(self.px[3:])), axis=1),\n",
    "#              cmap=cmap, alpha=alpha, **kwargs)\n",
    "#    if hide_axis: ax.axis('off')\n",
    "#    return ax\n"
   ]
  },
  {
   "cell_type": "markdown",
   "metadata": {},
   "source": [
    "## Full dataset"
   ]
  },
  {
   "cell_type": "markdown",
   "metadata": {},
   "source": [
    "### Dataset raw files"
   ]
  },
  {
   "cell_type": "code",
   "execution_count": 27,
   "metadata": {
    "ExecuteTime": {
     "end_time": "2019-08-27T04:08:21.010649Z",
     "start_time": "2019-08-27T04:08:20.880243Z"
    }
   },
   "outputs": [],
   "source": [
    "df_train = pd.read_csv('full_train_dataset_valid-split-ex_v2_ct_20190824.csv', index_col=0)\n",
    "df_test = pd.read_csv('full_test_dataset_v2_ct_20190824.csv', index_col=0)"
   ]
  },
  {
   "cell_type": "code",
   "execution_count": 28,
   "metadata": {
    "ExecuteTime": {
     "end_time": "2019-08-27T04:08:21.150014Z",
     "start_time": "2019-08-27T04:08:21.132898Z"
    }
   },
   "outputs": [
    {
     "data": {
      "text/plain": [
       "(73030, 6)"
      ]
     },
     "execution_count": 28,
     "metadata": {},
     "output_type": "execute_result"
    }
   ],
   "source": [
    "df_train.shape"
   ]
  },
  {
   "cell_type": "code",
   "execution_count": 29,
   "metadata": {
    "ExecuteTime": {
     "end_time": "2019-08-27T04:08:21.597823Z",
     "start_time": "2019-08-27T04:08:21.577138Z"
    }
   },
   "outputs": [
    {
     "data": {
      "text/html": [
       "<div>\n",
       "<style scoped>\n",
       "    .dataframe tbody tr th:only-of-type {\n",
       "        vertical-align: middle;\n",
       "    }\n",
       "\n",
       "    .dataframe tbody tr th {\n",
       "        vertical-align: top;\n",
       "    }\n",
       "\n",
       "    .dataframe thead th {\n",
       "        text-align: right;\n",
       "    }\n",
       "</style>\n",
       "<table border=\"1\" class=\"dataframe\">\n",
       "  <thead>\n",
       "    <tr style=\"text-align: right;\">\n",
       "      <th></th>\n",
       "      <th>path</th>\n",
       "      <th>experiment</th>\n",
       "      <th>sirna</th>\n",
       "      <th>multi</th>\n",
       "      <th>valid</th>\n",
       "      <th>celltype</th>\n",
       "    </tr>\n",
       "  </thead>\n",
       "  <tbody>\n",
       "    <tr>\n",
       "      <th>36510</th>\n",
       "      <td>U2OS-03/Plate4/O19_s2</td>\n",
       "      <td>U2OS-03</td>\n",
       "      <td>103</td>\n",
       "      <td>U2OS-03 103</td>\n",
       "      <td>1</td>\n",
       "      <td>U2OS</td>\n",
       "    </tr>\n",
       "    <tr>\n",
       "      <th>36511</th>\n",
       "      <td>U2OS-03/Plate4/O20_s2</td>\n",
       "      <td>U2OS-03</td>\n",
       "      <td>202</td>\n",
       "      <td>U2OS-03 202</td>\n",
       "      <td>1</td>\n",
       "      <td>U2OS</td>\n",
       "    </tr>\n",
       "    <tr>\n",
       "      <th>36512</th>\n",
       "      <td>U2OS-03/Plate4/O21_s2</td>\n",
       "      <td>U2OS-03</td>\n",
       "      <td>824</td>\n",
       "      <td>U2OS-03 824</td>\n",
       "      <td>1</td>\n",
       "      <td>U2OS</td>\n",
       "    </tr>\n",
       "    <tr>\n",
       "      <th>36513</th>\n",
       "      <td>U2OS-03/Plate4/O22_s2</td>\n",
       "      <td>U2OS-03</td>\n",
       "      <td>328</td>\n",
       "      <td>U2OS-03 328</td>\n",
       "      <td>1</td>\n",
       "      <td>U2OS</td>\n",
       "    </tr>\n",
       "    <tr>\n",
       "      <th>36514</th>\n",
       "      <td>U2OS-03/Plate4/O23_s2</td>\n",
       "      <td>U2OS-03</td>\n",
       "      <td>509</td>\n",
       "      <td>U2OS-03 509</td>\n",
       "      <td>1</td>\n",
       "      <td>U2OS</td>\n",
       "    </tr>\n",
       "  </tbody>\n",
       "</table>\n",
       "</div>"
      ],
      "text/plain": [
       "                        path experiment  sirna        multi  valid celltype\n",
       "36510  U2OS-03/Plate4/O19_s2    U2OS-03    103  U2OS-03 103      1     U2OS\n",
       "36511  U2OS-03/Plate4/O20_s2    U2OS-03    202  U2OS-03 202      1     U2OS\n",
       "36512  U2OS-03/Plate4/O21_s2    U2OS-03    824  U2OS-03 824      1     U2OS\n",
       "36513  U2OS-03/Plate4/O22_s2    U2OS-03    328  U2OS-03 328      1     U2OS\n",
       "36514  U2OS-03/Plate4/O23_s2    U2OS-03    509  U2OS-03 509      1     U2OS"
      ]
     },
     "execution_count": 29,
     "metadata": {},
     "output_type": "execute_result"
    }
   ],
   "source": [
    "df_train.tail()"
   ]
  },
  {
   "cell_type": "code",
   "execution_count": 30,
   "metadata": {
    "ExecuteTime": {
     "end_time": "2019-08-27T04:08:21.800370Z",
     "start_time": "2019-08-27T04:08:21.781374Z"
    }
   },
   "outputs": [
    {
     "data": {
      "text/html": [
       "<div>\n",
       "<style scoped>\n",
       "    .dataframe tbody tr th:only-of-type {\n",
       "        vertical-align: middle;\n",
       "    }\n",
       "\n",
       "    .dataframe tbody tr th {\n",
       "        vertical-align: top;\n",
       "    }\n",
       "\n",
       "    .dataframe thead th {\n",
       "        text-align: right;\n",
       "    }\n",
       "</style>\n",
       "<table border=\"1\" class=\"dataframe\">\n",
       "  <thead>\n",
       "    <tr style=\"text-align: right;\">\n",
       "      <th></th>\n",
       "      <th>path</th>\n",
       "      <th>experiment</th>\n",
       "      <th>celltype</th>\n",
       "    </tr>\n",
       "  </thead>\n",
       "  <tbody>\n",
       "    <tr>\n",
       "      <th>19892</th>\n",
       "      <td>U2OS-05/Plate4/O19_s2</td>\n",
       "      <td>U2OS-05</td>\n",
       "      <td>U2OS</td>\n",
       "    </tr>\n",
       "    <tr>\n",
       "      <th>19893</th>\n",
       "      <td>U2OS-05/Plate4/O20_s2</td>\n",
       "      <td>U2OS-05</td>\n",
       "      <td>U2OS</td>\n",
       "    </tr>\n",
       "    <tr>\n",
       "      <th>19894</th>\n",
       "      <td>U2OS-05/Plate4/O21_s2</td>\n",
       "      <td>U2OS-05</td>\n",
       "      <td>U2OS</td>\n",
       "    </tr>\n",
       "    <tr>\n",
       "      <th>19895</th>\n",
       "      <td>U2OS-05/Plate4/O22_s2</td>\n",
       "      <td>U2OS-05</td>\n",
       "      <td>U2OS</td>\n",
       "    </tr>\n",
       "    <tr>\n",
       "      <th>19896</th>\n",
       "      <td>U2OS-05/Plate4/O23_s2</td>\n",
       "      <td>U2OS-05</td>\n",
       "      <td>U2OS</td>\n",
       "    </tr>\n",
       "  </tbody>\n",
       "</table>\n",
       "</div>"
      ],
      "text/plain": [
       "                        path experiment celltype\n",
       "19892  U2OS-05/Plate4/O19_s2    U2OS-05     U2OS\n",
       "19893  U2OS-05/Plate4/O20_s2    U2OS-05     U2OS\n",
       "19894  U2OS-05/Plate4/O21_s2    U2OS-05     U2OS\n",
       "19895  U2OS-05/Plate4/O22_s2    U2OS-05     U2OS\n",
       "19896  U2OS-05/Plate4/O23_s2    U2OS-05     U2OS"
      ]
     },
     "execution_count": 30,
     "metadata": {},
     "output_type": "execute_result"
    }
   ],
   "source": [
    "df_test.tail()"
   ]
  },
  {
   "cell_type": "code",
   "execution_count": 31,
   "metadata": {
    "ExecuteTime": {
     "end_time": "2019-08-27T04:08:22.309007Z",
     "start_time": "2019-08-27T04:08:22.296056Z"
    }
   },
   "outputs": [],
   "source": [
    "cts = ['HEPG2', 'HUVEC', 'RPE', 'U2OS']"
   ]
  },
  {
   "cell_type": "code",
   "execution_count": 32,
   "metadata": {
    "ExecuteTime": {
     "end_time": "2019-08-27T04:08:22.904992Z",
     "start_time": "2019-08-27T04:08:22.885573Z"
    }
   },
   "outputs": [
    {
     "data": {
      "text/plain": [
       "'U2OS'"
      ]
     },
     "execution_count": 32,
     "metadata": {},
     "output_type": "execute_result"
    }
   ],
   "source": [
    "# Pick the celltype for the celltype-specific training\n",
    "ct = cts[3]; ct"
   ]
  },
  {
   "cell_type": "code",
   "execution_count": 33,
   "metadata": {
    "ExecuteTime": {
     "end_time": "2019-08-27T04:08:23.097413Z",
     "start_time": "2019-08-27T04:08:23.082142Z"
    }
   },
   "outputs": [
    {
     "data": {
      "text/plain": [
       "(6648, 6)"
      ]
     },
     "execution_count": 33,
     "metadata": {},
     "output_type": "execute_result"
    }
   ],
   "source": [
    "df_train[df_train['celltype'] == ct].shape"
   ]
  },
  {
   "cell_type": "code",
   "execution_count": 34,
   "metadata": {
    "ExecuteTime": {
     "end_time": "2019-08-27T04:08:23.615671Z",
     "start_time": "2019-08-27T04:08:23.597673Z"
    }
   },
   "outputs": [
    {
     "data": {
      "text/html": [
       "<div>\n",
       "<style scoped>\n",
       "    .dataframe tbody tr th:only-of-type {\n",
       "        vertical-align: middle;\n",
       "    }\n",
       "\n",
       "    .dataframe tbody tr th {\n",
       "        vertical-align: top;\n",
       "    }\n",
       "\n",
       "    .dataframe thead th {\n",
       "        text-align: right;\n",
       "    }\n",
       "</style>\n",
       "<table border=\"1\" class=\"dataframe\">\n",
       "  <thead>\n",
       "    <tr style=\"text-align: right;\">\n",
       "      <th></th>\n",
       "      <th>path</th>\n",
       "      <th>experiment</th>\n",
       "      <th>sirna</th>\n",
       "      <th>multi</th>\n",
       "      <th>valid</th>\n",
       "      <th>celltype</th>\n",
       "    </tr>\n",
       "  </thead>\n",
       "  <tbody>\n",
       "    <tr>\n",
       "      <th>36510</th>\n",
       "      <td>U2OS-03/Plate4/O19_s2</td>\n",
       "      <td>U2OS-03</td>\n",
       "      <td>103</td>\n",
       "      <td>U2OS-03 103</td>\n",
       "      <td>1</td>\n",
       "      <td>U2OS</td>\n",
       "    </tr>\n",
       "    <tr>\n",
       "      <th>36511</th>\n",
       "      <td>U2OS-03/Plate4/O20_s2</td>\n",
       "      <td>U2OS-03</td>\n",
       "      <td>202</td>\n",
       "      <td>U2OS-03 202</td>\n",
       "      <td>1</td>\n",
       "      <td>U2OS</td>\n",
       "    </tr>\n",
       "    <tr>\n",
       "      <th>36512</th>\n",
       "      <td>U2OS-03/Plate4/O21_s2</td>\n",
       "      <td>U2OS-03</td>\n",
       "      <td>824</td>\n",
       "      <td>U2OS-03 824</td>\n",
       "      <td>1</td>\n",
       "      <td>U2OS</td>\n",
       "    </tr>\n",
       "    <tr>\n",
       "      <th>36513</th>\n",
       "      <td>U2OS-03/Plate4/O22_s2</td>\n",
       "      <td>U2OS-03</td>\n",
       "      <td>328</td>\n",
       "      <td>U2OS-03 328</td>\n",
       "      <td>1</td>\n",
       "      <td>U2OS</td>\n",
       "    </tr>\n",
       "    <tr>\n",
       "      <th>36514</th>\n",
       "      <td>U2OS-03/Plate4/O23_s2</td>\n",
       "      <td>U2OS-03</td>\n",
       "      <td>509</td>\n",
       "      <td>U2OS-03 509</td>\n",
       "      <td>1</td>\n",
       "      <td>U2OS</td>\n",
       "    </tr>\n",
       "  </tbody>\n",
       "</table>\n",
       "</div>"
      ],
      "text/plain": [
       "                        path experiment  sirna        multi  valid celltype\n",
       "36510  U2OS-03/Plate4/O19_s2    U2OS-03    103  U2OS-03 103      1     U2OS\n",
       "36511  U2OS-03/Plate4/O20_s2    U2OS-03    202  U2OS-03 202      1     U2OS\n",
       "36512  U2OS-03/Plate4/O21_s2    U2OS-03    824  U2OS-03 824      1     U2OS\n",
       "36513  U2OS-03/Plate4/O22_s2    U2OS-03    328  U2OS-03 328      1     U2OS\n",
       "36514  U2OS-03/Plate4/O23_s2    U2OS-03    509  U2OS-03 509      1     U2OS"
      ]
     },
     "execution_count": 34,
     "metadata": {},
     "output_type": "execute_result"
    }
   ],
   "source": [
    "df_train[df_train['celltype'] == ct].tail()"
   ]
  },
  {
   "cell_type": "code",
   "execution_count": 35,
   "metadata": {
    "ExecuteTime": {
     "end_time": "2019-08-27T04:08:24.215791Z",
     "start_time": "2019-08-27T04:08:24.196133Z"
    }
   },
   "outputs": [
    {
     "data": {
      "text/html": [
       "<div>\n",
       "<style scoped>\n",
       "    .dataframe tbody tr th:only-of-type {\n",
       "        vertical-align: middle;\n",
       "    }\n",
       "\n",
       "    .dataframe tbody tr th {\n",
       "        vertical-align: top;\n",
       "    }\n",
       "\n",
       "    .dataframe thead th {\n",
       "        text-align: right;\n",
       "    }\n",
       "</style>\n",
       "<table border=\"1\" class=\"dataframe\">\n",
       "  <thead>\n",
       "    <tr style=\"text-align: right;\">\n",
       "      <th></th>\n",
       "      <th>path</th>\n",
       "      <th>experiment</th>\n",
       "      <th>celltype</th>\n",
       "    </tr>\n",
       "  </thead>\n",
       "  <tbody>\n",
       "    <tr>\n",
       "      <th>19892</th>\n",
       "      <td>U2OS-05/Plate4/O19_s2</td>\n",
       "      <td>U2OS-05</td>\n",
       "      <td>U2OS</td>\n",
       "    </tr>\n",
       "    <tr>\n",
       "      <th>19893</th>\n",
       "      <td>U2OS-05/Plate4/O20_s2</td>\n",
       "      <td>U2OS-05</td>\n",
       "      <td>U2OS</td>\n",
       "    </tr>\n",
       "    <tr>\n",
       "      <th>19894</th>\n",
       "      <td>U2OS-05/Plate4/O21_s2</td>\n",
       "      <td>U2OS-05</td>\n",
       "      <td>U2OS</td>\n",
       "    </tr>\n",
       "    <tr>\n",
       "      <th>19895</th>\n",
       "      <td>U2OS-05/Plate4/O22_s2</td>\n",
       "      <td>U2OS-05</td>\n",
       "      <td>U2OS</td>\n",
       "    </tr>\n",
       "    <tr>\n",
       "      <th>19896</th>\n",
       "      <td>U2OS-05/Plate4/O23_s2</td>\n",
       "      <td>U2OS-05</td>\n",
       "      <td>U2OS</td>\n",
       "    </tr>\n",
       "  </tbody>\n",
       "</table>\n",
       "</div>"
      ],
      "text/plain": [
       "                        path experiment celltype\n",
       "19892  U2OS-05/Plate4/O19_s2    U2OS-05     U2OS\n",
       "19893  U2OS-05/Plate4/O20_s2    U2OS-05     U2OS\n",
       "19894  U2OS-05/Plate4/O21_s2    U2OS-05     U2OS\n",
       "19895  U2OS-05/Plate4/O22_s2    U2OS-05     U2OS\n",
       "19896  U2OS-05/Plate4/O23_s2    U2OS-05     U2OS"
      ]
     },
     "execution_count": 35,
     "metadata": {},
     "output_type": "execute_result"
    }
   ],
   "source": [
    "df_test[df_test['celltype'] == ct].tail()"
   ]
  },
  {
   "cell_type": "markdown",
   "metadata": {},
   "source": [
    "### Color augmentation transformation"
   ]
  },
  {
   "cell_type": "markdown",
   "metadata": {},
   "source": [
    "\"Color Augmentation: Color variability can be increased by applying random color transformations to original training samples. We perform color augmentation by transforming every color channels Ic ← ac · Ic + bc, where ac and bc are drawn from uniform distributions ac ∼ U [0.9, 1.1] and bc ∼ U [−10, +10].\" from Domain-adversarial neural networks to address the appearance variability of histopathology images"
   ]
  },
  {
   "cell_type": "code",
   "execution_count": 36,
   "metadata": {
    "ExecuteTime": {
     "end_time": "2019-08-27T04:08:25.613627Z",
     "start_time": "2019-08-27T04:08:25.598069Z"
    }
   },
   "outputs": [],
   "source": [
    "# from https://github.com/fastai/fastai/blob/master/fastai/vision/transform.py#L137\n",
    "#def _rgb_randomize(x, channel:int=None, thresh:float=0.3):\n",
    "#    \"Randomize one of the channels of the input image\"\n",
    "#    if channel is None: channel = np.random.randint(0, x.shape[0] - 1)\n",
    "#    x[channel] = torch.rand(x.shape[1:]) * np.random.uniform(0, thresh)\n",
    "#    return x\n",
    "#\n",
    "#rgb_randomize = TfmPixel(_rgb_randomize)"
   ]
  },
  {
   "cell_type": "code",
   "execution_count": 37,
   "metadata": {
    "ExecuteTime": {
     "end_time": "2019-08-27T04:08:26.031964Z",
     "start_time": "2019-08-27T04:08:26.021496Z"
    }
   },
   "outputs": [],
   "source": [
    "# Scaling factor comes from byte tensor?\n",
    "#10/255 = 0.0392156862745098"
   ]
  },
  {
   "cell_type": "code",
   "execution_count": 38,
   "metadata": {
    "ExecuteTime": {
     "end_time": "2019-08-27T04:08:26.354633Z",
     "start_time": "2019-08-27T04:08:26.343248Z"
    }
   },
   "outputs": [],
   "source": [
    "def _color_augmentation(x):\n",
    "    \"Randomize all channels of the input image\"\n",
    "    channel_count = x.shape[0] - 1\n",
    "    \n",
    "    # by transforming every color channels Ic ← ac · Ic + bc, \n",
    "    # where ac and bc are drawn from uniform distributions \n",
    "    # ac ∼ U [0.9, 1.1] and \n",
    "    # bc ∼ U [−10, +10].\n",
    "    \n",
    "    # x [0,1]\n",
    "    \n",
    "    for c in range(channel_count):\n",
    "        #pdb.set_trace()\n",
    "        #print(x.min(), x.max())\n",
    "        ac = np.random.uniform(0.9, 1.1) #np.random.uniform(0.9, 1.1)\n",
    "        bc = np.random.uniform(-0.1,0.1) #np.random.uniform(-10, 10)\n",
    "        x[c] = x[c] * ac + bc\n",
    "        \n",
    "        # clipping to min 0 and max 1\n",
    "        x[c] = torch.clamp(x[c], 0., 1.)\n",
    "    \n",
    "    return x\n",
    "\n",
    "color_augmentation = TfmPixel(_color_augmentation)"
   ]
  },
  {
   "cell_type": "markdown",
   "metadata": {},
   "source": [
    "### Transforms setup"
   ]
  },
  {
   "cell_type": "code",
   "execution_count": 39,
   "metadata": {
    "ExecuteTime": {
     "end_time": "2019-08-27T04:08:27.355347Z",
     "start_time": "2019-08-27T04:08:27.335848Z"
    }
   },
   "outputs": [],
   "source": [
    "## AdaCos-SE-XResNet50c --> FP32 !!!\n",
    "# TRAINING\n",
    "#sz, bs = 128, 8*20 # 7576MiB /  7952MiB INCREASE?\n",
    "#sz, bs = 256, 8*5 # 7341MiB /  7952MiB\n",
    "#sz, bs = 512, 8 #\n",
    "# PREDICTION\n",
    "#sz, bs = 256, 8*25 # 5391MiB /  7952MiB\n",
    "#sz, bs = 256, 8*40 # 7741MiB /  7952MiB\n",
    "#sz, bs = 512, 8*5 # 6051MiB /  7952MiB\n",
    "# DATA AUGM W/O AdaCos\n",
    "#sz, bs = 128, 8*42 # 7937MiB /  7952MiB\n",
    "#sz, bs = 256, 8*13 # \n",
    "#sz, bs = 512, 8*3 # \n",
    "\n",
    "\n",
    "## EfficientNet-B3\n",
    "#sz, bs = 300, 8 # 4167MiB /  7952MiB\n",
    "sz, bs = 300, 8*2 # 7942MiB /  7952MiB // FP16: 4397MiB /  7952MiB\n",
    "#sz, bs = 300, 8*4 # FP16: 7805MiB /  7952MiB\n",
    "\n",
    "# EfficientNet-B4\n",
    "#sz, bs = 380, 8  # 7796MiB /  7952MiB\n",
    "#sz, bs = 380, 8*2 # FP16"
   ]
  },
  {
   "cell_type": "code",
   "execution_count": 40,
   "metadata": {
    "ExecuteTime": {
     "end_time": "2019-08-27T04:08:27.997215Z",
     "start_time": "2019-08-27T04:08:27.979089Z"
    }
   },
   "outputs": [
    {
     "data": {
      "text/plain": [
       "(300, 16)"
      ]
     },
     "execution_count": 40,
     "metadata": {},
     "output_type": "execute_result"
    }
   ],
   "source": [
    "sz, bs"
   ]
  },
  {
   "cell_type": "code",
   "execution_count": 41,
   "metadata": {
    "ExecuteTime": {
     "end_time": "2019-08-27T04:08:28.424963Z",
     "start_time": "2019-08-27T04:08:28.406836Z"
    }
   },
   "outputs": [],
   "source": [
    "# cutout params\n",
    "#int(sz*0.1), int(sz*0.5)"
   ]
  },
  {
   "cell_type": "code",
   "execution_count": 42,
   "metadata": {
    "ExecuteTime": {
     "end_time": "2019-08-27T04:08:28.757965Z",
     "start_time": "2019-08-27T04:08:28.742142Z"
    }
   },
   "outputs": [],
   "source": [
    "# normal tfms\n",
    "#tfms = get_transforms()"
   ]
  },
  {
   "cell_type": "code",
   "execution_count": 43,
   "metadata": {
    "ExecuteTime": {
     "end_time": "2019-08-27T04:08:29.266850Z",
     "start_time": "2019-08-27T04:08:29.249479Z"
    }
   },
   "outputs": [],
   "source": [
    "# extended tfms\n",
    "tfms = get_transforms(do_flip=True, flip_vert=True, \n",
    "                      max_rotate=90.0, max_zoom=1.1, \n",
    "                      max_lighting=0.2, max_warp=0.2, \n",
    "                      p_affine=0.75, p_lighting=0.75, \n",
    "                      xtra_tfms=[color_augmentation()])\n",
    "\n",
    "# crop_pad: https://forums.fast.ai/t/misc-issues/35386/10"
   ]
  },
  {
   "cell_type": "code",
   "execution_count": 44,
   "metadata": {
    "ExecuteTime": {
     "end_time": "2019-08-27T04:08:29.579884Z",
     "start_time": "2019-08-27T04:08:29.567061Z"
    }
   },
   "outputs": [],
   "source": [
    "# extended tfms\n",
    "#tfms = get_transforms(do_flip=True, flip_vert=True, \n",
    "#                      max_rotate=90.0, max_zoom=1.1, \n",
    "#                      max_lighting=0.2, max_warp=0.2, \n",
    "#                      p_affine=0.75, p_lighting=0.75, \n",
    "#                      xtra_tfms=[color_augmentation(), \n",
    "#                                 cutout(n_holes=(1,4), length=(int(sz*0.1), int(sz*0.5)), p=.5)])"
   ]
  },
  {
   "cell_type": "code",
   "execution_count": 45,
   "metadata": {
    "ExecuteTime": {
     "end_time": "2019-08-27T04:08:30.081325Z",
     "start_time": "2019-08-27T04:08:30.065511Z"
    }
   },
   "outputs": [],
   "source": [
    "#tfms = [[crop(size=sz, row_pct=(0,1), col_pct=(0,1))], []]"
   ]
  },
  {
   "cell_type": "code",
   "execution_count": 46,
   "metadata": {
    "ExecuteTime": {
     "end_time": "2019-08-27T04:08:30.478328Z",
     "start_time": "2019-08-27T04:08:30.458011Z"
    }
   },
   "outputs": [],
   "source": [
    "#tfms"
   ]
  },
  {
   "cell_type": "code",
   "execution_count": 47,
   "metadata": {
    "ExecuteTime": {
     "end_time": "2019-08-27T04:08:31.126655Z",
     "start_time": "2019-08-27T04:08:31.108953Z"
    }
   },
   "outputs": [],
   "source": [
    "# change \"crop_pad\" from get_transforms to \"crop\"\n",
    "# CENTER for FIXED cropping\n",
    "tfms[0][0] = crop(size=sz, row_pct=[0.5,0.5], col_pct=[0.5,0.5])\n",
    "tfms[1][0] = crop(size=sz, row_pct=[0.5,0.5], col_pct=[0.5,0.5])"
   ]
  },
  {
   "cell_type": "code",
   "execution_count": 48,
   "metadata": {
    "ExecuteTime": {
     "end_time": "2019-08-27T04:08:31.323902Z",
     "start_time": "2019-08-27T04:08:31.303873Z"
    }
   },
   "outputs": [
    {
     "data": {
      "text/plain": [
       "([0.5, 0.5], [0.5, 0.5])"
      ]
     },
     "execution_count": 48,
     "metadata": {},
     "output_type": "execute_result"
    }
   ],
   "source": [
    "# train crop\n",
    "tfms[0][0].kwargs['row_pct'], tfms[0][0].kwargs['col_pct']"
   ]
  },
  {
   "cell_type": "code",
   "execution_count": 49,
   "metadata": {
    "ExecuteTime": {
     "end_time": "2019-08-27T04:08:31.842670Z",
     "start_time": "2019-08-27T04:08:31.824006Z"
    }
   },
   "outputs": [
    {
     "data": {
      "text/plain": [
       "([0.5, 0.5], [0.5, 0.5])"
      ]
     },
     "execution_count": 49,
     "metadata": {},
     "output_type": "execute_result"
    }
   ],
   "source": [
    "# valid crop\n",
    "tfms[1][0].kwargs['row_pct'], tfms[1][0].kwargs['col_pct']"
   ]
  },
  {
   "cell_type": "code",
   "execution_count": 50,
   "metadata": {
    "ExecuteTime": {
     "end_time": "2019-08-27T04:08:32.313865Z",
     "start_time": "2019-08-27T04:08:32.297845Z"
    }
   },
   "outputs": [],
   "source": [
    "#tfms"
   ]
  },
  {
   "cell_type": "markdown",
   "metadata": {},
   "source": [
    "### Dataset definition"
   ]
  },
  {
   "cell_type": "code",
   "execution_count": 51,
   "metadata": {
    "ExecuteTime": {
     "end_time": "2019-08-27T04:08:35.717927Z",
     "start_time": "2019-08-27T04:08:34.100273Z"
    }
   },
   "outputs": [],
   "source": [
    "# VALID SPLIT (incl. tfms)\n",
    "data = (ImageList6Dct.from_df(df_train[df_train['celltype'] == ct], path='train')\n",
    "        .split_from_df(col=-2) # !!!\n",
    "        .label_from_df(cols=-4)\n",
    "        .add_test(ImageList6Dct.from_df(df_test[df_test['celltype'] == ct], path='test'))\n",
    "        .transform(tfms, size=sz)\n",
    "        .databunch(bs=bs))"
   ]
  },
  {
   "cell_type": "code",
   "execution_count": 51,
   "metadata": {
    "ExecuteTime": {
     "end_time": "2019-08-25T18:17:37.914612Z",
     "start_time": "2019-08-25T18:17:36.940539Z"
    }
   },
   "outputs": [],
   "source": [
    "# FULL DATASET (incl. tfms)\n",
    "data = (ImageList6Dct.from_df(df_train[df_train['celltype'] == ct], path='train')\n",
    "        .split_none() # !!!\n",
    "        .label_from_df(cols=-4)\n",
    "        .add_test(ImageList6Dct.from_df(df_test[df_test['celltype'] == ct], path='test'))\n",
    "        .transform(tfms, size=sz)\n",
    "        .databunch(bs=bs))"
   ]
  },
  {
   "cell_type": "code",
   "execution_count": null,
   "metadata": {
    "ExecuteTime": {
     "end_time": "2019-08-02T18:39:14.121475Z",
     "start_time": "2019-08-02T18:39:08.866676Z"
    }
   },
   "outputs": [],
   "source": [
    "# VALID SPLIT PREDICTION (NO tfms)\n",
    "#data = (ImageList6D.from_df(df_train, path='train')\n",
    "#        .split_from_df(col=-1) \n",
    "#        .label_from_df(cols=-3) # label_delim=' ' for MultiCategoryList !\n",
    "#        .add_test(ImageList6D.from_df(df_test, path='test'))\n",
    "#        .transform(size=sz) # !!!\n",
    "#        .databunch(bs=bs))"
   ]
  },
  {
   "cell_type": "code",
   "execution_count": null,
   "metadata": {},
   "outputs": [],
   "source": [
    "# FULL DATASET PREDICTION (NO tfms)\n",
    "#data = (ImageList6D.from_df(df_train, path='train')\n",
    "#        .split_none() # !!!\n",
    "#        .label_from_df(cols=-3)\n",
    "#        .add_test(ImageList6D.from_df(df_test, path='test'))\n",
    "#        .transform(size=sz)\n",
    "#        .databunch(bs=bs))"
   ]
  },
  {
   "cell_type": "code",
   "execution_count": 52,
   "metadata": {
    "ExecuteTime": {
     "end_time": "2019-08-27T04:08:40.172171Z",
     "start_time": "2019-08-27T04:08:39.194702Z"
    }
   },
   "outputs": [
    {
     "data": {
      "text/plain": [
       "ImageDataBunch;\n",
       "\n",
       "Train: LabelList (4432 items)\n",
       "x: ImageList6Dct\n",
       "Image6Dct (6, 300, 300),Image6Dct (6, 300, 300),Image6Dct (6, 300, 300),Image6Dct (6, 300, 300),Image6Dct (6, 300, 300)\n",
       "y: CategoryList\n",
       "267,768,632,86,1051\n",
       "Path: train;\n",
       "\n",
       "Valid: LabelList (2216 items)\n",
       "x: ImageList6Dct\n",
       "Image6Dct (6, 300, 300),Image6Dct (6, 300, 300),Image6Dct (6, 300, 300),Image6Dct (6, 300, 300),Image6Dct (6, 300, 300)\n",
       "y: CategoryList\n",
       "308,921,673,745,400\n",
       "Path: train;\n",
       "\n",
       "Test: LabelList (4410 items)\n",
       "x: ImageList6Dct\n",
       "Image6Dct (6, 300, 300),Image6Dct (6, 300, 300),Image6Dct (6, 300, 300),Image6Dct (6, 300, 300),Image6Dct (6, 300, 300)\n",
       "y: EmptyLabelList\n",
       ",,,,\n",
       "Path: train"
      ]
     },
     "execution_count": 52,
     "metadata": {},
     "output_type": "execute_result"
    }
   ],
   "source": [
    "data"
   ]
  },
  {
   "cell_type": "code",
   "execution_count": 53,
   "metadata": {
    "ExecuteTime": {
     "end_time": "2019-08-27T04:08:40.195023Z",
     "start_time": "2019-08-27T04:08:40.173906Z"
    }
   },
   "outputs": [],
   "source": [
    "### CHANGED LINE 65 to:\n",
    "# nano ~/anaconda3/envs/fastai/lib/python3.6/site-packages/fastai/vision/data.py"
   ]
  },
  {
   "cell_type": "markdown",
   "metadata": {
    "ExecuteTime": {
     "end_time": "2019-08-10T10:36:41.864055Z",
     "start_time": "2019-08-10T10:36:41.846780Z"
    }
   },
   "source": [
    "```\n",
    "~/anaconda3/envs/fastai/lib/python3.6/site-packages/fastai/vision/data.py in _normalize_batch(b, mean, std, do_x, do_y)\n",
    "     64     \"`b` = `x`,`y` - normalize `x` array of imgs and `do_y` optionally `y`.\"\n",
    "     65     x,y = b\n",
    "---> 66     mean,std = mean.to(x.device),std.to(x.device)\n",
    "     67     if do_x: x = normalize(x,mean,std)\n",
    "     68     if do_y and len(y.shape) == 4: y = normalize(y,mean,std)\n",
    "\n",
    "AttributeError: 'list' object has no attribute 'device'\n",
    "```\n",
    "CHANGED TO:\n",
    "```\n",
    "def _normalize_batch(b:Tuple[Tensor,Tensor], mean:FloatTensor, std:FloatTensor, do_x:bool$\n",
    "    \"`b` = `x`,`y` - normalize `x` array of imgs and `do_y` optionally `y`.\"\n",
    "    (x,cint,pgint,expint),y = b\n",
    "    mean,std = mean.to(x.device),std.to(x.device)\n",
    "    if do_x: x = normalize(x,mean,std)\n",
    "    if do_y and len(y.shape) == 4: y = normalize(y,mean,std)\n",
    "    return (x,cint,pgint,expint),y\n",
    "```"
   ]
  },
  {
   "cell_type": "code",
   "execution_count": 54,
   "metadata": {
    "ExecuteTime": {
     "end_time": "2019-08-27T04:08:40.859985Z",
     "start_time": "2019-08-27T04:08:40.841373Z"
    }
   },
   "outputs": [],
   "source": [
    "#data.batch_stats() # DOES NOT WORK?"
   ]
  },
  {
   "cell_type": "code",
   "execution_count": 55,
   "metadata": {
    "ExecuteTime": {
     "end_time": "2019-08-27T04:08:41.380479Z",
     "start_time": "2019-08-27T04:08:41.368708Z"
    }
   },
   "outputs": [],
   "source": [
    "# From https://github.com/recursionpharma/rxrx1-utils/blob/master/rxrx/main.py\n",
    "# The mean and stds for each of the channels\n",
    "GLOBAL_PIXEL_STATS = (np.array([6.74696984, 14.74640167, 10.51260864,\n",
    "                                10.45369445,  5.49959796, 9.81545561]),\n",
    "                       np.array([7.95876312, 12.17305868, 5.86172946,\n",
    "                                 7.83451711, 4.701167, 5.43130431]))\n",
    "\n",
    "stats_mean = torch.tensor(GLOBAL_PIXEL_STATS[0]/255).float()\n",
    "stats_var = torch.tensor(GLOBAL_PIXEL_STATS[1]/255).float()"
   ]
  },
  {
   "cell_type": "code",
   "execution_count": 56,
   "metadata": {
    "ExecuteTime": {
     "end_time": "2019-08-27T04:08:41.748717Z",
     "start_time": "2019-08-27T04:08:41.731518Z"
    }
   },
   "outputs": [],
   "source": [
    "#stats_mean, stats_var"
   ]
  },
  {
   "cell_type": "code",
   "execution_count": 57,
   "metadata": {
    "ExecuteTime": {
     "end_time": "2019-08-27T04:08:42.710104Z",
     "start_time": "2019-08-27T04:08:42.690922Z"
    }
   },
   "outputs": [],
   "source": [
    "data.normalize([stats_mean, stats_var]);"
   ]
  },
  {
   "cell_type": "code",
   "execution_count": 55,
   "metadata": {
    "ExecuteTime": {
     "end_time": "2019-08-26T04:05:50.132456Z",
     "start_time": "2019-08-26T04:05:50.116449Z"
    }
   },
   "outputs": [],
   "source": [
    "#data.batch_stats() # DOES NOT WORK?"
   ]
  },
  {
   "cell_type": "code",
   "execution_count": 148,
   "metadata": {
    "ExecuteTime": {
     "end_time": "2019-08-25T19:12:43.412958Z",
     "start_time": "2019-08-25T19:12:43.399249Z"
    }
   },
   "outputs": [
    {
     "data": {
      "text/plain": [
       "16"
      ]
     },
     "execution_count": 148,
     "metadata": {},
     "output_type": "execute_result"
    }
   ],
   "source": [
    "data.batch_size"
   ]
  },
  {
   "cell_type": "code",
   "execution_count": 55,
   "metadata": {
    "ExecuteTime": {
     "end_time": "2019-08-24T19:05:02.537765Z",
     "start_time": "2019-08-24T19:05:02.527577Z"
    }
   },
   "outputs": [],
   "source": [
    "#data.stats # results is copied below\n",
    "#[tensor([0.0456, 0.0702, 0.0447, 0.0468, 0.0407, 0.0399]),\n",
    "# tensor([0.0644, 0.0733, 0.0536, 0.0633, 0.0555, 0.0392])]"
   ]
  },
  {
   "cell_type": "code",
   "execution_count": 56,
   "metadata": {
    "ExecuteTime": {
     "end_time": "2019-08-24T19:05:03.088125Z",
     "start_time": "2019-08-24T19:05:03.077279Z"
    }
   },
   "outputs": [],
   "source": [
    "#data"
   ]
  },
  {
   "cell_type": "code",
   "execution_count": 57,
   "metadata": {
    "ExecuteTime": {
     "end_time": "2019-08-24T19:05:03.768575Z",
     "start_time": "2019-08-24T19:05:03.750801Z"
    }
   },
   "outputs": [
    {
     "data": {
      "text/plain": [
       "(1108, 1108, [1103, 1104, 1105, 1106, 1107])"
      ]
     },
     "execution_count": 57,
     "metadata": {},
     "output_type": "execute_result"
    }
   ],
   "source": [
    "data.c, len(data.classes), data.classes[-5:]"
   ]
  },
  {
   "cell_type": "code",
   "execution_count": 58,
   "metadata": {
    "ExecuteTime": {
     "end_time": "2019-08-24T19:05:04.735339Z",
     "start_time": "2019-08-24T19:05:04.672817Z"
    }
   },
   "outputs": [
    {
     "data": {
      "text/plain": [
       "(Image6Dct (6, 300, 300), Category 513)"
      ]
     },
     "execution_count": 58,
     "metadata": {},
     "output_type": "execute_result"
    }
   ],
   "source": [
    "data.train_ds[0]"
   ]
  },
  {
   "cell_type": "code",
   "execution_count": 59,
   "metadata": {
    "ExecuteTime": {
     "end_time": "2019-08-24T19:05:07.336313Z",
     "start_time": "2019-08-24T19:05:07.325982Z"
    }
   },
   "outputs": [],
   "source": [
    "#data.classes"
   ]
  },
  {
   "cell_type": "code",
   "execution_count": 60,
   "metadata": {
    "ExecuteTime": {
     "end_time": "2019-08-24T19:05:07.729086Z",
     "start_time": "2019-08-24T19:05:07.627303Z"
    }
   },
   "outputs": [
    {
     "data": {
      "text/plain": [
       "(Category 513, 513)"
      ]
     },
     "execution_count": 60,
     "metadata": {},
     "output_type": "execute_result"
    }
   ],
   "source": [
    "data.train_ds[0][1], data.train_ds[0][1].data"
   ]
  },
  {
   "cell_type": "code",
   "execution_count": 61,
   "metadata": {
    "ExecuteTime": {
     "end_time": "2019-08-24T19:05:08.274439Z",
     "start_time": "2019-08-24T19:05:08.114017Z"
    }
   },
   "outputs": [
    {
     "data": {
      "text/plain": [
       "(tensor(0), tensor(0), tensor(0))"
      ]
     },
     "execution_count": 61,
     "metadata": {},
     "output_type": "execute_result"
    }
   ],
   "source": [
    "data.train_ds[0][0].ctint, data.train_ds[0][0].pgint, data.train_ds[0][0].expint"
   ]
  },
  {
   "cell_type": "code",
   "execution_count": 62,
   "metadata": {
    "ExecuteTime": {
     "end_time": "2019-08-24T19:05:08.370413Z",
     "start_time": "2019-08-24T19:05:08.330773Z"
    }
   },
   "outputs": [
    {
     "data": {
      "text/plain": [
       "4"
      ]
     },
     "execution_count": 62,
     "metadata": {},
     "output_type": "execute_result"
    }
   ],
   "source": [
    "len(data.train_ds[0][0].data)"
   ]
  },
  {
   "cell_type": "code",
   "execution_count": 63,
   "metadata": {
    "ExecuteTime": {
     "end_time": "2019-08-24T19:05:09.360455Z",
     "start_time": "2019-08-24T19:05:09.179258Z"
    }
   },
   "outputs": [
    {
     "data": {
      "text/plain": [
       "(torch.Size([6, 300, 300]), torch.Size([]), torch.Size([]))"
      ]
     },
     "execution_count": 63,
     "metadata": {},
     "output_type": "execute_result"
    }
   ],
   "source": [
    "data.train_ds[0][0].data[0].shape, data.train_ds[0][0].data[1].shape, data.train_ds[0][0].data[2].shape"
   ]
  },
  {
   "cell_type": "code",
   "execution_count": 62,
   "metadata": {
    "ExecuteTime": {
     "end_time": "2019-08-27T04:08:59.796254Z",
     "start_time": "2019-08-27T04:08:59.651675Z"
    }
   },
   "outputs": [
    {
     "data": {
      "image/jpeg": "[encoded data removed]",
      "image/png": "[encoded data removed]",
      "text/plain": [
       "Image6Dct (6, 300, 300)"
      ]
     },
     "execution_count": 62,
     "metadata": {},
     "output_type": "execute_result"
    }
   ],
   "source": [
    "data.train_ds[0][0]"
   ]
  },
  {
   "cell_type": "code",
   "execution_count": 50,
   "metadata": {
    "ExecuteTime": {
     "end_time": "2019-08-13T16:45:38.664069Z",
     "start_time": "2019-08-13T16:45:38.648381Z"
    }
   },
   "outputs": [],
   "source": [
    "#data.train_ds[0][0].apply_tfms(crop(size=300, row_pct=(0,1), col_pct=(0,1)))"
   ]
  },
  {
   "cell_type": "code",
   "execution_count": null,
   "metadata": {
    "ExecuteTime": {
     "end_time": "2019-08-02T18:40:04.377527Z",
     "start_time": "2019-08-02T18:40:04.015804Z"
    }
   },
   "outputs": [],
   "source": [
    "### ORIGINAL 512px NO TFMS\n",
    "data.train_ds[0][0]"
   ]
  },
  {
   "cell_type": "markdown",
   "metadata": {
    "heading_collapsed": true
   },
   "source": [
    "### Adversarial full dataset"
   ]
  },
  {
   "cell_type": "code",
   "execution_count": null,
   "metadata": {
    "ExecuteTime": {
     "end_time": "2019-07-18T18:48:30.937436Z",
     "start_time": "2019-07-18T18:48:22.421758Z"
    },
    "hidden": true
   },
   "outputs": [],
   "source": [
    "data_a = (ImageList6D.from_df(df_train, path='train') # SET CORRECT DF!!!\n",
    "        .split_from_df(col=-1) # split_by_rand_pct()\n",
    "        .label_from_df(cols=-2, label_delim=' ') # label_delim=' ' for MultiCategoryList !\n",
    "        .add_test(ImageList6D.from_df(df_train, path='train'))\n",
    "        .transform(tfms, size=sz) # .transform(size=sz)\n",
    "        .databunch(bs=bs))"
   ]
  },
  {
   "cell_type": "code",
   "execution_count": null,
   "metadata": {
    "ExecuteTime": {
     "end_time": "2019-07-13T08:16:52.668548Z",
     "start_time": "2019-07-13T08:16:52.441661Z"
    },
    "hidden": true
   },
   "outputs": [],
   "source": [
    "data_a"
   ]
  },
  {
   "cell_type": "code",
   "execution_count": null,
   "metadata": {
    "ExecuteTime": {
     "end_time": "2019-07-13T08:16:52.681315Z",
     "start_time": "2019-07-13T08:16:52.670670Z"
    },
    "hidden": true
   },
   "outputs": [],
   "source": [
    "data_a.c, len(data_a.classes), data_a.classes[-5:]"
   ]
  },
  {
   "cell_type": "code",
   "execution_count": null,
   "metadata": {
    "ExecuteTime": {
     "end_time": "2019-07-13T08:16:52.692431Z",
     "start_time": "2019-07-13T08:16:52.682289Z"
    },
    "hidden": true
   },
   "outputs": [],
   "source": [
    "data_a.batch_size"
   ]
  },
  {
   "cell_type": "code",
   "execution_count": null,
   "metadata": {
    "ExecuteTime": {
     "end_time": "2019-07-13T08:16:52.728302Z",
     "start_time": "2019-07-13T08:16:52.693336Z"
    },
    "hidden": true
   },
   "outputs": [],
   "source": [
    "data_a.train_ds[0]"
   ]
  },
  {
   "cell_type": "code",
   "execution_count": null,
   "metadata": {
    "ExecuteTime": {
     "end_time": "2019-07-13T08:16:52.738982Z",
     "start_time": "2019-07-13T08:16:52.729257Z"
    },
    "hidden": true
   },
   "outputs": [],
   "source": [
    "#data_a.classes"
   ]
  },
  {
   "cell_type": "code",
   "execution_count": null,
   "metadata": {
    "ExecuteTime": {
     "end_time": "2019-07-13T08:16:52.799807Z",
     "start_time": "2019-07-13T08:16:52.739866Z"
    },
    "hidden": true
   },
   "outputs": [],
   "source": [
    "data_a.train_ds[0][1], data_a.train_ds[0][1].data"
   ]
  },
  {
   "cell_type": "code",
   "execution_count": null,
   "metadata": {
    "ExecuteTime": {
     "end_time": "2019-07-13T08:16:52.836313Z",
     "start_time": "2019-07-13T08:16:52.801091Z"
    },
    "hidden": true
   },
   "outputs": [],
   "source": [
    "data_a.train_ds[0][1].data.sum()"
   ]
  },
  {
   "cell_type": "code",
   "execution_count": null,
   "metadata": {
    "ExecuteTime": {
     "end_time": "2019-07-13T08:16:52.873199Z",
     "start_time": "2019-07-13T08:16:52.837338Z"
    },
    "hidden": true
   },
   "outputs": [],
   "source": [
    "np.where(data_a.train_ds[0][1].data > 0.5)"
   ]
  },
  {
   "cell_type": "code",
   "execution_count": null,
   "metadata": {
    "ExecuteTime": {
     "end_time": "2019-07-13T08:16:52.910261Z",
     "start_time": "2019-07-13T08:16:52.874115Z"
    },
    "hidden": true
   },
   "outputs": [],
   "source": [
    "[data_a.classes[j] for j in np.where(data_a.train_ds[0][1].data > 0.5)[0]]"
   ]
  },
  {
   "cell_type": "code",
   "execution_count": null,
   "metadata": {
    "ExecuteTime": {
     "end_time": "2019-07-13T08:16:52.962924Z",
     "start_time": "2019-07-13T08:16:52.911167Z"
    },
    "hidden": true
   },
   "outputs": [],
   "source": [
    "data_a.train_ds[0][0]"
   ]
  },
  {
   "cell_type": "code",
   "execution_count": null,
   "metadata": {
    "ExecuteTime": {
     "end_time": "2019-07-13T08:16:52.973658Z",
     "start_time": "2019-07-13T08:16:52.963880Z"
    },
    "hidden": true
   },
   "outputs": [],
   "source": [
    "# DOES NOT WORK?\n",
    "#data_a.train_ds[0][0].show()"
   ]
  },
  {
   "cell_type": "markdown",
   "metadata": {},
   "source": [
    "# Model setup"
   ]
  },
  {
   "cell_type": "markdown",
   "metadata": {},
   "source": [
    "## EfficientNet"
   ]
  },
  {
   "cell_type": "code",
   "execution_count": null,
   "metadata": {},
   "outputs": [],
   "source": [
    "# 3d to 6d from old/rcic_multicat_v9_resnet50-pretrained_colaug.ipynb"
   ]
  },
  {
   "cell_type": "code",
   "execution_count": 63,
   "metadata": {
    "ExecuteTime": {
     "end_time": "2019-08-27T04:09:04.005279Z",
     "start_time": "2019-08-27T04:09:03.990692Z"
    }
   },
   "outputs": [],
   "source": [
    "from efficientnet_pytorch.utils import get_same_padding_conv2d, round_filters, round_repeats, relu_fn\n",
    "from efficientnet_pytorch.model import MBConvBlock, load_pretrained_weights"
   ]
  },
  {
   "cell_type": "code",
   "execution_count": 64,
   "metadata": {
    "ExecuteTime": {
     "end_time": "2019-08-27T04:09:04.463693Z",
     "start_time": "2019-08-27T04:09:04.439853Z"
    }
   },
   "outputs": [],
   "source": [
    "# put feature extractor into forward method\n",
    "class EfficientNet(nn.Module):\n",
    "    \"\"\"\n",
    "    An EfficientNet model. Most easily loaded with the .from_name or .from_pretrained methods\n",
    "    Args:\n",
    "        blocks_args (list): A list of BlockArgs to construct blocks\n",
    "        global_params (namedtuple): A set of GlobalParams shared between blocks\n",
    "    Example:\n",
    "        model = EfficientNet.from_pretrained('efficientnet-b0')\n",
    "    \"\"\"\n",
    "\n",
    "    def __init__(self, blocks_args=None, global_params=None):\n",
    "        super().__init__()\n",
    "        assert isinstance(blocks_args, list), 'blocks_args should be a list'\n",
    "        assert len(blocks_args) > 0, 'block args must be greater than 0'\n",
    "        self._global_params = global_params\n",
    "        self._blocks_args = blocks_args\n",
    "\n",
    "        # Get static or dynamic convolution depending on image size\n",
    "        Conv2d = get_same_padding_conv2d(image_size=global_params.image_size)\n",
    "\n",
    "        # Batch norm parameters\n",
    "        bn_mom = 1 - self._global_params.batch_norm_momentum\n",
    "        bn_eps = self._global_params.batch_norm_epsilon\n",
    "\n",
    "        # Stem\n",
    "        in_channels = 3  # rgb\n",
    "        out_channels = round_filters(32, self._global_params)  # number of output channels\n",
    "        self._conv_stem = Conv2d(in_channels, out_channels, kernel_size=3, stride=2, bias=False)\n",
    "        self._bn0 = nn.BatchNorm2d(num_features=out_channels, momentum=bn_mom, eps=bn_eps)\n",
    "\n",
    "        # Build blocks\n",
    "        self._blocks = nn.ModuleList([])\n",
    "        for block_args in self._blocks_args:\n",
    "\n",
    "            # Update block input and output filters based on depth multiplier.\n",
    "            block_args = block_args._replace(\n",
    "                input_filters=round_filters(block_args.input_filters, self._global_params),\n",
    "                output_filters=round_filters(block_args.output_filters, self._global_params),\n",
    "                num_repeat=round_repeats(block_args.num_repeat, self._global_params)\n",
    "            )\n",
    "\n",
    "            # The first block needs to take care of stride and filter size increase.\n",
    "            self._blocks.append(MBConvBlock(block_args, self._global_params))\n",
    "            if block_args.num_repeat > 1:\n",
    "                block_args = block_args._replace(input_filters=block_args.output_filters, stride=1)\n",
    "            for _ in range(block_args.num_repeat - 1):\n",
    "                self._blocks.append(MBConvBlock(block_args, self._global_params))\n",
    "\n",
    "        # Head\n",
    "        in_channels = block_args.output_filters  # output of final block\n",
    "        out_channels = round_filters(1280, self._global_params)\n",
    "        self._conv_head = Conv2d(in_channels, out_channels, kernel_size=1, bias=False)\n",
    "        self._bn1 = nn.BatchNorm2d(num_features=out_channels, momentum=bn_mom, eps=bn_eps)\n",
    "\n",
    "        # Final linear layer\n",
    "        #self._dropout = self._global_params.dropout_rate\n",
    "        #self._fc = nn.Linear(out_channels, self._global_params.num_classes)\n",
    "\n",
    "    def forward(self, inputs):\n",
    "        \"\"\" Returns output of the final convolution layer \"\"\"\n",
    "\n",
    "        # Stem\n",
    "        x = relu_fn(self._bn0(self._conv_stem(inputs)))\n",
    "\n",
    "        # Blocks\n",
    "        for idx, block in enumerate(self._blocks):\n",
    "            drop_connect_rate = self._global_params.drop_connect_rate\n",
    "            if drop_connect_rate:\n",
    "                drop_connect_rate *= float(idx) / len(self._blocks)\n",
    "            x = block(x, drop_connect_rate=drop_connect_rate)\n",
    "\n",
    "        # Head\n",
    "        x = relu_fn(self._bn1(self._conv_head(x)))\n",
    "\n",
    "        return x\n",
    "\n",
    "    #def forward(self, inputs):\n",
    "    #    \"\"\" Calls extract_features to extract features, applies final linear layer, and returns logits. \"\"\"\n",
    "    #\n",
    "    #    # Convolution layers\n",
    "    #    x = self.extract_features(inputs)\n",
    "    #\n",
    "    #    # Pooling and final linear layer\n",
    "    #    x = F.adaptive_avg_pool2d(x, 1).squeeze(-1).squeeze(-1)\n",
    "    #    if self._dropout:\n",
    "    #        x = F.dropout(x, p=self._dropout, training=self.training)\n",
    "    #    x = self._fc(x)\n",
    "    #    return x\n",
    "\n",
    "    @classmethod\n",
    "    def from_name(cls, model_name, override_params=None):\n",
    "        cls._check_model_name_is_valid(model_name)\n",
    "        blocks_args, global_params = get_model_params(model_name, override_params)\n",
    "        return EfficientNet(blocks_args, global_params)\n",
    "\n",
    "    @classmethod\n",
    "    def from_pretrained(cls, model_name, num_classes=1000):\n",
    "        model = EfficientNet.from_name(model_name, override_params={'num_classes': num_classes})\n",
    "        load_pretrained_weights(model, model_name, load_fc=(num_classes == 1000))\n",
    "        return model\n",
    "\n",
    "    @classmethod\n",
    "    def get_image_size(cls, model_name):\n",
    "        cls._check_model_name_is_valid(model_name)\n",
    "        _, _, res, _ = efficientnet_params(model_name)\n",
    "        return res\n",
    "\n",
    "    @classmethod\n",
    "    def _check_model_name_is_valid(cls, model_name, also_need_pretrained_weights=False):\n",
    "        \"\"\" Validates model name. None that pretrained weights are only available for\n",
    "        the first four models (efficientnet-b{i} for i in 0,1,2,3) at the moment. \"\"\"\n",
    "        num_models = 4 if also_need_pretrained_weights else 8\n",
    "        valid_models = ['efficientnet_b'+str(i) for i in range(num_models)]\n",
    "        if model_name.replace('-','_') not in valid_models:\n",
    "            raise ValueError('model_name should be one of: ' + ', '.join(valid_models))"
   ]
  },
  {
   "cell_type": "code",
   "execution_count": 65,
   "metadata": {
    "ExecuteTime": {
     "end_time": "2019-08-27T04:09:04.667659Z",
     "start_time": "2019-08-27T04:09:04.653141Z"
    }
   },
   "outputs": [],
   "source": [
    "from torch.utils import model_zoo"
   ]
  },
  {
   "cell_type": "code",
   "execution_count": 66,
   "metadata": {
    "ExecuteTime": {
     "end_time": "2019-08-27T04:09:05.011949Z",
     "start_time": "2019-08-27T04:09:04.998770Z"
    }
   },
   "outputs": [],
   "source": [
    "url_map = {\n",
    "    'efficientnet-b0': 'http://storage.googleapis.com/public-models/efficientnet/efficientnet-b0-355c32eb.pth',\n",
    "    'efficientnet-b1': 'http://storage.googleapis.com/public-models/efficientnet/efficientnet-b1-f1951068.pth',\n",
    "    'efficientnet-b2': 'http://storage.googleapis.com/public-models/efficientnet/efficientnet-b2-8bb594d6.pth',\n",
    "    'efficientnet-b3': 'http://storage.googleapis.com/public-models/efficientnet/efficientnet-b3-5fb5a3c3.pth',\n",
    "    'efficientnet-b4': 'http://storage.googleapis.com/public-models/efficientnet/efficientnet-b4-6ed6700e.pth',\n",
    "    'efficientnet-b5': 'http://storage.googleapis.com/public-models/efficientnet/efficientnet-b5-b6417697.pth',\n",
    "    'efficientnet-b6': 'http://storage.googleapis.com/public-models/efficientnet/efficientnet-b6-c76e70fd.pth',\n",
    "    'efficientnet-b7': 'http://storage.googleapis.com/public-models/efficientnet/efficientnet-b7-dcc49843.pth',\n",
    "}"
   ]
  },
  {
   "cell_type": "code",
   "execution_count": 67,
   "metadata": {
    "ExecuteTime": {
     "end_time": "2019-08-27T04:09:05.285107Z",
     "start_time": "2019-08-27T04:09:05.271852Z"
    }
   },
   "outputs": [],
   "source": [
    "# adapt load function to only load weights for feature extractor stage\n",
    "def load_pretrained_weights(model, model_name, load_fc=True):\n",
    "    \"\"\" Loads pretrained weights, and downloads if loading for the first time. \"\"\"\n",
    "    state_dict = model_zoo.load_url(url_map[model_name])\n",
    "    #if load_fc:\n",
    "    #    model.load_state_dict(state_dict)\n",
    "    #else:\n",
    "    state_dict.pop('_fc.weight')\n",
    "    state_dict.pop('_fc.bias')\n",
    "    res = model.load_state_dict(state_dict, strict=False)\n",
    "        #assert str(res.missing_keys) == str(['_fc.weight', '_fc.bias']), 'issue loading pretrained weights'\n",
    "    print('Loaded pretrained weights for {}'.format(model_name))"
   ]
  },
  {
   "cell_type": "code",
   "execution_count": 68,
   "metadata": {
    "ExecuteTime": {
     "end_time": "2019-08-27T04:09:05.801008Z",
     "start_time": "2019-08-27T04:09:05.612091Z"
    }
   },
   "outputs": [
    {
     "name": "stdout",
     "output_type": "stream",
     "text": [
      "Loaded pretrained weights for efficientnet-b3\n"
     ]
    }
   ],
   "source": [
    "# b3: input size = 300\n",
    "#efficientnet_b3 = EfficientNet.from_name('efficientnet-b3')\n",
    "efficientnet_f = EfficientNet.from_pretrained('efficientnet-b3')\n",
    "#efficientnet_b4f = EfficientNet.from_pretrained('efficientnet-b4')"
   ]
  },
  {
   "cell_type": "code",
   "execution_count": 69,
   "metadata": {
    "ExecuteTime": {
     "end_time": "2019-08-27T04:09:06.157344Z",
     "start_time": "2019-08-27T04:09:06.143230Z"
    }
   },
   "outputs": [],
   "source": [
    "#efficientnet_f"
   ]
  },
  {
   "cell_type": "code",
   "execution_count": 70,
   "metadata": {
    "ExecuteTime": {
     "end_time": "2019-08-27T04:09:06.352565Z",
     "start_time": "2019-08-27T04:09:06.339923Z"
    }
   },
   "outputs": [
    {
     "data": {
      "text/plain": [
       "(Conv2dStaticSamePadding(\n",
       "   3, 40, kernel_size=(3, 3), stride=(2, 2), bias=False\n",
       "   (static_padding): ZeroPad2d(padding=(0, 1, 0, 1), value=0.0)\n",
       " ), efficientnet_pytorch.utils.Conv2dStaticSamePadding)"
      ]
     },
     "execution_count": 70,
     "metadata": {},
     "output_type": "execute_result"
    }
   ],
   "source": [
    "efficientnet_f._conv_stem, type(efficientnet_f._conv_stem)"
   ]
  },
  {
   "cell_type": "code",
   "execution_count": 71,
   "metadata": {
    "ExecuteTime": {
     "end_time": "2019-08-27T04:09:06.665462Z",
     "start_time": "2019-08-27T04:09:06.649484Z"
    }
   },
   "outputs": [
    {
     "data": {
      "text/plain": [
       "Conv2dStaticSamePadding(\n",
       "  6, 40, kernel_size=(3, 3), stride=(2, 2), bias=False\n",
       "  (static_padding): ZeroPad2d(padding=(0, 1, 0, 1), value=0.0)\n",
       ")"
      ]
     },
     "execution_count": 71,
     "metadata": {},
     "output_type": "execute_result"
    }
   ],
   "source": [
    "utils.Conv2dStaticSamePadding(6, 40, kernel_size=(3, 3), stride=(2, 2), bias=False, image_size=300)"
   ]
  },
  {
   "cell_type": "code",
   "execution_count": 72,
   "metadata": {
    "ExecuteTime": {
     "end_time": "2019-08-27T04:09:07.159448Z",
     "start_time": "2019-08-27T04:09:07.142273Z"
    }
   },
   "outputs": [],
   "source": [
    "p_dict = {pn: p for pn, p in efficientnet_f._conv_stem.named_parameters()}"
   ]
  },
  {
   "cell_type": "code",
   "execution_count": 73,
   "metadata": {
    "ExecuteTime": {
     "end_time": "2019-08-27T04:09:07.477320Z",
     "start_time": "2019-08-27T04:09:07.462780Z"
    }
   },
   "outputs": [
    {
     "data": {
      "text/plain": [
       "dict_keys(['weight'])"
      ]
     },
     "execution_count": 73,
     "metadata": {},
     "output_type": "execute_result"
    }
   ],
   "source": [
    "p_dict.keys()"
   ]
  },
  {
   "cell_type": "code",
   "execution_count": 74,
   "metadata": {
    "ExecuteTime": {
     "end_time": "2019-08-27T04:09:07.957105Z",
     "start_time": "2019-08-27T04:09:07.940634Z"
    }
   },
   "outputs": [
    {
     "data": {
      "text/plain": [
       "(torch.Size([40, 3, 3, 3]), True)"
      ]
     },
     "execution_count": 74,
     "metadata": {},
     "output_type": "execute_result"
    }
   ],
   "source": [
    "p_dict['weight'].shape, p_dict['weight'].requires_grad"
   ]
  },
  {
   "cell_type": "code",
   "execution_count": 75,
   "metadata": {
    "ExecuteTime": {
     "end_time": "2019-08-27T04:09:08.238728Z",
     "start_time": "2019-08-27T04:09:08.224397Z"
    }
   },
   "outputs": [],
   "source": [
    "old_weight = p_dict['weight'].detach()"
   ]
  },
  {
   "cell_type": "code",
   "execution_count": 76,
   "metadata": {
    "ExecuteTime": {
     "end_time": "2019-08-27T04:09:08.708413Z",
     "start_time": "2019-08-27T04:09:08.693650Z"
    }
   },
   "outputs": [
    {
     "data": {
      "text/plain": [
       "(torch.Size([40, 3, 3, 3]), False)"
      ]
     },
     "execution_count": 76,
     "metadata": {},
     "output_type": "execute_result"
    }
   ],
   "source": [
    "old_weight.shape, old_weight.requires_grad"
   ]
  },
  {
   "cell_type": "code",
   "execution_count": 77,
   "metadata": {
    "ExecuteTime": {
     "end_time": "2019-08-27T04:09:09.164933Z",
     "start_time": "2019-08-27T04:09:09.154032Z"
    }
   },
   "outputs": [],
   "source": [
    "new_weight = torch.cat((old_weight, old_weight), dim=1)"
   ]
  },
  {
   "cell_type": "code",
   "execution_count": 78,
   "metadata": {
    "ExecuteTime": {
     "end_time": "2019-08-27T04:09:09.505439Z",
     "start_time": "2019-08-27T04:09:09.490334Z"
    }
   },
   "outputs": [
    {
     "data": {
      "text/plain": [
       "(torch.Size([40, 6, 3, 3]), False)"
      ]
     },
     "execution_count": 78,
     "metadata": {},
     "output_type": "execute_result"
    }
   ],
   "source": [
    "new_weight.shape, new_weight.requires_grad"
   ]
  },
  {
   "cell_type": "code",
   "execution_count": 79,
   "metadata": {
    "ExecuteTime": {
     "end_time": "2019-08-27T04:09:10.040986Z",
     "start_time": "2019-08-27T04:09:10.024081Z"
    }
   },
   "outputs": [],
   "source": [
    "def show_input_stage_weights(weight=None, nrows=2, ncols=3):\n",
    "    fig, ax = plt.subplots(nrows=nrows, ncols=ncols)\n",
    "    k = 0\n",
    "    for i in range(nrows):\n",
    "        for j in range(ncols):\n",
    "            if nrows > 1:\n",
    "                ax[i,j].set_title(k)\n",
    "                ax[i,j].imshow(weight[0][k])\n",
    "                ax[i,j].axis(\"off\")\n",
    "            else:\n",
    "                ax[j].set_title(k)\n",
    "                ax[j].imshow(weight[0][k])\n",
    "                ax[j].axis(\"off\")\n",
    "            k += 1"
   ]
  },
  {
   "cell_type": "code",
   "execution_count": 80,
   "metadata": {
    "ExecuteTime": {
     "end_time": "2019-08-27T04:09:10.470628Z",
     "start_time": "2019-08-27T04:09:10.459163Z"
    }
   },
   "outputs": [],
   "source": [
    "# plot old_weight\n",
    "#show_input_stage_weights(old_weight, nrows=1)"
   ]
  },
  {
   "cell_type": "code",
   "execution_count": 81,
   "metadata": {
    "ExecuteTime": {
     "end_time": "2019-08-27T04:09:10.952509Z",
     "start_time": "2019-08-27T04:09:10.937564Z"
    }
   },
   "outputs": [],
   "source": [
    "# plot new_weight\n",
    "#show_input_stage_weights(new_weight)"
   ]
  },
  {
   "cell_type": "code",
   "execution_count": 82,
   "metadata": {
    "ExecuteTime": {
     "end_time": "2019-08-27T04:09:11.213339Z",
     "start_time": "2019-08-27T04:09:11.198878Z"
    }
   },
   "outputs": [],
   "source": [
    "# replace first conv layer with a 6-channel version\n",
    "efficientnet_f._conv_stem = utils.Conv2dStaticSamePadding(6, 40, kernel_size=(3, 3),\n",
    "                                                          stride=(2, 2), bias=False, image_size=300)"
   ]
  },
  {
   "cell_type": "code",
   "execution_count": 83,
   "metadata": {
    "ExecuteTime": {
     "end_time": "2019-08-27T04:09:11.605022Z",
     "start_time": "2019-08-27T04:09:11.588978Z"
    }
   },
   "outputs": [
    {
     "data": {
      "text/plain": [
       "Conv2dStaticSamePadding(\n",
       "  6, 40, kernel_size=(3, 3), stride=(2, 2), bias=False\n",
       "  (static_padding): ZeroPad2d(padding=(0, 1, 0, 1), value=0.0)\n",
       ")"
      ]
     },
     "execution_count": 83,
     "metadata": {},
     "output_type": "execute_result"
    }
   ],
   "source": [
    "efficientnet_f._conv_stem"
   ]
  },
  {
   "cell_type": "code",
   "execution_count": 84,
   "metadata": {
    "ExecuteTime": {
     "end_time": "2019-08-27T04:09:12.063427Z",
     "start_time": "2019-08-27T04:09:12.048832Z"
    }
   },
   "outputs": [
    {
     "data": {
      "text/plain": [
       "torch.Size([40, 6, 3, 3])"
      ]
     },
     "execution_count": 84,
     "metadata": {},
     "output_type": "execute_result"
    }
   ],
   "source": [
    "efficientnet_f._conv_stem.weight.shape"
   ]
  },
  {
   "cell_type": "code",
   "execution_count": 85,
   "metadata": {
    "ExecuteTime": {
     "end_time": "2019-08-27T04:09:12.542864Z",
     "start_time": "2019-08-27T04:09:12.529143Z"
    }
   },
   "outputs": [],
   "source": [
    "# set new_weights to nn.Parameter and overwrite it in the conv layer\n",
    "efficientnet_f._conv_stem.weight = nn.Parameter(new_weight) # hand over requires_grad False?"
   ]
  },
  {
   "cell_type": "code",
   "execution_count": 86,
   "metadata": {
    "ExecuteTime": {
     "end_time": "2019-08-27T04:09:13.154438Z",
     "start_time": "2019-08-27T04:09:13.139003Z"
    }
   },
   "outputs": [],
   "source": [
    "# check if weight was loaded properly\n",
    "assert torch.allclose(new_weight, efficientnet_f._conv_stem.weight)"
   ]
  },
  {
   "cell_type": "code",
   "execution_count": 87,
   "metadata": {
    "ExecuteTime": {
     "end_time": "2019-08-27T04:09:13.658141Z",
     "start_time": "2019-08-27T04:09:13.644536Z"
    }
   },
   "outputs": [
    {
     "data": {
      "text/plain": [
       "(torch.Size([40, 6, 3, 3]), True)"
      ]
     },
     "execution_count": 87,
     "metadata": {},
     "output_type": "execute_result"
    }
   ],
   "source": [
    "efficientnet_f._conv_stem.weight.shape, efficientnet_f._conv_stem.weight.requires_grad"
   ]
  },
  {
   "cell_type": "code",
   "execution_count": 88,
   "metadata": {
    "ExecuteTime": {
     "end_time": "2019-08-27T04:09:14.075655Z",
     "start_time": "2019-08-27T04:09:14.054137Z"
    }
   },
   "outputs": [],
   "source": [
    "# network is in full train mode!\n",
    "#[p.requires_grad for p in efficientnet_b3f.parameters()]"
   ]
  },
  {
   "cell_type": "code",
   "execution_count": 89,
   "metadata": {
    "ExecuteTime": {
     "end_time": "2019-08-27T04:09:14.423494Z",
     "start_time": "2019-08-27T04:09:14.410072Z"
    }
   },
   "outputs": [],
   "source": [
    "def set_rg(model=efficientnet_f, option=False):\n",
    "    for param in model.parameters():\n",
    "        param.requires_grad = option"
   ]
  },
  {
   "cell_type": "code",
   "execution_count": 90,
   "metadata": {
    "ExecuteTime": {
     "end_time": "2019-08-27T04:09:14.932660Z",
     "start_time": "2019-08-27T04:09:14.920556Z"
    }
   },
   "outputs": [],
   "source": [
    "# set requires grad for the efficientnet to false (to later only set it true for the input)\n",
    "# WE WILL NOT DO THIS, because it should be not necessary!\n",
    "set_rg()"
   ]
  },
  {
   "cell_type": "code",
   "execution_count": 91,
   "metadata": {
    "ExecuteTime": {
     "end_time": "2019-08-27T04:09:15.148032Z",
     "start_time": "2019-08-27T04:09:15.134316Z"
    }
   },
   "outputs": [],
   "source": [
    "# network is frozen\n",
    "#[p.requires_grad for p in efficientnet_b4f.parameters()]"
   ]
  },
  {
   "cell_type": "code",
   "execution_count": 92,
   "metadata": {
    "ExecuteTime": {
     "end_time": "2019-08-27T04:09:15.917510Z",
     "start_time": "2019-08-27T04:09:15.899326Z"
    }
   },
   "outputs": [
    {
     "data": {
      "text/plain": [
       "False"
      ]
     },
     "execution_count": 92,
     "metadata": {},
     "output_type": "execute_result"
    }
   ],
   "source": [
    "efficientnet_f._conv_stem.weight.requires_grad"
   ]
  },
  {
   "cell_type": "code",
   "execution_count": 93,
   "metadata": {
    "ExecuteTime": {
     "end_time": "2019-08-27T04:09:16.821818Z",
     "start_time": "2019-08-27T04:09:16.809378Z"
    }
   },
   "outputs": [],
   "source": [
    "# set input stage to trainable\n",
    "#efficientnet_f._conv_stem.weight.requires_grad = True"
   ]
  },
  {
   "cell_type": "code",
   "execution_count": 94,
   "metadata": {
    "ExecuteTime": {
     "end_time": "2019-08-27T04:09:17.151550Z",
     "start_time": "2019-08-27T04:09:17.139848Z"
    }
   },
   "outputs": [],
   "source": [
    "#efficientnet_f._conv_stem.weight.requires_grad"
   ]
  },
  {
   "cell_type": "code",
   "execution_count": 95,
   "metadata": {
    "ExecuteTime": {
     "end_time": "2019-08-27T04:09:18.306979Z",
     "start_time": "2019-08-27T04:09:17.511469Z"
    }
   },
   "outputs": [
    {
     "data": {
      "text/plain": [
       "torch.Size([1, 1536, 9, 9])"
      ]
     },
     "execution_count": 95,
     "metadata": {},
     "output_type": "execute_result"
    }
   ],
   "source": [
    "efficientnet_f(torch.randn(1,6,sz,sz)).shape"
   ]
  },
  {
   "cell_type": "markdown",
   "metadata": {},
   "source": [
    "## EfficientNet Pre-Head"
   ]
  },
  {
   "cell_type": "code",
   "execution_count": 96,
   "metadata": {
    "ExecuteTime": {
     "end_time": "2019-08-27T04:09:18.329375Z",
     "start_time": "2019-08-27T04:09:18.307987Z"
    }
   },
   "outputs": [],
   "source": [
    "def resnet_pre_head(concat_pool:bool=True):\n",
    "    pool = AdaptiveConcatPool2d() if concat_pool else nn.AdaptiveAvgPool2d(1)\n",
    "    layers = [pool, Flatten()]\n",
    "    return nn.Sequential(*layers)"
   ]
  },
  {
   "cell_type": "code",
   "execution_count": 97,
   "metadata": {
    "ExecuteTime": {
     "end_time": "2019-08-27T04:09:18.738831Z",
     "start_time": "2019-08-27T04:09:18.726047Z"
    }
   },
   "outputs": [],
   "source": [
    "efficientnet_f_prehead = resnet_pre_head()"
   ]
  },
  {
   "cell_type": "code",
   "execution_count": 98,
   "metadata": {
    "ExecuteTime": {
     "end_time": "2019-08-27T04:09:18.932447Z",
     "start_time": "2019-08-27T04:09:18.916991Z"
    }
   },
   "outputs": [
    {
     "data": {
      "text/plain": [
       "Sequential(\n",
       "  (0): AdaptiveConcatPool2d(\n",
       "    (ap): AdaptiveAvgPool2d(output_size=1)\n",
       "    (mp): AdaptiveMaxPool2d(output_size=1)\n",
       "  )\n",
       "  (1): Flatten()\n",
       ")"
      ]
     },
     "execution_count": 98,
     "metadata": {},
     "output_type": "execute_result"
    }
   ],
   "source": [
    "efficientnet_f_prehead"
   ]
  },
  {
   "cell_type": "code",
   "execution_count": 99,
   "metadata": {
    "ExecuteTime": {
     "end_time": "2019-08-27T04:09:19.690950Z",
     "start_time": "2019-08-27T04:09:19.673253Z"
    }
   },
   "outputs": [
    {
     "data": {
      "text/plain": [
       "torch.Size([2, 3072])"
      ]
     },
     "execution_count": 99,
     "metadata": {},
     "output_type": "execute_result"
    }
   ],
   "source": [
    "efficientnet_f_prehead(torch.randn(2, 1536, 9, 9)).shape"
   ]
  },
  {
   "cell_type": "code",
   "execution_count": 100,
   "metadata": {
    "ExecuteTime": {
     "end_time": "2019-08-27T04:09:19.890170Z",
     "start_time": "2019-08-27T04:09:19.877463Z"
    }
   },
   "outputs": [],
   "source": [
    "efficientnet_fph = nn.Sequential(efficientnet_f, efficientnet_f_prehead)"
   ]
  },
  {
   "cell_type": "code",
   "execution_count": 101,
   "metadata": {
    "ExecuteTime": {
     "end_time": "2019-08-27T04:09:21.084342Z",
     "start_time": "2019-08-27T04:09:20.294780Z"
    }
   },
   "outputs": [
    {
     "data": {
      "text/plain": [
       "torch.Size([1, 3072])"
      ]
     },
     "execution_count": 101,
     "metadata": {},
     "output_type": "execute_result"
    }
   ],
   "source": [
    "efficientnet_fph(torch.randn(1,6,sz,sz)).shape"
   ]
  },
  {
   "cell_type": "markdown",
   "metadata": {},
   "source": [
    "## CellType & Plate Group Feature Extractor"
   ]
  },
  {
   "cell_type": "code",
   "execution_count": 102,
   "metadata": {
    "ExecuteTime": {
     "end_time": "2019-08-27T04:09:21.593290Z",
     "start_time": "2019-08-27T04:09:21.579005Z"
    }
   },
   "outputs": [
    {
     "data": {
      "text/plain": [
       "26"
      ]
     },
     "execution_count": 102,
     "metadata": {},
     "output_type": "execute_result"
    }
   ],
   "source": [
    "exps = len(set([exp2int[i] for i in exp2int])); exps"
   ]
  },
  {
   "cell_type": "code",
   "execution_count": 103,
   "metadata": {
    "ExecuteTime": {
     "end_time": "2019-08-27T04:09:22.120198Z",
     "start_time": "2019-08-27T04:09:22.103813Z"
    }
   },
   "outputs": [],
   "source": [
    "class CellTypePlateGroupFeatures(nn.Module):\n",
    "    '''CellType Feature Extractor.'''\n",
    "    def __init__(self, cell_types=4, plate_groups=4, exps=exps, emb_sz=128):\n",
    "        super(CellTypePlateGroupFeatures, self).__init__()\n",
    "        self.emb_ctint = nn.Embedding(cell_types, emb_sz)\n",
    "        self.emb_pgint = nn.Embedding(plate_groups, emb_sz)\n",
    "        self.emb_expint = nn.Embedding(exps, emb_sz)\n",
    "        \n",
    "    def forward(self, xb_ctint, xb_pgint, xb_expint, yb=None): # yb=None for training in non-AdaCos mode!\n",
    "        \n",
    "        ### CTINT\n",
    "        # check if we are in CutMix mode:\n",
    "        if isinstance(xb_ctint, tuple):\n",
    "            x1, x2, λ = xb_ctint\n",
    "            out1 = self.emb_ctint(x1)\n",
    "            out2 = self.emb_ctint(x2)\n",
    "            out_ctint = out1 * λ + out2 * (1-λ)\n",
    "        else: # if not CutMix, then normal mode\n",
    "            out_ctint = self.emb_ctint(xb_ctint)\n",
    "        \n",
    "        ## PGINT\n",
    "        # check if we are in CutMix mode:\n",
    "        if isinstance(xb_pgint, tuple):\n",
    "            x1, x2, λ = xb_pgint\n",
    "            out1 = self.emb_pgint(x1)\n",
    "            out2 = self.emb_pgint(x2)\n",
    "            out_pgint = out1 * λ + out2 * (1-λ)\n",
    "        else: # if not CutMix, then normal mode\n",
    "            out_pgint = self.emb_pgint(xb_pgint)\n",
    "            \n",
    "        ## EXPINT\n",
    "        # check if we are in CutMix mode:\n",
    "        if isinstance(xb_expint, tuple):\n",
    "            x1, x2, λ = xb_expint\n",
    "            out1 = self.emb_expint(x1)\n",
    "            out2 = self.emb_expint(x2)\n",
    "            out_expint = out1 * λ + out2 * (1-λ)\n",
    "        else: # if not CutMix, then normal mode\n",
    "            out_expint = self.emb_expint(xb_expint)\n",
    "        \n",
    "        out = torch.cat((out_ctint, out_pgint,  out_expint), dim=-1)\n",
    "        \n",
    "        return out"
   ]
  },
  {
   "cell_type": "code",
   "execution_count": 104,
   "metadata": {
    "ExecuteTime": {
     "end_time": "2019-08-27T04:09:22.500276Z",
     "start_time": "2019-08-27T04:09:22.487683Z"
    }
   },
   "outputs": [],
   "source": [
    "ctf = CellTypePlateGroupFeatures()"
   ]
  },
  {
   "cell_type": "code",
   "execution_count": 105,
   "metadata": {
    "ExecuteTime": {
     "end_time": "2019-08-27T04:09:22.924022Z",
     "start_time": "2019-08-27T04:09:22.907381Z"
    }
   },
   "outputs": [
    {
     "data": {
      "text/plain": [
       "CellTypePlateGroupFeatures(\n",
       "  (emb_ctint): Embedding(4, 128)\n",
       "  (emb_pgint): Embedding(4, 128)\n",
       "  (emb_expint): Embedding(26, 128)\n",
       ")"
      ]
     },
     "execution_count": 105,
     "metadata": {},
     "output_type": "execute_result"
    }
   ],
   "source": [
    "ctf"
   ]
  },
  {
   "cell_type": "code",
   "execution_count": 106,
   "metadata": {
    "ExecuteTime": {
     "end_time": "2019-08-27T04:09:23.614784Z",
     "start_time": "2019-08-27T04:09:23.601719Z"
    }
   },
   "outputs": [],
   "source": [
    "xb = (torch.tensor(ct2int['HEPG2']),\n",
    "      torch.tensor(fn2pgint['train/HEPG2-01/Plate1/B03_s1']),\n",
    "      torch.tensor(exp2int['train/HEPG2-01/Plate1/B03_s1'.split('/')[1]])\n",
    "     )"
   ]
  },
  {
   "cell_type": "code",
   "execution_count": 107,
   "metadata": {
    "ExecuteTime": {
     "end_time": "2019-08-27T04:09:23.982639Z",
     "start_time": "2019-08-27T04:09:23.967397Z"
    }
   },
   "outputs": [
    {
     "data": {
      "text/plain": [
       "(tensor(0), tensor(0), tensor(0))"
      ]
     },
     "execution_count": 107,
     "metadata": {},
     "output_type": "execute_result"
    }
   ],
   "source": [
    "xb"
   ]
  },
  {
   "cell_type": "code",
   "execution_count": 108,
   "metadata": {
    "ExecuteTime": {
     "end_time": "2019-08-27T04:09:24.830006Z",
     "start_time": "2019-08-27T04:09:24.809482Z"
    }
   },
   "outputs": [
    {
     "data": {
      "text/plain": [
       "torch.Size([384])"
      ]
     },
     "execution_count": 108,
     "metadata": {},
     "output_type": "execute_result"
    }
   ],
   "source": [
    "ctf(xb[0], xb[1], xb[2]).shape"
   ]
  },
  {
   "cell_type": "code",
   "execution_count": 109,
   "metadata": {
    "ExecuteTime": {
     "end_time": "2019-08-27T04:09:25.311358Z",
     "start_time": "2019-08-27T04:09:25.297906Z"
    }
   },
   "outputs": [],
   "source": [
    "xb = (torch.tensor((1,3)), torch.tensor((1,3)), torch.tensor((1,3)))"
   ]
  },
  {
   "cell_type": "code",
   "execution_count": 110,
   "metadata": {
    "ExecuteTime": {
     "end_time": "2019-08-27T04:09:26.010962Z",
     "start_time": "2019-08-27T04:09:25.996360Z"
    }
   },
   "outputs": [
    {
     "data": {
      "text/plain": [
       "(tensor([1, 3]), tensor([1, 3]), tensor([1, 3]))"
      ]
     },
     "execution_count": 110,
     "metadata": {},
     "output_type": "execute_result"
    }
   ],
   "source": [
    "xb"
   ]
  },
  {
   "cell_type": "code",
   "execution_count": 111,
   "metadata": {
    "ExecuteTime": {
     "end_time": "2019-08-27T04:09:26.397748Z",
     "start_time": "2019-08-27T04:09:26.380951Z"
    }
   },
   "outputs": [
    {
     "data": {
      "text/plain": [
       "torch.Size([2, 384])"
      ]
     },
     "execution_count": 111,
     "metadata": {},
     "output_type": "execute_result"
    }
   ],
   "source": [
    "ctf(xb[0], xb[1], xb[2]).shape"
   ]
  },
  {
   "cell_type": "code",
   "execution_count": 112,
   "metadata": {
    "ExecuteTime": {
     "end_time": "2019-08-27T04:09:26.842794Z",
     "start_time": "2019-08-27T04:09:26.817587Z"
    }
   },
   "outputs": [
    {
     "data": {
      "text/plain": [
       "(0, 2)"
      ]
     },
     "execution_count": 112,
     "metadata": {},
     "output_type": "execute_result"
    }
   ],
   "source": [
    "ct2int['HEPG2'], ct2int['RPE']"
   ]
  },
  {
   "cell_type": "code",
   "execution_count": 113,
   "metadata": {
    "ExecuteTime": {
     "end_time": "2019-08-27T04:09:27.392768Z",
     "start_time": "2019-08-27T04:09:27.379787Z"
    }
   },
   "outputs": [
    {
     "data": {
      "text/plain": [
       "(0, 0)"
      ]
     },
     "execution_count": 113,
     "metadata": {},
     "output_type": "execute_result"
    }
   ],
   "source": [
    "fn2pgint['train/HEPG2-01/Plate1/B03_s1'], fn2pgint['train/RPE-01/Plate1/B03_s1']"
   ]
  },
  {
   "cell_type": "code",
   "execution_count": 114,
   "metadata": {
    "ExecuteTime": {
     "end_time": "2019-08-27T04:09:27.709202Z",
     "start_time": "2019-08-27T04:09:27.692810Z"
    }
   },
   "outputs": [
    {
     "data": {
      "text/plain": [
       "(0, 19)"
      ]
     },
     "execution_count": 114,
     "metadata": {},
     "output_type": "execute_result"
    }
   ],
   "source": [
    "exp2int['HEPG2-01'], exp2int['RPE-01']"
   ]
  },
  {
   "cell_type": "code",
   "execution_count": 115,
   "metadata": {
    "ExecuteTime": {
     "end_time": "2019-08-27T04:09:29.005190Z",
     "start_time": "2019-08-27T04:09:28.990861Z"
    }
   },
   "outputs": [],
   "source": [
    "xb = ((torch.tensor(ct2int['HEPG2']), torch.tensor(ct2int['RPE']), 0.9),\n",
    "      (torch.tensor(fn2pgint['train/HEPG2-01/Plate1/B03_s1']),\n",
    "       torch.tensor(fn2pgint['train/RPE-01/Plate1/B03_s1']), 0.9),\n",
    "      (torch.tensor(exp2int['HEPG2-01']),\n",
    "       torch.tensor(exp2int['RPE-01']), 0.9))"
   ]
  },
  {
   "cell_type": "code",
   "execution_count": 116,
   "metadata": {
    "ExecuteTime": {
     "end_time": "2019-08-27T04:09:29.660874Z",
     "start_time": "2019-08-27T04:09:29.646553Z"
    }
   },
   "outputs": [
    {
     "data": {
      "text/plain": [
       "torch.Size([384])"
      ]
     },
     "execution_count": 116,
     "metadata": {},
     "output_type": "execute_result"
    }
   ],
   "source": [
    "ctf(xb[0], xb[1], xb[2]).shape"
   ]
  },
  {
   "cell_type": "code",
   "execution_count": 117,
   "metadata": {
    "ExecuteTime": {
     "end_time": "2019-08-27T04:09:30.677834Z",
     "start_time": "2019-08-27T04:09:30.664582Z"
    }
   },
   "outputs": [],
   "source": [
    "#class CellTypeFeatures(nn.Module):\n",
    "#    '''CellType Feature Extractor.'''\n",
    "#    def __init__(self, cell_types=4, emb_sz=128, lin_ftrs:Optional[Collection[int]]=None, nc=128):\n",
    "#        super(AdaCosNet, self).__init__()\n",
    "#        self.emb = nn.Embedding(cell_types, emb_sz)\n",
    "#        \n",
    "#        self.lin_ftrs = [emb_sz, 512, 512] if lin_ftrs is None else [emb_sz] + lin_ftrs + [nc]\n",
    "#\n",
    "#        \n",
    "#    def forward(self, xb, yb=None): # yb=None for training in non-AdaCos mode!\n",
    "#\n",
    "#        return out"
   ]
  },
  {
   "cell_type": "markdown",
   "metadata": {},
   "source": [
    "## AdaCos-Head"
   ]
  },
  {
   "cell_type": "code",
   "execution_count": 118,
   "metadata": {
    "ExecuteTime": {
     "end_time": "2019-08-27T04:09:31.681062Z",
     "start_time": "2019-08-27T04:09:31.659753Z"
    }
   },
   "outputs": [],
   "source": [
    "def create_adacos_head(nf:int, lin_ftrs:Optional[Collection[int]]=None, ps:Floats=0.5,\n",
    "                bn_final:bool=False): # concat_pool:bool=True, nc:int,\n",
    "    \"Model head that takes `nf` features, runs through `lin_ftrs`, and about `nc` classes.\"\n",
    "    \n",
    "    # ADDED TWO MORE 512 LAYERS !!!\n",
    "    lin_ftrs = [nf, 512, 512, 512, 512] if lin_ftrs is None else [nf] + lin_ftrs + [nc]\n",
    "    # remove last 512 fc layer to reduce MODEL SIZE ??? ???\n",
    "    \n",
    "    ps = listify(ps)\n",
    "    if len(ps) == 1: ps = [ps[0]/2] * (len(lin_ftrs)-2) + ps\n",
    "    actns = [nn.ReLU(inplace=True)] * (len(lin_ftrs)-2) + [None]\n",
    "    #pool = AdaptiveConcatPool2d() if concat_pool else nn.AdaptiveAvgPool2d(1)\n",
    "    #layers = [pool, Flatten()]\n",
    "    layers = []\n",
    "    for ni,no,p,actn in zip(lin_ftrs[:-1], lin_ftrs[1:], ps, actns):\n",
    "        layers += bn_drop_lin(ni, no, True, p, actn)\n",
    "    if bn_final: layers.append(nn.BatchNorm1d(lin_ftrs[-1], momentum=0.01))\n",
    "    #layers.append(AdaCos(lin_ftrs[-1], nc))\n",
    "    return nn.Sequential(*layers)"
   ]
  },
  {
   "cell_type": "code",
   "execution_count": 119,
   "metadata": {
    "ExecuteTime": {
     "end_time": "2019-08-27T04:09:32.091341Z",
     "start_time": "2019-08-27T04:09:32.060436Z"
    }
   },
   "outputs": [],
   "source": [
    "#adacos_head = create_adacos_head(nf=2048+1) \n",
    "adacos_head = create_adacos_head(nf=1536*2+128*3)\n",
    "# se_xresnet50f: 2048*2=4096, ctf: 128*3"
   ]
  },
  {
   "cell_type": "code",
   "execution_count": 120,
   "metadata": {
    "ExecuteTime": {
     "end_time": "2019-08-27T04:09:32.545490Z",
     "start_time": "2019-08-27T04:09:32.533913Z"
    }
   },
   "outputs": [
    {
     "data": {
      "text/plain": [
       "Sequential(\n",
       "  (0): BatchNorm1d(3456, eps=1e-05, momentum=0.1, affine=True, track_running_stats=True)\n",
       "  (1): Dropout(p=0.25)\n",
       "  (2): Linear(in_features=3456, out_features=512, bias=True)\n",
       "  (3): ReLU(inplace)\n",
       "  (4): BatchNorm1d(512, eps=1e-05, momentum=0.1, affine=True, track_running_stats=True)\n",
       "  (5): Dropout(p=0.25)\n",
       "  (6): Linear(in_features=512, out_features=512, bias=True)\n",
       "  (7): ReLU(inplace)\n",
       "  (8): BatchNorm1d(512, eps=1e-05, momentum=0.1, affine=True, track_running_stats=True)\n",
       "  (9): Dropout(p=0.25)\n",
       "  (10): Linear(in_features=512, out_features=512, bias=True)\n",
       "  (11): ReLU(inplace)\n",
       "  (12): BatchNorm1d(512, eps=1e-05, momentum=0.1, affine=True, track_running_stats=True)\n",
       "  (13): Dropout(p=0.5)\n",
       "  (14): Linear(in_features=512, out_features=512, bias=True)\n",
       ")"
      ]
     },
     "execution_count": 120,
     "metadata": {},
     "output_type": "execute_result"
    }
   ],
   "source": [
    "adacos_head"
   ]
  },
  {
   "cell_type": "code",
   "execution_count": 121,
   "metadata": {
    "ExecuteTime": {
     "end_time": "2019-08-27T04:09:33.098756Z",
     "start_time": "2019-08-27T04:09:33.088250Z"
    }
   },
   "outputs": [],
   "source": [
    "#adacos_head"
   ]
  },
  {
   "cell_type": "code",
   "execution_count": 122,
   "metadata": {
    "ExecuteTime": {
     "end_time": "2019-08-27T04:09:33.722502Z",
     "start_time": "2019-08-27T04:09:33.660376Z"
    }
   },
   "outputs": [
    {
     "data": {
      "text/plain": [
       "torch.Size([2, 512])"
      ]
     },
     "execution_count": 122,
     "metadata": {},
     "output_type": "execute_result"
    }
   ],
   "source": [
    "adacos_head(torch.randn(2, 1536*2+128*3)).shape"
   ]
  },
  {
   "cell_type": "code",
   "execution_count": 123,
   "metadata": {
    "ExecuteTime": {
     "end_time": "2019-08-27T04:09:34.237702Z",
     "start_time": "2019-08-27T04:09:34.210274Z"
    }
   },
   "outputs": [],
   "source": [
    "# from https://github.com/4uiiurz1/pytorch-adacos/blob/master/metrics.py\n",
    "class AdaCos(nn.Module):\n",
    "    def __init__(self, num_features, num_classes, m=0.50):\n",
    "        super(AdaCos, self).__init__()\n",
    "        self.num_features = num_features\n",
    "        self.n_classes = num_classes\n",
    "        self.s = math.sqrt(2) * math.log(num_classes - 1)\n",
    "        self.m = m\n",
    "        self.W = nn.Parameter(torch.FloatTensor(num_classes, num_features))\n",
    "        nn.init.xavier_uniform_(self.W)\n",
    "\n",
    "    def forward(self, xb, yb):\n",
    "        \n",
    "        #print(yb.shape)\n",
    "        #pdb.set_trace()\n",
    "        \n",
    "        # normalize features\n",
    "        x = F.normalize(xb)\n",
    "        # normalize weights\n",
    "        W = F.normalize(self.W)\n",
    "        # dot product\n",
    "        logits = F.linear(x, W)\n",
    "        \n",
    "        # for training in non-AdaCos mode (= no yb date in the forward pass):\n",
    "        if yb is None:\n",
    "            print('yb = None')\n",
    "            return logits\n",
    "        \n",
    "        # feature re-scale\n",
    "        theta = torch.acos(torch.clamp(logits, -1.0 + 1e-7, 1.0 - 1e-7))\n",
    "        one_hot = torch.zeros_like(logits)\n",
    "        \n",
    "        # ORIGINAL\n",
    "        #one_hot.scatter_(1, yb.view(-1, 1).long(), 1)\n",
    "        #with torch.no_grad():\n",
    "        #    B_avg = torch.where(one_hot < 1, torch.exp(self.s * logits), torch.zeros_like(logits))\n",
    "        #    B_avg = torch.sum(B_avg) / xb.size(0)\n",
    "        #    #print(B_avg)\n",
    "        #    theta_med = torch.median(theta[one_hot == 1])\n",
    "        #    self.s = torch.log(B_avg) / torch.cos(torch.min(math.pi/4 * torch.ones_like(theta_med), theta_med))\n",
    "        #    #print(self.s)\n",
    "            \n",
    "        # ADAPTED FOR CUTMIX TO GET MIXED SCALE PARAMETER\n",
    "        with torch.no_grad():\n",
    "            # FROM nb_new_data_augmentation_adacos2.py LINE 888\n",
    "            # AND https://github.com/fastai/fastai/blob/master/fastai/callbacks/mixup.py#L40\n",
    "            if yb.ndim == 2:# and target.shape[-1] >1:\n",
    "                n_mod_patches = (yb.shape[-1] - 1) // 2\n",
    "                #c_ = yb[:, 1:n_mod_patches + 1]\n",
    "                c_ = yb[:, 0:n_mod_patches + 1]\n",
    "                W_ = yb[:, n_mod_patches + 1:]\n",
    "                self.s_scaled = []\n",
    "                \n",
    "                # this loop is only realdy needed when we have different probabilities inside a batch\n",
    "                # which we do not have (right now)! So this could be cleaned up, but we leave until\n",
    "                # we know we will not need the case with different probabilities in a batch.\n",
    "                for k in range(n_mod_patches+1):\n",
    "                    yb_new = c_[:, k].long()\n",
    "                    #pdb.set_trace()\n",
    "                    \n",
    "                    one_hot.scatter_(1, yb_new.view(-1,1).long(), 1)\n",
    "                    \n",
    "                    B_avg = torch.where(one_hot < 1, torch.exp(self.s * logits), torch.zeros_like(logits))\n",
    "                    B_avg = torch.sum(B_avg) / xb.size(0)\n",
    "                    theta_med = torch.median(theta[one_hot == 1])\n",
    "                    self.s = torch.log(B_avg) / torch.cos(torch.min(math.pi/4 * torch.ones_like(theta_med), theta_med))\n",
    "                    \n",
    "                    if k+1 == len(range(n_mod_patches+1)):\n",
    "                        #self.s_scaled.append((1-W_[:, k-1]) * self.s)\n",
    "                        self.s_scaled.append((1-W_[0, k-1]) * self.s)\n",
    "                        # For more than two the sum of W_[:, :k] has to be used!!!\n",
    "                    else:\n",
    "                        #self.s_scaled.append(W_[:, k] * self.s)\n",
    "                        self.s_scaled.append(W_[0, k] * self.s)\n",
    "                    # Mixed B_avg & self.s and single are not really far off, but now we have it coded\n",
    "                    # se we keep it (until it breaks something later).\n",
    "                self.s = torch.add(*self.s_scaled)\n",
    "                # Clean up, self.s_scaled is just a vector with the same entry multiple times\n",
    "                # when it is not indexed above with W_[0,... !\n",
    "            else:\n",
    "                one_hot.scatter_(1, yb.view(-1,1).long(), 1)\n",
    "                B_avg = torch.where(one_hot < 1, torch.exp(self.s * logits), torch.zeros_like(logits))\n",
    "                B_avg = torch.sum(B_avg) / xb.size(0)\n",
    "                theta_med = torch.median(theta[one_hot == 1])\n",
    "                self.s = torch.log(B_avg) / torch.cos(torch.min(math.pi/4 * torch.ones_like(theta_med), theta_med))\n",
    "        \n",
    "        output = self.s * logits\n",
    "\n",
    "        return output"
   ]
  },
  {
   "cell_type": "markdown",
   "metadata": {},
   "source": [
    "## Network"
   ]
  },
  {
   "cell_type": "code",
   "execution_count": 124,
   "metadata": {
    "ExecuteTime": {
     "end_time": "2019-08-27T04:09:35.868557Z",
     "start_time": "2019-08-27T04:09:35.852335Z"
    }
   },
   "outputs": [],
   "source": [
    "class AdaCosNet(nn.Module):\n",
    "    '''Simple AdaCosNet connecter to run xb through the feature extractor head\n",
    "    and then feed xb and yb into the AdaCos layer.'''\n",
    "    def __init__(self, body1, body2, head):\n",
    "        super(AdaCosNet, self).__init__()\n",
    "        self.body1 = body1\n",
    "        self.body2 = body2\n",
    "        self.head = head\n",
    "        self.adacos = AdaCos(512, 1108)\n",
    "        \n",
    "    def forward(self, xb, yb=None): # yb=None for training in non-AdaCos mode!\n",
    "        xb_img, xb_ctint, xb_pgint, xb_expint = xb\n",
    "        resnet_features = self.body1(xb_img)\n",
    "        int_features = self.body2(xb_ctint, xb_pgint, xb_expint)\n",
    "        features = torch.cat((resnet_features, int_features), dim=-1)\n",
    "        out = self.head(features)\n",
    "        #print('xb.shape: ', xb.shape,', yb.shape: ', yb.shape)\n",
    "        out = self.adacos(out, yb)\n",
    "        #print('out: ',out.shape)\n",
    "        #pdb.set_trace()\n",
    "        return out"
   ]
  },
  {
   "cell_type": "code",
   "execution_count": 125,
   "metadata": {
    "ExecuteTime": {
     "end_time": "2019-08-27T04:09:37.200816Z",
     "start_time": "2019-08-27T04:09:37.185027Z"
    }
   },
   "outputs": [],
   "source": [
    "adacos_efficientnet = AdaCosNet(efficientnet_fph, ctf, adacos_head)"
   ]
  },
  {
   "cell_type": "code",
   "execution_count": 126,
   "metadata": {
    "ExecuteTime": {
     "end_time": "2019-08-27T04:09:37.638029Z",
     "start_time": "2019-08-27T04:09:37.617852Z"
    }
   },
   "outputs": [],
   "source": [
    "xb = (torch.randn(2,6,sz,sz),\n",
    "      #(torch.randint(4, (2,1)),  torch.randint(4, (2,1)))\n",
    "      torch.tensor((1,3)), torch.tensor((1,3)), torch.tensor((1,3))\n",
    "     )"
   ]
  },
  {
   "cell_type": "code",
   "execution_count": 127,
   "metadata": {
    "ExecuteTime": {
     "end_time": "2019-08-27T04:09:39.020693Z",
     "start_time": "2019-08-27T04:09:38.239052Z"
    }
   },
   "outputs": [
    {
     "name": "stdout",
     "output_type": "stream",
     "text": [
      "yb = None\n"
     ]
    },
    {
     "data": {
      "text/plain": [
       "torch.Size([2, 1108])"
      ]
     },
     "execution_count": 127,
     "metadata": {},
     "output_type": "execute_result"
    }
   ],
   "source": [
    "adacos_efficientnet(xb).shape"
   ]
  },
  {
   "cell_type": "code",
   "execution_count": 128,
   "metadata": {
    "ExecuteTime": {
     "end_time": "2019-08-27T04:09:40.266607Z",
     "start_time": "2019-08-27T04:09:39.021734Z"
    }
   },
   "outputs": [
    {
     "data": {
      "text/plain": [
       "torch.Size([2, 1108])"
      ]
     },
     "execution_count": 128,
     "metadata": {},
     "output_type": "execute_result"
    }
   ],
   "source": [
    "adacos_efficientnet(xb, torch.tensor([513, 1])).shape"
   ]
  },
  {
   "cell_type": "code",
   "execution_count": 129,
   "metadata": {
    "ExecuteTime": {
     "end_time": "2019-08-27T04:09:40.287538Z",
     "start_time": "2019-08-27T04:09:40.269450Z"
    }
   },
   "outputs": [],
   "source": [
    "test_target = torch.tensor(\n",
    "    [[2.4700e+02, 3.3900e+02, 7.8362e-01],\n",
    "     [2.3300e+02, 7.7400e+02, 7.8362e-01],\n",
    "     [7.7400e+02, 1.3400e+02, 7.8362e-01],\n",
    "     [6.9800e+02, 8.4700e+02, 7.8362e-01]])"
   ]
  },
  {
   "cell_type": "code",
   "execution_count": 130,
   "metadata": {
    "ExecuteTime": {
     "end_time": "2019-08-27T04:09:42.117293Z",
     "start_time": "2019-08-27T04:09:40.295153Z"
    }
   },
   "outputs": [
    {
     "data": {
      "text/plain": [
       "torch.Size([4, 1108])"
      ]
     },
     "execution_count": 130,
     "metadata": {},
     "output_type": "execute_result"
    }
   ],
   "source": [
    "adacos_efficientnet((torch.randn(4,6,sz,sz), \n",
    "                     torch.tensor((1,3,0,2)), torch.tensor((1,3,0,2)), torch.tensor((1,3,0,2))),\n",
    "                    test_target).shape"
   ]
  },
  {
   "cell_type": "code",
   "execution_count": 131,
   "metadata": {
    "ExecuteTime": {
     "end_time": "2019-08-27T04:09:42.158630Z",
     "start_time": "2019-08-27T04:09:42.126281Z"
    }
   },
   "outputs": [],
   "source": [
    "# Based on https://forums.fast.ai/t/teacher-forcing/29415/4\n",
    "# https://forums.fast.ai/t/on-batch-begin-callback/35201/3\n",
    "@dataclass\n",
    "class AppendBatchTargs(Callback):\n",
    "    learn:Learner\n",
    "    def __init__(self, learn):\n",
    "        super().__init__()\n",
    "    def on_batch_begin(self, last_input, last_target, **kwargs):\n",
    "        return {'last_input':(last_input, last_target), 'last_target':last_target}"
   ]
  },
  {
   "cell_type": "code",
   "execution_count": 132,
   "metadata": {
    "ExecuteTime": {
     "end_time": "2019-08-27T04:09:42.201622Z",
     "start_time": "2019-08-27T04:09:42.167909Z"
    }
   },
   "outputs": [],
   "source": [
    "#batch = next(iter(data.train_dl))"
   ]
  },
  {
   "cell_type": "code",
   "execution_count": 133,
   "metadata": {
    "ExecuteTime": {
     "end_time": "2019-08-25T18:18:51.641344Z",
     "start_time": "2019-08-25T18:18:51.620782Z"
    }
   },
   "outputs": [],
   "source": [
    "#batch"
   ]
  },
  {
   "cell_type": "code",
   "execution_count": 136,
   "metadata": {
    "ExecuteTime": {
     "end_time": "2019-08-24T19:05:51.567869Z",
     "start_time": "2019-08-24T19:05:51.547589Z"
    }
   },
   "outputs": [],
   "source": [
    "#batch[0][0].shape, batch[0][1].shape, batch[0][2].shape"
   ]
  },
  {
   "cell_type": "code",
   "execution_count": 122,
   "metadata": {
    "ExecuteTime": {
     "end_time": "2019-08-24T12:45:32.073035Z",
     "start_time": "2019-08-24T12:45:32.056926Z"
    }
   },
   "outputs": [],
   "source": [
    "#batch[0][1]"
   ]
  },
  {
   "cell_type": "code",
   "execution_count": 123,
   "metadata": {
    "ExecuteTime": {
     "end_time": "2019-08-24T12:45:32.594003Z",
     "start_time": "2019-08-24T12:45:32.578190Z"
    }
   },
   "outputs": [],
   "source": [
    "#batch[0][2]"
   ]
  },
  {
   "cell_type": "code",
   "execution_count": 124,
   "metadata": {
    "ExecuteTime": {
     "end_time": "2019-08-24T12:45:33.204080Z",
     "start_time": "2019-08-24T12:45:33.188878Z"
    }
   },
   "outputs": [],
   "source": [
    "#adacos_se_xresnet50c.cuda()"
   ]
  },
  {
   "cell_type": "code",
   "execution_count": 125,
   "metadata": {
    "ExecuteTime": {
     "end_time": "2019-08-24T12:45:33.793854Z",
     "start_time": "2019-08-24T12:45:33.778198Z"
    }
   },
   "outputs": [],
   "source": [
    "#adacos_se_xresnet50c(batch[0]).shape"
   ]
  },
  {
   "cell_type": "markdown",
   "metadata": {},
   "source": [
    "# Training"
   ]
  },
  {
   "cell_type": "markdown",
   "metadata": {},
   "source": [
    "## EfficientNet"
   ]
  },
  {
   "cell_type": "code",
   "execution_count": 134,
   "metadata": {
    "ExecuteTime": {
     "end_time": "2019-08-27T04:12:34.507235Z",
     "start_time": "2019-08-27T04:12:32.916678Z"
    }
   },
   "outputs": [],
   "source": [
    "learn = Learner(data, adacos_efficientnet, metrics=[accuracy],\n",
    "                callback_fns=[CSVLogger, AppendBatchTargs])#.to_fp16()"
   ]
  },
  {
   "cell_type": "code",
   "execution_count": 58,
   "metadata": {
    "ExecuteTime": {
     "end_time": "2019-08-08T17:53:15.097224Z",
     "start_time": "2019-08-08T17:53:15.082545Z"
    }
   },
   "outputs": [],
   "source": [
    "# https://github.com/pytorch/pytorch/issues/7455\n",
    "#class LabelSmoothingLoss(nn.Module):\n",
    "#    def __init__(self, classes, smoothing=0.0, dim=-1):\n",
    "#        super(LabelSmoothingLoss, self).__init__()\n",
    "#        self.confidence = 1.0 - smoothing\n",
    "#        self.smoothing = smoothing\n",
    "#        self.cls = classes\n",
    "#        self.dim = dim\n",
    "#\n",
    "#    def forward(self, pred, target):\n",
    "#        pred = pred.log_softmax(dim=self.dim)\n",
    "#        with torch.no_grad():\n",
    "#            # true_dist = pred.data.clone()\n",
    "#            true_dist = torch.zeros_like(pred)\n",
    "#            true_dist.fill_(self.smoothing / (self.cls - 1))\n",
    "#            true_dist.scatter_(1, target.data.unsqueeze(1), self.confidence)\n",
    "#        return torch.mean(torch.sum(-true_dist * pred, dim=self.dim))"
   ]
  },
  {
   "cell_type": "code",
   "execution_count": 59,
   "metadata": {
    "ExecuteTime": {
     "end_time": "2019-08-08T17:53:16.922648Z",
     "start_time": "2019-08-08T17:53:16.905917Z"
    }
   },
   "outputs": [],
   "source": [
    "#labsmooth_loss = LabelSmoothingLoss(1108, 0.1)"
   ]
  },
  {
   "cell_type": "code",
   "execution_count": 151,
   "metadata": {
    "ExecuteTime": {
     "end_time": "2019-08-25T19:42:33.368209Z",
     "start_time": "2019-08-25T19:42:33.352445Z"
    }
   },
   "outputs": [],
   "source": [
    "#input = torch.randn(3, 5, requires_grad=True)\n",
    "#target = torch.empty(3, dtype=torch.long).random_(5)\n",
    "#labsmooth_loss(input, target)"
   ]
  },
  {
   "cell_type": "code",
   "execution_count": 129,
   "metadata": {
    "ExecuteTime": {
     "end_time": "2019-08-26T04:06:41.948361Z",
     "start_time": "2019-08-26T04:06:41.931423Z"
    }
   },
   "outputs": [
    {
     "data": {
      "text/plain": [
       "FlattenedLoss of CrossEntropyLoss()"
      ]
     },
     "execution_count": 129,
     "metadata": {},
     "output_type": "execute_result"
    }
   ],
   "source": [
    "learn.loss_func"
   ]
  },
  {
   "cell_type": "code",
   "execution_count": 130,
   "metadata": {
    "ExecuteTime": {
     "end_time": "2019-08-26T04:06:42.362968Z",
     "start_time": "2019-08-26T04:06:42.347544Z"
    }
   },
   "outputs": [],
   "source": [
    "#learn.loss_func = labsmooth_loss\n",
    "#learn.loss_func"
   ]
  },
  {
   "cell_type": "code",
   "execution_count": 131,
   "metadata": {
    "ExecuteTime": {
     "end_time": "2019-08-26T04:06:42.580566Z",
     "start_time": "2019-08-26T04:06:42.539171Z"
    }
   },
   "outputs": [
    {
     "data": {
      "text/plain": [
       "functools.partial(<class 'torch.optim.adam.Adam'>, betas=(0.9, 0.99))"
      ]
     },
     "execution_count": 131,
     "metadata": {},
     "output_type": "execute_result"
    }
   ],
   "source": [
    "learn.opt_func"
   ]
  },
  {
   "cell_type": "code",
   "execution_count": 90,
   "metadata": {
    "ExecuteTime": {
     "end_time": "2019-08-08T17:35:46.796502Z",
     "start_time": "2019-08-08T17:35:46.753676Z"
    }
   },
   "outputs": [],
   "source": [
    "# https://docs.fast.ai/callbacks.fp16.html\n",
    "#learn.to_fp16(loss_scale=512, clip=1e3);"
   ]
  },
  {
   "cell_type": "code",
   "execution_count": 91,
   "metadata": {
    "ExecuteTime": {
     "end_time": "2019-08-08T17:35:48.775018Z",
     "start_time": "2019-08-08T17:35:48.756940Z"
    }
   },
   "outputs": [
    {
     "data": {
      "text/plain": [
       "functools.partial(<class 'torch.optim.adam.Adam'>, betas=(0.9, 0.99), eps=0.0001)"
      ]
     },
     "execution_count": 91,
     "metadata": {},
     "output_type": "execute_result"
    }
   ],
   "source": [
    "# Make Adam FP16 proof:\n",
    "# https://forums.fast.ai/t/mixed-precision-training/29601/21\n",
    "# https://discuss.pytorch.org/t/adam-half-precision-nans/1765\n",
    "# https://vxlabs.com/2019/02/04/improving-fastais-mixed-precision-support-with-nvidias-automatic-mixed-precision/\n",
    "#learn.opt_func = partial(learn.opt_func, eps=1e-4)\n",
    "#learn.opt_func\n",
    "#\n",
    "### ADD CLIP PARAMETER TOO???"
   ]
  },
  {
   "cell_type": "code",
   "execution_count": 77,
   "metadata": {
    "ExecuteTime": {
     "end_time": "2019-08-08T17:31:46.981195Z",
     "start_time": "2019-08-08T17:31:46.965718Z"
    }
   },
   "outputs": [],
   "source": [
    "#learn.layer_groups"
   ]
  },
  {
   "cell_type": "code",
   "execution_count": 135,
   "metadata": {
    "ExecuteTime": {
     "end_time": "2019-08-27T04:12:37.892132Z",
     "start_time": "2019-08-27T04:12:37.878330Z"
    }
   },
   "outputs": [],
   "source": [
    "def check_rg(model=learn.model):\n",
    "    layer_rg = [(n, p.requires_grad) for n,p in model.named_parameters()]\n",
    "    for i in range(len(layer_rg)):\n",
    "        print(f'{layer_rg[i][0]}\\t{layer_rg[i][1]}'.expandtabs(45))"
   ]
  },
  {
   "cell_type": "code",
   "execution_count": 136,
   "metadata": {
    "ExecuteTime": {
     "end_time": "2019-08-27T04:12:38.208654Z",
     "start_time": "2019-08-27T04:12:38.190501Z"
    }
   },
   "outputs": [],
   "source": [
    "# unfreeze network\n",
    "learn.unfreeze()\n",
    "#set_rg(learn.model.body, option=True)"
   ]
  },
  {
   "cell_type": "code",
   "execution_count": 137,
   "metadata": {
    "ExecuteTime": {
     "end_time": "2019-08-27T04:12:38.534599Z",
     "start_time": "2019-08-27T04:12:38.503207Z"
    }
   },
   "outputs": [
    {
     "name": "stdout",
     "output_type": "stream",
     "text": [
      "body1.0._conv_stem.weight                    True\n",
      "body1.0._bn0.weight                          True\n",
      "body1.0._bn0.bias                            True\n",
      "body1.0._blocks.0._depthwise_conv.weight     True\n",
      "body1.0._blocks.0._bn1.weight                True\n",
      "body1.0._blocks.0._bn1.bias                  True\n",
      "body1.0._blocks.0._se_reduce.weight          True\n",
      "body1.0._blocks.0._se_reduce.bias            True\n",
      "body1.0._blocks.0._se_expand.weight          True\n",
      "body1.0._blocks.0._se_expand.bias            True\n",
      "body1.0._blocks.0._project_conv.weight       True\n",
      "body1.0._blocks.0._bn2.weight                True\n",
      "body1.0._blocks.0._bn2.bias                  True\n",
      "body1.0._blocks.1._depthwise_conv.weight     True\n",
      "body1.0._blocks.1._bn1.weight                True\n",
      "body1.0._blocks.1._bn1.bias                  True\n",
      "body1.0._blocks.1._se_reduce.weight          True\n",
      "body1.0._blocks.1._se_reduce.bias            True\n",
      "body1.0._blocks.1._se_expand.weight          True\n",
      "body1.0._blocks.1._se_expand.bias            True\n",
      "body1.0._blocks.1._project_conv.weight       True\n",
      "body1.0._blocks.1._bn2.weight                True\n",
      "body1.0._blocks.1._bn2.bias                  True\n",
      "body1.0._blocks.2._expand_conv.weight        True\n",
      "body1.0._blocks.2._bn0.weight                True\n",
      "body1.0._blocks.2._bn0.bias                  True\n",
      "body1.0._blocks.2._depthwise_conv.weight     True\n",
      "body1.0._blocks.2._bn1.weight                True\n",
      "body1.0._blocks.2._bn1.bias                  True\n",
      "body1.0._blocks.2._se_reduce.weight          True\n",
      "body1.0._blocks.2._se_reduce.bias            True\n",
      "body1.0._blocks.2._se_expand.weight          True\n",
      "body1.0._blocks.2._se_expand.bias            True\n",
      "body1.0._blocks.2._project_conv.weight       True\n",
      "body1.0._blocks.2._bn2.weight                True\n",
      "body1.0._blocks.2._bn2.bias                  True\n",
      "body1.0._blocks.3._expand_conv.weight        True\n",
      "body1.0._blocks.3._bn0.weight                True\n",
      "body1.0._blocks.3._bn0.bias                  True\n",
      "body1.0._blocks.3._depthwise_conv.weight     True\n",
      "body1.0._blocks.3._bn1.weight                True\n",
      "body1.0._blocks.3._bn1.bias                  True\n",
      "body1.0._blocks.3._se_reduce.weight          True\n",
      "body1.0._blocks.3._se_reduce.bias            True\n",
      "body1.0._blocks.3._se_expand.weight          True\n",
      "body1.0._blocks.3._se_expand.bias            True\n",
      "body1.0._blocks.3._project_conv.weight       True\n",
      "body1.0._blocks.3._bn2.weight                True\n",
      "body1.0._blocks.3._bn2.bias                  True\n",
      "body1.0._blocks.4._expand_conv.weight        True\n",
      "body1.0._blocks.4._bn0.weight                True\n",
      "body1.0._blocks.4._bn0.bias                  True\n",
      "body1.0._blocks.4._depthwise_conv.weight     True\n",
      "body1.0._blocks.4._bn1.weight                True\n",
      "body1.0._blocks.4._bn1.bias                  True\n",
      "body1.0._blocks.4._se_reduce.weight          True\n",
      "body1.0._blocks.4._se_reduce.bias            True\n",
      "body1.0._blocks.4._se_expand.weight          True\n",
      "body1.0._blocks.4._se_expand.bias            True\n",
      "body1.0._blocks.4._project_conv.weight       True\n",
      "body1.0._blocks.4._bn2.weight                True\n",
      "body1.0._blocks.4._bn2.bias                  True\n",
      "body1.0._blocks.5._expand_conv.weight        True\n",
      "body1.0._blocks.5._bn0.weight                True\n",
      "body1.0._blocks.5._bn0.bias                  True\n",
      "body1.0._blocks.5._depthwise_conv.weight     True\n",
      "body1.0._blocks.5._bn1.weight                True\n",
      "body1.0._blocks.5._bn1.bias                  True\n",
      "body1.0._blocks.5._se_reduce.weight          True\n",
      "body1.0._blocks.5._se_reduce.bias            True\n",
      "body1.0._blocks.5._se_expand.weight          True\n",
      "body1.0._blocks.5._se_expand.bias            True\n",
      "body1.0._blocks.5._project_conv.weight       True\n",
      "body1.0._blocks.5._bn2.weight                True\n",
      "body1.0._blocks.5._bn2.bias                  True\n",
      "body1.0._blocks.6._expand_conv.weight        True\n",
      "body1.0._blocks.6._bn0.weight                True\n",
      "body1.0._blocks.6._bn0.bias                  True\n",
      "body1.0._blocks.6._depthwise_conv.weight     True\n",
      "body1.0._blocks.6._bn1.weight                True\n",
      "body1.0._blocks.6._bn1.bias                  True\n",
      "body1.0._blocks.6._se_reduce.weight          True\n",
      "body1.0._blocks.6._se_reduce.bias            True\n",
      "body1.0._blocks.6._se_expand.weight          True\n",
      "body1.0._blocks.6._se_expand.bias            True\n",
      "body1.0._blocks.6._project_conv.weight       True\n",
      "body1.0._blocks.6._bn2.weight                True\n",
      "body1.0._blocks.6._bn2.bias                  True\n",
      "body1.0._blocks.7._expand_conv.weight        True\n",
      "body1.0._blocks.7._bn0.weight                True\n",
      "body1.0._blocks.7._bn0.bias                  True\n",
      "body1.0._blocks.7._depthwise_conv.weight     True\n",
      "body1.0._blocks.7._bn1.weight                True\n",
      "body1.0._blocks.7._bn1.bias                  True\n",
      "body1.0._blocks.7._se_reduce.weight          True\n",
      "body1.0._blocks.7._se_reduce.bias            True\n",
      "body1.0._blocks.7._se_expand.weight          True\n",
      "body1.0._blocks.7._se_expand.bias            True\n",
      "body1.0._blocks.7._project_conv.weight       True\n",
      "body1.0._blocks.7._bn2.weight                True\n",
      "body1.0._blocks.7._bn2.bias                  True\n",
      "body1.0._blocks.8._expand_conv.weight        True\n",
      "body1.0._blocks.8._bn0.weight                True\n",
      "body1.0._blocks.8._bn0.bias                  True\n",
      "body1.0._blocks.8._depthwise_conv.weight     True\n",
      "body1.0._blocks.8._bn1.weight                True\n",
      "body1.0._blocks.8._bn1.bias                  True\n",
      "body1.0._blocks.8._se_reduce.weight          True\n",
      "body1.0._blocks.8._se_reduce.bias            True\n",
      "body1.0._blocks.8._se_expand.weight          True\n",
      "body1.0._blocks.8._se_expand.bias            True\n",
      "body1.0._blocks.8._project_conv.weight       True\n",
      "body1.0._blocks.8._bn2.weight                True\n",
      "body1.0._blocks.8._bn2.bias                  True\n",
      "body1.0._blocks.9._expand_conv.weight        True\n",
      "body1.0._blocks.9._bn0.weight                True\n",
      "body1.0._blocks.9._bn0.bias                  True\n",
      "body1.0._blocks.9._depthwise_conv.weight     True\n",
      "body1.0._blocks.9._bn1.weight                True\n",
      "body1.0._blocks.9._bn1.bias                  True\n",
      "body1.0._blocks.9._se_reduce.weight          True\n",
      "body1.0._blocks.9._se_reduce.bias            True\n",
      "body1.0._blocks.9._se_expand.weight          True\n",
      "body1.0._blocks.9._se_expand.bias            True\n",
      "body1.0._blocks.9._project_conv.weight       True\n",
      "body1.0._blocks.9._bn2.weight                True\n",
      "body1.0._blocks.9._bn2.bias                  True\n",
      "body1.0._blocks.10._expand_conv.weight       True\n",
      "body1.0._blocks.10._bn0.weight               True\n",
      "body1.0._blocks.10._bn0.bias                 True\n",
      "body1.0._blocks.10._depthwise_conv.weight    True\n",
      "body1.0._blocks.10._bn1.weight               True\n",
      "body1.0._blocks.10._bn1.bias                 True\n",
      "body1.0._blocks.10._se_reduce.weight         True\n",
      "body1.0._blocks.10._se_reduce.bias           True\n",
      "body1.0._blocks.10._se_expand.weight         True\n",
      "body1.0._blocks.10._se_expand.bias           True\n",
      "body1.0._blocks.10._project_conv.weight      True\n",
      "body1.0._blocks.10._bn2.weight               True\n",
      "body1.0._blocks.10._bn2.bias                 True\n",
      "body1.0._blocks.11._expand_conv.weight       True\n",
      "body1.0._blocks.11._bn0.weight               True\n",
      "body1.0._blocks.11._bn0.bias                 True\n",
      "body1.0._blocks.11._depthwise_conv.weight    True\n",
      "body1.0._blocks.11._bn1.weight               True\n",
      "body1.0._blocks.11._bn1.bias                 True\n",
      "body1.0._blocks.11._se_reduce.weight         True\n",
      "body1.0._blocks.11._se_reduce.bias           True\n",
      "body1.0._blocks.11._se_expand.weight         True\n",
      "body1.0._blocks.11._se_expand.bias           True\n",
      "body1.0._blocks.11._project_conv.weight      True\n",
      "body1.0._blocks.11._bn2.weight               True\n",
      "body1.0._blocks.11._bn2.bias                 True\n",
      "body1.0._blocks.12._expand_conv.weight       True\n",
      "body1.0._blocks.12._bn0.weight               True\n",
      "body1.0._blocks.12._bn0.bias                 True\n",
      "body1.0._blocks.12._depthwise_conv.weight    True\n",
      "body1.0._blocks.12._bn1.weight               True\n",
      "body1.0._blocks.12._bn1.bias                 True\n",
      "body1.0._blocks.12._se_reduce.weight         True\n",
      "body1.0._blocks.12._se_reduce.bias           True\n",
      "body1.0._blocks.12._se_expand.weight         True\n",
      "body1.0._blocks.12._se_expand.bias           True\n",
      "body1.0._blocks.12._project_conv.weight      True\n",
      "body1.0._blocks.12._bn2.weight               True\n",
      "body1.0._blocks.12._bn2.bias                 True\n",
      "body1.0._blocks.13._expand_conv.weight       True\n",
      "body1.0._blocks.13._bn0.weight               True\n",
      "body1.0._blocks.13._bn0.bias                 True\n",
      "body1.0._blocks.13._depthwise_conv.weight    True\n",
      "body1.0._blocks.13._bn1.weight               True\n",
      "body1.0._blocks.13._bn1.bias                 True\n",
      "body1.0._blocks.13._se_reduce.weight         True\n",
      "body1.0._blocks.13._se_reduce.bias           True\n",
      "body1.0._blocks.13._se_expand.weight         True\n",
      "body1.0._blocks.13._se_expand.bias           True\n",
      "body1.0._blocks.13._project_conv.weight      True\n",
      "body1.0._blocks.13._bn2.weight               True\n",
      "body1.0._blocks.13._bn2.bias                 True\n",
      "body1.0._blocks.14._expand_conv.weight       True\n",
      "body1.0._blocks.14._bn0.weight               True\n",
      "body1.0._blocks.14._bn0.bias                 True\n",
      "body1.0._blocks.14._depthwise_conv.weight    True\n",
      "body1.0._blocks.14._bn1.weight               True\n",
      "body1.0._blocks.14._bn1.bias                 True\n",
      "body1.0._blocks.14._se_reduce.weight         True\n",
      "body1.0._blocks.14._se_reduce.bias           True\n",
      "body1.0._blocks.14._se_expand.weight         True\n",
      "body1.0._blocks.14._se_expand.bias           True\n",
      "body1.0._blocks.14._project_conv.weight      True\n",
      "body1.0._blocks.14._bn2.weight               True\n",
      "body1.0._blocks.14._bn2.bias                 True\n",
      "body1.0._blocks.15._expand_conv.weight       True\n",
      "body1.0._blocks.15._bn0.weight               True\n",
      "body1.0._blocks.15._bn0.bias                 True\n",
      "body1.0._blocks.15._depthwise_conv.weight    True\n",
      "body1.0._blocks.15._bn1.weight               True\n",
      "body1.0._blocks.15._bn1.bias                 True\n",
      "body1.0._blocks.15._se_reduce.weight         True\n",
      "body1.0._blocks.15._se_reduce.bias           True\n",
      "body1.0._blocks.15._se_expand.weight         True\n",
      "body1.0._blocks.15._se_expand.bias           True\n",
      "body1.0._blocks.15._project_conv.weight      True\n",
      "body1.0._blocks.15._bn2.weight               True\n",
      "body1.0._blocks.15._bn2.bias                 True\n",
      "body1.0._blocks.16._expand_conv.weight       True\n",
      "body1.0._blocks.16._bn0.weight               True\n",
      "body1.0._blocks.16._bn0.bias                 True\n",
      "body1.0._blocks.16._depthwise_conv.weight    True\n",
      "body1.0._blocks.16._bn1.weight               True\n",
      "body1.0._blocks.16._bn1.bias                 True\n",
      "body1.0._blocks.16._se_reduce.weight         True\n",
      "body1.0._blocks.16._se_reduce.bias           True\n",
      "body1.0._blocks.16._se_expand.weight         True\n",
      "body1.0._blocks.16._se_expand.bias           True\n",
      "body1.0._blocks.16._project_conv.weight      True\n",
      "body1.0._blocks.16._bn2.weight               True\n",
      "body1.0._blocks.16._bn2.bias                 True\n",
      "body1.0._blocks.17._expand_conv.weight       True\n",
      "body1.0._blocks.17._bn0.weight               True\n",
      "body1.0._blocks.17._bn0.bias                 True\n",
      "body1.0._blocks.17._depthwise_conv.weight    True\n",
      "body1.0._blocks.17._bn1.weight               True\n",
      "body1.0._blocks.17._bn1.bias                 True\n",
      "body1.0._blocks.17._se_reduce.weight         True\n",
      "body1.0._blocks.17._se_reduce.bias           True\n",
      "body1.0._blocks.17._se_expand.weight         True\n",
      "body1.0._blocks.17._se_expand.bias           True\n",
      "body1.0._blocks.17._project_conv.weight      True\n",
      "body1.0._blocks.17._bn2.weight               True\n",
      "body1.0._blocks.17._bn2.bias                 True\n",
      "body1.0._blocks.18._expand_conv.weight       True\n",
      "body1.0._blocks.18._bn0.weight               True\n",
      "body1.0._blocks.18._bn0.bias                 True\n",
      "body1.0._blocks.18._depthwise_conv.weight    True\n",
      "body1.0._blocks.18._bn1.weight               True\n",
      "body1.0._blocks.18._bn1.bias                 True\n",
      "body1.0._blocks.18._se_reduce.weight         True\n",
      "body1.0._blocks.18._se_reduce.bias           True\n",
      "body1.0._blocks.18._se_expand.weight         True\n",
      "body1.0._blocks.18._se_expand.bias           True\n",
      "body1.0._blocks.18._project_conv.weight      True\n",
      "body1.0._blocks.18._bn2.weight               True\n",
      "body1.0._blocks.18._bn2.bias                 True\n",
      "body1.0._blocks.19._expand_conv.weight       True\n",
      "body1.0._blocks.19._bn0.weight               True\n",
      "body1.0._blocks.19._bn0.bias                 True\n",
      "body1.0._blocks.19._depthwise_conv.weight    True\n",
      "body1.0._blocks.19._bn1.weight               True\n",
      "body1.0._blocks.19._bn1.bias                 True\n",
      "body1.0._blocks.19._se_reduce.weight         True\n",
      "body1.0._blocks.19._se_reduce.bias           True\n",
      "body1.0._blocks.19._se_expand.weight         True\n",
      "body1.0._blocks.19._se_expand.bias           True\n",
      "body1.0._blocks.19._project_conv.weight      True\n",
      "body1.0._blocks.19._bn2.weight               True\n",
      "body1.0._blocks.19._bn2.bias                 True\n",
      "body1.0._blocks.20._expand_conv.weight       True\n",
      "body1.0._blocks.20._bn0.weight               True\n",
      "body1.0._blocks.20._bn0.bias                 True\n",
      "body1.0._blocks.20._depthwise_conv.weight    True\n",
      "body1.0._blocks.20._bn1.weight               True\n",
      "body1.0._blocks.20._bn1.bias                 True\n",
      "body1.0._blocks.20._se_reduce.weight         True\n",
      "body1.0._blocks.20._se_reduce.bias           True\n",
      "body1.0._blocks.20._se_expand.weight         True\n",
      "body1.0._blocks.20._se_expand.bias           True\n",
      "body1.0._blocks.20._project_conv.weight      True\n",
      "body1.0._blocks.20._bn2.weight               True\n",
      "body1.0._blocks.20._bn2.bias                 True\n",
      "body1.0._blocks.21._expand_conv.weight       True\n",
      "body1.0._blocks.21._bn0.weight               True\n",
      "body1.0._blocks.21._bn0.bias                 True\n",
      "body1.0._blocks.21._depthwise_conv.weight    True\n",
      "body1.0._blocks.21._bn1.weight               True\n",
      "body1.0._blocks.21._bn1.bias                 True\n",
      "body1.0._blocks.21._se_reduce.weight         True\n",
      "body1.0._blocks.21._se_reduce.bias           True\n",
      "body1.0._blocks.21._se_expand.weight         True\n",
      "body1.0._blocks.21._se_expand.bias           True\n",
      "body1.0._blocks.21._project_conv.weight      True\n",
      "body1.0._blocks.21._bn2.weight               True\n",
      "body1.0._blocks.21._bn2.bias                 True\n",
      "body1.0._blocks.22._expand_conv.weight       True\n",
      "body1.0._blocks.22._bn0.weight               True\n",
      "body1.0._blocks.22._bn0.bias                 True\n",
      "body1.0._blocks.22._depthwise_conv.weight    True\n",
      "body1.0._blocks.22._bn1.weight               True\n",
      "body1.0._blocks.22._bn1.bias                 True\n",
      "body1.0._blocks.22._se_reduce.weight         True\n",
      "body1.0._blocks.22._se_reduce.bias           True\n",
      "body1.0._blocks.22._se_expand.weight         True\n",
      "body1.0._blocks.22._se_expand.bias           True\n",
      "body1.0._blocks.22._project_conv.weight      True\n",
      "body1.0._blocks.22._bn2.weight               True\n",
      "body1.0._blocks.22._bn2.bias                 True\n",
      "body1.0._blocks.23._expand_conv.weight       True\n",
      "body1.0._blocks.23._bn0.weight               True\n",
      "body1.0._blocks.23._bn0.bias                 True\n",
      "body1.0._blocks.23._depthwise_conv.weight    True\n",
      "body1.0._blocks.23._bn1.weight               True\n",
      "body1.0._blocks.23._bn1.bias                 True\n",
      "body1.0._blocks.23._se_reduce.weight         True\n",
      "body1.0._blocks.23._se_reduce.bias           True\n",
      "body1.0._blocks.23._se_expand.weight         True\n",
      "body1.0._blocks.23._se_expand.bias           True\n",
      "body1.0._blocks.23._project_conv.weight      True\n",
      "body1.0._blocks.23._bn2.weight               True\n",
      "body1.0._blocks.23._bn2.bias                 True\n",
      "body1.0._blocks.24._expand_conv.weight       True\n",
      "body1.0._blocks.24._bn0.weight               True\n",
      "body1.0._blocks.24._bn0.bias                 True\n",
      "body1.0._blocks.24._depthwise_conv.weight    True\n",
      "body1.0._blocks.24._bn1.weight               True\n",
      "body1.0._blocks.24._bn1.bias                 True\n",
      "body1.0._blocks.24._se_reduce.weight         True\n",
      "body1.0._blocks.24._se_reduce.bias           True\n",
      "body1.0._blocks.24._se_expand.weight         True\n",
      "body1.0._blocks.24._se_expand.bias           True\n",
      "body1.0._blocks.24._project_conv.weight      True\n",
      "body1.0._blocks.24._bn2.weight               True\n",
      "body1.0._blocks.24._bn2.bias                 True\n",
      "body1.0._blocks.25._expand_conv.weight       True\n",
      "body1.0._blocks.25._bn0.weight               True\n",
      "body1.0._blocks.25._bn0.bias                 True\n",
      "body1.0._blocks.25._depthwise_conv.weight    True\n",
      "body1.0._blocks.25._bn1.weight               True\n",
      "body1.0._blocks.25._bn1.bias                 True\n",
      "body1.0._blocks.25._se_reduce.weight         True\n",
      "body1.0._blocks.25._se_reduce.bias           True\n",
      "body1.0._blocks.25._se_expand.weight         True\n",
      "body1.0._blocks.25._se_expand.bias           True\n",
      "body1.0._blocks.25._project_conv.weight      True\n",
      "body1.0._blocks.25._bn2.weight               True\n",
      "body1.0._blocks.25._bn2.bias                 True\n",
      "body1.0._conv_head.weight                    True\n",
      "body1.0._bn1.weight                          True\n",
      "body1.0._bn1.bias                            True\n",
      "body2.emb_ctint.weight                       True\n",
      "body2.emb_pgint.weight                       True\n",
      "body2.emb_expint.weight                      True\n",
      "head.0.weight                                True\n",
      "head.0.bias                                  True\n",
      "head.2.weight                                True\n",
      "head.2.bias                                  True\n",
      "head.4.weight                                True\n",
      "head.4.bias                                  True\n",
      "head.6.weight                                True\n",
      "head.6.bias                                  True\n",
      "head.8.weight                                True\n",
      "head.8.bias                                  True\n",
      "head.10.weight                               True\n",
      "head.10.bias                                 True\n",
      "head.12.weight                               True\n",
      "head.12.bias                                 True\n",
      "head.14.weight                               True\n",
      "head.14.bias                                 True\n",
      "adacos.W                                     True\n"
     ]
    }
   ],
   "source": [
    "check_rg() # check where trainable"
   ]
  },
  {
   "cell_type": "code",
   "execution_count": 138,
   "metadata": {
    "ExecuteTime": {
     "end_time": "2019-08-27T04:12:38.990886Z",
     "start_time": "2019-08-27T04:12:38.975426Z"
    }
   },
   "outputs": [],
   "source": [
    "#learn.summary()"
   ]
  },
  {
   "cell_type": "markdown",
   "metadata": {},
   "source": [
    "### Train #1"
   ]
  },
  {
   "cell_type": "code",
   "execution_count": 139,
   "metadata": {
    "ExecuteTime": {
     "end_time": "2019-08-27T04:12:43.370714Z",
     "start_time": "2019-08-27T04:12:43.153714Z"
    }
   },
   "outputs": [],
   "source": [
    "# train valid\n",
    "learn.load('effnet/adacos_efficientnet_b3_ct_pg_exp_Pre060e050_190823');\n",
    "\n",
    "# full train\n",
    "#learn.load('effnet/adacos_efficientnet_b3_ct_pg_exp_Pre060e050Full045_190825');"
   ]
  },
  {
   "cell_type": "code",
   "execution_count": 140,
   "metadata": {
    "ExecuteTime": {
     "end_time": "2019-08-27T04:14:12.694502Z",
     "start_time": "2019-08-27T04:12:43.656514Z"
    }
   },
   "outputs": [
    {
     "data": {
      "text/html": [
       "<table border=\"1\" class=\"dataframe\">\n",
       "  <thead>\n",
       "    <tr style=\"text-align: left;\">\n",
       "      <th>epoch</th>\n",
       "      <th>train_loss</th>\n",
       "      <th>valid_loss</th>\n",
       "      <th>accuracy</th>\n",
       "      <th>time</th>\n",
       "    </tr>\n",
       "  </thead>\n",
       "  <tbody>\n",
       "    <tr>\n",
       "      <td>0</td>\n",
       "      <td>4.658462</td>\n",
       "      <td>4.377495</td>\n",
       "      <td>0.223827</td>\n",
       "      <td>01:29</td>\n",
       "    </tr>\n",
       "  </tbody>\n",
       "</table>"
      ],
      "text/plain": [
       "<IPython.core.display.HTML object>"
      ]
     },
     "metadata": {},
     "output_type": "display_data"
    }
   ],
   "source": [
    "# start with lowest lr from previous training and verify after one epoch below\n",
    "learn.fit(1, lr=1e-4/25)"
   ]
  },
  {
   "cell_type": "code",
   "execution_count": 141,
   "metadata": {
    "ExecuteTime": {
     "end_time": "2019-08-27T04:14:40.473334Z",
     "start_time": "2019-08-27T04:14:12.695898Z"
    }
   },
   "outputs": [
    {
     "data": {
      "text/html": [],
      "text/plain": [
       "<IPython.core.display.HTML object>"
      ]
     },
     "metadata": {},
     "output_type": "display_data"
    },
    {
     "name": "stdout",
     "output_type": "stream",
     "text": [
      "LR Finder is complete, type {learner_name}.recorder.plot() to see the graph.\n",
      "Min numerical gradient: 2.75E-06\n",
      "Min loss divided by 10: 2.09E-06\n"
     ]
    },
    {
     "data": {
      "image/png": "[encoded data removed]",
      "text/plain": [
       "<Figure size 432x288 with 1 Axes>"
      ]
     },
     "metadata": {
      "needs_background": "light"
     },
     "output_type": "display_data"
    }
   ],
   "source": [
    "learn.lr_find()\n",
    "learn.recorder.plot(suggestion=True)"
   ]
  },
  {
   "cell_type": "code",
   "execution_count": 142,
   "metadata": {
    "ExecuteTime": {
     "end_time": "2019-08-27T04:15:19.785470Z",
     "start_time": "2019-08-27T04:15:19.768068Z"
    }
   },
   "outputs": [],
   "source": [
    "savem = SaveModelCallback(learn, every='improvement', monitor='accuracy', \n",
    "                          name='effnet/adacos_efficientnet_b3_ct_pg_exp_'+ct+'e001-300_190827_best')"
   ]
  },
  {
   "cell_type": "code",
   "execution_count": null,
   "metadata": {
    "ExecuteTime": {
     "start_time": "2019-08-27T04:15:24.917Z"
    }
   },
   "outputs": [
    {
     "data": {
      "text/html": [
       "\n",
       "    <div>\n",
       "        <style>\n",
       "            /* Turns off some styling */\n",
       "            progress {\n",
       "                /* gets rid of default border in Firefox and Opera. */\n",
       "                border: none;\n",
       "                /* Needs to be in here for Safari polyfill so background images work as expected. */\n",
       "                background-size: auto;\n",
       "            }\n",
       "            .progress-bar-interrupted, .progress-bar-interrupted::-webkit-progress-bar {\n",
       "                background: #F44336;\n",
       "            }\n",
       "        </style>\n",
       "      <progress value='44' class='' max='300', style='width:300px; height:20px; vertical-align: middle;'></progress>\n",
       "      14.67% [44/300 1:05:05<6:18:41]\n",
       "    </div>\n",
       "    \n",
       "<table border=\"1\" class=\"dataframe\">\n",
       "  <thead>\n",
       "    <tr style=\"text-align: left;\">\n",
       "      <th>epoch</th>\n",
       "      <th>train_loss</th>\n",
       "      <th>valid_loss</th>\n",
       "      <th>accuracy</th>\n",
       "      <th>time</th>\n",
       "    </tr>\n",
       "  </thead>\n",
       "  <tbody>\n",
       "    <tr>\n",
       "      <td>0</td>\n",
       "      <td>4.460146</td>\n",
       "      <td>4.456264</td>\n",
       "      <td>0.221570</td>\n",
       "      <td>01:27</td>\n",
       "    </tr>\n",
       "    <tr>\n",
       "      <td>1</td>\n",
       "      <td>4.360840</td>\n",
       "      <td>4.319549</td>\n",
       "      <td>0.236011</td>\n",
       "      <td>01:27</td>\n",
       "    </tr>\n",
       "    <tr>\n",
       "      <td>2</td>\n",
       "      <td>4.216764</td>\n",
       "      <td>4.163833</td>\n",
       "      <td>0.245939</td>\n",
       "      <td>01:28</td>\n",
       "    </tr>\n",
       "    <tr>\n",
       "      <td>3</td>\n",
       "      <td>4.071840</td>\n",
       "      <td>4.069456</td>\n",
       "      <td>0.256318</td>\n",
       "      <td>01:28</td>\n",
       "    </tr>\n",
       "    <tr>\n",
       "      <td>4</td>\n",
       "      <td>3.906024</td>\n",
       "      <td>3.943191</td>\n",
       "      <td>0.269856</td>\n",
       "      <td>01:28</td>\n",
       "    </tr>\n",
       "    <tr>\n",
       "      <td>5</td>\n",
       "      <td>3.876370</td>\n",
       "      <td>3.886701</td>\n",
       "      <td>0.275271</td>\n",
       "      <td>01:28</td>\n",
       "    </tr>\n",
       "    <tr>\n",
       "      <td>6</td>\n",
       "      <td>3.708532</td>\n",
       "      <td>3.737628</td>\n",
       "      <td>0.294675</td>\n",
       "      <td>01:28</td>\n",
       "    </tr>\n",
       "    <tr>\n",
       "      <td>7</td>\n",
       "      <td>3.581984</td>\n",
       "      <td>3.642148</td>\n",
       "      <td>0.310469</td>\n",
       "      <td>01:29</td>\n",
       "    </tr>\n",
       "    <tr>\n",
       "      <td>8</td>\n",
       "      <td>3.465467</td>\n",
       "      <td>3.522501</td>\n",
       "      <td>0.323556</td>\n",
       "      <td>01:28</td>\n",
       "    </tr>\n",
       "    <tr>\n",
       "      <td>9</td>\n",
       "      <td>3.316304</td>\n",
       "      <td>3.446888</td>\n",
       "      <td>0.340253</td>\n",
       "      <td>01:29</td>\n",
       "    </tr>\n",
       "    <tr>\n",
       "      <td>10</td>\n",
       "      <td>3.293460</td>\n",
       "      <td>3.340751</td>\n",
       "      <td>0.351986</td>\n",
       "      <td>01:28</td>\n",
       "    </tr>\n",
       "    <tr>\n",
       "      <td>11</td>\n",
       "      <td>3.166995</td>\n",
       "      <td>3.250777</td>\n",
       "      <td>0.366426</td>\n",
       "      <td>01:28</td>\n",
       "    </tr>\n",
       "    <tr>\n",
       "      <td>12</td>\n",
       "      <td>3.018238</td>\n",
       "      <td>3.141528</td>\n",
       "      <td>0.386282</td>\n",
       "      <td>01:28</td>\n",
       "    </tr>\n",
       "    <tr>\n",
       "      <td>13</td>\n",
       "      <td>2.966795</td>\n",
       "      <td>3.019569</td>\n",
       "      <td>0.401625</td>\n",
       "      <td>01:29</td>\n",
       "    </tr>\n",
       "    <tr>\n",
       "      <td>14</td>\n",
       "      <td>2.725549</td>\n",
       "      <td>2.911827</td>\n",
       "      <td>0.413357</td>\n",
       "      <td>01:28</td>\n",
       "    </tr>\n",
       "    <tr>\n",
       "      <td>15</td>\n",
       "      <td>2.752471</td>\n",
       "      <td>2.864777</td>\n",
       "      <td>0.417419</td>\n",
       "      <td>01:28</td>\n",
       "    </tr>\n",
       "    <tr>\n",
       "      <td>16</td>\n",
       "      <td>2.663785</td>\n",
       "      <td>2.799865</td>\n",
       "      <td>0.432762</td>\n",
       "      <td>01:28</td>\n",
       "    </tr>\n",
       "    <tr>\n",
       "      <td>17</td>\n",
       "      <td>2.565700</td>\n",
       "      <td>2.700877</td>\n",
       "      <td>0.452617</td>\n",
       "      <td>01:28</td>\n",
       "    </tr>\n",
       "    <tr>\n",
       "      <td>18</td>\n",
       "      <td>2.488394</td>\n",
       "      <td>2.637311</td>\n",
       "      <td>0.465253</td>\n",
       "      <td>01:28</td>\n",
       "    </tr>\n",
       "    <tr>\n",
       "      <td>19</td>\n",
       "      <td>2.415343</td>\n",
       "      <td>2.605898</td>\n",
       "      <td>0.470217</td>\n",
       "      <td>01:29</td>\n",
       "    </tr>\n",
       "    <tr>\n",
       "      <td>20</td>\n",
       "      <td>2.360783</td>\n",
       "      <td>2.576149</td>\n",
       "      <td>0.472473</td>\n",
       "      <td>01:28</td>\n",
       "    </tr>\n",
       "    <tr>\n",
       "      <td>21</td>\n",
       "      <td>2.292274</td>\n",
       "      <td>2.509120</td>\n",
       "      <td>0.485108</td>\n",
       "      <td>01:29</td>\n",
       "    </tr>\n",
       "    <tr>\n",
       "      <td>22</td>\n",
       "      <td>2.247426</td>\n",
       "      <td>2.490395</td>\n",
       "      <td>0.493231</td>\n",
       "      <td>01:28</td>\n",
       "    </tr>\n",
       "    <tr>\n",
       "      <td>23</td>\n",
       "      <td>2.269696</td>\n",
       "      <td>2.469889</td>\n",
       "      <td>0.495036</td>\n",
       "      <td>01:28</td>\n",
       "    </tr>\n",
       "    <tr>\n",
       "      <td>24</td>\n",
       "      <td>2.159840</td>\n",
       "      <td>2.485623</td>\n",
       "      <td>0.495939</td>\n",
       "      <td>01:28</td>\n",
       "    </tr>\n",
       "    <tr>\n",
       "      <td>25</td>\n",
       "      <td>2.164225</td>\n",
       "      <td>2.435673</td>\n",
       "      <td>0.504513</td>\n",
       "      <td>01:28</td>\n",
       "    </tr>\n",
       "    <tr>\n",
       "      <td>26</td>\n",
       "      <td>2.094826</td>\n",
       "      <td>2.393495</td>\n",
       "      <td>0.514892</td>\n",
       "      <td>01:28</td>\n",
       "    </tr>\n",
       "    <tr>\n",
       "      <td>27</td>\n",
       "      <td>2.112564</td>\n",
       "      <td>2.392423</td>\n",
       "      <td>0.513538</td>\n",
       "      <td>01:29</td>\n",
       "    </tr>\n",
       "    <tr>\n",
       "      <td>28</td>\n",
       "      <td>2.006032</td>\n",
       "      <td>2.381731</td>\n",
       "      <td>0.516697</td>\n",
       "      <td>01:28</td>\n",
       "    </tr>\n",
       "    <tr>\n",
       "      <td>29</td>\n",
       "      <td>1.998289</td>\n",
       "      <td>2.407601</td>\n",
       "      <td>0.516697</td>\n",
       "      <td>01:28</td>\n",
       "    </tr>\n",
       "    <tr>\n",
       "      <td>30</td>\n",
       "      <td>1.954581</td>\n",
       "      <td>2.395005</td>\n",
       "      <td>0.516697</td>\n",
       "      <td>01:28</td>\n",
       "    </tr>\n",
       "    <tr>\n",
       "      <td>31</td>\n",
       "      <td>1.916077</td>\n",
       "      <td>2.375846</td>\n",
       "      <td>0.515343</td>\n",
       "      <td>01:28</td>\n",
       "    </tr>\n",
       "    <tr>\n",
       "      <td>32</td>\n",
       "      <td>1.886129</td>\n",
       "      <td>2.330566</td>\n",
       "      <td>0.525722</td>\n",
       "      <td>01:28</td>\n",
       "    </tr>\n",
       "    <tr>\n",
       "      <td>33</td>\n",
       "      <td>1.931871</td>\n",
       "      <td>2.359434</td>\n",
       "      <td>0.520307</td>\n",
       "      <td>01:28</td>\n",
       "    </tr>\n",
       "    <tr>\n",
       "      <td>34</td>\n",
       "      <td>1.823812</td>\n",
       "      <td>2.402914</td>\n",
       "      <td>0.510830</td>\n",
       "      <td>01:28</td>\n",
       "    </tr>\n",
       "    <tr>\n",
       "      <td>35</td>\n",
       "      <td>1.807152</td>\n",
       "      <td>2.351090</td>\n",
       "      <td>0.522563</td>\n",
       "      <td>01:28</td>\n",
       "    </tr>\n",
       "    <tr>\n",
       "      <td>36</td>\n",
       "      <td>1.784917</td>\n",
       "      <td>2.405092</td>\n",
       "      <td>0.515343</td>\n",
       "      <td>01:28</td>\n",
       "    </tr>\n",
       "    <tr>\n",
       "      <td>37</td>\n",
       "      <td>1.882559</td>\n",
       "      <td>2.368371</td>\n",
       "      <td>0.519856</td>\n",
       "      <td>01:28</td>\n",
       "    </tr>\n",
       "    <tr>\n",
       "      <td>38</td>\n",
       "      <td>1.761058</td>\n",
       "      <td>2.284261</td>\n",
       "      <td>0.537906</td>\n",
       "      <td>01:28</td>\n",
       "    </tr>\n",
       "    <tr>\n",
       "      <td>39</td>\n",
       "      <td>1.791436</td>\n",
       "      <td>2.291854</td>\n",
       "      <td>0.530235</td>\n",
       "      <td>01:28</td>\n",
       "    </tr>\n",
       "    <tr>\n",
       "      <td>40</td>\n",
       "      <td>1.821315</td>\n",
       "      <td>2.325345</td>\n",
       "      <td>0.529332</td>\n",
       "      <td>01:28</td>\n",
       "    </tr>\n",
       "    <tr>\n",
       "      <td>41</td>\n",
       "      <td>1.803125</td>\n",
       "      <td>2.253016</td>\n",
       "      <td>0.537455</td>\n",
       "      <td>01:28</td>\n",
       "    </tr>\n",
       "    <tr>\n",
       "      <td>42</td>\n",
       "      <td>1.725977</td>\n",
       "      <td>2.252313</td>\n",
       "      <td>0.543773</td>\n",
       "      <td>01:28</td>\n",
       "    </tr>\n",
       "    <tr>\n",
       "      <td>43</td>\n",
       "      <td>1.744689</td>\n",
       "      <td>2.332032</td>\n",
       "      <td>0.532491</td>\n",
       "      <td>01:29</td>\n",
       "    </tr>\n",
       "  </tbody>\n",
       "</table><p>\n",
       "\n",
       "    <div>\n",
       "        <style>\n",
       "            /* Turns off some styling */\n",
       "            progress {\n",
       "                /* gets rid of default border in Firefox and Opera. */\n",
       "                border: none;\n",
       "                /* Needs to be in here for Safari polyfill so background images work as expected. */\n",
       "                background-size: auto;\n",
       "            }\n",
       "            .progress-bar-interrupted, .progress-bar-interrupted::-webkit-progress-bar {\n",
       "                background: #F44336;\n",
       "            }\n",
       "        </style>\n",
       "      <progress value='7' class='' max='139', style='width:300px; height:20px; vertical-align: middle;'></progress>\n",
       "      5.04% [7/139 00:01<00:27]\n",
       "    </div>\n",
       "    "
      ],
      "text/plain": [
       "<IPython.core.display.HTML object>"
      ]
     },
     "metadata": {},
     "output_type": "display_data"
    },
    {
     "name": "stdout",
     "output_type": "stream",
     "text": [
      "Better model found at epoch 0 with accuracy value: 0.22157040238380432.\n",
      "Better model found at epoch 1 with accuracy value: 0.2360108345746994.\n",
      "Better model found at epoch 2 with accuracy value: 0.24593862891197205.\n",
      "Better model found at epoch 3 with accuracy value: 0.256317675113678.\n",
      "Better model found at epoch 4 with accuracy value: 0.2698555886745453.\n",
      "Better model found at epoch 5 with accuracy value: 0.2752707600593567.\n",
      "Better model found at epoch 6 with accuracy value: 0.2946750819683075.\n",
      "Better model found at epoch 7 with accuracy value: 0.31046929955482483.\n",
      "Better model found at epoch 8 with accuracy value: 0.32355594635009766.\n",
      "Better model found at epoch 9 with accuracy value: 0.34025269746780396.\n",
      "Better model found at epoch 10 with accuracy value: 0.3519855737686157.\n",
      "Better model found at epoch 11 with accuracy value: 0.3664259910583496.\n",
      "Better model found at epoch 12 with accuracy value: 0.3862815797328949.\n",
      "Better model found at epoch 13 with accuracy value: 0.40162456035614014.\n",
      "Better model found at epoch 14 with accuracy value: 0.4133574068546295.\n",
      "Better model found at epoch 15 with accuracy value: 0.41741877794265747.\n",
      "Better model found at epoch 16 with accuracy value: 0.4327617287635803.\n",
      "Better model found at epoch 17 with accuracy value: 0.4526173174381256.\n",
      "Better model found at epoch 18 with accuracy value: 0.46525269746780396.\n",
      "Better model found at epoch 19 with accuracy value: 0.4702166020870209.\n",
      "Better model found at epoch 20 with accuracy value: 0.4724729359149933.\n",
      "Better model found at epoch 21 with accuracy value: 0.48510831594467163.\n",
      "Better model found at epoch 22 with accuracy value: 0.49323105812072754.\n",
      "Better model found at epoch 23 with accuracy value: 0.4950360953807831.\n",
      "Better model found at epoch 24 with accuracy value: 0.49593862891197205.\n",
      "Better model found at epoch 25 with accuracy value: 0.5045126080513.\n",
      "Better model found at epoch 26 with accuracy value: 0.5148916840553284.\n",
      "Better model found at epoch 28 with accuracy value: 0.5166967511177063.\n",
      "Better model found at epoch 32 with accuracy value: 0.5257220268249512.\n",
      "Better model found at epoch 38 with accuracy value: 0.5379061102867126.\n",
      "Better model found at epoch 42 with accuracy value: 0.5437725782394409.\n"
     ]
    }
   ],
   "source": [
    "#learn.fit_one_cycle(199, max_lr=1e-4, pct_start=0.2, final_div=1e3, callbacks=[savem])\n",
    "learn.fit_one_cycle(300, max_lr=1e-4, callbacks=[savem])"
   ]
  },
  {
   "cell_type": "code",
   "execution_count": null,
   "metadata": {
    "ExecuteTime": {
     "start_time": "2019-08-27T04:15:28.584Z"
    }
   },
   "outputs": [],
   "source": [
    "learn.recorder.plot_losses()"
   ]
  },
  {
   "cell_type": "code",
   "execution_count": null,
   "metadata": {
    "ExecuteTime": {
     "start_time": "2019-08-27T04:15:29.316Z"
    }
   },
   "outputs": [],
   "source": [
    "learn.recorder.plot_metrics()"
   ]
  },
  {
   "cell_type": "code",
   "execution_count": null,
   "metadata": {
    "ExecuteTime": {
     "start_time": "2019-08-27T04:15:30.195Z"
    }
   },
   "outputs": [],
   "source": [
    "learn.recorder.plot_lr(show_moms=True)"
   ]
  },
  {
   "cell_type": "code",
   "execution_count": null,
   "metadata": {
    "ExecuteTime": {
     "start_time": "2019-08-27T04:15:44.547Z"
    }
   },
   "outputs": [],
   "source": [
    "learn.save('effnet/adacos_efficientnet_b3_ct_pg_exp_'+ct+'e300_190827')"
   ]
  },
  {
   "cell_type": "code",
   "execution_count": null,
   "metadata": {
    "ExecuteTime": {
     "start_time": "2019-08-27T04:15:44.886Z"
    }
   },
   "outputs": [],
   "source": [
    "learn.load('effnet/adacos_efficientnet_b3_ct_pg_exp_'+ct+'e300_190827');"
   ]
  },
  {
   "cell_type": "code",
   "execution_count": null,
   "metadata": {
    "ExecuteTime": {
     "start_time": "2019-08-27T04:15:45.306Z"
    }
   },
   "outputs": [],
   "source": [
    "learn.lr_find()\n",
    "learn.recorder.plot(suggestion=True)"
   ]
  },
  {
   "cell_type": "markdown",
   "metadata": {
    "heading_collapsed": true
   },
   "source": [
    "### Train #2"
   ]
  },
  {
   "cell_type": "code",
   "execution_count": null,
   "metadata": {
    "hidden": true
   },
   "outputs": [],
   "source": [
    "learn.load('effnet/adacos_efficientnet_b3_ct_pg_exp_Pre060e050_190823');"
   ]
  },
  {
   "cell_type": "code",
   "execution_count": null,
   "metadata": {
    "hidden": true
   },
   "outputs": [],
   "source": [
    "learn.lr_find()\n",
    "learn.recorder.plot(suggestion=True)"
   ]
  },
  {
   "cell_type": "code",
   "execution_count": null,
   "metadata": {
    "ExecuteTime": {
     "end_time": "2019-08-23T04:59:37.662581Z",
     "start_time": "2019-08-23T04:59:37.645637Z"
    },
    "hidden": true
   },
   "outputs": [],
   "source": [
    "savem = SaveModelCallback(learn, every='improvement', monitor='accuracy', \n",
    "                          name='effnet/adacos_efficientnet_b3_ct_pg_exp_'+ct+'e030_best')"
   ]
  },
  {
   "cell_type": "code",
   "execution_count": null,
   "metadata": {
    "ExecuteTime": {
     "end_time": "2019-08-23T16:14:19.432358Z",
     "start_time": "2019-08-23T04:59:39.348933Z"
    },
    "hidden": true
   },
   "outputs": [],
   "source": [
    "#learn.fit_one_cycle(30, max_lr=1e-4, pct_start=0.2, final_div=1e3, callbacks=[savem])\n",
    "learn.fit_one_cycle(30, max_lr=1e-4, callbacks=[savem])"
   ]
  },
  {
   "cell_type": "code",
   "execution_count": null,
   "metadata": {
    "ExecuteTime": {
     "end_time": "2019-08-23T16:18:32.789470Z",
     "start_time": "2019-08-23T16:18:32.107231Z"
    },
    "hidden": true
   },
   "outputs": [],
   "source": [
    "learn.recorder.plot_losses()"
   ]
  },
  {
   "cell_type": "code",
   "execution_count": null,
   "metadata": {
    "ExecuteTime": {
     "end_time": "2019-08-23T16:18:33.380896Z",
     "start_time": "2019-08-23T16:18:33.175123Z"
    },
    "hidden": true
   },
   "outputs": [],
   "source": [
    "learn.recorder.plot_metrics()"
   ]
  },
  {
   "cell_type": "code",
   "execution_count": null,
   "metadata": {
    "ExecuteTime": {
     "end_time": "2019-08-23T16:18:37.386123Z",
     "start_time": "2019-08-23T16:18:37.095125Z"
    },
    "hidden": true
   },
   "outputs": [],
   "source": [
    "learn.recorder.plot_lr(show_moms=True)"
   ]
  },
  {
   "cell_type": "code",
   "execution_count": null,
   "metadata": {
    "hidden": true
   },
   "outputs": [],
   "source": [
    "learn.save('effnet/adacos_efficientnet_b3_ct_pg_exp_'+ct+'e030_best')"
   ]
  },
  {
   "cell_type": "code",
   "execution_count": null,
   "metadata": {
    "ExecuteTime": {
     "end_time": "2019-08-23T16:22:54.843334Z",
     "start_time": "2019-08-23T16:22:54.657830Z"
    },
    "hidden": true
   },
   "outputs": [],
   "source": [
    "learn.load('effnet/adacos_efficientnet_b3_ct_pg_exp_'+ct+'e030_best');"
   ]
  },
  {
   "cell_type": "code",
   "execution_count": null,
   "metadata": {
    "ExecuteTime": {
     "end_time": "2019-08-23T16:23:23.336657Z",
     "start_time": "2019-08-23T16:22:55.710182Z"
    },
    "hidden": true
   },
   "outputs": [],
   "source": [
    "learn.lr_find()\n",
    "learn.recorder.plot(suggestion=True)"
   ]
  },
  {
   "cell_type": "markdown",
   "metadata": {
    "heading_collapsed": true
   },
   "source": [
    "### Train #3 ReduceLR"
   ]
  },
  {
   "cell_type": "code",
   "execution_count": null,
   "metadata": {
    "ExecuteTime": {
     "end_time": "2019-08-24T18:27:06.859769Z",
     "start_time": "2019-08-24T18:27:06.620094Z"
    },
    "hidden": true
   },
   "outputs": [],
   "source": [
    "learn.load('effnet/adacos_efficientnet_b3_ct_pg_exp_Pre060e050_190823');"
   ]
  },
  {
   "cell_type": "code",
   "execution_count": null,
   "metadata": {
    "ExecuteTime": {
     "end_time": "2019-08-24T18:27:26.099088Z",
     "start_time": "2019-08-24T18:27:26.085731Z"
    },
    "hidden": true
   },
   "outputs": [],
   "source": [
    "redlr = ReduceLROnPlateauCallback(learn, monitor='accuracy', patience=4)\n",
    "savem = SaveModelCallback(learn, every='improvement', monitor='accuracy', \n",
    "                          name='effnet/adacos_efficientnet_b3_ct_pg_exp_Pre060e050RLR000-035_190824_best')"
   ]
  },
  {
   "cell_type": "code",
   "execution_count": null,
   "metadata": {
    "ExecuteTime": {
     "start_time": "2019-08-24T18:32:11.141Z"
    },
    "hidden": true
   },
   "outputs": [],
   "source": [
    "learn.fit(35, lr=1e-5, callbacks=[savem, redlr])"
   ]
  },
  {
   "cell_type": "code",
   "execution_count": null,
   "metadata": {
    "ExecuteTime": {
     "start_time": "2019-08-24T18:32:15.176Z"
    },
    "hidden": true
   },
   "outputs": [],
   "source": [
    "learn.recorder.plot_losses()"
   ]
  },
  {
   "cell_type": "code",
   "execution_count": null,
   "metadata": {
    "ExecuteTime": {
     "start_time": "2019-08-24T18:32:16.842Z"
    },
    "hidden": true
   },
   "outputs": [],
   "source": [
    "learn.recorder.plot_metrics()"
   ]
  },
  {
   "cell_type": "code",
   "execution_count": null,
   "metadata": {
    "ExecuteTime": {
     "start_time": "2019-08-24T18:32:18.084Z"
    },
    "hidden": true
   },
   "outputs": [],
   "source": [
    "learn.recorder.plot_lr(show_moms=True)"
   ]
  },
  {
   "cell_type": "code",
   "execution_count": null,
   "metadata": {
    "ExecuteTime": {
     "start_time": "2019-08-24T18:32:19.014Z"
    },
    "hidden": true
   },
   "outputs": [],
   "source": [
    "learn.save('effnet/adacos_efficientnet_b3_ct_pg_exp_Pre060e050RLR035_190824')"
   ]
  },
  {
   "cell_type": "code",
   "execution_count": null,
   "metadata": {
    "ExecuteTime": {
     "start_time": "2019-08-24T18:32:19.762Z"
    },
    "hidden": true
   },
   "outputs": [],
   "source": [
    "learn.load('effnet/adacos_efficientnet_b3_ct_pg_exp_Pre060e050RLR035_190824');"
   ]
  },
  {
   "cell_type": "code",
   "execution_count": null,
   "metadata": {
    "ExecuteTime": {
     "start_time": "2019-08-24T18:32:21.974Z"
    },
    "hidden": true
   },
   "outputs": [],
   "source": [
    "learn.lr_find()\n",
    "learn.recorder.plot(suggestion=True)"
   ]
  },
  {
   "cell_type": "markdown",
   "metadata": {},
   "source": [
    "# Submission"
   ]
  },
  {
   "cell_type": "markdown",
   "metadata": {
    "heading_collapsed": true
   },
   "source": [
    "## Classifcation"
   ]
  },
  {
   "cell_type": "code",
   "execution_count": null,
   "metadata": {
    "ExecuteTime": {
     "end_time": "2019-07-29T17:19:05.357210Z",
     "start_time": "2019-07-29T17:19:05.097795Z"
    },
    "hidden": true
   },
   "outputs": [],
   "source": [
    "learn.load('resnet50/adacos_se_xresnet50c_val-split-v2_128e040-256e106CMe110_20190729');"
   ]
  },
  {
   "cell_type": "code",
   "execution_count": null,
   "metadata": {
    "ExecuteTime": {
     "end_time": "2019-08-05T15:53:15.569726Z",
     "start_time": "2019-08-05T15:49:04.679301Z"
    },
    "hidden": true
   },
   "outputs": [],
   "source": [
    "# get prediction of test dataset\n",
    "preds, _ = learn.get_preds(ds_type=DatasetType.Test)"
   ]
  },
  {
   "cell_type": "code",
   "execution_count": null,
   "metadata": {
    "ExecuteTime": {
     "end_time": "2019-08-05T15:53:15.588091Z",
     "start_time": "2019-08-05T15:53:15.570964Z"
    },
    "hidden": true
   },
   "outputs": [],
   "source": [
    "# check length\n",
    "len(preds)"
   ]
  },
  {
   "cell_type": "code",
   "execution_count": null,
   "metadata": {
    "ExecuteTime": {
     "end_time": "2019-08-05T15:53:15.606096Z",
     "start_time": "2019-08-05T15:53:15.589216Z"
    },
    "hidden": true
   },
   "outputs": [],
   "source": [
    "# get the categories\n",
    "preds_cat = preds.argmax(dim=-1)"
   ]
  },
  {
   "cell_type": "code",
   "execution_count": null,
   "metadata": {
    "ExecuteTime": {
     "end_time": "2019-08-05T15:53:15.617278Z",
     "start_time": "2019-08-05T15:53:15.607162Z"
    },
    "hidden": true
   },
   "outputs": [],
   "source": [
    "# get the names\n",
    "preds_names = learn.data.test_ds.x.items"
   ]
  },
  {
   "cell_type": "code",
   "execution_count": null,
   "metadata": {
    "ExecuteTime": {
     "end_time": "2019-08-05T15:53:15.662341Z",
     "start_time": "2019-08-05T15:53:15.618160Z"
    },
    "hidden": true
   },
   "outputs": [],
   "source": [
    "# without site\n",
    "#preds_names = [x.split('/')[1]+'_'+x.split('/')[2][-1]+'_'+x.split('/')[3][:3] for x in preds_names]\n",
    "\n",
    "# with site\n",
    "preds_names = [x.split('/')[1]+'_'+x.split('/')[2][-1]+'_'+x.split('/')[3] for x in preds_names]"
   ]
  },
  {
   "cell_type": "code",
   "execution_count": null,
   "metadata": {
    "ExecuteTime": {
     "end_time": "2019-08-05T15:53:15.679656Z",
     "start_time": "2019-08-05T15:53:15.663311Z"
    },
    "hidden": true
   },
   "outputs": [],
   "source": [
    "df_preds = pd.DataFrame({'id_code_site': preds_names, 'sirna': preds_cat})"
   ]
  },
  {
   "cell_type": "code",
   "execution_count": null,
   "metadata": {
    "ExecuteTime": {
     "end_time": "2019-08-05T15:53:15.700072Z",
     "start_time": "2019-08-05T15:53:15.680652Z"
    },
    "hidden": true
   },
   "outputs": [],
   "source": [
    "# get id_code without site\n",
    "df_preds['id_code'] = df_preds['id_code_site'].apply(lambda x: x[:-3])"
   ]
  },
  {
   "cell_type": "code",
   "execution_count": null,
   "metadata": {
    "ExecuteTime": {
     "end_time": "2019-08-05T15:53:18.270083Z",
     "start_time": "2019-08-05T15:53:15.701461Z"
    },
    "hidden": true
   },
   "outputs": [],
   "source": [
    "# get row indices with the same/not the same the prediction for both sites\n",
    "idx = [] # indices with the same prediction\n",
    "idx_notsame = [] # indices with not the same prediction\n",
    "for i, r in enumerate(df_preds.sort_values('id_code').iterrows()):\n",
    "    if i % 2:\n",
    "        # distance from row 2 is \n",
    "        if pred == r[1]['sirna']:\n",
    "            idx.append(r[0])\n",
    "        else:\n",
    "            #idx.append(r[0]) # always append idx until we come up with something better\n",
    "            idx.append(idx_row_before)\n",
    "            idx_notsame.append(idx_row_before) # get the first rows of the pairs that are not the same\n",
    "    else:\n",
    "        # save dist from row 1 for comparison in next iteration\n",
    "        pred = r[1]['sirna']\n",
    "        idx_row_before = r[0]"
   ]
  },
  {
   "cell_type": "code",
   "execution_count": null,
   "metadata": {
    "ExecuteTime": {
     "end_time": "2019-08-05T15:53:18.281892Z",
     "start_time": "2019-08-05T15:53:18.271104Z"
    },
    "hidden": true
   },
   "outputs": [],
   "source": [
    "len(idx), len(idx_notsame)"
   ]
  },
  {
   "cell_type": "code",
   "execution_count": null,
   "metadata": {
    "ExecuteTime": {
     "end_time": "2019-08-05T15:53:18.293331Z",
     "start_time": "2019-08-05T15:53:18.282869Z"
    },
    "hidden": true
   },
   "outputs": [],
   "source": [
    "idx[:5]"
   ]
  },
  {
   "cell_type": "code",
   "execution_count": null,
   "metadata": {
    "ExecuteTime": {
     "end_time": "2019-08-05T15:53:18.340274Z",
     "start_time": "2019-08-05T15:53:18.294170Z"
    },
    "hidden": true
   },
   "outputs": [],
   "source": [
    "df_preds.sort_values('id_code').head(10)"
   ]
  },
  {
   "cell_type": "code",
   "execution_count": null,
   "metadata": {
    "ExecuteTime": {
     "end_time": "2019-08-05T15:53:18.350973Z",
     "start_time": "2019-08-05T15:53:18.341152Z"
    },
    "hidden": true
   },
   "outputs": [],
   "source": [
    "#df_preds.loc[idx,['id_code','sirna']]"
   ]
  },
  {
   "cell_type": "code",
   "execution_count": null,
   "metadata": {
    "hidden": true
   },
   "outputs": [],
   "source": []
  },
  {
   "cell_type": "code",
   "execution_count": null,
   "metadata": {
    "ExecuteTime": {
     "end_time": "2019-08-05T15:53:18.361693Z",
     "start_time": "2019-08-05T15:53:18.351798Z"
    },
    "hidden": true
   },
   "outputs": [],
   "source": [
    "# 'effnet/adacos_efficientnet_b3_e080CM112_190805'\n",
    "model = 'metriclearn_efficientnet_b3_e080CM112_190805'"
   ]
  },
  {
   "cell_type": "code",
   "execution_count": null,
   "metadata": {
    "ExecuteTime": {
     "end_time": "2019-08-05T15:53:18.452880Z",
     "start_time": "2019-08-05T15:53:18.362621Z"
    },
    "hidden": true
   },
   "outputs": [],
   "source": [
    "df_preds.loc[idx,['id_code','sirna']].to_csv('sub/'+model+'.csv.gz', index=False, compression='gzip')"
   ]
  },
  {
   "cell_type": "code",
   "execution_count": null,
   "metadata": {
    "ExecuteTime": {
     "end_time": "2019-08-05T15:53:24.296150Z",
     "start_time": "2019-08-05T15:53:18.453852Z"
    },
    "hidden": true
   },
   "outputs": [],
   "source": [
    "!kaggle competitions submit -c recursion-cellular-image-classification -f sub/{model}.csv.gz -m \"{model}\"\n"
   ]
  },
  {
   "cell_type": "markdown",
   "metadata": {},
   "source": [
    "## Cosinus similarity"
   ]
  },
  {
   "cell_type": "markdown",
   "metadata": {},
   "source": [
    "### Full single features"
   ]
  },
  {
   "cell_type": "code",
   "execution_count": null,
   "metadata": {},
   "outputs": [],
   "source": [
    "# https://github.com/ducha-aiki/whale-identification-2018/blob/master/reproduce_problems.ipynb\n",
    "# And for test-time augmentation I used following random solution: switch train and val transforms"
   ]
  },
  {
   "cell_type": "code",
   "execution_count": 159,
   "metadata": {
    "ExecuteTime": {
     "end_time": "2019-08-26T16:48:24.931742Z",
     "start_time": "2019-08-26T16:48:24.904270Z"
    }
   },
   "outputs": [],
   "source": [
    "# extended tfms\n",
    "tfms = get_transforms(do_flip=True, flip_vert=True, \n",
    "                      max_rotate=90.0, max_zoom=1.1, \n",
    "                      max_lighting=0.2, max_warp=0.2, \n",
    "                      p_affine=0.75, p_lighting=0.75, \n",
    "                      xtra_tfms=[color_augmentation()])\n",
    "\n",
    "# crop_pad: https://forums.fast.ai/t/misc-issues/35386/10"
   ]
  },
  {
   "cell_type": "code",
   "execution_count": 160,
   "metadata": {
    "ExecuteTime": {
     "end_time": "2019-08-26T16:48:25.131014Z",
     "start_time": "2019-08-26T16:48:25.115098Z"
    }
   },
   "outputs": [],
   "source": [
    "# extended tfms w/o color_augmentation !!!\n",
    "#tfms = get_transforms(do_flip=True, flip_vert=True, \n",
    "#                      max_rotate=90.0, max_zoom=1.1, \n",
    "#                      max_lighting=0.2, max_warp=0.2, \n",
    "#                      p_affine=0.75, p_lighting=0.75)"
   ]
  },
  {
   "cell_type": "code",
   "execution_count": 161,
   "metadata": {
    "ExecuteTime": {
     "end_time": "2019-08-26T16:48:25.403056Z",
     "start_time": "2019-08-26T16:48:25.389422Z"
    }
   },
   "outputs": [],
   "source": [
    "# change \"crop_pad\" from get_transforms to \"crop\"\n",
    "# CENTER for FIXED cropping\n",
    "tfms[0][0] = crop(size=sz, row_pct=[0.5,0.5], col_pct=[0.5,0.5])\n",
    "tfms[1][0] = crop(size=sz, row_pct=[0.5,0.5], col_pct=[0.5,0.5])"
   ]
  },
  {
   "cell_type": "code",
   "execution_count": 162,
   "metadata": {
    "ExecuteTime": {
     "end_time": "2019-08-26T16:48:25.609850Z",
     "start_time": "2019-08-26T16:48:25.591857Z"
    }
   },
   "outputs": [
    {
     "data": {
      "text/plain": [
       "([0.5, 0.5], [0.5, 0.5])"
      ]
     },
     "execution_count": 162,
     "metadata": {},
     "output_type": "execute_result"
    }
   ],
   "source": [
    "# train crop\n",
    "tfms[0][0].kwargs['row_pct'], tfms[0][0].kwargs['col_pct']"
   ]
  },
  {
   "cell_type": "code",
   "execution_count": 163,
   "metadata": {
    "ExecuteTime": {
     "end_time": "2019-08-26T16:48:25.995189Z",
     "start_time": "2019-08-26T16:48:25.979496Z"
    }
   },
   "outputs": [
    {
     "data": {
      "text/plain": [
       "([0.5, 0.5], [0.5, 0.5])"
      ]
     },
     "execution_count": 163,
     "metadata": {},
     "output_type": "execute_result"
    }
   ],
   "source": [
    "# valid crop\n",
    "tfms[1][0].kwargs['row_pct'], tfms[1][0].kwargs['col_pct']"
   ]
  },
  {
   "cell_type": "code",
   "execution_count": 164,
   "metadata": {
    "ExecuteTime": {
     "end_time": "2019-08-26T16:48:27.430070Z",
     "start_time": "2019-08-26T16:48:27.413323Z"
    }
   },
   "outputs": [],
   "source": [
    "#sz, bs = 300, 8*2*2 # 3436MiB /  7952MiB\n",
    "#sz, bs = 300, 8*8 # 6884MiB /  7952MiB\n",
    "sz, bs = 300, 8*11 # 7938MiB /  7952MiB"
   ]
  },
  {
   "cell_type": "code",
   "execution_count": 165,
   "metadata": {
    "ExecuteTime": {
     "end_time": "2019-08-26T16:48:32.491407Z",
     "start_time": "2019-08-26T16:48:30.125768Z"
    }
   },
   "outputs": [],
   "source": [
    "# VALID SPLIT (incl. tfms)\n",
    "data = (ImageList6Dct.from_df(df_train[df_train['celltype'] == ct], path='train')\n",
    "        .split_from_df(col=-2) # !!!\n",
    "        .label_from_df(cols=-4)\n",
    "        .add_test(ImageList6Dct.from_df(df_test[df_test['celltype'] == ct], path='test'))\n",
    "        .transform(tfms, size=sz)\n",
    "        .databunch(bs=bs))"
   ]
  },
  {
   "cell_type": "code",
   "execution_count": 51,
   "metadata": {
    "ExecuteTime": {
     "end_time": "2019-08-25T18:17:37.914612Z",
     "start_time": "2019-08-25T18:17:36.940539Z"
    }
   },
   "outputs": [],
   "source": [
    "# FULL DATASET (incl. tfms)\n",
    "data = (ImageList6Dct.from_df(df_train[df_train['celltype'] == ct], path='train')\n",
    "        .split_none() # !!!\n",
    "        .label_from_df(cols=-4)\n",
    "        .add_test(ImageList6Dct.from_df(df_test[df_test['celltype'] == ct], path='test'))\n",
    "        .transform(tfms, size=sz)\n",
    "        .databunch(bs=bs))"
   ]
  },
  {
   "cell_type": "code",
   "execution_count": 166,
   "metadata": {
    "ExecuteTime": {
     "end_time": "2019-08-26T16:48:33.903151Z",
     "start_time": "2019-08-26T16:48:33.886153Z"
    }
   },
   "outputs": [],
   "source": [
    "data.normalize([stats_mean, stats_var]);"
   ]
  },
  {
   "cell_type": "code",
   "execution_count": null,
   "metadata": {},
   "outputs": [],
   "source": [
    "ct"
   ]
  },
  {
   "cell_type": "code",
   "execution_count": null,
   "metadata": {},
   "outputs": [],
   "source": [
    "#data.train_dl.dl.batch_sampler.sampler = torch.utils.data.SequentialSampler(data.train_ds)\n",
    "#data.train_dl.dl.batch_sampler.drop_last = False\n",
    "#\n",
    "#data.valid_dl.dl.batch_sampler.sampler = torch.utils.data.SequentialSampler(data.valid_ds)\n",
    "#data.valid_dl.dl.batch_sampler.drop_last = False\n",
    "#\n",
    "## DOES WORK TOO FOR TEST DL ??? ??? (Or do we need to set the test dataset to the valid dataset?)\n",
    "#data.test_dl.dl.batch_sampler.sampler = torch.utils.data.SequentialSampler(data.test_ds)\n",
    "#data.test_dl.dl.batch_sampler.drop_last = False"
   ]
  },
  {
   "cell_type": "code",
   "execution_count": null,
   "metadata": {},
   "outputs": [],
   "source": []
  },
  {
   "cell_type": "code",
   "execution_count": 167,
   "metadata": {
    "ExecuteTime": {
     "end_time": "2019-08-26T16:48:36.563053Z",
     "start_time": "2019-08-26T16:48:36.529690Z"
    }
   },
   "outputs": [],
   "source": [
    "learn = Learner(data, adacos_efficientnet)"
   ]
  },
  {
   "cell_type": "code",
   "execution_count": 168,
   "metadata": {
    "ExecuteTime": {
     "end_time": "2019-08-26T16:48:37.388978Z",
     "start_time": "2019-08-26T16:48:37.142067Z"
    }
   },
   "outputs": [],
   "source": [
    "learn.load('effnet/adacos_efficientnet_b3_ct_pg_exp_'+ct+'e210_190826');"
   ]
  },
  {
   "cell_type": "code",
   "execution_count": 176,
   "metadata": {
    "ExecuteTime": {
     "end_time": "2019-08-24T05:37:53.500550Z",
     "start_time": "2019-08-24T05:37:53.484048Z"
    }
   },
   "outputs": [],
   "source": [
    "#def get_feats(model, dataloader, cycles=1):\n",
    "#    feats = []\n",
    "#    targs = []\n",
    "#    model.eval()\n",
    "#    with torch.no_grad():\n",
    "#        for i in range(cycles): # for TTA\n",
    "#            for xb, yb in dataloader:\n",
    "#                body_out = model.body(xb)\n",
    "#                head_out = model.head(body_out)\n",
    "#                feats.append(head_out.cpu())\n",
    "#                targs.append(yb.cpu())\n",
    "#    return feats, targs"
   ]
  },
  {
   "cell_type": "code",
   "execution_count": 169,
   "metadata": {
    "ExecuteTime": {
     "end_time": "2019-08-26T16:48:39.230799Z",
     "start_time": "2019-08-26T16:48:39.216632Z"
    }
   },
   "outputs": [],
   "source": [
    "def get_feats(model, dataloader, cycles=1):\n",
    "    feats = []\n",
    "    targs = []\n",
    "    model.eval()\n",
    "    with torch.no_grad():\n",
    "        for i in range(cycles): # for TTA\n",
    "            for xb, yb in dataloader:\n",
    "                xb_img, xb_ctint, xb_pgint, xb_expint = xb\n",
    "                img_features = model.body1(xb_img)\n",
    "                int_features = model.body2(xb_ctint, xb_pgint, xb_expint)\n",
    "                features = torch.cat((img_features, int_features), dim=-1)\n",
    "                out = model.head(features)\n",
    "                feats.append(out.cpu())\n",
    "                targs.append(yb.cpu())\n",
    "    return feats, targs"
   ]
  },
  {
   "cell_type": "code",
   "execution_count": null,
   "metadata": {},
   "outputs": [],
   "source": [
    "def get_img_exp_feats(model, dataloader, cycles=1):\n",
    "    feats = []\n",
    "    targs = []\n",
    "    img_feats = []\n",
    "    exp_input = []\n",
    "    model.eval()\n",
    "    with torch.no_grad():\n",
    "        for i in range(cycles): # for TTA\n",
    "            for xb, yb in dataloader:\n",
    "                xb_img, xb_ctint, xb_pgint, xb_expint = xb\n",
    "                img_features = model.body1(xb_img)\n",
    "                int_features = model.body2(xb_ctint, xb_pgint, xb_expint)\n",
    "                features = torch.cat((img_features, int_features), dim=-1)\n",
    "                out = model.head(features)\n",
    "                feats.append(out.cpu())\n",
    "                targs.append(yb.cpu())\n",
    "                img_feats.append(img_features)\n",
    "                exp_input.append(xb_expint.cpu())\n",
    "    return feats, targs, img_feats, exp_input"
   ]
  },
  {
   "cell_type": "markdown",
   "metadata": {},
   "source": [
    "#### Train"
   ]
  },
  {
   "cell_type": "code",
   "execution_count": 170,
   "metadata": {
    "ExecuteTime": {
     "end_time": "2019-08-26T16:52:33.732650Z",
     "start_time": "2019-08-26T16:48:40.601981Z"
    }
   },
   "outputs": [],
   "source": [
    "feats, targs = get_feats(learn.model, learn.data.train_dl, cycles=3)\n",
    "#feats, targs, img_feats, exp_input = get_img_exp_feats(learn.model, learn.data.train_dl)"
   ]
  },
  {
   "cell_type": "code",
   "execution_count": 171,
   "metadata": {
    "ExecuteTime": {
     "end_time": "2019-08-26T16:52:33.766627Z",
     "start_time": "2019-08-26T16:52:33.734021Z"
    }
   },
   "outputs": [],
   "source": [
    "feats = torch.cat(feats, dim=0)\n",
    "targs = torch.cat(targs, dim=0)\n",
    "#img_feats = torch.cat(img_feats, dim=0)\n",
    "#exp_input = torch.cat(exp_input, dim=0)"
   ]
  },
  {
   "cell_type": "code",
   "execution_count": 172,
   "metadata": {
    "ExecuteTime": {
     "end_time": "2019-08-26T16:52:33.778671Z",
     "start_time": "2019-08-26T16:52:33.767935Z"
    }
   },
   "outputs": [
    {
     "data": {
      "text/plain": [
       "(torch.Size([33000, 512]), torch.Size([33000]))"
      ]
     },
     "execution_count": 172,
     "metadata": {},
     "output_type": "execute_result"
    }
   ],
   "source": [
    "feats.shape, targs.shape"
   ]
  },
  {
   "cell_type": "code",
   "execution_count": 173,
   "metadata": {
    "ExecuteTime": {
     "end_time": "2019-08-26T16:52:33.828281Z",
     "start_time": "2019-08-26T16:52:33.779696Z"
    }
   },
   "outputs": [],
   "source": [
    "np.save('pred/feats_train_'+ct+'.npy', feats)\n",
    "np.save('pred/targs_train_'+ct+'.npy', targs)"
   ]
  },
  {
   "cell_type": "markdown",
   "metadata": {},
   "source": [
    "#### Valid"
   ]
  },
  {
   "cell_type": "code",
   "execution_count": 174,
   "metadata": {
    "ExecuteTime": {
     "end_time": "2019-08-26T16:52:59.456072Z",
     "start_time": "2019-08-26T16:52:33.829364Z"
    }
   },
   "outputs": [],
   "source": [
    "feats, targs = get_feats(learn.model, learn.data.valid_dl)"
   ]
  },
  {
   "cell_type": "code",
   "execution_count": 175,
   "metadata": {
    "ExecuteTime": {
     "end_time": "2019-08-26T16:52:59.471413Z",
     "start_time": "2019-08-26T16:52:59.457213Z"
    }
   },
   "outputs": [],
   "source": [
    "feats = torch.cat(feats, dim=0)\n",
    "targs = torch.cat(targs, dim=0)"
   ]
  },
  {
   "cell_type": "code",
   "execution_count": 176,
   "metadata": {
    "ExecuteTime": {
     "end_time": "2019-08-26T16:52:59.483127Z",
     "start_time": "2019-08-26T16:52:59.472390Z"
    }
   },
   "outputs": [
    {
     "data": {
      "text/plain": [
       "(torch.Size([4428, 512]), torch.Size([4428, 512]), torch.Size([4428]))"
      ]
     },
     "execution_count": 176,
     "metadata": {},
     "output_type": "execute_result"
    }
   ],
   "source": [
    "feats.shape, feats.shape, targs.shape"
   ]
  },
  {
   "cell_type": "code",
   "execution_count": 177,
   "metadata": {
    "ExecuteTime": {
     "end_time": "2019-08-26T16:52:59.497973Z",
     "start_time": "2019-08-26T16:52:59.484315Z"
    }
   },
   "outputs": [],
   "source": [
    "np.save('pred/feats_valid_'+ct+'.npy', feats)\n",
    "np.save('pred/targs_valid_'+ct+'.npy', targs)"
   ]
  },
  {
   "cell_type": "markdown",
   "metadata": {},
   "source": [
    "#### Test"
   ]
  },
  {
   "cell_type": "code",
   "execution_count": 178,
   "metadata": {
    "ExecuteTime": {
     "end_time": "2019-08-26T16:53:49.057094Z",
     "start_time": "2019-08-26T16:52:59.499192Z"
    }
   },
   "outputs": [],
   "source": [
    "feats, targs = get_feats(learn.model, learn.data.test_dl)"
   ]
  },
  {
   "cell_type": "code",
   "execution_count": 179,
   "metadata": {
    "ExecuteTime": {
     "end_time": "2019-08-26T16:53:49.069811Z",
     "start_time": "2019-08-26T16:53:49.058277Z"
    }
   },
   "outputs": [],
   "source": [
    "del targs"
   ]
  },
  {
   "cell_type": "code",
   "execution_count": 180,
   "metadata": {
    "ExecuteTime": {
     "end_time": "2019-08-26T16:53:49.085713Z",
     "start_time": "2019-08-26T16:53:49.070784Z"
    }
   },
   "outputs": [],
   "source": [
    "feats = torch.cat(feats, dim=0)"
   ]
  },
  {
   "cell_type": "code",
   "execution_count": 181,
   "metadata": {
    "ExecuteTime": {
     "end_time": "2019-08-26T16:53:49.097051Z",
     "start_time": "2019-08-26T16:53:49.086813Z"
    }
   },
   "outputs": [
    {
     "data": {
      "text/plain": [
       "torch.Size([8858, 512])"
      ]
     },
     "execution_count": 181,
     "metadata": {},
     "output_type": "execute_result"
    }
   ],
   "source": [
    "feats.shape"
   ]
  },
  {
   "cell_type": "code",
   "execution_count": 182,
   "metadata": {
    "ExecuteTime": {
     "end_time": "2019-08-26T16:53:49.113662Z",
     "start_time": "2019-08-26T16:53:49.097944Z"
    }
   },
   "outputs": [],
   "source": [
    "np.save('pred/feats_test_'+ct+'.npy', feats)"
   ]
  },
  {
   "cell_type": "markdown",
   "metadata": {
    "heading_collapsed": true
   },
   "source": [
    "### Multi-crop features"
   ]
  },
  {
   "cell_type": "code",
   "execution_count": null,
   "metadata": {
    "ExecuteTime": {
     "end_time": "2019-08-24T05:33:32.681690Z",
     "start_time": "2019-08-24T05:32:28.300Z"
    },
    "hidden": true
   },
   "outputs": [],
   "source": [
    "# https://github.com/ducha-aiki/whale-identification-2018/blob/master/reproduce_problems.ipynb\n",
    "# And for test-time augmentation I used following random solution: switch train and val transforms"
   ]
  },
  {
   "cell_type": "code",
   "execution_count": 113,
   "metadata": {
    "ExecuteTime": {
     "end_time": "2019-08-14T17:13:56.790542Z",
     "start_time": "2019-08-14T17:13:56.760651Z"
    },
    "hidden": true
   },
   "outputs": [],
   "source": [
    "df_train['test'] = 0\n",
    "df_train['path'] = 'train/'+df_train['path']"
   ]
  },
  {
   "cell_type": "code",
   "execution_count": null,
   "metadata": {
    "ExecuteTime": {
     "end_time": "2019-08-13T16:15:00.275696Z",
     "start_time": "2019-08-13T16:14:58.632Z"
    },
    "hidden": true
   },
   "outputs": [],
   "source": [
    "df_train.head()"
   ]
  },
  {
   "cell_type": "code",
   "execution_count": null,
   "metadata": {
    "ExecuteTime": {
     "end_time": "2019-08-13T16:15:00.276332Z",
     "start_time": "2019-08-13T16:14:59.303Z"
    },
    "hidden": true
   },
   "outputs": [],
   "source": [
    "# add dummy columns for test dataset\n",
    "df_test['path'] = 'test/'+df_test['path']\n",
    "df_test['test'] = 1\n",
    "df_test['sirna'] = 1"
   ]
  },
  {
   "cell_type": "code",
   "execution_count": null,
   "metadata": {
    "ExecuteTime": {
     "end_time": "2019-08-13T16:15:00.276957Z",
     "start_time": "2019-08-13T16:15:00.178Z"
    },
    "hidden": true
   },
   "outputs": [],
   "source": [
    "df_test.head()"
   ]
  },
  {
   "cell_type": "code",
   "execution_count": 106,
   "metadata": {
    "ExecuteTime": {
     "end_time": "2019-08-13T16:15:01.099348Z",
     "start_time": "2019-08-13T16:15:01.065671Z"
    },
    "hidden": true
   },
   "outputs": [],
   "source": [
    "df_train_test = pd.concat((df_train, df_test), axis=0, sort=False)"
   ]
  },
  {
   "cell_type": "code",
   "execution_count": 107,
   "metadata": {
    "ExecuteTime": {
     "end_time": "2019-08-13T16:15:03.094129Z",
     "start_time": "2019-08-13T16:15:03.065940Z"
    },
    "hidden": true
   },
   "outputs": [
    {
     "data": {
      "text/html": [
       "<div>\n",
       "<style scoped>\n",
       "    .dataframe tbody tr th:only-of-type {\n",
       "        vertical-align: middle;\n",
       "    }\n",
       "\n",
       "    .dataframe tbody tr th {\n",
       "        vertical-align: top;\n",
       "    }\n",
       "\n",
       "    .dataframe thead th {\n",
       "        text-align: right;\n",
       "    }\n",
       "</style>\n",
       "<table border=\"1\" class=\"dataframe\">\n",
       "  <thead>\n",
       "    <tr style=\"text-align: right;\">\n",
       "      <th></th>\n",
       "      <th>path</th>\n",
       "      <th>experiment</th>\n",
       "      <th>sirna</th>\n",
       "      <th>multi</th>\n",
       "      <th>valid</th>\n",
       "    </tr>\n",
       "  </thead>\n",
       "  <tbody>\n",
       "    <tr>\n",
       "      <th>19892</th>\n",
       "      <td>U2OS-05/Plate4/O19_s2</td>\n",
       "      <td>U2OS-05</td>\n",
       "      <td>NaN</td>\n",
       "      <td>NaN</td>\n",
       "      <td>NaN</td>\n",
       "    </tr>\n",
       "    <tr>\n",
       "      <th>19893</th>\n",
       "      <td>U2OS-05/Plate4/O20_s2</td>\n",
       "      <td>U2OS-05</td>\n",
       "      <td>NaN</td>\n",
       "      <td>NaN</td>\n",
       "      <td>NaN</td>\n",
       "    </tr>\n",
       "    <tr>\n",
       "      <th>19894</th>\n",
       "      <td>U2OS-05/Plate4/O21_s2</td>\n",
       "      <td>U2OS-05</td>\n",
       "      <td>NaN</td>\n",
       "      <td>NaN</td>\n",
       "      <td>NaN</td>\n",
       "    </tr>\n",
       "    <tr>\n",
       "      <th>19895</th>\n",
       "      <td>U2OS-05/Plate4/O22_s2</td>\n",
       "      <td>U2OS-05</td>\n",
       "      <td>NaN</td>\n",
       "      <td>NaN</td>\n",
       "      <td>NaN</td>\n",
       "    </tr>\n",
       "    <tr>\n",
       "      <th>19896</th>\n",
       "      <td>U2OS-05/Plate4/O23_s2</td>\n",
       "      <td>U2OS-05</td>\n",
       "      <td>NaN</td>\n",
       "      <td>NaN</td>\n",
       "      <td>NaN</td>\n",
       "    </tr>\n",
       "  </tbody>\n",
       "</table>\n",
       "</div>"
      ],
      "text/plain": [
       "                        path experiment  sirna multi  valid\n",
       "19892  U2OS-05/Plate4/O19_s2    U2OS-05    NaN   NaN    NaN\n",
       "19893  U2OS-05/Plate4/O20_s2    U2OS-05    NaN   NaN    NaN\n",
       "19894  U2OS-05/Plate4/O21_s2    U2OS-05    NaN   NaN    NaN\n",
       "19895  U2OS-05/Plate4/O22_s2    U2OS-05    NaN   NaN    NaN\n",
       "19896  U2OS-05/Plate4/O23_s2    U2OS-05    NaN   NaN    NaN"
      ]
     },
     "execution_count": 107,
     "metadata": {},
     "output_type": "execute_result"
    }
   ],
   "source": [
    "df_train_test.tail()"
   ]
  },
  {
   "cell_type": "code",
   "execution_count": null,
   "metadata": {
    "hidden": true
   },
   "outputs": [],
   "source": [
    "# reload for train and valid ds\n",
    "df_train = pd.read_csv('full_train_dataset_valid-split-ex_v2_20190727.csv', index_col=0)\n",
    "df_test = pd.read_csv('full_test_dataset_v2_20190727.csv', index_col=0)"
   ]
  },
  {
   "cell_type": "code",
   "execution_count": null,
   "metadata": {
    "ExecuteTime": {
     "end_time": "2019-08-05T17:44:39.974069Z",
     "start_time": "2019-08-05T17:44:39.962352Z"
    },
    "hidden": true
   },
   "outputs": [],
   "source": []
  },
  {
   "cell_type": "code",
   "execution_count": null,
   "metadata": {
    "ExecuteTime": {
     "end_time": "2019-08-05T17:44:42.660744Z",
     "start_time": "2019-08-05T17:44:42.148885Z"
    },
    "hidden": true
   },
   "outputs": [],
   "source": [
    "# test tfms switching for test ds\n",
    "#tfms_switched = (tfms[1], tfms[0])\n",
    "#\n",
    "#data = (ImageList6D.from_df(df_train_test, path='.')\n",
    "#                .split_from_df(col=-1)\n",
    "#                .label_from_df(cols=-4)\n",
    "#                .transform(tfms_switched)#, size=sz) # remove size so we get the crop size!\n",
    "#                .databunch(bs=bs))"
   ]
  },
  {
   "cell_type": "code",
   "execution_count": null,
   "metadata": {
    "ExecuteTime": {
     "end_time": "2019-08-05T17:44:50.461048Z",
     "start_time": "2019-08-05T17:44:50.334649Z"
    },
    "hidden": true
   },
   "outputs": [],
   "source": [
    "#data.train_ds[0][0]"
   ]
  },
  {
   "cell_type": "code",
   "execution_count": null,
   "metadata": {
    "ExecuteTime": {
     "end_time": "2019-08-05T17:45:06.299037Z",
     "start_time": "2019-08-05T17:45:06.196917Z"
    },
    "hidden": true
   },
   "outputs": [],
   "source": [
    "#data.valid_ds[0][0]"
   ]
  },
  {
   "cell_type": "code",
   "execution_count": null,
   "metadata": {
    "hidden": true
   },
   "outputs": [],
   "source": []
  },
  {
   "cell_type": "code",
   "execution_count": null,
   "metadata": {
    "ExecuteTime": {
     "end_time": "2019-08-05T17:59:54.356878Z",
     "start_time": "2019-08-05T17:59:54.341649Z"
    },
    "hidden": true
   },
   "outputs": [],
   "source": [
    "def get_dataset(row_pct, col_pct, is_test=False):\n",
    "    # extended tfms\n",
    "    tfms = get_transforms(do_flip=True, flip_vert=True, \n",
    "                          max_rotate=90.0, max_zoom=1.1, \n",
    "                          max_lighting=0.2, max_warp=0.2, \n",
    "                          p_affine=0.75, p_lighting=0.75, \n",
    "                          xtra_tfms=[color_augmentation()])\n",
    "    \n",
    "    # change \"crop_pad\" from get_transforms to \"crop\"\n",
    "    tfms[0][0] = crop(size=sz, row_pct=row_pct, col_pct=col_pct)\n",
    "    tfms[1][0] = crop(size=sz, row_pct=row_pct, col_pct=col_pct)\n",
    "    \n",
    "    # VALID SPLIT (incl. tfms)\n",
    "    if is_test:\n",
    "        #switch train with valid (= test) tfms!\n",
    "        tfms_switched = (tfms[1], tfms[0])\n",
    "        \n",
    "        data = (ImageList6D.from_df(df_train_test, path='.')\n",
    "                .split_from_df(col=-1)\n",
    "                .label_from_df(cols=-4)\n",
    "                .transform(tfms_switched)#, size=sz) # remove size so we get the crop size!\n",
    "                .databunch(bs=bs))\n",
    "    else:\n",
    "        data = (ImageList6D.from_df(df_train, path='train')\n",
    "                .split_from_df(col=-1) # split_by_rand_pct()\n",
    "                .label_from_df(cols=-3)\n",
    "                #.add_test(ImageList6D.from_df(df_test, path='test'))\n",
    "                .transform(tfms)#, size=sz) # remove size so we get the crop size!\n",
    "                .databunch(bs=bs))\n",
    "    \n",
    "    data.normalize([tensor([0.0456, 0.0702, 0.0447, 0.0468, 0.0407, 0.0399]),\n",
    "                    tensor([0.0644, 0.0733, 0.0536, 0.0633, 0.0555, 0.0392])]);\n",
    "    \n",
    "    return data"
   ]
  },
  {
   "cell_type": "code",
   "execution_count": null,
   "metadata": {
    "ExecuteTime": {
     "end_time": "2019-08-05T17:59:55.028968Z",
     "start_time": "2019-08-05T17:59:55.014897Z"
    },
    "hidden": true
   },
   "outputs": [],
   "source": [
    "def get_feats(model, dataloader, cycles=1):\n",
    "    feats = []\n",
    "    targs = []\n",
    "    model.eval()\n",
    "    with torch.no_grad():\n",
    "        for i in range(cycles): # for TTA\n",
    "            for xb, yb in dataloader:\n",
    "                body_out = model.body(xb)\n",
    "                head_out = model.head(body_out)\n",
    "                feats.append(head_out.cpu())\n",
    "                targs.append(yb.cpu())\n",
    "                \n",
    "    feats = torch.cat(feats, dim=0)\n",
    "    targs = torch.cat(targs, dim=0)\n",
    "    \n",
    "    return feats, targs"
   ]
  },
  {
   "cell_type": "code",
   "execution_count": null,
   "metadata": {
    "ExecuteTime": {
     "end_time": "2019-08-05T18:24:57.055059Z",
     "start_time": "2019-08-05T18:24:57.042012Z"
    },
    "hidden": true
   },
   "outputs": [],
   "source": [
    "def save_feats(feats, targs, crop, ds='train'):\n",
    "    np.save(f'pred/feats_{ds}_crop{crop}.npy', feats)\n",
    "    np.save(f'pred/targs_{ds}_crop{crop}.npy', targs)"
   ]
  },
  {
   "cell_type": "code",
   "execution_count": null,
   "metadata": {
    "ExecuteTime": {
     "end_time": "2019-08-05T17:54:05.421073Z",
     "start_time": "2019-08-05T17:54:05.404036Z"
    },
    "hidden": true
   },
   "outputs": [],
   "source": [
    "#https://docs.fast.ai/vision.transform.html#_crop\n",
    "crop_pos = [[0.,0.], [0.,1.],[0.5,0.5],[1.,0.], [1.,1.]]"
   ]
  },
  {
   "cell_type": "code",
   "execution_count": null,
   "metadata": {
    "ExecuteTime": {
     "end_time": "2019-08-05T18:44:20.028527Z",
     "start_time": "2019-08-05T18:44:20.011190Z"
    },
    "hidden": true
   },
   "outputs": [],
   "source": [
    "# get random crop pos\n",
    "i = 2\n",
    "crop_pos = [[uniform(0,1), uniform(0,1)] for i in range(2)]"
   ]
  },
  {
   "cell_type": "code",
   "execution_count": null,
   "metadata": {
    "ExecuteTime": {
     "end_time": "2019-08-05T18:44:20.895596Z",
     "start_time": "2019-08-05T18:44:20.878412Z"
    },
    "hidden": true
   },
   "outputs": [],
   "source": [
    "crop_pos"
   ]
  },
  {
   "cell_type": "code",
   "execution_count": null,
   "metadata": {
    "hidden": true
   },
   "outputs": [],
   "source": [
    "# get the last three crop positions:\n",
    "crop_pos = [[0.5,0.5],[1.,0.], [1.,1.]]"
   ]
  },
  {
   "cell_type": "code",
   "execution_count": null,
   "metadata": {
    "ExecuteTime": {
     "end_time": "2019-08-05T18:44:51.754386Z",
     "start_time": "2019-08-05T18:44:51.738994Z"
    },
    "hidden": true
   },
   "outputs": [],
   "source": [
    "def get_crop_feats(model=learn.model, cycles=1, crop_pos=crop_pos):\n",
    "    \n",
    "    for i, (row_pct, col_pct) in enumerate(crop_pos):\n",
    "        \n",
    "        print('== crop#:', i,' of', len(crop_pos), '==')\n",
    "        print('row_pct:', row_pct,', col_pct:', col_pct)\n",
    "    \n",
    "        data = get_dataset(row_pct, col_pct)\n",
    "        \n",
    "        # train\n",
    "        print('= Start train dataset =')\n",
    "        feats, targs = get_feats(model, data.train_dl)\n",
    "        save_feats(feats, targs, i, ds='train')\n",
    "        print('feats:', feats.shape,' targs:', targs.shape)\n",
    "        print('- Finish train dataset -')\n",
    "        \n",
    "        # valid\n",
    "        print('= Start valid dataset =')\n",
    "        feats, targs = get_feats(model, data.valid_dl)\n",
    "        save_feats(feats, targs, i, ds='valid')\n",
    "        print('feats:', feats.shape,' targs:', targs.shape)\n",
    "        print('- Finish valid dataset -')\n",
    "        \n",
    "        # get test ds as valid ds for TTA\n",
    "        data = get_dataset(row_pct, col_pct, is_test=True)\n",
    "        \n",
    "        # test\n",
    "        print('= Start test dataset =')\n",
    "        feats, targs = get_feats(model, data.valid_dl)\n",
    "        save_feats(feats, targs, i, ds='test')\n",
    "        print('feats:', feats.shape,' targs:', targs.shape)\n",
    "        print('- Finish test dataset -')"
   ]
  },
  {
   "cell_type": "code",
   "execution_count": null,
   "metadata": {
    "ExecuteTime": {
     "end_time": "2019-08-05T18:44:52.441476Z",
     "start_time": "2019-08-05T18:44:52.411673Z"
    },
    "hidden": true
   },
   "outputs": [],
   "source": [
    "learn = Learner(data, adacos_efficientnet_b3)"
   ]
  },
  {
   "cell_type": "code",
   "execution_count": null,
   "metadata": {
    "ExecuteTime": {
     "end_time": "2019-08-05T18:44:53.733710Z",
     "start_time": "2019-08-05T18:44:53.521230Z"
    },
    "hidden": true
   },
   "outputs": [],
   "source": [
    "learn.load('effnet/adacos_efficientnet_b3_e080CM112_190805');"
   ]
  },
  {
   "cell_type": "code",
   "execution_count": null,
   "metadata": {
    "ExecuteTime": {
     "end_time": "2019-08-05T19:29:50.459716Z",
     "start_time": "2019-08-05T18:44:54.378356Z"
    },
    "hidden": true
   },
   "outputs": [],
   "source": [
    "get_crop_feats()"
   ]
  },
  {
   "cell_type": "code",
   "execution_count": null,
   "metadata": {
    "hidden": true
   },
   "outputs": [],
   "source": []
  },
  {
   "cell_type": "code",
   "execution_count": null,
   "metadata": {
    "hidden": true
   },
   "outputs": [],
   "source": []
  },
  {
   "cell_type": "code",
   "execution_count": null,
   "metadata": {
    "hidden": true
   },
   "outputs": [],
   "source": []
  },
  {
   "cell_type": "code",
   "execution_count": null,
   "metadata": {
    "hidden": true
   },
   "outputs": [],
   "source": [
    "#data = (ImageList6D.from_df(df_train_test, path='.')\n",
    "#        .split_from_df(col=-1)\n",
    "#        .label_from_df(cols=-4)\n",
    "#        .transform(tfms_switched)#, size=sz) # remove size so we get the crop size!\n",
    "#        .databunch(bs=bs))"
   ]
  },
  {
   "cell_type": "markdown",
   "metadata": {},
   "source": [
    "### Submission"
   ]
  },
  {
   "cell_type": "code",
   "execution_count": 185,
   "metadata": {
    "ExecuteTime": {
     "end_time": "2019-08-26T16:56:11.215988Z",
     "start_time": "2019-08-26T16:56:11.199693Z"
    }
   },
   "outputs": [],
   "source": [
    "# get the names\n",
    "preds_names = learn.data.test_ds.x.items"
   ]
  },
  {
   "cell_type": "code",
   "execution_count": 186,
   "metadata": {
    "ExecuteTime": {
     "end_time": "2019-08-26T16:56:11.840859Z",
     "start_time": "2019-08-26T16:56:11.820745Z"
    }
   },
   "outputs": [],
   "source": [
    "# without site\n",
    "#preds_names = [x.split('/')[1]+'_'+x.split('/')[2][-1]+'_'+x.split('/')[3][:3] for x in preds_names]\n",
    "\n",
    "# with site\n",
    "preds_names = [x.split('/')[1]+'_'+x.split('/')[2][-1]+'_'+x.split('/')[3] for x in preds_names]"
   ]
  },
  {
   "cell_type": "code",
   "execution_count": 187,
   "metadata": {
    "ExecuteTime": {
     "end_time": "2019-08-26T16:56:12.485500Z",
     "start_time": "2019-08-26T16:56:12.461752Z"
    }
   },
   "outputs": [],
   "source": [
    "preds_test = np.load('pred/preds_test_'+ct+'.npy')\n",
    "dist_test = np.load('pred/dist_test_'+ct+'.npy')"
   ]
  },
  {
   "cell_type": "code",
   "execution_count": 188,
   "metadata": {
    "ExecuteTime": {
     "end_time": "2019-08-26T16:56:13.221528Z",
     "start_time": "2019-08-26T16:56:13.204307Z"
    }
   },
   "outputs": [
    {
     "data": {
      "text/plain": [
       "(8858, 8858, 8858)"
      ]
     },
     "execution_count": 188,
     "metadata": {},
     "output_type": "execute_result"
    }
   ],
   "source": [
    "len(preds_names), len(preds_test), len(dist_test)"
   ]
  },
  {
   "cell_type": "code",
   "execution_count": 189,
   "metadata": {
    "ExecuteTime": {
     "end_time": "2019-08-26T16:56:15.504523Z",
     "start_time": "2019-08-26T16:56:15.488949Z"
    }
   },
   "outputs": [],
   "source": [
    "#preds_test"
   ]
  },
  {
   "cell_type": "code",
   "execution_count": 190,
   "metadata": {
    "ExecuteTime": {
     "end_time": "2019-08-26T16:56:15.891606Z",
     "start_time": "2019-08-26T16:56:15.875836Z"
    }
   },
   "outputs": [],
   "source": [
    "#dist_test"
   ]
  },
  {
   "cell_type": "code",
   "execution_count": 191,
   "metadata": {
    "ExecuteTime": {
     "end_time": "2019-08-26T16:56:16.222745Z",
     "start_time": "2019-08-26T16:56:16.200714Z"
    }
   },
   "outputs": [],
   "source": [
    "df_preds = pd.DataFrame({'id_code_site': preds_names, 'sirna': preds_test, 'cossim': dist_test})"
   ]
  },
  {
   "cell_type": "code",
   "execution_count": 192,
   "metadata": {
    "ExecuteTime": {
     "end_time": "2019-08-26T16:56:16.594561Z",
     "start_time": "2019-08-26T16:56:16.570896Z"
    }
   },
   "outputs": [],
   "source": [
    "# get id_code without site\n",
    "df_preds['id_code'] = df_preds['id_code_site'].apply(lambda x: x[:-3])"
   ]
  },
  {
   "cell_type": "code",
   "execution_count": 193,
   "metadata": {
    "ExecuteTime": {
     "end_time": "2019-08-26T16:56:17.918433Z",
     "start_time": "2019-08-26T16:56:17.309936Z"
    }
   },
   "outputs": [],
   "source": [
    "# get row indices with highest cosine similiarity\n",
    "idx = []\n",
    "for i, r in enumerate(df_preds.sort_values('id_code').iterrows()):\n",
    "    #print(r)\n",
    "    #print('i: ',i)\n",
    "    #print('idx: ',r[0])\n",
    "    #print(r[1]['cossim'])\n",
    "    if i % 2:\n",
    "        # distance from row 2 is \n",
    "        if dist < r[1]['cossim']:\n",
    "            idx.append(r[0])\n",
    "        else:\n",
    "            idx.append(idx_row_before)\n",
    "    else:\n",
    "        # save dist from row 1 for comparison in next iteration\n",
    "        dist = r[1]['cossim']\n",
    "        idx_row_before = r[0]"
   ]
  },
  {
   "cell_type": "code",
   "execution_count": 194,
   "metadata": {
    "ExecuteTime": {
     "end_time": "2019-08-26T16:56:18.248257Z",
     "start_time": "2019-08-26T16:56:18.231541Z"
    }
   },
   "outputs": [
    {
     "data": {
      "text/plain": [
       "[0, 4430, 4431, 4432, 4433]"
      ]
     },
     "execution_count": 194,
     "metadata": {},
     "output_type": "execute_result"
    }
   ],
   "source": [
    "idx[:5]"
   ]
  },
  {
   "cell_type": "code",
   "execution_count": 195,
   "metadata": {
    "ExecuteTime": {
     "end_time": "2019-08-26T16:56:19.244307Z",
     "start_time": "2019-08-26T16:56:19.195597Z"
    },
    "scrolled": true
   },
   "outputs": [
    {
     "data": {
      "text/html": [
       "<div>\n",
       "<style scoped>\n",
       "    .dataframe tbody tr th:only-of-type {\n",
       "        vertical-align: middle;\n",
       "    }\n",
       "\n",
       "    .dataframe tbody tr th {\n",
       "        vertical-align: top;\n",
       "    }\n",
       "\n",
       "    .dataframe thead th {\n",
       "        text-align: right;\n",
       "    }\n",
       "</style>\n",
       "<table border=\"1\" class=\"dataframe\">\n",
       "  <thead>\n",
       "    <tr style=\"text-align: right;\">\n",
       "      <th></th>\n",
       "      <th>id_code_site</th>\n",
       "      <th>sirna</th>\n",
       "      <th>cossim</th>\n",
       "      <th>id_code</th>\n",
       "    </tr>\n",
       "  </thead>\n",
       "  <tbody>\n",
       "    <tr>\n",
       "      <th>0</th>\n",
       "      <td>HEPG2-08_1_B03_s1</td>\n",
       "      <td>855</td>\n",
       "      <td>0.676061</td>\n",
       "      <td>HEPG2-08_1_B03</td>\n",
       "    </tr>\n",
       "    <tr>\n",
       "      <th>4429</th>\n",
       "      <td>HEPG2-08_1_B03_s2</td>\n",
       "      <td>814</td>\n",
       "      <td>0.518749</td>\n",
       "      <td>HEPG2-08_1_B03</td>\n",
       "    </tr>\n",
       "    <tr>\n",
       "      <th>4430</th>\n",
       "      <td>HEPG2-08_1_B04_s2</td>\n",
       "      <td>292</td>\n",
       "      <td>0.704688</td>\n",
       "      <td>HEPG2-08_1_B04</td>\n",
       "    </tr>\n",
       "    <tr>\n",
       "      <th>1</th>\n",
       "      <td>HEPG2-08_1_B04_s1</td>\n",
       "      <td>358</td>\n",
       "      <td>0.586937</td>\n",
       "      <td>HEPG2-08_1_B04</td>\n",
       "    </tr>\n",
       "    <tr>\n",
       "      <th>2</th>\n",
       "      <td>HEPG2-08_1_B05_s1</td>\n",
       "      <td>890</td>\n",
       "      <td>0.599821</td>\n",
       "      <td>HEPG2-08_1_B05</td>\n",
       "    </tr>\n",
       "    <tr>\n",
       "      <th>4431</th>\n",
       "      <td>HEPG2-08_1_B05_s2</td>\n",
       "      <td>836</td>\n",
       "      <td>0.785608</td>\n",
       "      <td>HEPG2-08_1_B05</td>\n",
       "    </tr>\n",
       "    <tr>\n",
       "      <th>3</th>\n",
       "      <td>HEPG2-08_1_B06_s1</td>\n",
       "      <td>256</td>\n",
       "      <td>0.544239</td>\n",
       "      <td>HEPG2-08_1_B06</td>\n",
       "    </tr>\n",
       "    <tr>\n",
       "      <th>4432</th>\n",
       "      <td>HEPG2-08_1_B06_s2</td>\n",
       "      <td>249</td>\n",
       "      <td>0.717155</td>\n",
       "      <td>HEPG2-08_1_B06</td>\n",
       "    </tr>\n",
       "    <tr>\n",
       "      <th>4</th>\n",
       "      <td>HEPG2-08_1_B07_s1</td>\n",
       "      <td>878</td>\n",
       "      <td>0.638704</td>\n",
       "      <td>HEPG2-08_1_B07</td>\n",
       "    </tr>\n",
       "    <tr>\n",
       "      <th>4433</th>\n",
       "      <td>HEPG2-08_1_B07_s2</td>\n",
       "      <td>200</td>\n",
       "      <td>0.644312</td>\n",
       "      <td>HEPG2-08_1_B07</td>\n",
       "    </tr>\n",
       "  </tbody>\n",
       "</table>\n",
       "</div>"
      ],
      "text/plain": [
       "           id_code_site  sirna    cossim         id_code\n",
       "0     HEPG2-08_1_B03_s1    855  0.676061  HEPG2-08_1_B03\n",
       "4429  HEPG2-08_1_B03_s2    814  0.518749  HEPG2-08_1_B03\n",
       "4430  HEPG2-08_1_B04_s2    292  0.704688  HEPG2-08_1_B04\n",
       "1     HEPG2-08_1_B04_s1    358  0.586937  HEPG2-08_1_B04\n",
       "2     HEPG2-08_1_B05_s1    890  0.599821  HEPG2-08_1_B05\n",
       "4431  HEPG2-08_1_B05_s2    836  0.785608  HEPG2-08_1_B05\n",
       "3     HEPG2-08_1_B06_s1    256  0.544239  HEPG2-08_1_B06\n",
       "4432  HEPG2-08_1_B06_s2    249  0.717155  HEPG2-08_1_B06\n",
       "4     HEPG2-08_1_B07_s1    878  0.638704  HEPG2-08_1_B07\n",
       "4433  HEPG2-08_1_B07_s2    200  0.644312  HEPG2-08_1_B07"
      ]
     },
     "execution_count": 195,
     "metadata": {},
     "output_type": "execute_result"
    }
   ],
   "source": [
    "df_preds.sort_values('id_code').head(10)"
   ]
  },
  {
   "cell_type": "code",
   "execution_count": 196,
   "metadata": {
    "ExecuteTime": {
     "end_time": "2019-08-26T16:56:26.232244Z",
     "start_time": "2019-08-26T16:56:26.216155Z"
    }
   },
   "outputs": [],
   "source": [
    "#df_preds.loc[idx,['id_code','sirna']]"
   ]
  },
  {
   "cell_type": "code",
   "execution_count": null,
   "metadata": {},
   "outputs": [],
   "source": []
  },
  {
   "cell_type": "code",
   "execution_count": 199,
   "metadata": {
    "ExecuteTime": {
     "end_time": "2019-08-26T16:57:06.413721Z",
     "start_time": "2019-08-26T16:57:06.397250Z"
    }
   },
   "outputs": [],
   "source": [
    "# 'effnet/adacos_efficientnet_b3_ct_pg_exp_'+ct+'e210_190826'\n",
    "model = 'adacos_efficientnet_b3_ct_pg_exp_'+ct+'e210_190826_3xTTA-cossim'"
   ]
  },
  {
   "cell_type": "code",
   "execution_count": 200,
   "metadata": {
    "ExecuteTime": {
     "end_time": "2019-08-26T16:57:07.308066Z",
     "start_time": "2019-08-26T16:57:07.268537Z"
    }
   },
   "outputs": [],
   "source": [
    "df_preds.loc[idx,['id_code','sirna']].to_csv('sub/'+model+'.csv.gz', index=False, compression='gzip')"
   ]
  },
  {
   "cell_type": "code",
   "execution_count": 184,
   "metadata": {
    "ExecuteTime": {
     "end_time": "2019-08-24T08:12:32.964896Z",
     "start_time": "2019-08-24T08:12:26.387475Z"
    }
   },
   "outputs": [
    {
     "name": "stdout",
     "output_type": "stream",
     "text": [
      "100%|██████████████████████████████████████| 83.9k/83.9k [00:04<00:00, 18.1kB/s]\n",
      "Successfully submitted to Recursion Cellular Image Classification"
     ]
    }
   ],
   "source": [
    "#!kaggle competitions submit -c recursion-cellular-image-classification -f sub/{model}.csv.gz -m \"{model}\"\n"
   ]
  },
  {
   "cell_type": "markdown",
   "metadata": {
    "heading_collapsed": true
   },
   "source": [
    "# Error analysis"
   ]
  },
  {
   "cell_type": "code",
   "execution_count": null,
   "metadata": {
    "hidden": true
   },
   "outputs": [],
   "source": [
    "preds_correct = np.load('preds_valid_correct.npy')"
   ]
  },
  {
   "cell_type": "code",
   "execution_count": null,
   "metadata": {
    "hidden": true
   },
   "outputs": [],
   "source": [
    "df_erros = pd.DataFrame({'id_code': preds_names, 'correct': preds_test})"
   ]
  },
  {
   "cell_type": "code",
   "execution_count": null,
   "metadata": {
    "hidden": true
   },
   "outputs": [],
   "source": [
    "df_erros[df_errors['correct'] == False]"
   ]
  },
  {
   "cell_type": "code",
   "execution_count": null,
   "metadata": {
    "hidden": true
   },
   "outputs": [],
   "source": [
    "# ERROR ANALYSIS !!!"
   ]
  }
 ],
 "metadata": {
  "kernelspec": {
   "display_name": "fastai",
   "language": "python",
   "name": "fastai"
  },
  "language_info": {
   "codemirror_mode": {
    "name": "ipython",
    "version": 3
   },
   "file_extension": ".py",
   "mimetype": "text/x-python",
   "name": "python",
   "nbconvert_exporter": "python",
   "pygments_lexer": "ipython3",
   "version": "3.6.8"
  },
  "toc": {
   "base_numbering": 1,
   "nav_menu": {
    "height": "488px",
    "width": "305px"
   },
   "number_sections": true,
   "sideBar": true,
   "skip_h1_title": false,
   "title_cell": "Table of Contents",
   "title_sidebar": "Contents",
   "toc_cell": false,
   "toc_position": {
    "height": "calc(100% - 180px)",
    "left": "10px",
    "top": "150px",
    "width": "206px"
   },
   "toc_section_display": true,
   "toc_window_display": true
  }
 },
 "nbformat": 4,
 "nbformat_minor": 2
}
