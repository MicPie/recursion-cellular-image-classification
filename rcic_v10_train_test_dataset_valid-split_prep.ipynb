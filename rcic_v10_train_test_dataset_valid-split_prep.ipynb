{
 "cells": [
  {
   "cell_type": "markdown",
   "metadata": {},
   "source": [
    "# Imports"
   ]
  },
  {
   "cell_type": "code",
   "execution_count": 1,
   "metadata": {
    "ExecuteTime": {
     "end_time": "2019-07-27T05:34:05.198157Z",
     "start_time": "2019-07-27T05:34:04.932879Z"
    }
   },
   "outputs": [],
   "source": [
    "%reload_ext autoreload\n",
    "%autoreload 2\n",
    "%matplotlib inline"
   ]
  },
  {
   "cell_type": "code",
   "execution_count": 2,
   "metadata": {
    "ExecuteTime": {
     "end_time": "2019-07-27T05:34:05.402563Z",
     "start_time": "2019-07-27T05:34:05.199270Z"
    }
   },
   "outputs": [],
   "source": [
    "import pandas as pd\n",
    "import os\n",
    "from collections import Counter\n",
    "import matplotlib.pyplot as plt"
   ]
  },
  {
   "cell_type": "markdown",
   "metadata": {},
   "source": [
    "# Data"
   ]
  },
  {
   "cell_type": "code",
   "execution_count": 3,
   "metadata": {
    "ExecuteTime": {
     "end_time": "2019-07-14T12:08:38.658272Z",
     "start_time": "2019-07-14T12:08:38.547633Z"
    }
   },
   "outputs": [
    {
     "name": "stdout",
     "output_type": "stream",
     "text": [
      "HEPG2-01  HEPG2-06     HUVEC-03  HUVEC-08  HUVEC-13  RPE-01  RPE-06\r\n",
      "HEPG2-02  HEPG2-07     HUVEC-04  HUVEC-09  HUVEC-14  RPE-02  RPE-07\r\n",
      "HEPG2-03  history.csv  HUVEC-05  HUVEC-10  HUVEC-15  RPE-03  U2OS-01\r\n",
      "HEPG2-04  HUVEC-01     HUVEC-06  HUVEC-11  HUVEC-16  RPE-04  U2OS-02\r\n",
      "HEPG2-05  HUVEC-02     HUVEC-07  HUVEC-12  models    RPE-05  U2OS-03\r\n"
     ]
    }
   ],
   "source": [
    "# look at the train directories\n",
    "!ls  train"
   ]
  },
  {
   "cell_type": "code",
   "execution_count": 4,
   "metadata": {
    "ExecuteTime": {
     "end_time": "2019-07-14T12:08:47.413154Z",
     "start_time": "2019-07-14T12:08:47.298321Z"
    }
   },
   "outputs": [
    {
     "name": "stdout",
     "output_type": "stream",
     "text": [
      "HEPG2-08  HEPG2-11  HUVEC-19  HUVEC-22\tRPE-08\tRPE-11\r\n",
      "HEPG2-09  HUVEC-17  HUVEC-20  HUVEC-23\tRPE-09\tU2OS-04\r\n",
      "HEPG2-10  HUVEC-18  HUVEC-21  HUVEC-24\tRPE-10\tU2OS-05\r\n"
     ]
    }
   ],
   "source": [
    "# look at the train directories\n",
    "!ls  test"
   ]
  },
  {
   "cell_type": "code",
   "execution_count": 15,
   "metadata": {
    "ExecuteTime": {
     "end_time": "2019-07-14T12:13:22.770507Z",
     "start_time": "2019-07-14T12:13:22.765157Z"
    }
   },
   "outputs": [],
   "source": [
    "train_dir = [f.path.split('/')[1] for f in os.scandir('train') if f.is_dir()]\n",
    "test_dir = [f.path.split('/')[1] for f in os.scandir('test') if f.is_dir()]"
   ]
  },
  {
   "cell_type": "code",
   "execution_count": 27,
   "metadata": {
    "ExecuteTime": {
     "end_time": "2019-07-14T12:15:46.694544Z",
     "start_time": "2019-07-14T12:15:46.689857Z"
    }
   },
   "outputs": [],
   "source": [
    "train_exp = [d.split('-')[0] for d in train_dir]\n",
    "test_exp = [d.split('-')[0] for d in test_dir]"
   ]
  },
  {
   "cell_type": "code",
   "execution_count": 65,
   "metadata": {
    "ExecuteTime": {
     "end_time": "2019-07-14T12:25:33.014333Z",
     "start_time": "2019-07-14T12:25:33.008329Z"
    }
   },
   "outputs": [],
   "source": [
    "train_exp_counter = Counter(train_exp)\n",
    "test_exp_counter = Counter(test_exp)"
   ]
  },
  {
   "cell_type": "code",
   "execution_count": 66,
   "metadata": {
    "ExecuteTime": {
     "end_time": "2019-07-14T12:25:33.694324Z",
     "start_time": "2019-07-14T12:25:33.689067Z"
    }
   },
   "outputs": [],
   "source": [
    "# remove model directory in train folder\n",
    "del train_exp_counter['models']"
   ]
  },
  {
   "cell_type": "code",
   "execution_count": 69,
   "metadata": {
    "ExecuteTime": {
     "end_time": "2019-07-14T12:25:39.795636Z",
     "start_time": "2019-07-14T12:25:39.790803Z"
    }
   },
   "outputs": [
    {
     "data": {
      "text/plain": [
       "[('HUVEC', 16), ('RPE', 7), ('HEPG2', 7), ('U2OS', 3)]"
      ]
     },
     "execution_count": 69,
     "metadata": {},
     "output_type": "execute_result"
    }
   ],
   "source": [
    "# show experiment count per cell line\n",
    "train_exp_counter.most_common()"
   ]
  },
  {
   "cell_type": "code",
   "execution_count": 70,
   "metadata": {
    "ExecuteTime": {
     "end_time": "2019-07-14T12:25:43.686615Z",
     "start_time": "2019-07-14T12:25:43.681538Z"
    }
   },
   "outputs": [
    {
     "data": {
      "text/plain": [
       "[('HUVEC', 8), ('HEPG2', 4), ('RPE', 4), ('U2OS', 2)]"
      ]
     },
     "execution_count": 70,
     "metadata": {},
     "output_type": "execute_result"
    }
   ],
   "source": [
    "# show experiment count per cell line\n",
    "test_exp_counter.most_common()"
   ]
  },
  {
   "cell_type": "code",
   "execution_count": 71,
   "metadata": {
    "ExecuteTime": {
     "end_time": "2019-07-14T12:25:56.530370Z",
     "start_time": "2019-07-14T12:25:56.524787Z"
    }
   },
   "outputs": [],
   "source": [
    "exp = ['HUVEC', 'HEPG2', 'RPE', 'U2OS']"
   ]
  },
  {
   "cell_type": "code",
   "execution_count": 178,
   "metadata": {
    "ExecuteTime": {
     "end_time": "2019-07-14T13:41:12.097939Z",
     "start_time": "2019-07-14T13:41:12.015412Z"
    }
   },
   "outputs": [
    {
     "data": {
      "image/png": "[encoded data removed]",
      "text/plain": [
       "<Figure size 720x360 with 2 Axes>"
      ]
     },
     "metadata": {},
     "output_type": "display_data"
    }
   ],
   "source": [
    "fig, ax = plt.subplots(1, 2, figsize=(10,5))\n",
    "\n",
    "ax[0].title.set_text('Train dataset')\n",
    "ax[0].pie([float(train_exp_counter[e]) for e in exp], \n",
    "        labels=exp, \n",
    "        autopct='%1.0f%%');\n",
    "\n",
    "ax[1].title.set_text('Test dataset')\n",
    "ax[1].pie([float(test_exp_counter[e]) for e in exp], \n",
    "        labels=exp, \n",
    "        autopct='%1.0f%%');"
   ]
  },
  {
   "cell_type": "markdown",
   "metadata": {
    "ExecuteTime": {
     "end_time": "2019-07-14T12:30:32.141975Z",
     "start_time": "2019-07-14T12:30:32.136793Z"
    }
   },
   "source": [
    "Use the last two experiment for ('HUVEC', 16), ('RPE', 7), ('HEPG2', 7) and the last from ('U2OS', 3) as validation set."
   ]
  },
  {
   "cell_type": "code",
   "execution_count": 83,
   "metadata": {
    "ExecuteTime": {
     "end_time": "2019-07-14T12:31:48.999867Z",
     "start_time": "2019-07-14T12:31:48.887463Z"
    }
   },
   "outputs": [
    {
     "name": "stdout",
     "output_type": "stream",
     "text": [
      "HEPG2-01  HEPG2-06     HUVEC-03  HUVEC-08  HUVEC-13  RPE-01  RPE-06\r\n",
      "HEPG2-02  HEPG2-07     HUVEC-04  HUVEC-09  HUVEC-14  RPE-02  RPE-07\r\n",
      "HEPG2-03  history.csv  HUVEC-05  HUVEC-10  HUVEC-15  RPE-03  U2OS-01\r\n",
      "HEPG2-04  HUVEC-01     HUVEC-06  HUVEC-11  HUVEC-16  RPE-04  U2OS-02\r\n",
      "HEPG2-05  HUVEC-02     HUVEC-07  HUVEC-12  models    RPE-05  U2OS-03\r\n"
     ]
    }
   ],
   "source": [
    "# look at the train directories\n",
    "!ls  train"
   ]
  },
  {
   "cell_type": "code",
   "execution_count": 84,
   "metadata": {
    "ExecuteTime": {
     "end_time": "2019-07-14T12:32:04.680990Z",
     "start_time": "2019-07-14T12:32:04.676224Z"
    }
   },
   "outputs": [
    {
     "data": {
      "text/plain": [
       "[('HUVEC', 16), ('RPE', 7), ('HEPG2', 7), ('U2OS', 3)]"
      ]
     },
     "execution_count": 84,
     "metadata": {},
     "output_type": "execute_result"
    }
   ],
   "source": [
    "# show experiment count per cell line\n",
    "train_exp_counter.most_common()"
   ]
  },
  {
   "cell_type": "code",
   "execution_count": 3,
   "metadata": {
    "ExecuteTime": {
     "end_time": "2019-07-27T05:34:11.436570Z",
     "start_time": "2019-07-27T05:34:11.428407Z"
    }
   },
   "outputs": [],
   "source": [
    "valid_exp_split = ['HUVEC-15', 'HUVEC-16',\n",
    "                   'RPE-06', 'RPE-07', \n",
    "                   'HEPG2-06', 'HEPG2-07', \n",
    "                   'U2OS-03']"
   ]
  },
  {
   "cell_type": "markdown",
   "metadata": {},
   "source": [
    "# v1"
   ]
  },
  {
   "cell_type": "markdown",
   "metadata": {},
   "source": [
    "## full_train_dataset_valid-split-ex_v1_20190714.csv"
   ]
  },
  {
   "cell_type": "code",
   "execution_count": 149,
   "metadata": {
    "ExecuteTime": {
     "end_time": "2019-07-14T12:40:30.586755Z",
     "start_time": "2019-07-14T12:40:30.563033Z"
    }
   },
   "outputs": [],
   "source": [
    "df_train = pd.read_csv('train.csv')"
   ]
  },
  {
   "cell_type": "code",
   "execution_count": 150,
   "metadata": {
    "ExecuteTime": {
     "end_time": "2019-07-14T12:40:30.768119Z",
     "start_time": "2019-07-14T12:40:30.745347Z"
    }
   },
   "outputs": [
    {
     "data": {
      "text/html": [
       "<div>\n",
       "<style scoped>\n",
       "    .dataframe tbody tr th:only-of-type {\n",
       "        vertical-align: middle;\n",
       "    }\n",
       "\n",
       "    .dataframe tbody tr th {\n",
       "        vertical-align: top;\n",
       "    }\n",
       "\n",
       "    .dataframe thead th {\n",
       "        text-align: right;\n",
       "    }\n",
       "</style>\n",
       "<table border=\"1\" class=\"dataframe\">\n",
       "  <thead>\n",
       "    <tr style=\"text-align: right;\">\n",
       "      <th></th>\n",
       "      <th>id_code</th>\n",
       "      <th>experiment</th>\n",
       "      <th>plate</th>\n",
       "      <th>well</th>\n",
       "      <th>sirna</th>\n",
       "    </tr>\n",
       "  </thead>\n",
       "  <tbody>\n",
       "    <tr>\n",
       "      <th>0</th>\n",
       "      <td>HEPG2-01_1_B03</td>\n",
       "      <td>HEPG2-01</td>\n",
       "      <td>1</td>\n",
       "      <td>B03</td>\n",
       "      <td>513</td>\n",
       "    </tr>\n",
       "    <tr>\n",
       "      <th>1</th>\n",
       "      <td>HEPG2-01_1_B04</td>\n",
       "      <td>HEPG2-01</td>\n",
       "      <td>1</td>\n",
       "      <td>B04</td>\n",
       "      <td>840</td>\n",
       "    </tr>\n",
       "    <tr>\n",
       "      <th>2</th>\n",
       "      <td>HEPG2-01_1_B05</td>\n",
       "      <td>HEPG2-01</td>\n",
       "      <td>1</td>\n",
       "      <td>B05</td>\n",
       "      <td>1020</td>\n",
       "    </tr>\n",
       "    <tr>\n",
       "      <th>3</th>\n",
       "      <td>HEPG2-01_1_B06</td>\n",
       "      <td>HEPG2-01</td>\n",
       "      <td>1</td>\n",
       "      <td>B06</td>\n",
       "      <td>254</td>\n",
       "    </tr>\n",
       "    <tr>\n",
       "      <th>4</th>\n",
       "      <td>HEPG2-01_1_B07</td>\n",
       "      <td>HEPG2-01</td>\n",
       "      <td>1</td>\n",
       "      <td>B07</td>\n",
       "      <td>144</td>\n",
       "    </tr>\n",
       "  </tbody>\n",
       "</table>\n",
       "</div>"
      ],
      "text/plain": [
       "          id_code experiment  plate well  sirna\n",
       "0  HEPG2-01_1_B03   HEPG2-01      1  B03    513\n",
       "1  HEPG2-01_1_B04   HEPG2-01      1  B04    840\n",
       "2  HEPG2-01_1_B05   HEPG2-01      1  B05   1020\n",
       "3  HEPG2-01_1_B06   HEPG2-01      1  B06    254\n",
       "4  HEPG2-01_1_B07   HEPG2-01      1  B07    144"
      ]
     },
     "execution_count": 150,
     "metadata": {},
     "output_type": "execute_result"
    }
   ],
   "source": [
    "df_train.head()"
   ]
  },
  {
   "cell_type": "code",
   "execution_count": 151,
   "metadata": {
    "ExecuteTime": {
     "end_time": "2019-07-14T12:40:30.979907Z",
     "start_time": "2019-07-14T12:40:30.960918Z"
    }
   },
   "outputs": [
    {
     "data": {
      "text/plain": [
       "(array(['HEPG2-01', 'HEPG2-02', 'HEPG2-03', 'HEPG2-04', 'HEPG2-05',\n",
       "        'HEPG2-06', 'HEPG2-07', 'HUVEC-01', 'HUVEC-02', 'HUVEC-03',\n",
       "        'HUVEC-04', 'HUVEC-05', 'HUVEC-06', 'HUVEC-07', 'HUVEC-08',\n",
       "        'HUVEC-09', 'HUVEC-10', 'HUVEC-11', 'HUVEC-12', 'HUVEC-13',\n",
       "        'HUVEC-14', 'HUVEC-15', 'HUVEC-16', 'RPE-01', 'RPE-02', 'RPE-03',\n",
       "        'RPE-04', 'RPE-05', 'RPE-06', 'RPE-07', 'U2OS-01', 'U2OS-02',\n",
       "        'U2OS-03'], dtype=object), 33)"
      ]
     },
     "execution_count": 151,
     "metadata": {},
     "output_type": "execute_result"
    }
   ],
   "source": [
    "df_train.experiment.unique(), len(df_train.experiment.unique())"
   ]
  },
  {
   "cell_type": "code",
   "execution_count": 152,
   "metadata": {
    "ExecuteTime": {
     "end_time": "2019-07-14T12:40:31.179214Z",
     "start_time": "2019-07-14T12:40:31.173907Z"
    }
   },
   "outputs": [],
   "source": [
    "experiments = ['HEPG2-01', 'HEPG2-02', 'HEPG2-03', 'HEPG2-04', 'HEPG2-05', 'HEPG2-06', 'HEPG2-07', \n",
    "               'HUVEC-01', 'HUVEC-02', 'HUVEC-03', 'HUVEC-04', 'HUVEC-05', 'HUVEC-06', 'HUVEC-07', \n",
    "               'HUVEC-08', 'HUVEC-09', 'HUVEC-10', 'HUVEC-11', 'HUVEC-12', 'HUVEC-13', 'HUVEC-14', \n",
    "               'HUVEC-15', 'HUVEC-16', \n",
    "               'RPE-01', 'RPE-02', 'RPE-03', 'RPE-04', 'RPE-05', 'RPE-06', 'RPE-07',\n",
    "               'U2OS-01', 'U2OS-02', 'U2OS-03'\n",
    "              ]"
   ]
  },
  {
   "cell_type": "code",
   "execution_count": 153,
   "metadata": {
    "ExecuteTime": {
     "end_time": "2019-07-14T12:40:31.411837Z",
     "start_time": "2019-07-14T12:40:31.354804Z"
    }
   },
   "outputs": [],
   "source": [
    "# setup empty df\n",
    "df = pd.DataFrame()\n",
    "# generate path without channel and image file suffix for open image function\n",
    "df['path'] = df_train['experiment']+'/Plate'+df_train['plate'].apply(str)+'/'+df_train['well']+'_s1' #+'_w'\n"
   ]
  },
  {
   "cell_type": "code",
   "execution_count": 154,
   "metadata": {
    "ExecuteTime": {
     "end_time": "2019-07-14T12:40:31.566413Z",
     "start_time": "2019-07-14T12:40:31.557197Z"
    }
   },
   "outputs": [],
   "source": [
    "df['experiment'] = df_train['experiment']"
   ]
  },
  {
   "cell_type": "code",
   "execution_count": 155,
   "metadata": {
    "ExecuteTime": {
     "end_time": "2019-07-14T12:40:31.772529Z",
     "start_time": "2019-07-14T12:40:31.764638Z"
    }
   },
   "outputs": [],
   "source": [
    "df['sirna'] = df_train['sirna']"
   ]
  },
  {
   "cell_type": "code",
   "execution_count": 156,
   "metadata": {
    "ExecuteTime": {
     "end_time": "2019-07-14T12:40:31.973327Z",
     "start_time": "2019-07-14T12:40:31.950676Z"
    }
   },
   "outputs": [],
   "source": [
    "df['multi'] = df_train['experiment'].apply(lambda x: x.split('/')[0])+' '+df_train['sirna'].apply(lambda x: str(x))\n"
   ]
  },
  {
   "cell_type": "code",
   "execution_count": 157,
   "metadata": {
    "ExecuteTime": {
     "end_time": "2019-07-14T12:40:32.172619Z",
     "start_time": "2019-07-14T12:40:32.150720Z"
    }
   },
   "outputs": [
    {
     "data": {
      "text/html": [
       "<div>\n",
       "<style scoped>\n",
       "    .dataframe tbody tr th:only-of-type {\n",
       "        vertical-align: middle;\n",
       "    }\n",
       "\n",
       "    .dataframe tbody tr th {\n",
       "        vertical-align: top;\n",
       "    }\n",
       "\n",
       "    .dataframe thead th {\n",
       "        text-align: right;\n",
       "    }\n",
       "</style>\n",
       "<table border=\"1\" class=\"dataframe\">\n",
       "  <thead>\n",
       "    <tr style=\"text-align: right;\">\n",
       "      <th></th>\n",
       "      <th>path</th>\n",
       "      <th>experiment</th>\n",
       "      <th>sirna</th>\n",
       "      <th>multi</th>\n",
       "    </tr>\n",
       "  </thead>\n",
       "  <tbody>\n",
       "    <tr>\n",
       "      <th>0</th>\n",
       "      <td>HEPG2-01/Plate1/B03_s1</td>\n",
       "      <td>HEPG2-01</td>\n",
       "      <td>513</td>\n",
       "      <td>HEPG2-01 513</td>\n",
       "    </tr>\n",
       "    <tr>\n",
       "      <th>1</th>\n",
       "      <td>HEPG2-01/Plate1/B04_s1</td>\n",
       "      <td>HEPG2-01</td>\n",
       "      <td>840</td>\n",
       "      <td>HEPG2-01 840</td>\n",
       "    </tr>\n",
       "    <tr>\n",
       "      <th>2</th>\n",
       "      <td>HEPG2-01/Plate1/B05_s1</td>\n",
       "      <td>HEPG2-01</td>\n",
       "      <td>1020</td>\n",
       "      <td>HEPG2-01 1020</td>\n",
       "    </tr>\n",
       "    <tr>\n",
       "      <th>3</th>\n",
       "      <td>HEPG2-01/Plate1/B06_s1</td>\n",
       "      <td>HEPG2-01</td>\n",
       "      <td>254</td>\n",
       "      <td>HEPG2-01 254</td>\n",
       "    </tr>\n",
       "    <tr>\n",
       "      <th>4</th>\n",
       "      <td>HEPG2-01/Plate1/B07_s1</td>\n",
       "      <td>HEPG2-01</td>\n",
       "      <td>144</td>\n",
       "      <td>HEPG2-01 144</td>\n",
       "    </tr>\n",
       "  </tbody>\n",
       "</table>\n",
       "</div>"
      ],
      "text/plain": [
       "                     path experiment  sirna          multi\n",
       "0  HEPG2-01/Plate1/B03_s1   HEPG2-01    513   HEPG2-01 513\n",
       "1  HEPG2-01/Plate1/B04_s1   HEPG2-01    840   HEPG2-01 840\n",
       "2  HEPG2-01/Plate1/B05_s1   HEPG2-01   1020  HEPG2-01 1020\n",
       "3  HEPG2-01/Plate1/B06_s1   HEPG2-01    254   HEPG2-01 254\n",
       "4  HEPG2-01/Plate1/B07_s1   HEPG2-01    144   HEPG2-01 144"
      ]
     },
     "execution_count": 157,
     "metadata": {},
     "output_type": "execute_result"
    }
   ],
   "source": [
    "df.head()"
   ]
  },
  {
   "cell_type": "code",
   "execution_count": 158,
   "metadata": {
    "ExecuteTime": {
     "end_time": "2019-07-14T12:40:32.430735Z",
     "start_time": "2019-07-14T12:40:32.399027Z"
    }
   },
   "outputs": [],
   "source": [
    "# filter for experiments\n",
    "df = df[df['experiment'].isin(experiments)]"
   ]
  },
  {
   "cell_type": "code",
   "execution_count": 159,
   "metadata": {
    "ExecuteTime": {
     "end_time": "2019-07-14T12:40:32.704249Z",
     "start_time": "2019-07-14T12:40:32.604950Z"
    }
   },
   "outputs": [
    {
     "data": {
      "text/plain": [
       "[1106,\n",
       " 1106,\n",
       " 1108,\n",
       " 1108,\n",
       " 1108,\n",
       " 1108,\n",
       " 1106,\n",
       " 1108,\n",
       " 1108,\n",
       " 1108,\n",
       " 1108,\n",
       " 1108,\n",
       " 1107,\n",
       " 1107,\n",
       " 1108,\n",
       " 1108,\n",
       " 1108,\n",
       " 1108,\n",
       " 1108,\n",
       " 1102,\n",
       " 1090,\n",
       " 1094,\n",
       " 1108,\n",
       " 1108,\n",
       " 1108,\n",
       " 1108,\n",
       " 1107,\n",
       " 1108,\n",
       " 1106,\n",
       " 1108,\n",
       " 1108,\n",
       " 1108,\n",
       " 1108]"
      ]
     },
     "execution_count": 159,
     "metadata": {},
     "output_type": "execute_result"
    }
   ],
   "source": [
    "# get rows/images per experiment\n",
    "[len(df[df['experiment'] == x]) for x in experiments]"
   ]
  },
  {
   "cell_type": "code",
   "execution_count": 160,
   "metadata": {
    "ExecuteTime": {
     "end_time": "2019-07-14T12:40:33.280433Z",
     "start_time": "2019-07-14T12:40:33.272934Z"
    }
   },
   "outputs": [
    {
     "data": {
      "text/html": [
       "<div>\n",
       "<style scoped>\n",
       "    .dataframe tbody tr th:only-of-type {\n",
       "        vertical-align: middle;\n",
       "    }\n",
       "\n",
       "    .dataframe tbody tr th {\n",
       "        vertical-align: top;\n",
       "    }\n",
       "\n",
       "    .dataframe thead th {\n",
       "        text-align: right;\n",
       "    }\n",
       "</style>\n",
       "<table border=\"1\" class=\"dataframe\">\n",
       "  <thead>\n",
       "    <tr style=\"text-align: right;\">\n",
       "      <th></th>\n",
       "      <th>path</th>\n",
       "      <th>experiment</th>\n",
       "      <th>sirna</th>\n",
       "      <th>multi</th>\n",
       "    </tr>\n",
       "  </thead>\n",
       "  <tbody>\n",
       "    <tr>\n",
       "      <th>36510</th>\n",
       "      <td>U2OS-03/Plate4/O19_s1</td>\n",
       "      <td>U2OS-03</td>\n",
       "      <td>103</td>\n",
       "      <td>U2OS-03 103</td>\n",
       "    </tr>\n",
       "    <tr>\n",
       "      <th>36511</th>\n",
       "      <td>U2OS-03/Plate4/O20_s1</td>\n",
       "      <td>U2OS-03</td>\n",
       "      <td>202</td>\n",
       "      <td>U2OS-03 202</td>\n",
       "    </tr>\n",
       "    <tr>\n",
       "      <th>36512</th>\n",
       "      <td>U2OS-03/Plate4/O21_s1</td>\n",
       "      <td>U2OS-03</td>\n",
       "      <td>824</td>\n",
       "      <td>U2OS-03 824</td>\n",
       "    </tr>\n",
       "    <tr>\n",
       "      <th>36513</th>\n",
       "      <td>U2OS-03/Plate4/O22_s1</td>\n",
       "      <td>U2OS-03</td>\n",
       "      <td>328</td>\n",
       "      <td>U2OS-03 328</td>\n",
       "    </tr>\n",
       "    <tr>\n",
       "      <th>36514</th>\n",
       "      <td>U2OS-03/Plate4/O23_s1</td>\n",
       "      <td>U2OS-03</td>\n",
       "      <td>509</td>\n",
       "      <td>U2OS-03 509</td>\n",
       "    </tr>\n",
       "  </tbody>\n",
       "</table>\n",
       "</div>"
      ],
      "text/plain": [
       "                        path experiment  sirna        multi\n",
       "36510  U2OS-03/Plate4/O19_s1    U2OS-03    103  U2OS-03 103\n",
       "36511  U2OS-03/Plate4/O20_s1    U2OS-03    202  U2OS-03 202\n",
       "36512  U2OS-03/Plate4/O21_s1    U2OS-03    824  U2OS-03 824\n",
       "36513  U2OS-03/Plate4/O22_s1    U2OS-03    328  U2OS-03 328\n",
       "36514  U2OS-03/Plate4/O23_s1    U2OS-03    509  U2OS-03 509"
      ]
     },
     "execution_count": 160,
     "metadata": {},
     "output_type": "execute_result"
    }
   ],
   "source": [
    "df.tail()"
   ]
  },
  {
   "cell_type": "code",
   "execution_count": 161,
   "metadata": {
    "ExecuteTime": {
     "end_time": "2019-07-14T12:40:33.892851Z",
     "start_time": "2019-07-14T12:40:33.884731Z"
    }
   },
   "outputs": [],
   "source": [
    "df['valid'] = 0"
   ]
  },
  {
   "cell_type": "code",
   "execution_count": 162,
   "metadata": {
    "ExecuteTime": {
     "end_time": "2019-07-14T12:40:34.542382Z",
     "start_time": "2019-07-14T12:40:34.514598Z"
    }
   },
   "outputs": [],
   "source": [
    "for c in valid_exp_split:\n",
    "    df.loc[df['experiment'] == c,'valid'] = 1"
   ]
  },
  {
   "cell_type": "code",
   "execution_count": 163,
   "metadata": {
    "ExecuteTime": {
     "end_time": "2019-07-14T12:40:35.195903Z",
     "start_time": "2019-07-14T12:40:35.188341Z"
    }
   },
   "outputs": [
    {
     "data": {
      "text/html": [
       "<div>\n",
       "<style scoped>\n",
       "    .dataframe tbody tr th:only-of-type {\n",
       "        vertical-align: middle;\n",
       "    }\n",
       "\n",
       "    .dataframe tbody tr th {\n",
       "        vertical-align: top;\n",
       "    }\n",
       "\n",
       "    .dataframe thead th {\n",
       "        text-align: right;\n",
       "    }\n",
       "</style>\n",
       "<table border=\"1\" class=\"dataframe\">\n",
       "  <thead>\n",
       "    <tr style=\"text-align: right;\">\n",
       "      <th></th>\n",
       "      <th>path</th>\n",
       "      <th>experiment</th>\n",
       "      <th>sirna</th>\n",
       "      <th>multi</th>\n",
       "      <th>valid</th>\n",
       "    </tr>\n",
       "  </thead>\n",
       "  <tbody>\n",
       "    <tr>\n",
       "      <th>0</th>\n",
       "      <td>HEPG2-01/Plate1/B03_s1</td>\n",
       "      <td>HEPG2-01</td>\n",
       "      <td>513</td>\n",
       "      <td>HEPG2-01 513</td>\n",
       "      <td>0</td>\n",
       "    </tr>\n",
       "    <tr>\n",
       "      <th>1</th>\n",
       "      <td>HEPG2-01/Plate1/B04_s1</td>\n",
       "      <td>HEPG2-01</td>\n",
       "      <td>840</td>\n",
       "      <td>HEPG2-01 840</td>\n",
       "      <td>0</td>\n",
       "    </tr>\n",
       "    <tr>\n",
       "      <th>2</th>\n",
       "      <td>HEPG2-01/Plate1/B05_s1</td>\n",
       "      <td>HEPG2-01</td>\n",
       "      <td>1020</td>\n",
       "      <td>HEPG2-01 1020</td>\n",
       "      <td>0</td>\n",
       "    </tr>\n",
       "    <tr>\n",
       "      <th>3</th>\n",
       "      <td>HEPG2-01/Plate1/B06_s1</td>\n",
       "      <td>HEPG2-01</td>\n",
       "      <td>254</td>\n",
       "      <td>HEPG2-01 254</td>\n",
       "      <td>0</td>\n",
       "    </tr>\n",
       "    <tr>\n",
       "      <th>4</th>\n",
       "      <td>HEPG2-01/Plate1/B07_s1</td>\n",
       "      <td>HEPG2-01</td>\n",
       "      <td>144</td>\n",
       "      <td>HEPG2-01 144</td>\n",
       "      <td>0</td>\n",
       "    </tr>\n",
       "  </tbody>\n",
       "</table>\n",
       "</div>"
      ],
      "text/plain": [
       "                     path experiment  sirna          multi  valid\n",
       "0  HEPG2-01/Plate1/B03_s1   HEPG2-01    513   HEPG2-01 513      0\n",
       "1  HEPG2-01/Plate1/B04_s1   HEPG2-01    840   HEPG2-01 840      0\n",
       "2  HEPG2-01/Plate1/B05_s1   HEPG2-01   1020  HEPG2-01 1020      0\n",
       "3  HEPG2-01/Plate1/B06_s1   HEPG2-01    254   HEPG2-01 254      0\n",
       "4  HEPG2-01/Plate1/B07_s1   HEPG2-01    144   HEPG2-01 144      0"
      ]
     },
     "execution_count": 163,
     "metadata": {},
     "output_type": "execute_result"
    }
   ],
   "source": [
    "df.head()"
   ]
  },
  {
   "cell_type": "code",
   "execution_count": 164,
   "metadata": {
    "ExecuteTime": {
     "end_time": "2019-07-14T12:40:35.761277Z",
     "start_time": "2019-07-14T12:40:35.756475Z"
    }
   },
   "outputs": [
    {
     "data": {
      "text/plain": [
       "0.21191291250171163"
      ]
     },
     "execution_count": 164,
     "metadata": {},
     "output_type": "execute_result"
    }
   ],
   "source": [
    "df.valid.mean()"
   ]
  },
  {
   "cell_type": "code",
   "execution_count": 165,
   "metadata": {
    "ExecuteTime": {
     "end_time": "2019-07-14T12:40:36.428114Z",
     "start_time": "2019-07-14T12:40:36.420351Z"
    }
   },
   "outputs": [
    {
     "data": {
      "text/html": [
       "<div>\n",
       "<style scoped>\n",
       "    .dataframe tbody tr th:only-of-type {\n",
       "        vertical-align: middle;\n",
       "    }\n",
       "\n",
       "    .dataframe tbody tr th {\n",
       "        vertical-align: top;\n",
       "    }\n",
       "\n",
       "    .dataframe thead th {\n",
       "        text-align: right;\n",
       "    }\n",
       "</style>\n",
       "<table border=\"1\" class=\"dataframe\">\n",
       "  <thead>\n",
       "    <tr style=\"text-align: right;\">\n",
       "      <th></th>\n",
       "      <th>path</th>\n",
       "      <th>experiment</th>\n",
       "      <th>sirna</th>\n",
       "      <th>multi</th>\n",
       "      <th>valid</th>\n",
       "    </tr>\n",
       "  </thead>\n",
       "  <tbody>\n",
       "    <tr>\n",
       "      <th>36510</th>\n",
       "      <td>U2OS-03/Plate4/O19_s1</td>\n",
       "      <td>U2OS-03</td>\n",
       "      <td>103</td>\n",
       "      <td>U2OS-03 103</td>\n",
       "      <td>1</td>\n",
       "    </tr>\n",
       "    <tr>\n",
       "      <th>36511</th>\n",
       "      <td>U2OS-03/Plate4/O20_s1</td>\n",
       "      <td>U2OS-03</td>\n",
       "      <td>202</td>\n",
       "      <td>U2OS-03 202</td>\n",
       "      <td>1</td>\n",
       "    </tr>\n",
       "    <tr>\n",
       "      <th>36512</th>\n",
       "      <td>U2OS-03/Plate4/O21_s1</td>\n",
       "      <td>U2OS-03</td>\n",
       "      <td>824</td>\n",
       "      <td>U2OS-03 824</td>\n",
       "      <td>1</td>\n",
       "    </tr>\n",
       "    <tr>\n",
       "      <th>36513</th>\n",
       "      <td>U2OS-03/Plate4/O22_s1</td>\n",
       "      <td>U2OS-03</td>\n",
       "      <td>328</td>\n",
       "      <td>U2OS-03 328</td>\n",
       "      <td>1</td>\n",
       "    </tr>\n",
       "    <tr>\n",
       "      <th>36514</th>\n",
       "      <td>U2OS-03/Plate4/O23_s1</td>\n",
       "      <td>U2OS-03</td>\n",
       "      <td>509</td>\n",
       "      <td>U2OS-03 509</td>\n",
       "      <td>1</td>\n",
       "    </tr>\n",
       "  </tbody>\n",
       "</table>\n",
       "</div>"
      ],
      "text/plain": [
       "                        path experiment  sirna        multi  valid\n",
       "36510  U2OS-03/Plate4/O19_s1    U2OS-03    103  U2OS-03 103      1\n",
       "36511  U2OS-03/Plate4/O20_s1    U2OS-03    202  U2OS-03 202      1\n",
       "36512  U2OS-03/Plate4/O21_s1    U2OS-03    824  U2OS-03 824      1\n",
       "36513  U2OS-03/Plate4/O22_s1    U2OS-03    328  U2OS-03 328      1\n",
       "36514  U2OS-03/Plate4/O23_s1    U2OS-03    509  U2OS-03 509      1"
      ]
     },
     "execution_count": 165,
     "metadata": {},
     "output_type": "execute_result"
    }
   ],
   "source": [
    "df.tail()"
   ]
  },
  {
   "cell_type": "code",
   "execution_count": 166,
   "metadata": {
    "ExecuteTime": {
     "end_time": "2019-07-14T12:40:38.479953Z",
     "start_time": "2019-07-14T12:40:38.422478Z"
    }
   },
   "outputs": [
    {
     "data": {
      "text/plain": [
       "[1106,\n",
       " 1106,\n",
       " 1108,\n",
       " 1108,\n",
       " 1108,\n",
       " 1108,\n",
       " 1106,\n",
       " 1108,\n",
       " 1108,\n",
       " 1108,\n",
       " 1108,\n",
       " 1108,\n",
       " 1107,\n",
       " 1107,\n",
       " 1108,\n",
       " 1108,\n",
       " 1108,\n",
       " 1108,\n",
       " 1108,\n",
       " 1102,\n",
       " 1090,\n",
       " 1094,\n",
       " 1108,\n",
       " 1108,\n",
       " 1108,\n",
       " 1108,\n",
       " 1107,\n",
       " 1108,\n",
       " 1106,\n",
       " 1108,\n",
       " 1108,\n",
       " 1108,\n",
       " 1108]"
      ]
     },
     "execution_count": 166,
     "metadata": {},
     "output_type": "execute_result"
    }
   ],
   "source": [
    "# get rows/images per experiment\n",
    "[len(df[df['experiment'] == x]) for x in experiments]"
   ]
  },
  {
   "cell_type": "code",
   "execution_count": 173,
   "metadata": {
    "ExecuteTime": {
     "end_time": "2019-07-14T13:08:52.677311Z",
     "start_time": "2019-07-14T13:08:52.661410Z"
    }
   },
   "outputs": [
    {
     "data": {
      "text/plain": [
       "7738"
      ]
     },
     "execution_count": 173,
     "metadata": {},
     "output_type": "execute_result"
    }
   ],
   "source": [
    "df.pivot_table(values='valid', index='experiment', aggfunc='sum')['valid'].sum()"
   ]
  },
  {
   "cell_type": "code",
   "execution_count": 175,
   "metadata": {
    "ExecuteTime": {
     "end_time": "2019-07-14T13:09:03.229296Z",
     "start_time": "2019-07-14T13:09:03.226961Z"
    }
   },
   "outputs": [
    {
     "data": {
      "text/plain": [
       "36515"
      ]
     },
     "execution_count": 175,
     "metadata": {},
     "output_type": "execute_result"
    }
   ],
   "source": [
    "df.shape[0]"
   ]
  },
  {
   "cell_type": "code",
   "execution_count": 176,
   "metadata": {
    "ExecuteTime": {
     "end_time": "2019-07-14T13:09:15.395401Z",
     "start_time": "2019-07-14T13:09:15.381127Z"
    }
   },
   "outputs": [
    {
     "data": {
      "text/plain": [
       "0.21191291250171163"
      ]
     },
     "execution_count": 176,
     "metadata": {},
     "output_type": "execute_result"
    }
   ],
   "source": [
    "df.pivot_table(values='valid', index='experiment', aggfunc='sum')['valid'].sum()/df.shape[0]"
   ]
  },
  {
   "cell_type": "code",
   "execution_count": 167,
   "metadata": {
    "ExecuteTime": {
     "end_time": "2019-07-14T12:40:56.555967Z",
     "start_time": "2019-07-14T12:40:56.467969Z"
    }
   },
   "outputs": [],
   "source": [
    "df.to_csv('full_train_dataset_valid-split-ex_v1_20190714.csv')"
   ]
  },
  {
   "cell_type": "markdown",
   "metadata": {},
   "source": [
    "## full_test_dataset_v1_20190714.csv"
   ]
  },
  {
   "cell_type": "code",
   "execution_count": 179,
   "metadata": {
    "ExecuteTime": {
     "end_time": "2019-07-14T15:16:20.545675Z",
     "start_time": "2019-07-14T15:16:20.525223Z"
    }
   },
   "outputs": [],
   "source": [
    "df_test = pd.read_csv('test.csv')"
   ]
  },
  {
   "cell_type": "code",
   "execution_count": 180,
   "metadata": {
    "ExecuteTime": {
     "end_time": "2019-07-14T15:16:20.809491Z",
     "start_time": "2019-07-14T15:16:20.799506Z"
    }
   },
   "outputs": [
    {
     "data": {
      "text/html": [
       "<div>\n",
       "<style scoped>\n",
       "    .dataframe tbody tr th:only-of-type {\n",
       "        vertical-align: middle;\n",
       "    }\n",
       "\n",
       "    .dataframe tbody tr th {\n",
       "        vertical-align: top;\n",
       "    }\n",
       "\n",
       "    .dataframe thead th {\n",
       "        text-align: right;\n",
       "    }\n",
       "</style>\n",
       "<table border=\"1\" class=\"dataframe\">\n",
       "  <thead>\n",
       "    <tr style=\"text-align: right;\">\n",
       "      <th></th>\n",
       "      <th>id_code</th>\n",
       "      <th>experiment</th>\n",
       "      <th>plate</th>\n",
       "      <th>well</th>\n",
       "    </tr>\n",
       "  </thead>\n",
       "  <tbody>\n",
       "    <tr>\n",
       "      <th>0</th>\n",
       "      <td>HEPG2-08_1_B03</td>\n",
       "      <td>HEPG2-08</td>\n",
       "      <td>1</td>\n",
       "      <td>B03</td>\n",
       "    </tr>\n",
       "    <tr>\n",
       "      <th>1</th>\n",
       "      <td>HEPG2-08_1_B04</td>\n",
       "      <td>HEPG2-08</td>\n",
       "      <td>1</td>\n",
       "      <td>B04</td>\n",
       "    </tr>\n",
       "    <tr>\n",
       "      <th>2</th>\n",
       "      <td>HEPG2-08_1_B05</td>\n",
       "      <td>HEPG2-08</td>\n",
       "      <td>1</td>\n",
       "      <td>B05</td>\n",
       "    </tr>\n",
       "    <tr>\n",
       "      <th>3</th>\n",
       "      <td>HEPG2-08_1_B06</td>\n",
       "      <td>HEPG2-08</td>\n",
       "      <td>1</td>\n",
       "      <td>B06</td>\n",
       "    </tr>\n",
       "    <tr>\n",
       "      <th>4</th>\n",
       "      <td>HEPG2-08_1_B07</td>\n",
       "      <td>HEPG2-08</td>\n",
       "      <td>1</td>\n",
       "      <td>B07</td>\n",
       "    </tr>\n",
       "  </tbody>\n",
       "</table>\n",
       "</div>"
      ],
      "text/plain": [
       "          id_code experiment  plate well\n",
       "0  HEPG2-08_1_B03   HEPG2-08      1  B03\n",
       "1  HEPG2-08_1_B04   HEPG2-08      1  B04\n",
       "2  HEPG2-08_1_B05   HEPG2-08      1  B05\n",
       "3  HEPG2-08_1_B06   HEPG2-08      1  B06\n",
       "4  HEPG2-08_1_B07   HEPG2-08      1  B07"
      ]
     },
     "execution_count": 180,
     "metadata": {},
     "output_type": "execute_result"
    }
   ],
   "source": [
    "df_test.head()"
   ]
  },
  {
   "cell_type": "code",
   "execution_count": 181,
   "metadata": {
    "ExecuteTime": {
     "end_time": "2019-07-14T15:16:21.094057Z",
     "start_time": "2019-07-14T15:16:21.087780Z"
    }
   },
   "outputs": [
    {
     "data": {
      "text/plain": [
       "(array(['HEPG2-08', 'HEPG2-09', 'HEPG2-10', 'HEPG2-11', 'HUVEC-17',\n",
       "        'HUVEC-18', 'HUVEC-19', 'HUVEC-20', 'HUVEC-21', 'HUVEC-22',\n",
       "        'HUVEC-23', 'HUVEC-24', 'RPE-08', 'RPE-09', 'RPE-10', 'RPE-11',\n",
       "        'U2OS-04', 'U2OS-05'], dtype=object), 18)"
      ]
     },
     "execution_count": 181,
     "metadata": {},
     "output_type": "execute_result"
    }
   ],
   "source": [
    "df_test.experiment.unique(), len(df_test.experiment.unique())"
   ]
  },
  {
   "cell_type": "code",
   "execution_count": 182,
   "metadata": {
    "ExecuteTime": {
     "end_time": "2019-07-14T15:16:21.411352Z",
     "start_time": "2019-07-14T15:16:21.406589Z"
    }
   },
   "outputs": [],
   "source": [
    "experiments = ['HEPG2-08', 'HEPG2-09', 'HEPG2-10', 'HEPG2-11', 'HUVEC-17', 'HUVEC-18', 'HUVEC-19', 'HUVEC-20', 'HUVEC-21',\n",
    "        'HUVEC-22', 'HUVEC-23', 'HUVEC-24', 'RPE-08', 'RPE-09', 'RPE-10', 'RPE-11', 'U2OS-04', 'U2OS-05']"
   ]
  },
  {
   "cell_type": "code",
   "execution_count": 183,
   "metadata": {
    "ExecuteTime": {
     "end_time": "2019-07-14T15:16:22.048404Z",
     "start_time": "2019-07-14T15:16:22.033500Z"
    }
   },
   "outputs": [],
   "source": [
    "# setup empty df\n",
    "df = pd.DataFrame()\n",
    "# generate path without channel and image file suffix for open image function\n",
    "df['path'] = df_test['experiment']+'/Plate'+df_test['plate'].apply(str)+'/'+df_test['well']+'_s1' #+'_w'\n"
   ]
  },
  {
   "cell_type": "code",
   "execution_count": 184,
   "metadata": {
    "ExecuteTime": {
     "end_time": "2019-07-14T15:16:22.514523Z",
     "start_time": "2019-07-14T15:16:22.510525Z"
    }
   },
   "outputs": [],
   "source": [
    "df['experiment'] = df_test['experiment']"
   ]
  },
  {
   "cell_type": "code",
   "execution_count": 185,
   "metadata": {
    "ExecuteTime": {
     "end_time": "2019-07-14T15:16:23.480172Z",
     "start_time": "2019-07-14T15:16:23.473443Z"
    }
   },
   "outputs": [
    {
     "data": {
      "text/html": [
       "<div>\n",
       "<style scoped>\n",
       "    .dataframe tbody tr th:only-of-type {\n",
       "        vertical-align: middle;\n",
       "    }\n",
       "\n",
       "    .dataframe tbody tr th {\n",
       "        vertical-align: top;\n",
       "    }\n",
       "\n",
       "    .dataframe thead th {\n",
       "        text-align: right;\n",
       "    }\n",
       "</style>\n",
       "<table border=\"1\" class=\"dataframe\">\n",
       "  <thead>\n",
       "    <tr style=\"text-align: right;\">\n",
       "      <th></th>\n",
       "      <th>path</th>\n",
       "      <th>experiment</th>\n",
       "    </tr>\n",
       "  </thead>\n",
       "  <tbody>\n",
       "    <tr>\n",
       "      <th>0</th>\n",
       "      <td>HEPG2-08/Plate1/B03_s1</td>\n",
       "      <td>HEPG2-08</td>\n",
       "    </tr>\n",
       "    <tr>\n",
       "      <th>1</th>\n",
       "      <td>HEPG2-08/Plate1/B04_s1</td>\n",
       "      <td>HEPG2-08</td>\n",
       "    </tr>\n",
       "    <tr>\n",
       "      <th>2</th>\n",
       "      <td>HEPG2-08/Plate1/B05_s1</td>\n",
       "      <td>HEPG2-08</td>\n",
       "    </tr>\n",
       "    <tr>\n",
       "      <th>3</th>\n",
       "      <td>HEPG2-08/Plate1/B06_s1</td>\n",
       "      <td>HEPG2-08</td>\n",
       "    </tr>\n",
       "    <tr>\n",
       "      <th>4</th>\n",
       "      <td>HEPG2-08/Plate1/B07_s1</td>\n",
       "      <td>HEPG2-08</td>\n",
       "    </tr>\n",
       "  </tbody>\n",
       "</table>\n",
       "</div>"
      ],
      "text/plain": [
       "                     path experiment\n",
       "0  HEPG2-08/Plate1/B03_s1   HEPG2-08\n",
       "1  HEPG2-08/Plate1/B04_s1   HEPG2-08\n",
       "2  HEPG2-08/Plate1/B05_s1   HEPG2-08\n",
       "3  HEPG2-08/Plate1/B06_s1   HEPG2-08\n",
       "4  HEPG2-08/Plate1/B07_s1   HEPG2-08"
      ]
     },
     "execution_count": 185,
     "metadata": {},
     "output_type": "execute_result"
    }
   ],
   "source": [
    "df.head()"
   ]
  },
  {
   "cell_type": "code",
   "execution_count": 186,
   "metadata": {
    "ExecuteTime": {
     "end_time": "2019-07-14T15:16:25.888878Z",
     "start_time": "2019-07-14T15:16:25.884252Z"
    }
   },
   "outputs": [],
   "source": [
    "# filter for experiments\n",
    "df = df[df['experiment'].isin(experiments)]"
   ]
  },
  {
   "cell_type": "code",
   "execution_count": 187,
   "metadata": {
    "ExecuteTime": {
     "end_time": "2019-07-14T15:16:26.633103Z",
     "start_time": "2019-07-14T15:16:26.607977Z"
    }
   },
   "outputs": [
    {
     "data": {
      "text/plain": [
       "[1107,\n",
       " 1108,\n",
       " 1108,\n",
       " 1106,\n",
       " 1108,\n",
       " 1107,\n",
       " 1108,\n",
       " 1108,\n",
       " 1108,\n",
       " 1108,\n",
       " 1099,\n",
       " 1100,\n",
       " 1108,\n",
       " 1107,\n",
       " 1108,\n",
       " 1094,\n",
       " 1108,\n",
       " 1097]"
      ]
     },
     "execution_count": 187,
     "metadata": {},
     "output_type": "execute_result"
    }
   ],
   "source": [
    "# get rows/images per experiment\n",
    "[len(df[df['experiment'] == x]) for x in experiments]"
   ]
  },
  {
   "cell_type": "code",
   "execution_count": 188,
   "metadata": {
    "ExecuteTime": {
     "end_time": "2019-07-14T15:16:29.353204Z",
     "start_time": "2019-07-14T15:16:29.348590Z"
    }
   },
   "outputs": [
    {
     "data": {
      "text/html": [
       "<div>\n",
       "<style scoped>\n",
       "    .dataframe tbody tr th:only-of-type {\n",
       "        vertical-align: middle;\n",
       "    }\n",
       "\n",
       "    .dataframe tbody tr th {\n",
       "        vertical-align: top;\n",
       "    }\n",
       "\n",
       "    .dataframe thead th {\n",
       "        text-align: right;\n",
       "    }\n",
       "</style>\n",
       "<table border=\"1\" class=\"dataframe\">\n",
       "  <thead>\n",
       "    <tr style=\"text-align: right;\">\n",
       "      <th></th>\n",
       "      <th>path</th>\n",
       "      <th>experiment</th>\n",
       "    </tr>\n",
       "  </thead>\n",
       "  <tbody>\n",
       "    <tr>\n",
       "      <th>19892</th>\n",
       "      <td>U2OS-05/Plate4/O19_s1</td>\n",
       "      <td>U2OS-05</td>\n",
       "    </tr>\n",
       "    <tr>\n",
       "      <th>19893</th>\n",
       "      <td>U2OS-05/Plate4/O20_s1</td>\n",
       "      <td>U2OS-05</td>\n",
       "    </tr>\n",
       "    <tr>\n",
       "      <th>19894</th>\n",
       "      <td>U2OS-05/Plate4/O21_s1</td>\n",
       "      <td>U2OS-05</td>\n",
       "    </tr>\n",
       "    <tr>\n",
       "      <th>19895</th>\n",
       "      <td>U2OS-05/Plate4/O22_s1</td>\n",
       "      <td>U2OS-05</td>\n",
       "    </tr>\n",
       "    <tr>\n",
       "      <th>19896</th>\n",
       "      <td>U2OS-05/Plate4/O23_s1</td>\n",
       "      <td>U2OS-05</td>\n",
       "    </tr>\n",
       "  </tbody>\n",
       "</table>\n",
       "</div>"
      ],
      "text/plain": [
       "                        path experiment\n",
       "19892  U2OS-05/Plate4/O19_s1    U2OS-05\n",
       "19893  U2OS-05/Plate4/O20_s1    U2OS-05\n",
       "19894  U2OS-05/Plate4/O21_s1    U2OS-05\n",
       "19895  U2OS-05/Plate4/O22_s1    U2OS-05\n",
       "19896  U2OS-05/Plate4/O23_s1    U2OS-05"
      ]
     },
     "execution_count": 188,
     "metadata": {},
     "output_type": "execute_result"
    }
   ],
   "source": [
    "df.tail()"
   ]
  },
  {
   "cell_type": "code",
   "execution_count": 189,
   "metadata": {
    "ExecuteTime": {
     "end_time": "2019-07-14T15:16:41.713502Z",
     "start_time": "2019-07-14T15:16:41.709313Z"
    }
   },
   "outputs": [
    {
     "data": {
      "text/plain": [
       "19897"
      ]
     },
     "execution_count": 189,
     "metadata": {},
     "output_type": "execute_result"
    }
   ],
   "source": [
    "df.shape[0]"
   ]
  },
  {
   "cell_type": "code",
   "execution_count": 148,
   "metadata": {
    "ExecuteTime": {
     "end_time": "2019-07-14T12:40:08.696861Z",
     "start_time": "2019-07-14T12:40:08.670634Z"
    }
   },
   "outputs": [],
   "source": [
    "df.to_csv('full_test_dataset_v1_20190714.csv')"
   ]
  },
  {
   "cell_type": "code",
   "execution_count": null,
   "metadata": {},
   "outputs": [],
   "source": []
  },
  {
   "cell_type": "markdown",
   "metadata": {},
   "source": [
    "# v2"
   ]
  },
  {
   "cell_type": "markdown",
   "metadata": {},
   "source": [
    "## full_train_dataset_valid-split-ex_v2_20190727.csv"
   ]
  },
  {
   "cell_type": "code",
   "execution_count": 4,
   "metadata": {
    "ExecuteTime": {
     "end_time": "2019-07-27T05:34:14.368023Z",
     "start_time": "2019-07-27T05:34:14.331944Z"
    }
   },
   "outputs": [],
   "source": [
    "df_train = pd.read_csv('train.csv')"
   ]
  },
  {
   "cell_type": "code",
   "execution_count": 5,
   "metadata": {
    "ExecuteTime": {
     "end_time": "2019-07-27T05:34:14.592636Z",
     "start_time": "2019-07-27T05:34:14.578022Z"
    }
   },
   "outputs": [
    {
     "data": {
      "text/html": [
       "<div>\n",
       "<style scoped>\n",
       "    .dataframe tbody tr th:only-of-type {\n",
       "        vertical-align: middle;\n",
       "    }\n",
       "\n",
       "    .dataframe tbody tr th {\n",
       "        vertical-align: top;\n",
       "    }\n",
       "\n",
       "    .dataframe thead th {\n",
       "        text-align: right;\n",
       "    }\n",
       "</style>\n",
       "<table border=\"1\" class=\"dataframe\">\n",
       "  <thead>\n",
       "    <tr style=\"text-align: right;\">\n",
       "      <th></th>\n",
       "      <th>id_code</th>\n",
       "      <th>experiment</th>\n",
       "      <th>plate</th>\n",
       "      <th>well</th>\n",
       "      <th>sirna</th>\n",
       "    </tr>\n",
       "  </thead>\n",
       "  <tbody>\n",
       "    <tr>\n",
       "      <th>0</th>\n",
       "      <td>HEPG2-01_1_B03</td>\n",
       "      <td>HEPG2-01</td>\n",
       "      <td>1</td>\n",
       "      <td>B03</td>\n",
       "      <td>513</td>\n",
       "    </tr>\n",
       "    <tr>\n",
       "      <th>1</th>\n",
       "      <td>HEPG2-01_1_B04</td>\n",
       "      <td>HEPG2-01</td>\n",
       "      <td>1</td>\n",
       "      <td>B04</td>\n",
       "      <td>840</td>\n",
       "    </tr>\n",
       "    <tr>\n",
       "      <th>2</th>\n",
       "      <td>HEPG2-01_1_B05</td>\n",
       "      <td>HEPG2-01</td>\n",
       "      <td>1</td>\n",
       "      <td>B05</td>\n",
       "      <td>1020</td>\n",
       "    </tr>\n",
       "    <tr>\n",
       "      <th>3</th>\n",
       "      <td>HEPG2-01_1_B06</td>\n",
       "      <td>HEPG2-01</td>\n",
       "      <td>1</td>\n",
       "      <td>B06</td>\n",
       "      <td>254</td>\n",
       "    </tr>\n",
       "    <tr>\n",
       "      <th>4</th>\n",
       "      <td>HEPG2-01_1_B07</td>\n",
       "      <td>HEPG2-01</td>\n",
       "      <td>1</td>\n",
       "      <td>B07</td>\n",
       "      <td>144</td>\n",
       "    </tr>\n",
       "  </tbody>\n",
       "</table>\n",
       "</div>"
      ],
      "text/plain": [
       "          id_code experiment  plate well  sirna\n",
       "0  HEPG2-01_1_B03   HEPG2-01      1  B03    513\n",
       "1  HEPG2-01_1_B04   HEPG2-01      1  B04    840\n",
       "2  HEPG2-01_1_B05   HEPG2-01      1  B05   1020\n",
       "3  HEPG2-01_1_B06   HEPG2-01      1  B06    254\n",
       "4  HEPG2-01_1_B07   HEPG2-01      1  B07    144"
      ]
     },
     "execution_count": 5,
     "metadata": {},
     "output_type": "execute_result"
    }
   ],
   "source": [
    "df_train.head()"
   ]
  },
  {
   "cell_type": "code",
   "execution_count": 6,
   "metadata": {
    "ExecuteTime": {
     "end_time": "2019-07-27T05:34:14.858791Z",
     "start_time": "2019-07-27T05:34:14.846577Z"
    }
   },
   "outputs": [
    {
     "data": {
      "text/plain": [
       "(array(['HEPG2-01', 'HEPG2-02', 'HEPG2-03', 'HEPG2-04', 'HEPG2-05',\n",
       "        'HEPG2-06', 'HEPG2-07', 'HUVEC-01', 'HUVEC-02', 'HUVEC-03',\n",
       "        'HUVEC-04', 'HUVEC-05', 'HUVEC-06', 'HUVEC-07', 'HUVEC-08',\n",
       "        'HUVEC-09', 'HUVEC-10', 'HUVEC-11', 'HUVEC-12', 'HUVEC-13',\n",
       "        'HUVEC-14', 'HUVEC-15', 'HUVEC-16', 'RPE-01', 'RPE-02', 'RPE-03',\n",
       "        'RPE-04', 'RPE-05', 'RPE-06', 'RPE-07', 'U2OS-01', 'U2OS-02',\n",
       "        'U2OS-03'], dtype=object), 33)"
      ]
     },
     "execution_count": 6,
     "metadata": {},
     "output_type": "execute_result"
    }
   ],
   "source": [
    "df_train.experiment.unique(), len(df_train.experiment.unique())"
   ]
  },
  {
   "cell_type": "code",
   "execution_count": 7,
   "metadata": {
    "ExecuteTime": {
     "end_time": "2019-07-27T05:34:15.131953Z",
     "start_time": "2019-07-27T05:34:15.122807Z"
    }
   },
   "outputs": [],
   "source": [
    "experiments = ['HEPG2-01', 'HEPG2-02', 'HEPG2-03', 'HEPG2-04', 'HEPG2-05', 'HEPG2-06', 'HEPG2-07', \n",
    "               'HUVEC-01', 'HUVEC-02', 'HUVEC-03', 'HUVEC-04', 'HUVEC-05', 'HUVEC-06', 'HUVEC-07', \n",
    "               'HUVEC-08', 'HUVEC-09', 'HUVEC-10', 'HUVEC-11', 'HUVEC-12', 'HUVEC-13', 'HUVEC-14', \n",
    "               'HUVEC-15', 'HUVEC-16', \n",
    "               'RPE-01', 'RPE-02', 'RPE-03', 'RPE-04', 'RPE-05', 'RPE-06', 'RPE-07',\n",
    "               'U2OS-01', 'U2OS-02', 'U2OS-03'\n",
    "              ]"
   ]
  },
  {
   "cell_type": "code",
   "execution_count": 8,
   "metadata": {
    "ExecuteTime": {
     "end_time": "2019-07-27T05:34:15.425957Z",
     "start_time": "2019-07-27T05:34:15.384264Z"
    }
   },
   "outputs": [],
   "source": [
    "# setup empty df\n",
    "df1 = pd.DataFrame()\n",
    "# generate path without channel and image file suffix for open image function\n",
    "df1['path'] = df_train['experiment']+'/Plate'+df_train['plate'].apply(str)+'/'+df_train['well']+'_s1' #+'_w'\n"
   ]
  },
  {
   "cell_type": "code",
   "execution_count": 9,
   "metadata": {
    "ExecuteTime": {
     "end_time": "2019-07-27T05:34:15.656990Z",
     "start_time": "2019-07-27T05:34:15.645925Z"
    }
   },
   "outputs": [],
   "source": [
    "df1['experiment'] = df_train['experiment']"
   ]
  },
  {
   "cell_type": "code",
   "execution_count": 10,
   "metadata": {
    "ExecuteTime": {
     "end_time": "2019-07-27T05:34:15.936590Z",
     "start_time": "2019-07-27T05:34:15.928138Z"
    }
   },
   "outputs": [],
   "source": [
    "df1['sirna'] = df_train['sirna']"
   ]
  },
  {
   "cell_type": "code",
   "execution_count": 11,
   "metadata": {
    "ExecuteTime": {
     "end_time": "2019-07-27T05:34:16.216180Z",
     "start_time": "2019-07-27T05:34:16.182011Z"
    }
   },
   "outputs": [],
   "source": [
    "df1['multi'] = df_train['experiment'].apply(lambda x: x.split('/')[0])+' '+df_train['sirna'].apply(lambda x: str(x))\n"
   ]
  },
  {
   "cell_type": "code",
   "execution_count": 12,
   "metadata": {
    "ExecuteTime": {
     "end_time": "2019-07-27T05:34:16.426654Z",
     "start_time": "2019-07-27T05:34:16.412716Z"
    }
   },
   "outputs": [
    {
     "data": {
      "text/html": [
       "<div>\n",
       "<style scoped>\n",
       "    .dataframe tbody tr th:only-of-type {\n",
       "        vertical-align: middle;\n",
       "    }\n",
       "\n",
       "    .dataframe tbody tr th {\n",
       "        vertical-align: top;\n",
       "    }\n",
       "\n",
       "    .dataframe thead th {\n",
       "        text-align: right;\n",
       "    }\n",
       "</style>\n",
       "<table border=\"1\" class=\"dataframe\">\n",
       "  <thead>\n",
       "    <tr style=\"text-align: right;\">\n",
       "      <th></th>\n",
       "      <th>path</th>\n",
       "      <th>experiment</th>\n",
       "      <th>sirna</th>\n",
       "      <th>multi</th>\n",
       "    </tr>\n",
       "  </thead>\n",
       "  <tbody>\n",
       "    <tr>\n",
       "      <th>0</th>\n",
       "      <td>HEPG2-01/Plate1/B03_s1</td>\n",
       "      <td>HEPG2-01</td>\n",
       "      <td>513</td>\n",
       "      <td>HEPG2-01 513</td>\n",
       "    </tr>\n",
       "    <tr>\n",
       "      <th>1</th>\n",
       "      <td>HEPG2-01/Plate1/B04_s1</td>\n",
       "      <td>HEPG2-01</td>\n",
       "      <td>840</td>\n",
       "      <td>HEPG2-01 840</td>\n",
       "    </tr>\n",
       "    <tr>\n",
       "      <th>2</th>\n",
       "      <td>HEPG2-01/Plate1/B05_s1</td>\n",
       "      <td>HEPG2-01</td>\n",
       "      <td>1020</td>\n",
       "      <td>HEPG2-01 1020</td>\n",
       "    </tr>\n",
       "    <tr>\n",
       "      <th>3</th>\n",
       "      <td>HEPG2-01/Plate1/B06_s1</td>\n",
       "      <td>HEPG2-01</td>\n",
       "      <td>254</td>\n",
       "      <td>HEPG2-01 254</td>\n",
       "    </tr>\n",
       "    <tr>\n",
       "      <th>4</th>\n",
       "      <td>HEPG2-01/Plate1/B07_s1</td>\n",
       "      <td>HEPG2-01</td>\n",
       "      <td>144</td>\n",
       "      <td>HEPG2-01 144</td>\n",
       "    </tr>\n",
       "  </tbody>\n",
       "</table>\n",
       "</div>"
      ],
      "text/plain": [
       "                     path experiment  sirna          multi\n",
       "0  HEPG2-01/Plate1/B03_s1   HEPG2-01    513   HEPG2-01 513\n",
       "1  HEPG2-01/Plate1/B04_s1   HEPG2-01    840   HEPG2-01 840\n",
       "2  HEPG2-01/Plate1/B05_s1   HEPG2-01   1020  HEPG2-01 1020\n",
       "3  HEPG2-01/Plate1/B06_s1   HEPG2-01    254   HEPG2-01 254\n",
       "4  HEPG2-01/Plate1/B07_s1   HEPG2-01    144   HEPG2-01 144"
      ]
     },
     "execution_count": 12,
     "metadata": {},
     "output_type": "execute_result"
    }
   ],
   "source": [
    "df1.head()"
   ]
  },
  {
   "cell_type": "code",
   "execution_count": 13,
   "metadata": {
    "ExecuteTime": {
     "end_time": "2019-07-27T05:34:16.696631Z",
     "start_time": "2019-07-27T05:34:16.679577Z"
    }
   },
   "outputs": [],
   "source": [
    "# filter for experiments\n",
    "df1 = df1[df1['experiment'].isin(experiments)]"
   ]
  },
  {
   "cell_type": "code",
   "execution_count": 14,
   "metadata": {
    "ExecuteTime": {
     "end_time": "2019-07-27T05:34:16.986245Z",
     "start_time": "2019-07-27T05:34:16.927015Z"
    }
   },
   "outputs": [
    {
     "data": {
      "text/plain": [
       "[1106,\n",
       " 1106,\n",
       " 1108,\n",
       " 1108,\n",
       " 1108,\n",
       " 1108,\n",
       " 1106,\n",
       " 1108,\n",
       " 1108,\n",
       " 1108,\n",
       " 1108,\n",
       " 1108,\n",
       " 1107,\n",
       " 1107,\n",
       " 1108,\n",
       " 1108,\n",
       " 1108,\n",
       " 1108,\n",
       " 1108,\n",
       " 1102,\n",
       " 1090,\n",
       " 1094,\n",
       " 1108,\n",
       " 1108,\n",
       " 1108,\n",
       " 1108,\n",
       " 1107,\n",
       " 1108,\n",
       " 1106,\n",
       " 1108,\n",
       " 1108,\n",
       " 1108,\n",
       " 1108]"
      ]
     },
     "execution_count": 14,
     "metadata": {},
     "output_type": "execute_result"
    }
   ],
   "source": [
    "# get rows/images per experiment\n",
    "[len(df1[df1['experiment'] == x]) for x in experiments]"
   ]
  },
  {
   "cell_type": "code",
   "execution_count": 15,
   "metadata": {
    "ExecuteTime": {
     "end_time": "2019-07-27T05:34:17.227655Z",
     "start_time": "2019-07-27T05:34:17.213346Z"
    }
   },
   "outputs": [
    {
     "data": {
      "text/html": [
       "<div>\n",
       "<style scoped>\n",
       "    .dataframe tbody tr th:only-of-type {\n",
       "        vertical-align: middle;\n",
       "    }\n",
       "\n",
       "    .dataframe tbody tr th {\n",
       "        vertical-align: top;\n",
       "    }\n",
       "\n",
       "    .dataframe thead th {\n",
       "        text-align: right;\n",
       "    }\n",
       "</style>\n",
       "<table border=\"1\" class=\"dataframe\">\n",
       "  <thead>\n",
       "    <tr style=\"text-align: right;\">\n",
       "      <th></th>\n",
       "      <th>path</th>\n",
       "      <th>experiment</th>\n",
       "      <th>sirna</th>\n",
       "      <th>multi</th>\n",
       "    </tr>\n",
       "  </thead>\n",
       "  <tbody>\n",
       "    <tr>\n",
       "      <th>36510</th>\n",
       "      <td>U2OS-03/Plate4/O19_s1</td>\n",
       "      <td>U2OS-03</td>\n",
       "      <td>103</td>\n",
       "      <td>U2OS-03 103</td>\n",
       "    </tr>\n",
       "    <tr>\n",
       "      <th>36511</th>\n",
       "      <td>U2OS-03/Plate4/O20_s1</td>\n",
       "      <td>U2OS-03</td>\n",
       "      <td>202</td>\n",
       "      <td>U2OS-03 202</td>\n",
       "    </tr>\n",
       "    <tr>\n",
       "      <th>36512</th>\n",
       "      <td>U2OS-03/Plate4/O21_s1</td>\n",
       "      <td>U2OS-03</td>\n",
       "      <td>824</td>\n",
       "      <td>U2OS-03 824</td>\n",
       "    </tr>\n",
       "    <tr>\n",
       "      <th>36513</th>\n",
       "      <td>U2OS-03/Plate4/O22_s1</td>\n",
       "      <td>U2OS-03</td>\n",
       "      <td>328</td>\n",
       "      <td>U2OS-03 328</td>\n",
       "    </tr>\n",
       "    <tr>\n",
       "      <th>36514</th>\n",
       "      <td>U2OS-03/Plate4/O23_s1</td>\n",
       "      <td>U2OS-03</td>\n",
       "      <td>509</td>\n",
       "      <td>U2OS-03 509</td>\n",
       "    </tr>\n",
       "  </tbody>\n",
       "</table>\n",
       "</div>"
      ],
      "text/plain": [
       "                        path experiment  sirna        multi\n",
       "36510  U2OS-03/Plate4/O19_s1    U2OS-03    103  U2OS-03 103\n",
       "36511  U2OS-03/Plate4/O20_s1    U2OS-03    202  U2OS-03 202\n",
       "36512  U2OS-03/Plate4/O21_s1    U2OS-03    824  U2OS-03 824\n",
       "36513  U2OS-03/Plate4/O22_s1    U2OS-03    328  U2OS-03 328\n",
       "36514  U2OS-03/Plate4/O23_s1    U2OS-03    509  U2OS-03 509"
      ]
     },
     "execution_count": 15,
     "metadata": {},
     "output_type": "execute_result"
    }
   ],
   "source": [
    "df1.tail()"
   ]
  },
  {
   "cell_type": "code",
   "execution_count": 16,
   "metadata": {
    "ExecuteTime": {
     "end_time": "2019-07-27T05:34:17.561953Z",
     "start_time": "2019-07-27T05:34:17.552920Z"
    }
   },
   "outputs": [],
   "source": [
    "df1['valid'] = 0"
   ]
  },
  {
   "cell_type": "code",
   "execution_count": 17,
   "metadata": {
    "ExecuteTime": {
     "end_time": "2019-07-27T05:34:18.038242Z",
     "start_time": "2019-07-27T05:34:18.003747Z"
    }
   },
   "outputs": [],
   "source": [
    "for c in valid_exp_split:\n",
    "    df1.loc[df1['experiment'] == c,'valid'] = 1"
   ]
  },
  {
   "cell_type": "code",
   "execution_count": 18,
   "metadata": {
    "ExecuteTime": {
     "end_time": "2019-07-27T05:34:18.286113Z",
     "start_time": "2019-07-27T05:34:18.273769Z"
    }
   },
   "outputs": [
    {
     "data": {
      "text/html": [
       "<div>\n",
       "<style scoped>\n",
       "    .dataframe tbody tr th:only-of-type {\n",
       "        vertical-align: middle;\n",
       "    }\n",
       "\n",
       "    .dataframe tbody tr th {\n",
       "        vertical-align: top;\n",
       "    }\n",
       "\n",
       "    .dataframe thead th {\n",
       "        text-align: right;\n",
       "    }\n",
       "</style>\n",
       "<table border=\"1\" class=\"dataframe\">\n",
       "  <thead>\n",
       "    <tr style=\"text-align: right;\">\n",
       "      <th></th>\n",
       "      <th>path</th>\n",
       "      <th>experiment</th>\n",
       "      <th>sirna</th>\n",
       "      <th>multi</th>\n",
       "      <th>valid</th>\n",
       "    </tr>\n",
       "  </thead>\n",
       "  <tbody>\n",
       "    <tr>\n",
       "      <th>0</th>\n",
       "      <td>HEPG2-01/Plate1/B03_s1</td>\n",
       "      <td>HEPG2-01</td>\n",
       "      <td>513</td>\n",
       "      <td>HEPG2-01 513</td>\n",
       "      <td>0</td>\n",
       "    </tr>\n",
       "    <tr>\n",
       "      <th>1</th>\n",
       "      <td>HEPG2-01/Plate1/B04_s1</td>\n",
       "      <td>HEPG2-01</td>\n",
       "      <td>840</td>\n",
       "      <td>HEPG2-01 840</td>\n",
       "      <td>0</td>\n",
       "    </tr>\n",
       "    <tr>\n",
       "      <th>2</th>\n",
       "      <td>HEPG2-01/Plate1/B05_s1</td>\n",
       "      <td>HEPG2-01</td>\n",
       "      <td>1020</td>\n",
       "      <td>HEPG2-01 1020</td>\n",
       "      <td>0</td>\n",
       "    </tr>\n",
       "    <tr>\n",
       "      <th>3</th>\n",
       "      <td>HEPG2-01/Plate1/B06_s1</td>\n",
       "      <td>HEPG2-01</td>\n",
       "      <td>254</td>\n",
       "      <td>HEPG2-01 254</td>\n",
       "      <td>0</td>\n",
       "    </tr>\n",
       "    <tr>\n",
       "      <th>4</th>\n",
       "      <td>HEPG2-01/Plate1/B07_s1</td>\n",
       "      <td>HEPG2-01</td>\n",
       "      <td>144</td>\n",
       "      <td>HEPG2-01 144</td>\n",
       "      <td>0</td>\n",
       "    </tr>\n",
       "  </tbody>\n",
       "</table>\n",
       "</div>"
      ],
      "text/plain": [
       "                     path experiment  sirna          multi  valid\n",
       "0  HEPG2-01/Plate1/B03_s1   HEPG2-01    513   HEPG2-01 513      0\n",
       "1  HEPG2-01/Plate1/B04_s1   HEPG2-01    840   HEPG2-01 840      0\n",
       "2  HEPG2-01/Plate1/B05_s1   HEPG2-01   1020  HEPG2-01 1020      0\n",
       "3  HEPG2-01/Plate1/B06_s1   HEPG2-01    254   HEPG2-01 254      0\n",
       "4  HEPG2-01/Plate1/B07_s1   HEPG2-01    144   HEPG2-01 144      0"
      ]
     },
     "execution_count": 18,
     "metadata": {},
     "output_type": "execute_result"
    }
   ],
   "source": [
    "df1.head()"
   ]
  },
  {
   "cell_type": "code",
   "execution_count": 19,
   "metadata": {
    "ExecuteTime": {
     "end_time": "2019-07-27T05:34:18.592104Z",
     "start_time": "2019-07-27T05:34:18.584566Z"
    }
   },
   "outputs": [
    {
     "data": {
      "text/plain": [
       "0.21191291250171163"
      ]
     },
     "execution_count": 19,
     "metadata": {},
     "output_type": "execute_result"
    }
   ],
   "source": [
    "df1.valid.mean()"
   ]
  },
  {
   "cell_type": "code",
   "execution_count": 20,
   "metadata": {
    "ExecuteTime": {
     "end_time": "2019-07-27T05:34:18.912288Z",
     "start_time": "2019-07-27T05:34:18.897745Z"
    }
   },
   "outputs": [
    {
     "data": {
      "text/html": [
       "<div>\n",
       "<style scoped>\n",
       "    .dataframe tbody tr th:only-of-type {\n",
       "        vertical-align: middle;\n",
       "    }\n",
       "\n",
       "    .dataframe tbody tr th {\n",
       "        vertical-align: top;\n",
       "    }\n",
       "\n",
       "    .dataframe thead th {\n",
       "        text-align: right;\n",
       "    }\n",
       "</style>\n",
       "<table border=\"1\" class=\"dataframe\">\n",
       "  <thead>\n",
       "    <tr style=\"text-align: right;\">\n",
       "      <th></th>\n",
       "      <th>path</th>\n",
       "      <th>experiment</th>\n",
       "      <th>sirna</th>\n",
       "      <th>multi</th>\n",
       "      <th>valid</th>\n",
       "    </tr>\n",
       "  </thead>\n",
       "  <tbody>\n",
       "    <tr>\n",
       "      <th>36510</th>\n",
       "      <td>U2OS-03/Plate4/O19_s1</td>\n",
       "      <td>U2OS-03</td>\n",
       "      <td>103</td>\n",
       "      <td>U2OS-03 103</td>\n",
       "      <td>1</td>\n",
       "    </tr>\n",
       "    <tr>\n",
       "      <th>36511</th>\n",
       "      <td>U2OS-03/Plate4/O20_s1</td>\n",
       "      <td>U2OS-03</td>\n",
       "      <td>202</td>\n",
       "      <td>U2OS-03 202</td>\n",
       "      <td>1</td>\n",
       "    </tr>\n",
       "    <tr>\n",
       "      <th>36512</th>\n",
       "      <td>U2OS-03/Plate4/O21_s1</td>\n",
       "      <td>U2OS-03</td>\n",
       "      <td>824</td>\n",
       "      <td>U2OS-03 824</td>\n",
       "      <td>1</td>\n",
       "    </tr>\n",
       "    <tr>\n",
       "      <th>36513</th>\n",
       "      <td>U2OS-03/Plate4/O22_s1</td>\n",
       "      <td>U2OS-03</td>\n",
       "      <td>328</td>\n",
       "      <td>U2OS-03 328</td>\n",
       "      <td>1</td>\n",
       "    </tr>\n",
       "    <tr>\n",
       "      <th>36514</th>\n",
       "      <td>U2OS-03/Plate4/O23_s1</td>\n",
       "      <td>U2OS-03</td>\n",
       "      <td>509</td>\n",
       "      <td>U2OS-03 509</td>\n",
       "      <td>1</td>\n",
       "    </tr>\n",
       "  </tbody>\n",
       "</table>\n",
       "</div>"
      ],
      "text/plain": [
       "                        path experiment  sirna        multi  valid\n",
       "36510  U2OS-03/Plate4/O19_s1    U2OS-03    103  U2OS-03 103      1\n",
       "36511  U2OS-03/Plate4/O20_s1    U2OS-03    202  U2OS-03 202      1\n",
       "36512  U2OS-03/Plate4/O21_s1    U2OS-03    824  U2OS-03 824      1\n",
       "36513  U2OS-03/Plate4/O22_s1    U2OS-03    328  U2OS-03 328      1\n",
       "36514  U2OS-03/Plate4/O23_s1    U2OS-03    509  U2OS-03 509      1"
      ]
     },
     "execution_count": 20,
     "metadata": {},
     "output_type": "execute_result"
    }
   ],
   "source": [
    "df1.tail()"
   ]
  },
  {
   "cell_type": "code",
   "execution_count": 21,
   "metadata": {
    "ExecuteTime": {
     "end_time": "2019-07-27T05:34:19.643601Z",
     "start_time": "2019-07-27T05:34:19.583982Z"
    }
   },
   "outputs": [
    {
     "data": {
      "text/plain": [
       "[1106,\n",
       " 1106,\n",
       " 1108,\n",
       " 1108,\n",
       " 1108,\n",
       " 1108,\n",
       " 1106,\n",
       " 1108,\n",
       " 1108,\n",
       " 1108,\n",
       " 1108,\n",
       " 1108,\n",
       " 1107,\n",
       " 1107,\n",
       " 1108,\n",
       " 1108,\n",
       " 1108,\n",
       " 1108,\n",
       " 1108,\n",
       " 1102,\n",
       " 1090,\n",
       " 1094,\n",
       " 1108,\n",
       " 1108,\n",
       " 1108,\n",
       " 1108,\n",
       " 1107,\n",
       " 1108,\n",
       " 1106,\n",
       " 1108,\n",
       " 1108,\n",
       " 1108,\n",
       " 1108]"
      ]
     },
     "execution_count": 21,
     "metadata": {},
     "output_type": "execute_result"
    }
   ],
   "source": [
    "# get rows/images per experiment\n",
    "[len(df1[df1['experiment'] == x]) for x in experiments]"
   ]
  },
  {
   "cell_type": "code",
   "execution_count": 22,
   "metadata": {
    "ExecuteTime": {
     "end_time": "2019-07-27T05:34:20.244630Z",
     "start_time": "2019-07-27T05:34:20.227943Z"
    }
   },
   "outputs": [
    {
     "data": {
      "text/html": [
       "<div>\n",
       "<style scoped>\n",
       "    .dataframe tbody tr th:only-of-type {\n",
       "        vertical-align: middle;\n",
       "    }\n",
       "\n",
       "    .dataframe tbody tr th {\n",
       "        vertical-align: top;\n",
       "    }\n",
       "\n",
       "    .dataframe thead th {\n",
       "        text-align: right;\n",
       "    }\n",
       "</style>\n",
       "<table border=\"1\" class=\"dataframe\">\n",
       "  <thead>\n",
       "    <tr style=\"text-align: right;\">\n",
       "      <th></th>\n",
       "      <th>path</th>\n",
       "      <th>experiment</th>\n",
       "      <th>sirna</th>\n",
       "      <th>multi</th>\n",
       "      <th>valid</th>\n",
       "    </tr>\n",
       "  </thead>\n",
       "  <tbody>\n",
       "    <tr>\n",
       "      <th>0</th>\n",
       "      <td>HEPG2-01/Plate1/B03_s1</td>\n",
       "      <td>HEPG2-01</td>\n",
       "      <td>513</td>\n",
       "      <td>HEPG2-01 513</td>\n",
       "      <td>0</td>\n",
       "    </tr>\n",
       "    <tr>\n",
       "      <th>1</th>\n",
       "      <td>HEPG2-01/Plate1/B04_s1</td>\n",
       "      <td>HEPG2-01</td>\n",
       "      <td>840</td>\n",
       "      <td>HEPG2-01 840</td>\n",
       "      <td>0</td>\n",
       "    </tr>\n",
       "    <tr>\n",
       "      <th>2</th>\n",
       "      <td>HEPG2-01/Plate1/B05_s1</td>\n",
       "      <td>HEPG2-01</td>\n",
       "      <td>1020</td>\n",
       "      <td>HEPG2-01 1020</td>\n",
       "      <td>0</td>\n",
       "    </tr>\n",
       "    <tr>\n",
       "      <th>3</th>\n",
       "      <td>HEPG2-01/Plate1/B06_s1</td>\n",
       "      <td>HEPG2-01</td>\n",
       "      <td>254</td>\n",
       "      <td>HEPG2-01 254</td>\n",
       "      <td>0</td>\n",
       "    </tr>\n",
       "    <tr>\n",
       "      <th>4</th>\n",
       "      <td>HEPG2-01/Plate1/B07_s1</td>\n",
       "      <td>HEPG2-01</td>\n",
       "      <td>144</td>\n",
       "      <td>HEPG2-01 144</td>\n",
       "      <td>0</td>\n",
       "    </tr>\n",
       "  </tbody>\n",
       "</table>\n",
       "</div>"
      ],
      "text/plain": [
       "                     path experiment  sirna          multi  valid\n",
       "0  HEPG2-01/Plate1/B03_s1   HEPG2-01    513   HEPG2-01 513      0\n",
       "1  HEPG2-01/Plate1/B04_s1   HEPG2-01    840   HEPG2-01 840      0\n",
       "2  HEPG2-01/Plate1/B05_s1   HEPG2-01   1020  HEPG2-01 1020      0\n",
       "3  HEPG2-01/Plate1/B06_s1   HEPG2-01    254   HEPG2-01 254      0\n",
       "4  HEPG2-01/Plate1/B07_s1   HEPG2-01    144   HEPG2-01 144      0"
      ]
     },
     "execution_count": 22,
     "metadata": {},
     "output_type": "execute_result"
    }
   ],
   "source": [
    "df1.head()"
   ]
  },
  {
   "cell_type": "code",
   "execution_count": 23,
   "metadata": {
    "ExecuteTime": {
     "end_time": "2019-07-27T05:34:20.922024Z",
     "start_time": "2019-07-27T05:34:20.913087Z"
    }
   },
   "outputs": [],
   "source": [
    "# copy dataframe to get rows for site 2\n",
    "df2 = df1.copy()"
   ]
  },
  {
   "cell_type": "code",
   "execution_count": 24,
   "metadata": {
    "ExecuteTime": {
     "end_time": "2019-07-27T05:34:21.405186Z",
     "start_time": "2019-07-27T05:34:21.385952Z"
    }
   },
   "outputs": [],
   "source": [
    "# replace site 1 with site 2\n",
    "df2['path'] = df2['path'].apply(lambda x: x[:-1]+'2')"
   ]
  },
  {
   "cell_type": "code",
   "execution_count": 25,
   "metadata": {
    "ExecuteTime": {
     "end_time": "2019-07-27T05:34:22.223673Z",
     "start_time": "2019-07-27T05:34:22.209553Z"
    }
   },
   "outputs": [
    {
     "data": {
      "text/html": [
       "<div>\n",
       "<style scoped>\n",
       "    .dataframe tbody tr th:only-of-type {\n",
       "        vertical-align: middle;\n",
       "    }\n",
       "\n",
       "    .dataframe tbody tr th {\n",
       "        vertical-align: top;\n",
       "    }\n",
       "\n",
       "    .dataframe thead th {\n",
       "        text-align: right;\n",
       "    }\n",
       "</style>\n",
       "<table border=\"1\" class=\"dataframe\">\n",
       "  <thead>\n",
       "    <tr style=\"text-align: right;\">\n",
       "      <th></th>\n",
       "      <th>path</th>\n",
       "      <th>experiment</th>\n",
       "      <th>sirna</th>\n",
       "      <th>multi</th>\n",
       "      <th>valid</th>\n",
       "    </tr>\n",
       "  </thead>\n",
       "  <tbody>\n",
       "    <tr>\n",
       "      <th>0</th>\n",
       "      <td>HEPG2-01/Plate1/B03_s2</td>\n",
       "      <td>HEPG2-01</td>\n",
       "      <td>513</td>\n",
       "      <td>HEPG2-01 513</td>\n",
       "      <td>0</td>\n",
       "    </tr>\n",
       "    <tr>\n",
       "      <th>1</th>\n",
       "      <td>HEPG2-01/Plate1/B04_s2</td>\n",
       "      <td>HEPG2-01</td>\n",
       "      <td>840</td>\n",
       "      <td>HEPG2-01 840</td>\n",
       "      <td>0</td>\n",
       "    </tr>\n",
       "    <tr>\n",
       "      <th>2</th>\n",
       "      <td>HEPG2-01/Plate1/B05_s2</td>\n",
       "      <td>HEPG2-01</td>\n",
       "      <td>1020</td>\n",
       "      <td>HEPG2-01 1020</td>\n",
       "      <td>0</td>\n",
       "    </tr>\n",
       "    <tr>\n",
       "      <th>3</th>\n",
       "      <td>HEPG2-01/Plate1/B06_s2</td>\n",
       "      <td>HEPG2-01</td>\n",
       "      <td>254</td>\n",
       "      <td>HEPG2-01 254</td>\n",
       "      <td>0</td>\n",
       "    </tr>\n",
       "    <tr>\n",
       "      <th>4</th>\n",
       "      <td>HEPG2-01/Plate1/B07_s2</td>\n",
       "      <td>HEPG2-01</td>\n",
       "      <td>144</td>\n",
       "      <td>HEPG2-01 144</td>\n",
       "      <td>0</td>\n",
       "    </tr>\n",
       "  </tbody>\n",
       "</table>\n",
       "</div>"
      ],
      "text/plain": [
       "                     path experiment  sirna          multi  valid\n",
       "0  HEPG2-01/Plate1/B03_s2   HEPG2-01    513   HEPG2-01 513      0\n",
       "1  HEPG2-01/Plate1/B04_s2   HEPG2-01    840   HEPG2-01 840      0\n",
       "2  HEPG2-01/Plate1/B05_s2   HEPG2-01   1020  HEPG2-01 1020      0\n",
       "3  HEPG2-01/Plate1/B06_s2   HEPG2-01    254   HEPG2-01 254      0\n",
       "4  HEPG2-01/Plate1/B07_s2   HEPG2-01    144   HEPG2-01 144      0"
      ]
     },
     "execution_count": 25,
     "metadata": {},
     "output_type": "execute_result"
    }
   ],
   "source": [
    "df2.head()"
   ]
  },
  {
   "cell_type": "code",
   "execution_count": 27,
   "metadata": {
    "ExecuteTime": {
     "end_time": "2019-07-27T05:34:29.091853Z",
     "start_time": "2019-07-27T05:34:29.074108Z"
    }
   },
   "outputs": [],
   "source": [
    "df_full = pd.concat((df1, df2))"
   ]
  },
  {
   "cell_type": "code",
   "execution_count": 28,
   "metadata": {
    "ExecuteTime": {
     "end_time": "2019-07-27T05:34:32.237412Z",
     "start_time": "2019-07-27T05:34:32.224992Z"
    }
   },
   "outputs": [
    {
     "data": {
      "text/plain": [
       "((36515, 5), (36515, 5), (73030, 5))"
      ]
     },
     "execution_count": 28,
     "metadata": {},
     "output_type": "execute_result"
    }
   ],
   "source": [
    "df1.shape, df2.shape, df_full.shape"
   ]
  },
  {
   "cell_type": "code",
   "execution_count": 29,
   "metadata": {
    "ExecuteTime": {
     "end_time": "2019-07-27T05:34:34.513059Z",
     "start_time": "2019-07-27T05:34:34.485681Z"
    }
   },
   "outputs": [
    {
     "data": {
      "text/plain": [
       "15476"
      ]
     },
     "execution_count": 29,
     "metadata": {},
     "output_type": "execute_result"
    }
   ],
   "source": [
    "df_full.pivot_table(values='valid', index='experiment', aggfunc='sum')['valid'].sum()"
   ]
  },
  {
   "cell_type": "code",
   "execution_count": 30,
   "metadata": {
    "ExecuteTime": {
     "end_time": "2019-07-27T05:34:35.830668Z",
     "start_time": "2019-07-27T05:34:35.823065Z"
    }
   },
   "outputs": [
    {
     "data": {
      "text/plain": [
       "73030"
      ]
     },
     "execution_count": 30,
     "metadata": {},
     "output_type": "execute_result"
    }
   ],
   "source": [
    "df_full.shape[0]"
   ]
  },
  {
   "cell_type": "code",
   "execution_count": 32,
   "metadata": {
    "ExecuteTime": {
     "end_time": "2019-07-27T05:34:46.526697Z",
     "start_time": "2019-07-27T05:34:46.508651Z"
    }
   },
   "outputs": [
    {
     "data": {
      "text/plain": [
       "0.21191291250171163"
      ]
     },
     "execution_count": 32,
     "metadata": {},
     "output_type": "execute_result"
    }
   ],
   "source": [
    "df_full.pivot_table(values='valid', index='experiment', aggfunc='sum')['valid'].sum()/df_full.shape[0]"
   ]
  },
  {
   "cell_type": "code",
   "execution_count": 33,
   "metadata": {
    "ExecuteTime": {
     "end_time": "2019-07-27T05:34:59.760168Z",
     "start_time": "2019-07-27T05:34:59.560435Z"
    }
   },
   "outputs": [],
   "source": [
    "df_full.to_csv('full_train_dataset_valid-split-ex_v2_20190727.csv')"
   ]
  },
  {
   "cell_type": "markdown",
   "metadata": {},
   "source": [
    "## full_test_dataset_v2_20190727.csv"
   ]
  },
  {
   "cell_type": "code",
   "execution_count": 34,
   "metadata": {
    "ExecuteTime": {
     "end_time": "2019-07-27T05:35:02.158828Z",
     "start_time": "2019-07-27T05:35:02.130405Z"
    }
   },
   "outputs": [],
   "source": [
    "df_test = pd.read_csv('test.csv')"
   ]
  },
  {
   "cell_type": "code",
   "execution_count": 35,
   "metadata": {
    "ExecuteTime": {
     "end_time": "2019-07-27T05:35:02.569387Z",
     "start_time": "2019-07-27T05:35:02.553452Z"
    }
   },
   "outputs": [
    {
     "data": {
      "text/html": [
       "<div>\n",
       "<style scoped>\n",
       "    .dataframe tbody tr th:only-of-type {\n",
       "        vertical-align: middle;\n",
       "    }\n",
       "\n",
       "    .dataframe tbody tr th {\n",
       "        vertical-align: top;\n",
       "    }\n",
       "\n",
       "    .dataframe thead th {\n",
       "        text-align: right;\n",
       "    }\n",
       "</style>\n",
       "<table border=\"1\" class=\"dataframe\">\n",
       "  <thead>\n",
       "    <tr style=\"text-align: right;\">\n",
       "      <th></th>\n",
       "      <th>id_code</th>\n",
       "      <th>experiment</th>\n",
       "      <th>plate</th>\n",
       "      <th>well</th>\n",
       "    </tr>\n",
       "  </thead>\n",
       "  <tbody>\n",
       "    <tr>\n",
       "      <th>0</th>\n",
       "      <td>HEPG2-08_1_B03</td>\n",
       "      <td>HEPG2-08</td>\n",
       "      <td>1</td>\n",
       "      <td>B03</td>\n",
       "    </tr>\n",
       "    <tr>\n",
       "      <th>1</th>\n",
       "      <td>HEPG2-08_1_B04</td>\n",
       "      <td>HEPG2-08</td>\n",
       "      <td>1</td>\n",
       "      <td>B04</td>\n",
       "    </tr>\n",
       "    <tr>\n",
       "      <th>2</th>\n",
       "      <td>HEPG2-08_1_B05</td>\n",
       "      <td>HEPG2-08</td>\n",
       "      <td>1</td>\n",
       "      <td>B05</td>\n",
       "    </tr>\n",
       "    <tr>\n",
       "      <th>3</th>\n",
       "      <td>HEPG2-08_1_B06</td>\n",
       "      <td>HEPG2-08</td>\n",
       "      <td>1</td>\n",
       "      <td>B06</td>\n",
       "    </tr>\n",
       "    <tr>\n",
       "      <th>4</th>\n",
       "      <td>HEPG2-08_1_B07</td>\n",
       "      <td>HEPG2-08</td>\n",
       "      <td>1</td>\n",
       "      <td>B07</td>\n",
       "    </tr>\n",
       "  </tbody>\n",
       "</table>\n",
       "</div>"
      ],
      "text/plain": [
       "          id_code experiment  plate well\n",
       "0  HEPG2-08_1_B03   HEPG2-08      1  B03\n",
       "1  HEPG2-08_1_B04   HEPG2-08      1  B04\n",
       "2  HEPG2-08_1_B05   HEPG2-08      1  B05\n",
       "3  HEPG2-08_1_B06   HEPG2-08      1  B06\n",
       "4  HEPG2-08_1_B07   HEPG2-08      1  B07"
      ]
     },
     "execution_count": 35,
     "metadata": {},
     "output_type": "execute_result"
    }
   ],
   "source": [
    "df_test.head()"
   ]
  },
  {
   "cell_type": "code",
   "execution_count": 36,
   "metadata": {
    "ExecuteTime": {
     "end_time": "2019-07-27T05:35:03.369617Z",
     "start_time": "2019-07-27T05:35:03.354824Z"
    }
   },
   "outputs": [
    {
     "data": {
      "text/plain": [
       "(array(['HEPG2-08', 'HEPG2-09', 'HEPG2-10', 'HEPG2-11', 'HUVEC-17',\n",
       "        'HUVEC-18', 'HUVEC-19', 'HUVEC-20', 'HUVEC-21', 'HUVEC-22',\n",
       "        'HUVEC-23', 'HUVEC-24', 'RPE-08', 'RPE-09', 'RPE-10', 'RPE-11',\n",
       "        'U2OS-04', 'U2OS-05'], dtype=object), 18)"
      ]
     },
     "execution_count": 36,
     "metadata": {},
     "output_type": "execute_result"
    }
   ],
   "source": [
    "df_test.experiment.unique(), len(df_test.experiment.unique())"
   ]
  },
  {
   "cell_type": "code",
   "execution_count": 37,
   "metadata": {
    "ExecuteTime": {
     "end_time": "2019-07-27T05:35:04.806828Z",
     "start_time": "2019-07-27T05:35:04.792820Z"
    }
   },
   "outputs": [],
   "source": [
    "experiments = ['HEPG2-08', 'HEPG2-09', 'HEPG2-10', 'HEPG2-11', 'HUVEC-17', 'HUVEC-18', 'HUVEC-19', 'HUVEC-20', 'HUVEC-21',\n",
    "        'HUVEC-22', 'HUVEC-23', 'HUVEC-24', 'RPE-08', 'RPE-09', 'RPE-10', 'RPE-11', 'U2OS-04', 'U2OS-05']"
   ]
  },
  {
   "cell_type": "code",
   "execution_count": 38,
   "metadata": {
    "ExecuteTime": {
     "end_time": "2019-07-27T05:35:09.173173Z",
     "start_time": "2019-07-27T05:35:09.154458Z"
    }
   },
   "outputs": [],
   "source": [
    "# setup empty df\n",
    "df1 = pd.DataFrame()\n",
    "# generate path without channel and image file suffix for open image function\n",
    "df1['path'] = df_test['experiment']+'/Plate'+df_test['plate'].apply(str)+'/'+df_test['well']+'_s1' #+'_w'\n"
   ]
  },
  {
   "cell_type": "code",
   "execution_count": 39,
   "metadata": {
    "ExecuteTime": {
     "end_time": "2019-07-27T05:35:11.020125Z",
     "start_time": "2019-07-27T05:35:11.006464Z"
    }
   },
   "outputs": [],
   "source": [
    "df1['experiment'] = df_test['experiment']"
   ]
  },
  {
   "cell_type": "code",
   "execution_count": 40,
   "metadata": {
    "ExecuteTime": {
     "end_time": "2019-07-27T05:35:13.602281Z",
     "start_time": "2019-07-27T05:35:13.586742Z"
    }
   },
   "outputs": [
    {
     "data": {
      "text/html": [
       "<div>\n",
       "<style scoped>\n",
       "    .dataframe tbody tr th:only-of-type {\n",
       "        vertical-align: middle;\n",
       "    }\n",
       "\n",
       "    .dataframe tbody tr th {\n",
       "        vertical-align: top;\n",
       "    }\n",
       "\n",
       "    .dataframe thead th {\n",
       "        text-align: right;\n",
       "    }\n",
       "</style>\n",
       "<table border=\"1\" class=\"dataframe\">\n",
       "  <thead>\n",
       "    <tr style=\"text-align: right;\">\n",
       "      <th></th>\n",
       "      <th>path</th>\n",
       "      <th>experiment</th>\n",
       "    </tr>\n",
       "  </thead>\n",
       "  <tbody>\n",
       "    <tr>\n",
       "      <th>0</th>\n",
       "      <td>HEPG2-08/Plate1/B03_s1</td>\n",
       "      <td>HEPG2-08</td>\n",
       "    </tr>\n",
       "    <tr>\n",
       "      <th>1</th>\n",
       "      <td>HEPG2-08/Plate1/B04_s1</td>\n",
       "      <td>HEPG2-08</td>\n",
       "    </tr>\n",
       "    <tr>\n",
       "      <th>2</th>\n",
       "      <td>HEPG2-08/Plate1/B05_s1</td>\n",
       "      <td>HEPG2-08</td>\n",
       "    </tr>\n",
       "    <tr>\n",
       "      <th>3</th>\n",
       "      <td>HEPG2-08/Plate1/B06_s1</td>\n",
       "      <td>HEPG2-08</td>\n",
       "    </tr>\n",
       "    <tr>\n",
       "      <th>4</th>\n",
       "      <td>HEPG2-08/Plate1/B07_s1</td>\n",
       "      <td>HEPG2-08</td>\n",
       "    </tr>\n",
       "  </tbody>\n",
       "</table>\n",
       "</div>"
      ],
      "text/plain": [
       "                     path experiment\n",
       "0  HEPG2-08/Plate1/B03_s1   HEPG2-08\n",
       "1  HEPG2-08/Plate1/B04_s1   HEPG2-08\n",
       "2  HEPG2-08/Plate1/B05_s1   HEPG2-08\n",
       "3  HEPG2-08/Plate1/B06_s1   HEPG2-08\n",
       "4  HEPG2-08/Plate1/B07_s1   HEPG2-08"
      ]
     },
     "execution_count": 40,
     "metadata": {},
     "output_type": "execute_result"
    }
   ],
   "source": [
    "df1.head()"
   ]
  },
  {
   "cell_type": "code",
   "execution_count": 41,
   "metadata": {
    "ExecuteTime": {
     "end_time": "2019-07-27T05:35:18.462609Z",
     "start_time": "2019-07-27T05:35:18.447233Z"
    }
   },
   "outputs": [],
   "source": [
    "# filter for experiments\n",
    "df1 = df1[df1['experiment'].isin(experiments)]"
   ]
  },
  {
   "cell_type": "code",
   "execution_count": 42,
   "metadata": {
    "ExecuteTime": {
     "end_time": "2019-07-27T05:35:21.458069Z",
     "start_time": "2019-07-27T05:35:21.429457Z"
    }
   },
   "outputs": [
    {
     "data": {
      "text/plain": [
       "[1107,\n",
       " 1108,\n",
       " 1108,\n",
       " 1106,\n",
       " 1108,\n",
       " 1107,\n",
       " 1108,\n",
       " 1108,\n",
       " 1108,\n",
       " 1108,\n",
       " 1099,\n",
       " 1100,\n",
       " 1108,\n",
       " 1107,\n",
       " 1108,\n",
       " 1094,\n",
       " 1108,\n",
       " 1097]"
      ]
     },
     "execution_count": 42,
     "metadata": {},
     "output_type": "execute_result"
    }
   ],
   "source": [
    "# get rows/images per experiment\n",
    "[len(df1[df1['experiment'] == x]) for x in experiments]"
   ]
  },
  {
   "cell_type": "code",
   "execution_count": 43,
   "metadata": {
    "ExecuteTime": {
     "end_time": "2019-07-27T05:35:23.916548Z",
     "start_time": "2019-07-27T05:35:23.901481Z"
    }
   },
   "outputs": [
    {
     "data": {
      "text/html": [
       "<div>\n",
       "<style scoped>\n",
       "    .dataframe tbody tr th:only-of-type {\n",
       "        vertical-align: middle;\n",
       "    }\n",
       "\n",
       "    .dataframe tbody tr th {\n",
       "        vertical-align: top;\n",
       "    }\n",
       "\n",
       "    .dataframe thead th {\n",
       "        text-align: right;\n",
       "    }\n",
       "</style>\n",
       "<table border=\"1\" class=\"dataframe\">\n",
       "  <thead>\n",
       "    <tr style=\"text-align: right;\">\n",
       "      <th></th>\n",
       "      <th>path</th>\n",
       "      <th>experiment</th>\n",
       "    </tr>\n",
       "  </thead>\n",
       "  <tbody>\n",
       "    <tr>\n",
       "      <th>19892</th>\n",
       "      <td>U2OS-05/Plate4/O19_s1</td>\n",
       "      <td>U2OS-05</td>\n",
       "    </tr>\n",
       "    <tr>\n",
       "      <th>19893</th>\n",
       "      <td>U2OS-05/Plate4/O20_s1</td>\n",
       "      <td>U2OS-05</td>\n",
       "    </tr>\n",
       "    <tr>\n",
       "      <th>19894</th>\n",
       "      <td>U2OS-05/Plate4/O21_s1</td>\n",
       "      <td>U2OS-05</td>\n",
       "    </tr>\n",
       "    <tr>\n",
       "      <th>19895</th>\n",
       "      <td>U2OS-05/Plate4/O22_s1</td>\n",
       "      <td>U2OS-05</td>\n",
       "    </tr>\n",
       "    <tr>\n",
       "      <th>19896</th>\n",
       "      <td>U2OS-05/Plate4/O23_s1</td>\n",
       "      <td>U2OS-05</td>\n",
       "    </tr>\n",
       "  </tbody>\n",
       "</table>\n",
       "</div>"
      ],
      "text/plain": [
       "                        path experiment\n",
       "19892  U2OS-05/Plate4/O19_s1    U2OS-05\n",
       "19893  U2OS-05/Plate4/O20_s1    U2OS-05\n",
       "19894  U2OS-05/Plate4/O21_s1    U2OS-05\n",
       "19895  U2OS-05/Plate4/O22_s1    U2OS-05\n",
       "19896  U2OS-05/Plate4/O23_s1    U2OS-05"
      ]
     },
     "execution_count": 43,
     "metadata": {},
     "output_type": "execute_result"
    }
   ],
   "source": [
    "df1.tail()"
   ]
  },
  {
   "cell_type": "code",
   "execution_count": 44,
   "metadata": {
    "ExecuteTime": {
     "end_time": "2019-07-27T05:35:27.521400Z",
     "start_time": "2019-07-27T05:35:27.508050Z"
    }
   },
   "outputs": [],
   "source": [
    "# copy dataframe to get rows for site 2\n",
    "df2 = df1.copy()"
   ]
  },
  {
   "cell_type": "code",
   "execution_count": 45,
   "metadata": {
    "ExecuteTime": {
     "end_time": "2019-07-27T05:35:29.004777Z",
     "start_time": "2019-07-27T05:35:28.987841Z"
    }
   },
   "outputs": [],
   "source": [
    "# replace site 1 with site 2\n",
    "df2['path'] = df2['path'].apply(lambda x: x[:-1]+'2')"
   ]
  },
  {
   "cell_type": "code",
   "execution_count": 47,
   "metadata": {
    "ExecuteTime": {
     "end_time": "2019-07-27T05:35:48.394758Z",
     "start_time": "2019-07-27T05:35:48.379446Z"
    }
   },
   "outputs": [
    {
     "data": {
      "text/html": [
       "<div>\n",
       "<style scoped>\n",
       "    .dataframe tbody tr th:only-of-type {\n",
       "        vertical-align: middle;\n",
       "    }\n",
       "\n",
       "    .dataframe tbody tr th {\n",
       "        vertical-align: top;\n",
       "    }\n",
       "\n",
       "    .dataframe thead th {\n",
       "        text-align: right;\n",
       "    }\n",
       "</style>\n",
       "<table border=\"1\" class=\"dataframe\">\n",
       "  <thead>\n",
       "    <tr style=\"text-align: right;\">\n",
       "      <th></th>\n",
       "      <th>path</th>\n",
       "      <th>experiment</th>\n",
       "    </tr>\n",
       "  </thead>\n",
       "  <tbody>\n",
       "    <tr>\n",
       "      <th>0</th>\n",
       "      <td>HEPG2-08/Plate1/B03_s2</td>\n",
       "      <td>HEPG2-08</td>\n",
       "    </tr>\n",
       "    <tr>\n",
       "      <th>1</th>\n",
       "      <td>HEPG2-08/Plate1/B04_s2</td>\n",
       "      <td>HEPG2-08</td>\n",
       "    </tr>\n",
       "    <tr>\n",
       "      <th>2</th>\n",
       "      <td>HEPG2-08/Plate1/B05_s2</td>\n",
       "      <td>HEPG2-08</td>\n",
       "    </tr>\n",
       "    <tr>\n",
       "      <th>3</th>\n",
       "      <td>HEPG2-08/Plate1/B06_s2</td>\n",
       "      <td>HEPG2-08</td>\n",
       "    </tr>\n",
       "    <tr>\n",
       "      <th>4</th>\n",
       "      <td>HEPG2-08/Plate1/B07_s2</td>\n",
       "      <td>HEPG2-08</td>\n",
       "    </tr>\n",
       "  </tbody>\n",
       "</table>\n",
       "</div>"
      ],
      "text/plain": [
       "                     path experiment\n",
       "0  HEPG2-08/Plate1/B03_s2   HEPG2-08\n",
       "1  HEPG2-08/Plate1/B04_s2   HEPG2-08\n",
       "2  HEPG2-08/Plate1/B05_s2   HEPG2-08\n",
       "3  HEPG2-08/Plate1/B06_s2   HEPG2-08\n",
       "4  HEPG2-08/Plate1/B07_s2   HEPG2-08"
      ]
     },
     "execution_count": 47,
     "metadata": {},
     "output_type": "execute_result"
    }
   ],
   "source": [
    "df2.head()"
   ]
  },
  {
   "cell_type": "code",
   "execution_count": 48,
   "metadata": {
    "ExecuteTime": {
     "end_time": "2019-07-27T05:35:54.027908Z",
     "start_time": "2019-07-27T05:35:54.013089Z"
    }
   },
   "outputs": [],
   "source": [
    "df_full = pd.concat((df1, df2))"
   ]
  },
  {
   "cell_type": "code",
   "execution_count": 49,
   "metadata": {
    "ExecuteTime": {
     "end_time": "2019-07-27T05:35:56.680405Z",
     "start_time": "2019-07-27T05:35:56.667176Z"
    }
   },
   "outputs": [
    {
     "data": {
      "text/plain": [
       "((19897, 2), (19897, 2), (39794, 2))"
      ]
     },
     "execution_count": 49,
     "metadata": {},
     "output_type": "execute_result"
    }
   ],
   "source": [
    "df1.shape, df2.shape, df_full.shape"
   ]
  },
  {
   "cell_type": "code",
   "execution_count": 50,
   "metadata": {
    "ExecuteTime": {
     "end_time": "2019-07-27T05:35:57.888160Z",
     "start_time": "2019-07-27T05:35:57.874916Z"
    }
   },
   "outputs": [
    {
     "data": {
      "text/plain": [
       "39794"
      ]
     },
     "execution_count": 50,
     "metadata": {},
     "output_type": "execute_result"
    }
   ],
   "source": [
    "df_full.shape[0]"
   ]
  },
  {
   "cell_type": "code",
   "execution_count": 51,
   "metadata": {
    "ExecuteTime": {
     "end_time": "2019-07-27T05:36:00.052807Z",
     "start_time": "2019-07-27T05:36:00.001926Z"
    }
   },
   "outputs": [],
   "source": [
    "df_full.to_csv('full_test_dataset_v2_20190727.csv')"
   ]
  },
  {
   "cell_type": "markdown",
   "metadata": {},
   "source": [
    "# Old"
   ]
  },
  {
   "cell_type": "markdown",
   "metadata": {},
   "source": [
    "See notebook \"rcic_multicat_v6_resnet18u34_baseline_adversarial_full.ipynb\" section 3.3.1 and 3.3.2."
   ]
  },
  {
   "cell_type": "markdown",
   "metadata": {},
   "source": [
    "## Adversarial test dataset setup"
   ]
  },
  {
   "cell_type": "code",
   "execution_count": 61,
   "metadata": {
    "ExecuteTime": {
     "end_time": "2019-07-05T20:13:33.027476Z",
     "start_time": "2019-07-05T20:13:32.992434Z"
    }
   },
   "outputs": [],
   "source": [
    "df_train = pd.read_csv('train.csv')"
   ]
  },
  {
   "cell_type": "code",
   "execution_count": 62,
   "metadata": {
    "ExecuteTime": {
     "end_time": "2019-07-05T20:13:33.209491Z",
     "start_time": "2019-07-05T20:13:33.160948Z"
    }
   },
   "outputs": [
    {
     "data": {
      "text/html": [
       "<div>\n",
       "<style scoped>\n",
       "    .dataframe tbody tr th:only-of-type {\n",
       "        vertical-align: middle;\n",
       "    }\n",
       "\n",
       "    .dataframe tbody tr th {\n",
       "        vertical-align: top;\n",
       "    }\n",
       "\n",
       "    .dataframe thead th {\n",
       "        text-align: right;\n",
       "    }\n",
       "</style>\n",
       "<table border=\"1\" class=\"dataframe\">\n",
       "  <thead>\n",
       "    <tr style=\"text-align: right;\">\n",
       "      <th></th>\n",
       "      <th>id_code</th>\n",
       "      <th>experiment</th>\n",
       "      <th>plate</th>\n",
       "      <th>well</th>\n",
       "      <th>sirna</th>\n",
       "    </tr>\n",
       "  </thead>\n",
       "  <tbody>\n",
       "    <tr>\n",
       "      <th>0</th>\n",
       "      <td>HEPG2-01_1_B03</td>\n",
       "      <td>HEPG2-01</td>\n",
       "      <td>1</td>\n",
       "      <td>B03</td>\n",
       "      <td>513</td>\n",
       "    </tr>\n",
       "    <tr>\n",
       "      <th>1</th>\n",
       "      <td>HEPG2-01_1_B04</td>\n",
       "      <td>HEPG2-01</td>\n",
       "      <td>1</td>\n",
       "      <td>B04</td>\n",
       "      <td>840</td>\n",
       "    </tr>\n",
       "    <tr>\n",
       "      <th>2</th>\n",
       "      <td>HEPG2-01_1_B05</td>\n",
       "      <td>HEPG2-01</td>\n",
       "      <td>1</td>\n",
       "      <td>B05</td>\n",
       "      <td>1020</td>\n",
       "    </tr>\n",
       "    <tr>\n",
       "      <th>3</th>\n",
       "      <td>HEPG2-01_1_B06</td>\n",
       "      <td>HEPG2-01</td>\n",
       "      <td>1</td>\n",
       "      <td>B06</td>\n",
       "      <td>254</td>\n",
       "    </tr>\n",
       "    <tr>\n",
       "      <th>4</th>\n",
       "      <td>HEPG2-01_1_B07</td>\n",
       "      <td>HEPG2-01</td>\n",
       "      <td>1</td>\n",
       "      <td>B07</td>\n",
       "      <td>144</td>\n",
       "    </tr>\n",
       "  </tbody>\n",
       "</table>\n",
       "</div>"
      ],
      "text/plain": [
       "          id_code experiment  plate well  sirna\n",
       "0  HEPG2-01_1_B03   HEPG2-01      1  B03    513\n",
       "1  HEPG2-01_1_B04   HEPG2-01      1  B04    840\n",
       "2  HEPG2-01_1_B05   HEPG2-01      1  B05   1020\n",
       "3  HEPG2-01_1_B06   HEPG2-01      1  B06    254\n",
       "4  HEPG2-01_1_B07   HEPG2-01      1  B07    144"
      ]
     },
     "execution_count": 62,
     "metadata": {},
     "output_type": "execute_result"
    }
   ],
   "source": [
    "df_train.head()"
   ]
  },
  {
   "cell_type": "code",
   "execution_count": 63,
   "metadata": {
    "ExecuteTime": {
     "end_time": "2019-07-05T20:13:33.358284Z",
     "start_time": "2019-07-05T20:13:33.339036Z"
    }
   },
   "outputs": [
    {
     "data": {
      "text/plain": [
       "(array(['HEPG2-01', 'HEPG2-02', 'HEPG2-03', 'HEPG2-04', 'HEPG2-05', 'HEPG2-06', 'HEPG2-07', 'HUVEC-01', 'HUVEC-02',\n",
       "        'HUVEC-03', 'HUVEC-04', 'HUVEC-05', 'HUVEC-06', 'HUVEC-07', 'HUVEC-08', 'HUVEC-09', 'HUVEC-10', 'HUVEC-11',\n",
       "        'HUVEC-12', 'HUVEC-13', 'HUVEC-14', 'HUVEC-15', 'HUVEC-16', 'RPE-01', 'RPE-02', 'RPE-03', 'RPE-04', 'RPE-05',\n",
       "        'RPE-06', 'RPE-07', 'U2OS-01', 'U2OS-02', 'U2OS-03'], dtype=object),\n",
       " 33)"
      ]
     },
     "execution_count": 63,
     "metadata": {},
     "output_type": "execute_result"
    }
   ],
   "source": [
    "df_train.experiment.unique(), len(df_train.experiment.unique())"
   ]
  },
  {
   "cell_type": "code",
   "execution_count": 64,
   "metadata": {
    "ExecuteTime": {
     "end_time": "2019-07-05T20:13:33.745993Z",
     "start_time": "2019-07-05T20:13:33.729908Z"
    }
   },
   "outputs": [],
   "source": [
    "experiments = ['HEPG2-01', 'HEPG2-02', 'HEPG2-03', # train\n",
    "               'HUVEC-01', 'HUVEC-02', 'HUVEC-03', # train\n",
    "               'RPE-01' #valid\n",
    "              ]"
   ]
  },
  {
   "cell_type": "code",
   "execution_count": 65,
   "metadata": {
    "ExecuteTime": {
     "end_time": "2019-07-05T20:13:34.525394Z",
     "start_time": "2019-07-05T20:13:34.494582Z"
    }
   },
   "outputs": [],
   "source": [
    "# setup empty df\n",
    "df = pd.DataFrame()\n",
    "# generate path without channel and image file suffix for open image function\n",
    "df['path'] = df_train['experiment']+'/Plate'+df_train['plate'].apply(str)+'/'+df_train['well']+'_s1' #+'_w'\n"
   ]
  },
  {
   "cell_type": "code",
   "execution_count": 66,
   "metadata": {
    "ExecuteTime": {
     "end_time": "2019-07-05T20:13:34.949928Z",
     "start_time": "2019-07-05T20:13:34.932714Z"
    }
   },
   "outputs": [],
   "source": [
    "df['experiment'] = df_train['experiment']"
   ]
  },
  {
   "cell_type": "code",
   "execution_count": 67,
   "metadata": {
    "ExecuteTime": {
     "end_time": "2019-07-05T20:13:35.282967Z",
     "start_time": "2019-07-05T20:13:35.265762Z"
    }
   },
   "outputs": [],
   "source": [
    "df['sirna'] = df_train['sirna']"
   ]
  },
  {
   "cell_type": "code",
   "execution_count": 68,
   "metadata": {
    "ExecuteTime": {
     "end_time": "2019-07-05T20:13:35.569094Z",
     "start_time": "2019-07-05T20:13:35.533666Z"
    }
   },
   "outputs": [],
   "source": [
    "df['multi'] = df_train['experiment'].apply(lambda x: x.split('/')[0])+' '+df_train['sirna'].apply(lambda x: str(x))\n"
   ]
  },
  {
   "cell_type": "code",
   "execution_count": 69,
   "metadata": {
    "ExecuteTime": {
     "end_time": "2019-07-05T20:13:36.121832Z",
     "start_time": "2019-07-05T20:13:36.102461Z"
    }
   },
   "outputs": [
    {
     "data": {
      "text/html": [
       "<div>\n",
       "<style scoped>\n",
       "    .dataframe tbody tr th:only-of-type {\n",
       "        vertical-align: middle;\n",
       "    }\n",
       "\n",
       "    .dataframe tbody tr th {\n",
       "        vertical-align: top;\n",
       "    }\n",
       "\n",
       "    .dataframe thead th {\n",
       "        text-align: right;\n",
       "    }\n",
       "</style>\n",
       "<table border=\"1\" class=\"dataframe\">\n",
       "  <thead>\n",
       "    <tr style=\"text-align: right;\">\n",
       "      <th></th>\n",
       "      <th>path</th>\n",
       "      <th>experiment</th>\n",
       "      <th>sirna</th>\n",
       "      <th>multi</th>\n",
       "    </tr>\n",
       "  </thead>\n",
       "  <tbody>\n",
       "    <tr>\n",
       "      <th>0</th>\n",
       "      <td>HEPG2-01/Plate1/B03_s1</td>\n",
       "      <td>HEPG2-01</td>\n",
       "      <td>513</td>\n",
       "      <td>HEPG2-01 513</td>\n",
       "    </tr>\n",
       "    <tr>\n",
       "      <th>1</th>\n",
       "      <td>HEPG2-01/Plate1/B04_s1</td>\n",
       "      <td>HEPG2-01</td>\n",
       "      <td>840</td>\n",
       "      <td>HEPG2-01 840</td>\n",
       "    </tr>\n",
       "    <tr>\n",
       "      <th>2</th>\n",
       "      <td>HEPG2-01/Plate1/B05_s1</td>\n",
       "      <td>HEPG2-01</td>\n",
       "      <td>1020</td>\n",
       "      <td>HEPG2-01 1020</td>\n",
       "    </tr>\n",
       "    <tr>\n",
       "      <th>3</th>\n",
       "      <td>HEPG2-01/Plate1/B06_s1</td>\n",
       "      <td>HEPG2-01</td>\n",
       "      <td>254</td>\n",
       "      <td>HEPG2-01 254</td>\n",
       "    </tr>\n",
       "    <tr>\n",
       "      <th>4</th>\n",
       "      <td>HEPG2-01/Plate1/B07_s1</td>\n",
       "      <td>HEPG2-01</td>\n",
       "      <td>144</td>\n",
       "      <td>HEPG2-01 144</td>\n",
       "    </tr>\n",
       "  </tbody>\n",
       "</table>\n",
       "</div>"
      ],
      "text/plain": [
       "                     path experiment  sirna          multi\n",
       "0  HEPG2-01/Plate1/B03_s1   HEPG2-01    513   HEPG2-01 513\n",
       "1  HEPG2-01/Plate1/B04_s1   HEPG2-01    840   HEPG2-01 840\n",
       "2  HEPG2-01/Plate1/B05_s1   HEPG2-01   1020  HEPG2-01 1020\n",
       "3  HEPG2-01/Plate1/B06_s1   HEPG2-01    254   HEPG2-01 254\n",
       "4  HEPG2-01/Plate1/B07_s1   HEPG2-01    144   HEPG2-01 144"
      ]
     },
     "execution_count": 69,
     "metadata": {},
     "output_type": "execute_result"
    }
   ],
   "source": [
    "df.head()"
   ]
  },
  {
   "cell_type": "code",
   "execution_count": 70,
   "metadata": {
    "ExecuteTime": {
     "end_time": "2019-07-05T20:13:38.076503Z",
     "start_time": "2019-07-05T20:13:38.055695Z"
    }
   },
   "outputs": [],
   "source": [
    "# filter for experiments\n",
    "df = df[df['experiment'].isin(experiments)]"
   ]
  },
  {
   "cell_type": "code",
   "execution_count": 71,
   "metadata": {
    "ExecuteTime": {
     "end_time": "2019-07-05T20:13:38.495972Z",
     "start_time": "2019-07-05T20:13:38.473072Z"
    }
   },
   "outputs": [
    {
     "data": {
      "text/plain": [
       "[1106, 1106, 1108, 1108, 1108, 1108, 1108]"
      ]
     },
     "execution_count": 71,
     "metadata": {},
     "output_type": "execute_result"
    }
   ],
   "source": [
    "# get rows/images per experiment\n",
    "[len(df[df['experiment'] == x]) for x in experiments]"
   ]
  },
  {
   "cell_type": "code",
   "execution_count": 72,
   "metadata": {
    "ExecuteTime": {
     "end_time": "2019-07-05T20:13:40.736639Z",
     "start_time": "2019-07-05T20:13:40.717563Z"
    }
   },
   "outputs": [
    {
     "data": {
      "text/html": [
       "<div>\n",
       "<style scoped>\n",
       "    .dataframe tbody tr th:only-of-type {\n",
       "        vertical-align: middle;\n",
       "    }\n",
       "\n",
       "    .dataframe tbody tr th {\n",
       "        vertical-align: top;\n",
       "    }\n",
       "\n",
       "    .dataframe thead th {\n",
       "        text-align: right;\n",
       "    }\n",
       "</style>\n",
       "<table border=\"1\" class=\"dataframe\">\n",
       "  <thead>\n",
       "    <tr style=\"text-align: right;\">\n",
       "      <th></th>\n",
       "      <th>path</th>\n",
       "      <th>experiment</th>\n",
       "      <th>sirna</th>\n",
       "      <th>multi</th>\n",
       "    </tr>\n",
       "  </thead>\n",
       "  <tbody>\n",
       "    <tr>\n",
       "      <th>26541</th>\n",
       "      <td>RPE-01/Plate4/O19_s1</td>\n",
       "      <td>RPE-01</td>\n",
       "      <td>832</td>\n",
       "      <td>RPE-01 832</td>\n",
       "    </tr>\n",
       "    <tr>\n",
       "      <th>26542</th>\n",
       "      <td>RPE-01/Plate4/O20_s1</td>\n",
       "      <td>RPE-01</td>\n",
       "      <td>773</td>\n",
       "      <td>RPE-01 773</td>\n",
       "    </tr>\n",
       "    <tr>\n",
       "      <th>26543</th>\n",
       "      <td>RPE-01/Plate4/O21_s1</td>\n",
       "      <td>RPE-01</td>\n",
       "      <td>200</td>\n",
       "      <td>RPE-01 200</td>\n",
       "    </tr>\n",
       "    <tr>\n",
       "      <th>26544</th>\n",
       "      <td>RPE-01/Plate4/O22_s1</td>\n",
       "      <td>RPE-01</td>\n",
       "      <td>725</td>\n",
       "      <td>RPE-01 725</td>\n",
       "    </tr>\n",
       "    <tr>\n",
       "      <th>26545</th>\n",
       "      <td>RPE-01/Plate4/O23_s1</td>\n",
       "      <td>RPE-01</td>\n",
       "      <td>318</td>\n",
       "      <td>RPE-01 318</td>\n",
       "    </tr>\n",
       "  </tbody>\n",
       "</table>\n",
       "</div>"
      ],
      "text/plain": [
       "                       path experiment  sirna       multi\n",
       "26541  RPE-01/Plate4/O19_s1     RPE-01    832  RPE-01 832\n",
       "26542  RPE-01/Plate4/O20_s1     RPE-01    773  RPE-01 773\n",
       "26543  RPE-01/Plate4/O21_s1     RPE-01    200  RPE-01 200\n",
       "26544  RPE-01/Plate4/O22_s1     RPE-01    725  RPE-01 725\n",
       "26545  RPE-01/Plate4/O23_s1     RPE-01    318  RPE-01 318"
      ]
     },
     "execution_count": 72,
     "metadata": {},
     "output_type": "execute_result"
    }
   ],
   "source": [
    "df.tail()"
   ]
  },
  {
   "cell_type": "code",
   "execution_count": 73,
   "metadata": {
    "ExecuteTime": {
     "end_time": "2019-07-05T20:13:42.893580Z",
     "start_time": "2019-07-05T20:13:42.832784Z"
    }
   },
   "outputs": [],
   "source": [
    "df['valid'] = 0"
   ]
  },
  {
   "cell_type": "code",
   "execution_count": 74,
   "metadata": {
    "ExecuteTime": {
     "end_time": "2019-07-05T20:13:43.741367Z",
     "start_time": "2019-07-05T20:13:43.722537Z"
    }
   },
   "outputs": [],
   "source": [
    "# set valid dataset\n",
    "df.loc[df['experiment'] == 'RPE-01','valid'] = 1"
   ]
  },
  {
   "cell_type": "code",
   "execution_count": 75,
   "metadata": {
    "ExecuteTime": {
     "end_time": "2019-07-05T20:13:44.108320Z",
     "start_time": "2019-07-05T20:13:44.059319Z"
    }
   },
   "outputs": [
    {
     "data": {
      "text/html": [
       "<div>\n",
       "<style scoped>\n",
       "    .dataframe tbody tr th:only-of-type {\n",
       "        vertical-align: middle;\n",
       "    }\n",
       "\n",
       "    .dataframe tbody tr th {\n",
       "        vertical-align: top;\n",
       "    }\n",
       "\n",
       "    .dataframe thead th {\n",
       "        text-align: right;\n",
       "    }\n",
       "</style>\n",
       "<table border=\"1\" class=\"dataframe\">\n",
       "  <thead>\n",
       "    <tr style=\"text-align: right;\">\n",
       "      <th></th>\n",
       "      <th>path</th>\n",
       "      <th>experiment</th>\n",
       "      <th>sirna</th>\n",
       "      <th>multi</th>\n",
       "      <th>valid</th>\n",
       "    </tr>\n",
       "  </thead>\n",
       "  <tbody>\n",
       "    <tr>\n",
       "      <th>0</th>\n",
       "      <td>HEPG2-01/Plate1/B03_s1</td>\n",
       "      <td>HEPG2-01</td>\n",
       "      <td>513</td>\n",
       "      <td>HEPG2-01 513</td>\n",
       "      <td>0</td>\n",
       "    </tr>\n",
       "    <tr>\n",
       "      <th>1</th>\n",
       "      <td>HEPG2-01/Plate1/B04_s1</td>\n",
       "      <td>HEPG2-01</td>\n",
       "      <td>840</td>\n",
       "      <td>HEPG2-01 840</td>\n",
       "      <td>0</td>\n",
       "    </tr>\n",
       "    <tr>\n",
       "      <th>2</th>\n",
       "      <td>HEPG2-01/Plate1/B05_s1</td>\n",
       "      <td>HEPG2-01</td>\n",
       "      <td>1020</td>\n",
       "      <td>HEPG2-01 1020</td>\n",
       "      <td>0</td>\n",
       "    </tr>\n",
       "    <tr>\n",
       "      <th>3</th>\n",
       "      <td>HEPG2-01/Plate1/B06_s1</td>\n",
       "      <td>HEPG2-01</td>\n",
       "      <td>254</td>\n",
       "      <td>HEPG2-01 254</td>\n",
       "      <td>0</td>\n",
       "    </tr>\n",
       "    <tr>\n",
       "      <th>4</th>\n",
       "      <td>HEPG2-01/Plate1/B07_s1</td>\n",
       "      <td>HEPG2-01</td>\n",
       "      <td>144</td>\n",
       "      <td>HEPG2-01 144</td>\n",
       "      <td>0</td>\n",
       "    </tr>\n",
       "  </tbody>\n",
       "</table>\n",
       "</div>"
      ],
      "text/plain": [
       "                     path experiment  sirna          multi  valid\n",
       "0  HEPG2-01/Plate1/B03_s1   HEPG2-01    513   HEPG2-01 513      0\n",
       "1  HEPG2-01/Plate1/B04_s1   HEPG2-01    840   HEPG2-01 840      0\n",
       "2  HEPG2-01/Plate1/B05_s1   HEPG2-01   1020  HEPG2-01 1020      0\n",
       "3  HEPG2-01/Plate1/B06_s1   HEPG2-01    254   HEPG2-01 254      0\n",
       "4  HEPG2-01/Plate1/B07_s1   HEPG2-01    144   HEPG2-01 144      0"
      ]
     },
     "execution_count": 75,
     "metadata": {},
     "output_type": "execute_result"
    }
   ],
   "source": [
    "df.head()"
   ]
  },
  {
   "cell_type": "code",
   "execution_count": 76,
   "metadata": {
    "ExecuteTime": {
     "end_time": "2019-07-05T20:13:45.525492Z",
     "start_time": "2019-07-05T20:13:45.506100Z"
    }
   },
   "outputs": [
    {
     "data": {
      "text/html": [
       "<div>\n",
       "<style scoped>\n",
       "    .dataframe tbody tr th:only-of-type {\n",
       "        vertical-align: middle;\n",
       "    }\n",
       "\n",
       "    .dataframe tbody tr th {\n",
       "        vertical-align: top;\n",
       "    }\n",
       "\n",
       "    .dataframe thead th {\n",
       "        text-align: right;\n",
       "    }\n",
       "</style>\n",
       "<table border=\"1\" class=\"dataframe\">\n",
       "  <thead>\n",
       "    <tr style=\"text-align: right;\">\n",
       "      <th></th>\n",
       "      <th>path</th>\n",
       "      <th>experiment</th>\n",
       "      <th>sirna</th>\n",
       "      <th>multi</th>\n",
       "      <th>valid</th>\n",
       "    </tr>\n",
       "  </thead>\n",
       "  <tbody>\n",
       "    <tr>\n",
       "      <th>26541</th>\n",
       "      <td>RPE-01/Plate4/O19_s1</td>\n",
       "      <td>RPE-01</td>\n",
       "      <td>832</td>\n",
       "      <td>RPE-01 832</td>\n",
       "      <td>1</td>\n",
       "    </tr>\n",
       "    <tr>\n",
       "      <th>26542</th>\n",
       "      <td>RPE-01/Plate4/O20_s1</td>\n",
       "      <td>RPE-01</td>\n",
       "      <td>773</td>\n",
       "      <td>RPE-01 773</td>\n",
       "      <td>1</td>\n",
       "    </tr>\n",
       "    <tr>\n",
       "      <th>26543</th>\n",
       "      <td>RPE-01/Plate4/O21_s1</td>\n",
       "      <td>RPE-01</td>\n",
       "      <td>200</td>\n",
       "      <td>RPE-01 200</td>\n",
       "      <td>1</td>\n",
       "    </tr>\n",
       "    <tr>\n",
       "      <th>26544</th>\n",
       "      <td>RPE-01/Plate4/O22_s1</td>\n",
       "      <td>RPE-01</td>\n",
       "      <td>725</td>\n",
       "      <td>RPE-01 725</td>\n",
       "      <td>1</td>\n",
       "    </tr>\n",
       "    <tr>\n",
       "      <th>26545</th>\n",
       "      <td>RPE-01/Plate4/O23_s1</td>\n",
       "      <td>RPE-01</td>\n",
       "      <td>318</td>\n",
       "      <td>RPE-01 318</td>\n",
       "      <td>1</td>\n",
       "    </tr>\n",
       "  </tbody>\n",
       "</table>\n",
       "</div>"
      ],
      "text/plain": [
       "                       path experiment  sirna       multi  valid\n",
       "26541  RPE-01/Plate4/O19_s1     RPE-01    832  RPE-01 832      1\n",
       "26542  RPE-01/Plate4/O20_s1     RPE-01    773  RPE-01 773      1\n",
       "26543  RPE-01/Plate4/O21_s1     RPE-01    200  RPE-01 200      1\n",
       "26544  RPE-01/Plate4/O22_s1     RPE-01    725  RPE-01 725      1\n",
       "26545  RPE-01/Plate4/O23_s1     RPE-01    318  RPE-01 318      1"
      ]
     },
     "execution_count": 76,
     "metadata": {},
     "output_type": "execute_result"
    }
   ],
   "source": [
    "df.tail()"
   ]
  },
  {
   "cell_type": "code",
   "execution_count": 77,
   "metadata": {
    "ExecuteTime": {
     "end_time": "2019-07-05T20:13:53.084573Z",
     "start_time": "2019-07-05T20:13:53.062820Z"
    }
   },
   "outputs": [
    {
     "data": {
      "text/plain": [
       "[1106, 1106, 1108, 1108, 1108, 1108, 1108]"
      ]
     },
     "execution_count": 77,
     "metadata": {},
     "output_type": "execute_result"
    }
   ],
   "source": [
    "# get rows/images per experiment\n",
    "[len(df[df['experiment'] == x]) for x in experiments]"
   ]
  },
  {
   "cell_type": "code",
   "execution_count": 78,
   "metadata": {
    "ExecuteTime": {
     "end_time": "2019-07-05T20:13:55.439791Z",
     "start_time": "2019-07-05T20:13:55.405270Z"
    }
   },
   "outputs": [],
   "source": [
    "df.to_csv('df_adversarial_test_dataset.csv')"
   ]
  }
 ],
 "metadata": {
  "kernelspec": {
   "display_name": "fastai",
   "language": "python",
   "name": "fastai"
  },
  "language_info": {
   "codemirror_mode": {
    "name": "ipython",
    "version": 3
   },
   "file_extension": ".py",
   "mimetype": "text/x-python",
   "name": "python",
   "nbconvert_exporter": "python",
   "pygments_lexer": "ipython3",
   "version": "3.6.8"
  },
  "toc": {
   "base_numbering": 1,
   "nav_menu": {},
   "number_sections": true,
   "sideBar": true,
   "skip_h1_title": false,
   "title_cell": "Table of Contents",
   "title_sidebar": "Contents",
   "toc_cell": false,
   "toc_position": {
    "height": "calc(100% - 180px)",
    "left": "10px",
    "top": "150px",
    "width": "189px"
   },
   "toc_section_display": true,
   "toc_window_display": true
  }
 },
 "nbformat": 4,
 "nbformat_minor": 2
}
