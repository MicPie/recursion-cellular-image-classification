{
 "cells": [
  {
   "cell_type": "markdown",
   "metadata": {},
   "source": [
    "# Imports"
   ]
  },
  {
   "cell_type": "code",
   "execution_count": 1,
   "metadata": {
    "ExecuteTime": {
     "end_time": "2019-09-14T07:30:29.495340Z",
     "start_time": "2019-09-14T07:30:29.236831Z"
    }
   },
   "outputs": [],
   "source": [
    "%reload_ext autoreload\n",
    "%autoreload 2\n",
    "%matplotlib inline"
   ]
  },
  {
   "cell_type": "code",
   "execution_count": 2,
   "metadata": {
    "ExecuteTime": {
     "end_time": "2019-09-14T07:30:29.968224Z",
     "start_time": "2019-09-14T07:30:29.778052Z"
    }
   },
   "outputs": [],
   "source": [
    "import pandas as pd\n",
    "import os\n",
    "from collections import Counter\n",
    "import matplotlib.pyplot as plt"
   ]
  },
  {
   "cell_type": "markdown",
   "metadata": {},
   "source": [
    "# Data"
   ]
  },
  {
   "cell_type": "code",
   "execution_count": 3,
   "metadata": {
    "ExecuteTime": {
     "end_time": "2019-08-29T17:27:36.656473Z",
     "start_time": "2019-08-29T17:27:36.524927Z"
    }
   },
   "outputs": [
    {
     "name": "stdout",
     "output_type": "stream",
     "text": [
      "HEPG2-01  HEPG2-06     HUVEC-03  HUVEC-08  HUVEC-13  RPE-01  RPE-06\r\n",
      "HEPG2-02  HEPG2-07     HUVEC-04  HUVEC-09  HUVEC-14  RPE-02  RPE-07\r\n",
      "HEPG2-03  history.csv  HUVEC-05  HUVEC-10  HUVEC-15  RPE-03  U2OS-01\r\n",
      "HEPG2-04  HUVEC-01     HUVEC-06  HUVEC-11  HUVEC-16  RPE-04  U2OS-02\r\n",
      "HEPG2-05  HUVEC-02     HUVEC-07  HUVEC-12  models    RPE-05  U2OS-03\r\n"
     ]
    }
   ],
   "source": [
    "# look at the train directories\n",
    "!ls  train"
   ]
  },
  {
   "cell_type": "code",
   "execution_count": 4,
   "metadata": {
    "ExecuteTime": {
     "end_time": "2019-08-29T17:27:36.937946Z",
     "start_time": "2019-08-29T17:27:36.814889Z"
    }
   },
   "outputs": [
    {
     "name": "stdout",
     "output_type": "stream",
     "text": [
      "HEPG2-08  HEPG2-11  HUVEC-19  HUVEC-22\tRPE-08\tRPE-11\r\n",
      "HEPG2-09  HUVEC-17  HUVEC-20  HUVEC-23\tRPE-09\tU2OS-04\r\n",
      "HEPG2-10  HUVEC-18  HUVEC-21  HUVEC-24\tRPE-10\tU2OS-05\r\n"
     ]
    }
   ],
   "source": [
    "# look at the train directories\n",
    "!ls  test"
   ]
  },
  {
   "cell_type": "code",
   "execution_count": 5,
   "metadata": {
    "ExecuteTime": {
     "end_time": "2019-08-29T17:27:37.177574Z",
     "start_time": "2019-08-29T17:27:37.142715Z"
    }
   },
   "outputs": [],
   "source": [
    "train_dir = [f.path.split('/')[1] for f in os.scandir('train') if f.is_dir()]\n",
    "test_dir = [f.path.split('/')[1] for f in os.scandir('test') if f.is_dir()]"
   ]
  },
  {
   "cell_type": "code",
   "execution_count": 6,
   "metadata": {
    "ExecuteTime": {
     "end_time": "2019-08-29T17:27:37.538839Z",
     "start_time": "2019-08-29T17:27:37.529860Z"
    }
   },
   "outputs": [],
   "source": [
    "train_exp = [d.split('-')[0] for d in train_dir]\n",
    "test_exp = [d.split('-')[0] for d in test_dir]"
   ]
  },
  {
   "cell_type": "code",
   "execution_count": 7,
   "metadata": {
    "ExecuteTime": {
     "end_time": "2019-08-29T17:27:37.819447Z",
     "start_time": "2019-08-29T17:27:37.807439Z"
    }
   },
   "outputs": [],
   "source": [
    "train_exp_counter = Counter(train_exp)\n",
    "test_exp_counter = Counter(test_exp)"
   ]
  },
  {
   "cell_type": "code",
   "execution_count": 8,
   "metadata": {
    "ExecuteTime": {
     "end_time": "2019-08-29T17:27:38.247284Z",
     "start_time": "2019-08-29T17:27:38.235738Z"
    }
   },
   "outputs": [],
   "source": [
    "# remove model directory in train folder\n",
    "del train_exp_counter['models']"
   ]
  },
  {
   "cell_type": "code",
   "execution_count": 9,
   "metadata": {
    "ExecuteTime": {
     "end_time": "2019-08-29T17:27:38.631051Z",
     "start_time": "2019-08-29T17:27:38.596460Z"
    }
   },
   "outputs": [
    {
     "data": {
      "text/plain": [
       "[('HUVEC', 16), ('RPE', 7), ('HEPG2', 7), ('U2OS', 3)]"
      ]
     },
     "execution_count": 9,
     "metadata": {},
     "output_type": "execute_result"
    }
   ],
   "source": [
    "# show experiment count per cell line\n",
    "train_exp_counter.most_common()"
   ]
  },
  {
   "cell_type": "code",
   "execution_count": 10,
   "metadata": {
    "ExecuteTime": {
     "end_time": "2019-08-29T17:27:39.023771Z",
     "start_time": "2019-08-29T17:27:39.011021Z"
    }
   },
   "outputs": [
    {
     "data": {
      "text/plain": [
       "[('HUVEC', 8), ('HEPG2', 4), ('RPE', 4), ('U2OS', 2)]"
      ]
     },
     "execution_count": 10,
     "metadata": {},
     "output_type": "execute_result"
    }
   ],
   "source": [
    "# show experiment count per cell line\n",
    "test_exp_counter.most_common()"
   ]
  },
  {
   "cell_type": "code",
   "execution_count": 11,
   "metadata": {
    "ExecuteTime": {
     "end_time": "2019-08-29T17:27:39.409188Z",
     "start_time": "2019-08-29T17:27:39.396076Z"
    }
   },
   "outputs": [],
   "source": [
    "exp = ['HUVEC', 'HEPG2', 'RPE', 'U2OS']"
   ]
  },
  {
   "cell_type": "code",
   "execution_count": 12,
   "metadata": {
    "ExecuteTime": {
     "end_time": "2019-08-29T17:27:39.926941Z",
     "start_time": "2019-08-29T17:27:39.814376Z"
    }
   },
   "outputs": [
    {
     "data": {
      "image/png": "[encoded data removed]",
      "text/plain": [
       "<Figure size 720x360 with 2 Axes>"
      ]
     },
     "metadata": {},
     "output_type": "display_data"
    }
   ],
   "source": [
    "fig, ax = plt.subplots(1, 2, figsize=(10,5))\n",
    "\n",
    "ax[0].title.set_text('Train dataset')\n",
    "ax[0].pie([float(train_exp_counter[e]) for e in exp], \n",
    "        labels=exp, \n",
    "        autopct='%1.0f%%');\n",
    "\n",
    "ax[1].title.set_text('Test dataset')\n",
    "ax[1].pie([float(test_exp_counter[e]) for e in exp], \n",
    "        labels=exp, \n",
    "        autopct='%1.0f%%');"
   ]
  },
  {
   "cell_type": "markdown",
   "metadata": {
    "ExecuteTime": {
     "end_time": "2019-07-14T12:30:32.141975Z",
     "start_time": "2019-07-14T12:30:32.136793Z"
    }
   },
   "source": [
    "Use the last two experiment for ('HUVEC', 16), ('RPE', 7), ('HEPG2', 7) and the last from ('U2OS', 3) as validation set."
   ]
  },
  {
   "cell_type": "code",
   "execution_count": 13,
   "metadata": {
    "ExecuteTime": {
     "end_time": "2019-08-29T17:27:40.871408Z",
     "start_time": "2019-08-29T17:27:40.748668Z"
    }
   },
   "outputs": [
    {
     "name": "stdout",
     "output_type": "stream",
     "text": [
      "HEPG2-01  HEPG2-06     HUVEC-03  HUVEC-08  HUVEC-13  RPE-01  RPE-06\r\n",
      "HEPG2-02  HEPG2-07     HUVEC-04  HUVEC-09  HUVEC-14  RPE-02  RPE-07\r\n",
      "HEPG2-03  history.csv  HUVEC-05  HUVEC-10  HUVEC-15  RPE-03  U2OS-01\r\n",
      "HEPG2-04  HUVEC-01     HUVEC-06  HUVEC-11  HUVEC-16  RPE-04  U2OS-02\r\n",
      "HEPG2-05  HUVEC-02     HUVEC-07  HUVEC-12  models    RPE-05  U2OS-03\r\n"
     ]
    }
   ],
   "source": [
    "# look at the train directories\n",
    "!ls  train"
   ]
  },
  {
   "cell_type": "code",
   "execution_count": 14,
   "metadata": {
    "ExecuteTime": {
     "end_time": "2019-08-29T17:27:41.424881Z",
     "start_time": "2019-08-29T17:27:41.410790Z"
    }
   },
   "outputs": [
    {
     "data": {
      "text/plain": [
       "[('HUVEC', 16), ('RPE', 7), ('HEPG2', 7), ('U2OS', 3)]"
      ]
     },
     "execution_count": 14,
     "metadata": {},
     "output_type": "execute_result"
    }
   ],
   "source": [
    "# show experiment count per cell line\n",
    "train_exp_counter.most_common()"
   ]
  },
  {
   "cell_type": "code",
   "execution_count": 15,
   "metadata": {
    "ExecuteTime": {
     "end_time": "2019-08-29T17:27:41.927177Z",
     "start_time": "2019-08-29T17:27:41.914200Z"
    }
   },
   "outputs": [],
   "source": [
    "valid_exp_split = ['HUVEC-15', 'HUVEC-16',\n",
    "                   'RPE-06', 'RPE-07', \n",
    "                   'HEPG2-06', 'HEPG2-07', \n",
    "                   'U2OS-03']"
   ]
  },
  {
   "cell_type": "markdown",
   "metadata": {},
   "source": [
    "# v1"
   ]
  },
  {
   "cell_type": "markdown",
   "metadata": {},
   "source": [
    "## full_train_dataset_valid-split-ex_v1_20190714.csv"
   ]
  },
  {
   "cell_type": "code",
   "execution_count": 3,
   "metadata": {
    "ExecuteTime": {
     "end_time": "2019-08-01T18:50:57.567670Z",
     "start_time": "2019-08-01T18:50:57.527808Z"
    }
   },
   "outputs": [],
   "source": [
    "df_train = pd.read_csv('train.csv')"
   ]
  },
  {
   "cell_type": "code",
   "execution_count": 9,
   "metadata": {
    "ExecuteTime": {
     "end_time": "2019-08-01T18:53:21.666406Z",
     "start_time": "2019-08-01T18:53:21.653267Z"
    }
   },
   "outputs": [
    {
     "data": {
      "text/plain": [
       "(36515, 5)"
      ]
     },
     "execution_count": 9,
     "metadata": {},
     "output_type": "execute_result"
    }
   ],
   "source": [
    "df_train.shape"
   ]
  },
  {
   "cell_type": "code",
   "execution_count": 7,
   "metadata": {
    "ExecuteTime": {
     "end_time": "2019-08-01T18:52:59.739308Z",
     "start_time": "2019-08-01T18:52:59.713811Z"
    }
   },
   "outputs": [
    {
     "data": {
      "text/html": [
       "<div>\n",
       "<style scoped>\n",
       "    .dataframe tbody tr th:only-of-type {\n",
       "        vertical-align: middle;\n",
       "    }\n",
       "\n",
       "    .dataframe tbody tr th {\n",
       "        vertical-align: top;\n",
       "    }\n",
       "\n",
       "    .dataframe thead th {\n",
       "        text-align: right;\n",
       "    }\n",
       "</style>\n",
       "<table border=\"1\" class=\"dataframe\">\n",
       "  <thead>\n",
       "    <tr style=\"text-align: right;\">\n",
       "      <th></th>\n",
       "      <th>id_code</th>\n",
       "      <th>experiment</th>\n",
       "      <th>plate</th>\n",
       "      <th>well</th>\n",
       "      <th>sirna</th>\n",
       "    </tr>\n",
       "  </thead>\n",
       "  <tbody>\n",
       "    <tr>\n",
       "      <th>0</th>\n",
       "      <td>HEPG2-01_1_B03</td>\n",
       "      <td>HEPG2-01</td>\n",
       "      <td>1</td>\n",
       "      <td>B03</td>\n",
       "      <td>513</td>\n",
       "    </tr>\n",
       "    <tr>\n",
       "      <th>1</th>\n",
       "      <td>HEPG2-01_1_B04</td>\n",
       "      <td>HEPG2-01</td>\n",
       "      <td>1</td>\n",
       "      <td>B04</td>\n",
       "      <td>840</td>\n",
       "    </tr>\n",
       "    <tr>\n",
       "      <th>2</th>\n",
       "      <td>HEPG2-01_1_B05</td>\n",
       "      <td>HEPG2-01</td>\n",
       "      <td>1</td>\n",
       "      <td>B05</td>\n",
       "      <td>1020</td>\n",
       "    </tr>\n",
       "    <tr>\n",
       "      <th>3</th>\n",
       "      <td>HEPG2-01_1_B06</td>\n",
       "      <td>HEPG2-01</td>\n",
       "      <td>1</td>\n",
       "      <td>B06</td>\n",
       "      <td>254</td>\n",
       "    </tr>\n",
       "    <tr>\n",
       "      <th>4</th>\n",
       "      <td>HEPG2-01_1_B07</td>\n",
       "      <td>HEPG2-01</td>\n",
       "      <td>1</td>\n",
       "      <td>B07</td>\n",
       "      <td>144</td>\n",
       "    </tr>\n",
       "  </tbody>\n",
       "</table>\n",
       "</div>"
      ],
      "text/plain": [
       "          id_code experiment  plate well  sirna\n",
       "0  HEPG2-01_1_B03   HEPG2-01      1  B03    513\n",
       "1  HEPG2-01_1_B04   HEPG2-01      1  B04    840\n",
       "2  HEPG2-01_1_B05   HEPG2-01      1  B05   1020\n",
       "3  HEPG2-01_1_B06   HEPG2-01      1  B06    254\n",
       "4  HEPG2-01_1_B07   HEPG2-01      1  B07    144"
      ]
     },
     "execution_count": 7,
     "metadata": {},
     "output_type": "execute_result"
    }
   ],
   "source": [
    "df_train.head()"
   ]
  },
  {
   "cell_type": "code",
   "execution_count": 8,
   "metadata": {
    "ExecuteTime": {
     "end_time": "2019-08-01T18:53:07.936091Z",
     "start_time": "2019-08-01T18:53:07.919904Z"
    }
   },
   "outputs": [
    {
     "data": {
      "text/html": [
       "<div>\n",
       "<style scoped>\n",
       "    .dataframe tbody tr th:only-of-type {\n",
       "        vertical-align: middle;\n",
       "    }\n",
       "\n",
       "    .dataframe tbody tr th {\n",
       "        vertical-align: top;\n",
       "    }\n",
       "\n",
       "    .dataframe thead th {\n",
       "        text-align: right;\n",
       "    }\n",
       "</style>\n",
       "<table border=\"1\" class=\"dataframe\">\n",
       "  <thead>\n",
       "    <tr style=\"text-align: right;\">\n",
       "      <th></th>\n",
       "      <th>id_code</th>\n",
       "      <th>experiment</th>\n",
       "      <th>plate</th>\n",
       "      <th>well</th>\n",
       "      <th>sirna</th>\n",
       "    </tr>\n",
       "  </thead>\n",
       "  <tbody>\n",
       "    <tr>\n",
       "      <th>36510</th>\n",
       "      <td>U2OS-03_4_O19</td>\n",
       "      <td>U2OS-03</td>\n",
       "      <td>4</td>\n",
       "      <td>O19</td>\n",
       "      <td>103</td>\n",
       "    </tr>\n",
       "    <tr>\n",
       "      <th>36511</th>\n",
       "      <td>U2OS-03_4_O20</td>\n",
       "      <td>U2OS-03</td>\n",
       "      <td>4</td>\n",
       "      <td>O20</td>\n",
       "      <td>202</td>\n",
       "    </tr>\n",
       "    <tr>\n",
       "      <th>36512</th>\n",
       "      <td>U2OS-03_4_O21</td>\n",
       "      <td>U2OS-03</td>\n",
       "      <td>4</td>\n",
       "      <td>O21</td>\n",
       "      <td>824</td>\n",
       "    </tr>\n",
       "    <tr>\n",
       "      <th>36513</th>\n",
       "      <td>U2OS-03_4_O22</td>\n",
       "      <td>U2OS-03</td>\n",
       "      <td>4</td>\n",
       "      <td>O22</td>\n",
       "      <td>328</td>\n",
       "    </tr>\n",
       "    <tr>\n",
       "      <th>36514</th>\n",
       "      <td>U2OS-03_4_O23</td>\n",
       "      <td>U2OS-03</td>\n",
       "      <td>4</td>\n",
       "      <td>O23</td>\n",
       "      <td>509</td>\n",
       "    </tr>\n",
       "  </tbody>\n",
       "</table>\n",
       "</div>"
      ],
      "text/plain": [
       "             id_code experiment  plate well  sirna\n",
       "36510  U2OS-03_4_O19    U2OS-03      4  O19    103\n",
       "36511  U2OS-03_4_O20    U2OS-03      4  O20    202\n",
       "36512  U2OS-03_4_O21    U2OS-03      4  O21    824\n",
       "36513  U2OS-03_4_O22    U2OS-03      4  O22    328\n",
       "36514  U2OS-03_4_O23    U2OS-03      4  O23    509"
      ]
     },
     "execution_count": 8,
     "metadata": {},
     "output_type": "execute_result"
    }
   ],
   "source": [
    "df_train.tail()"
   ]
  },
  {
   "cell_type": "code",
   "execution_count": 151,
   "metadata": {
    "ExecuteTime": {
     "end_time": "2019-07-14T12:40:30.979907Z",
     "start_time": "2019-07-14T12:40:30.960918Z"
    }
   },
   "outputs": [
    {
     "data": {
      "text/plain": [
       "(array(['HEPG2-01', 'HEPG2-02', 'HEPG2-03', 'HEPG2-04', 'HEPG2-05',\n",
       "        'HEPG2-06', 'HEPG2-07', 'HUVEC-01', 'HUVEC-02', 'HUVEC-03',\n",
       "        'HUVEC-04', 'HUVEC-05', 'HUVEC-06', 'HUVEC-07', 'HUVEC-08',\n",
       "        'HUVEC-09', 'HUVEC-10', 'HUVEC-11', 'HUVEC-12', 'HUVEC-13',\n",
       "        'HUVEC-14', 'HUVEC-15', 'HUVEC-16', 'RPE-01', 'RPE-02', 'RPE-03',\n",
       "        'RPE-04', 'RPE-05', 'RPE-06', 'RPE-07', 'U2OS-01', 'U2OS-02',\n",
       "        'U2OS-03'], dtype=object), 33)"
      ]
     },
     "execution_count": 151,
     "metadata": {},
     "output_type": "execute_result"
    }
   ],
   "source": [
    "df_train.experiment.unique(), len(df_train.experiment.unique())"
   ]
  },
  {
   "cell_type": "code",
   "execution_count": 152,
   "metadata": {
    "ExecuteTime": {
     "end_time": "2019-07-14T12:40:31.179214Z",
     "start_time": "2019-07-14T12:40:31.173907Z"
    }
   },
   "outputs": [],
   "source": [
    "experiments = ['HEPG2-01', 'HEPG2-02', 'HEPG2-03', 'HEPG2-04', 'HEPG2-05', 'HEPG2-06', 'HEPG2-07', \n",
    "               'HUVEC-01', 'HUVEC-02', 'HUVEC-03', 'HUVEC-04', 'HUVEC-05', 'HUVEC-06', 'HUVEC-07', \n",
    "               'HUVEC-08', 'HUVEC-09', 'HUVEC-10', 'HUVEC-11', 'HUVEC-12', 'HUVEC-13', 'HUVEC-14', \n",
    "               'HUVEC-15', 'HUVEC-16', \n",
    "               'RPE-01', 'RPE-02', 'RPE-03', 'RPE-04', 'RPE-05', 'RPE-06', 'RPE-07',\n",
    "               'U2OS-01', 'U2OS-02', 'U2OS-03'\n",
    "              ]"
   ]
  },
  {
   "cell_type": "code",
   "execution_count": 153,
   "metadata": {
    "ExecuteTime": {
     "end_time": "2019-07-14T12:40:31.411837Z",
     "start_time": "2019-07-14T12:40:31.354804Z"
    }
   },
   "outputs": [],
   "source": [
    "# setup empty df\n",
    "df = pd.DataFrame()\n",
    "# generate path without channel and image file suffix for open image function\n",
    "df['path'] = df_train['experiment']+'/Plate'+df_train['plate'].apply(str)+'/'+df_train['well']+'_s1' #+'_w'\n"
   ]
  },
  {
   "cell_type": "code",
   "execution_count": 154,
   "metadata": {
    "ExecuteTime": {
     "end_time": "2019-07-14T12:40:31.566413Z",
     "start_time": "2019-07-14T12:40:31.557197Z"
    }
   },
   "outputs": [],
   "source": [
    "df['experiment'] = df_train['experiment']"
   ]
  },
  {
   "cell_type": "code",
   "execution_count": 155,
   "metadata": {
    "ExecuteTime": {
     "end_time": "2019-07-14T12:40:31.772529Z",
     "start_time": "2019-07-14T12:40:31.764638Z"
    }
   },
   "outputs": [],
   "source": [
    "df['sirna'] = df_train['sirna']"
   ]
  },
  {
   "cell_type": "code",
   "execution_count": 156,
   "metadata": {
    "ExecuteTime": {
     "end_time": "2019-07-14T12:40:31.973327Z",
     "start_time": "2019-07-14T12:40:31.950676Z"
    }
   },
   "outputs": [],
   "source": [
    "df['multi'] = df_train['experiment'].apply(lambda x: x.split('/')[0])+' '+df_train['sirna'].apply(lambda x: str(x))\n"
   ]
  },
  {
   "cell_type": "code",
   "execution_count": 157,
   "metadata": {
    "ExecuteTime": {
     "end_time": "2019-07-14T12:40:32.172619Z",
     "start_time": "2019-07-14T12:40:32.150720Z"
    }
   },
   "outputs": [
    {
     "data": {
      "text/html": [
       "<div>\n",
       "<style scoped>\n",
       "    .dataframe tbody tr th:only-of-type {\n",
       "        vertical-align: middle;\n",
       "    }\n",
       "\n",
       "    .dataframe tbody tr th {\n",
       "        vertical-align: top;\n",
       "    }\n",
       "\n",
       "    .dataframe thead th {\n",
       "        text-align: right;\n",
       "    }\n",
       "</style>\n",
       "<table border=\"1\" class=\"dataframe\">\n",
       "  <thead>\n",
       "    <tr style=\"text-align: right;\">\n",
       "      <th></th>\n",
       "      <th>path</th>\n",
       "      <th>experiment</th>\n",
       "      <th>sirna</th>\n",
       "      <th>multi</th>\n",
       "    </tr>\n",
       "  </thead>\n",
       "  <tbody>\n",
       "    <tr>\n",
       "      <th>0</th>\n",
       "      <td>HEPG2-01/Plate1/B03_s1</td>\n",
       "      <td>HEPG2-01</td>\n",
       "      <td>513</td>\n",
       "      <td>HEPG2-01 513</td>\n",
       "    </tr>\n",
       "    <tr>\n",
       "      <th>1</th>\n",
       "      <td>HEPG2-01/Plate1/B04_s1</td>\n",
       "      <td>HEPG2-01</td>\n",
       "      <td>840</td>\n",
       "      <td>HEPG2-01 840</td>\n",
       "    </tr>\n",
       "    <tr>\n",
       "      <th>2</th>\n",
       "      <td>HEPG2-01/Plate1/B05_s1</td>\n",
       "      <td>HEPG2-01</td>\n",
       "      <td>1020</td>\n",
       "      <td>HEPG2-01 1020</td>\n",
       "    </tr>\n",
       "    <tr>\n",
       "      <th>3</th>\n",
       "      <td>HEPG2-01/Plate1/B06_s1</td>\n",
       "      <td>HEPG2-01</td>\n",
       "      <td>254</td>\n",
       "      <td>HEPG2-01 254</td>\n",
       "    </tr>\n",
       "    <tr>\n",
       "      <th>4</th>\n",
       "      <td>HEPG2-01/Plate1/B07_s1</td>\n",
       "      <td>HEPG2-01</td>\n",
       "      <td>144</td>\n",
       "      <td>HEPG2-01 144</td>\n",
       "    </tr>\n",
       "  </tbody>\n",
       "</table>\n",
       "</div>"
      ],
      "text/plain": [
       "                     path experiment  sirna          multi\n",
       "0  HEPG2-01/Plate1/B03_s1   HEPG2-01    513   HEPG2-01 513\n",
       "1  HEPG2-01/Plate1/B04_s1   HEPG2-01    840   HEPG2-01 840\n",
       "2  HEPG2-01/Plate1/B05_s1   HEPG2-01   1020  HEPG2-01 1020\n",
       "3  HEPG2-01/Plate1/B06_s1   HEPG2-01    254   HEPG2-01 254\n",
       "4  HEPG2-01/Plate1/B07_s1   HEPG2-01    144   HEPG2-01 144"
      ]
     },
     "execution_count": 157,
     "metadata": {},
     "output_type": "execute_result"
    }
   ],
   "source": [
    "df.head()"
   ]
  },
  {
   "cell_type": "code",
   "execution_count": 158,
   "metadata": {
    "ExecuteTime": {
     "end_time": "2019-07-14T12:40:32.430735Z",
     "start_time": "2019-07-14T12:40:32.399027Z"
    }
   },
   "outputs": [],
   "source": [
    "# filter for experiments\n",
    "df = df[df['experiment'].isin(experiments)]"
   ]
  },
  {
   "cell_type": "code",
   "execution_count": 159,
   "metadata": {
    "ExecuteTime": {
     "end_time": "2019-07-14T12:40:32.704249Z",
     "start_time": "2019-07-14T12:40:32.604950Z"
    }
   },
   "outputs": [
    {
     "data": {
      "text/plain": [
       "[1106,\n",
       " 1106,\n",
       " 1108,\n",
       " 1108,\n",
       " 1108,\n",
       " 1108,\n",
       " 1106,\n",
       " 1108,\n",
       " 1108,\n",
       " 1108,\n",
       " 1108,\n",
       " 1108,\n",
       " 1107,\n",
       " 1107,\n",
       " 1108,\n",
       " 1108,\n",
       " 1108,\n",
       " 1108,\n",
       " 1108,\n",
       " 1102,\n",
       " 1090,\n",
       " 1094,\n",
       " 1108,\n",
       " 1108,\n",
       " 1108,\n",
       " 1108,\n",
       " 1107,\n",
       " 1108,\n",
       " 1106,\n",
       " 1108,\n",
       " 1108,\n",
       " 1108,\n",
       " 1108]"
      ]
     },
     "execution_count": 159,
     "metadata": {},
     "output_type": "execute_result"
    }
   ],
   "source": [
    "# get rows/images per experiment\n",
    "[len(df[df['experiment'] == x]) for x in experiments]"
   ]
  },
  {
   "cell_type": "code",
   "execution_count": 160,
   "metadata": {
    "ExecuteTime": {
     "end_time": "2019-07-14T12:40:33.280433Z",
     "start_time": "2019-07-14T12:40:33.272934Z"
    }
   },
   "outputs": [
    {
     "data": {
      "text/html": [
       "<div>\n",
       "<style scoped>\n",
       "    .dataframe tbody tr th:only-of-type {\n",
       "        vertical-align: middle;\n",
       "    }\n",
       "\n",
       "    .dataframe tbody tr th {\n",
       "        vertical-align: top;\n",
       "    }\n",
       "\n",
       "    .dataframe thead th {\n",
       "        text-align: right;\n",
       "    }\n",
       "</style>\n",
       "<table border=\"1\" class=\"dataframe\">\n",
       "  <thead>\n",
       "    <tr style=\"text-align: right;\">\n",
       "      <th></th>\n",
       "      <th>path</th>\n",
       "      <th>experiment</th>\n",
       "      <th>sirna</th>\n",
       "      <th>multi</th>\n",
       "    </tr>\n",
       "  </thead>\n",
       "  <tbody>\n",
       "    <tr>\n",
       "      <th>36510</th>\n",
       "      <td>U2OS-03/Plate4/O19_s1</td>\n",
       "      <td>U2OS-03</td>\n",
       "      <td>103</td>\n",
       "      <td>U2OS-03 103</td>\n",
       "    </tr>\n",
       "    <tr>\n",
       "      <th>36511</th>\n",
       "      <td>U2OS-03/Plate4/O20_s1</td>\n",
       "      <td>U2OS-03</td>\n",
       "      <td>202</td>\n",
       "      <td>U2OS-03 202</td>\n",
       "    </tr>\n",
       "    <tr>\n",
       "      <th>36512</th>\n",
       "      <td>U2OS-03/Plate4/O21_s1</td>\n",
       "      <td>U2OS-03</td>\n",
       "      <td>824</td>\n",
       "      <td>U2OS-03 824</td>\n",
       "    </tr>\n",
       "    <tr>\n",
       "      <th>36513</th>\n",
       "      <td>U2OS-03/Plate4/O22_s1</td>\n",
       "      <td>U2OS-03</td>\n",
       "      <td>328</td>\n",
       "      <td>U2OS-03 328</td>\n",
       "    </tr>\n",
       "    <tr>\n",
       "      <th>36514</th>\n",
       "      <td>U2OS-03/Plate4/O23_s1</td>\n",
       "      <td>U2OS-03</td>\n",
       "      <td>509</td>\n",
       "      <td>U2OS-03 509</td>\n",
       "    </tr>\n",
       "  </tbody>\n",
       "</table>\n",
       "</div>"
      ],
      "text/plain": [
       "                        path experiment  sirna        multi\n",
       "36510  U2OS-03/Plate4/O19_s1    U2OS-03    103  U2OS-03 103\n",
       "36511  U2OS-03/Plate4/O20_s1    U2OS-03    202  U2OS-03 202\n",
       "36512  U2OS-03/Plate4/O21_s1    U2OS-03    824  U2OS-03 824\n",
       "36513  U2OS-03/Plate4/O22_s1    U2OS-03    328  U2OS-03 328\n",
       "36514  U2OS-03/Plate4/O23_s1    U2OS-03    509  U2OS-03 509"
      ]
     },
     "execution_count": 160,
     "metadata": {},
     "output_type": "execute_result"
    }
   ],
   "source": [
    "df.tail()"
   ]
  },
  {
   "cell_type": "code",
   "execution_count": 161,
   "metadata": {
    "ExecuteTime": {
     "end_time": "2019-07-14T12:40:33.892851Z",
     "start_time": "2019-07-14T12:40:33.884731Z"
    }
   },
   "outputs": [],
   "source": [
    "df['valid'] = 0"
   ]
  },
  {
   "cell_type": "code",
   "execution_count": 162,
   "metadata": {
    "ExecuteTime": {
     "end_time": "2019-07-14T12:40:34.542382Z",
     "start_time": "2019-07-14T12:40:34.514598Z"
    }
   },
   "outputs": [],
   "source": [
    "for c in valid_exp_split:\n",
    "    df.loc[df['experiment'] == c,'valid'] = 1"
   ]
  },
  {
   "cell_type": "code",
   "execution_count": 163,
   "metadata": {
    "ExecuteTime": {
     "end_time": "2019-07-14T12:40:35.195903Z",
     "start_time": "2019-07-14T12:40:35.188341Z"
    }
   },
   "outputs": [
    {
     "data": {
      "text/html": [
       "<div>\n",
       "<style scoped>\n",
       "    .dataframe tbody tr th:only-of-type {\n",
       "        vertical-align: middle;\n",
       "    }\n",
       "\n",
       "    .dataframe tbody tr th {\n",
       "        vertical-align: top;\n",
       "    }\n",
       "\n",
       "    .dataframe thead th {\n",
       "        text-align: right;\n",
       "    }\n",
       "</style>\n",
       "<table border=\"1\" class=\"dataframe\">\n",
       "  <thead>\n",
       "    <tr style=\"text-align: right;\">\n",
       "      <th></th>\n",
       "      <th>path</th>\n",
       "      <th>experiment</th>\n",
       "      <th>sirna</th>\n",
       "      <th>multi</th>\n",
       "      <th>valid</th>\n",
       "    </tr>\n",
       "  </thead>\n",
       "  <tbody>\n",
       "    <tr>\n",
       "      <th>0</th>\n",
       "      <td>HEPG2-01/Plate1/B03_s1</td>\n",
       "      <td>HEPG2-01</td>\n",
       "      <td>513</td>\n",
       "      <td>HEPG2-01 513</td>\n",
       "      <td>0</td>\n",
       "    </tr>\n",
       "    <tr>\n",
       "      <th>1</th>\n",
       "      <td>HEPG2-01/Plate1/B04_s1</td>\n",
       "      <td>HEPG2-01</td>\n",
       "      <td>840</td>\n",
       "      <td>HEPG2-01 840</td>\n",
       "      <td>0</td>\n",
       "    </tr>\n",
       "    <tr>\n",
       "      <th>2</th>\n",
       "      <td>HEPG2-01/Plate1/B05_s1</td>\n",
       "      <td>HEPG2-01</td>\n",
       "      <td>1020</td>\n",
       "      <td>HEPG2-01 1020</td>\n",
       "      <td>0</td>\n",
       "    </tr>\n",
       "    <tr>\n",
       "      <th>3</th>\n",
       "      <td>HEPG2-01/Plate1/B06_s1</td>\n",
       "      <td>HEPG2-01</td>\n",
       "      <td>254</td>\n",
       "      <td>HEPG2-01 254</td>\n",
       "      <td>0</td>\n",
       "    </tr>\n",
       "    <tr>\n",
       "      <th>4</th>\n",
       "      <td>HEPG2-01/Plate1/B07_s1</td>\n",
       "      <td>HEPG2-01</td>\n",
       "      <td>144</td>\n",
       "      <td>HEPG2-01 144</td>\n",
       "      <td>0</td>\n",
       "    </tr>\n",
       "  </tbody>\n",
       "</table>\n",
       "</div>"
      ],
      "text/plain": [
       "                     path experiment  sirna          multi  valid\n",
       "0  HEPG2-01/Plate1/B03_s1   HEPG2-01    513   HEPG2-01 513      0\n",
       "1  HEPG2-01/Plate1/B04_s1   HEPG2-01    840   HEPG2-01 840      0\n",
       "2  HEPG2-01/Plate1/B05_s1   HEPG2-01   1020  HEPG2-01 1020      0\n",
       "3  HEPG2-01/Plate1/B06_s1   HEPG2-01    254   HEPG2-01 254      0\n",
       "4  HEPG2-01/Plate1/B07_s1   HEPG2-01    144   HEPG2-01 144      0"
      ]
     },
     "execution_count": 163,
     "metadata": {},
     "output_type": "execute_result"
    }
   ],
   "source": [
    "df.head()"
   ]
  },
  {
   "cell_type": "code",
   "execution_count": 164,
   "metadata": {
    "ExecuteTime": {
     "end_time": "2019-07-14T12:40:35.761277Z",
     "start_time": "2019-07-14T12:40:35.756475Z"
    }
   },
   "outputs": [
    {
     "data": {
      "text/plain": [
       "0.21191291250171163"
      ]
     },
     "execution_count": 164,
     "metadata": {},
     "output_type": "execute_result"
    }
   ],
   "source": [
    "df.valid.mean()"
   ]
  },
  {
   "cell_type": "code",
   "execution_count": 165,
   "metadata": {
    "ExecuteTime": {
     "end_time": "2019-07-14T12:40:36.428114Z",
     "start_time": "2019-07-14T12:40:36.420351Z"
    }
   },
   "outputs": [
    {
     "data": {
      "text/html": [
       "<div>\n",
       "<style scoped>\n",
       "    .dataframe tbody tr th:only-of-type {\n",
       "        vertical-align: middle;\n",
       "    }\n",
       "\n",
       "    .dataframe tbody tr th {\n",
       "        vertical-align: top;\n",
       "    }\n",
       "\n",
       "    .dataframe thead th {\n",
       "        text-align: right;\n",
       "    }\n",
       "</style>\n",
       "<table border=\"1\" class=\"dataframe\">\n",
       "  <thead>\n",
       "    <tr style=\"text-align: right;\">\n",
       "      <th></th>\n",
       "      <th>path</th>\n",
       "      <th>experiment</th>\n",
       "      <th>sirna</th>\n",
       "      <th>multi</th>\n",
       "      <th>valid</th>\n",
       "    </tr>\n",
       "  </thead>\n",
       "  <tbody>\n",
       "    <tr>\n",
       "      <th>36510</th>\n",
       "      <td>U2OS-03/Plate4/O19_s1</td>\n",
       "      <td>U2OS-03</td>\n",
       "      <td>103</td>\n",
       "      <td>U2OS-03 103</td>\n",
       "      <td>1</td>\n",
       "    </tr>\n",
       "    <tr>\n",
       "      <th>36511</th>\n",
       "      <td>U2OS-03/Plate4/O20_s1</td>\n",
       "      <td>U2OS-03</td>\n",
       "      <td>202</td>\n",
       "      <td>U2OS-03 202</td>\n",
       "      <td>1</td>\n",
       "    </tr>\n",
       "    <tr>\n",
       "      <th>36512</th>\n",
       "      <td>U2OS-03/Plate4/O21_s1</td>\n",
       "      <td>U2OS-03</td>\n",
       "      <td>824</td>\n",
       "      <td>U2OS-03 824</td>\n",
       "      <td>1</td>\n",
       "    </tr>\n",
       "    <tr>\n",
       "      <th>36513</th>\n",
       "      <td>U2OS-03/Plate4/O22_s1</td>\n",
       "      <td>U2OS-03</td>\n",
       "      <td>328</td>\n",
       "      <td>U2OS-03 328</td>\n",
       "      <td>1</td>\n",
       "    </tr>\n",
       "    <tr>\n",
       "      <th>36514</th>\n",
       "      <td>U2OS-03/Plate4/O23_s1</td>\n",
       "      <td>U2OS-03</td>\n",
       "      <td>509</td>\n",
       "      <td>U2OS-03 509</td>\n",
       "      <td>1</td>\n",
       "    </tr>\n",
       "  </tbody>\n",
       "</table>\n",
       "</div>"
      ],
      "text/plain": [
       "                        path experiment  sirna        multi  valid\n",
       "36510  U2OS-03/Plate4/O19_s1    U2OS-03    103  U2OS-03 103      1\n",
       "36511  U2OS-03/Plate4/O20_s1    U2OS-03    202  U2OS-03 202      1\n",
       "36512  U2OS-03/Plate4/O21_s1    U2OS-03    824  U2OS-03 824      1\n",
       "36513  U2OS-03/Plate4/O22_s1    U2OS-03    328  U2OS-03 328      1\n",
       "36514  U2OS-03/Plate4/O23_s1    U2OS-03    509  U2OS-03 509      1"
      ]
     },
     "execution_count": 165,
     "metadata": {},
     "output_type": "execute_result"
    }
   ],
   "source": [
    "df.tail()"
   ]
  },
  {
   "cell_type": "code",
   "execution_count": 166,
   "metadata": {
    "ExecuteTime": {
     "end_time": "2019-07-14T12:40:38.479953Z",
     "start_time": "2019-07-14T12:40:38.422478Z"
    }
   },
   "outputs": [
    {
     "data": {
      "text/plain": [
       "[1106,\n",
       " 1106,\n",
       " 1108,\n",
       " 1108,\n",
       " 1108,\n",
       " 1108,\n",
       " 1106,\n",
       " 1108,\n",
       " 1108,\n",
       " 1108,\n",
       " 1108,\n",
       " 1108,\n",
       " 1107,\n",
       " 1107,\n",
       " 1108,\n",
       " 1108,\n",
       " 1108,\n",
       " 1108,\n",
       " 1108,\n",
       " 1102,\n",
       " 1090,\n",
       " 1094,\n",
       " 1108,\n",
       " 1108,\n",
       " 1108,\n",
       " 1108,\n",
       " 1107,\n",
       " 1108,\n",
       " 1106,\n",
       " 1108,\n",
       " 1108,\n",
       " 1108,\n",
       " 1108]"
      ]
     },
     "execution_count": 166,
     "metadata": {},
     "output_type": "execute_result"
    }
   ],
   "source": [
    "# get rows/images per experiment\n",
    "[len(df[df['experiment'] == x]) for x in experiments]"
   ]
  },
  {
   "cell_type": "code",
   "execution_count": 173,
   "metadata": {
    "ExecuteTime": {
     "end_time": "2019-07-14T13:08:52.677311Z",
     "start_time": "2019-07-14T13:08:52.661410Z"
    }
   },
   "outputs": [
    {
     "data": {
      "text/plain": [
       "7738"
      ]
     },
     "execution_count": 173,
     "metadata": {},
     "output_type": "execute_result"
    }
   ],
   "source": [
    "df.pivot_table(values='valid', index='experiment', aggfunc='sum')['valid'].sum()"
   ]
  },
  {
   "cell_type": "code",
   "execution_count": 175,
   "metadata": {
    "ExecuteTime": {
     "end_time": "2019-07-14T13:09:03.229296Z",
     "start_time": "2019-07-14T13:09:03.226961Z"
    }
   },
   "outputs": [
    {
     "data": {
      "text/plain": [
       "36515"
      ]
     },
     "execution_count": 175,
     "metadata": {},
     "output_type": "execute_result"
    }
   ],
   "source": [
    "df.shape[0]"
   ]
  },
  {
   "cell_type": "code",
   "execution_count": 176,
   "metadata": {
    "ExecuteTime": {
     "end_time": "2019-07-14T13:09:15.395401Z",
     "start_time": "2019-07-14T13:09:15.381127Z"
    }
   },
   "outputs": [
    {
     "data": {
      "text/plain": [
       "0.21191291250171163"
      ]
     },
     "execution_count": 176,
     "metadata": {},
     "output_type": "execute_result"
    }
   ],
   "source": [
    "df.pivot_table(values='valid', index='experiment', aggfunc='sum')['valid'].sum()/df.shape[0]"
   ]
  },
  {
   "cell_type": "code",
   "execution_count": 167,
   "metadata": {
    "ExecuteTime": {
     "end_time": "2019-07-14T12:40:56.555967Z",
     "start_time": "2019-07-14T12:40:56.467969Z"
    }
   },
   "outputs": [],
   "source": [
    "df.to_csv('full_train_dataset_valid-split-ex_v1_20190714.csv')"
   ]
  },
  {
   "cell_type": "markdown",
   "metadata": {},
   "source": [
    "## full_test_dataset_v1_20190714.csv"
   ]
  },
  {
   "cell_type": "code",
   "execution_count": 179,
   "metadata": {
    "ExecuteTime": {
     "end_time": "2019-07-14T15:16:20.545675Z",
     "start_time": "2019-07-14T15:16:20.525223Z"
    }
   },
   "outputs": [],
   "source": [
    "df_test = pd.read_csv('test.csv')"
   ]
  },
  {
   "cell_type": "code",
   "execution_count": 180,
   "metadata": {
    "ExecuteTime": {
     "end_time": "2019-07-14T15:16:20.809491Z",
     "start_time": "2019-07-14T15:16:20.799506Z"
    }
   },
   "outputs": [
    {
     "data": {
      "text/html": [
       "<div>\n",
       "<style scoped>\n",
       "    .dataframe tbody tr th:only-of-type {\n",
       "        vertical-align: middle;\n",
       "    }\n",
       "\n",
       "    .dataframe tbody tr th {\n",
       "        vertical-align: top;\n",
       "    }\n",
       "\n",
       "    .dataframe thead th {\n",
       "        text-align: right;\n",
       "    }\n",
       "</style>\n",
       "<table border=\"1\" class=\"dataframe\">\n",
       "  <thead>\n",
       "    <tr style=\"text-align: right;\">\n",
       "      <th></th>\n",
       "      <th>id_code</th>\n",
       "      <th>experiment</th>\n",
       "      <th>plate</th>\n",
       "      <th>well</th>\n",
       "    </tr>\n",
       "  </thead>\n",
       "  <tbody>\n",
       "    <tr>\n",
       "      <th>0</th>\n",
       "      <td>HEPG2-08_1_B03</td>\n",
       "      <td>HEPG2-08</td>\n",
       "      <td>1</td>\n",
       "      <td>B03</td>\n",
       "    </tr>\n",
       "    <tr>\n",
       "      <th>1</th>\n",
       "      <td>HEPG2-08_1_B04</td>\n",
       "      <td>HEPG2-08</td>\n",
       "      <td>1</td>\n",
       "      <td>B04</td>\n",
       "    </tr>\n",
       "    <tr>\n",
       "      <th>2</th>\n",
       "      <td>HEPG2-08_1_B05</td>\n",
       "      <td>HEPG2-08</td>\n",
       "      <td>1</td>\n",
       "      <td>B05</td>\n",
       "    </tr>\n",
       "    <tr>\n",
       "      <th>3</th>\n",
       "      <td>HEPG2-08_1_B06</td>\n",
       "      <td>HEPG2-08</td>\n",
       "      <td>1</td>\n",
       "      <td>B06</td>\n",
       "    </tr>\n",
       "    <tr>\n",
       "      <th>4</th>\n",
       "      <td>HEPG2-08_1_B07</td>\n",
       "      <td>HEPG2-08</td>\n",
       "      <td>1</td>\n",
       "      <td>B07</td>\n",
       "    </tr>\n",
       "  </tbody>\n",
       "</table>\n",
       "</div>"
      ],
      "text/plain": [
       "          id_code experiment  plate well\n",
       "0  HEPG2-08_1_B03   HEPG2-08      1  B03\n",
       "1  HEPG2-08_1_B04   HEPG2-08      1  B04\n",
       "2  HEPG2-08_1_B05   HEPG2-08      1  B05\n",
       "3  HEPG2-08_1_B06   HEPG2-08      1  B06\n",
       "4  HEPG2-08_1_B07   HEPG2-08      1  B07"
      ]
     },
     "execution_count": 180,
     "metadata": {},
     "output_type": "execute_result"
    }
   ],
   "source": [
    "df_test.head()"
   ]
  },
  {
   "cell_type": "code",
   "execution_count": 181,
   "metadata": {
    "ExecuteTime": {
     "end_time": "2019-07-14T15:16:21.094057Z",
     "start_time": "2019-07-14T15:16:21.087780Z"
    }
   },
   "outputs": [
    {
     "data": {
      "text/plain": [
       "(array(['HEPG2-08', 'HEPG2-09', 'HEPG2-10', 'HEPG2-11', 'HUVEC-17',\n",
       "        'HUVEC-18', 'HUVEC-19', 'HUVEC-20', 'HUVEC-21', 'HUVEC-22',\n",
       "        'HUVEC-23', 'HUVEC-24', 'RPE-08', 'RPE-09', 'RPE-10', 'RPE-11',\n",
       "        'U2OS-04', 'U2OS-05'], dtype=object), 18)"
      ]
     },
     "execution_count": 181,
     "metadata": {},
     "output_type": "execute_result"
    }
   ],
   "source": [
    "df_test.experiment.unique(), len(df_test.experiment.unique())"
   ]
  },
  {
   "cell_type": "code",
   "execution_count": 182,
   "metadata": {
    "ExecuteTime": {
     "end_time": "2019-07-14T15:16:21.411352Z",
     "start_time": "2019-07-14T15:16:21.406589Z"
    }
   },
   "outputs": [],
   "source": [
    "experiments = ['HEPG2-08', 'HEPG2-09', 'HEPG2-10', 'HEPG2-11', 'HUVEC-17', 'HUVEC-18', 'HUVEC-19', 'HUVEC-20', 'HUVEC-21',\n",
    "        'HUVEC-22', 'HUVEC-23', 'HUVEC-24', 'RPE-08', 'RPE-09', 'RPE-10', 'RPE-11', 'U2OS-04', 'U2OS-05']"
   ]
  },
  {
   "cell_type": "code",
   "execution_count": 183,
   "metadata": {
    "ExecuteTime": {
     "end_time": "2019-07-14T15:16:22.048404Z",
     "start_time": "2019-07-14T15:16:22.033500Z"
    }
   },
   "outputs": [],
   "source": [
    "# setup empty df\n",
    "df = pd.DataFrame()\n",
    "# generate path without channel and image file suffix for open image function\n",
    "df['path'] = df_test['experiment']+'/Plate'+df_test['plate'].apply(str)+'/'+df_test['well']+'_s1' #+'_w'\n"
   ]
  },
  {
   "cell_type": "code",
   "execution_count": 184,
   "metadata": {
    "ExecuteTime": {
     "end_time": "2019-07-14T15:16:22.514523Z",
     "start_time": "2019-07-14T15:16:22.510525Z"
    }
   },
   "outputs": [],
   "source": [
    "df['experiment'] = df_test['experiment']"
   ]
  },
  {
   "cell_type": "code",
   "execution_count": 185,
   "metadata": {
    "ExecuteTime": {
     "end_time": "2019-07-14T15:16:23.480172Z",
     "start_time": "2019-07-14T15:16:23.473443Z"
    }
   },
   "outputs": [
    {
     "data": {
      "text/html": [
       "<div>\n",
       "<style scoped>\n",
       "    .dataframe tbody tr th:only-of-type {\n",
       "        vertical-align: middle;\n",
       "    }\n",
       "\n",
       "    .dataframe tbody tr th {\n",
       "        vertical-align: top;\n",
       "    }\n",
       "\n",
       "    .dataframe thead th {\n",
       "        text-align: right;\n",
       "    }\n",
       "</style>\n",
       "<table border=\"1\" class=\"dataframe\">\n",
       "  <thead>\n",
       "    <tr style=\"text-align: right;\">\n",
       "      <th></th>\n",
       "      <th>path</th>\n",
       "      <th>experiment</th>\n",
       "    </tr>\n",
       "  </thead>\n",
       "  <tbody>\n",
       "    <tr>\n",
       "      <th>0</th>\n",
       "      <td>HEPG2-08/Plate1/B03_s1</td>\n",
       "      <td>HEPG2-08</td>\n",
       "    </tr>\n",
       "    <tr>\n",
       "      <th>1</th>\n",
       "      <td>HEPG2-08/Plate1/B04_s1</td>\n",
       "      <td>HEPG2-08</td>\n",
       "    </tr>\n",
       "    <tr>\n",
       "      <th>2</th>\n",
       "      <td>HEPG2-08/Plate1/B05_s1</td>\n",
       "      <td>HEPG2-08</td>\n",
       "    </tr>\n",
       "    <tr>\n",
       "      <th>3</th>\n",
       "      <td>HEPG2-08/Plate1/B06_s1</td>\n",
       "      <td>HEPG2-08</td>\n",
       "    </tr>\n",
       "    <tr>\n",
       "      <th>4</th>\n",
       "      <td>HEPG2-08/Plate1/B07_s1</td>\n",
       "      <td>HEPG2-08</td>\n",
       "    </tr>\n",
       "  </tbody>\n",
       "</table>\n",
       "</div>"
      ],
      "text/plain": [
       "                     path experiment\n",
       "0  HEPG2-08/Plate1/B03_s1   HEPG2-08\n",
       "1  HEPG2-08/Plate1/B04_s1   HEPG2-08\n",
       "2  HEPG2-08/Plate1/B05_s1   HEPG2-08\n",
       "3  HEPG2-08/Plate1/B06_s1   HEPG2-08\n",
       "4  HEPG2-08/Plate1/B07_s1   HEPG2-08"
      ]
     },
     "execution_count": 185,
     "metadata": {},
     "output_type": "execute_result"
    }
   ],
   "source": [
    "df.head()"
   ]
  },
  {
   "cell_type": "code",
   "execution_count": 186,
   "metadata": {
    "ExecuteTime": {
     "end_time": "2019-07-14T15:16:25.888878Z",
     "start_time": "2019-07-14T15:16:25.884252Z"
    }
   },
   "outputs": [],
   "source": [
    "# filter for experiments\n",
    "df = df[df['experiment'].isin(experiments)]"
   ]
  },
  {
   "cell_type": "code",
   "execution_count": 187,
   "metadata": {
    "ExecuteTime": {
     "end_time": "2019-07-14T15:16:26.633103Z",
     "start_time": "2019-07-14T15:16:26.607977Z"
    }
   },
   "outputs": [
    {
     "data": {
      "text/plain": [
       "[1107,\n",
       " 1108,\n",
       " 1108,\n",
       " 1106,\n",
       " 1108,\n",
       " 1107,\n",
       " 1108,\n",
       " 1108,\n",
       " 1108,\n",
       " 1108,\n",
       " 1099,\n",
       " 1100,\n",
       " 1108,\n",
       " 1107,\n",
       " 1108,\n",
       " 1094,\n",
       " 1108,\n",
       " 1097]"
      ]
     },
     "execution_count": 187,
     "metadata": {},
     "output_type": "execute_result"
    }
   ],
   "source": [
    "# get rows/images per experiment\n",
    "[len(df[df['experiment'] == x]) for x in experiments]"
   ]
  },
  {
   "cell_type": "code",
   "execution_count": 188,
   "metadata": {
    "ExecuteTime": {
     "end_time": "2019-07-14T15:16:29.353204Z",
     "start_time": "2019-07-14T15:16:29.348590Z"
    }
   },
   "outputs": [
    {
     "data": {
      "text/html": [
       "<div>\n",
       "<style scoped>\n",
       "    .dataframe tbody tr th:only-of-type {\n",
       "        vertical-align: middle;\n",
       "    }\n",
       "\n",
       "    .dataframe tbody tr th {\n",
       "        vertical-align: top;\n",
       "    }\n",
       "\n",
       "    .dataframe thead th {\n",
       "        text-align: right;\n",
       "    }\n",
       "</style>\n",
       "<table border=\"1\" class=\"dataframe\">\n",
       "  <thead>\n",
       "    <tr style=\"text-align: right;\">\n",
       "      <th></th>\n",
       "      <th>path</th>\n",
       "      <th>experiment</th>\n",
       "    </tr>\n",
       "  </thead>\n",
       "  <tbody>\n",
       "    <tr>\n",
       "      <th>19892</th>\n",
       "      <td>U2OS-05/Plate4/O19_s1</td>\n",
       "      <td>U2OS-05</td>\n",
       "    </tr>\n",
       "    <tr>\n",
       "      <th>19893</th>\n",
       "      <td>U2OS-05/Plate4/O20_s1</td>\n",
       "      <td>U2OS-05</td>\n",
       "    </tr>\n",
       "    <tr>\n",
       "      <th>19894</th>\n",
       "      <td>U2OS-05/Plate4/O21_s1</td>\n",
       "      <td>U2OS-05</td>\n",
       "    </tr>\n",
       "    <tr>\n",
       "      <th>19895</th>\n",
       "      <td>U2OS-05/Plate4/O22_s1</td>\n",
       "      <td>U2OS-05</td>\n",
       "    </tr>\n",
       "    <tr>\n",
       "      <th>19896</th>\n",
       "      <td>U2OS-05/Plate4/O23_s1</td>\n",
       "      <td>U2OS-05</td>\n",
       "    </tr>\n",
       "  </tbody>\n",
       "</table>\n",
       "</div>"
      ],
      "text/plain": [
       "                        path experiment\n",
       "19892  U2OS-05/Plate4/O19_s1    U2OS-05\n",
       "19893  U2OS-05/Plate4/O20_s1    U2OS-05\n",
       "19894  U2OS-05/Plate4/O21_s1    U2OS-05\n",
       "19895  U2OS-05/Plate4/O22_s1    U2OS-05\n",
       "19896  U2OS-05/Plate4/O23_s1    U2OS-05"
      ]
     },
     "execution_count": 188,
     "metadata": {},
     "output_type": "execute_result"
    }
   ],
   "source": [
    "df.tail()"
   ]
  },
  {
   "cell_type": "code",
   "execution_count": 189,
   "metadata": {
    "ExecuteTime": {
     "end_time": "2019-07-14T15:16:41.713502Z",
     "start_time": "2019-07-14T15:16:41.709313Z"
    }
   },
   "outputs": [
    {
     "data": {
      "text/plain": [
       "19897"
      ]
     },
     "execution_count": 189,
     "metadata": {},
     "output_type": "execute_result"
    }
   ],
   "source": [
    "df.shape[0]"
   ]
  },
  {
   "cell_type": "code",
   "execution_count": 148,
   "metadata": {
    "ExecuteTime": {
     "end_time": "2019-07-14T12:40:08.696861Z",
     "start_time": "2019-07-14T12:40:08.670634Z"
    }
   },
   "outputs": [],
   "source": [
    "df.to_csv('full_test_dataset_v1_20190714.csv')"
   ]
  },
  {
   "cell_type": "code",
   "execution_count": null,
   "metadata": {},
   "outputs": [],
   "source": []
  },
  {
   "cell_type": "markdown",
   "metadata": {},
   "source": [
    "# v2"
   ]
  },
  {
   "cell_type": "markdown",
   "metadata": {},
   "source": [
    "## full_train_dataset_valid-split-ex_v2_20190727.csv"
   ]
  },
  {
   "cell_type": "code",
   "execution_count": 62,
   "metadata": {
    "ExecuteTime": {
     "end_time": "2019-08-29T17:28:45.319485Z",
     "start_time": "2019-08-29T17:28:45.287058Z"
    }
   },
   "outputs": [],
   "source": [
    "df_train = pd.read_csv('train.csv')"
   ]
  },
  {
   "cell_type": "code",
   "execution_count": 63,
   "metadata": {
    "ExecuteTime": {
     "end_time": "2019-08-29T17:28:45.585031Z",
     "start_time": "2019-08-29T17:28:45.542956Z"
    }
   },
   "outputs": [
    {
     "data": {
      "text/html": [
       "<div>\n",
       "<style scoped>\n",
       "    .dataframe tbody tr th:only-of-type {\n",
       "        vertical-align: middle;\n",
       "    }\n",
       "\n",
       "    .dataframe tbody tr th {\n",
       "        vertical-align: top;\n",
       "    }\n",
       "\n",
       "    .dataframe thead th {\n",
       "        text-align: right;\n",
       "    }\n",
       "</style>\n",
       "<table border=\"1\" class=\"dataframe\">\n",
       "  <thead>\n",
       "    <tr style=\"text-align: right;\">\n",
       "      <th></th>\n",
       "      <th>id_code</th>\n",
       "      <th>experiment</th>\n",
       "      <th>plate</th>\n",
       "      <th>well</th>\n",
       "      <th>sirna</th>\n",
       "    </tr>\n",
       "  </thead>\n",
       "  <tbody>\n",
       "    <tr>\n",
       "      <th>0</th>\n",
       "      <td>HEPG2-01_1_B03</td>\n",
       "      <td>HEPG2-01</td>\n",
       "      <td>1</td>\n",
       "      <td>B03</td>\n",
       "      <td>513</td>\n",
       "    </tr>\n",
       "    <tr>\n",
       "      <th>1</th>\n",
       "      <td>HEPG2-01_1_B04</td>\n",
       "      <td>HEPG2-01</td>\n",
       "      <td>1</td>\n",
       "      <td>B04</td>\n",
       "      <td>840</td>\n",
       "    </tr>\n",
       "    <tr>\n",
       "      <th>2</th>\n",
       "      <td>HEPG2-01_1_B05</td>\n",
       "      <td>HEPG2-01</td>\n",
       "      <td>1</td>\n",
       "      <td>B05</td>\n",
       "      <td>1020</td>\n",
       "    </tr>\n",
       "    <tr>\n",
       "      <th>3</th>\n",
       "      <td>HEPG2-01_1_B06</td>\n",
       "      <td>HEPG2-01</td>\n",
       "      <td>1</td>\n",
       "      <td>B06</td>\n",
       "      <td>254</td>\n",
       "    </tr>\n",
       "    <tr>\n",
       "      <th>4</th>\n",
       "      <td>HEPG2-01_1_B07</td>\n",
       "      <td>HEPG2-01</td>\n",
       "      <td>1</td>\n",
       "      <td>B07</td>\n",
       "      <td>144</td>\n",
       "    </tr>\n",
       "  </tbody>\n",
       "</table>\n",
       "</div>"
      ],
      "text/plain": [
       "          id_code experiment  plate well  sirna\n",
       "0  HEPG2-01_1_B03   HEPG2-01      1  B03    513\n",
       "1  HEPG2-01_1_B04   HEPG2-01      1  B04    840\n",
       "2  HEPG2-01_1_B05   HEPG2-01      1  B05   1020\n",
       "3  HEPG2-01_1_B06   HEPG2-01      1  B06    254\n",
       "4  HEPG2-01_1_B07   HEPG2-01      1  B07    144"
      ]
     },
     "execution_count": 63,
     "metadata": {},
     "output_type": "execute_result"
    }
   ],
   "source": [
    "df_train.head()"
   ]
  },
  {
   "cell_type": "code",
   "execution_count": 64,
   "metadata": {
    "ExecuteTime": {
     "end_time": "2019-08-29T17:28:45.869927Z",
     "start_time": "2019-08-29T17:28:45.854092Z"
    }
   },
   "outputs": [
    {
     "data": {
      "text/plain": [
       "(array(['HEPG2-01', 'HEPG2-02', 'HEPG2-03', 'HEPG2-04', 'HEPG2-05',\n",
       "        'HEPG2-06', 'HEPG2-07', 'HUVEC-01', 'HUVEC-02', 'HUVEC-03',\n",
       "        'HUVEC-04', 'HUVEC-05', 'HUVEC-06', 'HUVEC-07', 'HUVEC-08',\n",
       "        'HUVEC-09', 'HUVEC-10', 'HUVEC-11', 'HUVEC-12', 'HUVEC-13',\n",
       "        'HUVEC-14', 'HUVEC-15', 'HUVEC-16', 'RPE-01', 'RPE-02', 'RPE-03',\n",
       "        'RPE-04', 'RPE-05', 'RPE-06', 'RPE-07', 'U2OS-01', 'U2OS-02',\n",
       "        'U2OS-03'], dtype=object), 33)"
      ]
     },
     "execution_count": 64,
     "metadata": {},
     "output_type": "execute_result"
    }
   ],
   "source": [
    "df_train.experiment.unique(), len(df_train.experiment.unique())"
   ]
  },
  {
   "cell_type": "code",
   "execution_count": 65,
   "metadata": {
    "ExecuteTime": {
     "end_time": "2019-08-29T17:28:46.036345Z",
     "start_time": "2019-08-29T17:28:46.026907Z"
    }
   },
   "outputs": [],
   "source": [
    "experiments = ['HEPG2-01', 'HEPG2-02', 'HEPG2-03', 'HEPG2-04', 'HEPG2-05', 'HEPG2-06', 'HEPG2-07', \n",
    "               'HUVEC-01', 'HUVEC-02', 'HUVEC-03', 'HUVEC-04', 'HUVEC-05', 'HUVEC-06', 'HUVEC-07', \n",
    "               'HUVEC-08', 'HUVEC-09', 'HUVEC-10', 'HUVEC-11', 'HUVEC-12', 'HUVEC-13', 'HUVEC-14', \n",
    "               'HUVEC-15', 'HUVEC-16', \n",
    "               'RPE-01', 'RPE-02', 'RPE-03', 'RPE-04', 'RPE-05', 'RPE-06', 'RPE-07',\n",
    "               'U2OS-01', 'U2OS-02', 'U2OS-03'\n",
    "              ]"
   ]
  },
  {
   "cell_type": "code",
   "execution_count": 66,
   "metadata": {
    "ExecuteTime": {
     "end_time": "2019-08-29T17:28:46.428608Z",
     "start_time": "2019-08-29T17:28:46.399692Z"
    }
   },
   "outputs": [],
   "source": [
    "# setup empty df\n",
    "df1 = pd.DataFrame()\n",
    "# generate path without channel and image file suffix for open image function\n",
    "df1['path'] = df_train['experiment']+'/Plate'+df_train['plate'].apply(str)+'/'+df_train['well']+'_s1' #+'_w'\n"
   ]
  },
  {
   "cell_type": "code",
   "execution_count": 67,
   "metadata": {
    "ExecuteTime": {
     "end_time": "2019-08-29T17:28:46.719350Z",
     "start_time": "2019-08-29T17:28:46.705395Z"
    }
   },
   "outputs": [],
   "source": [
    "df1['experiment'] = df_train['experiment']"
   ]
  },
  {
   "cell_type": "code",
   "execution_count": 68,
   "metadata": {
    "ExecuteTime": {
     "end_time": "2019-08-29T17:28:47.104229Z",
     "start_time": "2019-08-29T17:28:47.091609Z"
    }
   },
   "outputs": [],
   "source": [
    "df1['sirna'] = df_train['sirna']"
   ]
  },
  {
   "cell_type": "code",
   "execution_count": 69,
   "metadata": {
    "ExecuteTime": {
     "end_time": "2019-08-29T17:28:47.471522Z",
     "start_time": "2019-08-29T17:28:47.442866Z"
    }
   },
   "outputs": [],
   "source": [
    "df1['multi'] = df_train['experiment'].apply(lambda x: x.split('/')[0])+' '+df_train['sirna'].apply(lambda x: str(x))\n"
   ]
  },
  {
   "cell_type": "code",
   "execution_count": 70,
   "metadata": {
    "ExecuteTime": {
     "end_time": "2019-08-29T17:28:47.914120Z",
     "start_time": "2019-08-29T17:28:47.898388Z"
    }
   },
   "outputs": [
    {
     "data": {
      "text/html": [
       "<div>\n",
       "<style scoped>\n",
       "    .dataframe tbody tr th:only-of-type {\n",
       "        vertical-align: middle;\n",
       "    }\n",
       "\n",
       "    .dataframe tbody tr th {\n",
       "        vertical-align: top;\n",
       "    }\n",
       "\n",
       "    .dataframe thead th {\n",
       "        text-align: right;\n",
       "    }\n",
       "</style>\n",
       "<table border=\"1\" class=\"dataframe\">\n",
       "  <thead>\n",
       "    <tr style=\"text-align: right;\">\n",
       "      <th></th>\n",
       "      <th>path</th>\n",
       "      <th>experiment</th>\n",
       "      <th>sirna</th>\n",
       "      <th>multi</th>\n",
       "    </tr>\n",
       "  </thead>\n",
       "  <tbody>\n",
       "    <tr>\n",
       "      <th>0</th>\n",
       "      <td>HEPG2-01/Plate1/B03_s1</td>\n",
       "      <td>HEPG2-01</td>\n",
       "      <td>513</td>\n",
       "      <td>HEPG2-01 513</td>\n",
       "    </tr>\n",
       "    <tr>\n",
       "      <th>1</th>\n",
       "      <td>HEPG2-01/Plate1/B04_s1</td>\n",
       "      <td>HEPG2-01</td>\n",
       "      <td>840</td>\n",
       "      <td>HEPG2-01 840</td>\n",
       "    </tr>\n",
       "    <tr>\n",
       "      <th>2</th>\n",
       "      <td>HEPG2-01/Plate1/B05_s1</td>\n",
       "      <td>HEPG2-01</td>\n",
       "      <td>1020</td>\n",
       "      <td>HEPG2-01 1020</td>\n",
       "    </tr>\n",
       "    <tr>\n",
       "      <th>3</th>\n",
       "      <td>HEPG2-01/Plate1/B06_s1</td>\n",
       "      <td>HEPG2-01</td>\n",
       "      <td>254</td>\n",
       "      <td>HEPG2-01 254</td>\n",
       "    </tr>\n",
       "    <tr>\n",
       "      <th>4</th>\n",
       "      <td>HEPG2-01/Plate1/B07_s1</td>\n",
       "      <td>HEPG2-01</td>\n",
       "      <td>144</td>\n",
       "      <td>HEPG2-01 144</td>\n",
       "    </tr>\n",
       "  </tbody>\n",
       "</table>\n",
       "</div>"
      ],
      "text/plain": [
       "                     path experiment  sirna          multi\n",
       "0  HEPG2-01/Plate1/B03_s1   HEPG2-01    513   HEPG2-01 513\n",
       "1  HEPG2-01/Plate1/B04_s1   HEPG2-01    840   HEPG2-01 840\n",
       "2  HEPG2-01/Plate1/B05_s1   HEPG2-01   1020  HEPG2-01 1020\n",
       "3  HEPG2-01/Plate1/B06_s1   HEPG2-01    254   HEPG2-01 254\n",
       "4  HEPG2-01/Plate1/B07_s1   HEPG2-01    144   HEPG2-01 144"
      ]
     },
     "execution_count": 70,
     "metadata": {},
     "output_type": "execute_result"
    }
   ],
   "source": [
    "df1.head()"
   ]
  },
  {
   "cell_type": "code",
   "execution_count": 71,
   "metadata": {
    "ExecuteTime": {
     "end_time": "2019-08-29T17:28:48.402073Z",
     "start_time": "2019-08-29T17:28:48.384002Z"
    }
   },
   "outputs": [],
   "source": [
    "# filter for experiments\n",
    "df1 = df1[df1['experiment'].isin(experiments)]"
   ]
  },
  {
   "cell_type": "code",
   "execution_count": 72,
   "metadata": {
    "ExecuteTime": {
     "end_time": "2019-08-29T17:28:49.171210Z",
     "start_time": "2019-08-29T17:28:49.115949Z"
    }
   },
   "outputs": [
    {
     "data": {
      "text/plain": [
       "[1106,\n",
       " 1106,\n",
       " 1108,\n",
       " 1108,\n",
       " 1108,\n",
       " 1108,\n",
       " 1106,\n",
       " 1108,\n",
       " 1108,\n",
       " 1108,\n",
       " 1108,\n",
       " 1108,\n",
       " 1107,\n",
       " 1107,\n",
       " 1108,\n",
       " 1108,\n",
       " 1108,\n",
       " 1108,\n",
       " 1108,\n",
       " 1102,\n",
       " 1090,\n",
       " 1094,\n",
       " 1108,\n",
       " 1108,\n",
       " 1108,\n",
       " 1108,\n",
       " 1107,\n",
       " 1108,\n",
       " 1106,\n",
       " 1108,\n",
       " 1108,\n",
       " 1108,\n",
       " 1108]"
      ]
     },
     "execution_count": 72,
     "metadata": {},
     "output_type": "execute_result"
    }
   ],
   "source": [
    "# get rows/images per experiment\n",
    "[len(df1[df1['experiment'] == x]) for x in experiments]"
   ]
  },
  {
   "cell_type": "code",
   "execution_count": 73,
   "metadata": {
    "ExecuteTime": {
     "end_time": "2019-08-29T17:28:49.758883Z",
     "start_time": "2019-08-29T17:28:49.742947Z"
    }
   },
   "outputs": [
    {
     "data": {
      "text/html": [
       "<div>\n",
       "<style scoped>\n",
       "    .dataframe tbody tr th:only-of-type {\n",
       "        vertical-align: middle;\n",
       "    }\n",
       "\n",
       "    .dataframe tbody tr th {\n",
       "        vertical-align: top;\n",
       "    }\n",
       "\n",
       "    .dataframe thead th {\n",
       "        text-align: right;\n",
       "    }\n",
       "</style>\n",
       "<table border=\"1\" class=\"dataframe\">\n",
       "  <thead>\n",
       "    <tr style=\"text-align: right;\">\n",
       "      <th></th>\n",
       "      <th>path</th>\n",
       "      <th>experiment</th>\n",
       "      <th>sirna</th>\n",
       "      <th>multi</th>\n",
       "    </tr>\n",
       "  </thead>\n",
       "  <tbody>\n",
       "    <tr>\n",
       "      <th>36510</th>\n",
       "      <td>U2OS-03/Plate4/O19_s1</td>\n",
       "      <td>U2OS-03</td>\n",
       "      <td>103</td>\n",
       "      <td>U2OS-03 103</td>\n",
       "    </tr>\n",
       "    <tr>\n",
       "      <th>36511</th>\n",
       "      <td>U2OS-03/Plate4/O20_s1</td>\n",
       "      <td>U2OS-03</td>\n",
       "      <td>202</td>\n",
       "      <td>U2OS-03 202</td>\n",
       "    </tr>\n",
       "    <tr>\n",
       "      <th>36512</th>\n",
       "      <td>U2OS-03/Plate4/O21_s1</td>\n",
       "      <td>U2OS-03</td>\n",
       "      <td>824</td>\n",
       "      <td>U2OS-03 824</td>\n",
       "    </tr>\n",
       "    <tr>\n",
       "      <th>36513</th>\n",
       "      <td>U2OS-03/Plate4/O22_s1</td>\n",
       "      <td>U2OS-03</td>\n",
       "      <td>328</td>\n",
       "      <td>U2OS-03 328</td>\n",
       "    </tr>\n",
       "    <tr>\n",
       "      <th>36514</th>\n",
       "      <td>U2OS-03/Plate4/O23_s1</td>\n",
       "      <td>U2OS-03</td>\n",
       "      <td>509</td>\n",
       "      <td>U2OS-03 509</td>\n",
       "    </tr>\n",
       "  </tbody>\n",
       "</table>\n",
       "</div>"
      ],
      "text/plain": [
       "                        path experiment  sirna        multi\n",
       "36510  U2OS-03/Plate4/O19_s1    U2OS-03    103  U2OS-03 103\n",
       "36511  U2OS-03/Plate4/O20_s1    U2OS-03    202  U2OS-03 202\n",
       "36512  U2OS-03/Plate4/O21_s1    U2OS-03    824  U2OS-03 824\n",
       "36513  U2OS-03/Plate4/O22_s1    U2OS-03    328  U2OS-03 328\n",
       "36514  U2OS-03/Plate4/O23_s1    U2OS-03    509  U2OS-03 509"
      ]
     },
     "execution_count": 73,
     "metadata": {},
     "output_type": "execute_result"
    }
   ],
   "source": [
    "df1.tail()"
   ]
  },
  {
   "cell_type": "code",
   "execution_count": 74,
   "metadata": {
    "ExecuteTime": {
     "end_time": "2019-08-29T17:28:50.548841Z",
     "start_time": "2019-08-29T17:28:50.535695Z"
    }
   },
   "outputs": [],
   "source": [
    "df1['valid'] = 0"
   ]
  },
  {
   "cell_type": "code",
   "execution_count": 75,
   "metadata": {
    "ExecuteTime": {
     "end_time": "2019-08-29T17:28:51.078509Z",
     "start_time": "2019-08-29T17:28:51.048068Z"
    }
   },
   "outputs": [],
   "source": [
    "for c in valid_exp_split:\n",
    "    df1.loc[df1['experiment'] == c,'valid'] = 1"
   ]
  },
  {
   "cell_type": "code",
   "execution_count": 76,
   "metadata": {
    "ExecuteTime": {
     "end_time": "2019-08-29T17:28:51.510913Z",
     "start_time": "2019-08-29T17:28:51.494505Z"
    }
   },
   "outputs": [
    {
     "data": {
      "text/html": [
       "<div>\n",
       "<style scoped>\n",
       "    .dataframe tbody tr th:only-of-type {\n",
       "        vertical-align: middle;\n",
       "    }\n",
       "\n",
       "    .dataframe tbody tr th {\n",
       "        vertical-align: top;\n",
       "    }\n",
       "\n",
       "    .dataframe thead th {\n",
       "        text-align: right;\n",
       "    }\n",
       "</style>\n",
       "<table border=\"1\" class=\"dataframe\">\n",
       "  <thead>\n",
       "    <tr style=\"text-align: right;\">\n",
       "      <th></th>\n",
       "      <th>path</th>\n",
       "      <th>experiment</th>\n",
       "      <th>sirna</th>\n",
       "      <th>multi</th>\n",
       "      <th>valid</th>\n",
       "    </tr>\n",
       "  </thead>\n",
       "  <tbody>\n",
       "    <tr>\n",
       "      <th>0</th>\n",
       "      <td>HEPG2-01/Plate1/B03_s1</td>\n",
       "      <td>HEPG2-01</td>\n",
       "      <td>513</td>\n",
       "      <td>HEPG2-01 513</td>\n",
       "      <td>0</td>\n",
       "    </tr>\n",
       "    <tr>\n",
       "      <th>1</th>\n",
       "      <td>HEPG2-01/Plate1/B04_s1</td>\n",
       "      <td>HEPG2-01</td>\n",
       "      <td>840</td>\n",
       "      <td>HEPG2-01 840</td>\n",
       "      <td>0</td>\n",
       "    </tr>\n",
       "    <tr>\n",
       "      <th>2</th>\n",
       "      <td>HEPG2-01/Plate1/B05_s1</td>\n",
       "      <td>HEPG2-01</td>\n",
       "      <td>1020</td>\n",
       "      <td>HEPG2-01 1020</td>\n",
       "      <td>0</td>\n",
       "    </tr>\n",
       "    <tr>\n",
       "      <th>3</th>\n",
       "      <td>HEPG2-01/Plate1/B06_s1</td>\n",
       "      <td>HEPG2-01</td>\n",
       "      <td>254</td>\n",
       "      <td>HEPG2-01 254</td>\n",
       "      <td>0</td>\n",
       "    </tr>\n",
       "    <tr>\n",
       "      <th>4</th>\n",
       "      <td>HEPG2-01/Plate1/B07_s1</td>\n",
       "      <td>HEPG2-01</td>\n",
       "      <td>144</td>\n",
       "      <td>HEPG2-01 144</td>\n",
       "      <td>0</td>\n",
       "    </tr>\n",
       "  </tbody>\n",
       "</table>\n",
       "</div>"
      ],
      "text/plain": [
       "                     path experiment  sirna          multi  valid\n",
       "0  HEPG2-01/Plate1/B03_s1   HEPG2-01    513   HEPG2-01 513      0\n",
       "1  HEPG2-01/Plate1/B04_s1   HEPG2-01    840   HEPG2-01 840      0\n",
       "2  HEPG2-01/Plate1/B05_s1   HEPG2-01   1020  HEPG2-01 1020      0\n",
       "3  HEPG2-01/Plate1/B06_s1   HEPG2-01    254   HEPG2-01 254      0\n",
       "4  HEPG2-01/Plate1/B07_s1   HEPG2-01    144   HEPG2-01 144      0"
      ]
     },
     "execution_count": 76,
     "metadata": {},
     "output_type": "execute_result"
    }
   ],
   "source": [
    "df1.head()"
   ]
  },
  {
   "cell_type": "code",
   "execution_count": 77,
   "metadata": {
    "ExecuteTime": {
     "end_time": "2019-08-29T17:28:52.287078Z",
     "start_time": "2019-08-29T17:28:52.273395Z"
    }
   },
   "outputs": [
    {
     "data": {
      "text/plain": [
       "0.21191291250171163"
      ]
     },
     "execution_count": 77,
     "metadata": {},
     "output_type": "execute_result"
    }
   ],
   "source": [
    "df1.valid.mean()"
   ]
  },
  {
   "cell_type": "code",
   "execution_count": 78,
   "metadata": {
    "ExecuteTime": {
     "end_time": "2019-08-29T17:28:53.129067Z",
     "start_time": "2019-08-29T17:28:53.112564Z"
    }
   },
   "outputs": [
    {
     "data": {
      "text/html": [
       "<div>\n",
       "<style scoped>\n",
       "    .dataframe tbody tr th:only-of-type {\n",
       "        vertical-align: middle;\n",
       "    }\n",
       "\n",
       "    .dataframe tbody tr th {\n",
       "        vertical-align: top;\n",
       "    }\n",
       "\n",
       "    .dataframe thead th {\n",
       "        text-align: right;\n",
       "    }\n",
       "</style>\n",
       "<table border=\"1\" class=\"dataframe\">\n",
       "  <thead>\n",
       "    <tr style=\"text-align: right;\">\n",
       "      <th></th>\n",
       "      <th>path</th>\n",
       "      <th>experiment</th>\n",
       "      <th>sirna</th>\n",
       "      <th>multi</th>\n",
       "      <th>valid</th>\n",
       "    </tr>\n",
       "  </thead>\n",
       "  <tbody>\n",
       "    <tr>\n",
       "      <th>36510</th>\n",
       "      <td>U2OS-03/Plate4/O19_s1</td>\n",
       "      <td>U2OS-03</td>\n",
       "      <td>103</td>\n",
       "      <td>U2OS-03 103</td>\n",
       "      <td>1</td>\n",
       "    </tr>\n",
       "    <tr>\n",
       "      <th>36511</th>\n",
       "      <td>U2OS-03/Plate4/O20_s1</td>\n",
       "      <td>U2OS-03</td>\n",
       "      <td>202</td>\n",
       "      <td>U2OS-03 202</td>\n",
       "      <td>1</td>\n",
       "    </tr>\n",
       "    <tr>\n",
       "      <th>36512</th>\n",
       "      <td>U2OS-03/Plate4/O21_s1</td>\n",
       "      <td>U2OS-03</td>\n",
       "      <td>824</td>\n",
       "      <td>U2OS-03 824</td>\n",
       "      <td>1</td>\n",
       "    </tr>\n",
       "    <tr>\n",
       "      <th>36513</th>\n",
       "      <td>U2OS-03/Plate4/O22_s1</td>\n",
       "      <td>U2OS-03</td>\n",
       "      <td>328</td>\n",
       "      <td>U2OS-03 328</td>\n",
       "      <td>1</td>\n",
       "    </tr>\n",
       "    <tr>\n",
       "      <th>36514</th>\n",
       "      <td>U2OS-03/Plate4/O23_s1</td>\n",
       "      <td>U2OS-03</td>\n",
       "      <td>509</td>\n",
       "      <td>U2OS-03 509</td>\n",
       "      <td>1</td>\n",
       "    </tr>\n",
       "  </tbody>\n",
       "</table>\n",
       "</div>"
      ],
      "text/plain": [
       "                        path experiment  sirna        multi  valid\n",
       "36510  U2OS-03/Plate4/O19_s1    U2OS-03    103  U2OS-03 103      1\n",
       "36511  U2OS-03/Plate4/O20_s1    U2OS-03    202  U2OS-03 202      1\n",
       "36512  U2OS-03/Plate4/O21_s1    U2OS-03    824  U2OS-03 824      1\n",
       "36513  U2OS-03/Plate4/O22_s1    U2OS-03    328  U2OS-03 328      1\n",
       "36514  U2OS-03/Plate4/O23_s1    U2OS-03    509  U2OS-03 509      1"
      ]
     },
     "execution_count": 78,
     "metadata": {},
     "output_type": "execute_result"
    }
   ],
   "source": [
    "df1.tail()"
   ]
  },
  {
   "cell_type": "code",
   "execution_count": 79,
   "metadata": {
    "ExecuteTime": {
     "end_time": "2019-08-29T17:28:53.839657Z",
     "start_time": "2019-08-29T17:28:53.784676Z"
    }
   },
   "outputs": [
    {
     "data": {
      "text/plain": [
       "[1106,\n",
       " 1106,\n",
       " 1108,\n",
       " 1108,\n",
       " 1108,\n",
       " 1108,\n",
       " 1106,\n",
       " 1108,\n",
       " 1108,\n",
       " 1108,\n",
       " 1108,\n",
       " 1108,\n",
       " 1107,\n",
       " 1107,\n",
       " 1108,\n",
       " 1108,\n",
       " 1108,\n",
       " 1108,\n",
       " 1108,\n",
       " 1102,\n",
       " 1090,\n",
       " 1094,\n",
       " 1108,\n",
       " 1108,\n",
       " 1108,\n",
       " 1108,\n",
       " 1107,\n",
       " 1108,\n",
       " 1106,\n",
       " 1108,\n",
       " 1108,\n",
       " 1108,\n",
       " 1108]"
      ]
     },
     "execution_count": 79,
     "metadata": {},
     "output_type": "execute_result"
    }
   ],
   "source": [
    "# get rows/images per experiment\n",
    "[len(df1[df1['experiment'] == x]) for x in experiments]"
   ]
  },
  {
   "cell_type": "code",
   "execution_count": 80,
   "metadata": {
    "ExecuteTime": {
     "end_time": "2019-08-29T17:28:54.726764Z",
     "start_time": "2019-08-29T17:28:54.710331Z"
    }
   },
   "outputs": [
    {
     "data": {
      "text/html": [
       "<div>\n",
       "<style scoped>\n",
       "    .dataframe tbody tr th:only-of-type {\n",
       "        vertical-align: middle;\n",
       "    }\n",
       "\n",
       "    .dataframe tbody tr th {\n",
       "        vertical-align: top;\n",
       "    }\n",
       "\n",
       "    .dataframe thead th {\n",
       "        text-align: right;\n",
       "    }\n",
       "</style>\n",
       "<table border=\"1\" class=\"dataframe\">\n",
       "  <thead>\n",
       "    <tr style=\"text-align: right;\">\n",
       "      <th></th>\n",
       "      <th>path</th>\n",
       "      <th>experiment</th>\n",
       "      <th>sirna</th>\n",
       "      <th>multi</th>\n",
       "      <th>valid</th>\n",
       "    </tr>\n",
       "  </thead>\n",
       "  <tbody>\n",
       "    <tr>\n",
       "      <th>0</th>\n",
       "      <td>HEPG2-01/Plate1/B03_s1</td>\n",
       "      <td>HEPG2-01</td>\n",
       "      <td>513</td>\n",
       "      <td>HEPG2-01 513</td>\n",
       "      <td>0</td>\n",
       "    </tr>\n",
       "    <tr>\n",
       "      <th>1</th>\n",
       "      <td>HEPG2-01/Plate1/B04_s1</td>\n",
       "      <td>HEPG2-01</td>\n",
       "      <td>840</td>\n",
       "      <td>HEPG2-01 840</td>\n",
       "      <td>0</td>\n",
       "    </tr>\n",
       "    <tr>\n",
       "      <th>2</th>\n",
       "      <td>HEPG2-01/Plate1/B05_s1</td>\n",
       "      <td>HEPG2-01</td>\n",
       "      <td>1020</td>\n",
       "      <td>HEPG2-01 1020</td>\n",
       "      <td>0</td>\n",
       "    </tr>\n",
       "    <tr>\n",
       "      <th>3</th>\n",
       "      <td>HEPG2-01/Plate1/B06_s1</td>\n",
       "      <td>HEPG2-01</td>\n",
       "      <td>254</td>\n",
       "      <td>HEPG2-01 254</td>\n",
       "      <td>0</td>\n",
       "    </tr>\n",
       "    <tr>\n",
       "      <th>4</th>\n",
       "      <td>HEPG2-01/Plate1/B07_s1</td>\n",
       "      <td>HEPG2-01</td>\n",
       "      <td>144</td>\n",
       "      <td>HEPG2-01 144</td>\n",
       "      <td>0</td>\n",
       "    </tr>\n",
       "  </tbody>\n",
       "</table>\n",
       "</div>"
      ],
      "text/plain": [
       "                     path experiment  sirna          multi  valid\n",
       "0  HEPG2-01/Plate1/B03_s1   HEPG2-01    513   HEPG2-01 513      0\n",
       "1  HEPG2-01/Plate1/B04_s1   HEPG2-01    840   HEPG2-01 840      0\n",
       "2  HEPG2-01/Plate1/B05_s1   HEPG2-01   1020  HEPG2-01 1020      0\n",
       "3  HEPG2-01/Plate1/B06_s1   HEPG2-01    254   HEPG2-01 254      0\n",
       "4  HEPG2-01/Plate1/B07_s1   HEPG2-01    144   HEPG2-01 144      0"
      ]
     },
     "execution_count": 80,
     "metadata": {},
     "output_type": "execute_result"
    }
   ],
   "source": [
    "df1.head()"
   ]
  },
  {
   "cell_type": "code",
   "execution_count": 81,
   "metadata": {
    "ExecuteTime": {
     "end_time": "2019-08-29T17:28:55.812296Z",
     "start_time": "2019-08-29T17:28:55.799642Z"
    }
   },
   "outputs": [],
   "source": [
    "# copy dataframe to get rows for site 2\n",
    "df2 = df1.copy()"
   ]
  },
  {
   "cell_type": "code",
   "execution_count": 82,
   "metadata": {
    "ExecuteTime": {
     "end_time": "2019-08-29T17:28:56.485666Z",
     "start_time": "2019-08-29T17:28:56.467117Z"
    }
   },
   "outputs": [],
   "source": [
    "# replace site 1 with site 2\n",
    "df2['path'] = df2['path'].apply(lambda x: x[:-1]+'2')"
   ]
  },
  {
   "cell_type": "code",
   "execution_count": 83,
   "metadata": {
    "ExecuteTime": {
     "end_time": "2019-08-29T17:28:57.154777Z",
     "start_time": "2019-08-29T17:28:57.138507Z"
    }
   },
   "outputs": [
    {
     "data": {
      "text/html": [
       "<div>\n",
       "<style scoped>\n",
       "    .dataframe tbody tr th:only-of-type {\n",
       "        vertical-align: middle;\n",
       "    }\n",
       "\n",
       "    .dataframe tbody tr th {\n",
       "        vertical-align: top;\n",
       "    }\n",
       "\n",
       "    .dataframe thead th {\n",
       "        text-align: right;\n",
       "    }\n",
       "</style>\n",
       "<table border=\"1\" class=\"dataframe\">\n",
       "  <thead>\n",
       "    <tr style=\"text-align: right;\">\n",
       "      <th></th>\n",
       "      <th>path</th>\n",
       "      <th>experiment</th>\n",
       "      <th>sirna</th>\n",
       "      <th>multi</th>\n",
       "      <th>valid</th>\n",
       "    </tr>\n",
       "  </thead>\n",
       "  <tbody>\n",
       "    <tr>\n",
       "      <th>0</th>\n",
       "      <td>HEPG2-01/Plate1/B03_s2</td>\n",
       "      <td>HEPG2-01</td>\n",
       "      <td>513</td>\n",
       "      <td>HEPG2-01 513</td>\n",
       "      <td>0</td>\n",
       "    </tr>\n",
       "    <tr>\n",
       "      <th>1</th>\n",
       "      <td>HEPG2-01/Plate1/B04_s2</td>\n",
       "      <td>HEPG2-01</td>\n",
       "      <td>840</td>\n",
       "      <td>HEPG2-01 840</td>\n",
       "      <td>0</td>\n",
       "    </tr>\n",
       "    <tr>\n",
       "      <th>2</th>\n",
       "      <td>HEPG2-01/Plate1/B05_s2</td>\n",
       "      <td>HEPG2-01</td>\n",
       "      <td>1020</td>\n",
       "      <td>HEPG2-01 1020</td>\n",
       "      <td>0</td>\n",
       "    </tr>\n",
       "    <tr>\n",
       "      <th>3</th>\n",
       "      <td>HEPG2-01/Plate1/B06_s2</td>\n",
       "      <td>HEPG2-01</td>\n",
       "      <td>254</td>\n",
       "      <td>HEPG2-01 254</td>\n",
       "      <td>0</td>\n",
       "    </tr>\n",
       "    <tr>\n",
       "      <th>4</th>\n",
       "      <td>HEPG2-01/Plate1/B07_s2</td>\n",
       "      <td>HEPG2-01</td>\n",
       "      <td>144</td>\n",
       "      <td>HEPG2-01 144</td>\n",
       "      <td>0</td>\n",
       "    </tr>\n",
       "  </tbody>\n",
       "</table>\n",
       "</div>"
      ],
      "text/plain": [
       "                     path experiment  sirna          multi  valid\n",
       "0  HEPG2-01/Plate1/B03_s2   HEPG2-01    513   HEPG2-01 513      0\n",
       "1  HEPG2-01/Plate1/B04_s2   HEPG2-01    840   HEPG2-01 840      0\n",
       "2  HEPG2-01/Plate1/B05_s2   HEPG2-01   1020  HEPG2-01 1020      0\n",
       "3  HEPG2-01/Plate1/B06_s2   HEPG2-01    254   HEPG2-01 254      0\n",
       "4  HEPG2-01/Plate1/B07_s2   HEPG2-01    144   HEPG2-01 144      0"
      ]
     },
     "execution_count": 83,
     "metadata": {},
     "output_type": "execute_result"
    }
   ],
   "source": [
    "df2.head()"
   ]
  },
  {
   "cell_type": "code",
   "execution_count": 84,
   "metadata": {
    "ExecuteTime": {
     "end_time": "2019-08-29T17:28:58.112313Z",
     "start_time": "2019-08-29T17:28:58.093550Z"
    }
   },
   "outputs": [],
   "source": [
    "df_full = pd.concat((df1, df2))"
   ]
  },
  {
   "cell_type": "code",
   "execution_count": 85,
   "metadata": {
    "ExecuteTime": {
     "end_time": "2019-08-29T17:28:58.880856Z",
     "start_time": "2019-08-29T17:28:58.867695Z"
    }
   },
   "outputs": [
    {
     "data": {
      "text/plain": [
       "((36515, 5), (36515, 5), (73030, 5))"
      ]
     },
     "execution_count": 85,
     "metadata": {},
     "output_type": "execute_result"
    }
   ],
   "source": [
    "df1.shape, df2.shape, df_full.shape"
   ]
  },
  {
   "cell_type": "code",
   "execution_count": 86,
   "metadata": {
    "ExecuteTime": {
     "end_time": "2019-08-29T17:28:59.849959Z",
     "start_time": "2019-08-29T17:28:59.822106Z"
    }
   },
   "outputs": [
    {
     "data": {
      "text/plain": [
       "15476"
      ]
     },
     "execution_count": 86,
     "metadata": {},
     "output_type": "execute_result"
    }
   ],
   "source": [
    "df_full.pivot_table(values='valid', index='experiment', aggfunc='sum')['valid'].sum()"
   ]
  },
  {
   "cell_type": "code",
   "execution_count": 87,
   "metadata": {
    "ExecuteTime": {
     "end_time": "2019-08-29T17:29:00.537660Z",
     "start_time": "2019-08-29T17:29:00.524148Z"
    }
   },
   "outputs": [
    {
     "data": {
      "text/plain": [
       "73030"
      ]
     },
     "execution_count": 87,
     "metadata": {},
     "output_type": "execute_result"
    }
   ],
   "source": [
    "df_full.shape[0]"
   ]
  },
  {
   "cell_type": "code",
   "execution_count": 42,
   "metadata": {
    "ExecuteTime": {
     "end_time": "2019-08-29T17:27:55.747626Z",
     "start_time": "2019-08-29T17:27:55.731461Z"
    }
   },
   "outputs": [
    {
     "data": {
      "text/plain": [
       "0.21191291250171163"
      ]
     },
     "execution_count": 42,
     "metadata": {},
     "output_type": "execute_result"
    }
   ],
   "source": [
    "df_full.pivot_table(values='valid', index='experiment', aggfunc='sum')['valid'].sum()/df_full.shape[0]"
   ]
  },
  {
   "cell_type": "code",
   "execution_count": 43,
   "metadata": {
    "ExecuteTime": {
     "end_time": "2019-08-12T18:24:09.517703Z",
     "start_time": "2019-08-12T18:24:09.330470Z"
    }
   },
   "outputs": [],
   "source": [
    "df_full.to_csv('full_train_dataset_valid-split-ex_v2_20190727.csv')"
   ]
  },
  {
   "cell_type": "markdown",
   "metadata": {},
   "source": [
    "## full_test_dataset_v2_20190727.csv"
   ]
  },
  {
   "cell_type": "code",
   "execution_count": 89,
   "metadata": {
    "ExecuteTime": {
     "end_time": "2019-08-29T17:29:10.474628Z",
     "start_time": "2019-08-29T17:29:10.457005Z"
    }
   },
   "outputs": [],
   "source": [
    "df_test = pd.read_csv('test.csv')"
   ]
  },
  {
   "cell_type": "code",
   "execution_count": 90,
   "metadata": {
    "ExecuteTime": {
     "end_time": "2019-08-29T17:29:10.848970Z",
     "start_time": "2019-08-29T17:29:10.832722Z"
    }
   },
   "outputs": [
    {
     "data": {
      "text/html": [
       "<div>\n",
       "<style scoped>\n",
       "    .dataframe tbody tr th:only-of-type {\n",
       "        vertical-align: middle;\n",
       "    }\n",
       "\n",
       "    .dataframe tbody tr th {\n",
       "        vertical-align: top;\n",
       "    }\n",
       "\n",
       "    .dataframe thead th {\n",
       "        text-align: right;\n",
       "    }\n",
       "</style>\n",
       "<table border=\"1\" class=\"dataframe\">\n",
       "  <thead>\n",
       "    <tr style=\"text-align: right;\">\n",
       "      <th></th>\n",
       "      <th>id_code</th>\n",
       "      <th>experiment</th>\n",
       "      <th>plate</th>\n",
       "      <th>well</th>\n",
       "    </tr>\n",
       "  </thead>\n",
       "  <tbody>\n",
       "    <tr>\n",
       "      <th>0</th>\n",
       "      <td>HEPG2-08_1_B03</td>\n",
       "      <td>HEPG2-08</td>\n",
       "      <td>1</td>\n",
       "      <td>B03</td>\n",
       "    </tr>\n",
       "    <tr>\n",
       "      <th>1</th>\n",
       "      <td>HEPG2-08_1_B04</td>\n",
       "      <td>HEPG2-08</td>\n",
       "      <td>1</td>\n",
       "      <td>B04</td>\n",
       "    </tr>\n",
       "    <tr>\n",
       "      <th>2</th>\n",
       "      <td>HEPG2-08_1_B05</td>\n",
       "      <td>HEPG2-08</td>\n",
       "      <td>1</td>\n",
       "      <td>B05</td>\n",
       "    </tr>\n",
       "    <tr>\n",
       "      <th>3</th>\n",
       "      <td>HEPG2-08_1_B06</td>\n",
       "      <td>HEPG2-08</td>\n",
       "      <td>1</td>\n",
       "      <td>B06</td>\n",
       "    </tr>\n",
       "    <tr>\n",
       "      <th>4</th>\n",
       "      <td>HEPG2-08_1_B07</td>\n",
       "      <td>HEPG2-08</td>\n",
       "      <td>1</td>\n",
       "      <td>B07</td>\n",
       "    </tr>\n",
       "  </tbody>\n",
       "</table>\n",
       "</div>"
      ],
      "text/plain": [
       "          id_code experiment  plate well\n",
       "0  HEPG2-08_1_B03   HEPG2-08      1  B03\n",
       "1  HEPG2-08_1_B04   HEPG2-08      1  B04\n",
       "2  HEPG2-08_1_B05   HEPG2-08      1  B05\n",
       "3  HEPG2-08_1_B06   HEPG2-08      1  B06\n",
       "4  HEPG2-08_1_B07   HEPG2-08      1  B07"
      ]
     },
     "execution_count": 90,
     "metadata": {},
     "output_type": "execute_result"
    }
   ],
   "source": [
    "df_test.head()"
   ]
  },
  {
   "cell_type": "code",
   "execution_count": 91,
   "metadata": {
    "ExecuteTime": {
     "end_time": "2019-08-29T17:29:11.161367Z",
     "start_time": "2019-08-29T17:29:11.146953Z"
    }
   },
   "outputs": [
    {
     "data": {
      "text/plain": [
       "(array(['HEPG2-08', 'HEPG2-09', 'HEPG2-10', 'HEPG2-11', 'HUVEC-17',\n",
       "        'HUVEC-18', 'HUVEC-19', 'HUVEC-20', 'HUVEC-21', 'HUVEC-22',\n",
       "        'HUVEC-23', 'HUVEC-24', 'RPE-08', 'RPE-09', 'RPE-10', 'RPE-11',\n",
       "        'U2OS-04', 'U2OS-05'], dtype=object), 18)"
      ]
     },
     "execution_count": 91,
     "metadata": {},
     "output_type": "execute_result"
    }
   ],
   "source": [
    "df_test.experiment.unique(), len(df_test.experiment.unique())"
   ]
  },
  {
   "cell_type": "code",
   "execution_count": 92,
   "metadata": {
    "ExecuteTime": {
     "end_time": "2019-08-29T17:29:11.409659Z",
     "start_time": "2019-08-29T17:29:11.396129Z"
    }
   },
   "outputs": [],
   "source": [
    "experiments = ['HEPG2-08', 'HEPG2-09', 'HEPG2-10', 'HEPG2-11', 'HUVEC-17', 'HUVEC-18', 'HUVEC-19', 'HUVEC-20', 'HUVEC-21',\n",
    "        'HUVEC-22', 'HUVEC-23', 'HUVEC-24', 'RPE-08', 'RPE-09', 'RPE-10', 'RPE-11', 'U2OS-04', 'U2OS-05']"
   ]
  },
  {
   "cell_type": "code",
   "execution_count": 93,
   "metadata": {
    "ExecuteTime": {
     "end_time": "2019-08-29T17:29:11.720747Z",
     "start_time": "2019-08-29T17:29:11.701156Z"
    }
   },
   "outputs": [],
   "source": [
    "# setup empty df\n",
    "df1 = pd.DataFrame()\n",
    "# generate path without channel and image file suffix for open image function\n",
    "df1['path'] = df_test['experiment']+'/Plate'+df_test['plate'].apply(str)+'/'+df_test['well']+'_s1' #+'_w'\n"
   ]
  },
  {
   "cell_type": "code",
   "execution_count": 94,
   "metadata": {
    "ExecuteTime": {
     "end_time": "2019-08-29T17:29:12.124568Z",
     "start_time": "2019-08-29T17:29:12.111245Z"
    }
   },
   "outputs": [],
   "source": [
    "df1['experiment'] = df_test['experiment']"
   ]
  },
  {
   "cell_type": "code",
   "execution_count": 95,
   "metadata": {
    "ExecuteTime": {
     "end_time": "2019-08-29T17:29:12.534383Z",
     "start_time": "2019-08-29T17:29:12.519563Z"
    }
   },
   "outputs": [
    {
     "data": {
      "text/html": [
       "<div>\n",
       "<style scoped>\n",
       "    .dataframe tbody tr th:only-of-type {\n",
       "        vertical-align: middle;\n",
       "    }\n",
       "\n",
       "    .dataframe tbody tr th {\n",
       "        vertical-align: top;\n",
       "    }\n",
       "\n",
       "    .dataframe thead th {\n",
       "        text-align: right;\n",
       "    }\n",
       "</style>\n",
       "<table border=\"1\" class=\"dataframe\">\n",
       "  <thead>\n",
       "    <tr style=\"text-align: right;\">\n",
       "      <th></th>\n",
       "      <th>path</th>\n",
       "      <th>experiment</th>\n",
       "    </tr>\n",
       "  </thead>\n",
       "  <tbody>\n",
       "    <tr>\n",
       "      <th>0</th>\n",
       "      <td>HEPG2-08/Plate1/B03_s1</td>\n",
       "      <td>HEPG2-08</td>\n",
       "    </tr>\n",
       "    <tr>\n",
       "      <th>1</th>\n",
       "      <td>HEPG2-08/Plate1/B04_s1</td>\n",
       "      <td>HEPG2-08</td>\n",
       "    </tr>\n",
       "    <tr>\n",
       "      <th>2</th>\n",
       "      <td>HEPG2-08/Plate1/B05_s1</td>\n",
       "      <td>HEPG2-08</td>\n",
       "    </tr>\n",
       "    <tr>\n",
       "      <th>3</th>\n",
       "      <td>HEPG2-08/Plate1/B06_s1</td>\n",
       "      <td>HEPG2-08</td>\n",
       "    </tr>\n",
       "    <tr>\n",
       "      <th>4</th>\n",
       "      <td>HEPG2-08/Plate1/B07_s1</td>\n",
       "      <td>HEPG2-08</td>\n",
       "    </tr>\n",
       "  </tbody>\n",
       "</table>\n",
       "</div>"
      ],
      "text/plain": [
       "                     path experiment\n",
       "0  HEPG2-08/Plate1/B03_s1   HEPG2-08\n",
       "1  HEPG2-08/Plate1/B04_s1   HEPG2-08\n",
       "2  HEPG2-08/Plate1/B05_s1   HEPG2-08\n",
       "3  HEPG2-08/Plate1/B06_s1   HEPG2-08\n",
       "4  HEPG2-08/Plate1/B07_s1   HEPG2-08"
      ]
     },
     "execution_count": 95,
     "metadata": {},
     "output_type": "execute_result"
    }
   ],
   "source": [
    "df1.head()"
   ]
  },
  {
   "cell_type": "code",
   "execution_count": 96,
   "metadata": {
    "ExecuteTime": {
     "end_time": "2019-08-29T17:29:12.906707Z",
     "start_time": "2019-08-29T17:29:12.891829Z"
    }
   },
   "outputs": [],
   "source": [
    "# filter for experiments\n",
    "df1 = df1[df1['experiment'].isin(experiments)]"
   ]
  },
  {
   "cell_type": "code",
   "execution_count": 97,
   "metadata": {
    "ExecuteTime": {
     "end_time": "2019-08-29T17:29:13.318317Z",
     "start_time": "2019-08-29T17:29:13.289405Z"
    }
   },
   "outputs": [
    {
     "data": {
      "text/plain": [
       "[1107,\n",
       " 1108,\n",
       " 1108,\n",
       " 1106,\n",
       " 1108,\n",
       " 1107,\n",
       " 1108,\n",
       " 1108,\n",
       " 1108,\n",
       " 1108,\n",
       " 1099,\n",
       " 1100,\n",
       " 1108,\n",
       " 1107,\n",
       " 1108,\n",
       " 1094,\n",
       " 1108,\n",
       " 1097]"
      ]
     },
     "execution_count": 97,
     "metadata": {},
     "output_type": "execute_result"
    }
   ],
   "source": [
    "# get rows/images per experiment\n",
    "[len(df1[df1['experiment'] == x]) for x in experiments]"
   ]
  },
  {
   "cell_type": "code",
   "execution_count": 98,
   "metadata": {
    "ExecuteTime": {
     "end_time": "2019-08-29T17:29:13.782352Z",
     "start_time": "2019-08-29T17:29:13.767541Z"
    }
   },
   "outputs": [
    {
     "data": {
      "text/html": [
       "<div>\n",
       "<style scoped>\n",
       "    .dataframe tbody tr th:only-of-type {\n",
       "        vertical-align: middle;\n",
       "    }\n",
       "\n",
       "    .dataframe tbody tr th {\n",
       "        vertical-align: top;\n",
       "    }\n",
       "\n",
       "    .dataframe thead th {\n",
       "        text-align: right;\n",
       "    }\n",
       "</style>\n",
       "<table border=\"1\" class=\"dataframe\">\n",
       "  <thead>\n",
       "    <tr style=\"text-align: right;\">\n",
       "      <th></th>\n",
       "      <th>path</th>\n",
       "      <th>experiment</th>\n",
       "    </tr>\n",
       "  </thead>\n",
       "  <tbody>\n",
       "    <tr>\n",
       "      <th>19892</th>\n",
       "      <td>U2OS-05/Plate4/O19_s1</td>\n",
       "      <td>U2OS-05</td>\n",
       "    </tr>\n",
       "    <tr>\n",
       "      <th>19893</th>\n",
       "      <td>U2OS-05/Plate4/O20_s1</td>\n",
       "      <td>U2OS-05</td>\n",
       "    </tr>\n",
       "    <tr>\n",
       "      <th>19894</th>\n",
       "      <td>U2OS-05/Plate4/O21_s1</td>\n",
       "      <td>U2OS-05</td>\n",
       "    </tr>\n",
       "    <tr>\n",
       "      <th>19895</th>\n",
       "      <td>U2OS-05/Plate4/O22_s1</td>\n",
       "      <td>U2OS-05</td>\n",
       "    </tr>\n",
       "    <tr>\n",
       "      <th>19896</th>\n",
       "      <td>U2OS-05/Plate4/O23_s1</td>\n",
       "      <td>U2OS-05</td>\n",
       "    </tr>\n",
       "  </tbody>\n",
       "</table>\n",
       "</div>"
      ],
      "text/plain": [
       "                        path experiment\n",
       "19892  U2OS-05/Plate4/O19_s1    U2OS-05\n",
       "19893  U2OS-05/Plate4/O20_s1    U2OS-05\n",
       "19894  U2OS-05/Plate4/O21_s1    U2OS-05\n",
       "19895  U2OS-05/Plate4/O22_s1    U2OS-05\n",
       "19896  U2OS-05/Plate4/O23_s1    U2OS-05"
      ]
     },
     "execution_count": 98,
     "metadata": {},
     "output_type": "execute_result"
    }
   ],
   "source": [
    "df1.tail()"
   ]
  },
  {
   "cell_type": "code",
   "execution_count": 99,
   "metadata": {
    "ExecuteTime": {
     "end_time": "2019-08-29T17:29:14.456010Z",
     "start_time": "2019-08-29T17:29:14.443852Z"
    }
   },
   "outputs": [],
   "source": [
    "# copy dataframe to get rows for site 2\n",
    "df2 = df1.copy()"
   ]
  },
  {
   "cell_type": "code",
   "execution_count": 100,
   "metadata": {
    "ExecuteTime": {
     "end_time": "2019-08-29T17:29:14.897888Z",
     "start_time": "2019-08-29T17:29:14.882658Z"
    }
   },
   "outputs": [],
   "source": [
    "# replace site 1 with site 2\n",
    "df2['path'] = df2['path'].apply(lambda x: x[:-1]+'2')"
   ]
  },
  {
   "cell_type": "code",
   "execution_count": 101,
   "metadata": {
    "ExecuteTime": {
     "end_time": "2019-08-29T17:29:15.543103Z",
     "start_time": "2019-08-29T17:29:15.527862Z"
    }
   },
   "outputs": [
    {
     "data": {
      "text/html": [
       "<div>\n",
       "<style scoped>\n",
       "    .dataframe tbody tr th:only-of-type {\n",
       "        vertical-align: middle;\n",
       "    }\n",
       "\n",
       "    .dataframe tbody tr th {\n",
       "        vertical-align: top;\n",
       "    }\n",
       "\n",
       "    .dataframe thead th {\n",
       "        text-align: right;\n",
       "    }\n",
       "</style>\n",
       "<table border=\"1\" class=\"dataframe\">\n",
       "  <thead>\n",
       "    <tr style=\"text-align: right;\">\n",
       "      <th></th>\n",
       "      <th>path</th>\n",
       "      <th>experiment</th>\n",
       "    </tr>\n",
       "  </thead>\n",
       "  <tbody>\n",
       "    <tr>\n",
       "      <th>0</th>\n",
       "      <td>HEPG2-08/Plate1/B03_s2</td>\n",
       "      <td>HEPG2-08</td>\n",
       "    </tr>\n",
       "    <tr>\n",
       "      <th>1</th>\n",
       "      <td>HEPG2-08/Plate1/B04_s2</td>\n",
       "      <td>HEPG2-08</td>\n",
       "    </tr>\n",
       "    <tr>\n",
       "      <th>2</th>\n",
       "      <td>HEPG2-08/Plate1/B05_s2</td>\n",
       "      <td>HEPG2-08</td>\n",
       "    </tr>\n",
       "    <tr>\n",
       "      <th>3</th>\n",
       "      <td>HEPG2-08/Plate1/B06_s2</td>\n",
       "      <td>HEPG2-08</td>\n",
       "    </tr>\n",
       "    <tr>\n",
       "      <th>4</th>\n",
       "      <td>HEPG2-08/Plate1/B07_s2</td>\n",
       "      <td>HEPG2-08</td>\n",
       "    </tr>\n",
       "  </tbody>\n",
       "</table>\n",
       "</div>"
      ],
      "text/plain": [
       "                     path experiment\n",
       "0  HEPG2-08/Plate1/B03_s2   HEPG2-08\n",
       "1  HEPG2-08/Plate1/B04_s2   HEPG2-08\n",
       "2  HEPG2-08/Plate1/B05_s2   HEPG2-08\n",
       "3  HEPG2-08/Plate1/B06_s2   HEPG2-08\n",
       "4  HEPG2-08/Plate1/B07_s2   HEPG2-08"
      ]
     },
     "execution_count": 101,
     "metadata": {},
     "output_type": "execute_result"
    }
   ],
   "source": [
    "df2.head()"
   ]
  },
  {
   "cell_type": "code",
   "execution_count": 102,
   "metadata": {
    "ExecuteTime": {
     "end_time": "2019-08-29T17:29:16.226468Z",
     "start_time": "2019-08-29T17:29:16.211868Z"
    }
   },
   "outputs": [],
   "source": [
    "df_full = pd.concat((df1, df2))"
   ]
  },
  {
   "cell_type": "code",
   "execution_count": 103,
   "metadata": {
    "ExecuteTime": {
     "end_time": "2019-08-29T17:29:16.915296Z",
     "start_time": "2019-08-29T17:29:16.901671Z"
    }
   },
   "outputs": [
    {
     "data": {
      "text/plain": [
       "((19897, 2), (19897, 2), (39794, 2))"
      ]
     },
     "execution_count": 103,
     "metadata": {},
     "output_type": "execute_result"
    }
   ],
   "source": [
    "df1.shape, df2.shape, df_full.shape"
   ]
  },
  {
   "cell_type": "code",
   "execution_count": 104,
   "metadata": {
    "ExecuteTime": {
     "end_time": "2019-08-29T17:29:18.736181Z",
     "start_time": "2019-08-29T17:29:18.723086Z"
    }
   },
   "outputs": [
    {
     "data": {
      "text/plain": [
       "39794"
      ]
     },
     "execution_count": 104,
     "metadata": {},
     "output_type": "execute_result"
    }
   ],
   "source": [
    "df_full.shape[0]"
   ]
  },
  {
   "cell_type": "code",
   "execution_count": 51,
   "metadata": {
    "ExecuteTime": {
     "end_time": "2019-07-27T05:36:00.052807Z",
     "start_time": "2019-07-27T05:36:00.001926Z"
    }
   },
   "outputs": [],
   "source": [
    "df_full.to_csv('full_test_dataset_v2_20190727.csv')"
   ]
  },
  {
   "cell_type": "markdown",
   "metadata": {},
   "source": [
    "# v3"
   ]
  },
  {
   "cell_type": "markdown",
   "metadata": {},
   "source": [
    "## full_train_dataset_valid-split-ex_v3_20190731.csv"
   ]
  },
  {
   "cell_type": "code",
   "execution_count": 25,
   "metadata": {
    "ExecuteTime": {
     "end_time": "2019-08-01T18:58:42.372392Z",
     "start_time": "2019-08-01T18:58:42.341547Z"
    }
   },
   "outputs": [],
   "source": [
    "df_train = pd.read_csv('train.csv')"
   ]
  },
  {
   "cell_type": "code",
   "execution_count": 26,
   "metadata": {
    "ExecuteTime": {
     "end_time": "2019-08-01T18:58:47.430382Z",
     "start_time": "2019-08-01T18:58:47.419909Z"
    }
   },
   "outputs": [
    {
     "data": {
      "text/plain": [
       "(36515, 5)"
      ]
     },
     "execution_count": 26,
     "metadata": {},
     "output_type": "execute_result"
    }
   ],
   "source": [
    "df_train.shape"
   ]
  },
  {
   "cell_type": "code",
   "execution_count": 27,
   "metadata": {
    "ExecuteTime": {
     "end_time": "2019-08-01T18:59:05.935050Z",
     "start_time": "2019-08-01T18:59:05.914920Z"
    }
   },
   "outputs": [
    {
     "data": {
      "text/html": [
       "<div>\n",
       "<style scoped>\n",
       "    .dataframe tbody tr th:only-of-type {\n",
       "        vertical-align: middle;\n",
       "    }\n",
       "\n",
       "    .dataframe tbody tr th {\n",
       "        vertical-align: top;\n",
       "    }\n",
       "\n",
       "    .dataframe thead th {\n",
       "        text-align: right;\n",
       "    }\n",
       "</style>\n",
       "<table border=\"1\" class=\"dataframe\">\n",
       "  <thead>\n",
       "    <tr style=\"text-align: right;\">\n",
       "      <th></th>\n",
       "      <th>id_code</th>\n",
       "      <th>experiment</th>\n",
       "      <th>plate</th>\n",
       "      <th>well</th>\n",
       "      <th>sirna</th>\n",
       "    </tr>\n",
       "  </thead>\n",
       "  <tbody>\n",
       "    <tr>\n",
       "      <th>0</th>\n",
       "      <td>HEPG2-01_1_B03</td>\n",
       "      <td>HEPG2-01</td>\n",
       "      <td>1</td>\n",
       "      <td>B03</td>\n",
       "      <td>513</td>\n",
       "    </tr>\n",
       "    <tr>\n",
       "      <th>1</th>\n",
       "      <td>HEPG2-01_1_B04</td>\n",
       "      <td>HEPG2-01</td>\n",
       "      <td>1</td>\n",
       "      <td>B04</td>\n",
       "      <td>840</td>\n",
       "    </tr>\n",
       "    <tr>\n",
       "      <th>2</th>\n",
       "      <td>HEPG2-01_1_B05</td>\n",
       "      <td>HEPG2-01</td>\n",
       "      <td>1</td>\n",
       "      <td>B05</td>\n",
       "      <td>1020</td>\n",
       "    </tr>\n",
       "    <tr>\n",
       "      <th>3</th>\n",
       "      <td>HEPG2-01_1_B06</td>\n",
       "      <td>HEPG2-01</td>\n",
       "      <td>1</td>\n",
       "      <td>B06</td>\n",
       "      <td>254</td>\n",
       "    </tr>\n",
       "    <tr>\n",
       "      <th>4</th>\n",
       "      <td>HEPG2-01_1_B07</td>\n",
       "      <td>HEPG2-01</td>\n",
       "      <td>1</td>\n",
       "      <td>B07</td>\n",
       "      <td>144</td>\n",
       "    </tr>\n",
       "  </tbody>\n",
       "</table>\n",
       "</div>"
      ],
      "text/plain": [
       "          id_code experiment  plate well  sirna\n",
       "0  HEPG2-01_1_B03   HEPG2-01      1  B03    513\n",
       "1  HEPG2-01_1_B04   HEPG2-01      1  B04    840\n",
       "2  HEPG2-01_1_B05   HEPG2-01      1  B05   1020\n",
       "3  HEPG2-01_1_B06   HEPG2-01      1  B06    254\n",
       "4  HEPG2-01_1_B07   HEPG2-01      1  B07    144"
      ]
     },
     "execution_count": 27,
     "metadata": {},
     "output_type": "execute_result"
    }
   ],
   "source": [
    "df_train.head()"
   ]
  },
  {
   "cell_type": "code",
   "execution_count": 18,
   "metadata": {
    "ExecuteTime": {
     "end_time": "2019-07-31T20:00:01.318967Z",
     "start_time": "2019-07-31T20:00:01.301351Z"
    }
   },
   "outputs": [
    {
     "data": {
      "text/plain": [
       "(array(['HEPG2-01', 'HEPG2-02', 'HEPG2-03', 'HEPG2-04', 'HEPG2-05',\n",
       "        'HEPG2-06', 'HEPG2-07', 'HUVEC-01', 'HUVEC-02', 'HUVEC-03',\n",
       "        'HUVEC-04', 'HUVEC-05', 'HUVEC-06', 'HUVEC-07', 'HUVEC-08',\n",
       "        'HUVEC-09', 'HUVEC-10', 'HUVEC-11', 'HUVEC-12', 'HUVEC-13',\n",
       "        'HUVEC-14', 'HUVEC-15', 'HUVEC-16', 'RPE-01', 'RPE-02', 'RPE-03',\n",
       "        'RPE-04', 'RPE-05', 'RPE-06', 'RPE-07', 'U2OS-01', 'U2OS-02',\n",
       "        'U2OS-03'], dtype=object), 33)"
      ]
     },
     "execution_count": 18,
     "metadata": {},
     "output_type": "execute_result"
    }
   ],
   "source": [
    "df_train.experiment.unique(), len(df_train.experiment.unique())"
   ]
  },
  {
   "cell_type": "code",
   "execution_count": 19,
   "metadata": {
    "ExecuteTime": {
     "end_time": "2019-07-31T20:00:01.730421Z",
     "start_time": "2019-07-31T20:00:01.721478Z"
    }
   },
   "outputs": [],
   "source": [
    "experiments = ['HEPG2-01', 'HEPG2-02', 'HEPG2-03', 'HEPG2-04', 'HEPG2-05', 'HEPG2-06', 'HEPG2-07', \n",
    "               'HUVEC-01', 'HUVEC-02', 'HUVEC-03', 'HUVEC-04', 'HUVEC-05', 'HUVEC-06', 'HUVEC-07', \n",
    "               'HUVEC-08', 'HUVEC-09', 'HUVEC-10', 'HUVEC-11', 'HUVEC-12', 'HUVEC-13', 'HUVEC-14', \n",
    "               'HUVEC-15', 'HUVEC-16', \n",
    "               'RPE-01', 'RPE-02', 'RPE-03', 'RPE-04', 'RPE-05', 'RPE-06', 'RPE-07',\n",
    "               'U2OS-01', 'U2OS-02', 'U2OS-03'\n",
    "              ]"
   ]
  },
  {
   "cell_type": "code",
   "execution_count": 20,
   "metadata": {
    "ExecuteTime": {
     "end_time": "2019-07-31T20:00:02.170888Z",
     "start_time": "2019-07-31T20:00:02.133152Z"
    }
   },
   "outputs": [],
   "source": [
    "# setup empty df\n",
    "df1 = pd.DataFrame()\n",
    "# generate path without channel and image file suffix for open image function\n",
    "df1['path'] = df_train['experiment']+'/Plate'+df_train['plate'].apply(str)+'/'+df_train['well']+'_s1' #+'_w'\n"
   ]
  },
  {
   "cell_type": "code",
   "execution_count": 21,
   "metadata": {
    "ExecuteTime": {
     "end_time": "2019-07-31T20:00:02.539499Z",
     "start_time": "2019-07-31T20:00:02.526089Z"
    }
   },
   "outputs": [],
   "source": [
    "df1['experiment'] = df_train['experiment']"
   ]
  },
  {
   "cell_type": "code",
   "execution_count": 22,
   "metadata": {
    "ExecuteTime": {
     "end_time": "2019-07-31T20:00:02.865784Z",
     "start_time": "2019-07-31T20:00:02.836192Z"
    }
   },
   "outputs": [],
   "source": [
    "df1['sirna'] = df_train['sirna']"
   ]
  },
  {
   "cell_type": "code",
   "execution_count": 23,
   "metadata": {
    "ExecuteTime": {
     "end_time": "2019-07-31T20:00:03.141149Z",
     "start_time": "2019-07-31T20:00:03.112367Z"
    }
   },
   "outputs": [],
   "source": [
    "df1['multi'] = df_train['experiment'].apply(lambda x: x.split('/')[0])+' '+df_train['sirna'].apply(lambda x: str(x))\n"
   ]
  },
  {
   "cell_type": "code",
   "execution_count": 24,
   "metadata": {
    "ExecuteTime": {
     "end_time": "2019-07-31T20:00:03.494343Z",
     "start_time": "2019-07-31T20:00:03.478579Z"
    }
   },
   "outputs": [
    {
     "data": {
      "text/html": [
       "<div>\n",
       "<style scoped>\n",
       "    .dataframe tbody tr th:only-of-type {\n",
       "        vertical-align: middle;\n",
       "    }\n",
       "\n",
       "    .dataframe tbody tr th {\n",
       "        vertical-align: top;\n",
       "    }\n",
       "\n",
       "    .dataframe thead th {\n",
       "        text-align: right;\n",
       "    }\n",
       "</style>\n",
       "<table border=\"1\" class=\"dataframe\">\n",
       "  <thead>\n",
       "    <tr style=\"text-align: right;\">\n",
       "      <th></th>\n",
       "      <th>path</th>\n",
       "      <th>experiment</th>\n",
       "      <th>sirna</th>\n",
       "      <th>multi</th>\n",
       "    </tr>\n",
       "  </thead>\n",
       "  <tbody>\n",
       "    <tr>\n",
       "      <th>0</th>\n",
       "      <td>HEPG2-01/Plate1/B03_s1</td>\n",
       "      <td>HEPG2-01</td>\n",
       "      <td>513</td>\n",
       "      <td>HEPG2-01 513</td>\n",
       "    </tr>\n",
       "    <tr>\n",
       "      <th>1</th>\n",
       "      <td>HEPG2-01/Plate1/B04_s1</td>\n",
       "      <td>HEPG2-01</td>\n",
       "      <td>840</td>\n",
       "      <td>HEPG2-01 840</td>\n",
       "    </tr>\n",
       "    <tr>\n",
       "      <th>2</th>\n",
       "      <td>HEPG2-01/Plate1/B05_s1</td>\n",
       "      <td>HEPG2-01</td>\n",
       "      <td>1020</td>\n",
       "      <td>HEPG2-01 1020</td>\n",
       "    </tr>\n",
       "    <tr>\n",
       "      <th>3</th>\n",
       "      <td>HEPG2-01/Plate1/B06_s1</td>\n",
       "      <td>HEPG2-01</td>\n",
       "      <td>254</td>\n",
       "      <td>HEPG2-01 254</td>\n",
       "    </tr>\n",
       "    <tr>\n",
       "      <th>4</th>\n",
       "      <td>HEPG2-01/Plate1/B07_s1</td>\n",
       "      <td>HEPG2-01</td>\n",
       "      <td>144</td>\n",
       "      <td>HEPG2-01 144</td>\n",
       "    </tr>\n",
       "  </tbody>\n",
       "</table>\n",
       "</div>"
      ],
      "text/plain": [
       "                     path experiment  sirna          multi\n",
       "0  HEPG2-01/Plate1/B03_s1   HEPG2-01    513   HEPG2-01 513\n",
       "1  HEPG2-01/Plate1/B04_s1   HEPG2-01    840   HEPG2-01 840\n",
       "2  HEPG2-01/Plate1/B05_s1   HEPG2-01   1020  HEPG2-01 1020\n",
       "3  HEPG2-01/Plate1/B06_s1   HEPG2-01    254   HEPG2-01 254\n",
       "4  HEPG2-01/Plate1/B07_s1   HEPG2-01    144   HEPG2-01 144"
      ]
     },
     "execution_count": 24,
     "metadata": {},
     "output_type": "execute_result"
    }
   ],
   "source": [
    "df1.head()"
   ]
  },
  {
   "cell_type": "code",
   "execution_count": 25,
   "metadata": {
    "ExecuteTime": {
     "end_time": "2019-07-31T20:00:03.873142Z",
     "start_time": "2019-07-31T20:00:03.855221Z"
    }
   },
   "outputs": [],
   "source": [
    "# filter for experiments\n",
    "df1 = df1[df1['experiment'].isin(experiments)]"
   ]
  },
  {
   "cell_type": "code",
   "execution_count": 26,
   "metadata": {
    "ExecuteTime": {
     "end_time": "2019-07-31T20:00:04.510024Z",
     "start_time": "2019-07-31T20:00:04.454572Z"
    }
   },
   "outputs": [
    {
     "data": {
      "text/plain": [
       "[1106,\n",
       " 1106,\n",
       " 1108,\n",
       " 1108,\n",
       " 1108,\n",
       " 1108,\n",
       " 1106,\n",
       " 1108,\n",
       " 1108,\n",
       " 1108,\n",
       " 1108,\n",
       " 1108,\n",
       " 1107,\n",
       " 1107,\n",
       " 1108,\n",
       " 1108,\n",
       " 1108,\n",
       " 1108,\n",
       " 1108,\n",
       " 1102,\n",
       " 1090,\n",
       " 1094,\n",
       " 1108,\n",
       " 1108,\n",
       " 1108,\n",
       " 1108,\n",
       " 1107,\n",
       " 1108,\n",
       " 1106,\n",
       " 1108,\n",
       " 1108,\n",
       " 1108,\n",
       " 1108]"
      ]
     },
     "execution_count": 26,
     "metadata": {},
     "output_type": "execute_result"
    }
   ],
   "source": [
    "# get rows/images per experiment\n",
    "[len(df1[df1['experiment'] == x]) for x in experiments]"
   ]
  },
  {
   "cell_type": "code",
   "execution_count": 27,
   "metadata": {
    "ExecuteTime": {
     "end_time": "2019-07-31T20:00:05.092844Z",
     "start_time": "2019-07-31T20:00:05.076742Z"
    }
   },
   "outputs": [
    {
     "data": {
      "text/html": [
       "<div>\n",
       "<style scoped>\n",
       "    .dataframe tbody tr th:only-of-type {\n",
       "        vertical-align: middle;\n",
       "    }\n",
       "\n",
       "    .dataframe tbody tr th {\n",
       "        vertical-align: top;\n",
       "    }\n",
       "\n",
       "    .dataframe thead th {\n",
       "        text-align: right;\n",
       "    }\n",
       "</style>\n",
       "<table border=\"1\" class=\"dataframe\">\n",
       "  <thead>\n",
       "    <tr style=\"text-align: right;\">\n",
       "      <th></th>\n",
       "      <th>path</th>\n",
       "      <th>experiment</th>\n",
       "      <th>sirna</th>\n",
       "      <th>multi</th>\n",
       "    </tr>\n",
       "  </thead>\n",
       "  <tbody>\n",
       "    <tr>\n",
       "      <th>36510</th>\n",
       "      <td>U2OS-03/Plate4/O19_s1</td>\n",
       "      <td>U2OS-03</td>\n",
       "      <td>103</td>\n",
       "      <td>U2OS-03 103</td>\n",
       "    </tr>\n",
       "    <tr>\n",
       "      <th>36511</th>\n",
       "      <td>U2OS-03/Plate4/O20_s1</td>\n",
       "      <td>U2OS-03</td>\n",
       "      <td>202</td>\n",
       "      <td>U2OS-03 202</td>\n",
       "    </tr>\n",
       "    <tr>\n",
       "      <th>36512</th>\n",
       "      <td>U2OS-03/Plate4/O21_s1</td>\n",
       "      <td>U2OS-03</td>\n",
       "      <td>824</td>\n",
       "      <td>U2OS-03 824</td>\n",
       "    </tr>\n",
       "    <tr>\n",
       "      <th>36513</th>\n",
       "      <td>U2OS-03/Plate4/O22_s1</td>\n",
       "      <td>U2OS-03</td>\n",
       "      <td>328</td>\n",
       "      <td>U2OS-03 328</td>\n",
       "    </tr>\n",
       "    <tr>\n",
       "      <th>36514</th>\n",
       "      <td>U2OS-03/Plate4/O23_s1</td>\n",
       "      <td>U2OS-03</td>\n",
       "      <td>509</td>\n",
       "      <td>U2OS-03 509</td>\n",
       "    </tr>\n",
       "  </tbody>\n",
       "</table>\n",
       "</div>"
      ],
      "text/plain": [
       "                        path experiment  sirna        multi\n",
       "36510  U2OS-03/Plate4/O19_s1    U2OS-03    103  U2OS-03 103\n",
       "36511  U2OS-03/Plate4/O20_s1    U2OS-03    202  U2OS-03 202\n",
       "36512  U2OS-03/Plate4/O21_s1    U2OS-03    824  U2OS-03 824\n",
       "36513  U2OS-03/Plate4/O22_s1    U2OS-03    328  U2OS-03 328\n",
       "36514  U2OS-03/Plate4/O23_s1    U2OS-03    509  U2OS-03 509"
      ]
     },
     "execution_count": 27,
     "metadata": {},
     "output_type": "execute_result"
    }
   ],
   "source": [
    "df1.tail()"
   ]
  },
  {
   "cell_type": "code",
   "execution_count": 28,
   "metadata": {
    "ExecuteTime": {
     "end_time": "2019-07-31T20:00:05.870230Z",
     "start_time": "2019-07-31T20:00:05.861023Z"
    }
   },
   "outputs": [],
   "source": [
    "train_exp_split_1 = ['HEPG2-01', 'HEPG2-02', 'HEPG2-03',\n",
    "                     'HUVEC-01', 'HUVEC-02', 'HUVEC-03', 'HUVEC-04', 'HUVEC-06', 'HUVEC-13', 'HUVEC-07', \n",
    "                     'RPE-01', 'RPE-04',\n",
    "                     'U2OS-01']\n",
    "\n",
    "train_exp_split_2 = ['HEPG2-04', 'HEPG2-05',\n",
    "                     'HUVEC-08', 'HUVEC-09', 'HUVEC-10', 'HUVEC-11', 'HUVEC-12', 'HUVEC-05', 'HUVEC-14',\n",
    "                     'RPE-03', 'RPE-02', 'RPE-05',\n",
    "                     'U2OS-02']\n",
    "\n",
    "valid_exp_split = ['HEPG2-06', 'HEPG2-07',\n",
    "                   'HUVEC-15', 'HUVEC-16',\n",
    "                   'RPE-06', 'RPE-07',\n",
    "                   'U2OS-03']"
   ]
  },
  {
   "cell_type": "code",
   "execution_count": 29,
   "metadata": {
    "ExecuteTime": {
     "end_time": "2019-07-31T20:00:06.609903Z",
     "start_time": "2019-07-31T20:00:06.516212Z"
    }
   },
   "outputs": [],
   "source": [
    "# get rows/images per experiment\n",
    "len_total = sum([len(df1[df1['experiment'] == x]) for x in experiments])\n",
    "len_train_split_1 = sum([len(df1[df1['experiment'] == x]) for x in train_exp_split_1])\n",
    "len_train_split_2 = sum([len(df1[df1['experiment'] == x]) for x in train_exp_split_2])\n",
    "len_valid_split = sum([len(df1[df1['experiment'] == x]) for x in valid_exp_split])"
   ]
  },
  {
   "cell_type": "code",
   "execution_count": 30,
   "metadata": {
    "ExecuteTime": {
     "end_time": "2019-07-31T20:00:10.112408Z",
     "start_time": "2019-07-31T20:00:10.099494Z"
    }
   },
   "outputs": [],
   "source": [
    "from itertools import zip_longest"
   ]
  },
  {
   "cell_type": "code",
   "execution_count": 31,
   "metadata": {
    "ExecuteTime": {
     "end_time": "2019-07-31T20:00:10.723714Z",
     "start_time": "2019-07-31T20:00:10.678539Z"
    }
   },
   "outputs": [
    {
     "data": {
      "text/plain": [
       "[(('HEPG2-01', 1106), ('HEPG2-04', 1108)),\n",
       " (('HEPG2-02', 1106), ('HEPG2-05', 1108)),\n",
       " (('HEPG2-03', 1108), ('HUVEC-08', 1108)),\n",
       " (('HUVEC-01', 1108), ('HUVEC-09', 1108)),\n",
       " (('HUVEC-02', 1108), ('HUVEC-10', 1108)),\n",
       " (('HUVEC-03', 1108), ('HUVEC-11', 1108)),\n",
       " (('HUVEC-04', 1108), ('HUVEC-12', 1108)),\n",
       " (('HUVEC-06', 1107), ('HUVEC-05', 1108)),\n",
       " (('HUVEC-13', 1102), ('HUVEC-14', 1090)),\n",
       " (('HUVEC-07', 1107), ('RPE-03', 1108)),\n",
       " (('RPE-01', 1108), ('RPE-02', 1108)),\n",
       " (('RPE-04', 1107), ('RPE-05', 1108)),\n",
       " (('U2OS-01', 1108), ('U2OS-02', 1108))]"
      ]
     },
     "execution_count": 31,
     "metadata": {},
     "output_type": "execute_result"
    }
   ],
   "source": [
    "[*zip_longest([(x, len(df1[df1['experiment'] == x])) for x in train_exp_split_1], [(x, len(df1[df1['experiment'] == x])) for x in train_exp_split_2])]"
   ]
  },
  {
   "cell_type": "code",
   "execution_count": 32,
   "metadata": {
    "ExecuteTime": {
     "end_time": "2019-07-31T20:00:12.941838Z",
     "start_time": "2019-07-31T20:00:12.929040Z"
    }
   },
   "outputs": [
    {
     "data": {
      "text/plain": [
       "(36515, 14391, 14386, 7738)"
      ]
     },
     "execution_count": 32,
     "metadata": {},
     "output_type": "execute_result"
    }
   ],
   "source": [
    "len_total, len_train_split_1, len_train_split_2, len_valid_split"
   ]
  },
  {
   "cell_type": "code",
   "execution_count": 33,
   "metadata": {
    "ExecuteTime": {
     "end_time": "2019-07-31T20:00:13.603188Z",
     "start_time": "2019-07-31T20:00:13.590552Z"
    }
   },
   "outputs": [],
   "source": [
    "assert len_total == len_train_split_1+len_train_split_2+len_valid_split"
   ]
  },
  {
   "cell_type": "code",
   "execution_count": 34,
   "metadata": {
    "ExecuteTime": {
     "end_time": "2019-07-31T20:00:14.369578Z",
     "start_time": "2019-07-31T20:00:14.356740Z"
    }
   },
   "outputs": [
    {
     "data": {
      "text/plain": [
       "5"
      ]
     },
     "execution_count": 34,
     "metadata": {},
     "output_type": "execute_result"
    }
   ],
   "source": [
    "len_train_split_1 - len_train_split_2"
   ]
  },
  {
   "cell_type": "code",
   "execution_count": 35,
   "metadata": {
    "ExecuteTime": {
     "end_time": "2019-07-31T20:00:40.104892Z",
     "start_time": "2019-07-31T20:00:40.021906Z"
    }
   },
   "outputs": [],
   "source": [
    "df1['train1'] = 0\n",
    "df1['train1val'] = 0\n",
    "for c in train_exp_split_1:\n",
    "    df1.loc[df1['experiment'] == c,'train1'] = 1\n",
    "    df1.loc[df1['experiment'] == c,'train1val'] = 1"
   ]
  },
  {
   "cell_type": "code",
   "execution_count": 36,
   "metadata": {
    "ExecuteTime": {
     "end_time": "2019-07-31T20:00:43.953119Z",
     "start_time": "2019-07-31T20:00:43.904046Z"
    }
   },
   "outputs": [],
   "source": [
    "df1['train2'] = 0\n",
    "for c in train_exp_split_2:\n",
    "    df1.loc[df1['experiment'] == c,'train2'] = 1"
   ]
  },
  {
   "cell_type": "code",
   "execution_count": 37,
   "metadata": {
    "ExecuteTime": {
     "end_time": "2019-07-31T20:00:47.443500Z",
     "start_time": "2019-07-31T20:00:47.389937Z"
    }
   },
   "outputs": [],
   "source": [
    "df1['valid'] = 0\n",
    "for c in valid_exp_split:\n",
    "    df1.loc[df1['experiment'] == c,'valid'] = 1\n",
    "    # add validation to train1 otherwise databunch split is not working\n",
    "    df1.loc[df1['experiment'] == c,'train1val'] = 1"
   ]
  },
  {
   "cell_type": "code",
   "execution_count": 38,
   "metadata": {
    "ExecuteTime": {
     "end_time": "2019-07-31T20:00:49.669155Z",
     "start_time": "2019-07-31T20:00:49.652378Z"
    }
   },
   "outputs": [
    {
     "data": {
      "text/html": [
       "<div>\n",
       "<style scoped>\n",
       "    .dataframe tbody tr th:only-of-type {\n",
       "        vertical-align: middle;\n",
       "    }\n",
       "\n",
       "    .dataframe tbody tr th {\n",
       "        vertical-align: top;\n",
       "    }\n",
       "\n",
       "    .dataframe thead th {\n",
       "        text-align: right;\n",
       "    }\n",
       "</style>\n",
       "<table border=\"1\" class=\"dataframe\">\n",
       "  <thead>\n",
       "    <tr style=\"text-align: right;\">\n",
       "      <th></th>\n",
       "      <th>path</th>\n",
       "      <th>experiment</th>\n",
       "      <th>sirna</th>\n",
       "      <th>multi</th>\n",
       "      <th>train1</th>\n",
       "      <th>train1val</th>\n",
       "      <th>train2</th>\n",
       "      <th>valid</th>\n",
       "    </tr>\n",
       "  </thead>\n",
       "  <tbody>\n",
       "    <tr>\n",
       "      <th>36510</th>\n",
       "      <td>U2OS-03/Plate4/O19_s1</td>\n",
       "      <td>U2OS-03</td>\n",
       "      <td>103</td>\n",
       "      <td>U2OS-03 103</td>\n",
       "      <td>0</td>\n",
       "      <td>1</td>\n",
       "      <td>0</td>\n",
       "      <td>1</td>\n",
       "    </tr>\n",
       "    <tr>\n",
       "      <th>36511</th>\n",
       "      <td>U2OS-03/Plate4/O20_s1</td>\n",
       "      <td>U2OS-03</td>\n",
       "      <td>202</td>\n",
       "      <td>U2OS-03 202</td>\n",
       "      <td>0</td>\n",
       "      <td>1</td>\n",
       "      <td>0</td>\n",
       "      <td>1</td>\n",
       "    </tr>\n",
       "    <tr>\n",
       "      <th>36512</th>\n",
       "      <td>U2OS-03/Plate4/O21_s1</td>\n",
       "      <td>U2OS-03</td>\n",
       "      <td>824</td>\n",
       "      <td>U2OS-03 824</td>\n",
       "      <td>0</td>\n",
       "      <td>1</td>\n",
       "      <td>0</td>\n",
       "      <td>1</td>\n",
       "    </tr>\n",
       "    <tr>\n",
       "      <th>36513</th>\n",
       "      <td>U2OS-03/Plate4/O22_s1</td>\n",
       "      <td>U2OS-03</td>\n",
       "      <td>328</td>\n",
       "      <td>U2OS-03 328</td>\n",
       "      <td>0</td>\n",
       "      <td>1</td>\n",
       "      <td>0</td>\n",
       "      <td>1</td>\n",
       "    </tr>\n",
       "    <tr>\n",
       "      <th>36514</th>\n",
       "      <td>U2OS-03/Plate4/O23_s1</td>\n",
       "      <td>U2OS-03</td>\n",
       "      <td>509</td>\n",
       "      <td>U2OS-03 509</td>\n",
       "      <td>0</td>\n",
       "      <td>1</td>\n",
       "      <td>0</td>\n",
       "      <td>1</td>\n",
       "    </tr>\n",
       "  </tbody>\n",
       "</table>\n",
       "</div>"
      ],
      "text/plain": [
       "                        path experiment  sirna        multi  train1  \\\n",
       "36510  U2OS-03/Plate4/O19_s1    U2OS-03    103  U2OS-03 103       0   \n",
       "36511  U2OS-03/Plate4/O20_s1    U2OS-03    202  U2OS-03 202       0   \n",
       "36512  U2OS-03/Plate4/O21_s1    U2OS-03    824  U2OS-03 824       0   \n",
       "36513  U2OS-03/Plate4/O22_s1    U2OS-03    328  U2OS-03 328       0   \n",
       "36514  U2OS-03/Plate4/O23_s1    U2OS-03    509  U2OS-03 509       0   \n",
       "\n",
       "       train1val  train2  valid  \n",
       "36510          1       0      1  \n",
       "36511          1       0      1  \n",
       "36512          1       0      1  \n",
       "36513          1       0      1  \n",
       "36514          1       0      1  "
      ]
     },
     "execution_count": 38,
     "metadata": {},
     "output_type": "execute_result"
    }
   ],
   "source": [
    "df1.tail()"
   ]
  },
  {
   "cell_type": "code",
   "execution_count": 39,
   "metadata": {
    "ExecuteTime": {
     "end_time": "2019-07-31T20:00:50.240849Z",
     "start_time": "2019-07-31T20:00:50.226779Z"
    }
   },
   "outputs": [
    {
     "data": {
      "text/plain": [
       "(0.3941120087635218, 0.39397507873476656, 0.21191291250171163)"
      ]
     },
     "execution_count": 39,
     "metadata": {},
     "output_type": "execute_result"
    }
   ],
   "source": [
    "df1.train1.mean(), df1.train2.mean(), df1.valid.mean()"
   ]
  },
  {
   "cell_type": "code",
   "execution_count": 41,
   "metadata": {
    "ExecuteTime": {
     "end_time": "2019-07-31T20:01:00.704805Z",
     "start_time": "2019-07-31T20:01:00.691136Z"
    }
   },
   "outputs": [],
   "source": [
    "assert 1 == df1.train1.mean()+df1.train2.mean()+df1.valid.mean()"
   ]
  },
  {
   "cell_type": "code",
   "execution_count": 42,
   "metadata": {
    "ExecuteTime": {
     "end_time": "2019-07-31T20:01:03.277872Z",
     "start_time": "2019-07-31T20:01:03.264052Z"
    }
   },
   "outputs": [],
   "source": [
    "# copy dataframe to get rows for site 2\n",
    "df2 = df1.copy()"
   ]
  },
  {
   "cell_type": "code",
   "execution_count": 43,
   "metadata": {
    "ExecuteTime": {
     "end_time": "2019-07-31T20:01:03.791427Z",
     "start_time": "2019-07-31T20:01:03.771344Z"
    }
   },
   "outputs": [],
   "source": [
    "# replace site 1 with site 2\n",
    "df2['path'] = df2['path'].apply(lambda x: x[:-1]+'2')"
   ]
  },
  {
   "cell_type": "code",
   "execution_count": 44,
   "metadata": {
    "ExecuteTime": {
     "end_time": "2019-07-31T20:01:04.427627Z",
     "start_time": "2019-07-31T20:01:04.410822Z"
    }
   },
   "outputs": [
    {
     "data": {
      "text/html": [
       "<div>\n",
       "<style scoped>\n",
       "    .dataframe tbody tr th:only-of-type {\n",
       "        vertical-align: middle;\n",
       "    }\n",
       "\n",
       "    .dataframe tbody tr th {\n",
       "        vertical-align: top;\n",
       "    }\n",
       "\n",
       "    .dataframe thead th {\n",
       "        text-align: right;\n",
       "    }\n",
       "</style>\n",
       "<table border=\"1\" class=\"dataframe\">\n",
       "  <thead>\n",
       "    <tr style=\"text-align: right;\">\n",
       "      <th></th>\n",
       "      <th>path</th>\n",
       "      <th>experiment</th>\n",
       "      <th>sirna</th>\n",
       "      <th>multi</th>\n",
       "      <th>train1</th>\n",
       "      <th>train1val</th>\n",
       "      <th>train2</th>\n",
       "      <th>valid</th>\n",
       "    </tr>\n",
       "  </thead>\n",
       "  <tbody>\n",
       "    <tr>\n",
       "      <th>0</th>\n",
       "      <td>HEPG2-01/Plate1/B03_s2</td>\n",
       "      <td>HEPG2-01</td>\n",
       "      <td>513</td>\n",
       "      <td>HEPG2-01 513</td>\n",
       "      <td>1</td>\n",
       "      <td>1</td>\n",
       "      <td>0</td>\n",
       "      <td>0</td>\n",
       "    </tr>\n",
       "    <tr>\n",
       "      <th>1</th>\n",
       "      <td>HEPG2-01/Plate1/B04_s2</td>\n",
       "      <td>HEPG2-01</td>\n",
       "      <td>840</td>\n",
       "      <td>HEPG2-01 840</td>\n",
       "      <td>1</td>\n",
       "      <td>1</td>\n",
       "      <td>0</td>\n",
       "      <td>0</td>\n",
       "    </tr>\n",
       "    <tr>\n",
       "      <th>2</th>\n",
       "      <td>HEPG2-01/Plate1/B05_s2</td>\n",
       "      <td>HEPG2-01</td>\n",
       "      <td>1020</td>\n",
       "      <td>HEPG2-01 1020</td>\n",
       "      <td>1</td>\n",
       "      <td>1</td>\n",
       "      <td>0</td>\n",
       "      <td>0</td>\n",
       "    </tr>\n",
       "    <tr>\n",
       "      <th>3</th>\n",
       "      <td>HEPG2-01/Plate1/B06_s2</td>\n",
       "      <td>HEPG2-01</td>\n",
       "      <td>254</td>\n",
       "      <td>HEPG2-01 254</td>\n",
       "      <td>1</td>\n",
       "      <td>1</td>\n",
       "      <td>0</td>\n",
       "      <td>0</td>\n",
       "    </tr>\n",
       "    <tr>\n",
       "      <th>4</th>\n",
       "      <td>HEPG2-01/Plate1/B07_s2</td>\n",
       "      <td>HEPG2-01</td>\n",
       "      <td>144</td>\n",
       "      <td>HEPG2-01 144</td>\n",
       "      <td>1</td>\n",
       "      <td>1</td>\n",
       "      <td>0</td>\n",
       "      <td>0</td>\n",
       "    </tr>\n",
       "  </tbody>\n",
       "</table>\n",
       "</div>"
      ],
      "text/plain": [
       "                     path experiment  sirna          multi  train1  train1val  \\\n",
       "0  HEPG2-01/Plate1/B03_s2   HEPG2-01    513   HEPG2-01 513       1          1   \n",
       "1  HEPG2-01/Plate1/B04_s2   HEPG2-01    840   HEPG2-01 840       1          1   \n",
       "2  HEPG2-01/Plate1/B05_s2   HEPG2-01   1020  HEPG2-01 1020       1          1   \n",
       "3  HEPG2-01/Plate1/B06_s2   HEPG2-01    254   HEPG2-01 254       1          1   \n",
       "4  HEPG2-01/Plate1/B07_s2   HEPG2-01    144   HEPG2-01 144       1          1   \n",
       "\n",
       "   train2  valid  \n",
       "0       0      0  \n",
       "1       0      0  \n",
       "2       0      0  \n",
       "3       0      0  \n",
       "4       0      0  "
      ]
     },
     "execution_count": 44,
     "metadata": {},
     "output_type": "execute_result"
    }
   ],
   "source": [
    "df2.head()"
   ]
  },
  {
   "cell_type": "code",
   "execution_count": 58,
   "metadata": {
    "ExecuteTime": {
     "end_time": "2019-07-31T20:05:45.668419Z",
     "start_time": "2019-07-31T20:05:45.652259Z"
    }
   },
   "outputs": [],
   "source": [
    "# move the last 5 *_s2 files from train1 to train2 to have a same image count in train1 and train 2\n",
    "df2.loc[:4,['train1val']] = 0\n",
    "df2.loc[:4,['train2']] = 1"
   ]
  },
  {
   "cell_type": "code",
   "execution_count": 59,
   "metadata": {
    "ExecuteTime": {
     "end_time": "2019-07-31T20:05:46.493185Z",
     "start_time": "2019-07-31T20:05:46.476059Z"
    }
   },
   "outputs": [
    {
     "data": {
      "text/html": [
       "<div>\n",
       "<style scoped>\n",
       "    .dataframe tbody tr th:only-of-type {\n",
       "        vertical-align: middle;\n",
       "    }\n",
       "\n",
       "    .dataframe tbody tr th {\n",
       "        vertical-align: top;\n",
       "    }\n",
       "\n",
       "    .dataframe thead th {\n",
       "        text-align: right;\n",
       "    }\n",
       "</style>\n",
       "<table border=\"1\" class=\"dataframe\">\n",
       "  <thead>\n",
       "    <tr style=\"text-align: right;\">\n",
       "      <th></th>\n",
       "      <th>path</th>\n",
       "      <th>experiment</th>\n",
       "      <th>sirna</th>\n",
       "      <th>multi</th>\n",
       "      <th>train1</th>\n",
       "      <th>train1val</th>\n",
       "      <th>train2</th>\n",
       "      <th>valid</th>\n",
       "    </tr>\n",
       "  </thead>\n",
       "  <tbody>\n",
       "    <tr>\n",
       "      <th>0</th>\n",
       "      <td>HEPG2-01/Plate1/B03_s2</td>\n",
       "      <td>HEPG2-01</td>\n",
       "      <td>513</td>\n",
       "      <td>HEPG2-01 513</td>\n",
       "      <td>0</td>\n",
       "      <td>0</td>\n",
       "      <td>1</td>\n",
       "      <td>0</td>\n",
       "    </tr>\n",
       "    <tr>\n",
       "      <th>1</th>\n",
       "      <td>HEPG2-01/Plate1/B04_s2</td>\n",
       "      <td>HEPG2-01</td>\n",
       "      <td>840</td>\n",
       "      <td>HEPG2-01 840</td>\n",
       "      <td>0</td>\n",
       "      <td>0</td>\n",
       "      <td>1</td>\n",
       "      <td>0</td>\n",
       "    </tr>\n",
       "    <tr>\n",
       "      <th>2</th>\n",
       "      <td>HEPG2-01/Plate1/B05_s2</td>\n",
       "      <td>HEPG2-01</td>\n",
       "      <td>1020</td>\n",
       "      <td>HEPG2-01 1020</td>\n",
       "      <td>0</td>\n",
       "      <td>0</td>\n",
       "      <td>1</td>\n",
       "      <td>0</td>\n",
       "    </tr>\n",
       "    <tr>\n",
       "      <th>3</th>\n",
       "      <td>HEPG2-01/Plate1/B06_s2</td>\n",
       "      <td>HEPG2-01</td>\n",
       "      <td>254</td>\n",
       "      <td>HEPG2-01 254</td>\n",
       "      <td>0</td>\n",
       "      <td>0</td>\n",
       "      <td>1</td>\n",
       "      <td>0</td>\n",
       "    </tr>\n",
       "    <tr>\n",
       "      <th>4</th>\n",
       "      <td>HEPG2-01/Plate1/B07_s2</td>\n",
       "      <td>HEPG2-01</td>\n",
       "      <td>144</td>\n",
       "      <td>HEPG2-01 144</td>\n",
       "      <td>0</td>\n",
       "      <td>0</td>\n",
       "      <td>1</td>\n",
       "      <td>0</td>\n",
       "    </tr>\n",
       "    <tr>\n",
       "      <th>5</th>\n",
       "      <td>HEPG2-01/Plate1/B08_s2</td>\n",
       "      <td>HEPG2-01</td>\n",
       "      <td>503</td>\n",
       "      <td>HEPG2-01 503</td>\n",
       "      <td>1</td>\n",
       "      <td>1</td>\n",
       "      <td>0</td>\n",
       "      <td>0</td>\n",
       "    </tr>\n",
       "  </tbody>\n",
       "</table>\n",
       "</div>"
      ],
      "text/plain": [
       "                     path experiment  sirna          multi  train1  train1val  \\\n",
       "0  HEPG2-01/Plate1/B03_s2   HEPG2-01    513   HEPG2-01 513       0          0   \n",
       "1  HEPG2-01/Plate1/B04_s2   HEPG2-01    840   HEPG2-01 840       0          0   \n",
       "2  HEPG2-01/Plate1/B05_s2   HEPG2-01   1020  HEPG2-01 1020       0          0   \n",
       "3  HEPG2-01/Plate1/B06_s2   HEPG2-01    254   HEPG2-01 254       0          0   \n",
       "4  HEPG2-01/Plate1/B07_s2   HEPG2-01    144   HEPG2-01 144       0          0   \n",
       "5  HEPG2-01/Plate1/B08_s2   HEPG2-01    503   HEPG2-01 503       1          1   \n",
       "\n",
       "   train2  valid  \n",
       "0       1      0  \n",
       "1       1      0  \n",
       "2       1      0  \n",
       "3       1      0  \n",
       "4       1      0  \n",
       "5       0      0  "
      ]
     },
     "execution_count": 59,
     "metadata": {},
     "output_type": "execute_result"
    }
   ],
   "source": [
    "df2.head(6)"
   ]
  },
  {
   "cell_type": "code",
   "execution_count": 60,
   "metadata": {
    "ExecuteTime": {
     "end_time": "2019-07-31T20:05:49.750608Z",
     "start_time": "2019-07-31T20:05:49.731269Z"
    }
   },
   "outputs": [],
   "source": [
    "df_full = pd.concat((df1, df2))"
   ]
  },
  {
   "cell_type": "code",
   "execution_count": 62,
   "metadata": {
    "ExecuteTime": {
     "end_time": "2019-07-31T20:06:10.465668Z",
     "start_time": "2019-07-31T20:06:10.450181Z"
    }
   },
   "outputs": [
    {
     "data": {
      "text/plain": [
       "(28777, 28777, 28777)"
      ]
     },
     "execution_count": 62,
     "metadata": {},
     "output_type": "execute_result"
    }
   ],
   "source": [
    "df_full.train1.sum(), df_full.train1val.sum()-df_full.valid.sum(), df_full.train2.sum()"
   ]
  },
  {
   "cell_type": "code",
   "execution_count": 63,
   "metadata": {
    "ExecuteTime": {
     "end_time": "2019-07-31T20:06:11.687213Z",
     "start_time": "2019-07-31T20:06:11.673355Z"
    }
   },
   "outputs": [
    {
     "data": {
      "text/plain": [
       "0"
      ]
     },
     "execution_count": 63,
     "metadata": {},
     "output_type": "execute_result"
    }
   ],
   "source": [
    "df_full.train1.sum()-df_full.train2.sum()"
   ]
  },
  {
   "cell_type": "code",
   "execution_count": 64,
   "metadata": {
    "ExecuteTime": {
     "end_time": "2019-07-31T20:06:13.429676Z",
     "start_time": "2019-07-31T20:06:13.416705Z"
    }
   },
   "outputs": [
    {
     "data": {
      "text/plain": [
       "((36515, 8), (36515, 8), (73030, 8))"
      ]
     },
     "execution_count": 64,
     "metadata": {},
     "output_type": "execute_result"
    }
   ],
   "source": [
    "df1.shape, df2.shape, df_full.shape"
   ]
  },
  {
   "cell_type": "code",
   "execution_count": 65,
   "metadata": {
    "ExecuteTime": {
     "end_time": "2019-07-31T20:06:13.818026Z",
     "start_time": "2019-07-31T20:06:13.789068Z"
    }
   },
   "outputs": [
    {
     "data": {
      "text/plain": [
       "15476"
      ]
     },
     "execution_count": 65,
     "metadata": {},
     "output_type": "execute_result"
    }
   ],
   "source": [
    "df_full.pivot_table(values='valid', index='experiment', aggfunc='sum')['valid'].sum()"
   ]
  },
  {
   "cell_type": "code",
   "execution_count": 66,
   "metadata": {
    "ExecuteTime": {
     "end_time": "2019-07-31T20:06:14.215293Z",
     "start_time": "2019-07-31T20:06:14.201945Z"
    }
   },
   "outputs": [
    {
     "data": {
      "text/plain": [
       "73030"
      ]
     },
     "execution_count": 66,
     "metadata": {},
     "output_type": "execute_result"
    }
   ],
   "source": [
    "df_full.shape[0]"
   ]
  },
  {
   "cell_type": "code",
   "execution_count": 67,
   "metadata": {
    "ExecuteTime": {
     "end_time": "2019-07-31T20:06:14.833888Z",
     "start_time": "2019-07-31T20:06:14.812973Z"
    }
   },
   "outputs": [
    {
     "data": {
      "text/plain": [
       "0.21191291250171163"
      ]
     },
     "execution_count": 67,
     "metadata": {},
     "output_type": "execute_result"
    }
   ],
   "source": [
    "df_full.pivot_table(values='valid', index='experiment', aggfunc='sum')['valid'].sum()/df_full.shape[0]"
   ]
  },
  {
   "cell_type": "code",
   "execution_count": 68,
   "metadata": {
    "ExecuteTime": {
     "end_time": "2019-07-31T20:06:15.788325Z",
     "start_time": "2019-07-31T20:06:15.505722Z"
    }
   },
   "outputs": [],
   "source": [
    "df_full.to_csv('full_train_dataset_valid-split-ex_v3_20190731.csv')"
   ]
  },
  {
   "cell_type": "markdown",
   "metadata": {},
   "source": [
    "# v2 + plate groups"
   ]
  },
  {
   "cell_type": "code",
   "execution_count": 88,
   "metadata": {
    "ExecuteTime": {
     "end_time": "2019-08-29T17:29:06.358449Z",
     "start_time": "2019-08-29T17:29:06.343128Z"
    }
   },
   "outputs": [],
   "source": [
    "df_full_train = df_full.copy()"
   ]
  },
  {
   "cell_type": "code",
   "execution_count": 105,
   "metadata": {
    "ExecuteTime": {
     "end_time": "2019-08-29T17:29:22.275305Z",
     "start_time": "2019-08-29T17:29:22.261625Z"
    }
   },
   "outputs": [],
   "source": [
    "df_full_test = df_full.copy()"
   ]
  },
  {
   "cell_type": "code",
   "execution_count": 106,
   "metadata": {
    "ExecuteTime": {
     "end_time": "2019-08-29T17:29:22.891814Z",
     "start_time": "2019-08-29T17:29:22.879181Z"
    }
   },
   "outputs": [
    {
     "data": {
      "text/plain": [
       "(73030, 5)"
      ]
     },
     "execution_count": 106,
     "metadata": {},
     "output_type": "execute_result"
    }
   ],
   "source": [
    "df_full_train.shape"
   ]
  },
  {
   "cell_type": "code",
   "execution_count": 107,
   "metadata": {
    "ExecuteTime": {
     "end_time": "2019-08-29T17:29:23.625868Z",
     "start_time": "2019-08-29T17:29:23.613074Z"
    }
   },
   "outputs": [
    {
     "data": {
      "text/plain": [
       "(39794, 2)"
      ]
     },
     "execution_count": 107,
     "metadata": {},
     "output_type": "execute_result"
    }
   ],
   "source": [
    "df_full_test.shape"
   ]
  },
  {
   "cell_type": "code",
   "execution_count": 108,
   "metadata": {
    "ExecuteTime": {
     "end_time": "2019-08-29T17:29:24.286566Z",
     "start_time": "2019-08-29T17:29:24.270248Z"
    }
   },
   "outputs": [
    {
     "data": {
      "text/html": [
       "<div>\n",
       "<style scoped>\n",
       "    .dataframe tbody tr th:only-of-type {\n",
       "        vertical-align: middle;\n",
       "    }\n",
       "\n",
       "    .dataframe tbody tr th {\n",
       "        vertical-align: top;\n",
       "    }\n",
       "\n",
       "    .dataframe thead th {\n",
       "        text-align: right;\n",
       "    }\n",
       "</style>\n",
       "<table border=\"1\" class=\"dataframe\">\n",
       "  <thead>\n",
       "    <tr style=\"text-align: right;\">\n",
       "      <th></th>\n",
       "      <th>path</th>\n",
       "      <th>experiment</th>\n",
       "      <th>sirna</th>\n",
       "      <th>multi</th>\n",
       "      <th>valid</th>\n",
       "    </tr>\n",
       "  </thead>\n",
       "  <tbody>\n",
       "    <tr>\n",
       "      <th>0</th>\n",
       "      <td>HEPG2-01/Plate1/B03_s1</td>\n",
       "      <td>HEPG2-01</td>\n",
       "      <td>513</td>\n",
       "      <td>HEPG2-01 513</td>\n",
       "      <td>0</td>\n",
       "    </tr>\n",
       "    <tr>\n",
       "      <th>1</th>\n",
       "      <td>HEPG2-01/Plate1/B04_s1</td>\n",
       "      <td>HEPG2-01</td>\n",
       "      <td>840</td>\n",
       "      <td>HEPG2-01 840</td>\n",
       "      <td>0</td>\n",
       "    </tr>\n",
       "    <tr>\n",
       "      <th>2</th>\n",
       "      <td>HEPG2-01/Plate1/B05_s1</td>\n",
       "      <td>HEPG2-01</td>\n",
       "      <td>1020</td>\n",
       "      <td>HEPG2-01 1020</td>\n",
       "      <td>0</td>\n",
       "    </tr>\n",
       "    <tr>\n",
       "      <th>3</th>\n",
       "      <td>HEPG2-01/Plate1/B06_s1</td>\n",
       "      <td>HEPG2-01</td>\n",
       "      <td>254</td>\n",
       "      <td>HEPG2-01 254</td>\n",
       "      <td>0</td>\n",
       "    </tr>\n",
       "    <tr>\n",
       "      <th>4</th>\n",
       "      <td>HEPG2-01/Plate1/B07_s1</td>\n",
       "      <td>HEPG2-01</td>\n",
       "      <td>144</td>\n",
       "      <td>HEPG2-01 144</td>\n",
       "      <td>0</td>\n",
       "    </tr>\n",
       "  </tbody>\n",
       "</table>\n",
       "</div>"
      ],
      "text/plain": [
       "                     path experiment  sirna          multi  valid\n",
       "0  HEPG2-01/Plate1/B03_s1   HEPG2-01    513   HEPG2-01 513      0\n",
       "1  HEPG2-01/Plate1/B04_s1   HEPG2-01    840   HEPG2-01 840      0\n",
       "2  HEPG2-01/Plate1/B05_s1   HEPG2-01   1020  HEPG2-01 1020      0\n",
       "3  HEPG2-01/Plate1/B06_s1   HEPG2-01    254   HEPG2-01 254      0\n",
       "4  HEPG2-01/Plate1/B07_s1   HEPG2-01    144   HEPG2-01 144      0"
      ]
     },
     "execution_count": 108,
     "metadata": {},
     "output_type": "execute_result"
    }
   ],
   "source": [
    "df_full_train.head()"
   ]
  },
  {
   "cell_type": "code",
   "execution_count": 109,
   "metadata": {
    "ExecuteTime": {
     "end_time": "2019-08-29T17:29:26.369710Z",
     "start_time": "2019-08-29T17:29:26.354193Z"
    }
   },
   "outputs": [
    {
     "data": {
      "text/html": [
       "<div>\n",
       "<style scoped>\n",
       "    .dataframe tbody tr th:only-of-type {\n",
       "        vertical-align: middle;\n",
       "    }\n",
       "\n",
       "    .dataframe tbody tr th {\n",
       "        vertical-align: top;\n",
       "    }\n",
       "\n",
       "    .dataframe thead th {\n",
       "        text-align: right;\n",
       "    }\n",
       "</style>\n",
       "<table border=\"1\" class=\"dataframe\">\n",
       "  <thead>\n",
       "    <tr style=\"text-align: right;\">\n",
       "      <th></th>\n",
       "      <th>path</th>\n",
       "      <th>experiment</th>\n",
       "    </tr>\n",
       "  </thead>\n",
       "  <tbody>\n",
       "    <tr>\n",
       "      <th>0</th>\n",
       "      <td>HEPG2-08/Plate1/B03_s1</td>\n",
       "      <td>HEPG2-08</td>\n",
       "    </tr>\n",
       "    <tr>\n",
       "      <th>1</th>\n",
       "      <td>HEPG2-08/Plate1/B04_s1</td>\n",
       "      <td>HEPG2-08</td>\n",
       "    </tr>\n",
       "    <tr>\n",
       "      <th>2</th>\n",
       "      <td>HEPG2-08/Plate1/B05_s1</td>\n",
       "      <td>HEPG2-08</td>\n",
       "    </tr>\n",
       "    <tr>\n",
       "      <th>3</th>\n",
       "      <td>HEPG2-08/Plate1/B06_s1</td>\n",
       "      <td>HEPG2-08</td>\n",
       "    </tr>\n",
       "    <tr>\n",
       "      <th>4</th>\n",
       "      <td>HEPG2-08/Plate1/B07_s1</td>\n",
       "      <td>HEPG2-08</td>\n",
       "    </tr>\n",
       "  </tbody>\n",
       "</table>\n",
       "</div>"
      ],
      "text/plain": [
       "                     path experiment\n",
       "0  HEPG2-08/Plate1/B03_s1   HEPG2-08\n",
       "1  HEPG2-08/Plate1/B04_s1   HEPG2-08\n",
       "2  HEPG2-08/Plate1/B05_s1   HEPG2-08\n",
       "3  HEPG2-08/Plate1/B06_s1   HEPG2-08\n",
       "4  HEPG2-08/Plate1/B07_s1   HEPG2-08"
      ]
     },
     "execution_count": 109,
     "metadata": {},
     "output_type": "execute_result"
    }
   ],
   "source": [
    "df_full_test.head()"
   ]
  },
  {
   "cell_type": "code",
   "execution_count": 110,
   "metadata": {
    "ExecuteTime": {
     "end_time": "2019-08-29T17:29:29.382685Z",
     "start_time": "2019-08-29T17:29:29.361801Z"
    }
   },
   "outputs": [],
   "source": [
    "train_plate_groups = pd.read_csv('train_plate_groups.csv', names=['experiment','group'])"
   ]
  },
  {
   "cell_type": "code",
   "execution_count": 111,
   "metadata": {
    "ExecuteTime": {
     "end_time": "2019-08-29T17:29:30.056510Z",
     "start_time": "2019-08-29T17:29:30.035764Z"
    }
   },
   "outputs": [],
   "source": [
    "test_plate_groups = pd.read_csv('test_plate_groups.csv', names=['experiment','group'])"
   ]
  },
  {
   "cell_type": "code",
   "execution_count": 112,
   "metadata": {
    "ExecuteTime": {
     "end_time": "2019-08-29T17:29:30.721982Z",
     "start_time": "2019-08-29T17:29:30.707649Z"
    }
   },
   "outputs": [
    {
     "data": {
      "text/html": [
       "<div>\n",
       "<style scoped>\n",
       "    .dataframe tbody tr th:only-of-type {\n",
       "        vertical-align: middle;\n",
       "    }\n",
       "\n",
       "    .dataframe tbody tr th {\n",
       "        vertical-align: top;\n",
       "    }\n",
       "\n",
       "    .dataframe thead th {\n",
       "        text-align: right;\n",
       "    }\n",
       "</style>\n",
       "<table border=\"1\" class=\"dataframe\">\n",
       "  <thead>\n",
       "    <tr style=\"text-align: right;\">\n",
       "      <th></th>\n",
       "      <th>experiment</th>\n",
       "      <th>group</th>\n",
       "    </tr>\n",
       "  </thead>\n",
       "  <tbody>\n",
       "    <tr>\n",
       "      <th>0</th>\n",
       "      <td>HEPG2-01</td>\n",
       "      <td>0</td>\n",
       "    </tr>\n",
       "    <tr>\n",
       "      <th>1</th>\n",
       "      <td>HEPG2-02</td>\n",
       "      <td>0</td>\n",
       "    </tr>\n",
       "    <tr>\n",
       "      <th>2</th>\n",
       "      <td>HEPG2-03</td>\n",
       "      <td>0</td>\n",
       "    </tr>\n",
       "    <tr>\n",
       "      <th>3</th>\n",
       "      <td>HEPG2-04</td>\n",
       "      <td>0</td>\n",
       "    </tr>\n",
       "    <tr>\n",
       "      <th>4</th>\n",
       "      <td>HEPG2-05</td>\n",
       "      <td>1</td>\n",
       "    </tr>\n",
       "    <tr>\n",
       "      <th>5</th>\n",
       "      <td>HEPG2-06</td>\n",
       "      <td>0</td>\n",
       "    </tr>\n",
       "    <tr>\n",
       "      <th>6</th>\n",
       "      <td>HEPG2-07</td>\n",
       "      <td>0</td>\n",
       "    </tr>\n",
       "    <tr>\n",
       "      <th>7</th>\n",
       "      <td>HUVEC-01</td>\n",
       "      <td>0</td>\n",
       "    </tr>\n",
       "    <tr>\n",
       "      <th>8</th>\n",
       "      <td>HUVEC-02</td>\n",
       "      <td>0</td>\n",
       "    </tr>\n",
       "    <tr>\n",
       "      <th>9</th>\n",
       "      <td>HUVEC-03</td>\n",
       "      <td>0</td>\n",
       "    </tr>\n",
       "    <tr>\n",
       "      <th>10</th>\n",
       "      <td>HUVEC-04</td>\n",
       "      <td>0</td>\n",
       "    </tr>\n",
       "    <tr>\n",
       "      <th>11</th>\n",
       "      <td>HUVEC-05</td>\n",
       "      <td>0</td>\n",
       "    </tr>\n",
       "    <tr>\n",
       "      <th>12</th>\n",
       "      <td>HUVEC-06</td>\n",
       "      <td>0</td>\n",
       "    </tr>\n",
       "    <tr>\n",
       "      <th>13</th>\n",
       "      <td>HUVEC-07</td>\n",
       "      <td>1</td>\n",
       "    </tr>\n",
       "    <tr>\n",
       "      <th>14</th>\n",
       "      <td>HUVEC-08</td>\n",
       "      <td>0</td>\n",
       "    </tr>\n",
       "    <tr>\n",
       "      <th>15</th>\n",
       "      <td>HUVEC-09</td>\n",
       "      <td>2</td>\n",
       "    </tr>\n",
       "    <tr>\n",
       "      <th>16</th>\n",
       "      <td>HUVEC-10</td>\n",
       "      <td>2</td>\n",
       "    </tr>\n",
       "    <tr>\n",
       "      <th>17</th>\n",
       "      <td>HUVEC-11</td>\n",
       "      <td>1</td>\n",
       "    </tr>\n",
       "    <tr>\n",
       "      <th>18</th>\n",
       "      <td>HUVEC-12</td>\n",
       "      <td>0</td>\n",
       "    </tr>\n",
       "    <tr>\n",
       "      <th>19</th>\n",
       "      <td>HUVEC-13</td>\n",
       "      <td>1</td>\n",
       "    </tr>\n",
       "    <tr>\n",
       "      <th>20</th>\n",
       "      <td>HUVEC-14</td>\n",
       "      <td>1</td>\n",
       "    </tr>\n",
       "    <tr>\n",
       "      <th>21</th>\n",
       "      <td>HUVEC-15</td>\n",
       "      <td>2</td>\n",
       "    </tr>\n",
       "    <tr>\n",
       "      <th>22</th>\n",
       "      <td>HUVEC-16</td>\n",
       "      <td>0</td>\n",
       "    </tr>\n",
       "    <tr>\n",
       "      <th>23</th>\n",
       "      <td>RPE-01</td>\n",
       "      <td>0</td>\n",
       "    </tr>\n",
       "    <tr>\n",
       "      <th>24</th>\n",
       "      <td>RPE-02</td>\n",
       "      <td>0</td>\n",
       "    </tr>\n",
       "    <tr>\n",
       "      <th>25</th>\n",
       "      <td>RPE-03</td>\n",
       "      <td>2</td>\n",
       "    </tr>\n",
       "    <tr>\n",
       "      <th>26</th>\n",
       "      <td>RPE-04</td>\n",
       "      <td>0</td>\n",
       "    </tr>\n",
       "    <tr>\n",
       "      <th>27</th>\n",
       "      <td>RPE-05</td>\n",
       "      <td>0</td>\n",
       "    </tr>\n",
       "    <tr>\n",
       "      <th>28</th>\n",
       "      <td>RPE-06</td>\n",
       "      <td>1</td>\n",
       "    </tr>\n",
       "    <tr>\n",
       "      <th>29</th>\n",
       "      <td>RPE-07</td>\n",
       "      <td>0</td>\n",
       "    </tr>\n",
       "    <tr>\n",
       "      <th>30</th>\n",
       "      <td>U2OS-01</td>\n",
       "      <td>1</td>\n",
       "    </tr>\n",
       "    <tr>\n",
       "      <th>31</th>\n",
       "      <td>U2OS-02</td>\n",
       "      <td>0</td>\n",
       "    </tr>\n",
       "    <tr>\n",
       "      <th>32</th>\n",
       "      <td>U2OS-03</td>\n",
       "      <td>0</td>\n",
       "    </tr>\n",
       "  </tbody>\n",
       "</table>\n",
       "</div>"
      ],
      "text/plain": [
       "   experiment  group\n",
       "0    HEPG2-01      0\n",
       "1    HEPG2-02      0\n",
       "2    HEPG2-03      0\n",
       "3    HEPG2-04      0\n",
       "4    HEPG2-05      1\n",
       "5    HEPG2-06      0\n",
       "6    HEPG2-07      0\n",
       "7    HUVEC-01      0\n",
       "8    HUVEC-02      0\n",
       "9    HUVEC-03      0\n",
       "10   HUVEC-04      0\n",
       "11   HUVEC-05      0\n",
       "12   HUVEC-06      0\n",
       "13   HUVEC-07      1\n",
       "14   HUVEC-08      0\n",
       "15   HUVEC-09      2\n",
       "16   HUVEC-10      2\n",
       "17   HUVEC-11      1\n",
       "18   HUVEC-12      0\n",
       "19   HUVEC-13      1\n",
       "20   HUVEC-14      1\n",
       "21   HUVEC-15      2\n",
       "22   HUVEC-16      0\n",
       "23     RPE-01      0\n",
       "24     RPE-02      0\n",
       "25     RPE-03      2\n",
       "26     RPE-04      0\n",
       "27     RPE-05      0\n",
       "28     RPE-06      1\n",
       "29     RPE-07      0\n",
       "30    U2OS-01      1\n",
       "31    U2OS-02      0\n",
       "32    U2OS-03      0"
      ]
     },
     "execution_count": 112,
     "metadata": {},
     "output_type": "execute_result"
    }
   ],
   "source": [
    "train_plate_groups"
   ]
  },
  {
   "cell_type": "code",
   "execution_count": 113,
   "metadata": {
    "ExecuteTime": {
     "end_time": "2019-08-29T17:29:32.379884Z",
     "start_time": "2019-08-29T17:29:32.365090Z"
    }
   },
   "outputs": [
    {
     "data": {
      "text/html": [
       "<div>\n",
       "<style scoped>\n",
       "    .dataframe tbody tr th:only-of-type {\n",
       "        vertical-align: middle;\n",
       "    }\n",
       "\n",
       "    .dataframe tbody tr th {\n",
       "        vertical-align: top;\n",
       "    }\n",
       "\n",
       "    .dataframe thead th {\n",
       "        text-align: right;\n",
       "    }\n",
       "</style>\n",
       "<table border=\"1\" class=\"dataframe\">\n",
       "  <thead>\n",
       "    <tr style=\"text-align: right;\">\n",
       "      <th></th>\n",
       "      <th>experiment</th>\n",
       "      <th>group</th>\n",
       "    </tr>\n",
       "  </thead>\n",
       "  <tbody>\n",
       "    <tr>\n",
       "      <th>0</th>\n",
       "      <td>HEPG2-08</td>\n",
       "      <td>3</td>\n",
       "    </tr>\n",
       "    <tr>\n",
       "      <th>1</th>\n",
       "      <td>HEPG2-09</td>\n",
       "      <td>1</td>\n",
       "    </tr>\n",
       "    <tr>\n",
       "      <th>2</th>\n",
       "      <td>HEPG2-10</td>\n",
       "      <td>0</td>\n",
       "    </tr>\n",
       "    <tr>\n",
       "      <th>3</th>\n",
       "      <td>HEPG2-11</td>\n",
       "      <td>0</td>\n",
       "    </tr>\n",
       "    <tr>\n",
       "      <th>4</th>\n",
       "      <td>HUVEC-17</td>\n",
       "      <td>0</td>\n",
       "    </tr>\n",
       "    <tr>\n",
       "      <th>5</th>\n",
       "      <td>HUVEC-18</td>\n",
       "      <td>0</td>\n",
       "    </tr>\n",
       "    <tr>\n",
       "      <th>6</th>\n",
       "      <td>HUVEC-19</td>\n",
       "      <td>2</td>\n",
       "    </tr>\n",
       "    <tr>\n",
       "      <th>7</th>\n",
       "      <td>HUVEC-20</td>\n",
       "      <td>2</td>\n",
       "    </tr>\n",
       "    <tr>\n",
       "      <th>8</th>\n",
       "      <td>HUVEC-21</td>\n",
       "      <td>3</td>\n",
       "    </tr>\n",
       "    <tr>\n",
       "      <th>9</th>\n",
       "      <td>HUVEC-22</td>\n",
       "      <td>0</td>\n",
       "    </tr>\n",
       "    <tr>\n",
       "      <th>10</th>\n",
       "      <td>HUVEC-23</td>\n",
       "      <td>0</td>\n",
       "    </tr>\n",
       "    <tr>\n",
       "      <th>11</th>\n",
       "      <td>HUVEC-24</td>\n",
       "      <td>3</td>\n",
       "    </tr>\n",
       "    <tr>\n",
       "      <th>12</th>\n",
       "      <td>RPE-08</td>\n",
       "      <td>1</td>\n",
       "    </tr>\n",
       "    <tr>\n",
       "      <th>13</th>\n",
       "      <td>RPE-09</td>\n",
       "      <td>0</td>\n",
       "    </tr>\n",
       "    <tr>\n",
       "      <th>14</th>\n",
       "      <td>RPE-10</td>\n",
       "      <td>0</td>\n",
       "    </tr>\n",
       "    <tr>\n",
       "      <th>15</th>\n",
       "      <td>RPE-11</td>\n",
       "      <td>0</td>\n",
       "    </tr>\n",
       "    <tr>\n",
       "      <th>16</th>\n",
       "      <td>U2OS-04</td>\n",
       "      <td>2</td>\n",
       "    </tr>\n",
       "    <tr>\n",
       "      <th>17</th>\n",
       "      <td>U2OS-05</td>\n",
       "      <td>3</td>\n",
       "    </tr>\n",
       "  </tbody>\n",
       "</table>\n",
       "</div>"
      ],
      "text/plain": [
       "   experiment  group\n",
       "0    HEPG2-08      3\n",
       "1    HEPG2-09      1\n",
       "2    HEPG2-10      0\n",
       "3    HEPG2-11      0\n",
       "4    HUVEC-17      0\n",
       "5    HUVEC-18      0\n",
       "6    HUVEC-19      2\n",
       "7    HUVEC-20      2\n",
       "8    HUVEC-21      3\n",
       "9    HUVEC-22      0\n",
       "10   HUVEC-23      0\n",
       "11   HUVEC-24      3\n",
       "12     RPE-08      1\n",
       "13     RPE-09      0\n",
       "14     RPE-10      0\n",
       "15     RPE-11      0\n",
       "16    U2OS-04      2\n",
       "17    U2OS-05      3"
      ]
     },
     "execution_count": 113,
     "metadata": {},
     "output_type": "execute_result"
    }
   ],
   "source": [
    "test_plate_groups"
   ]
  },
  {
   "cell_type": "code",
   "execution_count": 114,
   "metadata": {
    "ExecuteTime": {
     "end_time": "2019-08-29T17:29:50.246900Z",
     "start_time": "2019-08-29T17:29:50.231686Z"
    }
   },
   "outputs": [
    {
     "data": {
      "text/html": [
       "<div>\n",
       "<style scoped>\n",
       "    .dataframe tbody tr th:only-of-type {\n",
       "        vertical-align: middle;\n",
       "    }\n",
       "\n",
       "    .dataframe tbody tr th {\n",
       "        vertical-align: top;\n",
       "    }\n",
       "\n",
       "    .dataframe thead th {\n",
       "        text-align: right;\n",
       "    }\n",
       "</style>\n",
       "<table border=\"1\" class=\"dataframe\">\n",
       "  <thead>\n",
       "    <tr style=\"text-align: right;\">\n",
       "      <th></th>\n",
       "      <th>experiment</th>\n",
       "      <th>group</th>\n",
       "    </tr>\n",
       "  </thead>\n",
       "  <tbody>\n",
       "    <tr>\n",
       "      <th>14</th>\n",
       "      <td>HUVEC-08</td>\n",
       "      <td>0</td>\n",
       "    </tr>\n",
       "  </tbody>\n",
       "</table>\n",
       "</div>"
      ],
      "text/plain": [
       "   experiment  group\n",
       "14   HUVEC-08      0"
      ]
     },
     "execution_count": 114,
     "metadata": {},
     "output_type": "execute_result"
    }
   ],
   "source": [
    "train_plate_groups[train_plate_groups['experiment'] == 'HUVEC-08']"
   ]
  },
  {
   "cell_type": "code",
   "execution_count": 115,
   "metadata": {
    "ExecuteTime": {
     "end_time": "2019-08-29T17:29:54.401010Z",
     "start_time": "2019-08-29T17:29:54.387684Z"
    }
   },
   "outputs": [],
   "source": [
    "groups = {0: '1234',\n",
    "          1: '3412',\n",
    "          2: '2341',\n",
    "          3: '4123', # ???\n",
    "         }"
   ]
  },
  {
   "cell_type": "code",
   "execution_count": 133,
   "metadata": {
    "ExecuteTime": {
     "end_time": "2019-08-29T17:32:19.694555Z",
     "start_time": "2019-08-29T17:32:19.671268Z"
    }
   },
   "outputs": [],
   "source": [
    "df_full_train_group = pd.merge(df_full_train, train_plate_groups, on='experiment', how='left')\n",
    "df_full_test_group = pd.merge(df_full_test, test_plate_groups, on='experiment', how='left')\n"
   ]
  },
  {
   "cell_type": "code",
   "execution_count": 134,
   "metadata": {
    "ExecuteTime": {
     "end_time": "2019-08-29T17:32:20.341209Z",
     "start_time": "2019-08-29T17:32:20.316948Z"
    }
   },
   "outputs": [],
   "source": [
    "df_full_train_group['group_pattern'] = df_full_train_group['group'].apply(lambda x: groups[x])\n",
    "df_full_test_group['group_pattern'] = df_full_test_group['group'].apply(lambda x: groups[x])\n"
   ]
  },
  {
   "cell_type": "code",
   "execution_count": 135,
   "metadata": {
    "ExecuteTime": {
     "end_time": "2019-08-29T17:32:20.956823Z",
     "start_time": "2019-08-29T17:32:20.918020Z"
    }
   },
   "outputs": [],
   "source": [
    "df_full_train_group['plate'] = df_full_train_group['path'].apply(lambda x: x.split('Plate')[1][0])\n",
    "df_full_test_group['plate'] = df_full_test_group['path'].apply(lambda x: x.split('Plate')[1][0])\n"
   ]
  },
  {
   "cell_type": "code",
   "execution_count": 136,
   "metadata": {
    "ExecuteTime": {
     "end_time": "2019-08-29T17:32:21.520734Z",
     "start_time": "2019-08-29T17:32:21.512035Z"
    }
   },
   "outputs": [],
   "source": [
    "def get_plate_from_pattern(x):\n",
    "    return int(str(x[-2])[int(x[-1])-1])-1 #substract 1 because the embedding starts at 0"
   ]
  },
  {
   "cell_type": "code",
   "execution_count": 137,
   "metadata": {
    "ExecuteTime": {
     "end_time": "2019-08-29T17:32:24.055317Z",
     "start_time": "2019-08-29T17:32:22.185620Z"
    }
   },
   "outputs": [],
   "source": [
    "df_full_train_group['plate_pattern'] = df_full_train_group.apply(get_plate_from_pattern, axis=1)\n",
    "df_full_test_group['plate_pattern'] = df_full_test_group.apply(get_plate_from_pattern, axis=1)\n"
   ]
  },
  {
   "cell_type": "code",
   "execution_count": 150,
   "metadata": {
    "ExecuteTime": {
     "end_time": "2019-08-29T17:47:01.124531Z",
     "start_time": "2019-08-29T17:47:01.108314Z"
    }
   },
   "outputs": [
    {
     "data": {
      "text/html": [
       "<div>\n",
       "<style scoped>\n",
       "    .dataframe tbody tr th:only-of-type {\n",
       "        vertical-align: middle;\n",
       "    }\n",
       "\n",
       "    .dataframe tbody tr th {\n",
       "        vertical-align: top;\n",
       "    }\n",
       "\n",
       "    .dataframe thead th {\n",
       "        text-align: right;\n",
       "    }\n",
       "</style>\n",
       "<table border=\"1\" class=\"dataframe\">\n",
       "  <thead>\n",
       "    <tr style=\"text-align: right;\">\n",
       "      <th></th>\n",
       "      <th>path</th>\n",
       "      <th>experiment</th>\n",
       "      <th>sirna</th>\n",
       "      <th>multi</th>\n",
       "      <th>valid</th>\n",
       "      <th>group</th>\n",
       "      <th>group_pattern</th>\n",
       "      <th>plate</th>\n",
       "      <th>plate_pattern</th>\n",
       "    </tr>\n",
       "  </thead>\n",
       "  <tbody>\n",
       "  </tbody>\n",
       "</table>\n",
       "</div>"
      ],
      "text/plain": [
       "Empty DataFrame\n",
       "Columns: [path, experiment, sirna, multi, valid, group, group_pattern, plate, plate_pattern]\n",
       "Index: []"
      ]
     },
     "execution_count": 150,
     "metadata": {},
     "output_type": "execute_result"
    }
   ],
   "source": [
    "df_full_train_group[df_full_train_group['plate_pattern'] == '3']"
   ]
  },
  {
   "cell_type": "code",
   "execution_count": 146,
   "metadata": {
    "ExecuteTime": {
     "end_time": "2019-08-29T17:33:34.520738Z",
     "start_time": "2019-08-29T17:33:34.500067Z"
    }
   },
   "outputs": [
    {
     "data": {
      "text/html": [
       "<div>\n",
       "<style scoped>\n",
       "    .dataframe tbody tr th:only-of-type {\n",
       "        vertical-align: middle;\n",
       "    }\n",
       "\n",
       "    .dataframe tbody tr th {\n",
       "        vertical-align: top;\n",
       "    }\n",
       "\n",
       "    .dataframe thead th {\n",
       "        text-align: right;\n",
       "    }\n",
       "</style>\n",
       "<table border=\"1\" class=\"dataframe\">\n",
       "  <thead>\n",
       "    <tr style=\"text-align: right;\">\n",
       "      <th></th>\n",
       "      <th>path</th>\n",
       "      <th>experiment</th>\n",
       "      <th>sirna</th>\n",
       "      <th>multi</th>\n",
       "      <th>valid</th>\n",
       "      <th>group</th>\n",
       "      <th>group_pattern</th>\n",
       "      <th>plate</th>\n",
       "      <th>plate_pattern</th>\n",
       "    </tr>\n",
       "  </thead>\n",
       "  <tbody>\n",
       "    <tr>\n",
       "      <th>72194</th>\n",
       "      <td>U2OS-03/Plate1/O19_s2</td>\n",
       "      <td>U2OS-03</td>\n",
       "      <td>764</td>\n",
       "      <td>U2OS-03 764</td>\n",
       "      <td>1</td>\n",
       "      <td>0</td>\n",
       "      <td>1234</td>\n",
       "      <td>1</td>\n",
       "      <td>0</td>\n",
       "    </tr>\n",
       "    <tr>\n",
       "      <th>72195</th>\n",
       "      <td>U2OS-03/Plate1/O20_s2</td>\n",
       "      <td>U2OS-03</td>\n",
       "      <td>1065</td>\n",
       "      <td>U2OS-03 1065</td>\n",
       "      <td>1</td>\n",
       "      <td>0</td>\n",
       "      <td>1234</td>\n",
       "      <td>1</td>\n",
       "      <td>0</td>\n",
       "    </tr>\n",
       "    <tr>\n",
       "      <th>72196</th>\n",
       "      <td>U2OS-03/Plate1/O21_s2</td>\n",
       "      <td>U2OS-03</td>\n",
       "      <td>301</td>\n",
       "      <td>U2OS-03 301</td>\n",
       "      <td>1</td>\n",
       "      <td>0</td>\n",
       "      <td>1234</td>\n",
       "      <td>1</td>\n",
       "      <td>0</td>\n",
       "    </tr>\n",
       "    <tr>\n",
       "      <th>72197</th>\n",
       "      <td>U2OS-03/Plate1/O22_s2</td>\n",
       "      <td>U2OS-03</td>\n",
       "      <td>757</td>\n",
       "      <td>U2OS-03 757</td>\n",
       "      <td>1</td>\n",
       "      <td>0</td>\n",
       "      <td>1234</td>\n",
       "      <td>1</td>\n",
       "      <td>0</td>\n",
       "    </tr>\n",
       "    <tr>\n",
       "      <th>72198</th>\n",
       "      <td>U2OS-03/Plate1/O23_s2</td>\n",
       "      <td>U2OS-03</td>\n",
       "      <td>831</td>\n",
       "      <td>U2OS-03 831</td>\n",
       "      <td>1</td>\n",
       "      <td>0</td>\n",
       "      <td>1234</td>\n",
       "      <td>1</td>\n",
       "      <td>0</td>\n",
       "    </tr>\n",
       "  </tbody>\n",
       "</table>\n",
       "</div>"
      ],
      "text/plain": [
       "                        path experiment  sirna         multi  valid  group  \\\n",
       "72194  U2OS-03/Plate1/O19_s2    U2OS-03    764   U2OS-03 764      1      0   \n",
       "72195  U2OS-03/Plate1/O20_s2    U2OS-03   1065  U2OS-03 1065      1      0   \n",
       "72196  U2OS-03/Plate1/O21_s2    U2OS-03    301   U2OS-03 301      1      0   \n",
       "72197  U2OS-03/Plate1/O22_s2    U2OS-03    757   U2OS-03 757      1      0   \n",
       "72198  U2OS-03/Plate1/O23_s2    U2OS-03    831   U2OS-03 831      1      0   \n",
       "\n",
       "      group_pattern plate  plate_pattern  \n",
       "72194          1234     1              0  \n",
       "72195          1234     1              0  \n",
       "72196          1234     1              0  \n",
       "72197          1234     1              0  \n",
       "72198          1234     1              0  "
      ]
     },
     "execution_count": 146,
     "metadata": {},
     "output_type": "execute_result"
    }
   ],
   "source": [
    "df_full_train_group[df_full_train_group['plate'] == '1'].tail()"
   ]
  },
  {
   "cell_type": "code",
   "execution_count": null,
   "metadata": {},
   "outputs": [],
   "source": []
  },
  {
   "cell_type": "code",
   "execution_count": 147,
   "metadata": {
    "ExecuteTime": {
     "end_time": "2019-08-29T17:33:48.342368Z",
     "start_time": "2019-08-29T17:33:48.322071Z"
    }
   },
   "outputs": [
    {
     "data": {
      "text/html": [
       "<div>\n",
       "<style scoped>\n",
       "    .dataframe tbody tr th:only-of-type {\n",
       "        vertical-align: middle;\n",
       "    }\n",
       "\n",
       "    .dataframe tbody tr th {\n",
       "        vertical-align: top;\n",
       "    }\n",
       "\n",
       "    .dataframe thead th {\n",
       "        text-align: right;\n",
       "    }\n",
       "</style>\n",
       "<table border=\"1\" class=\"dataframe\">\n",
       "  <thead>\n",
       "    <tr style=\"text-align: right;\">\n",
       "      <th></th>\n",
       "      <th>path</th>\n",
       "      <th>experiment</th>\n",
       "      <th>sirna</th>\n",
       "      <th>multi</th>\n",
       "      <th>valid</th>\n",
       "      <th>group</th>\n",
       "      <th>group_pattern</th>\n",
       "      <th>plate</th>\n",
       "      <th>plate_pattern</th>\n",
       "    </tr>\n",
       "  </thead>\n",
       "  <tbody>\n",
       "    <tr>\n",
       "      <th>4428</th>\n",
       "      <td>HEPG2-05/Plate1/B03_s1</td>\n",
       "      <td>HEPG2-05</td>\n",
       "      <td>151</td>\n",
       "      <td>HEPG2-05 151</td>\n",
       "      <td>0</td>\n",
       "      <td>1</td>\n",
       "      <td>3412</td>\n",
       "      <td>1</td>\n",
       "      <td>2</td>\n",
       "    </tr>\n",
       "    <tr>\n",
       "      <th>4429</th>\n",
       "      <td>HEPG2-05/Plate1/B04_s1</td>\n",
       "      <td>HEPG2-05</td>\n",
       "      <td>808</td>\n",
       "      <td>HEPG2-05 808</td>\n",
       "      <td>0</td>\n",
       "      <td>1</td>\n",
       "      <td>3412</td>\n",
       "      <td>1</td>\n",
       "      <td>2</td>\n",
       "    </tr>\n",
       "    <tr>\n",
       "      <th>4430</th>\n",
       "      <td>HEPG2-05/Plate1/B05_s1</td>\n",
       "      <td>HEPG2-05</td>\n",
       "      <td>465</td>\n",
       "      <td>HEPG2-05 465</td>\n",
       "      <td>0</td>\n",
       "      <td>1</td>\n",
       "      <td>3412</td>\n",
       "      <td>1</td>\n",
       "      <td>2</td>\n",
       "    </tr>\n",
       "    <tr>\n",
       "      <th>4431</th>\n",
       "      <td>HEPG2-05/Plate1/B06_s1</td>\n",
       "      <td>HEPG2-05</td>\n",
       "      <td>570</td>\n",
       "      <td>HEPG2-05 570</td>\n",
       "      <td>0</td>\n",
       "      <td>1</td>\n",
       "      <td>3412</td>\n",
       "      <td>1</td>\n",
       "      <td>2</td>\n",
       "    </tr>\n",
       "    <tr>\n",
       "      <th>4432</th>\n",
       "      <td>HEPG2-05/Plate1/B07_s1</td>\n",
       "      <td>HEPG2-05</td>\n",
       "      <td>180</td>\n",
       "      <td>HEPG2-05 180</td>\n",
       "      <td>0</td>\n",
       "      <td>1</td>\n",
       "      <td>3412</td>\n",
       "      <td>1</td>\n",
       "      <td>2</td>\n",
       "    </tr>\n",
       "  </tbody>\n",
       "</table>\n",
       "</div>"
      ],
      "text/plain": [
       "                        path experiment  sirna         multi  valid  group  \\\n",
       "4428  HEPG2-05/Plate1/B03_s1   HEPG2-05    151  HEPG2-05 151      0      1   \n",
       "4429  HEPG2-05/Plate1/B04_s1   HEPG2-05    808  HEPG2-05 808      0      1   \n",
       "4430  HEPG2-05/Plate1/B05_s1   HEPG2-05    465  HEPG2-05 465      0      1   \n",
       "4431  HEPG2-05/Plate1/B06_s1   HEPG2-05    570  HEPG2-05 570      0      1   \n",
       "4432  HEPG2-05/Plate1/B07_s1   HEPG2-05    180  HEPG2-05 180      0      1   \n",
       "\n",
       "     group_pattern plate  plate_pattern  \n",
       "4428          3412     1              2  \n",
       "4429          3412     1              2  \n",
       "4430          3412     1              2  \n",
       "4431          3412     1              2  \n",
       "4432          3412     1              2  "
      ]
     },
     "execution_count": 147,
     "metadata": {},
     "output_type": "execute_result"
    }
   ],
   "source": [
    "df_full_train_group[df_full_train_group['group_pattern'] == '3412'].head()"
   ]
  },
  {
   "cell_type": "code",
   "execution_count": 148,
   "metadata": {
    "ExecuteTime": {
     "end_time": "2019-08-29T17:34:02.207087Z",
     "start_time": "2019-08-29T17:34:02.188384Z"
    }
   },
   "outputs": [
    {
     "data": {
      "text/html": [
       "<div>\n",
       "<style scoped>\n",
       "    .dataframe tbody tr th:only-of-type {\n",
       "        vertical-align: middle;\n",
       "    }\n",
       "\n",
       "    .dataframe tbody tr th {\n",
       "        vertical-align: top;\n",
       "    }\n",
       "\n",
       "    .dataframe thead th {\n",
       "        text-align: right;\n",
       "    }\n",
       "</style>\n",
       "<table border=\"1\" class=\"dataframe\">\n",
       "  <thead>\n",
       "    <tr style=\"text-align: right;\">\n",
       "      <th></th>\n",
       "      <th>path</th>\n",
       "      <th>experiment</th>\n",
       "      <th>group</th>\n",
       "      <th>group_pattern</th>\n",
       "      <th>plate</th>\n",
       "      <th>plate_pattern</th>\n",
       "    </tr>\n",
       "  </thead>\n",
       "  <tbody>\n",
       "    <tr>\n",
       "      <th>0</th>\n",
       "      <td>HEPG2-08/Plate1/B03_s1</td>\n",
       "      <td>HEPG2-08</td>\n",
       "      <td>3</td>\n",
       "      <td>4123</td>\n",
       "      <td>1</td>\n",
       "      <td>3</td>\n",
       "    </tr>\n",
       "    <tr>\n",
       "      <th>1</th>\n",
       "      <td>HEPG2-08/Plate1/B04_s1</td>\n",
       "      <td>HEPG2-08</td>\n",
       "      <td>3</td>\n",
       "      <td>4123</td>\n",
       "      <td>1</td>\n",
       "      <td>3</td>\n",
       "    </tr>\n",
       "    <tr>\n",
       "      <th>2</th>\n",
       "      <td>HEPG2-08/Plate1/B05_s1</td>\n",
       "      <td>HEPG2-08</td>\n",
       "      <td>3</td>\n",
       "      <td>4123</td>\n",
       "      <td>1</td>\n",
       "      <td>3</td>\n",
       "    </tr>\n",
       "    <tr>\n",
       "      <th>3</th>\n",
       "      <td>HEPG2-08/Plate1/B06_s1</td>\n",
       "      <td>HEPG2-08</td>\n",
       "      <td>3</td>\n",
       "      <td>4123</td>\n",
       "      <td>1</td>\n",
       "      <td>3</td>\n",
       "    </tr>\n",
       "    <tr>\n",
       "      <th>4</th>\n",
       "      <td>HEPG2-08/Plate1/B07_s1</td>\n",
       "      <td>HEPG2-08</td>\n",
       "      <td>3</td>\n",
       "      <td>4123</td>\n",
       "      <td>1</td>\n",
       "      <td>3</td>\n",
       "    </tr>\n",
       "  </tbody>\n",
       "</table>\n",
       "</div>"
      ],
      "text/plain": [
       "                     path experiment  group group_pattern plate  plate_pattern\n",
       "0  HEPG2-08/Plate1/B03_s1   HEPG2-08      3          4123     1              3\n",
       "1  HEPG2-08/Plate1/B04_s1   HEPG2-08      3          4123     1              3\n",
       "2  HEPG2-08/Plate1/B05_s1   HEPG2-08      3          4123     1              3\n",
       "3  HEPG2-08/Plate1/B06_s1   HEPG2-08      3          4123     1              3\n",
       "4  HEPG2-08/Plate1/B07_s1   HEPG2-08      3          4123     1              3"
      ]
     },
     "execution_count": 148,
     "metadata": {},
     "output_type": "execute_result"
    }
   ],
   "source": [
    "df_full_test_group[df_full_test_group['group_pattern'] == '4123'].head()"
   ]
  },
  {
   "cell_type": "code",
   "execution_count": 156,
   "metadata": {
    "ExecuteTime": {
     "end_time": "2019-08-29T17:59:57.128700Z",
     "start_time": "2019-08-29T17:59:57.100310Z"
    }
   },
   "outputs": [
    {
     "data": {
      "text/html": [
       "<div>\n",
       "<style scoped>\n",
       "    .dataframe tbody tr th:only-of-type {\n",
       "        vertical-align: middle;\n",
       "    }\n",
       "\n",
       "    .dataframe tbody tr th {\n",
       "        vertical-align: top;\n",
       "    }\n",
       "\n",
       "    .dataframe thead th {\n",
       "        text-align: right;\n",
       "    }\n",
       "</style>\n",
       "<table border=\"1\" class=\"dataframe\">\n",
       "  <thead>\n",
       "    <tr style=\"text-align: right;\">\n",
       "      <th></th>\n",
       "      <th>path</th>\n",
       "      <th>experiment</th>\n",
       "      <th>group</th>\n",
       "      <th>group_pattern</th>\n",
       "      <th>plate</th>\n",
       "      <th>plate_pattern</th>\n",
       "    </tr>\n",
       "  </thead>\n",
       "  <tbody>\n",
       "    <tr>\n",
       "      <th>0</th>\n",
       "      <td>HEPG2-08/Plate1/B03_s1</td>\n",
       "      <td>HEPG2-08</td>\n",
       "      <td>3</td>\n",
       "      <td>4123</td>\n",
       "      <td>1</td>\n",
       "      <td>3</td>\n",
       "    </tr>\n",
       "    <tr>\n",
       "      <th>1</th>\n",
       "      <td>HEPG2-08/Plate1/B04_s1</td>\n",
       "      <td>HEPG2-08</td>\n",
       "      <td>3</td>\n",
       "      <td>4123</td>\n",
       "      <td>1</td>\n",
       "      <td>3</td>\n",
       "    </tr>\n",
       "    <tr>\n",
       "      <th>2</th>\n",
       "      <td>HEPG2-08/Plate1/B05_s1</td>\n",
       "      <td>HEPG2-08</td>\n",
       "      <td>3</td>\n",
       "      <td>4123</td>\n",
       "      <td>1</td>\n",
       "      <td>3</td>\n",
       "    </tr>\n",
       "    <tr>\n",
       "      <th>3</th>\n",
       "      <td>HEPG2-08/Plate1/B06_s1</td>\n",
       "      <td>HEPG2-08</td>\n",
       "      <td>3</td>\n",
       "      <td>4123</td>\n",
       "      <td>1</td>\n",
       "      <td>3</td>\n",
       "    </tr>\n",
       "    <tr>\n",
       "      <th>4</th>\n",
       "      <td>HEPG2-08/Plate1/B07_s1</td>\n",
       "      <td>HEPG2-08</td>\n",
       "      <td>3</td>\n",
       "      <td>4123</td>\n",
       "      <td>1</td>\n",
       "      <td>3</td>\n",
       "    </tr>\n",
       "    <tr>\n",
       "      <th>5</th>\n",
       "      <td>HEPG2-08/Plate1/B08_s1</td>\n",
       "      <td>HEPG2-08</td>\n",
       "      <td>3</td>\n",
       "      <td>4123</td>\n",
       "      <td>1</td>\n",
       "      <td>3</td>\n",
       "    </tr>\n",
       "    <tr>\n",
       "      <th>6</th>\n",
       "      <td>HEPG2-08/Plate1/B09_s1</td>\n",
       "      <td>HEPG2-08</td>\n",
       "      <td>3</td>\n",
       "      <td>4123</td>\n",
       "      <td>1</td>\n",
       "      <td>3</td>\n",
       "    </tr>\n",
       "    <tr>\n",
       "      <th>7</th>\n",
       "      <td>HEPG2-08/Plate1/B10_s1</td>\n",
       "      <td>HEPG2-08</td>\n",
       "      <td>3</td>\n",
       "      <td>4123</td>\n",
       "      <td>1</td>\n",
       "      <td>3</td>\n",
       "    </tr>\n",
       "    <tr>\n",
       "      <th>8</th>\n",
       "      <td>HEPG2-08/Plate1/B11_s1</td>\n",
       "      <td>HEPG2-08</td>\n",
       "      <td>3</td>\n",
       "      <td>4123</td>\n",
       "      <td>1</td>\n",
       "      <td>3</td>\n",
       "    </tr>\n",
       "    <tr>\n",
       "      <th>9</th>\n",
       "      <td>HEPG2-08/Plate1/B12_s1</td>\n",
       "      <td>HEPG2-08</td>\n",
       "      <td>3</td>\n",
       "      <td>4123</td>\n",
       "      <td>1</td>\n",
       "      <td>3</td>\n",
       "    </tr>\n",
       "    <tr>\n",
       "      <th>10</th>\n",
       "      <td>HEPG2-08/Plate1/B13_s1</td>\n",
       "      <td>HEPG2-08</td>\n",
       "      <td>3</td>\n",
       "      <td>4123</td>\n",
       "      <td>1</td>\n",
       "      <td>3</td>\n",
       "    </tr>\n",
       "    <tr>\n",
       "      <th>11</th>\n",
       "      <td>HEPG2-08/Plate1/B14_s1</td>\n",
       "      <td>HEPG2-08</td>\n",
       "      <td>3</td>\n",
       "      <td>4123</td>\n",
       "      <td>1</td>\n",
       "      <td>3</td>\n",
       "    </tr>\n",
       "    <tr>\n",
       "      <th>12</th>\n",
       "      <td>HEPG2-08/Plate1/B15_s1</td>\n",
       "      <td>HEPG2-08</td>\n",
       "      <td>3</td>\n",
       "      <td>4123</td>\n",
       "      <td>1</td>\n",
       "      <td>3</td>\n",
       "    </tr>\n",
       "    <tr>\n",
       "      <th>13</th>\n",
       "      <td>HEPG2-08/Plate1/B16_s1</td>\n",
       "      <td>HEPG2-08</td>\n",
       "      <td>3</td>\n",
       "      <td>4123</td>\n",
       "      <td>1</td>\n",
       "      <td>3</td>\n",
       "    </tr>\n",
       "    <tr>\n",
       "      <th>14</th>\n",
       "      <td>HEPG2-08/Plate1/B17_s1</td>\n",
       "      <td>HEPG2-08</td>\n",
       "      <td>3</td>\n",
       "      <td>4123</td>\n",
       "      <td>1</td>\n",
       "      <td>3</td>\n",
       "    </tr>\n",
       "    <tr>\n",
       "      <th>15</th>\n",
       "      <td>HEPG2-08/Plate1/B18_s1</td>\n",
       "      <td>HEPG2-08</td>\n",
       "      <td>3</td>\n",
       "      <td>4123</td>\n",
       "      <td>1</td>\n",
       "      <td>3</td>\n",
       "    </tr>\n",
       "    <tr>\n",
       "      <th>16</th>\n",
       "      <td>HEPG2-08/Plate1/B19_s1</td>\n",
       "      <td>HEPG2-08</td>\n",
       "      <td>3</td>\n",
       "      <td>4123</td>\n",
       "      <td>1</td>\n",
       "      <td>3</td>\n",
       "    </tr>\n",
       "    <tr>\n",
       "      <th>17</th>\n",
       "      <td>HEPG2-08/Plate1/B20_s1</td>\n",
       "      <td>HEPG2-08</td>\n",
       "      <td>3</td>\n",
       "      <td>4123</td>\n",
       "      <td>1</td>\n",
       "      <td>3</td>\n",
       "    </tr>\n",
       "    <tr>\n",
       "      <th>18</th>\n",
       "      <td>HEPG2-08/Plate1/B21_s1</td>\n",
       "      <td>HEPG2-08</td>\n",
       "      <td>3</td>\n",
       "      <td>4123</td>\n",
       "      <td>1</td>\n",
       "      <td>3</td>\n",
       "    </tr>\n",
       "    <tr>\n",
       "      <th>19</th>\n",
       "      <td>HEPG2-08/Plate1/B22_s1</td>\n",
       "      <td>HEPG2-08</td>\n",
       "      <td>3</td>\n",
       "      <td>4123</td>\n",
       "      <td>1</td>\n",
       "      <td>3</td>\n",
       "    </tr>\n",
       "    <tr>\n",
       "      <th>20</th>\n",
       "      <td>HEPG2-08/Plate1/B23_s1</td>\n",
       "      <td>HEPG2-08</td>\n",
       "      <td>3</td>\n",
       "      <td>4123</td>\n",
       "      <td>1</td>\n",
       "      <td>3</td>\n",
       "    </tr>\n",
       "    <tr>\n",
       "      <th>21</th>\n",
       "      <td>HEPG2-08/Plate1/C02_s1</td>\n",
       "      <td>HEPG2-08</td>\n",
       "      <td>3</td>\n",
       "      <td>4123</td>\n",
       "      <td>1</td>\n",
       "      <td>3</td>\n",
       "    </tr>\n",
       "    <tr>\n",
       "      <th>22</th>\n",
       "      <td>HEPG2-08/Plate1/C04_s1</td>\n",
       "      <td>HEPG2-08</td>\n",
       "      <td>3</td>\n",
       "      <td>4123</td>\n",
       "      <td>1</td>\n",
       "      <td>3</td>\n",
       "    </tr>\n",
       "    <tr>\n",
       "      <th>23</th>\n",
       "      <td>HEPG2-08/Plate1/C05_s1</td>\n",
       "      <td>HEPG2-08</td>\n",
       "      <td>3</td>\n",
       "      <td>4123</td>\n",
       "      <td>1</td>\n",
       "      <td>3</td>\n",
       "    </tr>\n",
       "    <tr>\n",
       "      <th>24</th>\n",
       "      <td>HEPG2-08/Plate1/C06_s1</td>\n",
       "      <td>HEPG2-08</td>\n",
       "      <td>3</td>\n",
       "      <td>4123</td>\n",
       "      <td>1</td>\n",
       "      <td>3</td>\n",
       "    </tr>\n",
       "    <tr>\n",
       "      <th>25</th>\n",
       "      <td>HEPG2-08/Plate1/C08_s1</td>\n",
       "      <td>HEPG2-08</td>\n",
       "      <td>3</td>\n",
       "      <td>4123</td>\n",
       "      <td>1</td>\n",
       "      <td>3</td>\n",
       "    </tr>\n",
       "    <tr>\n",
       "      <th>26</th>\n",
       "      <td>HEPG2-08/Plate1/C09_s1</td>\n",
       "      <td>HEPG2-08</td>\n",
       "      <td>3</td>\n",
       "      <td>4123</td>\n",
       "      <td>1</td>\n",
       "      <td>3</td>\n",
       "    </tr>\n",
       "    <tr>\n",
       "      <th>27</th>\n",
       "      <td>HEPG2-08/Plate1/C10_s1</td>\n",
       "      <td>HEPG2-08</td>\n",
       "      <td>3</td>\n",
       "      <td>4123</td>\n",
       "      <td>1</td>\n",
       "      <td>3</td>\n",
       "    </tr>\n",
       "    <tr>\n",
       "      <th>28</th>\n",
       "      <td>HEPG2-08/Plate1/C12_s1</td>\n",
       "      <td>HEPG2-08</td>\n",
       "      <td>3</td>\n",
       "      <td>4123</td>\n",
       "      <td>1</td>\n",
       "      <td>3</td>\n",
       "    </tr>\n",
       "    <tr>\n",
       "      <th>29</th>\n",
       "      <td>HEPG2-08/Plate1/C13_s1</td>\n",
       "      <td>HEPG2-08</td>\n",
       "      <td>3</td>\n",
       "      <td>4123</td>\n",
       "      <td>1</td>\n",
       "      <td>3</td>\n",
       "    </tr>\n",
       "    <tr>\n",
       "      <th>...</th>\n",
       "      <td>...</td>\n",
       "      <td>...</td>\n",
       "      <td>...</td>\n",
       "      <td>...</td>\n",
       "      <td>...</td>\n",
       "      <td>...</td>\n",
       "    </tr>\n",
       "    <tr>\n",
       "      <th>20974</th>\n",
       "      <td>HEPG2-08/Plate4/N16_s2</td>\n",
       "      <td>HEPG2-08</td>\n",
       "      <td>3</td>\n",
       "      <td>4123</td>\n",
       "      <td>4</td>\n",
       "      <td>2</td>\n",
       "    </tr>\n",
       "    <tr>\n",
       "      <th>20975</th>\n",
       "      <td>HEPG2-08/Plate4/N17_s2</td>\n",
       "      <td>HEPG2-08</td>\n",
       "      <td>3</td>\n",
       "      <td>4123</td>\n",
       "      <td>4</td>\n",
       "      <td>2</td>\n",
       "    </tr>\n",
       "    <tr>\n",
       "      <th>20976</th>\n",
       "      <td>HEPG2-08/Plate4/N18_s2</td>\n",
       "      <td>HEPG2-08</td>\n",
       "      <td>3</td>\n",
       "      <td>4123</td>\n",
       "      <td>4</td>\n",
       "      <td>2</td>\n",
       "    </tr>\n",
       "    <tr>\n",
       "      <th>20977</th>\n",
       "      <td>HEPG2-08/Plate4/N19_s2</td>\n",
       "      <td>HEPG2-08</td>\n",
       "      <td>3</td>\n",
       "      <td>4123</td>\n",
       "      <td>4</td>\n",
       "      <td>2</td>\n",
       "    </tr>\n",
       "    <tr>\n",
       "      <th>20978</th>\n",
       "      <td>HEPG2-08/Plate4/N20_s2</td>\n",
       "      <td>HEPG2-08</td>\n",
       "      <td>3</td>\n",
       "      <td>4123</td>\n",
       "      <td>4</td>\n",
       "      <td>2</td>\n",
       "    </tr>\n",
       "    <tr>\n",
       "      <th>20979</th>\n",
       "      <td>HEPG2-08/Plate4/N21_s2</td>\n",
       "      <td>HEPG2-08</td>\n",
       "      <td>3</td>\n",
       "      <td>4123</td>\n",
       "      <td>4</td>\n",
       "      <td>2</td>\n",
       "    </tr>\n",
       "    <tr>\n",
       "      <th>20980</th>\n",
       "      <td>HEPG2-08/Plate4/N22_s2</td>\n",
       "      <td>HEPG2-08</td>\n",
       "      <td>3</td>\n",
       "      <td>4123</td>\n",
       "      <td>4</td>\n",
       "      <td>2</td>\n",
       "    </tr>\n",
       "    <tr>\n",
       "      <th>20981</th>\n",
       "      <td>HEPG2-08/Plate4/N23_s2</td>\n",
       "      <td>HEPG2-08</td>\n",
       "      <td>3</td>\n",
       "      <td>4123</td>\n",
       "      <td>4</td>\n",
       "      <td>2</td>\n",
       "    </tr>\n",
       "    <tr>\n",
       "      <th>20982</th>\n",
       "      <td>HEPG2-08/Plate4/O02_s2</td>\n",
       "      <td>HEPG2-08</td>\n",
       "      <td>3</td>\n",
       "      <td>4123</td>\n",
       "      <td>4</td>\n",
       "      <td>2</td>\n",
       "    </tr>\n",
       "    <tr>\n",
       "      <th>20983</th>\n",
       "      <td>HEPG2-08/Plate4/O03_s2</td>\n",
       "      <td>HEPG2-08</td>\n",
       "      <td>3</td>\n",
       "      <td>4123</td>\n",
       "      <td>4</td>\n",
       "      <td>2</td>\n",
       "    </tr>\n",
       "    <tr>\n",
       "      <th>20984</th>\n",
       "      <td>HEPG2-08/Plate4/O04_s2</td>\n",
       "      <td>HEPG2-08</td>\n",
       "      <td>3</td>\n",
       "      <td>4123</td>\n",
       "      <td>4</td>\n",
       "      <td>2</td>\n",
       "    </tr>\n",
       "    <tr>\n",
       "      <th>20985</th>\n",
       "      <td>HEPG2-08/Plate4/O05_s2</td>\n",
       "      <td>HEPG2-08</td>\n",
       "      <td>3</td>\n",
       "      <td>4123</td>\n",
       "      <td>4</td>\n",
       "      <td>2</td>\n",
       "    </tr>\n",
       "    <tr>\n",
       "      <th>20986</th>\n",
       "      <td>HEPG2-08/Plate4/O06_s2</td>\n",
       "      <td>HEPG2-08</td>\n",
       "      <td>3</td>\n",
       "      <td>4123</td>\n",
       "      <td>4</td>\n",
       "      <td>2</td>\n",
       "    </tr>\n",
       "    <tr>\n",
       "      <th>20987</th>\n",
       "      <td>HEPG2-08/Plate4/O07_s2</td>\n",
       "      <td>HEPG2-08</td>\n",
       "      <td>3</td>\n",
       "      <td>4123</td>\n",
       "      <td>4</td>\n",
       "      <td>2</td>\n",
       "    </tr>\n",
       "    <tr>\n",
       "      <th>20988</th>\n",
       "      <td>HEPG2-08/Plate4/O08_s2</td>\n",
       "      <td>HEPG2-08</td>\n",
       "      <td>3</td>\n",
       "      <td>4123</td>\n",
       "      <td>4</td>\n",
       "      <td>2</td>\n",
       "    </tr>\n",
       "    <tr>\n",
       "      <th>20989</th>\n",
       "      <td>HEPG2-08/Plate4/O09_s2</td>\n",
       "      <td>HEPG2-08</td>\n",
       "      <td>3</td>\n",
       "      <td>4123</td>\n",
       "      <td>4</td>\n",
       "      <td>2</td>\n",
       "    </tr>\n",
       "    <tr>\n",
       "      <th>20990</th>\n",
       "      <td>HEPG2-08/Plate4/O10_s2</td>\n",
       "      <td>HEPG2-08</td>\n",
       "      <td>3</td>\n",
       "      <td>4123</td>\n",
       "      <td>4</td>\n",
       "      <td>2</td>\n",
       "    </tr>\n",
       "    <tr>\n",
       "      <th>20991</th>\n",
       "      <td>HEPG2-08/Plate4/O11_s2</td>\n",
       "      <td>HEPG2-08</td>\n",
       "      <td>3</td>\n",
       "      <td>4123</td>\n",
       "      <td>4</td>\n",
       "      <td>2</td>\n",
       "    </tr>\n",
       "    <tr>\n",
       "      <th>20992</th>\n",
       "      <td>HEPG2-08/Plate4/O12_s2</td>\n",
       "      <td>HEPG2-08</td>\n",
       "      <td>3</td>\n",
       "      <td>4123</td>\n",
       "      <td>4</td>\n",
       "      <td>2</td>\n",
       "    </tr>\n",
       "    <tr>\n",
       "      <th>20993</th>\n",
       "      <td>HEPG2-08/Plate4/O13_s2</td>\n",
       "      <td>HEPG2-08</td>\n",
       "      <td>3</td>\n",
       "      <td>4123</td>\n",
       "      <td>4</td>\n",
       "      <td>2</td>\n",
       "    </tr>\n",
       "    <tr>\n",
       "      <th>20994</th>\n",
       "      <td>HEPG2-08/Plate4/O14_s2</td>\n",
       "      <td>HEPG2-08</td>\n",
       "      <td>3</td>\n",
       "      <td>4123</td>\n",
       "      <td>4</td>\n",
       "      <td>2</td>\n",
       "    </tr>\n",
       "    <tr>\n",
       "      <th>20995</th>\n",
       "      <td>HEPG2-08/Plate4/O15_s2</td>\n",
       "      <td>HEPG2-08</td>\n",
       "      <td>3</td>\n",
       "      <td>4123</td>\n",
       "      <td>4</td>\n",
       "      <td>2</td>\n",
       "    </tr>\n",
       "    <tr>\n",
       "      <th>20996</th>\n",
       "      <td>HEPG2-08/Plate4/O16_s2</td>\n",
       "      <td>HEPG2-08</td>\n",
       "      <td>3</td>\n",
       "      <td>4123</td>\n",
       "      <td>4</td>\n",
       "      <td>2</td>\n",
       "    </tr>\n",
       "    <tr>\n",
       "      <th>20997</th>\n",
       "      <td>HEPG2-08/Plate4/O17_s2</td>\n",
       "      <td>HEPG2-08</td>\n",
       "      <td>3</td>\n",
       "      <td>4123</td>\n",
       "      <td>4</td>\n",
       "      <td>2</td>\n",
       "    </tr>\n",
       "    <tr>\n",
       "      <th>20998</th>\n",
       "      <td>HEPG2-08/Plate4/O18_s2</td>\n",
       "      <td>HEPG2-08</td>\n",
       "      <td>3</td>\n",
       "      <td>4123</td>\n",
       "      <td>4</td>\n",
       "      <td>2</td>\n",
       "    </tr>\n",
       "    <tr>\n",
       "      <th>20999</th>\n",
       "      <td>HEPG2-08/Plate4/O19_s2</td>\n",
       "      <td>HEPG2-08</td>\n",
       "      <td>3</td>\n",
       "      <td>4123</td>\n",
       "      <td>4</td>\n",
       "      <td>2</td>\n",
       "    </tr>\n",
       "    <tr>\n",
       "      <th>21000</th>\n",
       "      <td>HEPG2-08/Plate4/O20_s2</td>\n",
       "      <td>HEPG2-08</td>\n",
       "      <td>3</td>\n",
       "      <td>4123</td>\n",
       "      <td>4</td>\n",
       "      <td>2</td>\n",
       "    </tr>\n",
       "    <tr>\n",
       "      <th>21001</th>\n",
       "      <td>HEPG2-08/Plate4/O21_s2</td>\n",
       "      <td>HEPG2-08</td>\n",
       "      <td>3</td>\n",
       "      <td>4123</td>\n",
       "      <td>4</td>\n",
       "      <td>2</td>\n",
       "    </tr>\n",
       "    <tr>\n",
       "      <th>21002</th>\n",
       "      <td>HEPG2-08/Plate4/O22_s2</td>\n",
       "      <td>HEPG2-08</td>\n",
       "      <td>3</td>\n",
       "      <td>4123</td>\n",
       "      <td>4</td>\n",
       "      <td>2</td>\n",
       "    </tr>\n",
       "    <tr>\n",
       "      <th>21003</th>\n",
       "      <td>HEPG2-08/Plate4/O23_s2</td>\n",
       "      <td>HEPG2-08</td>\n",
       "      <td>3</td>\n",
       "      <td>4123</td>\n",
       "      <td>4</td>\n",
       "      <td>2</td>\n",
       "    </tr>\n",
       "  </tbody>\n",
       "</table>\n",
       "<p>2214 rows × 6 columns</p>\n",
       "</div>"
      ],
      "text/plain": [
       "                         path experiment  group group_pattern plate  \\\n",
       "0      HEPG2-08/Plate1/B03_s1   HEPG2-08      3          4123     1   \n",
       "1      HEPG2-08/Plate1/B04_s1   HEPG2-08      3          4123     1   \n",
       "2      HEPG2-08/Plate1/B05_s1   HEPG2-08      3          4123     1   \n",
       "3      HEPG2-08/Plate1/B06_s1   HEPG2-08      3          4123     1   \n",
       "4      HEPG2-08/Plate1/B07_s1   HEPG2-08      3          4123     1   \n",
       "5      HEPG2-08/Plate1/B08_s1   HEPG2-08      3          4123     1   \n",
       "6      HEPG2-08/Plate1/B09_s1   HEPG2-08      3          4123     1   \n",
       "7      HEPG2-08/Plate1/B10_s1   HEPG2-08      3          4123     1   \n",
       "8      HEPG2-08/Plate1/B11_s1   HEPG2-08      3          4123     1   \n",
       "9      HEPG2-08/Plate1/B12_s1   HEPG2-08      3          4123     1   \n",
       "10     HEPG2-08/Plate1/B13_s1   HEPG2-08      3          4123     1   \n",
       "11     HEPG2-08/Plate1/B14_s1   HEPG2-08      3          4123     1   \n",
       "12     HEPG2-08/Plate1/B15_s1   HEPG2-08      3          4123     1   \n",
       "13     HEPG2-08/Plate1/B16_s1   HEPG2-08      3          4123     1   \n",
       "14     HEPG2-08/Plate1/B17_s1   HEPG2-08      3          4123     1   \n",
       "15     HEPG2-08/Plate1/B18_s1   HEPG2-08      3          4123     1   \n",
       "16     HEPG2-08/Plate1/B19_s1   HEPG2-08      3          4123     1   \n",
       "17     HEPG2-08/Plate1/B20_s1   HEPG2-08      3          4123     1   \n",
       "18     HEPG2-08/Plate1/B21_s1   HEPG2-08      3          4123     1   \n",
       "19     HEPG2-08/Plate1/B22_s1   HEPG2-08      3          4123     1   \n",
       "20     HEPG2-08/Plate1/B23_s1   HEPG2-08      3          4123     1   \n",
       "21     HEPG2-08/Plate1/C02_s1   HEPG2-08      3          4123     1   \n",
       "22     HEPG2-08/Plate1/C04_s1   HEPG2-08      3          4123     1   \n",
       "23     HEPG2-08/Plate1/C05_s1   HEPG2-08      3          4123     1   \n",
       "24     HEPG2-08/Plate1/C06_s1   HEPG2-08      3          4123     1   \n",
       "25     HEPG2-08/Plate1/C08_s1   HEPG2-08      3          4123     1   \n",
       "26     HEPG2-08/Plate1/C09_s1   HEPG2-08      3          4123     1   \n",
       "27     HEPG2-08/Plate1/C10_s1   HEPG2-08      3          4123     1   \n",
       "28     HEPG2-08/Plate1/C12_s1   HEPG2-08      3          4123     1   \n",
       "29     HEPG2-08/Plate1/C13_s1   HEPG2-08      3          4123     1   \n",
       "...                       ...        ...    ...           ...   ...   \n",
       "20974  HEPG2-08/Plate4/N16_s2   HEPG2-08      3          4123     4   \n",
       "20975  HEPG2-08/Plate4/N17_s2   HEPG2-08      3          4123     4   \n",
       "20976  HEPG2-08/Plate4/N18_s2   HEPG2-08      3          4123     4   \n",
       "20977  HEPG2-08/Plate4/N19_s2   HEPG2-08      3          4123     4   \n",
       "20978  HEPG2-08/Plate4/N20_s2   HEPG2-08      3          4123     4   \n",
       "20979  HEPG2-08/Plate4/N21_s2   HEPG2-08      3          4123     4   \n",
       "20980  HEPG2-08/Plate4/N22_s2   HEPG2-08      3          4123     4   \n",
       "20981  HEPG2-08/Plate4/N23_s2   HEPG2-08      3          4123     4   \n",
       "20982  HEPG2-08/Plate4/O02_s2   HEPG2-08      3          4123     4   \n",
       "20983  HEPG2-08/Plate4/O03_s2   HEPG2-08      3          4123     4   \n",
       "20984  HEPG2-08/Plate4/O04_s2   HEPG2-08      3          4123     4   \n",
       "20985  HEPG2-08/Plate4/O05_s2   HEPG2-08      3          4123     4   \n",
       "20986  HEPG2-08/Plate4/O06_s2   HEPG2-08      3          4123     4   \n",
       "20987  HEPG2-08/Plate4/O07_s2   HEPG2-08      3          4123     4   \n",
       "20988  HEPG2-08/Plate4/O08_s2   HEPG2-08      3          4123     4   \n",
       "20989  HEPG2-08/Plate4/O09_s2   HEPG2-08      3          4123     4   \n",
       "20990  HEPG2-08/Plate4/O10_s2   HEPG2-08      3          4123     4   \n",
       "20991  HEPG2-08/Plate4/O11_s2   HEPG2-08      3          4123     4   \n",
       "20992  HEPG2-08/Plate4/O12_s2   HEPG2-08      3          4123     4   \n",
       "20993  HEPG2-08/Plate4/O13_s2   HEPG2-08      3          4123     4   \n",
       "20994  HEPG2-08/Plate4/O14_s2   HEPG2-08      3          4123     4   \n",
       "20995  HEPG2-08/Plate4/O15_s2   HEPG2-08      3          4123     4   \n",
       "20996  HEPG2-08/Plate4/O16_s2   HEPG2-08      3          4123     4   \n",
       "20997  HEPG2-08/Plate4/O17_s2   HEPG2-08      3          4123     4   \n",
       "20998  HEPG2-08/Plate4/O18_s2   HEPG2-08      3          4123     4   \n",
       "20999  HEPG2-08/Plate4/O19_s2   HEPG2-08      3          4123     4   \n",
       "21000  HEPG2-08/Plate4/O20_s2   HEPG2-08      3          4123     4   \n",
       "21001  HEPG2-08/Plate4/O21_s2   HEPG2-08      3          4123     4   \n",
       "21002  HEPG2-08/Plate4/O22_s2   HEPG2-08      3          4123     4   \n",
       "21003  HEPG2-08/Plate4/O23_s2   HEPG2-08      3          4123     4   \n",
       "\n",
       "       plate_pattern  \n",
       "0                  3  \n",
       "1                  3  \n",
       "2                  3  \n",
       "3                  3  \n",
       "4                  3  \n",
       "5                  3  \n",
       "6                  3  \n",
       "7                  3  \n",
       "8                  3  \n",
       "9                  3  \n",
       "10                 3  \n",
       "11                 3  \n",
       "12                 3  \n",
       "13                 3  \n",
       "14                 3  \n",
       "15                 3  \n",
       "16                 3  \n",
       "17                 3  \n",
       "18                 3  \n",
       "19                 3  \n",
       "20                 3  \n",
       "21                 3  \n",
       "22                 3  \n",
       "23                 3  \n",
       "24                 3  \n",
       "25                 3  \n",
       "26                 3  \n",
       "27                 3  \n",
       "28                 3  \n",
       "29                 3  \n",
       "...              ...  \n",
       "20974              2  \n",
       "20975              2  \n",
       "20976              2  \n",
       "20977              2  \n",
       "20978              2  \n",
       "20979              2  \n",
       "20980              2  \n",
       "20981              2  \n",
       "20982              2  \n",
       "20983              2  \n",
       "20984              2  \n",
       "20985              2  \n",
       "20986              2  \n",
       "20987              2  \n",
       "20988              2  \n",
       "20989              2  \n",
       "20990              2  \n",
       "20991              2  \n",
       "20992              2  \n",
       "20993              2  \n",
       "20994              2  \n",
       "20995              2  \n",
       "20996              2  \n",
       "20997              2  \n",
       "20998              2  \n",
       "20999              2  \n",
       "21000              2  \n",
       "21001              2  \n",
       "21002              2  \n",
       "21003              2  \n",
       "\n",
       "[2214 rows x 6 columns]"
      ]
     },
     "execution_count": 156,
     "metadata": {},
     "output_type": "execute_result"
    }
   ],
   "source": [
    "df_full_test_group[((df_full_test_group['group_pattern'] == '4123') & (df_full_test_group['experiment'] == 'HEPG2-08'))]\n",
    "                    "
   ]
  },
  {
   "cell_type": "code",
   "execution_count": 225,
   "metadata": {
    "ExecuteTime": {
     "end_time": "2019-08-12T20:33:40.629459Z",
     "start_time": "2019-08-12T20:33:40.359315Z"
    }
   },
   "outputs": [],
   "source": [
    "df_full_train_group.to_csv('full_train_dataset_v2_plate_groups_20190812.csv')"
   ]
  },
  {
   "cell_type": "code",
   "execution_count": 226,
   "metadata": {
    "ExecuteTime": {
     "end_time": "2019-08-12T20:33:41.043120Z",
     "start_time": "2019-08-12T20:33:40.943460Z"
    }
   },
   "outputs": [],
   "source": [
    "df_full_test_group.to_csv('full_test_dataset_v2_plate_groups_20190812.csv')"
   ]
  },
  {
   "cell_type": "code",
   "execution_count": 227,
   "metadata": {
    "ExecuteTime": {
     "end_time": "2019-08-12T20:33:41.549699Z",
     "start_time": "2019-08-12T20:33:41.521712Z"
    }
   },
   "outputs": [
    {
     "name": "stdout",
     "output_type": "stream",
     "text": [
      "<class 'pandas.core.frame.DataFrame'>\n",
      "Int64Index: 73030 entries, 0 to 73029\n",
      "Data columns (total 9 columns):\n",
      "path             73030 non-null object\n",
      "experiment       73030 non-null object\n",
      "sirna            73030 non-null int64\n",
      "multi            73030 non-null object\n",
      "valid            73030 non-null int64\n",
      "group            73030 non-null int64\n",
      "group_pattern    73030 non-null object\n",
      "plate            73030 non-null object\n",
      "plate_pattern    73030 non-null int64\n",
      "dtypes: int64(4), object(5)\n",
      "memory usage: 5.6+ MB\n"
     ]
    }
   ],
   "source": [
    "df_full_train_group.info()"
   ]
  },
  {
   "cell_type": "code",
   "execution_count": 228,
   "metadata": {
    "ExecuteTime": {
     "end_time": "2019-08-12T20:33:42.123386Z",
     "start_time": "2019-08-12T20:33:42.103247Z"
    }
   },
   "outputs": [
    {
     "name": "stdout",
     "output_type": "stream",
     "text": [
      "<class 'pandas.core.frame.DataFrame'>\n",
      "Int64Index: 39794 entries, 0 to 39793\n",
      "Data columns (total 6 columns):\n",
      "path             39794 non-null object\n",
      "experiment       39794 non-null object\n",
      "group            39794 non-null int64\n",
      "group_pattern    39794 non-null object\n",
      "plate            39794 non-null object\n",
      "plate_pattern    39794 non-null int64\n",
      "dtypes: int64(2), object(4)\n",
      "memory usage: 2.1+ MB\n"
     ]
    }
   ],
   "source": [
    "df_full_test_group.info()"
   ]
  },
  {
   "cell_type": "code",
   "execution_count": 229,
   "metadata": {
    "ExecuteTime": {
     "end_time": "2019-08-12T20:33:42.691167Z",
     "start_time": "2019-08-12T20:33:42.674677Z"
    }
   },
   "outputs": [
    {
     "data": {
      "text/html": [
       "<div>\n",
       "<style scoped>\n",
       "    .dataframe tbody tr th:only-of-type {\n",
       "        vertical-align: middle;\n",
       "    }\n",
       "\n",
       "    .dataframe tbody tr th {\n",
       "        vertical-align: top;\n",
       "    }\n",
       "\n",
       "    .dataframe thead th {\n",
       "        text-align: right;\n",
       "    }\n",
       "</style>\n",
       "<table border=\"1\" class=\"dataframe\">\n",
       "  <thead>\n",
       "    <tr style=\"text-align: right;\">\n",
       "      <th></th>\n",
       "      <th>path</th>\n",
       "      <th>plate_pattern</th>\n",
       "    </tr>\n",
       "  </thead>\n",
       "  <tbody>\n",
       "    <tr>\n",
       "      <th>0</th>\n",
       "      <td>HEPG2-01/Plate1/B03_s1</td>\n",
       "      <td>0</td>\n",
       "    </tr>\n",
       "    <tr>\n",
       "      <th>1</th>\n",
       "      <td>HEPG2-01/Plate1/B04_s1</td>\n",
       "      <td>0</td>\n",
       "    </tr>\n",
       "    <tr>\n",
       "      <th>2</th>\n",
       "      <td>HEPG2-01/Plate1/B05_s1</td>\n",
       "      <td>0</td>\n",
       "    </tr>\n",
       "    <tr>\n",
       "      <th>3</th>\n",
       "      <td>HEPG2-01/Plate1/B06_s1</td>\n",
       "      <td>0</td>\n",
       "    </tr>\n",
       "    <tr>\n",
       "      <th>4</th>\n",
       "      <td>HEPG2-01/Plate1/B07_s1</td>\n",
       "      <td>0</td>\n",
       "    </tr>\n",
       "  </tbody>\n",
       "</table>\n",
       "</div>"
      ],
      "text/plain": [
       "                     path  plate_pattern\n",
       "0  HEPG2-01/Plate1/B03_s1              0\n",
       "1  HEPG2-01/Plate1/B04_s1              0\n",
       "2  HEPG2-01/Plate1/B05_s1              0\n",
       "3  HEPG2-01/Plate1/B06_s1              0\n",
       "4  HEPG2-01/Plate1/B07_s1              0"
      ]
     },
     "execution_count": 229,
     "metadata": {},
     "output_type": "execute_result"
    }
   ],
   "source": [
    "df_full_train_group[['path','plate_pattern']].head()"
   ]
  },
  {
   "cell_type": "code",
   "execution_count": 230,
   "metadata": {
    "ExecuteTime": {
     "end_time": "2019-08-12T20:33:43.134151Z",
     "start_time": "2019-08-12T20:33:43.117978Z"
    }
   },
   "outputs": [
    {
     "data": {
      "text/html": [
       "<div>\n",
       "<style scoped>\n",
       "    .dataframe tbody tr th:only-of-type {\n",
       "        vertical-align: middle;\n",
       "    }\n",
       "\n",
       "    .dataframe tbody tr th {\n",
       "        vertical-align: top;\n",
       "    }\n",
       "\n",
       "    .dataframe thead th {\n",
       "        text-align: right;\n",
       "    }\n",
       "</style>\n",
       "<table border=\"1\" class=\"dataframe\">\n",
       "  <thead>\n",
       "    <tr style=\"text-align: right;\">\n",
       "      <th></th>\n",
       "      <th>path</th>\n",
       "      <th>plate_pattern</th>\n",
       "    </tr>\n",
       "  </thead>\n",
       "  <tbody>\n",
       "    <tr>\n",
       "      <th>0</th>\n",
       "      <td>HEPG2-08/Plate1/B03_s1</td>\n",
       "      <td>3</td>\n",
       "    </tr>\n",
       "    <tr>\n",
       "      <th>1</th>\n",
       "      <td>HEPG2-08/Plate1/B04_s1</td>\n",
       "      <td>3</td>\n",
       "    </tr>\n",
       "    <tr>\n",
       "      <th>2</th>\n",
       "      <td>HEPG2-08/Plate1/B05_s1</td>\n",
       "      <td>3</td>\n",
       "    </tr>\n",
       "    <tr>\n",
       "      <th>3</th>\n",
       "      <td>HEPG2-08/Plate1/B06_s1</td>\n",
       "      <td>3</td>\n",
       "    </tr>\n",
       "    <tr>\n",
       "      <th>4</th>\n",
       "      <td>HEPG2-08/Plate1/B07_s1</td>\n",
       "      <td>3</td>\n",
       "    </tr>\n",
       "  </tbody>\n",
       "</table>\n",
       "</div>"
      ],
      "text/plain": [
       "                     path  plate_pattern\n",
       "0  HEPG2-08/Plate1/B03_s1              3\n",
       "1  HEPG2-08/Plate1/B04_s1              3\n",
       "2  HEPG2-08/Plate1/B05_s1              3\n",
       "3  HEPG2-08/Plate1/B06_s1              3\n",
       "4  HEPG2-08/Plate1/B07_s1              3"
      ]
     },
     "execution_count": 230,
     "metadata": {},
     "output_type": "execute_result"
    }
   ],
   "source": [
    "df_full_test_group[['path','plate_pattern']].head()"
   ]
  },
  {
   "cell_type": "code",
   "execution_count": 231,
   "metadata": {
    "ExecuteTime": {
     "end_time": "2019-08-12T20:33:43.646966Z",
     "start_time": "2019-08-12T20:33:43.620234Z"
    }
   },
   "outputs": [],
   "source": [
    "df_full_train_group['path'] = df_full_train_group['path'].apply(lambda x: 'train/'+x)\n",
    "df_full_test_group['path'] = df_full_test_group['path'].apply(lambda x: 'test/'+x)"
   ]
  },
  {
   "cell_type": "code",
   "execution_count": 232,
   "metadata": {
    "ExecuteTime": {
     "end_time": "2019-08-12T20:33:44.087892Z",
     "start_time": "2019-08-12T20:33:44.070490Z"
    }
   },
   "outputs": [],
   "source": [
    "df_full_plate_pattern = pd.concat([df_full_train_group[['path','plate_pattern']],\n",
    "                                   df_full_test_group[['path','plate_pattern']]], axis=0)"
   ]
  },
  {
   "cell_type": "code",
   "execution_count": 233,
   "metadata": {
    "ExecuteTime": {
     "end_time": "2019-08-12T20:33:44.651078Z",
     "start_time": "2019-08-12T20:33:44.635802Z"
    }
   },
   "outputs": [
    {
     "data": {
      "text/html": [
       "<div>\n",
       "<style scoped>\n",
       "    .dataframe tbody tr th:only-of-type {\n",
       "        vertical-align: middle;\n",
       "    }\n",
       "\n",
       "    .dataframe tbody tr th {\n",
       "        vertical-align: top;\n",
       "    }\n",
       "\n",
       "    .dataframe thead th {\n",
       "        text-align: right;\n",
       "    }\n",
       "</style>\n",
       "<table border=\"1\" class=\"dataframe\">\n",
       "  <thead>\n",
       "    <tr style=\"text-align: right;\">\n",
       "      <th></th>\n",
       "      <th>path</th>\n",
       "      <th>plate_pattern</th>\n",
       "    </tr>\n",
       "  </thead>\n",
       "  <tbody>\n",
       "    <tr>\n",
       "      <th>0</th>\n",
       "      <td>train/HEPG2-01/Plate1/B03_s1</td>\n",
       "      <td>0</td>\n",
       "    </tr>\n",
       "    <tr>\n",
       "      <th>1</th>\n",
       "      <td>train/HEPG2-01/Plate1/B04_s1</td>\n",
       "      <td>0</td>\n",
       "    </tr>\n",
       "    <tr>\n",
       "      <th>2</th>\n",
       "      <td>train/HEPG2-01/Plate1/B05_s1</td>\n",
       "      <td>0</td>\n",
       "    </tr>\n",
       "    <tr>\n",
       "      <th>3</th>\n",
       "      <td>train/HEPG2-01/Plate1/B06_s1</td>\n",
       "      <td>0</td>\n",
       "    </tr>\n",
       "    <tr>\n",
       "      <th>4</th>\n",
       "      <td>train/HEPG2-01/Plate1/B07_s1</td>\n",
       "      <td>0</td>\n",
       "    </tr>\n",
       "  </tbody>\n",
       "</table>\n",
       "</div>"
      ],
      "text/plain": [
       "                           path  plate_pattern\n",
       "0  train/HEPG2-01/Plate1/B03_s1              0\n",
       "1  train/HEPG2-01/Plate1/B04_s1              0\n",
       "2  train/HEPG2-01/Plate1/B05_s1              0\n",
       "3  train/HEPG2-01/Plate1/B06_s1              0\n",
       "4  train/HEPG2-01/Plate1/B07_s1              0"
      ]
     },
     "execution_count": 233,
     "metadata": {},
     "output_type": "execute_result"
    }
   ],
   "source": [
    "df_full_plate_pattern.head()"
   ]
  },
  {
   "cell_type": "code",
   "execution_count": 234,
   "metadata": {
    "ExecuteTime": {
     "end_time": "2019-08-12T20:33:45.246899Z",
     "start_time": "2019-08-12T20:33:45.231432Z"
    }
   },
   "outputs": [
    {
     "data": {
      "text/html": [
       "<div>\n",
       "<style scoped>\n",
       "    .dataframe tbody tr th:only-of-type {\n",
       "        vertical-align: middle;\n",
       "    }\n",
       "\n",
       "    .dataframe tbody tr th {\n",
       "        vertical-align: top;\n",
       "    }\n",
       "\n",
       "    .dataframe thead th {\n",
       "        text-align: right;\n",
       "    }\n",
       "</style>\n",
       "<table border=\"1\" class=\"dataframe\">\n",
       "  <thead>\n",
       "    <tr style=\"text-align: right;\">\n",
       "      <th></th>\n",
       "      <th>path</th>\n",
       "      <th>plate_pattern</th>\n",
       "    </tr>\n",
       "  </thead>\n",
       "  <tbody>\n",
       "    <tr>\n",
       "      <th>39789</th>\n",
       "      <td>test/U2OS-05/Plate4/O19_s2</td>\n",
       "      <td>2</td>\n",
       "    </tr>\n",
       "    <tr>\n",
       "      <th>39790</th>\n",
       "      <td>test/U2OS-05/Plate4/O20_s2</td>\n",
       "      <td>2</td>\n",
       "    </tr>\n",
       "    <tr>\n",
       "      <th>39791</th>\n",
       "      <td>test/U2OS-05/Plate4/O21_s2</td>\n",
       "      <td>2</td>\n",
       "    </tr>\n",
       "    <tr>\n",
       "      <th>39792</th>\n",
       "      <td>test/U2OS-05/Plate4/O22_s2</td>\n",
       "      <td>2</td>\n",
       "    </tr>\n",
       "    <tr>\n",
       "      <th>39793</th>\n",
       "      <td>test/U2OS-05/Plate4/O23_s2</td>\n",
       "      <td>2</td>\n",
       "    </tr>\n",
       "  </tbody>\n",
       "</table>\n",
       "</div>"
      ],
      "text/plain": [
       "                             path  plate_pattern\n",
       "39789  test/U2OS-05/Plate4/O19_s2              2\n",
       "39790  test/U2OS-05/Plate4/O20_s2              2\n",
       "39791  test/U2OS-05/Plate4/O21_s2              2\n",
       "39792  test/U2OS-05/Plate4/O22_s2              2\n",
       "39793  test/U2OS-05/Plate4/O23_s2              2"
      ]
     },
     "execution_count": 234,
     "metadata": {},
     "output_type": "execute_result"
    }
   ],
   "source": [
    "df_full_plate_pattern.tail()"
   ]
  },
  {
   "cell_type": "code",
   "execution_count": 235,
   "metadata": {
    "ExecuteTime": {
     "end_time": "2019-08-12T20:33:45.896240Z",
     "start_time": "2019-08-12T20:33:45.719214Z"
    }
   },
   "outputs": [],
   "source": [
    "df_full_plate_pattern.to_csv('full_dataset_v2_path_plate_groups_only_20190812.csv')"
   ]
  },
  {
   "cell_type": "code",
   "execution_count": 236,
   "metadata": {
    "ExecuteTime": {
     "end_time": "2019-08-12T20:33:46.272760Z",
     "start_time": "2019-08-12T20:33:46.257578Z"
    }
   },
   "outputs": [
    {
     "data": {
      "text/html": [
       "<div>\n",
       "<style scoped>\n",
       "    .dataframe tbody tr th:only-of-type {\n",
       "        vertical-align: middle;\n",
       "    }\n",
       "\n",
       "    .dataframe tbody tr th {\n",
       "        vertical-align: top;\n",
       "    }\n",
       "\n",
       "    .dataframe thead th {\n",
       "        text-align: right;\n",
       "    }\n",
       "</style>\n",
       "<table border=\"1\" class=\"dataframe\">\n",
       "  <thead>\n",
       "    <tr style=\"text-align: right;\">\n",
       "      <th></th>\n",
       "      <th>path</th>\n",
       "      <th>plate_pattern</th>\n",
       "    </tr>\n",
       "  </thead>\n",
       "  <tbody>\n",
       "    <tr>\n",
       "      <th>0</th>\n",
       "      <td>train/HEPG2-01/Plate1/B03_s1</td>\n",
       "      <td>0</td>\n",
       "    </tr>\n",
       "    <tr>\n",
       "      <th>1</th>\n",
       "      <td>train/HEPG2-01/Plate1/B04_s1</td>\n",
       "      <td>0</td>\n",
       "    </tr>\n",
       "    <tr>\n",
       "      <th>2</th>\n",
       "      <td>train/HEPG2-01/Plate1/B05_s1</td>\n",
       "      <td>0</td>\n",
       "    </tr>\n",
       "    <tr>\n",
       "      <th>3</th>\n",
       "      <td>train/HEPG2-01/Plate1/B06_s1</td>\n",
       "      <td>0</td>\n",
       "    </tr>\n",
       "    <tr>\n",
       "      <th>4</th>\n",
       "      <td>train/HEPG2-01/Plate1/B07_s1</td>\n",
       "      <td>0</td>\n",
       "    </tr>\n",
       "  </tbody>\n",
       "</table>\n",
       "</div>"
      ],
      "text/plain": [
       "                           path  plate_pattern\n",
       "0  train/HEPG2-01/Plate1/B03_s1              0\n",
       "1  train/HEPG2-01/Plate1/B04_s1              0\n",
       "2  train/HEPG2-01/Plate1/B05_s1              0\n",
       "3  train/HEPG2-01/Plate1/B06_s1              0\n",
       "4  train/HEPG2-01/Plate1/B07_s1              0"
      ]
     },
     "execution_count": 236,
     "metadata": {},
     "output_type": "execute_result"
    }
   ],
   "source": [
    "df_full_plate_pattern.head()"
   ]
  },
  {
   "cell_type": "code",
   "execution_count": 237,
   "metadata": {
    "ExecuteTime": {
     "end_time": "2019-08-12T20:33:46.833153Z",
     "start_time": "2019-08-12T20:33:46.820989Z"
    }
   },
   "outputs": [],
   "source": [
    "#dict(zip(df_full_plate_pattern.path.values, df_full_plate_pattern.plate_pattern.values))"
   ]
  },
  {
   "cell_type": "markdown",
   "metadata": {},
   "source": [
    "# v2 + plate groups + celltype"
   ]
  },
  {
   "cell_type": "markdown",
   "metadata": {},
   "source": [
    "## full_train_dataset_valid-split-ex_v2_ct_20190824.csv"
   ]
  },
  {
   "cell_type": "code",
   "execution_count": 4,
   "metadata": {
    "ExecuteTime": {
     "end_time": "2019-08-26T17:53:28.726312Z",
     "start_time": "2019-08-26T17:53:28.642249Z"
    }
   },
   "outputs": [],
   "source": [
    "df_train = pd.read_csv('full_train_dataset_valid-split-ex_v2_20190727.csv', index_col=0)"
   ]
  },
  {
   "cell_type": "code",
   "execution_count": 5,
   "metadata": {
    "ExecuteTime": {
     "end_time": "2019-08-26T17:53:31.506596Z",
     "start_time": "2019-08-26T17:53:31.490874Z"
    }
   },
   "outputs": [
    {
     "data": {
      "text/html": [
       "<div>\n",
       "<style scoped>\n",
       "    .dataframe tbody tr th:only-of-type {\n",
       "        vertical-align: middle;\n",
       "    }\n",
       "\n",
       "    .dataframe tbody tr th {\n",
       "        vertical-align: top;\n",
       "    }\n",
       "\n",
       "    .dataframe thead th {\n",
       "        text-align: right;\n",
       "    }\n",
       "</style>\n",
       "<table border=\"1\" class=\"dataframe\">\n",
       "  <thead>\n",
       "    <tr style=\"text-align: right;\">\n",
       "      <th></th>\n",
       "      <th>path</th>\n",
       "      <th>experiment</th>\n",
       "      <th>sirna</th>\n",
       "      <th>multi</th>\n",
       "      <th>valid</th>\n",
       "    </tr>\n",
       "  </thead>\n",
       "  <tbody>\n",
       "    <tr>\n",
       "      <th>0</th>\n",
       "      <td>HEPG2-01/Plate1/B03_s1</td>\n",
       "      <td>HEPG2-01</td>\n",
       "      <td>513</td>\n",
       "      <td>HEPG2-01 513</td>\n",
       "      <td>0</td>\n",
       "    </tr>\n",
       "    <tr>\n",
       "      <th>1</th>\n",
       "      <td>HEPG2-01/Plate1/B04_s1</td>\n",
       "      <td>HEPG2-01</td>\n",
       "      <td>840</td>\n",
       "      <td>HEPG2-01 840</td>\n",
       "      <td>0</td>\n",
       "    </tr>\n",
       "    <tr>\n",
       "      <th>2</th>\n",
       "      <td>HEPG2-01/Plate1/B05_s1</td>\n",
       "      <td>HEPG2-01</td>\n",
       "      <td>1020</td>\n",
       "      <td>HEPG2-01 1020</td>\n",
       "      <td>0</td>\n",
       "    </tr>\n",
       "    <tr>\n",
       "      <th>3</th>\n",
       "      <td>HEPG2-01/Plate1/B06_s1</td>\n",
       "      <td>HEPG2-01</td>\n",
       "      <td>254</td>\n",
       "      <td>HEPG2-01 254</td>\n",
       "      <td>0</td>\n",
       "    </tr>\n",
       "    <tr>\n",
       "      <th>4</th>\n",
       "      <td>HEPG2-01/Plate1/B07_s1</td>\n",
       "      <td>HEPG2-01</td>\n",
       "      <td>144</td>\n",
       "      <td>HEPG2-01 144</td>\n",
       "      <td>0</td>\n",
       "    </tr>\n",
       "  </tbody>\n",
       "</table>\n",
       "</div>"
      ],
      "text/plain": [
       "                     path experiment  sirna          multi  valid\n",
       "0  HEPG2-01/Plate1/B03_s1   HEPG2-01    513   HEPG2-01 513      0\n",
       "1  HEPG2-01/Plate1/B04_s1   HEPG2-01    840   HEPG2-01 840      0\n",
       "2  HEPG2-01/Plate1/B05_s1   HEPG2-01   1020  HEPG2-01 1020      0\n",
       "3  HEPG2-01/Plate1/B06_s1   HEPG2-01    254   HEPG2-01 254      0\n",
       "4  HEPG2-01/Plate1/B07_s1   HEPG2-01    144   HEPG2-01 144      0"
      ]
     },
     "execution_count": 5,
     "metadata": {},
     "output_type": "execute_result"
    }
   ],
   "source": [
    "df_train.head()"
   ]
  },
  {
   "cell_type": "code",
   "execution_count": 6,
   "metadata": {
    "ExecuteTime": {
     "end_time": "2019-08-26T17:53:31.819545Z",
     "start_time": "2019-08-26T17:53:31.790014Z"
    }
   },
   "outputs": [],
   "source": [
    "df_train['celltype'] = df_train['experiment'].apply(lambda x: x.split('-')[0])"
   ]
  },
  {
   "cell_type": "code",
   "execution_count": 7,
   "metadata": {
    "ExecuteTime": {
     "end_time": "2019-08-26T17:53:32.135402Z",
     "start_time": "2019-08-26T17:53:32.121995Z"
    }
   },
   "outputs": [
    {
     "data": {
      "text/html": [
       "<div>\n",
       "<style scoped>\n",
       "    .dataframe tbody tr th:only-of-type {\n",
       "        vertical-align: middle;\n",
       "    }\n",
       "\n",
       "    .dataframe tbody tr th {\n",
       "        vertical-align: top;\n",
       "    }\n",
       "\n",
       "    .dataframe thead th {\n",
       "        text-align: right;\n",
       "    }\n",
       "</style>\n",
       "<table border=\"1\" class=\"dataframe\">\n",
       "  <thead>\n",
       "    <tr style=\"text-align: right;\">\n",
       "      <th></th>\n",
       "      <th>path</th>\n",
       "      <th>experiment</th>\n",
       "      <th>sirna</th>\n",
       "      <th>multi</th>\n",
       "      <th>valid</th>\n",
       "      <th>celltype</th>\n",
       "    </tr>\n",
       "  </thead>\n",
       "  <tbody>\n",
       "    <tr>\n",
       "      <th>0</th>\n",
       "      <td>HEPG2-01/Plate1/B03_s1</td>\n",
       "      <td>HEPG2-01</td>\n",
       "      <td>513</td>\n",
       "      <td>HEPG2-01 513</td>\n",
       "      <td>0</td>\n",
       "      <td>HEPG2</td>\n",
       "    </tr>\n",
       "    <tr>\n",
       "      <th>1</th>\n",
       "      <td>HEPG2-01/Plate1/B04_s1</td>\n",
       "      <td>HEPG2-01</td>\n",
       "      <td>840</td>\n",
       "      <td>HEPG2-01 840</td>\n",
       "      <td>0</td>\n",
       "      <td>HEPG2</td>\n",
       "    </tr>\n",
       "    <tr>\n",
       "      <th>2</th>\n",
       "      <td>HEPG2-01/Plate1/B05_s1</td>\n",
       "      <td>HEPG2-01</td>\n",
       "      <td>1020</td>\n",
       "      <td>HEPG2-01 1020</td>\n",
       "      <td>0</td>\n",
       "      <td>HEPG2</td>\n",
       "    </tr>\n",
       "    <tr>\n",
       "      <th>3</th>\n",
       "      <td>HEPG2-01/Plate1/B06_s1</td>\n",
       "      <td>HEPG2-01</td>\n",
       "      <td>254</td>\n",
       "      <td>HEPG2-01 254</td>\n",
       "      <td>0</td>\n",
       "      <td>HEPG2</td>\n",
       "    </tr>\n",
       "    <tr>\n",
       "      <th>4</th>\n",
       "      <td>HEPG2-01/Plate1/B07_s1</td>\n",
       "      <td>HEPG2-01</td>\n",
       "      <td>144</td>\n",
       "      <td>HEPG2-01 144</td>\n",
       "      <td>0</td>\n",
       "      <td>HEPG2</td>\n",
       "    </tr>\n",
       "  </tbody>\n",
       "</table>\n",
       "</div>"
      ],
      "text/plain": [
       "                     path experiment  sirna          multi  valid celltype\n",
       "0  HEPG2-01/Plate1/B03_s1   HEPG2-01    513   HEPG2-01 513      0    HEPG2\n",
       "1  HEPG2-01/Plate1/B04_s1   HEPG2-01    840   HEPG2-01 840      0    HEPG2\n",
       "2  HEPG2-01/Plate1/B05_s1   HEPG2-01   1020  HEPG2-01 1020      0    HEPG2\n",
       "3  HEPG2-01/Plate1/B06_s1   HEPG2-01    254   HEPG2-01 254      0    HEPG2\n",
       "4  HEPG2-01/Plate1/B07_s1   HEPG2-01    144   HEPG2-01 144      0    HEPG2"
      ]
     },
     "execution_count": 7,
     "metadata": {},
     "output_type": "execute_result"
    }
   ],
   "source": [
    "df_train.head()"
   ]
  },
  {
   "cell_type": "code",
   "execution_count": 8,
   "metadata": {
    "ExecuteTime": {
     "end_time": "2019-08-26T17:53:32.299371Z",
     "start_time": "2019-08-26T17:53:32.287218Z"
    }
   },
   "outputs": [
    {
     "data": {
      "text/plain": [
       "array(['HEPG2', 'HUVEC', 'RPE', 'U2OS'], dtype=object)"
      ]
     },
     "execution_count": 8,
     "metadata": {},
     "output_type": "execute_result"
    }
   ],
   "source": [
    "df_train['celltype'].unique()"
   ]
  },
  {
   "cell_type": "code",
   "execution_count": 9,
   "metadata": {
    "ExecuteTime": {
     "end_time": "2019-08-26T17:53:33.421311Z",
     "start_time": "2019-08-26T17:53:33.413349Z"
    }
   },
   "outputs": [],
   "source": [
    "cts = ['HEPG2', 'HUVEC', 'RPE', 'U2OS']"
   ]
  },
  {
   "cell_type": "code",
   "execution_count": 13,
   "metadata": {
    "ExecuteTime": {
     "end_time": "2019-08-26T17:54:12.610678Z",
     "start_time": "2019-08-26T17:54:12.552920Z"
    }
   },
   "outputs": [
    {
     "name": "stdout",
     "output_type": "stream",
     "text": [
      "HEPG2\n",
      "total: 15500\n",
      "valid: 4428 0.2856774193548387\n",
      "HUVEC\n",
      "total: 35376\n",
      "valid: 4404 0.12449118046132972\n",
      "RPE\n",
      "total: 15506\n",
      "valid: 4428 0.2855668773378047\n",
      "U2OS\n",
      "total: 6648\n",
      "valid: 2216 0.3333333333333333\n"
     ]
    }
   ],
   "source": [
    "# check validation set balance\n",
    "for ct in cts:\n",
    "    print(ct)\n",
    "    print('total:', len(df_train[df_train['celltype'] == ct]))\n",
    "    print('valid:', df_train[df_train['celltype'] == ct].valid.sum(), df_train[df_train['celltype'] == ct].valid.mean())"
   ]
  },
  {
   "cell_type": "code",
   "execution_count": 36,
   "metadata": {
    "ExecuteTime": {
     "end_time": "2019-08-24T18:56:25.048550Z",
     "start_time": "2019-08-24T18:56:24.854270Z"
    }
   },
   "outputs": [],
   "source": [
    "df_train.to_csv('full_train_dataset_valid-split-ex_v2_ct_20190824.csv')"
   ]
  },
  {
   "cell_type": "markdown",
   "metadata": {},
   "source": [
    "## full_test_dataset_v2_ct_20190824.csv"
   ]
  },
  {
   "cell_type": "code",
   "execution_count": 14,
   "metadata": {
    "ExecuteTime": {
     "end_time": "2019-08-26T17:54:23.714582Z",
     "start_time": "2019-08-26T17:54:23.668026Z"
    }
   },
   "outputs": [],
   "source": [
    "df_test = pd.read_csv('full_test_dataset_v2_20190727.csv', index_col=0)"
   ]
  },
  {
   "cell_type": "code",
   "execution_count": 15,
   "metadata": {
    "ExecuteTime": {
     "end_time": "2019-08-26T17:54:24.709788Z",
     "start_time": "2019-08-26T17:54:24.700134Z"
    }
   },
   "outputs": [
    {
     "data": {
      "text/html": [
       "<div>\n",
       "<style scoped>\n",
       "    .dataframe tbody tr th:only-of-type {\n",
       "        vertical-align: middle;\n",
       "    }\n",
       "\n",
       "    .dataframe tbody tr th {\n",
       "        vertical-align: top;\n",
       "    }\n",
       "\n",
       "    .dataframe thead th {\n",
       "        text-align: right;\n",
       "    }\n",
       "</style>\n",
       "<table border=\"1\" class=\"dataframe\">\n",
       "  <thead>\n",
       "    <tr style=\"text-align: right;\">\n",
       "      <th></th>\n",
       "      <th>path</th>\n",
       "      <th>experiment</th>\n",
       "    </tr>\n",
       "  </thead>\n",
       "  <tbody>\n",
       "    <tr>\n",
       "      <th>0</th>\n",
       "      <td>HEPG2-08/Plate1/B03_s1</td>\n",
       "      <td>HEPG2-08</td>\n",
       "    </tr>\n",
       "    <tr>\n",
       "      <th>1</th>\n",
       "      <td>HEPG2-08/Plate1/B04_s1</td>\n",
       "      <td>HEPG2-08</td>\n",
       "    </tr>\n",
       "    <tr>\n",
       "      <th>2</th>\n",
       "      <td>HEPG2-08/Plate1/B05_s1</td>\n",
       "      <td>HEPG2-08</td>\n",
       "    </tr>\n",
       "    <tr>\n",
       "      <th>3</th>\n",
       "      <td>HEPG2-08/Plate1/B06_s1</td>\n",
       "      <td>HEPG2-08</td>\n",
       "    </tr>\n",
       "    <tr>\n",
       "      <th>4</th>\n",
       "      <td>HEPG2-08/Plate1/B07_s1</td>\n",
       "      <td>HEPG2-08</td>\n",
       "    </tr>\n",
       "  </tbody>\n",
       "</table>\n",
       "</div>"
      ],
      "text/plain": [
       "                     path experiment\n",
       "0  HEPG2-08/Plate1/B03_s1   HEPG2-08\n",
       "1  HEPG2-08/Plate1/B04_s1   HEPG2-08\n",
       "2  HEPG2-08/Plate1/B05_s1   HEPG2-08\n",
       "3  HEPG2-08/Plate1/B06_s1   HEPG2-08\n",
       "4  HEPG2-08/Plate1/B07_s1   HEPG2-08"
      ]
     },
     "execution_count": 15,
     "metadata": {},
     "output_type": "execute_result"
    }
   ],
   "source": [
    "df_test.head()"
   ]
  },
  {
   "cell_type": "code",
   "execution_count": 16,
   "metadata": {
    "ExecuteTime": {
     "end_time": "2019-08-26T17:54:25.308916Z",
     "start_time": "2019-08-26T17:54:25.285792Z"
    }
   },
   "outputs": [],
   "source": [
    "df_test['celltype'] = df_test['experiment'].apply(lambda x: x.split('-')[0])"
   ]
  },
  {
   "cell_type": "code",
   "execution_count": 17,
   "metadata": {
    "ExecuteTime": {
     "end_time": "2019-08-26T17:54:25.996326Z",
     "start_time": "2019-08-26T17:54:25.979536Z"
    }
   },
   "outputs": [
    {
     "data": {
      "text/html": [
       "<div>\n",
       "<style scoped>\n",
       "    .dataframe tbody tr th:only-of-type {\n",
       "        vertical-align: middle;\n",
       "    }\n",
       "\n",
       "    .dataframe tbody tr th {\n",
       "        vertical-align: top;\n",
       "    }\n",
       "\n",
       "    .dataframe thead th {\n",
       "        text-align: right;\n",
       "    }\n",
       "</style>\n",
       "<table border=\"1\" class=\"dataframe\">\n",
       "  <thead>\n",
       "    <tr style=\"text-align: right;\">\n",
       "      <th></th>\n",
       "      <th>path</th>\n",
       "      <th>experiment</th>\n",
       "      <th>celltype</th>\n",
       "    </tr>\n",
       "  </thead>\n",
       "  <tbody>\n",
       "    <tr>\n",
       "      <th>0</th>\n",
       "      <td>HEPG2-08/Plate1/B03_s1</td>\n",
       "      <td>HEPG2-08</td>\n",
       "      <td>HEPG2</td>\n",
       "    </tr>\n",
       "    <tr>\n",
       "      <th>1</th>\n",
       "      <td>HEPG2-08/Plate1/B04_s1</td>\n",
       "      <td>HEPG2-08</td>\n",
       "      <td>HEPG2</td>\n",
       "    </tr>\n",
       "    <tr>\n",
       "      <th>2</th>\n",
       "      <td>HEPG2-08/Plate1/B05_s1</td>\n",
       "      <td>HEPG2-08</td>\n",
       "      <td>HEPG2</td>\n",
       "    </tr>\n",
       "    <tr>\n",
       "      <th>3</th>\n",
       "      <td>HEPG2-08/Plate1/B06_s1</td>\n",
       "      <td>HEPG2-08</td>\n",
       "      <td>HEPG2</td>\n",
       "    </tr>\n",
       "    <tr>\n",
       "      <th>4</th>\n",
       "      <td>HEPG2-08/Plate1/B07_s1</td>\n",
       "      <td>HEPG2-08</td>\n",
       "      <td>HEPG2</td>\n",
       "    </tr>\n",
       "  </tbody>\n",
       "</table>\n",
       "</div>"
      ],
      "text/plain": [
       "                     path experiment celltype\n",
       "0  HEPG2-08/Plate1/B03_s1   HEPG2-08    HEPG2\n",
       "1  HEPG2-08/Plate1/B04_s1   HEPG2-08    HEPG2\n",
       "2  HEPG2-08/Plate1/B05_s1   HEPG2-08    HEPG2\n",
       "3  HEPG2-08/Plate1/B06_s1   HEPG2-08    HEPG2\n",
       "4  HEPG2-08/Plate1/B07_s1   HEPG2-08    HEPG2"
      ]
     },
     "execution_count": 17,
     "metadata": {},
     "output_type": "execute_result"
    }
   ],
   "source": [
    "df_test.head()"
   ]
  },
  {
   "cell_type": "code",
   "execution_count": 21,
   "metadata": {
    "ExecuteTime": {
     "end_time": "2019-08-26T18:05:42.438979Z",
     "start_time": "2019-08-26T18:05:42.429373Z"
    }
   },
   "outputs": [
    {
     "data": {
      "text/html": [
       "<div>\n",
       "<style scoped>\n",
       "    .dataframe tbody tr th:only-of-type {\n",
       "        vertical-align: middle;\n",
       "    }\n",
       "\n",
       "    .dataframe tbody tr th {\n",
       "        vertical-align: top;\n",
       "    }\n",
       "\n",
       "    .dataframe thead th {\n",
       "        text-align: right;\n",
       "    }\n",
       "</style>\n",
       "<table border=\"1\" class=\"dataframe\">\n",
       "  <thead>\n",
       "    <tr style=\"text-align: right;\">\n",
       "      <th></th>\n",
       "      <th>path</th>\n",
       "      <th>experiment</th>\n",
       "      <th>celltype</th>\n",
       "    </tr>\n",
       "  </thead>\n",
       "  <tbody>\n",
       "    <tr>\n",
       "      <th>19892</th>\n",
       "      <td>U2OS-05/Plate4/O19_s2</td>\n",
       "      <td>U2OS-05</td>\n",
       "      <td>U2OS</td>\n",
       "    </tr>\n",
       "    <tr>\n",
       "      <th>19893</th>\n",
       "      <td>U2OS-05/Plate4/O20_s2</td>\n",
       "      <td>U2OS-05</td>\n",
       "      <td>U2OS</td>\n",
       "    </tr>\n",
       "    <tr>\n",
       "      <th>19894</th>\n",
       "      <td>U2OS-05/Plate4/O21_s2</td>\n",
       "      <td>U2OS-05</td>\n",
       "      <td>U2OS</td>\n",
       "    </tr>\n",
       "    <tr>\n",
       "      <th>19895</th>\n",
       "      <td>U2OS-05/Plate4/O22_s2</td>\n",
       "      <td>U2OS-05</td>\n",
       "      <td>U2OS</td>\n",
       "    </tr>\n",
       "    <tr>\n",
       "      <th>19896</th>\n",
       "      <td>U2OS-05/Plate4/O23_s2</td>\n",
       "      <td>U2OS-05</td>\n",
       "      <td>U2OS</td>\n",
       "    </tr>\n",
       "  </tbody>\n",
       "</table>\n",
       "</div>"
      ],
      "text/plain": [
       "                        path experiment celltype\n",
       "19892  U2OS-05/Plate4/O19_s2    U2OS-05     U2OS\n",
       "19893  U2OS-05/Plate4/O20_s2    U2OS-05     U2OS\n",
       "19894  U2OS-05/Plate4/O21_s2    U2OS-05     U2OS\n",
       "19895  U2OS-05/Plate4/O22_s2    U2OS-05     U2OS\n",
       "19896  U2OS-05/Plate4/O23_s2    U2OS-05     U2OS"
      ]
     },
     "execution_count": 21,
     "metadata": {},
     "output_type": "execute_result"
    }
   ],
   "source": [
    "df_test.tail()"
   ]
  },
  {
   "cell_type": "code",
   "execution_count": 18,
   "metadata": {
    "ExecuteTime": {
     "end_time": "2019-08-26T17:54:36.121767Z",
     "start_time": "2019-08-26T17:54:36.111581Z"
    }
   },
   "outputs": [
    {
     "data": {
      "text/plain": [
       "array(['HEPG2', 'HUVEC', 'RPE', 'U2OS'], dtype=object)"
      ]
     },
     "execution_count": 18,
     "metadata": {},
     "output_type": "execute_result"
    }
   ],
   "source": [
    "df_test['celltype'].unique()"
   ]
  },
  {
   "cell_type": "code",
   "execution_count": 19,
   "metadata": {
    "ExecuteTime": {
     "end_time": "2019-08-26T17:54:59.512114Z",
     "start_time": "2019-08-26T17:54:59.444126Z"
    }
   },
   "outputs": [
    {
     "name": "stdout",
     "output_type": "stream",
     "text": [
      "HEPG2\n",
      "total: 15500\n",
      "valid: 4428 0.2856774193548387\n",
      "test: 8858\n",
      "HUVEC\n",
      "total: 35376\n",
      "valid: 4404 0.12449118046132972\n",
      "test: 17692\n",
      "RPE\n",
      "total: 15506\n",
      "valid: 4428 0.2855668773378047\n",
      "test: 8834\n",
      "U2OS\n",
      "total: 6648\n",
      "valid: 2216 0.3333333333333333\n",
      "test: 4410\n"
     ]
    }
   ],
   "source": [
    "# check validation set balance\n",
    "for ct in cts:\n",
    "    print(ct)\n",
    "    print('total:', len(df_train[df_train['celltype'] == ct]))\n",
    "    print('valid:', df_train[df_train['celltype'] == ct].valid.sum(), df_train[df_train['celltype'] == ct].valid.mean())\n",
    "    print('test:', len(df_test[df_test['celltype'] == ct]))"
   ]
  },
  {
   "cell_type": "code",
   "execution_count": 43,
   "metadata": {
    "ExecuteTime": {
     "end_time": "2019-08-24T18:56:55.789531Z",
     "start_time": "2019-08-24T18:56:55.733251Z"
    }
   },
   "outputs": [],
   "source": [
    "df_test.to_csv('full_test_dataset_v2_ct_20190824.csv')"
   ]
  },
  {
   "cell_type": "markdown",
   "metadata": {},
   "source": [
    "# Controls"
   ]
  },
  {
   "cell_type": "code",
   "execution_count": 4,
   "metadata": {
    "ExecuteTime": {
     "end_time": "2019-09-14T07:30:55.999265Z",
     "start_time": "2019-09-14T07:30:55.885407Z"
    }
   },
   "outputs": [
    {
     "name": "stdout",
     "output_type": "stream",
     "text": [
      "full_dataset_v2_path_plate_groups_only_20190812.csv   pixel_stats.csv\r\n",
      "full_test_dataset_v1_20190714.csv\t\t      sirna_groups.csv\r\n",
      "full_test_dataset_v2_20190727.csv\t\t      test_controls.csv\r\n",
      "full_test_dataset_v2_ct_20190824.csv\t\t      test.csv\r\n",
      "full_test_dataset_v2_plate_groups_20190812.csv\t      test_plate_groups.csv\r\n",
      "full_train_dataset_v2_plate_groups_20190812.csv       train_controls.csv\r\n",
      "full_train_dataset_valid-split-ex_v1_20190714.csv     train.csv\r\n",
      "full_train_dataset_valid-split-ex_v2_20190727.csv     train_plate_groups.csv\r\n",
      "full_train_dataset_valid-split-ex_v2_ct_20190824.csv  train_sorted.csv\r\n",
      "full_train_dataset_valid-split-ex_v3_20190731.csv     train_sorted_multi.csv\r\n"
     ]
    }
   ],
   "source": [
    "!ls *.csv"
   ]
  },
  {
   "cell_type": "code",
   "execution_count": 5,
   "metadata": {
    "ExecuteTime": {
     "end_time": "2019-09-14T07:31:11.830942Z",
     "start_time": "2019-09-14T07:31:11.798528Z"
    }
   },
   "outputs": [
    {
     "data": {
      "text/html": [
       "<div>\n",
       "<style scoped>\n",
       "    .dataframe tbody tr th:only-of-type {\n",
       "        vertical-align: middle;\n",
       "    }\n",
       "\n",
       "    .dataframe tbody tr th {\n",
       "        vertical-align: top;\n",
       "    }\n",
       "\n",
       "    .dataframe thead th {\n",
       "        text-align: right;\n",
       "    }\n",
       "</style>\n",
       "<table border=\"1\" class=\"dataframe\">\n",
       "  <thead>\n",
       "    <tr style=\"text-align: right;\">\n",
       "      <th></th>\n",
       "      <th>id_code</th>\n",
       "      <th>experiment</th>\n",
       "      <th>plate</th>\n",
       "      <th>well</th>\n",
       "      <th>sirna</th>\n",
       "      <th>well_type</th>\n",
       "    </tr>\n",
       "  </thead>\n",
       "  <tbody>\n",
       "    <tr>\n",
       "      <th>0</th>\n",
       "      <td>HEPG2-01_1_B02</td>\n",
       "      <td>HEPG2-01</td>\n",
       "      <td>1</td>\n",
       "      <td>B02</td>\n",
       "      <td>1138</td>\n",
       "      <td>negative_control</td>\n",
       "    </tr>\n",
       "    <tr>\n",
       "      <th>1</th>\n",
       "      <td>HEPG2-01_1_C03</td>\n",
       "      <td>HEPG2-01</td>\n",
       "      <td>1</td>\n",
       "      <td>C03</td>\n",
       "      <td>1109</td>\n",
       "      <td>positive_control</td>\n",
       "    </tr>\n",
       "    <tr>\n",
       "      <th>2</th>\n",
       "      <td>HEPG2-01_1_C07</td>\n",
       "      <td>HEPG2-01</td>\n",
       "      <td>1</td>\n",
       "      <td>C07</td>\n",
       "      <td>1121</td>\n",
       "      <td>positive_control</td>\n",
       "    </tr>\n",
       "    <tr>\n",
       "      <th>3</th>\n",
       "      <td>HEPG2-01_1_C11</td>\n",
       "      <td>HEPG2-01</td>\n",
       "      <td>1</td>\n",
       "      <td>C11</td>\n",
       "      <td>1126</td>\n",
       "      <td>positive_control</td>\n",
       "    </tr>\n",
       "    <tr>\n",
       "      <th>4</th>\n",
       "      <td>HEPG2-01_1_C15</td>\n",
       "      <td>HEPG2-01</td>\n",
       "      <td>1</td>\n",
       "      <td>C15</td>\n",
       "      <td>1118</td>\n",
       "      <td>positive_control</td>\n",
       "    </tr>\n",
       "    <tr>\n",
       "      <th>5</th>\n",
       "      <td>HEPG2-01_1_C19</td>\n",
       "      <td>HEPG2-01</td>\n",
       "      <td>1</td>\n",
       "      <td>C19</td>\n",
       "      <td>1116</td>\n",
       "      <td>positive_control</td>\n",
       "    </tr>\n",
       "    <tr>\n",
       "      <th>6</th>\n",
       "      <td>HEPG2-01_1_C22</td>\n",
       "      <td>HEPG2-01</td>\n",
       "      <td>1</td>\n",
       "      <td>C22</td>\n",
       "      <td>1110</td>\n",
       "      <td>positive_control</td>\n",
       "    </tr>\n",
       "    <tr>\n",
       "      <th>7</th>\n",
       "      <td>HEPG2-01_1_F03</td>\n",
       "      <td>HEPG2-01</td>\n",
       "      <td>1</td>\n",
       "      <td>F03</td>\n",
       "      <td>1113</td>\n",
       "      <td>positive_control</td>\n",
       "    </tr>\n",
       "    <tr>\n",
       "      <th>8</th>\n",
       "      <td>HEPG2-01_1_F07</td>\n",
       "      <td>HEPG2-01</td>\n",
       "      <td>1</td>\n",
       "      <td>F07</td>\n",
       "      <td>1114</td>\n",
       "      <td>positive_control</td>\n",
       "    </tr>\n",
       "    <tr>\n",
       "      <th>9</th>\n",
       "      <td>HEPG2-01_1_F11</td>\n",
       "      <td>HEPG2-01</td>\n",
       "      <td>1</td>\n",
       "      <td>F11</td>\n",
       "      <td>1137</td>\n",
       "      <td>positive_control</td>\n",
       "    </tr>\n",
       "    <tr>\n",
       "      <th>10</th>\n",
       "      <td>HEPG2-01_1_F15</td>\n",
       "      <td>HEPG2-01</td>\n",
       "      <td>1</td>\n",
       "      <td>F15</td>\n",
       "      <td>1120</td>\n",
       "      <td>positive_control</td>\n",
       "    </tr>\n",
       "    <tr>\n",
       "      <th>11</th>\n",
       "      <td>HEPG2-01_1_F19</td>\n",
       "      <td>HEPG2-01</td>\n",
       "      <td>1</td>\n",
       "      <td>F19</td>\n",
       "      <td>1117</td>\n",
       "      <td>positive_control</td>\n",
       "    </tr>\n",
       "    <tr>\n",
       "      <th>12</th>\n",
       "      <td>HEPG2-01_1_F22</td>\n",
       "      <td>HEPG2-01</td>\n",
       "      <td>1</td>\n",
       "      <td>F22</td>\n",
       "      <td>1135</td>\n",
       "      <td>positive_control</td>\n",
       "    </tr>\n",
       "    <tr>\n",
       "      <th>13</th>\n",
       "      <td>HEPG2-01_1_H03</td>\n",
       "      <td>HEPG2-01</td>\n",
       "      <td>1</td>\n",
       "      <td>H03</td>\n",
       "      <td>1115</td>\n",
       "      <td>positive_control</td>\n",
       "    </tr>\n",
       "    <tr>\n",
       "      <th>14</th>\n",
       "      <td>HEPG2-01_1_H07</td>\n",
       "      <td>HEPG2-01</td>\n",
       "      <td>1</td>\n",
       "      <td>H07</td>\n",
       "      <td>1131</td>\n",
       "      <td>positive_control</td>\n",
       "    </tr>\n",
       "    <tr>\n",
       "      <th>15</th>\n",
       "      <td>HEPG2-01_1_H11</td>\n",
       "      <td>HEPG2-01</td>\n",
       "      <td>1</td>\n",
       "      <td>H11</td>\n",
       "      <td>1125</td>\n",
       "      <td>positive_control</td>\n",
       "    </tr>\n",
       "    <tr>\n",
       "      <th>16</th>\n",
       "      <td>HEPG2-01_1_H15</td>\n",
       "      <td>HEPG2-01</td>\n",
       "      <td>1</td>\n",
       "      <td>H15</td>\n",
       "      <td>1127</td>\n",
       "      <td>positive_control</td>\n",
       "    </tr>\n",
       "    <tr>\n",
       "      <th>17</th>\n",
       "      <td>HEPG2-01_1_H19</td>\n",
       "      <td>HEPG2-01</td>\n",
       "      <td>1</td>\n",
       "      <td>H19</td>\n",
       "      <td>1123</td>\n",
       "      <td>positive_control</td>\n",
       "    </tr>\n",
       "    <tr>\n",
       "      <th>18</th>\n",
       "      <td>HEPG2-01_1_H22</td>\n",
       "      <td>HEPG2-01</td>\n",
       "      <td>1</td>\n",
       "      <td>H22</td>\n",
       "      <td>1108</td>\n",
       "      <td>positive_control</td>\n",
       "    </tr>\n",
       "    <tr>\n",
       "      <th>19</th>\n",
       "      <td>HEPG2-01_1_J03</td>\n",
       "      <td>HEPG2-01</td>\n",
       "      <td>1</td>\n",
       "      <td>J03</td>\n",
       "      <td>1122</td>\n",
       "      <td>positive_control</td>\n",
       "    </tr>\n",
       "    <tr>\n",
       "      <th>20</th>\n",
       "      <td>HEPG2-01_1_J07</td>\n",
       "      <td>HEPG2-01</td>\n",
       "      <td>1</td>\n",
       "      <td>J07</td>\n",
       "      <td>1132</td>\n",
       "      <td>positive_control</td>\n",
       "    </tr>\n",
       "    <tr>\n",
       "      <th>21</th>\n",
       "      <td>HEPG2-01_1_J11</td>\n",
       "      <td>HEPG2-01</td>\n",
       "      <td>1</td>\n",
       "      <td>J11</td>\n",
       "      <td>1124</td>\n",
       "      <td>positive_control</td>\n",
       "    </tr>\n",
       "    <tr>\n",
       "      <th>22</th>\n",
       "      <td>HEPG2-01_1_J15</td>\n",
       "      <td>HEPG2-01</td>\n",
       "      <td>1</td>\n",
       "      <td>J15</td>\n",
       "      <td>1134</td>\n",
       "      <td>positive_control</td>\n",
       "    </tr>\n",
       "    <tr>\n",
       "      <th>23</th>\n",
       "      <td>HEPG2-01_1_J19</td>\n",
       "      <td>HEPG2-01</td>\n",
       "      <td>1</td>\n",
       "      <td>J19</td>\n",
       "      <td>1128</td>\n",
       "      <td>positive_control</td>\n",
       "    </tr>\n",
       "    <tr>\n",
       "      <th>24</th>\n",
       "      <td>HEPG2-01_1_J22</td>\n",
       "      <td>HEPG2-01</td>\n",
       "      <td>1</td>\n",
       "      <td>J22</td>\n",
       "      <td>1130</td>\n",
       "      <td>positive_control</td>\n",
       "    </tr>\n",
       "    <tr>\n",
       "      <th>25</th>\n",
       "      <td>HEPG2-01_1_M03</td>\n",
       "      <td>HEPG2-01</td>\n",
       "      <td>1</td>\n",
       "      <td>M03</td>\n",
       "      <td>1136</td>\n",
       "      <td>positive_control</td>\n",
       "    </tr>\n",
       "    <tr>\n",
       "      <th>26</th>\n",
       "      <td>HEPG2-01_1_M07</td>\n",
       "      <td>HEPG2-01</td>\n",
       "      <td>1</td>\n",
       "      <td>M07</td>\n",
       "      <td>1133</td>\n",
       "      <td>positive_control</td>\n",
       "    </tr>\n",
       "    <tr>\n",
       "      <th>27</th>\n",
       "      <td>HEPG2-01_1_M11</td>\n",
       "      <td>HEPG2-01</td>\n",
       "      <td>1</td>\n",
       "      <td>M11</td>\n",
       "      <td>1112</td>\n",
       "      <td>positive_control</td>\n",
       "    </tr>\n",
       "    <tr>\n",
       "      <th>28</th>\n",
       "      <td>HEPG2-01_1_M15</td>\n",
       "      <td>HEPG2-01</td>\n",
       "      <td>1</td>\n",
       "      <td>M15</td>\n",
       "      <td>1129</td>\n",
       "      <td>positive_control</td>\n",
       "    </tr>\n",
       "    <tr>\n",
       "      <th>29</th>\n",
       "      <td>HEPG2-01_1_M19</td>\n",
       "      <td>HEPG2-01</td>\n",
       "      <td>1</td>\n",
       "      <td>M19</td>\n",
       "      <td>1119</td>\n",
       "      <td>positive_control</td>\n",
       "    </tr>\n",
       "    <tr>\n",
       "      <th>...</th>\n",
       "      <td>...</td>\n",
       "      <td>...</td>\n",
       "      <td>...</td>\n",
       "      <td>...</td>\n",
       "      <td>...</td>\n",
       "      <td>...</td>\n",
       "    </tr>\n",
       "    <tr>\n",
       "      <th>4067</th>\n",
       "      <td>U2OS-03_4_C03</td>\n",
       "      <td>U2OS-03</td>\n",
       "      <td>4</td>\n",
       "      <td>C03</td>\n",
       "      <td>1114</td>\n",
       "      <td>positive_control</td>\n",
       "    </tr>\n",
       "    <tr>\n",
       "      <th>4068</th>\n",
       "      <td>U2OS-03_4_C07</td>\n",
       "      <td>U2OS-03</td>\n",
       "      <td>4</td>\n",
       "      <td>C07</td>\n",
       "      <td>1128</td>\n",
       "      <td>positive_control</td>\n",
       "    </tr>\n",
       "    <tr>\n",
       "      <th>4069</th>\n",
       "      <td>U2OS-03_4_C11</td>\n",
       "      <td>U2OS-03</td>\n",
       "      <td>4</td>\n",
       "      <td>C11</td>\n",
       "      <td>1113</td>\n",
       "      <td>positive_control</td>\n",
       "    </tr>\n",
       "    <tr>\n",
       "      <th>4070</th>\n",
       "      <td>U2OS-03_4_C15</td>\n",
       "      <td>U2OS-03</td>\n",
       "      <td>4</td>\n",
       "      <td>C15</td>\n",
       "      <td>1123</td>\n",
       "      <td>positive_control</td>\n",
       "    </tr>\n",
       "    <tr>\n",
       "      <th>4071</th>\n",
       "      <td>U2OS-03_4_C19</td>\n",
       "      <td>U2OS-03</td>\n",
       "      <td>4</td>\n",
       "      <td>C19</td>\n",
       "      <td>1136</td>\n",
       "      <td>positive_control</td>\n",
       "    </tr>\n",
       "    <tr>\n",
       "      <th>4072</th>\n",
       "      <td>U2OS-03_4_C22</td>\n",
       "      <td>U2OS-03</td>\n",
       "      <td>4</td>\n",
       "      <td>C22</td>\n",
       "      <td>1129</td>\n",
       "      <td>positive_control</td>\n",
       "    </tr>\n",
       "    <tr>\n",
       "      <th>4073</th>\n",
       "      <td>U2OS-03_4_F03</td>\n",
       "      <td>U2OS-03</td>\n",
       "      <td>4</td>\n",
       "      <td>F03</td>\n",
       "      <td>1125</td>\n",
       "      <td>positive_control</td>\n",
       "    </tr>\n",
       "    <tr>\n",
       "      <th>4074</th>\n",
       "      <td>U2OS-03_4_F07</td>\n",
       "      <td>U2OS-03</td>\n",
       "      <td>4</td>\n",
       "      <td>F07</td>\n",
       "      <td>1133</td>\n",
       "      <td>positive_control</td>\n",
       "    </tr>\n",
       "    <tr>\n",
       "      <th>4075</th>\n",
       "      <td>U2OS-03_4_F11</td>\n",
       "      <td>U2OS-03</td>\n",
       "      <td>4</td>\n",
       "      <td>F11</td>\n",
       "      <td>1127</td>\n",
       "      <td>positive_control</td>\n",
       "    </tr>\n",
       "    <tr>\n",
       "      <th>4076</th>\n",
       "      <td>U2OS-03_4_F15</td>\n",
       "      <td>U2OS-03</td>\n",
       "      <td>4</td>\n",
       "      <td>F15</td>\n",
       "      <td>1119</td>\n",
       "      <td>positive_control</td>\n",
       "    </tr>\n",
       "    <tr>\n",
       "      <th>4077</th>\n",
       "      <td>U2OS-03_4_F19</td>\n",
       "      <td>U2OS-03</td>\n",
       "      <td>4</td>\n",
       "      <td>F19</td>\n",
       "      <td>1120</td>\n",
       "      <td>positive_control</td>\n",
       "    </tr>\n",
       "    <tr>\n",
       "      <th>4078</th>\n",
       "      <td>U2OS-03_4_F22</td>\n",
       "      <td>U2OS-03</td>\n",
       "      <td>4</td>\n",
       "      <td>F22</td>\n",
       "      <td>1137</td>\n",
       "      <td>positive_control</td>\n",
       "    </tr>\n",
       "    <tr>\n",
       "      <th>4079</th>\n",
       "      <td>U2OS-03_4_H03</td>\n",
       "      <td>U2OS-03</td>\n",
       "      <td>4</td>\n",
       "      <td>H03</td>\n",
       "      <td>1115</td>\n",
       "      <td>positive_control</td>\n",
       "    </tr>\n",
       "    <tr>\n",
       "      <th>4080</th>\n",
       "      <td>U2OS-03_4_H07</td>\n",
       "      <td>U2OS-03</td>\n",
       "      <td>4</td>\n",
       "      <td>H07</td>\n",
       "      <td>1132</td>\n",
       "      <td>positive_control</td>\n",
       "    </tr>\n",
       "    <tr>\n",
       "      <th>4081</th>\n",
       "      <td>U2OS-03_4_H11</td>\n",
       "      <td>U2OS-03</td>\n",
       "      <td>4</td>\n",
       "      <td>H11</td>\n",
       "      <td>1108</td>\n",
       "      <td>positive_control</td>\n",
       "    </tr>\n",
       "    <tr>\n",
       "      <th>4082</th>\n",
       "      <td>U2OS-03_4_H15</td>\n",
       "      <td>U2OS-03</td>\n",
       "      <td>4</td>\n",
       "      <td>H15</td>\n",
       "      <td>1117</td>\n",
       "      <td>positive_control</td>\n",
       "    </tr>\n",
       "    <tr>\n",
       "      <th>4083</th>\n",
       "      <td>U2OS-03_4_H19</td>\n",
       "      <td>U2OS-03</td>\n",
       "      <td>4</td>\n",
       "      <td>H19</td>\n",
       "      <td>1134</td>\n",
       "      <td>positive_control</td>\n",
       "    </tr>\n",
       "    <tr>\n",
       "      <th>4084</th>\n",
       "      <td>U2OS-03_4_H22</td>\n",
       "      <td>U2OS-03</td>\n",
       "      <td>4</td>\n",
       "      <td>H22</td>\n",
       "      <td>1135</td>\n",
       "      <td>positive_control</td>\n",
       "    </tr>\n",
       "    <tr>\n",
       "      <th>4085</th>\n",
       "      <td>U2OS-03_4_J03</td>\n",
       "      <td>U2OS-03</td>\n",
       "      <td>4</td>\n",
       "      <td>J03</td>\n",
       "      <td>1110</td>\n",
       "      <td>positive_control</td>\n",
       "    </tr>\n",
       "    <tr>\n",
       "      <th>4086</th>\n",
       "      <td>U2OS-03_4_J07</td>\n",
       "      <td>U2OS-03</td>\n",
       "      <td>4</td>\n",
       "      <td>J07</td>\n",
       "      <td>1118</td>\n",
       "      <td>positive_control</td>\n",
       "    </tr>\n",
       "    <tr>\n",
       "      <th>4087</th>\n",
       "      <td>U2OS-03_4_J11</td>\n",
       "      <td>U2OS-03</td>\n",
       "      <td>4</td>\n",
       "      <td>J11</td>\n",
       "      <td>1124</td>\n",
       "      <td>positive_control</td>\n",
       "    </tr>\n",
       "    <tr>\n",
       "      <th>4088</th>\n",
       "      <td>U2OS-03_4_J15</td>\n",
       "      <td>U2OS-03</td>\n",
       "      <td>4</td>\n",
       "      <td>J15</td>\n",
       "      <td>1116</td>\n",
       "      <td>positive_control</td>\n",
       "    </tr>\n",
       "    <tr>\n",
       "      <th>4089</th>\n",
       "      <td>U2OS-03_4_J19</td>\n",
       "      <td>U2OS-03</td>\n",
       "      <td>4</td>\n",
       "      <td>J19</td>\n",
       "      <td>1121</td>\n",
       "      <td>positive_control</td>\n",
       "    </tr>\n",
       "    <tr>\n",
       "      <th>4090</th>\n",
       "      <td>U2OS-03_4_J22</td>\n",
       "      <td>U2OS-03</td>\n",
       "      <td>4</td>\n",
       "      <td>J22</td>\n",
       "      <td>1122</td>\n",
       "      <td>positive_control</td>\n",
       "    </tr>\n",
       "    <tr>\n",
       "      <th>4091</th>\n",
       "      <td>U2OS-03_4_M03</td>\n",
       "      <td>U2OS-03</td>\n",
       "      <td>4</td>\n",
       "      <td>M03</td>\n",
       "      <td>1109</td>\n",
       "      <td>positive_control</td>\n",
       "    </tr>\n",
       "    <tr>\n",
       "      <th>4092</th>\n",
       "      <td>U2OS-03_4_M07</td>\n",
       "      <td>U2OS-03</td>\n",
       "      <td>4</td>\n",
       "      <td>M07</td>\n",
       "      <td>1111</td>\n",
       "      <td>positive_control</td>\n",
       "    </tr>\n",
       "    <tr>\n",
       "      <th>4093</th>\n",
       "      <td>U2OS-03_4_M11</td>\n",
       "      <td>U2OS-03</td>\n",
       "      <td>4</td>\n",
       "      <td>M11</td>\n",
       "      <td>1131</td>\n",
       "      <td>positive_control</td>\n",
       "    </tr>\n",
       "    <tr>\n",
       "      <th>4094</th>\n",
       "      <td>U2OS-03_4_M15</td>\n",
       "      <td>U2OS-03</td>\n",
       "      <td>4</td>\n",
       "      <td>M15</td>\n",
       "      <td>1112</td>\n",
       "      <td>positive_control</td>\n",
       "    </tr>\n",
       "    <tr>\n",
       "      <th>4095</th>\n",
       "      <td>U2OS-03_4_M19</td>\n",
       "      <td>U2OS-03</td>\n",
       "      <td>4</td>\n",
       "      <td>M19</td>\n",
       "      <td>1130</td>\n",
       "      <td>positive_control</td>\n",
       "    </tr>\n",
       "    <tr>\n",
       "      <th>4096</th>\n",
       "      <td>U2OS-03_4_M22</td>\n",
       "      <td>U2OS-03</td>\n",
       "      <td>4</td>\n",
       "      <td>M22</td>\n",
       "      <td>1126</td>\n",
       "      <td>positive_control</td>\n",
       "    </tr>\n",
       "  </tbody>\n",
       "</table>\n",
       "<p>4097 rows × 6 columns</p>\n",
       "</div>"
      ],
      "text/plain": [
       "             id_code experiment  plate well  sirna         well_type\n",
       "0     HEPG2-01_1_B02   HEPG2-01      1  B02   1138  negative_control\n",
       "1     HEPG2-01_1_C03   HEPG2-01      1  C03   1109  positive_control\n",
       "2     HEPG2-01_1_C07   HEPG2-01      1  C07   1121  positive_control\n",
       "3     HEPG2-01_1_C11   HEPG2-01      1  C11   1126  positive_control\n",
       "4     HEPG2-01_1_C15   HEPG2-01      1  C15   1118  positive_control\n",
       "5     HEPG2-01_1_C19   HEPG2-01      1  C19   1116  positive_control\n",
       "6     HEPG2-01_1_C22   HEPG2-01      1  C22   1110  positive_control\n",
       "7     HEPG2-01_1_F03   HEPG2-01      1  F03   1113  positive_control\n",
       "8     HEPG2-01_1_F07   HEPG2-01      1  F07   1114  positive_control\n",
       "9     HEPG2-01_1_F11   HEPG2-01      1  F11   1137  positive_control\n",
       "10    HEPG2-01_1_F15   HEPG2-01      1  F15   1120  positive_control\n",
       "11    HEPG2-01_1_F19   HEPG2-01      1  F19   1117  positive_control\n",
       "12    HEPG2-01_1_F22   HEPG2-01      1  F22   1135  positive_control\n",
       "13    HEPG2-01_1_H03   HEPG2-01      1  H03   1115  positive_control\n",
       "14    HEPG2-01_1_H07   HEPG2-01      1  H07   1131  positive_control\n",
       "15    HEPG2-01_1_H11   HEPG2-01      1  H11   1125  positive_control\n",
       "16    HEPG2-01_1_H15   HEPG2-01      1  H15   1127  positive_control\n",
       "17    HEPG2-01_1_H19   HEPG2-01      1  H19   1123  positive_control\n",
       "18    HEPG2-01_1_H22   HEPG2-01      1  H22   1108  positive_control\n",
       "19    HEPG2-01_1_J03   HEPG2-01      1  J03   1122  positive_control\n",
       "20    HEPG2-01_1_J07   HEPG2-01      1  J07   1132  positive_control\n",
       "21    HEPG2-01_1_J11   HEPG2-01      1  J11   1124  positive_control\n",
       "22    HEPG2-01_1_J15   HEPG2-01      1  J15   1134  positive_control\n",
       "23    HEPG2-01_1_J19   HEPG2-01      1  J19   1128  positive_control\n",
       "24    HEPG2-01_1_J22   HEPG2-01      1  J22   1130  positive_control\n",
       "25    HEPG2-01_1_M03   HEPG2-01      1  M03   1136  positive_control\n",
       "26    HEPG2-01_1_M07   HEPG2-01      1  M07   1133  positive_control\n",
       "27    HEPG2-01_1_M11   HEPG2-01      1  M11   1112  positive_control\n",
       "28    HEPG2-01_1_M15   HEPG2-01      1  M15   1129  positive_control\n",
       "29    HEPG2-01_1_M19   HEPG2-01      1  M19   1119  positive_control\n",
       "...              ...        ...    ...  ...    ...               ...\n",
       "4067   U2OS-03_4_C03    U2OS-03      4  C03   1114  positive_control\n",
       "4068   U2OS-03_4_C07    U2OS-03      4  C07   1128  positive_control\n",
       "4069   U2OS-03_4_C11    U2OS-03      4  C11   1113  positive_control\n",
       "4070   U2OS-03_4_C15    U2OS-03      4  C15   1123  positive_control\n",
       "4071   U2OS-03_4_C19    U2OS-03      4  C19   1136  positive_control\n",
       "4072   U2OS-03_4_C22    U2OS-03      4  C22   1129  positive_control\n",
       "4073   U2OS-03_4_F03    U2OS-03      4  F03   1125  positive_control\n",
       "4074   U2OS-03_4_F07    U2OS-03      4  F07   1133  positive_control\n",
       "4075   U2OS-03_4_F11    U2OS-03      4  F11   1127  positive_control\n",
       "4076   U2OS-03_4_F15    U2OS-03      4  F15   1119  positive_control\n",
       "4077   U2OS-03_4_F19    U2OS-03      4  F19   1120  positive_control\n",
       "4078   U2OS-03_4_F22    U2OS-03      4  F22   1137  positive_control\n",
       "4079   U2OS-03_4_H03    U2OS-03      4  H03   1115  positive_control\n",
       "4080   U2OS-03_4_H07    U2OS-03      4  H07   1132  positive_control\n",
       "4081   U2OS-03_4_H11    U2OS-03      4  H11   1108  positive_control\n",
       "4082   U2OS-03_4_H15    U2OS-03      4  H15   1117  positive_control\n",
       "4083   U2OS-03_4_H19    U2OS-03      4  H19   1134  positive_control\n",
       "4084   U2OS-03_4_H22    U2OS-03      4  H22   1135  positive_control\n",
       "4085   U2OS-03_4_J03    U2OS-03      4  J03   1110  positive_control\n",
       "4086   U2OS-03_4_J07    U2OS-03      4  J07   1118  positive_control\n",
       "4087   U2OS-03_4_J11    U2OS-03      4  J11   1124  positive_control\n",
       "4088   U2OS-03_4_J15    U2OS-03      4  J15   1116  positive_control\n",
       "4089   U2OS-03_4_J19    U2OS-03      4  J19   1121  positive_control\n",
       "4090   U2OS-03_4_J22    U2OS-03      4  J22   1122  positive_control\n",
       "4091   U2OS-03_4_M03    U2OS-03      4  M03   1109  positive_control\n",
       "4092   U2OS-03_4_M07    U2OS-03      4  M07   1111  positive_control\n",
       "4093   U2OS-03_4_M11    U2OS-03      4  M11   1131  positive_control\n",
       "4094   U2OS-03_4_M15    U2OS-03      4  M15   1112  positive_control\n",
       "4095   U2OS-03_4_M19    U2OS-03      4  M19   1130  positive_control\n",
       "4096   U2OS-03_4_M22    U2OS-03      4  M22   1126  positive_control\n",
       "\n",
       "[4097 rows x 6 columns]"
      ]
     },
     "execution_count": 5,
     "metadata": {},
     "output_type": "execute_result"
    }
   ],
   "source": [
    "pd.read_csv('train_controls.csv')"
   ]
  },
  {
   "cell_type": "markdown",
   "metadata": {},
   "source": [
    "# Old"
   ]
  },
  {
   "cell_type": "markdown",
   "metadata": {},
   "source": [
    "See notebook \"rcic_multicat_v6_resnet18u34_baseline_adversarial_full.ipynb\" section 3.3.1 and 3.3.2."
   ]
  },
  {
   "cell_type": "markdown",
   "metadata": {},
   "source": [
    "## Adversarial test dataset setup"
   ]
  },
  {
   "cell_type": "code",
   "execution_count": 61,
   "metadata": {
    "ExecuteTime": {
     "end_time": "2019-07-05T20:13:33.027476Z",
     "start_time": "2019-07-05T20:13:32.992434Z"
    }
   },
   "outputs": [],
   "source": [
    "df_train = pd.read_csv('train.csv')"
   ]
  },
  {
   "cell_type": "code",
   "execution_count": 62,
   "metadata": {
    "ExecuteTime": {
     "end_time": "2019-07-05T20:13:33.209491Z",
     "start_time": "2019-07-05T20:13:33.160948Z"
    }
   },
   "outputs": [
    {
     "data": {
      "text/html": [
       "<div>\n",
       "<style scoped>\n",
       "    .dataframe tbody tr th:only-of-type {\n",
       "        vertical-align: middle;\n",
       "    }\n",
       "\n",
       "    .dataframe tbody tr th {\n",
       "        vertical-align: top;\n",
       "    }\n",
       "\n",
       "    .dataframe thead th {\n",
       "        text-align: right;\n",
       "    }\n",
       "</style>\n",
       "<table border=\"1\" class=\"dataframe\">\n",
       "  <thead>\n",
       "    <tr style=\"text-align: right;\">\n",
       "      <th></th>\n",
       "      <th>id_code</th>\n",
       "      <th>experiment</th>\n",
       "      <th>plate</th>\n",
       "      <th>well</th>\n",
       "      <th>sirna</th>\n",
       "    </tr>\n",
       "  </thead>\n",
       "  <tbody>\n",
       "    <tr>\n",
       "      <th>0</th>\n",
       "      <td>HEPG2-01_1_B03</td>\n",
       "      <td>HEPG2-01</td>\n",
       "      <td>1</td>\n",
       "      <td>B03</td>\n",
       "      <td>513</td>\n",
       "    </tr>\n",
       "    <tr>\n",
       "      <th>1</th>\n",
       "      <td>HEPG2-01_1_B04</td>\n",
       "      <td>HEPG2-01</td>\n",
       "      <td>1</td>\n",
       "      <td>B04</td>\n",
       "      <td>840</td>\n",
       "    </tr>\n",
       "    <tr>\n",
       "      <th>2</th>\n",
       "      <td>HEPG2-01_1_B05</td>\n",
       "      <td>HEPG2-01</td>\n",
       "      <td>1</td>\n",
       "      <td>B05</td>\n",
       "      <td>1020</td>\n",
       "    </tr>\n",
       "    <tr>\n",
       "      <th>3</th>\n",
       "      <td>HEPG2-01_1_B06</td>\n",
       "      <td>HEPG2-01</td>\n",
       "      <td>1</td>\n",
       "      <td>B06</td>\n",
       "      <td>254</td>\n",
       "    </tr>\n",
       "    <tr>\n",
       "      <th>4</th>\n",
       "      <td>HEPG2-01_1_B07</td>\n",
       "      <td>HEPG2-01</td>\n",
       "      <td>1</td>\n",
       "      <td>B07</td>\n",
       "      <td>144</td>\n",
       "    </tr>\n",
       "  </tbody>\n",
       "</table>\n",
       "</div>"
      ],
      "text/plain": [
       "          id_code experiment  plate well  sirna\n",
       "0  HEPG2-01_1_B03   HEPG2-01      1  B03    513\n",
       "1  HEPG2-01_1_B04   HEPG2-01      1  B04    840\n",
       "2  HEPG2-01_1_B05   HEPG2-01      1  B05   1020\n",
       "3  HEPG2-01_1_B06   HEPG2-01      1  B06    254\n",
       "4  HEPG2-01_1_B07   HEPG2-01      1  B07    144"
      ]
     },
     "execution_count": 62,
     "metadata": {},
     "output_type": "execute_result"
    }
   ],
   "source": [
    "df_train.head()"
   ]
  },
  {
   "cell_type": "code",
   "execution_count": 63,
   "metadata": {
    "ExecuteTime": {
     "end_time": "2019-07-05T20:13:33.358284Z",
     "start_time": "2019-07-05T20:13:33.339036Z"
    }
   },
   "outputs": [
    {
     "data": {
      "text/plain": [
       "(array(['HEPG2-01', 'HEPG2-02', 'HEPG2-03', 'HEPG2-04', 'HEPG2-05', 'HEPG2-06', 'HEPG2-07', 'HUVEC-01', 'HUVEC-02',\n",
       "        'HUVEC-03', 'HUVEC-04', 'HUVEC-05', 'HUVEC-06', 'HUVEC-07', 'HUVEC-08', 'HUVEC-09', 'HUVEC-10', 'HUVEC-11',\n",
       "        'HUVEC-12', 'HUVEC-13', 'HUVEC-14', 'HUVEC-15', 'HUVEC-16', 'RPE-01', 'RPE-02', 'RPE-03', 'RPE-04', 'RPE-05',\n",
       "        'RPE-06', 'RPE-07', 'U2OS-01', 'U2OS-02', 'U2OS-03'], dtype=object),\n",
       " 33)"
      ]
     },
     "execution_count": 63,
     "metadata": {},
     "output_type": "execute_result"
    }
   ],
   "source": [
    "df_train.experiment.unique(), len(df_train.experiment.unique())"
   ]
  },
  {
   "cell_type": "code",
   "execution_count": 64,
   "metadata": {
    "ExecuteTime": {
     "end_time": "2019-07-05T20:13:33.745993Z",
     "start_time": "2019-07-05T20:13:33.729908Z"
    }
   },
   "outputs": [],
   "source": [
    "experiments = ['HEPG2-01', 'HEPG2-02', 'HEPG2-03', # train\n",
    "               'HUVEC-01', 'HUVEC-02', 'HUVEC-03', # train\n",
    "               'RPE-01' #valid\n",
    "              ]"
   ]
  },
  {
   "cell_type": "code",
   "execution_count": 65,
   "metadata": {
    "ExecuteTime": {
     "end_time": "2019-07-05T20:13:34.525394Z",
     "start_time": "2019-07-05T20:13:34.494582Z"
    }
   },
   "outputs": [],
   "source": [
    "# setup empty df\n",
    "df = pd.DataFrame()\n",
    "# generate path without channel and image file suffix for open image function\n",
    "df['path'] = df_train['experiment']+'/Plate'+df_train['plate'].apply(str)+'/'+df_train['well']+'_s1' #+'_w'\n"
   ]
  },
  {
   "cell_type": "code",
   "execution_count": 66,
   "metadata": {
    "ExecuteTime": {
     "end_time": "2019-07-05T20:13:34.949928Z",
     "start_time": "2019-07-05T20:13:34.932714Z"
    }
   },
   "outputs": [],
   "source": [
    "df['experiment'] = df_train['experiment']"
   ]
  },
  {
   "cell_type": "code",
   "execution_count": 67,
   "metadata": {
    "ExecuteTime": {
     "end_time": "2019-07-05T20:13:35.282967Z",
     "start_time": "2019-07-05T20:13:35.265762Z"
    }
   },
   "outputs": [],
   "source": [
    "df['sirna'] = df_train['sirna']"
   ]
  },
  {
   "cell_type": "code",
   "execution_count": 68,
   "metadata": {
    "ExecuteTime": {
     "end_time": "2019-07-05T20:13:35.569094Z",
     "start_time": "2019-07-05T20:13:35.533666Z"
    }
   },
   "outputs": [],
   "source": [
    "df['multi'] = df_train['experiment'].apply(lambda x: x.split('/')[0])+' '+df_train['sirna'].apply(lambda x: str(x))\n"
   ]
  },
  {
   "cell_type": "code",
   "execution_count": 69,
   "metadata": {
    "ExecuteTime": {
     "end_time": "2019-07-05T20:13:36.121832Z",
     "start_time": "2019-07-05T20:13:36.102461Z"
    }
   },
   "outputs": [
    {
     "data": {
      "text/html": [
       "<div>\n",
       "<style scoped>\n",
       "    .dataframe tbody tr th:only-of-type {\n",
       "        vertical-align: middle;\n",
       "    }\n",
       "\n",
       "    .dataframe tbody tr th {\n",
       "        vertical-align: top;\n",
       "    }\n",
       "\n",
       "    .dataframe thead th {\n",
       "        text-align: right;\n",
       "    }\n",
       "</style>\n",
       "<table border=\"1\" class=\"dataframe\">\n",
       "  <thead>\n",
       "    <tr style=\"text-align: right;\">\n",
       "      <th></th>\n",
       "      <th>path</th>\n",
       "      <th>experiment</th>\n",
       "      <th>sirna</th>\n",
       "      <th>multi</th>\n",
       "    </tr>\n",
       "  </thead>\n",
       "  <tbody>\n",
       "    <tr>\n",
       "      <th>0</th>\n",
       "      <td>HEPG2-01/Plate1/B03_s1</td>\n",
       "      <td>HEPG2-01</td>\n",
       "      <td>513</td>\n",
       "      <td>HEPG2-01 513</td>\n",
       "    </tr>\n",
       "    <tr>\n",
       "      <th>1</th>\n",
       "      <td>HEPG2-01/Plate1/B04_s1</td>\n",
       "      <td>HEPG2-01</td>\n",
       "      <td>840</td>\n",
       "      <td>HEPG2-01 840</td>\n",
       "    </tr>\n",
       "    <tr>\n",
       "      <th>2</th>\n",
       "      <td>HEPG2-01/Plate1/B05_s1</td>\n",
       "      <td>HEPG2-01</td>\n",
       "      <td>1020</td>\n",
       "      <td>HEPG2-01 1020</td>\n",
       "    </tr>\n",
       "    <tr>\n",
       "      <th>3</th>\n",
       "      <td>HEPG2-01/Plate1/B06_s1</td>\n",
       "      <td>HEPG2-01</td>\n",
       "      <td>254</td>\n",
       "      <td>HEPG2-01 254</td>\n",
       "    </tr>\n",
       "    <tr>\n",
       "      <th>4</th>\n",
       "      <td>HEPG2-01/Plate1/B07_s1</td>\n",
       "      <td>HEPG2-01</td>\n",
       "      <td>144</td>\n",
       "      <td>HEPG2-01 144</td>\n",
       "    </tr>\n",
       "  </tbody>\n",
       "</table>\n",
       "</div>"
      ],
      "text/plain": [
       "                     path experiment  sirna          multi\n",
       "0  HEPG2-01/Plate1/B03_s1   HEPG2-01    513   HEPG2-01 513\n",
       "1  HEPG2-01/Plate1/B04_s1   HEPG2-01    840   HEPG2-01 840\n",
       "2  HEPG2-01/Plate1/B05_s1   HEPG2-01   1020  HEPG2-01 1020\n",
       "3  HEPG2-01/Plate1/B06_s1   HEPG2-01    254   HEPG2-01 254\n",
       "4  HEPG2-01/Plate1/B07_s1   HEPG2-01    144   HEPG2-01 144"
      ]
     },
     "execution_count": 69,
     "metadata": {},
     "output_type": "execute_result"
    }
   ],
   "source": [
    "df.head()"
   ]
  },
  {
   "cell_type": "code",
   "execution_count": 70,
   "metadata": {
    "ExecuteTime": {
     "end_time": "2019-07-05T20:13:38.076503Z",
     "start_time": "2019-07-05T20:13:38.055695Z"
    }
   },
   "outputs": [],
   "source": [
    "# filter for experiments\n",
    "df = df[df['experiment'].isin(experiments)]"
   ]
  },
  {
   "cell_type": "code",
   "execution_count": 71,
   "metadata": {
    "ExecuteTime": {
     "end_time": "2019-07-05T20:13:38.495972Z",
     "start_time": "2019-07-05T20:13:38.473072Z"
    }
   },
   "outputs": [
    {
     "data": {
      "text/plain": [
       "[1106, 1106, 1108, 1108, 1108, 1108, 1108]"
      ]
     },
     "execution_count": 71,
     "metadata": {},
     "output_type": "execute_result"
    }
   ],
   "source": [
    "# get rows/images per experiment\n",
    "[len(df[df['experiment'] == x]) for x in experiments]"
   ]
  },
  {
   "cell_type": "code",
   "execution_count": 72,
   "metadata": {
    "ExecuteTime": {
     "end_time": "2019-07-05T20:13:40.736639Z",
     "start_time": "2019-07-05T20:13:40.717563Z"
    }
   },
   "outputs": [
    {
     "data": {
      "text/html": [
       "<div>\n",
       "<style scoped>\n",
       "    .dataframe tbody tr th:only-of-type {\n",
       "        vertical-align: middle;\n",
       "    }\n",
       "\n",
       "    .dataframe tbody tr th {\n",
       "        vertical-align: top;\n",
       "    }\n",
       "\n",
       "    .dataframe thead th {\n",
       "        text-align: right;\n",
       "    }\n",
       "</style>\n",
       "<table border=\"1\" class=\"dataframe\">\n",
       "  <thead>\n",
       "    <tr style=\"text-align: right;\">\n",
       "      <th></th>\n",
       "      <th>path</th>\n",
       "      <th>experiment</th>\n",
       "      <th>sirna</th>\n",
       "      <th>multi</th>\n",
       "    </tr>\n",
       "  </thead>\n",
       "  <tbody>\n",
       "    <tr>\n",
       "      <th>26541</th>\n",
       "      <td>RPE-01/Plate4/O19_s1</td>\n",
       "      <td>RPE-01</td>\n",
       "      <td>832</td>\n",
       "      <td>RPE-01 832</td>\n",
       "    </tr>\n",
       "    <tr>\n",
       "      <th>26542</th>\n",
       "      <td>RPE-01/Plate4/O20_s1</td>\n",
       "      <td>RPE-01</td>\n",
       "      <td>773</td>\n",
       "      <td>RPE-01 773</td>\n",
       "    </tr>\n",
       "    <tr>\n",
       "      <th>26543</th>\n",
       "      <td>RPE-01/Plate4/O21_s1</td>\n",
       "      <td>RPE-01</td>\n",
       "      <td>200</td>\n",
       "      <td>RPE-01 200</td>\n",
       "    </tr>\n",
       "    <tr>\n",
       "      <th>26544</th>\n",
       "      <td>RPE-01/Plate4/O22_s1</td>\n",
       "      <td>RPE-01</td>\n",
       "      <td>725</td>\n",
       "      <td>RPE-01 725</td>\n",
       "    </tr>\n",
       "    <tr>\n",
       "      <th>26545</th>\n",
       "      <td>RPE-01/Plate4/O23_s1</td>\n",
       "      <td>RPE-01</td>\n",
       "      <td>318</td>\n",
       "      <td>RPE-01 318</td>\n",
       "    </tr>\n",
       "  </tbody>\n",
       "</table>\n",
       "</div>"
      ],
      "text/plain": [
       "                       path experiment  sirna       multi\n",
       "26541  RPE-01/Plate4/O19_s1     RPE-01    832  RPE-01 832\n",
       "26542  RPE-01/Plate4/O20_s1     RPE-01    773  RPE-01 773\n",
       "26543  RPE-01/Plate4/O21_s1     RPE-01    200  RPE-01 200\n",
       "26544  RPE-01/Plate4/O22_s1     RPE-01    725  RPE-01 725\n",
       "26545  RPE-01/Plate4/O23_s1     RPE-01    318  RPE-01 318"
      ]
     },
     "execution_count": 72,
     "metadata": {},
     "output_type": "execute_result"
    }
   ],
   "source": [
    "df.tail()"
   ]
  },
  {
   "cell_type": "code",
   "execution_count": 73,
   "metadata": {
    "ExecuteTime": {
     "end_time": "2019-07-05T20:13:42.893580Z",
     "start_time": "2019-07-05T20:13:42.832784Z"
    }
   },
   "outputs": [],
   "source": [
    "df['valid'] = 0"
   ]
  },
  {
   "cell_type": "code",
   "execution_count": 74,
   "metadata": {
    "ExecuteTime": {
     "end_time": "2019-07-05T20:13:43.741367Z",
     "start_time": "2019-07-05T20:13:43.722537Z"
    }
   },
   "outputs": [],
   "source": [
    "# set valid dataset\n",
    "df.loc[df['experiment'] == 'RPE-01','valid'] = 1"
   ]
  },
  {
   "cell_type": "code",
   "execution_count": 75,
   "metadata": {
    "ExecuteTime": {
     "end_time": "2019-07-05T20:13:44.108320Z",
     "start_time": "2019-07-05T20:13:44.059319Z"
    }
   },
   "outputs": [
    {
     "data": {
      "text/html": [
       "<div>\n",
       "<style scoped>\n",
       "    .dataframe tbody tr th:only-of-type {\n",
       "        vertical-align: middle;\n",
       "    }\n",
       "\n",
       "    .dataframe tbody tr th {\n",
       "        vertical-align: top;\n",
       "    }\n",
       "\n",
       "    .dataframe thead th {\n",
       "        text-align: right;\n",
       "    }\n",
       "</style>\n",
       "<table border=\"1\" class=\"dataframe\">\n",
       "  <thead>\n",
       "    <tr style=\"text-align: right;\">\n",
       "      <th></th>\n",
       "      <th>path</th>\n",
       "      <th>experiment</th>\n",
       "      <th>sirna</th>\n",
       "      <th>multi</th>\n",
       "      <th>valid</th>\n",
       "    </tr>\n",
       "  </thead>\n",
       "  <tbody>\n",
       "    <tr>\n",
       "      <th>0</th>\n",
       "      <td>HEPG2-01/Plate1/B03_s1</td>\n",
       "      <td>HEPG2-01</td>\n",
       "      <td>513</td>\n",
       "      <td>HEPG2-01 513</td>\n",
       "      <td>0</td>\n",
       "    </tr>\n",
       "    <tr>\n",
       "      <th>1</th>\n",
       "      <td>HEPG2-01/Plate1/B04_s1</td>\n",
       "      <td>HEPG2-01</td>\n",
       "      <td>840</td>\n",
       "      <td>HEPG2-01 840</td>\n",
       "      <td>0</td>\n",
       "    </tr>\n",
       "    <tr>\n",
       "      <th>2</th>\n",
       "      <td>HEPG2-01/Plate1/B05_s1</td>\n",
       "      <td>HEPG2-01</td>\n",
       "      <td>1020</td>\n",
       "      <td>HEPG2-01 1020</td>\n",
       "      <td>0</td>\n",
       "    </tr>\n",
       "    <tr>\n",
       "      <th>3</th>\n",
       "      <td>HEPG2-01/Plate1/B06_s1</td>\n",
       "      <td>HEPG2-01</td>\n",
       "      <td>254</td>\n",
       "      <td>HEPG2-01 254</td>\n",
       "      <td>0</td>\n",
       "    </tr>\n",
       "    <tr>\n",
       "      <th>4</th>\n",
       "      <td>HEPG2-01/Plate1/B07_s1</td>\n",
       "      <td>HEPG2-01</td>\n",
       "      <td>144</td>\n",
       "      <td>HEPG2-01 144</td>\n",
       "      <td>0</td>\n",
       "    </tr>\n",
       "  </tbody>\n",
       "</table>\n",
       "</div>"
      ],
      "text/plain": [
       "                     path experiment  sirna          multi  valid\n",
       "0  HEPG2-01/Plate1/B03_s1   HEPG2-01    513   HEPG2-01 513      0\n",
       "1  HEPG2-01/Plate1/B04_s1   HEPG2-01    840   HEPG2-01 840      0\n",
       "2  HEPG2-01/Plate1/B05_s1   HEPG2-01   1020  HEPG2-01 1020      0\n",
       "3  HEPG2-01/Plate1/B06_s1   HEPG2-01    254   HEPG2-01 254      0\n",
       "4  HEPG2-01/Plate1/B07_s1   HEPG2-01    144   HEPG2-01 144      0"
      ]
     },
     "execution_count": 75,
     "metadata": {},
     "output_type": "execute_result"
    }
   ],
   "source": [
    "df.head()"
   ]
  },
  {
   "cell_type": "code",
   "execution_count": 76,
   "metadata": {
    "ExecuteTime": {
     "end_time": "2019-07-05T20:13:45.525492Z",
     "start_time": "2019-07-05T20:13:45.506100Z"
    }
   },
   "outputs": [
    {
     "data": {
      "text/html": [
       "<div>\n",
       "<style scoped>\n",
       "    .dataframe tbody tr th:only-of-type {\n",
       "        vertical-align: middle;\n",
       "    }\n",
       "\n",
       "    .dataframe tbody tr th {\n",
       "        vertical-align: top;\n",
       "    }\n",
       "\n",
       "    .dataframe thead th {\n",
       "        text-align: right;\n",
       "    }\n",
       "</style>\n",
       "<table border=\"1\" class=\"dataframe\">\n",
       "  <thead>\n",
       "    <tr style=\"text-align: right;\">\n",
       "      <th></th>\n",
       "      <th>path</th>\n",
       "      <th>experiment</th>\n",
       "      <th>sirna</th>\n",
       "      <th>multi</th>\n",
       "      <th>valid</th>\n",
       "    </tr>\n",
       "  </thead>\n",
       "  <tbody>\n",
       "    <tr>\n",
       "      <th>26541</th>\n",
       "      <td>RPE-01/Plate4/O19_s1</td>\n",
       "      <td>RPE-01</td>\n",
       "      <td>832</td>\n",
       "      <td>RPE-01 832</td>\n",
       "      <td>1</td>\n",
       "    </tr>\n",
       "    <tr>\n",
       "      <th>26542</th>\n",
       "      <td>RPE-01/Plate4/O20_s1</td>\n",
       "      <td>RPE-01</td>\n",
       "      <td>773</td>\n",
       "      <td>RPE-01 773</td>\n",
       "      <td>1</td>\n",
       "    </tr>\n",
       "    <tr>\n",
       "      <th>26543</th>\n",
       "      <td>RPE-01/Plate4/O21_s1</td>\n",
       "      <td>RPE-01</td>\n",
       "      <td>200</td>\n",
       "      <td>RPE-01 200</td>\n",
       "      <td>1</td>\n",
       "    </tr>\n",
       "    <tr>\n",
       "      <th>26544</th>\n",
       "      <td>RPE-01/Plate4/O22_s1</td>\n",
       "      <td>RPE-01</td>\n",
       "      <td>725</td>\n",
       "      <td>RPE-01 725</td>\n",
       "      <td>1</td>\n",
       "    </tr>\n",
       "    <tr>\n",
       "      <th>26545</th>\n",
       "      <td>RPE-01/Plate4/O23_s1</td>\n",
       "      <td>RPE-01</td>\n",
       "      <td>318</td>\n",
       "      <td>RPE-01 318</td>\n",
       "      <td>1</td>\n",
       "    </tr>\n",
       "  </tbody>\n",
       "</table>\n",
       "</div>"
      ],
      "text/plain": [
       "                       path experiment  sirna       multi  valid\n",
       "26541  RPE-01/Plate4/O19_s1     RPE-01    832  RPE-01 832      1\n",
       "26542  RPE-01/Plate4/O20_s1     RPE-01    773  RPE-01 773      1\n",
       "26543  RPE-01/Plate4/O21_s1     RPE-01    200  RPE-01 200      1\n",
       "26544  RPE-01/Plate4/O22_s1     RPE-01    725  RPE-01 725      1\n",
       "26545  RPE-01/Plate4/O23_s1     RPE-01    318  RPE-01 318      1"
      ]
     },
     "execution_count": 76,
     "metadata": {},
     "output_type": "execute_result"
    }
   ],
   "source": [
    "df.tail()"
   ]
  },
  {
   "cell_type": "code",
   "execution_count": 77,
   "metadata": {
    "ExecuteTime": {
     "end_time": "2019-07-05T20:13:53.084573Z",
     "start_time": "2019-07-05T20:13:53.062820Z"
    }
   },
   "outputs": [
    {
     "data": {
      "text/plain": [
       "[1106, 1106, 1108, 1108, 1108, 1108, 1108]"
      ]
     },
     "execution_count": 77,
     "metadata": {},
     "output_type": "execute_result"
    }
   ],
   "source": [
    "# get rows/images per experiment\n",
    "[len(df[df['experiment'] == x]) for x in experiments]"
   ]
  },
  {
   "cell_type": "code",
   "execution_count": 78,
   "metadata": {
    "ExecuteTime": {
     "end_time": "2019-07-05T20:13:55.439791Z",
     "start_time": "2019-07-05T20:13:55.405270Z"
    }
   },
   "outputs": [],
   "source": [
    "df.to_csv('df_adversarial_test_dataset.csv')"
   ]
  }
 ],
 "metadata": {
  "kernelspec": {
   "display_name": "fastai",
   "language": "python",
   "name": "fastai"
  },
  "language_info": {
   "codemirror_mode": {
    "name": "ipython",
    "version": 3
   },
   "file_extension": ".py",
   "mimetype": "text/x-python",
   "name": "python",
   "nbconvert_exporter": "python",
   "pygments_lexer": "ipython3",
   "version": "3.6.8"
  },
  "toc": {
   "base_numbering": 1,
   "nav_menu": {},
   "number_sections": true,
   "sideBar": true,
   "skip_h1_title": false,
   "title_cell": "Table of Contents",
   "title_sidebar": "Contents",
   "toc_cell": false,
   "toc_position": {
    "height": "calc(100% - 180px)",
    "left": "10px",
    "top": "150px",
    "width": "278px"
   },
   "toc_section_display": true,
   "toc_window_display": true
  }
 },
 "nbformat": 4,
 "nbformat_minor": 2
}
