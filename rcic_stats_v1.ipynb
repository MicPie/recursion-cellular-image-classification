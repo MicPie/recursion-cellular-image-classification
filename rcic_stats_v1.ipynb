{
 "cells": [
  {
   "cell_type": "code",
   "execution_count": 1,
   "metadata": {
    "ExecuteTime": {
     "end_time": "2019-08-01T18:59:36.150310Z",
     "start_time": "2019-08-01T18:59:35.996372Z"
    }
   },
   "outputs": [],
   "source": [
    "import fastai\n",
    "from pathlib import Path\n",
    "import numpy as np\n",
    "import matplotlib.pyplot as plt"
   ]
  },
  {
   "cell_type": "code",
   "execution_count": 2,
   "metadata": {
    "ExecuteTime": {
     "end_time": "2019-08-01T18:59:36.218303Z",
     "start_time": "2019-08-01T18:59:36.216031Z"
    }
   },
   "outputs": [],
   "source": [
    "import os"
   ]
  },
  {
   "cell_type": "code",
   "execution_count": 3,
   "metadata": {
    "ExecuteTime": {
     "end_time": "2019-08-01T18:59:36.449143Z",
     "start_time": "2019-08-01T18:59:36.444967Z"
    }
   },
   "outputs": [],
   "source": [
    "path = 'train'"
   ]
  },
  {
   "cell_type": "code",
   "execution_count": 4,
   "metadata": {
    "ExecuteTime": {
     "end_time": "2019-08-01T18:59:36.675216Z",
     "start_time": "2019-08-01T18:59:36.669838Z"
    }
   },
   "outputs": [],
   "source": [
    "images = {}"
   ]
  },
  {
   "cell_type": "code",
   "execution_count": 5,
   "metadata": {
    "ExecuteTime": {
     "end_time": "2019-08-01T18:59:37.914958Z",
     "start_time": "2019-08-01T18:59:36.981206Z"
    }
   },
   "outputs": [],
   "source": [
    "for root, dirs, files in os.walk(path):\n",
    "    for file in files:\n",
    "        if file.endswith('.png'):\n",
    "            path = os.path.join(root, file)\n",
    "            channel = path.split('_')[-1].split('.')[0] # get channel\n",
    "            if channel in images:\n",
    "                images[channel].append(path)\n",
    "            else:\n",
    "                images[channel] = [path]"
   ]
  },
  {
   "cell_type": "code",
   "execution_count": 6,
   "metadata": {
    "ExecuteTime": {
     "end_time": "2019-08-01T18:59:37.919285Z",
     "start_time": "2019-08-01T18:59:37.916003Z"
    }
   },
   "outputs": [
    {
     "data": {
      "text/plain": [
       "dict_keys(['w2', 'w1', 'w4', 'w5', 'w3', 'w6'])"
      ]
     },
     "execution_count": 6,
     "metadata": {},
     "output_type": "execute_result"
    }
   ],
   "source": [
    "images.keys()"
   ]
  },
  {
   "cell_type": "code",
   "execution_count": 7,
   "metadata": {
    "ExecuteTime": {
     "end_time": "2019-08-01T18:59:37.933030Z",
     "start_time": "2019-08-01T18:59:37.920467Z"
    }
   },
   "outputs": [
    {
     "data": {
      "text/plain": [
       "['train/HUVEC-10/Plate3/J02_s1_w1.png',\n",
       " 'train/HUVEC-10/Plate3/K06_s2_w1.png',\n",
       " 'train/HUVEC-10/Plate3/M15_s1_w1.png',\n",
       " 'train/HUVEC-10/Plate3/N02_s1_w1.png',\n",
       " 'train/HUVEC-10/Plate3/J08_s2_w1.png']"
      ]
     },
     "execution_count": 7,
     "metadata": {},
     "output_type": "execute_result"
    }
   ],
   "source": [
    "images['w1'][:5]"
   ]
  },
  {
   "cell_type": "code",
   "execution_count": 8,
   "metadata": {
    "ExecuteTime": {
     "end_time": "2019-08-01T18:59:38.138394Z",
     "start_time": "2019-08-01T18:59:38.129035Z"
    }
   },
   "outputs": [
    {
     "data": {
      "text/plain": [
       "['train/HUVEC-01/Plate4/B13_s2_w1.png',\n",
       " 'train/HUVEC-01/Plate4/F09_s1_w1.png',\n",
       " 'train/HUVEC-01/Plate4/L11_s2_w1.png',\n",
       " 'train/HUVEC-01/Plate4/I13_s1_w1.png',\n",
       " 'train/HUVEC-01/Plate4/M04_s2_w1.png']"
      ]
     },
     "execution_count": 8,
     "metadata": {},
     "output_type": "execute_result"
    }
   ],
   "source": [
    "images['w1'][-5:]"
   ]
  },
  {
   "cell_type": "code",
   "execution_count": 16,
   "metadata": {
    "ExecuteTime": {
     "end_time": "2019-08-01T19:00:21.232754Z",
     "start_time": "2019-08-01T19:00:21.228056Z"
    }
   },
   "outputs": [
    {
     "data": {
      "text/plain": [
       "81224"
      ]
     },
     "execution_count": 16,
     "metadata": {},
     "output_type": "execute_result"
    }
   ],
   "source": [
    "len(images['w1'])"
   ]
  },
  {
   "cell_type": "code",
   "execution_count": 9,
   "metadata": {
    "ExecuteTime": {
     "end_time": "2019-08-01T18:59:38.741981Z",
     "start_time": "2019-08-01T18:59:38.736973Z"
    }
   },
   "outputs": [
    {
     "data": {
      "text/plain": [
       "[81224, 81224, 81224, 81224, 81224, 81224]"
      ]
     },
     "execution_count": 9,
     "metadata": {},
     "output_type": "execute_result"
    }
   ],
   "source": [
    "[len(images[x]) for x in images.keys()]"
   ]
  },
  {
   "cell_type": "code",
   "execution_count": 10,
   "metadata": {
    "ExecuteTime": {
     "end_time": "2019-08-01T18:59:39.127745Z",
     "start_time": "2019-08-01T18:59:39.122295Z"
    }
   },
   "outputs": [
    {
     "data": {
      "text/plain": [
       "487344"
      ]
     },
     "execution_count": 10,
     "metadata": {},
     "output_type": "execute_result"
    }
   ],
   "source": [
    "sum([len(images[x]) for x in images.keys()])"
   ]
  },
  {
   "cell_type": "code",
   "execution_count": 11,
   "metadata": {
    "ExecuteTime": {
     "end_time": "2019-08-01T18:59:39.536471Z",
     "start_time": "2019-08-01T18:59:39.531594Z"
    }
   },
   "outputs": [
    {
     "data": {
      "text/plain": [
       "73030"
      ]
     },
     "execution_count": 11,
     "metadata": {},
     "output_type": "execute_result"
    }
   ],
   "source": [
    "57554+15476"
   ]
  },
  {
   "cell_type": "code",
   "execution_count": 13,
   "metadata": {
    "ExecuteTime": {
     "end_time": "2019-08-01T18:59:48.555961Z",
     "start_time": "2019-08-01T18:59:48.550885Z"
    }
   },
   "outputs": [],
   "source": [
    "#imgs = np.stack([plt.imread(i) for i in images['w1']])"
   ]
  },
  {
   "cell_type": "code",
   "execution_count": 14,
   "metadata": {
    "ExecuteTime": {
     "end_time": "2019-08-01T18:59:51.340407Z",
     "start_time": "2019-08-01T18:59:51.335428Z"
    }
   },
   "outputs": [],
   "source": [
    "#imgs.mean(), imgs.std()"
   ]
  },
  {
   "cell_type": "code",
   "execution_count": null,
   "metadata": {},
   "outputs": [],
   "source": []
  },
  {
   "cell_type": "code",
   "execution_count": null,
   "metadata": {},
   "outputs": [],
   "source": [
    "# https://forums.fast.ai/t/error-in-calculating-mean-and-standard-deviation-of-channels-of-image/27019/4\n",
    "images = (plt.imread(str(i)) for i in TRAIN.iterdir()) # generator comprehension\n",
    "images = np.stack(images)  # this takes time \n",
    "np.mean(images[:,:,:,0]),np.mean(images[:,:,:,1]),np.mean(images[:,:,:,2])\n",
    "np.std(images[:,:,:,0]),np.std(images[:,:,:,1]),np.std(images[:,:,:,2])"
   ]
  }
 ],
 "metadata": {
  "kernelspec": {
   "display_name": "fastai",
   "language": "python",
   "name": "fastai"
  },
  "language_info": {
   "codemirror_mode": {
    "name": "ipython",
    "version": 3
   },
   "file_extension": ".py",
   "mimetype": "text/x-python",
   "name": "python",
   "nbconvert_exporter": "python",
   "pygments_lexer": "ipython3",
   "version": "3.6.8"
  },
  "toc": {
   "base_numbering": 1,
   "nav_menu": {},
   "number_sections": true,
   "sideBar": true,
   "skip_h1_title": false,
   "title_cell": "Table of Contents",
   "title_sidebar": "Contents",
   "toc_cell": false,
   "toc_position": {},
   "toc_section_display": true,
   "toc_window_display": false
  }
 },
 "nbformat": 4,
 "nbformat_minor": 2
}
