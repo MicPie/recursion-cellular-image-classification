{
 "cells": [
  {
   "cell_type": "markdown",
   "metadata": {},
   "source": [
    "# Intro"
   ]
  },
  {
   "cell_type": "markdown",
   "metadata": {},
   "source": [
    "https://github.com/facebookresearch/faiss/wiki/Getting-started"
   ]
  },
  {
   "cell_type": "markdown",
   "metadata": {},
   "source": [
    "**We assume row-major storage, ie. the j'th component of vector number i is stored in row i, column j of the matrix. Faiss uses only 32-bit floating point matrices.**"
   ]
  },
  {
   "cell_type": "code",
   "execution_count": 1,
   "metadata": {
    "ExecuteTime": {
     "end_time": "2019-08-01T16:46:11.858065Z",
     "start_time": "2019-08-01T16:46:11.772613Z"
    }
   },
   "outputs": [],
   "source": [
    "import numpy as np\n",
    "import faiss"
   ]
  },
  {
   "cell_type": "code",
   "execution_count": 2,
   "metadata": {
    "ExecuteTime": {
     "end_time": "2019-08-01T16:46:12.386321Z",
     "start_time": "2019-08-01T16:46:11.982721Z"
    }
   },
   "outputs": [],
   "source": [
    "import matplotlib.pyplot as plt\n",
    "from sklearn.metrics import confusion_matrix\n",
    "from sklearn.utils.multiclass import unique_labels"
   ]
  },
  {
   "cell_type": "markdown",
   "metadata": {},
   "source": [
    "# Setup"
   ]
  },
  {
   "cell_type": "code",
   "execution_count": 3,
   "metadata": {
    "ExecuteTime": {
     "end_time": "2019-08-01T16:46:12.674437Z",
     "start_time": "2019-08-01T16:46:12.640956Z"
    }
   },
   "outputs": [],
   "source": [
    "xb = np.load('pred/feats1_train.npy')\n",
    "yb = np.load('pred/targs_train.npy')\n",
    "xq = np.load('pred/feats1_valid.npy')\n",
    "yq = np.load('pred/targs_valid.npy')"
   ]
  },
  {
   "cell_type": "code",
   "execution_count": 4,
   "metadata": {
    "ExecuteTime": {
     "end_time": "2019-08-01T16:46:13.314941Z",
     "start_time": "2019-08-01T16:46:13.312012Z"
    }
   },
   "outputs": [
    {
     "data": {
      "text/plain": [
       "(28640, 512)"
      ]
     },
     "execution_count": 4,
     "metadata": {},
     "output_type": "execute_result"
    }
   ],
   "source": [
    "xb.shape # nb-by-d"
   ]
  },
  {
   "cell_type": "code",
   "execution_count": 5,
   "metadata": {
    "ExecuteTime": {
     "end_time": "2019-08-01T16:46:14.682729Z",
     "start_time": "2019-08-01T16:46:14.680432Z"
    }
   },
   "outputs": [
    {
     "data": {
      "text/plain": [
       "(15476, 512)"
      ]
     },
     "execution_count": 5,
     "metadata": {},
     "output_type": "execute_result"
    }
   ],
   "source": [
    "xq.shape # nq-by-d (query vectors)"
   ]
  },
  {
   "cell_type": "code",
   "execution_count": 6,
   "metadata": {
    "ExecuteTime": {
     "end_time": "2019-08-01T16:46:15.242757Z",
     "start_time": "2019-08-01T16:46:15.235475Z"
    }
   },
   "outputs": [
    {
     "data": {
      "text/plain": [
       "((28640,), (15476,))"
      ]
     },
     "execution_count": 6,
     "metadata": {},
     "output_type": "execute_result"
    }
   ],
   "source": [
    "yb.shape, yq.shape"
   ]
  },
  {
   "cell_type": "code",
   "execution_count": 7,
   "metadata": {
    "ExecuteTime": {
     "end_time": "2019-08-01T16:46:15.802912Z",
     "start_time": "2019-08-01T16:46:15.799687Z"
    }
   },
   "outputs": [
    {
     "data": {
      "text/plain": [
       "(512, 676)"
      ]
     },
     "execution_count": 7,
     "metadata": {},
     "output_type": "execute_result"
    }
   ],
   "source": [
    "## setup\n",
    "d = xb.shape[1] # 512\n",
    "nlist = int(4*np.sqrt(xb.shape[0])) # https://github.com/facebookresearch/faiss/issues/112\n",
    "d, nlist"
   ]
  },
  {
   "cell_type": "code",
   "execution_count": 8,
   "metadata": {
    "ExecuteTime": {
     "end_time": "2019-08-01T16:46:16.450957Z",
     "start_time": "2019-08-01T16:46:16.448216Z"
    }
   },
   "outputs": [],
   "source": [
    "quantizer = faiss.IndexFlatIP(d)\n",
    "index = faiss.IndexIVFFlat(quantizer, d, nlist, faiss.METRIC_INNER_PRODUCT)"
   ]
  },
  {
   "cell_type": "markdown",
   "metadata": {
    "ExecuteTime": {
     "end_time": "2019-07-25T18:29:39.571762Z",
     "start_time": "2019-07-25T18:29:39.562612Z"
    }
   },
   "source": [
    "https://github.com/facebookresearch/faiss/wiki/FAQ#how-can-i-index-vectors-for-cosine-distance"
   ]
  },
  {
   "cell_type": "code",
   "execution_count": 9,
   "metadata": {
    "ExecuteTime": {
     "end_time": "2019-08-01T16:46:17.633513Z",
     "start_time": "2019-08-01T16:46:17.627170Z"
    }
   },
   "outputs": [
    {
     "data": {
      "text/plain": [
       "14.553084"
      ]
     },
     "execution_count": 9,
     "metadata": {},
     "output_type": "execute_result"
    }
   ],
   "source": [
    "xb.max()"
   ]
  },
  {
   "cell_type": "code",
   "execution_count": 10,
   "metadata": {
    "ExecuteTime": {
     "end_time": "2019-08-01T16:46:18.223452Z",
     "start_time": "2019-08-01T16:46:18.203646Z"
    }
   },
   "outputs": [],
   "source": [
    "faiss.normalize_L2(xb)"
   ]
  },
  {
   "cell_type": "code",
   "execution_count": 11,
   "metadata": {
    "ExecuteTime": {
     "end_time": "2019-08-01T16:46:18.618005Z",
     "start_time": "2019-08-01T16:46:18.609425Z"
    }
   },
   "outputs": [
    {
     "data": {
      "text/plain": [
       "0.19786212"
      ]
     },
     "execution_count": 11,
     "metadata": {},
     "output_type": "execute_result"
    }
   ],
   "source": [
    "xb.max()"
   ]
  },
  {
   "cell_type": "code",
   "execution_count": 12,
   "metadata": {
    "ExecuteTime": {
     "end_time": "2019-08-01T16:46:21.306898Z",
     "start_time": "2019-08-01T16:46:20.317937Z"
    }
   },
   "outputs": [],
   "source": [
    "index.train(xb)"
   ]
  },
  {
   "cell_type": "code",
   "execution_count": 13,
   "metadata": {
    "ExecuteTime": {
     "end_time": "2019-08-01T16:46:22.084911Z",
     "start_time": "2019-08-01T16:46:21.920847Z"
    }
   },
   "outputs": [],
   "source": [
    "index.add_with_ids(xb, yb)"
   ]
  },
  {
   "cell_type": "code",
   "execution_count": 14,
   "metadata": {
    "ExecuteTime": {
     "end_time": "2019-08-01T16:46:22.380943Z",
     "start_time": "2019-08-01T16:46:22.378776Z"
    }
   },
   "outputs": [
    {
     "name": "stdout",
     "output_type": "stream",
     "text": [
      "True\n",
      "28640\n"
     ]
    }
   ],
   "source": [
    "print(index.is_trained)\n",
    "print(index.ntotal)"
   ]
  },
  {
   "cell_type": "markdown",
   "metadata": {},
   "source": [
    "## Train dataset"
   ]
  },
  {
   "cell_type": "code",
   "execution_count": 15,
   "metadata": {
    "ExecuteTime": {
     "end_time": "2019-08-01T16:46:23.813164Z",
     "start_time": "2019-08-01T16:46:23.605357Z"
    }
   },
   "outputs": [
    {
     "name": "stdout",
     "output_type": "stream",
     "text": [
      "[[124 124 124 124 124]\n",
      " [  3 658 478 440 967]\n",
      " [982 481 955 775 528]\n",
      " [  9 333 333 333 613]\n",
      " [ 21  21  21  21  21]]\n",
      "[[124]\n",
      " [  3]\n",
      " [982]\n",
      " [  9]\n",
      " [ 21]]\n",
      "[[0.9999999  0.79639614 0.7573937  0.7389341  0.72462726]\n",
      " [1.         0.8404213  0.81669426 0.78183615 0.7749489 ]\n",
      " [1.         0.75408095 0.7284549  0.69835955 0.68455404]\n",
      " [1.         0.787472   0.7221261  0.69110686 0.6417128 ]\n",
      " [0.99999994 0.90959346 0.8841326  0.8493742  0.8478177 ]]\n"
     ]
    }
   ],
   "source": [
    "## search\n",
    "k = 5 # we want to see 5 nearest neighbors\n",
    "D_train, I_train = index.search(xb, k) # sanity check\n",
    "print(I_train[:5])\n",
    "print(yb[:5].reshape((5,1)))\n",
    "print(D_train[:5])"
   ]
  },
  {
   "cell_type": "code",
   "execution_count": 16,
   "metadata": {
    "ExecuteTime": {
     "end_time": "2019-08-01T16:46:26.811600Z",
     "start_time": "2019-08-01T16:46:26.807659Z"
    }
   },
   "outputs": [
    {
     "data": {
      "text/plain": [
       "(1107, 1107)"
      ]
     },
     "execution_count": 16,
     "metadata": {},
     "output_type": "execute_result"
    }
   ],
   "source": [
    "yb.max(), I_train.max()"
   ]
  },
  {
   "cell_type": "markdown",
   "metadata": {
    "heading_collapsed": true
   },
   "source": [
    "### Train accuracy"
   ]
  },
  {
   "cell_type": "code",
   "execution_count": 17,
   "metadata": {
    "ExecuteTime": {
     "end_time": "2019-07-29T17:15:13.424543Z",
     "start_time": "2019-07-29T17:15:13.419223Z"
    },
    "hidden": true
   },
   "outputs": [
    {
     "data": {
      "text/plain": [
       "((57520,), (57520,))"
      ]
     },
     "execution_count": 17,
     "metadata": {},
     "output_type": "execute_result"
    }
   ],
   "source": [
    "I_train[:,0].shape, yb.shape"
   ]
  },
  {
   "cell_type": "code",
   "execution_count": 18,
   "metadata": {
    "ExecuteTime": {
     "end_time": "2019-07-29T17:15:13.989694Z",
     "start_time": "2019-07-29T17:15:13.984015Z"
    },
    "hidden": true
   },
   "outputs": [
    {
     "data": {
      "text/plain": [
       "1.0"
      ]
     },
     "execution_count": 18,
     "metadata": {},
     "output_type": "execute_result"
    }
   ],
   "source": [
    "# Accuracy\n",
    "np.equal(I_train[:,0], yb).sum()/len(yb)"
   ]
  },
  {
   "cell_type": "code",
   "execution_count": 19,
   "metadata": {
    "ExecuteTime": {
     "end_time": "2019-07-29T17:15:14.417413Z",
     "start_time": "2019-07-29T17:15:14.412446Z"
    },
    "hidden": true
   },
   "outputs": [
    {
     "data": {
      "text/plain": [
       "(array([ 66, 432, 948, 326, 451, 515, 308, 769, 303, 830]),\n",
       " array([ 66, 432, 948, 326, 451, 515, 308, 769, 303, 830]))"
      ]
     },
     "execution_count": 19,
     "metadata": {},
     "output_type": "execute_result"
    }
   ],
   "source": [
    "I_train[:10,0], yb[:10]"
   ]
  },
  {
   "cell_type": "code",
   "execution_count": 20,
   "metadata": {
    "ExecuteTime": {
     "end_time": "2019-07-29T17:15:14.904455Z",
     "start_time": "2019-07-29T17:15:14.898942Z"
    },
    "hidden": true
   },
   "outputs": [
    {
     "data": {
      "text/plain": [
       "(array([ 521,  590,  258, 1027,  199,  327,  622,  315,  432,  837]),\n",
       " array([ 521,  590,  258, 1027,  199,  327,  622,  315,  432,  837]))"
      ]
     },
     "execution_count": 20,
     "metadata": {},
     "output_type": "execute_result"
    }
   ],
   "source": [
    "I_train[-10:,0], yb[-10:]"
   ]
  },
  {
   "cell_type": "markdown",
   "metadata": {
    "heading_collapsed": true
   },
   "source": [
    "### Train confusion matrix"
   ]
  },
  {
   "cell_type": "code",
   "execution_count": 21,
   "metadata": {
    "ExecuteTime": {
     "end_time": "2019-07-29T17:15:16.490284Z",
     "start_time": "2019-07-29T17:15:16.451328Z"
    },
    "hidden": true
   },
   "outputs": [],
   "source": [
    "cm = confusion_matrix(I_train[:,0], yb)"
   ]
  },
  {
   "cell_type": "code",
   "execution_count": 22,
   "metadata": {
    "ExecuteTime": {
     "end_time": "2019-07-29T17:15:17.215044Z",
     "start_time": "2019-07-29T17:15:17.018333Z"
    },
    "hidden": true,
    "scrolled": false
   },
   "outputs": [
    {
     "data": {
      "text/plain": [
       "<matplotlib.image.AxesImage at 0x7f048d264588>"
      ]
     },
     "execution_count": 22,
     "metadata": {},
     "output_type": "execute_result"
    },
    {
     "data": {
      "image/png": "[encoded data removed]",
      "text/plain": [
       "<Figure size 1080x1080 with 1 Axes>"
      ]
     },
     "metadata": {
      "needs_background": "light"
     },
     "output_type": "display_data"
    }
   ],
   "source": [
    "fig, ax = plt.subplots(figsize=(15,15))\n",
    "ax.matshow(cm, cmap='hot')"
   ]
  },
  {
   "cell_type": "markdown",
   "metadata": {},
   "source": [
    "## Valid dataset"
   ]
  },
  {
   "cell_type": "code",
   "execution_count": 17,
   "metadata": {
    "ExecuteTime": {
     "end_time": "2019-08-01T16:46:45.153153Z",
     "start_time": "2019-08-01T16:46:45.144741Z"
    }
   },
   "outputs": [
    {
     "data": {
      "text/plain": [
       "12.072606"
      ]
     },
     "execution_count": 17,
     "metadata": {},
     "output_type": "execute_result"
    }
   ],
   "source": [
    "xq.max()"
   ]
  },
  {
   "cell_type": "code",
   "execution_count": 18,
   "metadata": {
    "ExecuteTime": {
     "end_time": "2019-08-01T16:46:45.695049Z",
     "start_time": "2019-08-01T16:46:45.690686Z"
    }
   },
   "outputs": [],
   "source": [
    "faiss.normalize_L2(xq)"
   ]
  },
  {
   "cell_type": "code",
   "execution_count": 19,
   "metadata": {
    "ExecuteTime": {
     "end_time": "2019-08-01T16:46:46.107879Z",
     "start_time": "2019-08-01T16:46:46.099923Z"
    }
   },
   "outputs": [
    {
     "data": {
      "text/plain": [
       "0.21168175"
      ]
     },
     "execution_count": 19,
     "metadata": {},
     "output_type": "execute_result"
    }
   ],
   "source": [
    "xq.max()"
   ]
  },
  {
   "cell_type": "code",
   "execution_count": 20,
   "metadata": {
    "ExecuteTime": {
     "end_time": "2019-08-01T16:46:46.776324Z",
     "start_time": "2019-08-01T16:46:46.663888Z"
    }
   },
   "outputs": [],
   "source": [
    "D_valid, I_valid = index.search(xq, k) # actual search"
   ]
  },
  {
   "cell_type": "code",
   "execution_count": 21,
   "metadata": {
    "ExecuteTime": {
     "end_time": "2019-08-01T16:46:47.131040Z",
     "start_time": "2019-08-01T16:46:47.128765Z"
    }
   },
   "outputs": [
    {
     "data": {
      "text/plain": [
       "((15476, 512), (15476,))"
      ]
     },
     "execution_count": 21,
     "metadata": {},
     "output_type": "execute_result"
    }
   ],
   "source": [
    "xq.shape, yq.shape"
   ]
  },
  {
   "cell_type": "code",
   "execution_count": 22,
   "metadata": {
    "ExecuteTime": {
     "end_time": "2019-08-01T16:46:47.666060Z",
     "start_time": "2019-08-01T16:46:47.662189Z"
    }
   },
   "outputs": [
    {
     "data": {
      "text/plain": [
       "((15476, 5), (15476, 5))"
      ]
     },
     "execution_count": 22,
     "metadata": {},
     "output_type": "execute_result"
    }
   ],
   "source": [
    "I_valid.shape, D_valid.shape"
   ]
  },
  {
   "cell_type": "code",
   "execution_count": 23,
   "metadata": {
    "ExecuteTime": {
     "end_time": "2019-08-01T16:46:48.986871Z",
     "start_time": "2019-08-01T16:46:48.981093Z"
    }
   },
   "outputs": [
    {
     "name": "stdout",
     "output_type": "stream",
     "text": [
      "[[ 284  315  659  856  856]\n",
      " [ 618  699  542  222 1006]\n",
      " [ 964  964  964  964  668]\n",
      " [ 504  857  860 1000    9]\n",
      " [ 961  961  961  719  648]]\n",
      "[[352]\n",
      " [361]\n",
      " [503]\n",
      " [505]\n",
      " [ 70]]\n",
      "[[0.8208144  0.7405964  0.6830097  0.6737251  0.6727158 ]\n",
      " [0.5874394  0.507218   0.46220332 0.45664477 0.45333964]\n",
      " [0.75224876 0.69979227 0.69668686 0.69179    0.6907649 ]\n",
      " [0.6604495  0.5635783  0.56068647 0.560453   0.55952173]\n",
      " [0.6167942  0.60069275 0.5705944  0.5627043  0.5597233 ]]\n"
     ]
    }
   ],
   "source": [
    "print(I_valid[:5]) # neighbors of the 5 first queries\n",
    "print(yq[:5].reshape((5,1)))\n",
    "print(D_valid[:5])"
   ]
  },
  {
   "cell_type": "code",
   "execution_count": 24,
   "metadata": {
    "ExecuteTime": {
     "end_time": "2019-08-01T16:46:49.443610Z",
     "start_time": "2019-08-01T16:46:49.438932Z"
    }
   },
   "outputs": [
    {
     "name": "stdout",
     "output_type": "stream",
     "text": [
      "[[ 277  970  388  277  277]\n",
      " [ 285  713  375  202 1010]\n",
      " [ 684  684  684  684  928]\n",
      " [ 519  616  677  238  186]\n",
      " [ 253 1029  463  314 1022]]\n",
      "[[103]\n",
      " [202]\n",
      " [824]\n",
      " [328]\n",
      " [509]]\n",
      "[[0.65519625 0.6445048  0.6335293  0.63343924 0.6296851 ]\n",
      " [0.70606935 0.6259628  0.6193743  0.59861255 0.5431895 ]\n",
      " [0.63706505 0.5807494  0.57609445 0.57050186 0.5408281 ]\n",
      " [0.80068094 0.79149485 0.7541588  0.73447806 0.72727   ]\n",
      " [0.7319426  0.7054286  0.69747823 0.601457   0.5343927 ]]\n"
     ]
    }
   ],
   "source": [
    "print(I_valid[-5:]) # neighbors of the 5 last queries\n",
    "print(yq[-5:].reshape((5,1)))\n",
    "print(D_valid[-5:])"
   ]
  },
  {
   "cell_type": "code",
   "execution_count": 31,
   "metadata": {
    "ExecuteTime": {
     "end_time": "2019-07-29T17:15:24.459853Z",
     "start_time": "2019-07-29T17:15:24.451856Z"
    }
   },
   "outputs": [],
   "source": [
    "#np.save('pred/preds_valid.npy', I_valid)"
   ]
  },
  {
   "cell_type": "markdown",
   "metadata": {},
   "source": [
    "### Valid accuracy"
   ]
  },
  {
   "cell_type": "code",
   "execution_count": 25,
   "metadata": {
    "ExecuteTime": {
     "end_time": "2019-08-01T16:46:55.963742Z",
     "start_time": "2019-08-01T16:46:55.961365Z"
    }
   },
   "outputs": [
    {
     "data": {
      "text/plain": [
       "array([284, 618, 964, ..., 684, 519, 253])"
      ]
     },
     "execution_count": 25,
     "metadata": {},
     "output_type": "execute_result"
    }
   ],
   "source": [
    "I_valid[:,0]"
   ]
  },
  {
   "cell_type": "code",
   "execution_count": 26,
   "metadata": {
    "ExecuteTime": {
     "end_time": "2019-08-01T16:46:56.690028Z",
     "start_time": "2019-08-01T16:46:56.687448Z"
    }
   },
   "outputs": [
    {
     "data": {
      "text/plain": [
       "array([352, 361, 503, ..., 824, 328, 509])"
      ]
     },
     "execution_count": 26,
     "metadata": {},
     "output_type": "execute_result"
    }
   ],
   "source": [
    "yq"
   ]
  },
  {
   "cell_type": "code",
   "execution_count": 27,
   "metadata": {
    "ExecuteTime": {
     "end_time": "2019-08-01T16:46:57.377899Z",
     "start_time": "2019-08-01T16:46:57.373203Z"
    }
   },
   "outputs": [
    {
     "data": {
      "text/plain": [
       "1321"
      ]
     },
     "execution_count": 27,
     "metadata": {},
     "output_type": "execute_result"
    }
   ],
   "source": [
    "# Correct elements\n",
    "np.equal(I_valid[:,0], yq).sum()"
   ]
  },
  {
   "cell_type": "code",
   "execution_count": 28,
   "metadata": {
    "ExecuteTime": {
     "end_time": "2019-08-01T16:46:58.954488Z",
     "start_time": "2019-08-01T16:46:58.951083Z"
    }
   },
   "outputs": [
    {
     "data": {
      "text/plain": [
       "0.08535797363659861"
      ]
     },
     "execution_count": 28,
     "metadata": {},
     "output_type": "execute_result"
    }
   ],
   "source": [
    "# Accuracy\n",
    "np.equal(I_valid[:,0], yq).sum()/len(yq)"
   ]
  },
  {
   "cell_type": "code",
   "execution_count": 29,
   "metadata": {
    "ExecuteTime": {
     "end_time": "2019-08-01T16:47:04.838831Z",
     "start_time": "2019-08-01T16:47:04.836561Z"
    }
   },
   "outputs": [],
   "source": [
    "valid_correct = np.equal(I_valid[:,0], yq)"
   ]
  },
  {
   "cell_type": "code",
   "execution_count": 30,
   "metadata": {
    "ExecuteTime": {
     "end_time": "2019-08-01T16:47:05.367553Z",
     "start_time": "2019-08-01T16:47:05.365389Z"
    }
   },
   "outputs": [
    {
     "data": {
      "text/plain": [
       "array([False, False, False, ..., False, False, False])"
      ]
     },
     "execution_count": 30,
     "metadata": {},
     "output_type": "execute_result"
    }
   ],
   "source": [
    "valid_correct"
   ]
  },
  {
   "cell_type": "code",
   "execution_count": 38,
   "metadata": {
    "ExecuteTime": {
     "end_time": "2019-07-29T17:15:29.804243Z",
     "start_time": "2019-07-29T17:15:29.797386Z"
    }
   },
   "outputs": [],
   "source": [
    "#np.save('pred/preds_valid_correct.npy', valid_correct)"
   ]
  },
  {
   "cell_type": "markdown",
   "metadata": {},
   "source": [
    "### Valid confusion matrix"
   ]
  },
  {
   "cell_type": "code",
   "execution_count": 31,
   "metadata": {
    "ExecuteTime": {
     "end_time": "2019-08-01T16:47:24.439812Z",
     "start_time": "2019-08-01T16:47:24.421136Z"
    }
   },
   "outputs": [],
   "source": [
    "cm = confusion_matrix(I_valid[:,0], yq)"
   ]
  },
  {
   "cell_type": "code",
   "execution_count": 32,
   "metadata": {
    "ExecuteTime": {
     "end_time": "2019-08-01T16:47:25.405046Z",
     "start_time": "2019-08-01T16:47:25.032258Z"
    },
    "scrolled": false
   },
   "outputs": [
    {
     "data": {
      "text/plain": [
       "<matplotlib.image.AxesImage at 0x7fa140491978>"
      ]
     },
     "execution_count": 32,
     "metadata": {},
     "output_type": "execute_result"
    },
    {
     "data": {
      "image/png": "[encoded data removed]",
      "text/plain": [
       "<Figure size 1080x1080 with 1 Axes>"
      ]
     },
     "metadata": {
      "needs_background": "light"
     },
     "output_type": "display_data"
    }
   ],
   "source": [
    "fig, ax = plt.subplots(figsize=(15,15))\n",
    "ax.matshow(cm, cmap='hot')"
   ]
  },
  {
   "cell_type": "markdown",
   "metadata": {
    "heading_collapsed": true
   },
   "source": [
    "#### Work in progress"
   ]
  },
  {
   "cell_type": "code",
   "execution_count": 41,
   "metadata": {
    "ExecuteTime": {
     "end_time": "2019-07-26T04:09:35.769328Z",
     "start_time": "2019-07-26T04:09:35.765465Z"
    },
    "hidden": true
   },
   "outputs": [
    {
     "data": {
      "text/plain": [
       "(1108, 1108)"
      ]
     },
     "execution_count": 41,
     "metadata": {},
     "output_type": "execute_result"
    }
   ],
   "source": [
    "cm.shape"
   ]
  },
  {
   "cell_type": "code",
   "execution_count": 42,
   "metadata": {
    "ExecuteTime": {
     "end_time": "2019-07-26T04:09:36.265570Z",
     "start_time": "2019-07-26T04:09:36.261734Z"
    },
    "hidden": true
   },
   "outputs": [
    {
     "data": {
      "text/plain": [
       "array([[ True, False, False, ..., False, False, False],\n",
       "       [False,  True, False, ..., False, False, False],\n",
       "       [False, False,  True, ..., False, False, False],\n",
       "       ...,\n",
       "       [False, False, False, ...,  True, False, False],\n",
       "       [False, False, False, ..., False,  True, False],\n",
       "       [False, False, False, ..., False, False,  True]])"
      ]
     },
     "execution_count": 42,
     "metadata": {},
     "output_type": "execute_result"
    }
   ],
   "source": [
    "np.eye(1108, dtype=bool)"
   ]
  },
  {
   "cell_type": "code",
   "execution_count": 43,
   "metadata": {
    "ExecuteTime": {
     "end_time": "2019-07-26T04:09:36.605524Z",
     "start_time": "2019-07-26T04:09:36.601250Z"
    },
    "hidden": true
   },
   "outputs": [
    {
     "data": {
      "text/plain": [
       "1506"
      ]
     },
     "execution_count": 43,
     "metadata": {},
     "output_type": "execute_result"
    }
   ],
   "source": [
    "cm[np.eye(1108, dtype=bool)].sum()"
   ]
  },
  {
   "cell_type": "code",
   "execution_count": 44,
   "metadata": {
    "ExecuteTime": {
     "end_time": "2019-07-26T04:09:37.189724Z",
     "start_time": "2019-07-26T04:09:37.182889Z"
    },
    "hidden": true
   },
   "outputs": [
    {
     "data": {
      "text/plain": [
       "6232"
      ]
     },
     "execution_count": 44,
     "metadata": {},
     "output_type": "execute_result"
    }
   ],
   "source": [
    "cm[~np.eye(1108, dtype=bool)].sum()"
   ]
  },
  {
   "cell_type": "code",
   "execution_count": 45,
   "metadata": {
    "ExecuteTime": {
     "end_time": "2019-07-26T04:09:37.743649Z",
     "start_time": "2019-07-26T04:09:37.735742Z"
    },
    "hidden": true
   },
   "outputs": [
    {
     "data": {
      "text/plain": [
       "0.19462393383303178"
      ]
     },
     "execution_count": 45,
     "metadata": {},
     "output_type": "execute_result"
    }
   ],
   "source": [
    "cm[np.eye(1108, dtype=bool)].sum()/(cm[~np.eye(1108, dtype=bool)].sum() + cm[np.eye(1108, dtype=bool)].sum())"
   ]
  },
  {
   "cell_type": "code",
   "execution_count": 46,
   "metadata": {
    "ExecuteTime": {
     "end_time": "2019-07-26T04:09:39.709845Z",
     "start_time": "2019-07-26T04:09:39.705215Z"
    },
    "hidden": true
   },
   "outputs": [
    {
     "data": {
      "text/plain": [
       "array([[False,  True,  True, ...,  True,  True,  True],\n",
       "       [ True, False,  True, ...,  True,  True,  True],\n",
       "       [ True,  True, False, ...,  True,  True,  True],\n",
       "       ...,\n",
       "       [ True,  True,  True, ..., False,  True,  True],\n",
       "       [ True,  True,  True, ...,  True, False,  True],\n",
       "       [ True,  True,  True, ...,  True,  True, False]])"
      ]
     },
     "execution_count": 46,
     "metadata": {},
     "output_type": "execute_result"
    }
   ],
   "source": [
    "~np.eye(1108, dtype=bool)"
   ]
  },
  {
   "cell_type": "code",
   "execution_count": 47,
   "metadata": {
    "ExecuteTime": {
     "end_time": "2019-07-26T04:09:40.311770Z",
     "start_time": "2019-07-26T04:09:40.305193Z"
    },
    "hidden": true
   },
   "outputs": [
    {
     "data": {
      "text/plain": [
       "array([0, 0, 0, ..., 0, 0, 0])"
      ]
     },
     "execution_count": 47,
     "metadata": {},
     "output_type": "execute_result"
    }
   ],
   "source": [
    "cm[~np.eye(1108, dtype=bool)]"
   ]
  },
  {
   "cell_type": "code",
   "execution_count": 48,
   "metadata": {
    "ExecuteTime": {
     "end_time": "2019-07-26T04:09:40.973188Z",
     "start_time": "2019-07-26T04:09:40.958109Z"
    },
    "hidden": true
   },
   "outputs": [
    {
     "data": {
      "text/plain": [
       "array([[-0.,  1.,  1., ...,  1.,  1.,  1.],\n",
       "       [ 1., -0.,  1., ...,  1.,  1.,  1.],\n",
       "       [ 1.,  1., -0., ...,  1.,  1.,  1.],\n",
       "       ...,\n",
       "       [ 1.,  1.,  1., ..., -0.,  1.,  1.],\n",
       "       [ 1.,  1.,  1., ...,  1., -0.,  1.],\n",
       "       [ 1.,  1.,  1., ...,  1.,  1., -0.]])"
      ]
     },
     "execution_count": 48,
     "metadata": {},
     "output_type": "execute_result"
    }
   ],
   "source": [
    "-(np.eye(1108)-1)"
   ]
  },
  {
   "cell_type": "code",
   "execution_count": 49,
   "metadata": {
    "ExecuteTime": {
     "end_time": "2019-07-26T04:09:41.568051Z",
     "start_time": "2019-07-26T04:09:41.557245Z"
    },
    "hidden": true
   },
   "outputs": [
    {
     "data": {
      "text/plain": [
       "array([[-0.,  0.,  0., ...,  0.,  0.,  0.],\n",
       "       [ 0., -0.,  0., ...,  0.,  0.,  0.],\n",
       "       [ 0.,  0., -0., ...,  0.,  0.,  0.],\n",
       "       ...,\n",
       "       [ 0.,  0.,  0., ..., -0.,  0.,  0.],\n",
       "       [ 0.,  0.,  0., ...,  0., -0.,  0.],\n",
       "       [ 0.,  0.,  0., ...,  0.,  0., -0.]])"
      ]
     },
     "execution_count": 49,
     "metadata": {},
     "output_type": "execute_result"
    }
   ],
   "source": [
    "cm * -(np.eye(1108)-1)"
   ]
  },
  {
   "cell_type": "code",
   "execution_count": 50,
   "metadata": {
    "ExecuteTime": {
     "end_time": "2019-07-26T04:09:43.899389Z",
     "start_time": "2019-07-26T04:09:43.891223Z"
    },
    "hidden": true
   },
   "outputs": [],
   "source": [
    "cm_wodia = (cm * -(np.eye(1108)-1))"
   ]
  },
  {
   "cell_type": "code",
   "execution_count": 51,
   "metadata": {
    "ExecuteTime": {
     "end_time": "2019-07-26T04:09:44.439218Z",
     "start_time": "2019-07-26T04:09:44.435213Z"
    },
    "hidden": true
   },
   "outputs": [
    {
     "data": {
      "text/plain": [
       "(1108, 1108)"
      ]
     },
     "execution_count": 51,
     "metadata": {},
     "output_type": "execute_result"
    }
   ],
   "source": [
    "cm_wodia.shape"
   ]
  },
  {
   "cell_type": "code",
   "execution_count": 52,
   "metadata": {
    "ExecuteTime": {
     "end_time": "2019-07-26T04:09:44.905147Z",
     "start_time": "2019-07-26T04:09:44.900327Z"
    },
    "hidden": true
   },
   "outputs": [
    {
     "data": {
      "text/plain": [
       "array([3., 5., 4., ..., 7., 6., 5.])"
      ]
     },
     "execution_count": 52,
     "metadata": {},
     "output_type": "execute_result"
    }
   ],
   "source": [
    "cm_wodia.sum(axis=0)"
   ]
  },
  {
   "cell_type": "code",
   "execution_count": 53,
   "metadata": {
    "ExecuteTime": {
     "end_time": "2019-07-26T04:09:45.317861Z",
     "start_time": "2019-07-26T04:09:45.313579Z"
    },
    "hidden": true
   },
   "outputs": [
    {
     "data": {
      "text/plain": [
       "array([ 9.,  6.,  1., ...,  3., 10.,  4.])"
      ]
     },
     "execution_count": 53,
     "metadata": {},
     "output_type": "execute_result"
    }
   ],
   "source": [
    "cm_wodia.sum(axis=1)"
   ]
  },
  {
   "cell_type": "code",
   "execution_count": null,
   "metadata": {
    "hidden": true
   },
   "outputs": [],
   "source": []
  },
  {
   "cell_type": "code",
   "execution_count": 73,
   "metadata": {
    "ExecuteTime": {
     "end_time": "2019-07-25T20:17:32.791852Z",
     "start_time": "2019-07-25T20:17:32.784165Z"
    },
    "code_folding": [
     1
    ],
    "hidden": true
   },
   "outputs": [],
   "source": [
    "# from https://scikit-learn.org/stable/auto_examples/model_selection/plot_confusion_matrix.html#sphx-glr-auto-examples-model-selection-plot-confusion-matrix-py\n",
    "#def plot_confusion_matrix(y_true, y_pred, classes,\n",
    "                          normalize=False,\n",
    "                          title=None,\n",
    "                          cmap=plt.cm.Blues):\n",
    "    \"\"\"\n",
    "    This function prints and plots the confusion matrix.\n",
    "    Normalization can be applied by setting `normalize=True`.\n",
    "    \"\"\"\n",
    "    if not title:\n",
    "        if normalize:\n",
    "            title = 'Normalized confusion matrix'\n",
    "        else:\n",
    "            title = 'Confusion matrix, without normalization'\n",
    "\n",
    "    # Compute confusion matrix\n",
    "    cm = confusion_matrix(y_true, y_pred)\n",
    "    # Only use the labels that appear in the data\n",
    "    classes = classes[unique_labels(y_true, y_pred)]\n",
    "    if normalize:\n",
    "        cm = cm.astype('float') / cm.sum(axis=1)[:, np.newaxis]\n",
    "        print(\"Normalized confusion matrix\")\n",
    "    else:\n",
    "        print('Confusion matrix, without normalization')\n",
    "\n",
    "    print(cm)\n",
    "\n",
    "    fig, ax = plt.subplots()\n",
    "    im = ax.imshow(cm, interpolation='nearest', cmap=cmap)\n",
    "    ax.figure.colorbar(im, ax=ax)\n",
    "    # We want to show all ticks...\n",
    "    ax.set(xticks=np.arange(cm.shape[1]),\n",
    "           yticks=np.arange(cm.shape[0]),\n",
    "           # ... and label them with the respective list entries\n",
    "           xticklabels=classes, yticklabels=classes,\n",
    "           title=title,\n",
    "           ylabel='True label',\n",
    "           xlabel='Predicted label')\n",
    "\n",
    "    # Rotate the tick labels and set their alignment.\n",
    "    plt.setp(ax.get_xticklabels(), rotation=45, ha=\"right\",\n",
    "             rotation_mode=\"anchor\")\n",
    "\n",
    "    # Loop over data dimensions and create text annotations.\n",
    "    fmt = '.2f' if normalize else 'd'\n",
    "    thresh = cm.max() / 2.\n",
    "    for i in range(cm.shape[0]):\n",
    "        for j in range(cm.shape[1]):\n",
    "            ax.text(j, i, format(cm[i, j], fmt),\n",
    "                    ha=\"center\", va=\"center\",\n",
    "                    color=\"white\" if cm[i, j] > thresh else \"black\")\n",
    "    fig.tight_layout()\n",
    "    return ax"
   ]
  },
  {
   "cell_type": "code",
   "execution_count": null,
   "metadata": {
    "ExecuteTime": {
     "end_time": "2019-07-25T20:18:51.239972Z",
     "start_time": "2019-07-25T20:18:06.234817Z"
    },
    "hidden": true
   },
   "outputs": [],
   "source": [
    "# Plot non-normalized confusion matrix\n",
    "plot_confusion_matrix(I_test[:,0], yq, classes=np.unique(yq),\n",
    "                      title='Confusion matrix, without normalization')\n",
    "plt.show()"
   ]
  },
  {
   "cell_type": "code",
   "execution_count": null,
   "metadata": {
    "ExecuteTime": {
     "end_time": "2019-07-25T20:17:56.789089Z",
     "start_time": "2019-07-25T20:17:35.927Z"
    },
    "hidden": true
   },
   "outputs": [],
   "source": [
    "# Plot normalized confusion matrix\n",
    "plot_confusion_matrix(I_test[:,0], yq, #classes=np.unique(yq), normalize=True,\n",
    "                      title='Normalized confusion matrix')\n",
    "plt.show()"
   ]
  },
  {
   "cell_type": "markdown",
   "metadata": {},
   "source": [
    "## Test dataset"
   ]
  },
  {
   "cell_type": "code",
   "execution_count": 33,
   "metadata": {
    "ExecuteTime": {
     "end_time": "2019-08-01T16:49:13.632273Z",
     "start_time": "2019-08-01T16:49:13.605728Z"
    }
   },
   "outputs": [],
   "source": [
    "xq_test = np.load('pred/feats1_test.npy')"
   ]
  },
  {
   "cell_type": "code",
   "execution_count": 34,
   "metadata": {
    "ExecuteTime": {
     "end_time": "2019-08-01T16:49:14.141855Z",
     "start_time": "2019-08-01T16:49:14.133235Z"
    }
   },
   "outputs": [
    {
     "data": {
      "text/plain": [
       "14.33381"
      ]
     },
     "execution_count": 34,
     "metadata": {},
     "output_type": "execute_result"
    }
   ],
   "source": [
    "xq_test.max()"
   ]
  },
  {
   "cell_type": "code",
   "execution_count": 35,
   "metadata": {
    "ExecuteTime": {
     "end_time": "2019-08-01T16:49:15.633521Z",
     "start_time": "2019-08-01T16:49:15.623467Z"
    }
   },
   "outputs": [],
   "source": [
    "faiss.normalize_L2(xq_test)"
   ]
  },
  {
   "cell_type": "code",
   "execution_count": 36,
   "metadata": {
    "ExecuteTime": {
     "end_time": "2019-08-01T16:49:16.013445Z",
     "start_time": "2019-08-01T16:49:15.990640Z"
    }
   },
   "outputs": [
    {
     "data": {
      "text/plain": [
       "0.20417997"
      ]
     },
     "execution_count": 36,
     "metadata": {},
     "output_type": "execute_result"
    }
   ],
   "source": [
    "xq_test.max()"
   ]
  },
  {
   "cell_type": "code",
   "execution_count": 37,
   "metadata": {
    "ExecuteTime": {
     "end_time": "2019-08-01T16:49:17.474138Z",
     "start_time": "2019-08-01T16:49:17.366173Z"
    }
   },
   "outputs": [],
   "source": [
    "D_test, I_test = index.search(xq_test, k) # actual search"
   ]
  },
  {
   "cell_type": "code",
   "execution_count": 38,
   "metadata": {
    "ExecuteTime": {
     "end_time": "2019-08-01T16:49:17.709263Z",
     "start_time": "2019-08-01T16:49:17.706912Z"
    }
   },
   "outputs": [
    {
     "data": {
      "text/plain": [
       "((39794, 512), (39794, 5), (39794, 5))"
      ]
     },
     "execution_count": 38,
     "metadata": {},
     "output_type": "execute_result"
    }
   ],
   "source": [
    "xq_test.shape, I_test.shape, D_test.shape"
   ]
  },
  {
   "cell_type": "code",
   "execution_count": 39,
   "metadata": {
    "ExecuteTime": {
     "end_time": "2019-08-01T16:49:18.486075Z",
     "start_time": "2019-08-01T16:49:18.480698Z"
    }
   },
   "outputs": [
    {
     "name": "stdout",
     "output_type": "stream",
     "text": [
      "[[1047 1003 1047 1003 1003]\n",
      " [ 192  892  192  482  736]\n",
      " [ 484  484  484  484  484]\n",
      " [ 129  166  609   49  957]\n",
      " [ 693 1047 1047 1003 1003]]\n",
      "[[0.74199003 0.68960893 0.6777214  0.63901997 0.6295294 ]\n",
      " [0.6457058  0.59311354 0.56162316 0.4920062  0.48120752]\n",
      " [0.6636753  0.64541745 0.6297393  0.6255569  0.6153996 ]\n",
      " [0.67548865 0.6588763  0.6505686  0.62401855 0.59544754]\n",
      " [0.64758104 0.6293149  0.58756804 0.5487386  0.54651296]]\n"
     ]
    }
   ],
   "source": [
    "print(I_test[:5]) # neighbors of the 5 first queries\n",
    "print(D_test[:5])"
   ]
  },
  {
   "cell_type": "code",
   "execution_count": 40,
   "metadata": {
    "ExecuteTime": {
     "end_time": "2019-08-01T16:49:19.025221Z",
     "start_time": "2019-08-01T16:49:19.020144Z"
    }
   },
   "outputs": [
    {
     "name": "stdout",
     "output_type": "stream",
     "text": [
      "[[ 426  941   17  941  912]\n",
      " [ 412  426  941  736  701]\n",
      " [  73  183   73   48  297]\n",
      " [1047 1003 1047 1047   52]\n",
      " [ 959  959  959  959  959]]\n",
      "[[0.6072785  0.5641166  0.56321037 0.54991066 0.4950742 ]\n",
      " [0.55614126 0.54281044 0.50137895 0.48561922 0.46072218]\n",
      " [0.5805583  0.53178364 0.52827066 0.5268956  0.50530696]\n",
      " [0.6758279  0.67478096 0.64771163 0.64416105 0.64411664]\n",
      " [0.65815175 0.6450167  0.6425309  0.61525065 0.598318  ]]\n"
     ]
    }
   ],
   "source": [
    "print(I_test[-5:]) # neighbors of the 5 last queries\n",
    "print(D_test[-5:])"
   ]
  },
  {
   "cell_type": "code",
   "execution_count": 41,
   "metadata": {
    "ExecuteTime": {
     "end_time": "2019-08-01T16:49:19.712585Z",
     "start_time": "2019-08-01T16:49:19.703357Z"
    }
   },
   "outputs": [
    {
     "data": {
      "text/plain": [
       "array([484, 484, 484, 484, 484])"
      ]
     },
     "execution_count": 41,
     "metadata": {},
     "output_type": "execute_result"
    }
   ],
   "source": [
    "I_test[2]"
   ]
  },
  {
   "cell_type": "code",
   "execution_count": 42,
   "metadata": {
    "ExecuteTime": {
     "end_time": "2019-08-01T16:49:20.238206Z",
     "start_time": "2019-08-01T16:49:20.232920Z"
    }
   },
   "outputs": [
    {
     "data": {
      "text/plain": [
       "(array([484]), array([5]))"
      ]
     },
     "execution_count": 42,
     "metadata": {},
     "output_type": "execute_result"
    }
   ],
   "source": [
    "np.unique(I_test[2], return_counts=True)"
   ]
  },
  {
   "cell_type": "code",
   "execution_count": 51,
   "metadata": {
    "ExecuteTime": {
     "end_time": "2019-07-29T17:16:07.369456Z",
     "start_time": "2019-07-29T17:16:07.364558Z"
    }
   },
   "outputs": [],
   "source": [
    "preds_test = I_test[:,0]\n",
    "dist_test = D_test[:,0]"
   ]
  },
  {
   "cell_type": "code",
   "execution_count": 52,
   "metadata": {
    "ExecuteTime": {
     "end_time": "2019-07-29T17:16:07.897681Z",
     "start_time": "2019-07-29T17:16:07.890577Z"
    }
   },
   "outputs": [],
   "source": [
    "#np.save('pred/preds_test.npy', preds_test)\n",
    "#np.save('pred/dist_test.npy', dist_test)"
   ]
  },
  {
   "cell_type": "markdown",
   "metadata": {
    "heading_collapsed": true
   },
   "source": [
    "#### Get mode or most similiar if mode is 1"
   ]
  },
  {
   "cell_type": "markdown",
   "metadata": {
    "hidden": true
   },
   "source": [
    "https://docs.scipy.org/doc/scipy/reference/generated/scipy.stats.mode.html#scipy.stats.mode"
   ]
  },
  {
   "cell_type": "markdown",
   "metadata": {
    "ExecuteTime": {
     "end_time": "2019-07-28T16:42:09.215785Z",
     "start_time": "2019-07-28T16:42:09.211341Z"
    },
    "hidden": true
   },
   "source": [
    "**This seems to not increase the accuracy !!!**"
   ]
  },
  {
   "cell_type": "code",
   "execution_count": 27,
   "metadata": {
    "ExecuteTime": {
     "end_time": "2019-07-28T16:08:02.093523Z",
     "start_time": "2019-07-28T16:08:02.091682Z"
    },
    "hidden": true
   },
   "outputs": [],
   "source": [
    "from scipy import stats"
   ]
  },
  {
   "cell_type": "code",
   "execution_count": 28,
   "metadata": {
    "ExecuteTime": {
     "end_time": "2019-07-28T16:08:03.174498Z",
     "start_time": "2019-07-28T16:08:02.539011Z"
    },
    "hidden": true
   },
   "outputs": [],
   "source": [
    "# get mode and mode count\n",
    "I_test_mode = stats.mode(I_test, axis=1)"
   ]
  },
  {
   "cell_type": "code",
   "execution_count": 29,
   "metadata": {
    "ExecuteTime": {
     "end_time": "2019-07-28T16:08:03.181148Z",
     "start_time": "2019-07-28T16:08:03.175746Z"
    },
    "hidden": true
   },
   "outputs": [
    {
     "data": {
      "text/plain": [
       "((39794, 5), (39794, 1))"
      ]
     },
     "execution_count": 29,
     "metadata": {},
     "output_type": "execute_result"
    }
   ],
   "source": [
    "I_test.shape, I_test_mode[0].shape"
   ]
  },
  {
   "cell_type": "code",
   "execution_count": 30,
   "metadata": {
    "ExecuteTime": {
     "end_time": "2019-07-28T16:08:04.955615Z",
     "start_time": "2019-07-28T16:08:04.952697Z"
    },
    "hidden": true
   },
   "outputs": [
    {
     "data": {
      "text/plain": [
       "array([[ 591,  591,  587,  591,  855],\n",
       "       [ 736,  770,  387,  728,  933],\n",
       "       [ 179,  576,  191,  451, 1076],\n",
       "       [ 908,  908,  609,  256,  892],\n",
       "       [ 775,  445,  970,  387,  307]])"
      ]
     },
     "execution_count": 30,
     "metadata": {},
     "output_type": "execute_result"
    }
   ],
   "source": [
    "I_test[:5]"
   ]
  },
  {
   "cell_type": "code",
   "execution_count": 31,
   "metadata": {
    "ExecuteTime": {
     "end_time": "2019-07-28T16:08:06.417991Z",
     "start_time": "2019-07-28T16:08:06.415672Z"
    },
    "hidden": true
   },
   "outputs": [
    {
     "data": {
      "text/plain": [
       "array([[591],\n",
       "       [387],\n",
       "       [179],\n",
       "       [908],\n",
       "       [307]])"
      ]
     },
     "execution_count": 31,
     "metadata": {},
     "output_type": "execute_result"
    }
   ],
   "source": [
    "I_test_mode[0][:5]"
   ]
  },
  {
   "cell_type": "code",
   "execution_count": 32,
   "metadata": {
    "ExecuteTime": {
     "end_time": "2019-07-28T16:08:06.989601Z",
     "start_time": "2019-07-28T16:08:06.984030Z"
    },
    "hidden": true
   },
   "outputs": [
    {
     "data": {
      "text/plain": [
       "array([[3],\n",
       "       [1],\n",
       "       [1],\n",
       "       [2],\n",
       "       [1]])"
      ]
     },
     "execution_count": 32,
     "metadata": {},
     "output_type": "execute_result"
    }
   ],
   "source": [
    "I_test_mode[1][:5]"
   ]
  },
  {
   "cell_type": "code",
   "execution_count": 33,
   "metadata": {
    "ExecuteTime": {
     "end_time": "2019-07-28T16:08:10.941609Z",
     "start_time": "2019-07-28T16:08:10.939172Z"
    },
    "hidden": true
   },
   "outputs": [
    {
     "data": {
      "text/plain": [
       "array([[False],\n",
       "       [ True],\n",
       "       [ True],\n",
       "       ...,\n",
       "       [False],\n",
       "       [False],\n",
       "       [False]])"
      ]
     },
     "execution_count": 33,
     "metadata": {},
     "output_type": "execute_result"
    }
   ],
   "source": [
    "I_test_mode[1] == 1"
   ]
  },
  {
   "cell_type": "code",
   "execution_count": 34,
   "metadata": {
    "ExecuteTime": {
     "end_time": "2019-07-28T16:08:11.560718Z",
     "start_time": "2019-07-28T16:08:11.557782Z"
    },
    "hidden": true
   },
   "outputs": [],
   "source": [
    "mode_mask = (~(I_test_mode[1] == 1)).astype('float')\n",
    "similar_mask = (I_test_mode[1] == 1).astype('float')"
   ]
  },
  {
   "cell_type": "code",
   "execution_count": 35,
   "metadata": {
    "ExecuteTime": {
     "end_time": "2019-07-28T16:08:13.490307Z",
     "start_time": "2019-07-28T16:08:13.487992Z"
    },
    "hidden": true
   },
   "outputs": [
    {
     "data": {
      "text/plain": [
       "array([[1.],\n",
       "       [0.],\n",
       "       [0.],\n",
       "       [1.],\n",
       "       [0.]])"
      ]
     },
     "execution_count": 35,
     "metadata": {},
     "output_type": "execute_result"
    }
   ],
   "source": [
    "mode_mask[:5]"
   ]
  },
  {
   "cell_type": "code",
   "execution_count": 36,
   "metadata": {
    "ExecuteTime": {
     "end_time": "2019-07-28T16:08:14.051511Z",
     "start_time": "2019-07-28T16:08:14.049005Z"
    },
    "hidden": true
   },
   "outputs": [
    {
     "data": {
      "text/plain": [
       "array([[0.],\n",
       "       [1.],\n",
       "       [1.],\n",
       "       [0.],\n",
       "       [1.]])"
      ]
     },
     "execution_count": 36,
     "metadata": {},
     "output_type": "execute_result"
    }
   ],
   "source": [
    "similar_mask[:5]"
   ]
  },
  {
   "cell_type": "code",
   "execution_count": 37,
   "metadata": {
    "ExecuteTime": {
     "end_time": "2019-07-28T16:08:15.635059Z",
     "start_time": "2019-07-28T16:08:15.630263Z"
    },
    "hidden": true
   },
   "outputs": [
    {
     "data": {
      "text/plain": [
       "array([ 591,  736,  179, ...,  108, 1074,  316])"
      ]
     },
     "execution_count": 37,
     "metadata": {},
     "output_type": "execute_result"
    }
   ],
   "source": [
    "I_test[:,0]"
   ]
  },
  {
   "cell_type": "code",
   "execution_count": 38,
   "metadata": {
    "ExecuteTime": {
     "end_time": "2019-07-28T16:08:19.689580Z",
     "start_time": "2019-07-28T16:08:19.686965Z"
    },
    "hidden": true
   },
   "outputs": [
    {
     "data": {
      "text/plain": [
       "(39794, 1)"
      ]
     },
     "execution_count": 38,
     "metadata": {},
     "output_type": "execute_result"
    }
   ],
   "source": [
    "similar_mask.shape"
   ]
  },
  {
   "cell_type": "code",
   "execution_count": 39,
   "metadata": {
    "ExecuteTime": {
     "end_time": "2019-07-28T16:08:20.307955Z",
     "start_time": "2019-07-28T16:08:20.304258Z"
    },
    "hidden": true
   },
   "outputs": [
    {
     "data": {
      "text/plain": [
       "((39794,), (39794, 1))"
      ]
     },
     "execution_count": 39,
     "metadata": {},
     "output_type": "execute_result"
    }
   ],
   "source": [
    "I_test[:,0].shape, similar_mask.shape"
   ]
  },
  {
   "cell_type": "code",
   "execution_count": 40,
   "metadata": {
    "ExecuteTime": {
     "end_time": "2019-07-28T16:08:22.873054Z",
     "start_time": "2019-07-28T16:08:22.867903Z"
    },
    "hidden": true
   },
   "outputs": [
    {
     "data": {
      "text/plain": [
       "(39794, 1)"
      ]
     },
     "execution_count": 40,
     "metadata": {},
     "output_type": "execute_result"
    }
   ],
   "source": [
    "I_test[:,0].reshape((-1,1)).shape"
   ]
  },
  {
   "cell_type": "code",
   "execution_count": 41,
   "metadata": {
    "ExecuteTime": {
     "end_time": "2019-07-28T16:08:24.887683Z",
     "start_time": "2019-07-28T16:08:24.885449Z"
    },
    "hidden": true
   },
   "outputs": [],
   "source": [
    "I_most_similar = np.multiply(I_test[:,0].reshape((-1,1)),similar_mask)"
   ]
  },
  {
   "cell_type": "code",
   "execution_count": 42,
   "metadata": {
    "ExecuteTime": {
     "end_time": "2019-07-28T16:08:25.420116Z",
     "start_time": "2019-07-28T16:08:25.415759Z"
    },
    "hidden": true
   },
   "outputs": [
    {
     "data": {
      "text/plain": [
       "array([[  0.],\n",
       "       [736.],\n",
       "       [179.],\n",
       "       [  0.],\n",
       "       [775.]])"
      ]
     },
     "execution_count": 42,
     "metadata": {},
     "output_type": "execute_result"
    }
   ],
   "source": [
    "I_most_similar[:5]"
   ]
  },
  {
   "cell_type": "code",
   "execution_count": 43,
   "metadata": {
    "ExecuteTime": {
     "end_time": "2019-07-28T16:08:27.081808Z",
     "start_time": "2019-07-28T16:08:27.078213Z"
    },
    "hidden": true
   },
   "outputs": [],
   "source": [
    "I_higher_mode = np.multiply(I_test_mode[0],mode_mask)"
   ]
  },
  {
   "cell_type": "code",
   "execution_count": 44,
   "metadata": {
    "ExecuteTime": {
     "end_time": "2019-07-28T16:08:27.450105Z",
     "start_time": "2019-07-28T16:08:27.447168Z"
    },
    "hidden": true
   },
   "outputs": [
    {
     "data": {
      "text/plain": [
       "array([[591.],\n",
       "       [  0.],\n",
       "       [  0.],\n",
       "       [908.],\n",
       "       [  0.]])"
      ]
     },
     "execution_count": 44,
     "metadata": {},
     "output_type": "execute_result"
    }
   ],
   "source": [
    "I_higher_mode[:5]"
   ]
  },
  {
   "cell_type": "code",
   "execution_count": 45,
   "metadata": {
    "ExecuteTime": {
     "end_time": "2019-07-28T16:08:28.128418Z",
     "start_time": "2019-07-28T16:08:28.126731Z"
    },
    "hidden": true
   },
   "outputs": [],
   "source": [
    "preds_similar_mode = I_most_similar + I_higher_mode"
   ]
  },
  {
   "cell_type": "code",
   "execution_count": 46,
   "metadata": {
    "ExecuteTime": {
     "end_time": "2019-07-28T16:08:29.825259Z",
     "start_time": "2019-07-28T16:08:29.820603Z"
    },
    "hidden": true
   },
   "outputs": [
    {
     "data": {
      "text/plain": [
       "array([[591.],\n",
       "       [736.],\n",
       "       [179.],\n",
       "       [908.],\n",
       "       [775.]])"
      ]
     },
     "execution_count": 46,
     "metadata": {},
     "output_type": "execute_result"
    }
   ],
   "source": [
    "preds_similar_mode[:5]"
   ]
  },
  {
   "cell_type": "code",
   "execution_count": 51,
   "metadata": {
    "ExecuteTime": {
     "end_time": "2019-07-28T16:19:46.018057Z",
     "start_time": "2019-07-28T16:19:46.014253Z"
    },
    "hidden": true
   },
   "outputs": [],
   "source": [
    "np.save('pred/preds_test_similar_mask', similar_mask)\n",
    "np.save('pred/preds_test_mode_mask', mode_mask)\n",
    "np.save('pred/preds_test_similar_mode', preds_similar_mode)"
   ]
  },
  {
   "cell_type": "code",
   "execution_count": null,
   "metadata": {
    "hidden": true
   },
   "outputs": [],
   "source": []
  }
 ],
 "metadata": {
  "kernelspec": {
   "display_name": "faiss",
   "language": "python",
   "name": "faiss"
  },
  "language_info": {
   "codemirror_mode": {
    "name": "ipython",
    "version": 3
   },
   "file_extension": ".py",
   "mimetype": "text/x-python",
   "name": "python",
   "nbconvert_exporter": "python",
   "pygments_lexer": "ipython3",
   "version": "3.7.3"
  },
  "toc": {
   "base_numbering": 1,
   "nav_menu": {},
   "number_sections": true,
   "sideBar": true,
   "skip_h1_title": false,
   "title_cell": "Table of Contents",
   "title_sidebar": "Contents",
   "toc_cell": false,
   "toc_position": {},
   "toc_section_display": true,
   "toc_window_display": true
  }
 },
 "nbformat": 4,
 "nbformat_minor": 2
}
