{
 "cells": [
  {
   "cell_type": "markdown",
   "metadata": {},
   "source": [
    "# Setup"
   ]
  },
  {
   "cell_type": "markdown",
   "metadata": {},
   "source": [
    "https://github.com/facebookresearch/faiss/wiki/Getting-started"
   ]
  },
  {
   "cell_type": "markdown",
   "metadata": {},
   "source": [
    "**We assume row-major storage, ie. the j'th component of vector number i is stored in row i, column j of the matrix. Faiss uses only 32-bit floating point matrices.**"
   ]
  },
  {
   "cell_type": "code",
   "execution_count": 1,
   "metadata": {
    "ExecuteTime": {
     "end_time": "2019-08-13T16:42:40.387619Z",
     "start_time": "2019-08-13T16:42:40.274033Z"
    }
   },
   "outputs": [],
   "source": [
    "import numpy as np\n",
    "import faiss"
   ]
  },
  {
   "cell_type": "code",
   "execution_count": 2,
   "metadata": {
    "ExecuteTime": {
     "end_time": "2019-08-13T16:42:40.855699Z",
     "start_time": "2019-08-13T16:42:40.487885Z"
    }
   },
   "outputs": [],
   "source": [
    "import matplotlib.pyplot as plt\n",
    "from sklearn.metrics import confusion_matrix\n",
    "from sklearn.utils.multiclass import unique_labels"
   ]
  },
  {
   "cell_type": "markdown",
   "metadata": {},
   "source": [
    "# Setup"
   ]
  },
  {
   "cell_type": "code",
   "execution_count": 3,
   "metadata": {
    "ExecuteTime": {
     "end_time": "2019-08-13T16:42:41.035071Z",
     "start_time": "2019-08-13T16:42:40.933608Z"
    }
   },
   "outputs": [],
   "source": [
    "xb = np.load('pred/feats_train.npy')\n",
    "yb = np.load('pred/targs_train.npy')\n",
    "xq = np.load('pred/feats_valid.npy')\n",
    "yq = np.load('pred/targs_valid.npy')"
   ]
  },
  {
   "cell_type": "code",
   "execution_count": 4,
   "metadata": {
    "ExecuteTime": {
     "end_time": "2019-08-13T16:42:41.167025Z",
     "start_time": "2019-08-13T16:42:41.155434Z"
    }
   },
   "outputs": [
    {
     "data": {
      "text/plain": [
       "(57456, 512)"
      ]
     },
     "execution_count": 4,
     "metadata": {},
     "output_type": "execute_result"
    }
   ],
   "source": [
    "xb.shape # nb-by-d"
   ]
  },
  {
   "cell_type": "code",
   "execution_count": 5,
   "metadata": {
    "ExecuteTime": {
     "end_time": "2019-08-13T16:42:41.412901Z",
     "start_time": "2019-08-13T16:42:41.407416Z"
    }
   },
   "outputs": [
    {
     "data": {
      "text/plain": [
       "(15476, 512)"
      ]
     },
     "execution_count": 5,
     "metadata": {},
     "output_type": "execute_result"
    }
   ],
   "source": [
    "xq.shape # nq-by-d (query vectors)"
   ]
  },
  {
   "cell_type": "code",
   "execution_count": 6,
   "metadata": {
    "ExecuteTime": {
     "end_time": "2019-08-13T16:42:41.671027Z",
     "start_time": "2019-08-13T16:42:41.662496Z"
    }
   },
   "outputs": [
    {
     "data": {
      "text/plain": [
       "((57456,), (15476,))"
      ]
     },
     "execution_count": 6,
     "metadata": {},
     "output_type": "execute_result"
    }
   ],
   "source": [
    "yb.shape, yq.shape"
   ]
  },
  {
   "cell_type": "code",
   "execution_count": 7,
   "metadata": {
    "ExecuteTime": {
     "end_time": "2019-08-13T16:42:42.002435Z",
     "start_time": "2019-08-13T16:42:41.996478Z"
    }
   },
   "outputs": [
    {
     "data": {
      "text/plain": [
       "(512, 958)"
      ]
     },
     "execution_count": 7,
     "metadata": {},
     "output_type": "execute_result"
    }
   ],
   "source": [
    "## setup\n",
    "d = xb.shape[1] # 512\n",
    "nlist = int(4*np.sqrt(xb.shape[0])) # https://github.com/facebookresearch/faiss/issues/112\n",
    "d, nlist"
   ]
  },
  {
   "cell_type": "code",
   "execution_count": 8,
   "metadata": {
    "ExecuteTime": {
     "end_time": "2019-08-13T16:42:42.307516Z",
     "start_time": "2019-08-13T16:42:42.297647Z"
    }
   },
   "outputs": [],
   "source": [
    "quantizer = faiss.IndexFlatIP(d)\n",
    "index = faiss.IndexIVFFlat(quantizer, d, nlist, faiss.METRIC_INNER_PRODUCT)"
   ]
  },
  {
   "cell_type": "markdown",
   "metadata": {
    "ExecuteTime": {
     "end_time": "2019-07-25T18:29:39.571762Z",
     "start_time": "2019-07-25T18:29:39.562612Z"
    }
   },
   "source": [
    "https://github.com/facebookresearch/faiss/wiki/FAQ#how-can-i-index-vectors-for-cosine-distance"
   ]
  },
  {
   "cell_type": "code",
   "execution_count": 9,
   "metadata": {
    "ExecuteTime": {
     "end_time": "2019-08-13T16:42:42.993874Z",
     "start_time": "2019-08-13T16:42:42.983741Z"
    }
   },
   "outputs": [
    {
     "data": {
      "text/plain": [
       "21.195404"
      ]
     },
     "execution_count": 9,
     "metadata": {},
     "output_type": "execute_result"
    }
   ],
   "source": [
    "xb.max()"
   ]
  },
  {
   "cell_type": "code",
   "execution_count": 10,
   "metadata": {
    "ExecuteTime": {
     "end_time": "2019-08-13T16:42:43.351571Z",
     "start_time": "2019-08-13T16:42:43.336243Z"
    }
   },
   "outputs": [],
   "source": [
    "faiss.normalize_L2(xb)"
   ]
  },
  {
   "cell_type": "code",
   "execution_count": 11,
   "metadata": {
    "ExecuteTime": {
     "end_time": "2019-08-13T16:42:43.723873Z",
     "start_time": "2019-08-13T16:42:43.694111Z"
    }
   },
   "outputs": [
    {
     "data": {
      "text/plain": [
       "0.20273925"
      ]
     },
     "execution_count": 11,
     "metadata": {},
     "output_type": "execute_result"
    }
   ],
   "source": [
    "xb.max()"
   ]
  },
  {
   "cell_type": "code",
   "execution_count": 12,
   "metadata": {
    "ExecuteTime": {
     "end_time": "2019-08-13T16:42:45.470760Z",
     "start_time": "2019-08-13T16:42:44.324422Z"
    }
   },
   "outputs": [],
   "source": [
    "index.train(xb)"
   ]
  },
  {
   "cell_type": "code",
   "execution_count": 13,
   "metadata": {
    "ExecuteTime": {
     "end_time": "2019-08-13T16:42:45.637860Z",
     "start_time": "2019-08-13T16:42:45.471734Z"
    }
   },
   "outputs": [],
   "source": [
    "index.add_with_ids(xb, yb)"
   ]
  },
  {
   "cell_type": "code",
   "execution_count": 14,
   "metadata": {
    "ExecuteTime": {
     "end_time": "2019-08-13T16:42:45.734864Z",
     "start_time": "2019-08-13T16:42:45.731448Z"
    }
   },
   "outputs": [
    {
     "name": "stdout",
     "output_type": "stream",
     "text": [
      "True\n",
      "57456\n"
     ]
    }
   ],
   "source": [
    "print(index.is_trained)\n",
    "print(index.ntotal)"
   ]
  },
  {
   "cell_type": "markdown",
   "metadata": {},
   "source": [
    "## Train dataset"
   ]
  },
  {
   "cell_type": "code",
   "execution_count": 15,
   "metadata": {
    "ExecuteTime": {
     "end_time": "2019-08-13T16:42:47.541090Z",
     "start_time": "2019-08-13T16:42:47.246101Z"
    }
   },
   "outputs": [
    {
     "name": "stdout",
     "output_type": "stream",
     "text": [
      "[[480 480 480 480 480]\n",
      " [700 764 295 431 715]\n",
      " [289 289 289 289 289]\n",
      " [986 986 986 986 399]\n",
      " [396 396 396 396 396]]\n",
      "[[480]\n",
      " [700]\n",
      " [289]\n",
      " [986]\n",
      " [396]]\n",
      "[[0.99999976 0.8313681  0.7500237  0.74176365 0.7102001 ]\n",
      " [1.         0.8676938  0.8310141  0.8301102  0.82937723]\n",
      " [1.         0.7493426  0.717526   0.70994186 0.6754047 ]\n",
      " [1.0000002  0.84481233 0.84381795 0.8401445  0.78210247]\n",
      " [1.         0.91339505 0.8586768  0.8549667  0.84902453]]\n"
     ]
    }
   ],
   "source": [
    "## search\n",
    "k = 5 # we want to see 5 nearest neighbors\n",
    "D_train, I_train = index.search(xb, k) # sanity check\n",
    "print(I_train[:5])\n",
    "print(yb[:5].reshape((5,1)))\n",
    "print(D_train[:5])"
   ]
  },
  {
   "cell_type": "code",
   "execution_count": 16,
   "metadata": {
    "ExecuteTime": {
     "end_time": "2019-08-13T16:42:47.702561Z",
     "start_time": "2019-08-13T16:42:47.698804Z"
    }
   },
   "outputs": [
    {
     "data": {
      "text/plain": [
       "(1107, 1107)"
      ]
     },
     "execution_count": 16,
     "metadata": {},
     "output_type": "execute_result"
    }
   ],
   "source": [
    "yb.max(), I_train.max()"
   ]
  },
  {
   "cell_type": "markdown",
   "metadata": {},
   "source": [
    "### Train accuracy"
   ]
  },
  {
   "cell_type": "code",
   "execution_count": 17,
   "metadata": {
    "ExecuteTime": {
     "end_time": "2019-08-13T16:42:48.631220Z",
     "start_time": "2019-08-13T16:42:48.615384Z"
    }
   },
   "outputs": [
    {
     "data": {
      "text/plain": [
       "((57456,), (57456,))"
      ]
     },
     "execution_count": 17,
     "metadata": {},
     "output_type": "execute_result"
    }
   ],
   "source": [
    "I_train[:,0].shape, yb.shape"
   ]
  },
  {
   "cell_type": "code",
   "execution_count": 18,
   "metadata": {
    "ExecuteTime": {
     "end_time": "2019-08-13T16:42:49.054129Z",
     "start_time": "2019-08-13T16:42:49.048450Z"
    }
   },
   "outputs": [
    {
     "data": {
      "text/plain": [
       "1.0"
      ]
     },
     "execution_count": 18,
     "metadata": {},
     "output_type": "execute_result"
    }
   ],
   "source": [
    "# Accuracy\n",
    "np.equal(I_train[:,0], yb).sum()/len(yb)"
   ]
  },
  {
   "cell_type": "code",
   "execution_count": 19,
   "metadata": {
    "ExecuteTime": {
     "end_time": "2019-08-13T16:42:49.447816Z",
     "start_time": "2019-08-13T16:42:49.442197Z"
    }
   },
   "outputs": [
    {
     "data": {
      "text/plain": [
       "(array([480, 700, 289, 986, 396, 889, 232, 851, 157,  28]),\n",
       " array([480, 700, 289, 986, 396, 889, 232, 851, 157,  28]))"
      ]
     },
     "execution_count": 19,
     "metadata": {},
     "output_type": "execute_result"
    }
   ],
   "source": [
    "I_train[:10,0], yb[:10]"
   ]
  },
  {
   "cell_type": "code",
   "execution_count": 20,
   "metadata": {
    "ExecuteTime": {
     "end_time": "2019-08-13T16:42:49.835023Z",
     "start_time": "2019-08-13T16:42:49.829926Z"
    }
   },
   "outputs": [
    {
     "data": {
      "text/plain": [
       "(array([ 265,  572,  607,    8,  199,  347, 1089,   48,  301,  671]),\n",
       " array([ 265,  572,  607,    8,  199,  347, 1089,   48,  301,  671]))"
      ]
     },
     "execution_count": 20,
     "metadata": {},
     "output_type": "execute_result"
    }
   ],
   "source": [
    "I_train[-10:,0], yb[-10:]"
   ]
  },
  {
   "cell_type": "markdown",
   "metadata": {
    "heading_collapsed": true
   },
   "source": [
    "### Train confusion matrix"
   ]
  },
  {
   "cell_type": "code",
   "execution_count": 21,
   "metadata": {
    "ExecuteTime": {
     "end_time": "2019-08-11T09:50:01.631591Z",
     "start_time": "2019-08-11T09:50:01.591424Z"
    },
    "hidden": true
   },
   "outputs": [],
   "source": [
    "cm = confusion_matrix(I_train[:,0], yb)"
   ]
  },
  {
   "cell_type": "code",
   "execution_count": 22,
   "metadata": {
    "ExecuteTime": {
     "end_time": "2019-08-05T16:49:24.800065Z",
     "start_time": "2019-08-05T16:49:24.608695Z"
    },
    "hidden": true,
    "scrolled": false
   },
   "outputs": [
    {
     "data": {
      "text/plain": [
       "<matplotlib.image.AxesImage at 0x7f5af0d4a668>"
      ]
     },
     "execution_count": 22,
     "metadata": {},
     "output_type": "execute_result"
    },
    {
     "data": {
      "image/png": "[encoded data removed]",
      "text/plain": [
       "<Figure size 1080x1080 with 1 Axes>"
      ]
     },
     "metadata": {
      "needs_background": "light"
     },
     "output_type": "display_data"
    }
   ],
   "source": [
    "fig, ax = plt.subplots(figsize=(15,15))\n",
    "ax.matshow(cm, cmap='hot')"
   ]
  },
  {
   "cell_type": "markdown",
   "metadata": {},
   "source": [
    "## Valid dataset"
   ]
  },
  {
   "cell_type": "code",
   "execution_count": 21,
   "metadata": {
    "ExecuteTime": {
     "end_time": "2019-08-13T16:42:55.843745Z",
     "start_time": "2019-08-13T16:42:55.837494Z"
    }
   },
   "outputs": [
    {
     "data": {
      "text/plain": [
       "20.612173"
      ]
     },
     "execution_count": 21,
     "metadata": {},
     "output_type": "execute_result"
    }
   ],
   "source": [
    "xq.max()"
   ]
  },
  {
   "cell_type": "code",
   "execution_count": 22,
   "metadata": {
    "ExecuteTime": {
     "end_time": "2019-08-13T16:42:56.543235Z",
     "start_time": "2019-08-13T16:42:56.537287Z"
    }
   },
   "outputs": [],
   "source": [
    "faiss.normalize_L2(xq)"
   ]
  },
  {
   "cell_type": "code",
   "execution_count": 23,
   "metadata": {
    "ExecuteTime": {
     "end_time": "2019-08-13T16:42:56.932576Z",
     "start_time": "2019-08-13T16:42:56.926698Z"
    }
   },
   "outputs": [
    {
     "data": {
      "text/plain": [
       "0.2057635"
      ]
     },
     "execution_count": 23,
     "metadata": {},
     "output_type": "execute_result"
    }
   ],
   "source": [
    "xq.max()"
   ]
  },
  {
   "cell_type": "code",
   "execution_count": 24,
   "metadata": {
    "ExecuteTime": {
     "end_time": "2019-08-13T16:42:57.656791Z",
     "start_time": "2019-08-13T16:42:57.592672Z"
    }
   },
   "outputs": [],
   "source": [
    "D_valid, I_valid = index.search(xq, k) # actual search"
   ]
  },
  {
   "cell_type": "code",
   "execution_count": 25,
   "metadata": {
    "ExecuteTime": {
     "end_time": "2019-08-13T16:42:57.981567Z",
     "start_time": "2019-08-13T16:42:57.976901Z"
    }
   },
   "outputs": [
    {
     "data": {
      "text/plain": [
       "((15476, 512), (15476,))"
      ]
     },
     "execution_count": 25,
     "metadata": {},
     "output_type": "execute_result"
    }
   ],
   "source": [
    "xq.shape, yq.shape"
   ]
  },
  {
   "cell_type": "code",
   "execution_count": 26,
   "metadata": {
    "ExecuteTime": {
     "end_time": "2019-08-13T16:42:58.523437Z",
     "start_time": "2019-08-13T16:42:58.518159Z"
    }
   },
   "outputs": [
    {
     "data": {
      "text/plain": [
       "((15476, 5), (15476, 5))"
      ]
     },
     "execution_count": 26,
     "metadata": {},
     "output_type": "execute_result"
    }
   ],
   "source": [
    "I_valid.shape, D_valid.shape"
   ]
  },
  {
   "cell_type": "code",
   "execution_count": 27,
   "metadata": {
    "ExecuteTime": {
     "end_time": "2019-08-13T16:42:59.073362Z",
     "start_time": "2019-08-13T16:42:59.067773Z"
    }
   },
   "outputs": [
    {
     "name": "stdout",
     "output_type": "stream",
     "text": [
      "[[459 309 810 309 459]\n",
      " [ 91 581  70 673 295]\n",
      " [503 302 302 302 302]\n",
      " [503 810 309 505 459]\n",
      " [624 102 295 274 295]]\n",
      "[[352]\n",
      " [361]\n",
      " [503]\n",
      " [505]\n",
      " [ 70]]\n",
      "[[0.8661469  0.84028375 0.8335658  0.8072866  0.8043731 ]\n",
      " [0.76787543 0.7675208  0.7661506  0.7648058  0.7535333 ]\n",
      " [0.80490327 0.788762   0.7529573  0.7477083  0.74641216]\n",
      " [0.7566826  0.7141967  0.69146717 0.6911367  0.6741551 ]\n",
      " [0.8247676  0.8172062  0.8141742  0.80209005 0.8004148 ]]\n"
     ]
    }
   ],
   "source": [
    "print(I_valid[:5]) # neighbors of the 5 first queries\n",
    "print(yq[:5].reshape((5,1)))\n",
    "print(D_valid[:5])"
   ]
  },
  {
   "cell_type": "code",
   "execution_count": 28,
   "metadata": {
    "ExecuteTime": {
     "end_time": "2019-08-13T16:42:59.563553Z",
     "start_time": "2019-08-13T16:42:59.558256Z"
    }
   },
   "outputs": [
    {
     "name": "stdout",
     "output_type": "stream",
     "text": [
      "[[ 427  427  427 1005 1061]\n",
      " [  71  107  208  176  882]\n",
      " [ 824  824  107 1054  560]\n",
      " [ 993   79  993  156  261]\n",
      " [ 836    9  403  455  509]]\n",
      "[[103]\n",
      " [202]\n",
      " [824]\n",
      " [328]\n",
      " [509]]\n",
      "[[0.9012053  0.86603415 0.812709   0.77663267 0.7489922 ]\n",
      " [0.80383694 0.767476   0.75600636 0.7385333  0.7321533 ]\n",
      " [0.8486836  0.83382356 0.7615961  0.7475797  0.7472173 ]\n",
      " [0.78835607 0.75790405 0.75399816 0.7365214  0.720442  ]\n",
      " [0.73979247 0.6937581  0.69076216 0.68791234 0.6807757 ]]\n"
     ]
    }
   ],
   "source": [
    "print(I_valid[-5:]) # neighbors of the 5 last queries\n",
    "print(yq[-5:].reshape((5,1)))\n",
    "print(D_valid[-5:])"
   ]
  },
  {
   "cell_type": "code",
   "execution_count": 29,
   "metadata": {
    "ExecuteTime": {
     "end_time": "2019-08-13T16:43:00.074797Z",
     "start_time": "2019-08-13T16:43:00.071481Z"
    }
   },
   "outputs": [],
   "source": [
    "np.save('pred/preds_valid.npy', I_valid)"
   ]
  },
  {
   "cell_type": "markdown",
   "metadata": {},
   "source": [
    "### Valid accuracy"
   ]
  },
  {
   "cell_type": "code",
   "execution_count": 30,
   "metadata": {
    "ExecuteTime": {
     "end_time": "2019-08-13T16:43:00.937750Z",
     "start_time": "2019-08-13T16:43:00.928367Z"
    }
   },
   "outputs": [
    {
     "data": {
      "text/plain": [
       "array([459,  91, 503, ..., 824, 993, 836])"
      ]
     },
     "execution_count": 30,
     "metadata": {},
     "output_type": "execute_result"
    }
   ],
   "source": [
    "I_valid[:,0]"
   ]
  },
  {
   "cell_type": "code",
   "execution_count": 31,
   "metadata": {
    "ExecuteTime": {
     "end_time": "2019-08-13T16:43:01.195072Z",
     "start_time": "2019-08-13T16:43:01.189871Z"
    }
   },
   "outputs": [
    {
     "data": {
      "text/plain": [
       "array([352, 361, 503, ..., 824, 328, 509])"
      ]
     },
     "execution_count": 31,
     "metadata": {},
     "output_type": "execute_result"
    }
   ],
   "source": [
    "yq"
   ]
  },
  {
   "cell_type": "code",
   "execution_count": 32,
   "metadata": {
    "ExecuteTime": {
     "end_time": "2019-08-13T16:43:01.679287Z",
     "start_time": "2019-08-13T16:43:01.674141Z"
    }
   },
   "outputs": [
    {
     "data": {
      "text/plain": [
       "5109"
      ]
     },
     "execution_count": 32,
     "metadata": {},
     "output_type": "execute_result"
    }
   ],
   "source": [
    "# Correct elements\n",
    "np.equal(I_valid[:,0], yq).sum()"
   ]
  },
  {
   "cell_type": "code",
   "execution_count": 33,
   "metadata": {
    "ExecuteTime": {
     "end_time": "2019-08-13T16:43:02.258533Z",
     "start_time": "2019-08-13T16:43:02.253319Z"
    }
   },
   "outputs": [
    {
     "data": {
      "text/plain": [
       "0.33012406306539155"
      ]
     },
     "execution_count": 33,
     "metadata": {},
     "output_type": "execute_result"
    }
   ],
   "source": [
    "# Accuracy\n",
    "np.equal(I_valid[:,0], yq).sum()/len(yq)"
   ]
  },
  {
   "cell_type": "code",
   "execution_count": 34,
   "metadata": {
    "ExecuteTime": {
     "end_time": "2019-08-13T16:43:05.484849Z",
     "start_time": "2019-08-13T16:43:05.478585Z"
    }
   },
   "outputs": [],
   "source": [
    "valid_correct = np.equal(I_valid[:,0], yq)"
   ]
  },
  {
   "cell_type": "code",
   "execution_count": 35,
   "metadata": {
    "ExecuteTime": {
     "end_time": "2019-08-13T16:43:05.940571Z",
     "start_time": "2019-08-13T16:43:05.932428Z"
    }
   },
   "outputs": [
    {
     "data": {
      "text/plain": [
       "array([False, False,  True, ...,  True, False, False])"
      ]
     },
     "execution_count": 35,
     "metadata": {},
     "output_type": "execute_result"
    }
   ],
   "source": [
    "valid_correct"
   ]
  },
  {
   "cell_type": "code",
   "execution_count": 36,
   "metadata": {
    "ExecuteTime": {
     "end_time": "2019-08-13T16:43:06.486872Z",
     "start_time": "2019-08-13T16:43:06.480257Z"
    }
   },
   "outputs": [],
   "source": [
    "np.save('pred/preds_valid_correct.npy', valid_correct)"
   ]
  },
  {
   "cell_type": "markdown",
   "metadata": {},
   "source": [
    "### Valid confusion matrix"
   ]
  },
  {
   "cell_type": "code",
   "execution_count": 37,
   "metadata": {
    "ExecuteTime": {
     "end_time": "2019-08-13T16:43:08.791881Z",
     "start_time": "2019-08-13T16:43:08.772658Z"
    }
   },
   "outputs": [],
   "source": [
    "cm = confusion_matrix(I_valid[:,0], yq)"
   ]
  },
  {
   "cell_type": "code",
   "execution_count": 38,
   "metadata": {
    "ExecuteTime": {
     "end_time": "2019-08-13T16:43:09.411032Z",
     "start_time": "2019-08-13T16:43:09.181173Z"
    },
    "scrolled": false
   },
   "outputs": [
    {
     "data": {
      "text/plain": [
       "<matplotlib.image.AxesImage at 0x7f9cb9fa7630>"
      ]
     },
     "execution_count": 38,
     "metadata": {},
     "output_type": "execute_result"
    },
    {
     "data": {
      "image/png": "[encoded data removed]",
      "text/plain": [
       "<Figure size 1080x1080 with 1 Axes>"
      ]
     },
     "metadata": {
      "needs_background": "light"
     },
     "output_type": "display_data"
    }
   ],
   "source": [
    "fig, ax = plt.subplots(figsize=(15,15))\n",
    "ax.matshow(cm, cmap='hot')"
   ]
  },
  {
   "cell_type": "markdown",
   "metadata": {
    "heading_collapsed": true
   },
   "source": [
    "#### Work in progress"
   ]
  },
  {
   "cell_type": "code",
   "execution_count": 41,
   "metadata": {
    "ExecuteTime": {
     "end_time": "2019-07-26T04:09:35.769328Z",
     "start_time": "2019-07-26T04:09:35.765465Z"
    },
    "hidden": true
   },
   "outputs": [
    {
     "data": {
      "text/plain": [
       "(1108, 1108)"
      ]
     },
     "execution_count": 41,
     "metadata": {},
     "output_type": "execute_result"
    }
   ],
   "source": [
    "cm.shape"
   ]
  },
  {
   "cell_type": "code",
   "execution_count": 42,
   "metadata": {
    "ExecuteTime": {
     "end_time": "2019-07-26T04:09:36.265570Z",
     "start_time": "2019-07-26T04:09:36.261734Z"
    },
    "hidden": true
   },
   "outputs": [
    {
     "data": {
      "text/plain": [
       "array([[ True, False, False, ..., False, False, False],\n",
       "       [False,  True, False, ..., False, False, False],\n",
       "       [False, False,  True, ..., False, False, False],\n",
       "       ...,\n",
       "       [False, False, False, ...,  True, False, False],\n",
       "       [False, False, False, ..., False,  True, False],\n",
       "       [False, False, False, ..., False, False,  True]])"
      ]
     },
     "execution_count": 42,
     "metadata": {},
     "output_type": "execute_result"
    }
   ],
   "source": [
    "np.eye(1108, dtype=bool)"
   ]
  },
  {
   "cell_type": "code",
   "execution_count": 43,
   "metadata": {
    "ExecuteTime": {
     "end_time": "2019-07-26T04:09:36.605524Z",
     "start_time": "2019-07-26T04:09:36.601250Z"
    },
    "hidden": true
   },
   "outputs": [
    {
     "data": {
      "text/plain": [
       "1506"
      ]
     },
     "execution_count": 43,
     "metadata": {},
     "output_type": "execute_result"
    }
   ],
   "source": [
    "cm[np.eye(1108, dtype=bool)].sum()"
   ]
  },
  {
   "cell_type": "code",
   "execution_count": 44,
   "metadata": {
    "ExecuteTime": {
     "end_time": "2019-07-26T04:09:37.189724Z",
     "start_time": "2019-07-26T04:09:37.182889Z"
    },
    "hidden": true
   },
   "outputs": [
    {
     "data": {
      "text/plain": [
       "6232"
      ]
     },
     "execution_count": 44,
     "metadata": {},
     "output_type": "execute_result"
    }
   ],
   "source": [
    "cm[~np.eye(1108, dtype=bool)].sum()"
   ]
  },
  {
   "cell_type": "code",
   "execution_count": 45,
   "metadata": {
    "ExecuteTime": {
     "end_time": "2019-07-26T04:09:37.743649Z",
     "start_time": "2019-07-26T04:09:37.735742Z"
    },
    "hidden": true
   },
   "outputs": [
    {
     "data": {
      "text/plain": [
       "0.19462393383303178"
      ]
     },
     "execution_count": 45,
     "metadata": {},
     "output_type": "execute_result"
    }
   ],
   "source": [
    "cm[np.eye(1108, dtype=bool)].sum()/(cm[~np.eye(1108, dtype=bool)].sum() + cm[np.eye(1108, dtype=bool)].sum())"
   ]
  },
  {
   "cell_type": "code",
   "execution_count": 46,
   "metadata": {
    "ExecuteTime": {
     "end_time": "2019-07-26T04:09:39.709845Z",
     "start_time": "2019-07-26T04:09:39.705215Z"
    },
    "hidden": true
   },
   "outputs": [
    {
     "data": {
      "text/plain": [
       "array([[False,  True,  True, ...,  True,  True,  True],\n",
       "       [ True, False,  True, ...,  True,  True,  True],\n",
       "       [ True,  True, False, ...,  True,  True,  True],\n",
       "       ...,\n",
       "       [ True,  True,  True, ..., False,  True,  True],\n",
       "       [ True,  True,  True, ...,  True, False,  True],\n",
       "       [ True,  True,  True, ...,  True,  True, False]])"
      ]
     },
     "execution_count": 46,
     "metadata": {},
     "output_type": "execute_result"
    }
   ],
   "source": [
    "~np.eye(1108, dtype=bool)"
   ]
  },
  {
   "cell_type": "code",
   "execution_count": 47,
   "metadata": {
    "ExecuteTime": {
     "end_time": "2019-07-26T04:09:40.311770Z",
     "start_time": "2019-07-26T04:09:40.305193Z"
    },
    "hidden": true
   },
   "outputs": [
    {
     "data": {
      "text/plain": [
       "array([0, 0, 0, ..., 0, 0, 0])"
      ]
     },
     "execution_count": 47,
     "metadata": {},
     "output_type": "execute_result"
    }
   ],
   "source": [
    "cm[~np.eye(1108, dtype=bool)]"
   ]
  },
  {
   "cell_type": "code",
   "execution_count": 48,
   "metadata": {
    "ExecuteTime": {
     "end_time": "2019-07-26T04:09:40.973188Z",
     "start_time": "2019-07-26T04:09:40.958109Z"
    },
    "hidden": true
   },
   "outputs": [
    {
     "data": {
      "text/plain": [
       "array([[-0.,  1.,  1., ...,  1.,  1.,  1.],\n",
       "       [ 1., -0.,  1., ...,  1.,  1.,  1.],\n",
       "       [ 1.,  1., -0., ...,  1.,  1.,  1.],\n",
       "       ...,\n",
       "       [ 1.,  1.,  1., ..., -0.,  1.,  1.],\n",
       "       [ 1.,  1.,  1., ...,  1., -0.,  1.],\n",
       "       [ 1.,  1.,  1., ...,  1.,  1., -0.]])"
      ]
     },
     "execution_count": 48,
     "metadata": {},
     "output_type": "execute_result"
    }
   ],
   "source": [
    "-(np.eye(1108)-1)"
   ]
  },
  {
   "cell_type": "code",
   "execution_count": 49,
   "metadata": {
    "ExecuteTime": {
     "end_time": "2019-07-26T04:09:41.568051Z",
     "start_time": "2019-07-26T04:09:41.557245Z"
    },
    "hidden": true
   },
   "outputs": [
    {
     "data": {
      "text/plain": [
       "array([[-0.,  0.,  0., ...,  0.,  0.,  0.],\n",
       "       [ 0., -0.,  0., ...,  0.,  0.,  0.],\n",
       "       [ 0.,  0., -0., ...,  0.,  0.,  0.],\n",
       "       ...,\n",
       "       [ 0.,  0.,  0., ..., -0.,  0.,  0.],\n",
       "       [ 0.,  0.,  0., ...,  0., -0.,  0.],\n",
       "       [ 0.,  0.,  0., ...,  0.,  0., -0.]])"
      ]
     },
     "execution_count": 49,
     "metadata": {},
     "output_type": "execute_result"
    }
   ],
   "source": [
    "cm * -(np.eye(1108)-1)"
   ]
  },
  {
   "cell_type": "code",
   "execution_count": 50,
   "metadata": {
    "ExecuteTime": {
     "end_time": "2019-07-26T04:09:43.899389Z",
     "start_time": "2019-07-26T04:09:43.891223Z"
    },
    "hidden": true
   },
   "outputs": [],
   "source": [
    "cm_wodia = (cm * -(np.eye(1108)-1))"
   ]
  },
  {
   "cell_type": "code",
   "execution_count": 51,
   "metadata": {
    "ExecuteTime": {
     "end_time": "2019-07-26T04:09:44.439218Z",
     "start_time": "2019-07-26T04:09:44.435213Z"
    },
    "hidden": true
   },
   "outputs": [
    {
     "data": {
      "text/plain": [
       "(1108, 1108)"
      ]
     },
     "execution_count": 51,
     "metadata": {},
     "output_type": "execute_result"
    }
   ],
   "source": [
    "cm_wodia.shape"
   ]
  },
  {
   "cell_type": "code",
   "execution_count": 52,
   "metadata": {
    "ExecuteTime": {
     "end_time": "2019-07-26T04:09:44.905147Z",
     "start_time": "2019-07-26T04:09:44.900327Z"
    },
    "hidden": true
   },
   "outputs": [
    {
     "data": {
      "text/plain": [
       "array([3., 5., 4., ..., 7., 6., 5.])"
      ]
     },
     "execution_count": 52,
     "metadata": {},
     "output_type": "execute_result"
    }
   ],
   "source": [
    "cm_wodia.sum(axis=0)"
   ]
  },
  {
   "cell_type": "code",
   "execution_count": 53,
   "metadata": {
    "ExecuteTime": {
     "end_time": "2019-07-26T04:09:45.317861Z",
     "start_time": "2019-07-26T04:09:45.313579Z"
    },
    "hidden": true
   },
   "outputs": [
    {
     "data": {
      "text/plain": [
       "array([ 9.,  6.,  1., ...,  3., 10.,  4.])"
      ]
     },
     "execution_count": 53,
     "metadata": {},
     "output_type": "execute_result"
    }
   ],
   "source": [
    "cm_wodia.sum(axis=1)"
   ]
  },
  {
   "cell_type": "code",
   "execution_count": null,
   "metadata": {
    "hidden": true
   },
   "outputs": [],
   "source": []
  },
  {
   "cell_type": "code",
   "execution_count": 73,
   "metadata": {
    "ExecuteTime": {
     "end_time": "2019-07-25T20:17:32.791852Z",
     "start_time": "2019-07-25T20:17:32.784165Z"
    },
    "code_folding": [
     1
    ],
    "hidden": true
   },
   "outputs": [],
   "source": [
    "# from https://scikit-learn.org/stable/auto_examples/model_selection/plot_confusion_matrix.html#sphx-glr-auto-examples-model-selection-plot-confusion-matrix-py\n",
    "#def plot_confusion_matrix(y_true, y_pred, classes,\n",
    "                          normalize=False,\n",
    "                          title=None,\n",
    "                          cmap=plt.cm.Blues):\n",
    "    \"\"\"\n",
    "    This function prints and plots the confusion matrix.\n",
    "    Normalization can be applied by setting `normalize=True`.\n",
    "    \"\"\"\n",
    "    if not title:\n",
    "        if normalize:\n",
    "            title = 'Normalized confusion matrix'\n",
    "        else:\n",
    "            title = 'Confusion matrix, without normalization'\n",
    "\n",
    "    # Compute confusion matrix\n",
    "    cm = confusion_matrix(y_true, y_pred)\n",
    "    # Only use the labels that appear in the data\n",
    "    classes = classes[unique_labels(y_true, y_pred)]\n",
    "    if normalize:\n",
    "        cm = cm.astype('float') / cm.sum(axis=1)[:, np.newaxis]\n",
    "        print(\"Normalized confusion matrix\")\n",
    "    else:\n",
    "        print('Confusion matrix, without normalization')\n",
    "\n",
    "    print(cm)\n",
    "\n",
    "    fig, ax = plt.subplots()\n",
    "    im = ax.imshow(cm, interpolation='nearest', cmap=cmap)\n",
    "    ax.figure.colorbar(im, ax=ax)\n",
    "    # We want to show all ticks...\n",
    "    ax.set(xticks=np.arange(cm.shape[1]),\n",
    "           yticks=np.arange(cm.shape[0]),\n",
    "           # ... and label them with the respective list entries\n",
    "           xticklabels=classes, yticklabels=classes,\n",
    "           title=title,\n",
    "           ylabel='True label',\n",
    "           xlabel='Predicted label')\n",
    "\n",
    "    # Rotate the tick labels and set their alignment.\n",
    "    plt.setp(ax.get_xticklabels(), rotation=45, ha=\"right\",\n",
    "             rotation_mode=\"anchor\")\n",
    "\n",
    "    # Loop over data dimensions and create text annotations.\n",
    "    fmt = '.2f' if normalize else 'd'\n",
    "    thresh = cm.max() / 2.\n",
    "    for i in range(cm.shape[0]):\n",
    "        for j in range(cm.shape[1]):\n",
    "            ax.text(j, i, format(cm[i, j], fmt),\n",
    "                    ha=\"center\", va=\"center\",\n",
    "                    color=\"white\" if cm[i, j] > thresh else \"black\")\n",
    "    fig.tight_layout()\n",
    "    return ax"
   ]
  },
  {
   "cell_type": "code",
   "execution_count": null,
   "metadata": {
    "ExecuteTime": {
     "end_time": "2019-07-25T20:18:51.239972Z",
     "start_time": "2019-07-25T20:18:06.234817Z"
    },
    "hidden": true
   },
   "outputs": [],
   "source": [
    "# Plot non-normalized confusion matrix\n",
    "plot_confusion_matrix(I_test[:,0], yq, classes=np.unique(yq),\n",
    "                      title='Confusion matrix, without normalization')\n",
    "plt.show()"
   ]
  },
  {
   "cell_type": "code",
   "execution_count": null,
   "metadata": {
    "ExecuteTime": {
     "end_time": "2019-07-25T20:17:56.789089Z",
     "start_time": "2019-07-25T20:17:35.927Z"
    },
    "hidden": true
   },
   "outputs": [],
   "source": [
    "# Plot normalized confusion matrix\n",
    "plot_confusion_matrix(I_test[:,0], yq, #classes=np.unique(yq), normalize=True,\n",
    "                      title='Normalized confusion matrix')\n",
    "plt.show()"
   ]
  },
  {
   "cell_type": "markdown",
   "metadata": {},
   "source": [
    "## Test dataset"
   ]
  },
  {
   "cell_type": "code",
   "execution_count": 39,
   "metadata": {
    "ExecuteTime": {
     "end_time": "2019-08-13T16:43:12.928014Z",
     "start_time": "2019-08-13T16:43:12.896680Z"
    }
   },
   "outputs": [],
   "source": [
    "xq_test = np.load('pred/feats_test.npy')"
   ]
  },
  {
   "cell_type": "code",
   "execution_count": 40,
   "metadata": {
    "ExecuteTime": {
     "end_time": "2019-08-13T16:43:13.291774Z",
     "start_time": "2019-08-13T16:43:13.279157Z"
    }
   },
   "outputs": [
    {
     "data": {
      "text/plain": [
       "22.512571"
      ]
     },
     "execution_count": 40,
     "metadata": {},
     "output_type": "execute_result"
    }
   ],
   "source": [
    "xq_test.max()"
   ]
  },
  {
   "cell_type": "code",
   "execution_count": 41,
   "metadata": {
    "ExecuteTime": {
     "end_time": "2019-08-13T16:43:13.760116Z",
     "start_time": "2019-08-13T16:43:13.750513Z"
    }
   },
   "outputs": [],
   "source": [
    "faiss.normalize_L2(xq_test)"
   ]
  },
  {
   "cell_type": "code",
   "execution_count": 42,
   "metadata": {
    "ExecuteTime": {
     "end_time": "2019-08-13T16:43:14.143821Z",
     "start_time": "2019-08-13T16:43:14.120466Z"
    }
   },
   "outputs": [
    {
     "data": {
      "text/plain": [
       "0.20590423"
      ]
     },
     "execution_count": 42,
     "metadata": {},
     "output_type": "execute_result"
    }
   ],
   "source": [
    "xq_test.max()"
   ]
  },
  {
   "cell_type": "code",
   "execution_count": 43,
   "metadata": {
    "ExecuteTime": {
     "end_time": "2019-08-13T16:43:14.764387Z",
     "start_time": "2019-08-13T16:43:14.614877Z"
    }
   },
   "outputs": [],
   "source": [
    "D_test, I_test = index.search(xq_test, k) # actual search"
   ]
  },
  {
   "cell_type": "code",
   "execution_count": 44,
   "metadata": {
    "ExecuteTime": {
     "end_time": "2019-08-13T16:43:15.151635Z",
     "start_time": "2019-08-13T16:43:15.146514Z"
    }
   },
   "outputs": [
    {
     "data": {
      "text/plain": [
       "((39794, 512), (39794, 5), (39794, 5))"
      ]
     },
     "execution_count": 44,
     "metadata": {},
     "output_type": "execute_result"
    }
   ],
   "source": [
    "xq_test.shape, I_test.shape, D_test.shape"
   ]
  },
  {
   "cell_type": "code",
   "execution_count": 45,
   "metadata": {
    "ExecuteTime": {
     "end_time": "2019-08-13T16:43:15.491674Z",
     "start_time": "2019-08-13T16:43:15.482259Z"
    }
   },
   "outputs": [
    {
     "name": "stdout",
     "output_type": "stream",
     "text": [
      "[[ 591  855  855  591  855]\n",
      " [ 823 1103 1103   31 1095]\n",
      " [ 200 1061  261  728  331]\n",
      " [ 596  609  249  596  609]\n",
      " [ 997  220   54  440  519]]\n",
      "[[0.65985036 0.6542007  0.6316842  0.6275306  0.61541325]\n",
      " [0.7517279  0.74120164 0.7411979  0.7362137  0.7192917 ]\n",
      " [0.75586724 0.75155306 0.71154845 0.6959586  0.688786  ]\n",
      " [0.83979404 0.80113435 0.78837144 0.76470244 0.76060724]\n",
      " [0.8406554  0.8393465  0.8008696  0.7935616  0.78735614]]\n"
     ]
    }
   ],
   "source": [
    "print(I_test[:5]) # neighbors of the 5 first queries\n",
    "print(D_test[:5])"
   ]
  },
  {
   "cell_type": "code",
   "execution_count": 46,
   "metadata": {
    "ExecuteTime": {
     "end_time": "2019-08-13T16:43:16.046742Z",
     "start_time": "2019-08-13T16:43:16.041623Z"
    }
   },
   "outputs": [
    {
     "name": "stdout",
     "output_type": "stream",
     "text": [
      "[[319 858 337 970 319]\n",
      " [183 338 338 338 338]\n",
      " [ 98  98  98  98  98]\n",
      " [ 96  96  96  96  96]\n",
      " [148 148 148 148 148]]\n",
      "[[0.6663092  0.57065916 0.55478394 0.52428794 0.51645523]\n",
      " [0.67629766 0.6326103  0.6301967  0.62447673 0.6203909 ]\n",
      " [0.6799749  0.66003144 0.65325075 0.640009   0.61804664]\n",
      " [0.76092494 0.7207578  0.6818116  0.6786123  0.67464733]\n",
      " [0.7058311  0.6960249  0.6685962  0.66238177 0.6573957 ]]\n"
     ]
    }
   ],
   "source": [
    "print(I_test[-5:]) # neighbors of the 5 last queries\n",
    "print(D_test[-5:])"
   ]
  },
  {
   "cell_type": "code",
   "execution_count": 47,
   "metadata": {
    "ExecuteTime": {
     "end_time": "2019-08-13T16:43:16.622475Z",
     "start_time": "2019-08-13T16:43:16.617703Z"
    }
   },
   "outputs": [
    {
     "data": {
      "text/plain": [
       "array([ 200, 1061,  261,  728,  331])"
      ]
     },
     "execution_count": 47,
     "metadata": {},
     "output_type": "execute_result"
    }
   ],
   "source": [
    "I_test[2]"
   ]
  },
  {
   "cell_type": "code",
   "execution_count": 48,
   "metadata": {
    "ExecuteTime": {
     "end_time": "2019-08-13T16:43:17.449758Z",
     "start_time": "2019-08-13T16:43:17.444043Z"
    }
   },
   "outputs": [
    {
     "data": {
      "text/plain": [
       "(array([ 200,  261,  331,  728, 1061]), array([1, 1, 1, 1, 1]))"
      ]
     },
     "execution_count": 48,
     "metadata": {},
     "output_type": "execute_result"
    }
   ],
   "source": [
    "np.unique(I_test[2], return_counts=True)"
   ]
  },
  {
   "cell_type": "code",
   "execution_count": 49,
   "metadata": {
    "ExecuteTime": {
     "end_time": "2019-08-13T16:43:17.744830Z",
     "start_time": "2019-08-13T16:43:17.740581Z"
    }
   },
   "outputs": [],
   "source": [
    "preds_test = I_test[:,0]\n",
    "dist_test = D_test[:,0]"
   ]
  },
  {
   "cell_type": "code",
   "execution_count": 50,
   "metadata": {
    "ExecuteTime": {
     "end_time": "2019-08-13T16:43:18.365980Z",
     "start_time": "2019-08-13T16:43:18.359553Z"
    }
   },
   "outputs": [],
   "source": [
    "np.save('pred/preds_test.npy', preds_test)\n",
    "np.save('pred/dist_test.npy', dist_test)"
   ]
  },
  {
   "cell_type": "markdown",
   "metadata": {
    "heading_collapsed": true
   },
   "source": [
    "#### Get mode or most similiar if mode is 1"
   ]
  },
  {
   "cell_type": "markdown",
   "metadata": {
    "hidden": true
   },
   "source": [
    "https://docs.scipy.org/doc/scipy/reference/generated/scipy.stats.mode.html#scipy.stats.mode"
   ]
  },
  {
   "cell_type": "markdown",
   "metadata": {
    "ExecuteTime": {
     "end_time": "2019-07-28T16:42:09.215785Z",
     "start_time": "2019-07-28T16:42:09.211341Z"
    },
    "hidden": true
   },
   "source": [
    "**This seems to not increase the accuracy !!!**"
   ]
  },
  {
   "cell_type": "code",
   "execution_count": 27,
   "metadata": {
    "ExecuteTime": {
     "end_time": "2019-07-28T16:08:02.093523Z",
     "start_time": "2019-07-28T16:08:02.091682Z"
    },
    "hidden": true
   },
   "outputs": [],
   "source": [
    "from scipy import stats"
   ]
  },
  {
   "cell_type": "code",
   "execution_count": 28,
   "metadata": {
    "ExecuteTime": {
     "end_time": "2019-07-28T16:08:03.174498Z",
     "start_time": "2019-07-28T16:08:02.539011Z"
    },
    "hidden": true
   },
   "outputs": [],
   "source": [
    "# get mode and mode count\n",
    "I_test_mode = stats.mode(I_test, axis=1)"
   ]
  },
  {
   "cell_type": "code",
   "execution_count": 29,
   "metadata": {
    "ExecuteTime": {
     "end_time": "2019-07-28T16:08:03.181148Z",
     "start_time": "2019-07-28T16:08:03.175746Z"
    },
    "hidden": true
   },
   "outputs": [
    {
     "data": {
      "text/plain": [
       "((39794, 5), (39794, 1))"
      ]
     },
     "execution_count": 29,
     "metadata": {},
     "output_type": "execute_result"
    }
   ],
   "source": [
    "I_test.shape, I_test_mode[0].shape"
   ]
  },
  {
   "cell_type": "code",
   "execution_count": 30,
   "metadata": {
    "ExecuteTime": {
     "end_time": "2019-07-28T16:08:04.955615Z",
     "start_time": "2019-07-28T16:08:04.952697Z"
    },
    "hidden": true
   },
   "outputs": [
    {
     "data": {
      "text/plain": [
       "array([[ 591,  591,  587,  591,  855],\n",
       "       [ 736,  770,  387,  728,  933],\n",
       "       [ 179,  576,  191,  451, 1076],\n",
       "       [ 908,  908,  609,  256,  892],\n",
       "       [ 775,  445,  970,  387,  307]])"
      ]
     },
     "execution_count": 30,
     "metadata": {},
     "output_type": "execute_result"
    }
   ],
   "source": [
    "I_test[:5]"
   ]
  },
  {
   "cell_type": "code",
   "execution_count": 31,
   "metadata": {
    "ExecuteTime": {
     "end_time": "2019-07-28T16:08:06.417991Z",
     "start_time": "2019-07-28T16:08:06.415672Z"
    },
    "hidden": true
   },
   "outputs": [
    {
     "data": {
      "text/plain": [
       "array([[591],\n",
       "       [387],\n",
       "       [179],\n",
       "       [908],\n",
       "       [307]])"
      ]
     },
     "execution_count": 31,
     "metadata": {},
     "output_type": "execute_result"
    }
   ],
   "source": [
    "I_test_mode[0][:5]"
   ]
  },
  {
   "cell_type": "code",
   "execution_count": 32,
   "metadata": {
    "ExecuteTime": {
     "end_time": "2019-07-28T16:08:06.989601Z",
     "start_time": "2019-07-28T16:08:06.984030Z"
    },
    "hidden": true
   },
   "outputs": [
    {
     "data": {
      "text/plain": [
       "array([[3],\n",
       "       [1],\n",
       "       [1],\n",
       "       [2],\n",
       "       [1]])"
      ]
     },
     "execution_count": 32,
     "metadata": {},
     "output_type": "execute_result"
    }
   ],
   "source": [
    "I_test_mode[1][:5]"
   ]
  },
  {
   "cell_type": "code",
   "execution_count": 33,
   "metadata": {
    "ExecuteTime": {
     "end_time": "2019-07-28T16:08:10.941609Z",
     "start_time": "2019-07-28T16:08:10.939172Z"
    },
    "hidden": true
   },
   "outputs": [
    {
     "data": {
      "text/plain": [
       "array([[False],\n",
       "       [ True],\n",
       "       [ True],\n",
       "       ...,\n",
       "       [False],\n",
       "       [False],\n",
       "       [False]])"
      ]
     },
     "execution_count": 33,
     "metadata": {},
     "output_type": "execute_result"
    }
   ],
   "source": [
    "I_test_mode[1] == 1"
   ]
  },
  {
   "cell_type": "code",
   "execution_count": 34,
   "metadata": {
    "ExecuteTime": {
     "end_time": "2019-07-28T16:08:11.560718Z",
     "start_time": "2019-07-28T16:08:11.557782Z"
    },
    "hidden": true
   },
   "outputs": [],
   "source": [
    "mode_mask = (~(I_test_mode[1] == 1)).astype('float')\n",
    "similar_mask = (I_test_mode[1] == 1).astype('float')"
   ]
  },
  {
   "cell_type": "code",
   "execution_count": 35,
   "metadata": {
    "ExecuteTime": {
     "end_time": "2019-07-28T16:08:13.490307Z",
     "start_time": "2019-07-28T16:08:13.487992Z"
    },
    "hidden": true
   },
   "outputs": [
    {
     "data": {
      "text/plain": [
       "array([[1.],\n",
       "       [0.],\n",
       "       [0.],\n",
       "       [1.],\n",
       "       [0.]])"
      ]
     },
     "execution_count": 35,
     "metadata": {},
     "output_type": "execute_result"
    }
   ],
   "source": [
    "mode_mask[:5]"
   ]
  },
  {
   "cell_type": "code",
   "execution_count": 36,
   "metadata": {
    "ExecuteTime": {
     "end_time": "2019-07-28T16:08:14.051511Z",
     "start_time": "2019-07-28T16:08:14.049005Z"
    },
    "hidden": true
   },
   "outputs": [
    {
     "data": {
      "text/plain": [
       "array([[0.],\n",
       "       [1.],\n",
       "       [1.],\n",
       "       [0.],\n",
       "       [1.]])"
      ]
     },
     "execution_count": 36,
     "metadata": {},
     "output_type": "execute_result"
    }
   ],
   "source": [
    "similar_mask[:5]"
   ]
  },
  {
   "cell_type": "code",
   "execution_count": 37,
   "metadata": {
    "ExecuteTime": {
     "end_time": "2019-07-28T16:08:15.635059Z",
     "start_time": "2019-07-28T16:08:15.630263Z"
    },
    "hidden": true
   },
   "outputs": [
    {
     "data": {
      "text/plain": [
       "array([ 591,  736,  179, ...,  108, 1074,  316])"
      ]
     },
     "execution_count": 37,
     "metadata": {},
     "output_type": "execute_result"
    }
   ],
   "source": [
    "I_test[:,0]"
   ]
  },
  {
   "cell_type": "code",
   "execution_count": 38,
   "metadata": {
    "ExecuteTime": {
     "end_time": "2019-07-28T16:08:19.689580Z",
     "start_time": "2019-07-28T16:08:19.686965Z"
    },
    "hidden": true
   },
   "outputs": [
    {
     "data": {
      "text/plain": [
       "(39794, 1)"
      ]
     },
     "execution_count": 38,
     "metadata": {},
     "output_type": "execute_result"
    }
   ],
   "source": [
    "similar_mask.shape"
   ]
  },
  {
   "cell_type": "code",
   "execution_count": 39,
   "metadata": {
    "ExecuteTime": {
     "end_time": "2019-07-28T16:08:20.307955Z",
     "start_time": "2019-07-28T16:08:20.304258Z"
    },
    "hidden": true
   },
   "outputs": [
    {
     "data": {
      "text/plain": [
       "((39794,), (39794, 1))"
      ]
     },
     "execution_count": 39,
     "metadata": {},
     "output_type": "execute_result"
    }
   ],
   "source": [
    "I_test[:,0].shape, similar_mask.shape"
   ]
  },
  {
   "cell_type": "code",
   "execution_count": 40,
   "metadata": {
    "ExecuteTime": {
     "end_time": "2019-07-28T16:08:22.873054Z",
     "start_time": "2019-07-28T16:08:22.867903Z"
    },
    "hidden": true
   },
   "outputs": [
    {
     "data": {
      "text/plain": [
       "(39794, 1)"
      ]
     },
     "execution_count": 40,
     "metadata": {},
     "output_type": "execute_result"
    }
   ],
   "source": [
    "I_test[:,0].reshape((-1,1)).shape"
   ]
  },
  {
   "cell_type": "code",
   "execution_count": 41,
   "metadata": {
    "ExecuteTime": {
     "end_time": "2019-07-28T16:08:24.887683Z",
     "start_time": "2019-07-28T16:08:24.885449Z"
    },
    "hidden": true
   },
   "outputs": [],
   "source": [
    "I_most_similar = np.multiply(I_test[:,0].reshape((-1,1)),similar_mask)"
   ]
  },
  {
   "cell_type": "code",
   "execution_count": 42,
   "metadata": {
    "ExecuteTime": {
     "end_time": "2019-07-28T16:08:25.420116Z",
     "start_time": "2019-07-28T16:08:25.415759Z"
    },
    "hidden": true
   },
   "outputs": [
    {
     "data": {
      "text/plain": [
       "array([[  0.],\n",
       "       [736.],\n",
       "       [179.],\n",
       "       [  0.],\n",
       "       [775.]])"
      ]
     },
     "execution_count": 42,
     "metadata": {},
     "output_type": "execute_result"
    }
   ],
   "source": [
    "I_most_similar[:5]"
   ]
  },
  {
   "cell_type": "code",
   "execution_count": 43,
   "metadata": {
    "ExecuteTime": {
     "end_time": "2019-07-28T16:08:27.081808Z",
     "start_time": "2019-07-28T16:08:27.078213Z"
    },
    "hidden": true
   },
   "outputs": [],
   "source": [
    "I_higher_mode = np.multiply(I_test_mode[0],mode_mask)"
   ]
  },
  {
   "cell_type": "code",
   "execution_count": 44,
   "metadata": {
    "ExecuteTime": {
     "end_time": "2019-07-28T16:08:27.450105Z",
     "start_time": "2019-07-28T16:08:27.447168Z"
    },
    "hidden": true
   },
   "outputs": [
    {
     "data": {
      "text/plain": [
       "array([[591.],\n",
       "       [  0.],\n",
       "       [  0.],\n",
       "       [908.],\n",
       "       [  0.]])"
      ]
     },
     "execution_count": 44,
     "metadata": {},
     "output_type": "execute_result"
    }
   ],
   "source": [
    "I_higher_mode[:5]"
   ]
  },
  {
   "cell_type": "code",
   "execution_count": 45,
   "metadata": {
    "ExecuteTime": {
     "end_time": "2019-07-28T16:08:28.128418Z",
     "start_time": "2019-07-28T16:08:28.126731Z"
    },
    "hidden": true
   },
   "outputs": [],
   "source": [
    "preds_similar_mode = I_most_similar + I_higher_mode"
   ]
  },
  {
   "cell_type": "code",
   "execution_count": 46,
   "metadata": {
    "ExecuteTime": {
     "end_time": "2019-07-28T16:08:29.825259Z",
     "start_time": "2019-07-28T16:08:29.820603Z"
    },
    "hidden": true
   },
   "outputs": [
    {
     "data": {
      "text/plain": [
       "array([[591.],\n",
       "       [736.],\n",
       "       [179.],\n",
       "       [908.],\n",
       "       [775.]])"
      ]
     },
     "execution_count": 46,
     "metadata": {},
     "output_type": "execute_result"
    }
   ],
   "source": [
    "preds_similar_mode[:5]"
   ]
  },
  {
   "cell_type": "code",
   "execution_count": 51,
   "metadata": {
    "ExecuteTime": {
     "end_time": "2019-07-28T16:19:46.018057Z",
     "start_time": "2019-07-28T16:19:46.014253Z"
    },
    "hidden": true
   },
   "outputs": [],
   "source": [
    "np.save('pred/preds_test_similar_mask', similar_mask)\n",
    "np.save('pred/preds_test_mode_mask', mode_mask)\n",
    "np.save('pred/preds_test_similar_mode', preds_similar_mode)"
   ]
  },
  {
   "cell_type": "code",
   "execution_count": null,
   "metadata": {
    "hidden": true
   },
   "outputs": [],
   "source": []
  }
 ],
 "metadata": {
  "kernelspec": {
   "display_name": "faiss",
   "language": "python",
   "name": "faiss"
  },
  "language_info": {
   "codemirror_mode": {
    "name": "ipython",
    "version": 3
   },
   "file_extension": ".py",
   "mimetype": "text/x-python",
   "name": "python",
   "nbconvert_exporter": "python",
   "pygments_lexer": "ipython3",
   "version": "3.7.3"
  },
  "toc": {
   "base_numbering": 1,
   "nav_menu": {},
   "number_sections": true,
   "sideBar": true,
   "skip_h1_title": false,
   "title_cell": "Table of Contents",
   "title_sidebar": "Contents",
   "toc_cell": false,
   "toc_position": {},
   "toc_section_display": true,
   "toc_window_display": true
  }
 },
 "nbformat": 4,
 "nbformat_minor": 2
}
