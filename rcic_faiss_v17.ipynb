{
 "cells": [
  {
   "cell_type": "markdown",
   "metadata": {},
   "source": [
    "# Imports"
   ]
  },
  {
   "cell_type": "markdown",
   "metadata": {},
   "source": [
    "https://github.com/facebookresearch/faiss/wiki/Getting-started"
   ]
  },
  {
   "cell_type": "markdown",
   "metadata": {},
   "source": [
    "**We assume row-major storage, ie. the j'th component of vector number i is stored in row i, column j of the matrix. Faiss uses only 32-bit floating point matrices.**"
   ]
  },
  {
   "cell_type": "code",
   "execution_count": 1,
   "metadata": {
    "ExecuteTime": {
     "end_time": "2019-09-25T03:06:36.123404Z",
     "start_time": "2019-09-25T03:06:36.078879Z"
    }
   },
   "outputs": [],
   "source": [
    "import numpy as np\n",
    "import faiss"
   ]
  },
  {
   "cell_type": "code",
   "execution_count": 2,
   "metadata": {
    "ExecuteTime": {
     "end_time": "2019-09-25T03:06:36.634986Z",
     "start_time": "2019-09-25T03:06:36.303020Z"
    }
   },
   "outputs": [],
   "source": [
    "import matplotlib.pyplot as plt\n",
    "from sklearn.metrics import confusion_matrix\n",
    "from sklearn.utils.multiclass import unique_labels"
   ]
  },
  {
   "cell_type": "markdown",
   "metadata": {},
   "source": [
    "# Setup"
   ]
  },
  {
   "cell_type": "code",
   "execution_count": 3,
   "metadata": {
    "ExecuteTime": {
     "end_time": "2019-09-25T03:06:38.110908Z",
     "start_time": "2019-09-25T03:06:37.980299Z"
    }
   },
   "outputs": [],
   "source": [
    "xb = np.load('pred/feats_train.npy')\n",
    "yb = np.load('pred/targs_train.npy')"
   ]
  },
  {
   "cell_type": "code",
   "execution_count": 4,
   "metadata": {
    "ExecuteTime": {
     "end_time": "2019-09-15T10:47:42.450193Z",
     "start_time": "2019-09-15T10:47:42.432486Z"
    }
   },
   "outputs": [],
   "source": [
    "xq = np.load('pred/feats_valid.npy')\n",
    "yq = np.load('pred/targs_valid.npy')"
   ]
  },
  {
   "cell_type": "code",
   "execution_count": 4,
   "metadata": {
    "ExecuteTime": {
     "end_time": "2019-09-25T03:06:40.622348Z",
     "start_time": "2019-09-25T03:06:40.616166Z"
    }
   },
   "outputs": [
    {
     "data": {
      "text/plain": [
       "((109539, 512), (109539,))"
      ]
     },
     "execution_count": 4,
     "metadata": {},
     "output_type": "execute_result"
    }
   ],
   "source": [
    "# xb: nb-by-d\n",
    "xb.shape, yb.shape"
   ]
  },
  {
   "cell_type": "code",
   "execution_count": 6,
   "metadata": {
    "ExecuteTime": {
     "end_time": "2019-09-15T10:47:43.556793Z",
     "start_time": "2019-09-15T10:47:43.551730Z"
    }
   },
   "outputs": [
    {
     "data": {
      "text/plain": [
       "((7738, 512), (7738,))"
      ]
     },
     "execution_count": 6,
     "metadata": {},
     "output_type": "execute_result"
    }
   ],
   "source": [
    "#xq: nq-by-d (query vectors)\n",
    "xq.shape, yq.shape"
   ]
  },
  {
   "cell_type": "code",
   "execution_count": 5,
   "metadata": {
    "ExecuteTime": {
     "end_time": "2019-09-25T03:06:42.219972Z",
     "start_time": "2019-09-25T03:06:42.214516Z"
    }
   },
   "outputs": [
    {
     "data": {
      "text/plain": [
       "(512, 1323)"
      ]
     },
     "execution_count": 5,
     "metadata": {},
     "output_type": "execute_result"
    }
   ],
   "source": [
    "## setup\n",
    "d = xb.shape[1] # 512\n",
    "nlist = int(4*np.sqrt(xb.shape[0])) # https://github.com/facebookresearch/faiss/issues/112\n",
    "d, nlist"
   ]
  },
  {
   "cell_type": "code",
   "execution_count": 6,
   "metadata": {
    "ExecuteTime": {
     "end_time": "2019-09-25T03:06:43.659568Z",
     "start_time": "2019-09-25T03:06:43.647971Z"
    }
   },
   "outputs": [],
   "source": [
    "quantizer = faiss.IndexFlatIP(d)\n",
    "index = faiss.IndexIVFFlat(quantizer, d, nlist, faiss.METRIC_INNER_PRODUCT)"
   ]
  },
  {
   "cell_type": "markdown",
   "metadata": {
    "ExecuteTime": {
     "end_time": "2019-07-25T18:29:39.571762Z",
     "start_time": "2019-07-25T18:29:39.562612Z"
    }
   },
   "source": [
    "https://github.com/facebookresearch/faiss/wiki/FAQ#how-can-i-index-vectors-for-cosine-distance"
   ]
  },
  {
   "cell_type": "code",
   "execution_count": 7,
   "metadata": {
    "ExecuteTime": {
     "end_time": "2019-09-25T03:06:44.408254Z",
     "start_time": "2019-09-25T03:06:44.393196Z"
    }
   },
   "outputs": [
    {
     "data": {
      "text/plain": [
       "359338.03"
      ]
     },
     "execution_count": 7,
     "metadata": {},
     "output_type": "execute_result"
    }
   ],
   "source": [
    "xb.max()"
   ]
  },
  {
   "cell_type": "code",
   "execution_count": 8,
   "metadata": {
    "ExecuteTime": {
     "end_time": "2019-09-25T03:06:45.908561Z",
     "start_time": "2019-09-25T03:06:45.878434Z"
    }
   },
   "outputs": [],
   "source": [
    "faiss.normalize_L2(xb)"
   ]
  },
  {
   "cell_type": "code",
   "execution_count": 9,
   "metadata": {
    "ExecuteTime": {
     "end_time": "2019-09-25T03:06:46.326578Z",
     "start_time": "2019-09-25T03:06:46.278003Z"
    }
   },
   "outputs": [
    {
     "data": {
      "text/plain": [
       "0.7638167"
      ]
     },
     "execution_count": 9,
     "metadata": {},
     "output_type": "execute_result"
    }
   ],
   "source": [
    "xb.max()"
   ]
  },
  {
   "cell_type": "code",
   "execution_count": 10,
   "metadata": {
    "ExecuteTime": {
     "end_time": "2019-09-25T03:06:50.994766Z",
     "start_time": "2019-09-25T03:06:47.710374Z"
    }
   },
   "outputs": [],
   "source": [
    "index.train(xb)"
   ]
  },
  {
   "cell_type": "code",
   "execution_count": 11,
   "metadata": {
    "ExecuteTime": {
     "end_time": "2019-09-25T03:06:51.425749Z",
     "start_time": "2019-09-25T03:06:50.995741Z"
    }
   },
   "outputs": [],
   "source": [
    "index.add_with_ids(xb, yb)"
   ]
  },
  {
   "cell_type": "code",
   "execution_count": 12,
   "metadata": {
    "ExecuteTime": {
     "end_time": "2019-09-25T03:06:51.429460Z",
     "start_time": "2019-09-25T03:06:51.426832Z"
    }
   },
   "outputs": [
    {
     "name": "stdout",
     "output_type": "stream",
     "text": [
      "True\n",
      "109539\n"
     ]
    }
   ],
   "source": [
    "print(index.is_trained)\n",
    "print(index.ntotal)"
   ]
  },
  {
   "cell_type": "markdown",
   "metadata": {},
   "source": [
    "## Train dataset"
   ]
  },
  {
   "cell_type": "code",
   "execution_count": 13,
   "metadata": {
    "ExecuteTime": {
     "end_time": "2019-09-25T03:06:53.669908Z",
     "start_time": "2019-09-25T03:06:52.733771Z"
    }
   },
   "outputs": [
    {
     "name": "stdout",
     "output_type": "stream",
     "text": [
      "[[ 843  843  356  843  356]\n",
      " [ 610  610  610  610  610]\n",
      " [ 703  703  703  703  538]\n",
      " [ 134   65  465  886  237]\n",
      " [ 544  544  544  544 1098]]\n",
      "[[843]\n",
      " [610]\n",
      " [703]\n",
      " [134]\n",
      " [544]]\n",
      "[[1.0000001  0.91211677 0.9093743  0.9092268  0.90197533]\n",
      " [1.         0.97553444 0.94988906 0.9396661  0.936189  ]\n",
      " [0.9999998  0.9999718  0.9999683  0.9999517  0.9999446 ]\n",
      " [1.0000001  0.8156876  0.81413096 0.8103752  0.80966973]\n",
      " [1.0000001  0.9206761  0.907807   0.8687527  0.8659712 ]]\n"
     ]
    }
   ],
   "source": [
    "## search\n",
    "k = 5 # we want to see 5 nearest neighbors\n",
    "D_train, I_train = index.search(xb, k) # sanity check\n",
    "print(I_train[:5])\n",
    "print(yb[:5].reshape((5,1)))\n",
    "print(D_train[:5])"
   ]
  },
  {
   "cell_type": "code",
   "execution_count": 14,
   "metadata": {
    "ExecuteTime": {
     "end_time": "2019-09-25T03:06:54.436508Z",
     "start_time": "2019-09-25T03:06:54.430874Z"
    }
   },
   "outputs": [
    {
     "data": {
      "text/plain": [
       "(1107, 1107)"
      ]
     },
     "execution_count": 14,
     "metadata": {},
     "output_type": "execute_result"
    }
   ],
   "source": [
    "yb.max(), I_train.max()"
   ]
  },
  {
   "cell_type": "markdown",
   "metadata": {},
   "source": [
    "### Train accuracy"
   ]
  },
  {
   "cell_type": "code",
   "execution_count": 15,
   "metadata": {
    "ExecuteTime": {
     "end_time": "2019-09-25T03:07:00.134159Z",
     "start_time": "2019-09-25T03:07:00.128480Z"
    }
   },
   "outputs": [
    {
     "data": {
      "text/plain": [
       "((109539,), (109539,))"
      ]
     },
     "execution_count": 15,
     "metadata": {},
     "output_type": "execute_result"
    }
   ],
   "source": [
    "I_train[:,0].shape, yb.shape"
   ]
  },
  {
   "cell_type": "code",
   "execution_count": 16,
   "metadata": {
    "ExecuteTime": {
     "end_time": "2019-09-25T03:07:00.701752Z",
     "start_time": "2019-09-25T03:07:00.693875Z"
    }
   },
   "outputs": [
    {
     "data": {
      "text/plain": [
       "0.999881320808114"
      ]
     },
     "execution_count": 16,
     "metadata": {},
     "output_type": "execute_result"
    }
   ],
   "source": [
    "# Accuracy\n",
    "np.equal(I_train[:,0], yb).sum()/len(yb)"
   ]
  },
  {
   "cell_type": "code",
   "execution_count": 17,
   "metadata": {
    "ExecuteTime": {
     "end_time": "2019-09-25T03:07:01.385065Z",
     "start_time": "2019-09-25T03:07:01.379960Z"
    }
   },
   "outputs": [
    {
     "data": {
      "text/plain": [
       "(array([843, 610, 703, 134, 544, 738, 509, 369, 171, 942]),\n",
       " array([843, 610, 703, 134, 544, 738, 509, 369, 171, 942]))"
      ]
     },
     "execution_count": 17,
     "metadata": {},
     "output_type": "execute_result"
    }
   ],
   "source": [
    "I_train[:10,0], yb[:10]"
   ]
  },
  {
   "cell_type": "code",
   "execution_count": 18,
   "metadata": {
    "ExecuteTime": {
     "end_time": "2019-09-25T03:07:02.932932Z",
     "start_time": "2019-09-25T03:07:02.927295Z"
    }
   },
   "outputs": [
    {
     "data": {
      "text/plain": [
       "(array([ 738,  608,  397,  334,  406,  210,  912, 1009,  552,  937]),\n",
       " array([ 738,  608,  397,  334,  406,  210,  912, 1009,  552,  937]))"
      ]
     },
     "execution_count": 18,
     "metadata": {},
     "output_type": "execute_result"
    }
   ],
   "source": [
    "I_train[-10:,0], yb[-10:]"
   ]
  },
  {
   "cell_type": "markdown",
   "metadata": {},
   "source": [
    "### Train confusion matrix"
   ]
  },
  {
   "cell_type": "code",
   "execution_count": 19,
   "metadata": {
    "ExecuteTime": {
     "end_time": "2019-08-29T19:29:52.269231Z",
     "start_time": "2019-08-29T19:29:52.264252Z"
    }
   },
   "outputs": [],
   "source": [
    "#cm = confusion_matrix(I_train[:,0], yb)"
   ]
  },
  {
   "cell_type": "code",
   "execution_count": 22,
   "metadata": {
    "ExecuteTime": {
     "end_time": "2019-08-25T19:39:24.586248Z",
     "start_time": "2019-08-25T19:39:24.581684Z"
    },
    "scrolled": false
   },
   "outputs": [],
   "source": [
    "#fig, ax = plt.subplots(figsize=(15,15))\n",
    "#ax.matshow(cm, cmap='hot')"
   ]
  },
  {
   "cell_type": "markdown",
   "metadata": {
    "heading_collapsed": true
   },
   "source": [
    "## Valid dataset"
   ]
  },
  {
   "cell_type": "code",
   "execution_count": 22,
   "metadata": {
    "ExecuteTime": {
     "end_time": "2019-09-13T21:58:11.583528Z",
     "start_time": "2019-09-13T21:58:11.579451Z"
    },
    "hidden": true
   },
   "outputs": [
    {
     "data": {
      "text/plain": [
       "73.71411"
      ]
     },
     "execution_count": 22,
     "metadata": {},
     "output_type": "execute_result"
    }
   ],
   "source": [
    "xq.max()"
   ]
  },
  {
   "cell_type": "code",
   "execution_count": 23,
   "metadata": {
    "ExecuteTime": {
     "end_time": "2019-09-13T21:58:12.253205Z",
     "start_time": "2019-09-13T21:58:12.243652Z"
    },
    "hidden": true
   },
   "outputs": [],
   "source": [
    "faiss.normalize_L2(xq)"
   ]
  },
  {
   "cell_type": "code",
   "execution_count": 24,
   "metadata": {
    "ExecuteTime": {
     "end_time": "2019-09-13T21:58:12.677436Z",
     "start_time": "2019-09-13T21:58:12.672637Z"
    },
    "hidden": true
   },
   "outputs": [
    {
     "data": {
      "text/plain": [
       "0.46406218"
      ]
     },
     "execution_count": 24,
     "metadata": {},
     "output_type": "execute_result"
    }
   ],
   "source": [
    "xq.max()"
   ]
  },
  {
   "cell_type": "code",
   "execution_count": 25,
   "metadata": {
    "ExecuteTime": {
     "end_time": "2019-09-13T21:58:14.353504Z",
     "start_time": "2019-09-13T21:58:14.222657Z"
    },
    "hidden": true
   },
   "outputs": [],
   "source": [
    "D_valid, I_valid = index.search(xq, k) # actual search"
   ]
  },
  {
   "cell_type": "code",
   "execution_count": 26,
   "metadata": {
    "ExecuteTime": {
     "end_time": "2019-09-13T21:58:14.784649Z",
     "start_time": "2019-09-13T21:58:14.775101Z"
    },
    "hidden": true
   },
   "outputs": [
    {
     "data": {
      "text/plain": [
       "((7738, 512), (7738,))"
      ]
     },
     "execution_count": 26,
     "metadata": {},
     "output_type": "execute_result"
    }
   ],
   "source": [
    "xq.shape, yq.shape"
   ]
  },
  {
   "cell_type": "code",
   "execution_count": 27,
   "metadata": {
    "ExecuteTime": {
     "end_time": "2019-09-13T21:58:15.332851Z",
     "start_time": "2019-09-13T21:58:15.330345Z"
    },
    "hidden": true
   },
   "outputs": [
    {
     "data": {
      "text/plain": [
       "((7738, 5), (7738, 5))"
      ]
     },
     "execution_count": 27,
     "metadata": {},
     "output_type": "execute_result"
    }
   ],
   "source": [
    "I_valid.shape, D_valid.shape"
   ]
  },
  {
   "cell_type": "code",
   "execution_count": 28,
   "metadata": {
    "ExecuteTime": {
     "end_time": "2019-09-13T21:58:16.136289Z",
     "start_time": "2019-09-13T21:58:16.130506Z"
    },
    "hidden": true
   },
   "outputs": [
    {
     "name": "stdout",
     "output_type": "stream",
     "text": [
      "[[352 352 352 352 352]\n",
      " [361 361 361 361 361]\n",
      " [810 810 810 810 810]\n",
      " [505 505 505 505 505]\n",
      " [647  91 775 775  91]]\n",
      "[[352]\n",
      " [361]\n",
      " [503]\n",
      " [505]\n",
      " [ 70]]\n",
      "[[0.7474127  0.7199716  0.6405589  0.6269395  0.6243063 ]\n",
      " [0.87877285 0.87220675 0.8664288  0.8660873  0.8460343 ]\n",
      " [0.8590394  0.81852    0.8137456  0.7989551  0.7517146 ]\n",
      " [0.9385084  0.9238536  0.9147873  0.9129464  0.9128064 ]\n",
      " [0.86378586 0.8298116  0.8146833  0.80633307 0.78924155]]\n"
     ]
    }
   ],
   "source": [
    "print(I_valid[:5]) # neighbors of the 5 first queries\n",
    "print(yq[:5].reshape((5,1)))\n",
    "print(D_valid[:5])"
   ]
  },
  {
   "cell_type": "code",
   "execution_count": 29,
   "metadata": {
    "ExecuteTime": {
     "end_time": "2019-09-13T21:58:16.785672Z",
     "start_time": "2019-09-13T21:58:16.780568Z"
    },
    "hidden": true
   },
   "outputs": [
    {
     "name": "stdout",
     "output_type": "stream",
     "text": [
      "[[ 103  728  474  728  728]\n",
      " [ 202  202  202  202  202]\n",
      " [ 824  824  824  824  824]\n",
      " [1045 1045 1045 1045  378]\n",
      " [ 680  882  882  882  882]]\n",
      "[[103]\n",
      " [202]\n",
      " [824]\n",
      " [328]\n",
      " [509]]\n",
      "[[0.798312   0.7754725  0.7355064  0.73252404 0.7319523 ]\n",
      " [0.9374063  0.92792326 0.92631704 0.9255649  0.91990906]\n",
      " [0.7210665  0.69770104 0.6966473  0.6922716  0.68993825]\n",
      " [0.73019606 0.700495   0.68478316 0.66379094 0.65677834]\n",
      " [0.6041517  0.5953274  0.5952405  0.57868755 0.5780088 ]]\n"
     ]
    }
   ],
   "source": [
    "print(I_valid[-5:]) # neighbors of the 5 last queries\n",
    "print(yq[-5:].reshape((5,1)))\n",
    "print(D_valid[-5:])"
   ]
  },
  {
   "cell_type": "code",
   "execution_count": 30,
   "metadata": {
    "ExecuteTime": {
     "end_time": "2019-09-13T21:58:17.421697Z",
     "start_time": "2019-09-13T21:58:17.418401Z"
    },
    "hidden": true
   },
   "outputs": [],
   "source": [
    "np.save('pred/preds_valid.npy', I_valid)"
   ]
  },
  {
   "cell_type": "markdown",
   "metadata": {
    "hidden": true
   },
   "source": [
    "### Valid accuracy"
   ]
  },
  {
   "cell_type": "code",
   "execution_count": 31,
   "metadata": {
    "ExecuteTime": {
     "end_time": "2019-09-13T21:58:18.769997Z",
     "start_time": "2019-09-13T21:58:18.765671Z"
    },
    "hidden": true
   },
   "outputs": [
    {
     "data": {
      "text/plain": [
       "array([ 352,  361,  810, ...,  824, 1045,  680])"
      ]
     },
     "execution_count": 31,
     "metadata": {},
     "output_type": "execute_result"
    }
   ],
   "source": [
    "I_valid[:,0]"
   ]
  },
  {
   "cell_type": "code",
   "execution_count": 32,
   "metadata": {
    "ExecuteTime": {
     "end_time": "2019-09-13T21:58:19.326374Z",
     "start_time": "2019-09-13T21:58:19.324115Z"
    },
    "hidden": true
   },
   "outputs": [
    {
     "data": {
      "text/plain": [
       "array([352, 361, 503, ..., 824, 328, 509])"
      ]
     },
     "execution_count": 32,
     "metadata": {},
     "output_type": "execute_result"
    }
   ],
   "source": [
    "yq"
   ]
  },
  {
   "cell_type": "code",
   "execution_count": 33,
   "metadata": {
    "ExecuteTime": {
     "end_time": "2019-09-13T21:58:19.902424Z",
     "start_time": "2019-09-13T21:58:19.899858Z"
    },
    "hidden": true
   },
   "outputs": [
    {
     "data": {
      "text/plain": [
       "5029"
      ]
     },
     "execution_count": 33,
     "metadata": {},
     "output_type": "execute_result"
    }
   ],
   "source": [
    "# Correct elements\n",
    "np.equal(I_valid[:,0], yq).sum()"
   ]
  },
  {
   "cell_type": "code",
   "execution_count": 34,
   "metadata": {
    "ExecuteTime": {
     "end_time": "2019-09-13T21:58:20.540536Z",
     "start_time": "2019-09-13T21:58:20.536324Z"
    },
    "hidden": true
   },
   "outputs": [
    {
     "data": {
      "text/plain": [
       "0.6499095373481519"
      ]
     },
     "execution_count": 34,
     "metadata": {},
     "output_type": "execute_result"
    }
   ],
   "source": [
    "# Accuracy\n",
    "np.equal(I_valid[:,0], yq).sum()/len(yq)"
   ]
  },
  {
   "cell_type": "code",
   "execution_count": 35,
   "metadata": {
    "ExecuteTime": {
     "end_time": "2019-09-13T21:58:21.857177Z",
     "start_time": "2019-09-13T21:58:21.852628Z"
    },
    "hidden": true
   },
   "outputs": [],
   "source": [
    "valid_correct = np.equal(I_valid[:,0], yq)"
   ]
  },
  {
   "cell_type": "code",
   "execution_count": 36,
   "metadata": {
    "ExecuteTime": {
     "end_time": "2019-09-13T21:58:22.454759Z",
     "start_time": "2019-09-13T21:58:22.452641Z"
    },
    "hidden": true
   },
   "outputs": [
    {
     "data": {
      "text/plain": [
       "array([ True,  True, False, ...,  True, False, False])"
      ]
     },
     "execution_count": 36,
     "metadata": {},
     "output_type": "execute_result"
    }
   ],
   "source": [
    "valid_correct"
   ]
  },
  {
   "cell_type": "code",
   "execution_count": 37,
   "metadata": {
    "ExecuteTime": {
     "end_time": "2019-09-13T21:58:22.959036Z",
     "start_time": "2019-09-13T21:58:22.954938Z"
    },
    "hidden": true
   },
   "outputs": [],
   "source": [
    "np.save('pred/preds_valid_correct.npy', valid_correct)"
   ]
  },
  {
   "cell_type": "markdown",
   "metadata": {
    "hidden": true
   },
   "source": [
    "### Valid confusion matrix"
   ]
  },
  {
   "cell_type": "code",
   "execution_count": 38,
   "metadata": {
    "ExecuteTime": {
     "end_time": "2019-09-13T21:58:26.319679Z",
     "start_time": "2019-09-13T21:58:26.308012Z"
    },
    "hidden": true
   },
   "outputs": [],
   "source": [
    "cm = confusion_matrix(I_valid[:,0], yq)"
   ]
  },
  {
   "cell_type": "code",
   "execution_count": 39,
   "metadata": {
    "ExecuteTime": {
     "end_time": "2019-09-13T21:58:27.586967Z",
     "start_time": "2019-09-13T21:58:26.931579Z"
    },
    "hidden": true,
    "scrolled": false
   },
   "outputs": [
    {
     "data": {
      "text/plain": [
       "<matplotlib.image.AxesImage at 0x7f5e75144860>"
      ]
     },
     "execution_count": 39,
     "metadata": {},
     "output_type": "execute_result"
    },
    {
     "data": {
      "image/png": "[encoded data removed]",
      "text/plain": [
       "<Figure size 1080x1080 with 1 Axes>"
      ]
     },
     "metadata": {
      "needs_background": "light"
     },
     "output_type": "display_data"
    }
   ],
   "source": [
    "fig, ax = plt.subplots(figsize=(15,15))\n",
    "ax.matshow(cm, cmap='hot')"
   ]
  },
  {
   "cell_type": "markdown",
   "metadata": {
    "heading_collapsed": true,
    "hidden": true
   },
   "source": [
    "#### Work in progress"
   ]
  },
  {
   "cell_type": "code",
   "execution_count": 41,
   "metadata": {
    "ExecuteTime": {
     "end_time": "2019-08-25T19:39:42.364623Z",
     "start_time": "2019-08-25T19:39:42.359993Z"
    },
    "hidden": true
   },
   "outputs": [
    {
     "data": {
      "text/plain": [
       "(1108, 1108)"
      ]
     },
     "execution_count": 41,
     "metadata": {},
     "output_type": "execute_result"
    }
   ],
   "source": [
    "cm.shape"
   ]
  },
  {
   "cell_type": "code",
   "execution_count": 42,
   "metadata": {
    "ExecuteTime": {
     "end_time": "2019-08-25T19:39:42.798777Z",
     "start_time": "2019-08-25T19:39:42.793301Z"
    },
    "hidden": true
   },
   "outputs": [
    {
     "data": {
      "text/plain": [
       "array([[ True, False, False, ..., False, False, False],\n",
       "       [False,  True, False, ..., False, False, False],\n",
       "       [False, False,  True, ..., False, False, False],\n",
       "       ...,\n",
       "       [False, False, False, ...,  True, False, False],\n",
       "       [False, False, False, ..., False,  True, False],\n",
       "       [False, False, False, ..., False, False,  True]])"
      ]
     },
     "execution_count": 42,
     "metadata": {},
     "output_type": "execute_result"
    }
   ],
   "source": [
    "np.eye(1108, dtype=bool)"
   ]
  },
  {
   "cell_type": "code",
   "execution_count": 43,
   "metadata": {
    "ExecuteTime": {
     "end_time": "2019-08-25T19:39:43.200724Z",
     "start_time": "2019-08-25T19:39:43.195043Z"
    },
    "hidden": true
   },
   "outputs": [
    {
     "data": {
      "text/plain": [
       "9690"
      ]
     },
     "execution_count": 43,
     "metadata": {},
     "output_type": "execute_result"
    }
   ],
   "source": [
    "cm[np.eye(1108, dtype=bool)].sum()"
   ]
  },
  {
   "cell_type": "code",
   "execution_count": 44,
   "metadata": {
    "ExecuteTime": {
     "end_time": "2019-08-25T19:39:43.598955Z",
     "start_time": "2019-08-25T19:39:43.590928Z"
    },
    "hidden": true
   },
   "outputs": [
    {
     "data": {
      "text/plain": [
       "5786"
      ]
     },
     "execution_count": 44,
     "metadata": {},
     "output_type": "execute_result"
    }
   ],
   "source": [
    "cm[~np.eye(1108, dtype=bool)].sum()"
   ]
  },
  {
   "cell_type": "code",
   "execution_count": 45,
   "metadata": {
    "ExecuteTime": {
     "end_time": "2019-08-25T19:39:44.004951Z",
     "start_time": "2019-08-25T19:39:43.996303Z"
    },
    "hidden": true
   },
   "outputs": [
    {
     "data": {
      "text/plain": [
       "0.6261307831481003"
      ]
     },
     "execution_count": 45,
     "metadata": {},
     "output_type": "execute_result"
    }
   ],
   "source": [
    "cm[np.eye(1108, dtype=bool)].sum()/(cm[~np.eye(1108, dtype=bool)].sum() + cm[np.eye(1108, dtype=bool)].sum())"
   ]
  },
  {
   "cell_type": "code",
   "execution_count": 46,
   "metadata": {
    "ExecuteTime": {
     "end_time": "2019-08-25T19:39:44.633835Z",
     "start_time": "2019-08-25T19:39:44.628083Z"
    },
    "hidden": true
   },
   "outputs": [
    {
     "data": {
      "text/plain": [
       "array([[False,  True,  True, ...,  True,  True,  True],\n",
       "       [ True, False,  True, ...,  True,  True,  True],\n",
       "       [ True,  True, False, ...,  True,  True,  True],\n",
       "       ...,\n",
       "       [ True,  True,  True, ..., False,  True,  True],\n",
       "       [ True,  True,  True, ...,  True, False,  True],\n",
       "       [ True,  True,  True, ...,  True,  True, False]])"
      ]
     },
     "execution_count": 46,
     "metadata": {},
     "output_type": "execute_result"
    }
   ],
   "source": [
    "~np.eye(1108, dtype=bool)"
   ]
  },
  {
   "cell_type": "code",
   "execution_count": 47,
   "metadata": {
    "ExecuteTime": {
     "end_time": "2019-07-26T04:09:40.311770Z",
     "start_time": "2019-07-26T04:09:40.305193Z"
    },
    "hidden": true
   },
   "outputs": [
    {
     "data": {
      "text/plain": [
       "array([0, 0, 0, ..., 0, 0, 0])"
      ]
     },
     "execution_count": 47,
     "metadata": {},
     "output_type": "execute_result"
    }
   ],
   "source": [
    "cm[~np.eye(1108, dtype=bool)]"
   ]
  },
  {
   "cell_type": "code",
   "execution_count": 48,
   "metadata": {
    "ExecuteTime": {
     "end_time": "2019-07-26T04:09:40.973188Z",
     "start_time": "2019-07-26T04:09:40.958109Z"
    },
    "hidden": true
   },
   "outputs": [
    {
     "data": {
      "text/plain": [
       "array([[-0.,  1.,  1., ...,  1.,  1.,  1.],\n",
       "       [ 1., -0.,  1., ...,  1.,  1.,  1.],\n",
       "       [ 1.,  1., -0., ...,  1.,  1.,  1.],\n",
       "       ...,\n",
       "       [ 1.,  1.,  1., ..., -0.,  1.,  1.],\n",
       "       [ 1.,  1.,  1., ...,  1., -0.,  1.],\n",
       "       [ 1.,  1.,  1., ...,  1.,  1., -0.]])"
      ]
     },
     "execution_count": 48,
     "metadata": {},
     "output_type": "execute_result"
    }
   ],
   "source": [
    "-(np.eye(1108)-1)"
   ]
  },
  {
   "cell_type": "code",
   "execution_count": 49,
   "metadata": {
    "ExecuteTime": {
     "end_time": "2019-07-26T04:09:41.568051Z",
     "start_time": "2019-07-26T04:09:41.557245Z"
    },
    "hidden": true
   },
   "outputs": [
    {
     "data": {
      "text/plain": [
       "array([[-0.,  0.,  0., ...,  0.,  0.,  0.],\n",
       "       [ 0., -0.,  0., ...,  0.,  0.,  0.],\n",
       "       [ 0.,  0., -0., ...,  0.,  0.,  0.],\n",
       "       ...,\n",
       "       [ 0.,  0.,  0., ..., -0.,  0.,  0.],\n",
       "       [ 0.,  0.,  0., ...,  0., -0.,  0.],\n",
       "       [ 0.,  0.,  0., ...,  0.,  0., -0.]])"
      ]
     },
     "execution_count": 49,
     "metadata": {},
     "output_type": "execute_result"
    }
   ],
   "source": [
    "cm * -(np.eye(1108)-1)"
   ]
  },
  {
   "cell_type": "code",
   "execution_count": 50,
   "metadata": {
    "ExecuteTime": {
     "end_time": "2019-07-26T04:09:43.899389Z",
     "start_time": "2019-07-26T04:09:43.891223Z"
    },
    "hidden": true
   },
   "outputs": [],
   "source": [
    "cm_wodia = (cm * -(np.eye(1108)-1))"
   ]
  },
  {
   "cell_type": "code",
   "execution_count": 51,
   "metadata": {
    "ExecuteTime": {
     "end_time": "2019-07-26T04:09:44.439218Z",
     "start_time": "2019-07-26T04:09:44.435213Z"
    },
    "hidden": true
   },
   "outputs": [
    {
     "data": {
      "text/plain": [
       "(1108, 1108)"
      ]
     },
     "execution_count": 51,
     "metadata": {},
     "output_type": "execute_result"
    }
   ],
   "source": [
    "cm_wodia.shape"
   ]
  },
  {
   "cell_type": "code",
   "execution_count": 52,
   "metadata": {
    "ExecuteTime": {
     "end_time": "2019-07-26T04:09:44.905147Z",
     "start_time": "2019-07-26T04:09:44.900327Z"
    },
    "hidden": true
   },
   "outputs": [
    {
     "data": {
      "text/plain": [
       "array([3., 5., 4., ..., 7., 6., 5.])"
      ]
     },
     "execution_count": 52,
     "metadata": {},
     "output_type": "execute_result"
    }
   ],
   "source": [
    "cm_wodia.sum(axis=0)"
   ]
  },
  {
   "cell_type": "code",
   "execution_count": 53,
   "metadata": {
    "ExecuteTime": {
     "end_time": "2019-07-26T04:09:45.317861Z",
     "start_time": "2019-07-26T04:09:45.313579Z"
    },
    "hidden": true
   },
   "outputs": [
    {
     "data": {
      "text/plain": [
       "array([ 9.,  6.,  1., ...,  3., 10.,  4.])"
      ]
     },
     "execution_count": 53,
     "metadata": {},
     "output_type": "execute_result"
    }
   ],
   "source": [
    "cm_wodia.sum(axis=1)"
   ]
  },
  {
   "cell_type": "code",
   "execution_count": null,
   "metadata": {
    "hidden": true
   },
   "outputs": [],
   "source": []
  },
  {
   "cell_type": "code",
   "execution_count": 73,
   "metadata": {
    "ExecuteTime": {
     "end_time": "2019-07-25T20:17:32.791852Z",
     "start_time": "2019-07-25T20:17:32.784165Z"
    },
    "code_folding": [
     1
    ],
    "hidden": true
   },
   "outputs": [],
   "source": [
    "# from https://scikit-learn.org/stable/auto_examples/model_selection/plot_confusion_matrix.html#sphx-glr-auto-examples-model-selection-plot-confusion-matrix-py\n",
    "#def plot_confusion_matrix(y_true, y_pred, classes,\n",
    "                          normalize=False,\n",
    "                          title=None,\n",
    "                          cmap=plt.cm.Blues):\n",
    "    \"\"\"\n",
    "    This function prints and plots the confusion matrix.\n",
    "    Normalization can be applied by setting `normalize=True`.\n",
    "    \"\"\"\n",
    "    if not title:\n",
    "        if normalize:\n",
    "            title = 'Normalized confusion matrix'\n",
    "        else:\n",
    "            title = 'Confusion matrix, without normalization'\n",
    "\n",
    "    # Compute confusion matrix\n",
    "    cm = confusion_matrix(y_true, y_pred)\n",
    "    # Only use the labels that appear in the data\n",
    "    classes = classes[unique_labels(y_true, y_pred)]\n",
    "    if normalize:\n",
    "        cm = cm.astype('float') / cm.sum(axis=1)[:, np.newaxis]\n",
    "        print(\"Normalized confusion matrix\")\n",
    "    else:\n",
    "        print('Confusion matrix, without normalization')\n",
    "\n",
    "    print(cm)\n",
    "\n",
    "    fig, ax = plt.subplots()\n",
    "    im = ax.imshow(cm, interpolation='nearest', cmap=cmap)\n",
    "    ax.figure.colorbar(im, ax=ax)\n",
    "    # We want to show all ticks...\n",
    "    ax.set(xticks=np.arange(cm.shape[1]),\n",
    "           yticks=np.arange(cm.shape[0]),\n",
    "           # ... and label them with the respective list entries\n",
    "           xticklabels=classes, yticklabels=classes,\n",
    "           title=title,\n",
    "           ylabel='True label',\n",
    "           xlabel='Predicted label')\n",
    "\n",
    "    # Rotate the tick labels and set their alignment.\n",
    "    plt.setp(ax.get_xticklabels(), rotation=45, ha=\"right\",\n",
    "             rotation_mode=\"anchor\")\n",
    "\n",
    "    # Loop over data dimensions and create text annotations.\n",
    "    fmt = '.2f' if normalize else 'd'\n",
    "    thresh = cm.max() / 2.\n",
    "    for i in range(cm.shape[0]):\n",
    "        for j in range(cm.shape[1]):\n",
    "            ax.text(j, i, format(cm[i, j], fmt),\n",
    "                    ha=\"center\", va=\"center\",\n",
    "                    color=\"white\" if cm[i, j] > thresh else \"black\")\n",
    "    fig.tight_layout()\n",
    "    return ax"
   ]
  },
  {
   "cell_type": "code",
   "execution_count": null,
   "metadata": {
    "ExecuteTime": {
     "end_time": "2019-07-25T20:18:51.239972Z",
     "start_time": "2019-07-25T20:18:06.234817Z"
    },
    "hidden": true
   },
   "outputs": [],
   "source": [
    "# Plot non-normalized confusion matrix\n",
    "plot_confusion_matrix(I_test[:,0], yq, classes=np.unique(yq),\n",
    "                      title='Confusion matrix, without normalization')\n",
    "plt.show()"
   ]
  },
  {
   "cell_type": "code",
   "execution_count": null,
   "metadata": {
    "ExecuteTime": {
     "end_time": "2019-07-25T20:17:56.789089Z",
     "start_time": "2019-07-25T20:17:35.927Z"
    },
    "hidden": true
   },
   "outputs": [],
   "source": [
    "# Plot normalized confusion matrix\n",
    "plot_confusion_matrix(I_test[:,0], yq, #classes=np.unique(yq), normalize=True,\n",
    "                      title='Normalized confusion matrix')\n",
    "plt.show()"
   ]
  },
  {
   "cell_type": "markdown",
   "metadata": {},
   "source": [
    "## Test dataset"
   ]
  },
  {
   "cell_type": "code",
   "execution_count": 19,
   "metadata": {
    "ExecuteTime": {
     "end_time": "2019-09-25T03:07:06.258569Z",
     "start_time": "2019-09-25T03:07:06.242578Z"
    }
   },
   "outputs": [],
   "source": [
    "xq_test = np.load('pred/feats_test.npy')"
   ]
  },
  {
   "cell_type": "code",
   "execution_count": 20,
   "metadata": {
    "ExecuteTime": {
     "end_time": "2019-09-25T03:07:06.546986Z",
     "start_time": "2019-09-25T03:07:06.536314Z"
    }
   },
   "outputs": [
    {
     "data": {
      "text/plain": [
       "229403.6"
      ]
     },
     "execution_count": 20,
     "metadata": {},
     "output_type": "execute_result"
    }
   ],
   "source": [
    "xq_test.max()"
   ]
  },
  {
   "cell_type": "code",
   "execution_count": 21,
   "metadata": {
    "ExecuteTime": {
     "end_time": "2019-09-25T03:07:07.224521Z",
     "start_time": "2019-09-25T03:07:07.216841Z"
    }
   },
   "outputs": [],
   "source": [
    "faiss.normalize_L2(xq_test)"
   ]
  },
  {
   "cell_type": "code",
   "execution_count": 22,
   "metadata": {
    "ExecuteTime": {
     "end_time": "2019-09-25T03:07:07.574978Z",
     "start_time": "2019-09-25T03:07:07.559596Z"
    }
   },
   "outputs": [
    {
     "data": {
      "text/plain": [
       "0.7747844"
      ]
     },
     "execution_count": 22,
     "metadata": {},
     "output_type": "execute_result"
    }
   ],
   "source": [
    "xq_test.max()"
   ]
  },
  {
   "cell_type": "code",
   "execution_count": 23,
   "metadata": {
    "ExecuteTime": {
     "end_time": "2019-09-25T03:07:09.095201Z",
     "start_time": "2019-09-25T03:07:08.934397Z"
    }
   },
   "outputs": [],
   "source": [
    "D_test, I_test = index.search(xq_test, k) # actual search"
   ]
  },
  {
   "cell_type": "code",
   "execution_count": 24,
   "metadata": {
    "ExecuteTime": {
     "end_time": "2019-09-25T03:07:09.255785Z",
     "start_time": "2019-09-25T03:07:09.252127Z"
    }
   },
   "outputs": [
    {
     "data": {
      "text/plain": [
       "((19897, 512), (19897, 5), (19897, 5))"
      ]
     },
     "execution_count": 24,
     "metadata": {},
     "output_type": "execute_result"
    }
   ],
   "source": [
    "xq_test.shape, I_test.shape, D_test.shape"
   ]
  },
  {
   "cell_type": "code",
   "execution_count": 25,
   "metadata": {
    "ExecuteTime": {
     "end_time": "2019-09-25T03:07:10.771694Z",
     "start_time": "2019-09-25T03:07:10.766966Z"
    }
   },
   "outputs": [
    {
     "name": "stdout",
     "output_type": "stream",
     "text": [
      "[[ 855  110  110  110  591]\n",
      " [ 104 1095  458 1061 1095]\n",
      " [ 832  794  935  288  574]\n",
      " [ 855  455   17   17  855]\n",
      " [ 645 1095  297  104  602]]\n",
      "[[0.9028249  0.8322381  0.82952213 0.81576633 0.81137717]\n",
      " [0.8871302  0.8529123  0.8336724  0.82957107 0.8249299 ]\n",
      " [0.8585765  0.8550389  0.84294164 0.8327428  0.8309396 ]\n",
      " [0.6785813  0.66819894 0.66583455 0.64398646 0.6436701 ]\n",
      " [0.8625626  0.8601617  0.8559202  0.85454786 0.8522544 ]]\n"
     ]
    }
   ],
   "source": [
    "print(I_test[:5]) # neighbors of the 5 first queries\n",
    "print(D_test[:5])"
   ]
  },
  {
   "cell_type": "code",
   "execution_count": 26,
   "metadata": {
    "ExecuteTime": {
     "end_time": "2019-09-25T03:07:12.812557Z",
     "start_time": "2019-09-25T03:07:12.807572Z"
    }
   },
   "outputs": [
    {
     "name": "stdout",
     "output_type": "stream",
     "text": [
      "[[ 490  338  250  338  338]\n",
      " [  49  990 1085  937 1091]\n",
      " [ 380  382  926 1087  947]\n",
      " [ 963  504  135  490  490]\n",
      " [ 490  338  338  338  338]]\n",
      "[[0.78148973 0.7752568  0.76782304 0.74911094 0.7409553 ]\n",
      " [0.83846027 0.80423504 0.7902498  0.7882857  0.7822853 ]\n",
      " [0.83882225 0.8371389  0.82463336 0.82378405 0.8138429 ]\n",
      " [0.9462569  0.92662704 0.92316365 0.91902673 0.91883147]\n",
      " [0.8078413  0.7674887  0.7501066  0.74634564 0.7446472 ]]\n"
     ]
    }
   ],
   "source": [
    "print(I_test[-5:]) # neighbors of the 5 last queries\n",
    "print(D_test[-5:])"
   ]
  },
  {
   "cell_type": "code",
   "execution_count": 27,
   "metadata": {
    "ExecuteTime": {
     "end_time": "2019-09-25T03:07:14.339117Z",
     "start_time": "2019-09-25T03:07:14.334102Z"
    }
   },
   "outputs": [
    {
     "data": {
      "text/plain": [
       "array([832, 794, 935, 288, 574])"
      ]
     },
     "execution_count": 27,
     "metadata": {},
     "output_type": "execute_result"
    }
   ],
   "source": [
    "I_test[2]"
   ]
  },
  {
   "cell_type": "code",
   "execution_count": 28,
   "metadata": {
    "ExecuteTime": {
     "end_time": "2019-09-25T03:07:15.005242Z",
     "start_time": "2019-09-25T03:07:14.994856Z"
    }
   },
   "outputs": [
    {
     "data": {
      "text/plain": [
       "(array([288, 574, 794, 832, 935]), array([1, 1, 1, 1, 1]))"
      ]
     },
     "execution_count": 28,
     "metadata": {},
     "output_type": "execute_result"
    }
   ],
   "source": [
    "np.unique(I_test[2], return_counts=True)"
   ]
  },
  {
   "cell_type": "code",
   "execution_count": 29,
   "metadata": {
    "ExecuteTime": {
     "end_time": "2019-09-25T03:07:16.821688Z",
     "start_time": "2019-09-25T03:07:16.817032Z"
    }
   },
   "outputs": [],
   "source": [
    "preds_test = I_test[:,0]\n",
    "dist_test = D_test[:,0]"
   ]
  },
  {
   "cell_type": "code",
   "execution_count": 30,
   "metadata": {
    "ExecuteTime": {
     "end_time": "2019-09-25T03:07:17.183647Z",
     "start_time": "2019-09-25T03:07:17.172601Z"
    }
   },
   "outputs": [],
   "source": [
    "np.save('pred/preds_test.npy', preds_test)\n",
    "np.save('pred/dist_test.npy', dist_test)"
   ]
  },
  {
   "cell_type": "markdown",
   "metadata": {
    "heading_collapsed": true
   },
   "source": [
    "#### Get mode or most similiar if mode is 1"
   ]
  },
  {
   "cell_type": "markdown",
   "metadata": {
    "hidden": true
   },
   "source": [
    "https://docs.scipy.org/doc/scipy/reference/generated/scipy.stats.mode.html#scipy.stats.mode"
   ]
  },
  {
   "cell_type": "markdown",
   "metadata": {
    "ExecuteTime": {
     "end_time": "2019-07-28T16:42:09.215785Z",
     "start_time": "2019-07-28T16:42:09.211341Z"
    },
    "hidden": true
   },
   "source": [
    "**This seems to not increase the accuracy !!!**"
   ]
  },
  {
   "cell_type": "code",
   "execution_count": 27,
   "metadata": {
    "ExecuteTime": {
     "end_time": "2019-07-28T16:08:02.093523Z",
     "start_time": "2019-07-28T16:08:02.091682Z"
    },
    "hidden": true
   },
   "outputs": [],
   "source": [
    "from scipy import stats"
   ]
  },
  {
   "cell_type": "code",
   "execution_count": 28,
   "metadata": {
    "ExecuteTime": {
     "end_time": "2019-07-28T16:08:03.174498Z",
     "start_time": "2019-07-28T16:08:02.539011Z"
    },
    "hidden": true
   },
   "outputs": [],
   "source": [
    "# get mode and mode count\n",
    "I_test_mode = stats.mode(I_test, axis=1)"
   ]
  },
  {
   "cell_type": "code",
   "execution_count": 29,
   "metadata": {
    "ExecuteTime": {
     "end_time": "2019-07-28T16:08:03.181148Z",
     "start_time": "2019-07-28T16:08:03.175746Z"
    },
    "hidden": true
   },
   "outputs": [
    {
     "data": {
      "text/plain": [
       "((39794, 5), (39794, 1))"
      ]
     },
     "execution_count": 29,
     "metadata": {},
     "output_type": "execute_result"
    }
   ],
   "source": [
    "I_test.shape, I_test_mode[0].shape"
   ]
  },
  {
   "cell_type": "code",
   "execution_count": 30,
   "metadata": {
    "ExecuteTime": {
     "end_time": "2019-07-28T16:08:04.955615Z",
     "start_time": "2019-07-28T16:08:04.952697Z"
    },
    "hidden": true
   },
   "outputs": [
    {
     "data": {
      "text/plain": [
       "array([[ 591,  591,  587,  591,  855],\n",
       "       [ 736,  770,  387,  728,  933],\n",
       "       [ 179,  576,  191,  451, 1076],\n",
       "       [ 908,  908,  609,  256,  892],\n",
       "       [ 775,  445,  970,  387,  307]])"
      ]
     },
     "execution_count": 30,
     "metadata": {},
     "output_type": "execute_result"
    }
   ],
   "source": [
    "I_test[:5]"
   ]
  },
  {
   "cell_type": "code",
   "execution_count": 31,
   "metadata": {
    "ExecuteTime": {
     "end_time": "2019-07-28T16:08:06.417991Z",
     "start_time": "2019-07-28T16:08:06.415672Z"
    },
    "hidden": true
   },
   "outputs": [
    {
     "data": {
      "text/plain": [
       "array([[591],\n",
       "       [387],\n",
       "       [179],\n",
       "       [908],\n",
       "       [307]])"
      ]
     },
     "execution_count": 31,
     "metadata": {},
     "output_type": "execute_result"
    }
   ],
   "source": [
    "I_test_mode[0][:5]"
   ]
  },
  {
   "cell_type": "code",
   "execution_count": 32,
   "metadata": {
    "ExecuteTime": {
     "end_time": "2019-07-28T16:08:06.989601Z",
     "start_time": "2019-07-28T16:08:06.984030Z"
    },
    "hidden": true
   },
   "outputs": [
    {
     "data": {
      "text/plain": [
       "array([[3],\n",
       "       [1],\n",
       "       [1],\n",
       "       [2],\n",
       "       [1]])"
      ]
     },
     "execution_count": 32,
     "metadata": {},
     "output_type": "execute_result"
    }
   ],
   "source": [
    "I_test_mode[1][:5]"
   ]
  },
  {
   "cell_type": "code",
   "execution_count": 33,
   "metadata": {
    "ExecuteTime": {
     "end_time": "2019-07-28T16:08:10.941609Z",
     "start_time": "2019-07-28T16:08:10.939172Z"
    },
    "hidden": true
   },
   "outputs": [
    {
     "data": {
      "text/plain": [
       "array([[False],\n",
       "       [ True],\n",
       "       [ True],\n",
       "       ...,\n",
       "       [False],\n",
       "       [False],\n",
       "       [False]])"
      ]
     },
     "execution_count": 33,
     "metadata": {},
     "output_type": "execute_result"
    }
   ],
   "source": [
    "I_test_mode[1] == 1"
   ]
  },
  {
   "cell_type": "code",
   "execution_count": 34,
   "metadata": {
    "ExecuteTime": {
     "end_time": "2019-07-28T16:08:11.560718Z",
     "start_time": "2019-07-28T16:08:11.557782Z"
    },
    "hidden": true
   },
   "outputs": [],
   "source": [
    "mode_mask = (~(I_test_mode[1] == 1)).astype('float')\n",
    "similar_mask = (I_test_mode[1] == 1).astype('float')"
   ]
  },
  {
   "cell_type": "code",
   "execution_count": 35,
   "metadata": {
    "ExecuteTime": {
     "end_time": "2019-07-28T16:08:13.490307Z",
     "start_time": "2019-07-28T16:08:13.487992Z"
    },
    "hidden": true
   },
   "outputs": [
    {
     "data": {
      "text/plain": [
       "array([[1.],\n",
       "       [0.],\n",
       "       [0.],\n",
       "       [1.],\n",
       "       [0.]])"
      ]
     },
     "execution_count": 35,
     "metadata": {},
     "output_type": "execute_result"
    }
   ],
   "source": [
    "mode_mask[:5]"
   ]
  },
  {
   "cell_type": "code",
   "execution_count": 36,
   "metadata": {
    "ExecuteTime": {
     "end_time": "2019-07-28T16:08:14.051511Z",
     "start_time": "2019-07-28T16:08:14.049005Z"
    },
    "hidden": true
   },
   "outputs": [
    {
     "data": {
      "text/plain": [
       "array([[0.],\n",
       "       [1.],\n",
       "       [1.],\n",
       "       [0.],\n",
       "       [1.]])"
      ]
     },
     "execution_count": 36,
     "metadata": {},
     "output_type": "execute_result"
    }
   ],
   "source": [
    "similar_mask[:5]"
   ]
  },
  {
   "cell_type": "code",
   "execution_count": 37,
   "metadata": {
    "ExecuteTime": {
     "end_time": "2019-07-28T16:08:15.635059Z",
     "start_time": "2019-07-28T16:08:15.630263Z"
    },
    "hidden": true
   },
   "outputs": [
    {
     "data": {
      "text/plain": [
       "array([ 591,  736,  179, ...,  108, 1074,  316])"
      ]
     },
     "execution_count": 37,
     "metadata": {},
     "output_type": "execute_result"
    }
   ],
   "source": [
    "I_test[:,0]"
   ]
  },
  {
   "cell_type": "code",
   "execution_count": 38,
   "metadata": {
    "ExecuteTime": {
     "end_time": "2019-07-28T16:08:19.689580Z",
     "start_time": "2019-07-28T16:08:19.686965Z"
    },
    "hidden": true
   },
   "outputs": [
    {
     "data": {
      "text/plain": [
       "(39794, 1)"
      ]
     },
     "execution_count": 38,
     "metadata": {},
     "output_type": "execute_result"
    }
   ],
   "source": [
    "similar_mask.shape"
   ]
  },
  {
   "cell_type": "code",
   "execution_count": 39,
   "metadata": {
    "ExecuteTime": {
     "end_time": "2019-07-28T16:08:20.307955Z",
     "start_time": "2019-07-28T16:08:20.304258Z"
    },
    "hidden": true
   },
   "outputs": [
    {
     "data": {
      "text/plain": [
       "((39794,), (39794, 1))"
      ]
     },
     "execution_count": 39,
     "metadata": {},
     "output_type": "execute_result"
    }
   ],
   "source": [
    "I_test[:,0].shape, similar_mask.shape"
   ]
  },
  {
   "cell_type": "code",
   "execution_count": 40,
   "metadata": {
    "ExecuteTime": {
     "end_time": "2019-07-28T16:08:22.873054Z",
     "start_time": "2019-07-28T16:08:22.867903Z"
    },
    "hidden": true
   },
   "outputs": [
    {
     "data": {
      "text/plain": [
       "(39794, 1)"
      ]
     },
     "execution_count": 40,
     "metadata": {},
     "output_type": "execute_result"
    }
   ],
   "source": [
    "I_test[:,0].reshape((-1,1)).shape"
   ]
  },
  {
   "cell_type": "code",
   "execution_count": 41,
   "metadata": {
    "ExecuteTime": {
     "end_time": "2019-07-28T16:08:24.887683Z",
     "start_time": "2019-07-28T16:08:24.885449Z"
    },
    "hidden": true
   },
   "outputs": [],
   "source": [
    "I_most_similar = np.multiply(I_test[:,0].reshape((-1,1)),similar_mask)"
   ]
  },
  {
   "cell_type": "code",
   "execution_count": 42,
   "metadata": {
    "ExecuteTime": {
     "end_time": "2019-07-28T16:08:25.420116Z",
     "start_time": "2019-07-28T16:08:25.415759Z"
    },
    "hidden": true
   },
   "outputs": [
    {
     "data": {
      "text/plain": [
       "array([[  0.],\n",
       "       [736.],\n",
       "       [179.],\n",
       "       [  0.],\n",
       "       [775.]])"
      ]
     },
     "execution_count": 42,
     "metadata": {},
     "output_type": "execute_result"
    }
   ],
   "source": [
    "I_most_similar[:5]"
   ]
  },
  {
   "cell_type": "code",
   "execution_count": 43,
   "metadata": {
    "ExecuteTime": {
     "end_time": "2019-07-28T16:08:27.081808Z",
     "start_time": "2019-07-28T16:08:27.078213Z"
    },
    "hidden": true
   },
   "outputs": [],
   "source": [
    "I_higher_mode = np.multiply(I_test_mode[0],mode_mask)"
   ]
  },
  {
   "cell_type": "code",
   "execution_count": 44,
   "metadata": {
    "ExecuteTime": {
     "end_time": "2019-07-28T16:08:27.450105Z",
     "start_time": "2019-07-28T16:08:27.447168Z"
    },
    "hidden": true
   },
   "outputs": [
    {
     "data": {
      "text/plain": [
       "array([[591.],\n",
       "       [  0.],\n",
       "       [  0.],\n",
       "       [908.],\n",
       "       [  0.]])"
      ]
     },
     "execution_count": 44,
     "metadata": {},
     "output_type": "execute_result"
    }
   ],
   "source": [
    "I_higher_mode[:5]"
   ]
  },
  {
   "cell_type": "code",
   "execution_count": 45,
   "metadata": {
    "ExecuteTime": {
     "end_time": "2019-07-28T16:08:28.128418Z",
     "start_time": "2019-07-28T16:08:28.126731Z"
    },
    "hidden": true
   },
   "outputs": [],
   "source": [
    "preds_similar_mode = I_most_similar + I_higher_mode"
   ]
  },
  {
   "cell_type": "code",
   "execution_count": 46,
   "metadata": {
    "ExecuteTime": {
     "end_time": "2019-07-28T16:08:29.825259Z",
     "start_time": "2019-07-28T16:08:29.820603Z"
    },
    "hidden": true
   },
   "outputs": [
    {
     "data": {
      "text/plain": [
       "array([[591.],\n",
       "       [736.],\n",
       "       [179.],\n",
       "       [908.],\n",
       "       [775.]])"
      ]
     },
     "execution_count": 46,
     "metadata": {},
     "output_type": "execute_result"
    }
   ],
   "source": [
    "preds_similar_mode[:5]"
   ]
  },
  {
   "cell_type": "code",
   "execution_count": 51,
   "metadata": {
    "ExecuteTime": {
     "end_time": "2019-07-28T16:19:46.018057Z",
     "start_time": "2019-07-28T16:19:46.014253Z"
    },
    "hidden": true
   },
   "outputs": [],
   "source": [
    "np.save('pred/preds_test_similar_mask', similar_mask)\n",
    "np.save('pred/preds_test_mode_mask', mode_mask)\n",
    "np.save('pred/preds_test_similar_mode', preds_similar_mode)"
   ]
  },
  {
   "cell_type": "code",
   "execution_count": null,
   "metadata": {
    "hidden": true
   },
   "outputs": [],
   "source": []
  }
 ],
 "metadata": {
  "kernelspec": {
   "display_name": "faiss",
   "language": "python",
   "name": "faiss"
  },
  "language_info": {
   "codemirror_mode": {
    "name": "ipython",
    "version": 3
   },
   "file_extension": ".py",
   "mimetype": "text/x-python",
   "name": "python",
   "nbconvert_exporter": "python",
   "pygments_lexer": "ipython3",
   "version": "3.7.3"
  },
  "toc": {
   "base_numbering": 1,
   "nav_menu": {},
   "number_sections": true,
   "sideBar": true,
   "skip_h1_title": false,
   "title_cell": "Table of Contents",
   "title_sidebar": "Contents",
   "toc_cell": false,
   "toc_position": {},
   "toc_section_display": true,
   "toc_window_display": true
  }
 },
 "nbformat": 4,
 "nbformat_minor": 2
}
