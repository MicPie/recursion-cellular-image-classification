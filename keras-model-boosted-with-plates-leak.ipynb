{
 "cells": [
  {
   "cell_type": "markdown",
   "metadata": {},
   "source": [
    "As reported by Recursion [in this post](https://www.kaggle.com/c/recursion-cellular-image-classification/discussion/102905), there is a special structure in the data which simplifies predictions significantly.\n",
    "\n",
    "Assignments of sirnas to plates is not completely random in this competition. In this kernel, first I show it on the train data, and then apply the leak [on the pretrained Keras model](https://www.kaggle.com/chandyalex/recursion-cellular-keras-densenet) (kudos to [Alex](https://www.kaggle.com/chandyalex)) with LB 0.113 to get score 0.207. Same model which uses 2 sites for inference gets LB score 0.231 (the original model uses only one site but I just can't hold myself on that). "
   ]
  },
  {
   "cell_type": "code",
   "execution_count": 3,
   "metadata": {
    "ExecuteTime": {
     "end_time": "2019-08-12T17:20:35.879387Z",
     "start_time": "2019-08-12T17:20:35.876617Z"
    },
    "_cell_guid": "b1076dfc-b9ad-4769-8c92-a6c4dae69d19",
    "_uuid": "8f2839f25d086af736a60e9eeb907d3b93b6e0e5"
   },
   "outputs": [],
   "source": [
    "import numpy as np\n",
    "import pandas as pd\n",
    "import os\n",
    "\n",
    "from tqdm import tqdm\n",
    "import PIL\n",
    "#import cv2\n",
    "from PIL import Image, ImageOps\n",
    "\n",
    "#from keras.models import Sequential, load_model\n",
    "#from keras.layers import (Activation, Dropout, Flatten, Dense, Input, Conv2D, GlobalAveragePooling2D)\n",
    "#from keras.applications.densenet import DenseNet121\n",
    "#import keras\n",
    "#from keras.models import Model\n",
    "\n",
    "SIZE = 224\n",
    "NUM_CLASSES = 1108"
   ]
  },
  {
   "cell_type": "code",
   "execution_count": 4,
   "metadata": {
    "ExecuteTime": {
     "end_time": "2019-08-12T17:20:48.459171Z",
     "start_time": "2019-08-12T17:20:48.412246Z"
    },
    "_cell_guid": "b1076dfc-b9ad-4769-8c92-a6c4dae69d19",
    "_uuid": "8f2839f25d086af736a60e9eeb907d3b93b6e0e5"
   },
   "outputs": [],
   "source": [
    "train_csv = pd.read_csv(\"train.csv\")\n",
    "test_csv = pd.read_csv(\"test.csv\")"
   ]
  },
  {
   "cell_type": "code",
   "execution_count": 7,
   "metadata": {
    "ExecuteTime": {
     "end_time": "2019-08-12T17:21:31.105867Z",
     "start_time": "2019-08-12T17:21:31.096909Z"
    }
   },
   "outputs": [
    {
     "data": {
      "text/html": [
       "<div>\n",
       "<style scoped>\n",
       "    .dataframe tbody tr th:only-of-type {\n",
       "        vertical-align: middle;\n",
       "    }\n",
       "\n",
       "    .dataframe tbody tr th {\n",
       "        vertical-align: top;\n",
       "    }\n",
       "\n",
       "    .dataframe thead th {\n",
       "        text-align: right;\n",
       "    }\n",
       "</style>\n",
       "<table border=\"1\" class=\"dataframe\">\n",
       "  <thead>\n",
       "    <tr style=\"text-align: right;\">\n",
       "      <th></th>\n",
       "      <th>id_code</th>\n",
       "      <th>experiment</th>\n",
       "      <th>plate</th>\n",
       "      <th>well</th>\n",
       "      <th>sirna</th>\n",
       "    </tr>\n",
       "  </thead>\n",
       "  <tbody>\n",
       "    <tr>\n",
       "      <th>0</th>\n",
       "      <td>HEPG2-01_1_B03</td>\n",
       "      <td>HEPG2-01</td>\n",
       "      <td>1</td>\n",
       "      <td>B03</td>\n",
       "      <td>513</td>\n",
       "    </tr>\n",
       "    <tr>\n",
       "      <th>1</th>\n",
       "      <td>HEPG2-01_1_B04</td>\n",
       "      <td>HEPG2-01</td>\n",
       "      <td>1</td>\n",
       "      <td>B04</td>\n",
       "      <td>840</td>\n",
       "    </tr>\n",
       "    <tr>\n",
       "      <th>2</th>\n",
       "      <td>HEPG2-01_1_B05</td>\n",
       "      <td>HEPG2-01</td>\n",
       "      <td>1</td>\n",
       "      <td>B05</td>\n",
       "      <td>1020</td>\n",
       "    </tr>\n",
       "    <tr>\n",
       "      <th>3</th>\n",
       "      <td>HEPG2-01_1_B06</td>\n",
       "      <td>HEPG2-01</td>\n",
       "      <td>1</td>\n",
       "      <td>B06</td>\n",
       "      <td>254</td>\n",
       "    </tr>\n",
       "    <tr>\n",
       "      <th>4</th>\n",
       "      <td>HEPG2-01_1_B07</td>\n",
       "      <td>HEPG2-01</td>\n",
       "      <td>1</td>\n",
       "      <td>B07</td>\n",
       "      <td>144</td>\n",
       "    </tr>\n",
       "  </tbody>\n",
       "</table>\n",
       "</div>"
      ],
      "text/plain": [
       "          id_code experiment  plate well  sirna\n",
       "0  HEPG2-01_1_B03   HEPG2-01      1  B03    513\n",
       "1  HEPG2-01_1_B04   HEPG2-01      1  B04    840\n",
       "2  HEPG2-01_1_B05   HEPG2-01      1  B05   1020\n",
       "3  HEPG2-01_1_B06   HEPG2-01      1  B06    254\n",
       "4  HEPG2-01_1_B07   HEPG2-01      1  B07    144"
      ]
     },
     "execution_count": 7,
     "metadata": {},
     "output_type": "execute_result"
    }
   ],
   "source": [
    "train_csv.head()"
   ]
  },
  {
   "cell_type": "code",
   "execution_count": 8,
   "metadata": {
    "ExecuteTime": {
     "end_time": "2019-08-12T17:21:37.097493Z",
     "start_time": "2019-08-12T17:21:37.089897Z"
    }
   },
   "outputs": [
    {
     "data": {
      "text/html": [
       "<div>\n",
       "<style scoped>\n",
       "    .dataframe tbody tr th:only-of-type {\n",
       "        vertical-align: middle;\n",
       "    }\n",
       "\n",
       "    .dataframe tbody tr th {\n",
       "        vertical-align: top;\n",
       "    }\n",
       "\n",
       "    .dataframe thead th {\n",
       "        text-align: right;\n",
       "    }\n",
       "</style>\n",
       "<table border=\"1\" class=\"dataframe\">\n",
       "  <thead>\n",
       "    <tr style=\"text-align: right;\">\n",
       "      <th></th>\n",
       "      <th>id_code</th>\n",
       "      <th>experiment</th>\n",
       "      <th>plate</th>\n",
       "      <th>well</th>\n",
       "    </tr>\n",
       "  </thead>\n",
       "  <tbody>\n",
       "    <tr>\n",
       "      <th>0</th>\n",
       "      <td>HEPG2-08_1_B03</td>\n",
       "      <td>HEPG2-08</td>\n",
       "      <td>1</td>\n",
       "      <td>B03</td>\n",
       "    </tr>\n",
       "    <tr>\n",
       "      <th>1</th>\n",
       "      <td>HEPG2-08_1_B04</td>\n",
       "      <td>HEPG2-08</td>\n",
       "      <td>1</td>\n",
       "      <td>B04</td>\n",
       "    </tr>\n",
       "    <tr>\n",
       "      <th>2</th>\n",
       "      <td>HEPG2-08_1_B05</td>\n",
       "      <td>HEPG2-08</td>\n",
       "      <td>1</td>\n",
       "      <td>B05</td>\n",
       "    </tr>\n",
       "    <tr>\n",
       "      <th>3</th>\n",
       "      <td>HEPG2-08_1_B06</td>\n",
       "      <td>HEPG2-08</td>\n",
       "      <td>1</td>\n",
       "      <td>B06</td>\n",
       "    </tr>\n",
       "    <tr>\n",
       "      <th>4</th>\n",
       "      <td>HEPG2-08_1_B07</td>\n",
       "      <td>HEPG2-08</td>\n",
       "      <td>1</td>\n",
       "      <td>B07</td>\n",
       "    </tr>\n",
       "  </tbody>\n",
       "</table>\n",
       "</div>"
      ],
      "text/plain": [
       "          id_code experiment  plate well\n",
       "0  HEPG2-08_1_B03   HEPG2-08      1  B03\n",
       "1  HEPG2-08_1_B04   HEPG2-08      1  B04\n",
       "2  HEPG2-08_1_B05   HEPG2-08      1  B05\n",
       "3  HEPG2-08_1_B06   HEPG2-08      1  B06\n",
       "4  HEPG2-08_1_B07   HEPG2-08      1  B07"
      ]
     },
     "execution_count": 8,
     "metadata": {},
     "output_type": "execute_result"
    }
   ],
   "source": [
    "test_csv.head()"
   ]
  },
  {
   "cell_type": "code",
   "execution_count": 5,
   "metadata": {
    "ExecuteTime": {
     "end_time": "2019-08-12T17:21:17.859918Z",
     "start_time": "2019-08-12T17:21:17.847138Z"
    },
    "_cell_guid": "b1076dfc-b9ad-4769-8c92-a6c4dae69d19",
    "_uuid": "8f2839f25d086af736a60e9eeb907d3b93b6e0e5"
   },
   "outputs": [],
   "source": [
    "sub = pd.read_csv(\"sub/metriclearn_efficientnet_b3_e080CM112_190805_cossim.csv.gz\")"
   ]
  },
  {
   "cell_type": "code",
   "execution_count": 6,
   "metadata": {
    "ExecuteTime": {
     "end_time": "2019-08-12T17:21:22.943983Z",
     "start_time": "2019-08-12T17:21:22.930870Z"
    }
   },
   "outputs": [
    {
     "data": {
      "text/html": [
       "<div>\n",
       "<style scoped>\n",
       "    .dataframe tbody tr th:only-of-type {\n",
       "        vertical-align: middle;\n",
       "    }\n",
       "\n",
       "    .dataframe tbody tr th {\n",
       "        vertical-align: top;\n",
       "    }\n",
       "\n",
       "    .dataframe thead th {\n",
       "        text-align: right;\n",
       "    }\n",
       "</style>\n",
       "<table border=\"1\" class=\"dataframe\">\n",
       "  <thead>\n",
       "    <tr style=\"text-align: right;\">\n",
       "      <th></th>\n",
       "      <th>id_code</th>\n",
       "      <th>sirna</th>\n",
       "    </tr>\n",
       "  </thead>\n",
       "  <tbody>\n",
       "    <tr>\n",
       "      <th>0</th>\n",
       "      <td>HEPG2-08_1_B03</td>\n",
       "      <td>381</td>\n",
       "    </tr>\n",
       "    <tr>\n",
       "      <th>1</th>\n",
       "      <td>HEPG2-08_1_B04</td>\n",
       "      <td>309</td>\n",
       "    </tr>\n",
       "    <tr>\n",
       "      <th>2</th>\n",
       "      <td>HEPG2-08_1_B05</td>\n",
       "      <td>277</td>\n",
       "    </tr>\n",
       "    <tr>\n",
       "      <th>3</th>\n",
       "      <td>HEPG2-08_1_B06</td>\n",
       "      <td>640</td>\n",
       "    </tr>\n",
       "    <tr>\n",
       "      <th>4</th>\n",
       "      <td>HEPG2-08_1_B07</td>\n",
       "      <td>585</td>\n",
       "    </tr>\n",
       "  </tbody>\n",
       "</table>\n",
       "</div>"
      ],
      "text/plain": [
       "          id_code  sirna\n",
       "0  HEPG2-08_1_B03    381\n",
       "1  HEPG2-08_1_B04    309\n",
       "2  HEPG2-08_1_B05    277\n",
       "3  HEPG2-08_1_B06    640\n",
       "4  HEPG2-08_1_B07    585"
      ]
     },
     "execution_count": 6,
     "metadata": {},
     "output_type": "execute_result"
    }
   ],
   "source": [
    "sub.head()"
   ]
  },
  {
   "cell_type": "markdown",
   "metadata": {},
   "source": [
    "# Train data"
   ]
  },
  {
   "cell_type": "markdown",
   "metadata": {},
   "source": [
    "Look at the first 10 sirnas plates assignments across the train set. One can observe that two sirnas that are on the same plate in the first experiment stay on the same plate for all experiments. Moreover, there are only 3 unique rows. "
   ]
  },
  {
   "cell_type": "code",
   "execution_count": 15,
   "metadata": {
    "ExecuteTime": {
     "end_time": "2019-08-12T17:22:37.654407Z",
     "start_time": "2019-08-12T17:22:37.651646Z"
    }
   },
   "outputs": [
    {
     "data": {
      "text/plain": [
       "1107"
      ]
     },
     "execution_count": 15,
     "metadata": {},
     "output_type": "execute_result"
    }
   ],
   "source": [
    "train_csv.sirna.max()"
   ]
  },
  {
   "cell_type": "code",
   "execution_count": 13,
   "metadata": {
    "ExecuteTime": {
     "end_time": "2019-08-12T17:22:21.823578Z",
     "start_time": "2019-08-12T17:22:21.819886Z"
    }
   },
   "outputs": [
    {
     "data": {
      "text/plain": [
       "array([1, 1, 1, ..., 4, 4, 4])"
      ]
     },
     "execution_count": 13,
     "metadata": {},
     "output_type": "execute_result"
    }
   ],
   "source": [
    "train_csv.plate.values"
   ]
  },
  {
   "cell_type": "code",
   "execution_count": 10,
   "metadata": {
    "ExecuteTime": {
     "end_time": "2019-08-12T17:21:43.919888Z",
     "start_time": "2019-08-12T17:21:43.913319Z"
    }
   },
   "outputs": [
    {
     "data": {
      "text/plain": [
       "array([[4, 1, 2, 1, 3, 1, 1, 2, 1, 4],\n",
       "       [4, 1, 2, 1, 3, 1, 1, 2, 1, 4],\n",
       "       [4, 1, 2, 1, 3, 1, 1, 2, 1, 4],\n",
       "       [4, 1, 2, 1, 3, 1, 1, 2, 1, 4],\n",
       "       [2, 3, 4, 3, 1, 3, 3, 4, 3, 2],\n",
       "       [4, 1, 2, 1, 3, 1, 1, 2, 1, 4],\n",
       "       [4, 1, 2, 1, 3, 1, 1, 2, 1, 4],\n",
       "       [4, 1, 2, 1, 3, 1, 1, 2, 1, 4],\n",
       "       [4, 1, 2, 1, 3, 1, 1, 2, 1, 4],\n",
       "       [4, 1, 2, 1, 3, 1, 1, 2, 1, 4],\n",
       "       [4, 1, 2, 1, 3, 1, 1, 2, 1, 4],\n",
       "       [4, 1, 2, 1, 3, 1, 1, 2, 1, 4],\n",
       "       [4, 1, 2, 1, 3, 1, 1, 2, 1, 4],\n",
       "       [2, 3, 4, 3, 1, 3, 3, 4, 3, 2],\n",
       "       [4, 1, 2, 1, 3, 1, 1, 2, 1, 4],\n",
       "       [3, 4, 1, 4, 2, 4, 4, 1, 4, 3],\n",
       "       [3, 4, 1, 4, 2, 4, 4, 1, 4, 3],\n",
       "       [2, 3, 4, 3, 1, 3, 3, 4, 3, 2],\n",
       "       [4, 1, 2, 1, 3, 1, 1, 2, 1, 4],\n",
       "       [2, 3, 4, 3, 1, 3, 3, 4, 3, 2],\n",
       "       [2, 3, 4, 3, 1, 3, 3, 4, 3, 2],\n",
       "       [3, 4, 1, 4, 2, 4, 4, 1, 4, 3],\n",
       "       [4, 1, 2, 1, 3, 1, 1, 2, 1, 4],\n",
       "       [4, 1, 2, 1, 3, 1, 1, 2, 1, 4],\n",
       "       [4, 1, 2, 1, 3, 1, 1, 2, 1, 4],\n",
       "       [3, 4, 1, 4, 2, 4, 4, 1, 4, 3],\n",
       "       [4, 1, 2, 1, 3, 1, 1, 2, 1, 4],\n",
       "       [4, 1, 2, 1, 3, 1, 1, 2, 1, 4],\n",
       "       [2, 3, 4, 3, 1, 3, 3, 4, 3, 2],\n",
       "       [4, 1, 2, 1, 3, 1, 1, 2, 1, 4],\n",
       "       [2, 3, 4, 3, 1, 3, 3, 4, 3, 2],\n",
       "       [4, 1, 2, 1, 3, 1, 1, 2, 1, 4],\n",
       "       [4, 1, 2, 1, 3, 1, 1, 2, 1, 4]])"
      ]
     },
     "execution_count": 10,
     "metadata": {},
     "output_type": "execute_result"
    }
   ],
   "source": [
    "# exp x 10 sirna\n",
    "np.stack([train_csv.plate.values[train_csv.sirna == i] for i in range(10)]).transpose()"
   ]
  },
  {
   "cell_type": "code",
   "execution_count": 59,
   "metadata": {
    "ExecuteTime": {
     "end_time": "2019-08-12T17:39:09.380907Z",
     "start_time": "2019-08-12T17:39:09.373643Z"
    }
   },
   "outputs": [
    {
     "data": {
      "text/plain": [
       "(33, 10)"
      ]
     },
     "execution_count": 59,
     "metadata": {},
     "output_type": "execute_result"
    }
   ],
   "source": [
    "np.stack([train_csv.plate.values[train_csv.sirna == i] for i in range(10)]).transpose().shape"
   ]
  },
  {
   "cell_type": "markdown",
   "metadata": {},
   "source": [
    "The above observation can be easily verified on the whole train data, - there are 4 groups of 277 sirnas in each group which stick together. \n",
    "\n",
    "But is there any order of groups to plates assignment? In general, there are `4*3*2=24` possible combinations of assigning 4 groups to 4 plates. But in the train data only 3 are active, each assignment appearing 22, 7 and 4 times respectively."
   ]
  },
  {
   "cell_type": "code",
   "execution_count": 134,
   "metadata": {
    "ExecuteTime": {
     "end_time": "2019-08-12T18:10:02.188860Z",
     "start_time": "2019-08-12T18:10:02.183969Z"
    }
   },
   "outputs": [],
   "source": [
    "#train_csv.loc[train_csv.sirna==0,'plate']"
   ]
  },
  {
   "cell_type": "code",
   "execution_count": 24,
   "metadata": {
    "ExecuteTime": {
     "end_time": "2019-08-12T17:23:45.313403Z",
     "start_time": "2019-08-12T17:23:45.303570Z"
    }
   },
   "outputs": [
    {
     "data": {
      "text/plain": [
       "4    22\n",
       "2     7\n",
       "3     4\n",
       "Name: plate, dtype: int64"
      ]
     },
     "execution_count": 24,
     "metadata": {},
     "output_type": "execute_result"
    }
   ],
   "source": [
    "# you will see the same output here for each sirna number\n",
    "train_csv.loc[train_csv.sirna==0,'plate'].value_counts()"
   ]
  },
  {
   "cell_type": "code",
   "execution_count": 30,
   "metadata": {
    "ExecuteTime": {
     "end_time": "2019-08-12T17:24:48.632184Z",
     "start_time": "2019-08-12T17:24:48.626816Z"
    }
   },
   "outputs": [
    {
     "data": {
      "text/plain": [
       "3    22\n",
       "1     6\n",
       "2     4\n",
       "Name: plate, dtype: int64"
      ]
     },
     "execution_count": 30,
     "metadata": {},
     "output_type": "execute_result"
    }
   ],
   "source": [
    "# you will see the same output here for each sirna number\n",
    "train_csv.loc[train_csv.sirna==888,'plate'].value_counts()"
   ]
  },
  {
   "cell_type": "code",
   "execution_count": 32,
   "metadata": {
    "ExecuteTime": {
     "end_time": "2019-08-12T17:24:59.194424Z",
     "start_time": "2019-08-12T17:24:59.189137Z"
    }
   },
   "outputs": [
    {
     "data": {
      "text/plain": [
       "1    22\n",
       "3     7\n",
       "4     4\n",
       "Name: plate, dtype: int64"
      ]
     },
     "execution_count": 32,
     "metadata": {},
     "output_type": "execute_result"
    }
   ],
   "source": [
    "# you will see the same output here for each sirna number\n",
    "train_csv.loc[train_csv.sirna==222,'plate'].value_counts()"
   ]
  },
  {
   "cell_type": "markdown",
   "metadata": {},
   "source": [
    "Later we will see that the 4th combination, missing from the training data, does in fact appear in the test data. My conlusion here is that Recursion used some kind of rotation of plates only, therefore only 4 combinations.\n",
    "\n",
    "Let's calculate which sirna belongs to which plate in every of the 4 assignments:"
   ]
  },
  {
   "cell_type": "code",
   "execution_count": 33,
   "metadata": {
    "ExecuteTime": {
     "end_time": "2019-08-12T17:25:12.990688Z",
     "start_time": "2019-08-12T17:25:11.751463Z"
    }
   },
   "outputs": [
    {
     "data": {
      "text/plain": [
       "array([[4, 2, 3, 1],\n",
       "       [1, 3, 4, 2],\n",
       "       [2, 4, 1, 3],\n",
       "       [1, 3, 4, 2],\n",
       "       [3, 1, 2, 4],\n",
       "       [1, 3, 4, 2],\n",
       "       [1, 3, 4, 2],\n",
       "       [2, 4, 1, 3],\n",
       "       [1, 3, 4, 2],\n",
       "       [4, 2, 3, 1]])"
      ]
     },
     "execution_count": 33,
     "metadata": {},
     "output_type": "execute_result"
    }
   ],
   "source": [
    "plate_groups = np.zeros((1108,4), int)\n",
    "for sirna in range(1108):\n",
    "    grp = train_csv.loc[train_csv.sirna==sirna,:].plate.value_counts().index.values\n",
    "    assert len(grp) == 3\n",
    "    plate_groups[sirna,0:3] = grp\n",
    "    plate_groups[sirna,3] = 10 - grp.sum()\n",
    "    \n",
    "plate_groups[:10,:]"
   ]
  },
  {
   "cell_type": "code",
   "execution_count": 57,
   "metadata": {
    "ExecuteTime": {
     "end_time": "2019-08-12T17:34:23.659857Z",
     "start_time": "2019-08-12T17:34:23.655124Z"
    }
   },
   "outputs": [
    {
     "data": {
      "text/plain": [
       "(1108, 4)"
      ]
     },
     "execution_count": 57,
     "metadata": {},
     "output_type": "execute_result"
    }
   ],
   "source": [
    "plate_groups.shape"
   ]
  },
  {
   "cell_type": "code",
   "execution_count": 135,
   "metadata": {
    "ExecuteTime": {
     "end_time": "2019-08-12T18:13:20.019024Z",
     "start_time": "2019-08-12T18:13:20.013985Z"
    }
   },
   "outputs": [
    {
     "data": {
      "text/plain": [
       "array([[4, 2, 3],\n",
       "       [1, 3, 4],\n",
       "       [2, 4, 1],\n",
       "       ...,\n",
       "       [3, 1, 2],\n",
       "       [1, 3, 4],\n",
       "       [4, 2, 3]])"
      ]
     },
     "execution_count": 135,
     "metadata": {},
     "output_type": "execute_result"
    }
   ],
   "source": [
    "plate_groups[:,0:3]"
   ]
  },
  {
   "cell_type": "code",
   "execution_count": null,
   "metadata": {},
   "outputs": [],
   "source": [
    "# sirna x group?"
   ]
  },
  {
   "cell_type": "markdown",
   "metadata": {},
   "source": [
    "# Test data"
   ]
  },
  {
   "cell_type": "markdown",
   "metadata": {},
   "source": [
    "Now let's take a look if we observe the same behavior in the test data. I use the output predictions from the kernel that I mentioned to calculate average probability of each assignment for every experiment."
   ]
  },
  {
   "cell_type": "code",
   "execution_count": 130,
   "metadata": {
    "ExecuteTime": {
     "end_time": "2019-08-12T18:04:13.249667Z",
     "start_time": "2019-08-12T18:04:13.244879Z"
    }
   },
   "outputs": [
    {
     "data": {
      "text/plain": [
       "(1108, 4)"
      ]
     },
     "execution_count": 130,
     "metadata": {},
     "output_type": "execute_result"
    }
   ],
   "source": [
    "plate_groups.shape"
   ]
  },
  {
   "cell_type": "code",
   "execution_count": 132,
   "metadata": {
    "ExecuteTime": {
     "end_time": "2019-08-12T18:04:44.757370Z",
     "start_time": "2019-08-12T18:04:44.752581Z"
    }
   },
   "outputs": [
    {
     "data": {
      "text/plain": [
       "array([[4, 2, 3, 1],\n",
       "       [1, 3, 4, 2],\n",
       "       [2, 4, 1, 3],\n",
       "       ...,\n",
       "       [3, 1, 2, 4],\n",
       "       [1, 3, 4, 2],\n",
       "       [4, 2, 3, 1]])"
      ]
     },
     "execution_count": 132,
     "metadata": {},
     "output_type": "execute_result"
    }
   ],
   "source": [
    "plate_groups"
   ]
  },
  {
   "cell_type": "code",
   "execution_count": 46,
   "metadata": {
    "ExecuteTime": {
     "end_time": "2019-08-12T17:31:22.826281Z",
     "start_time": "2019-08-12T17:31:22.820703Z"
    }
   },
   "outputs": [
    {
     "name": "stdout",
     "output_type": "stream",
     "text": [
      "[[4 1 2 ... 3 1 4]]\n",
      "[[2 3 4 ... 1 3 2]]\n",
      "[[3 4 1 ... 2 4 3]]\n",
      "[[1 2 3 ... 4 2 1]]\n"
     ]
    }
   ],
   "source": [
    "for j in range(4):\n",
    "    print(plate_groups[np.newaxis, :, j])"
   ]
  },
  {
   "cell_type": "code",
   "execution_count": null,
   "metadata": {},
   "outputs": [],
   "source": []
  },
  {
   "cell_type": "code",
   "execution_count": 71,
   "metadata": {
    "ExecuteTime": {
     "end_time": "2019-08-12T17:46:13.938180Z",
     "start_time": "2019-08-12T17:46:13.932733Z"
    }
   },
   "outputs": [],
   "source": []
  },
  {
   "cell_type": "code",
   "execution_count": 72,
   "metadata": {
    "ExecuteTime": {
     "end_time": "2019-08-12T17:46:14.345234Z",
     "start_time": "2019-08-12T17:46:14.339644Z"
    }
   },
   "outputs": [
    {
     "data": {
      "text/plain": [
       "(array(['HEPG2-01', 'HEPG2-02', 'HEPG2-03', 'HEPG2-04', 'HEPG2-05',\n",
       "        'HEPG2-06', 'HEPG2-07', 'HUVEC-01', 'HUVEC-02', 'HUVEC-03',\n",
       "        'HUVEC-04', 'HUVEC-05', 'HUVEC-06', 'HUVEC-07', 'HUVEC-08',\n",
       "        'HUVEC-09', 'HUVEC-10', 'HUVEC-11', 'HUVEC-12', 'HUVEC-13',\n",
       "        'HUVEC-14', 'HUVEC-15', 'HUVEC-16', 'RPE-01', 'RPE-02', 'RPE-03',\n",
       "        'RPE-04', 'RPE-05', 'RPE-06', 'RPE-07', 'U2OS-01', 'U2OS-02',\n",
       "        'U2OS-03'], dtype=object), 33)"
      ]
     },
     "execution_count": 72,
     "metadata": {},
     "output_type": "execute_result"
    }
   ],
   "source": [
    "all_train_exp, len(all_train_exp)"
   ]
  },
  {
   "cell_type": "code",
   "execution_count": 123,
   "metadata": {
    "ExecuteTime": {
     "end_time": "2019-08-12T18:02:29.947358Z",
     "start_time": "2019-08-12T18:02:28.561745Z"
    }
   },
   "outputs": [],
   "source": [
    "all_train_exp = train_csv.experiment.unique()\n",
    "\n",
    "group_plate_probs_train = np.zeros((len(all_train_exp),4))\n",
    "for idx in range(len(all_train_exp)):\n",
    "    #preds = sub.loc[test_csv.experiment == all_test_exp[idx],'sirna'].values\n",
    "    preds = train_csv.loc[train_csv.experiment == all_train_exp[idx],'sirna'].values\n",
    "    pp_mult = np.zeros((len(preds),1108))\n",
    "    pp_mult[range(len(preds)),preds] = 1\n",
    "    \n",
    "    #sub_test = test_csv.loc[test_csv.experiment == all_test_exp[idx],:]\n",
    "    sub_train = train_csv.loc[train_csv.experiment == all_train_exp[idx],:]\n",
    "    assert len(pp_mult) == len(sub_train)\n",
    "    \n",
    "    for j in range(4):\n",
    "        mask = np.repeat(plate_groups[np.newaxis, :, j], len(pp_mult), axis=0) == \\\n",
    "               np.repeat(sub_train.plate.values[:, np.newaxis], 1108, axis=1)\n",
    "        \n",
    "        group_plate_probs_train[idx,j] = np.array(pp_mult)[mask].sum()/len(pp_mult)"
   ]
  },
  {
   "cell_type": "code",
   "execution_count": 126,
   "metadata": {
    "ExecuteTime": {
     "end_time": "2019-08-12T18:03:00.093664Z",
     "start_time": "2019-08-12T18:03:00.088983Z"
    }
   },
   "outputs": [
    {
     "data": {
      "text/plain": [
       "(33, 4)"
      ]
     },
     "execution_count": 126,
     "metadata": {},
     "output_type": "execute_result"
    }
   ],
   "source": [
    "group_plate_probs_train.shape"
   ]
  },
  {
   "cell_type": "code",
   "execution_count": 125,
   "metadata": {
    "ExecuteTime": {
     "end_time": "2019-08-12T18:02:31.557320Z",
     "start_time": "2019-08-12T18:02:31.551737Z"
    }
   },
   "outputs": [
    {
     "data": {
      "text/plain": [
       "array([[1., 0., 0., 0.],\n",
       "       [1., 0., 0., 0.],\n",
       "       [1., 0., 0., 0.],\n",
       "       [1., 0., 0., 0.],\n",
       "       [0., 1., 0., 0.],\n",
       "       [1., 0., 0., 0.],\n",
       "       [1., 0., 0., 0.],\n",
       "       [1., 0., 0., 0.],\n",
       "       [1., 0., 0., 0.],\n",
       "       [1., 0., 0., 0.],\n",
       "       [1., 0., 0., 0.],\n",
       "       [1., 0., 0., 0.],\n",
       "       [1., 0., 0., 0.],\n",
       "       [0., 1., 0., 0.],\n",
       "       [1., 0., 0., 0.],\n",
       "       [0., 0., 1., 0.],\n",
       "       [0., 0., 1., 0.],\n",
       "       [0., 1., 0., 0.],\n",
       "       [1., 0., 0., 0.],\n",
       "       [0., 1., 0., 0.],\n",
       "       [0., 1., 0., 0.],\n",
       "       [0., 0., 1., 0.],\n",
       "       [1., 0., 0., 0.],\n",
       "       [1., 0., 0., 0.],\n",
       "       [1., 0., 0., 0.],\n",
       "       [0., 0., 1., 0.],\n",
       "       [1., 0., 0., 0.],\n",
       "       [1., 0., 0., 0.],\n",
       "       [0., 1., 0., 0.],\n",
       "       [1., 0., 0., 0.],\n",
       "       [0., 1., 0., 0.],\n",
       "       [1., 0., 0., 0.],\n",
       "       [1., 0., 0., 0.]])"
      ]
     },
     "execution_count": 125,
     "metadata": {},
     "output_type": "execute_result"
    }
   ],
   "source": [
    "group_plate_probs_train"
   ]
  },
  {
   "cell_type": "code",
   "execution_count": 138,
   "metadata": {
    "ExecuteTime": {
     "end_time": "2019-08-12T18:18:37.878952Z",
     "start_time": "2019-08-12T18:18:37.874554Z"
    }
   },
   "outputs": [],
   "source": [
    "df_train = pd.DataFrame(group_plate_probs_train, index = all_train_exp)"
   ]
  },
  {
   "cell_type": "code",
   "execution_count": 139,
   "metadata": {
    "ExecuteTime": {
     "end_time": "2019-08-12T18:18:40.888118Z",
     "start_time": "2019-08-12T18:18:40.877822Z"
    }
   },
   "outputs": [
    {
     "data": {
      "text/html": [
       "<div>\n",
       "<style scoped>\n",
       "    .dataframe tbody tr th:only-of-type {\n",
       "        vertical-align: middle;\n",
       "    }\n",
       "\n",
       "    .dataframe tbody tr th {\n",
       "        vertical-align: top;\n",
       "    }\n",
       "\n",
       "    .dataframe thead th {\n",
       "        text-align: right;\n",
       "    }\n",
       "</style>\n",
       "<table border=\"1\" class=\"dataframe\">\n",
       "  <thead>\n",
       "    <tr style=\"text-align: right;\">\n",
       "      <th></th>\n",
       "      <th>0</th>\n",
       "      <th>1</th>\n",
       "      <th>2</th>\n",
       "      <th>3</th>\n",
       "    </tr>\n",
       "  </thead>\n",
       "  <tbody>\n",
       "    <tr>\n",
       "      <th>HEPG2-01</th>\n",
       "      <td>1.0</td>\n",
       "      <td>0.0</td>\n",
       "      <td>0.0</td>\n",
       "      <td>0.0</td>\n",
       "    </tr>\n",
       "    <tr>\n",
       "      <th>HEPG2-02</th>\n",
       "      <td>1.0</td>\n",
       "      <td>0.0</td>\n",
       "      <td>0.0</td>\n",
       "      <td>0.0</td>\n",
       "    </tr>\n",
       "    <tr>\n",
       "      <th>HEPG2-03</th>\n",
       "      <td>1.0</td>\n",
       "      <td>0.0</td>\n",
       "      <td>0.0</td>\n",
       "      <td>0.0</td>\n",
       "    </tr>\n",
       "    <tr>\n",
       "      <th>HEPG2-04</th>\n",
       "      <td>1.0</td>\n",
       "      <td>0.0</td>\n",
       "      <td>0.0</td>\n",
       "      <td>0.0</td>\n",
       "    </tr>\n",
       "    <tr>\n",
       "      <th>HEPG2-05</th>\n",
       "      <td>0.0</td>\n",
       "      <td>1.0</td>\n",
       "      <td>0.0</td>\n",
       "      <td>0.0</td>\n",
       "    </tr>\n",
       "    <tr>\n",
       "      <th>HEPG2-06</th>\n",
       "      <td>1.0</td>\n",
       "      <td>0.0</td>\n",
       "      <td>0.0</td>\n",
       "      <td>0.0</td>\n",
       "    </tr>\n",
       "    <tr>\n",
       "      <th>HEPG2-07</th>\n",
       "      <td>1.0</td>\n",
       "      <td>0.0</td>\n",
       "      <td>0.0</td>\n",
       "      <td>0.0</td>\n",
       "    </tr>\n",
       "    <tr>\n",
       "      <th>HUVEC-01</th>\n",
       "      <td>1.0</td>\n",
       "      <td>0.0</td>\n",
       "      <td>0.0</td>\n",
       "      <td>0.0</td>\n",
       "    </tr>\n",
       "    <tr>\n",
       "      <th>HUVEC-02</th>\n",
       "      <td>1.0</td>\n",
       "      <td>0.0</td>\n",
       "      <td>0.0</td>\n",
       "      <td>0.0</td>\n",
       "    </tr>\n",
       "    <tr>\n",
       "      <th>HUVEC-03</th>\n",
       "      <td>1.0</td>\n",
       "      <td>0.0</td>\n",
       "      <td>0.0</td>\n",
       "      <td>0.0</td>\n",
       "    </tr>\n",
       "    <tr>\n",
       "      <th>HUVEC-04</th>\n",
       "      <td>1.0</td>\n",
       "      <td>0.0</td>\n",
       "      <td>0.0</td>\n",
       "      <td>0.0</td>\n",
       "    </tr>\n",
       "    <tr>\n",
       "      <th>HUVEC-05</th>\n",
       "      <td>1.0</td>\n",
       "      <td>0.0</td>\n",
       "      <td>0.0</td>\n",
       "      <td>0.0</td>\n",
       "    </tr>\n",
       "    <tr>\n",
       "      <th>HUVEC-06</th>\n",
       "      <td>1.0</td>\n",
       "      <td>0.0</td>\n",
       "      <td>0.0</td>\n",
       "      <td>0.0</td>\n",
       "    </tr>\n",
       "    <tr>\n",
       "      <th>HUVEC-07</th>\n",
       "      <td>0.0</td>\n",
       "      <td>1.0</td>\n",
       "      <td>0.0</td>\n",
       "      <td>0.0</td>\n",
       "    </tr>\n",
       "    <tr>\n",
       "      <th>HUVEC-08</th>\n",
       "      <td>1.0</td>\n",
       "      <td>0.0</td>\n",
       "      <td>0.0</td>\n",
       "      <td>0.0</td>\n",
       "    </tr>\n",
       "    <tr>\n",
       "      <th>HUVEC-09</th>\n",
       "      <td>0.0</td>\n",
       "      <td>0.0</td>\n",
       "      <td>1.0</td>\n",
       "      <td>0.0</td>\n",
       "    </tr>\n",
       "    <tr>\n",
       "      <th>HUVEC-10</th>\n",
       "      <td>0.0</td>\n",
       "      <td>0.0</td>\n",
       "      <td>1.0</td>\n",
       "      <td>0.0</td>\n",
       "    </tr>\n",
       "    <tr>\n",
       "      <th>HUVEC-11</th>\n",
       "      <td>0.0</td>\n",
       "      <td>1.0</td>\n",
       "      <td>0.0</td>\n",
       "      <td>0.0</td>\n",
       "    </tr>\n",
       "    <tr>\n",
       "      <th>HUVEC-12</th>\n",
       "      <td>1.0</td>\n",
       "      <td>0.0</td>\n",
       "      <td>0.0</td>\n",
       "      <td>0.0</td>\n",
       "    </tr>\n",
       "    <tr>\n",
       "      <th>HUVEC-13</th>\n",
       "      <td>0.0</td>\n",
       "      <td>1.0</td>\n",
       "      <td>0.0</td>\n",
       "      <td>0.0</td>\n",
       "    </tr>\n",
       "    <tr>\n",
       "      <th>HUVEC-14</th>\n",
       "      <td>0.0</td>\n",
       "      <td>1.0</td>\n",
       "      <td>0.0</td>\n",
       "      <td>0.0</td>\n",
       "    </tr>\n",
       "    <tr>\n",
       "      <th>HUVEC-15</th>\n",
       "      <td>0.0</td>\n",
       "      <td>0.0</td>\n",
       "      <td>1.0</td>\n",
       "      <td>0.0</td>\n",
       "    </tr>\n",
       "    <tr>\n",
       "      <th>HUVEC-16</th>\n",
       "      <td>1.0</td>\n",
       "      <td>0.0</td>\n",
       "      <td>0.0</td>\n",
       "      <td>0.0</td>\n",
       "    </tr>\n",
       "    <tr>\n",
       "      <th>RPE-01</th>\n",
       "      <td>1.0</td>\n",
       "      <td>0.0</td>\n",
       "      <td>0.0</td>\n",
       "      <td>0.0</td>\n",
       "    </tr>\n",
       "    <tr>\n",
       "      <th>RPE-02</th>\n",
       "      <td>1.0</td>\n",
       "      <td>0.0</td>\n",
       "      <td>0.0</td>\n",
       "      <td>0.0</td>\n",
       "    </tr>\n",
       "    <tr>\n",
       "      <th>RPE-03</th>\n",
       "      <td>0.0</td>\n",
       "      <td>0.0</td>\n",
       "      <td>1.0</td>\n",
       "      <td>0.0</td>\n",
       "    </tr>\n",
       "    <tr>\n",
       "      <th>RPE-04</th>\n",
       "      <td>1.0</td>\n",
       "      <td>0.0</td>\n",
       "      <td>0.0</td>\n",
       "      <td>0.0</td>\n",
       "    </tr>\n",
       "    <tr>\n",
       "      <th>RPE-05</th>\n",
       "      <td>1.0</td>\n",
       "      <td>0.0</td>\n",
       "      <td>0.0</td>\n",
       "      <td>0.0</td>\n",
       "    </tr>\n",
       "    <tr>\n",
       "      <th>RPE-06</th>\n",
       "      <td>0.0</td>\n",
       "      <td>1.0</td>\n",
       "      <td>0.0</td>\n",
       "      <td>0.0</td>\n",
       "    </tr>\n",
       "    <tr>\n",
       "      <th>RPE-07</th>\n",
       "      <td>1.0</td>\n",
       "      <td>0.0</td>\n",
       "      <td>0.0</td>\n",
       "      <td>0.0</td>\n",
       "    </tr>\n",
       "    <tr>\n",
       "      <th>U2OS-01</th>\n",
       "      <td>0.0</td>\n",
       "      <td>1.0</td>\n",
       "      <td>0.0</td>\n",
       "      <td>0.0</td>\n",
       "    </tr>\n",
       "    <tr>\n",
       "      <th>U2OS-02</th>\n",
       "      <td>1.0</td>\n",
       "      <td>0.0</td>\n",
       "      <td>0.0</td>\n",
       "      <td>0.0</td>\n",
       "    </tr>\n",
       "    <tr>\n",
       "      <th>U2OS-03</th>\n",
       "      <td>1.0</td>\n",
       "      <td>0.0</td>\n",
       "      <td>0.0</td>\n",
       "      <td>0.0</td>\n",
       "    </tr>\n",
       "  </tbody>\n",
       "</table>\n",
       "</div>"
      ],
      "text/plain": [
       "            0    1    2    3\n",
       "HEPG2-01  1.0  0.0  0.0  0.0\n",
       "HEPG2-02  1.0  0.0  0.0  0.0\n",
       "HEPG2-03  1.0  0.0  0.0  0.0\n",
       "HEPG2-04  1.0  0.0  0.0  0.0\n",
       "HEPG2-05  0.0  1.0  0.0  0.0\n",
       "HEPG2-06  1.0  0.0  0.0  0.0\n",
       "HEPG2-07  1.0  0.0  0.0  0.0\n",
       "HUVEC-01  1.0  0.0  0.0  0.0\n",
       "HUVEC-02  1.0  0.0  0.0  0.0\n",
       "HUVEC-03  1.0  0.0  0.0  0.0\n",
       "HUVEC-04  1.0  0.0  0.0  0.0\n",
       "HUVEC-05  1.0  0.0  0.0  0.0\n",
       "HUVEC-06  1.0  0.0  0.0  0.0\n",
       "HUVEC-07  0.0  1.0  0.0  0.0\n",
       "HUVEC-08  1.0  0.0  0.0  0.0\n",
       "HUVEC-09  0.0  0.0  1.0  0.0\n",
       "HUVEC-10  0.0  0.0  1.0  0.0\n",
       "HUVEC-11  0.0  1.0  0.0  0.0\n",
       "HUVEC-12  1.0  0.0  0.0  0.0\n",
       "HUVEC-13  0.0  1.0  0.0  0.0\n",
       "HUVEC-14  0.0  1.0  0.0  0.0\n",
       "HUVEC-15  0.0  0.0  1.0  0.0\n",
       "HUVEC-16  1.0  0.0  0.0  0.0\n",
       "RPE-01    1.0  0.0  0.0  0.0\n",
       "RPE-02    1.0  0.0  0.0  0.0\n",
       "RPE-03    0.0  0.0  1.0  0.0\n",
       "RPE-04    1.0  0.0  0.0  0.0\n",
       "RPE-05    1.0  0.0  0.0  0.0\n",
       "RPE-06    0.0  1.0  0.0  0.0\n",
       "RPE-07    1.0  0.0  0.0  0.0\n",
       "U2OS-01   0.0  1.0  0.0  0.0\n",
       "U2OS-02   1.0  0.0  0.0  0.0\n",
       "U2OS-03   1.0  0.0  0.0  0.0"
      ]
     },
     "execution_count": 139,
     "metadata": {},
     "output_type": "execute_result"
    }
   ],
   "source": [
    "df_train"
   ]
  },
  {
   "cell_type": "code",
   "execution_count": 149,
   "metadata": {
    "ExecuteTime": {
     "end_time": "2019-08-12T18:21:20.372690Z",
     "start_time": "2019-08-12T18:21:20.366692Z"
    }
   },
   "outputs": [
    {
     "name": "stderr",
     "output_type": "stream",
     "text": [
      "/home/mmp/anaconda3/lib/python3.7/site-packages/ipykernel_launcher.py:1: FutureWarning: The signature of `Series.to_csv` was aligned to that of `DataFrame.to_csv`, and argument 'header' will change its default value from False to True: please pass an explicit value to suppress this warning.\n",
      "  \"\"\"Entry point for launching an IPython kernel.\n"
     ]
    }
   ],
   "source": [
    "df_train.idxmax(axis=1).to_csv('train_plate_groups.csv')"
   ]
  },
  {
   "cell_type": "code",
   "execution_count": null,
   "metadata": {},
   "outputs": [],
   "source": []
  },
  {
   "cell_type": "code",
   "execution_count": 121,
   "metadata": {
    "ExecuteTime": {
     "end_time": "2019-08-12T18:01:54.712933Z",
     "start_time": "2019-08-12T18:01:53.990058Z"
    }
   },
   "outputs": [],
   "source": [
    "all_test_exp = test_csv.experiment.unique()\n",
    "\n",
    "group_plate_probs = np.zeros((len(all_test_exp),4))\n",
    "for idx in range(len(all_test_exp)):\n",
    "    preds = sub.loc[test_csv.experiment == all_test_exp[idx],'sirna'].values\n",
    "    pp_mult = np.zeros((len(preds),1108))\n",
    "    pp_mult[range(len(preds)),preds] = 1\n",
    "    \n",
    "    sub_test = test_csv.loc[test_csv.experiment == all_test_exp[idx],:]\n",
    "    assert len(pp_mult) == len(sub_test)\n",
    "    #print(len(pp_mult))\n",
    "    #print(len(sub_test))\n",
    "    \n",
    "    for j in range(4):\n",
    "        mask = np.repeat(plate_groups[np.newaxis, :, j], len(pp_mult), axis=0) == \\\n",
    "               np.repeat(sub_test.plate.values[:, np.newaxis], 1108, axis=1)\n",
    "        \n",
    "        group_plate_probs[idx,j] = np.array(pp_mult)[mask].sum()/len(pp_mult)"
   ]
  },
  {
   "cell_type": "code",
   "execution_count": 127,
   "metadata": {
    "ExecuteTime": {
     "end_time": "2019-08-12T18:03:32.854358Z",
     "start_time": "2019-08-12T18:03:32.849349Z"
    }
   },
   "outputs": [
    {
     "data": {
      "text/plain": [
       "(18, 4)"
      ]
     },
     "execution_count": 127,
     "metadata": {},
     "output_type": "execute_result"
    }
   ],
   "source": [
    "group_plate_probs.shape"
   ]
  },
  {
   "cell_type": "code",
   "execution_count": 128,
   "metadata": {
    "ExecuteTime": {
     "end_time": "2019-08-12T18:03:33.827400Z",
     "start_time": "2019-08-12T18:03:33.821683Z"
    }
   },
   "outputs": [
    {
     "data": {
      "text/plain": [
       "array([[0.18247516, 0.16260163, 0.18789521, 0.467028  ],\n",
       "       [0.23555957, 0.35649819, 0.22924188, 0.17870036],\n",
       "       [0.54241877, 0.13447653, 0.15433213, 0.16877256],\n",
       "       [0.55786618, 0.14466546, 0.16003617, 0.13743219],\n",
       "       [0.71750903, 0.06137184, 0.13628159, 0.08483755],\n",
       "       [0.63414634, 0.08130081, 0.08581752, 0.19873532],\n",
       "       [0.07581227, 0.08935018, 0.72472924, 0.1101083 ],\n",
       "       [0.04151625, 0.04061372, 0.89079422, 0.02707581],\n",
       "       [0.15613718, 0.1398917 , 0.16155235, 0.54241877],\n",
       "       [0.80234657, 0.07581227, 0.06949458, 0.05234657],\n",
       "       [0.72975432, 0.08462238, 0.10828025, 0.07734304],\n",
       "       [0.09909091, 0.09181818, 0.10818182, 0.70090909],\n",
       "       [0.0866426 , 0.56407942, 0.12635379, 0.22292419],\n",
       "       [0.58446251, 0.16169828, 0.1129178 , 0.14092141],\n",
       "       [0.64711191, 0.13718412, 0.08844765, 0.12725632],\n",
       "       [0.60511883, 0.07952468, 0.1809872 , 0.13436929],\n",
       "       [0.19404332, 0.25451264, 0.2933213 , 0.25812274],\n",
       "       [0.22333637, 0.26526892, 0.21057429, 0.30082042]])"
      ]
     },
     "execution_count": 128,
     "metadata": {},
     "output_type": "execute_result"
    }
   ],
   "source": [
    "group_plate_probs"
   ]
  },
  {
   "cell_type": "code",
   "execution_count": null,
   "metadata": {},
   "outputs": [],
   "source": []
  },
  {
   "cell_type": "markdown",
   "metadata": {},
   "source": [
    "Here we go, this is the average probabilities for each test experiment to be in every of the 4 assignments:\n",
    "\n",
    "One can see the favorites. "
   ]
  },
  {
   "cell_type": "code",
   "execution_count": 141,
   "metadata": {
    "ExecuteTime": {
     "end_time": "2019-08-12T18:18:59.861038Z",
     "start_time": "2019-08-12T18:18:59.856703Z"
    }
   },
   "outputs": [],
   "source": [
    "df_test = pd.DataFrame(group_plate_probs, index=all_test_exp)"
   ]
  },
  {
   "cell_type": "code",
   "execution_count": 148,
   "metadata": {
    "ExecuteTime": {
     "end_time": "2019-08-12T18:20:26.329042Z",
     "start_time": "2019-08-12T18:20:26.316921Z"
    }
   },
   "outputs": [
    {
     "name": "stderr",
     "output_type": "stream",
     "text": [
      "/home/mmp/anaconda3/lib/python3.7/site-packages/ipykernel_launcher.py:1: FutureWarning: The signature of `Series.to_csv` was aligned to that of `DataFrame.to_csv`, and argument 'header' will change its default value from False to True: please pass an explicit value to suppress this warning.\n",
      "  \"\"\"Entry point for launching an IPython kernel.\n"
     ]
    }
   ],
   "source": [
    "df_test.idxmax(axis=1).to_csv('test_plate_groups.csv')"
   ]
  },
  {
   "cell_type": "code",
   "execution_count": null,
   "metadata": {},
   "outputs": [],
   "source": []
  },
  {
   "cell_type": "code",
   "execution_count": 6,
   "metadata": {},
   "outputs": [
    {
     "data": {
      "text/html": [
       "<div>\n",
       "<style scoped>\n",
       "    .dataframe tbody tr th:only-of-type {\n",
       "        vertical-align: middle;\n",
       "    }\n",
       "\n",
       "    .dataframe tbody tr th {\n",
       "        vertical-align: top;\n",
       "    }\n",
       "\n",
       "    .dataframe thead th {\n",
       "        text-align: right;\n",
       "    }\n",
       "</style>\n",
       "<table border=\"1\" class=\"dataframe\">\n",
       "  <thead>\n",
       "    <tr style=\"text-align: right;\">\n",
       "      <th></th>\n",
       "      <th>0</th>\n",
       "      <th>1</th>\n",
       "      <th>2</th>\n",
       "      <th>3</th>\n",
       "    </tr>\n",
       "  </thead>\n",
       "  <tbody>\n",
       "    <tr>\n",
       "      <th>HEPG2-08</th>\n",
       "      <td>0.226739</td>\n",
       "      <td>0.257453</td>\n",
       "      <td>0.190605</td>\n",
       "      <td>0.325203</td>\n",
       "    </tr>\n",
       "    <tr>\n",
       "      <th>HEPG2-09</th>\n",
       "      <td>0.219314</td>\n",
       "      <td>0.331227</td>\n",
       "      <td>0.246390</td>\n",
       "      <td>0.203069</td>\n",
       "    </tr>\n",
       "    <tr>\n",
       "      <th>HEPG2-10</th>\n",
       "      <td>0.378159</td>\n",
       "      <td>0.232852</td>\n",
       "      <td>0.189531</td>\n",
       "      <td>0.199458</td>\n",
       "    </tr>\n",
       "    <tr>\n",
       "      <th>HEPG2-11</th>\n",
       "      <td>0.371609</td>\n",
       "      <td>0.238698</td>\n",
       "      <td>0.194394</td>\n",
       "      <td>0.195298</td>\n",
       "    </tr>\n",
       "    <tr>\n",
       "      <th>HUVEC-17</th>\n",
       "      <td>0.397112</td>\n",
       "      <td>0.145307</td>\n",
       "      <td>0.212996</td>\n",
       "      <td>0.244585</td>\n",
       "    </tr>\n",
       "    <tr>\n",
       "      <th>HUVEC-18</th>\n",
       "      <td>0.379404</td>\n",
       "      <td>0.203252</td>\n",
       "      <td>0.205962</td>\n",
       "      <td>0.211382</td>\n",
       "    </tr>\n",
       "    <tr>\n",
       "      <th>HUVEC-19</th>\n",
       "      <td>0.184116</td>\n",
       "      <td>0.175993</td>\n",
       "      <td>0.471119</td>\n",
       "      <td>0.168773</td>\n",
       "    </tr>\n",
       "    <tr>\n",
       "      <th>HUVEC-20</th>\n",
       "      <td>0.123646</td>\n",
       "      <td>0.106498</td>\n",
       "      <td>0.635379</td>\n",
       "      <td>0.134477</td>\n",
       "    </tr>\n",
       "    <tr>\n",
       "      <th>HUVEC-21</th>\n",
       "      <td>0.185018</td>\n",
       "      <td>0.178700</td>\n",
       "      <td>0.148014</td>\n",
       "      <td>0.488267</td>\n",
       "    </tr>\n",
       "    <tr>\n",
       "      <th>HUVEC-22</th>\n",
       "      <td>0.507220</td>\n",
       "      <td>0.149819</td>\n",
       "      <td>0.194043</td>\n",
       "      <td>0.148917</td>\n",
       "    </tr>\n",
       "    <tr>\n",
       "      <th>HUVEC-23</th>\n",
       "      <td>0.496815</td>\n",
       "      <td>0.162875</td>\n",
       "      <td>0.161965</td>\n",
       "      <td>0.178344</td>\n",
       "    </tr>\n",
       "    <tr>\n",
       "      <th>HUVEC-24</th>\n",
       "      <td>0.152727</td>\n",
       "      <td>0.202727</td>\n",
       "      <td>0.171818</td>\n",
       "      <td>0.472727</td>\n",
       "    </tr>\n",
       "    <tr>\n",
       "      <th>RPE-08</th>\n",
       "      <td>0.190433</td>\n",
       "      <td>0.333032</td>\n",
       "      <td>0.206679</td>\n",
       "      <td>0.269856</td>\n",
       "    </tr>\n",
       "    <tr>\n",
       "      <th>RPE-09</th>\n",
       "      <td>0.373080</td>\n",
       "      <td>0.236676</td>\n",
       "      <td>0.188799</td>\n",
       "      <td>0.201445</td>\n",
       "    </tr>\n",
       "    <tr>\n",
       "      <th>RPE-10</th>\n",
       "      <td>0.478339</td>\n",
       "      <td>0.165162</td>\n",
       "      <td>0.175993</td>\n",
       "      <td>0.180505</td>\n",
       "    </tr>\n",
       "    <tr>\n",
       "      <th>RPE-11</th>\n",
       "      <td>0.361060</td>\n",
       "      <td>0.194698</td>\n",
       "      <td>0.237660</td>\n",
       "      <td>0.206581</td>\n",
       "    </tr>\n",
       "    <tr>\n",
       "      <th>U2OS-04</th>\n",
       "      <td>0.237365</td>\n",
       "      <td>0.223827</td>\n",
       "      <td>0.295126</td>\n",
       "      <td>0.243682</td>\n",
       "    </tr>\n",
       "    <tr>\n",
       "      <th>U2OS-05</th>\n",
       "      <td>0.209663</td>\n",
       "      <td>0.252507</td>\n",
       "      <td>0.245214</td>\n",
       "      <td>0.292616</td>\n",
       "    </tr>\n",
       "  </tbody>\n",
       "</table>\n",
       "</div>"
      ],
      "text/plain": [
       "                 0         1         2         3\n",
       "HEPG2-08  0.226739  0.257453  0.190605  0.325203\n",
       "HEPG2-09  0.219314  0.331227  0.246390  0.203069\n",
       "HEPG2-10  0.378159  0.232852  0.189531  0.199458\n",
       "HEPG2-11  0.371609  0.238698  0.194394  0.195298\n",
       "HUVEC-17  0.397112  0.145307  0.212996  0.244585\n",
       "HUVEC-18  0.379404  0.203252  0.205962  0.211382\n",
       "HUVEC-19  0.184116  0.175993  0.471119  0.168773\n",
       "HUVEC-20  0.123646  0.106498  0.635379  0.134477\n",
       "HUVEC-21  0.185018  0.178700  0.148014  0.488267\n",
       "HUVEC-22  0.507220  0.149819  0.194043  0.148917\n",
       "HUVEC-23  0.496815  0.162875  0.161965  0.178344\n",
       "HUVEC-24  0.152727  0.202727  0.171818  0.472727\n",
       "RPE-08    0.190433  0.333032  0.206679  0.269856\n",
       "RPE-09    0.373080  0.236676  0.188799  0.201445\n",
       "RPE-10    0.478339  0.165162  0.175993  0.180505\n",
       "RPE-11    0.361060  0.194698  0.237660  0.206581\n",
       "U2OS-04   0.237365  0.223827  0.295126  0.243682\n",
       "U2OS-05   0.209663  0.252507  0.245214  0.292616"
      ]
     },
     "execution_count": 6,
     "metadata": {},
     "output_type": "execute_result"
    }
   ],
   "source": [
    "# ORIGINAL VALUES!!!\n",
    "#pd.DataFrame(group_plate_probs, index = all_test_exp)"
   ]
  },
  {
   "cell_type": "markdown",
   "metadata": {},
   "source": [
    "Let's select the most probable assignment for every test experiment. You may say that some of the selections here are not certain and the probabilities are too close. But we get the same assignments with our much better models, so even this relatively simple model is able to make correct assignments."
   ]
  },
  {
   "cell_type": "code",
   "execution_count": 137,
   "metadata": {
    "ExecuteTime": {
     "end_time": "2019-08-12T18:17:42.107368Z",
     "start_time": "2019-08-12T18:17:42.102442Z"
    }
   },
   "outputs": [
    {
     "name": "stdout",
     "output_type": "stream",
     "text": [
      "[3 1 0 0 0 0 2 2 3 0 0 3 1 0 0 0 2 3]\n"
     ]
    }
   ],
   "source": [
    "exp_to_group = group_plate_probs.argmax(1)\n",
    "print(exp_to_group)"
   ]
  },
  {
   "cell_type": "code",
   "execution_count": 7,
   "metadata": {},
   "outputs": [
    {
     "name": "stdout",
     "output_type": "stream",
     "text": [
      "[3 1 0 0 0 0 2 2 3 0 0 3 1 0 0 0 2 3]\n"
     ]
    }
   ],
   "source": [
    "# ORIGINAL VALUES!!!\n",
    "#exp_to_group = group_plate_probs.argmax(1)\n",
    "#print(exp_to_group)"
   ]
  },
  {
   "cell_type": "markdown",
   "metadata": {},
   "source": [
    "# Running predictions with the existing DenseNet121 model"
   ]
  },
  {
   "cell_type": "markdown",
   "metadata": {},
   "source": [
    "In the code below we load the model, make predictions to get the full probabilites matrix, and set 3 out of 4 plates for every sirna to zero, according to the assignment that we previously selected."
   ]
  },
  {
   "cell_type": "code",
   "execution_count": 8,
   "metadata": {},
   "outputs": [],
   "source": [
    "def create_model(input_shape,n_out):\n",
    "    input_tensor = Input(shape=input_shape)\n",
    "    base_model = DenseNet121(include_top=False,\n",
    "                   weights=None,\n",
    "                   input_tensor=input_tensor)\n",
    "    x = GlobalAveragePooling2D()(base_model.output)\n",
    "    x = Dense(1024, activation='relu')(x)\n",
    " \n",
    "    final_output = Dense(n_out, activation='softmax', name='final_output')(x)\n",
    "    model = Model(input_tensor, final_output)\n",
    "    \n",
    "    return model"
   ]
  },
  {
   "cell_type": "code",
   "execution_count": 9,
   "metadata": {},
   "outputs": [],
   "source": [
    "model = create_model(input_shape=(SIZE,SIZE,3),n_out=NUM_CLASSES)"
   ]
  },
  {
   "cell_type": "code",
   "execution_count": 10,
   "metadata": {},
   "outputs": [],
   "source": [
    "model.load_weights('../input/recursion-cellular-keras-densenet/Densenet121.h5')"
   ]
  },
  {
   "cell_type": "code",
   "execution_count": 11,
   "metadata": {},
   "outputs": [
    {
     "name": "stderr",
     "output_type": "stream",
     "text": [
      "19897it [13:19, 24.88it/s]\n"
     ]
    }
   ],
   "source": [
    "predicted = []\n",
    "for i, name in tqdm(enumerate(test_csv['id_code'])):\n",
    "    path1 = os.path.join('../input/recursion-cellular-image-classification-224-jpg/test/test/', name+'_s1.jpeg')\n",
    "    image1 = cv2.imread(path1)\n",
    "    score_predict1 = model.predict((image1[np.newaxis])/255)\n",
    "    \n",
    "    path2 = os.path.join('../input/recursion-cellular-image-classification-224-jpg/test/test/', name+'_s2.jpeg')\n",
    "    image2 = cv2.imread(path2)\n",
    "    score_predict2 = model.predict((image2[np.newaxis])/255)\n",
    "    \n",
    "    predicted.append(0.5*(score_predict1 + score_predict2))\n",
    "    #predicted.append(score_predict1)"
   ]
  },
  {
   "cell_type": "code",
   "execution_count": 12,
   "metadata": {},
   "outputs": [],
   "source": [
    "predicted = np.stack(predicted).squeeze()"
   ]
  },
  {
   "cell_type": "markdown",
   "metadata": {},
   "source": [
    "this is the function that sets 75% of the sirnas to zero according to the selected assignment:"
   ]
  },
  {
   "cell_type": "code",
   "execution_count": 13,
   "metadata": {},
   "outputs": [],
   "source": [
    "def select_plate_group(pp_mult, idx):\n",
    "    sub_test = test_csv.loc[test_csv.experiment == all_test_exp[idx],:]\n",
    "    assert len(pp_mult) == len(sub_test)\n",
    "    mask = np.repeat(plate_groups[np.newaxis, :, exp_to_group[idx]], len(pp_mult), axis=0) != \\\n",
    "           np.repeat(sub_test.plate.values[:, np.newaxis], 1108, axis=1)\n",
    "    pp_mult[mask] = 0\n",
    "    return pp_mult"
   ]
  },
  {
   "cell_type": "code",
   "execution_count": 14,
   "metadata": {},
   "outputs": [],
   "source": [
    "for idx in range(len(all_test_exp)):\n",
    "    #print('Experiment', idx)\n",
    "    indices = (test_csv.experiment == all_test_exp[idx])\n",
    "    \n",
    "    preds = predicted[indices,:].copy()\n",
    "    \n",
    "    preds = select_plate_group(preds, idx)\n",
    "    sub.loc[indices,'sirna'] = preds.argmax(1)"
   ]
  },
  {
   "cell_type": "code",
   "execution_count": 15,
   "metadata": {},
   "outputs": [
    {
     "data": {
      "text/plain": [
       "0.3572900437251847"
      ]
     },
     "execution_count": 15,
     "metadata": {},
     "output_type": "execute_result"
    }
   ],
   "source": [
    "(sub.sirna == pd.read_csv(\"../input/recursion-cellular-keras-densenet/submission.csv\").sirna).mean()"
   ]
  },
  {
   "cell_type": "code",
   "execution_count": 16,
   "metadata": {},
   "outputs": [],
   "source": [
    "sub.to_csv('../working/submission.csv', index=False, columns=['id_code','sirna'])"
   ]
  },
  {
   "cell_type": "markdown",
   "metadata": {},
   "source": [
    "That is all! I hope this demonstration will get everyone to the same playing field on this issue. Assigning 277 sirnas to 277 wells is still a hard problem to crack."
   ]
  }
 ],
 "metadata": {
  "kernelspec": {
   "display_name": "Python 3",
   "language": "python",
   "name": "python3"
  },
  "language_info": {
   "codemirror_mode": {
    "name": "ipython",
    "version": 3
   },
   "file_extension": ".py",
   "mimetype": "text/x-python",
   "name": "python",
   "nbconvert_exporter": "python",
   "pygments_lexer": "ipython3",
   "version": "3.7.3"
  },
  "toc": {
   "base_numbering": 1,
   "nav_menu": {},
   "number_sections": true,
   "sideBar": true,
   "skip_h1_title": false,
   "title_cell": "Table of Contents",
   "title_sidebar": "Contents",
   "toc_cell": false,
   "toc_position": {},
   "toc_section_display": true,
   "toc_window_display": true
  }
 },
 "nbformat": 4,
 "nbformat_minor": 1
}
