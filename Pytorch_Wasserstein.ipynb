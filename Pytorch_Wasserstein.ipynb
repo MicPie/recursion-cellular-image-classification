{
 "cells": [
  {
   "cell_type": "markdown",
   "metadata": {},
   "source": [
    "# An efficient implementation of the Sinkhorn algorithm for the GPU\n",
    "*Thomas Viehmann <tv@mathinf.eu>*\n",
    "\n",
    "Recently the Wasserstein distance has seen new applications in machine learning and deep learning. It commonly replaces the Kullback-Leibler divergence (also often dubbed cross-entropy loss in the Deep Learning context). In contrast to the latter, Wasserstein distances not only consider the values probability distribution or density at any given point, but also incorporating spatial information in terms of the underlying metric regarding these differences. Intuitively, it yields a smaller distance if probability mass moved to a nearby point or region and a larger distance if probability mass moved far away.\n",
    "\n",
    "There are two predominant variants of Wasserstein distance approximations used in machine learning:\n",
    "- Stochastically optimised online estimates of the Wasserstein distance. This is the concept underpinning many of the GAN applications using a (heuristic approximation of) the Wasserstein distance as a *discriminator*. Starting from the [Wasserstein GAN](https://arxiv.org/abs/1701.07875) as an improvement over the KL-based DCGAN, with improvements to how to estimate the Wasserstein distance in [WGAN-GP](https://arxiv.org/abs/1704.00028), and [SN-GAN](https://openreview.net/forum?id=B1QRgziT-).\n",
    "- Direct computation of the Wasserstein distance as a replacement for the cross-entropy loss in mini-batch training. This is commonly done using the entropy regularised Wasserstein distance and the Sinkhorn iterations [Cuturi](https://papers.nips.cc/paper/4927-sinkhorn-distances-lightspeed-computation-of-optimal-transport). In the context of deep learning this has been proposed by [Frogner et al.](http://cbcl.mit.edu/wasserstein/), but there is also earlier work in image retrieval using the (non-regularised) Wasserstein distance, see e.g. [Y. Rubner et al](http://ai.stanford.edu/~rubner/emd/default.htm). A comprehensive treatment is given in [Peyré and Cuturi's book](https://arxiv.org/abs/1803.00567), R. Flamary's [Python Optimal Transport](https://github.com/rflamary/POT/) library provides implementations for many algorithms in this area.\n",
    "\n",
    "This code is concerned with this latter use of the Wasserstein distance. One of the challenges is the numerical stability of the Sinkhorn iteration and carrying that over to mini-batch computations efficiently. While the ingredients appear to be readily available, it seems that they have not been put together in recent implementations we observed.\n",
    "\n",
    "\n",
    "The following is the code for [Thomas Viehmann: \n",
    "Implementation of batched Sinkhorn iterations for entropy-regularized Wasserstein loss, arXiv 1907.01729](https://arxiv.org/abs/1907.01729). If you use the code in academic work, please cite this paper.\n",
    "The paper has a self-contained writeup of the key calculations to derive the algorithm.\n",
    "\n",
    "First we need the some imports."
   ]
  },
  {
   "cell_type": "code",
   "execution_count": 2,
   "metadata": {
    "ExecuteTime": {
     "end_time": "2019-08-14T17:40:27.673146Z",
     "start_time": "2019-08-14T17:40:27.667903Z"
    }
   },
   "outputs": [],
   "source": [
    "import math\n",
    "import time\n",
    "import torch\n",
    "import torch.utils.cpp_extension\n",
    "%matplotlib inline\n",
    "\n",
    "from matplotlib import pyplot\n",
    "import matplotlib.transforms\n",
    "\n",
    "#import ot  # for comparison\n"
   ]
  },
  {
   "cell_type": "markdown",
   "metadata": {},
   "source": [
    "## The kernel\n",
    "\n",
    "The following GPU kernel computes\n",
    "$$\n",
    " \\log v_{bj} := \\log \\nu_{bj} - \\operatorname{logsumexp}_{i} (-\\frac{1}{\\lambda} c_{ij} + \\log u_{bi}).\n",
    "$$\n",
    "\n",
    "This has two key properties that shape our implementation:\n",
    "- The overall reduction structure is akin to a matrix multiplication, i.e. memory accesses to $c_{ij}$ and $\\log u_{bi}$\n",
    "  to compute the result $\\log v_{bj}$, with the additional input $\\log \\nu$ following the same access pattern as the result. We parallelize in the independent dimensions ($b$ and $j$) and split the reduction over $i$ amongst multiple threads then combine their intermediate results. We have not employed tiling, which is commonly used to speed up the memory accesses for matrix multiplication.\n",
    "\n",
    "- In our implementation, the stabilisation of the `logsumexp` calculation is carried out in an online fashion, i.e. computing the stabilisation and the reduction result in a single pass, similar to the Welford algorithm for the variance.\n",
    "\n",
    "I explain a bit about the reduction (in particular the bits about `WARP_SHFL_XOR`) in [this blog post](http://lernapparat.de/sinkhorn-kernel/)."
   ]
  },
  {
   "cell_type": "code",
   "execution_count": 3,
   "metadata": {
    "ExecuteTime": {
     "end_time": "2019-08-14T17:40:29.932734Z",
     "start_time": "2019-08-14T17:40:29.927389Z"
    }
   },
   "outputs": [],
   "source": [
    "cuda_source = \"\"\"\n",
    "\n",
    "#include <torch/extension.h>\n",
    "#include <ATen/core/TensorAccessor.h>\n",
    "#include <ATen/cuda/CUDAContext.h>\n",
    "\n",
    "using at::RestrictPtrTraits;\n",
    "using at::PackedTensorAccessor;\n",
    "\n",
    "#if defined(__HIP_PLATFORM_HCC__)\n",
    "constexpr int WARP_SIZE = 64;\n",
    "#else\n",
    "constexpr int WARP_SIZE = 32;\n",
    "#endif\n",
    "\n",
    "// The maximum number of threads in a block\n",
    "#if defined(__HIP_PLATFORM_HCC__)\n",
    "constexpr int MAX_BLOCK_SIZE = 256;\n",
    "#else\n",
    "constexpr int MAX_BLOCK_SIZE = 512;\n",
    "#endif\n",
    "\n",
    "// Returns the index of the most significant 1 bit in `val`.\n",
    "__device__ __forceinline__ int getMSB(int val) {\n",
    "  return 31 - __clz(val);\n",
    "}\n",
    "\n",
    "// Number of threads in a block given an input size up to MAX_BLOCK_SIZE\n",
    "static int getNumThreads(int nElem) {\n",
    "#if defined(__HIP_PLATFORM_HCC__)\n",
    "  int threadSizes[5] = { 16, 32, 64, 128, MAX_BLOCK_SIZE };\n",
    "#else\n",
    "  int threadSizes[5] = { 32, 64, 128, 256, MAX_BLOCK_SIZE };\n",
    "#endif\n",
    "  for (int i = 0; i != 5; ++i) {\n",
    "    if (nElem <= threadSizes[i]) {\n",
    "      return threadSizes[i];\n",
    "    }\n",
    "  }\n",
    "  return MAX_BLOCK_SIZE;\n",
    "}\n",
    "\n",
    "\n",
    "template <typename T>\n",
    "__device__ __forceinline__ T WARP_SHFL_XOR(T value, int laneMask, int width = warpSize, unsigned int mask = 0xffffffff)\n",
    "{\n",
    "#if CUDA_VERSION >= 9000\n",
    "    return __shfl_xor_sync(mask, value, laneMask, width);\n",
    "#else\n",
    "    return __shfl_xor(value, laneMask, width);\n",
    "#endif\n",
    "}\n",
    "\n",
    "// While this might be the most efficient sinkhorn step / logsumexp-matmul implementation I have seen,\n",
    "// this is awfully inefficient compared to matrix multiplication and e.g. NVidia cutlass may provide\n",
    "// many great ideas for improvement\n",
    "template <typename scalar_t, typename index_t>\n",
    "__global__ void sinkstep_kernel(\n",
    "  // compute log v_bj = log nu_bj - logsumexp_i 1/lambda dist_ij - log u_bi\n",
    "  // for this compute maxdiff_bj = max_i(1/lambda dist_ij - log u_bi)\n",
    "  // i = reduction dim, using threadIdx.x\n",
    "  PackedTensorAccessor<scalar_t, 2, RestrictPtrTraits, index_t> log_v,\n",
    "  const PackedTensorAccessor<scalar_t, 2, RestrictPtrTraits, index_t> dist,\n",
    "  const PackedTensorAccessor<scalar_t, 2, RestrictPtrTraits, index_t> log_nu,\n",
    "  const PackedTensorAccessor<scalar_t, 2, RestrictPtrTraits, index_t> log_u,\n",
    "  const scalar_t lambda) {\n",
    "\n",
    "  using accscalar_t = scalar_t;\n",
    "\n",
    "  __shared__ accscalar_t shared_mem[2 * WARP_SIZE];\n",
    "\n",
    "  index_t b = blockIdx.y;\n",
    "  index_t j = blockIdx.x;\n",
    "  int tid = threadIdx.x;\n",
    "\n",
    "  if (b >= log_u.size(0) || j >= log_v.size(1)) {\n",
    "    return;\n",
    "  }\n",
    "  // reduce within thread\n",
    "  accscalar_t max = -std::numeric_limits<accscalar_t>::infinity();\n",
    "  accscalar_t sumexp = 0;\n",
    "  \n",
    "  if (log_nu[b][j] == -std::numeric_limits<accscalar_t>::infinity()) {\n",
    "    if (tid == 0) {\n",
    "      log_v[b][j] = -std::numeric_limits<accscalar_t>::infinity();\n",
    "    }\n",
    "    return;\n",
    "  }\n",
    "\n",
    "  for (index_t i = threadIdx.x; i < log_u.size(1); i += blockDim.x) {\n",
    "    accscalar_t oldmax = max;\n",
    "    accscalar_t value = -dist[i][j]/lambda + log_u[b][i];\n",
    "    max = max > value ? max : value;\n",
    "    if (oldmax == -std::numeric_limits<accscalar_t>::infinity()) {\n",
    "      // sumexp used to be 0, so the new max is value and we can set 1 here,\n",
    "      // because we will come back here again\n",
    "      sumexp = 1;\n",
    "    } else {\n",
    "      sumexp *= exp(oldmax - max);\n",
    "      sumexp += exp(value - max); // if oldmax was not -infinity, max is not either...\n",
    "    }\n",
    "  }\n",
    "\n",
    "  // now we have one value per thread. we'll make it into one value per warp\n",
    "  // first warpSum to get one value per thread to\n",
    "  // one value per warp\n",
    "  for (int i = 0; i < getMSB(WARP_SIZE); ++i) {\n",
    "    accscalar_t o_max    = WARP_SHFL_XOR(max, 1 << i, WARP_SIZE);\n",
    "    accscalar_t o_sumexp = WARP_SHFL_XOR(sumexp, 1 << i, WARP_SIZE);\n",
    "    if (o_max > max) { // we're less concerned about divergence here\n",
    "      sumexp *= exp(max - o_max);\n",
    "      sumexp += o_sumexp;\n",
    "      max = o_max;\n",
    "    } else if (max != -std::numeric_limits<accscalar_t>::infinity()) {\n",
    "      sumexp += o_sumexp * exp(o_max - max);\n",
    "    }\n",
    "  }\n",
    "  \n",
    "  __syncthreads();\n",
    "  // this writes each warps accumulation into shared memory\n",
    "  // there are at most WARP_SIZE items left because\n",
    "  // there are at most WARP_SIZE**2 threads at the beginning\n",
    "  if (tid % WARP_SIZE == 0) {\n",
    "    shared_mem[tid / WARP_SIZE * 2] = max;\n",
    "    shared_mem[tid / WARP_SIZE * 2 + 1] = sumexp;\n",
    "  }\n",
    "  __syncthreads();\n",
    "  if (tid < WARP_SIZE) {\n",
    "    max = (tid < blockDim.x / WARP_SIZE ? shared_mem[2 * tid] : -std::numeric_limits<accscalar_t>::infinity());\n",
    "    sumexp = (tid < blockDim.x / WARP_SIZE ? shared_mem[2 * tid + 1] : 0);\n",
    "  }\n",
    "  for (int i = 0; i < getMSB(WARP_SIZE); ++i) {\n",
    "    accscalar_t o_max    = WARP_SHFL_XOR(max, 1 << i, WARP_SIZE);\n",
    "    accscalar_t o_sumexp = WARP_SHFL_XOR(sumexp, 1 << i, WARP_SIZE);\n",
    "    if (o_max > max) { // we're less concerned about divergence here\n",
    "      sumexp *= exp(max - o_max);\n",
    "      sumexp += o_sumexp;\n",
    "      max = o_max;\n",
    "    } else if (max != -std::numeric_limits<accscalar_t>::infinity()) {\n",
    "      sumexp += o_sumexp * exp(o_max - max);\n",
    "    }\n",
    "  }\n",
    "\n",
    "  if (tid == 0) {\n",
    "    log_v[b][j] = (max > -std::numeric_limits<accscalar_t>::infinity() ?\n",
    "                   log_nu[b][j] - log(sumexp) - max : \n",
    "                   -std::numeric_limits<accscalar_t>::infinity());\n",
    "  }\n",
    "}\n",
    "\n",
    "template <typename scalar_t>\n",
    "torch::Tensor sinkstep_cuda_template(const torch::Tensor& dist, const torch::Tensor& log_nu, const torch::Tensor& log_u,\n",
    "                                     const double lambda) {\n",
    "  TORCH_CHECK(dist.is_cuda(), \"need cuda tensors\");\n",
    "  TORCH_CHECK(dist.device() == log_nu.device() && dist.device() == log_u.device(), \"need tensors on same GPU\");\n",
    "  TORCH_CHECK(dist.dim()==2 && log_nu.dim()==2 && log_u.dim()==2, \"invalid sizes\");\n",
    "  TORCH_CHECK(dist.size(0) == log_u.size(1) &&\n",
    "           dist.size(1) == log_nu.size(1) &&\n",
    "           log_u.size(0) == log_nu.size(0), \"invalid sizes\");\n",
    "  auto log_v = torch::empty_like(log_nu);\n",
    "  using index_t = int32_t;\n",
    "  \n",
    "  auto log_v_a = log_v.packed_accessor<scalar_t, 2, RestrictPtrTraits, index_t>();\n",
    "  auto dist_a = dist.packed_accessor<scalar_t, 2, RestrictPtrTraits, index_t>();\n",
    "  auto log_nu_a = log_nu.packed_accessor<scalar_t, 2, RestrictPtrTraits, index_t>();\n",
    "  auto log_u_a = log_u.packed_accessor<scalar_t, 2, RestrictPtrTraits, index_t>();\n",
    "  \n",
    "  auto stream = at::cuda::getCurrentCUDAStream();\n",
    "\n",
    "  int tf = getNumThreads(log_u.size(1));\n",
    "  dim3 blocks(log_v.size(1), log_u.size(0));\n",
    "  dim3 threads(tf);\n",
    "  \n",
    "  sinkstep_kernel<<<blocks, threads, 2*WARP_SIZE*sizeof(scalar_t), stream>>>(\n",
    "    log_v_a, dist_a, log_nu_a, log_u_a, static_cast<scalar_t>(lambda)\n",
    "    );\n",
    "\n",
    "  return log_v;\n",
    "}\n",
    "\n",
    "torch::Tensor sinkstep_cuda(const torch::Tensor& dist, const torch::Tensor& log_nu, const torch::Tensor& log_u,\n",
    "                            const double lambda) {\n",
    "    return AT_DISPATCH_FLOATING_TYPES(log_u.scalar_type(), \"sinkstep\", [&] {\n",
    "       return sinkstep_cuda_template<scalar_t>(dist, log_nu, log_u, lambda);\n",
    "    });\n",
    "}\n",
    "\n",
    "PYBIND11_MODULE(TORCH_EXTENSION_NAME, m) {\n",
    "  m.def(\"sinkstep\", &sinkstep_cuda, \"sinkhorn step\");\n",
    "}\n",
    "\n",
    "\"\"\""
   ]
  },
  {
   "cell_type": "markdown",
   "metadata": {},
   "source": [
    "## Incorporating it in PyTorch\n",
    "\n",
    "We make this into a PyTorch extension module and add a convenience function (and \"manual\" implementation for the CPU)."
   ]
  },
  {
   "cell_type": "code",
   "execution_count": 4,
   "metadata": {
    "ExecuteTime": {
     "end_time": "2019-08-14T17:40:37.080878Z",
     "start_time": "2019-08-14T17:40:31.239570Z"
    }
   },
   "outputs": [
    {
     "ename": "RuntimeError",
     "evalue": "Error building extension 'wasserstein': b'[1/3] c++ -MMD -MF main.o.d -DTORCH_EXTENSION_NAME=wasserstein -DTORCH_API_INCLUDE_EXTENSION_H -isystem /home/mmp/anaconda3/envs/fastai/lib/python3.6/site-packages/torch/include -isystem /home/mmp/anaconda3/envs/fastai/lib/python3.6/site-packages/torch/include/torch/csrc/api/include -isystem /home/mmp/anaconda3/envs/fastai/lib/python3.6/site-packages/torch/include/TH -isystem /home/mmp/anaconda3/envs/fastai/lib/python3.6/site-packages/torch/include/THC -isystem /usr/local/cuda/include -isystem /home/mmp/anaconda3/envs/fastai/include/python3.6m -D_GLIBCXX_USE_CXX11_ABI=0 -fPIC -std=c++11 -c /tmp/torch_extensions/wasserstein/main.cpp -o main.o\\n[2/3] /usr/local/cuda/bin/nvcc -DTORCH_EXTENSION_NAME=wasserstein -DTORCH_API_INCLUDE_EXTENSION_H -isystem /home/mmp/anaconda3/envs/fastai/lib/python3.6/site-packages/torch/include -isystem /home/mmp/anaconda3/envs/fastai/lib/python3.6/site-packages/torch/include/torch/csrc/api/include -isystem /home/mmp/anaconda3/envs/fastai/lib/python3.6/site-packages/torch/include/TH -isystem /home/mmp/anaconda3/envs/fastai/lib/python3.6/site-packages/torch/include/THC -isystem /usr/local/cuda/include -isystem /home/mmp/anaconda3/envs/fastai/include/python3.6m -D_GLIBCXX_USE_CXX11_ABI=0 -D__CUDA_NO_HALF_OPERATORS__ -D__CUDA_NO_HALF_CONVERSIONS__ -D__CUDA_NO_HALF2_OPERATORS__ --compiler-options \\'-fPIC\\' --expt-relaxed-constexpr -std=c++11 -c /tmp/torch_extensions/wasserstein/cuda.cu -o cuda.cuda.o\\nFAILED: cuda.cuda.o \\n/usr/local/cuda/bin/nvcc -DTORCH_EXTENSION_NAME=wasserstein -DTORCH_API_INCLUDE_EXTENSION_H -isystem /home/mmp/anaconda3/envs/fastai/lib/python3.6/site-packages/torch/include -isystem /home/mmp/anaconda3/envs/fastai/lib/python3.6/site-packages/torch/include/torch/csrc/api/include -isystem /home/mmp/anaconda3/envs/fastai/lib/python3.6/site-packages/torch/include/TH -isystem /home/mmp/anaconda3/envs/fastai/lib/python3.6/site-packages/torch/include/THC -isystem /usr/local/cuda/include -isystem /home/mmp/anaconda3/envs/fastai/include/python3.6m -D_GLIBCXX_USE_CXX11_ABI=0 -D__CUDA_NO_HALF_OPERATORS__ -D__CUDA_NO_HALF_CONVERSIONS__ -D__CUDA_NO_HALF2_OPERATORS__ --compiler-options \\'-fPIC\\' --expt-relaxed-constexpr -std=c++11 -c /tmp/torch_extensions/wasserstein/cuda.cu -o cuda.cuda.o\\n/tmp/torch_extensions/wasserstein/cuda.cu(157): error: identifier \"TORCH_CHECK\" is undefined\\n\\n1 error detected in the compilation of \"/tmp/tmpxft_0000304a_00000000-6_cuda.cpp1.ii\".\\nninja: build stopped: subcommand failed.\\n'",
     "output_type": "error",
     "traceback": [
      "\u001b[0;31m---------------------------------------------------------------------------\u001b[0m",
      "\u001b[0;31mCalledProcessError\u001b[0m                        Traceback (most recent call last)",
      "\u001b[0;32m~/anaconda3/envs/fastai/lib/python3.6/site-packages/torch/utils/cpp_extension.py\u001b[0m in \u001b[0;36m_build_extension_module\u001b[0;34m(name, build_directory, verbose)\u001b[0m\n\u001b[1;32m    948\u001b[0m                 \u001b[0mcwd\u001b[0m\u001b[0;34m=\u001b[0m\u001b[0mbuild_directory\u001b[0m\u001b[0;34m,\u001b[0m\u001b[0;34m\u001b[0m\u001b[0;34m\u001b[0m\u001b[0m\n\u001b[0;32m--> 949\u001b[0;31m                 check=True)\n\u001b[0m\u001b[1;32m    950\u001b[0m         \u001b[0;32melse\u001b[0m\u001b[0;34m:\u001b[0m\u001b[0;34m\u001b[0m\u001b[0;34m\u001b[0m\u001b[0m\n",
      "\u001b[0;32m~/anaconda3/envs/fastai/lib/python3.6/subprocess.py\u001b[0m in \u001b[0;36mrun\u001b[0;34m(input, timeout, check, *popenargs, **kwargs)\u001b[0m\n\u001b[1;32m    437\u001b[0m             raise CalledProcessError(retcode, process.args,\n\u001b[0;32m--> 438\u001b[0;31m                                      output=stdout, stderr=stderr)\n\u001b[0m\u001b[1;32m    439\u001b[0m     \u001b[0;32mreturn\u001b[0m \u001b[0mCompletedProcess\u001b[0m\u001b[0;34m(\u001b[0m\u001b[0mprocess\u001b[0m\u001b[0;34m.\u001b[0m\u001b[0margs\u001b[0m\u001b[0;34m,\u001b[0m \u001b[0mretcode\u001b[0m\u001b[0;34m,\u001b[0m \u001b[0mstdout\u001b[0m\u001b[0;34m,\u001b[0m \u001b[0mstderr\u001b[0m\u001b[0;34m)\u001b[0m\u001b[0;34m\u001b[0m\u001b[0;34m\u001b[0m\u001b[0m\n",
      "\u001b[0;31mCalledProcessError\u001b[0m: Command '['ninja', '-v']' returned non-zero exit status 1.",
      "\nDuring handling of the above exception, another exception occurred:\n",
      "\u001b[0;31mRuntimeError\u001b[0m                              Traceback (most recent call last)",
      "\u001b[0;32m<ipython-input-4-672cb9f149ae>\u001b[0m in \u001b[0;36m<module>\u001b[0;34m\u001b[0m\n\u001b[1;32m      1\u001b[0m wasserstein_ext = torch.utils.cpp_extension.load_inline(\"wasserstein\", cpp_sources=\"\", cuda_sources=cuda_source,\n\u001b[0;32m----> 2\u001b[0;31m                                                     extra_cuda_cflags=[\"--expt-relaxed-constexpr\"]   )\n\u001b[0m\u001b[1;32m      3\u001b[0m \u001b[0;34m\u001b[0m\u001b[0m\n\u001b[1;32m      4\u001b[0m \u001b[0;32mdef\u001b[0m \u001b[0msinkstep\u001b[0m\u001b[0;34m(\u001b[0m\u001b[0mdist\u001b[0m\u001b[0;34m,\u001b[0m \u001b[0mlog_nu\u001b[0m\u001b[0;34m,\u001b[0m \u001b[0mlog_u\u001b[0m\u001b[0;34m,\u001b[0m \u001b[0mlam\u001b[0m\u001b[0;34m:\u001b[0m \u001b[0mfloat\u001b[0m\u001b[0;34m)\u001b[0m\u001b[0;34m:\u001b[0m\u001b[0;34m\u001b[0m\u001b[0;34m\u001b[0m\u001b[0m\n\u001b[1;32m      5\u001b[0m     \u001b[0;31m# dispatch to optimized GPU implementation for GPU tensors, slow fallback for CPU\u001b[0m\u001b[0;34m\u001b[0m\u001b[0;34m\u001b[0m\u001b[0;34m\u001b[0m\u001b[0m\n",
      "\u001b[0;32m~/anaconda3/envs/fastai/lib/python3.6/site-packages/torch/utils/cpp_extension.py\u001b[0m in \u001b[0;36mload_inline\u001b[0;34m(name, cpp_sources, cuda_sources, functions, extra_cflags, extra_cuda_cflags, extra_ldflags, extra_include_paths, build_directory, verbose, with_cuda, is_python_module)\u001b[0m\n\u001b[1;32m    771\u001b[0m         \u001b[0mverbose\u001b[0m\u001b[0;34m,\u001b[0m\u001b[0;34m\u001b[0m\u001b[0;34m\u001b[0m\u001b[0m\n\u001b[1;32m    772\u001b[0m         \u001b[0mwith_cuda\u001b[0m\u001b[0;34m,\u001b[0m\u001b[0;34m\u001b[0m\u001b[0;34m\u001b[0m\u001b[0m\n\u001b[0;32m--> 773\u001b[0;31m         is_python_module)\n\u001b[0m\u001b[1;32m    774\u001b[0m \u001b[0;34m\u001b[0m\u001b[0m\n\u001b[1;32m    775\u001b[0m \u001b[0;34m\u001b[0m\u001b[0m\n",
      "\u001b[0;32m~/anaconda3/envs/fastai/lib/python3.6/site-packages/torch/utils/cpp_extension.py\u001b[0m in \u001b[0;36m_jit_compile\u001b[0;34m(name, sources, extra_cflags, extra_cuda_cflags, extra_ldflags, extra_include_paths, build_directory, verbose, with_cuda, is_python_module)\u001b[0m\n\u001b[1;32m    811\u001b[0m                     \u001b[0mbuild_directory\u001b[0m\u001b[0;34m=\u001b[0m\u001b[0mbuild_directory\u001b[0m\u001b[0;34m,\u001b[0m\u001b[0;34m\u001b[0m\u001b[0;34m\u001b[0m\u001b[0m\n\u001b[1;32m    812\u001b[0m                     \u001b[0mverbose\u001b[0m\u001b[0;34m=\u001b[0m\u001b[0mverbose\u001b[0m\u001b[0;34m,\u001b[0m\u001b[0;34m\u001b[0m\u001b[0;34m\u001b[0m\u001b[0m\n\u001b[0;32m--> 813\u001b[0;31m                     with_cuda=with_cuda)\n\u001b[0m\u001b[1;32m    814\u001b[0m             \u001b[0;32mfinally\u001b[0m\u001b[0;34m:\u001b[0m\u001b[0;34m\u001b[0m\u001b[0;34m\u001b[0m\u001b[0m\n\u001b[1;32m    815\u001b[0m                 \u001b[0mbaton\u001b[0m\u001b[0;34m.\u001b[0m\u001b[0mrelease\u001b[0m\u001b[0;34m(\u001b[0m\u001b[0;34m)\u001b[0m\u001b[0;34m\u001b[0m\u001b[0;34m\u001b[0m\u001b[0m\n",
      "\u001b[0;32m~/anaconda3/envs/fastai/lib/python3.6/site-packages/torch/utils/cpp_extension.py\u001b[0m in \u001b[0;36m_write_ninja_file_and_build\u001b[0;34m(name, sources, extra_cflags, extra_cuda_cflags, extra_ldflags, extra_include_paths, build_directory, verbose, with_cuda)\u001b[0m\n\u001b[1;32m    864\u001b[0m     \u001b[0;32mif\u001b[0m \u001b[0mverbose\u001b[0m\u001b[0;34m:\u001b[0m\u001b[0;34m\u001b[0m\u001b[0;34m\u001b[0m\u001b[0m\n\u001b[1;32m    865\u001b[0m         \u001b[0mprint\u001b[0m\u001b[0;34m(\u001b[0m\u001b[0;34m'Building extension module {}...'\u001b[0m\u001b[0;34m.\u001b[0m\u001b[0mformat\u001b[0m\u001b[0;34m(\u001b[0m\u001b[0mname\u001b[0m\u001b[0;34m)\u001b[0m\u001b[0;34m)\u001b[0m\u001b[0;34m\u001b[0m\u001b[0;34m\u001b[0m\u001b[0m\n\u001b[0;32m--> 866\u001b[0;31m     \u001b[0m_build_extension_module\u001b[0m\u001b[0;34m(\u001b[0m\u001b[0mname\u001b[0m\u001b[0;34m,\u001b[0m \u001b[0mbuild_directory\u001b[0m\u001b[0;34m,\u001b[0m \u001b[0mverbose\u001b[0m\u001b[0;34m)\u001b[0m\u001b[0;34m\u001b[0m\u001b[0;34m\u001b[0m\u001b[0m\n\u001b[0m\u001b[1;32m    867\u001b[0m \u001b[0;34m\u001b[0m\u001b[0m\n\u001b[1;32m    868\u001b[0m \u001b[0;34m\u001b[0m\u001b[0m\n",
      "\u001b[0;32m~/anaconda3/envs/fastai/lib/python3.6/site-packages/torch/utils/cpp_extension.py\u001b[0m in \u001b[0;36m_build_extension_module\u001b[0;34m(name, build_directory, verbose)\u001b[0m\n\u001b[1;32m    960\u001b[0m         \u001b[0;32mif\u001b[0m \u001b[0mhasattr\u001b[0m\u001b[0;34m(\u001b[0m\u001b[0merror\u001b[0m\u001b[0;34m,\u001b[0m \u001b[0;34m'output'\u001b[0m\u001b[0;34m)\u001b[0m \u001b[0;32mand\u001b[0m \u001b[0merror\u001b[0m\u001b[0;34m.\u001b[0m\u001b[0moutput\u001b[0m\u001b[0;34m:\u001b[0m\u001b[0;34m\u001b[0m\u001b[0;34m\u001b[0m\u001b[0m\n\u001b[1;32m    961\u001b[0m             \u001b[0mmessage\u001b[0m \u001b[0;34m+=\u001b[0m \u001b[0;34m\": {}\"\u001b[0m\u001b[0;34m.\u001b[0m\u001b[0mformat\u001b[0m\u001b[0;34m(\u001b[0m\u001b[0mstr\u001b[0m\u001b[0;34m(\u001b[0m\u001b[0merror\u001b[0m\u001b[0;34m.\u001b[0m\u001b[0moutput\u001b[0m\u001b[0;34m)\u001b[0m\u001b[0;34m)\u001b[0m\u001b[0;34m\u001b[0m\u001b[0;34m\u001b[0m\u001b[0m\n\u001b[0;32m--> 962\u001b[0;31m         \u001b[0;32mraise\u001b[0m \u001b[0mRuntimeError\u001b[0m\u001b[0;34m(\u001b[0m\u001b[0mmessage\u001b[0m\u001b[0;34m)\u001b[0m\u001b[0;34m\u001b[0m\u001b[0;34m\u001b[0m\u001b[0m\n\u001b[0m\u001b[1;32m    963\u001b[0m \u001b[0;34m\u001b[0m\u001b[0m\n\u001b[1;32m    964\u001b[0m \u001b[0;34m\u001b[0m\u001b[0m\n",
      "\u001b[0;31mRuntimeError\u001b[0m: Error building extension 'wasserstein': b'[1/3] c++ -MMD -MF main.o.d -DTORCH_EXTENSION_NAME=wasserstein -DTORCH_API_INCLUDE_EXTENSION_H -isystem /home/mmp/anaconda3/envs/fastai/lib/python3.6/site-packages/torch/include -isystem /home/mmp/anaconda3/envs/fastai/lib/python3.6/site-packages/torch/include/torch/csrc/api/include -isystem /home/mmp/anaconda3/envs/fastai/lib/python3.6/site-packages/torch/include/TH -isystem /home/mmp/anaconda3/envs/fastai/lib/python3.6/site-packages/torch/include/THC -isystem /usr/local/cuda/include -isystem /home/mmp/anaconda3/envs/fastai/include/python3.6m -D_GLIBCXX_USE_CXX11_ABI=0 -fPIC -std=c++11 -c /tmp/torch_extensions/wasserstein/main.cpp -o main.o\\n[2/3] /usr/local/cuda/bin/nvcc -DTORCH_EXTENSION_NAME=wasserstein -DTORCH_API_INCLUDE_EXTENSION_H -isystem /home/mmp/anaconda3/envs/fastai/lib/python3.6/site-packages/torch/include -isystem /home/mmp/anaconda3/envs/fastai/lib/python3.6/site-packages/torch/include/torch/csrc/api/include -isystem /home/mmp/anaconda3/envs/fastai/lib/python3.6/site-packages/torch/include/TH -isystem /home/mmp/anaconda3/envs/fastai/lib/python3.6/site-packages/torch/include/THC -isystem /usr/local/cuda/include -isystem /home/mmp/anaconda3/envs/fastai/include/python3.6m -D_GLIBCXX_USE_CXX11_ABI=0 -D__CUDA_NO_HALF_OPERATORS__ -D__CUDA_NO_HALF_CONVERSIONS__ -D__CUDA_NO_HALF2_OPERATORS__ --compiler-options \\'-fPIC\\' --expt-relaxed-constexpr -std=c++11 -c /tmp/torch_extensions/wasserstein/cuda.cu -o cuda.cuda.o\\nFAILED: cuda.cuda.o \\n/usr/local/cuda/bin/nvcc -DTORCH_EXTENSION_NAME=wasserstein -DTORCH_API_INCLUDE_EXTENSION_H -isystem /home/mmp/anaconda3/envs/fastai/lib/python3.6/site-packages/torch/include -isystem /home/mmp/anaconda3/envs/fastai/lib/python3.6/site-packages/torch/include/torch/csrc/api/include -isystem /home/mmp/anaconda3/envs/fastai/lib/python3.6/site-packages/torch/include/TH -isystem /home/mmp/anaconda3/envs/fastai/lib/python3.6/site-packages/torch/include/THC -isystem /usr/local/cuda/include -isystem /home/mmp/anaconda3/envs/fastai/include/python3.6m -D_GLIBCXX_USE_CXX11_ABI=0 -D__CUDA_NO_HALF_OPERATORS__ -D__CUDA_NO_HALF_CONVERSIONS__ -D__CUDA_NO_HALF2_OPERATORS__ --compiler-options \\'-fPIC\\' --expt-relaxed-constexpr -std=c++11 -c /tmp/torch_extensions/wasserstein/cuda.cu -o cuda.cuda.o\\n/tmp/torch_extensions/wasserstein/cuda.cu(157): error: identifier \"TORCH_CHECK\" is undefined\\n\\n1 error detected in the compilation of \"/tmp/tmpxft_0000304a_00000000-6_cuda.cpp1.ii\".\\nninja: build stopped: subcommand failed.\\n'"
     ]
    }
   ],
   "source": [
    "wasserstein_ext = torch.utils.cpp_extension.load_inline(\"wasserstein\", cpp_sources=\"\", cuda_sources=cuda_source,\n",
    "                                                    extra_cuda_cflags=[\"--expt-relaxed-constexpr\"]   )\n",
    "\n",
    "def sinkstep(dist, log_nu, log_u, lam: float):\n",
    "    # dispatch to optimized GPU implementation for GPU tensors, slow fallback for CPU\n",
    "    if dist.is_cuda:\n",
    "        return wasserstein_ext.sinkstep(dist, log_nu, log_u, lam)\n",
    "    assert dist.dim() == 2 and log_nu.dim() == 2 and log_u.dim() == 2\n",
    "    assert dist.size(0) == log_u.size(1) and dist.size(1) == log_nu.size(1) and log_u.size(0) == log_nu.size(0)\n",
    "    log_v = log_nu.clone()\n",
    "    for b in range(log_u.size(0)):\n",
    "        log_v[b] -= torch.logsumexp(-dist/lam+log_u[b, :, None], 1)\n",
    "    return log_v"
   ]
  },
  {
   "cell_type": "markdown",
   "metadata": {},
   "source": [
    "We use this update step in a building block for the Sinkhorn iteration:"
   ]
  },
  {
   "cell_type": "code",
   "execution_count": 5,
   "metadata": {
    "ExecuteTime": {
     "end_time": "2019-08-14T17:40:41.444443Z",
     "start_time": "2019-08-14T17:40:41.436946Z"
    }
   },
   "outputs": [],
   "source": [
    "class SinkhornOT(torch.autograd.Function):\n",
    "    @staticmethod\n",
    "    def forward(ctx, mu, nu, dist, lam=1e-3, N=100):\n",
    "        assert mu.dim() == 2 and nu.dim() == 2 and dist.dim() == 2\n",
    "        bs = mu.size(0)\n",
    "        d1, d2 = dist.size()\n",
    "        assert nu.size(0) == bs and mu.size(1) == d1 and nu.size(1) == d2\n",
    "        log_mu = mu.log()\n",
    "        log_nu = nu.log()\n",
    "        log_u = torch.full_like(mu, -math.log(d1))\n",
    "        log_v = torch.full_like(nu, -math.log(d2))\n",
    "        for i in range(N):\n",
    "            log_v = sinkstep(dist, log_nu, log_u, lam)\n",
    "            log_u = sinkstep(dist.t(), log_mu, log_v, lam)\n",
    "\n",
    "        # this is slight abuse of the function. it computes (diag(exp(log_u))*Mt*exp(-Mt/lam)*diag(exp(log_v))).sum()\n",
    "        # in an efficient (i.e. no bxnxm tensors) way in log space\n",
    "        distances = (-sinkstep(-dist.log()+dist/lam, -log_v, log_u, 1.0)).logsumexp(1).exp()\n",
    "        ctx.log_v = log_v\n",
    "        ctx.log_u = log_u\n",
    "        ctx.dist = dist\n",
    "        ctx.lam = lam\n",
    "        return distances\n",
    "\n",
    "    @staticmethod\n",
    "    def backward(ctx, grad_out):\n",
    "        return grad_out[:, None] * ctx.log_u * ctx.lam, grad_out[:, None] * ctx.log_v * ctx.lam, None, None, None\n"
   ]
  },
  {
   "cell_type": "markdown",
   "metadata": {},
   "source": [
    "We also define a function to get the coupling itself:"
   ]
  },
  {
   "cell_type": "code",
   "execution_count": 6,
   "metadata": {
    "ExecuteTime": {
     "end_time": "2019-08-14T17:40:42.672149Z",
     "start_time": "2019-08-14T17:40:42.665706Z"
    }
   },
   "outputs": [],
   "source": [
    "def get_coupling(mu, nu, dist, lam=1e-3, N=1000):\n",
    "    assert mu.dim() == 2 and nu.dim() == 2 and dist.dim() == 2\n",
    "    bs = mu.size(0)\n",
    "    d1, d2 = dist.size()\n",
    "    assert nu.size(0) == bs and mu.size(1) == d1 and nu.size(1) == d2\n",
    "    log_mu = mu.log()\n",
    "    log_nu = nu.log()\n",
    "    log_u = torch.full_like(mu, -math.log(d1))\n",
    "    log_v = torch.full_like(nu, -math.log(d2))\n",
    "    for i in range(N):\n",
    "        log_v = sinkstep(dist, log_nu, log_u, lam)\n",
    "        log_u = sinkstep(dist.t(), log_mu, log_v, lam)\n",
    "    return (log_v[:, None, :]-dist/lam+log_u[:, :, None]).exp()"
   ]
  },
  {
   "cell_type": "markdown",
   "metadata": {},
   "source": [
    "We define some test distributions. These are similar to examples from [Python Optimal Transport](https://github.com/rflamary/POT/)."
   ]
  },
  {
   "cell_type": "code",
   "execution_count": 7,
   "metadata": {
    "ExecuteTime": {
     "end_time": "2019-08-14T17:40:45.536636Z",
     "start_time": "2019-08-14T17:40:45.383609Z"
    }
   },
   "outputs": [
    {
     "ename": "AttributeError",
     "evalue": "'Tensor' object has no attribute 'ndim'",
     "output_type": "error",
     "traceback": [
      "\u001b[0;31m---------------------------------------------------------------------------\u001b[0m",
      "\u001b[0;31mAttributeError\u001b[0m                            Traceback (most recent call last)",
      "\u001b[0;32m<ipython-input-7-75c35cca5629>\u001b[0m in \u001b[0;36m<module>\u001b[0;34m\u001b[0m\n\u001b[1;32m     13\u001b[0m \u001b[0mcost\u001b[0m \u001b[0;34m=\u001b[0m \u001b[0;34m(\u001b[0m\u001b[0mx\u001b[0m\u001b[0;34m[\u001b[0m\u001b[0;32mNone\u001b[0m\u001b[0;34m,\u001b[0m \u001b[0;34m:\u001b[0m\u001b[0;34m]\u001b[0m\u001b[0;34m-\u001b[0m\u001b[0mx\u001b[0m\u001b[0;34m[\u001b[0m\u001b[0;34m:\u001b[0m\u001b[0;34m,\u001b[0m \u001b[0;32mNone\u001b[0m\u001b[0;34m]\u001b[0m\u001b[0;34m)\u001b[0m\u001b[0;34m**\u001b[0m\u001b[0;36m2\u001b[0m\u001b[0;34m\u001b[0m\u001b[0;34m\u001b[0m\u001b[0m\n\u001b[1;32m     14\u001b[0m \u001b[0mcost\u001b[0m \u001b[0;34m/=\u001b[0m \u001b[0mcost\u001b[0m\u001b[0;34m.\u001b[0m\u001b[0mmax\u001b[0m\u001b[0;34m(\u001b[0m\u001b[0;34m)\u001b[0m\u001b[0;34m\u001b[0m\u001b[0;34m\u001b[0m\u001b[0m\n\u001b[0;32m---> 15\u001b[0;31m \u001b[0mpyplot\u001b[0m\u001b[0;34m.\u001b[0m\u001b[0mplot\u001b[0m\u001b[0;34m(\u001b[0m\u001b[0mmu1\u001b[0m\u001b[0;34m,\u001b[0m \u001b[0mlabel\u001b[0m\u001b[0;34m=\u001b[0m\u001b[0;34m\"$\\mu_1$\"\u001b[0m\u001b[0;34m)\u001b[0m\u001b[0;34m\u001b[0m\u001b[0;34m\u001b[0m\u001b[0m\n\u001b[0m\u001b[1;32m     16\u001b[0m \u001b[0mpyplot\u001b[0m\u001b[0;34m.\u001b[0m\u001b[0mplot\u001b[0m\u001b[0;34m(\u001b[0m\u001b[0mmu2\u001b[0m\u001b[0;34m,\u001b[0m \u001b[0mlabel\u001b[0m\u001b[0;34m=\u001b[0m\u001b[0;34m\"$\\mu_2$\"\u001b[0m\u001b[0;34m)\u001b[0m\u001b[0;34m\u001b[0m\u001b[0;34m\u001b[0m\u001b[0m\n\u001b[1;32m     17\u001b[0m \u001b[0mpyplot\u001b[0m\u001b[0;34m.\u001b[0m\u001b[0mplot\u001b[0m\u001b[0;34m(\u001b[0m\u001b[0mmu3\u001b[0m\u001b[0;34m,\u001b[0m \u001b[0mlabel\u001b[0m\u001b[0;34m=\u001b[0m\u001b[0;34m\"$\\mu_3$\"\u001b[0m\u001b[0;34m)\u001b[0m\u001b[0;34m\u001b[0m\u001b[0;34m\u001b[0m\u001b[0m\n",
      "\u001b[0;32m~/anaconda3/envs/fastai/lib/python3.6/site-packages/matplotlib/pyplot.py\u001b[0m in \u001b[0;36mplot\u001b[0;34m(scalex, scaley, data, *args, **kwargs)\u001b[0m\n\u001b[1;32m   2787\u001b[0m     return gca().plot(\n\u001b[1;32m   2788\u001b[0m         *args, scalex=scalex, scaley=scaley, **({\"data\": data} if data\n\u001b[0;32m-> 2789\u001b[0;31m         is not None else {}), **kwargs)\n\u001b[0m\u001b[1;32m   2790\u001b[0m \u001b[0;34m\u001b[0m\u001b[0m\n\u001b[1;32m   2791\u001b[0m \u001b[0;34m\u001b[0m\u001b[0m\n",
      "\u001b[0;32m~/anaconda3/envs/fastai/lib/python3.6/site-packages/matplotlib/axes/_axes.py\u001b[0m in \u001b[0;36mplot\u001b[0;34m(self, scalex, scaley, data, *args, **kwargs)\u001b[0m\n\u001b[1;32m   1664\u001b[0m         \"\"\"\n\u001b[1;32m   1665\u001b[0m         \u001b[0mkwargs\u001b[0m \u001b[0;34m=\u001b[0m \u001b[0mcbook\u001b[0m\u001b[0;34m.\u001b[0m\u001b[0mnormalize_kwargs\u001b[0m\u001b[0;34m(\u001b[0m\u001b[0mkwargs\u001b[0m\u001b[0;34m,\u001b[0m \u001b[0mmlines\u001b[0m\u001b[0;34m.\u001b[0m\u001b[0mLine2D\u001b[0m\u001b[0;34m.\u001b[0m\u001b[0m_alias_map\u001b[0m\u001b[0;34m)\u001b[0m\u001b[0;34m\u001b[0m\u001b[0;34m\u001b[0m\u001b[0m\n\u001b[0;32m-> 1666\u001b[0;31m         \u001b[0mlines\u001b[0m \u001b[0;34m=\u001b[0m \u001b[0;34m[\u001b[0m\u001b[0;34m*\u001b[0m\u001b[0mself\u001b[0m\u001b[0;34m.\u001b[0m\u001b[0m_get_lines\u001b[0m\u001b[0;34m(\u001b[0m\u001b[0;34m*\u001b[0m\u001b[0margs\u001b[0m\u001b[0;34m,\u001b[0m \u001b[0mdata\u001b[0m\u001b[0;34m=\u001b[0m\u001b[0mdata\u001b[0m\u001b[0;34m,\u001b[0m \u001b[0;34m**\u001b[0m\u001b[0mkwargs\u001b[0m\u001b[0;34m)\u001b[0m\u001b[0;34m]\u001b[0m\u001b[0;34m\u001b[0m\u001b[0;34m\u001b[0m\u001b[0m\n\u001b[0m\u001b[1;32m   1667\u001b[0m         \u001b[0;32mfor\u001b[0m \u001b[0mline\u001b[0m \u001b[0;32min\u001b[0m \u001b[0mlines\u001b[0m\u001b[0;34m:\u001b[0m\u001b[0;34m\u001b[0m\u001b[0;34m\u001b[0m\u001b[0m\n\u001b[1;32m   1668\u001b[0m             \u001b[0mself\u001b[0m\u001b[0;34m.\u001b[0m\u001b[0madd_line\u001b[0m\u001b[0;34m(\u001b[0m\u001b[0mline\u001b[0m\u001b[0;34m)\u001b[0m\u001b[0;34m\u001b[0m\u001b[0;34m\u001b[0m\u001b[0m\n",
      "\u001b[0;32m~/anaconda3/envs/fastai/lib/python3.6/site-packages/matplotlib/axes/_base.py\u001b[0m in \u001b[0;36m__call__\u001b[0;34m(self, *args, **kwargs)\u001b[0m\n\u001b[1;32m    223\u001b[0m                 \u001b[0mthis\u001b[0m \u001b[0;34m+=\u001b[0m \u001b[0margs\u001b[0m\u001b[0;34m[\u001b[0m\u001b[0;36m0\u001b[0m\u001b[0;34m]\u001b[0m\u001b[0;34m,\u001b[0m\u001b[0;34m\u001b[0m\u001b[0;34m\u001b[0m\u001b[0m\n\u001b[1;32m    224\u001b[0m                 \u001b[0margs\u001b[0m \u001b[0;34m=\u001b[0m \u001b[0margs\u001b[0m\u001b[0;34m[\u001b[0m\u001b[0;36m1\u001b[0m\u001b[0;34m:\u001b[0m\u001b[0;34m]\u001b[0m\u001b[0;34m\u001b[0m\u001b[0;34m\u001b[0m\u001b[0m\n\u001b[0;32m--> 225\u001b[0;31m             \u001b[0;32myield\u001b[0m \u001b[0;32mfrom\u001b[0m \u001b[0mself\u001b[0m\u001b[0;34m.\u001b[0m\u001b[0m_plot_args\u001b[0m\u001b[0;34m(\u001b[0m\u001b[0mthis\u001b[0m\u001b[0;34m,\u001b[0m \u001b[0mkwargs\u001b[0m\u001b[0;34m)\u001b[0m\u001b[0;34m\u001b[0m\u001b[0;34m\u001b[0m\u001b[0m\n\u001b[0m\u001b[1;32m    226\u001b[0m \u001b[0;34m\u001b[0m\u001b[0m\n\u001b[1;32m    227\u001b[0m     \u001b[0;32mdef\u001b[0m \u001b[0mget_next_color\u001b[0m\u001b[0;34m(\u001b[0m\u001b[0mself\u001b[0m\u001b[0;34m)\u001b[0m\u001b[0;34m:\u001b[0m\u001b[0;34m\u001b[0m\u001b[0;34m\u001b[0m\u001b[0m\n",
      "\u001b[0;32m~/anaconda3/envs/fastai/lib/python3.6/site-packages/matplotlib/axes/_base.py\u001b[0m in \u001b[0;36m_plot_args\u001b[0;34m(self, tup, kwargs)\u001b[0m\n\u001b[1;32m    389\u001b[0m             \u001b[0mx\u001b[0m\u001b[0;34m,\u001b[0m \u001b[0my\u001b[0m \u001b[0;34m=\u001b[0m \u001b[0mindex_of\u001b[0m\u001b[0;34m(\u001b[0m\u001b[0mtup\u001b[0m\u001b[0;34m[\u001b[0m\u001b[0;34m-\u001b[0m\u001b[0;36m1\u001b[0m\u001b[0;34m]\u001b[0m\u001b[0;34m)\u001b[0m\u001b[0;34m\u001b[0m\u001b[0;34m\u001b[0m\u001b[0m\n\u001b[1;32m    390\u001b[0m \u001b[0;34m\u001b[0m\u001b[0m\n\u001b[0;32m--> 391\u001b[0;31m         \u001b[0mx\u001b[0m\u001b[0;34m,\u001b[0m \u001b[0my\u001b[0m \u001b[0;34m=\u001b[0m \u001b[0mself\u001b[0m\u001b[0;34m.\u001b[0m\u001b[0m_xy_from_xy\u001b[0m\u001b[0;34m(\u001b[0m\u001b[0mx\u001b[0m\u001b[0;34m,\u001b[0m \u001b[0my\u001b[0m\u001b[0;34m)\u001b[0m\u001b[0;34m\u001b[0m\u001b[0;34m\u001b[0m\u001b[0m\n\u001b[0m\u001b[1;32m    392\u001b[0m \u001b[0;34m\u001b[0m\u001b[0m\n\u001b[1;32m    393\u001b[0m         \u001b[0;32mif\u001b[0m \u001b[0mself\u001b[0m\u001b[0;34m.\u001b[0m\u001b[0mcommand\u001b[0m \u001b[0;34m==\u001b[0m \u001b[0;34m'plot'\u001b[0m\u001b[0;34m:\u001b[0m\u001b[0;34m\u001b[0m\u001b[0;34m\u001b[0m\u001b[0m\n",
      "\u001b[0;32m~/anaconda3/envs/fastai/lib/python3.6/site-packages/matplotlib/axes/_base.py\u001b[0m in \u001b[0;36m_xy_from_xy\u001b[0;34m(self, x, y)\u001b[0m\n\u001b[1;32m    269\u001b[0m             raise ValueError(\"x and y must have same first dimension, but \"\n\u001b[1;32m    270\u001b[0m                              \"have shapes {} and {}\".format(x.shape, y.shape))\n\u001b[0;32m--> 271\u001b[0;31m         \u001b[0;32mif\u001b[0m \u001b[0mx\u001b[0m\u001b[0;34m.\u001b[0m\u001b[0mndim\u001b[0m \u001b[0;34m>\u001b[0m \u001b[0;36m2\u001b[0m \u001b[0;32mor\u001b[0m \u001b[0my\u001b[0m\u001b[0;34m.\u001b[0m\u001b[0mndim\u001b[0m \u001b[0;34m>\u001b[0m \u001b[0;36m2\u001b[0m\u001b[0;34m:\u001b[0m\u001b[0;34m\u001b[0m\u001b[0;34m\u001b[0m\u001b[0m\n\u001b[0m\u001b[1;32m    272\u001b[0m             raise ValueError(\"x and y can be no greater than 2-D, but have \"\n\u001b[1;32m    273\u001b[0m                              \"shapes {} and {}\".format(x.shape, y.shape))\n",
      "\u001b[0;31mAttributeError\u001b[0m: 'Tensor' object has no attribute 'ndim'"
     ]
    },
    {
     "data": {
      "image/png": "[encoded data removed]",
      "text/plain": [
       "<Figure size 432x288 with 1 Axes>"
      ]
     },
     "metadata": {
      "needs_background": "light"
     },
     "output_type": "display_data"
    }
   ],
   "source": [
    "# some test distribution densities\n",
    "n = 100\n",
    "lam = 1e-3\n",
    "x = torch.linspace(0, 100, n)\n",
    "mu1 = torch.distributions.Normal(20., 10.).log_prob(x).exp()\n",
    "mu2 = torch.distributions.Normal(60., 30.).log_prob(x).exp()\n",
    "mu3 = torch.distributions.Normal(40., 20.).log_prob(x).exp()\n",
    "mu1 /= mu1.sum()\n",
    "mu2 /= mu2.sum()\n",
    "mu3 /= mu3.sum()\n",
    "mu123 = torch.stack([mu1, mu2, mu3], dim=0)\n",
    "mu231 = torch.stack([mu2, mu3, mu1], dim=0)\n",
    "cost = (x[None, :]-x[:, None])**2\n",
    "cost /= cost.max()\n",
    "pyplot.plot(mu1, label=\"$\\mu_1$\")\n",
    "pyplot.plot(mu2, label=\"$\\mu_2$\")\n",
    "pyplot.plot(mu3, label=\"$\\mu_3$\")\n",
    "pyplot.legend();"
   ]
  },
  {
   "cell_type": "markdown",
   "metadata": {},
   "source": [
    "We run a sanity check for the distance:\n",
    "(This will take longer than you might expect, as it computes a rather large gradient numerically, but it finishes in $<1$ minute on a GTX 1080)"
   ]
  },
  {
   "cell_type": "code",
   "execution_count": 8,
   "metadata": {
    "ExecuteTime": {
     "end_time": "2019-08-14T17:40:52.549715Z",
     "start_time": "2019-08-14T17:40:50.753424Z"
    }
   },
   "outputs": [
    {
     "ename": "NameError",
     "evalue": "name 'sinkstep' is not defined",
     "output_type": "error",
     "traceback": [
      "\u001b[0;31m---------------------------------------------------------------------------\u001b[0m",
      "\u001b[0;31mNameError\u001b[0m                                 Traceback (most recent call last)",
      "\u001b[0;32m<ipython-input-8-e162e29acb05>\u001b[0m in \u001b[0;36m<module>\u001b[0;34m\u001b[0m\n\u001b[1;32m      5\u001b[0m                                                     \u001b[0mcost\u001b[0m\u001b[0;34m.\u001b[0m\u001b[0mto\u001b[0m\u001b[0;34m(\u001b[0m\u001b[0mdevice\u001b[0m\u001b[0;34m=\u001b[0m\u001b[0mdevice\u001b[0m\u001b[0;34m,\u001b[0m \u001b[0mdtype\u001b[0m\u001b[0;34m=\u001b[0m\u001b[0mtorch\u001b[0m\u001b[0;34m.\u001b[0m\u001b[0mdouble\u001b[0m\u001b[0;34m)\u001b[0m\u001b[0;34m,\u001b[0m\u001b[0;34m\u001b[0m\u001b[0;34m\u001b[0m\u001b[0m\n\u001b[1;32m      6\u001b[0m                                                     lam, 500),\n\u001b[0;32m----> 7\u001b[0;31m                          (mu123.log().to(device=device, dtype=torch.double).requires_grad_(),))\n\u001b[0m\u001b[1;32m      8\u001b[0m \u001b[0mprint\u001b[0m\u001b[0;34m(\u001b[0m\u001b[0;34m\"OK? {} took {:.0f} sec\"\u001b[0m\u001b[0;34m.\u001b[0m\u001b[0mformat\u001b[0m\u001b[0;34m(\u001b[0m\u001b[0mres\u001b[0m\u001b[0;34m,\u001b[0m \u001b[0mtime\u001b[0m\u001b[0;34m.\u001b[0m\u001b[0mtime\u001b[0m\u001b[0;34m(\u001b[0m\u001b[0;34m)\u001b[0m\u001b[0;34m-\u001b[0m\u001b[0mt\u001b[0m\u001b[0;34m)\u001b[0m\u001b[0;34m)\u001b[0m\u001b[0;34m\u001b[0m\u001b[0;34m\u001b[0m\u001b[0m\n",
      "\u001b[0;32m~/anaconda3/envs/fastai/lib/python3.6/site-packages/torch/autograd/gradcheck.py\u001b[0m in \u001b[0;36mgradcheck\u001b[0;34m(func, inputs, eps, atol, rtol, raise_exception, check_sparse_nnz)\u001b[0m\n\u001b[1;32m    254\u001b[0m                 'then all other inputs should have requires_grad=True.')\n\u001b[1;32m    255\u001b[0m \u001b[0;34m\u001b[0m\u001b[0m\n\u001b[0;32m--> 256\u001b[0;31m     \u001b[0mfunc_out\u001b[0m \u001b[0;34m=\u001b[0m \u001b[0mfunc\u001b[0m\u001b[0;34m(\u001b[0m\u001b[0;34m*\u001b[0m\u001b[0mtupled_inputs\u001b[0m\u001b[0;34m)\u001b[0m\u001b[0;34m\u001b[0m\u001b[0;34m\u001b[0m\u001b[0m\n\u001b[0m\u001b[1;32m    257\u001b[0m     \u001b[0moutput\u001b[0m \u001b[0;34m=\u001b[0m \u001b[0m_differentiable_outputs\u001b[0m\u001b[0;34m(\u001b[0m\u001b[0mfunc_out\u001b[0m\u001b[0;34m)\u001b[0m\u001b[0;34m\u001b[0m\u001b[0;34m\u001b[0m\u001b[0m\n\u001b[1;32m    258\u001b[0m \u001b[0;34m\u001b[0m\u001b[0m\n",
      "\u001b[0;32m<ipython-input-8-e162e29acb05>\u001b[0m in \u001b[0;36m<lambda>\u001b[0;34m(x)\u001b[0m\n\u001b[1;32m      4\u001b[0m                                                     \u001b[0mmu231\u001b[0m\u001b[0;34m.\u001b[0m\u001b[0mto\u001b[0m\u001b[0;34m(\u001b[0m\u001b[0mdevice\u001b[0m\u001b[0;34m=\u001b[0m\u001b[0mdevice\u001b[0m\u001b[0;34m,\u001b[0m \u001b[0mdtype\u001b[0m\u001b[0;34m=\u001b[0m\u001b[0mtorch\u001b[0m\u001b[0;34m.\u001b[0m\u001b[0mdouble\u001b[0m\u001b[0;34m)\u001b[0m\u001b[0;34m,\u001b[0m\u001b[0;34m\u001b[0m\u001b[0;34m\u001b[0m\u001b[0m\n\u001b[1;32m      5\u001b[0m                                                     \u001b[0mcost\u001b[0m\u001b[0;34m.\u001b[0m\u001b[0mto\u001b[0m\u001b[0;34m(\u001b[0m\u001b[0mdevice\u001b[0m\u001b[0;34m=\u001b[0m\u001b[0mdevice\u001b[0m\u001b[0;34m,\u001b[0m \u001b[0mdtype\u001b[0m\u001b[0;34m=\u001b[0m\u001b[0mtorch\u001b[0m\u001b[0;34m.\u001b[0m\u001b[0mdouble\u001b[0m\u001b[0;34m)\u001b[0m\u001b[0;34m,\u001b[0m\u001b[0;34m\u001b[0m\u001b[0;34m\u001b[0m\u001b[0m\n\u001b[0;32m----> 6\u001b[0;31m                                                     lam, 500),\n\u001b[0m\u001b[1;32m      7\u001b[0m                          (mu123.log().to(device=device, dtype=torch.double).requires_grad_(),))\n\u001b[1;32m      8\u001b[0m \u001b[0mprint\u001b[0m\u001b[0;34m(\u001b[0m\u001b[0;34m\"OK? {} took {:.0f} sec\"\u001b[0m\u001b[0;34m.\u001b[0m\u001b[0mformat\u001b[0m\u001b[0;34m(\u001b[0m\u001b[0mres\u001b[0m\u001b[0;34m,\u001b[0m \u001b[0mtime\u001b[0m\u001b[0;34m.\u001b[0m\u001b[0mtime\u001b[0m\u001b[0;34m(\u001b[0m\u001b[0;34m)\u001b[0m\u001b[0;34m-\u001b[0m\u001b[0mt\u001b[0m\u001b[0;34m)\u001b[0m\u001b[0;34m)\u001b[0m\u001b[0;34m\u001b[0m\u001b[0;34m\u001b[0m\u001b[0m\n",
      "\u001b[0;32m<ipython-input-5-441507434a2b>\u001b[0m in \u001b[0;36mforward\u001b[0;34m(ctx, mu, nu, dist, lam, N)\u001b[0m\n\u001b[1;32m     11\u001b[0m         \u001b[0mlog_v\u001b[0m \u001b[0;34m=\u001b[0m \u001b[0mtorch\u001b[0m\u001b[0;34m.\u001b[0m\u001b[0mfull_like\u001b[0m\u001b[0;34m(\u001b[0m\u001b[0mnu\u001b[0m\u001b[0;34m,\u001b[0m \u001b[0;34m-\u001b[0m\u001b[0mmath\u001b[0m\u001b[0;34m.\u001b[0m\u001b[0mlog\u001b[0m\u001b[0;34m(\u001b[0m\u001b[0md2\u001b[0m\u001b[0;34m)\u001b[0m\u001b[0;34m)\u001b[0m\u001b[0;34m\u001b[0m\u001b[0;34m\u001b[0m\u001b[0m\n\u001b[1;32m     12\u001b[0m         \u001b[0;32mfor\u001b[0m \u001b[0mi\u001b[0m \u001b[0;32min\u001b[0m \u001b[0mrange\u001b[0m\u001b[0;34m(\u001b[0m\u001b[0mN\u001b[0m\u001b[0;34m)\u001b[0m\u001b[0;34m:\u001b[0m\u001b[0;34m\u001b[0m\u001b[0;34m\u001b[0m\u001b[0m\n\u001b[0;32m---> 13\u001b[0;31m             \u001b[0mlog_v\u001b[0m \u001b[0;34m=\u001b[0m \u001b[0msinkstep\u001b[0m\u001b[0;34m(\u001b[0m\u001b[0mdist\u001b[0m\u001b[0;34m,\u001b[0m \u001b[0mlog_nu\u001b[0m\u001b[0;34m,\u001b[0m \u001b[0mlog_u\u001b[0m\u001b[0;34m,\u001b[0m \u001b[0mlam\u001b[0m\u001b[0;34m)\u001b[0m\u001b[0;34m\u001b[0m\u001b[0;34m\u001b[0m\u001b[0m\n\u001b[0m\u001b[1;32m     14\u001b[0m             \u001b[0mlog_u\u001b[0m \u001b[0;34m=\u001b[0m \u001b[0msinkstep\u001b[0m\u001b[0;34m(\u001b[0m\u001b[0mdist\u001b[0m\u001b[0;34m.\u001b[0m\u001b[0mt\u001b[0m\u001b[0;34m(\u001b[0m\u001b[0;34m)\u001b[0m\u001b[0;34m,\u001b[0m \u001b[0mlog_mu\u001b[0m\u001b[0;34m,\u001b[0m \u001b[0mlog_v\u001b[0m\u001b[0;34m,\u001b[0m \u001b[0mlam\u001b[0m\u001b[0;34m)\u001b[0m\u001b[0;34m\u001b[0m\u001b[0;34m\u001b[0m\u001b[0m\n\u001b[1;32m     15\u001b[0m \u001b[0;34m\u001b[0m\u001b[0m\n",
      "\u001b[0;31mNameError\u001b[0m: name 'sinkstep' is not defined"
     ]
    }
   ],
   "source": [
    "t = time.time()\n",
    "device = \"cuda\"\n",
    "res = torch.autograd.gradcheck(lambda x: SinkhornOT.apply(x.softmax(1), \n",
    "                                                    mu231.to(device=device, dtype=torch.double),\n",
    "                                                    cost.to(device=device, dtype=torch.double),\n",
    "                                                    lam, 500),\n",
    "                         (mu123.log().to(device=device, dtype=torch.double).requires_grad_(),))\n",
    "print(\"OK? {} took {:.0f} sec\".format(res, time.time()-t))"
   ]
  },
  {
   "cell_type": "markdown",
   "metadata": {},
   "source": [
    "We can visiualize the coupling along with the marginals:"
   ]
  },
  {
   "cell_type": "code",
   "execution_count": 8,
   "metadata": {},
   "outputs": [
    {
     "data": {
      "image/png": "[encoded data removed]",
      "text/plain": [
       "<Figure size 720x720 with 3 Axes>"
      ]
     },
     "metadata": {
      "needs_background": "light"
     },
     "output_type": "display_data"
    }
   ],
   "source": [
    "coupling = get_coupling(mu123.cuda(), mu231.cuda(), cost.cuda())\n",
    "pyplot.figure(figsize=(10,10))\n",
    "pyplot.subplot(2, 2, 1)\n",
    "pyplot.plot(mu2.cpu())\n",
    "pyplot.subplot(2, 2, 4)\n",
    "pyplot.plot(mu1.cpu(), transform=matplotlib.transforms.Affine2D().rotate_deg(270) + pyplot.gca().transData)\n",
    "pyplot.subplot(2, 2, 3)\n",
    "pyplot.imshow(coupling[0].cpu());"
   ]
  },
  {
   "cell_type": "markdown",
   "metadata": {},
   "source": [
    "This looks a lot like the coupling form Python Optimal Transport and in fact all three match results computed with POT:"
   ]
  },
  {
   "cell_type": "code",
   "execution_count": 9,
   "metadata": {},
   "outputs": [
    {
     "data": {
      "text/plain": [
       "5.492940545082092e-06"
      ]
     },
     "execution_count": 9,
     "metadata": {},
     "output_type": "execute_result"
    },
    {
     "data": {
      "image/png": "[encoded data removed]",
      "text/plain": [
       "<Figure size 432x288 with 1 Axes>"
      ]
     },
     "metadata": {
      "needs_background": "light"
     },
     "output_type": "display_data"
    }
   ],
   "source": [
    "o_coupling12 = torch.tensor(ot.bregman.sinkhorn_stabilized(mu1.cpu(), mu2.cpu(), cost.cpu(), reg=1e-3))\n",
    "o_coupling23 = torch.tensor(ot.bregman.sinkhorn_stabilized(mu2.cpu(), mu3.cpu(), cost.cpu(), reg=1e-3))\n",
    "o_coupling31 = torch.tensor(ot.bregman.sinkhorn_stabilized(mu3.cpu(), mu1.cpu(), cost.cpu(), reg=1e-3))\n",
    "pyplot.imshow(o_coupling12)\n",
    "o_coupling = torch.stack([o_coupling12, o_coupling23, o_coupling31], dim=0)\n",
    "(o_coupling.float() - coupling.cpu()).abs().max().item()"
   ]
  },
  {
   "cell_type": "markdown",
   "metadata": {},
   "source": [
    "## Performance comparison to existing implementations\n",
    "\n",
    "We copy the code of Dazac's recent [blog post](https://github.com/dfdazac/wassdistance/) in order to compare performance.\n",
    "\n",
    "Dazac uses early stopping, but this comes at the cost of introducing a synchronization point after each iteration. I modified the code to take the distance matrix as an argument."
   ]
  },
  {
   "cell_type": "code",
   "execution_count": 10,
   "metadata": {},
   "outputs": [
    {
     "name": "stdout",
     "output_type": "stream",
     "text": [
      "10 loops, best of 5: 46.7 ms per loop\n"
     ]
    },
    {
     "data": {
      "text/plain": [
       "68"
      ]
     },
     "execution_count": 10,
     "metadata": {},
     "output_type": "execute_result"
    },
    {
     "data": {
      "image/png": "[encoded data removed]",
      "text/plain": [
       "<Figure size 432x288 with 1 Axes>"
      ]
     },
     "metadata": {
      "needs_background": "light"
     },
     "output_type": "display_data"
    }
   ],
   "source": [
    "# Copyright 2018 Daniel Dazac\n",
    "# MIT Licensed\n",
    "# License and source: https://github.com/dfdazac/wassdistance/\n",
    "class SinkhornDistance(torch.nn.Module):\n",
    "    r\"\"\"\n",
    "    Given two empirical measures each with :math:`P_1` locations\n",
    "    :math:`x\\in\\mathbb{R}^{D_1}` and :math:`P_2` locations :math:`y\\in\\mathbb{R}^{D_2}`,\n",
    "    outputs an approximation of the regularized OT cost for point clouds.\n",
    "    Args:\n",
    "        eps (float): regularization coefficient\n",
    "        max_iter (int): maximum number of Sinkhorn iterations\n",
    "        reduction (string, optional): Specifies the reduction to apply to the output:\n",
    "            'none' | 'mean' | 'sum'. 'none': no reduction will be applied,\n",
    "            'mean': the sum of the output will be divided by the number of\n",
    "            elements in the output, 'sum': the output will be summed. Default: 'none'\n",
    "    Shape:\n",
    "        - Input: :math:`(N, P_1, D_1)`, :math:`(N, P_2, D_2)`\n",
    "        - Output: :math:`(N)` or :math:`()`, depending on `reduction`\n",
    "    \"\"\"\n",
    "    def __init__(self, eps, max_iter, reduction='none'):\n",
    "        super(SinkhornDistance, self).__init__()\n",
    "        self.eps = eps\n",
    "        self.max_iter = max_iter\n",
    "        self.reduction = reduction\n",
    "\n",
    "    def forward(self, mu, nu, C):\n",
    "        u = torch.zeros_like(mu)\n",
    "        v = torch.zeros_like(nu)\n",
    "        # To check if algorithm terminates because of threshold\n",
    "        # or max iterations reached\n",
    "        actual_nits = 0\n",
    "        # Stopping criterion\n",
    "        thresh = 1e-1\n",
    "\n",
    "        # Sinkhorn iterations\n",
    "        for i in range(self.max_iter):\n",
    "            u1 = u  # useful to check the update\n",
    "            u = self.eps * (torch.log(mu+1e-8) - torch.logsumexp(self.M(C, u, v), dim=-1)) + u\n",
    "            v = self.eps * (torch.log(nu+1e-8) - torch.logsumexp(self.M(C, u, v).transpose(-2, -1), dim=-1)) + v\n",
    "            err = (u - u1).abs().sum(-1).mean()\n",
    "\n",
    "            actual_nits += 1\n",
    "            if err.item() < thresh:\n",
    "                break\n",
    "\n",
    "        U, V = u, v\n",
    "        # Transport plan pi = diag(a)*K*diag(b)\n",
    "        pi = torch.exp(self.M(C, U, V))\n",
    "        # Sinkhorn distance\n",
    "        cost = torch.sum(pi * C, dim=(-2, -1))\n",
    "        self.actual_nits = actual_nits\n",
    "        if self.reduction == 'mean':\n",
    "            cost = cost.mean()\n",
    "        elif self.reduction == 'sum':\n",
    "            cost = cost.sum()\n",
    "\n",
    "        return cost, pi, C\n",
    "\n",
    "    def M(self, C, u, v):\n",
    "        \"Modified cost for logarithmic updates\"\n",
    "        \"$M_{ij} = (-c_{ij} + u_i + v_j) / \\epsilon$\"\n",
    "        return (-C + u.unsqueeze(-1) + v.unsqueeze(-2)) / self.eps\n",
    "\n",
    "    @staticmethod\n",
    "    def ave(u, u1, tau):\n",
    "        \"Barycenter subroutine, used by kinetic acceleration through extrapolation.\"\n",
    "        return tau * u + (1 - tau) * u1\n",
    "\n",
    "n = 100\n",
    "x = torch.linspace(0, 100, n)\n",
    "mu1 = torch.distributions.Normal(20., 10.).log_prob(x).exp()\n",
    "mu2 = torch.distributions.Normal(60., 30.).log_prob(x).exp()\n",
    "mu1 /= mu1.sum()\n",
    "mu2 /= mu2.sum()\n",
    "mu1, mu2, cost = mu1.cuda(), mu2.cuda(), cost.cuda()\n",
    "sinkhorn = SinkhornDistance(eps=1e-3, max_iter=200)\n",
    "def x():\n",
    "    mu1_ = mu1.detach().requires_grad_()\n",
    "    dist, P, C = sinkhorn(mu1_, mu2, cost)\n",
    "    gr, = torch.autograd.grad(dist, mu1_)\n",
    "    torch.cuda.synchronize()\n",
    "\n",
    "dist, P, C = sinkhorn(mu1.cuda(), mu2.cuda(), cost.cuda())\n",
    "torch.cuda.synchronize()\n",
    "x()\n",
    "%timeit x()\n",
    "pyplot.imshow(P.cpu())\n",
    "sinkhorn.actual_nits\n"
   ]
  },
  {
   "cell_type": "code",
   "execution_count": 11,
   "metadata": {},
   "outputs": [
    {
     "name": "stdout",
     "output_type": "stream",
     "text": [
      "100 loops, best of 5: 6.47 ms per loop\n"
     ]
    }
   ],
   "source": [
    "def y():\n",
    "    mu1_ = mu1.detach().requires_grad_()\n",
    "    l = SinkhornOT.apply(mu1_.unsqueeze(0), mu2.unsqueeze(0), cost, 1e-3, 200)\n",
    "    gr, = torch.autograd.grad(l.sum(), mu1_)\n",
    "    torch.cuda.synchronize()\n",
    "y()\n",
    "%timeit y()"
   ]
  },
  {
   "cell_type": "markdown",
   "metadata": {},
   "source": [
    "With this problem size and forward + backward, we achieve a speedup factor of approximately 6.5 when doing about 3 times as many iterations."
   ]
  },
  {
   "cell_type": "markdown",
   "metadata": {},
   "source": [
    "## Barycenters\n",
    "\n",
    "We can also do barycenters. Let's go 2d to do so. I use relative small $N$ because at the time of writing, my GPU is partially occupied by a long-running training."
   ]
  },
  {
   "cell_type": "code",
   "execution_count": 12,
   "metadata": {},
   "outputs": [
    {
     "data": {
      "text/plain": [
       "tensor([0.0143], device='cuda:0')"
      ]
     },
     "execution_count": 12,
     "metadata": {},
     "output_type": "execute_result"
    },
    {
     "data": {
      "image/png": "[encoded data removed]",
      "text/plain": [
       "<Figure size 432x288 with 1 Axes>"
      ]
     },
     "metadata": {
      "needs_background": "light"
     },
     "output_type": "display_data"
    }
   ],
   "source": [
    "N = 50\n",
    "a, b, c = torch.zeros(3, N, N, device=\"cuda\")\n",
    "x = torch.linspace(-5, 5, N, device=\"cuda\")\n",
    "a[N//5:-N//5, N//5:-N//5] = 1\n",
    "b[(x[None]**2+x[:,None]**2 > 4) & (x[None]**2+x[:,None]**2 < 9)] = 1\n",
    "c[((x[None]-2)**2+(x[:,None]-2)**2 < 4) | ((x[None]+2)**2+(x[:,None]+2)**2 < 4)] = 1\n",
    "pyplot.imshow(c.cpu(), cmap=pyplot.cm.gray_r)\n",
    "coords = torch.stack([x[None, :].expand(N, N), x[:, None].expand(N, N)], 2).view(-1, 2)\n",
    "dist = ((coords[None]-coords[:, None])**2).sum(-1)\n",
    "dist /= dist.max()\n",
    "a = (a / a.sum()).view(1, -1)\n",
    "b = (c / b.sum()).view(1, -1)\n",
    "c = (c / c.sum()).view(1, -1)\n",
    "SinkhornOT.apply(a, b, dist, 1e-3, 200)\n"
   ]
  },
  {
   "cell_type": "code",
   "execution_count": 13,
   "metadata": {},
   "outputs": [],
   "source": [
    "def get_barycenter(mu, dist, weights, lam=1e-3, N=1000):\n",
    "    assert mu.dim() == 2 and dist.dim() == 2 and weights.dim() == 1\n",
    "    bs = mu.size(0)\n",
    "    d1, d2 = dist.size()\n",
    "    assert mu.size(1) == d1 and d1 == d2 and weights.size(0) == bs\n",
    "    log_mu = mu.log()\n",
    "    log_u = torch.full_like(mu, -math.log(d1))\n",
    "    zeros = torch.zeros_like(log_u)\n",
    "    for i in range(N):\n",
    "        log_v = sinkstep(dist.t(), log_mu, log_u, lam)\n",
    "        log_u = sinkstep(dist, zeros, log_v, lam)\n",
    "        a = torch.sum(-weights[:, None] * log_u, dim=0, keepdim=True)\n",
    "        log_u += a\n",
    "    return (log_v[:, None, :]-dist/lam+log_u[:, :, None]).exp()\n"
   ]
  },
  {
   "cell_type": "markdown",
   "metadata": {},
   "source": [
    "It's fast enough to just use baricenters for interpolation:"
   ]
  },
  {
   "cell_type": "code",
   "execution_count": 14,
   "metadata": {},
   "outputs": [],
   "source": [
    "res = []\n",
    "for i in torch.linspace(0, 1, 10):\n",
    "    res.append(get_barycenter(torch.cat([a, b, c], 0), dist, torch.tensor([i*0.9, (1-i)*0.9, 0], device=\"cuda\"), N=100))"
   ]
  },
  {
   "cell_type": "code",
   "execution_count": 15,
   "metadata": {},
   "outputs": [
    {
     "data": {
      "text/plain": [
       "<matplotlib.image.AxesImage at 0x7f2af12f5860>"
      ]
     },
     "execution_count": 15,
     "metadata": {},
     "output_type": "execute_result"
    },
    {
     "data": {
      "image/png": "[encoded data removed]",
      "text/plain": [
       "<Figure size 1080x360 with 1 Axes>"
      ]
     },
     "metadata": {
      "needs_background": "light"
     },
     "output_type": "display_data"
    }
   ],
   "source": [
    "pyplot.figure(figsize=(15,5))\n",
    "pyplot.imshow(torch.cat([r[0].sum(1).view(N, N).cpu() for r in res], 1), cmap=pyplot.cm.gray_r)"
   ]
  },
  {
   "cell_type": "code",
   "execution_count": null,
   "metadata": {},
   "outputs": [],
   "source": []
  },
  {
   "cell_type": "code",
   "execution_count": null,
   "metadata": {},
   "outputs": [],
   "source": []
  }
 ],
 "metadata": {
  "kernelspec": {
   "display_name": "fastai",
   "language": "python",
   "name": "fastai"
  },
  "language_info": {
   "codemirror_mode": {
    "name": "ipython",
    "version": 3
   },
   "file_extension": ".py",
   "mimetype": "text/x-python",
   "name": "python",
   "nbconvert_exporter": "python",
   "pygments_lexer": "ipython3",
   "version": "3.6.8"
  },
  "toc": {
   "base_numbering": 1,
   "nav_menu": {},
   "number_sections": true,
   "sideBar": true,
   "skip_h1_title": false,
   "title_cell": "Table of Contents",
   "title_sidebar": "Contents",
   "toc_cell": false,
   "toc_position": {},
   "toc_section_display": true,
   "toc_window_display": false
  }
 },
 "nbformat": 4,
 "nbformat_minor": 2
}
