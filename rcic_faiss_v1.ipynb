{
 "cells": [
  {
   "cell_type": "markdown",
   "metadata": {},
   "source": [
    "# Setup"
   ]
  },
  {
   "cell_type": "markdown",
   "metadata": {},
   "source": [
    "https://github.com/facebookresearch/faiss/wiki/Getting-started"
   ]
  },
  {
   "cell_type": "markdown",
   "metadata": {},
   "source": [
    "**We assume row-major storage, ie. the j'th component of vector number i is stored in row i, column j of the matrix. Faiss uses only 32-bit floating point matrices.**"
   ]
  },
  {
   "cell_type": "code",
   "execution_count": 1,
   "metadata": {
    "ExecuteTime": {
     "end_time": "2019-07-26T04:08:34.006977Z",
     "start_time": "2019-07-26T04:08:33.934620Z"
    }
   },
   "outputs": [],
   "source": [
    "import numpy as np\n",
    "import faiss"
   ]
  },
  {
   "cell_type": "markdown",
   "metadata": {
    "heading_collapsed": true
   },
   "source": [
    "# Test"
   ]
  },
  {
   "cell_type": "code",
   "execution_count": 2,
   "metadata": {
    "ExecuteTime": {
     "end_time": "2019-07-24T17:31:10.572138Z",
     "start_time": "2019-07-24T17:31:10.499376Z"
    },
    "hidden": true
   },
   "outputs": [],
   "source": [
    "d = 64                           # dimension\n",
    "nb = 100000                      # database size\n",
    "nq = 10000                       # nb of queries\n",
    "np.random.seed(1234)             # make reproducible\n",
    "xb = np.random.random((nb, d)).astype('float32')\n",
    "xb[:, 0] += np.arange(nb) / 1000.\n",
    "xq = np.random.random((nq, d)).astype('float32')\n",
    "xq[:, 0] += np.arange(nq) / 1000."
   ]
  },
  {
   "cell_type": "code",
   "execution_count": 3,
   "metadata": {
    "ExecuteTime": {
     "end_time": "2019-07-24T17:31:36.868681Z",
     "start_time": "2019-07-24T17:31:36.862936Z"
    },
    "hidden": true
   },
   "outputs": [
    {
     "data": {
      "text/plain": [
       "((100000, 64), (10000, 64))"
      ]
     },
     "execution_count": 3,
     "metadata": {},
     "output_type": "execute_result"
    }
   ],
   "source": [
    "xb.shape, xq.shape"
   ]
  },
  {
   "cell_type": "code",
   "execution_count": 4,
   "metadata": {
    "ExecuteTime": {
     "end_time": "2019-07-24T17:32:04.600436Z",
     "start_time": "2019-07-24T17:32:04.586744Z"
    },
    "hidden": true
   },
   "outputs": [
    {
     "name": "stdout",
     "output_type": "stream",
     "text": [
      "True\n",
      "100000\n"
     ]
    }
   ],
   "source": [
    "index = faiss.IndexFlatL2(d)   # build the index\n",
    "print(index.is_trained)\n",
    "index.add(xb)                  # add vectors to the index\n",
    "print(index.ntotal)"
   ]
  },
  {
   "cell_type": "code",
   "execution_count": 5,
   "metadata": {
    "ExecuteTime": {
     "end_time": "2019-07-24T17:37:05.461164Z",
     "start_time": "2019-07-24T17:37:03.262564Z"
    },
    "hidden": true
   },
   "outputs": [
    {
     "name": "stdout",
     "output_type": "stream",
     "text": [
      "[[  0 393 363  78]\n",
      " [  1 555 277 364]\n",
      " [  2 304 101  13]\n",
      " [  3 173  18 182]\n",
      " [  4 288 370 531]]\n",
      "[[0.        7.1751738 7.20763   7.2511625]\n",
      " [0.        6.3235645 6.684581  6.799946 ]\n",
      " [0.        5.7964087 6.391736  7.2815123]\n",
      " [0.        7.2779055 7.527987  7.6628466]\n",
      " [0.        6.7638035 7.2951202 7.3688145]]\n",
      "[[ 381  207  210  477]\n",
      " [ 526  911  142   72]\n",
      " [ 838  527 1290  425]\n",
      " [ 196  184  164  359]\n",
      " [ 526  377  120  425]]\n",
      "[[ 9900 10500  9309  9831]\n",
      " [11055 10895 10812 11321]\n",
      " [11353 11103 10164  9787]\n",
      " [10571 10664 10632  9638]\n",
      " [ 9628  9554 10036  9582]]\n"
     ]
    }
   ],
   "source": [
    "k = 4                          # we want to see 4 nearest neighbors\n",
    "D, I = index.search(xb[:5], k) # sanity check\n",
    "print(I)\n",
    "print(D)\n",
    "D, I = index.search(xq, k)     # actual search\n",
    "print(I[:5])                   # neighbors of the 5 first queries\n",
    "print(I[-5:])                  # neighbors of the 5 last queries"
   ]
  },
  {
   "cell_type": "markdown",
   "metadata": {
    "hidden": true
   },
   "source": [
    "1.) https://github.com/facebookresearch/faiss/wiki/Guidelines-to-choose-an-index#will-you-perform-few-searches"
   ]
  },
  {
   "cell_type": "code",
   "execution_count": null,
   "metadata": {
    "hidden": true
   },
   "outputs": [],
   "source": [
    "d = 512\n",
    "index = faiss.IndexFlatIP(d)"
   ]
  },
  {
   "cell_type": "markdown",
   "metadata": {
    "hidden": true
   },
   "source": [
    "2.) IndexFlatIP with normalized vector for cosine similarity (normalize vectors beforehand). https://github.com/facebookresearch/faiss/wiki/Faiss-indexes"
   ]
  },
  {
   "cell_type": "markdown",
   "metadata": {
    "hidden": true
   },
   "source": [
    "https://github.com/facebookresearch/faiss/blob/master/gpu/test/test_pytorch_faiss.py"
   ]
  },
  {
   "cell_type": "markdown",
   "metadata": {
    "hidden": true
   },
   "source": [
    "https://github.com/facebookresearch/faiss/wiki/Brute-force-search-without-an-index#brute-force-search-on-cpu"
   ]
  },
  {
   "cell_type": "markdown",
   "metadata": {
    "hidden": true
   },
   "source": [
    "https://github.com/facebookresearch/faiss/wiki/Running-on-GPUs"
   ]
  },
  {
   "cell_type": "markdown",
   "metadata": {},
   "source": [
    "# Setup"
   ]
  },
  {
   "cell_type": "code",
   "execution_count": 2,
   "metadata": {
    "ExecuteTime": {
     "end_time": "2019-07-26T04:08:37.980808Z",
     "start_time": "2019-07-26T04:08:37.944503Z"
    }
   },
   "outputs": [],
   "source": [
    "xb = np.load('pred/feats_train.npy')\n",
    "yb = np.load('pred/targs_train.npy')\n",
    "xq = np.load('pred/feats_valid.npy')\n",
    "yq = np.load('pred/targs_valid.npy')"
   ]
  },
  {
   "cell_type": "code",
   "execution_count": 3,
   "metadata": {
    "ExecuteTime": {
     "end_time": "2019-07-26T04:08:38.198098Z",
     "start_time": "2019-07-26T04:08:38.192981Z"
    }
   },
   "outputs": [
    {
     "data": {
      "text/plain": [
       "(28480, 512)"
      ]
     },
     "execution_count": 3,
     "metadata": {},
     "output_type": "execute_result"
    }
   ],
   "source": [
    "xb.shape # nb-by-d"
   ]
  },
  {
   "cell_type": "code",
   "execution_count": 4,
   "metadata": {
    "ExecuteTime": {
     "end_time": "2019-07-26T04:08:38.500990Z",
     "start_time": "2019-07-26T04:08:38.497165Z"
    }
   },
   "outputs": [
    {
     "data": {
      "text/plain": [
       "(7738, 512)"
      ]
     },
     "execution_count": 4,
     "metadata": {},
     "output_type": "execute_result"
    }
   ],
   "source": [
    "xq.shape # nq-by-d (query vectors)"
   ]
  },
  {
   "cell_type": "code",
   "execution_count": 5,
   "metadata": {
    "ExecuteTime": {
     "end_time": "2019-07-26T04:08:38.854055Z",
     "start_time": "2019-07-26T04:08:38.851619Z"
    }
   },
   "outputs": [
    {
     "data": {
      "text/plain": [
       "((28480,), (7738,))"
      ]
     },
     "execution_count": 5,
     "metadata": {},
     "output_type": "execute_result"
    }
   ],
   "source": [
    "yb.shape, yq.shape"
   ]
  },
  {
   "cell_type": "code",
   "execution_count": 6,
   "metadata": {
    "ExecuteTime": {
     "end_time": "2019-07-26T04:08:39.230488Z",
     "start_time": "2019-07-26T04:08:39.227534Z"
    }
   },
   "outputs": [
    {
     "data": {
      "text/plain": [
       "(512, 675)"
      ]
     },
     "execution_count": 6,
     "metadata": {},
     "output_type": "execute_result"
    }
   ],
   "source": [
    "## setup\n",
    "d = xb.shape[1] # 512\n",
    "nlist = int(4*np.sqrt(xb.shape[0])) # https://github.com/facebookresearch/faiss/issues/112\n",
    "d, nlist"
   ]
  },
  {
   "cell_type": "code",
   "execution_count": 7,
   "metadata": {
    "ExecuteTime": {
     "end_time": "2019-07-26T04:08:39.559102Z",
     "start_time": "2019-07-26T04:08:39.553545Z"
    }
   },
   "outputs": [],
   "source": [
    "quantizer = faiss.IndexFlatIP(d)\n",
    "index = faiss.IndexIVFFlat(quantizer, d, nlist, faiss.METRIC_INNER_PRODUCT)"
   ]
  },
  {
   "cell_type": "markdown",
   "metadata": {
    "ExecuteTime": {
     "end_time": "2019-07-25T18:29:39.571762Z",
     "start_time": "2019-07-25T18:29:39.562612Z"
    }
   },
   "source": [
    "https://github.com/facebookresearch/faiss/wiki/FAQ#how-can-i-index-vectors-for-cosine-distance"
   ]
  },
  {
   "cell_type": "code",
   "execution_count": 8,
   "metadata": {
    "ExecuteTime": {
     "end_time": "2019-07-26T04:08:40.346318Z",
     "start_time": "2019-07-26T04:08:40.340722Z"
    }
   },
   "outputs": [
    {
     "data": {
      "text/plain": [
       "34.747166"
      ]
     },
     "execution_count": 8,
     "metadata": {},
     "output_type": "execute_result"
    }
   ],
   "source": [
    "xb.max()"
   ]
  },
  {
   "cell_type": "code",
   "execution_count": 9,
   "metadata": {
    "ExecuteTime": {
     "end_time": "2019-07-26T04:08:40.871007Z",
     "start_time": "2019-07-26T04:08:40.863561Z"
    }
   },
   "outputs": [],
   "source": [
    "faiss.normalize_L2(xb)"
   ]
  },
  {
   "cell_type": "code",
   "execution_count": 10,
   "metadata": {
    "ExecuteTime": {
     "end_time": "2019-07-26T04:08:41.315202Z",
     "start_time": "2019-07-26T04:08:41.307585Z"
    }
   },
   "outputs": [
    {
     "data": {
      "text/plain": [
       "0.20313895"
      ]
     },
     "execution_count": 10,
     "metadata": {},
     "output_type": "execute_result"
    }
   ],
   "source": [
    "xb.max()"
   ]
  },
  {
   "cell_type": "code",
   "execution_count": 11,
   "metadata": {
    "ExecuteTime": {
     "end_time": "2019-07-26T04:08:43.013483Z",
     "start_time": "2019-07-26T04:08:41.956452Z"
    }
   },
   "outputs": [],
   "source": [
    "index.train(xb)"
   ]
  },
  {
   "cell_type": "code",
   "execution_count": 12,
   "metadata": {
    "ExecuteTime": {
     "end_time": "2019-07-26T04:08:43.192842Z",
     "start_time": "2019-07-26T04:08:43.014477Z"
    }
   },
   "outputs": [],
   "source": [
    "index.add_with_ids(xb, yb)"
   ]
  },
  {
   "cell_type": "code",
   "execution_count": 13,
   "metadata": {
    "ExecuteTime": {
     "end_time": "2019-07-26T04:08:43.204807Z",
     "start_time": "2019-07-26T04:08:43.194024Z"
    }
   },
   "outputs": [
    {
     "name": "stdout",
     "output_type": "stream",
     "text": [
      "True\n",
      "28480\n"
     ]
    }
   ],
   "source": [
    "print(index.is_trained)\n",
    "print(index.ntotal)"
   ]
  },
  {
   "cell_type": "markdown",
   "metadata": {},
   "source": [
    "## Train dataset"
   ]
  },
  {
   "cell_type": "code",
   "execution_count": 14,
   "metadata": {
    "ExecuteTime": {
     "end_time": "2019-07-26T04:08:45.937863Z",
     "start_time": "2019-07-26T04:08:45.710311Z"
    }
   },
   "outputs": [
    {
     "name": "stdout",
     "output_type": "stream",
     "text": [
      "[[ 880  880  880  880  880]\n",
      " [ 358 1025  358  358  589]\n",
      " [ 747  747  298  298  298]\n",
      " [ 723  723  723  723  723]\n",
      " [ 807  807  807  807  807]]\n",
      "[[880]\n",
      " [358]\n",
      " [747]\n",
      " [723]\n",
      " [807]]\n",
      "[[0.9999999  0.81978416 0.7964642  0.71875656 0.71451867]\n",
      " [0.99999994 0.7125491  0.70746976 0.6914145  0.6503389 ]\n",
      " [1.         0.729566   0.7190633  0.6984681  0.6754602 ]\n",
      " [1.0000001  0.8504113  0.8446528  0.8238198  0.81842124]\n",
      " [1.         0.8744553  0.86247766 0.8502133  0.8297723 ]]\n"
     ]
    }
   ],
   "source": [
    "## search\n",
    "k = 5 # we want to see 5 nearest neighbors\n",
    "D_train, I_train = index.search(xb, k) # sanity check\n",
    "print(I_train[:5])\n",
    "print(yb[:5].reshape((5,1)))\n",
    "print(D_train[:5])"
   ]
  },
  {
   "cell_type": "code",
   "execution_count": null,
   "metadata": {
    "ExecuteTime": {
     "end_time": "2019-07-25T19:45:54.396714Z",
     "start_time": "2019-07-25T19:45:54.392636Z"
    }
   },
   "outputs": [],
   "source": []
  },
  {
   "cell_type": "code",
   "execution_count": 15,
   "metadata": {
    "ExecuteTime": {
     "end_time": "2019-07-26T04:08:47.302003Z",
     "start_time": "2019-07-26T04:08:47.298035Z"
    }
   },
   "outputs": [
    {
     "data": {
      "text/plain": [
       "(1107, 1107)"
      ]
     },
     "execution_count": 15,
     "metadata": {},
     "output_type": "execute_result"
    }
   ],
   "source": [
    "yb.max(), I_train.max()"
   ]
  },
  {
   "cell_type": "markdown",
   "metadata": {},
   "source": [
    "### Train accuracy"
   ]
  },
  {
   "cell_type": "code",
   "execution_count": 16,
   "metadata": {
    "ExecuteTime": {
     "end_time": "2019-07-26T04:08:48.399852Z",
     "start_time": "2019-07-26T04:08:48.396038Z"
    }
   },
   "outputs": [
    {
     "data": {
      "text/plain": [
       "((28480,), (28480,))"
      ]
     },
     "execution_count": 16,
     "metadata": {},
     "output_type": "execute_result"
    }
   ],
   "source": [
    "I_train[:,0].shape, yb.shape"
   ]
  },
  {
   "cell_type": "code",
   "execution_count": 17,
   "metadata": {
    "ExecuteTime": {
     "end_time": "2019-07-26T04:08:48.926357Z",
     "start_time": "2019-07-26T04:08:48.923273Z"
    }
   },
   "outputs": [
    {
     "data": {
      "text/plain": [
       "1.0"
      ]
     },
     "execution_count": 17,
     "metadata": {},
     "output_type": "execute_result"
    }
   ],
   "source": [
    "# Accuracy\n",
    "np.equal(I_train[:,0], yb).sum()/len(yb)"
   ]
  },
  {
   "cell_type": "code",
   "execution_count": 18,
   "metadata": {
    "ExecuteTime": {
     "end_time": "2019-07-26T04:08:49.516154Z",
     "start_time": "2019-07-26T04:08:49.512988Z"
    }
   },
   "outputs": [
    {
     "data": {
      "text/plain": [
       "(array([880, 358, 747, 723, 807, 484, 279, 590, 246, 870]),\n",
       " array([880, 358, 747, 723, 807, 484, 279, 590, 246, 870]))"
      ]
     },
     "execution_count": 18,
     "metadata": {},
     "output_type": "execute_result"
    }
   ],
   "source": [
    "I_train[:10,0], yb[:10]"
   ]
  },
  {
   "cell_type": "code",
   "execution_count": 19,
   "metadata": {
    "ExecuteTime": {
     "end_time": "2019-07-26T04:08:50.099495Z",
     "start_time": "2019-07-26T04:08:50.096407Z"
    }
   },
   "outputs": [
    {
     "data": {
      "text/plain": [
       "(array([957, 567, 592,  92, 641, 777, 760, 288, 355, 262]),\n",
       " array([957, 567, 592,  92, 641, 777, 760, 288, 355, 262]))"
      ]
     },
     "execution_count": 19,
     "metadata": {},
     "output_type": "execute_result"
    }
   ],
   "source": [
    "I_train[-10:,0], yb[-10:]"
   ]
  },
  {
   "cell_type": "markdown",
   "metadata": {},
   "source": [
    "## Valid dataset"
   ]
  },
  {
   "cell_type": "code",
   "execution_count": 20,
   "metadata": {
    "ExecuteTime": {
     "end_time": "2019-07-26T04:08:51.695253Z",
     "start_time": "2019-07-26T04:08:51.690046Z"
    }
   },
   "outputs": [
    {
     "data": {
      "text/plain": [
       "26.715216"
      ]
     },
     "execution_count": 20,
     "metadata": {},
     "output_type": "execute_result"
    }
   ],
   "source": [
    "xq.max()"
   ]
  },
  {
   "cell_type": "code",
   "execution_count": 21,
   "metadata": {
    "ExecuteTime": {
     "end_time": "2019-07-26T04:08:52.362598Z",
     "start_time": "2019-07-26T04:08:52.355067Z"
    }
   },
   "outputs": [],
   "source": [
    "faiss.normalize_L2(xq)"
   ]
  },
  {
   "cell_type": "code",
   "execution_count": 22,
   "metadata": {
    "ExecuteTime": {
     "end_time": "2019-07-26T04:08:52.807778Z",
     "start_time": "2019-07-26T04:08:52.802404Z"
    }
   },
   "outputs": [
    {
     "data": {
      "text/plain": [
       "0.20355459"
      ]
     },
     "execution_count": 22,
     "metadata": {},
     "output_type": "execute_result"
    }
   ],
   "source": [
    "xq.max()"
   ]
  },
  {
   "cell_type": "code",
   "execution_count": 23,
   "metadata": {
    "ExecuteTime": {
     "end_time": "2019-07-26T04:08:53.344828Z",
     "start_time": "2019-07-26T04:08:53.269682Z"
    }
   },
   "outputs": [],
   "source": [
    "D_valid, I_valid = index.search(xq, k) # actual search"
   ]
  },
  {
   "cell_type": "code",
   "execution_count": 24,
   "metadata": {
    "ExecuteTime": {
     "end_time": "2019-07-26T04:08:53.723003Z",
     "start_time": "2019-07-26T04:08:53.720810Z"
    }
   },
   "outputs": [
    {
     "data": {
      "text/plain": [
       "((7738, 512), (7738,))"
      ]
     },
     "execution_count": 24,
     "metadata": {},
     "output_type": "execute_result"
    }
   ],
   "source": [
    "xq.shape, yq.shape"
   ]
  },
  {
   "cell_type": "code",
   "execution_count": 25,
   "metadata": {
    "ExecuteTime": {
     "end_time": "2019-07-26T04:09:50.549920Z",
     "start_time": "2019-07-26T04:09:50.544625Z"
    }
   },
   "outputs": [
    {
     "data": {
      "text/plain": [
       "((7738, 5), (7738, 5))"
      ]
     },
     "execution_count": 25,
     "metadata": {},
     "output_type": "execute_result"
    }
   ],
   "source": [
    "I_valid.shape, D_valid.shape"
   ]
  },
  {
   "cell_type": "code",
   "execution_count": 26,
   "metadata": {
    "ExecuteTime": {
     "end_time": "2019-07-26T04:08:54.834483Z",
     "start_time": "2019-07-26T04:08:54.830925Z"
    }
   },
   "outputs": [
    {
     "name": "stdout",
     "output_type": "stream",
     "text": [
      "[[773 773 773 773 773]\n",
      " [581 581 581 581 581]\n",
      " [432 552 873   6 951]\n",
      " [842 842 842 842 842]\n",
      " [829 829 472 829 829]]\n",
      "[[352]\n",
      " [361]\n",
      " [503]\n",
      " [505]\n",
      " [ 70]]\n",
      "[[0.62117064 0.61026514 0.5783237  0.54274446 0.53929734]\n",
      " [0.58277637 0.55753195 0.5471376  0.52974564 0.5239972 ]\n",
      " [0.51995504 0.50595415 0.44293255 0.43805957 0.4254344 ]\n",
      " [0.6076556  0.590749   0.58873665 0.5834438  0.58302367]\n",
      " [0.5711089  0.53516287 0.52997565 0.5183896  0.4921634 ]]\n"
     ]
    }
   ],
   "source": [
    "print(I_valid[:5]) # neighbors of the 5 first queries\n",
    "print(yq[:5].reshape((5,1)))\n",
    "print(D_valid[:5])"
   ]
  },
  {
   "cell_type": "code",
   "execution_count": 27,
   "metadata": {
    "ExecuteTime": {
     "end_time": "2019-07-26T04:08:55.361831Z",
     "start_time": "2019-07-26T04:08:55.357300Z"
    }
   },
   "outputs": [
    {
     "name": "stdout",
     "output_type": "stream",
     "text": [
      "[[ 461  445  728  445  445]\n",
      " [ 503  503  503  503  503]\n",
      " [ 981  981  981  357  357]\n",
      " [ 715  937  715   23  459]\n",
      " [1062  399 1062 1062  399]]\n",
      "[[103]\n",
      " [202]\n",
      " [824]\n",
      " [328]\n",
      " [509]]\n",
      "[[0.5480005  0.51625204 0.4980685  0.45474982 0.44727704]\n",
      " [0.5883873  0.5339542  0.52783245 0.5191296  0.5158694 ]\n",
      " [0.4667648  0.4596996  0.4362784  0.4260381  0.4210328 ]\n",
      " [0.60262525 0.58653855 0.4269622  0.4253887  0.42438567]\n",
      " [0.48088986 0.4799772  0.47175464 0.46832532 0.45421815]]\n"
     ]
    }
   ],
   "source": [
    "print(I_valid[-5:]) # neighbors of the 5 last queries\n",
    "print(yq[-5:].reshape((5,1)))\n",
    "print(D_valid[-5:])"
   ]
  },
  {
   "cell_type": "code",
   "execution_count": 30,
   "metadata": {
    "ExecuteTime": {
     "end_time": "2019-07-26T04:09:10.120161Z",
     "start_time": "2019-07-26T04:09:10.117988Z"
    }
   },
   "outputs": [],
   "source": [
    "np.save('pred/preds_valid.npy', I_valid)"
   ]
  },
  {
   "cell_type": "markdown",
   "metadata": {},
   "source": [
    "### Valid accuracy"
   ]
  },
  {
   "cell_type": "code",
   "execution_count": 31,
   "metadata": {
    "ExecuteTime": {
     "end_time": "2019-07-26T04:09:12.791597Z",
     "start_time": "2019-07-26T04:09:12.788807Z"
    }
   },
   "outputs": [
    {
     "data": {
      "text/plain": [
       "array([ 773,  581,  432, ...,  981,  715, 1062])"
      ]
     },
     "execution_count": 31,
     "metadata": {},
     "output_type": "execute_result"
    }
   ],
   "source": [
    "I_valid[:,0]"
   ]
  },
  {
   "cell_type": "code",
   "execution_count": 32,
   "metadata": {
    "ExecuteTime": {
     "end_time": "2019-07-26T04:09:13.808906Z",
     "start_time": "2019-07-26T04:09:13.805332Z"
    }
   },
   "outputs": [
    {
     "data": {
      "text/plain": [
       "array([352, 361, 503, ..., 824, 328, 509])"
      ]
     },
     "execution_count": 32,
     "metadata": {},
     "output_type": "execute_result"
    }
   ],
   "source": [
    "yq"
   ]
  },
  {
   "cell_type": "code",
   "execution_count": 33,
   "metadata": {
    "ExecuteTime": {
     "end_time": "2019-07-26T04:09:25.489157Z",
     "start_time": "2019-07-26T04:09:25.486157Z"
    }
   },
   "outputs": [
    {
     "data": {
      "text/plain": [
       "1506"
      ]
     },
     "execution_count": 33,
     "metadata": {},
     "output_type": "execute_result"
    }
   ],
   "source": [
    "# Correct elements\n",
    "np.equal(I_valid[:,0], yq).sum()"
   ]
  },
  {
   "cell_type": "code",
   "execution_count": 34,
   "metadata": {
    "ExecuteTime": {
     "end_time": "2019-07-26T04:09:26.141018Z",
     "start_time": "2019-07-26T04:09:26.138173Z"
    }
   },
   "outputs": [
    {
     "data": {
      "text/plain": [
       "0.19462393383303178"
      ]
     },
     "execution_count": 34,
     "metadata": {},
     "output_type": "execute_result"
    }
   ],
   "source": [
    "# Accuracy\n",
    "np.equal(I_valid[:,0], yq).sum()/len(yq)"
   ]
  },
  {
   "cell_type": "code",
   "execution_count": 35,
   "metadata": {
    "ExecuteTime": {
     "end_time": "2019-07-26T04:09:27.972522Z",
     "start_time": "2019-07-26T04:09:27.969935Z"
    }
   },
   "outputs": [],
   "source": [
    "valid_correct = np.equal(I_valid[:,0], yq)"
   ]
  },
  {
   "cell_type": "code",
   "execution_count": 36,
   "metadata": {
    "ExecuteTime": {
     "end_time": "2019-07-26T04:09:28.506509Z",
     "start_time": "2019-07-26T04:09:28.502955Z"
    }
   },
   "outputs": [
    {
     "data": {
      "text/plain": [
       "array([False, False, False, ..., False, False, False])"
      ]
     },
     "execution_count": 36,
     "metadata": {},
     "output_type": "execute_result"
    }
   ],
   "source": [
    "valid_correct"
   ]
  },
  {
   "cell_type": "code",
   "execution_count": 37,
   "metadata": {
    "ExecuteTime": {
     "end_time": "2019-07-26T04:09:29.107978Z",
     "start_time": "2019-07-26T04:09:29.105658Z"
    }
   },
   "outputs": [],
   "source": [
    "np.save('pred/preds_valid_correct.npy', valid_correct)"
   ]
  },
  {
   "cell_type": "markdown",
   "metadata": {},
   "source": [
    "### Valid confusion matrix"
   ]
  },
  {
   "cell_type": "code",
   "execution_count": 38,
   "metadata": {
    "ExecuteTime": {
     "end_time": "2019-07-26T04:09:32.309967Z",
     "start_time": "2019-07-26T04:09:31.975889Z"
    }
   },
   "outputs": [],
   "source": [
    "import matplotlib.pyplot as plt\n",
    "from sklearn.metrics import confusion_matrix\n",
    "from sklearn.utils.multiclass import unique_labels"
   ]
  },
  {
   "cell_type": "code",
   "execution_count": 39,
   "metadata": {
    "ExecuteTime": {
     "end_time": "2019-07-26T04:09:32.323158Z",
     "start_time": "2019-07-26T04:09:32.311029Z"
    }
   },
   "outputs": [],
   "source": [
    "cm = confusion_matrix(I_valid[:,0], yq)"
   ]
  },
  {
   "cell_type": "code",
   "execution_count": 40,
   "metadata": {
    "ExecuteTime": {
     "end_time": "2019-07-26T04:09:33.103810Z",
     "start_time": "2019-07-26T04:09:32.622689Z"
    },
    "scrolled": false
   },
   "outputs": [
    {
     "data": {
      "text/plain": [
       "<matplotlib.image.AxesImage at 0x7f724506e9b0>"
      ]
     },
     "execution_count": 40,
     "metadata": {},
     "output_type": "execute_result"
    },
    {
     "data": {
      "image/png": "[encoded data removed]",
      "text/plain": [
       "<Figure size 1080x1080 with 1 Axes>"
      ]
     },
     "metadata": {
      "needs_background": "light"
     },
     "output_type": "display_data"
    }
   ],
   "source": [
    "fig, ax = plt.subplots(figsize=(15,15))\n",
    "ax.matshow(cm)"
   ]
  },
  {
   "cell_type": "code",
   "execution_count": 41,
   "metadata": {
    "ExecuteTime": {
     "end_time": "2019-07-26T04:09:35.769328Z",
     "start_time": "2019-07-26T04:09:35.765465Z"
    }
   },
   "outputs": [
    {
     "data": {
      "text/plain": [
       "(1108, 1108)"
      ]
     },
     "execution_count": 41,
     "metadata": {},
     "output_type": "execute_result"
    }
   ],
   "source": [
    "cm.shape"
   ]
  },
  {
   "cell_type": "code",
   "execution_count": 42,
   "metadata": {
    "ExecuteTime": {
     "end_time": "2019-07-26T04:09:36.265570Z",
     "start_time": "2019-07-26T04:09:36.261734Z"
    }
   },
   "outputs": [
    {
     "data": {
      "text/plain": [
       "array([[ True, False, False, ..., False, False, False],\n",
       "       [False,  True, False, ..., False, False, False],\n",
       "       [False, False,  True, ..., False, False, False],\n",
       "       ...,\n",
       "       [False, False, False, ...,  True, False, False],\n",
       "       [False, False, False, ..., False,  True, False],\n",
       "       [False, False, False, ..., False, False,  True]])"
      ]
     },
     "execution_count": 42,
     "metadata": {},
     "output_type": "execute_result"
    }
   ],
   "source": [
    "np.eye(1108, dtype=bool)"
   ]
  },
  {
   "cell_type": "code",
   "execution_count": 43,
   "metadata": {
    "ExecuteTime": {
     "end_time": "2019-07-26T04:09:36.605524Z",
     "start_time": "2019-07-26T04:09:36.601250Z"
    }
   },
   "outputs": [
    {
     "data": {
      "text/plain": [
       "1506"
      ]
     },
     "execution_count": 43,
     "metadata": {},
     "output_type": "execute_result"
    }
   ],
   "source": [
    "cm[np.eye(1108, dtype=bool)].sum()"
   ]
  },
  {
   "cell_type": "code",
   "execution_count": 44,
   "metadata": {
    "ExecuteTime": {
     "end_time": "2019-07-26T04:09:37.189724Z",
     "start_time": "2019-07-26T04:09:37.182889Z"
    }
   },
   "outputs": [
    {
     "data": {
      "text/plain": [
       "6232"
      ]
     },
     "execution_count": 44,
     "metadata": {},
     "output_type": "execute_result"
    }
   ],
   "source": [
    "cm[~np.eye(1108, dtype=bool)].sum()"
   ]
  },
  {
   "cell_type": "code",
   "execution_count": 45,
   "metadata": {
    "ExecuteTime": {
     "end_time": "2019-07-26T04:09:37.743649Z",
     "start_time": "2019-07-26T04:09:37.735742Z"
    }
   },
   "outputs": [
    {
     "data": {
      "text/plain": [
       "0.19462393383303178"
      ]
     },
     "execution_count": 45,
     "metadata": {},
     "output_type": "execute_result"
    }
   ],
   "source": [
    "cm[np.eye(1108, dtype=bool)].sum()/(cm[~np.eye(1108, dtype=bool)].sum() + cm[np.eye(1108, dtype=bool)].sum())"
   ]
  },
  {
   "cell_type": "code",
   "execution_count": 46,
   "metadata": {
    "ExecuteTime": {
     "end_time": "2019-07-26T04:09:39.709845Z",
     "start_time": "2019-07-26T04:09:39.705215Z"
    }
   },
   "outputs": [
    {
     "data": {
      "text/plain": [
       "array([[False,  True,  True, ...,  True,  True,  True],\n",
       "       [ True, False,  True, ...,  True,  True,  True],\n",
       "       [ True,  True, False, ...,  True,  True,  True],\n",
       "       ...,\n",
       "       [ True,  True,  True, ..., False,  True,  True],\n",
       "       [ True,  True,  True, ...,  True, False,  True],\n",
       "       [ True,  True,  True, ...,  True,  True, False]])"
      ]
     },
     "execution_count": 46,
     "metadata": {},
     "output_type": "execute_result"
    }
   ],
   "source": [
    "~np.eye(1108, dtype=bool)"
   ]
  },
  {
   "cell_type": "code",
   "execution_count": 47,
   "metadata": {
    "ExecuteTime": {
     "end_time": "2019-07-26T04:09:40.311770Z",
     "start_time": "2019-07-26T04:09:40.305193Z"
    }
   },
   "outputs": [
    {
     "data": {
      "text/plain": [
       "array([0, 0, 0, ..., 0, 0, 0])"
      ]
     },
     "execution_count": 47,
     "metadata": {},
     "output_type": "execute_result"
    }
   ],
   "source": [
    "cm[~np.eye(1108, dtype=bool)]"
   ]
  },
  {
   "cell_type": "code",
   "execution_count": 48,
   "metadata": {
    "ExecuteTime": {
     "end_time": "2019-07-26T04:09:40.973188Z",
     "start_time": "2019-07-26T04:09:40.958109Z"
    }
   },
   "outputs": [
    {
     "data": {
      "text/plain": [
       "array([[-0.,  1.,  1., ...,  1.,  1.,  1.],\n",
       "       [ 1., -0.,  1., ...,  1.,  1.,  1.],\n",
       "       [ 1.,  1., -0., ...,  1.,  1.,  1.],\n",
       "       ...,\n",
       "       [ 1.,  1.,  1., ..., -0.,  1.,  1.],\n",
       "       [ 1.,  1.,  1., ...,  1., -0.,  1.],\n",
       "       [ 1.,  1.,  1., ...,  1.,  1., -0.]])"
      ]
     },
     "execution_count": 48,
     "metadata": {},
     "output_type": "execute_result"
    }
   ],
   "source": [
    "-(np.eye(1108)-1)"
   ]
  },
  {
   "cell_type": "code",
   "execution_count": 49,
   "metadata": {
    "ExecuteTime": {
     "end_time": "2019-07-26T04:09:41.568051Z",
     "start_time": "2019-07-26T04:09:41.557245Z"
    }
   },
   "outputs": [
    {
     "data": {
      "text/plain": [
       "array([[-0.,  0.,  0., ...,  0.,  0.,  0.],\n",
       "       [ 0., -0.,  0., ...,  0.,  0.,  0.],\n",
       "       [ 0.,  0., -0., ...,  0.,  0.,  0.],\n",
       "       ...,\n",
       "       [ 0.,  0.,  0., ..., -0.,  0.,  0.],\n",
       "       [ 0.,  0.,  0., ...,  0., -0.,  0.],\n",
       "       [ 0.,  0.,  0., ...,  0.,  0., -0.]])"
      ]
     },
     "execution_count": 49,
     "metadata": {},
     "output_type": "execute_result"
    }
   ],
   "source": [
    "cm * -(np.eye(1108)-1)"
   ]
  },
  {
   "cell_type": "code",
   "execution_count": 50,
   "metadata": {
    "ExecuteTime": {
     "end_time": "2019-07-26T04:09:43.899389Z",
     "start_time": "2019-07-26T04:09:43.891223Z"
    }
   },
   "outputs": [],
   "source": [
    "cm_wodia = (cm * -(np.eye(1108)-1))"
   ]
  },
  {
   "cell_type": "code",
   "execution_count": 51,
   "metadata": {
    "ExecuteTime": {
     "end_time": "2019-07-26T04:09:44.439218Z",
     "start_time": "2019-07-26T04:09:44.435213Z"
    }
   },
   "outputs": [
    {
     "data": {
      "text/plain": [
       "(1108, 1108)"
      ]
     },
     "execution_count": 51,
     "metadata": {},
     "output_type": "execute_result"
    }
   ],
   "source": [
    "cm_wodia.shape"
   ]
  },
  {
   "cell_type": "code",
   "execution_count": 52,
   "metadata": {
    "ExecuteTime": {
     "end_time": "2019-07-26T04:09:44.905147Z",
     "start_time": "2019-07-26T04:09:44.900327Z"
    }
   },
   "outputs": [
    {
     "data": {
      "text/plain": [
       "array([3., 5., 4., ..., 7., 6., 5.])"
      ]
     },
     "execution_count": 52,
     "metadata": {},
     "output_type": "execute_result"
    }
   ],
   "source": [
    "cm_wodia.sum(axis=0)"
   ]
  },
  {
   "cell_type": "code",
   "execution_count": 53,
   "metadata": {
    "ExecuteTime": {
     "end_time": "2019-07-26T04:09:45.317861Z",
     "start_time": "2019-07-26T04:09:45.313579Z"
    }
   },
   "outputs": [
    {
     "data": {
      "text/plain": [
       "array([ 9.,  6.,  1., ...,  3., 10.,  4.])"
      ]
     },
     "execution_count": 53,
     "metadata": {},
     "output_type": "execute_result"
    }
   ],
   "source": [
    "cm_wodia.sum(axis=1)"
   ]
  },
  {
   "cell_type": "code",
   "execution_count": null,
   "metadata": {},
   "outputs": [],
   "source": []
  },
  {
   "cell_type": "code",
   "execution_count": 73,
   "metadata": {
    "ExecuteTime": {
     "end_time": "2019-07-25T20:17:32.791852Z",
     "start_time": "2019-07-25T20:17:32.784165Z"
    },
    "code_folding": [
     1
    ]
   },
   "outputs": [],
   "source": [
    "# from https://scikit-learn.org/stable/auto_examples/model_selection/plot_confusion_matrix.html#sphx-glr-auto-examples-model-selection-plot-confusion-matrix-py\n",
    "#def plot_confusion_matrix(y_true, y_pred, classes,\n",
    "                          normalize=False,\n",
    "                          title=None,\n",
    "                          cmap=plt.cm.Blues):\n",
    "    \"\"\"\n",
    "    This function prints and plots the confusion matrix.\n",
    "    Normalization can be applied by setting `normalize=True`.\n",
    "    \"\"\"\n",
    "    if not title:\n",
    "        if normalize:\n",
    "            title = 'Normalized confusion matrix'\n",
    "        else:\n",
    "            title = 'Confusion matrix, without normalization'\n",
    "\n",
    "    # Compute confusion matrix\n",
    "    cm = confusion_matrix(y_true, y_pred)\n",
    "    # Only use the labels that appear in the data\n",
    "    classes = classes[unique_labels(y_true, y_pred)]\n",
    "    if normalize:\n",
    "        cm = cm.astype('float') / cm.sum(axis=1)[:, np.newaxis]\n",
    "        print(\"Normalized confusion matrix\")\n",
    "    else:\n",
    "        print('Confusion matrix, without normalization')\n",
    "\n",
    "    print(cm)\n",
    "\n",
    "    fig, ax = plt.subplots()\n",
    "    im = ax.imshow(cm, interpolation='nearest', cmap=cmap)\n",
    "    ax.figure.colorbar(im, ax=ax)\n",
    "    # We want to show all ticks...\n",
    "    ax.set(xticks=np.arange(cm.shape[1]),\n",
    "           yticks=np.arange(cm.shape[0]),\n",
    "           # ... and label them with the respective list entries\n",
    "           xticklabels=classes, yticklabels=classes,\n",
    "           title=title,\n",
    "           ylabel='True label',\n",
    "           xlabel='Predicted label')\n",
    "\n",
    "    # Rotate the tick labels and set their alignment.\n",
    "    plt.setp(ax.get_xticklabels(), rotation=45, ha=\"right\",\n",
    "             rotation_mode=\"anchor\")\n",
    "\n",
    "    # Loop over data dimensions and create text annotations.\n",
    "    fmt = '.2f' if normalize else 'd'\n",
    "    thresh = cm.max() / 2.\n",
    "    for i in range(cm.shape[0]):\n",
    "        for j in range(cm.shape[1]):\n",
    "            ax.text(j, i, format(cm[i, j], fmt),\n",
    "                    ha=\"center\", va=\"center\",\n",
    "                    color=\"white\" if cm[i, j] > thresh else \"black\")\n",
    "    fig.tight_layout()\n",
    "    return ax"
   ]
  },
  {
   "cell_type": "code",
   "execution_count": null,
   "metadata": {
    "ExecuteTime": {
     "end_time": "2019-07-25T20:18:51.239972Z",
     "start_time": "2019-07-25T20:18:06.234817Z"
    }
   },
   "outputs": [],
   "source": [
    "# Plot non-normalized confusion matrix\n",
    "plot_confusion_matrix(I_test[:,0], yq, classes=np.unique(yq),\n",
    "                      title='Confusion matrix, without normalization')\n",
    "plt.show()"
   ]
  },
  {
   "cell_type": "code",
   "execution_count": null,
   "metadata": {
    "ExecuteTime": {
     "end_time": "2019-07-25T20:17:56.789089Z",
     "start_time": "2019-07-25T20:17:35.927Z"
    }
   },
   "outputs": [],
   "source": [
    "# Plot normalized confusion matrix\n",
    "plot_confusion_matrix(I_test[:,0], yq, #classes=np.unique(yq), normalize=True,\n",
    "                      title='Normalized confusion matrix')\n",
    "plt.show()"
   ]
  },
  {
   "cell_type": "markdown",
   "metadata": {},
   "source": [
    "## Test dataset"
   ]
  },
  {
   "cell_type": "code",
   "execution_count": 54,
   "metadata": {
    "ExecuteTime": {
     "end_time": "2019-07-26T04:09:49.564953Z",
     "start_time": "2019-07-26T04:09:49.550724Z"
    }
   },
   "outputs": [],
   "source": [
    "xq_test = np.load('pred/feats_test.npy')"
   ]
  },
  {
   "cell_type": "code",
   "execution_count": 55,
   "metadata": {
    "ExecuteTime": {
     "end_time": "2019-07-26T04:09:50.004255Z",
     "start_time": "2019-07-26T04:09:50.000128Z"
    }
   },
   "outputs": [
    {
     "data": {
      "text/plain": [
       "31.948633"
      ]
     },
     "execution_count": 55,
     "metadata": {},
     "output_type": "execute_result"
    }
   ],
   "source": [
    "xq_test.max()"
   ]
  },
  {
   "cell_type": "code",
   "execution_count": 56,
   "metadata": {
    "ExecuteTime": {
     "end_time": "2019-07-26T04:09:50.549920Z",
     "start_time": "2019-07-26T04:09:50.544625Z"
    }
   },
   "outputs": [],
   "source": [
    "faiss.normalize_L2(xq_test)"
   ]
  },
  {
   "cell_type": "code",
   "execution_count": 57,
   "metadata": {
    "ExecuteTime": {
     "end_time": "2019-07-26T04:09:50.921136Z",
     "start_time": "2019-07-26T04:09:50.916318Z"
    }
   },
   "outputs": [
    {
     "data": {
      "text/plain": [
       "0.19971208"
      ]
     },
     "execution_count": 57,
     "metadata": {},
     "output_type": "execute_result"
    }
   ],
   "source": [
    "xq_test.max()"
   ]
  },
  {
   "cell_type": "code",
   "execution_count": 58,
   "metadata": {
    "ExecuteTime": {
     "end_time": "2019-07-26T04:09:52.535991Z",
     "start_time": "2019-07-26T04:09:52.396980Z"
    }
   },
   "outputs": [],
   "source": [
    "D_test, I_test = index.search(xq_test, k) # actual search"
   ]
  },
  {
   "cell_type": "code",
   "execution_count": 59,
   "metadata": {
    "ExecuteTime": {
     "end_time": "2019-07-26T04:09:52.802447Z",
     "start_time": "2019-07-26T04:09:52.798038Z"
    }
   },
   "outputs": [
    {
     "data": {
      "text/plain": [
       "((19897, 512), (19897, 5), (19897, 5))"
      ]
     },
     "execution_count": 59,
     "metadata": {},
     "output_type": "execute_result"
    }
   ],
   "source": [
    "xq_test.shape, I_test.shape, D_test.shape"
   ]
  },
  {
   "cell_type": "code",
   "execution_count": 60,
   "metadata": {
    "ExecuteTime": {
     "end_time": "2019-07-26T04:09:55.805082Z",
     "start_time": "2019-07-26T04:09:55.800770Z"
    }
   },
   "outputs": [
    {
     "name": "stdout",
     "output_type": "stream",
     "text": [
      "[[  18   18  594  328  944]\n",
      " [ 499  564  499  499  499]\n",
      " [ 525  383  382  382  382]\n",
      " [1043 1043 1043 1043 1043]\n",
      " [ 903  903  903  903  903]]\n",
      "[[0.625869   0.5925888  0.5897664  0.5835905  0.5812212 ]\n",
      " [0.6195079  0.58843553 0.52641654 0.5078411  0.50139904]\n",
      " [0.562585   0.5283034  0.50461507 0.48061353 0.47412875]\n",
      " [0.58790773 0.5380561  0.5295799  0.5268737  0.51929104]\n",
      " [0.59249866 0.5446235  0.5385848  0.5050217  0.49314755]]\n"
     ]
    }
   ],
   "source": [
    "print(I_test[:5]) # neighbors of the 5 first queries\n",
    "print(D_test[:5])"
   ]
  },
  {
   "cell_type": "code",
   "execution_count": 61,
   "metadata": {
    "ExecuteTime": {
     "end_time": "2019-07-26T04:09:56.622581Z",
     "start_time": "2019-07-26T04:09:56.619610Z"
    }
   },
   "outputs": [
    {
     "name": "stdout",
     "output_type": "stream",
     "text": [
      "[[557 557 557 557 557]\n",
      " [316 316 316 316 316]\n",
      " [429 429 429 429 429]\n",
      " [271 271 271 271 271]\n",
      " [557 557 557 557 557]]\n",
      "[[0.6806058  0.67799187 0.6715148  0.6584677  0.64852375]\n",
      " [0.7490498  0.7270405  0.71443546 0.7096423  0.702741  ]\n",
      " [0.6027899  0.5973835  0.56207025 0.55714154 0.55056155]\n",
      " [0.6715293  0.66902375 0.662141   0.66060334 0.657367  ]\n",
      " [0.75773305 0.7466129  0.7382209  0.7319839  0.72340125]]\n"
     ]
    }
   ],
   "source": [
    "print(I_test[-5:]) # neighbors of the 5 last queries\n",
    "print(D_test[-5:])"
   ]
  },
  {
   "cell_type": "code",
   "execution_count": 62,
   "metadata": {
    "ExecuteTime": {
     "end_time": "2019-07-26T04:09:57.429258Z",
     "start_time": "2019-07-26T04:09:57.427053Z"
    }
   },
   "outputs": [
    {
     "data": {
      "text/plain": [
       "array([525, 383, 382, 382, 382])"
      ]
     },
     "execution_count": 62,
     "metadata": {},
     "output_type": "execute_result"
    }
   ],
   "source": [
    "I_test[2]"
   ]
  },
  {
   "cell_type": "code",
   "execution_count": 63,
   "metadata": {
    "ExecuteTime": {
     "end_time": "2019-07-26T04:09:58.304083Z",
     "start_time": "2019-07-26T04:09:58.301110Z"
    }
   },
   "outputs": [
    {
     "data": {
      "text/plain": [
       "(array([382, 383, 525]), array([3, 1, 1]))"
      ]
     },
     "execution_count": 63,
     "metadata": {},
     "output_type": "execute_result"
    }
   ],
   "source": [
    "np.unique(I_test[2], return_counts=True)"
   ]
  },
  {
   "cell_type": "code",
   "execution_count": 64,
   "metadata": {
    "ExecuteTime": {
     "end_time": "2019-07-26T04:09:59.486067Z",
     "start_time": "2019-07-26T04:09:59.483116Z"
    }
   },
   "outputs": [],
   "source": [
    "preds_test = I_test[:,0]"
   ]
  },
  {
   "cell_type": "code",
   "execution_count": 65,
   "metadata": {
    "ExecuteTime": {
     "end_time": "2019-07-26T04:10:00.780361Z",
     "start_time": "2019-07-26T04:10:00.776649Z"
    }
   },
   "outputs": [],
   "source": [
    "np.save('pred/preds_test.npy', preds_test)"
   ]
  },
  {
   "cell_type": "code",
   "execution_count": null,
   "metadata": {},
   "outputs": [],
   "source": []
  }
 ],
 "metadata": {
  "kernelspec": {
   "display_name": "faiss",
   "language": "python",
   "name": "faiss"
  },
  "language_info": {
   "codemirror_mode": {
    "name": "ipython",
    "version": 3
   },
   "file_extension": ".py",
   "mimetype": "text/x-python",
   "name": "python",
   "nbconvert_exporter": "python",
   "pygments_lexer": "ipython3",
   "version": "3.7.3"
  },
  "toc": {
   "base_numbering": 1,
   "nav_menu": {},
   "number_sections": true,
   "sideBar": true,
   "skip_h1_title": false,
   "title_cell": "Table of Contents",
   "title_sidebar": "Contents",
   "toc_cell": false,
   "toc_position": {},
   "toc_section_display": true,
   "toc_window_display": true
  }
 },
 "nbformat": 4,
 "nbformat_minor": 2
}
