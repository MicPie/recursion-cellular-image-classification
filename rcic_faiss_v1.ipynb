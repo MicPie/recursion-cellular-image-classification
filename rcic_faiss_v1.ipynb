{
 "cells": [
  {
   "cell_type": "markdown",
   "metadata": {},
   "source": [
    "# Setup"
   ]
  },
  {
   "cell_type": "markdown",
   "metadata": {},
   "source": [
    "https://github.com/facebookresearch/faiss/wiki/Getting-started"
   ]
  },
  {
   "cell_type": "markdown",
   "metadata": {},
   "source": [
    "**We assume row-major storage, ie. the j'th component of vector number i is stored in row i, column j of the matrix. Faiss uses only 32-bit floating point matrices.**"
   ]
  },
  {
   "cell_type": "code",
   "execution_count": 1,
   "metadata": {
    "ExecuteTime": {
     "end_time": "2019-07-25T19:43:35.632868Z",
     "start_time": "2019-07-25T19:43:35.570151Z"
    }
   },
   "outputs": [],
   "source": [
    "import numpy as np\n",
    "import faiss"
   ]
  },
  {
   "cell_type": "markdown",
   "metadata": {
    "heading_collapsed": true
   },
   "source": [
    "# Test"
   ]
  },
  {
   "cell_type": "code",
   "execution_count": 2,
   "metadata": {
    "ExecuteTime": {
     "end_time": "2019-07-24T17:31:10.572138Z",
     "start_time": "2019-07-24T17:31:10.499376Z"
    },
    "hidden": true
   },
   "outputs": [],
   "source": [
    "d = 64                           # dimension\n",
    "nb = 100000                      # database size\n",
    "nq = 10000                       # nb of queries\n",
    "np.random.seed(1234)             # make reproducible\n",
    "xb = np.random.random((nb, d)).astype('float32')\n",
    "xb[:, 0] += np.arange(nb) / 1000.\n",
    "xq = np.random.random((nq, d)).astype('float32')\n",
    "xq[:, 0] += np.arange(nq) / 1000."
   ]
  },
  {
   "cell_type": "code",
   "execution_count": 3,
   "metadata": {
    "ExecuteTime": {
     "end_time": "2019-07-24T17:31:36.868681Z",
     "start_time": "2019-07-24T17:31:36.862936Z"
    },
    "hidden": true
   },
   "outputs": [
    {
     "data": {
      "text/plain": [
       "((100000, 64), (10000, 64))"
      ]
     },
     "execution_count": 3,
     "metadata": {},
     "output_type": "execute_result"
    }
   ],
   "source": [
    "xb.shape, xq.shape"
   ]
  },
  {
   "cell_type": "code",
   "execution_count": 4,
   "metadata": {
    "ExecuteTime": {
     "end_time": "2019-07-24T17:32:04.600436Z",
     "start_time": "2019-07-24T17:32:04.586744Z"
    },
    "hidden": true
   },
   "outputs": [
    {
     "name": "stdout",
     "output_type": "stream",
     "text": [
      "True\n",
      "100000\n"
     ]
    }
   ],
   "source": [
    "index = faiss.IndexFlatL2(d)   # build the index\n",
    "print(index.is_trained)\n",
    "index.add(xb)                  # add vectors to the index\n",
    "print(index.ntotal)"
   ]
  },
  {
   "cell_type": "code",
   "execution_count": 5,
   "metadata": {
    "ExecuteTime": {
     "end_time": "2019-07-24T17:37:05.461164Z",
     "start_time": "2019-07-24T17:37:03.262564Z"
    },
    "hidden": true
   },
   "outputs": [
    {
     "name": "stdout",
     "output_type": "stream",
     "text": [
      "[[  0 393 363  78]\n",
      " [  1 555 277 364]\n",
      " [  2 304 101  13]\n",
      " [  3 173  18 182]\n",
      " [  4 288 370 531]]\n",
      "[[0.        7.1751738 7.20763   7.2511625]\n",
      " [0.        6.3235645 6.684581  6.799946 ]\n",
      " [0.        5.7964087 6.391736  7.2815123]\n",
      " [0.        7.2779055 7.527987  7.6628466]\n",
      " [0.        6.7638035 7.2951202 7.3688145]]\n",
      "[[ 381  207  210  477]\n",
      " [ 526  911  142   72]\n",
      " [ 838  527 1290  425]\n",
      " [ 196  184  164  359]\n",
      " [ 526  377  120  425]]\n",
      "[[ 9900 10500  9309  9831]\n",
      " [11055 10895 10812 11321]\n",
      " [11353 11103 10164  9787]\n",
      " [10571 10664 10632  9638]\n",
      " [ 9628  9554 10036  9582]]\n"
     ]
    }
   ],
   "source": [
    "k = 4                          # we want to see 4 nearest neighbors\n",
    "D, I = index.search(xb[:5], k) # sanity check\n",
    "print(I)\n",
    "print(D)\n",
    "D, I = index.search(xq, k)     # actual search\n",
    "print(I[:5])                   # neighbors of the 5 first queries\n",
    "print(I[-5:])                  # neighbors of the 5 last queries"
   ]
  },
  {
   "cell_type": "markdown",
   "metadata": {
    "hidden": true
   },
   "source": [
    "1.) https://github.com/facebookresearch/faiss/wiki/Guidelines-to-choose-an-index#will-you-perform-few-searches"
   ]
  },
  {
   "cell_type": "code",
   "execution_count": null,
   "metadata": {
    "hidden": true
   },
   "outputs": [],
   "source": [
    "d = 512\n",
    "index = faiss.IndexFlatIP(d)"
   ]
  },
  {
   "cell_type": "markdown",
   "metadata": {
    "hidden": true
   },
   "source": [
    "2.) IndexFlatIP with normalized vector for cosine similarity (normalize vectors beforehand). https://github.com/facebookresearch/faiss/wiki/Faiss-indexes"
   ]
  },
  {
   "cell_type": "markdown",
   "metadata": {
    "hidden": true
   },
   "source": [
    "https://github.com/facebookresearch/faiss/blob/master/gpu/test/test_pytorch_faiss.py"
   ]
  },
  {
   "cell_type": "markdown",
   "metadata": {
    "hidden": true
   },
   "source": [
    "https://github.com/facebookresearch/faiss/wiki/Brute-force-search-without-an-index#brute-force-search-on-cpu"
   ]
  },
  {
   "cell_type": "markdown",
   "metadata": {
    "hidden": true
   },
   "source": [
    "https://github.com/facebookresearch/faiss/wiki/Running-on-GPUs"
   ]
  },
  {
   "cell_type": "markdown",
   "metadata": {},
   "source": [
    "# Setup"
   ]
  },
  {
   "cell_type": "code",
   "execution_count": 2,
   "metadata": {
    "ExecuteTime": {
     "end_time": "2019-07-25T19:43:37.360285Z",
     "start_time": "2019-07-25T19:43:37.325031Z"
    }
   },
   "outputs": [],
   "source": [
    "xb = np.load('feats_train.npy')\n",
    "yb = np.load('targs_train.npy')\n",
    "xq = np.load('feats_valid.npy')\n",
    "yq = np.load('targs_valid.npy')"
   ]
  },
  {
   "cell_type": "code",
   "execution_count": 3,
   "metadata": {
    "ExecuteTime": {
     "end_time": "2019-07-25T19:43:37.658633Z",
     "start_time": "2019-07-25T19:43:37.651083Z"
    }
   },
   "outputs": [
    {
     "data": {
      "text/plain": [
       "(28480, 512)"
      ]
     },
     "execution_count": 3,
     "metadata": {},
     "output_type": "execute_result"
    }
   ],
   "source": [
    "xb.shape # nb-by-d"
   ]
  },
  {
   "cell_type": "code",
   "execution_count": 4,
   "metadata": {
    "ExecuteTime": {
     "end_time": "2019-07-25T19:43:38.068232Z",
     "start_time": "2019-07-25T19:43:38.066070Z"
    }
   },
   "outputs": [
    {
     "data": {
      "text/plain": [
       "(7738, 512)"
      ]
     },
     "execution_count": 4,
     "metadata": {},
     "output_type": "execute_result"
    }
   ],
   "source": [
    "xq.shape # nq-by-d (query vectors)"
   ]
  },
  {
   "cell_type": "code",
   "execution_count": 5,
   "metadata": {
    "ExecuteTime": {
     "end_time": "2019-07-25T19:43:38.530421Z",
     "start_time": "2019-07-25T19:43:38.527762Z"
    }
   },
   "outputs": [
    {
     "data": {
      "text/plain": [
       "((28480,), (7738,))"
      ]
     },
     "execution_count": 5,
     "metadata": {},
     "output_type": "execute_result"
    }
   ],
   "source": [
    "yb.shape, yq.shape"
   ]
  },
  {
   "cell_type": "code",
   "execution_count": 6,
   "metadata": {
    "ExecuteTime": {
     "end_time": "2019-07-25T19:43:39.233017Z",
     "start_time": "2019-07-25T19:43:39.229795Z"
    }
   },
   "outputs": [
    {
     "data": {
      "text/plain": [
       "(512, 675)"
      ]
     },
     "execution_count": 6,
     "metadata": {},
     "output_type": "execute_result"
    }
   ],
   "source": [
    "## setup\n",
    "d = xb.shape[1] # 512\n",
    "nlist = int(4*np.sqrt(xb.shape[0])) # https://github.com/facebookresearch/faiss/issues/112\n",
    "d, nlist"
   ]
  },
  {
   "cell_type": "code",
   "execution_count": 7,
   "metadata": {
    "ExecuteTime": {
     "end_time": "2019-07-25T19:43:39.957185Z",
     "start_time": "2019-07-25T19:43:39.955188Z"
    }
   },
   "outputs": [],
   "source": [
    "quantizer = faiss.IndexFlatIP(d)\n",
    "index = faiss.IndexIVFFlat(quantizer, d, nlist, faiss.METRIC_INNER_PRODUCT)"
   ]
  },
  {
   "cell_type": "markdown",
   "metadata": {
    "ExecuteTime": {
     "end_time": "2019-07-25T18:29:39.571762Z",
     "start_time": "2019-07-25T18:29:39.562612Z"
    }
   },
   "source": [
    "https://github.com/facebookresearch/faiss/wiki/FAQ#how-can-i-index-vectors-for-cosine-distance"
   ]
  },
  {
   "cell_type": "code",
   "execution_count": 8,
   "metadata": {
    "ExecuteTime": {
     "end_time": "2019-07-25T19:43:41.351957Z",
     "start_time": "2019-07-25T19:43:41.343914Z"
    }
   },
   "outputs": [
    {
     "data": {
      "text/plain": [
       "34.747166"
      ]
     },
     "execution_count": 8,
     "metadata": {},
     "output_type": "execute_result"
    }
   ],
   "source": [
    "xb.max()"
   ]
  },
  {
   "cell_type": "code",
   "execution_count": 9,
   "metadata": {
    "ExecuteTime": {
     "end_time": "2019-07-25T19:43:43.034496Z",
     "start_time": "2019-07-25T19:43:43.005837Z"
    }
   },
   "outputs": [],
   "source": [
    "faiss.normalize_L2(xb)"
   ]
  },
  {
   "cell_type": "code",
   "execution_count": 10,
   "metadata": {
    "ExecuteTime": {
     "end_time": "2019-07-25T19:43:43.360732Z",
     "start_time": "2019-07-25T19:43:43.354394Z"
    }
   },
   "outputs": [
    {
     "data": {
      "text/plain": [
       "0.20313895"
      ]
     },
     "execution_count": 10,
     "metadata": {},
     "output_type": "execute_result"
    }
   ],
   "source": [
    "xb.max()"
   ]
  },
  {
   "cell_type": "code",
   "execution_count": 11,
   "metadata": {
    "ExecuteTime": {
     "end_time": "2019-07-25T19:43:45.170374Z",
     "start_time": "2019-07-25T19:43:44.063565Z"
    }
   },
   "outputs": [],
   "source": [
    "index.train(xb)"
   ]
  },
  {
   "cell_type": "code",
   "execution_count": 12,
   "metadata": {
    "ExecuteTime": {
     "end_time": "2019-07-25T19:43:45.768640Z",
     "start_time": "2019-07-25T19:43:45.622618Z"
    }
   },
   "outputs": [],
   "source": [
    "index.add_with_ids(xb, yb)"
   ]
  },
  {
   "cell_type": "code",
   "execution_count": 13,
   "metadata": {
    "ExecuteTime": {
     "end_time": "2019-07-25T19:43:46.054717Z",
     "start_time": "2019-07-25T19:43:46.050221Z"
    }
   },
   "outputs": [
    {
     "name": "stdout",
     "output_type": "stream",
     "text": [
      "True\n",
      "28480\n"
     ]
    }
   ],
   "source": [
    "print(index.is_trained)\n",
    "print(index.ntotal)"
   ]
  },
  {
   "cell_type": "markdown",
   "metadata": {},
   "source": [
    "## Train dataset"
   ]
  },
  {
   "cell_type": "code",
   "execution_count": 39,
   "metadata": {
    "ExecuteTime": {
     "end_time": "2019-07-25T19:45:53.194589Z",
     "start_time": "2019-07-25T19:45:52.998855Z"
    }
   },
   "outputs": [
    {
     "name": "stdout",
     "output_type": "stream",
     "text": [
      "[[ 880  880  880  880  880]\n",
      " [ 358 1025  358  358  589]\n",
      " [ 747  747  298  298  298]\n",
      " [ 723  723  723  723  723]\n",
      " [ 807  807  807  807  807]]\n",
      "[[0.9999999  0.81978416 0.7964642  0.71875656 0.71451867]\n",
      " [0.99999994 0.7125491  0.70746976 0.6914145  0.6503389 ]\n",
      " [1.         0.729566   0.7190633  0.6984681  0.6754602 ]\n",
      " [1.0000001  0.8504113  0.8446528  0.8238198  0.81842124]\n",
      " [1.         0.8744553  0.86247766 0.8502133  0.8297723 ]]\n"
     ]
    }
   ],
   "source": [
    "## search\n",
    "k = 5 # we want to see 5 nearest neighbors\n",
    "D_valid, I_valid = index.search(xb, k) # sanity check\n",
    "print(I_valid[:5])\n",
    "print(D_valid[:5])"
   ]
  },
  {
   "cell_type": "code",
   "execution_count": 40,
   "metadata": {
    "ExecuteTime": {
     "end_time": "2019-07-25T19:45:54.396714Z",
     "start_time": "2019-07-25T19:45:54.392636Z"
    }
   },
   "outputs": [
    {
     "data": {
      "text/plain": [
       "array([880, 358, 747, 723, 807])"
      ]
     },
     "execution_count": 40,
     "metadata": {},
     "output_type": "execute_result"
    }
   ],
   "source": [
    "yb[:5]"
   ]
  },
  {
   "cell_type": "code",
   "execution_count": 43,
   "metadata": {
    "ExecuteTime": {
     "end_time": "2019-07-25T19:46:02.404224Z",
     "start_time": "2019-07-25T19:46:02.401784Z"
    }
   },
   "outputs": [
    {
     "data": {
      "text/plain": [
       "(1107, 1107)"
      ]
     },
     "execution_count": 43,
     "metadata": {},
     "output_type": "execute_result"
    }
   ],
   "source": [
    "yb.max(), I_valid.max()"
   ]
  },
  {
   "cell_type": "markdown",
   "metadata": {},
   "source": [
    "### Train accuracy"
   ]
  },
  {
   "cell_type": "code",
   "execution_count": 45,
   "metadata": {
    "ExecuteTime": {
     "end_time": "2019-07-25T19:46:10.816901Z",
     "start_time": "2019-07-25T19:46:10.813119Z"
    }
   },
   "outputs": [
    {
     "data": {
      "text/plain": [
       "((28480,), (28480,))"
      ]
     },
     "execution_count": 45,
     "metadata": {},
     "output_type": "execute_result"
    }
   ],
   "source": [
    "I_valid[:,0].shape, yb.shape"
   ]
  },
  {
   "cell_type": "code",
   "execution_count": 46,
   "metadata": {
    "ExecuteTime": {
     "end_time": "2019-07-25T19:46:15.521516Z",
     "start_time": "2019-07-25T19:46:15.517371Z"
    }
   },
   "outputs": [
    {
     "data": {
      "text/plain": [
       "28480"
      ]
     },
     "execution_count": 46,
     "metadata": {},
     "output_type": "execute_result"
    }
   ],
   "source": [
    "# Correct elements\n",
    "(I_valid[:,0] == yb).sum()"
   ]
  },
  {
   "cell_type": "code",
   "execution_count": 48,
   "metadata": {
    "ExecuteTime": {
     "end_time": "2019-07-25T19:46:22.194651Z",
     "start_time": "2019-07-25T19:46:22.191569Z"
    }
   },
   "outputs": [
    {
     "data": {
      "text/plain": [
       "1.0"
      ]
     },
     "execution_count": 48,
     "metadata": {},
     "output_type": "execute_result"
    }
   ],
   "source": [
    "# Accuracy\n",
    "(I_valid[:,0] == yb).sum()/len(yb)"
   ]
  },
  {
   "cell_type": "markdown",
   "metadata": {},
   "source": [
    "## Test dataset"
   ]
  },
  {
   "cell_type": "code",
   "execution_count": 23,
   "metadata": {
    "ExecuteTime": {
     "end_time": "2019-07-25T19:44:21.317507Z",
     "start_time": "2019-07-25T19:44:21.314506Z"
    }
   },
   "outputs": [
    {
     "data": {
      "text/plain": [
       "26.715216"
      ]
     },
     "execution_count": 23,
     "metadata": {},
     "output_type": "execute_result"
    }
   ],
   "source": [
    "xq.max()"
   ]
  },
  {
   "cell_type": "code",
   "execution_count": 24,
   "metadata": {
    "ExecuteTime": {
     "end_time": "2019-07-25T19:44:22.041878Z",
     "start_time": "2019-07-25T19:44:22.032400Z"
    }
   },
   "outputs": [],
   "source": [
    "faiss.normalize_L2(xq)"
   ]
  },
  {
   "cell_type": "code",
   "execution_count": 25,
   "metadata": {
    "ExecuteTime": {
     "end_time": "2019-07-25T19:44:22.405672Z",
     "start_time": "2019-07-25T19:44:22.402585Z"
    }
   },
   "outputs": [
    {
     "data": {
      "text/plain": [
       "0.20355459"
      ]
     },
     "execution_count": 25,
     "metadata": {},
     "output_type": "execute_result"
    }
   ],
   "source": [
    "xq.max()"
   ]
  },
  {
   "cell_type": "code",
   "execution_count": 26,
   "metadata": {
    "ExecuteTime": {
     "end_time": "2019-07-25T19:44:23.871451Z",
     "start_time": "2019-07-25T19:44:23.803738Z"
    }
   },
   "outputs": [],
   "source": [
    "D_test, I_test = index.search(xq, k) # actual search"
   ]
  },
  {
   "cell_type": "code",
   "execution_count": 27,
   "metadata": {
    "ExecuteTime": {
     "end_time": "2019-07-25T19:44:24.449377Z",
     "start_time": "2019-07-25T19:44:24.447092Z"
    }
   },
   "outputs": [
    {
     "data": {
      "text/plain": [
       "((7738, 512), (7738,))"
      ]
     },
     "execution_count": 27,
     "metadata": {},
     "output_type": "execute_result"
    }
   ],
   "source": [
    "xq.shape, yq.shape"
   ]
  },
  {
   "cell_type": "code",
   "execution_count": 28,
   "metadata": {
    "ExecuteTime": {
     "end_time": "2019-07-25T19:44:25.454659Z",
     "start_time": "2019-07-25T19:44:25.450823Z"
    }
   },
   "outputs": [
    {
     "data": {
      "text/plain": [
       "((7738, 5), (7738, 5))"
      ]
     },
     "execution_count": 28,
     "metadata": {},
     "output_type": "execute_result"
    }
   ],
   "source": [
    "I_test.shape, D_test.shape"
   ]
  },
  {
   "cell_type": "code",
   "execution_count": 29,
   "metadata": {
    "ExecuteTime": {
     "end_time": "2019-07-25T19:44:26.181677Z",
     "start_time": "2019-07-25T19:44:26.178492Z"
    }
   },
   "outputs": [
    {
     "name": "stdout",
     "output_type": "stream",
     "text": [
      "[[773 773 773 773 773]\n",
      " [581 581 581 581 581]\n",
      " [432 552 873   6 951]\n",
      " [842 842 842 842 842]\n",
      " [829 829 472 829 829]]\n",
      "[[0.62117064 0.61026514 0.5783237  0.54274446 0.53929734]\n",
      " [0.58277637 0.55753195 0.5471376  0.52974564 0.5239972 ]\n",
      " [0.51995504 0.50595415 0.44293255 0.43805957 0.4254344 ]\n",
      " [0.6076556  0.590749   0.58873665 0.5834438  0.58302367]\n",
      " [0.5711089  0.53516287 0.52997565 0.5183896  0.4921634 ]]\n",
      "[352 361 503 505  70]\n"
     ]
    }
   ],
   "source": [
    "print(I_test[:5]) # neighbors of the 5 first queries\n",
    "print(D_test[:5])\n",
    "print(yq[:5])"
   ]
  },
  {
   "cell_type": "code",
   "execution_count": 30,
   "metadata": {
    "ExecuteTime": {
     "end_time": "2019-07-25T19:44:27.726492Z",
     "start_time": "2019-07-25T19:44:27.723569Z"
    }
   },
   "outputs": [
    {
     "name": "stdout",
     "output_type": "stream",
     "text": [
      "[[ 461  445  728  445  445]\n",
      " [ 503  503  503  503  503]\n",
      " [ 981  981  981  357  357]\n",
      " [ 715  937  715   23  459]\n",
      " [1062  399 1062 1062  399]]\n",
      "[[0.5480005  0.51625204 0.4980685  0.45474982 0.44727704]\n",
      " [0.5883873  0.5339542  0.52783245 0.5191296  0.5158694 ]\n",
      " [0.4667648  0.4596996  0.4362784  0.4260381  0.4210328 ]\n",
      " [0.60262525 0.58653855 0.4269622  0.4253887  0.42438567]\n",
      " [0.48088986 0.4799772  0.47175464 0.46832532 0.45421815]]\n",
      "[103 202 824 328 509]\n"
     ]
    }
   ],
   "source": [
    "print(I_test[-5:]) # neighbors of the 5 last queries\n",
    "print(D_test[-5:])\n",
    "print(yq[-5:])"
   ]
  },
  {
   "cell_type": "markdown",
   "metadata": {},
   "source": [
    "### Valid accuracy"
   ]
  },
  {
   "cell_type": "code",
   "execution_count": 33,
   "metadata": {
    "ExecuteTime": {
     "end_time": "2019-07-25T19:44:40.239021Z",
     "start_time": "2019-07-25T19:44:40.235471Z"
    }
   },
   "outputs": [
    {
     "data": {
      "text/plain": [
       "array([ 773,  581,  432, ...,  981,  715, 1062])"
      ]
     },
     "execution_count": 33,
     "metadata": {},
     "output_type": "execute_result"
    }
   ],
   "source": [
    "I_test[:,0]"
   ]
  },
  {
   "cell_type": "code",
   "execution_count": 34,
   "metadata": {
    "ExecuteTime": {
     "end_time": "2019-07-25T19:44:45.034389Z",
     "start_time": "2019-07-25T19:44:45.032246Z"
    }
   },
   "outputs": [
    {
     "data": {
      "text/plain": [
       "array([352, 361, 503, ..., 824, 328, 509])"
      ]
     },
     "execution_count": 34,
     "metadata": {},
     "output_type": "execute_result"
    }
   ],
   "source": [
    "yq"
   ]
  },
  {
   "cell_type": "code",
   "execution_count": 31,
   "metadata": {
    "ExecuteTime": {
     "end_time": "2019-07-25T19:44:31.732191Z",
     "start_time": "2019-07-25T19:44:31.728399Z"
    }
   },
   "outputs": [
    {
     "data": {
      "text/plain": [
       "1506"
      ]
     },
     "execution_count": 31,
     "metadata": {},
     "output_type": "execute_result"
    }
   ],
   "source": [
    "# Correct elements\n",
    "(I_test[:,0] == yq).sum()"
   ]
  },
  {
   "cell_type": "code",
   "execution_count": 32,
   "metadata": {
    "ExecuteTime": {
     "end_time": "2019-07-25T19:44:32.387855Z",
     "start_time": "2019-07-25T19:44:32.384136Z"
    }
   },
   "outputs": [
    {
     "data": {
      "text/plain": [
       "0.19462393383303178"
      ]
     },
     "execution_count": 32,
     "metadata": {},
     "output_type": "execute_result"
    }
   ],
   "source": [
    "# Accuracy\n",
    "(I_test[:,0] == yq).sum()/len(yq)"
   ]
  },
  {
   "cell_type": "markdown",
   "metadata": {},
   "source": [
    "## Test dataset"
   ]
  },
  {
   "cell_type": "code",
   "execution_count": 29,
   "metadata": {
    "ExecuteTime": {
     "end_time": "2019-07-25T18:56:43.281769Z",
     "start_time": "2019-07-25T18:56:43.265045Z"
    }
   },
   "outputs": [],
   "source": [
    "xq_test = np.load('feats_test.npy')"
   ]
  },
  {
   "cell_type": "code",
   "execution_count": 30,
   "metadata": {
    "ExecuteTime": {
     "end_time": "2019-07-25T18:56:50.464082Z",
     "start_time": "2019-07-25T18:56:50.457361Z"
    }
   },
   "outputs": [
    {
     "data": {
      "text/plain": [
       "31.948633"
      ]
     },
     "execution_count": 30,
     "metadata": {},
     "output_type": "execute_result"
    }
   ],
   "source": [
    "xq_test.max()"
   ]
  },
  {
   "cell_type": "code",
   "execution_count": 33,
   "metadata": {
    "ExecuteTime": {
     "end_time": "2019-07-25T19:44:25.454659Z",
     "start_time": "2019-07-25T19:44:25.450823Z"
    }
   },
   "outputs": [],
   "source": [
    "faiss.normalize_L2(xq_test)"
   ]
  },
  {
   "cell_type": "code",
   "execution_count": 34,
   "metadata": {
    "ExecuteTime": {
     "end_time": "2019-07-25T18:57:00.748766Z",
     "start_time": "2019-07-25T18:57:00.742248Z"
    }
   },
   "outputs": [
    {
     "data": {
      "text/plain": [
       "0.19971208"
      ]
     },
     "execution_count": 34,
     "metadata": {},
     "output_type": "execute_result"
    }
   ],
   "source": [
    "xq_test.max()"
   ]
  },
  {
   "cell_type": "code",
   "execution_count": 35,
   "metadata": {
    "ExecuteTime": {
     "end_time": "2019-07-25T18:57:09.267132Z",
     "start_time": "2019-07-25T18:57:09.197212Z"
    }
   },
   "outputs": [],
   "source": [
    "D, I = index.search(xq_test, k) # actual search"
   ]
  },
  {
   "cell_type": "code",
   "execution_count": 43,
   "metadata": {
    "ExecuteTime": {
     "end_time": "2019-07-25T19:02:33.935837Z",
     "start_time": "2019-07-25T19:02:33.930852Z"
    }
   },
   "outputs": [
    {
     "data": {
      "text/plain": [
       "((19897, 512), (19897, 5), (19897, 5))"
      ]
     },
     "execution_count": 43,
     "metadata": {},
     "output_type": "execute_result"
    }
   ],
   "source": [
    "xq_test.shape, I.shape, D.shape"
   ]
  },
  {
   "cell_type": "code",
   "execution_count": 36,
   "metadata": {
    "ExecuteTime": {
     "end_time": "2019-07-25T18:57:10.075448Z",
     "start_time": "2019-07-25T18:57:10.070904Z"
    }
   },
   "outputs": [
    {
     "name": "stdout",
     "output_type": "stream",
     "text": [
      "[[  18   18  594  328  944]\n",
      " [ 499  564  499  499  499]\n",
      " [ 525  383  382  382  382]\n",
      " [1043 1043 1043 1043 1043]\n",
      " [ 903  903  903  903  903]]\n",
      "[[0.625869   0.5925888  0.5897664  0.5835905  0.5812212 ]\n",
      " [0.6195079  0.58843553 0.52641654 0.5078411  0.50139904]\n",
      " [0.562585   0.5283034  0.50461507 0.48061353 0.47412875]\n",
      " [0.58790773 0.5380561  0.5295799  0.5268737  0.51929104]\n",
      " [0.59249866 0.5446235  0.5385848  0.5050217  0.49314755]]\n"
     ]
    }
   ],
   "source": [
    "print(I[:5]) # neighbors of the 5 first queries\n",
    "print(D[:5])"
   ]
  },
  {
   "cell_type": "code",
   "execution_count": 37,
   "metadata": {
    "ExecuteTime": {
     "end_time": "2019-07-25T18:57:12.494976Z",
     "start_time": "2019-07-25T18:57:12.490022Z"
    }
   },
   "outputs": [
    {
     "name": "stdout",
     "output_type": "stream",
     "text": [
      "[[557 557 557 557 557]\n",
      " [316 316 316 316 316]\n",
      " [429 429 429 429 429]\n",
      " [271 271 271 271 271]\n",
      " [557 557 557 557 557]]\n",
      "[[0.6806058  0.67799187 0.6715148  0.6584677  0.64852375]\n",
      " [0.7490498  0.7270405  0.71443546 0.7096423  0.702741  ]\n",
      " [0.6027899  0.5973835  0.56207025 0.55714154 0.55056155]\n",
      " [0.6715293  0.66902375 0.662141   0.66060334 0.657367  ]\n",
      " [0.75773305 0.7466129  0.7382209  0.7319839  0.72340125]]\n"
     ]
    }
   ],
   "source": [
    "print(I[-5:]) # neighbors of the 5 last queries\n",
    "print(D[-5:])"
   ]
  },
  {
   "cell_type": "code",
   "execution_count": 39,
   "metadata": {
    "ExecuteTime": {
     "end_time": "2019-07-25T18:58:49.480967Z",
     "start_time": "2019-07-25T18:58:49.475695Z"
    }
   },
   "outputs": [
    {
     "data": {
      "text/plain": [
       "array([525, 383, 382, 382, 382])"
      ]
     },
     "execution_count": 39,
     "metadata": {},
     "output_type": "execute_result"
    }
   ],
   "source": [
    "I[2]"
   ]
  },
  {
   "cell_type": "code",
   "execution_count": 42,
   "metadata": {
    "ExecuteTime": {
     "end_time": "2019-07-25T18:59:26.686130Z",
     "start_time": "2019-07-25T18:59:26.675713Z"
    }
   },
   "outputs": [
    {
     "data": {
      "text/plain": [
       "(array([382, 383, 525]), array([3, 1, 1]))"
      ]
     },
     "execution_count": 42,
     "metadata": {},
     "output_type": "execute_result"
    }
   ],
   "source": [
    "np.unique(I[2], return_counts=True)"
   ]
  },
  {
   "cell_type": "code",
   "execution_count": 45,
   "metadata": {
    "ExecuteTime": {
     "end_time": "2019-07-25T19:03:38.451716Z",
     "start_time": "2019-07-25T19:03:38.446019Z"
    }
   },
   "outputs": [],
   "source": [
    "preds_test = I[:,0]"
   ]
  },
  {
   "cell_type": "code",
   "execution_count": 46,
   "metadata": {
    "ExecuteTime": {
     "end_time": "2019-07-25T19:03:39.464542Z",
     "start_time": "2019-07-25T19:03:39.455643Z"
    }
   },
   "outputs": [],
   "source": [
    "np.save('preds_test.npy', preds_test)"
   ]
  },
  {
   "cell_type": "code",
   "execution_count": null,
   "metadata": {},
   "outputs": [],
   "source": []
  }
 ],
 "metadata": {
  "kernelspec": {
   "display_name": "faiss",
   "language": "python",
   "name": "faiss"
  },
  "language_info": {
   "codemirror_mode": {
    "name": "ipython",
    "version": 3
   },
   "file_extension": ".py",
   "mimetype": "text/x-python",
   "name": "python",
   "nbconvert_exporter": "python",
   "pygments_lexer": "ipython3",
   "version": "3.7.3"
  },
  "toc": {
   "base_numbering": 1,
   "nav_menu": {},
   "number_sections": true,
   "sideBar": true,
   "skip_h1_title": false,
   "title_cell": "Table of Contents",
   "title_sidebar": "Contents",
   "toc_cell": false,
   "toc_position": {},
   "toc_section_display": true,
   "toc_window_display": true
  }
 },
 "nbformat": 4,
 "nbformat_minor": 2
}
