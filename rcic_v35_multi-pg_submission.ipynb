{
 "cells": [
  {
   "cell_type": "code",
   "execution_count": 2,
   "metadata": {
    "ExecuteTime": {
     "end_time": "2019-08-27T16:23:46.653818Z",
     "start_time": "2019-08-27T16:23:46.487004Z"
    }
   },
   "outputs": [],
   "source": [
    "import pandas as pd"
   ]
  },
  {
   "cell_type": "code",
   "execution_count": null,
   "metadata": {},
   "outputs": [],
   "source": [
    "df_orig_sub = pd.read_csv('sub/metriclearn_efficientnet_b3_ct_pg_exp_Pre060e050_190823_TTA-cossim.csv.gz', index_col=0)"
   ]
  },
  {
   "cell_type": "code",
   "execution_count": 9,
   "metadata": {
    "ExecuteTime": {
     "end_time": "2019-08-27T16:24:56.103925Z",
     "start_time": "2019-08-27T16:24:56.082853Z"
    }
   },
   "outputs": [],
   "source": [
    "df_pg0 = pd.read_csv('sub/adacos_efficientnet_b3_ct_pg_exp_Pre060e050pg0e100_190901_3xTTA-cossim.csv.gz', index_col=0)\n",
    "df_pg1 = pd.read_csv('sub/adacos_efficientnet_b3_ct_pg_exp_Pre060e050pg1e100_190901_3xTTA-cossim.csv.gz', index_col=0)\n",
    "df_pg2 = pd.read_csv('sub/adacos_efficientnet_b3_ct_pg_exp_Pre060e050pg2e100_190901_3xTTA-cossim.csv.gz', index_col=0)\n",
    "df_pg3 = pd.read_csv('sub/adacos_efficientnet_b3_ct_pg_exp_Pre060e050pg3e100_190901_3xTTA-cossim.csv.gz', index_col=0)"
   ]
  },
  {
   "cell_type": "code",
   "execution_count": 10,
   "metadata": {
    "ExecuteTime": {
     "end_time": "2019-08-27T16:24:56.859582Z",
     "start_time": "2019-08-27T16:24:56.854452Z"
    }
   },
   "outputs": [
    {
     "data": {
      "text/plain": [
       "((4429, 1), (8846, 1), (4417, 1))"
      ]
     },
     "execution_count": 10,
     "metadata": {},
     "output_type": "execute_result"
    }
   ],
   "source": [
    "df_pg0.shape, df_pg1.shape, df_pg2.shape, df_pg3.shape"
   ]
  },
  {
   "cell_type": "code",
   "execution_count": 11,
   "metadata": {
    "ExecuteTime": {
     "end_time": "2019-08-27T16:24:57.358875Z",
     "start_time": "2019-08-27T16:24:57.351728Z"
    }
   },
   "outputs": [
    {
     "data": {
      "text/html": [
       "<div>\n",
       "<style scoped>\n",
       "    .dataframe tbody tr th:only-of-type {\n",
       "        vertical-align: middle;\n",
       "    }\n",
       "\n",
       "    .dataframe tbody tr th {\n",
       "        vertical-align: top;\n",
       "    }\n",
       "\n",
       "    .dataframe thead th {\n",
       "        text-align: right;\n",
       "    }\n",
       "</style>\n",
       "<table border=\"1\" class=\"dataframe\">\n",
       "  <thead>\n",
       "    <tr style=\"text-align: right;\">\n",
       "      <th></th>\n",
       "      <th>sirna</th>\n",
       "    </tr>\n",
       "    <tr>\n",
       "      <th>id_code</th>\n",
       "      <th></th>\n",
       "    </tr>\n",
       "  </thead>\n",
       "  <tbody>\n",
       "    <tr>\n",
       "      <th>HEPG2-08_1_B03</th>\n",
       "      <td>855</td>\n",
       "    </tr>\n",
       "    <tr>\n",
       "      <th>HEPG2-08_1_B04</th>\n",
       "      <td>292</td>\n",
       "    </tr>\n",
       "    <tr>\n",
       "      <th>HEPG2-08_1_B05</th>\n",
       "      <td>836</td>\n",
       "    </tr>\n",
       "    <tr>\n",
       "      <th>HEPG2-08_1_B06</th>\n",
       "      <td>249</td>\n",
       "    </tr>\n",
       "    <tr>\n",
       "      <th>HEPG2-08_1_B07</th>\n",
       "      <td>200</td>\n",
       "    </tr>\n",
       "  </tbody>\n",
       "</table>\n",
       "</div>"
      ],
      "text/plain": [
       "                sirna\n",
       "id_code              \n",
       "HEPG2-08_1_B03    855\n",
       "HEPG2-08_1_B04    292\n",
       "HEPG2-08_1_B05    836\n",
       "HEPG2-08_1_B06    249\n",
       "HEPG2-08_1_B07    200"
      ]
     },
     "execution_count": 11,
     "metadata": {},
     "output_type": "execute_result"
    }
   ],
   "source": [
    "df_pg0.head()"
   ]
  },
  {
   "cell_type": "code",
   "execution_count": 12,
   "metadata": {
    "ExecuteTime": {
     "end_time": "2019-08-27T16:24:57.841846Z",
     "start_time": "2019-08-27T16:24:57.835027Z"
    }
   },
   "outputs": [
    {
     "data": {
      "text/html": [
       "<div>\n",
       "<style scoped>\n",
       "    .dataframe tbody tr th:only-of-type {\n",
       "        vertical-align: middle;\n",
       "    }\n",
       "\n",
       "    .dataframe tbody tr th {\n",
       "        vertical-align: top;\n",
       "    }\n",
       "\n",
       "    .dataframe thead th {\n",
       "        text-align: right;\n",
       "    }\n",
       "</style>\n",
       "<table border=\"1\" class=\"dataframe\">\n",
       "  <thead>\n",
       "    <tr style=\"text-align: right;\">\n",
       "      <th></th>\n",
       "      <th>sirna</th>\n",
       "    </tr>\n",
       "    <tr>\n",
       "      <th>id_code</th>\n",
       "      <th></th>\n",
       "    </tr>\n",
       "  </thead>\n",
       "  <tbody>\n",
       "    <tr>\n",
       "      <th>HUVEC-17_1_B03</th>\n",
       "      <td>312</td>\n",
       "    </tr>\n",
       "    <tr>\n",
       "      <th>HUVEC-17_1_B04</th>\n",
       "      <td>450</td>\n",
       "    </tr>\n",
       "    <tr>\n",
       "      <th>HUVEC-17_1_B05</th>\n",
       "      <td>301</td>\n",
       "    </tr>\n",
       "    <tr>\n",
       "      <th>HUVEC-17_1_B06</th>\n",
       "      <td>272</td>\n",
       "    </tr>\n",
       "    <tr>\n",
       "      <th>HUVEC-17_1_B07</th>\n",
       "      <td>784</td>\n",
       "    </tr>\n",
       "  </tbody>\n",
       "</table>\n",
       "</div>"
      ],
      "text/plain": [
       "                sirna\n",
       "id_code              \n",
       "HUVEC-17_1_B03    312\n",
       "HUVEC-17_1_B04    450\n",
       "HUVEC-17_1_B05    301\n",
       "HUVEC-17_1_B06    272\n",
       "HUVEC-17_1_B07    784"
      ]
     },
     "execution_count": 12,
     "metadata": {},
     "output_type": "execute_result"
    }
   ],
   "source": [
    "df_pg1.head()"
   ]
  },
  {
   "cell_type": "code",
   "execution_count": 13,
   "metadata": {
    "ExecuteTime": {
     "end_time": "2019-08-27T16:24:58.535904Z",
     "start_time": "2019-08-27T16:24:58.528985Z"
    }
   },
   "outputs": [
    {
     "data": {
      "text/html": [
       "<div>\n",
       "<style scoped>\n",
       "    .dataframe tbody tr th:only-of-type {\n",
       "        vertical-align: middle;\n",
       "    }\n",
       "\n",
       "    .dataframe tbody tr th {\n",
       "        vertical-align: top;\n",
       "    }\n",
       "\n",
       "    .dataframe thead th {\n",
       "        text-align: right;\n",
       "    }\n",
       "</style>\n",
       "<table border=\"1\" class=\"dataframe\">\n",
       "  <thead>\n",
       "    <tr style=\"text-align: right;\">\n",
       "      <th></th>\n",
       "      <th>sirna</th>\n",
       "    </tr>\n",
       "    <tr>\n",
       "      <th>id_code</th>\n",
       "      <th></th>\n",
       "    </tr>\n",
       "  </thead>\n",
       "  <tbody>\n",
       "    <tr>\n",
       "      <th>RPE-08_1_B03</th>\n",
       "      <td>629</td>\n",
       "    </tr>\n",
       "    <tr>\n",
       "      <th>RPE-08_1_B04</th>\n",
       "      <td>464</td>\n",
       "    </tr>\n",
       "    <tr>\n",
       "      <th>RPE-08_1_B05</th>\n",
       "      <td>4</td>\n",
       "    </tr>\n",
       "    <tr>\n",
       "      <th>RPE-08_1_B06</th>\n",
       "      <td>648</td>\n",
       "    </tr>\n",
       "    <tr>\n",
       "      <th>RPE-08_1_B07</th>\n",
       "      <td>940</td>\n",
       "    </tr>\n",
       "  </tbody>\n",
       "</table>\n",
       "</div>"
      ],
      "text/plain": [
       "              sirna\n",
       "id_code            \n",
       "RPE-08_1_B03    629\n",
       "RPE-08_1_B04    464\n",
       "RPE-08_1_B05      4\n",
       "RPE-08_1_B06    648\n",
       "RPE-08_1_B07    940"
      ]
     },
     "execution_count": 13,
     "metadata": {},
     "output_type": "execute_result"
    }
   ],
   "source": [
    "df_pg2.head()"
   ]
  },
  {
   "cell_type": "code",
   "execution_count": 15,
   "metadata": {
    "ExecuteTime": {
     "end_time": "2019-08-27T16:25:11.751452Z",
     "start_time": "2019-08-27T16:25:11.744743Z"
    }
   },
   "outputs": [
    {
     "data": {
      "text/html": [
       "<div>\n",
       "<style scoped>\n",
       "    .dataframe tbody tr th:only-of-type {\n",
       "        vertical-align: middle;\n",
       "    }\n",
       "\n",
       "    .dataframe tbody tr th {\n",
       "        vertical-align: top;\n",
       "    }\n",
       "\n",
       "    .dataframe thead th {\n",
       "        text-align: right;\n",
       "    }\n",
       "</style>\n",
       "<table border=\"1\" class=\"dataframe\">\n",
       "  <thead>\n",
       "    <tr style=\"text-align: right;\">\n",
       "      <th></th>\n",
       "      <th>sirna</th>\n",
       "    </tr>\n",
       "    <tr>\n",
       "      <th>id_code</th>\n",
       "      <th></th>\n",
       "    </tr>\n",
       "  </thead>\n",
       "  <tbody>\n",
       "    <tr>\n",
       "      <th>U2OS-04_1_B03</th>\n",
       "      <td>735</td>\n",
       "    </tr>\n",
       "    <tr>\n",
       "      <th>U2OS-04_1_B04</th>\n",
       "      <td>228</td>\n",
       "    </tr>\n",
       "    <tr>\n",
       "      <th>U2OS-04_1_B05</th>\n",
       "      <td>175</td>\n",
       "    </tr>\n",
       "    <tr>\n",
       "      <th>U2OS-04_1_B06</th>\n",
       "      <td>781</td>\n",
       "    </tr>\n",
       "    <tr>\n",
       "      <th>U2OS-04_1_B07</th>\n",
       "      <td>766</td>\n",
       "    </tr>\n",
       "  </tbody>\n",
       "</table>\n",
       "</div>"
      ],
      "text/plain": [
       "               sirna\n",
       "id_code             \n",
       "U2OS-04_1_B03    735\n",
       "U2OS-04_1_B04    228\n",
       "U2OS-04_1_B05    175\n",
       "U2OS-04_1_B06    781\n",
       "U2OS-04_1_B07    766"
      ]
     },
     "execution_count": 15,
     "metadata": {},
     "output_type": "execute_result"
    }
   ],
   "source": [
    "df_pg3.head()"
   ]
  },
  {
   "cell_type": "code",
   "execution_count": 17,
   "metadata": {
    "ExecuteTime": {
     "end_time": "2019-08-27T16:25:15.676927Z",
     "start_time": "2019-08-27T16:25:15.672472Z"
    }
   },
   "outputs": [],
   "source": [
    "df_new_sub = df_orig_sub.copy()"
   ]
  },
  {
   "cell_type": "code",
   "execution_count": 18,
   "metadata": {
    "ExecuteTime": {
     "end_time": "2019-08-27T16:25:15.926729Z",
     "start_time": "2019-08-27T16:25:15.918769Z"
    }
   },
   "outputs": [],
   "source": [
    "def update_sub(df_new_sub, df_ct):\n",
    "    for i, v in df_ct.iterrows():\n",
    "        #print(i)\n",
    "        #print(v.values)\n",
    "        #print(v.item())\n",
    "        df_new_sub.loc[i, 'sirna'] = v.values\n",
    "    return df_new_sub"
   ]
  },
  {
   "cell_type": "code",
   "execution_count": 19,
   "metadata": {
    "ExecuteTime": {
     "end_time": "2019-08-27T16:25:17.599413Z",
     "start_time": "2019-08-27T16:25:16.670093Z"
    }
   },
   "outputs": [],
   "source": [
    "df_new_sub = update_sub(df_new_sub, df_HEPG2)"
   ]
  },
  {
   "cell_type": "code",
   "execution_count": 20,
   "metadata": {
    "ExecuteTime": {
     "end_time": "2019-08-27T16:25:17.602210Z",
     "start_time": "2019-08-27T16:25:17.600567Z"
    }
   },
   "outputs": [],
   "source": [
    "#df_new_sub.loc['HEPG2-08_1_B07', 'sirna']"
   ]
  },
  {
   "cell_type": "code",
   "execution_count": 21,
   "metadata": {
    "ExecuteTime": {
     "end_time": "2019-08-27T16:25:19.479044Z",
     "start_time": "2019-08-27T16:25:17.603511Z"
    }
   },
   "outputs": [],
   "source": [
    "df_new_sub = update_sub(df_new_sub, df_HUVEC)"
   ]
  },
  {
   "cell_type": "code",
   "execution_count": 22,
   "metadata": {
    "ExecuteTime": {
     "end_time": "2019-08-27T16:25:20.440624Z",
     "start_time": "2019-08-27T16:25:19.480301Z"
    }
   },
   "outputs": [],
   "source": [
    "df_new_sub = update_sub(df_new_sub, df_RPE)"
   ]
  },
  {
   "cell_type": "code",
   "execution_count": 23,
   "metadata": {
    "ExecuteTime": {
     "end_time": "2019-08-27T16:25:28.506558Z",
     "start_time": "2019-08-27T16:25:28.031816Z"
    }
   },
   "outputs": [],
   "source": [
    "df_new_sub = update_sub(df_new_sub, df_U2OS)"
   ]
  },
  {
   "cell_type": "code",
   "execution_count": 24,
   "metadata": {
    "ExecuteTime": {
     "end_time": "2019-08-27T16:25:29.083690Z",
     "start_time": "2019-08-27T16:25:29.069880Z"
    }
   },
   "outputs": [
    {
     "data": {
      "text/html": [
       "<div>\n",
       "<style scoped>\n",
       "    .dataframe tbody tr th:only-of-type {\n",
       "        vertical-align: middle;\n",
       "    }\n",
       "\n",
       "    .dataframe tbody tr th {\n",
       "        vertical-align: top;\n",
       "    }\n",
       "\n",
       "    .dataframe thead th {\n",
       "        text-align: right;\n",
       "    }\n",
       "</style>\n",
       "<table border=\"1\" class=\"dataframe\">\n",
       "  <thead>\n",
       "    <tr style=\"text-align: right;\">\n",
       "      <th></th>\n",
       "      <th>sirna</th>\n",
       "    </tr>\n",
       "    <tr>\n",
       "      <th>id_code</th>\n",
       "      <th></th>\n",
       "    </tr>\n",
       "  </thead>\n",
       "  <tbody>\n",
       "    <tr>\n",
       "      <th>HEPG2-08_1_B03</th>\n",
       "      <td>855</td>\n",
       "    </tr>\n",
       "    <tr>\n",
       "      <th>HEPG2-08_1_B04</th>\n",
       "      <td>292</td>\n",
       "    </tr>\n",
       "    <tr>\n",
       "      <th>HEPG2-08_1_B05</th>\n",
       "      <td>836</td>\n",
       "    </tr>\n",
       "    <tr>\n",
       "      <th>HEPG2-08_1_B06</th>\n",
       "      <td>249</td>\n",
       "    </tr>\n",
       "    <tr>\n",
       "      <th>HEPG2-08_1_B07</th>\n",
       "      <td>200</td>\n",
       "    </tr>\n",
       "  </tbody>\n",
       "</table>\n",
       "</div>"
      ],
      "text/plain": [
       "                sirna\n",
       "id_code              \n",
       "HEPG2-08_1_B03    855\n",
       "HEPG2-08_1_B04    292\n",
       "HEPG2-08_1_B05    836\n",
       "HEPG2-08_1_B06    249\n",
       "HEPG2-08_1_B07    200"
      ]
     },
     "execution_count": 24,
     "metadata": {},
     "output_type": "execute_result"
    }
   ],
   "source": [
    "df_new_sub.head()"
   ]
  },
  {
   "cell_type": "code",
   "execution_count": 25,
   "metadata": {
    "ExecuteTime": {
     "end_time": "2019-08-27T16:25:29.598656Z",
     "start_time": "2019-08-27T16:25:29.592095Z"
    }
   },
   "outputs": [
    {
     "data": {
      "text/html": [
       "<div>\n",
       "<style scoped>\n",
       "    .dataframe tbody tr th:only-of-type {\n",
       "        vertical-align: middle;\n",
       "    }\n",
       "\n",
       "    .dataframe tbody tr th {\n",
       "        vertical-align: top;\n",
       "    }\n",
       "\n",
       "    .dataframe thead th {\n",
       "        text-align: right;\n",
       "    }\n",
       "</style>\n",
       "<table border=\"1\" class=\"dataframe\">\n",
       "  <thead>\n",
       "    <tr style=\"text-align: right;\">\n",
       "      <th></th>\n",
       "      <th>sirna</th>\n",
       "    </tr>\n",
       "    <tr>\n",
       "      <th>id_code</th>\n",
       "      <th></th>\n",
       "    </tr>\n",
       "  </thead>\n",
       "  <tbody>\n",
       "    <tr>\n",
       "      <th>HEPG2-08_1_B03</th>\n",
       "      <td>855</td>\n",
       "    </tr>\n",
       "    <tr>\n",
       "      <th>HEPG2-08_1_B04</th>\n",
       "      <td>773</td>\n",
       "    </tr>\n",
       "    <tr>\n",
       "      <th>HEPG2-08_1_B05</th>\n",
       "      <td>451</td>\n",
       "    </tr>\n",
       "    <tr>\n",
       "      <th>HEPG2-08_1_B06</th>\n",
       "      <td>200</td>\n",
       "    </tr>\n",
       "    <tr>\n",
       "      <th>HEPG2-08_1_B07</th>\n",
       "      <td>1061</td>\n",
       "    </tr>\n",
       "  </tbody>\n",
       "</table>\n",
       "</div>"
      ],
      "text/plain": [
       "                sirna\n",
       "id_code              \n",
       "HEPG2-08_1_B03    855\n",
       "HEPG2-08_1_B04    773\n",
       "HEPG2-08_1_B05    451\n",
       "HEPG2-08_1_B06    200\n",
       "HEPG2-08_1_B07   1061"
      ]
     },
     "execution_count": 25,
     "metadata": {},
     "output_type": "execute_result"
    }
   ],
   "source": [
    "df_orig_sub.head()"
   ]
  },
  {
   "cell_type": "code",
   "execution_count": 26,
   "metadata": {
    "ExecuteTime": {
     "end_time": "2019-08-27T16:25:30.235499Z",
     "start_time": "2019-08-27T16:25:30.228533Z"
    }
   },
   "outputs": [
    {
     "data": {
      "text/html": [
       "<div>\n",
       "<style scoped>\n",
       "    .dataframe tbody tr th:only-of-type {\n",
       "        vertical-align: middle;\n",
       "    }\n",
       "\n",
       "    .dataframe tbody tr th {\n",
       "        vertical-align: top;\n",
       "    }\n",
       "\n",
       "    .dataframe thead th {\n",
       "        text-align: right;\n",
       "    }\n",
       "</style>\n",
       "<table border=\"1\" class=\"dataframe\">\n",
       "  <thead>\n",
       "    <tr style=\"text-align: right;\">\n",
       "      <th></th>\n",
       "      <th>sirna</th>\n",
       "    </tr>\n",
       "    <tr>\n",
       "      <th>id_code</th>\n",
       "      <th></th>\n",
       "    </tr>\n",
       "  </thead>\n",
       "  <tbody>\n",
       "    <tr>\n",
       "      <th>U2OS-05_4_O19</th>\n",
       "      <td>283</td>\n",
       "    </tr>\n",
       "    <tr>\n",
       "      <th>U2OS-05_4_O20</th>\n",
       "      <td>926</td>\n",
       "    </tr>\n",
       "    <tr>\n",
       "      <th>U2OS-05_4_O21</th>\n",
       "      <td>926</td>\n",
       "    </tr>\n",
       "    <tr>\n",
       "      <th>U2OS-05_4_O22</th>\n",
       "      <td>490</td>\n",
       "    </tr>\n",
       "    <tr>\n",
       "      <th>U2OS-05_4_O23</th>\n",
       "      <td>1086</td>\n",
       "    </tr>\n",
       "  </tbody>\n",
       "</table>\n",
       "</div>"
      ],
      "text/plain": [
       "               sirna\n",
       "id_code             \n",
       "U2OS-05_4_O19    283\n",
       "U2OS-05_4_O20    926\n",
       "U2OS-05_4_O21    926\n",
       "U2OS-05_4_O22    490\n",
       "U2OS-05_4_O23   1086"
      ]
     },
     "execution_count": 26,
     "metadata": {},
     "output_type": "execute_result"
    }
   ],
   "source": [
    "df_orig_sub.tail()"
   ]
  },
  {
   "cell_type": "code",
   "execution_count": 27,
   "metadata": {
    "ExecuteTime": {
     "end_time": "2019-08-27T16:25:30.820796Z",
     "start_time": "2019-08-27T16:25:30.807348Z"
    }
   },
   "outputs": [
    {
     "data": {
      "text/plain": [
       "0.6408001206211992"
      ]
     },
     "execution_count": 27,
     "metadata": {},
     "output_type": "execute_result"
    }
   ],
   "source": [
    "# check how man sirnas got really updated\n",
    "(df_orig_sub == df_new_sub).mean().item()"
   ]
  },
  {
   "cell_type": "code",
   "execution_count": 28,
   "metadata": {
    "ExecuteTime": {
     "end_time": "2019-08-27T16:25:31.686332Z",
     "start_time": "2019-08-27T16:25:31.679917Z"
    }
   },
   "outputs": [
    {
     "data": {
      "text/plain": [
       "0.3591998793788008"
      ]
     },
     "execution_count": 28,
     "metadata": {},
     "output_type": "execute_result"
    }
   ],
   "source": [
    "(df_orig_sub != df_new_sub).mean().item()"
   ]
  },
  {
   "cell_type": "code",
   "execution_count": 29,
   "metadata": {
    "ExecuteTime": {
     "end_time": "2019-08-27T16:25:32.940296Z",
     "start_time": "2019-08-27T16:25:32.934235Z"
    }
   },
   "outputs": [
    {
     "data": {
      "text/plain": [
       "0"
      ]
     },
     "execution_count": 29,
     "metadata": {},
     "output_type": "execute_result"
    }
   ],
   "source": [
    "df_new_sub.isna().sum().item()"
   ]
  },
  {
   "cell_type": "code",
   "execution_count": 30,
   "metadata": {
    "ExecuteTime": {
     "end_time": "2019-08-27T16:25:33.443787Z",
     "start_time": "2019-08-27T16:25:33.438608Z"
    }
   },
   "outputs": [],
   "source": [
    "#df_new_sub.loc[df_HEPG2.index]"
   ]
  },
  {
   "cell_type": "code",
   "execution_count": 31,
   "metadata": {
    "ExecuteTime": {
     "end_time": "2019-08-27T16:25:33.758490Z",
     "start_time": "2019-08-27T16:25:33.753561Z"
    }
   },
   "outputs": [],
   "source": [
    "#df_orig_sub != df_new_sub"
   ]
  },
  {
   "cell_type": "code",
   "execution_count": 32,
   "metadata": {
    "ExecuteTime": {
     "end_time": "2019-08-27T16:25:34.021726Z",
     "start_time": "2019-08-27T16:25:34.016762Z"
    }
   },
   "outputs": [],
   "source": [
    "#df_new_sub[df_orig_sub != df_new_sub]"
   ]
  },
  {
   "cell_type": "code",
   "execution_count": 33,
   "metadata": {
    "ExecuteTime": {
     "end_time": "2019-08-27T16:25:34.907957Z",
     "start_time": "2019-08-27T16:25:34.903567Z"
    }
   },
   "outputs": [],
   "source": [
    "assert df_orig_sub.shape == df_new_sub.shape"
   ]
  },
  {
   "cell_type": "code",
   "execution_count": 35,
   "metadata": {
    "ExecuteTime": {
     "end_time": "2019-08-27T16:26:08.123969Z",
     "start_time": "2019-08-27T16:26:08.119917Z"
    }
   },
   "outputs": [],
   "source": [
    "# 'sub/adacos_efficientnet_b3_ct_pg_exp_Pre060e050pg0e100_190901_3xTTA-cossim.csv.gz'\n",
    "model = 'metriclearn_fficientnet_b3_ct_pg_exp_Pre060e050pg0123e100_190901_3xTTA-cossim'"
   ]
  },
  {
   "cell_type": "code",
   "execution_count": 36,
   "metadata": {
    "ExecuteTime": {
     "end_time": "2019-08-27T16:26:09.208847Z",
     "start_time": "2019-08-27T16:26:09.134112Z"
    }
   },
   "outputs": [],
   "source": [
    "df_new_sub.to_csv('sub/'+model+'.csv.gz', compression='gzip')"
   ]
  },
  {
   "cell_type": "code",
   "execution_count": 37,
   "metadata": {
    "ExecuteTime": {
     "end_time": "2019-08-27T16:26:15.401578Z",
     "start_time": "2019-08-27T16:26:09.710268Z"
    }
   },
   "outputs": [
    {
     "name": "stdout",
     "output_type": "stream",
     "text": [
      "100%|██████████████████████████████████████| 83.5k/83.5k [00:03<00:00, 22.0kB/s]\n",
      "Successfully submitted to Recursion Cellular Image Classification"
     ]
    }
   ],
   "source": [
    "!kaggle competitions submit -c recursion-cellular-image-classification -f sub/{model}.csv.gz -m \"{model}\"\n"
   ]
  },
  {
   "cell_type": "code",
   "execution_count": null,
   "metadata": {},
   "outputs": [],
   "source": []
  },
  {
   "cell_type": "code",
   "execution_count": null,
   "metadata": {},
   "outputs": [],
   "source": []
  },
  {
   "cell_type": "code",
   "execution_count": null,
   "metadata": {},
   "outputs": [],
   "source": []
  }
 ],
 "metadata": {
  "kernelspec": {
   "display_name": "fastai",
   "language": "python",
   "name": "fastai"
  },
  "language_info": {
   "codemirror_mode": {
    "name": "ipython",
    "version": 3
   },
   "file_extension": ".py",
   "mimetype": "text/x-python",
   "name": "python",
   "nbconvert_exporter": "python",
   "pygments_lexer": "ipython3",
   "version": "3.6.8"
  },
  "toc": {
   "base_numbering": 1,
   "nav_menu": {},
   "number_sections": true,
   "sideBar": true,
   "skip_h1_title": false,
   "title_cell": "Table of Contents",
   "title_sidebar": "Contents",
   "toc_cell": false,
   "toc_position": {},
   "toc_section_display": true,
   "toc_window_display": false
  }
 },
 "nbformat": 4,
 "nbformat_minor": 2
}
